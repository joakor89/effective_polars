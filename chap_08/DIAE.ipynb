{
 "cells": [
  {
   "cell_type": "markdown",
   "id": "4a067c9b-87dc-4234-a521-cd5ae07e09a9",
   "metadata": {},
   "source": [
    "# Data Import & Export\n",
    "\n",
    "### Loading Libraries"
   ]
  },
  {
   "cell_type": "code",
   "execution_count": 1,
   "id": "90870fba-aa29-4d3a-b75c-259b61762b32",
   "metadata": {},
   "outputs": [],
   "source": [
    "# ZipFiles & IO\n",
    "import io\n",
    "import os\n",
    "import pprint\n",
    "import zipfile\n",
    "\n",
    "#URL\n",
    "import urllib.request\n",
    "\n",
    "# Time-Zone\n",
    "import pytz\n",
    "\n",
    "# Numerical Computing\n",
    "import numpy as np\n",
    "\n",
    "# Data Manipulation\n",
    "import pandas as pd\n",
    "import polars as pl\n",
    "import polars.selectors as cs\n",
    "\n",
    "# Data Visualization\n",
    "import hvplot\n",
    "import altair as alt\n",
    "import seaborn as sns\n",
    "import holoviews as hv\n",
    "import matplotlib.pyplot as plt\n",
    "\n",
    "# XGBoost\n",
    "import xgboost as xgb\n",
    "\n",
    "# Scikit-Learn\n",
    "import sklearn\n",
    "from sklearn import decomposition\n",
    "from sklearn import preprocessing, decomposition\n",
    "from sklearn.model_selection import train_test_split\n",
    "\n",
    "# Java Script Object Notation\n",
    "import json\n",
    "\n",
    "# Date & Time\n",
    "from datetime import datetime\n",
    "from datetime import timedelta"
   ]
  },
  {
   "cell_type": "code",
   "execution_count": 2,
   "id": "fb1b0b09-28b4-4614-b573-d2a68571df8c",
   "metadata": {},
   "outputs": [
    {
     "data": {
      "text/html": [
       "<script type=\"esms-options\">{\"shimMode\": true}</script><style>*[data-root-id],\n",
       "*[data-root-id] > * {\n",
       "  box-sizing: border-box;\n",
       "  font-family: var(--jp-ui-font-family);\n",
       "  font-size: var(--jp-ui-font-size1);\n",
       "  color: var(--vscode-editor-foreground, var(--jp-ui-font-color1));\n",
       "}\n",
       "\n",
       "/* Override VSCode background color */\n",
       ".cell-output-ipywidget-background:has(\n",
       "    > .cell-output-ipywidget-background > .lm-Widget > *[data-root-id]\n",
       "  ),\n",
       ".cell-output-ipywidget-background:has(> .lm-Widget > *[data-root-id]) {\n",
       "  background-color: transparent !important;\n",
       "}\n",
       "</style>"
      ]
     },
     "metadata": {},
     "output_type": "display_data"
    },
    {
     "data": {
      "application/javascript": [
       "(function(root) {\n",
       "  function now() {\n",
       "    return new Date();\n",
       "  }\n",
       "\n",
       "  const force = true;\n",
       "  const py_version = '3.6.1'.replace('rc', '-rc.').replace('.dev', '-dev.');\n",
       "  const reloading = false;\n",
       "  const Bokeh = root.Bokeh;\n",
       "\n",
       "  // Set a timeout for this load but only if we are not already initializing\n",
       "  if (typeof (root._bokeh_timeout) === \"undefined\" || (force || !root._bokeh_is_initializing)) {\n",
       "    root._bokeh_timeout = Date.now() + 5000;\n",
       "    root._bokeh_failed_load = false;\n",
       "  }\n",
       "\n",
       "  function run_callbacks() {\n",
       "    try {\n",
       "      root._bokeh_onload_callbacks.forEach(function(callback) {\n",
       "        if (callback != null)\n",
       "          callback();\n",
       "      });\n",
       "    } finally {\n",
       "      delete root._bokeh_onload_callbacks;\n",
       "    }\n",
       "    console.debug(\"Bokeh: all callbacks have finished\");\n",
       "  }\n",
       "\n",
       "  function load_libs(css_urls, js_urls, js_modules, js_exports, callback) {\n",
       "    if (css_urls == null) css_urls = [];\n",
       "    if (js_urls == null) js_urls = [];\n",
       "    if (js_modules == null) js_modules = [];\n",
       "    if (js_exports == null) js_exports = {};\n",
       "\n",
       "    root._bokeh_onload_callbacks.push(callback);\n",
       "\n",
       "    if (root._bokeh_is_loading > 0) {\n",
       "      // Don't load bokeh if it is still initializing\n",
       "      console.debug(\"Bokeh: BokehJS is being loaded, scheduling callback at\", now());\n",
       "      return null;\n",
       "    } else if (js_urls.length === 0 && js_modules.length === 0 && Object.keys(js_exports).length === 0) {\n",
       "      // There is nothing to load\n",
       "      run_callbacks();\n",
       "      return null;\n",
       "    }\n",
       "\n",
       "    function on_load() {\n",
       "      root._bokeh_is_loading--;\n",
       "      if (root._bokeh_is_loading === 0) {\n",
       "        console.debug(\"Bokeh: all BokehJS libraries/stylesheets loaded\");\n",
       "        run_callbacks()\n",
       "      }\n",
       "    }\n",
       "    window._bokeh_on_load = on_load\n",
       "\n",
       "    function on_error(e) {\n",
       "      const src_el = e.srcElement\n",
       "      console.error(\"failed to load \" + (src_el.href || src_el.src));\n",
       "    }\n",
       "\n",
       "    const skip = [];\n",
       "    if (window.requirejs) {\n",
       "      window.requirejs.config({'packages': {}, 'paths': {}, 'shim': {}});\n",
       "      root._bokeh_is_loading = css_urls.length + 0;\n",
       "    } else {\n",
       "      root._bokeh_is_loading = css_urls.length + js_urls.length + js_modules.length + Object.keys(js_exports).length;\n",
       "    }\n",
       "\n",
       "    const existing_stylesheets = []\n",
       "    const links = document.getElementsByTagName('link')\n",
       "    for (let i = 0; i < links.length; i++) {\n",
       "      const link = links[i]\n",
       "      if (link.href != null) {\n",
       "        existing_stylesheets.push(link.href)\n",
       "      }\n",
       "    }\n",
       "    for (let i = 0; i < css_urls.length; i++) {\n",
       "      const url = css_urls[i];\n",
       "      const escaped = encodeURI(url)\n",
       "      if (existing_stylesheets.indexOf(escaped) !== -1) {\n",
       "        on_load()\n",
       "        continue;\n",
       "      }\n",
       "      const element = document.createElement(\"link\");\n",
       "      element.onload = on_load;\n",
       "      element.onerror = on_error;\n",
       "      element.rel = \"stylesheet\";\n",
       "      element.type = \"text/css\";\n",
       "      element.href = url;\n",
       "      console.debug(\"Bokeh: injecting link tag for BokehJS stylesheet: \", url);\n",
       "      document.body.appendChild(element);\n",
       "    }    var existing_scripts = []\n",
       "    const scripts = document.getElementsByTagName('script')\n",
       "    for (let i = 0; i < scripts.length; i++) {\n",
       "      var script = scripts[i]\n",
       "      if (script.src != null) {\n",
       "        existing_scripts.push(script.src)\n",
       "      }\n",
       "    }\n",
       "    for (let i = 0; i < js_urls.length; i++) {\n",
       "      const url = js_urls[i];\n",
       "      const escaped = encodeURI(url)\n",
       "      if (skip.indexOf(escaped) !== -1 || existing_scripts.indexOf(escaped) !== -1) {\n",
       "        if (!window.requirejs) {\n",
       "          on_load();\n",
       "        }\n",
       "        continue;\n",
       "      }\n",
       "      const element = document.createElement('script');\n",
       "      element.onload = on_load;\n",
       "      element.onerror = on_error;\n",
       "      element.async = false;\n",
       "      element.src = url;\n",
       "      console.debug(\"Bokeh: injecting script tag for BokehJS library: \", url);\n",
       "      document.head.appendChild(element);\n",
       "    }\n",
       "    for (let i = 0; i < js_modules.length; i++) {\n",
       "      const url = js_modules[i];\n",
       "      const escaped = encodeURI(url)\n",
       "      if (skip.indexOf(escaped) !== -1 || existing_scripts.indexOf(escaped) !== -1) {\n",
       "        if (!window.requirejs) {\n",
       "          on_load();\n",
       "        }\n",
       "        continue;\n",
       "      }\n",
       "      var element = document.createElement('script');\n",
       "      element.onload = on_load;\n",
       "      element.onerror = on_error;\n",
       "      element.async = false;\n",
       "      element.src = url;\n",
       "      element.type = \"module\";\n",
       "      console.debug(\"Bokeh: injecting script tag for BokehJS library: \", url);\n",
       "      document.head.appendChild(element);\n",
       "    }\n",
       "    for (const name in js_exports) {\n",
       "      const url = js_exports[name];\n",
       "      const escaped = encodeURI(url)\n",
       "      if (skip.indexOf(escaped) >= 0 || root[name] != null) {\n",
       "        if (!window.requirejs) {\n",
       "          on_load();\n",
       "        }\n",
       "        continue;\n",
       "      }\n",
       "      var element = document.createElement('script');\n",
       "      element.onerror = on_error;\n",
       "      element.async = false;\n",
       "      element.type = \"module\";\n",
       "      console.debug(\"Bokeh: injecting script tag for BokehJS library: \", url);\n",
       "      element.textContent = `\n",
       "      import ${name} from \"${url}\"\n",
       "      window.${name} = ${name}\n",
       "      window._bokeh_on_load()\n",
       "      `\n",
       "      document.head.appendChild(element);\n",
       "    }\n",
       "    if (!js_urls.length && !js_modules.length) {\n",
       "      on_load()\n",
       "    }\n",
       "  };\n",
       "\n",
       "  function inject_raw_css(css) {\n",
       "    const element = document.createElement(\"style\");\n",
       "    element.appendChild(document.createTextNode(css));\n",
       "    document.body.appendChild(element);\n",
       "  }\n",
       "\n",
       "  const js_urls = [\"https://cdn.holoviz.org/panel/1.5.4/dist/bundled/reactiveesm/es-module-shims@^1.10.0/dist/es-module-shims.min.js\", \"https://cdn.bokeh.org/bokeh/release/bokeh-3.6.1.min.js\", \"https://cdn.bokeh.org/bokeh/release/bokeh-gl-3.6.1.min.js\", \"https://cdn.bokeh.org/bokeh/release/bokeh-widgets-3.6.1.min.js\", \"https://cdn.bokeh.org/bokeh/release/bokeh-tables-3.6.1.min.js\", \"https://cdn.holoviz.org/panel/1.5.4/dist/panel.min.js\"];\n",
       "  const js_modules = [];\n",
       "  const js_exports = {};\n",
       "  const css_urls = [];\n",
       "  const inline_js = [    function(Bokeh) {\n",
       "      Bokeh.set_log_level(\"info\");\n",
       "    },\n",
       "function(Bokeh) {} // ensure no trailing comma for IE\n",
       "  ];\n",
       "\n",
       "  function run_inline_js() {\n",
       "    if ((root.Bokeh !== undefined) || (force === true)) {\n",
       "      for (let i = 0; i < inline_js.length; i++) {\n",
       "        try {\n",
       "          inline_js[i].call(root, root.Bokeh);\n",
       "        } catch(e) {\n",
       "          if (!reloading) {\n",
       "            throw e;\n",
       "          }\n",
       "        }\n",
       "      }\n",
       "      // Cache old bokeh versions\n",
       "      if (Bokeh != undefined && !reloading) {\n",
       "        var NewBokeh = root.Bokeh;\n",
       "        if (Bokeh.versions === undefined) {\n",
       "          Bokeh.versions = new Map();\n",
       "        }\n",
       "        if (NewBokeh.version !== Bokeh.version) {\n",
       "          Bokeh.versions.set(NewBokeh.version, NewBokeh)\n",
       "        }\n",
       "        root.Bokeh = Bokeh;\n",
       "      }\n",
       "    } else if (Date.now() < root._bokeh_timeout) {\n",
       "      setTimeout(run_inline_js, 100);\n",
       "    } else if (!root._bokeh_failed_load) {\n",
       "      console.log(\"Bokeh: BokehJS failed to load within specified timeout.\");\n",
       "      root._bokeh_failed_load = true;\n",
       "    }\n",
       "    root._bokeh_is_initializing = false\n",
       "  }\n",
       "\n",
       "  function load_or_wait() {\n",
       "    // Implement a backoff loop that tries to ensure we do not load multiple\n",
       "    // versions of Bokeh and its dependencies at the same time.\n",
       "    // In recent versions we use the root._bokeh_is_initializing flag\n",
       "    // to determine whether there is an ongoing attempt to initialize\n",
       "    // bokeh, however for backward compatibility we also try to ensure\n",
       "    // that we do not start loading a newer (Panel>=1.0 and Bokeh>3) version\n",
       "    // before older versions are fully initialized.\n",
       "    if (root._bokeh_is_initializing && Date.now() > root._bokeh_timeout) {\n",
       "      // If the timeout and bokeh was not successfully loaded we reset\n",
       "      // everything and try loading again\n",
       "      root._bokeh_timeout = Date.now() + 5000;\n",
       "      root._bokeh_is_initializing = false;\n",
       "      root._bokeh_onload_callbacks = undefined;\n",
       "      root._bokeh_is_loading = 0\n",
       "      console.log(\"Bokeh: BokehJS was loaded multiple times but one version failed to initialize.\");\n",
       "      load_or_wait();\n",
       "    } else if (root._bokeh_is_initializing || (typeof root._bokeh_is_initializing === \"undefined\" && root._bokeh_onload_callbacks !== undefined)) {\n",
       "      setTimeout(load_or_wait, 100);\n",
       "    } else {\n",
       "      root._bokeh_is_initializing = true\n",
       "      root._bokeh_onload_callbacks = []\n",
       "      const bokeh_loaded = root.Bokeh != null && (root.Bokeh.version === py_version || (root.Bokeh.versions !== undefined && root.Bokeh.versions.has(py_version)));\n",
       "      if (!reloading && !bokeh_loaded) {\n",
       "        if (root.Bokeh) {\n",
       "          root.Bokeh = undefined;\n",
       "        }\n",
       "        console.debug(\"Bokeh: BokehJS not loaded, scheduling load and callback at\", now());\n",
       "      }\n",
       "      load_libs(css_urls, js_urls, js_modules, js_exports, function() {\n",
       "        console.debug(\"Bokeh: BokehJS plotting callback run at\", now());\n",
       "        run_inline_js();\n",
       "      });\n",
       "    }\n",
       "  }\n",
       "  // Give older versions of the autoload script a head-start to ensure\n",
       "  // they initialize before we start loading newer version.\n",
       "  setTimeout(load_or_wait, 100)\n",
       "}(window));"
      ],
      "application/vnd.holoviews_load.v0+json": "(function(root) {\n  function now() {\n    return new Date();\n  }\n\n  const force = true;\n  const py_version = '3.6.1'.replace('rc', '-rc.').replace('.dev', '-dev.');\n  const reloading = false;\n  const Bokeh = root.Bokeh;\n\n  // Set a timeout for this load but only if we are not already initializing\n  if (typeof (root._bokeh_timeout) === \"undefined\" || (force || !root._bokeh_is_initializing)) {\n    root._bokeh_timeout = Date.now() + 5000;\n    root._bokeh_failed_load = false;\n  }\n\n  function run_callbacks() {\n    try {\n      root._bokeh_onload_callbacks.forEach(function(callback) {\n        if (callback != null)\n          callback();\n      });\n    } finally {\n      delete root._bokeh_onload_callbacks;\n    }\n    console.debug(\"Bokeh: all callbacks have finished\");\n  }\n\n  function load_libs(css_urls, js_urls, js_modules, js_exports, callback) {\n    if (css_urls == null) css_urls = [];\n    if (js_urls == null) js_urls = [];\n    if (js_modules == null) js_modules = [];\n    if (js_exports == null) js_exports = {};\n\n    root._bokeh_onload_callbacks.push(callback);\n\n    if (root._bokeh_is_loading > 0) {\n      // Don't load bokeh if it is still initializing\n      console.debug(\"Bokeh: BokehJS is being loaded, scheduling callback at\", now());\n      return null;\n    } else if (js_urls.length === 0 && js_modules.length === 0 && Object.keys(js_exports).length === 0) {\n      // There is nothing to load\n      run_callbacks();\n      return null;\n    }\n\n    function on_load() {\n      root._bokeh_is_loading--;\n      if (root._bokeh_is_loading === 0) {\n        console.debug(\"Bokeh: all BokehJS libraries/stylesheets loaded\");\n        run_callbacks()\n      }\n    }\n    window._bokeh_on_load = on_load\n\n    function on_error(e) {\n      const src_el = e.srcElement\n      console.error(\"failed to load \" + (src_el.href || src_el.src));\n    }\n\n    const skip = [];\n    if (window.requirejs) {\n      window.requirejs.config({'packages': {}, 'paths': {}, 'shim': {}});\n      root._bokeh_is_loading = css_urls.length + 0;\n    } else {\n      root._bokeh_is_loading = css_urls.length + js_urls.length + js_modules.length + Object.keys(js_exports).length;\n    }\n\n    const existing_stylesheets = []\n    const links = document.getElementsByTagName('link')\n    for (let i = 0; i < links.length; i++) {\n      const link = links[i]\n      if (link.href != null) {\n        existing_stylesheets.push(link.href)\n      }\n    }\n    for (let i = 0; i < css_urls.length; i++) {\n      const url = css_urls[i];\n      const escaped = encodeURI(url)\n      if (existing_stylesheets.indexOf(escaped) !== -1) {\n        on_load()\n        continue;\n      }\n      const element = document.createElement(\"link\");\n      element.onload = on_load;\n      element.onerror = on_error;\n      element.rel = \"stylesheet\";\n      element.type = \"text/css\";\n      element.href = url;\n      console.debug(\"Bokeh: injecting link tag for BokehJS stylesheet: \", url);\n      document.body.appendChild(element);\n    }    var existing_scripts = []\n    const scripts = document.getElementsByTagName('script')\n    for (let i = 0; i < scripts.length; i++) {\n      var script = scripts[i]\n      if (script.src != null) {\n        existing_scripts.push(script.src)\n      }\n    }\n    for (let i = 0; i < js_urls.length; i++) {\n      const url = js_urls[i];\n      const escaped = encodeURI(url)\n      if (skip.indexOf(escaped) !== -1 || existing_scripts.indexOf(escaped) !== -1) {\n        if (!window.requirejs) {\n          on_load();\n        }\n        continue;\n      }\n      const element = document.createElement('script');\n      element.onload = on_load;\n      element.onerror = on_error;\n      element.async = false;\n      element.src = url;\n      console.debug(\"Bokeh: injecting script tag for BokehJS library: \", url);\n      document.head.appendChild(element);\n    }\n    for (let i = 0; i < js_modules.length; i++) {\n      const url = js_modules[i];\n      const escaped = encodeURI(url)\n      if (skip.indexOf(escaped) !== -1 || existing_scripts.indexOf(escaped) !== -1) {\n        if (!window.requirejs) {\n          on_load();\n        }\n        continue;\n      }\n      var element = document.createElement('script');\n      element.onload = on_load;\n      element.onerror = on_error;\n      element.async = false;\n      element.src = url;\n      element.type = \"module\";\n      console.debug(\"Bokeh: injecting script tag for BokehJS library: \", url);\n      document.head.appendChild(element);\n    }\n    for (const name in js_exports) {\n      const url = js_exports[name];\n      const escaped = encodeURI(url)\n      if (skip.indexOf(escaped) >= 0 || root[name] != null) {\n        if (!window.requirejs) {\n          on_load();\n        }\n        continue;\n      }\n      var element = document.createElement('script');\n      element.onerror = on_error;\n      element.async = false;\n      element.type = \"module\";\n      console.debug(\"Bokeh: injecting script tag for BokehJS library: \", url);\n      element.textContent = `\n      import ${name} from \"${url}\"\n      window.${name} = ${name}\n      window._bokeh_on_load()\n      `\n      document.head.appendChild(element);\n    }\n    if (!js_urls.length && !js_modules.length) {\n      on_load()\n    }\n  };\n\n  function inject_raw_css(css) {\n    const element = document.createElement(\"style\");\n    element.appendChild(document.createTextNode(css));\n    document.body.appendChild(element);\n  }\n\n  const js_urls = [\"https://cdn.holoviz.org/panel/1.5.4/dist/bundled/reactiveesm/es-module-shims@^1.10.0/dist/es-module-shims.min.js\", \"https://cdn.bokeh.org/bokeh/release/bokeh-3.6.1.min.js\", \"https://cdn.bokeh.org/bokeh/release/bokeh-gl-3.6.1.min.js\", \"https://cdn.bokeh.org/bokeh/release/bokeh-widgets-3.6.1.min.js\", \"https://cdn.bokeh.org/bokeh/release/bokeh-tables-3.6.1.min.js\", \"https://cdn.holoviz.org/panel/1.5.4/dist/panel.min.js\"];\n  const js_modules = [];\n  const js_exports = {};\n  const css_urls = [];\n  const inline_js = [    function(Bokeh) {\n      Bokeh.set_log_level(\"info\");\n    },\nfunction(Bokeh) {} // ensure no trailing comma for IE\n  ];\n\n  function run_inline_js() {\n    if ((root.Bokeh !== undefined) || (force === true)) {\n      for (let i = 0; i < inline_js.length; i++) {\n        try {\n          inline_js[i].call(root, root.Bokeh);\n        } catch(e) {\n          if (!reloading) {\n            throw e;\n          }\n        }\n      }\n      // Cache old bokeh versions\n      if (Bokeh != undefined && !reloading) {\n        var NewBokeh = root.Bokeh;\n        if (Bokeh.versions === undefined) {\n          Bokeh.versions = new Map();\n        }\n        if (NewBokeh.version !== Bokeh.version) {\n          Bokeh.versions.set(NewBokeh.version, NewBokeh)\n        }\n        root.Bokeh = Bokeh;\n      }\n    } else if (Date.now() < root._bokeh_timeout) {\n      setTimeout(run_inline_js, 100);\n    } else if (!root._bokeh_failed_load) {\n      console.log(\"Bokeh: BokehJS failed to load within specified timeout.\");\n      root._bokeh_failed_load = true;\n    }\n    root._bokeh_is_initializing = false\n  }\n\n  function load_or_wait() {\n    // Implement a backoff loop that tries to ensure we do not load multiple\n    // versions of Bokeh and its dependencies at the same time.\n    // In recent versions we use the root._bokeh_is_initializing flag\n    // to determine whether there is an ongoing attempt to initialize\n    // bokeh, however for backward compatibility we also try to ensure\n    // that we do not start loading a newer (Panel>=1.0 and Bokeh>3) version\n    // before older versions are fully initialized.\n    if (root._bokeh_is_initializing && Date.now() > root._bokeh_timeout) {\n      // If the timeout and bokeh was not successfully loaded we reset\n      // everything and try loading again\n      root._bokeh_timeout = Date.now() + 5000;\n      root._bokeh_is_initializing = false;\n      root._bokeh_onload_callbacks = undefined;\n      root._bokeh_is_loading = 0\n      console.log(\"Bokeh: BokehJS was loaded multiple times but one version failed to initialize.\");\n      load_or_wait();\n    } else if (root._bokeh_is_initializing || (typeof root._bokeh_is_initializing === \"undefined\" && root._bokeh_onload_callbacks !== undefined)) {\n      setTimeout(load_or_wait, 100);\n    } else {\n      root._bokeh_is_initializing = true\n      root._bokeh_onload_callbacks = []\n      const bokeh_loaded = root.Bokeh != null && (root.Bokeh.version === py_version || (root.Bokeh.versions !== undefined && root.Bokeh.versions.has(py_version)));\n      if (!reloading && !bokeh_loaded) {\n        if (root.Bokeh) {\n          root.Bokeh = undefined;\n        }\n        console.debug(\"Bokeh: BokehJS not loaded, scheduling load and callback at\", now());\n      }\n      load_libs(css_urls, js_urls, js_modules, js_exports, function() {\n        console.debug(\"Bokeh: BokehJS plotting callback run at\", now());\n        run_inline_js();\n      });\n    }\n  }\n  // Give older versions of the autoload script a head-start to ensure\n  // they initialize before we start loading newer version.\n  setTimeout(load_or_wait, 100)\n}(window));"
     },
     "metadata": {},
     "output_type": "display_data"
    },
    {
     "data": {
      "application/javascript": [
       "\n",
       "if ((window.PyViz === undefined) || (window.PyViz instanceof HTMLElement)) {\n",
       "  window.PyViz = {comms: {}, comm_status:{}, kernels:{}, receivers: {}, plot_index: []}\n",
       "}\n",
       "\n",
       "\n",
       "    function JupyterCommManager() {\n",
       "    }\n",
       "\n",
       "    JupyterCommManager.prototype.register_target = function(plot_id, comm_id, msg_handler) {\n",
       "      if (window.comm_manager || ((window.Jupyter !== undefined) && (Jupyter.notebook.kernel != null))) {\n",
       "        var comm_manager = window.comm_manager || Jupyter.notebook.kernel.comm_manager;\n",
       "        comm_manager.register_target(comm_id, function(comm) {\n",
       "          comm.on_msg(msg_handler);\n",
       "        });\n",
       "      } else if ((plot_id in window.PyViz.kernels) && (window.PyViz.kernels[plot_id])) {\n",
       "        window.PyViz.kernels[plot_id].registerCommTarget(comm_id, function(comm) {\n",
       "          comm.onMsg = msg_handler;\n",
       "        });\n",
       "      } else if (typeof google != 'undefined' && google.colab.kernel != null) {\n",
       "        google.colab.kernel.comms.registerTarget(comm_id, (comm) => {\n",
       "          var messages = comm.messages[Symbol.asyncIterator]();\n",
       "          function processIteratorResult(result) {\n",
       "            var message = result.value;\n",
       "            console.log(message)\n",
       "            var content = {data: message.data, comm_id};\n",
       "            var buffers = []\n",
       "            for (var buffer of message.buffers || []) {\n",
       "              buffers.push(new DataView(buffer))\n",
       "            }\n",
       "            var metadata = message.metadata || {};\n",
       "            var msg = {content, buffers, metadata}\n",
       "            msg_handler(msg);\n",
       "            return messages.next().then(processIteratorResult);\n",
       "          }\n",
       "          return messages.next().then(processIteratorResult);\n",
       "        })\n",
       "      }\n",
       "    }\n",
       "\n",
       "    JupyterCommManager.prototype.get_client_comm = function(plot_id, comm_id, msg_handler) {\n",
       "      if (comm_id in window.PyViz.comms) {\n",
       "        return window.PyViz.comms[comm_id];\n",
       "      } else if (window.comm_manager || ((window.Jupyter !== undefined) && (Jupyter.notebook.kernel != null))) {\n",
       "        var comm_manager = window.comm_manager || Jupyter.notebook.kernel.comm_manager;\n",
       "        var comm = comm_manager.new_comm(comm_id, {}, {}, {}, comm_id);\n",
       "        if (msg_handler) {\n",
       "          comm.on_msg(msg_handler);\n",
       "        }\n",
       "      } else if ((plot_id in window.PyViz.kernels) && (window.PyViz.kernels[plot_id])) {\n",
       "        var comm = window.PyViz.kernels[plot_id].connectToComm(comm_id);\n",
       "        comm.open();\n",
       "        if (msg_handler) {\n",
       "          comm.onMsg = msg_handler;\n",
       "        }\n",
       "      } else if (typeof google != 'undefined' && google.colab.kernel != null) {\n",
       "        var comm_promise = google.colab.kernel.comms.open(comm_id)\n",
       "        comm_promise.then((comm) => {\n",
       "          window.PyViz.comms[comm_id] = comm;\n",
       "          if (msg_handler) {\n",
       "            var messages = comm.messages[Symbol.asyncIterator]();\n",
       "            function processIteratorResult(result) {\n",
       "              var message = result.value;\n",
       "              var content = {data: message.data};\n",
       "              var metadata = message.metadata || {comm_id};\n",
       "              var msg = {content, metadata}\n",
       "              msg_handler(msg);\n",
       "              return messages.next().then(processIteratorResult);\n",
       "            }\n",
       "            return messages.next().then(processIteratorResult);\n",
       "          }\n",
       "        }) \n",
       "        var sendClosure = (data, metadata, buffers, disposeOnDone) => {\n",
       "          return comm_promise.then((comm) => {\n",
       "            comm.send(data, metadata, buffers, disposeOnDone);\n",
       "          });\n",
       "        };\n",
       "        var comm = {\n",
       "          send: sendClosure\n",
       "        };\n",
       "      }\n",
       "      window.PyViz.comms[comm_id] = comm;\n",
       "      return comm;\n",
       "    }\n",
       "    window.PyViz.comm_manager = new JupyterCommManager();\n",
       "    \n",
       "\n",
       "\n",
       "var JS_MIME_TYPE = 'application/javascript';\n",
       "var HTML_MIME_TYPE = 'text/html';\n",
       "var EXEC_MIME_TYPE = 'application/vnd.holoviews_exec.v0+json';\n",
       "var CLASS_NAME = 'output';\n",
       "\n",
       "/**\n",
       " * Render data to the DOM node\n",
       " */\n",
       "function render(props, node) {\n",
       "  var div = document.createElement(\"div\");\n",
       "  var script = document.createElement(\"script\");\n",
       "  node.appendChild(div);\n",
       "  node.appendChild(script);\n",
       "}\n",
       "\n",
       "/**\n",
       " * Handle when a new output is added\n",
       " */\n",
       "function handle_add_output(event, handle) {\n",
       "  var output_area = handle.output_area;\n",
       "  var output = handle.output;\n",
       "  if ((output.data == undefined) || (!output.data.hasOwnProperty(EXEC_MIME_TYPE))) {\n",
       "    return\n",
       "  }\n",
       "  var id = output.metadata[EXEC_MIME_TYPE][\"id\"];\n",
       "  var toinsert = output_area.element.find(\".\" + CLASS_NAME.split(' ')[0]);\n",
       "  if (id !== undefined) {\n",
       "    var nchildren = toinsert.length;\n",
       "    var html_node = toinsert[nchildren-1].children[0];\n",
       "    html_node.innerHTML = output.data[HTML_MIME_TYPE];\n",
       "    var scripts = [];\n",
       "    var nodelist = html_node.querySelectorAll(\"script\");\n",
       "    for (var i in nodelist) {\n",
       "      if (nodelist.hasOwnProperty(i)) {\n",
       "        scripts.push(nodelist[i])\n",
       "      }\n",
       "    }\n",
       "\n",
       "    scripts.forEach( function (oldScript) {\n",
       "      var newScript = document.createElement(\"script\");\n",
       "      var attrs = [];\n",
       "      var nodemap = oldScript.attributes;\n",
       "      for (var j in nodemap) {\n",
       "        if (nodemap.hasOwnProperty(j)) {\n",
       "          attrs.push(nodemap[j])\n",
       "        }\n",
       "      }\n",
       "      attrs.forEach(function(attr) { newScript.setAttribute(attr.name, attr.value) });\n",
       "      newScript.appendChild(document.createTextNode(oldScript.innerHTML));\n",
       "      oldScript.parentNode.replaceChild(newScript, oldScript);\n",
       "    });\n",
       "    if (JS_MIME_TYPE in output.data) {\n",
       "      toinsert[nchildren-1].children[1].textContent = output.data[JS_MIME_TYPE];\n",
       "    }\n",
       "    output_area._hv_plot_id = id;\n",
       "    if ((window.Bokeh !== undefined) && (id in Bokeh.index)) {\n",
       "      window.PyViz.plot_index[id] = Bokeh.index[id];\n",
       "    } else {\n",
       "      window.PyViz.plot_index[id] = null;\n",
       "    }\n",
       "  } else if (output.metadata[EXEC_MIME_TYPE][\"server_id\"] !== undefined) {\n",
       "    var bk_div = document.createElement(\"div\");\n",
       "    bk_div.innerHTML = output.data[HTML_MIME_TYPE];\n",
       "    var script_attrs = bk_div.children[0].attributes;\n",
       "    for (var i = 0; i < script_attrs.length; i++) {\n",
       "      toinsert[toinsert.length - 1].childNodes[1].setAttribute(script_attrs[i].name, script_attrs[i].value);\n",
       "    }\n",
       "    // store reference to server id on output_area\n",
       "    output_area._bokeh_server_id = output.metadata[EXEC_MIME_TYPE][\"server_id\"];\n",
       "  }\n",
       "}\n",
       "\n",
       "/**\n",
       " * Handle when an output is cleared or removed\n",
       " */\n",
       "function handle_clear_output(event, handle) {\n",
       "  var id = handle.cell.output_area._hv_plot_id;\n",
       "  var server_id = handle.cell.output_area._bokeh_server_id;\n",
       "  if (((id === undefined) || !(id in PyViz.plot_index)) && (server_id !== undefined)) { return; }\n",
       "  var comm = window.PyViz.comm_manager.get_client_comm(\"hv-extension-comm\", \"hv-extension-comm\", function () {});\n",
       "  if (server_id !== null) {\n",
       "    comm.send({event_type: 'server_delete', 'id': server_id});\n",
       "    return;\n",
       "  } else if (comm !== null) {\n",
       "    comm.send({event_type: 'delete', 'id': id});\n",
       "  }\n",
       "  delete PyViz.plot_index[id];\n",
       "  if ((window.Bokeh !== undefined) & (id in window.Bokeh.index)) {\n",
       "    var doc = window.Bokeh.index[id].model.document\n",
       "    doc.clear();\n",
       "    const i = window.Bokeh.documents.indexOf(doc);\n",
       "    if (i > -1) {\n",
       "      window.Bokeh.documents.splice(i, 1);\n",
       "    }\n",
       "  }\n",
       "}\n",
       "\n",
       "/**\n",
       " * Handle kernel restart event\n",
       " */\n",
       "function handle_kernel_cleanup(event, handle) {\n",
       "  delete PyViz.comms[\"hv-extension-comm\"];\n",
       "  window.PyViz.plot_index = {}\n",
       "}\n",
       "\n",
       "/**\n",
       " * Handle update_display_data messages\n",
       " */\n",
       "function handle_update_output(event, handle) {\n",
       "  handle_clear_output(event, {cell: {output_area: handle.output_area}})\n",
       "  handle_add_output(event, handle)\n",
       "}\n",
       "\n",
       "function register_renderer(events, OutputArea) {\n",
       "  function append_mime(data, metadata, element) {\n",
       "    // create a DOM node to render to\n",
       "    var toinsert = this.create_output_subarea(\n",
       "    metadata,\n",
       "    CLASS_NAME,\n",
       "    EXEC_MIME_TYPE\n",
       "    );\n",
       "    this.keyboard_manager.register_events(toinsert);\n",
       "    // Render to node\n",
       "    var props = {data: data, metadata: metadata[EXEC_MIME_TYPE]};\n",
       "    render(props, toinsert[0]);\n",
       "    element.append(toinsert);\n",
       "    return toinsert\n",
       "  }\n",
       "\n",
       "  events.on('output_added.OutputArea', handle_add_output);\n",
       "  events.on('output_updated.OutputArea', handle_update_output);\n",
       "  events.on('clear_output.CodeCell', handle_clear_output);\n",
       "  events.on('delete.Cell', handle_clear_output);\n",
       "  events.on('kernel_ready.Kernel', handle_kernel_cleanup);\n",
       "\n",
       "  OutputArea.prototype.register_mime_type(EXEC_MIME_TYPE, append_mime, {\n",
       "    safe: true,\n",
       "    index: 0\n",
       "  });\n",
       "}\n",
       "\n",
       "if (window.Jupyter !== undefined) {\n",
       "  try {\n",
       "    var events = require('base/js/events');\n",
       "    var OutputArea = require('notebook/js/outputarea').OutputArea;\n",
       "    if (OutputArea.prototype.mime_types().indexOf(EXEC_MIME_TYPE) == -1) {\n",
       "      register_renderer(events, OutputArea);\n",
       "    }\n",
       "  } catch(err) {\n",
       "  }\n",
       "}\n"
      ],
      "application/vnd.holoviews_load.v0+json": "\nif ((window.PyViz === undefined) || (window.PyViz instanceof HTMLElement)) {\n  window.PyViz = {comms: {}, comm_status:{}, kernels:{}, receivers: {}, plot_index: []}\n}\n\n\n    function JupyterCommManager() {\n    }\n\n    JupyterCommManager.prototype.register_target = function(plot_id, comm_id, msg_handler) {\n      if (window.comm_manager || ((window.Jupyter !== undefined) && (Jupyter.notebook.kernel != null))) {\n        var comm_manager = window.comm_manager || Jupyter.notebook.kernel.comm_manager;\n        comm_manager.register_target(comm_id, function(comm) {\n          comm.on_msg(msg_handler);\n        });\n      } else if ((plot_id in window.PyViz.kernels) && (window.PyViz.kernels[plot_id])) {\n        window.PyViz.kernels[plot_id].registerCommTarget(comm_id, function(comm) {\n          comm.onMsg = msg_handler;\n        });\n      } else if (typeof google != 'undefined' && google.colab.kernel != null) {\n        google.colab.kernel.comms.registerTarget(comm_id, (comm) => {\n          var messages = comm.messages[Symbol.asyncIterator]();\n          function processIteratorResult(result) {\n            var message = result.value;\n            console.log(message)\n            var content = {data: message.data, comm_id};\n            var buffers = []\n            for (var buffer of message.buffers || []) {\n              buffers.push(new DataView(buffer))\n            }\n            var metadata = message.metadata || {};\n            var msg = {content, buffers, metadata}\n            msg_handler(msg);\n            return messages.next().then(processIteratorResult);\n          }\n          return messages.next().then(processIteratorResult);\n        })\n      }\n    }\n\n    JupyterCommManager.prototype.get_client_comm = function(plot_id, comm_id, msg_handler) {\n      if (comm_id in window.PyViz.comms) {\n        return window.PyViz.comms[comm_id];\n      } else if (window.comm_manager || ((window.Jupyter !== undefined) && (Jupyter.notebook.kernel != null))) {\n        var comm_manager = window.comm_manager || Jupyter.notebook.kernel.comm_manager;\n        var comm = comm_manager.new_comm(comm_id, {}, {}, {}, comm_id);\n        if (msg_handler) {\n          comm.on_msg(msg_handler);\n        }\n      } else if ((plot_id in window.PyViz.kernels) && (window.PyViz.kernels[plot_id])) {\n        var comm = window.PyViz.kernels[plot_id].connectToComm(comm_id);\n        comm.open();\n        if (msg_handler) {\n          comm.onMsg = msg_handler;\n        }\n      } else if (typeof google != 'undefined' && google.colab.kernel != null) {\n        var comm_promise = google.colab.kernel.comms.open(comm_id)\n        comm_promise.then((comm) => {\n          window.PyViz.comms[comm_id] = comm;\n          if (msg_handler) {\n            var messages = comm.messages[Symbol.asyncIterator]();\n            function processIteratorResult(result) {\n              var message = result.value;\n              var content = {data: message.data};\n              var metadata = message.metadata || {comm_id};\n              var msg = {content, metadata}\n              msg_handler(msg);\n              return messages.next().then(processIteratorResult);\n            }\n            return messages.next().then(processIteratorResult);\n          }\n        }) \n        var sendClosure = (data, metadata, buffers, disposeOnDone) => {\n          return comm_promise.then((comm) => {\n            comm.send(data, metadata, buffers, disposeOnDone);\n          });\n        };\n        var comm = {\n          send: sendClosure\n        };\n      }\n      window.PyViz.comms[comm_id] = comm;\n      return comm;\n    }\n    window.PyViz.comm_manager = new JupyterCommManager();\n    \n\n\nvar JS_MIME_TYPE = 'application/javascript';\nvar HTML_MIME_TYPE = 'text/html';\nvar EXEC_MIME_TYPE = 'application/vnd.holoviews_exec.v0+json';\nvar CLASS_NAME = 'output';\n\n/**\n * Render data to the DOM node\n */\nfunction render(props, node) {\n  var div = document.createElement(\"div\");\n  var script = document.createElement(\"script\");\n  node.appendChild(div);\n  node.appendChild(script);\n}\n\n/**\n * Handle when a new output is added\n */\nfunction handle_add_output(event, handle) {\n  var output_area = handle.output_area;\n  var output = handle.output;\n  if ((output.data == undefined) || (!output.data.hasOwnProperty(EXEC_MIME_TYPE))) {\n    return\n  }\n  var id = output.metadata[EXEC_MIME_TYPE][\"id\"];\n  var toinsert = output_area.element.find(\".\" + CLASS_NAME.split(' ')[0]);\n  if (id !== undefined) {\n    var nchildren = toinsert.length;\n    var html_node = toinsert[nchildren-1].children[0];\n    html_node.innerHTML = output.data[HTML_MIME_TYPE];\n    var scripts = [];\n    var nodelist = html_node.querySelectorAll(\"script\");\n    for (var i in nodelist) {\n      if (nodelist.hasOwnProperty(i)) {\n        scripts.push(nodelist[i])\n      }\n    }\n\n    scripts.forEach( function (oldScript) {\n      var newScript = document.createElement(\"script\");\n      var attrs = [];\n      var nodemap = oldScript.attributes;\n      for (var j in nodemap) {\n        if (nodemap.hasOwnProperty(j)) {\n          attrs.push(nodemap[j])\n        }\n      }\n      attrs.forEach(function(attr) { newScript.setAttribute(attr.name, attr.value) });\n      newScript.appendChild(document.createTextNode(oldScript.innerHTML));\n      oldScript.parentNode.replaceChild(newScript, oldScript);\n    });\n    if (JS_MIME_TYPE in output.data) {\n      toinsert[nchildren-1].children[1].textContent = output.data[JS_MIME_TYPE];\n    }\n    output_area._hv_plot_id = id;\n    if ((window.Bokeh !== undefined) && (id in Bokeh.index)) {\n      window.PyViz.plot_index[id] = Bokeh.index[id];\n    } else {\n      window.PyViz.plot_index[id] = null;\n    }\n  } else if (output.metadata[EXEC_MIME_TYPE][\"server_id\"] !== undefined) {\n    var bk_div = document.createElement(\"div\");\n    bk_div.innerHTML = output.data[HTML_MIME_TYPE];\n    var script_attrs = bk_div.children[0].attributes;\n    for (var i = 0; i < script_attrs.length; i++) {\n      toinsert[toinsert.length - 1].childNodes[1].setAttribute(script_attrs[i].name, script_attrs[i].value);\n    }\n    // store reference to server id on output_area\n    output_area._bokeh_server_id = output.metadata[EXEC_MIME_TYPE][\"server_id\"];\n  }\n}\n\n/**\n * Handle when an output is cleared or removed\n */\nfunction handle_clear_output(event, handle) {\n  var id = handle.cell.output_area._hv_plot_id;\n  var server_id = handle.cell.output_area._bokeh_server_id;\n  if (((id === undefined) || !(id in PyViz.plot_index)) && (server_id !== undefined)) { return; }\n  var comm = window.PyViz.comm_manager.get_client_comm(\"hv-extension-comm\", \"hv-extension-comm\", function () {});\n  if (server_id !== null) {\n    comm.send({event_type: 'server_delete', 'id': server_id});\n    return;\n  } else if (comm !== null) {\n    comm.send({event_type: 'delete', 'id': id});\n  }\n  delete PyViz.plot_index[id];\n  if ((window.Bokeh !== undefined) & (id in window.Bokeh.index)) {\n    var doc = window.Bokeh.index[id].model.document\n    doc.clear();\n    const i = window.Bokeh.documents.indexOf(doc);\n    if (i > -1) {\n      window.Bokeh.documents.splice(i, 1);\n    }\n  }\n}\n\n/**\n * Handle kernel restart event\n */\nfunction handle_kernel_cleanup(event, handle) {\n  delete PyViz.comms[\"hv-extension-comm\"];\n  window.PyViz.plot_index = {}\n}\n\n/**\n * Handle update_display_data messages\n */\nfunction handle_update_output(event, handle) {\n  handle_clear_output(event, {cell: {output_area: handle.output_area}})\n  handle_add_output(event, handle)\n}\n\nfunction register_renderer(events, OutputArea) {\n  function append_mime(data, metadata, element) {\n    // create a DOM node to render to\n    var toinsert = this.create_output_subarea(\n    metadata,\n    CLASS_NAME,\n    EXEC_MIME_TYPE\n    );\n    this.keyboard_manager.register_events(toinsert);\n    // Render to node\n    var props = {data: data, metadata: metadata[EXEC_MIME_TYPE]};\n    render(props, toinsert[0]);\n    element.append(toinsert);\n    return toinsert\n  }\n\n  events.on('output_added.OutputArea', handle_add_output);\n  events.on('output_updated.OutputArea', handle_update_output);\n  events.on('clear_output.CodeCell', handle_clear_output);\n  events.on('delete.Cell', handle_clear_output);\n  events.on('kernel_ready.Kernel', handle_kernel_cleanup);\n\n  OutputArea.prototype.register_mime_type(EXEC_MIME_TYPE, append_mime, {\n    safe: true,\n    index: 0\n  });\n}\n\nif (window.Jupyter !== undefined) {\n  try {\n    var events = require('base/js/events');\n    var OutputArea = require('notebook/js/outputarea').OutputArea;\n    if (OutputArea.prototype.mime_types().indexOf(EXEC_MIME_TYPE) == -1) {\n      register_renderer(events, OutputArea);\n    }\n  } catch(err) {\n  }\n}\n"
     },
     "metadata": {},
     "output_type": "display_data"
    },
    {
     "data": {
      "application/vnd.holoviews_exec.v0+json": "",
      "text/html": [
       "<div id='d0d7e873-5230-41ab-809e-9e4f9b97bf36'>\n",
       "  <div id=\"c506c438-5552-4c22-a32c-790df603124d\" data-root-id=\"d0d7e873-5230-41ab-809e-9e4f9b97bf36\" style=\"display: contents;\"></div>\n",
       "</div>\n",
       "<script type=\"application/javascript\">(function(root) {\n",
       "  var docs_json = {\"76f9743c-a2c2-49da-8d88-2f0e4f1ffd71\":{\"version\":\"3.6.1\",\"title\":\"Bokeh Application\",\"roots\":[{\"type\":\"object\",\"name\":\"panel.models.browser.BrowserInfo\",\"id\":\"d0d7e873-5230-41ab-809e-9e4f9b97bf36\"},{\"type\":\"object\",\"name\":\"panel.models.comm_manager.CommManager\",\"id\":\"36ecf8d6-54f4-46cf-9b70-bf9400c627db\",\"attributes\":{\"plot_id\":\"d0d7e873-5230-41ab-809e-9e4f9b97bf36\",\"comm_id\":\"417e6c46f6294a7190f069c6d5a04601\",\"client_comm_id\":\"61c61315c6764f319f0272a3839dd2ff\"}}],\"defs\":[{\"type\":\"model\",\"name\":\"ReactiveHTML1\"},{\"type\":\"model\",\"name\":\"FlexBox1\",\"properties\":[{\"name\":\"align_content\",\"kind\":\"Any\",\"default\":\"flex-start\"},{\"name\":\"align_items\",\"kind\":\"Any\",\"default\":\"flex-start\"},{\"name\":\"flex_direction\",\"kind\":\"Any\",\"default\":\"row\"},{\"name\":\"flex_wrap\",\"kind\":\"Any\",\"default\":\"wrap\"},{\"name\":\"gap\",\"kind\":\"Any\",\"default\":\"\"},{\"name\":\"justify_content\",\"kind\":\"Any\",\"default\":\"flex-start\"}]},{\"type\":\"model\",\"name\":\"FloatPanel1\",\"properties\":[{\"name\":\"config\",\"kind\":\"Any\",\"default\":{\"type\":\"map\"}},{\"name\":\"contained\",\"kind\":\"Any\",\"default\":true},{\"name\":\"position\",\"kind\":\"Any\",\"default\":\"right-top\"},{\"name\":\"offsetx\",\"kind\":\"Any\",\"default\":null},{\"name\":\"offsety\",\"kind\":\"Any\",\"default\":null},{\"name\":\"theme\",\"kind\":\"Any\",\"default\":\"primary\"},{\"name\":\"status\",\"kind\":\"Any\",\"default\":\"normalized\"}]},{\"type\":\"model\",\"name\":\"GridStack1\",\"properties\":[{\"name\":\"mode\",\"kind\":\"Any\",\"default\":\"warn\"},{\"name\":\"ncols\",\"kind\":\"Any\",\"default\":null},{\"name\":\"nrows\",\"kind\":\"Any\",\"default\":null},{\"name\":\"allow_resize\",\"kind\":\"Any\",\"default\":true},{\"name\":\"allow_drag\",\"kind\":\"Any\",\"default\":true},{\"name\":\"state\",\"kind\":\"Any\",\"default\":[]}]},{\"type\":\"model\",\"name\":\"drag1\",\"properties\":[{\"name\":\"slider_width\",\"kind\":\"Any\",\"default\":5},{\"name\":\"slider_color\",\"kind\":\"Any\",\"default\":\"black\"},{\"name\":\"value\",\"kind\":\"Any\",\"default\":50}]},{\"type\":\"model\",\"name\":\"click1\",\"properties\":[{\"name\":\"terminal_output\",\"kind\":\"Any\",\"default\":\"\"},{\"name\":\"debug_name\",\"kind\":\"Any\",\"default\":\"\"},{\"name\":\"clears\",\"kind\":\"Any\",\"default\":0}]},{\"type\":\"model\",\"name\":\"FastWrapper1\",\"properties\":[{\"name\":\"object\",\"kind\":\"Any\",\"default\":null},{\"name\":\"style\",\"kind\":\"Any\",\"default\":null}]},{\"type\":\"model\",\"name\":\"NotificationAreaBase1\",\"properties\":[{\"name\":\"js_events\",\"kind\":\"Any\",\"default\":{\"type\":\"map\"}},{\"name\":\"position\",\"kind\":\"Any\",\"default\":\"bottom-right\"},{\"name\":\"_clear\",\"kind\":\"Any\",\"default\":0}]},{\"type\":\"model\",\"name\":\"NotificationArea1\",\"properties\":[{\"name\":\"js_events\",\"kind\":\"Any\",\"default\":{\"type\":\"map\"}},{\"name\":\"notifications\",\"kind\":\"Any\",\"default\":[]},{\"name\":\"position\",\"kind\":\"Any\",\"default\":\"bottom-right\"},{\"name\":\"_clear\",\"kind\":\"Any\",\"default\":0},{\"name\":\"types\",\"kind\":\"Any\",\"default\":[{\"type\":\"map\",\"entries\":[[\"type\",\"warning\"],[\"background\",\"#ffc107\"],[\"icon\",{\"type\":\"map\",\"entries\":[[\"className\",\"fas fa-exclamation-triangle\"],[\"tagName\",\"i\"],[\"color\",\"white\"]]}]]},{\"type\":\"map\",\"entries\":[[\"type\",\"info\"],[\"background\",\"#007bff\"],[\"icon\",{\"type\":\"map\",\"entries\":[[\"className\",\"fas fa-info-circle\"],[\"tagName\",\"i\"],[\"color\",\"white\"]]}]]}]}]},{\"type\":\"model\",\"name\":\"Notification\",\"properties\":[{\"name\":\"background\",\"kind\":\"Any\",\"default\":null},{\"name\":\"duration\",\"kind\":\"Any\",\"default\":3000},{\"name\":\"icon\",\"kind\":\"Any\",\"default\":null},{\"name\":\"message\",\"kind\":\"Any\",\"default\":\"\"},{\"name\":\"notification_type\",\"kind\":\"Any\",\"default\":null},{\"name\":\"_destroyed\",\"kind\":\"Any\",\"default\":false}]},{\"type\":\"model\",\"name\":\"TemplateActions1\",\"properties\":[{\"name\":\"open_modal\",\"kind\":\"Any\",\"default\":0},{\"name\":\"close_modal\",\"kind\":\"Any\",\"default\":0}]},{\"type\":\"model\",\"name\":\"BootstrapTemplateActions1\",\"properties\":[{\"name\":\"open_modal\",\"kind\":\"Any\",\"default\":0},{\"name\":\"close_modal\",\"kind\":\"Any\",\"default\":0}]},{\"type\":\"model\",\"name\":\"TemplateEditor1\",\"properties\":[{\"name\":\"layout\",\"kind\":\"Any\",\"default\":[]}]},{\"type\":\"model\",\"name\":\"MaterialTemplateActions1\",\"properties\":[{\"name\":\"open_modal\",\"kind\":\"Any\",\"default\":0},{\"name\":\"close_modal\",\"kind\":\"Any\",\"default\":0}]},{\"type\":\"model\",\"name\":\"ReactiveESM1\",\"properties\":[{\"name\":\"esm_constants\",\"kind\":\"Any\",\"default\":{\"type\":\"map\"}}]},{\"type\":\"model\",\"name\":\"JSComponent1\",\"properties\":[{\"name\":\"esm_constants\",\"kind\":\"Any\",\"default\":{\"type\":\"map\"}}]},{\"type\":\"model\",\"name\":\"ReactComponent1\",\"properties\":[{\"name\":\"esm_constants\",\"kind\":\"Any\",\"default\":{\"type\":\"map\"}}]},{\"type\":\"model\",\"name\":\"AnyWidgetComponent1\",\"properties\":[{\"name\":\"esm_constants\",\"kind\":\"Any\",\"default\":{\"type\":\"map\"}}]},{\"type\":\"model\",\"name\":\"request_value1\",\"properties\":[{\"name\":\"fill\",\"kind\":\"Any\",\"default\":\"none\"},{\"name\":\"_synced\",\"kind\":\"Any\",\"default\":null},{\"name\":\"_request_sync\",\"kind\":\"Any\",\"default\":0}]}]}};\n",
       "  var render_items = [{\"docid\":\"76f9743c-a2c2-49da-8d88-2f0e4f1ffd71\",\"roots\":{\"d0d7e873-5230-41ab-809e-9e4f9b97bf36\":\"c506c438-5552-4c22-a32c-790df603124d\"},\"root_ids\":[\"d0d7e873-5230-41ab-809e-9e4f9b97bf36\"]}];\n",
       "  var docs = Object.values(docs_json)\n",
       "  if (!docs) {\n",
       "    return\n",
       "  }\n",
       "  const py_version = docs[0].version.replace('rc', '-rc.').replace('.dev', '-dev.')\n",
       "  async function embed_document(root) {\n",
       "    var Bokeh = get_bokeh(root)\n",
       "    await Bokeh.embed.embed_items_notebook(docs_json, render_items);\n",
       "    for (const render_item of render_items) {\n",
       "      for (const root_id of render_item.root_ids) {\n",
       "\tconst id_el = document.getElementById(root_id)\n",
       "\tif (id_el.children.length && id_el.children[0].hasAttribute('data-root-id')) {\n",
       "\t  const root_el = id_el.children[0]\n",
       "\t  root_el.id = root_el.id + '-rendered'\n",
       "\t  for (const child of root_el.children) {\n",
       "            // Ensure JupyterLab does not capture keyboard shortcuts\n",
       "            // see: https://jupyterlab.readthedocs.io/en/4.1.x/extension/notebook.html#keyboard-interaction-model\n",
       "\t    child.setAttribute('data-lm-suppress-shortcuts', 'true')\n",
       "\t  }\n",
       "\t}\n",
       "      }\n",
       "    }\n",
       "  }\n",
       "  function get_bokeh(root) {\n",
       "    if (root.Bokeh === undefined) {\n",
       "      return null\n",
       "    } else if (root.Bokeh.version !== py_version) {\n",
       "      if (root.Bokeh.versions === undefined || !root.Bokeh.versions.has(py_version)) {\n",
       "\treturn null\n",
       "      }\n",
       "      return root.Bokeh.versions.get(py_version);\n",
       "    } else if (root.Bokeh.version === py_version) {\n",
       "      return root.Bokeh\n",
       "    }\n",
       "    return null\n",
       "  }\n",
       "  function is_loaded(root) {\n",
       "    var Bokeh = get_bokeh(root)\n",
       "    return (Bokeh != null && Bokeh.Panel !== undefined)\n",
       "  }\n",
       "  if (is_loaded(root)) {\n",
       "    embed_document(root);\n",
       "  } else {\n",
       "    var attempts = 0;\n",
       "    var timer = setInterval(function(root) {\n",
       "      if (is_loaded(root)) {\n",
       "        clearInterval(timer);\n",
       "        embed_document(root);\n",
       "      } else if (document.readyState == \"complete\") {\n",
       "        attempts++;\n",
       "        if (attempts > 200) {\n",
       "          clearInterval(timer);\n",
       "\t  var Bokeh = get_bokeh(root)\n",
       "\t  if (Bokeh == null || Bokeh.Panel == null) {\n",
       "            console.warn(\"Panel: ERROR: Unable to run Panel code because Bokeh or Panel library is missing\");\n",
       "\t  } else {\n",
       "\t    console.warn(\"Panel: WARNING: Attempting to render but not all required libraries could be resolved.\")\n",
       "\t    embed_document(root)\n",
       "\t  }\n",
       "        }\n",
       "      }\n",
       "    }, 25, root)\n",
       "  }\n",
       "})(window);</script>"
      ]
     },
     "metadata": {
      "application/vnd.holoviews_exec.v0+json": {
       "id": "d0d7e873-5230-41ab-809e-9e4f9b97bf36"
      }
     },
     "output_type": "display_data"
    }
   ],
   "source": [
    "hvplot.extension('matplotlib')"
   ]
  },
  {
   "cell_type": "markdown",
   "id": "20d8c7d8-e92b-4450-b597-64c067141af1",
   "metadata": {},
   "source": [
    "### Loading Data"
   ]
  },
  {
   "cell_type": "code",
   "execution_count": 3,
   "id": "83f10f36-ffbc-43d8-b6c3-42c26fe77b4f",
   "metadata": {},
   "outputs": [],
   "source": [
    "# Path\n",
    "path = '/Users/isisromero/desktop/polars/datasets/vehicles.csv'"
   ]
  },
  {
   "cell_type": "code",
   "execution_count": 4,
   "id": "2154466d-cc9c-4a47-8ac9-38cf5749daf6",
   "metadata": {},
   "outputs": [],
   "source": [
    "raw = pl.read_csv(path, null_values=['NA'])"
   ]
  },
  {
   "cell_type": "code",
   "execution_count": 5,
   "id": "6b863fe6-3bcf-43a1-b965-e62398df8993",
   "metadata": {},
   "outputs": [],
   "source": [
    "def tweak_auto(df):\n",
    "    cols = ['year', 'make', 'model', 'displ', 'cylinders', 'trany', \n",
    "            'drive', 'VClass', 'fuelType', 'barrels08', 'city08', 'highway08', 'createdOn']\n",
    "    return (df\n",
    "            .select(pl.col(cols))\n",
    "            .with_columns(pl.col('year').cast(pl.Int16),\n",
    "                          pl.col(['cylinders', 'highway08', 'city08']).cast(pl.UInt8),\n",
    "                          pl.col(['displ', 'barrels08']).cast(pl.Float32),\n",
    "                          pl.col(['make', 'model', 'VClass', 'drive', 'fuelType']).cast(pl.Categorical),\n",
    "                          pl.col('createdOn').str.to_datetime('%a %b %d %H:%M:%S %Z %Y'),\n",
    "                          is_automatic=pl.col('trany')                    \n",
    "                          .str.contains('Automatic')\n",
    "                          .fill_null('Automatic'),\n",
    "                          num_gears=pl.col('trany')\n",
    "                          .str.extract(r'(\\d+)')\n",
    "                          .cast(pl.UInt8)\n",
    "                          .fill_null(6))\n",
    "           )"
   ]
  },
  {
   "cell_type": "code",
   "execution_count": 6,
   "id": "0fc46262-a2c0-4f9e-be71-4c6039f72d6d",
   "metadata": {},
   "outputs": [],
   "source": [
    "autos = tweak_auto(raw)"
   ]
  },
  {
   "cell_type": "markdown",
   "id": "a29ddeea-9606-4369-addb-5e2958498b5e",
   "metadata": {},
   "source": [
    "### Exporting to `CSV`"
   ]
  },
  {
   "cell_type": "code",
   "execution_count": 7,
   "id": "20f51cca-7059-4efd-93a8-198b90c919a1",
   "metadata": {},
   "outputs": [
    {
     "name": "stdout",
     "output_type": "stream",
     "text": [
      "year,make,model,displ,cylinders,trany,drive,VClass,fuelType,barrels08,city08,highway08,createdOn,is_automatic,num_gears\n",
      "1985,Alfa Romeo,Spider Veloce 2000,2.0,4,Manual 5-spd,Rear-Wheel Drive,Two Seaters,Regular,14.167143,19,25,2013-01-01T00:00:00.000000,false,5\n",
      "1985,Ferrari,Testarossa,4.9,12,Manual 5-spd,Rear-Wheel Drive,Two Seaters,Regular,27.046364,9,14,2013-01-01T00:00:00.000000,false,5\n",
      "1985,Dodge,Charger,2.2,4,Manual 5-spd,Front-Wheel Drive,Subcompact Cars,Regular,11.018888,23,33,2013-01-01T00:00:00.000000,false,5\n",
      "\n"
     ]
    }
   ],
   "source": [
    "print(autos\n",
    "      .head(3)\n",
    "      .write_csv()\n",
    "     )"
   ]
  },
  {
   "cell_type": "code",
   "execution_count": 8,
   "id": "681ed038-1052-4ce6-8510-d3b9c3a177e9",
   "metadata": {},
   "outputs": [
    {
     "name": "stdout",
     "output_type": "stream",
     "text": [
      "year,make,model,displ,cylinders,trany,drive,VClass,fuelType,barrels08,city08,highway08,createdOn,is_automatic,num_gears\n",
      "1985,Alfa Romeo,Spider Veloce 2000,2.00,4,Manual 5-spd,Rear-Wheel Drive,Two Seaters,Regular,14.17,19,25,2013-01-01T00:00:00.000000,false,5\n",
      "1985,Ferrari,Testarossa,4.90,12,Manual 5-spd,Rear-Wheel Drive,Two Seaters,Regular,27.05,9,14,2013-01-01T00:00:00.000000,false,5\n",
      "1985,Dodge,Charger,2.20,4,Manual 5-spd,Front-Wheel Drive,Subcompact Cars,Regular,11.02,23,33,2013-01-01T00:00:00.000000,false,5\n",
      "\n"
     ]
    }
   ],
   "source": [
    "print(autos\n",
    "      .head(3)\n",
    "      .write_csv(float_precision=2)\n",
    "     )"
   ]
  },
  {
   "cell_type": "markdown",
   "id": "fdbc4bf9-869f-4ae3-a0e6-e45e2187d1dc",
   "metadata": {},
   "source": [
    "### Exporting to `JSON`"
   ]
  },
  {
   "cell_type": "code",
   "execution_count": 9,
   "id": "eb81c9e5-dfe7-42fa-9cf9-7d556bfe72a0",
   "metadata": {},
   "outputs": [
    {
     "name": "stdout",
     "output_type": "stream",
     "text": [
      "[{'VClass': 'Two Seaters',\n",
      "  'barrels08': 14.167143,\n",
      "  'city08': 19,\n",
      "  'createdOn': '2013-01-01 00:00:00',\n",
      "  'cylinders': 4,\n",
      "  'displ': 2.0,\n",
      "  'drive': 'Rear-Wheel Drive',\n",
      "  'fuelType': 'Regular',\n",
      "  'highway08': 25,\n",
      "  'is_automatic': 'false',\n",
      "  'make': 'Alfa Romeo',\n",
      "  'model': 'Spider Veloce 2000',\n",
      "  'num_gears': 5,\n",
      "  'trany': 'Manual 5-spd',\n",
      "  'year': 1985},\n",
      " {'VClass': 'Two Seaters',\n",
      "  'barrels08': 27.046364,\n",
      "  'city08': 9,\n",
      "  'createdOn': '2013-01-01 00:00:00',\n",
      "  'cylinders': 12,\n",
      "  'displ': 4.9,\n",
      "  'drive': 'Rear-Wheel Drive',\n",
      "  'fuelType': 'Regular',\n",
      "  'highway08': 14,\n",
      "  'is_automatic': 'false',\n",
      "  'make': 'Ferrari',\n",
      "  'model': 'Testarossa',\n",
      "  'num_gears': 5,\n",
      "  'trany': 'Manual 5-spd',\n",
      "  'year': 1985}]\n"
     ]
    }
   ],
   "source": [
    "pprint.pprint(json.loads(\n",
    "    autos.head(2)\n",
    "    .write_json()))"
   ]
  },
  {
   "cell_type": "markdown",
   "id": "e97e4790-6218-4f99-b6a1-9354f097678b",
   "metadata": {},
   "source": [
    "### Reading `JSON`"
   ]
  },
  {
   "cell_type": "code",
   "execution_count": 10,
   "id": "30745f30-b815-431d-8983-4c7ec4aa6213",
   "metadata": {},
   "outputs": [
    {
     "name": "stdout",
     "output_type": "stream",
     "text": [
      "shape: (48_231, 15)\n",
      "┌──────┬────────────┬──────────────┬───────┬───┬───────────┬─────────────┬─────────────┬───────────┐\n",
      "│ year ┆ make       ┆ model        ┆ displ ┆ … ┆ highway08 ┆ createdOn   ┆ is_automati ┆ num_gears │\n",
      "│ ---  ┆ ---        ┆ ---          ┆ ---   ┆   ┆ ---       ┆ ---         ┆ c           ┆ ---       │\n",
      "│ i64  ┆ str        ┆ str          ┆ f64   ┆   ┆ i64       ┆ str         ┆ ---         ┆ i64       │\n",
      "│      ┆            ┆              ┆       ┆   ┆           ┆             ┆ str         ┆           │\n",
      "╞══════╪════════════╪══════════════╪═══════╪═══╪═══════════╪═════════════╪═════════════╪═══════════╡\n",
      "│ 1985 ┆ Alfa Romeo ┆ Spider       ┆ 2.0   ┆ … ┆ 25        ┆ 2013-01-01  ┆ false       ┆ 5         │\n",
      "│      ┆            ┆ Veloce 2000  ┆       ┆   ┆           ┆ 00:00:00    ┆             ┆           │\n",
      "│ 1985 ┆ Ferrari    ┆ Testarossa   ┆ 4.9   ┆ … ┆ 14        ┆ 2013-01-01  ┆ false       ┆ 5         │\n",
      "│      ┆            ┆              ┆       ┆   ┆           ┆ 00:00:00    ┆             ┆           │\n",
      "│ 1985 ┆ Dodge      ┆ Charger      ┆ 2.2   ┆ … ┆ 33        ┆ 2013-01-01  ┆ false       ┆ 5         │\n",
      "│      ┆            ┆              ┆       ┆   ┆           ┆ 00:00:00    ┆             ┆           │\n",
      "│ 1985 ┆ Dodge      ┆ B150/B250    ┆ 5.2   ┆ … ┆ 12        ┆ 2013-01-01  ┆ true        ┆ 3         │\n",
      "│      ┆            ┆ Wagon 2WD    ┆       ┆   ┆           ┆ 00:00:00    ┆             ┆           │\n",
      "│ 1993 ┆ Subaru     ┆ Legacy AWD   ┆ 2.2   ┆ … ┆ 23        ┆ 2013-01-01  ┆ false       ┆ 5         │\n",
      "│      ┆            ┆ Turbo        ┆       ┆   ┆           ┆ 00:00:00    ┆             ┆           │\n",
      "│ …    ┆ …          ┆ …            ┆ …     ┆ … ┆ …         ┆ …           ┆ …           ┆ …         │\n",
      "│ 1993 ┆ Subaru     ┆ Legacy       ┆ 2.2   ┆ … ┆ 26        ┆ 2013-01-01  ┆ true        ┆ 4         │\n",
      "│      ┆            ┆              ┆       ┆   ┆           ┆ 00:00:00    ┆             ┆           │\n",
      "│ 1993 ┆ Subaru     ┆ Legacy       ┆ 2.2   ┆ … ┆ 28        ┆ 2013-01-01  ┆ false       ┆ 5         │\n",
      "│      ┆            ┆              ┆       ┆   ┆           ┆ 00:00:00    ┆             ┆           │\n",
      "│ 1993 ┆ Subaru     ┆ Legacy AWD   ┆ 2.2   ┆ … ┆ 24        ┆ 2013-01-01  ┆ true        ┆ 4         │\n",
      "│      ┆            ┆              ┆       ┆   ┆           ┆ 00:00:00    ┆             ┆           │\n",
      "│ 1993 ┆ Subaru     ┆ Legacy AWD   ┆ 2.2   ┆ … ┆ 24        ┆ 2013-01-01  ┆ false       ┆ 5         │\n",
      "│      ┆            ┆              ┆       ┆   ┆           ┆ 00:00:00    ┆             ┆           │\n",
      "│ 1993 ┆ Subaru     ┆ Legacy AWD   ┆ 2.2   ┆ … ┆ 21        ┆ 2013-01-01  ┆ true        ┆ 4         │\n",
      "│      ┆            ┆ Turbo        ┆       ┆   ┆           ┆ 00:00:00    ┆             ┆           │\n",
      "└──────┴────────────┴──────────────┴───────┴───┴───────────┴─────────────┴─────────────┴───────────┘\n"
     ]
    }
   ],
   "source": [
    "from io import StringIO\n",
    "\n",
    "print(pl.read_json(StringIO(autos.write_json())))"
   ]
  },
  {
   "cell_type": "code",
   "execution_count": 11,
   "id": "a031643c-7e15-4b7e-bb8b-108f69473158",
   "metadata": {},
   "outputs": [],
   "source": [
    "# autos.head(3).to_pandas().to_json('tmp/pd.json', orient='records')"
   ]
  },
  {
   "cell_type": "code",
   "execution_count": null,
   "id": "96b1c3d6-e2ef-4787-af09-631c340f81a7",
   "metadata": {},
   "outputs": [],
   "source": []
  },
  {
   "cell_type": "code",
   "execution_count": 12,
   "id": "e5681786-09b3-4941-96be-644b430905ae",
   "metadata": {},
   "outputs": [],
   "source": [
    "# pprint.pprint(json.loads(autos.head(2)\n",
    "#                          .to_pandas().to_json(orient='records')))"
   ]
  },
  {
   "cell_type": "code",
   "execution_count": 13,
   "id": "da382daf-9db2-4f0a-8206-5c8ae35eeab9",
   "metadata": {},
   "outputs": [],
   "source": [
    "# from_pd = pl.read_json('/tmp/pd.json')\n",
    "\n",
    "# print(from_pd)"
   ]
  },
  {
   "cell_type": "code",
   "execution_count": 14,
   "id": "def314ab-4e46-4586-90cc-c2f524d3d324",
   "metadata": {},
   "outputs": [],
   "source": [
    "# print(from_pd\n",
    "#       .with_columns(createdOn=pl.from_epoch('createdOn', time_unit='s'))\n",
    "#      )"
   ]
  },
  {
   "cell_type": "markdown",
   "id": "f443f449-684c-4e74-8773-ee364de51606",
   "metadata": {},
   "source": [
    "### `Custom JSON` Handling"
   ]
  },
  {
   "cell_type": "code",
   "execution_count": 15,
   "id": "89b998e7-5cc5-48c2-94dc-7638ff4ff083",
   "metadata": {},
   "outputs": [
    {
     "name": "stdout",
     "output_type": "stream",
     "text": [
      "{'VClass': {'0': 'Two Seaters', '1': 'Two Seaters'},\n",
      " 'barrels08': {'0': 14.167142868, '1': 27.0463638306},\n",
      " 'city08': {'0': 19, '1': 9},\n",
      " 'createdOn': {'0': 1356998400, '1': 1356998400},\n",
      " 'cylinders': {'0': 4, '1': 12},\n",
      " 'displ': {'0': 2.0, '1': 4.9000000954},\n",
      " 'drive': {'0': 'Rear-Wheel Drive', '1': 'Rear-Wheel Drive'},\n",
      " 'fuelType': {'0': 'Regular', '1': 'Regular'},\n",
      " 'highway08': {'0': 25, '1': 14},\n",
      " 'is_automatic': {'0': 'false', '1': 'false'},\n",
      " 'make': {'0': 'Alfa Romeo', '1': 'Ferrari'},\n",
      " 'model': {'0': 'Spider Veloce 2000', '1': 'Testarossa'},\n",
      " 'num_gears': {'0': 5, '1': 5},\n",
      " 'trany': {'0': 'Manual 5-spd', '1': 'Manual 5-spd'},\n",
      " 'year': {'0': 1985, '1': 1985}}\n"
     ]
    }
   ],
   "source": [
    "# Using Default Pandas Orientation\n",
    "pprint.pprint(json.loads(autos.head(2)\n",
    "                         .to_pandas().to_json()))"
   ]
  },
  {
   "cell_type": "code",
   "execution_count": 16,
   "id": "6afa033e-00ca-4a86-b49d-e869de5829cd",
   "metadata": {},
   "outputs": [
    {
     "name": "stdout",
     "output_type": "stream",
     "text": [
      "shape: (1, 15)\n",
      "┌───────────┬───────────┬───────────┬───────────┬───┬───────────┬───────────┬───────────┬──────────┐\n",
      "│ year      ┆ make      ┆ model     ┆ displ     ┆ … ┆ highway08 ┆ createdOn ┆ is_automa ┆ num_gear │\n",
      "│ ---       ┆ ---       ┆ ---       ┆ ---       ┆   ┆ ---       ┆ ---       ┆ tic       ┆ s        │\n",
      "│ struct[2] ┆ struct[2] ┆ struct[2] ┆ struct[2] ┆   ┆ struct[2] ┆ struct[2] ┆ ---       ┆ ---      │\n",
      "│           ┆           ┆           ┆           ┆   ┆           ┆           ┆ struct[2] ┆ struct[2 │\n",
      "│           ┆           ┆           ┆           ┆   ┆           ┆           ┆           ┆ ]        │\n",
      "╞═══════════╪═══════════╪═══════════╪═══════════╪═══╪═══════════╪═══════════╪═══════════╪══════════╡\n",
      "│ {1985,198 ┆ {\"Alfa    ┆ {\"Spider  ┆ {2.0,4.9} ┆ … ┆ {25,14}   ┆ {13569984 ┆ {\"false\", ┆ {5,5}    │\n",
      "│ 5}        ┆ Romeo\",\"F ┆ Veloce    ┆           ┆   ┆           ┆ 00,135699 ┆ \"false\"}  ┆          │\n",
      "│           ┆ errari\"}  ┆ 2000\",\"Te ┆           ┆   ┆           ┆ 8400}     ┆           ┆          │\n",
      "│           ┆           ┆ staro…    ┆           ┆   ┆           ┆           ┆           ┆          │\n",
      "└───────────┴───────────┴───────────┴───────────┴───┴───────────┴───────────┴───────────┴──────────┘\n"
     ]
    }
   ],
   "source": [
    "print(pl.read_json(io.StringIO(autos.head(2).to_pandas().to_json())))"
   ]
  },
  {
   "cell_type": "code",
   "execution_count": 17,
   "id": "903e942a-61b8-4784-99ff-2b82c8eb0aad",
   "metadata": {},
   "outputs": [
    {
     "name": "stdout",
     "output_type": "stream",
     "text": [
      "shape: (3, 3)\n",
      "┌─────┬───────────┬───────────┐\n",
      "│ num ┆ listy     ┆ structy   │\n",
      "│ --- ┆ ---       ┆ ---       │\n",
      "│ i64 ┆ list[i64] ┆ struct[2] │\n",
      "╞═════╪═══════════╪═══════════╡\n",
      "│ 1   ┆ [1, 2]    ┆ {1,2}     │\n",
      "│ 2   ┆ [3, 4]    ┆ {3,4}     │\n",
      "│ 3   ┆ [5, 6]    ┆ {5,6}     │\n",
      "└─────┴───────────┴───────────┘\n"
     ]
    }
   ],
   "source": [
    "print(pl.DataFrame({\n",
    "    'num': [1, 2, 3], \n",
    "    'listy': [[1, 2], [3, 4], [5, 6]],\n",
    "    'structy': [{'a': 1, 'b': 2}, {'a': 3, 'b': 4}, {'a': 5, 'b': 6}],\n",
    "})\n",
    "     )"
   ]
  },
  {
   "cell_type": "code",
   "execution_count": 18,
   "id": "4aad9d1b-0b40-44e8-bb6e-1361d3e00d1b",
   "metadata": {},
   "outputs": [
    {
     "name": "stdout",
     "output_type": "stream",
     "text": [
      "shape: (6, 3)\n",
      "┌─────┬───────┬───────────┐\n",
      "│ num ┆ listy ┆ structy   │\n",
      "│ --- ┆ ---   ┆ ---       │\n",
      "│ i64 ┆ i64   ┆ struct[2] │\n",
      "╞═════╪═══════╪═══════════╡\n",
      "│ 1   ┆ 1     ┆ {1,2}     │\n",
      "│ 1   ┆ 2     ┆ {1,2}     │\n",
      "│ 2   ┆ 3     ┆ {3,4}     │\n",
      "│ 2   ┆ 4     ┆ {3,4}     │\n",
      "│ 3   ┆ 5     ┆ {5,6}     │\n",
      "│ 3   ┆ 6     ┆ {5,6}     │\n",
      "└─────┴───────┴───────────┘\n"
     ]
    }
   ],
   "source": [
    "# Exploiding Data\n",
    "print(pl.DataFrame({\n",
    "    'num': [1, 2, 3], \n",
    "    'listy': [[1, 2], [3, 4], [5, 6]],\n",
    "    'structy': [{'a': 1, 'b': 2}, {'a': 3, 'b': 4}, {'a': 5, 'b': 6}],\n",
    "})\n",
    "      .explode('listy')\n",
    "     )"
   ]
  },
  {
   "cell_type": "code",
   "execution_count": 19,
   "id": "90aa4439-677f-4265-bc6c-3404688f7a37",
   "metadata": {},
   "outputs": [
    {
     "ename": "InvalidOperationError",
     "evalue": "`explode` operation not supported for dtype `struct[2]`",
     "output_type": "error",
     "traceback": [
      "\u001b[0;31m---------------------------------------------------------------------------\u001b[0m",
      "\u001b[0;31mInvalidOperationError\u001b[0m                     Traceback (most recent call last)",
      "Cell \u001b[0;32mIn[19], line 6\u001b[0m\n\u001b[1;32m      1\u001b[0m \u001b[38;5;28mprint\u001b[39m(pl\u001b[38;5;241m.\u001b[39mDataFrame({\n\u001b[1;32m      2\u001b[0m     \u001b[38;5;124m'\u001b[39m\u001b[38;5;124mnum\u001b[39m\u001b[38;5;124m'\u001b[39m: [\u001b[38;5;241m1\u001b[39m, \u001b[38;5;241m2\u001b[39m, \u001b[38;5;241m3\u001b[39m], \n\u001b[1;32m      3\u001b[0m     \u001b[38;5;124m'\u001b[39m\u001b[38;5;124mlisty\u001b[39m\u001b[38;5;124m'\u001b[39m: [[\u001b[38;5;241m1\u001b[39m, \u001b[38;5;241m2\u001b[39m], [\u001b[38;5;241m3\u001b[39m, \u001b[38;5;241m4\u001b[39m], [\u001b[38;5;241m5\u001b[39m, \u001b[38;5;241m6\u001b[39m]],\n\u001b[1;32m      4\u001b[0m     \u001b[38;5;124m'\u001b[39m\u001b[38;5;124mstructy\u001b[39m\u001b[38;5;124m'\u001b[39m: [{\u001b[38;5;124m'\u001b[39m\u001b[38;5;124ma\u001b[39m\u001b[38;5;124m'\u001b[39m: \u001b[38;5;241m1\u001b[39m, \u001b[38;5;124m'\u001b[39m\u001b[38;5;124mb\u001b[39m\u001b[38;5;124m'\u001b[39m: \u001b[38;5;241m2\u001b[39m}, {\u001b[38;5;124m'\u001b[39m\u001b[38;5;124ma\u001b[39m\u001b[38;5;124m'\u001b[39m: \u001b[38;5;241m3\u001b[39m, \u001b[38;5;124m'\u001b[39m\u001b[38;5;124mb\u001b[39m\u001b[38;5;124m'\u001b[39m: \u001b[38;5;241m4\u001b[39m}, {\u001b[38;5;124m'\u001b[39m\u001b[38;5;124ma\u001b[39m\u001b[38;5;124m'\u001b[39m: \u001b[38;5;241m5\u001b[39m, \u001b[38;5;124m'\u001b[39m\u001b[38;5;124mb\u001b[39m\u001b[38;5;124m'\u001b[39m: \u001b[38;5;241m6\u001b[39m}],\n\u001b[1;32m      5\u001b[0m })\n\u001b[0;32m----> 6\u001b[0m       \u001b[38;5;241m.\u001b[39mexplode(\u001b[38;5;124m'\u001b[39m\u001b[38;5;124mstructy\u001b[39m\u001b[38;5;124m'\u001b[39m)\n\u001b[1;32m      7\u001b[0m      )\n",
      "File \u001b[0;32m~/anaconda3/envs/polars/lib/python3.11/site-packages/polars/dataframe/frame.py:8131\u001b[0m, in \u001b[0;36mDataFrame.explode\u001b[0;34m(self, columns, *more_columns)\u001b[0m\n\u001b[1;32m   8074\u001b[0m \u001b[38;5;28;01mdef\u001b[39;00m \u001b[38;5;21mexplode\u001b[39m(\n\u001b[1;32m   8075\u001b[0m     \u001b[38;5;28mself\u001b[39m,\n\u001b[1;32m   8076\u001b[0m     columns: \u001b[38;5;28mstr\u001b[39m \u001b[38;5;241m|\u001b[39m Expr \u001b[38;5;241m|\u001b[39m Sequence[\u001b[38;5;28mstr\u001b[39m \u001b[38;5;241m|\u001b[39m Expr],\n\u001b[1;32m   8077\u001b[0m     \u001b[38;5;241m*\u001b[39mmore_columns: \u001b[38;5;28mstr\u001b[39m \u001b[38;5;241m|\u001b[39m Expr,\n\u001b[1;32m   8078\u001b[0m ) \u001b[38;5;241m-\u001b[39m\u001b[38;5;241m>\u001b[39m DataFrame:\n\u001b[1;32m   8079\u001b[0m \u001b[38;5;250m    \u001b[39m\u001b[38;5;124;03m\"\"\"\u001b[39;00m\n\u001b[1;32m   8080\u001b[0m \u001b[38;5;124;03m    Explode the dataframe to long format by exploding the given columns.\u001b[39;00m\n\u001b[1;32m   8081\u001b[0m \n\u001b[0;32m   (...)\u001b[0m\n\u001b[1;32m   8129\u001b[0m \u001b[38;5;124;03m    └─────────┴─────────┘\u001b[39;00m\n\u001b[1;32m   8130\u001b[0m \u001b[38;5;124;03m    \"\"\"\u001b[39;00m\n\u001b[0;32m-> 8131\u001b[0m     \u001b[38;5;28;01mreturn\u001b[39;00m \u001b[38;5;28mself\u001b[39m\u001b[38;5;241m.\u001b[39mlazy()\u001b[38;5;241m.\u001b[39mexplode(columns, \u001b[38;5;241m*\u001b[39mmore_columns)\u001b[38;5;241m.\u001b[39mcollect(_eager\u001b[38;5;241m=\u001b[39m\u001b[38;5;28;01mTrue\u001b[39;00m)\n",
      "File \u001b[0;32m~/anaconda3/envs/polars/lib/python3.11/site-packages/polars/lazyframe/frame.py:2029\u001b[0m, in \u001b[0;36mLazyFrame.collect\u001b[0;34m(self, type_coercion, predicate_pushdown, projection_pushdown, simplify_expression, slice_pushdown, comm_subplan_elim, comm_subexpr_elim, cluster_with_columns, collapse_joins, no_optimization, streaming, engine, background, _eager, **_kwargs)\u001b[0m\n\u001b[1;32m   2027\u001b[0m \u001b[38;5;66;03m# Only for testing purposes\u001b[39;00m\n\u001b[1;32m   2028\u001b[0m callback \u001b[38;5;241m=\u001b[39m _kwargs\u001b[38;5;241m.\u001b[39mget(\u001b[38;5;124m\"\u001b[39m\u001b[38;5;124mpost_opt_callback\u001b[39m\u001b[38;5;124m\"\u001b[39m, callback)\n\u001b[0;32m-> 2029\u001b[0m \u001b[38;5;28;01mreturn\u001b[39;00m wrap_df(ldf\u001b[38;5;241m.\u001b[39mcollect(callback))\n",
      "\u001b[0;31mInvalidOperationError\u001b[0m: `explode` operation not supported for dtype `struct[2]`"
     ]
    }
   ],
   "source": [
    "print(pl.DataFrame({\n",
    "    'num': [1, 2, 3], \n",
    "    'listy': [[1, 2], [3, 4], [5, 6]],\n",
    "    'structy': [{'a': 1, 'b': 2}, {'a': 3, 'b': 4}, {'a': 5, 'b': 6}],\n",
    "})\n",
    "      .explode('structy')\n",
    "     )"
   ]
  },
  {
   "cell_type": "code",
   "execution_count": null,
   "id": "fb940ca2-19d5-47c3-b155-8e725a449f2d",
   "metadata": {},
   "outputs": [],
   "source": [
    "# Converting struct to a list\n",
    "print(pl.DataFrame({\n",
    "    'num': [1, 2, 3], \n",
    "    'listy': [[1, 2], [3, 4], [5, 6]],\n",
    "    'structy': [{'a': 1, 'b': 2}, {'a': 3, 'b': 4}, {'a': 5, 'b': 6}]})\n",
    "      .with_columns(structy=pl.col('structy').map_elements(\n",
    "          lambda d: list(d.values())\n",
    "      )\n",
    "                   )\n",
    "     )"
   ]
  },
  {
   "cell_type": "code",
   "execution_count": null,
   "id": "7d848338-b771-441d-9da3-150243c1eb6a",
   "metadata": {},
   "outputs": [],
   "source": [
    "print(pl.read_json(io.StringIO(autos.to_pandas().to_json()))\n",
    "      .with_columns(pl.all().map_elements(lambda d: list(d.values())))\n",
    "      .explode(pl.all())\n",
    "      .with_columns(createdOn=pl.from_epoch('createdOn', time_unit='s'))\n",
    "     )"
   ]
  },
  {
   "cell_type": "markdown",
   "id": "980d4e71-491c-4d38-926a-83e15290ad13",
   "metadata": {},
   "source": [
    "### Munging `JSON`"
   ]
  },
  {
   "cell_type": "code",
   "execution_count": null,
   "id": "fc254722-1b71-45a8-800f-61dd582fa1f2",
   "metadata": {},
   "outputs": [],
   "source": [
    "pprint.pprint(json.loads(autos.head(2).to_pandas()\n",
    "                         .to_json(orient='split')))"
   ]
  },
  {
   "cell_type": "code",
   "execution_count": 20,
   "id": "d2c2484c-75eb-423b-80d4-8bb41326b0ac",
   "metadata": {},
   "outputs": [
    {
     "name": "stdout",
     "output_type": "stream",
     "text": [
      "shape: (1, 3)\n",
      "┌─────────────────────────────────┬─────────────────┬─────────────────────────────────┐\n",
      "│ columns                         ┆ index           ┆ data                            │\n",
      "│ ---                             ┆ ---             ┆ ---                             │\n",
      "│ list[str]                       ┆ list[i64]       ┆ list[list[str]]                 │\n",
      "╞═════════════════════════════════╪═════════════════╪═════════════════════════════════╡\n",
      "│ [\"year\", \"make\", … \"num_gears\"… ┆ [0, 1, … 48230] ┆ [[\"1985\", \"Alfa Romeo\", … \"5\"]… │\n",
      "└─────────────────────────────────┴─────────────────┴─────────────────────────────────┘\n"
     ]
    }
   ],
   "source": [
    "# Reading into Polars\n",
    "print(pl.read_json(io.StringIO(autos.to_pandas()\n",
    "                               .to_json(orient='split'))))"
   ]
  },
  {
   "cell_type": "code",
   "execution_count": 21,
   "id": "fdcd8b88-9f92-445f-9db5-e0b0d9c224f0",
   "metadata": {},
   "outputs": [],
   "source": [
    "def split_json_to_dict(json_str):\n",
    "    \"\"\" Convert pandas \"split\" json to a sequence of dictionaries\n",
    "    representing the rows of the dataframe.\n",
    "    \"\"\"\n",
    "    data = json.loads(json_str)\n",
    "    columns = data['columns']\n",
    "    for row in data['data']:\n",
    "        yield dict(zip(columns, row))"
   ]
  },
  {
   "cell_type": "code",
   "execution_count": 22,
   "id": "4067e8e8-7c8d-41f4-b370-cb17bc0db48e",
   "metadata": {},
   "outputs": [
    {
     "name": "stdout",
     "output_type": "stream",
     "text": [
      "shape: (48_231, 15)\n",
      "┌──────┬────────────┬──────────────┬───────┬───┬───────────┬────────────┬──────────────┬───────────┐\n",
      "│ year ┆ make       ┆ model        ┆ displ ┆ … ┆ highway08 ┆ createdOn  ┆ is_automatic ┆ num_gears │\n",
      "│ ---  ┆ ---        ┆ ---          ┆ ---   ┆   ┆ ---       ┆ ---        ┆ ---          ┆ ---       │\n",
      "│ i64  ┆ str        ┆ str          ┆ f64   ┆   ┆ i64       ┆ i64        ┆ str          ┆ i64       │\n",
      "╞══════╪════════════╪══════════════╪═══════╪═══╪═══════════╪════════════╪══════════════╪═══════════╡\n",
      "│ 1985 ┆ Alfa Romeo ┆ Spider       ┆ 2.0   ┆ … ┆ 25        ┆ 1356998400 ┆ false        ┆ 5         │\n",
      "│      ┆            ┆ Veloce 2000  ┆       ┆   ┆           ┆            ┆              ┆           │\n",
      "│ 1985 ┆ Ferrari    ┆ Testarossa   ┆ 4.9   ┆ … ┆ 14        ┆ 1356998400 ┆ false        ┆ 5         │\n",
      "│ 1985 ┆ Dodge      ┆ Charger      ┆ 2.2   ┆ … ┆ 33        ┆ 1356998400 ┆ false        ┆ 5         │\n",
      "│ 1985 ┆ Dodge      ┆ B150/B250    ┆ 5.2   ┆ … ┆ 12        ┆ 1356998400 ┆ true         ┆ 3         │\n",
      "│      ┆            ┆ Wagon 2WD    ┆       ┆   ┆           ┆            ┆              ┆           │\n",
      "│ 1993 ┆ Subaru     ┆ Legacy AWD   ┆ 2.2   ┆ … ┆ 23        ┆ 1356998400 ┆ false        ┆ 5         │\n",
      "│      ┆            ┆ Turbo        ┆       ┆   ┆           ┆            ┆              ┆           │\n",
      "│ …    ┆ …          ┆ …            ┆ …     ┆ … ┆ …         ┆ …          ┆ …            ┆ …         │\n",
      "│ 1993 ┆ Subaru     ┆ Legacy       ┆ 2.2   ┆ … ┆ 26        ┆ 1356998400 ┆ true         ┆ 4         │\n",
      "│ 1993 ┆ Subaru     ┆ Legacy       ┆ 2.2   ┆ … ┆ 28        ┆ 1356998400 ┆ false        ┆ 5         │\n",
      "│ 1993 ┆ Subaru     ┆ Legacy AWD   ┆ 2.2   ┆ … ┆ 24        ┆ 1356998400 ┆ true         ┆ 4         │\n",
      "│ 1993 ┆ Subaru     ┆ Legacy AWD   ┆ 2.2   ┆ … ┆ 24        ┆ 1356998400 ┆ false        ┆ 5         │\n",
      "│ 1993 ┆ Subaru     ┆ Legacy AWD   ┆ 2.2   ┆ … ┆ 21        ┆ 1356998400 ┆ true         ┆ 4         │\n",
      "│      ┆            ┆ Turbo        ┆       ┆   ┆           ┆            ┆              ┆           │\n",
      "└──────┴────────────┴──────────────┴───────┴───┴───────────┴────────────┴──────────────┴───────────┘\n"
     ]
    }
   ],
   "source": [
    "print(pl.DataFrame(\n",
    "    split_json_to_dict(autos.to_pandas().to_json(orient='split'))))"
   ]
  },
  {
   "cell_type": "markdown",
   "id": "d6410bd5-6f96-44d1-83b1-b0e2c26d403f",
   "metadata": {},
   "source": [
    "### Exporting to `Excel`"
   ]
  },
  {
   "cell_type": "code",
   "execution_count": 23,
   "id": "cccbb304-a7b0-4844-ba1a-61fbfe808a21",
   "metadata": {},
   "outputs": [
    {
     "data": {
      "text/plain": [
       "<xlsxwriter.workbook.Workbook at 0x16dc47450>"
      ]
     },
     "execution_count": 23,
     "metadata": {},
     "output_type": "execute_result"
    }
   ],
   "source": [
    "(autos\n",
    " .head(3)\n",
    " .write_excel('/Users/isisromero/desktop/polars/datasets/autos.xlsx')\n",
    ")"
   ]
  },
  {
   "cell_type": "code",
   "execution_count": 24,
   "id": "b998afc4-697e-4a05-928d-5b24a6e6d835",
   "metadata": {},
   "outputs": [
    {
     "name": "stdout",
     "output_type": "stream",
     "text": [
      "shape: (3, 15)\n",
      "┌──────┬────────────┬──────────────┬───────┬───┬───────────┬────────────┬──────────────┬───────────┐\n",
      "│ year ┆ make       ┆ model        ┆ displ ┆ … ┆ highway08 ┆ createdOn  ┆ is_automatic ┆ num_gears │\n",
      "│ ---  ┆ ---        ┆ ---          ┆ ---   ┆   ┆ ---       ┆ ---        ┆ ---          ┆ ---       │\n",
      "│ i64  ┆ str        ┆ str          ┆ f64   ┆   ┆ i64       ┆ date       ┆ str          ┆ i64       │\n",
      "╞══════╪════════════╪══════════════╪═══════╪═══╪═══════════╪════════════╪══════════════╪═══════════╡\n",
      "│ 1985 ┆ Alfa Romeo ┆ Spider       ┆ 2.0   ┆ … ┆ 25        ┆ 2013-01-01 ┆ false        ┆ 5         │\n",
      "│      ┆            ┆ Veloce 2000  ┆       ┆   ┆           ┆            ┆              ┆           │\n",
      "│ 1985 ┆ Ferrari    ┆ Testarossa   ┆ 4.9   ┆ … ┆ 14        ┆ 2013-01-01 ┆ false        ┆ 5         │\n",
      "│ 1985 ┆ Dodge      ┆ Charger      ┆ 2.2   ┆ … ┆ 33        ┆ 2013-01-01 ┆ false        ┆ 5         │\n",
      "└──────┴────────────┴──────────────┴───────┴───┴───────────┴────────────┴──────────────┴───────────┘\n"
     ]
    }
   ],
   "source": [
    "a3 = (pl.read_excel('/Users/isisromero/desktop/polars/datasets/autos.xlsx'))\n",
    "\n",
    "print(a3)"
   ]
  },
  {
   "cell_type": "markdown",
   "id": "97c4e54b-8730-4816-a8ec-a46bc44ec070",
   "metadata": {},
   "source": [
    "### Exporting to `Parquet`"
   ]
  },
  {
   "cell_type": "code",
   "execution_count": 25,
   "id": "d77738d3-2aa7-4f03-8f6c-1f4f346acc60",
   "metadata": {},
   "outputs": [],
   "source": [
    "(autos\n",
    " .head(3)\n",
    " .write_parquet('/Users/isisromero/desktop/polars/datasets/a3.parquet')\n",
    ")"
   ]
  },
  {
   "cell_type": "code",
   "execution_count": 26,
   "id": "c4829358-0665-43bd-8657-4fa04d9ca8ad",
   "metadata": {},
   "outputs": [],
   "source": [
    "pd.read_parquet('/Users/isisromero/desktop/polars/datasets/a3.parquet').to_parquet('/Users/isisromero/desktop/polars/datasets/a4.parquet')"
   ]
  },
  {
   "cell_type": "code",
   "execution_count": 27,
   "id": "ba900115-06a8-45f4-926c-833de6106d4a",
   "metadata": {},
   "outputs": [
    {
     "name": "stdout",
     "output_type": "stream",
     "text": [
      "shape: (3, 15)\n",
      "┌──────┬────────────┬──────────────┬───────┬───┬───────────┬─────────────┬─────────────┬───────────┐\n",
      "│ year ┆ make       ┆ model        ┆ displ ┆ … ┆ highway08 ┆ createdOn   ┆ is_automati ┆ num_gears │\n",
      "│ ---  ┆ ---        ┆ ---          ┆ ---   ┆   ┆ ---       ┆ ---         ┆ c           ┆ ---       │\n",
      "│ i16  ┆ cat        ┆ cat          ┆ f32   ┆   ┆ u8        ┆ datetime[μs ┆ ---         ┆ u8        │\n",
      "│      ┆            ┆              ┆       ┆   ┆           ┆ ]           ┆ str         ┆           │\n",
      "╞══════╪════════════╪══════════════╪═══════╪═══╪═══════════╪═════════════╪═════════════╪═══════════╡\n",
      "│ 1985 ┆ Alfa Romeo ┆ Spider       ┆ 2.0   ┆ … ┆ 25        ┆ 2013-01-01  ┆ false       ┆ 5         │\n",
      "│      ┆            ┆ Veloce 2000  ┆       ┆   ┆           ┆ 00:00:00    ┆             ┆           │\n",
      "│ 1985 ┆ Ferrari    ┆ Testarossa   ┆ 4.9   ┆ … ┆ 14        ┆ 2013-01-01  ┆ false       ┆ 5         │\n",
      "│      ┆            ┆              ┆       ┆   ┆           ┆ 00:00:00    ┆             ┆           │\n",
      "│ 1985 ┆ Dodge      ┆ Charger      ┆ 2.2   ┆ … ┆ 33        ┆ 2013-01-01  ┆ false       ┆ 5         │\n",
      "│      ┆            ┆              ┆       ┆   ┆           ┆ 00:00:00    ┆             ┆           │\n",
      "└──────┴────────────┴──────────────┴───────┴───┴───────────┴─────────────┴─────────────┴───────────┘\n"
     ]
    }
   ],
   "source": [
    "a4 = pl.read_parquet('/Users/isisromero/desktop/polars/datasets/a4.parquet')\n",
    "\n",
    "print(a4)"
   ]
  },
  {
   "cell_type": "code",
   "execution_count": 28,
   "id": "5bed9509-5fbe-46f8-a80a-0ac1215d0a25",
   "metadata": {},
   "outputs": [
    {
     "data": {
      "text/plain": [
       "True"
      ]
     },
     "execution_count": 28,
     "metadata": {},
     "output_type": "execute_result"
    }
   ],
   "source": [
    "autos.head(3).equals(a4)"
   ]
  },
  {
   "cell_type": "code",
   "execution_count": 29,
   "id": "dfba66ae-42ae-4a18-94ef-2d034bbbb30e",
   "metadata": {},
   "outputs": [],
   "source": [
    "(autos\n",
    " .head(3)\n",
    " .select(pl.all().shrink_dtype())\n",
    " .write_parquet('/Users/isisromero/desktop/polars/datasets/a3-shrink.parquet')\n",
    ")"
   ]
  },
  {
   "cell_type": "markdown",
   "id": "4cf5b765-62c1-43ca-a2a9-ea758b2a003e",
   "metadata": {},
   "source": [
    "### Exporting to `SQL`"
   ]
  },
  {
   "cell_type": "code",
   "execution_count": 30,
   "id": "757691fa-c8ae-4606-a495-93ab8b0f68ea",
   "metadata": {},
   "outputs": [],
   "source": [
    "import sqlite3"
   ]
  },
  {
   "cell_type": "code",
   "execution_count": 31,
   "id": "461d5373-62b4-44c9-845d-138b683ce822",
   "metadata": {},
   "outputs": [],
   "source": [
    "with sqlite3.connect('/tmp/vehicles.db') as conn:\n",
    "    uri = 'sqlite:////tmp/vehicles.db'\n",
    "    autos.head(3).write_database(table_name='autos', connection=uri, \n",
    "                                 if_table_exists='replace')"
   ]
  },
  {
   "cell_type": "code",
   "execution_count": 32,
   "id": "2d229191-5c23-41ab-962f-c9d6d5b320ff",
   "metadata": {},
   "outputs": [],
   "source": [
    "from sqlalchemy import create_engine"
   ]
  },
  {
   "cell_type": "code",
   "execution_count": 33,
   "id": "bb74c681-0702-4a8c-8895-978191ec5766",
   "metadata": {},
   "outputs": [],
   "source": [
    "uri = 'sqlite:////Users/isisromero/desktop/polars/datasets/vehicles.db'"
   ]
  },
  {
   "cell_type": "code",
   "execution_count": 34,
   "id": "cb66a6c0-44cc-4b66-9dd2-9bc1143f4d0e",
   "metadata": {},
   "outputs": [],
   "source": [
    "# with create_engine(uri).connect() as conn:\n",
    "#     query = 'SELECT * FROM autos'\n",
    "#     a4 = pl.read_database(query=query, connection=conn)"
   ]
  },
  {
   "cell_type": "code",
   "execution_count": 35,
   "id": "04c11117-51d3-42a2-a17d-26959794126d",
   "metadata": {},
   "outputs": [],
   "source": [
    "# print(a4)"
   ]
  },
  {
   "cell_type": "markdown",
   "id": "ab893c06-ef1e-4190-9734-af4006ec28f9",
   "metadata": {},
   "source": [
    "### Using `Arrow` to Convert DataFrames"
   ]
  },
  {
   "cell_type": "code",
   "execution_count": 36,
   "id": "920813f4-45df-4d08-9ec9-f64d368d0321",
   "metadata": {},
   "outputs": [],
   "source": [
    "import duckdb"
   ]
  },
  {
   "cell_type": "code",
   "execution_count": 37,
   "id": "65f08457-f55c-41fb-bfee-4ff387f2d5e2",
   "metadata": {},
   "outputs": [],
   "source": [
    "sql = '''SELECT mean(city08) AS mean_city08,\n",
    "    mean(highway08) AS mean_highway08,\n",
    "    year\n",
    "    FROM autos\n",
    "    GROUP BY year'''"
   ]
  },
  {
   "cell_type": "code",
   "execution_count": 38,
   "id": "c38c7ac6-3a88-449f-b721-3fba20b3955a",
   "metadata": {},
   "outputs": [],
   "source": [
    "agg = duckdb.sql(sql)"
   ]
  },
  {
   "cell_type": "code",
   "execution_count": 39,
   "id": "f48d5751-106d-4191-b864-c227d3f1af2a",
   "metadata": {},
   "outputs": [
    {
     "name": "stdout",
     "output_type": "stream",
     "text": [
      "┌────────────────────┬────────────────────┬───────┐\n",
      "│    mean_city08     │   mean_highway08   │ year  │\n",
      "│       double       │       double       │ int16 │\n",
      "├────────────────────┼────────────────────┼───────┤\n",
      "│  17.87830687830688 │  23.04232804232804 │  1985 │\n",
      "│ 16.569803516028955 │ 22.671147880041364 │  1995 │\n",
      "│ 17.113300492610836 │  23.54679802955665 │  1998 │\n",
      "│ 17.982688391038696 │ 23.075356415478616 │  1984 │\n",
      "│   24.2846034214619 │ 29.767496111975117 │  2021 │\n",
      "│ 17.135170603674542 │ 23.451443569553806 │  1997 │\n",
      "│ 17.275521405049396 │  23.32821075740944 │  2001 │\n",
      "│ 17.665289256198346 │ 22.699173553719007 │  1986 │\n",
      "│  16.78065134099617 │ 22.836206896551722 │  2003 │\n",
      "│ 17.333615580016936 │ 24.018628281117696 │  2009 │\n",
      "│          ·         │          ·         │    ·  │\n",
      "│          ·         │          ·         │    ·  │\n",
      "│          ·         │          ·         │    ·  │\n",
      "│ 17.289780077619664 │  23.56921086675291 │  1996 │\n",
      "│ 16.893333333333334 │  23.03076923076923 │  2002 │\n",
      "│ 16.805530776092773 │  22.43978590544157 │  1992 │\n",
      "│  35.86305732484077 │  38.75796178343949 │  2024 │\n",
      "│ 16.851629502572898 │ 23.297598627787306 │  2005 │\n",
      "│ 17.333628318584072 │ 22.702654867256637 │  1988 │\n",
      "│ 20.656779661016948 │ 27.497457627118646 │  2013 │\n",
      "│  22.85030864197531 │ 29.627314814814813 │  2017 │\n",
      "│ 23.461766889383817 │ 29.743132887899034 │  2019 │\n",
      "│ 26.389099167297502 │  31.41786525359576 │  2022 │\n",
      "├────────────────────┴────────────────────┴───────┤\n",
      "│ 42 rows (20 shown)                    3 columns │\n",
      "└─────────────────────────────────────────────────┘\n",
      "\n"
     ]
    }
   ],
   "source": [
    "print(agg)"
   ]
  },
  {
   "cell_type": "code",
   "execution_count": 40,
   "id": "53806f85-9213-411f-83a9-c82d891a4270",
   "metadata": {},
   "outputs": [],
   "source": [
    "# Getting Pandas DataFrame outcomes\n",
    "pd_agg = agg.pl().to_pandas()"
   ]
  },
  {
   "cell_type": "code",
   "execution_count": 41,
   "id": "e1185d65-3693-4e6c-922a-268b263b39fd",
   "metadata": {},
   "outputs": [
    {
     "name": "stdout",
     "output_type": "stream",
     "text": [
      "    mean_city08  mean_highway08  year\n",
      "0     16.918534       22.725051  1994\n",
      "1     17.272300       23.552817  1999\n",
      "2     16.848940       22.253534  1991\n",
      "3     19.325480       26.070681  2012\n",
      "4     23.820350       29.780604  2020\n",
      "5     16.998170       22.780421  1993\n",
      "6     16.740642       23.064171  2004\n",
      "7     16.605684       23.083481  2007\n",
      "8     17.310345       22.445068  1987\n",
      "9     18.668739       25.168739  2011\n",
      "10    16.626812       23.048913  2006\n",
      "11    16.900590       23.455771  2008\n",
      "12    17.221429       23.414286  2000\n",
      "13    18.106691       24.950271  2010\n",
      "14    17.143972       22.465742  1989\n",
      "15    17.033395       22.337662  1990\n",
      "16    21.050736       27.987725  2014\n",
      "17    21.455113       28.590164  2015\n",
      "18    22.611852       29.309630  2018\n",
      "19    29.485714       33.742857  2023\n",
      "20    35.170084       38.342581  2025\n",
      "21    16.851630       23.297599  2005\n",
      "22    17.333628       22.702655  1988\n",
      "23    20.656780       27.497458  2013\n",
      "24    22.850309       29.627315  2017\n",
      "25    23.461767       29.743133  2019\n",
      "26    26.389099       31.417865  2022\n",
      "27    17.135171       23.451444  1997\n",
      "28    17.275521       23.328211  2001\n",
      "29    17.665289       22.699174  1986\n",
      "30    16.780651       22.836207  2003\n",
      "31    17.333616       24.018628  2009\n",
      "32    22.621835       29.623418  2016\n",
      "33    17.878307       23.042328  1985\n",
      "34    16.569804       22.671148  1995\n",
      "35    17.113300       23.546798  1998\n",
      "36    17.982688       23.075356  1984\n",
      "37    24.284603       29.767496  2021\n",
      "38    17.289780       23.569211  1996\n",
      "39    16.893333       23.030769  2002\n",
      "40    16.805531       22.439786  1992\n",
      "41    35.863057       38.757962  2024\n"
     ]
    }
   ],
   "source": [
    "print(pd_agg)"
   ]
  },
  {
   "cell_type": "code",
   "execution_count": 42,
   "id": "ae68caff-fa35-449a-b412-5aac5c34f967",
   "metadata": {},
   "outputs": [],
   "source": [
    "# Plotting outcomes\n",
    "fig, ax = plt.subplots(figsize=(10, 5))\n",
    "\n",
    "(agg\n",
    " .pl()\n",
    " .to_pandas()\n",
    " .set_index('year')\n",
    " .plot(ax=ax, title='Average MPG by Year'))\n",
    "\n",
    "fig.savefig('/Users/isisromero/desktop/polars/img/agg1.png', bbox_inches='tight')"
   ]
  },
  {
   "cell_type": "markdown",
   "id": "ca4453dc-cd7d-44ad-be79-35f7905b26ac",
   "metadata": {},
   "source": [
    "##### Sorting By"
   ]
  },
  {
   "cell_type": "code",
   "execution_count": 43,
   "id": "38944def-dd10-4e9e-81ef-1c362ae3d021",
   "metadata": {},
   "outputs": [],
   "source": [
    "autos = tweak_auto(raw)"
   ]
  },
  {
   "cell_type": "code",
   "execution_count": 44,
   "id": "eb65da5c-e96b-4977-8ba5-5e156a2dcaa2",
   "metadata": {},
   "outputs": [],
   "source": [
    "sql = '''SELECT mean(city08) AS mean_city08,\n",
    "    mean(highway08) AS mean_highway08,\n",
    "    year\n",
    "    FROM autos\n",
    "    GROUP BY year\n",
    "    ORDER BY year'''"
   ]
  },
  {
   "cell_type": "code",
   "execution_count": 45,
   "id": "6c5ef24f-ef51-4fcf-a250-b309566b630f",
   "metadata": {},
   "outputs": [],
   "source": [
    "agg = duckdb.sql(sql)"
   ]
  },
  {
   "cell_type": "code",
   "execution_count": 46,
   "id": "1b38bb89-39b4-4974-a334-58fc09102fe3",
   "metadata": {},
   "outputs": [],
   "source": [
    "fig, ax = plt.subplots(figsize=(10, 5))\n",
    "\n",
    "(agg\n",
    " .pl()\n",
    " .to_pandas()\n",
    " .set_index('year')\n",
    " .plot(ax=ax, title='Average MPG by Year'))\n",
    "\n",
    "fig.savefig('/Users/isisromero/desktop/polars/img/agg2.png', bbox_inches='tight')"
   ]
  },
  {
   "cell_type": "markdown",
   "id": "49d06be4-6b38-49d8-8c40-d1ef50fa236b",
   "metadata": {},
   "source": [
    "### Converting to Pandas"
   ]
  },
  {
   "cell_type": "code",
   "execution_count": 47,
   "id": "3cd21d16-11ca-42fd-9de6-0867cdf05b76",
   "metadata": {},
   "outputs": [],
   "source": [
    "autos2 = (autos.to_pandas(use_pyarrow_extension_array=True)\n",
    "          .pipe(pl.from_pandas)\n",
    "         )"
   ]
  },
  {
   "cell_type": "code",
   "execution_count": 48,
   "id": "c7571c08-8975-48f3-a0ec-6722247bbd83",
   "metadata": {},
   "outputs": [
    {
     "data": {
      "text/plain": [
       "False"
      ]
     },
     "execution_count": 48,
     "metadata": {},
     "output_type": "execute_result"
    }
   ],
   "source": [
    "autos2.equals(autos)"
   ]
  },
  {
   "cell_type": "markdown",
   "id": "8b6180ea-3eb0-47d8-8fe4-593e9032e441",
   "metadata": {},
   "source": [
    "## Working with Other Libraries\n",
    "\n",
    "### Using XGBoost to Predict Mileage"
   ]
  },
  {
   "cell_type": "code",
   "execution_count": 49,
   "id": "9edf58b5-c923-4a9c-b2f3-b0278213ef40",
   "metadata": {},
   "outputs": [],
   "source": [
    "# Features\n",
    "X = (autos\n",
    "     .select(cs.numeric() - cs.matches('(city08|highway08)'))\n",
    "    )"
   ]
  },
  {
   "cell_type": "code",
   "execution_count": 50,
   "id": "01935476-e722-48ae-908d-40421cb73c4d",
   "metadata": {},
   "outputs": [],
   "source": [
    "# Label\n",
    "y = (autos.select(pl.col('city08')))"
   ]
  },
  {
   "cell_type": "code",
   "execution_count": 51,
   "id": "77ab5678-8bee-4511-aa57-e9b37778be89",
   "metadata": {},
   "outputs": [
    {
     "name": "stdout",
     "output_type": "stream",
     "text": [
      "shape: (48_231, 5)\n",
      "┌──────┬───────┬───────────┬───────────┬───────────┐\n",
      "│ year ┆ displ ┆ cylinders ┆ barrels08 ┆ num_gears │\n",
      "│ ---  ┆ ---   ┆ ---       ┆ ---       ┆ ---       │\n",
      "│ i16  ┆ f32   ┆ u8        ┆ f32       ┆ u8        │\n",
      "╞══════╪═══════╪═══════════╪═══════════╪═══════════╡\n",
      "│ 1985 ┆ 2.0   ┆ 4         ┆ 14.167143 ┆ 5         │\n",
      "│ 1985 ┆ 4.9   ┆ 12        ┆ 27.046364 ┆ 5         │\n",
      "│ 1985 ┆ 2.2   ┆ 4         ┆ 11.018888 ┆ 5         │\n",
      "│ 1985 ┆ 5.2   ┆ 8         ┆ 27.046364 ┆ 3         │\n",
      "│ 1993 ┆ 2.2   ┆ 4         ┆ 15.658422 ┆ 5         │\n",
      "│ …    ┆ …     ┆ …         ┆ …         ┆ …         │\n",
      "│ 1993 ┆ 2.2   ┆ 4         ┆ 13.523182 ┆ 4         │\n",
      "│ 1993 ┆ 2.2   ┆ 4         ┆ 12.935218 ┆ 5         │\n",
      "│ 1993 ┆ 2.2   ┆ 4         ┆ 14.167143 ┆ 4         │\n",
      "│ 1993 ┆ 2.2   ┆ 4         ┆ 14.167143 ┆ 5         │\n",
      "│ 1993 ┆ 2.2   ┆ 4         ┆ 16.528334 ┆ 4         │\n",
      "└──────┴───────┴───────────┴───────────┴───────────┘\n"
     ]
    }
   ],
   "source": [
    "print(X)"
   ]
  },
  {
   "cell_type": "code",
   "execution_count": 52,
   "id": "71868aea-5129-46c6-ac65-f61815eeb33b",
   "metadata": {},
   "outputs": [
    {
     "name": "stdout",
     "output_type": "stream",
     "text": [
      "shape: (48_231, 1)\n",
      "┌────────┐\n",
      "│ city08 │\n",
      "│ ---    │\n",
      "│ u8     │\n",
      "╞════════╡\n",
      "│ 19     │\n",
      "│ 9      │\n",
      "│ 23     │\n",
      "│ 10     │\n",
      "│ 17     │\n",
      "│ …      │\n",
      "│ 19     │\n",
      "│ 20     │\n",
      "│ 18     │\n",
      "│ 18     │\n",
      "│ 16     │\n",
      "└────────┘\n"
     ]
    }
   ],
   "source": [
    "print(y)"
   ]
  },
  {
   "cell_type": "code",
   "execution_count": 53,
   "id": "73e8b84a-17c9-4c08-98d9-8b67083a974a",
   "metadata": {},
   "outputs": [],
   "source": [
    "# Splitting Prodecure\n",
    "X_train, X_test, y_train, y_test = train_test_split(X, y)"
   ]
  },
  {
   "cell_type": "code",
   "execution_count": 54,
   "id": "c4bcd26a-caa9-4ecf-9599-cb6bc703c11a",
   "metadata": {},
   "outputs": [],
   "source": [
    "# Model Regressor\n",
    "xg = xgb.XGBRegressor()"
   ]
  },
  {
   "cell_type": "code",
   "execution_count": 55,
   "id": "6530628a-71ef-47e2-8d35-4355cbb32d34",
   "metadata": {},
   "outputs": [
    {
     "data": {
      "text/html": [
       "<style>#sk-container-id-1 {\n",
       "  /* Definition of color scheme common for light and dark mode */\n",
       "  --sklearn-color-text: black;\n",
       "  --sklearn-color-line: gray;\n",
       "  /* Definition of color scheme for unfitted estimators */\n",
       "  --sklearn-color-unfitted-level-0: #fff5e6;\n",
       "  --sklearn-color-unfitted-level-1: #f6e4d2;\n",
       "  --sklearn-color-unfitted-level-2: #ffe0b3;\n",
       "  --sklearn-color-unfitted-level-3: chocolate;\n",
       "  /* Definition of color scheme for fitted estimators */\n",
       "  --sklearn-color-fitted-level-0: #f0f8ff;\n",
       "  --sklearn-color-fitted-level-1: #d4ebff;\n",
       "  --sklearn-color-fitted-level-2: #b3dbfd;\n",
       "  --sklearn-color-fitted-level-3: cornflowerblue;\n",
       "\n",
       "  /* Specific color for light theme */\n",
       "  --sklearn-color-text-on-default-background: var(--sg-text-color, var(--theme-code-foreground, var(--jp-content-font-color1, black)));\n",
       "  --sklearn-color-background: var(--sg-background-color, var(--theme-background, var(--jp-layout-color0, white)));\n",
       "  --sklearn-color-border-box: var(--sg-text-color, var(--theme-code-foreground, var(--jp-content-font-color1, black)));\n",
       "  --sklearn-color-icon: #696969;\n",
       "\n",
       "  @media (prefers-color-scheme: dark) {\n",
       "    /* Redefinition of color scheme for dark theme */\n",
       "    --sklearn-color-text-on-default-background: var(--sg-text-color, var(--theme-code-foreground, var(--jp-content-font-color1, white)));\n",
       "    --sklearn-color-background: var(--sg-background-color, var(--theme-background, var(--jp-layout-color0, #111)));\n",
       "    --sklearn-color-border-box: var(--sg-text-color, var(--theme-code-foreground, var(--jp-content-font-color1, white)));\n",
       "    --sklearn-color-icon: #878787;\n",
       "  }\n",
       "}\n",
       "\n",
       "#sk-container-id-1 {\n",
       "  color: var(--sklearn-color-text);\n",
       "}\n",
       "\n",
       "#sk-container-id-1 pre {\n",
       "  padding: 0;\n",
       "}\n",
       "\n",
       "#sk-container-id-1 input.sk-hidden--visually {\n",
       "  border: 0;\n",
       "  clip: rect(1px 1px 1px 1px);\n",
       "  clip: rect(1px, 1px, 1px, 1px);\n",
       "  height: 1px;\n",
       "  margin: -1px;\n",
       "  overflow: hidden;\n",
       "  padding: 0;\n",
       "  position: absolute;\n",
       "  width: 1px;\n",
       "}\n",
       "\n",
       "#sk-container-id-1 div.sk-dashed-wrapped {\n",
       "  border: 1px dashed var(--sklearn-color-line);\n",
       "  margin: 0 0.4em 0.5em 0.4em;\n",
       "  box-sizing: border-box;\n",
       "  padding-bottom: 0.4em;\n",
       "  background-color: var(--sklearn-color-background);\n",
       "}\n",
       "\n",
       "#sk-container-id-1 div.sk-container {\n",
       "  /* jupyter's `normalize.less` sets `[hidden] { display: none; }`\n",
       "     but bootstrap.min.css set `[hidden] { display: none !important; }`\n",
       "     so we also need the `!important` here to be able to override the\n",
       "     default hidden behavior on the sphinx rendered scikit-learn.org.\n",
       "     See: https://github.com/scikit-learn/scikit-learn/issues/21755 */\n",
       "  display: inline-block !important;\n",
       "  position: relative;\n",
       "}\n",
       "\n",
       "#sk-container-id-1 div.sk-text-repr-fallback {\n",
       "  display: none;\n",
       "}\n",
       "\n",
       "div.sk-parallel-item,\n",
       "div.sk-serial,\n",
       "div.sk-item {\n",
       "  /* draw centered vertical line to link estimators */\n",
       "  background-image: linear-gradient(var(--sklearn-color-text-on-default-background), var(--sklearn-color-text-on-default-background));\n",
       "  background-size: 2px 100%;\n",
       "  background-repeat: no-repeat;\n",
       "  background-position: center center;\n",
       "}\n",
       "\n",
       "/* Parallel-specific style estimator block */\n",
       "\n",
       "#sk-container-id-1 div.sk-parallel-item::after {\n",
       "  content: \"\";\n",
       "  width: 100%;\n",
       "  border-bottom: 2px solid var(--sklearn-color-text-on-default-background);\n",
       "  flex-grow: 1;\n",
       "}\n",
       "\n",
       "#sk-container-id-1 div.sk-parallel {\n",
       "  display: flex;\n",
       "  align-items: stretch;\n",
       "  justify-content: center;\n",
       "  background-color: var(--sklearn-color-background);\n",
       "  position: relative;\n",
       "}\n",
       "\n",
       "#sk-container-id-1 div.sk-parallel-item {\n",
       "  display: flex;\n",
       "  flex-direction: column;\n",
       "}\n",
       "\n",
       "#sk-container-id-1 div.sk-parallel-item:first-child::after {\n",
       "  align-self: flex-end;\n",
       "  width: 50%;\n",
       "}\n",
       "\n",
       "#sk-container-id-1 div.sk-parallel-item:last-child::after {\n",
       "  align-self: flex-start;\n",
       "  width: 50%;\n",
       "}\n",
       "\n",
       "#sk-container-id-1 div.sk-parallel-item:only-child::after {\n",
       "  width: 0;\n",
       "}\n",
       "\n",
       "/* Serial-specific style estimator block */\n",
       "\n",
       "#sk-container-id-1 div.sk-serial {\n",
       "  display: flex;\n",
       "  flex-direction: column;\n",
       "  align-items: center;\n",
       "  background-color: var(--sklearn-color-background);\n",
       "  padding-right: 1em;\n",
       "  padding-left: 1em;\n",
       "}\n",
       "\n",
       "\n",
       "/* Toggleable style: style used for estimator/Pipeline/ColumnTransformer box that is\n",
       "clickable and can be expanded/collapsed.\n",
       "- Pipeline and ColumnTransformer use this feature and define the default style\n",
       "- Estimators will overwrite some part of the style using the `sk-estimator` class\n",
       "*/\n",
       "\n",
       "/* Pipeline and ColumnTransformer style (default) */\n",
       "\n",
       "#sk-container-id-1 div.sk-toggleable {\n",
       "  /* Default theme specific background. It is overwritten whether we have a\n",
       "  specific estimator or a Pipeline/ColumnTransformer */\n",
       "  background-color: var(--sklearn-color-background);\n",
       "}\n",
       "\n",
       "/* Toggleable label */\n",
       "#sk-container-id-1 label.sk-toggleable__label {\n",
       "  cursor: pointer;\n",
       "  display: block;\n",
       "  width: 100%;\n",
       "  margin-bottom: 0;\n",
       "  padding: 0.5em;\n",
       "  box-sizing: border-box;\n",
       "  text-align: center;\n",
       "}\n",
       "\n",
       "#sk-container-id-1 label.sk-toggleable__label-arrow:before {\n",
       "  /* Arrow on the left of the label */\n",
       "  content: \"▸\";\n",
       "  float: left;\n",
       "  margin-right: 0.25em;\n",
       "  color: var(--sklearn-color-icon);\n",
       "}\n",
       "\n",
       "#sk-container-id-1 label.sk-toggleable__label-arrow:hover:before {\n",
       "  color: var(--sklearn-color-text);\n",
       "}\n",
       "\n",
       "/* Toggleable content - dropdown */\n",
       "\n",
       "#sk-container-id-1 div.sk-toggleable__content {\n",
       "  max-height: 0;\n",
       "  max-width: 0;\n",
       "  overflow: hidden;\n",
       "  text-align: left;\n",
       "  /* unfitted */\n",
       "  background-color: var(--sklearn-color-unfitted-level-0);\n",
       "}\n",
       "\n",
       "#sk-container-id-1 div.sk-toggleable__content.fitted {\n",
       "  /* fitted */\n",
       "  background-color: var(--sklearn-color-fitted-level-0);\n",
       "}\n",
       "\n",
       "#sk-container-id-1 div.sk-toggleable__content pre {\n",
       "  margin: 0.2em;\n",
       "  border-radius: 0.25em;\n",
       "  color: var(--sklearn-color-text);\n",
       "  /* unfitted */\n",
       "  background-color: var(--sklearn-color-unfitted-level-0);\n",
       "}\n",
       "\n",
       "#sk-container-id-1 div.sk-toggleable__content.fitted pre {\n",
       "  /* unfitted */\n",
       "  background-color: var(--sklearn-color-fitted-level-0);\n",
       "}\n",
       "\n",
       "#sk-container-id-1 input.sk-toggleable__control:checked~div.sk-toggleable__content {\n",
       "  /* Expand drop-down */\n",
       "  max-height: 200px;\n",
       "  max-width: 100%;\n",
       "  overflow: auto;\n",
       "}\n",
       "\n",
       "#sk-container-id-1 input.sk-toggleable__control:checked~label.sk-toggleable__label-arrow:before {\n",
       "  content: \"▾\";\n",
       "}\n",
       "\n",
       "/* Pipeline/ColumnTransformer-specific style */\n",
       "\n",
       "#sk-container-id-1 div.sk-label input.sk-toggleable__control:checked~label.sk-toggleable__label {\n",
       "  color: var(--sklearn-color-text);\n",
       "  background-color: var(--sklearn-color-unfitted-level-2);\n",
       "}\n",
       "\n",
       "#sk-container-id-1 div.sk-label.fitted input.sk-toggleable__control:checked~label.sk-toggleable__label {\n",
       "  background-color: var(--sklearn-color-fitted-level-2);\n",
       "}\n",
       "\n",
       "/* Estimator-specific style */\n",
       "\n",
       "/* Colorize estimator box */\n",
       "#sk-container-id-1 div.sk-estimator input.sk-toggleable__control:checked~label.sk-toggleable__label {\n",
       "  /* unfitted */\n",
       "  background-color: var(--sklearn-color-unfitted-level-2);\n",
       "}\n",
       "\n",
       "#sk-container-id-1 div.sk-estimator.fitted input.sk-toggleable__control:checked~label.sk-toggleable__label {\n",
       "  /* fitted */\n",
       "  background-color: var(--sklearn-color-fitted-level-2);\n",
       "}\n",
       "\n",
       "#sk-container-id-1 div.sk-label label.sk-toggleable__label,\n",
       "#sk-container-id-1 div.sk-label label {\n",
       "  /* The background is the default theme color */\n",
       "  color: var(--sklearn-color-text-on-default-background);\n",
       "}\n",
       "\n",
       "/* On hover, darken the color of the background */\n",
       "#sk-container-id-1 div.sk-label:hover label.sk-toggleable__label {\n",
       "  color: var(--sklearn-color-text);\n",
       "  background-color: var(--sklearn-color-unfitted-level-2);\n",
       "}\n",
       "\n",
       "/* Label box, darken color on hover, fitted */\n",
       "#sk-container-id-1 div.sk-label.fitted:hover label.sk-toggleable__label.fitted {\n",
       "  color: var(--sklearn-color-text);\n",
       "  background-color: var(--sklearn-color-fitted-level-2);\n",
       "}\n",
       "\n",
       "/* Estimator label */\n",
       "\n",
       "#sk-container-id-1 div.sk-label label {\n",
       "  font-family: monospace;\n",
       "  font-weight: bold;\n",
       "  display: inline-block;\n",
       "  line-height: 1.2em;\n",
       "}\n",
       "\n",
       "#sk-container-id-1 div.sk-label-container {\n",
       "  text-align: center;\n",
       "}\n",
       "\n",
       "/* Estimator-specific */\n",
       "#sk-container-id-1 div.sk-estimator {\n",
       "  font-family: monospace;\n",
       "  border: 1px dotted var(--sklearn-color-border-box);\n",
       "  border-radius: 0.25em;\n",
       "  box-sizing: border-box;\n",
       "  margin-bottom: 0.5em;\n",
       "  /* unfitted */\n",
       "  background-color: var(--sklearn-color-unfitted-level-0);\n",
       "}\n",
       "\n",
       "#sk-container-id-1 div.sk-estimator.fitted {\n",
       "  /* fitted */\n",
       "  background-color: var(--sklearn-color-fitted-level-0);\n",
       "}\n",
       "\n",
       "/* on hover */\n",
       "#sk-container-id-1 div.sk-estimator:hover {\n",
       "  /* unfitted */\n",
       "  background-color: var(--sklearn-color-unfitted-level-2);\n",
       "}\n",
       "\n",
       "#sk-container-id-1 div.sk-estimator.fitted:hover {\n",
       "  /* fitted */\n",
       "  background-color: var(--sklearn-color-fitted-level-2);\n",
       "}\n",
       "\n",
       "/* Specification for estimator info (e.g. \"i\" and \"?\") */\n",
       "\n",
       "/* Common style for \"i\" and \"?\" */\n",
       "\n",
       ".sk-estimator-doc-link,\n",
       "a:link.sk-estimator-doc-link,\n",
       "a:visited.sk-estimator-doc-link {\n",
       "  float: right;\n",
       "  font-size: smaller;\n",
       "  line-height: 1em;\n",
       "  font-family: monospace;\n",
       "  background-color: var(--sklearn-color-background);\n",
       "  border-radius: 1em;\n",
       "  height: 1em;\n",
       "  width: 1em;\n",
       "  text-decoration: none !important;\n",
       "  margin-left: 1ex;\n",
       "  /* unfitted */\n",
       "  border: var(--sklearn-color-unfitted-level-1) 1pt solid;\n",
       "  color: var(--sklearn-color-unfitted-level-1);\n",
       "}\n",
       "\n",
       ".sk-estimator-doc-link.fitted,\n",
       "a:link.sk-estimator-doc-link.fitted,\n",
       "a:visited.sk-estimator-doc-link.fitted {\n",
       "  /* fitted */\n",
       "  border: var(--sklearn-color-fitted-level-1) 1pt solid;\n",
       "  color: var(--sklearn-color-fitted-level-1);\n",
       "}\n",
       "\n",
       "/* On hover */\n",
       "div.sk-estimator:hover .sk-estimator-doc-link:hover,\n",
       ".sk-estimator-doc-link:hover,\n",
       "div.sk-label-container:hover .sk-estimator-doc-link:hover,\n",
       ".sk-estimator-doc-link:hover {\n",
       "  /* unfitted */\n",
       "  background-color: var(--sklearn-color-unfitted-level-3);\n",
       "  color: var(--sklearn-color-background);\n",
       "  text-decoration: none;\n",
       "}\n",
       "\n",
       "div.sk-estimator.fitted:hover .sk-estimator-doc-link.fitted:hover,\n",
       ".sk-estimator-doc-link.fitted:hover,\n",
       "div.sk-label-container:hover .sk-estimator-doc-link.fitted:hover,\n",
       ".sk-estimator-doc-link.fitted:hover {\n",
       "  /* fitted */\n",
       "  background-color: var(--sklearn-color-fitted-level-3);\n",
       "  color: var(--sklearn-color-background);\n",
       "  text-decoration: none;\n",
       "}\n",
       "\n",
       "/* Span, style for the box shown on hovering the info icon */\n",
       ".sk-estimator-doc-link span {\n",
       "  display: none;\n",
       "  z-index: 9999;\n",
       "  position: relative;\n",
       "  font-weight: normal;\n",
       "  right: .2ex;\n",
       "  padding: .5ex;\n",
       "  margin: .5ex;\n",
       "  width: min-content;\n",
       "  min-width: 20ex;\n",
       "  max-width: 50ex;\n",
       "  color: var(--sklearn-color-text);\n",
       "  box-shadow: 2pt 2pt 4pt #999;\n",
       "  /* unfitted */\n",
       "  background: var(--sklearn-color-unfitted-level-0);\n",
       "  border: .5pt solid var(--sklearn-color-unfitted-level-3);\n",
       "}\n",
       "\n",
       ".sk-estimator-doc-link.fitted span {\n",
       "  /* fitted */\n",
       "  background: var(--sklearn-color-fitted-level-0);\n",
       "  border: var(--sklearn-color-fitted-level-3);\n",
       "}\n",
       "\n",
       ".sk-estimator-doc-link:hover span {\n",
       "  display: block;\n",
       "}\n",
       "\n",
       "/* \"?\"-specific style due to the `<a>` HTML tag */\n",
       "\n",
       "#sk-container-id-1 a.estimator_doc_link {\n",
       "  float: right;\n",
       "  font-size: 1rem;\n",
       "  line-height: 1em;\n",
       "  font-family: monospace;\n",
       "  background-color: var(--sklearn-color-background);\n",
       "  border-radius: 1rem;\n",
       "  height: 1rem;\n",
       "  width: 1rem;\n",
       "  text-decoration: none;\n",
       "  /* unfitted */\n",
       "  color: var(--sklearn-color-unfitted-level-1);\n",
       "  border: var(--sklearn-color-unfitted-level-1) 1pt solid;\n",
       "}\n",
       "\n",
       "#sk-container-id-1 a.estimator_doc_link.fitted {\n",
       "  /* fitted */\n",
       "  border: var(--sklearn-color-fitted-level-1) 1pt solid;\n",
       "  color: var(--sklearn-color-fitted-level-1);\n",
       "}\n",
       "\n",
       "/* On hover */\n",
       "#sk-container-id-1 a.estimator_doc_link:hover {\n",
       "  /* unfitted */\n",
       "  background-color: var(--sklearn-color-unfitted-level-3);\n",
       "  color: var(--sklearn-color-background);\n",
       "  text-decoration: none;\n",
       "}\n",
       "\n",
       "#sk-container-id-1 a.estimator_doc_link.fitted:hover {\n",
       "  /* fitted */\n",
       "  background-color: var(--sklearn-color-fitted-level-3);\n",
       "}\n",
       "</style><div id=\"sk-container-id-1\" class=\"sk-top-container\"><div class=\"sk-text-repr-fallback\"><pre>XGBRegressor(base_score=None, booster=None, callbacks=None,\n",
       "             colsample_bylevel=None, colsample_bynode=None,\n",
       "             colsample_bytree=None, device=None, early_stopping_rounds=None,\n",
       "             enable_categorical=False, eval_metric=None, feature_types=None,\n",
       "             gamma=None, grow_policy=None, importance_type=None,\n",
       "             interaction_constraints=None, learning_rate=None, max_bin=None,\n",
       "             max_cat_threshold=None, max_cat_to_onehot=None,\n",
       "             max_delta_step=None, max_depth=None, max_leaves=None,\n",
       "             min_child_weight=None, missing=nan, monotone_constraints=None,\n",
       "             multi_strategy=None, n_estimators=None, n_jobs=None,\n",
       "             num_parallel_tree=None, random_state=None, ...)</pre><b>In a Jupyter environment, please rerun this cell to show the HTML representation or trust the notebook. <br />On GitHub, the HTML representation is unable to render, please try loading this page with nbviewer.org.</b></div><div class=\"sk-container\" hidden><div class=\"sk-item\"><div class=\"sk-estimator fitted sk-toggleable\"><input class=\"sk-toggleable__control sk-hidden--visually\" id=\"sk-estimator-id-1\" type=\"checkbox\" checked><label for=\"sk-estimator-id-1\" class=\"sk-toggleable__label fitted sk-toggleable__label-arrow fitted\">&nbsp;XGBRegressor<span class=\"sk-estimator-doc-link fitted\">i<span>Fitted</span></span></label><div class=\"sk-toggleable__content fitted\"><pre>XGBRegressor(base_score=None, booster=None, callbacks=None,\n",
       "             colsample_bylevel=None, colsample_bynode=None,\n",
       "             colsample_bytree=None, device=None, early_stopping_rounds=None,\n",
       "             enable_categorical=False, eval_metric=None, feature_types=None,\n",
       "             gamma=None, grow_policy=None, importance_type=None,\n",
       "             interaction_constraints=None, learning_rate=None, max_bin=None,\n",
       "             max_cat_threshold=None, max_cat_to_onehot=None,\n",
       "             max_delta_step=None, max_depth=None, max_leaves=None,\n",
       "             min_child_weight=None, missing=nan, monotone_constraints=None,\n",
       "             multi_strategy=None, n_estimators=None, n_jobs=None,\n",
       "             num_parallel_tree=None, random_state=None, ...)</pre></div> </div></div></div></div>"
      ],
      "text/plain": [
       "XGBRegressor(base_score=None, booster=None, callbacks=None,\n",
       "             colsample_bylevel=None, colsample_bynode=None,\n",
       "             colsample_bytree=None, device=None, early_stopping_rounds=None,\n",
       "             enable_categorical=False, eval_metric=None, feature_types=None,\n",
       "             gamma=None, grow_policy=None, importance_type=None,\n",
       "             interaction_constraints=None, learning_rate=None, max_bin=None,\n",
       "             max_cat_threshold=None, max_cat_to_onehot=None,\n",
       "             max_delta_step=None, max_depth=None, max_leaves=None,\n",
       "             min_child_weight=None, missing=nan, monotone_constraints=None,\n",
       "             multi_strategy=None, n_estimators=None, n_jobs=None,\n",
       "             num_parallel_tree=None, random_state=None, ...)"
      ]
     },
     "execution_count": 55,
     "metadata": {},
     "output_type": "execute_result"
    }
   ],
   "source": [
    "# Fitting Model\n",
    "xg.fit(X_train, y_train)"
   ]
  },
  {
   "cell_type": "code",
   "execution_count": 56,
   "id": "8163871e-56eb-4b07-8e28-fa54e7e69b0f",
   "metadata": {},
   "outputs": [
    {
     "data": {
      "text/plain": [
       "0.9917415380477905"
      ]
     },
     "execution_count": 56,
     "metadata": {},
     "output_type": "execute_result"
    }
   ],
   "source": [
    "# Getting score\n",
    "xg.score(X_test, y_test)"
   ]
  },
  {
   "cell_type": "markdown",
   "id": "c67b5acd-91d2-4a5f-8adf-b5ffba95afb0",
   "metadata": {},
   "source": [
    "### Plotting Residuals"
   ]
  },
  {
   "cell_type": "code",
   "execution_count": 57,
   "id": "0c918b0e-0b76-40d7-b9d6-e51376fbca3a",
   "metadata": {},
   "outputs": [],
   "source": [
    "residuals = y_test.to_series() - xg.predict(X_test) "
   ]
  },
  {
   "cell_type": "code",
   "execution_count": 58,
   "id": "6a49102d-43b9-4295-b3e2-213ed9cf6b68",
   "metadata": {},
   "outputs": [
    {
     "name": "stdout",
     "output_type": "stream",
     "text": [
      "shape: (12_058,)\n",
      "Series: 'city08' [f32]\n",
      "[\n",
      "\t-0.931131\n",
      "\t0.365319\n",
      "\t1.016228\n",
      "\t1.363846\n",
      "\t0.539216\n",
      "\t…\n",
      "\t0.278222\n",
      "\t-5.394417\n",
      "\t0.027104\n",
      "\t0.871807\n",
      "\t-0.27842\n",
      "]\n"
     ]
    }
   ],
   "source": [
    "print(residuals)"
   ]
  },
  {
   "cell_type": "code",
   "execution_count": 59,
   "id": "8be7eaca-f925-48ba-abd6-a9528d861cba",
   "metadata": {},
   "outputs": [],
   "source": [
    "fig, ax = plt.subplots(figsize=(10, 5))"
   ]
  },
  {
   "cell_type": "code",
   "execution_count": 60,
   "id": "4b9533ed-cc04-4d41-9508-0029897c7161",
   "metadata": {},
   "outputs": [],
   "source": [
    "fig, ax = plt.subplots(figsize=(10, 5))\n",
    "\n",
    "ax.scatter(y_test, residuals)\n",
    "ax.scatter(pl.DataFrame(xg.predict(X_test)) , residuals, alpha=0.1)\n",
    "ax.set_title('City MPG Residuals vs. Predicted City MPG')\n",
    "ax.set_xlabel('Predicted City MPG')\n",
    "ax.set_ylabel('Residuals')\n",
    "\n",
    "fig.savefig('/Users/isisromero/desktop/polars/img/agg3.png', bbox_inches='tight')"
   ]
  },
  {
   "cell_type": "markdown",
   "id": "1c16fb4d-9832-4587-9c0b-054fafd4f140",
   "metadata": {},
   "source": [
    "### PCA of The Autos Data"
   ]
  },
  {
   "cell_type": "code",
   "execution_count": 61,
   "id": "1e583946-f159-470e-9f77-cd29de5d3058",
   "metadata": {},
   "outputs": [],
   "source": [
    "# Setting Up\n",
    "sklearn.set_config(transform_output='polars')"
   ]
  },
  {
   "cell_type": "code",
   "execution_count": 63,
   "id": "5055bdb5-985b-45ac-97f5-fcbd0431b155",
   "metadata": {},
   "outputs": [],
   "source": [
    "# Placing StandardScaler()\n",
    "std = preprocessing.StandardScaler()"
   ]
  },
  {
   "cell_type": "code",
   "execution_count": 64,
   "id": "6357dd0e-a0ff-4759-9f38-2ea5af9cf849",
   "metadata": {},
   "outputs": [],
   "source": [
    "X_std = std.fit_transform(\n",
    "    autos.select(pl.col(['displ', 'cylinders', 'barrels08', 'city08', 'highway08'])\n",
    "                 .fill_null(0)))"
   ]
  },
  {
   "cell_type": "code",
   "execution_count": 65,
   "id": "9f03ea41-6656-41dd-b862-acba16fa71e2",
   "metadata": {},
   "outputs": [],
   "source": [
    "# PCA Model\n",
    "pca = decomposition.PCA(n_components=2)"
   ]
  },
  {
   "cell_type": "code",
   "execution_count": 66,
   "id": "f2420fec-bc60-44f9-8c9a-e4b45929a1e3",
   "metadata": {},
   "outputs": [],
   "source": [
    "# Fitting Model\n",
    "res = pca.fit_transform(X_std)"
   ]
  },
  {
   "cell_type": "code",
   "execution_count": 67,
   "id": "56ee1328-adbe-4348-b088-2dfb20dd5121",
   "metadata": {},
   "outputs": [
    {
     "name": "stdout",
     "output_type": "stream",
     "text": [
      "shape: (48_231, 2)\n",
      "┌───────────┬───────────┐\n",
      "│ pca0      ┆ pca1      │\n",
      "│ ---       ┆ ---       │\n",
      "│ f64       ┆ f64       │\n",
      "╞═══════════╪═══════════╡\n",
      "│ -0.767061 ┆ -0.897247 │\n",
      "│ 4.078251  ┆ 1.287975  │\n",
      "│ -1.490803 ┆ -0.351204 │\n",
      "│ 3.296114  ┆ 0.431262  │\n",
      "│ -0.402969 ┆ -0.975991 │\n",
      "│ …         ┆ …         │\n",
      "│ -0.811728 ┆ -0.789896 │\n",
      "│ -0.987886 ┆ -0.669054 │\n",
      "│ -0.629879 ┆ -0.90998  │\n",
      "│ -0.629879 ┆ -0.90998  │\n",
      "│ -0.198157 ┆ -1.093019 │\n",
      "└───────────┴───────────┘\n"
     ]
    }
   ],
   "source": [
    "print(res)"
   ]
  },
  {
   "cell_type": "code",
   "execution_count": 68,
   "id": "1f91084b-7450-40d6-9458-d4b06a3a0598",
   "metadata": {},
   "outputs": [],
   "source": [
    "def fix_naming(name):\n",
    "    return f'{name.upper()[:2]}{int(name[-1])+1}'   "
   ]
  },
  {
   "cell_type": "code",
   "execution_count": 69,
   "id": "1ecff57c-ccda-41dd-bfad-16ae19f4af78",
   "metadata": {},
   "outputs": [
    {
     "ename": "TypeError",
     "evalue": "_EncodingMixin.encode() got an unexpected keyword argument 'title'",
     "output_type": "error",
     "traceback": [
      "\u001b[0;31m---------------------------------------------------------------------------\u001b[0m",
      "\u001b[0;31mTypeError\u001b[0m                                 Traceback (most recent call last)",
      "Cell \u001b[0;32mIn[69], line 4\u001b[0m\n\u001b[1;32m      1\u001b[0m (res\n\u001b[1;32m      2\u001b[0m  \u001b[38;5;241m.\u001b[39mrename(fix_naming)\n\u001b[1;32m      3\u001b[0m  \u001b[38;5;241m.\u001b[39mwith_columns(color\u001b[38;5;241m=\u001b[39mautos[\u001b[38;5;124m'\u001b[39m\u001b[38;5;124mcylinders\u001b[39m\u001b[38;5;124m'\u001b[39m])\n\u001b[0;32m----> 4\u001b[0m  \u001b[38;5;241m.\u001b[39mplot\u001b[38;5;241m.\u001b[39mscatter(\u001b[38;5;124m'\u001b[39m\u001b[38;5;124mPC1\u001b[39m\u001b[38;5;124m'\u001b[39m, \u001b[38;5;124m'\u001b[39m\u001b[38;5;124mPC2\u001b[39m\u001b[38;5;124m'\u001b[39m, color\u001b[38;5;241m=\u001b[39m\u001b[38;5;124m'\u001b[39m\u001b[38;5;124mcolor\u001b[39m\u001b[38;5;124m'\u001b[39m, title\u001b[38;5;241m=\u001b[39m\u001b[38;5;124m'\u001b[39m\u001b[38;5;124mPCA of Autos\u001b[39m\u001b[38;5;124m'\u001b[39m, cmap\u001b[38;5;241m=\u001b[39m\u001b[38;5;124m'\u001b[39m\u001b[38;5;124mviridis\u001b[39m\u001b[38;5;124m'\u001b[39m)\n\u001b[1;32m      5\u001b[0m )\n",
      "File \u001b[0;32m~/anaconda3/envs/polars/lib/python3.11/site-packages/polars/dataframe/plotting.py:227\u001b[0m, in \u001b[0;36mDataFramePlot.point\u001b[0;34m(self, x, y, color, size, **kwargs)\u001b[0m\n\u001b[1;32m    224\u001b[0m \u001b[38;5;28;01mif\u001b[39;00m size \u001b[38;5;129;01mis\u001b[39;00m \u001b[38;5;129;01mnot\u001b[39;00m \u001b[38;5;28;01mNone\u001b[39;00m:\n\u001b[1;32m    225\u001b[0m     encodings[\u001b[38;5;124m\"\u001b[39m\u001b[38;5;124msize\u001b[39m\u001b[38;5;124m\"\u001b[39m] \u001b[38;5;241m=\u001b[39m size\n\u001b[1;32m    226\u001b[0m \u001b[38;5;28;01mreturn\u001b[39;00m (\n\u001b[0;32m--> 227\u001b[0m     \u001b[38;5;28mself\u001b[39m\u001b[38;5;241m.\u001b[39m_chart\u001b[38;5;241m.\u001b[39mmark_point(tooltip\u001b[38;5;241m=\u001b[39m\u001b[38;5;28;01mTrue\u001b[39;00m)\n\u001b[1;32m    228\u001b[0m     \u001b[38;5;241m.\u001b[39mencode(\n\u001b[1;32m    229\u001b[0m         \u001b[38;5;241m*\u001b[39m\u001b[38;5;241m*\u001b[39mencodings,\n\u001b[1;32m    230\u001b[0m         \u001b[38;5;241m*\u001b[39m\u001b[38;5;241m*\u001b[39mkwargs,\n\u001b[1;32m    231\u001b[0m     )\n\u001b[1;32m    232\u001b[0m     \u001b[38;5;241m.\u001b[39minteractive()\n\u001b[1;32m    233\u001b[0m )\n",
      "\u001b[0;31mTypeError\u001b[0m: _EncodingMixin.encode() got an unexpected keyword argument 'title'"
     ]
    }
   ],
   "source": [
    "(res\n",
    " .rename(fix_naming)\n",
    " .with_columns(color=autos['cylinders'])\n",
    " .plot.scatter('PC1', 'PC2', color='color', title='PCA of Autos', cmap='viridis')\n",
    ")"
   ]
  },
  {
   "cell_type": "code",
   "execution_count": 75,
   "id": "3f501103-3597-463a-8cb7-5b29b09fb4ac",
   "metadata": {},
   "outputs": [
    {
     "name": "stdout",
     "output_type": "stream",
     "text": [
      "Index(['pca0', 'pca1'], dtype='object')\n"
     ]
    }
   ],
   "source": [
    "print(sampled_data.columns)"
   ]
  },
  {
   "cell_type": "code",
   "execution_count": 76,
   "id": "029c4112-fd12-4aea-a7ce-4f6d8589f5ce",
   "metadata": {},
   "outputs": [
    {
     "name": "stdout",
     "output_type": "stream",
     "text": [
      "['year', 'make', 'model', 'displ', 'cylinders', 'trany', 'drive', 'VClass', 'fuelType', 'barrels08', 'city08', 'highway08', 'createdOn', 'is_automatic', 'num_gears']\n"
     ]
    }
   ],
   "source": [
    "print(autos.columns)"
   ]
  },
  {
   "cell_type": "code",
   "execution_count": 77,
   "id": "92677918-2ca1-40cb-86ce-eb574e4f4588",
   "metadata": {},
   "outputs": [],
   "source": [
    "res = res.with_columns(color=autos[\"cylinders\"])"
   ]
  },
  {
   "cell_type": "code",
   "execution_count": 78,
   "id": "5708f8d4-2596-46ce-9e64-d37728e5ece4",
   "metadata": {},
   "outputs": [
    {
     "name": "stdout",
     "output_type": "stream",
     "text": [
      "['pca0', 'pca1', 'color']\n"
     ]
    }
   ],
   "source": [
    "print(res.columns)"
   ]
  },
  {
   "cell_type": "code",
   "execution_count": 79,
   "id": "45ca84db-0cd4-46fc-a934-0f1937e89c89",
   "metadata": {},
   "outputs": [
    {
     "name": "stdout",
     "output_type": "stream",
     "text": [
      "Index(['pca0', 'pca1', 'color'], dtype='object')\n"
     ]
    }
   ],
   "source": [
    "sampled_data = res.sample(n=5000).to_pandas()\n",
    "\n",
    "print(sampled_data.columns)"
   ]
  },
  {
   "cell_type": "code",
   "execution_count": 80,
   "id": "8742c59f-f42b-4499-8036-9ed43ded087b",
   "metadata": {},
   "outputs": [],
   "source": [
    "sampled_data[\"color\"] = sampled_data[\"color\"].fillna(0)"
   ]
  },
  {
   "cell_type": "code",
   "execution_count": 83,
   "id": "4f6f6c13-7a49-4aad-82f6-5e71fd818ec5",
   "metadata": {},
   "outputs": [
    {
     "data": {
      "text/html": [
       "\n",
       "<style>\n",
       "  #altair-viz-9c6bc27c78c244d3ba640aef105c7ff1.vega-embed {\n",
       "    width: 100%;\n",
       "    display: flex;\n",
       "  }\n",
       "\n",
       "  #altair-viz-9c6bc27c78c244d3ba640aef105c7ff1.vega-embed details,\n",
       "  #altair-viz-9c6bc27c78c244d3ba640aef105c7ff1.vega-embed details summary {\n",
       "    position: relative;\n",
       "  }\n",
       "</style>\n",
       "<div id=\"altair-viz-9c6bc27c78c244d3ba640aef105c7ff1\"></div>\n",
       "<script type=\"text/javascript\">\n",
       "  var VEGA_DEBUG = (typeof VEGA_DEBUG == \"undefined\") ? {} : VEGA_DEBUG;\n",
       "  (function(spec, embedOpt){\n",
       "    let outputDiv = document.currentScript.previousElementSibling;\n",
       "    if (outputDiv.id !== \"altair-viz-9c6bc27c78c244d3ba640aef105c7ff1\") {\n",
       "      outputDiv = document.getElementById(\"altair-viz-9c6bc27c78c244d3ba640aef105c7ff1\");\n",
       "    }\n",
       "\n",
       "    const paths = {\n",
       "      \"vega\": \"https://cdn.jsdelivr.net/npm/vega@5?noext\",\n",
       "      \"vega-lib\": \"https://cdn.jsdelivr.net/npm/vega-lib?noext\",\n",
       "      \"vega-lite\": \"https://cdn.jsdelivr.net/npm/vega-lite@5.20.1?noext\",\n",
       "      \"vega-embed\": \"https://cdn.jsdelivr.net/npm/vega-embed@6?noext\",\n",
       "    };\n",
       "\n",
       "    function maybeLoadScript(lib, version) {\n",
       "      var key = `${lib.replace(\"-\", \"\")}_version`;\n",
       "      return (VEGA_DEBUG[key] == version) ?\n",
       "        Promise.resolve(paths[lib]) :\n",
       "        new Promise(function(resolve, reject) {\n",
       "          var s = document.createElement('script');\n",
       "          document.getElementsByTagName(\"head\")[0].appendChild(s);\n",
       "          s.async = true;\n",
       "          s.onload = () => {\n",
       "            VEGA_DEBUG[key] = version;\n",
       "            return resolve(paths[lib]);\n",
       "          };\n",
       "          s.onerror = () => reject(`Error loading script: ${paths[lib]}`);\n",
       "          s.src = paths[lib];\n",
       "        });\n",
       "    }\n",
       "\n",
       "    function showError(err) {\n",
       "      outputDiv.innerHTML = `<div class=\"error\" style=\"color:red;\">${err}</div>`;\n",
       "      throw err;\n",
       "    }\n",
       "\n",
       "    function displayChart(vegaEmbed) {\n",
       "      vegaEmbed(outputDiv, spec, embedOpt)\n",
       "        .catch(err => showError(`Javascript Error: ${err.message}<br>This usually means there's a typo in your chart specification. See the javascript console for the full traceback.`));\n",
       "    }\n",
       "\n",
       "    if(typeof define === \"function\" && define.amd) {\n",
       "      requirejs.config({paths});\n",
       "      let deps = [\"vega-embed\"];\n",
       "      require(deps, displayChart, err => showError(`Error loading script: ${err.message}`));\n",
       "    } else {\n",
       "      maybeLoadScript(\"vega\", \"5\")\n",
       "        .then(() => maybeLoadScript(\"vega-lite\", \"5.20.1\"))\n",
       "        .then(() => maybeLoadScript(\"vega-embed\", \"6\"))\n",
       "        .catch(showError)\n",
       "        .then(() => displayChart(vegaEmbed));\n",
       "    }\n",
       "  })({\"config\": {\"view\": {\"continuousWidth\": 300, \"continuousHeight\": 300}}, \"data\": {\"name\": \"data-8752f61abfec213e4f418a5110ce22f4\"}, \"mark\": {\"type\": \"point\"}, \"encoding\": {\"color\": {\"field\": \"color\", \"scale\": {\"scheme\": \"viridis\"}, \"title\": \"Cylinders\", \"type\": \"quantitative\"}, \"x\": {\"field\": \"pca0\", \"title\": \"PC1\", \"type\": \"quantitative\"}, \"y\": {\"field\": \"pca1\", \"title\": \"PC2\", \"type\": \"quantitative\"}}, \"height\": 400, \"title\": \"PCA of Autos\", \"width\": 600, \"$schema\": \"https://vega.github.io/schema/vega-lite/v5.20.1.json\", \"datasets\": {\"data-8752f61abfec213e4f418a5110ce22f4\": [{\"pca0\": 1.0116949999387197, \"pca1\": -0.4125184945334723, \"color\": 6.0}, {\"pca0\": 2.3999057208393046, \"pca1\": 1.2151706246499967, \"color\": 8.0}, {\"pca0\": 5.95923092716271, \"pca1\": 3.35164149346507, \"color\": 16.0}, {\"pca0\": 0.5051838410182907, \"pca1\": 0.11586292470317659, \"color\": 6.0}, {\"pca0\": 3.5125066562405007, \"pca1\": 0.6883296304851122, \"color\": 8.0}, {\"pca0\": 2.0435003910067735, \"pca1\": 0.8262306531957572, \"color\": 8.0}, {\"pca0\": 0.8081791423416246, \"pca1\": 0.7188892678880663, \"color\": 8.0}, {\"pca0\": -1.1865861584539668, \"pca1\": -0.664565566222316, \"color\": 4.0}, {\"pca0\": 2.829304593256005, \"pca1\": 0.7726217143725684, \"color\": 8.0}, {\"pca0\": 0.5037398220107511, \"pca1\": -0.3375694946724399, \"color\": 6.0}, {\"pca0\": -0.0033376310024970618, \"pca1\": -0.06834959285044827, \"color\": 6.0}, {\"pca0\": 2.510036394377339, \"pca1\": 0.4847198729981786, \"color\": 8.0}, {\"pca0\": 0.4085480996480245, \"pca1\": -0.1887516397268538, \"color\": 6.0}, {\"pca0\": 0.037711946168701424, \"pca1\": -0.110962711343746, \"color\": 6.0}, {\"pca0\": -2.071193475091778, \"pca1\": 0.21437722151569424, \"color\": 4.0}, {\"pca0\": 2.2134707586886315, \"pca1\": 0.4762979995439078, \"color\": 8.0}, {\"pca0\": 0.14058792466533498, \"pca1\": -0.08012801233500173, \"color\": 6.0}, {\"pca0\": 0.1917999966923089, \"pca1\": -0.18660784144522283, \"color\": 6.0}, {\"pca0\": -2.0216180315295484, \"pca1\": -0.4420582584722839, \"color\": 4.0}, {\"pca0\": 2.0232275642870152, \"pca1\": 0.9849046201277941, \"color\": 8.0}, {\"pca0\": -0.9696863824172104, \"pca1\": -0.8932231770991295, \"color\": 4.0}, {\"pca0\": 0.1541971734078778, \"pca1\": -1.0598568601716993, \"color\": 4.0}, {\"pca0\": 1.4691469050779196, \"pca1\": 0.5353125877561647, \"color\": 8.0}, {\"pca0\": -0.7532940146295858, \"pca1\": -0.6361558596202828, \"color\": 4.0}, {\"pca0\": -1.2505068848529262, \"pca1\": -0.511643246467326, \"color\": 4.0}, {\"pca0\": -1.5458851678612555, \"pca1\": -0.4236966453252965, \"color\": 4.0}, {\"pca0\": 0.14400618496026463, \"pca1\": -0.14494976045801566, \"color\": 6.0}, {\"pca0\": 3.7839811907927148, \"pca1\": 1.0178897279599106, \"color\": 8.0}, {\"pca0\": 0.30531638598329996, \"pca1\": 0.03962477702487963, \"color\": 6.0}, {\"pca0\": 2.9321806454554347, \"pca1\": 0.8034565009379132, \"color\": 8.0}, {\"pca0\": 1.4596861484571835, \"pca1\": 0.7126258495088978, \"color\": 8.0}, {\"pca0\": 0.034597876232965286, \"pca1\": 0.22850990957206901, \"color\": 6.0}, {\"pca0\": 1.7642463221117042, \"pca1\": 0.7874457767771252, \"color\": 8.0}, {\"pca0\": 3.7429316136215163, \"pca1\": 1.0605028464532085, \"color\": 8.0}, {\"pca0\": 0.18214149927101192, \"pca1\": 0.15199377209907713, \"color\": 6.0}, {\"pca0\": 1.2548742130369774, \"pca1\": 0.829653967939649, \"color\": 8.0}, {\"pca0\": 0.034597876232965286, \"pca1\": 0.22850990957206901, \"color\": 6.0}, {\"pca0\": -1.2645394744463168, \"pca1\": -0.626749144956575, \"color\": 4.0}, {\"pca0\": -0.3653112753239318, \"pca1\": -0.9383115979865569, \"color\": 4.0}, {\"pca0\": 1.4961639663585236, \"pca1\": 0.37759365833021846, \"color\": 8.0}, {\"pca0\": 0.305672121151391, \"pca1\": -0.21958633873559807, \"color\": 6.0}, {\"pca0\": 2.2346994172855537, \"pca1\": 0.8361532927684342, \"color\": 8.0}, {\"pca0\": -1.0561891212422507, \"pca1\": -0.5167148937121415, \"color\": 4.0}, {\"pca0\": 2.009195048396421, \"pca1\": 0.8697988091951453, \"color\": 8.0}, {\"pca0\": 0.6240004458625878, \"pca1\": -0.11038183869624688, \"color\": 6.0}, {\"pca0\": 0.5104840565715968, \"pca1\": -0.3366144571663493, \"color\": 6.0}, {\"pca0\": 1.875405832385672, \"pca1\": 0.8022401576570797, \"color\": 8.0}, {\"pca0\": -0.8356312285008552, \"pca1\": -0.9716493895843025, \"color\": 4.0}, {\"pca0\": 0.5153202543781698, \"pca1\": 0.036525941237158126, \"color\": 6.0}, {\"pca0\": -1.0325643124634765, \"pca1\": -0.5941418897225794, \"color\": 4.0}, {\"pca0\": -0.9286368052460119, \"pca1\": -0.9358362955924272, \"color\": 4.0}, {\"pca0\": 1.741495158348526, \"pca1\": -0.1817128116390527, \"color\": 6.0}, {\"pca0\": -1.3055890516175153, \"pca1\": -0.5841360264632772, \"color\": 4.0}, {\"pca0\": -2.1874142820941134, \"pca1\": -0.23920883098951412, \"color\": 4.0}, {\"pca0\": 2.536131283771923, \"pca1\": 0.6839079950593898, \"color\": 8.0}, {\"pca0\": 3.695971002210872, \"pca1\": 1.982262207089982, \"color\": 12.0}, {\"pca0\": -0.5854114340414599, \"pca1\": -1.0174148581831255, \"color\": 4.0}, {\"pca0\": -0.6197167766518127, \"pca1\": -0.9738467021837374, \"color\": 4.0}, {\"pca0\": 2.1177908491955293, \"pca1\": 0.6902126952704406, \"color\": 8.0}, {\"pca0\": -1.584953156978553, \"pca1\": -0.12156133332477254, \"color\": 4.0}, {\"pca0\": -0.010559781501924938, \"pca1\": -0.3285692604348204, \"color\": 6.0}, {\"pca0\": 1.799731245192882, \"pca1\": 1.116588714435228, \"color\": 8.0}, {\"pca0\": -0.9361963619765942, \"pca1\": -0.516269199770437, \"color\": 4.0}, {\"pca0\": -0.5028744130949055, \"pca1\": -0.6818372980845304, \"color\": 4.0}, {\"pca0\": -0.9159236089596322, \"pca1\": -0.6749432542590744, \"color\": 4.0}, {\"pca0\": 0.24384571982595588, \"pca1\": -0.29303415623764006, \"color\": 6.0}, {\"pca0\": 1.0174148959439906, \"pca1\": -0.622939219910321, \"color\": 6.0}, {\"pca0\": 1.1802935559943, \"pca1\": -0.1137930960674183, \"color\": 6.0}, {\"pca0\": 1.3304430051018816, \"pca1\": -0.06125733800144385, \"color\": 6.0}, {\"pca0\": -0.03062063018870689, \"pca1\": 0.2353542005987366, \"color\": 6.0}, {\"pca0\": 1.5012397967656566, \"pca1\": 0.9447477214995771, \"color\": 8.0}, {\"pca0\": -1.0840180938779378, \"pca1\": -0.6989336622411512, \"color\": 4.0}, {\"pca0\": 3.8559840712149267, \"pca1\": 0.6377757312837801, \"color\": 8.0}, {\"pca0\": 0.22319107644221042, \"pca1\": 0.10938065360577943, \"color\": 6.0}, {\"pca0\": -1.231844319475997, \"pca1\": -0.3631392381621673, \"color\": 4.0}, {\"pca0\": -0.4859276343438596, \"pca1\": -0.9062881382022724, \"color\": 4.0}, {\"pca0\": -3.1693321442093496, \"pca1\": 0.6733555887904129, \"color\": 4.0}, {\"pca0\": -2.2170185566772096, \"pca1\": -0.3685596147301635, \"color\": 4.0}, {\"pca0\": 0.10970084234991191, \"pca1\": -0.10138160445862736, \"color\": 6.0}, {\"pca0\": -0.37205550988477754, \"pca1\": -0.9392666354926476, \"color\": 4.0}, {\"pca0\": 1.5123162316985967, \"pca1\": 1.0441082544817988, \"color\": 8.0}, {\"pca0\": 0.3598142663429191, \"pca1\": -0.3257910751878864, \"color\": 6.0}, {\"pca0\": 0.41244427588153626, \"pca1\": 0.0056912422284138625, \"color\": 6.0}, {\"pca0\": -1.4274598631093849, \"pca1\": -0.5041456196456744, \"color\": 4.0}, {\"pca0\": 0.00029253362261255335, \"pca1\": 0.27207806557145736, \"color\": 6.0}, {\"pca0\": -1.3864102859381864, \"pca1\": -0.546758738138972, \"color\": 4.0}, {\"pca0\": -2.2696170277180756, \"pca1\": 0.10531951747445525, \"color\": 4.0}, {\"pca0\": 1.4596861484571835, \"pca1\": 0.7126258495088978, \"color\": 8.0}, {\"pca0\": -0.7842071784409053, \"pca1\": -0.6728797245930035, \"color\": 4.0}, {\"pca0\": 1.5377176146669966, \"pca1\": 0.6097155303208979, \"color\": 8.0}, {\"pca0\": -1.1180155225676858, \"pca1\": -0.5901627112141835, \"color\": 4.0}, {\"pca0\": -0.5438577857329868, \"pca1\": -0.7852929861924461, \"color\": 4.0}, {\"pca0\": -0.18959025483633601, \"pca1\": 0.34301665946572385, \"color\": 6.0}, {\"pca0\": -0.5028744130949055, \"pca1\": -0.6818372980845304, \"color\": 4.0}, {\"pca0\": 0.5220644889390156, \"pca1\": 0.03748097874324866, \"color\": 6.0}, {\"pca0\": 2.5535158554243305, \"pca1\": 0.880260864470238, \"color\": 8.0}, {\"pca0\": 0.6846471930144019, \"pca1\": -0.40964520240829627, \"color\": 6.0}, {\"pca0\": 1.9097111749960245, \"pca1\": 0.7586720016576916, \"color\": 8.0}, {\"pca0\": -1.1115391525930203, \"pca1\": -0.8159496357425814, \"color\": 4.0}, {\"pca0\": 0.2917617123284913, \"pca1\": 0.18378350861391202, \"color\": 6.0}, {\"pca0\": -0.9842263802597329, \"pca1\": -0.5226041472327185, \"color\": 4.0}, {\"pca0\": 1.0792412972694259, \"pca1\": -0.549491402408279, \"color\": 6.0}, {\"pca0\": -1.7370928944598005, \"pca1\": -0.5313918830704957, \"color\": 4.0}, {\"pca0\": -0.18518659665089643, \"pca1\": 0.05173470062193189, \"color\": 6.0}, {\"pca0\": 0.46943447940039834, \"pca1\": -0.2940013386730516, \"color\": 6.0}, {\"pca0\": -2.289856177314095, \"pca1\": -0.2373761313054677, \"color\": 4.0}, {\"pca0\": -1.7916309407526905, \"pca1\": -0.49068883958937887, \"color\": 4.0}, {\"pca0\": 1.6421328903801184, \"pca1\": 0.6235548736947617, \"color\": 8.0}, {\"pca0\": 1.3775869941147865, \"pca1\": 0.7978520864954932, \"color\": 8.0}, {\"pca0\": 1.1921078638412772, \"pca1\": 0.5775087215459678, \"color\": 8.0}, {\"pca0\": 0.4626902448395527, \"pca1\": -0.29495637617914217, \"color\": 6.0}, {\"pca0\": -0.4724391652221681, \"pca1\": -0.9043780631900912, \"color\": 4.0}, {\"pca0\": 2.0435003910067735, \"pca1\": 0.8262306531957572, \"color\": 8.0}, {\"pca0\": -1.8839326761366857, \"pca1\": -0.18005676875725116, \"color\": 4.0}, {\"pca0\": 0.4911512514249, \"pca1\": 0.0007570262139273841, \"color\": 6.0}, {\"pca0\": 1.141067698594861, \"pca1\": -0.4760435849062369, \"color\": 6.0}, {\"pca0\": 0.5829508686913893, \"pca1\": -0.06776872020294916, \"color\": 6.0}, {\"pca0\": 0.032510893348380775, \"pca1\": -0.8617121292570181, \"color\": 5.0}, {\"pca0\": 1.7586816680216835, \"pca1\": 1.1592018329285259, \"color\": 8.0}, {\"pca0\": 1.7586816680216835, \"pca1\": 1.1592018329285259, \"color\": 8.0}, {\"pca0\": -0.7532940146295858, \"pca1\": -0.6361558596202828, \"color\": 4.0}, {\"pca0\": -2.096518582397144, \"pca1\": 0.09569037785809528, \"color\": 4.0}, {\"pca0\": -0.7738048271754202, \"pca1\": -0.8982015720822605, \"color\": 4.0}, {\"pca0\": -1.5443253723023482, \"pca1\": -0.19689761335951114, \"color\": 4.0}, {\"pca0\": -8.42409486666024, \"pca1\": 2.6423980575952752, \"color\": 0.0}, {\"pca0\": -0.07869255078404827, \"pca1\": 0.017831681642237737, \"color\": 6.0}, {\"pca0\": -1.303494689692593, \"pca1\": -0.8105061199420093, \"color\": 4.0}, {\"pca0\": -0.9637174206916764, \"pca1\": -0.6332851732718673, \"color\": 4.0}, {\"pca0\": -1.2208915010643195, \"pca1\": -0.6209974102229278, \"color\": 4.0}, {\"pca0\": 1.1976782750522994, \"pca1\": 0.08255994845663091, \"color\": 6.0}, {\"pca0\": 0.058222758714535854, \"pca1\": 0.15108300111823172, \"color\": 6.0}, {\"pca0\": 0.3810270409329422, \"pca1\": -0.30576761322828405, \"color\": 6.0}, {\"pca0\": -0.31697334312018827, \"pca1\": -0.8667738554966962, \"color\": 4.0}, {\"pca0\": 1.7759219589852753, \"pca1\": 0.691113350119626, \"color\": 8.0}, {\"pca0\": -0.9146042156526211, \"pca1\": -0.8207303971031781, \"color\": 4.0}, {\"pca0\": -0.32122525452179107, \"pca1\": -0.802005621691486, \"color\": 4.0}, {\"pca0\": 1.1049386362127487, \"pca1\": -0.02761182157473232, \"color\": 6.0}, {\"pca0\": -0.14552672873727396, \"pca1\": -0.7615363014798192, \"color\": 4.0}, {\"pca0\": -1.5308369031806568, \"pca1\": -0.19498753834733004, \"color\": 4.0}, {\"pca0\": -0.7878374167688109, \"pca1\": -1.0133074705715095, \"color\": 4.0}, {\"pca0\": 2.991703557613734, \"pca1\": 0.486958138745512, \"color\": 8.0}, {\"pca0\": -0.3962244391352513, \"pca1\": -0.9750354629592777, \"color\": 4.0}, {\"pca0\": -0.6192388607132306, \"pca1\": -0.7145820721054558, \"color\": 4.0}, {\"pca0\": -1.1387923467219225, \"pca1\": -0.7062236472095232, \"color\": 4.0}, {\"pca0\": -0.9608693623643424, \"pca1\": -0.8267730177210444, \"color\": 4.0}, {\"pca0\": -1.8974772318505673, \"pca1\": -0.4085082685279728, \"color\": 4.0}, {\"pca0\": -0.3000926951994635, \"pca1\": -0.9451558014566239, \"color\": 4.0}, {\"pca0\": 1.1308656752180162, \"pca1\": 0.9419694486960428, \"color\": 8.0}, {\"pca0\": 2.7486170365873144, \"pca1\": 1.165543062995601, \"color\": 8.0}, {\"pca0\": 2.888827652819897, \"pca1\": 0.4561235272933682, \"color\": 8.0}, {\"pca0\": 0.037711946168701424, \"pca1\": -0.110962711343746, \"color\": 6.0}, {\"pca0\": -0.22623617382209493, \"pca1\": 0.09434781911522963, \"color\": 6.0}, {\"pca0\": -2.967071302574383, \"pca1\": 0.7343879977530468, \"color\": 4.0}, {\"pca0\": -2.0711598716708357, \"pca1\": -0.28699248175286596, \"color\": 4.0}, {\"pca0\": 0.17152724367534697, \"pca1\": -0.027933786956585365, \"color\": 6.0}, {\"pca0\": 1.2730331948338507, \"pca1\": -0.003621326036055028, \"color\": 6.0}, {\"pca0\": -0.9260599486167151, \"pca1\": -0.5956061832364554, \"color\": 4.0}, {\"pca0\": 0.04445618072954719, \"pca1\": -0.11000767383765545, \"color\": 6.0}, {\"pca0\": -0.3202951322658606, \"pca1\": 0.12996327948457054, \"color\": 6.0}, {\"pca0\": 0.46943447940039834, \"pca1\": -0.2940013386730516, \"color\": 6.0}, {\"pca0\": -0.25229888346741924, \"pca1\": -0.9868138824438312, \"color\": 4.0}, {\"pca0\": -0.19343360139415272, \"pca1\": -0.601533831061129, \"color\": 5.0}, {\"pca0\": -3.3069134834792524, \"pca1\": 1.381334316572936, \"color\": 4.0}, {\"pca0\": 1.4253808058468307, \"pca1\": 0.7561940055082861, \"color\": 8.0}, {\"pca0\": -1.8148740432222938, \"pca1\": -0.2189995588088913, \"color\": 4.0}, {\"pca0\": -0.23063983200753452, \"pca1\": 0.3856297779590216, \"color\": 6.0}, {\"pca0\": -10.009083609341767, \"pca1\": 4.500288469778111, \"color\": 0.0}, {\"pca0\": 0.7099957764384967, \"pca1\": -0.001165193727574745, \"color\": 6.0}, {\"pca0\": -1.4056169717868148, \"pca1\": -0.8084585699211986, \"color\": 4.0}, {\"pca0\": -0.37595168611828933, \"pca1\": -1.133709517447915, \"color\": 4.0}, {\"pca0\": 0.46943447940039834, \"pca1\": -0.2940013386730516, \"color\": 6.0}, {\"pca0\": 1.4920434049788385, \"pca1\": 1.2027822214138357, \"color\": 8.0}, {\"pca0\": -1.188680483527491, \"pca1\": -0.43819542896528385, \"color\": 4.0}, {\"pca0\": -1.339894394227868, \"pca1\": -0.540567870463889, \"color\": 4.0}, {\"pca0\": 2.2729264231091633, \"pca1\": -0.19010895196163935, \"color\": 6.0}, {\"pca0\": 1.2730331948338507, \"pca1\": -0.003621326036055028, \"color\": 6.0}, {\"pca0\": -0.2197299987901217, \"pca1\": -0.325416910329295, \"color\": 6.0}, {\"pca0\": 1.3937919852963685, \"pca1\": 0.6214938622488507, \"color\": 8.0}, {\"pca0\": 3.6693720416790137, \"pca1\": 1.5083390945447936, \"color\": 12.0}, {\"pca0\": 0.10295660778906615, \"pca1\": -0.10233664196471792, \"color\": 6.0}, {\"pca0\": -0.6641846141179408, \"pca1\": -0.8664118355674257, \"color\": 4.0}, {\"pca0\": 3.837970524031798, \"pca1\": 1.8070644054542466, \"color\": 12.0}, {\"pca0\": -0.06516403232793212, \"pca1\": -0.14179741035249027, \"color\": 6.0}, {\"pca0\": 1.4652565596682054, \"pca1\": 0.21767707641956094, \"color\": 6.0}, {\"pca0\": 0.33962172859365275, \"pca1\": -0.003943378974508659, \"color\": 6.0}, {\"pca0\": -0.9213484502134669, \"pca1\": -0.8216854346092686, \"color\": 4.0}, {\"pca0\": -0.8735546384814226, \"pca1\": -0.8633435155964758, \"color\": 4.0}, {\"pca0\": 3.737524503113753, \"pca1\": 2.2143839039674607, \"color\": 12.0}, {\"pca0\": -0.6917056728330232, \"pca1\": -0.983427809068856, \"color\": 4.0}, {\"pca0\": -0.03969459558018988, \"pca1\": -0.7149562369640473, \"color\": 4.0}, {\"pca0\": 0.4602380876135806, \"pca1\": -0.035966838758793314, \"color\": 6.0}, {\"pca0\": -0.8257608267493783, \"pca1\": -0.905001596583683, \"color\": 4.0}, {\"pca0\": 0.6959631868451058, \"pca1\": -0.11627109221682393, \"color\": 6.0}, {\"pca0\": -2.048635019107356, \"pca1\": -0.2843392414897372, \"color\": 4.0}, {\"pca0\": 1.640593519460834, \"pca1\": 0.6405501417730414, \"color\": 8.0}, {\"pca0\": 0.4191885104423821, \"pca1\": 0.006646279734504414, \"color\": 6.0}, {\"pca0\": -0.0033376310024970618, \"pca1\": -0.06834959285044827, \"color\": 6.0}, {\"pca0\": 0.4897072324173603, \"pca1\": -0.4526753931616891, \"color\": 6.0}, {\"pca0\": 0.3502621393880102, \"pca1\": 0.19145454048684948, \"color\": 6.0}, {\"pca0\": -1.909699584118328, \"pca1\": -0.18342868649260244, \"color\": 4.0}, {\"pca0\": 1.5123162316985967, \"pca1\": 1.0441082544817988, \"color\": 8.0}, {\"pca0\": -0.03764297361284979, \"pca1\": -0.024781436851059994, \"color\": 6.0}, {\"pca0\": 0.0034066035583487047, \"pca1\": -0.06739455534435772, \"color\": 6.0}, {\"pca0\": 0.0034066035583487047, \"pca1\": -0.06739455534435772, \"color\": 6.0}, {\"pca0\": 0.3877712754937879, \"pca1\": -0.3048125757221935, \"color\": 6.0}, {\"pca0\": 0.9914222469217576, \"pca1\": -0.2538444400448347, \"color\": 6.0}, {\"pca0\": 1.6760785899476043, \"pca1\": 0.9696932545443451, \"color\": 8.0}, {\"pca0\": 0.905611393774681, \"pca1\": 0.1398412753125328, \"color\": 6.0}, {\"pca0\": -1.1255717053350132, \"pca1\": -0.9310554904535304, \"color\": 4.0}, {\"pca0\": 2.6814828613546613, \"pca1\": 0.589957251901854, \"color\": 8.0}, {\"pca0\": 2.777614678993245, \"pca1\": 0.6198370009611086, \"color\": 8.0}, {\"pca0\": -0.6810652620386657, \"pca1\": -0.7880298896074978, \"color\": 4.0}, {\"pca0\": -2.377032336547187, \"pca1\": -0.5131284391219131, \"color\": 3.0}, {\"pca0\": -1.8216182777831396, \"pca1\": -0.21995459631498182, \"color\": 4.0}, {\"pca0\": 0.29857215142245425, \"pca1\": 0.03866973951878907, \"color\": 6.0}, {\"pca0\": 0.357006373948856, \"pca1\": 0.19240957799294006, \"color\": 6.0}, {\"pca0\": 0.4085480996480245, \"pca1\": -0.1887516397268538, \"color\": 6.0}, {\"pca0\": 0.5817712145177683, \"pca1\": -0.44047990141704046, \"color\": 6.0}, {\"pca0\": -0.14413701947969795, \"pca1\": 0.00912158212863416, \"color\": 6.0}, {\"pca0\": 2.152096191805882, \"pca1\": 0.6466445392710523, \"color\": 8.0}, {\"pca0\": 0.04835235696305894, \"pca1\": 0.08443520811761217, \"color\": 6.0}, {\"pca0\": 0.0688631695088934, \"pca1\": 0.34648092057958996, \"color\": 6.0}, {\"pca0\": 0.993779125938781, \"pca1\": -0.042406202454686806, \"color\": 6.0}, {\"pca0\": -2.096518582397144, \"pca1\": 0.09569037785809528, \"color\": 4.0}, {\"pca0\": -0.23826636757682462, \"pca1\": -0.8717080715111825, \"color\": 4.0}, {\"pca0\": 2.829304593256005, \"pca1\": 0.7726217143725684, \"color\": 8.0}, {\"pca0\": 1.5404454548834912, \"pca1\": 1.4668640354229288, \"color\": 8.0}, {\"pca0\": 0.20279614265475737, \"pca1\": -0.2504210377443423, \"color\": 6.0}, {\"pca0\": -1.11127128800684, \"pca1\": -0.5892076737080929, \"color\": 4.0}, {\"pca0\": 0.0034066035583487047, \"pca1\": -0.06739455534435772, \"color\": 6.0}, {\"pca0\": 2.3371235613395016, \"pca1\": 0.6231936345479917, \"color\": 8.0}, {\"pca0\": 2.5462676971318023, \"pca1\": 0.6045710115933712, \"color\": 8.0}, {\"pca0\": 0.7920949307808935, \"pca1\": -0.08639143071417019, \"color\": 6.0}, {\"pca0\": 1.2590005315376638, \"pca1\": -0.1187273120819048, \"color\": 6.0}, {\"pca0\": 1.8159363837800564, \"pca1\": 0.9402306653017863, \"color\": 8.0}, {\"pca0\": 0.010428946982491602, \"pca1\": 0.1927410821054389, \"color\": 6.0}, {\"pca0\": 0.4283849022291999, \"pca1\": -0.2513882201797539, \"color\": 6.0}, {\"pca0\": 1.8448751342796383, \"pca1\": 0.12385679029706818, \"color\": 6.0}, {\"pca0\": 0.305672121151391, \"pca1\": -0.21958633873559807, \"color\": 6.0}, {\"pca0\": -0.8151204159550208, \"pca1\": -0.7096036771223247, \"color\": 4.0}, {\"pca0\": -0.3897958904080718, \"pca1\": -0.8764084766996186, \"color\": 4.0}, {\"pca0\": -0.14989428711865196, \"pca1\": 0.20083351723407034, \"color\": 6.0}, {\"pca0\": 1.542289373936855, \"pca1\": 0.9021346030062793, \"color\": 8.0}, {\"pca0\": -0.5506682248269498, \"pca1\": -0.6401792170973233, \"color\": 4.0}, {\"pca0\": 3.4472881498188284, \"pca1\": 0.6951739215117799, \"color\": 8.0}, {\"pca0\": 2.158840426366728, \"pca1\": 0.6475995767771429, \"color\": 8.0}, {\"pca0\": 0.24688216345689817, \"pca1\": -0.11411506144927137, \"color\": 6.0}, {\"pca0\": 2.3197388422815024, \"pca1\": 0.4268405900239427, \"color\": 8.0}, {\"pca0\": 2.179617176818168, \"pca1\": 0.7636604252158821, \"color\": 8.0}, {\"pca0\": 2.275748994456752, \"pca1\": 0.7935401742751365, \"color\": 8.0}, {\"pca0\": 1.0993682987045228, \"pca1\": 0.46733703907120516, \"color\": 8.0}, {\"pca0\": 0.6138640325027088, \"pca1\": -0.031044855230228485, \"color\": 6.0}, {\"pca0\": 2.6288707752058813, \"pca1\": 0.7940795899775519, \"color\": 8.0}, {\"pca0\": -1.2645394744463168, \"pca1\": -0.626749144956575, \"color\": 4.0}, {\"pca0\": -0.1303825387496043, \"pca1\": -0.13495311932582274, \"color\": 6.0}, {\"pca0\": 4.222680991183475, \"pca1\": 1.5509311535179384, \"color\": 12.0}, {\"pca0\": -1.8839326761366857, \"pca1\": -0.18005676875725116, \"color\": 4.0}, {\"pca0\": 0.2989278865905452, \"pca1\": -0.22054137624168862, \"color\": 6.0}, {\"pca0\": -0.9764306169780561, \"pca1\": -0.8941782146052201, \"color\": 4.0}, {\"pca0\": -1.0019189395355408, \"pca1\": -0.7841598992277466, \"color\": 4.0}, {\"pca0\": 0.305672121151391, \"pca1\": -0.21958633873559807, \"color\": 6.0}, {\"pca0\": -1.5458851678612555, \"pca1\": -0.4236966453252965, \"color\": 4.0}, {\"pca0\": -0.10258337117122482, \"pca1\": 0.2412434541193136, \"color\": 6.0}, {\"pca0\": 0.14109192209981344, \"pca1\": 0.19460689059237488, \"color\": 6.0}, {\"pca0\": 0.2371014852651101, \"pca1\": -0.29398919374373056, \"color\": 6.0}, {\"pca0\": -0.708852258659354, \"pca1\": -0.7590609990856896, \"color\": 4.0}, {\"pca0\": -0.10308744230849945, \"pca1\": -0.033491536364663566, \"color\": 6.0}, {\"pca0\": -1.1320481121610766, \"pca1\": -0.7052686097034326, \"color\": 4.0}, {\"pca0\": -1.8090556722937166, \"pca1\": -0.5255026733282189, \"color\": 4.0}, {\"pca0\": 0.7784220579331662, \"pca1\": -0.5912037784957905, \"color\": 6.0}, {\"pca0\": -0.013474044362376121, \"pca1\": 0.010987390615570176, \"color\": 6.0}, {\"pca0\": -1.0081591029591122, \"pca1\": -0.5103799462498599, \"color\": 4.0}, {\"pca0\": 0.6846471930144019, \"pca1\": -0.40964520240829627, \"color\": 6.0}, {\"pca0\": 0.1720051596139291, \"pca1\": 0.2313308431216962, \"color\": 6.0}, {\"pca0\": -0.044387208173695555, \"pca1\": -0.025736474357150547, \"color\": 6.0}, {\"pca0\": -0.7327552500042217, \"pca1\": -0.9408146905755582, \"color\": 4.0}, {\"pca0\": 1.0015586602816369, \"pca1\": -0.3331814235108532, \"color\": 6.0}, {\"pca0\": 2.244383922499951, \"pca1\": 0.5130218645166286, \"color\": 8.0}, {\"pca0\": 6.008772514726567, \"pca1\": 1.3060317113484077, \"color\": 12.0}, {\"pca0\": 2.891131068284236, \"pca1\": 0.846069619431211, \"color\": 8.0}, {\"pca0\": -1.2645394744463168, \"pca1\": -0.626749144956575, \"color\": 4.0}, {\"pca0\": -3.1557071840142683, \"pca1\": 1.2089229671172006, \"color\": 4.0}, {\"pca0\": 0.4897072324173603, \"pca1\": -0.4526753931616891, \"color\": 6.0}, {\"pca0\": 2.481049043304538, \"pca1\": 0.6114151275068377, \"color\": 8.0}, {\"pca0\": -1.0497127512675852, \"pca1\": -0.7425018182405394, \"color\": 4.0}, {\"pca0\": 0.5119280755791364, \"pca1\": 0.11681796220926713, \"color\": 6.0}, {\"pca0\": -1.21465130078935, \"pca1\": -0.8947773194225142, \"color\": 4.0}, {\"pca0\": -1.16970554738464, \"pca1\": -0.7429475559605443, \"color\": 4.0}, {\"pca0\": 0.4626902448395527, \"pca1\": -0.29495637617914217, \"color\": 6.0}, {\"pca0\": -0.6129725420909669, \"pca1\": -0.9728916646776469, \"color\": 4.0}, {\"pca0\": 0.7167400109993424, \"pca1\": -0.0002101562214841601, \"color\": 6.0}, {\"pca0\": 0.4962087927349495, \"pca1\": -0.310853629326604, \"color\": 5.0}, {\"pca0\": 1.3326413144128724, \"pca1\": 0.6460224105901239, \"color\": 8.0}, {\"pca0\": 0.3260932101375366, \"pca1\": 0.15568571302021933, \"color\": 6.0}, {\"pca0\": 2.158840426366728, \"pca1\": 0.6475995767771429, \"color\": 8.0}, {\"pca0\": 0.00029253362261255335, \"pca1\": 0.27207806557145736, \"color\": 6.0}, {\"pca0\": 1.2845414198200071, \"pca1\": -0.7316163616199768, \"color\": 6.0}, {\"pca0\": 1.3220008299157184, \"pca1\": 0.45062440357216516, \"color\": 8.0}, {\"pca0\": -2.607044845601097, \"pca1\": 0.08972597094634426, \"color\": 4.0}, {\"pca0\": -1.2988448170566695, \"pca1\": -0.5831809889571867, \"color\": 4.0}, {\"pca0\": 0.30579430192188206, \"pca1\": 0.2988894071031612, \"color\": 6.0}, {\"pca0\": -0.959070365631255, \"pca1\": 0.718362909671992, \"color\": 6.0}, {\"pca0\": -0.2792455550946621, \"pca1\": 0.08735016099127281, \"color\": 6.0}, {\"pca0\": -2.273062450456659, \"pca1\": -0.7894256403284248, \"color\": 3.0}, {\"pca0\": 0.23332748980208945, \"pca1\": 0.03004367013976101, \"color\": 6.0}, {\"pca0\": 2.5535158554243305, \"pca1\": 0.880260864470238, \"color\": 8.0}, {\"pca0\": -1.0429685167067393, \"pca1\": -0.7415467807344489, \"color\": 4.0}, {\"pca0\": 2.887738889485203, \"pca1\": 0.9263616404033199, \"color\": 8.0}, {\"pca0\": 1.446807526423003, \"pca1\": -0.028512476423917864, \"color\": 6.0}, {\"pca0\": -0.8951467848053957, \"pca1\": -0.5588823182637347, \"color\": 4.0}, {\"pca0\": 0.26462254398019247, \"pca1\": -0.17697322024230033, \"color\": 6.0}, {\"pca0\": -1.0907623284387837, \"pca1\": -0.6998886997472417, \"color\": 4.0}, {\"pca0\": 1.2797774293946964, \"pca1\": -0.002666288529964539, \"color\": 6.0}, {\"pca0\": -1.6352325910503749, \"pca1\": -0.6141603925504686, \"color\": 4.0}, {\"pca0\": 0.20193641005218793, \"pca1\": -0.2659448249112413, \"color\": 6.0}, {\"pca0\": -1.6260027341497518, \"pca1\": -0.0789482148314748, \"color\": 4.0}, {\"pca0\": -0.5028744130949055, \"pca1\": -0.6818372980845304, \"color\": 4.0}, {\"pca0\": -1.179841923893121, \"pca1\": -0.6636105287162255, \"color\": 4.0}, {\"pca0\": 2.440955298010503, \"pca1\": 1.1725575061566988, \"color\": 8.0}, {\"pca0\": -0.10308744230849945, \"pca1\": -0.033491536364663566, \"color\": 6.0}, {\"pca0\": 0.18505576213146313, \"pca1\": -0.1875628789513134, \"color\": 6.0}, {\"pca0\": 1.9941380465446594, \"pca1\": 0.5433170602663565, \"color\": 8.0}, {\"pca0\": 0.3467216983225895, \"pca1\": -0.26219945722889576, \"color\": 6.0}, {\"pca0\": -1.0803581241955207, \"pca1\": -0.5524838087353722, \"color\": 4.0}, {\"pca0\": -0.7629790578363692, \"pca1\": 0.6001167127079607, \"color\": 6.0}, {\"pca0\": -0.7085601655550554, \"pca1\": -0.8895755027032324, \"color\": 4.0}, {\"pca0\": 0.32948531523377367, \"pca1\": 0.07539360449150978, \"color\": 6.0}, {\"pca0\": 1.1802935559943, \"pca1\": -0.1137930960674183, \"color\": 6.0}, {\"pca0\": 2.6752577826770656, \"pca1\": 1.1827052484946967, \"color\": 10.0}, {\"pca0\": -0.8117282371559875, \"pca1\": -0.7898956980944338, \"color\": 4.0}, {\"pca0\": -0.9400925382101059, \"pca1\": -0.7107120817257047, \"color\": 4.0}, {\"pca0\": 1.8401053130305298, \"pca1\": 0.9759994927684168, \"color\": 8.0}, {\"pca0\": -1.6762821682215732, \"pca1\": -0.5715472740571709, \"color\": 4.0}, {\"pca0\": -1.2437626502920802, \"pca1\": -0.5106882089612352, \"color\": 4.0}, {\"pca0\": 1.542289373936855, \"pca1\": 0.9021346030062793, \"color\": 8.0}, {\"pca0\": -0.4950652749558068, \"pca1\": -0.4493725634866602, \"color\": 5.0}, {\"pca0\": -1.4274598631093849, \"pca1\": -0.5041456196456744, \"color\": 4.0}, {\"pca0\": -7.991466329726318, \"pca1\": 2.1225426840563046, \"color\": 0.0}, {\"pca0\": -1.2141472665034736, \"pca1\": -0.6200423727168372, \"color\": 4.0}, {\"pca0\": 0.4076080780749633, \"pca1\": -0.3674491561750936, \"color\": 6.0}, {\"pca0\": -0.29585833842920667, \"pca1\": 0.39247406898568915, \"color\": 6.0}, {\"pca0\": -1.2349240906577101, \"pca1\": -0.7361033087121769, \"color\": 4.0}, {\"pca0\": -1.2988448170566695, \"pca1\": -0.5831809889571867, \"color\": 4.0}, {\"pca0\": -2.2044049303584874, \"pca1\": -0.2413552660355632, \"color\": 4.0}, {\"pca0\": -1.296750455131747, \"pca1\": -0.8095510824359187, \"color\": 4.0}, {\"pca0\": 4.572862501279053, \"pca1\": 1.87555703497825, \"color\": 12.0}, {\"pca0\": -2.516860483944531, \"pca1\": 0.42458794430001745, \"color\": 4.0}, {\"pca0\": -1.4685094402805834, \"pca1\": -0.46153250115237654, \"color\": 4.0}, {\"pca0\": 0.6959631868451058, \"pca1\": -0.11627109221682393, \"color\": 6.0}, {\"pca0\": 0.32948531523377367, \"pca1\": 0.07539360449150978, \"color\": 6.0}, {\"pca0\": -1.0019189395355408, \"pca1\": -0.7841598992277466, \"color\": 4.0}, {\"pca0\": 0.0034066035583487047, \"pca1\": -0.06739455534435772, \"color\": 6.0}, {\"pca0\": -0.464795075021532, \"pca1\": -1.04943831796741, \"color\": 4.0}, {\"pca0\": 1.6213559925230858, \"pca1\": 0.5074938501428214, \"color\": 8.0}, {\"pca0\": -1.0561891212422507, \"pca1\": -0.5167148937121415, \"color\": 4.0}, {\"pca0\": 2.433255231572493, \"pca1\": 0.6530732084940448, \"color\": 8.0}, {\"pca0\": 0.19562996839270347, \"pca1\": 0.15390384711125826, \"color\": 6.0}, {\"pca0\": 1.8448751342796383, \"pca1\": 0.12385679029706818, \"color\": 6.0}, {\"pca0\": 2.4298632001790526, \"pca1\": 0.7333654045793551, \"color\": 8.0}, {\"pca0\": -1.5409733165405357, \"pca1\": -0.11565055488131161, \"color\": 4.0}, {\"pca0\": -0.26917953138814404, \"pca1\": -0.9084319364839032, \"color\": 4.0}, {\"pca0\": 2.3714289039498544, \"pca1\": 0.5796254785486035, \"color\": 8.0}, {\"pca0\": -1.339894394227868, \"pca1\": -0.540567870463889, \"color\": 4.0}, {\"pca0\": -1.313943473818394, \"pca1\": -0.2779130011755718, \"color\": 4.0}, {\"pca0\": 1.128603568028744, \"pca1\": -0.26657789703547874, \"color\": 6.0}, {\"pca0\": -1.0871023587563664, \"pca1\": -0.5534388462414628, \"color\": 4.0}, {\"pca0\": -2.517576029932609, \"pca1\": 0.6687438319794207, \"color\": 4.0}, {\"pca0\": 0.7785664123247774, \"pca1\": 0.07323766128055784, \"color\": 6.0}, {\"pca0\": 1.6821471677693072, \"pca1\": 0.8726720137637207, \"color\": 8.0}, {\"pca0\": -1.056456985828431, \"pca1\": -0.74345685574663, \"color\": 4.0}, {\"pca0\": 2.3371235613395016, \"pca1\": 0.6231936345479917, \"color\": 8.0}, {\"pca0\": 2.4298632001790526, \"pca1\": 0.7333654045793551, \"color\": 8.0}, {\"pca0\": -1.3263658757717518, \"pca1\": -0.700196962458617, \"color\": 4.0}, {\"pca0\": 3.1293890235607913, \"pca1\": 0.7489597597954457, \"color\": 8.0}, {\"pca0\": -1.1086910942656862, \"pca1\": -1.0094374801917583, \"color\": 4.0}, {\"pca0\": 0.0720434439777467, \"pca1\": -0.13906050693743868, \"color\": 6.0}, {\"pca0\": -1.4292418174169872, \"pca1\": -0.731031617689061, \"color\": 4.0}, {\"pca0\": 0.46943447940039834, \"pca1\": -0.2940013386730516, \"color\": 6.0}, {\"pca0\": 1.7174878101616697, \"pca1\": 0.5373735992020757, \"color\": 8.0}, {\"pca0\": -1.7848867061918448, \"pca1\": -0.48973380208328837, \"color\": 4.0}, {\"pca0\": 1.4811128690333557, \"pca1\": -0.0720806324233061, \"color\": 6.0}, {\"pca0\": -1.0871023587563664, \"pca1\": -0.5534388462414628, \"color\": 4.0}, {\"pca0\": 0.22319107644221042, \"pca1\": 0.10938065360577943, \"color\": 6.0}, {\"pca0\": 2.028443389155012, \"pca1\": 0.49974890426696833, \"color\": 8.0}, {\"pca0\": 4.759185626481809, \"pca1\": 0.6463068900603953, \"color\": 8.0}, {\"pca0\": 1.0155911761722314, \"pca1\": -0.21807561257820465, \"color\": 6.0}, {\"pca0\": -2.371955331656492, \"pca1\": -0.1521498943188722, \"color\": 4.0}, {\"pca0\": -1.453410783518859, \"pca1\": -0.7668004889339914, \"color\": 4.0}, {\"pca0\": 4.161679689412562, \"pca1\": 1.7059753673100855, \"color\": 12.0}, {\"pca0\": -0.6197167766518127, \"pca1\": -0.9738467021837374, \"color\": 4.0}, {\"pca0\": 0.110178758288494, \"pca1\": 0.15788302561965417, \"color\": 6.0}, {\"pca0\": -1.1853284277656786, \"pca1\": -0.3569483704870843, \"color\": 4.0}, {\"pca0\": 2.9921484080773233, \"pca1\": 1.0633937007151206, \"color\": 10.0}, {\"pca0\": 1.0454691876071331, \"pca1\": 0.11037868606997421, \"color\": 6.0}, {\"pca0\": -2.4961457720141813, \"pca1\": -0.07241077276007293, \"color\": 4.0}, {\"pca0\": -3.3345061226509203, \"pca1\": -0.03392514564004278, \"color\": 3.0}, {\"pca0\": -1.3692879946589231, \"pca1\": -0.23864857349013316, \"color\": 4.0}, {\"pca0\": 1.9269742886220351, \"pca1\": 0.03863055331047275, \"color\": 6.0}, {\"pca0\": -1.5236139241979452, \"pca1\": -0.27638825882634294, \"color\": 4.0}, {\"pca0\": 0.23722366603560124, \"pca1\": 0.22448655209502863, \"color\": 6.0}, {\"pca0\": 1.8448751342796383, \"pca1\": 0.12385679029706818, \"color\": 6.0}, {\"pca0\": -0.7673266042229765, \"pca1\": -0.751261758109532, \"color\": 4.0}, {\"pca0\": 0.5919076278776474, \"pca1\": -0.519816884883059, \"color\": 6.0}, {\"pca0\": -1.3349826520485704, \"pca1\": -0.2822167294895215, \"color\": 4.0}, {\"pca0\": -1.3105512950193605, \"pca1\": -0.3582050221476808, \"color\": 4.0}, {\"pca0\": -0.07789611442405439, \"pca1\": -0.8658309629199266, \"color\": 4.0}, {\"pca0\": 0.10447363433089871, \"pca1\": -0.8676013827775952, \"color\": 5.0}, {\"pca0\": -0.22812995421694557, \"pca1\": -0.9510450549772009, \"color\": 4.0}, {\"pca0\": 0.7099957764384967, \"pca1\": -0.001165193727574745, \"color\": 6.0}, {\"pca0\": 0.017439193151739512, \"pca1\": 0.047711343144891456, \"color\": 6.0}, {\"pca0\": -1.0019189395355408, \"pca1\": -0.7841598992277466, \"color\": 4.0}, {\"pca0\": -0.008776710213113043, \"pca1\": 0.12340469041565202, \"color\": 6.0}, {\"pca0\": -0.7499018358305525, \"pca1\": -0.7164478805923918, \"color\": 4.0}, {\"pca0\": -1.1751920144057995, \"pca1\": -0.4362853539531027, \"color\": 4.0}, {\"pca0\": -0.7738048271754202, \"pca1\": -0.8982015720822605, \"color\": 4.0}, {\"pca0\": 2.640433284183463, \"pca1\": 0.6325703703951517, \"color\": 8.0}, {\"pca0\": -7.230293624058964, \"pca1\": 1.3102230919354345, \"color\": 0.0}, {\"pca0\": 3.481593492429181, \"pca1\": 0.6516057655123916, \"color\": 8.0}, {\"pca0\": 0.23722366603560124, \"pca1\": 0.22448655209502863, \"color\": 6.0}, {\"pca0\": -1.1717999093095623, \"pca1\": -0.5165774624818122, \"color\": 4.0}, {\"pca0\": -9.918827974022017, \"pca1\": 4.319363045149213, \"color\": 0.0}, {\"pca0\": -1.179841923893121, \"pca1\": -0.6636105287162255, \"color\": 4.0}, {\"pca0\": 1.3785270156878475, \"pca1\": 0.9765496029437329, \"color\": 8.0}, {\"pca0\": 2.7143116939769616, \"pca1\": 1.2091112189949893, \"color\": 8.0}, {\"pca0\": -1.584953156978553, \"pca1\": -0.12156133332477254, \"color\": 4.0}, {\"pca0\": 0.726200841322875, \"pca1\": -0.1775233304176168, \"color\": 6.0}, {\"pca0\": -0.8735546384814226, \"pca1\": -0.8633435155964758, \"color\": 4.0}, {\"pca0\": 0.31580853451127, \"pca1\": -0.2989233222016165, \"color\": 6.0}, {\"pca0\": -1.339894394227868, \"pca1\": -0.540567870463889, \"color\": 4.0}, {\"pca0\": -1.4323687785702643, \"pca1\": -0.19746402685519412, \"color\": 4.0}, {\"pca0\": 2.124123298648114, \"pca1\": 0.28583420854043556, \"color\": 8.0}, {\"pca0\": -9.776030708632009, \"pca1\": 4.242732145717432, \"color\": 0.0}, {\"pca0\": -1.5869347450324538, \"pca1\": -0.3810835268319988, \"color\": 4.0}, {\"pca0\": -1.6279843222036523, \"pca1\": -0.33847040833870107, \"color\": 4.0}, {\"pca0\": 0.05147852415369009, \"pca1\": 0.15012796361214115, \"color\": 6.0}, {\"pca0\": 4.552250435302755, \"pca1\": 0.9277764958065645, \"color\": 8.0}, {\"pca0\": -0.0064517009382332145, \"pca1\": 0.2711230280653668, \"color\": 6.0}, {\"pca0\": 0.3399774637617437, \"pca1\": -0.2631544947349863, \"color\": 6.0}, {\"pca0\": -0.08363001146127405, \"pca1\": 0.22835654247477982, \"color\": 6.0}, {\"pca0\": 0.6549136096739073, \"pca1\": -0.0736579737235262, \"color\": 6.0}, {\"pca0\": 1.2319836176626522, \"pca1\": 0.03899179245724267, \"color\": 6.0}, {\"pca0\": -1.3864102859381864, \"pca1\": -0.546758738138972, \"color\": 4.0}, {\"pca0\": 0.6228207916889668, \"pca1\": -0.48309301991033826, \"color\": 6.0}, {\"pca0\": -1.2645394744463168, \"pca1\": -0.626749144956575, \"color\": 4.0}, {\"pca0\": 1.542289373936855, \"pca1\": 0.9021346030062793, \"color\": 8.0}, {\"pca0\": 2.3371235613395016, \"pca1\": 0.6231936345479917, \"color\": 8.0}, {\"pca0\": -0.7327552500042217, \"pca1\": -0.9408146905755582, \"color\": 4.0}, {\"pca0\": 0.110178758288494, \"pca1\": 0.15788302561965417, \"color\": 6.0}, {\"pca0\": -1.8873408553420863, \"pca1\": -0.48784529577229147, \"color\": 4.0}, {\"pca0\": 0.6846471930144019, \"pca1\": -0.40964520240829627, \"color\": 6.0}, {\"pca0\": -0.2792455550946621, \"pca1\": 0.08735016099127281, \"color\": 6.0}, {\"pca0\": 0.18505576213146313, \"pca1\": -0.1875628789513134, \"color\": 6.0}, {\"pca0\": 2.412478481121053, \"pca1\": 0.5370123600553057, \"color\": 8.0}, {\"pca0\": 0.552977652750335, \"pca1\": 0.07420484371596939, \"color\": 6.0}, {\"pca0\": -1.3864102859381864, \"pca1\": -0.546758738138972, \"color\": 4.0}, {\"pca0\": 1.4596861484571835, \"pca1\": 0.7126258495088978, \"color\": 8.0}, {\"pca0\": -0.0033376310024970618, \"pca1\": -0.06834959285044827, \"color\": 6.0}, {\"pca0\": 1.856985960951255, \"pca1\": 0.8976175468084886, \"color\": 8.0}, {\"pca0\": 1.3442216730774947, \"pca1\": 1.0201177589431214, \"color\": 8.0}, {\"pca0\": -2.211149164919333, \"pca1\": -0.24231030354165373, \"color\": 4.0}, {\"pca0\": 2.3371235613395016, \"pca1\": 0.6231936345479917, \"color\": 8.0}, {\"pca0\": -1.2116105494342653, \"pca1\": -0.3620073272883345, \"color\": 4.0}, {\"pca0\": 1.460190219594458, \"pca1\": 0.9873608399928748, \"color\": 8.0}, {\"pca0\": -1.6883171325032975, \"pca1\": -0.039050387273744165, \"color\": 4.0}, {\"pca0\": -11.201665316407372, \"pca1\": 5.832625745195947, \"color\": 0.0}, {\"pca0\": -0.852777814327186, \"pca1\": -0.7472825796011361, \"color\": 4.0}, {\"pca0\": 2.028443389155012, \"pca1\": 0.49974890426696833, \"color\": 8.0}, {\"pca0\": 0.07652546079512594, \"pca1\": -1.3466529464977703, \"color\": 4.0}, {\"pca0\": 1.2742070181836742, \"pca1\": 0.4922824845593724, \"color\": 8.0}, {\"pca0\": -0.7122444374583873, \"pca1\": -0.6787689781135805, \"color\": 4.0}, {\"pca0\": 2.454032129429526, \"pca1\": 0.7691342320459853, \"color\": 8.0}, {\"pca0\": 0.49454343022393327, \"pca1\": -0.0795349947581816, \"color\": 6.0}, {\"pca0\": 0.19605190809391163, \"pca1\": -0.2513760752504329, \"color\": 6.0}, {\"pca0\": -2.448561031104451, \"pca1\": -0.4745718306868457, \"color\": 3.0}, {\"pca0\": 0.22319107644221042, \"pca1\": 0.10938065360577943, \"color\": 6.0}, {\"pca0\": 1.400576342894435, \"pca1\": 0.4609098203046328, \"color\": 8.0}, {\"pca0\": -1.1525887297642188, \"pca1\": -0.7733365172492837, \"color\": 4.0}, {\"pca0\": -2.4174387596194196, \"pca1\": -0.07734494499625891, \"color\": 4.0}, {\"pca0\": 0.6181962328748033, \"pca1\": 0.06736064024590244, \"color\": 6.0}, {\"pca0\": 1.238727852223498, \"pca1\": 0.03994682996333321, \"color\": 6.0}, {\"pca0\": 0.931952724613346, \"pca1\": -0.1158540199567288, \"color\": 6.0}, {\"pca0\": -1.2006187480473576, \"pca1\": -0.7796714647115652, \"color\": 4.0}, {\"pca0\": -0.9614050307022523, \"pca1\": -0.12659691835407347, \"color\": 5.0}, {\"pca0\": 0.3399774637617437, \"pca1\": -0.2631544947349863, \"color\": 6.0}, {\"pca0\": 2.6288707752058813, \"pca1\": 0.7940795899775519, \"color\": 8.0}, {\"pca0\": 0.8909031474421474, \"pca1\": -0.07324090146343105, \"color\": 6.0}, {\"pca0\": -0.07238618282735998, \"pca1\": -0.40201707793686237, \"color\": 6.0}, {\"pca0\": 0.3916674517272997, \"pca1\": -0.11036969376692587, \"color\": 6.0}, {\"pca0\": 0.685826847188023, \"pca1\": -0.036934021194204886, \"color\": 6.0}, {\"pca0\": 1.0865187647783316, \"pca1\": 0.06776556757667647, \"color\": 6.0}, {\"pca0\": -1.2694972610028452, \"pca1\": -0.9192770709689767, \"color\": 4.0}, {\"pca0\": 0.1716219418003018, \"pca1\": -1.0250429826545593, \"color\": 4.0}, {\"pca0\": 1.68282282450845, \"pca1\": 0.9706482920504357, \"color\": 8.0}, {\"pca0\": -2.149322763593898, \"pca1\": -0.16886248603961174, \"color\": 4.0}, {\"pca0\": 2.002450813835575, \"pca1\": 0.8688437716890549, \"color\": 8.0}, {\"pca0\": -1.241668325218556, \"pca1\": -0.7370583462182675, \"color\": 4.0}, {\"pca0\": 0.993779125938781, \"pca1\": -0.042406202454686806, \"color\": 6.0}, {\"pca0\": -0.6159430897652632, \"pca1\": 0.28309324109284023, \"color\": 6.0}, {\"pca0\": -0.044387208173695555, \"pca1\": -0.025736474357150547, \"color\": 6.0}, {\"pca0\": -0.8456467885370869, \"pca1\": -1.8739512414105626, \"color\": 2.0}, {\"pca0\": -3.3228099065795385, \"pca1\": 0.7161276919894441, \"color\": 4.0}, {\"pca0\": 2.3714289039498544, \"pca1\": 0.5796254785486035, \"color\": 8.0}, {\"pca0\": -1.6578417984447373, \"pca1\": -0.4231302756079139, \"color\": 4.0}, {\"pca0\": -0.3830516558472261, \"pca1\": -0.875453439193528, \"color\": 4.0}, {\"pca0\": -1.1180155225676858, \"pca1\": -0.5901627112141835, \"color\": 4.0}, {\"pca0\": 1.1621347216030191, \"pca1\": 0.7194823730214869, \"color\": 8.0}, {\"pca0\": -0.8460335797663403, \"pca1\": -0.7463275420950455, \"color\": 4.0}, {\"pca0\": -0.23063983200753452, \"pca1\": 0.3856297779590216, \"color\": 6.0}, {\"pca0\": -7.827024114237265, \"pca1\": 1.9521226719944027, \"color\": 0.0}, {\"pca0\": -1.0972386984134492, \"pca1\": -0.4741017752188438, \"color\": 4.0}, {\"pca0\": -8.231507373315557, \"pca1\": 2.3791115084980534, \"color\": 0.0}, {\"pca0\": 1.4049636984382574, \"pca1\": 0.2504266202205754, \"color\": 8.0}, {\"pca0\": 0.46943447940039834, \"pca1\": -0.2940013386730516, \"color\": 6.0}, {\"pca0\": 0.3626623246702531, \"pca1\": -0.5192789196370635, \"color\": 6.0}, {\"pca0\": -1.5066679739301831, \"pca1\": -0.15921871088069992, \"color\": 4.0}, {\"pca0\": 1.765281621893714, \"pca1\": 0.49571551821486853, \"color\": 8.0}, {\"pca0\": 2.6814828613546613, \"pca1\": 0.589957251901854, \"color\": 8.0}, {\"pca0\": -1.938407120980262, \"pca1\": -0.9527734959243614, \"color\": 3.0}, {\"pca0\": 2.794999250645652, \"pca1\": 0.8161898703719566, \"color\": 8.0}, {\"pca0\": -0.7122444374583873, \"pca1\": -0.6787689781135805, \"color\": 4.0}, {\"pca0\": 0.6703719291777545, \"pca1\": -0.3838843745685509, \"color\": 5.0}, {\"pca0\": -1.3864102859381864, \"pca1\": -0.546758738138972, \"color\": 4.0}, {\"pca0\": 1.542289373936855, \"pca1\": 0.9021346030062793, \"color\": 8.0}, {\"pca0\": 0.05147852415369009, \"pca1\": 0.15012796361214115, \"color\": 6.0}, {\"pca0\": -1.8850265837305797, \"pca1\": 0.1270751314580048, \"color\": 4.0}, {\"pca0\": -0.6569926669364617, \"pca1\": 0.325706359586138, \"color\": 6.0}, {\"pca0\": -2.038498642598875, \"pca1\": -0.36367626873405584, \"color\": 4.0}, {\"pca0\": -0.8735546384814226, \"pca1\": -0.8633435155964758, \"color\": 4.0}, {\"pca0\": 0.3399774637617437, \"pca1\": -0.2631544947349863, \"color\": 6.0}, {\"pca0\": -1.0185317228700856, \"pca1\": -0.4790359912333301, \"color\": 4.0}, {\"pca0\": -1.8974772318505673, \"pca1\": -0.4085082685279728, \"color\": 4.0}, {\"pca0\": -2.211149164919333, \"pca1\": -0.24231030354165373, \"color\": 4.0}, {\"pca0\": 1.799731245192882, \"pca1\": 1.116588714435228, \"color\": 8.0}, {\"pca0\": -0.6400156848674672, \"pca1\": -0.8306430081007955, \"color\": 4.0}, {\"pca0\": -0.5786671994806142, \"pca1\": -1.016459820677035, \"color\": 4.0}, {\"pca0\": 2.660288010154475, \"pca1\": 1.10553844543425, \"color\": 8.0}, {\"pca0\": 2.9298772299910953, \"pca1\": 0.41351040880007045, \"color\": 8.0}, {\"pca0\": 3.125996844761758, \"pca1\": 0.8292517807675547, \"color\": 8.0}, {\"pca0\": 1.1719808624061803, \"pca1\": -0.43931971993351615, \"color\": 6.0}, {\"pca0\": 2.5569080342233637, \"pca1\": 0.7999688434981288, \"color\": 8.0}, {\"pca0\": -2.886440201170003, \"pca1\": -0.47502645042651515, \"color\": 4.0}, {\"pca0\": 2.6747386267938156, \"pca1\": 0.5890022143957636, \"color\": 8.0}, {\"pca0\": 1.737904917570243, \"pca1\": 1.0431409844897865, \"color\": 8.0}, {\"pca0\": -0.9569731861308307, \"pca1\": -0.6323301357657767, \"color\": 4.0}, {\"pca0\": -0.7330212616126238, \"pca1\": -0.7948299141089202, \"color\": 4.0}, {\"pca0\": -0.9400925382101059, \"pca1\": -0.7107120817257047, \"color\": 4.0}, {\"pca0\": 0.2541043139563261, \"pca1\": 0.14610460613510073, \"color\": 6.0}, {\"pca0\": -0.9671095257879136, \"pca1\": -0.5529930647431577, \"color\": 4.0}, {\"pca0\": 1.198852098402123, \"pca1\": 0.5784637590520583, \"color\": 8.0}, {\"pca0\": -0.31448101996094524, \"pca1\": -0.8010505841853955, \"color\": 4.0}, {\"pca0\": 1.0865187647783316, \"pca1\": 0.06776556757667647, \"color\": 6.0}, {\"pca0\": 3.7429316136215163, \"pca1\": 1.0605028464532085, \"color\": 8.0}, {\"pca0\": 1.0774175774976664, \"pca1\": -0.1446277950761626, \"color\": 6.0}, {\"pca0\": 0.441913420685316, \"pca1\": -0.4110173121744819, \"color\": 6.0}, {\"pca0\": -1.7187422992865062, \"pca1\": -0.18911989730623754, \"color\": 4.0}, {\"pca0\": 1.4811128690333557, \"pca1\": -0.0720806324233061, \"color\": 6.0}, {\"pca0\": 3.4930334420955194, \"pca1\": 2.252632599397291, \"color\": 10.0}, {\"pca0\": 1.5900831856688993, \"pca1\": 0.8604765220190723, \"color\": 8.0}, {\"pca0\": -0.5694271980549449, \"pca1\": 0.28928410876792326, \"color\": 6.0}, {\"pca0\": 2.273925200982197, \"pca1\": 1.1984036940506522, \"color\": 8.0}, {\"pca0\": -0.46515081018962307, \"pca1\": -0.7902272022069327, \"color\": 4.0}, {\"pca0\": -8.225347308560835, \"pca1\": 2.428409889533985, \"color\": 0.0}, {\"pca0\": -0.36134470943705904, \"pca1\": 0.17257639797786825, \"color\": 6.0}, {\"pca0\": -0.044387208173695555, \"pca1\": -0.025736474357150547, \"color\": 6.0}, {\"pca0\": -1.401720795553303, \"pca1\": -0.614015687965931, \"color\": 4.0}, {\"pca0\": 2.510036394377339, \"pca1\": 0.4847198729981786, \"color\": 8.0}, {\"pca0\": -1.1180155225676858, \"pca1\": -0.5901627112141835, \"color\": 4.0}, {\"pca0\": -1.6535638421992584, \"pca1\": -0.03442502132599596, \"color\": 4.0}, {\"pca0\": -1.134142437234601, \"pca1\": -0.47889847244640044, \"color\": 4.0}, {\"pca0\": 2.134152341233005, \"pca1\": 0.018127715211579763, \"color\": 6.0}, {\"pca0\": -3.560426740402736, \"pca1\": 0.9250001291380054, \"color\": 4.0}, {\"pca0\": 0.02757553280882237, \"pca1\": -0.03162572787772755, \"color\": 6.0}, {\"pca0\": 0.22319107644221042, \"pca1\": 0.10938065360577943, \"color\": 6.0}, {\"pca0\": 0.17491934877158408, \"pca1\": -0.10822589548529493, \"color\": 6.0}, {\"pca0\": -1.241668325218556, \"pca1\": -0.7370583462182675, \"color\": 4.0}, {\"pca0\": 2.075475045800763, \"pca1\": 1.4606802228766433, \"color\": 8.0}, {\"pca0\": -4.019638690643327, \"pca1\": 1.0411240306665406, \"color\": 4.0}, {\"pca0\": 1.888934424544584, \"pca1\": 0.6426111532189525, \"color\": 8.0}, {\"pca0\": 1.12703510900147, \"pca1\": -0.5911494833954861, \"color\": 6.0}, {\"pca0\": 2.7651748501690268, \"pca1\": 0.3092278922892842, \"color\": 8.0}, {\"pca0\": -0.0033376310024970618, \"pca1\": -0.06834959285044827, \"color\": 6.0}, {\"pca0\": -1.904643295757805, \"pca1\": -0.4421865113538044, \"color\": 4.0}, {\"pca0\": -0.5714450489811863, \"pca1\": -0.756240153092663, \"color\": 4.0}, {\"pca0\": 1.0865187647783316, \"pca1\": 0.06776556757667647, \"color\": 6.0}, {\"pca0\": 1.8990706904988708, \"pca1\": 0.5632739946397328, \"color\": 8.0}, {\"pca0\": 1.490959029014166, \"pca1\": 0.3596432651892475, \"color\": 8.0}, {\"pca0\": 2.1100907827575197, \"pca1\": 0.170728397607787, \"color\": 8.0}, {\"pca0\": 0.552977652750335, \"pca1\": 0.07420484371596939, \"color\": 6.0}, {\"pca0\": -2.117205654993637, \"pca1\": -0.3587420964978697, \"color\": 4.0}, {\"pca0\": -1.1188274707741672, \"pca1\": -0.9301004529474398, \"color\": 4.0}, {\"pca0\": 0.5119280755791364, \"pca1\": 0.11681796220926713, \"color\": 6.0}, {\"pca0\": 0.18214149927101192, \"pca1\": 0.15199377209907713, \"color\": 6.0}, {\"pca0\": 0.441913420685316, \"pca1\": -0.4110173121744819, \"color\": 6.0}, {\"pca0\": -0.26614308775720175, \"pca1\": -0.7295128416955347, \"color\": 4.0}, {\"pca0\": -0.03062063018870689, \"pca1\": 0.2353542005987366, \"color\": 6.0}, {\"pca0\": 0.17262462386677555, \"pca1\": 0.003203383486485512, \"color\": 6.0}, {\"pca0\": 1.542289373936855, \"pca1\": 0.9021346030062793, \"color\": 8.0}, {\"pca0\": -1.9042214664114134, \"pca1\": -0.4094633060340633, \"color\": 4.0}, {\"pca0\": -0.5714450489811863, \"pca1\": -0.756240153092663, \"color\": 4.0}, {\"pca0\": 1.8159363837800564, \"pca1\": 0.9402306653017863, \"color\": 8.0}, {\"pca0\": 1.600723670166053, \"pca1\": 1.0558745290370313, \"color\": 8.0}, {\"pca0\": 1.0859855318302716, \"pca1\": -0.5485363649021884, \"color\": 6.0}, {\"pca0\": -10.386930193178541, \"pca1\": 4.979473261747254, \"color\": 0.0}, {\"pca0\": -1.846291278170888, \"pca1\": -0.5304584142655893, \"color\": 4.0}, {\"pca0\": 0.14400618496026463, \"pca1\": -0.14494976045801566, \"color\": 6.0}, {\"pca0\": -2.7548785459738365, \"pca1\": -0.5339290155993724, \"color\": 3.0}, {\"pca0\": -0.4134869037199634, \"pca1\": -0.6529126740879673, \"color\": 4.0}, {\"pca0\": 1.2956336650570504, \"pca1\": -0.29242408492943217, \"color\": 6.0}, {\"pca0\": -0.5761714326157906, \"pca1\": 0.2883290712618327, \"color\": 6.0}, {\"pca0\": -0.6434077899637043, \"pca1\": -0.750350899572086, \"color\": 4.0}, {\"pca0\": -0.44827016226889826, \"pca1\": -0.8686091481668605, \"color\": 4.0}, {\"pca0\": 2.2328756238109984, \"pca1\": 1.2410168125439498, \"color\": 8.0}, {\"pca0\": -2.516860483944531, \"pca1\": 0.42458794430001745, \"color\": 4.0}, {\"pca0\": 0.46943447940039834, \"pca1\": -0.2940013386730516, \"color\": 6.0}, {\"pca0\": -1.9849343140448463, \"pca1\": -0.6743787628402078, \"color\": 4.0}, {\"pca0\": 1.2319836176626522, \"pca1\": 0.03899179245724267, \"color\": 6.0}, {\"pca0\": -0.9774821456988871, \"pca1\": -0.5216491097266279, \"color\": 4.0}, {\"pca0\": 0.04445618072954719, \"pca1\": -0.11000767383765545, \"color\": 6.0}, {\"pca0\": 0.5621740445371528, \"pca1\": -0.1838296561982889, \"color\": 6.0}, {\"pca0\": 1.2742070181836742, \"pca1\": 0.4922824845593724, \"color\": 8.0}, {\"pca0\": -0.4308454675792703, \"pca1\": -0.8337953582063209, \"color\": 4.0}, {\"pca0\": -0.06516403232793212, \"pca1\": -0.14179741035249027, \"color\": 6.0}, {\"pca0\": -1.4690134745664598, \"pca1\": -0.7362674478580535, \"color\": 4.0}, {\"pca0\": -1.1320481121610766, \"pca1\": -0.7052686097034326, \"color\": 4.0}, {\"pca0\": 3.125996844761758, \"pca1\": 0.8292517807675547, \"color\": 8.0}, {\"pca0\": 0.501287664784779, \"pca1\": -0.07857995725209103, \"color\": 6.0}, {\"pca0\": -1.9283904325132848, \"pca1\": -0.4452321772789937, \"color\": 4.0}, {\"pca0\": 0.8713060511643282, \"pca1\": 0.18340943131192114, \"color\": 6.0}, {\"pca0\": 1.9840016331847803, \"pca1\": 0.6226540437323751, \"color\": 8.0}, {\"pca0\": -0.8257608267493783, \"pca1\": -0.905001596583683, \"color\": 4.0}, {\"pca0\": 1.1802935559943, \"pca1\": -0.1137930960674183, \"color\": 6.0}, {\"pca0\": 2.028443389155012, \"pca1\": 0.49974890426696833, \"color\": 8.0}, {\"pca0\": -0.044387208173695555, \"pca1\": -0.025736474357150547, \"color\": 6.0}, {\"pca0\": -0.8356312285008552, \"pca1\": -0.9716493895843025, \"color\": 4.0}, {\"pca0\": 0.8259857273980361, \"pca1\": 0.5099623024938238, \"color\": 8.0}, {\"pca0\": 1.3442216730774947, \"pca1\": 1.0201177589431214, \"color\": 8.0}, {\"pca0\": -0.7842071784409053, \"pca1\": -0.6728797245930035, \"color\": 4.0}, {\"pca0\": 1.198852098402123, \"pca1\": 0.5784637590520583, \"color\": 8.0}, {\"pca0\": -1.241668325218556, \"pca1\": -0.7370583462182675, \"color\": 4.0}, {\"pca0\": -0.9353810398068576, \"pca1\": -0.9367913330985178, \"color\": 4.0}, {\"pca0\": -1.1819362489666452, \"pca1\": -0.43724039145919325, \"color\": 4.0}, {\"pca0\": -0.02399360183308621, \"pca1\": -1.1660493641380663, \"color\": 4.0}, {\"pca0\": 1.434841562467567, \"pca1\": 0.5788807437555531, \"color\": 8.0}, {\"pca0\": -2.614333200633642, \"pca1\": -0.024424890036814504, \"color\": 4.0}, {\"pca0\": 1.1719808624061803, \"pca1\": -0.43931971993351615, \"color\": 6.0}, {\"pca0\": -1.2208915010643195, \"pca1\": -0.6209974102229278, \"color\": 4.0}, {\"pca0\": 0.5104840565715968, \"pca1\": -0.3366144571663493, \"color\": 6.0}, {\"pca0\": 0.3467216983225895, \"pca1\": -0.26219945722889576, \"color\": 6.0}, {\"pca0\": -9.898839177143739, \"pca1\": 4.3221956957561956, \"color\": 0.0}, {\"pca0\": -0.3821918495418605, \"pca1\": -0.8599295644700286, \"color\": 4.0}, {\"pca0\": -0.860066169359731, \"pca1\": -0.8614334405842947, \"color\": 4.0}, {\"pca0\": -1.4134272735159938, \"pca1\": -0.3890397211564251, \"color\": 4.0}, {\"pca0\": 3.5125066562405007, \"pca1\": 0.6883296304851122, \"color\": 8.0}, {\"pca0\": 0.45349385305273476, \"pca1\": -0.036921876264883864, \"color\": 6.0}, {\"pca0\": -1.48928626443482, \"pca1\": -0.5775934371477164, \"color\": 4.0}, {\"pca0\": 0.14400618496026463, \"pca1\": -0.14494976045801566, \"color\": 6.0}, {\"pca0\": -1.4207156285485392, \"pca1\": -0.5031905821395837, \"color\": 4.0}, {\"pca0\": 1.2338072637316153, \"pca1\": -0.36587190243147416, \"color\": 6.0}, {\"pca0\": 3.2950552623241065, \"pca1\": 2.0233806972615724, \"color\": 12.0}, {\"pca0\": 0.037711946168701424, \"pca1\": -0.110962711343746, \"color\": 6.0}, {\"pca0\": -1.4274598631093849, \"pca1\": -0.5041456196456744, \"color\": 4.0}, {\"pca0\": -1.3263658757717518, \"pca1\": -0.700196962458617, \"color\": 4.0}, {\"pca0\": 0.31545279934317905, \"pca1\": -0.03971220644113883, \"color\": 6.0}, {\"pca0\": -0.45042430489139623, \"pca1\": 0.20885456900888438, \"color\": 6.0}, {\"pca0\": 2.6814828613546613, \"pca1\": 0.589957251901854, \"color\": 8.0}, {\"pca0\": -0.46515081018962307, \"pca1\": -0.7902272022069327, \"color\": 4.0}, {\"pca0\": -1.2006187480473576, \"pca1\": -0.7796714647115652, \"color\": 4.0}, {\"pca0\": 0.45349385305273476, \"pca1\": -0.036921876264883864, \"color\": 6.0}, {\"pca0\": -0.0033376310024970618, \"pca1\": -0.06834959285044827, \"color\": 6.0}, {\"pca0\": 2.587821198034683, \"pca1\": 0.8366927084708496, \"color\": 8.0}, {\"pca0\": 0.46943447940039834, \"pca1\": -0.2940013386730516, \"color\": 6.0}, {\"pca0\": 1.5404454548834912, \"pca1\": 1.4668640354229288, \"color\": 8.0}, {\"pca0\": -0.9980227633020292, \"pca1\": -0.5897170172724789, \"color\": 4.0}, {\"pca0\": 0.9179201350199551, \"pca1\": -0.23095991844597796, \"color\": 6.0}, {\"pca0\": 1.811531939186934, \"pca1\": -0.3510213597542108, \"color\": 6.0}, {\"pca0\": 0.1783661763611476, \"pca1\": -1.0240879451484688, \"color\": 4.0}, {\"pca0\": 0.22319107644221042, \"pca1\": 0.10938065360577943, \"color\": 6.0}, {\"pca0\": 0.9730023017845444, \"pca1\": -0.1584671384500265, \"color\": 6.0}, {\"pca0\": 2.829304593256005, \"pca1\": 0.7726217143725684, \"color\": 8.0}, {\"pca0\": -10.866864726721614, \"pca1\": 5.541051640297559, \"color\": 0.0}, {\"pca0\": -1.4274598631093849, \"pca1\": -0.5041456196456744, \"color\": 4.0}, {\"pca0\": 1.1780752742478864, \"pca1\": 0.46240282305671865, \"color\": 8.0}, {\"pca0\": -1.6472443728446446, \"pca1\": -0.6809208723741117, \"color\": 4.0}, {\"pca0\": 1.3017280031959604, \"pca1\": 0.6092983705042021, \"color\": 8.0}, {\"pca0\": 0.552977652750335, \"pca1\": 0.07420484371596939, \"color\": 6.0}, {\"pca0\": -2.1396204703620687, \"pca1\": -0.28086691197672126, \"color\": 4.0}, {\"pca0\": -4.150157531821753, \"pca1\": -2.224692050746024, \"color\": 0.0}, {\"pca0\": -0.5786671994806142, \"pca1\": -1.016459820677035, \"color\": 4.0}, {\"pca0\": 2.3197388422815024, \"pca1\": 0.4268405900239427, \"color\": 8.0}, {\"pca0\": -2.3320167113995707, \"pca1\": -0.08155771590995767, \"color\": 4.0}, {\"pca0\": -1.6612339403923726, \"pca1\": -0.3428382108575046, \"color\": 4.0}, {\"pca0\": 1.0865187647783316, \"pca1\": 0.06776556757667647, \"color\": 6.0}, {\"pca0\": -0.8782661368846708, \"pca1\": -0.6372642642236627, \"color\": 4.0}, {\"pca0\": 2.127408106672159, \"pca1\": 0.017172677705489168, \"color\": 6.0}, {\"pca0\": -1.179841923893121, \"pca1\": -0.6636105287162255, \"color\": 4.0}, {\"pca0\": 1.950760752167223, \"pca1\": 0.7160588831643938, \"color\": 8.0}, {\"pca0\": 0.6558536312469685, \"pca1\": 0.10503954272471366, \"color\": 6.0}, {\"pca0\": -1.3055890516175153, \"pca1\": -0.5841360264632772, \"color\": 4.0}, {\"pca0\": -0.5989399524975761, \"pca1\": -0.8577857661883976, \"color\": 4.0}, {\"pca0\": -1.398872737225969, \"pca1\": -0.8075035324151081, \"color\": 4.0}, {\"pca0\": -1.4414924527027757, \"pca1\": -0.6192515181349234, \"color\": 4.0}, {\"pca0\": 0.993779125938781, \"pca1\": -0.042406202454686806, \"color\": 6.0}, {\"pca0\": 0.5655662233361861, \"pca1\": -0.2641216771703979, \"color\": 6.0}, {\"pca0\": 1.875405832385672, \"pca1\": 0.8022401576570797, \"color\": 8.0}, {\"pca0\": -0.23152213301597888, \"pca1\": -0.870753034005092, \"color\": 4.0}, {\"pca0\": -1.5936789795932995, \"pca1\": -0.3820385643380894, \"color\": 4.0}, {\"pca0\": 0.3559180901094073, \"pca1\": -0.5202339571431541, \"color\": 6.0}, {\"pca0\": 1.5814950320546897, \"pca1\": 1.4242509169296311, \"color\": 8.0}, {\"pca0\": -0.02399360183308621, \"pca1\": -1.1660493641380663, \"color\": 4.0}, {\"pca0\": 2.002450813835575, \"pca1\": 0.8688437716890549, \"color\": 8.0}, {\"pca0\": 0.6138640325027088, \"pca1\": -0.031044855230228485, \"color\": 6.0}, {\"pca0\": 1.2548742130369774, \"pca1\": 0.829653967939649, \"color\": 8.0}, {\"pca0\": 0.8160794563053315, \"pca1\": -0.5535248760169793, \"color\": 6.0}, {\"pca0\": -0.7946083258066594, \"pca1\": -0.24868453910031946, \"color\": 5.0}, {\"pca0\": -10.833387461478834, \"pca1\": 5.545794365815949, \"color\": 0.0}, {\"pca0\": 1.4596861484571835, \"pca1\": 0.7126258495088978, \"color\": 8.0}, {\"pca0\": -1.046052781585168, \"pca1\": -0.5960519647347605, \"color\": 4.0}, {\"pca0\": 0.08239168796500954, \"pca1\": 0.18685182858486185, \"color\": 6.0}, {\"pca0\": 0.4626902448395527, \"pca1\": -0.29495637617914217, \"color\": 6.0}, {\"pca0\": 0.46943447940039834, \"pca1\": -0.2940013386730516, \"color\": 6.0}, {\"pca0\": 0.27440322217198054, \"pca1\": 0.0029009120521589003, \"color\": 6.0}, {\"pca0\": -2.315136100330244, \"pca1\": -0.15993970564818588, \"color\": 4.0}, {\"pca0\": -1.8805966207812408, \"pca1\": -0.4868902582662008, \"color\": 4.0}, {\"pca0\": -0.7670605926145744, \"pca1\": -0.89724653457617, \"color\": 4.0}, {\"pca0\": 3.7640562159078437, \"pca1\": 2.338398427199503, \"color\": 10.0}, {\"pca0\": 0.4385213155890789, \"pca1\": -0.33072520364577235, \"color\": 6.0}, {\"pca0\": -0.5714450489811863, \"pca1\": -0.756240153092663, \"color\": 4.0}, {\"pca0\": 0.37727912696581795, \"pca1\": 0.033735523504302596, \"color\": 6.0}, {\"pca0\": -1.2349240906577101, \"pca1\": -0.7361033087121769, \"color\": 4.0}, {\"pca0\": -1.6835705232541185, \"pca1\": -0.6856981350403295, \"color\": 4.0}, {\"pca0\": -10.544384267302489, \"pca1\": 5.150880773226535, \"color\": 0.0}, {\"pca0\": -1.4123612063476605, \"pca1\": -0.8094136074272892, \"color\": 4.0}, {\"pca0\": 1.856985960951255, \"pca1\": 0.8976175468084886, \"color\": 8.0}, {\"pca0\": -0.3102291085593425, \"pca1\": -0.8658188179906056, \"color\": 4.0}, {\"pca0\": -0.5168407981551791, \"pca1\": -0.9430120031749931, \"color\": 4.0}, {\"pca0\": -1.5066679739301831, \"pca1\": -0.15921871088069992, \"color\": 4.0}, {\"pca0\": 1.2078145410065861, \"pca1\": 0.003222789877411425, \"color\": 6.0}, {\"pca0\": 1.4400632918621572, \"pca1\": -0.029467513930008356, \"color\": 6.0}, {\"pca0\": -1.2645394744463168, \"pca1\": -0.626749144956575, \"color\": 4.0}, {\"pca0\": -1.0083953095102065, \"pca1\": -0.5583729746993487, \"color\": 4.0}, {\"pca0\": 0.9194595059392399, \"pca1\": -0.2479551865242578, \"color\": 6.0}, {\"pca0\": -0.9696863824172104, \"pca1\": -0.8932231770991295, \"color\": 4.0}, {\"pca0\": 0.3090642999504243, \"pca1\": -0.29987835970770704, \"color\": 6.0}, {\"pca0\": -1.6420169117970433, \"pca1\": -0.45357630682795025, \"color\": 4.0}, {\"pca0\": 0.4501016742537015, \"pca1\": 0.04337014470722512, \"color\": 6.0}, {\"pca0\": 3.737524503113753, \"pca1\": 2.2143839039674607, \"color\": 12.0}, {\"pca0\": 0.6435976158432033, \"pca1\": -0.3670320839149985, \"color\": 6.0}, {\"pca0\": -0.6984899567282936, \"pca1\": -0.8228436795680374, \"color\": 4.0}, {\"pca0\": -9.446221844088726, \"pca1\": 3.8051729727234322, \"color\": 0.0}, {\"pca0\": 1.8226914321617451, \"pca1\": 0.4380795062494798, \"color\": 8.0}, {\"pca0\": 0.9745415990010328, \"pca1\": -0.1754624940849069, \"color\": 6.0}, {\"pca0\": -2.1322645656934833, \"pca1\": 0.17167642281170417, \"color\": 4.0}, {\"pca0\": 0.2024404074866664, \"pca1\": 0.008790078016135336, \"color\": 6.0}, {\"pca0\": -0.010559781501924938, \"pca1\": -0.3285692604348204, \"color\": 6.0}, {\"pca0\": -0.23819597792346361, \"pca1\": 0.04473704249797509, \"color\": 6.0}, {\"pca0\": -0.7052341912891393, \"pca1\": -0.823798717074128, \"color\": 4.0}, {\"pca0\": 1.7035995749598902, \"pca1\": 1.0867091404891749, \"color\": 8.0}, {\"pca0\": 0.36039855274788934, \"pca1\": 0.11211755702083105, \"color\": 6.0}, {\"pca0\": -1.6695379336607277, \"pca1\": -0.5705922365510803, \"color\": 4.0}, {\"pca0\": 1.3831574053258084, \"pca1\": 0.3029033134061564, \"color\": 6.0}, {\"pca0\": -1.0083953095102065, \"pca1\": -0.5583729746993487, \"color\": 4.0}, {\"pca0\": 1.7642463221117042, \"pca1\": 0.7874457767771252, \"color\": 8.0}, {\"pca0\": -1.3723776963447956, \"pca1\": -0.4316528396497228, \"color\": 4.0}, {\"pca0\": 2.7013375873256735, \"pca1\": 1.0629253269409524, \"color\": 8.0}, {\"pca0\": 0.9010395608020265, \"pca1\": -0.15257788492944957, \"color\": 6.0}, {\"pca0\": -0.33950631181120405, \"pca1\": 0.386722334252042, \"color\": 6.0}, {\"pca0\": -0.9328041831775609, \"pca1\": -0.596561220742546, \"color\": 4.0}, {\"pca0\": 2.7143116939769616, \"pca1\": 1.2091112189949893, \"color\": 8.0}, {\"pca0\": 0.5254565940352527, \"pca1\": -0.04281112978546089, \"color\": 6.0}, {\"pca0\": -0.8540972076341972, \"pca1\": -0.6014954367570324, \"color\": 4.0}, {\"pca0\": -2.621368601377478, \"pca1\": -1.122622542464545, \"color\": 3.0}, {\"pca0\": -0.6810652620386657, \"pca1\": -0.7880298896074978, \"color\": 4.0}, {\"pca0\": -0.8257608267493783, \"pca1\": -0.905001596583683, \"color\": 4.0}, {\"pca0\": -0.718988672019233, \"pca1\": -0.6797240156196711, \"color\": 4.0}, {\"pca0\": 1.8019146817103047, \"pca1\": 0.3220186578107406, \"color\": 8.0}, {\"pca0\": 0.30531638598329996, \"pca1\": 0.03962477702487963, \"color\": 6.0}, {\"pca0\": -2.063327433017989, \"pca1\": -0.05964584107093955, \"color\": 4.0}, {\"pca0\": 0.19569617292582062, \"pca1\": 0.007835040510044775, \"color\": 6.0}, {\"pca0\": 0.7193357534383819, \"pca1\": 0.8031604673685713, \"color\": 8.0}, {\"pca0\": -0.852777814327186, \"pca1\": -0.7472825796011361, \"color\": 4.0}, {\"pca0\": 0.5119280755791364, \"pca1\": 0.11681796220926713, \"color\": 6.0}, {\"pca0\": -0.7530280030211837, \"pca1\": -0.7821406360869207, \"color\": 4.0}, {\"pca0\": -1.2712837090071627, \"pca1\": -0.6277041824626656, \"color\": 4.0}, {\"pca0\": -2.3309057544852934, \"pca1\": -0.19476301281216996, \"color\": 4.0}, {\"pca0\": -2.315136100330244, \"pca1\": -0.15993970564818588, \"color\": 4.0}, {\"pca0\": 0.4076080780749633, \"pca1\": -0.3674491561750936, \"color\": 6.0}, {\"pca0\": -2.0274770236115534, \"pca1\": -0.4395436268010059, \"color\": 4.0}, {\"pca0\": 0.3626623246702531, \"pca1\": -0.5192789196370635, \"color\": 6.0}, {\"pca0\": 0.4076080780749633, \"pca1\": -0.3674491561750936, \"color\": 6.0}, {\"pca0\": -1.2728938966471954, \"pca1\": -0.32052611966886957, \"color\": 4.0}, {\"pca0\": 0.5462334181894892, \"pca1\": 0.07324980620987886, \"color\": 6.0}, {\"pca0\": -2.38709887816416, \"pca1\": -0.1540504959059093, \"color\": 4.0}, {\"pca0\": -4.216045106482538, \"pca1\": 1.801867162049379, \"color\": 4.0}, {\"pca0\": -0.8356579029778578, \"pca1\": -0.20607142060702174, \"color\": 5.0}, {\"pca0\": 1.0865187647783316, \"pca1\": 0.06776556757667647, \"color\": 6.0}, {\"pca0\": 1.4073205774552806, \"pca1\": 0.4618648578107233, \"color\": 8.0}, {\"pca0\": -0.6984899567282936, \"pca1\": -0.8228436795680374, \"color\": 4.0}, {\"pca0\": 0.7260799879992276, \"pca1\": 0.8041155048746618, \"color\": 8.0}, {\"pca0\": 0.243967900596447, \"pca1\": 0.22544158960111918, \"color\": 6.0}, {\"pca0\": -0.1295861023896104, \"pca1\": -1.018615763887987, \"color\": 4.0}, {\"pca0\": -2.1763397880231037, \"pca1\": -0.011143512835365108, \"color\": 4.0}, {\"pca0\": 1.4990078274635215, \"pca1\": -0.6379683387357112, \"color\": 6.0}, {\"pca0\": 2.6814828613546613, \"pca1\": 0.589957251901854, \"color\": 8.0}, {\"pca0\": 0.13386977160038557, \"pca1\": -0.0656127769919972, \"color\": 6.0}, {\"pca0\": 2.796088013980346, \"pca1\": 0.34595175726200506, \"color\": 8.0}, {\"pca0\": 3.7975097993541, \"pca1\": 0.6455750598165384, \"color\": 8.0}, {\"pca0\": 0.7060996002049849, \"pca1\": -0.19560807568284236, \"color\": 6.0}, {\"pca0\": 1.238727852223498, \"pca1\": 0.03994682996333321, \"color\": 6.0}, {\"pca0\": 0.33962172859365275, \"pca1\": -0.003943378974508659, \"color\": 6.0}, {\"pca0\": -2.183628106204251, \"pca1\": -0.1252943300402235, \"color\": 4.0}, {\"pca0\": 1.3574600663824854, \"pca1\": -0.21897626742739018, \"color\": 6.0}, {\"pca0\": -1.4550432883116646, \"pca1\": -0.2019854038182103, \"color\": 4.0}, {\"pca0\": 1.9164554095568704, \"pca1\": 0.7596270391637819, \"color\": 8.0}, {\"pca0\": -0.8320009901729495, \"pca1\": -0.6312216436057964, \"color\": 4.0}, {\"pca0\": -0.421605466153601, \"pca1\": 0.4719485712386374, \"color\": 6.0}, {\"pca0\": 0.6846471930144019, \"pca1\": -0.40964520240829627, \"color\": 6.0}, {\"pca0\": -0.4462784665413494, \"pca1\": 0.16144475328803004, \"color\": 6.0}, {\"pca0\": -3.3881930948839076, \"pca1\": 0.007063481086458713, \"color\": 3.0}, {\"pca0\": -2.4180819137183853, \"pca1\": -0.47051532062861534, \"color\": 3.0}, {\"pca0\": -0.12359825485433389, \"pca1\": -0.2955372488266413, \"color\": 6.0}, {\"pca0\": 2.412478481121053, \"pca1\": 0.5370123600553057, \"color\": 8.0}, {\"pca0\": 0.7853106468856231, \"pca1\": 0.07419269878664837, \"color\": 6.0}, {\"pca0\": -0.4326361950496004, \"pca1\": -0.4476311763071638, \"color\": 4.0}, {\"pca0\": -0.9569731861308307, \"pca1\": -0.6323301357657767, \"color\": 4.0}, {\"pca0\": -1.339894394227868, \"pca1\": -0.540567870463889, \"color\": 4.0}, {\"pca0\": 2.515858457052165, \"pca1\": 0.8425819619914265, \"color\": 8.0}, {\"pca0\": -0.7221148392098642, \"pca1\": -0.7454167711142, \"color\": 4.0}, {\"pca0\": -0.1595593183306648, \"pca1\": -0.8766421999690684, \"color\": 4.0}, {\"pca0\": 0.5051838410182907, \"pca1\": 0.11586292470317659, \"color\": 6.0}, {\"pca0\": 1.950760752167223, \"pca1\": 0.7160588831643938, \"color\": 8.0}, {\"pca0\": -10.6199830938883, \"pca1\": 5.2370295858079325, \"color\": 0.0}, {\"pca0\": 1.2730331948338507, \"pca1\": -0.003621326036055028, \"color\": 6.0}, {\"pca0\": 1.337477438516649, \"pca1\": 1.019162721437031, \"color\": 8.0}, {\"pca0\": 0.48440701686405424, \"pca1\": -0.0001980112921631599, \"color\": 6.0}, {\"pca0\": -2.20833474686434, \"pca1\": 0.06557151149942925, \"color\": 4.0}, {\"pca0\": 1.5538697326014774, \"pca1\": 1.2762299513592772, \"color\": 8.0}, {\"pca0\": 0.37162484097751236, \"pca1\": -1.0945198012551098, \"color\": 4.0}, {\"pca0\": -0.0033376310024970618, \"pca1\": -0.06834959285044827, \"color\": 6.0}, {\"pca0\": 0.993779125938781, \"pca1\": -0.042406202454686806, \"color\": 6.0}, {\"pca0\": -1.2988448170566695, \"pca1\": -0.5831809889571867, \"color\": 4.0}, {\"pca0\": -0.045256134324717916, \"pca1\": -0.6780804843508925, \"color\": 5.0}, {\"pca0\": -0.6636021421238467, \"pca1\": -0.18866243133174448, \"color\": 6.0}, {\"pca0\": 2.4298632001790526, \"pca1\": 0.7333654045793551, \"color\": 8.0}, {\"pca0\": 1.1930478854143385, \"pca1\": 0.7562062379942075, \"color\": 8.0}, {\"pca0\": 3.903777882946971, \"pca1\": 0.5961176502965729, \"color\": 8.0}, {\"pca0\": -1.4342040976702306, \"pca1\": -0.5051006571517649, \"color\": 4.0}, {\"pca0\": 0.9127152713783939, \"pca1\": -0.24891022403034835, \"color\": 6.0}, {\"pca0\": 2.7143116939769616, \"pca1\": 1.2091112189949893, \"color\": 8.0}, {\"pca0\": 0.4177444914348423, \"pca1\": -0.446786139641112, \"color\": 6.0}, {\"pca0\": 0.22319107644221042, \"pca1\": 0.10938065360577943, \"color\": 6.0}, {\"pca0\": 1.4920434049788385, \"pca1\": 1.2027822214138357, \"color\": 8.0}, {\"pca0\": 0.1507504195211104, \"pca1\": -0.1439947229519251, \"color\": 6.0}, {\"pca0\": -2.063327433017989, \"pca1\": -0.05964584107093955, \"color\": 4.0}, {\"pca0\": -0.08363001146127405, \"pca1\": 0.22835654247477982, \"color\": 6.0}, {\"pca0\": -0.3622748316929895, \"pca1\": -0.7593925031981884, \"color\": 4.0}, {\"pca0\": -0.38857122908895864, \"pca1\": -0.4832755824663544, \"color\": 5.0}, {\"pca0\": 2.5467716208634843, \"pca1\": 0.8793058269641474, \"color\": 8.0}, {\"pca0\": -0.5786671994806142, \"pca1\": -1.016459820677035, \"color\": 4.0}, {\"pca0\": 2.028443389155012, \"pca1\": 0.49974890426696833, \"color\": 8.0}, {\"pca0\": 2.2092642618115126, \"pca1\": 1.5282388744147086, \"color\": 8.0}, {\"pca0\": 1.4400632918621572, \"pca1\": -0.029467513930008356, \"color\": 6.0}, {\"pca0\": -1.1320481121610766, \"pca1\": -0.7052686097034326, \"color\": 4.0}, {\"pca0\": -0.9738537603487593, \"pca1\": -0.5539481022492483, \"color\": 4.0}, {\"pca0\": -0.044387208173695555, \"pca1\": -0.025736474357150547, \"color\": 6.0}, {\"pca0\": -0.7532940146295858, \"pca1\": -0.6361558596202828, \"color\": 4.0}, {\"pca0\": 0.1854114972995541, \"pca1\": -0.446773994711791, \"color\": 6.0}, {\"pca0\": -1.5936789795932995, \"pca1\": -0.3820385643380894, \"color\": 4.0}, {\"pca0\": 0.45313811788464375, \"pca1\": 0.22228923949559376, \"color\": 6.0}, {\"pca0\": -0.9951747049746951, \"pca1\": -0.783204861721656, \"color\": 4.0}, {\"pca0\": 0.17262462386677555, \"pca1\": 0.003203383486485512, \"color\": 6.0}, {\"pca0\": 0.931952724613346, \"pca1\": -0.1158540199567288, \"color\": 6.0}, {\"pca0\": -1.710587510831926, \"pca1\": -0.5279791180577825, \"color\": 4.0}, {\"pca0\": 1.8647653478885182, \"pca1\": 0.6068421506391212, \"color\": 8.0}, {\"pca0\": -0.0033376310024970618, \"pca1\": -0.06834959285044827, \"color\": 6.0}, {\"pca0\": -2.5316899258195456, \"pca1\": 0.0035446964536581596, \"color\": 4.0}, {\"pca0\": 1.2338072637316153, \"pca1\": -0.36587190243147416, \"color\": 6.0}, {\"pca0\": 1.826072649734343, \"pca1\": 0.8608935067225667, \"color\": 8.0}, {\"pca0\": 0.45349385305273476, \"pca1\": -0.036921876264883864, \"color\": 6.0}, {\"pca0\": -1.3775518294514313, \"pca1\": -0.5782468167210006, \"color\": 4.0}, {\"pca0\": -0.07014154233958253, \"pca1\": 0.23026661748696092, \"color\": 6.0}, {\"pca0\": 1.3812312431772704, \"pca1\": 1.4475222807999535, \"color\": 8.0}, {\"pca0\": 0.0034066035583487047, \"pca1\": -0.06739455534435772, \"color\": 6.0}, {\"pca0\": 0.6756904338281439, \"pca1\": 0.04240296227181357, \"color\": 6.0}, {\"pca0\": -0.9494135925488503, \"pca1\": -1.0518971878094665, \"color\": 4.0}, {\"pca0\": -0.14413701947969795, \"pca1\": 0.00912158212863416, \"color\": 6.0}, {\"pca0\": 1.7076415764780628, \"pca1\": 0.10564961403292149, \"color\": 6.0}, {\"pca0\": 2.460776363990372, \"pca1\": 0.7700892695520759, \"color\": 8.0}, {\"pca0\": 2.625468305073719, \"pca1\": 1.293382418475494, \"color\": 8.0}, {\"pca0\": 0.21305473678512757, \"pca1\": 0.18871772462839845, \"color\": 6.0}, {\"pca0\": -0.03062063018870689, \"pca1\": 0.2353542005987366, \"color\": 6.0}, {\"pca0\": 0.08239168796500954, \"pca1\": 0.18685182858486185, \"color\": 6.0}, {\"pca0\": 0.1442180892904446, \"pca1\": 0.2602996460869039, \"color\": 6.0}, {\"pca0\": -0.7532940146295858, \"pca1\": -0.6361558596202828, \"color\": 4.0}, {\"pca0\": 0.29857215142245425, \"pca1\": 0.03866973951878907, \"color\": 6.0}, {\"pca0\": -0.5325527367945994, \"pca1\": 0.3923078109257474, \"color\": 6.0}, {\"pca0\": 1.0865187647783316, \"pca1\": 0.06776556757667647, \"color\": 6.0}, {\"pca0\": 3.336104839495305, \"pca1\": 1.9807675787682746, \"color\": 12.0}, {\"pca0\": 2.6264007682928683, \"pca1\": 0.5174645594625032, \"color\": 8.0}, {\"pca0\": -1.5511126289088568, \"pca1\": -0.6510412108714582, \"color\": 4.0}, {\"pca0\": -1.4274598631093849, \"pca1\": -0.5041456196456744, \"color\": 4.0}, {\"pca0\": -0.41700126328948783, \"pca1\": -1.0910963989546174, \"color\": 4.0}, {\"pca0\": 3.0849472675905596, \"pca1\": 0.8718648992608524, \"color\": 8.0}, {\"pca0\": -0.051609358673123426, \"pca1\": -0.28595614194152263, \"color\": 6.0}, {\"pca0\": -0.8086142040716494, \"pca1\": -1.129368362788549, \"color\": 4.0}, {\"pca0\": -0.7260110154433759, \"pca1\": -0.9398596530694677, \"color\": 4.0}, {\"pca0\": 0.2989278865905452, \"pca1\": -0.22054137624168862, \"color\": 6.0}, {\"pca0\": 1.4501995578164437, \"pca1\": -0.108804672509228, \"color\": 6.0}, {\"pca0\": 0.5964793871475056, \"pca1\": -0.2273978121976772, \"color\": 6.0}, {\"pca0\": 2.1728729422573223, \"pca1\": 0.7627053877097915, \"color\": 8.0}, {\"pca0\": 0.4641342638470923, \"pca1\": 0.1584760431964743, \"color\": 6.0}, {\"pca0\": -1.3038070604585148, \"pca1\": -0.3572499846415903, \"color\": 4.0}, {\"pca0\": -4.216045106482538, \"pca1\": 1.801867162049379, \"color\": 4.0}, {\"pca0\": 2.0941550054875235, \"pca1\": 1.2707456251694742, \"color\": 8.0}, {\"pca0\": 0.5037398220107511, \"pca1\": -0.3375694946724399, \"color\": 6.0}, {\"pca0\": -0.7774629438800594, \"pca1\": -0.671924687086913, \"color\": 4.0}, {\"pca0\": 0.24688216345689817, \"pca1\": -0.11411506144927137, \"color\": 6.0}, {\"pca0\": -0.7286421158916988, \"pca1\": -0.6824549624695025, \"color\": 4.0}, {\"pca0\": 1.2575244322421995, \"pca1\": -0.57389734463743, \"color\": 6.0}, {\"pca0\": 0.1478361566606592, \"pca1\": 0.19556192809846543, \"color\": 6.0}, {\"pca0\": -0.24649467047963478, \"pca1\": -1.1645563613859804, \"color\": 4.0}, {\"pca0\": 1.6005792420716454, \"pca1\": 0.39143300170408224, \"color\": 8.0}, {\"pca0\": -1.9665358647649591, \"pca1\": -0.36956547847633264, \"color\": 4.0}, {\"pca0\": 2.182557594877312, \"pca1\": 0.43957413457118716, \"color\": 8.0}, {\"pca0\": 2.1931457689770806, \"pca1\": 0.6040314207777545, \"color\": 8.0}, {\"pca0\": -1.2229858261378437, \"pca1\": -0.3946272729658955, \"color\": 4.0}, {\"pca0\": -0.8148544043466187, \"pca1\": -0.8555884535889627, \"color\": 4.0}, {\"pca0\": -0.7670605926145744, \"pca1\": -0.89724653457617, \"color\": 4.0}, {\"pca0\": 1.888934424544584, \"pca1\": 0.6426111532189525, \"color\": 8.0}, {\"pca0\": 0.19605190809391163, \"pca1\": -0.2513760752504329, \"color\": 6.0}, {\"pca0\": -1.2505068848529262, \"pca1\": -0.511643246467326, \"color\": 4.0}, {\"pca0\": -1.448299053750819, \"pca1\": -0.20103036631211976, \"color\": 4.0}, {\"pca0\": 0.08562661122439306, \"pca1\": -1.1342596276232315, \"color\": 4.0}, {\"pca0\": 0.9594737833284283, \"pca1\": 0.0011619535447014804, \"color\": 6.0}, {\"pca0\": -0.798239768034296, \"pca1\": -0.7879856230822527, \"color\": 4.0}, {\"pca0\": 0.32948531523377367, \"pca1\": 0.07539360449150978, \"color\": 6.0}, {\"pca0\": -0.8735546384814226, \"pca1\": -0.8633435155964758, \"color\": 4.0}, {\"pca0\": 0.5762066341305436, \"pca1\": -0.06872375770903973, \"color\": 6.0}, {\"pca0\": -1.2128494864807609, \"pca1\": -0.4739643439885145, \"color\": 4.0}, {\"pca0\": 3.6964749259425544, \"pca1\": 2.2569970224607583, \"color\": 12.0}, {\"pca0\": 0.4110002568739966, \"pca1\": -0.44774117714720263, \"color\": 6.0}, {\"pca0\": 1.2899136953489831, \"pca1\": -0.08200344710918407, \"color\": 6.0}, {\"pca0\": -0.3653112753239318, \"pca1\": -0.9383115979865569, \"color\": 4.0}, {\"pca0\": -0.2755327557365497, \"pca1\": -0.5163075940745335, \"color\": 5.0}, {\"pca0\": 2.310054337067105, \"pca1\": 0.7499720182757481, \"color\": 8.0}, {\"pca0\": -1.1387923467219225, \"pca1\": -0.7062236472095232, \"color\": 4.0}, {\"pca0\": -0.1295861023896104, \"pca1\": -1.018615763887987, \"color\": 4.0}, {\"pca0\": -0.2620042372804335, \"pca1\": -0.6759366860692616, \"color\": 5.0}, {\"pca0\": -0.9904631697200488, \"pca1\": -1.0092840693161689, \"color\": 4.0}, {\"pca0\": -0.0033376310024970618, \"pca1\": -0.06834959285044827, \"color\": 6.0}, {\"pca0\": 1.0792412972694259, \"pca1\": -0.549491402408279, \"color\": 6.0}, {\"pca0\": 2.587821198034683, \"pca1\": 0.8366927084708496, \"color\": 8.0}, {\"pca0\": 0.0928201944291871, \"pca1\": -0.022999658498699484, \"color\": 6.0}, {\"pca0\": 1.4811128690333557, \"pca1\": -0.0720806324233061, \"color\": 6.0}, {\"pca0\": -0.8255214896179788, \"pca1\": -0.28540840407304013, \"color\": 5.0}, {\"pca0\": -0.6023582127925058, \"pca1\": -0.7929640180653837, \"color\": 4.0}, {\"pca0\": 2.3965200050863484, \"pca1\": 0.2584872545280761, \"color\": 8.0}, {\"pca0\": -1.2560132487264706, \"pca1\": -0.3989080656287974, \"color\": 4.0}, {\"pca0\": -0.6265272157457756, \"pca1\": -0.8287329330886144, \"color\": 4.0}, {\"pca0\": 0.4323612937304072, \"pca1\": 0.10622830350025406, \"color\": 6.0}, {\"pca0\": -2.344971947499627, \"pca1\": 0.1915007919671413, \"color\": 4.0}, {\"pca0\": 3.7718298457241057, \"pca1\": 2.170815747968072, \"color\": 12.0}, {\"pca0\": -0.5293706175661596, \"pca1\": -0.4058044074872719, \"color\": 5.0}, {\"pca0\": 2.2275034219848187, \"pca1\": 0.5914039855897577, \"color\": 8.0}, {\"pca0\": -0.6569926669364617, \"pca1\": 0.325706359586138, \"color\": 6.0}, {\"pca0\": 0.10970084234991191, \"pca1\": -0.10138160445862736, \"color\": 6.0}, {\"pca0\": 0.5974194087205668, \"pca1\": -0.04870029574943732, \"color\": 6.0}, {\"pca0\": 1.02391645626158, \"pca1\": -0.4811174560752358, \"color\": 5.0}, {\"pca0\": -0.7119784258499852, \"pca1\": -0.8247537545802185, \"color\": 4.0}, {\"pca0\": -0.8356312285008552, \"pca1\": -0.9716493895843025, \"color\": 4.0}, {\"pca0\": 2.175813360316466, \"pca1\": 0.43861909706509666, \"color\": 8.0}, {\"pca0\": -0.14413701947969795, \"pca1\": 0.00912158212863416, \"color\": 6.0}, {\"pca0\": 3.803665181421445, \"pca1\": 1.8506325614536348, \"color\": 12.0}, {\"pca0\": -1.2001146769100828, \"pca1\": -0.5049364742275881, \"color\": 4.0}, {\"pca0\": -0.8735546384814226, \"pca1\": -0.8633435155964758, \"color\": 4.0}, {\"pca0\": 2.5535158554243305, \"pca1\": 0.880260864470238, \"color\": 8.0}, {\"pca0\": 1.6760785899476043, \"pca1\": 0.9696932545443451, \"color\": 8.0}, {\"pca0\": 2.110542543497409, \"pca1\": 0.4145226672803729, \"color\": 8.0}, {\"pca0\": 0.037711946168701424, \"pca1\": -0.110962711343746, \"color\": 6.0}, {\"pca0\": -0.2725013205338163, \"pca1\": 0.08830519849736337, \"color\": 6.0}, {\"pca0\": 0.27214104127991207, \"pca1\": -1.205646521235963, \"color\": 4.0}, {\"pca0\": -1.173097689332275, \"pca1\": -0.6626554912101349, \"color\": 4.0}, {\"pca0\": -0.16049933990372597, \"pca1\": -1.0553397164173082, \"color\": 4.0}, {\"pca0\": 0.3399774637617437, \"pca1\": -0.2631544947349863, \"color\": 6.0}, {\"pca0\": 1.673046054191438, \"pca1\": 0.6602787386674823, \"color\": 8.0}, {\"pca0\": 0.2989278865905452, \"pca1\": -0.22054137624168862, \"color\": 6.0}, {\"pca0\": -1.3055890516175153, \"pca1\": -0.5841360264632772, \"color\": 4.0}, {\"pca0\": 1.2010703064457404, \"pca1\": 0.002267752371320883, \"color\": 6.0}, {\"pca0\": -0.5714450489811863, \"pca1\": -0.756240153092663, \"color\": 4.0}, {\"pca0\": 2.304767094990988, \"pca1\": 1.3469676359089517, \"color\": 8.0}, {\"pca0\": -2.7280200150620133, \"pca1\": 0.6695912482603574, \"color\": 4.0}, {\"pca0\": 1.2062862050165328, \"pca1\": -0.48288787593290444, \"color\": 6.0}, {\"pca0\": -1.2512810105996968, \"pca1\": -1.1539405623470433, \"color\": 4.0}, {\"pca0\": 0.5462334181894892, \"pca1\": 0.07324980620987886, \"color\": 6.0}, {\"pca0\": 1.4811128690333557, \"pca1\": -0.0720806324233061, \"color\": 6.0}, {\"pca0\": -7.772486067944375, \"pca1\": 1.911419628513286, \"color\": 0.0}, {\"pca0\": -3.2659354867646395, \"pca1\": 0.04047770936808981, \"color\": 3.0}, {\"pca0\": -1.904709500290922, \"pca1\": -0.29611770475259086, \"color\": 4.0}, {\"pca0\": -1.2208915010643195, \"pca1\": -0.6209974102229278, \"color\": 4.0}, {\"pca0\": 1.0005233604996266, \"pca1\": -0.041451164948596214, \"color\": 6.0}, {\"pca0\": 1.957504986728069, \"pca1\": 0.7170139206704842, \"color\": 8.0}, {\"pca0\": 0.6496581793455075, \"pca1\": 0.5322818535300193, \"color\": 8.0}, {\"pca0\": -0.29428848221167897, \"pca1\": -1.1228982803987733, \"color\": 4.0}, {\"pca0\": -0.8117282371559875, \"pca1\": -0.7898956980944338, \"color\": 4.0}, {\"pca0\": -1.4482366872636214, \"pca1\": -0.620206555641014, \"color\": 4.0}, {\"pca0\": 0.26462254398019247, \"pca1\": -0.17697322024230033, \"color\": 6.0}, {\"pca0\": -1.428976599771231, \"pca1\": -0.2777560478273032, \"color\": 4.0}, {\"pca0\": 0.6779029584535561, \"pca1\": -0.41060023991438677, \"color\": 6.0}, {\"pca0\": 1.7231967449405057, \"pca1\": 0.830058895270423, \"color\": 8.0}, {\"pca0\": -1.3021969096698802, \"pca1\": -0.6644280912136866, \"color\": 4.0}, {\"pca0\": -2.441816796543605, \"pca1\": -0.4736167931807552, \"color\": 3.0}, {\"pca0\": -1.4685094402805834, \"pca1\": -0.46153250115237654, \"color\": 4.0}, {\"pca0\": -2.9549924938675662, \"pca1\": -0.3681417312393698, \"color\": 3.0}, {\"pca0\": -2.4275751361279005, \"pca1\": 0.0019920822480597694, \"color\": 4.0}, {\"pca0\": -1.257795239885471, \"pca1\": -0.6257941074504845, \"color\": 4.0}, {\"pca0\": 0.31241635571223675, \"pca1\": -0.2186313012295075, \"color\": 6.0}, {\"pca0\": 0.1720051596139291, \"pca1\": 0.2313308431216962, \"color\": 6.0}, {\"pca0\": -0.27931594474802307, \"pca1\": -0.8290949530178848, \"color\": 4.0}, {\"pca0\": -0.8257608267493783, \"pca1\": -0.905001596583683, \"color\": 4.0}, {\"pca0\": 1.5012397967656566, \"pca1\": 0.9447477214995771, \"color\": 8.0}, {\"pca0\": -0.4859276343438596, \"pca1\": -0.9062881382022724, \"color\": 4.0}, {\"pca0\": 2.0502446255676197, \"pca1\": 0.8271856907018476, \"color\": 8.0}, {\"pca0\": 0.6650500230337864, \"pca1\": -0.15299495718954462, \"color\": 6.0}, {\"pca0\": -2.1322645656934833, \"pca1\": 0.17167642281170417, \"color\": 4.0}, {\"pca0\": 0.5104840565715968, \"pca1\": -0.3366144571663493, \"color\": 6.0}, {\"pca0\": -1.6695379336607277, \"pca1\": -0.5705922365510803, \"color\": 4.0}, {\"pca0\": 3.731702440438927, \"pca1\": 1.8565218149742122, \"color\": 12.0}, {\"pca0\": 0.3598142663429191, \"pca1\": -0.3257910751878864, \"color\": 6.0}, {\"pca0\": 1.4966680374957981, \"pca1\": 0.6523286488141956, \"color\": 8.0}, {\"pca0\": -0.852777814327186, \"pca1\": -0.7472825796011361, \"color\": 4.0}, {\"pca0\": -1.9457590774621207, \"pca1\": -0.2535045862592931, \"color\": 4.0}, {\"pca0\": 2.2105304880350802, \"pca1\": 0.800384465301804, \"color\": 8.0}, {\"pca0\": -0.6779390948480345, \"pca1\": -0.7223371341129688, \"color\": 4.0}, {\"pca0\": -1.774750329683364, \"pca1\": -0.5690708293276071, \"color\": 4.0}, {\"pca0\": -0.860066169359731, \"pca1\": -0.8614334405842947, \"color\": 4.0}, {\"pca0\": -0.2006088955018633, \"pca1\": -0.8340290814757707, \"color\": 4.0}, {\"pca0\": 2.877098404988049, \"pca1\": 0.7309636333853612, \"color\": 8.0}, {\"pca0\": -0.12619399729337324, \"pca1\": -1.0989078724166965, \"color\": 4.0}, {\"pca0\": 0.7060996002049849, \"pca1\": -0.19560807568284236, \"color\": 6.0}, {\"pca0\": 2.6539618763423753, \"pca1\": 0.4729413659570244, \"color\": 8.0}, {\"pca0\": 2.0830737214769157, \"pca1\": 0.3284473270337333, \"color\": 8.0}, {\"pca0\": -1.5869347450324538, \"pca1\": -0.3810835268319988, \"color\": 4.0}, {\"pca0\": 2.612912299171177, \"pca1\": 0.515554484450322, \"color\": 8.0}, {\"pca0\": 0.46943447940039834, \"pca1\": -0.2940013386730516, \"color\": 6.0}, {\"pca0\": -0.6434077899637043, \"pca1\": -0.750350899572086, \"color\": 4.0}, {\"pca0\": 0.26462254398019247, \"pca1\": -0.17697322024230033, \"color\": 6.0}, {\"pca0\": 2.3375753220793913, \"pca1\": 0.8669879042205777, \"color\": 8.0}, {\"pca0\": -1.3263658757717518, \"pca1\": -0.700196962458617, \"color\": 4.0}, {\"pca0\": 0.441913420685316, \"pca1\": -0.4110173121744819, \"color\": 6.0}, {\"pca0\": -1.257795239885471, \"pca1\": -0.6257941074504845, \"color\": 4.0}, {\"pca0\": -1.3055890516175153, \"pca1\": -0.5841360264632772, \"color\": 4.0}, {\"pca0\": -1.179841923893121, \"pca1\": -0.6636105287162255, \"color\": 4.0}, {\"pca0\": 0.6481693751130616, \"pca1\": -0.07461301122961679, \"color\": 6.0}, {\"pca0\": 2.533058238221502, \"pca1\": 1.233006961870781, \"color\": 8.0}, {\"pca0\": -0.16049933990372597, \"pca1\": -1.0553397164173082, \"color\": 4.0}, {\"pca0\": 2.6539618763423753, \"pca1\": 0.4729413659570244, \"color\": 8.0}, {\"pca0\": -1.1188274707741672, \"pca1\": -0.9301004529474398, \"color\": 4.0}, {\"pca0\": -0.9193157140558693, \"pca1\": -0.5946511457303649, \"color\": 4.0}, {\"pca0\": -2.780716164346036, \"pca1\": -0.6376795958669482, \"color\": 4.0}, {\"pca0\": -1.7468074784732877, \"pca1\": -0.4193316942847358, \"color\": 4.0}, {\"pca0\": 1.683182467551317, \"pca1\": 0.580941755201464, \"color\": 8.0}, {\"pca0\": 0.7142879274761665, \"pca1\": 0.2587794687554652, \"color\": 6.0}, {\"pca0\": 0.14400618496026463, \"pca1\": -0.14494976045801566, \"color\": 6.0}, {\"pca0\": -0.44487805717266116, \"pca1\": -0.94890125669557, \"color\": 4.0}, {\"pca0\": -0.8117282371559875, \"pca1\": -0.7898956980944338, \"color\": 4.0}, {\"pca0\": 3.0641703697335267, \"pca1\": 0.7558038757089122, \"color\": 8.0}, {\"pca0\": 0.13831928125642282, \"pca1\": 0.0467715394858738, \"color\": 6.0}, {\"pca0\": -1.924982253307884, \"pca1\": -0.13744365026395344, \"color\": 4.0}, {\"pca0\": 0.04808634535465681, \"pca1\": 0.23041998458425014, \"color\": 6.0}, {\"pca0\": 1.2213431331654985, \"pca1\": -0.15640621456071607, \"color\": 6.0}, {\"pca0\": 1.6593960040061293, \"pca1\": -0.09648657465245726, \"color\": 6.0}, {\"pca0\": 0.2929177917313525, \"pca1\": -1.0895856727972237, \"color\": 4.0}, {\"pca0\": 1.2319836176626522, \"pca1\": 0.03899179245724267, \"color\": 6.0}, {\"pca0\": -0.8917546060063624, \"pca1\": -0.6391743392358438, \"color\": 4.0}, {\"pca0\": 2.124123298648114, \"pca1\": 0.28583420854043556, \"color\": 8.0}, {\"pca0\": -0.9146042156526211, \"pca1\": -0.8207303971031781, \"color\": 4.0}, {\"pca0\": -1.3864102859381864, \"pca1\": -0.546758738138972, \"color\": 4.0}, {\"pca0\": 0.14400618496026463, \"pca1\": -0.14494976045801566, \"color\": 6.0}, {\"pca0\": 0.243967900596447, \"pca1\": 0.22544158960111918, \"color\": 6.0}, {\"pca0\": -1.1180155225676858, \"pca1\": -0.5901627112141835, \"color\": 4.0}, {\"pca0\": -0.0033376310024970618, \"pca1\": -0.06834959285044827, \"color\": 6.0}, {\"pca0\": 1.0454691876071331, \"pca1\": 0.11037868606997421, \"color\": 6.0}, {\"pca0\": -0.8081101697857729, \"pca1\": -0.8546334160828722, \"color\": 4.0}, {\"pca0\": 2.640433284183463, \"pca1\": 0.6325703703951517, \"color\": 8.0}, {\"pca0\": -0.14646675031033518, \"pca1\": -0.9402338179280592, \"color\": 4.0}, {\"pca0\": 1.827107949516353, \"pca1\": 0.5691632481603097, \"color\": 8.0}, {\"pca0\": -0.0033376310024970618, \"pca1\": -0.06834959285044827, \"color\": 6.0}, {\"pca0\": 0.23332748980208945, \"pca1\": 0.03004367013976101, \"color\": 6.0}, {\"pca0\": 1.2730331948338507, \"pca1\": -0.003621326036055028, \"color\": 6.0}, {\"pca0\": -3.6374228120983583, \"pca1\": -1.3190833192958502, \"color\": 2.0}, {\"pca0\": 3.4506801812122694, \"pca1\": 0.6148817254264697, \"color\": 8.0}, {\"pca0\": -0.8286088850767124, \"pca1\": -0.7115137521345059, \"color\": 4.0}, {\"pca0\": 2.2134707586886315, \"pca1\": 0.4762979995439078, \"color\": 8.0}, {\"pca0\": 0.3502621393880102, \"pca1\": 0.19145454048684948, \"color\": 6.0}, {\"pca0\": 2.877098404988049, \"pca1\": 0.7309636333853612, \"color\": 8.0}, {\"pca0\": -0.9837189351592031, \"pca1\": -1.0083290318100784, \"color\": 4.0}, {\"pca0\": -1.4263937959410513, \"pca1\": -0.9245195059165382, \"color\": 4.0}, {\"pca0\": -1.8974772318505673, \"pca1\": -0.4085082685279728, \"color\": 4.0}, {\"pca0\": 1.856985960951255, \"pca1\": 0.8976175468084886, \"color\": 8.0}, {\"pca0\": -0.339752563113086, \"pca1\": -0.13188479935487285, \"color\": 6.0}, {\"pca0\": -1.6116077454202025, \"pca1\": -0.6915873447826061, \"color\": 4.0}, {\"pca0\": 1.7860583723451544, \"pca1\": 0.6117763666536075, \"color\": 8.0}, {\"pca0\": 1.4399314773120744, \"pca1\": 1.4552773428074666, \"color\": 8.0}, {\"pca0\": 0.7167400109993424, \"pca1\": -0.0002101562214841601, \"color\": 6.0}, {\"pca0\": 2.5467716208634843, \"pca1\": 0.8793058269641474, \"color\": 8.0}, {\"pca0\": -3.8430510418945625, \"pca1\": 1.3051809822922595, \"color\": 4.0}, {\"pca0\": 0.5037398220107511, \"pca1\": -0.3375694946724399, \"color\": 6.0}, {\"pca0\": -0.23063983200753452, \"pca1\": 0.3856297779590216, \"color\": 6.0}, {\"pca0\": 2.2105304880350802, \"pca1\": 0.800384465301804, \"color\": 8.0}, {\"pca0\": -7.456846197769325, \"pca1\": 1.56870199149014, \"color\": 0.0}, {\"pca0\": 2.777614678993245, \"pca1\": 0.6198370009611086, \"color\": 8.0}, {\"pca0\": -1.8559236203934921, \"pca1\": -0.17638644031559358, \"color\": 4.0}, {\"pca0\": 0.47376660606969667, \"pca1\": -0.19559593075352136, \"color\": 6.0}, {\"pca0\": 2.1931457689770806, \"pca1\": 0.6040314207777545, \"color\": 8.0}, {\"pca0\": 1.1459882133839472, \"pca1\": -0.07022494006803001, \"color\": 6.0}, {\"pca0\": 1.3843312286756322, \"pca1\": 0.7988071240015837, \"color\": 8.0}, {\"pca0\": 3.7785740802849515, \"pca1\": 2.1717707854741626, \"color\": 12.0}, {\"pca0\": -1.645913088030555, \"pca1\": -0.6480191887832178, \"color\": 4.0}, {\"pca0\": -1.9908606208981967, \"pca1\": 0.20919989589246057, \"color\": 4.0}, {\"pca0\": -0.17844236209005068, \"pca1\": 0.052689738128022454, \"color\": 6.0}, {\"pca0\": 2.460272292853097, \"pca1\": 0.49535427906809865, \"color\": 8.0}, {\"pca0\": 0.7268764243592214, \"pca1\": -0.07954713968750261, \"color\": 6.0}, {\"pca0\": -1.0252759574309314, \"pca1\": -0.47999102873942073, \"color\": 4.0}, {\"pca0\": -0.8252567556121038, \"pca1\": -0.6302666060997058, \"color\": 4.0}, {\"pca0\": -1.9182540560048038, \"pca1\": -0.5245692045233125, \"color\": 4.0}, {\"pca0\": 2.057532906897368, \"pca1\": 0.9413364641284058, \"color\": 8.0}, {\"pca0\": 0.4283849022291999, \"pca1\": -0.2513882201797539, \"color\": 6.0}, {\"pca0\": 2.0333639776468946, \"pca1\": 0.9055676366617758, \"color\": 8.0}, {\"pca0\": -0.5714450489811863, \"pca1\": -0.756240153092663, \"color\": 4.0}, {\"pca0\": 0.48440701686405424, \"pca1\": -0.0001980112921631599, \"color\": 6.0}, {\"pca0\": -1.0629333558030967, \"pca1\": -0.517669931218232, \"color\": 4.0}, {\"pca0\": 0.8081791423416246, \"pca1\": 0.7188892678880663, \"color\": 8.0}, {\"pca0\": -1.1073751117733284, \"pca1\": -0.3947647917528253, \"color\": 4.0}, {\"pca0\": -0.6192388607132306, \"pca1\": -0.7145820721054558, \"color\": 4.0}, {\"pca0\": 2.4095380630619094, \"pca1\": 0.8610986507000008, \"color\": 8.0}, {\"pca0\": -1.7848867061918448, \"pca1\": -0.48973380208328837, \"color\": 4.0}, {\"pca0\": 1.1976782750522994, \"pca1\": 0.08255994845663091, \"color\": 6.0}, {\"pca0\": -1.371311629176462, \"pca1\": -0.8520267259205869, \"color\": 4.0}, {\"pca0\": -0.6779390948480345, \"pca1\": -0.7223371341129688, \"color\": 4.0}, {\"pca0\": 0.441913420685316, \"pca1\": -0.4110173121744819, \"color\": 6.0}, {\"pca0\": -0.1306485503580064, \"pca1\": 0.011031657140815283, \"color\": 6.0}, {\"pca0\": 2.2105304880350802, \"pca1\": 0.800384465301804, \"color\": 8.0}, {\"pca0\": -0.3931880692071051, \"pca1\": -0.7961164557275097, \"color\": 4.0}, {\"pca0\": 0.20279614265475737, \"pca1\": -0.2504210377443423, \"color\": 6.0}, {\"pca0\": -1.8873408553420863, \"pca1\": -0.48784529577229147, \"color\": 4.0}, {\"pca0\": 1.6174598899923704, \"pca1\": 0.3130510557441544, \"color\": 8.0}, {\"pca0\": -1.4342040976702306, \"pca1\": -0.5051006571517649, \"color\": 4.0}, {\"pca0\": 0.20966255798609426, \"pca1\": 0.2690097456005075, \"color\": 6.0}, {\"pca0\": 4.480122862439503, \"pca1\": 1.765385264946887, \"color\": 12.0}, {\"pca0\": 0.4626902448395527, \"pca1\": -0.29495637617914217, \"color\": 6.0}, {\"pca0\": -0.44827016226889826, \"pca1\": -0.8686091481668605, \"color\": 4.0}, {\"pca0\": -1.6217441219286834, \"pca1\": -0.6122503175382874, \"color\": 4.0}, {\"pca0\": 2.9506539804425356, \"pca1\": 0.5295712572388097, \"color\": 8.0}, {\"pca0\": 0.07926559447717457, \"pca1\": 0.12115916064693347, \"color\": 6.0}, {\"pca0\": 1.533092982150037, \"pca1\": 1.1601691029205379, \"color\": 8.0}, {\"pca0\": -1.6612339403923726, \"pca1\": -0.3428382108575046, \"color\": 4.0}, {\"pca0\": 2.800307098255667, \"pca1\": 1.318327951520262, \"color\": 8.0}, {\"pca0\": -0.9837189351592031, \"pca1\": -1.0083290318100784, \"color\": 4.0}, {\"pca0\": -1.0083953095102065, \"pca1\": -0.5583729746993487, \"color\": 4.0}, {\"pca0\": -0.9634495561054963, \"pca1\": -0.40654321123737874, \"color\": 4.0}, {\"pca0\": -7.778402225137651, \"pca1\": 1.8621537094894183, \"color\": 0.0}, {\"pca0\": 0.16186874625405, \"pca1\": 0.3106678265877147, \"color\": 6.0}, {\"pca0\": 0.357362109116947, \"pca1\": -0.0668015377675376, \"color\": 6.0}, {\"pca0\": -1.0019189395355408, \"pca1\": -0.7841598992277466, \"color\": 4.0}, {\"pca0\": -2.159459176953777, \"pca1\": -0.0895255025735933, \"color\": 4.0}, {\"pca0\": 2.1931457689770806, \"pca1\": 0.6040314207777545, \"color\": 8.0}, {\"pca0\": 0.32948531523377367, \"pca1\": 0.07539360449150978, \"color\": 6.0}, {\"pca0\": -0.6337493662452034, \"pca1\": -1.0889526006729864, \"color\": 4.0}, {\"pca0\": 2.3714289039498544, \"pca1\": 0.5796254785486035, \"color\": 8.0}, {\"pca0\": 2.127408106672159, \"pca1\": 0.017172677705489168, \"color\": 6.0}, {\"pca0\": 0.9353449034123792, \"pca1\": -0.19614604092883783, \"color\": 6.0}, {\"pca0\": -1.188680483527491, \"pca1\": -0.43819542896528385, \"color\": 4.0}, {\"pca0\": -0.6399895296687746, \"pca1\": -0.8151726476950999, \"color\": 4.0}, {\"pca0\": -1.5869347450324538, \"pca1\": -0.3810835268319988, \"color\": 4.0}, {\"pca0\": -1.2661496620863495, \"pca1\": -0.31957108216277896, \"color\": 4.0}, {\"pca0\": -1.4999266752291773, \"pca1\": -0.7729913566090745, \"color\": 4.0}, {\"pca0\": 3.9582311478836343, \"pca1\": 2.0342520614304394, \"color\": 12.0}, {\"pca0\": 1.3574600663824854, \"pca1\": -0.21897626742739018, \"color\": 6.0}, {\"pca0\": 1.8226806183409021, \"pca1\": 0.941185702807877, \"color\": 8.0}, {\"pca0\": 2.2858854078166315, \"pca1\": 0.7142031908091179, \"color\": 8.0}, {\"pca0\": 0.08550575790074569, \"pca1\": -0.1526207923309532, \"color\": 6.0}, {\"pca0\": -0.6231350369467423, \"pca1\": -0.9090249540607235, \"color\": 4.0}, {\"pca0\": -0.609176971984738, \"pca1\": 0.1364125422029694, \"color\": 6.0}, {\"pca0\": 0.14400618496026463, \"pca1\": -0.14494976045801566, \"color\": 6.0}, {\"pca0\": 1.737904917570243, \"pca1\": 1.0431409844897865, \"color\": 8.0}, {\"pca0\": 0.5930872820512685, \"pca1\": -0.1471057036689676, \"color\": 6.0}, {\"pca0\": -2.2448688119875246, \"pca1\": 0.2528426927473621, \"color\": 4.0}, {\"pca0\": 1.9097111749960245, \"pca1\": 0.7586720016576916, \"color\": 8.0}, {\"pca0\": 2.1918260466398, \"pca1\": 1.2836299310372477, \"color\": 8.0}, {\"pca0\": 0.14400618496026463, \"pca1\": -0.14494976045801566, \"color\": 6.0}, {\"pca0\": -1.8834446791085746, \"pca1\": -0.2934024138170238, \"color\": 4.0}, {\"pca0\": -1.5458851678612555, \"pca1\": -0.4236966453252965, \"color\": 4.0}, {\"pca0\": 2.412478481121053, \"pca1\": 0.5370123600553057, \"color\": 8.0}, {\"pca0\": 1.4669344541553038, \"pca1\": 0.9883158774989654, \"color\": 8.0}, {\"pca0\": 0.3674985224768261, \"pca1\": -0.14613852123355606, \"color\": 6.0}, {\"pca0\": 0.3221970339040248, \"pca1\": -0.03875716893504827, \"color\": 6.0}, {\"pca0\": 2.2515800652062787, \"pca1\": 0.7577713468085062, \"color\": 8.0}, {\"pca0\": 2.512466278253132, \"pca1\": 0.9228739829635357, \"color\": 8.0}, {\"pca0\": 0.46943447940039834, \"pca1\": -0.2940013386730516, \"color\": 6.0}, {\"pca0\": 1.4049636984382574, \"pca1\": 0.2504266202205754, \"color\": 8.0}, {\"pca0\": -0.7119784258499852, \"pca1\": -0.8247537545802185, \"color\": 4.0}, {\"pca0\": 4.088552535916186, \"pca1\": 0.37691799587615005, \"color\": 8.0}, {\"pca0\": -1.3055890516175153, \"pca1\": -0.5841360264632772, \"color\": 4.0}, {\"pca0\": 0.49454343022393327, \"pca1\": -0.0795349947581816, \"color\": 6.0}, {\"pca0\": 0.1917999966923089, \"pca1\": -0.18660784144522283, \"color\": 6.0}, {\"pca0\": 3.37430108053094, \"pca1\": 2.511555521674813, \"color\": 10.0}, {\"pca0\": 2.3139167796066764, \"pca1\": 0.06897850103069433, \"color\": 8.0}, {\"pca0\": -2.376389182448221, \"pca1\": -0.11995806348955666, \"color\": 4.0}, {\"pca0\": 1.6213559925230858, \"pca1\": 0.5074938501428214, \"color\": 8.0}, {\"pca0\": -0.1054171731391367, \"pca1\": -0.9828469364213569, \"color\": 4.0}, {\"pca0\": 0.4632282409521663, \"pca1\": 0.31181194414507984, \"color\": 8.0}, {\"pca0\": -0.7878374167688109, \"pca1\": -1.0133074705715095, \"color\": 4.0}, {\"pca0\": 1.6417732473372515, \"pca1\": 1.0132614105437334, \"color\": 8.0}, {\"pca0\": 2.578606956560824, \"pca1\": 0.5591226404497104, \"color\": 8.0}, {\"pca0\": -0.6849614382721774, \"pca1\": -0.9824727715627655, \"color\": 4.0}, {\"pca0\": -0.9361963619765942, \"pca1\": -0.516269199770437, \"color\": 4.0}, {\"pca0\": 0.1100565775180029, \"pca1\": -0.360592720219105, \"color\": 6.0}, {\"pca0\": 2.273925200982197, \"pca1\": 1.1984036940506522, \"color\": 8.0}, {\"pca0\": -2.8504661694379254, \"pca1\": -0.45061285362495807, \"color\": 3.0}, {\"pca0\": 1.02391645626158, \"pca1\": -0.4811174560752358, \"color\": 5.0}, {\"pca0\": -1.0252759574309314, \"pca1\": -0.47999102873942073, \"color\": 4.0}, {\"pca0\": 1.4523978671274345, \"pca1\": 0.5984750760823397, \"color\": 8.0}, {\"pca0\": -0.03684653725285589, \"pca1\": -0.9084440814132243, \"color\": 4.0}, {\"pca0\": 1.7076415764780628, \"pca1\": 0.10564961403292149, \"color\": 6.0}, {\"pca0\": 2.470912777350251, \"pca1\": 0.6907522860860573, \"color\": 8.0}, {\"pca0\": -1.0907623284387837, \"pca1\": -0.6998886997472417, \"color\": 4.0}, {\"pca0\": -1.4274598631093849, \"pca1\": -0.5041456196456744, \"color\": 4.0}, {\"pca0\": -1.0019189395355408, \"pca1\": -0.7841598992277466, \"color\": 4.0}, {\"pca0\": -1.3206877083792394, \"pca1\": -0.2788680386816624, \"color\": 4.0}, {\"pca0\": 1.939589039025334, \"pca1\": 1.0871261251926694, \"color\": 8.0}, {\"pca0\": -0.0033376310024970618, \"pca1\": -0.06834959285044827, \"color\": 6.0}, {\"pca0\": 0.8599899836308279, \"pca1\": -0.1099647664361518, \"color\": 6.0}, {\"pca0\": 2.8602179044729166, \"pca1\": 0.8093457544584903, \"color\": 8.0}, {\"pca0\": -9.728236896899963, \"pca1\": 4.201074064730225, \"color\": 0.0}, {\"pca0\": -0.41310508705597604, \"pca1\": -0.8966535169993498, \"color\": 4.0}, {\"pca0\": 2.470912777350251, \"pca1\": 0.6907522860860573, \"color\": 8.0}, {\"pca0\": -2.372493006214709, \"pca1\": 0.07448481846571095, \"color\": 4.0}, {\"pca0\": 1.3405794184617608, \"pca1\": -0.14059432146746229, \"color\": 6.0}, {\"pca0\": 1.2730331948338507, \"pca1\": -0.003621326036055028, \"color\": 6.0}, {\"pca0\": 0.7256967701856003, \"pca1\": -0.45225832090159396, \"color\": 6.0}, {\"pca0\": 0.30531638598329996, \"pca1\": 0.03962477702487963, \"color\": 6.0}, {\"pca0\": 0.6846471930144019, \"pca1\": -0.40964520240829627, \"color\": 6.0}, {\"pca0\": -0.5714450489811863, \"pca1\": -0.756240153092663, \"color\": 4.0}, {\"pca0\": 1.856985960951255, \"pca1\": 0.8976175468084886, \"color\": 8.0}, {\"pca0\": -0.0033376310024970618, \"pca1\": -0.06834959285044827, \"color\": 6.0}, {\"pca0\": -0.06516403232793212, \"pca1\": -0.14179741035249027, \"color\": 6.0}, {\"pca0\": -1.1938745134865116, \"pca1\": -0.7787164272054746, \"color\": 4.0}, {\"pca0\": 0.5829508686913893, \"pca1\": -0.06776872020294916, \"color\": 6.0}, {\"pca0\": 2.3714289039498544, \"pca1\": 0.5796254785486035, \"color\": 8.0}, {\"pca0\": -0.5502205122063164, \"pca1\": 0.5509839405501498, \"color\": 6.0}, {\"pca0\": 1.5012397967656566, \"pca1\": 0.9447477214995771, \"color\": 8.0}, {\"pca0\": -1.921646197952439, \"pca1\": -0.4442771397729031, \"color\": 4.0}, {\"pca0\": -2.4896106082756493, \"pca1\": -0.431958712193548, \"color\": 3.0}, {\"pca0\": 1.6968553403990445, \"pca1\": 1.0857541029830844, \"color\": 8.0}, {\"pca0\": 1.0257275895321103, \"pca1\": -0.297412596044223, \"color\": 6.0}, {\"pca0\": -2.9354403903755393, \"pca1\": 0.6902915853597589, \"color\": 4.0}, {\"pca0\": -1.5066679739301831, \"pca1\": -0.15921871088069992, \"color\": 4.0}, {\"pca0\": 1.2730331948338507, \"pca1\": -0.003621326036055028, \"color\": 6.0}, {\"pca0\": 0.10295660778906615, \"pca1\": -0.10233664196471792, \"color\": 6.0}, {\"pca0\": -0.10308744230849945, \"pca1\": -0.033491536364663566, \"color\": 6.0}, {\"pca0\": -0.3962244391352513, \"pca1\": -0.9750354629592777, \"color\": 4.0}, {\"pca0\": -0.21893356243012776, \"pca1\": -1.2090795548914592, \"color\": 4.0}, {\"pca0\": 0.3087085647823333, \"pca1\": -0.04066724394722939, \"color\": 6.0}, {\"pca0\": -3.481984189485036, \"pca1\": 0.09079105826095725, \"color\": 3.0}, {\"pca0\": 0.5462334181894892, \"pca1\": 0.07324980620987886, \"color\": 6.0}, {\"pca0\": 0.05147852415369009, \"pca1\": 0.15012796361214115, \"color\": 6.0}, {\"pca0\": -1.11127128800684, \"pca1\": -0.5892076737080929, \"color\": 4.0}, {\"pca0\": 0.17936885842762132, \"pca1\": 0.004158420992576072, \"color\": 6.0}, {\"pca0\": -1.6009673346258448, \"pca1\": -0.496189425321248, \"color\": 4.0}, {\"pca0\": 0.14400618496026463, \"pca1\": -0.14494976045801566, \"color\": 6.0}, {\"pca0\": 0.1478361566606592, \"pca1\": 0.19556192809846543, \"color\": 6.0}, {\"pca0\": 0.3399774637617437, \"pca1\": -0.2631544947349863, \"color\": 6.0}, {\"pca0\": 0.3399774637617437, \"pca1\": -0.2631544947349863, \"color\": 6.0}, {\"pca0\": 1.2319836176626522, \"pca1\": 0.03899179245724267, \"color\": 6.0}, {\"pca0\": 0.14400618496026463, \"pca1\": -0.14494976045801566, \"color\": 6.0}, {\"pca0\": 1.0901718332149086, \"pca1\": 0.7253714514288628, \"color\": 8.0}, {\"pca0\": -1.0803581241955207, \"pca1\": -0.5524838087353722, \"color\": 4.0}, {\"pca0\": -1.4274598631093849, \"pca1\": -0.5041456196456744, \"color\": 4.0}, {\"pca0\": -0.6192388607132306, \"pca1\": -0.7145820721054558, \"color\": 4.0}, {\"pca0\": 1.47436863447251, \"pca1\": -0.0730356699293967, \"color\": 6.0}, {\"pca0\": -0.08363001146127405, \"pca1\": 0.22835654247477982, \"color\": 6.0}, {\"pca0\": 0.5104840565715968, \"pca1\": -0.3366144571663493, \"color\": 6.0}, {\"pca0\": -1.4685094402805834, \"pca1\": -0.46153250115237654, \"color\": 4.0}, {\"pca0\": -0.7330212616126238, \"pca1\": -0.7948299141089202, \"color\": 4.0}, {\"pca0\": 1.5154182116437085, \"pca1\": -0.11564878842269445, \"color\": 6.0}, {\"pca0\": 0.775029879134133, \"pca1\": -0.5109117575236816, \"color\": 6.0}, {\"pca0\": 1.542289373936855, \"pca1\": 0.9021346030062793, \"color\": 8.0}, {\"pca0\": 1.1587425428039857, \"pca1\": 0.7997743939935958, \"color\": 8.0}, {\"pca0\": -2.614333200633642, \"pca1\": -0.024424890036814504, \"color\": 4.0}, {\"pca0\": -1.2645394744463168, \"pca1\": -0.626749144956575, \"color\": 4.0}, {\"pca0\": -0.9091793743987864, \"pca1\": -0.6739882167529839, \"color\": 4.0}, {\"pca0\": -2.289856177314095, \"pca1\": -0.2373761313054677, \"color\": 4.0}, {\"pca0\": 1.9614012366643767, \"pca1\": 0.9114568901823527, \"color\": 8.0}, {\"pca0\": 1.8980355381224534, \"pca1\": 0.8550044283151909, \"color\": 8.0}, {\"pca0\": 0.5764447454442183, \"pca1\": -1.3748246998726787, \"color\": 4.0}, {\"pca0\": -1.3502696242278676, \"pca1\": -0.2826902638417895, \"color\": 4.0}, {\"pca0\": -1.1004188441907865, \"pca1\": 0.1435326421048475, \"color\": 5.0}, {\"pca0\": 3.4930334420955194, \"pca1\": 2.252632599397291, \"color\": 10.0}, {\"pca0\": 0.32948531523377367, \"pca1\": 0.07539360449150978, \"color\": 6.0}, {\"pca0\": 0.05147852415369009, \"pca1\": 0.15012796361214115, \"color\": 6.0}, {\"pca0\": -1.0975065629996295, \"pca1\": -0.7008437372533323, \"color\": 4.0}, {\"pca0\": 2.0435003910067735, \"pca1\": 0.8262306531957572, \"color\": 8.0}, {\"pca0\": -0.19040216619141934, \"pca1\": 0.0030789615107679118, \"color\": 6.0}, {\"pca0\": 0.7773867581511564, \"pca1\": -0.29947351993353355, \"color\": 6.0}, {\"pca0\": -1.2208915010643195, \"pca1\": -0.6209974102229278, \"color\": 4.0}, {\"pca0\": 0.1442180892904446, \"pca1\": 0.2602996460869039, \"color\": 6.0}, {\"pca0\": 1.2338072637316153, \"pca1\": -0.36587190243147416, \"color\": 6.0}, {\"pca0\": 0.1715010884766544, \"pca1\": -0.043404147362281015, \"color\": 6.0}, {\"pca0\": 2.9298772299910953, \"pca1\": 0.41351040880007045, \"color\": 8.0}, {\"pca0\": -1.7438371290206465, \"pca1\": -0.5323469205765862, \"color\": 4.0}, {\"pca0\": -0.9078599810917753, \"pca1\": -0.8197753595970875, \"color\": 4.0}, {\"pca0\": -0.49606397400094254, \"pca1\": -0.8269510671796534, \"color\": 4.0}, {\"pca0\": -0.16049933990372597, \"pca1\": -1.0553397164173082, \"color\": 4.0}, {\"pca0\": -1.0429685167067393, \"pca1\": -0.7415467807344489, \"color\": 4.0}, {\"pca0\": -2.145426587360386, \"pca1\": 0.025580395915655942, \"color\": 4.0}, {\"pca0\": 0.10295660778906615, \"pca1\": -0.10233664196471792, \"color\": 6.0}, {\"pca0\": 0.09626702201875062, \"pca1\": -0.9388617081618734, \"color\": 4.0}, {\"pca0\": 0.43946126345934394, \"pca1\": -0.15202777475413307, \"color\": 6.0}, {\"pca0\": 2.002450813835575, \"pca1\": 0.8688437716890549, \"color\": 8.0}, {\"pca0\": 0.305672121151391, \"pca1\": -0.21958633873559807, \"color\": 6.0}, {\"pca0\": 2.587821198034683, \"pca1\": 0.8366927084708496, \"color\": 8.0}, {\"pca0\": -1.9563994882564781, \"pca1\": -0.4489025057206513, \"color\": 4.0}, {\"pca0\": -0.17788398525892932, \"pca1\": -1.2516926733847569, \"color\": 4.0}, {\"pca0\": -1.398872737225969, \"pca1\": -0.8075035324151081, \"color\": 4.0}, {\"pca0\": 2.839441006615884, \"pca1\": 0.6932847309065499, \"color\": 8.0}, {\"pca0\": -1.4685094402805834, \"pca1\": -0.46153250115237654, \"color\": 4.0}, {\"pca0\": -1.0019189395355408, \"pca1\": -0.7841598992277466, \"color\": 4.0}, {\"pca0\": -1.179841923893121, \"pca1\": -0.6636105287162255, \"color\": 4.0}, {\"pca0\": -1.2217079061161178, \"pca1\": -0.44247622162818573, \"color\": 4.0}, {\"pca0\": -7.771657990576804, \"pca1\": 1.863108746995509, \"color\": 0.0}, {\"pca0\": -3.615946959708814, \"pca1\": 0.2172485951225691, \"color\": 3.0}, {\"pca0\": -1.2855951645750983, \"pca1\": -0.40273029078892464, \"color\": 4.0}, {\"pca0\": 0.7785664123247774, \"pca1\": 0.07323766128055784, \"color\": 6.0}, {\"pca0\": -1.7293667096744962, \"pca1\": 0.003562731219553579, \"color\": 4.0}, {\"pca0\": -1.3864102859381864, \"pca1\": -0.546758738138972, \"color\": 4.0}, {\"pca0\": 2.0830737214769157, \"pca1\": 0.3284473270337333, \"color\": 8.0}, {\"pca0\": 2.587821198034683, \"pca1\": 0.8366927084708496, \"color\": 8.0}, {\"pca0\": 2.715788203965014, \"pca1\": 0.5463890959024659, \"color\": 8.0}, {\"pca0\": 2.640433284183463, \"pca1\": 0.6325703703951517, \"color\": 8.0}, {\"pca0\": 1.7860583723451544, \"pca1\": 0.6117763666536075, \"color\": 8.0}, {\"pca0\": 0.8713060511643282, \"pca1\": 0.18340943131192114, \"color\": 6.0}, {\"pca0\": 1.1930478854143385, \"pca1\": 0.7562062379942075, \"color\": 8.0}, {\"pca0\": 1.0532486482471928, \"pca1\": -0.18039662254279276, \"color\": 6.0}, {\"pca0\": 2.584880927381132, \"pca1\": 1.160779174228746, \"color\": 8.0}, {\"pca0\": 2.2105304880350802, \"pca1\": 0.800384465301804, \"color\": 8.0}, {\"pca0\": -2.108707269699351, \"pca1\": -0.24414300322570034, \"color\": 4.0}, {\"pca0\": 2.152096191805882, \"pca1\": 0.6466445392710523, \"color\": 8.0}, {\"pca0\": -1.5752815950107286, \"pca1\": -0.6868100821163884, \"color\": 4.0}, {\"pca0\": 1.3785270156878475, \"pca1\": 0.9765496029437329, \"color\": 8.0}, {\"pca0\": 0.6435976158432033, \"pca1\": -0.3670320839149985, \"color\": 6.0}, {\"pca0\": 0.3087085647823333, \"pca1\": -0.04066724394722939, \"color\": 6.0}, {\"pca0\": 3.255064637578881, \"pca1\": 0.47387534394296266, \"color\": 8.0}, {\"pca0\": 0.6240004458625878, \"pca1\": -0.11038183869624688, \"color\": 6.0}, {\"pca0\": 1.4024057460843995, \"pca1\": -0.06714659152202082, \"color\": 6.0}, {\"pca0\": -0.18518659665089643, \"pca1\": 0.05173470062193189, \"color\": 6.0}, {\"pca0\": -0.7878374167688109, \"pca1\": -1.0133074705715095, \"color\": 4.0}, {\"pca0\": -0.6646625300565229, \"pca1\": -1.1256764656457072, \"color\": 4.0}, {\"pca0\": 0.7988391653417394, \"pca1\": -0.08543639320807962, \"color\": 6.0}, {\"pca0\": 0.13386977160038557, \"pca1\": -0.0656127769919972, \"color\": 6.0}, {\"pca0\": 1.7631940069831904, \"pca1\": -0.4225591022440717, \"color\": 6.0}, {\"pca0\": 1.0015586602816369, \"pca1\": -0.3331814235108532, \"color\": 6.0}, {\"pca0\": -0.21893356243012776, \"pca1\": -1.2090795548914592, \"color\": 4.0}, {\"pca0\": 0.3467216983225895, \"pca1\": -0.26219945722889576, \"color\": 6.0}, {\"pca0\": 1.7238724016796485, \"pca1\": 0.9280351735571379, \"color\": 8.0}, {\"pca0\": 1.2123806168582392, \"pca1\": 0.4188346670573304, \"color\": 8.0}, {\"pca0\": 1.888934424544584, \"pca1\": 0.6426111532189525, \"color\": 8.0}, {\"pca0\": -0.7740205534405554, \"pca1\": 0.7140208709435831, \"color\": 6.0}, {\"pca0\": -1.2712837090071627, \"pca1\": -0.6277041824626656, \"color\": 4.0}, {\"pca0\": -0.9018910193662414, \"pca1\": -0.5598373557698253, \"color\": 4.0}, {\"pca0\": -2.146364704922915, \"pca1\": -0.2818219494828118, \"color\": 4.0}, {\"pca0\": -0.798239768034296, \"pca1\": -0.7879856230822527, \"color\": 4.0}, {\"pca0\": 0.5104840565715968, \"pca1\": -0.3366144571663493, \"color\": 6.0}, {\"pca0\": 0.020565360342370668, \"pca1\": 0.11340409863942044, \"color\": 6.0}, {\"pca0\": 1.0774175774976664, \"pca1\": -0.1446277950761626, \"color\": 6.0}, {\"pca0\": 2.9506539804425356, \"pca1\": 0.5295712572388097, \"color\": 8.0}, {\"pca0\": 2.144900196505147, \"pca1\": 0.4018952320923758, \"color\": 8.0}, {\"pca0\": -0.3034848739984968, \"pca1\": -0.864863780484515, \"color\": 4.0}, {\"pca0\": 0.25752257425125574, \"pca1\": 0.0812828580120868, \"color\": 6.0}, {\"pca0\": 1.9097111749960245, \"pca1\": 0.7586720016576916, \"color\": 8.0}, {\"pca0\": 2.470912777350251, \"pca1\": 0.6907522860860573, \"color\": 8.0}, {\"pca0\": 0.4602380876135806, \"pca1\": -0.035966838758793314, \"color\": 6.0}, {\"pca0\": -1.6747224095140643, \"pca1\": -0.3447482858696857, \"color\": 4.0}, {\"pca0\": 2.126103469080853, \"pca1\": 1.0157392315799378, \"color\": 8.0}, {\"pca0\": -1.8906769106975312, \"pca1\": -0.1810118062633418, \"color\": 4.0}, {\"pca0\": -0.16572916580367103, \"pca1\": 0.3135827794613753, \"color\": 6.0}, {\"pca0\": 2.1931457689770806, \"pca1\": 0.6040314207777545, \"color\": 8.0}, {\"pca0\": -0.6332714503066214, \"pca1\": -0.829687970594705, \"color\": 4.0}, {\"pca0\": 2.4192227156818986, \"pca1\": 0.5379673975613962, \"color\": 8.0}, {\"pca0\": -1.552629402422101, \"pca1\": -0.42465168283138716, \"color\": 4.0}, {\"pca0\": 1.717632090850485, \"pca1\": 1.2018149514218235, \"color\": 8.0}, {\"pca0\": 2.4671781084775604, \"pca1\": 1.2511645548819474, \"color\": 10.0}, {\"pca0\": 2.2105304880350802, \"pca1\": 0.800384465301804, \"color\": 8.0}, {\"pca0\": 0.21251061631342827, \"pca1\": 0.07552190115133042, \"color\": 6.0}, {\"pca0\": 0.46943447940039834, \"pca1\": -0.2940013386730516, \"color\": 6.0}, {\"pca0\": 1.8159363837800564, \"pca1\": 0.9402306653017863, \"color\": 8.0}, {\"pca0\": -0.9787603478086933, \"pca1\": -1.8435336146619132, \"color\": 2.0}, {\"pca0\": 0.8323742267907909, \"pca1\": 0.7701284557603921, \"color\": 8.0}, {\"pca0\": 1.888934424544584, \"pca1\": 0.6426111532189525, \"color\": 8.0}, {\"pca0\": 0.3980559511200545, \"pca1\": 0.14979645949964232, \"color\": 6.0}, {\"pca0\": -0.07014154233958253, \"pca1\": 0.23026661748696092, \"color\": 6.0}, {\"pca0\": -1.1865861584539668, \"pca1\": -0.664565566222316, \"color\": 4.0}, {\"pca0\": -0.8325050613102241, \"pca1\": -0.9059566340897736, \"color\": 4.0}, {\"pca0\": 0.48440701686405424, \"pca1\": -0.0001980112921631599, \"color\": 6.0}, {\"pca0\": 0.5872829953606877, \"pca1\": 0.030636687716581124, \"color\": 6.0}, {\"pca0\": 0.2848952969971544, \"pca1\": -0.33564727473093775, \"color\": 6.0}, {\"pca0\": -1.845942058756928, \"pca1\": 0.017305323426163612, \"color\": 4.0}, {\"pca0\": 0.9870348913779351, \"pca1\": -0.04336123996077735, \"color\": 6.0}, {\"pca0\": 0.8976473820029932, \"pca1\": -0.0722858639573405, \"color\": 6.0}, {\"pca0\": 1.366271000284082, \"pca1\": 0.5044779763040209, \"color\": 8.0}, {\"pca0\": 0.305672121151391, \"pca1\": -0.21958633873559807, \"color\": 6.0}, {\"pca0\": 0.6181962328748033, \"pca1\": 0.06736064024590244, \"color\": 6.0}, {\"pca0\": 3.4506801812122694, \"pca1\": 0.6148817254264697, \"color\": 8.0}, {\"pca0\": 2.520172660331626, \"pca1\": 0.405382714418959, \"color\": 8.0}, {\"pca0\": 0.5245166461649876, \"pca1\": -0.22150855867710023, \"color\": 6.0}, {\"pca0\": -0.015282918383663462, \"pca1\": -0.8200540482698111, \"color\": 5.0}, {\"pca0\": 1.542289373936855, \"pca1\": 0.9021346030062793, \"color\": 8.0}, {\"pca0\": 1.542289373936855, \"pca1\": 0.9021346030062793, \"color\": 8.0}, {\"pca0\": -1.14427885059448, \"pca1\": -0.39956148898038196, \"color\": 4.0}, {\"pca0\": -1.2167456627142725, \"pca1\": -0.6684072259437822, \"color\": 4.0}, {\"pca0\": 0.18505576213146313, \"pca1\": -0.1875628789513134, \"color\": 6.0}, {\"pca0\": 2.046361193755479, \"pca1\": 1.3124037061566816, \"color\": 8.0}, {\"pca0\": 0.6846471930144019, \"pca1\": -0.40964520240829627, \"color\": 6.0}, {\"pca0\": 0.7054240171686383, \"pca1\": -0.2935842664129565, \"color\": 6.0}, {\"pca0\": -0.5719229649197684, \"pca1\": -1.0155047831709445, \"color\": 4.0}, {\"pca0\": -1.0561891212422507, \"pca1\": -0.5167148937121415, \"color\": 4.0}, {\"pca0\": 0.16186874625405, \"pca1\": 0.3106678265877147, \"color\": 6.0}, {\"pca0\": 2.829304593256005, \"pca1\": 0.7726217143725684, \"color\": 8.0}, {\"pca0\": 0.8909031474421474, \"pca1\": -0.07324090146343105, \"color\": 6.0}, {\"pca0\": -1.4263937959410513, \"pca1\": -0.9245195059165382, \"color\": 4.0}, {\"pca0\": -1.0019189395355408, \"pca1\": -0.7841598992277466, \"color\": 4.0}, {\"pca0\": 1.268112606341968, \"pca1\": -0.4094400584308625, \"color\": 6.0}, {\"pca0\": 2.334183143280358, \"pca1\": 0.9472799251926869, \"color\": 8.0}, {\"pca0\": -2.0795272470893438, \"pca1\": -0.0960874298504463, \"color\": 4.0}, {\"pca0\": 2.6814828613546613, \"pca1\": 0.589957251901854, \"color\": 8.0}, {\"pca0\": 0.37727912696581795, \"pca1\": 0.033735523504302596, \"color\": 6.0}, {\"pca0\": 1.434841562467567, \"pca1\": 0.5788807437555531, \"color\": 8.0}, {\"pca0\": 1.6821471677693072, \"pca1\": 0.8726720137637207, \"color\": 8.0}, {\"pca0\": -12.559613671012828, \"pca1\": 7.432102181747428, \"color\": 0.0}, {\"pca0\": -7.703631475162223, \"pca1\": 1.8243157785265731, \"color\": 0.0}, {\"pca0\": -1.063745340860976, \"pca1\": -0.8576077167297886, \"color\": 4.0}, {\"pca0\": -1.4359860519778331, \"pca1\": -0.7319866551951517, \"color\": 4.0}, {\"pca0\": 0.48440701686405424, \"pca1\": -0.0001980112921631599, \"color\": 6.0}, {\"pca0\": -0.770678659984789, \"pca1\": -0.8325088165877316, \"color\": 4.0}, {\"pca0\": 0.7510453536096952, \"pca1\": -0.04377831222087246, \"color\": 6.0}, {\"pca0\": -0.22623617382209493, \"pca1\": 0.09434781911522963, \"color\": 6.0}, {\"pca0\": 2.794999250645652, \"pca1\": 0.8161898703719566, \"color\": 8.0}, {\"pca0\": -1.1387923467219225, \"pca1\": -0.7062236472095232, \"color\": 4.0}, {\"pca0\": 2.009195048396421, \"pca1\": 0.8697988091951453, \"color\": 8.0}, {\"pca0\": -0.18518659665089643, \"pca1\": 0.05173470062193189, \"color\": 6.0}, {\"pca0\": 0.8014349077807789, \"pca1\": 0.7179342303819758, \"color\": 8.0}, {\"pca0\": -0.1824374554317042, \"pca1\": -0.6653470273602485, \"color\": 5.0}, {\"pca0\": -0.9260599486167151, \"pca1\": -0.5956061832364554, \"color\": 4.0}, {\"pca0\": 0.14109192209981344, \"pca1\": 0.19460689059237488, \"color\": 6.0}, {\"pca0\": 0.4911512514249, \"pca1\": 0.0007570262139273841, \"color\": 6.0}, {\"pca0\": -2.7202707847935264, \"pca1\": 0.25189765384749413, \"color\": 4.0}, {\"pca0\": 2.515858457052165, \"pca1\": 0.8425819619914265, \"color\": 8.0}, {\"pca0\": 0.4602380876135806, \"pca1\": -0.035966838758793314, \"color\": 6.0}, {\"pca0\": 0.7418490355256735, \"pca1\": 0.2142562752499864, \"color\": 6.0}, {\"pca0\": 0.20279614265475737, \"pca1\": -0.2504210377443423, \"color\": 6.0}, {\"pca0\": 0.305672121151391, \"pca1\": -0.21958633873559807, \"color\": 6.0}, {\"pca0\": 1.6665919993068645, \"pca1\": 0.14826273252621916, \"color\": 6.0}, {\"pca0\": -0.5714450489811863, \"pca1\": -0.756240153092663, \"color\": 4.0}, {\"pca0\": 2.660288010154475, \"pca1\": 1.10553844543425, \"color\": 8.0}, {\"pca0\": -0.6849614382721774, \"pca1\": -0.9824727715627655, \"color\": 4.0}, {\"pca0\": -1.1047949180321746, \"pca1\": -0.8149945982364909, \"color\": 4.0}, {\"pca0\": -1.0086631740963867, \"pca1\": -0.7851149367338371, \"color\": 4.0}, {\"pca0\": -2.8437219348770797, \"pca1\": -0.44965781611886746, \"color\": 3.0}, {\"pca0\": 1.0044196104359346, \"pca1\": 0.1529918045632719, \"color\": 6.0}, {\"pca0\": -1.5404722181144992, \"pca1\": -0.4556432914100999, \"color\": 4.0}, {\"pca0\": 1.3165027752403005, \"pca1\": -0.30696168268621077, \"color\": 6.0}, {\"pca0\": 0.4602380876135806, \"pca1\": -0.035966838758793314, \"color\": 6.0}, {\"pca0\": -1.331328119173597, \"pca1\": -0.4742659581430205, \"color\": 4.0}, {\"pca0\": -1.0497127512675852, \"pca1\": -0.7425018182405394, \"color\": 4.0}, {\"pca0\": 0.2989278865905452, \"pca1\": -0.22054137624168862, \"color\": 6.0}, {\"pca0\": -1.0226957636897775, \"pca1\": -0.9002208352230864, \"color\": 4.0}, {\"pca0\": -0.013474044362376121, \"pca1\": 0.010987390615570176, \"color\": 6.0}, {\"pca0\": 1.9337185231828808, \"pca1\": 0.03958559081656335, \"color\": 6.0}, {\"pca0\": -0.6124946261523848, \"pca1\": -0.7136270345993653, \"color\": 4.0}, {\"pca0\": -2.105445881476935, \"pca1\": -1.0246998624246297, \"color\": 3.0}, {\"pca0\": 0.2578783094193467, \"pca1\": -0.17792825774839088, \"color\": 6.0}, {\"pca0\": 1.7586816680216835, \"pca1\": 1.1592018329285259, \"color\": 8.0}, {\"pca0\": 0.46943447940039834, \"pca1\": -0.2940013386730516, \"color\": 6.0}, {\"pca0\": -2.1970750002554804, \"pca1\": 0.21118461176015488, \"color\": 4.0}, {\"pca0\": -0.9696863824172104, \"pca1\": -0.8932231770991295, \"color\": 4.0}, {\"pca0\": 0.00029253362261255335, \"pca1\": 0.27207806557145736, \"color\": 6.0}, {\"pca0\": 0.08940193413425743, \"pca1\": 0.04182208962431444, \"color\": 6.0}, {\"pca0\": -0.42274354034915174, \"pca1\": -0.3972182919098859, \"color\": 6.0}, {\"pca0\": -1.4207156285485392, \"pca1\": -0.5031905821395837, \"color\": 4.0}, {\"pca0\": -0.5202329769542123, \"pca1\": -0.8627199822028842, \"color\": 4.0}, {\"pca0\": 2.695011453513574, \"pca1\": 0.4303282474637267, \"color\": 8.0}, {\"pca0\": 0.6703719291777545, \"pca1\": -0.3838843745685509, \"color\": 5.0}, {\"pca0\": -0.18518659665089643, \"pca1\": 0.05173470062193189, \"color\": 6.0}, {\"pca0\": -1.849627333526333, \"pca1\": -0.2236249247566395, \"color\": 4.0}, {\"pca0\": 1.868661597824826, \"pca1\": 0.8012851201509893, \"color\": 8.0}, {\"pca0\": -4.84915749522019, \"pca1\": -1.4519445142750995, \"color\": 0.0}, {\"pca0\": -3.6344069405278487, \"pca1\": 0.482580674004651, \"color\": 4.0}, {\"pca0\": -0.6197167766518127, \"pca1\": -0.9738467021837374, \"color\": 4.0}, {\"pca0\": -1.1408866717954467, \"pca1\": -0.47985350995249093, \"color\": 4.0}, {\"pca0\": -1.3055890516175153, \"pca1\": -0.5841360264632772, \"color\": 4.0}, {\"pca0\": 1.3360333458063132, \"pca1\": 0.5657302145048139, \"color\": 8.0}, {\"pca0\": 3.6120305216749986, \"pca1\": 0.4252315197538117, \"color\": 8.0}, {\"pca0\": 0.6717942575946322, \"pca1\": -0.1520399196834541, \"color\": 6.0}, {\"pca0\": -0.5647008144203406, \"pca1\": -0.7552851155865724, \"color\": 4.0}, {\"pca0\": -2.617552707513149, \"pca1\": 0.08844233936374354, \"color\": 4.0}, {\"pca0\": 0.8711616230699207, \"pca1\": -0.48103209602102776, \"color\": 6.0}, {\"pca0\": -2.833108532350605, \"pca1\": 0.607930460891435, \"color\": 4.0}, {\"pca0\": -0.19141250371504545, \"pca1\": -1.092063581390029, \"color\": 4.0}, {\"pca0\": 2.5569080342233637, \"pca1\": 0.7999688434981288, \"color\": 8.0}, {\"pca0\": 0.037711946168701424, \"pca1\": -0.110962711343746, \"color\": 6.0}, {\"pca0\": -1.702787551849448, \"pca1\": -0.5749600390698839, \"color\": 4.0}, {\"pca0\": 1.5833389511080536, \"pca1\": 0.8595214845129817, \"color\": 8.0}, {\"pca0\": -1.221395535350196, \"pca1\": -0.8957323569286048, \"color\": 4.0}, {\"pca0\": -0.6192388607132306, \"pca1\": -0.7145820721054558, \"color\": 4.0}, {\"pca0\": 1.5833389511080536, \"pca1\": 0.8595214845129817, \"color\": 8.0}, {\"pca0\": -0.1706356795608089, \"pca1\": -0.9760026453946893, \"color\": 4.0}, {\"pca0\": -0.46175863139058976, \"pca1\": -0.8705192231790416, \"color\": 4.0}, {\"pca0\": -0.6782172037113317, \"pca1\": -0.9815177340566748, \"color\": 4.0}, {\"pca0\": 2.4920086610503036, \"pca1\": 1.2756200803640787, \"color\": 8.0}, {\"pca0\": -0.14413701947969795, \"pca1\": 0.00912158212863416, \"color\": 6.0}, {\"pca0\": -1.2437626502920802, \"pca1\": -0.5106882089612352, \"color\": 4.0}, {\"pca0\": -0.5578903753263776, \"pca1\": -0.9003988846816954, \"color\": 4.0}, {\"pca0\": 0.4626902448395527, \"pca1\": -0.29495637617914217, \"color\": 6.0}, {\"pca0\": -1.2489566433997028, \"pca1\": -0.8512091634231259, \"color\": 4.0}, {\"pca0\": -0.80108782636163, \"pca1\": -0.5944977786330756, \"color\": 4.0}, {\"pca0\": 2.1931457689770806, \"pca1\": 0.6040314207777545, \"color\": 8.0}, {\"pca0\": 2.25452033585983, \"pca1\": 0.4336848810506101, \"color\": 8.0}, {\"pca0\": 4.58384290956818, \"pca1\": 0.3466265416448514, \"color\": 8.0}, {\"pca0\": -0.9260599486167151, \"pca1\": -0.5956061832364554, \"color\": 4.0}, {\"pca0\": 1.6593960040061293, \"pca1\": -0.09648657465245726, \"color\": 6.0}, {\"pca0\": 2.454954153909954, \"pca1\": 0.4122270054456265, \"color\": 8.0}, {\"pca0\": -1.9317264878687297, \"pca1\": -0.1383986877700441, \"color\": 4.0}, {\"pca0\": -0.4304420762720747, \"pca1\": 0.35580086964640434, \"color\": 6.0}, {\"pca0\": -0.5761714326157906, \"pca1\": 0.2883290712618327, \"color\": 6.0}, {\"pca0\": -0.7738048271754202, \"pca1\": -0.8982015720822605, \"color\": 4.0}, {\"pca0\": -0.26614308775720175, \"pca1\": -0.7295128416955347, \"color\": 4.0}, {\"pca0\": -1.2208915010643195, \"pca1\": -0.6209974102229278, \"color\": 4.0}, {\"pca0\": -1.0840180938779378, \"pca1\": -0.6989336622411512, \"color\": 4.0}, {\"pca0\": 0.5621740445371528, \"pca1\": -0.1838296561982889, \"color\": 6.0}, {\"pca0\": 0.5104840565715968, \"pca1\": -0.3366144571663493, \"color\": 6.0}, {\"pca0\": 0.22660941043993627, \"pca1\": 0.044558993039366064, \"color\": 6.0}, {\"pca0\": 0.6940076991829641, \"pca1\": -0.9644173920241851, \"color\": 5.0}, {\"pca0\": -0.6953923169924432, \"pca1\": -0.36429969359735404, \"color\": 5.0}, {\"pca0\": 3.7988469070047093, \"pca1\": 2.0130968185421256, \"color\": 12.0}, {\"pca0\": 1.0865187647783316, \"pca1\": 0.06776556757667647, \"color\": 6.0}, {\"pca0\": -1.6352325910503749, \"pca1\": -0.6141603925504686, \"color\": 4.0}, {\"pca0\": 0.6901589738573213, \"pca1\": 0.0614713867253254, \"color\": 6.0}, {\"pca0\": 1.388373230193805, \"pca1\": -0.1822524024546695, \"color\": 6.0}, {\"pca0\": -2.070505750855487, \"pca1\": -0.09326827726982093, \"color\": 4.0}, {\"pca0\": -0.18518659665089643, \"pca1\": 0.05173470062193189, \"color\": 6.0}, {\"pca0\": -0.20829315163577022, \"pca1\": -1.013681635430101, \"color\": 4.0}, {\"pca0\": 1.9269742886220351, \"pca1\": 0.03863055331047275, \"color\": 6.0}, {\"pca0\": 1.6005792420716454, \"pca1\": 0.39143300170408224, \"color\": 8.0}, {\"pca0\": 1.6665919993068645, \"pca1\": 0.14826273252621916, \"color\": 6.0}, {\"pca0\": 2.6752577826770656, \"pca1\": 1.1827052484946967, \"color\": 10.0}, {\"pca0\": 1.3785270156878475, \"pca1\": 0.9765496029437329, \"color\": 8.0}, {\"pca0\": -8.636330894638528, \"pca1\": 2.854476150543609, \"color\": 0.0}, {\"pca0\": 2.018306975795133, \"pca1\": 0.5790858877329869, \"color\": 8.0}, {\"pca0\": 0.010428946982491602, \"pca1\": 0.1927410821054389, \"color\": 6.0}, {\"pca0\": -0.6124946261523848, \"pca1\": -0.7136270345993653, \"color\": 4.0}, {\"pca0\": 0.5289129642379912, \"pca1\": 0.06944100831826294, \"color\": 6.0}, {\"pca0\": 3.481593492429181, \"pca1\": 0.6516057655123916, \"color\": 8.0}, {\"pca0\": 0.058488770322938005, \"pca1\": 0.005098224651593722, \"color\": 6.0}, {\"pca0\": -11.941629689660775, \"pca1\": 6.647940297681794, \"color\": 0.0}, {\"pca0\": 3.480082631857726, \"pca1\": 1.9999297925385118, \"color\": 12.0}, {\"pca0\": -1.3796660513773407, \"pca1\": -0.5458037006328814, \"color\": 4.0}, {\"pca0\": 0.0995383474941365, \"pca1\": -0.037514893841704, \"color\": 6.0}, {\"pca0\": 2.196590110767907, \"pca1\": 0.5546799455038358, \"color\": 8.0}, {\"pca0\": 5.047540808954748, \"pca1\": 0.8974850415752657, \"color\": 8.0}, {\"pca0\": -1.9665358647649591, \"pca1\": -0.36956547847633264, \"color\": 4.0}, {\"pca0\": 0.32948531523377367, \"pca1\": 0.07539360449150978, \"color\": 6.0}, {\"pca0\": 1.737904917570243, \"pca1\": 1.0431409844897865, \"color\": 8.0}, {\"pca0\": 2.909604403271337, \"pca1\": 0.5721843757321073, \"color\": 8.0}, {\"pca0\": -0.9361963619765942, \"pca1\": -0.516269199770437, \"color\": 4.0}, {\"pca0\": 2.321719012714241, \"pca1\": 1.156745613063445, \"color\": 8.0}, {\"pca0\": 2.510036394377339, \"pca1\": 0.4847198729981786, \"color\": 8.0}, {\"pca0\": -1.6347285567644982, \"pca1\": -0.3394254458447917, \"color\": 4.0}, {\"pca0\": -0.6844573671349028, \"pca1\": -0.7077377810787883, \"color\": 4.0}, {\"pca0\": 0.14367936615152965, \"pca1\": -0.3454849812976432, \"color\": 5.0}, {\"pca0\": 0.016961277213157395, \"pca1\": -0.2115532869333901, \"color\": 6.0}, {\"pca0\": 0.5245166461649876, \"pca1\": -0.22150855867710023, \"color\": 6.0}, {\"pca0\": 2.1859497736763456, \"pca1\": 0.3592821135990781, \"color\": 8.0}, {\"pca0\": 2.2105304880350802, \"pca1\": 0.800384465301804, \"color\": 8.0}, {\"pca0\": -1.3609500843566495, \"pca1\": -0.3165490162962386, \"color\": 4.0}, {\"pca0\": -0.9603652912270678, \"pca1\": -0.5520380272370672, \"color\": 4.0}, {\"pca0\": -0.7744685011342418, \"pca1\": 0.6658273489964465, \"color\": 6.0}, {\"pca0\": 0.9532607774123177, \"pca1\": -0.5662583330076233, \"color\": 6.0}, {\"pca0\": 1.7164525103796597, \"pca1\": 0.8291038577643325, \"color\": 8.0}, {\"pca0\": 0.24384571982595588, \"pca1\": -0.29303415623764006, \"color\": 6.0}, {\"pca0\": -0.29585833842920667, \"pca1\": 0.39247406898568915, \"color\": 6.0}, {\"pca0\": -0.11555358649901572, \"pca1\": -0.9035099529553384, \"color\": 4.0}, {\"pca0\": 3.8284229631654196, \"pca1\": 0.682298924789259, \"color\": 8.0}, {\"pca0\": -8.836490699911629, \"pca1\": 3.1651185436525178, \"color\": 0.0}, {\"pca0\": 2.7486170365873144, \"pca1\": 1.165543062995601, \"color\": 8.0}, {\"pca0\": 2.4328727658672076, \"pca1\": 1.2947327108813358, \"color\": 10.0}, {\"pca0\": 2.887738889485203, \"pca1\": 0.9263616404033199, \"color\": 8.0}, {\"pca0\": 1.522162446204554, \"pca1\": -0.11469375091660379, \"color\": 6.0}, {\"pca0\": 2.660288010154475, \"pca1\": 1.10553844543425, \"color\": 8.0}, {\"pca0\": 3.1052199469047252, \"pca1\": 0.7131907572156145, \"color\": 8.0}, {\"pca0\": -0.9444550051983405, \"pca1\": -1.8871017706613016, \"color\": 2.0}, {\"pca0\": 1.4242012253760057, \"pca1\": 0.3834829118507954, \"color\": 8.0}, {\"pca0\": 2.412478481121053, \"pca1\": 0.5370123600553057, \"color\": 8.0}, {\"pca0\": -1.9283904325132848, \"pca1\": -0.4452321772789937, \"color\": 4.0}, {\"pca0\": -0.981646186518579, \"pca1\": -0.9428339537163841, \"color\": 4.0}, {\"pca0\": -0.3202951322658606, \"pca1\": 0.12996327948457054, \"color\": 6.0}, {\"pca0\": -1.0252759574309314, \"pca1\": -0.47999102873942073, \"color\": 4.0}, {\"pca0\": -1.6472443728446446, \"pca1\": -0.6809208723741117, \"color\": 4.0}, {\"pca0\": -0.780815073344668, \"pca1\": -0.7531718331217131, \"color\": 4.0}, {\"pca0\": 0.1917999966923089, \"pca1\": -0.18660784144522283, \"color\": 6.0}, {\"pca0\": -0.9218925706851661, \"pca1\": -0.9348812580863367, \"color\": 4.0}, {\"pca0\": -0.1508812540405437, \"pca1\": 0.008166544622543603, \"color\": 6.0}, {\"pca0\": -0.8018699695108037, \"pca1\": -1.1284133252824584, \"color\": 4.0}, {\"pca0\": -1.0429685167067393, \"pca1\": -0.7415467807344489, \"color\": 4.0}, {\"pca0\": 0.34636596315449847, \"pca1\": -0.002988341468418101, \"color\": 6.0}, {\"pca0\": -0.5303954718099878, \"pca1\": -0.7988532715859608, \"color\": 4.0}, {\"pca0\": 0.4283849022291999, \"pca1\": -0.2513882201797539, \"color\": 6.0}, {\"pca0\": -1.4326339593646225, \"pca1\": -0.6507395529386517, \"color\": 4.0}, {\"pca0\": -0.9260599486167151, \"pca1\": -0.5956061832364554, \"color\": 4.0}, {\"pca0\": -0.21893356243012776, \"pca1\": -1.2090795548914592, \"color\": 4.0}, {\"pca0\": -1.3533828633495597, \"pca1\": -0.5424779454760702, \"color\": 4.0}, {\"pca0\": 2.384917373071546, \"pca1\": 0.5815355535607846, \"color\": 8.0}, {\"pca0\": -1.179841923893121, \"pca1\": -0.6636105287162255, \"color\": 4.0}, {\"pca0\": -1.2661496620863495, \"pca1\": -0.31957108216277896, \"color\": 4.0}, {\"pca0\": 3.4076158197379334, \"pca1\": 1.731084055575112, \"color\": 12.0}, {\"pca0\": -1.2645394744463168, \"pca1\": -0.626749144956575, \"color\": 4.0}, {\"pca0\": -1.2006187480473576, \"pca1\": -0.7796714647115652, \"color\": 4.0}, {\"pca0\": -0.6641846141179408, \"pca1\": -0.8664118355674257, \"color\": 4.0}, {\"pca0\": 1.0667771667033088, \"pca1\": -0.34002571453752073, \"color\": 6.0}, {\"pca0\": 1.3831516482048072, \"pca1\": 0.4260960303440932, \"color\": 8.0}, {\"pca0\": 2.028443389155012, \"pca1\": 0.49974890426696833, \"color\": 8.0}, {\"pca0\": -0.7221148392098642, \"pca1\": -0.7454167711142, \"color\": 4.0}, {\"pca0\": 1.6760785899476043, \"pca1\": 0.9696932545443451, \"color\": 8.0}, {\"pca0\": -0.341498007538753, \"pca1\": -0.6433315672028487, \"color\": 4.0}, {\"pca0\": -0.4940722782733936, \"pca1\": 0.20310283427523723, \"color\": 6.0}, {\"pca0\": 3.0950836809504385, \"pca1\": 0.7925279157948341, \"color\": 8.0}, {\"pca0\": 2.0661007875271773, \"pca1\": 0.5374278067457796, \"color\": 8.0}, {\"pca0\": 2.10040613013753, \"pca1\": 0.49385965074639143, \"color\": 8.0}, {\"pca0\": -1.3123332861783612, \"pca1\": -0.5850910639693679, \"color\": 4.0}, {\"pca0\": -2.0503637147123457, \"pca1\": -0.9522070824286782, \"color\": 3.0}, {\"pca0\": 0.5407216373465698, \"pca1\": -0.3978667829237428, \"color\": 6.0}, {\"pca0\": 1.939589039025334, \"pca1\": 1.0871261251926694, \"color\": 8.0}, {\"pca0\": -0.06775977476697145, \"pca1\": -0.9451680339425456, \"color\": 4.0}, {\"pca0\": -10.901170069331966, \"pca1\": 5.5846197962969475, \"color\": 0.0}, {\"pca0\": 2.275748994456752, \"pca1\": 0.7935401742751365, \"color\": 8.0}, {\"pca0\": 2.046361193755479, \"pca1\": 1.3124037061566816, \"color\": 8.0}, {\"pca0\": -1.188680483527491, \"pca1\": -0.43819542896528385, \"color\": 4.0}, {\"pca0\": -1.1214077013667192, \"pca1\": -0.5098706902420744, \"color\": 4.0}, {\"pca0\": -1.173097689332275, \"pca1\": -0.6626554912101349, \"color\": 4.0}, {\"pca0\": -0.0064517009382332145, \"pca1\": 0.2711230280653668, \"color\": 6.0}, {\"pca0\": -1.8356508673765302, \"pca1\": -0.335060494804231, \"color\": 4.0}, {\"pca0\": 2.470912777350251, \"pca1\": 0.6907522860860573, \"color\": 8.0}, {\"pca0\": -2.1067376657485406, \"pca1\": 0.2903326469511248, \"color\": 4.0}, {\"pca0\": 2.5269168948924716, \"pca1\": 0.4063377519250496, \"color\": 8.0}, {\"pca0\": -1.179841923893121, \"pca1\": -0.6636105287162255, \"color\": 4.0}, {\"pca0\": 1.6665919993068645, \"pca1\": 0.14826273252621916, \"color\": 6.0}, {\"pca0\": -2.283111942753249, \"pca1\": -0.2364210937993772, \"color\": 4.0}, {\"pca0\": 1.2545840878858519, \"pca1\": -0.24981096643613446, \"color\": 6.0}, {\"pca0\": 1.2548742130369774, \"pca1\": 0.829653967939649, \"color\": 8.0}, {\"pca0\": 1.2130304395773785, \"pca1\": -0.48193283842681384, \"color\": 6.0}, {\"pca0\": 1.6416288192428439, \"pca1\": 0.34881988321078455, \"color\": 8.0}, {\"pca0\": -1.063745340860976, \"pca1\": -0.8576077167297886, \"color\": 4.0}, {\"pca0\": -0.3202951322658606, \"pca1\": 0.12996327948457054, \"color\": 6.0}, {\"pca0\": -0.9260599486167151, \"pca1\": -0.5956061832364554, \"color\": 4.0}, {\"pca0\": 0.8290767461167123, \"pca1\": -0.14668871896547306, \"color\": 6.0}, {\"pca0\": -0.9787603478086933, \"pca1\": -1.8435336146619132, \"color\": 2.0}, {\"pca0\": 0.10970084234991191, \"pca1\": -0.10138160445862736, \"color\": 6.0}, {\"pca0\": -1.1180155225676858, \"pca1\": -0.5901627112141835, \"color\": 4.0}, {\"pca0\": -0.7255069443061013, \"pca1\": -0.6651246625854905, \"color\": 4.0}, {\"pca0\": -8.074393561436287, \"pca1\": 2.256079802560677, \"color\": 0.0}, {\"pca0\": -1.3864102859381864, \"pca1\": -0.546758738138972, \"color\": 4.0}, {\"pca0\": 2.321719012714241, \"pca1\": 1.156745613063445, \"color\": 8.0}, {\"pca0\": 0.48440701686405424, \"pca1\": -0.0001980112921631599, \"color\": 6.0}, {\"pca0\": 2.0435003910067735, \"pca1\": 0.8262306531957572, \"color\": 8.0}, {\"pca0\": 0.21305473678512757, \"pca1\": 0.18871772462839845, \"color\": 6.0}, {\"pca0\": -7.392796138237832, \"pca1\": 1.72145590631059, \"color\": 0.0}, {\"pca0\": -0.9159236089596322, \"pca1\": -0.6749432542590744, \"color\": 4.0}, {\"pca0\": -0.8743699606511591, \"pca1\": -0.4428213822683949, \"color\": 4.0}, {\"pca0\": -0.3931880692071051, \"pca1\": -0.7961164557275097, \"color\": 4.0}, {\"pca0\": -0.42410123301842456, \"pca1\": -0.8328403207002304, \"color\": 4.0}, {\"pca0\": 2.2806694355430426, \"pca1\": 1.1993587315567427, \"color\": 8.0}, {\"pca0\": -1.11127128800684, \"pca1\": -0.5892076737080929, \"color\": 4.0}, {\"pca0\": 0.19902214719173675, \"pca1\": 0.0736118261391493, \"color\": 6.0}, {\"pca0\": 1.6733362338677102, \"pca1\": 0.14921777003230982, \"color\": 6.0}, {\"pca0\": 1.0015586602816369, \"pca1\": -0.3331814235108532, \"color\": 6.0}, {\"pca0\": -0.780815073344668, \"pca1\": -0.7531718331217131, \"color\": 4.0}, {\"pca0\": 0.20279614265475737, \"pca1\": -0.2504210377443423, \"color\": 6.0}, {\"pca0\": -0.010081865563342828, \"pca1\": -0.06930463035653882, \"color\": 6.0}, {\"pca0\": -0.8117282371559875, \"pca1\": -0.7898956980944338, \"color\": 4.0}, {\"pca0\": -0.08363001146127405, \"pca1\": 0.22835654247477982, \"color\": 6.0}, {\"pca0\": 0.8392131594765915, \"pca1\": -0.22602570243149153, \"color\": 6.0}, {\"pca0\": -1.9665358647649591, \"pca1\": -0.36956547847633264, \"color\": 4.0}, {\"pca0\": 2.515858457052165, \"pca1\": 0.8425819619914265, \"color\": 8.0}, {\"pca0\": 2.5569080342233637, \"pca1\": 0.7999688434981288, \"color\": 8.0}, {\"pca0\": 3.940905796904913, \"pca1\": 1.5361986205339606, \"color\": 10.0}, {\"pca0\": -2.0070974449080468, \"pca1\": -0.44029800504280747, \"color\": 4.0}, {\"pca0\": 2.368488485890711, \"pca1\": 0.9037117691932985, \"color\": 8.0}, {\"pca0\": -0.26917953138814404, \"pca1\": -0.9084319364839032, \"color\": 4.0}, {\"pca0\": -0.4859276343438596, \"pca1\": -0.9062881382022724, \"color\": 4.0}, {\"pca0\": 2.2477761012989843, \"pca1\": 0.43272984354451954, \"color\": 8.0}, {\"pca0\": -1.2988448170566695, \"pca1\": -0.5831809889571867, \"color\": 4.0}, {\"pca0\": -0.8735546384814226, \"pca1\": -0.8633435155964758, \"color\": 4.0}, {\"pca0\": -0.8743699606511591, \"pca1\": -0.4428213822683949, \"color\": 4.0}, {\"pca0\": -0.7192667808825302, \"pca1\": -0.9389046155633771, \"color\": 4.0}, {\"pca0\": -0.7532940146295858, \"pca1\": -0.6361558596202828, \"color\": 4.0}, {\"pca0\": -0.9146042156526211, \"pca1\": -0.8207303971031781, \"color\": 4.0}, {\"pca0\": 2.7365651018220465, \"pca1\": 0.6624501194544063, \"color\": 8.0}, {\"pca0\": -0.6337493662452034, \"pca1\": -1.0889526006729864, \"color\": 4.0}, {\"pca0\": 0.2989278865905452, \"pca1\": -0.22054137624168862, \"color\": 6.0}, {\"pca0\": -1.8356508673765302, \"pca1\": -0.335060494804231, \"color\": 4.0}, {\"pca0\": 1.856996774772098, \"pca1\": 0.39451135025009154, \"color\": 8.0}, {\"pca0\": 2.4298632001790526, \"pca1\": 0.7333654045793551, \"color\": 8.0}, {\"pca0\": -0.7740205534405554, \"pca1\": 0.7140208709435831, \"color\": 6.0}, {\"pca0\": -0.5293706175661596, \"pca1\": -0.4058044074872719, \"color\": 5.0}, {\"pca0\": 0.030489795669273553, \"pca1\": -0.37118237892811806, \"color\": 6.0}, {\"pca0\": 1.4049636984382574, \"pca1\": 0.2504266202205754, \"color\": 8.0}, {\"pca0\": -0.9078599810917753, \"pca1\": -0.8197753595970875, \"color\": 4.0}, {\"pca0\": 2.2569732832589433, \"pca1\": 1.3886257168961589, \"color\": 8.0}, {\"pca0\": -0.46515081018962307, \"pca1\": -0.7902272022069327, \"color\": 4.0}, {\"pca0\": -2.1673143684289, \"pca1\": 0.022724756822528242, \"color\": 4.0}, {\"pca0\": -0.7125225463216843, \"pca1\": -0.9379495780572865, \"color\": 4.0}, {\"pca0\": 0.18505576213146313, \"pca1\": -0.1875628789513134, \"color\": 6.0}, {\"pca0\": -0.03684653725285589, \"pca1\": -0.9084440814132243, \"color\": 4.0}, {\"pca0\": -0.5994440236348507, \"pca1\": -1.1325207566723747, \"color\": 4.0}, {\"pca0\": 2.6747386267938156, \"pca1\": 0.5890022143957636, \"color\": 8.0}, {\"pca0\": -1.241668325218556, \"pca1\": -0.7370583462182675, \"color\": 4.0}, {\"pca0\": 0.47543196858071296, \"pca1\": -0.4269145653219438, \"color\": 5.0}, {\"pca0\": 0.29517997262342094, \"pca1\": 0.11896176049089806, \"color\": 6.0}, {\"pca0\": -1.6849810771478526, \"pca1\": -0.34588387678269383, \"color\": 4.0}, {\"pca0\": -2.09857089319087, \"pca1\": -0.323480030470019, \"color\": 4.0}, {\"pca0\": -2.048635019107356, \"pca1\": -0.2843392414897372, \"color\": 4.0}, {\"pca0\": 0.18505576213146313, \"pca1\": -0.1875628789513134, \"color\": 6.0}, {\"pca0\": 0.1507504195211104, \"pca1\": -0.1439947229519251, \"color\": 6.0}, {\"pca0\": -0.8117282371559875, \"pca1\": -0.7898956980944338, \"color\": 4.0}, {\"pca0\": 0.739729359778991, \"pca1\": -0.3371524224123448, \"color\": 6.0}, {\"pca0\": 1.2319836176626522, \"pca1\": 0.03899179245724267, \"color\": 6.0}, {\"pca0\": -1.5936789795932995, \"pca1\": -0.3820385643380894, \"color\": 4.0}, {\"pca0\": 0.20291832342524851, \"pca1\": 0.26805470809441695, \"color\": 6.0}, {\"pca0\": -0.3034848739984968, \"pca1\": -0.864863780484515, \"color\": 4.0}, {\"pca0\": -1.8839326761366857, \"pca1\": -0.18005676875725116, \"color\": 4.0}, {\"pca0\": -1.7313643349861627, \"pca1\": -0.6440400540531224, \"color\": 4.0}, {\"pca0\": -0.8884025502445498, \"pca1\": -0.5579272807576442, \"color\": 4.0}, {\"pca0\": -0.9078599810917753, \"pca1\": -0.8197753595970875, \"color\": 4.0}, {\"pca0\": -3.1242061964450896, \"pca1\": 0.4247287001064061, \"color\": 4.0}, {\"pca0\": 0.15122833545969247, \"pca1\": 0.11526990712635647, \"color\": 6.0}, {\"pca0\": -0.9260599486167151, \"pca1\": -0.5956061832364554, \"color\": 4.0}, {\"pca0\": 0.1917999966923089, \"pca1\": -0.18660784144522283, \"color\": 6.0}, {\"pca0\": -0.9198197851931439, \"pca1\": -0.8693861362143421, \"color\": 4.0}, {\"pca0\": 1.3442216730774947, \"pca1\": 1.0201177589431214, \"color\": 8.0}, {\"pca0\": 1.9840016331847803, \"pca1\": 0.6226540437323751, \"color\": 8.0}, {\"pca0\": -0.42962080626015714, \"pca1\": -0.44066246397305664, \"color\": 5.0}, {\"pca0\": -0.10621360949913061, \"pca1\": -0.09918429185919252, \"color\": 6.0}, {\"pca0\": -7.154938704277414, \"pca1\": 1.224041817442749, \"color\": 0.0}, {\"pca0\": -0.18518659665089643, \"pca1\": 0.05173470062193189, \"color\": 6.0}, {\"pca0\": 0.305672121151391, \"pca1\": -0.21958633873559807, \"color\": 6.0}, {\"pca0\": -2.064265550580518, \"pca1\": -0.36704818646940723, \"color\": 4.0}, {\"pca0\": -1.3302620520052635, \"pca1\": -0.8946398444138847, \"color\": 4.0}, {\"pca0\": 0.2917617123284913, \"pca1\": 0.18378350861391202, \"color\": 6.0}, {\"pca0\": -1.3263658757717518, \"pca1\": -0.700196962458617, \"color\": 4.0}, {\"pca0\": 1.856985960951255, \"pca1\": 0.8976175468084886, \"color\": 8.0}, {\"pca0\": -1.1865861584539668, \"pca1\": -0.664565566222316, \"color\": 4.0}, {\"pca0\": -0.8793058763598554, \"pca1\": -0.21182315534066892, \"color\": 5.0}, {\"pca0\": 2.3965200050863484, \"pca1\": 0.2584872545280761, \"color\": 8.0}, {\"pca0\": -0.14413701947969795, \"pca1\": 0.00912158212863416, \"color\": 6.0}, {\"pca0\": 0.11653977503571254, \"pca1\": -1.0975357626505107, \"color\": 4.0}, {\"pca0\": 2.4920086610503036, \"pca1\": 1.2756200803640787, \"color\": 8.0}, {\"pca0\": -1.2988448170566695, \"pca1\": -0.5831809889571867, \"color\": 4.0}, {\"pca0\": -0.8816583156837041, \"pca1\": -0.5569722432515536, \"color\": 4.0}, {\"pca0\": -2.4114293019677087, \"pca1\": 0.2307323524298511, \"color\": 4.0}, {\"pca0\": 4.113885877680518, \"pca1\": 1.7476334482972928, \"color\": 12.0}, {\"pca0\": -2.211149164919333, \"pca1\": -0.24231030354165373, \"color\": 4.0}, {\"pca0\": -1.4637860135188585, \"pca1\": -0.508922882311892, \"color\": 4.0}, {\"pca0\": -0.0038155469410791755, \"pca1\": -0.3276142229287298, \"color\": 6.0}, {\"pca0\": 0.4283849022291999, \"pca1\": -0.2513882201797539, \"color\": 6.0}, {\"pca0\": 0.0995383474941365, \"pca1\": -0.037514893841704, \"color\": 6.0}, {\"pca0\": -1.3864102859381864, \"pca1\": -0.546758738138972, \"color\": 4.0}, {\"pca0\": 2.3781731385107, \"pca1\": 0.580580516054694, \"color\": 8.0}, {\"pca0\": -1.3741596875037962, \"pca1\": -0.6585388814714099, \"color\": 4.0}, {\"pca0\": 0.10970084234991191, \"pca1\": -0.10138160445862736, \"color\": 6.0}, {\"pca0\": -0.8252567556121038, \"pca1\": -0.6302666060997058, \"color\": 4.0}, {\"pca0\": 0.2917617123284913, \"pca1\": 0.18378350861391202, \"color\": 6.0}, {\"pca0\": 1.2899136953489831, \"pca1\": -0.08200344710918407, \"color\": 6.0}, {\"pca0\": 2.640433284183463, \"pca1\": 0.6325703703951517, \"color\": 8.0}, {\"pca0\": 1.8917952272932896, \"pca1\": 1.1287842061798767, \"color\": 8.0}, {\"pca0\": -0.9637174206916764, \"pca1\": -0.6332851732718673, \"color\": 4.0}, {\"pca0\": 0.09906043155555438, \"pca1\": -0.2967795239199855, \"color\": 6.0}, {\"pca0\": -0.6197167766518127, \"pca1\": -0.9738467021837374, \"color\": 4.0}, {\"pca0\": 0.1333657741659071, \"pca1\": -0.3403476799193738, \"color\": 6.0}, {\"pca0\": 2.4671781084775604, \"pca1\": 1.2511645548819474, \"color\": 10.0}, {\"pca0\": 1.8226914321617451, \"pca1\": 0.4380795062494798, \"color\": 8.0}, {\"pca0\": 1.717632090850485, \"pca1\": 1.2018149514218235, \"color\": 8.0}, {\"pca0\": 1.6417732473372515, \"pca1\": 1.0132614105437334, \"color\": 8.0}, {\"pca0\": 0.1647830091145012, \"pca1\": -0.02888882446267593, \"color\": 6.0}, {\"pca0\": -0.9400925382101059, \"pca1\": -0.7107120817257047, \"color\": 4.0}, {\"pca0\": 3.7718298457241057, \"pca1\": 2.170815747968072, \"color\": 12.0}, {\"pca0\": -0.019421842563227945, \"pca1\": -0.8736302914526847, \"color\": 4.0}, {\"pca0\": -0.3931880692071051, \"pca1\": -0.7961164557275097, \"color\": 4.0}, {\"pca0\": -0.7364133667088609, \"pca1\": -0.7145378055802107, \"color\": 4.0}, {\"pca0\": 0.24384571982595588, \"pca1\": -0.29303415623764006, \"color\": 6.0}, {\"pca0\": 2.505218119960604, \"pca1\": 0.647184130086669, \"color\": 8.0}, {\"pca0\": 0.6138640325027088, \"pca1\": -0.031044855230228485, \"color\": 6.0}, {\"pca0\": -0.7431576012697068, \"pca1\": -0.7154928430863012, \"color\": 4.0}, {\"pca0\": -0.41948439290027806, \"pca1\": -0.5199994474390751, \"color\": 5.0}, {\"pca0\": -0.8460335797663403, \"pca1\": -0.7463275420950455, \"color\": 4.0}, {\"pca0\": -0.2963095798907862, \"pca1\": -0.6323685300698733, \"color\": 5.0}, {\"pca0\": -1.2234898972751183, \"pca1\": -0.6693622634498727, \"color\": 4.0}, {\"pca0\": -1.709027752124417, \"pca1\": -0.30118012987029735, \"color\": 4.0}, {\"pca0\": -1.5599177574546463, \"pca1\": -0.5388025438145457, \"color\": 4.0}, {\"pca0\": -0.7024395556186067, \"pca1\": 0.513869288874656, \"color\": 6.0}, {\"pca0\": 0.4327170288984982, \"pca1\": -0.15298281226022362, \"color\": 6.0}, {\"pca0\": 0.7485932700865193, \"pca1\": 0.21521131275607688, \"color\": 6.0}, {\"pca0\": 2.6539618763423753, \"pca1\": 0.4729413659570244, \"color\": 8.0}, {\"pca0\": 2.6747386267938156, \"pca1\": 0.5890022143957636, \"color\": 8.0}, {\"pca0\": 0.993779125938781, \"pca1\": -0.042406202454686806, \"color\": 6.0}, {\"pca0\": 0.931952724613346, \"pca1\": -0.1158540199567288, \"color\": 6.0}, {\"pca0\": -0.367067419860711, \"pca1\": 0.43124552775752084, \"color\": 6.0}, {\"pca0\": 0.21257682084654544, \"pca1\": -0.0705469054498831, \"color\": 6.0}, {\"pca0\": 0.8606655666671744, \"pca1\": -0.011988575706037638, \"color\": 6.0}, {\"pca0\": 0.45349385305273476, \"pca1\": -0.036921876264883864, \"color\": 6.0}, {\"pca0\": -0.45042430489139623, \"pca1\": 0.20885456900888438, \"color\": 6.0}, {\"pca0\": 2.002450813835575, \"pca1\": 0.8688437716890549, \"color\": 8.0}, {\"pca0\": -1.3606712183821046, \"pca1\": -0.6566288064592287, \"color\": 4.0}, {\"pca0\": 2.273925200982197, \"pca1\": 1.1984036940506522, \"color\": 8.0}, {\"pca0\": 1.5377176146669966, \"pca1\": 0.6097155303208979, \"color\": 8.0}, {\"pca0\": 0.5829508686913893, \"pca1\": -0.06776872020294916, \"color\": 6.0}, {\"pca0\": 0.3598142663429191, \"pca1\": -0.3257910751878864, \"color\": 6.0}, {\"pca0\": 1.8980355381224534, \"pca1\": 0.8550044283151909, \"color\": 8.0}, {\"pca0\": -1.3845749668382203, \"pca1\": -0.23912210784240132, \"color\": 4.0}, {\"pca0\": -0.7499018358305525, \"pca1\": -0.7164478805923918, \"color\": 4.0}, {\"pca0\": 1.560110043430641, \"pca1\": 1.0024501734945916, \"color\": 8.0}, {\"pca0\": -0.341498007538753, \"pca1\": -0.6433315672028487, \"color\": 4.0}, {\"pca0\": 1.4920434049788385, \"pca1\": 1.2027822214138357, \"color\": 8.0}, {\"pca0\": 1.3140827720050492, \"pca1\": -0.04623444452935277, \"color\": 6.0}, {\"pca0\": -0.8460335797663403, \"pca1\": -0.7463275420950455, \"color\": 4.0}, {\"pca0\": 0.6892189522842601, \"pca1\": -0.1172261297229145, \"color\": 6.0}, {\"pca0\": 2.3371235613395016, \"pca1\": 0.6231936345479917, \"color\": 8.0}, {\"pca0\": 0.8392131594765915, \"pca1\": -0.22602570243149153, \"color\": 6.0}, {\"pca0\": 2.4820048751817017, \"pca1\": 1.1299443876634012, \"color\": 8.0}, {\"pca0\": -2.751183985456244, \"pca1\": 0.21517374509647313, \"color\": 4.0}, {\"pca0\": -1.0699855042845472, \"pca1\": -0.5838277637519019, \"color\": 4.0}, {\"pca0\": -1.0689239308129288, \"pca1\": -0.48574276347306794, \"color\": 4.0}, {\"pca0\": -1.4292418174169872, \"pca1\": -0.731031617689061, \"color\": 4.0}, {\"pca0\": -1.296750455131747, \"pca1\": -0.8095510824359187, \"color\": 4.0}, {\"pca0\": 1.4669344541553038, \"pca1\": 0.9883158774989654, \"color\": 8.0}, {\"pca0\": -0.8081101697857729, \"pca1\": -0.8546334160828722, \"color\": 4.0}, {\"pca0\": -1.9901798239002242, \"pca1\": 0.09437631737472571, \"color\": 4.0}, {\"pca0\": 2.829304593256005, \"pca1\": 0.7726217143725684, \"color\": 8.0}, {\"pca0\": 0.1304515113054559, \"pca1\": -0.0007910288689832878, \"color\": 6.0}, {\"pca0\": 0.905611393774681, \"pca1\": 0.1398412753125328, \"color\": 6.0}, {\"pca0\": 0.14406083375079487, \"pca1\": -0.9805197891490806, \"color\": 4.0}, {\"pca0\": 1.617842355697656, \"pca1\": -0.3286084466431366, \"color\": 6.0}, {\"pca0\": -1.2006187480473576, \"pca1\": -0.7796714647115652, \"color\": 4.0}, {\"pca0\": 0.7256967701856003, \"pca1\": -0.45225832090159396, \"color\": 6.0}, {\"pca0\": -1.0086631740963867, \"pca1\": -0.7851149367338371, \"color\": 4.0}, {\"pca0\": -0.9193157140558693, \"pca1\": -0.5946511457303649, \"color\": 4.0}, {\"pca0\": 2.2854334996711496, \"pca1\": 0.47040874602333094, \"color\": 8.0}, {\"pca0\": -1.5095590174517817, \"pca1\": -0.41891938265907885, \"color\": 4.0}, {\"pca0\": -1.924982253307884, \"pca1\": -0.13744365026395344, \"color\": 4.0}, {\"pca0\": -0.5226263830053138, \"pca1\": -0.4048493699811814, \"color\": 5.0}, {\"pca0\": -10.043632859513567, \"pca1\": 4.543824163765435, \"color\": 0.0}, {\"pca0\": -1.3466386287887138, \"pca1\": -0.5415229079699796, \"color\": 4.0}, {\"pca0\": -0.8117282371559875, \"pca1\": -0.7898956980944338, \"color\": 4.0}, {\"pca0\": -1.8289066328156844, \"pca1\": -0.3341054572981404, \"color\": 4.0}, {\"pca0\": 1.1802935559943, \"pca1\": -0.1137930960674183, \"color\": 6.0}, {\"pca0\": -1.1387923467219225, \"pca1\": -0.7062236472095232, \"color\": 4.0}, {\"pca0\": 0.27475895734007155, \"pca1\": -0.25631020370831875, \"color\": 6.0}, {\"pca0\": -0.010559781501924938, \"pca1\": -0.3285692604348204, \"color\": 6.0}, {\"pca0\": 2.135204582658722, \"pca1\": 1.2281325066761763, \"color\": 8.0}, {\"pca0\": -1.2349240906577101, \"pca1\": -0.7361033087121769, \"color\": 4.0}, {\"pca0\": 0.9872959284210714, \"pca1\": 0.6945368399767191, \"color\": 8.0}, {\"pca0\": -2.0222778558467907, \"pca1\": -0.10225895956423724, \"color\": 4.0}, {\"pca0\": 1.7164525103796597, \"pca1\": 0.8291038577643325, \"color\": 8.0}, {\"pca0\": -0.14413701947969795, \"pca1\": 0.00912158212863416, \"color\": 6.0}, {\"pca0\": -0.44487805717266116, \"pca1\": -0.94890125669557, \"color\": 4.0}, {\"pca0\": 2.510036394377339, \"pca1\": 0.4847198729981786, \"color\": 8.0}, {\"pca0\": -1.7438371290206465, \"pca1\": -0.5323469205765862, \"color\": 4.0}, {\"pca0\": 1.4085001579261058, \"pca1\": 0.8345759514682141, \"color\": 8.0}, {\"pca0\": -0.3310059327135791, \"pca1\": -0.9818797539859452, \"color\": 4.0}, {\"pca0\": 2.4095380630619094, \"pca1\": 0.8610986507000008, \"color\": 8.0}, {\"pca0\": 2.539802472782348, \"pca1\": 1.2339619993768718, \"color\": 8.0}, {\"pca0\": 0.696903208418167, \"pca1\": 0.06242642423141594, \"color\": 6.0}, {\"pca0\": -1.8272464820195267, \"pca1\": 0.08709076544911079, \"color\": 4.0}, {\"pca0\": -1.0429685167067393, \"pca1\": -0.7415467807344489, \"color\": 4.0}, {\"pca0\": -0.8190165921885325, \"pca1\": -0.9040465590775925, \"color\": 4.0}, {\"pca0\": -0.2792455550946621, \"pca1\": 0.08735016099127281, \"color\": 6.0}, {\"pca0\": -1.1255717053350132, \"pca1\": -0.9310554904535304, \"color\": 4.0}, {\"pca0\": 0.46943447940039834, \"pca1\": -0.2940013386730516, \"color\": 6.0}, {\"pca0\": -0.7119784258499852, \"pca1\": -0.8247537545802185, \"color\": 4.0}, {\"pca0\": -0.6434077899637043, \"pca1\": -0.750350899572086, \"color\": 4.0}, {\"pca0\": -0.8951467848053957, \"pca1\": -0.5588823182637347, \"color\": 4.0}, {\"pca0\": 0.3467216983225895, \"pca1\": -0.26219945722889576, \"color\": 6.0}, {\"pca0\": -1.381448005684943, \"pca1\": -0.7726896986762682, \"color\": 4.0}, {\"pca0\": -1.504835590690057, \"pca1\": -0.46630976381859424, \"color\": 4.0}, {\"pca0\": 2.829304593256005, \"pca1\": 0.7726217143725684, \"color\": 8.0}, {\"pca0\": 3.012480455470767, \"pca1\": 0.6030191622974524, \"color\": 8.0}, {\"pca0\": 0.26462254398019247, \"pca1\": -0.17697322024230033, \"color\": 6.0}, {\"pca0\": 0.48440701686405424, \"pca1\": -0.0001980112921631599, \"color\": 6.0}, {\"pca0\": -1.3796660513773407, \"pca1\": -0.5458037006328814, \"color\": 4.0}, {\"pca0\": 2.7076935990602324, \"pca1\": 1.8287325837722705, \"color\": 12.0}, {\"pca0\": 1.1275792294731692, \"pca1\": -0.47795365991841793, \"color\": 6.0}, {\"pca0\": -1.7293667096744962, \"pca1\": 0.003562731219553579, \"color\": 4.0}, {\"pca0\": 0.6240004458625878, \"pca1\": -0.11038183869624688, \"color\": 6.0}, {\"pca0\": -0.9091793743987864, \"pca1\": -0.6739882167529839, \"color\": 4.0}, {\"pca0\": -1.4482366872636214, \"pca1\": -0.620206555641014, \"color\": 4.0}, {\"pca0\": 0.1507504195211104, \"pca1\": -0.1439947229519251, \"color\": 6.0}, {\"pca0\": 2.891131068284236, \"pca1\": 0.846069619431211, \"color\": 8.0}, {\"pca0\": -1.7260306543190511, \"pca1\": -0.3032707582893961, \"color\": 4.0}, {\"pca0\": -1.5820258295715743, \"pca1\": -0.6877651196224791, \"color\": 4.0}, {\"pca0\": -8.897772980765364, \"pca1\": 3.204866549627544, \"color\": 0.0}, {\"pca0\": -7.392796138237832, \"pca1\": 1.72145590631059, \"color\": 0.0}, {\"pca0\": 1.3157606664921475, \"pca1\": 0.7244043565500518, \"color\": 8.0}, {\"pca0\": -0.6743210274778199, \"pca1\": -0.7870748521014073, \"color\": 4.0}, {\"pca0\": 0.11692299284933977, \"pca1\": 0.15883806312574472, \"color\": 6.0}, {\"pca0\": -0.3826482645400304, \"pca1\": 0.31414278865919715, \"color\": 6.0}, {\"pca0\": 0.14400618496026463, \"pca1\": -0.14494976045801566, \"color\": 6.0}, {\"pca0\": -2.342726993936834, \"pca1\": -0.5566965951213014, \"color\": 3.0}, {\"pca0\": -0.852777814327186, \"pca1\": -0.7472825796011361, \"color\": 4.0}, {\"pca0\": -1.6762821682215732, \"pca1\": -0.5715472740571709, \"color\": 4.0}, {\"pca0\": 0.9144733811331879, \"pca1\": 0.6849022187737966, \"color\": 8.0}, {\"pca0\": -1.0252759574309314, \"pca1\": -0.47999102873942073, \"color\": 4.0}, {\"pca0\": 1.3360333458063132, \"pca1\": 0.5657302145048139, \"color\": 8.0}, {\"pca0\": -0.0033376310024970618, \"pca1\": -0.06834959285044827, \"color\": 6.0}, {\"pca0\": 2.304767094990988, \"pca1\": 1.3469676359089517, \"color\": 8.0}, {\"pca0\": -0.1508812540405437, \"pca1\": 0.008166544622543603, \"color\": 6.0}, {\"pca0\": 1.0901718332149086, \"pca1\": 0.7253714514288628, \"color\": 8.0}, {\"pca0\": 1.0792412972694259, \"pca1\": -0.549491402408279, \"color\": 6.0}, {\"pca0\": 0.5104840565715968, \"pca1\": -0.3366144571663493, \"color\": 6.0}, {\"pca0\": 1.8710184768418492, \"pca1\": 1.0127233577411374, \"color\": 8.0}, {\"pca0\": 1.9424481322818996, \"pca1\": 0.39053234685489674, \"color\": 8.0}, {\"pca0\": -1.6612339403923726, \"pca1\": -0.3428382108575046, \"color\": 4.0}, {\"pca0\": -1.3263658757717518, \"pca1\": -0.700196962458617, \"color\": 4.0}, {\"pca0\": -0.46515081018962307, \"pca1\": -0.7902272022069327, \"color\": 4.0}, {\"pca0\": -2.4275751361279005, \"pca1\": 0.0019920822480597694, \"color\": 4.0}, {\"pca0\": -0.47918339978301383, \"pca1\": -0.9053331006961818, \"color\": 4.0}, {\"pca0\": 0.23674575009701912, \"pca1\": -0.03477807798325295, \"color\": 6.0}, {\"pca0\": 2.3477117354392703, \"pca1\": 0.7876509207545593, \"color\": 8.0}, {\"pca0\": -1.5458851678612555, \"pca1\": -0.4236966453252965, \"color\": 4.0}, {\"pca0\": -0.9018910193662414, \"pca1\": -0.5598373557698253, \"color\": 4.0}, {\"pca0\": 0.010428946982491602, \"pca1\": 0.1927410821054389, \"color\": 6.0}, {\"pca0\": -0.2620042372804335, \"pca1\": -0.6759366860692616, \"color\": 5.0}, {\"pca0\": 0.1478361566606592, \"pca1\": 0.19556192809846543, \"color\": 6.0}, {\"pca0\": 0.552977652750335, \"pca1\": 0.07420484371596939, \"color\": 6.0}, {\"pca0\": 1.6521476983080088, \"pca1\": -0.37217660264252483, \"color\": 6.0}, {\"pca0\": 0.1478361566606592, \"pca1\": 0.19556192809846543, \"color\": 6.0}, {\"pca0\": 0.33622954979461944, \"pca1\": 0.07634864199760033, \"color\": 6.0}, {\"pca0\": 0.46943447940039834, \"pca1\": -0.2940013386730516, \"color\": 6.0}, {\"pca0\": 2.4510917113703825, \"pca1\": 1.0932205226906804, \"color\": 8.0}, {\"pca0\": -11.031306942967856, \"pca1\": 5.711471652258687, \"color\": 0.0}, {\"pca0\": 1.5012397967656566, \"pca1\": 0.9447477214995771, \"color\": 8.0}, {\"pca0\": 1.4811128690333557, \"pca1\": -0.0720806324233061, \"color\": 6.0}, {\"pca0\": -1.499422640943301, \"pca1\": -0.4982564099033976, \"color\": 4.0}, {\"pca0\": 0.993779125938781, \"pca1\": -0.042406202454686806, \"color\": 6.0}, {\"pca0\": -0.718988672019233, \"pca1\": -0.6797240156196711, \"color\": 4.0}, {\"pca0\": 0.6846471930144019, \"pca1\": -0.40964520240829627, \"color\": 6.0}, {\"pca0\": -0.8081101697857729, \"pca1\": -0.8546334160828722, \"color\": 4.0}, {\"pca0\": -1.0699855042845472, \"pca1\": -0.5838277637519019, \"color\": 4.0}, {\"pca0\": 0.7785664123247774, \"pca1\": 0.07323766128055784, \"color\": 6.0}, {\"pca0\": -1.2759736678289086, \"pca1\": -0.6934901902188791, \"color\": 4.0}, {\"pca0\": -0.2857219250693276, \"pca1\": 0.31313708551967073, \"color\": 6.0}, {\"pca0\": 0.48440701686405424, \"pca1\": -0.0001980112921631599, \"color\": 6.0}, {\"pca0\": -1.0086631740963867, \"pca1\": -0.7851149367338371, \"color\": 4.0}, {\"pca0\": 0.18505576213146313, \"pca1\": -0.1875628789513134, \"color\": 6.0}, {\"pca0\": -1.0115754552875438, \"pca1\": 0.0592614426243426, \"color\": 5.0}, {\"pca0\": -1.3073909027775026, \"pca1\": -1.0049490456755772, \"color\": 4.0}, {\"pca0\": -1.5477175511013817, \"pca1\": -0.11660559238740215, \"color\": 4.0}, {\"pca0\": -0.10308744230849945, \"pca1\": -0.033491536364663566, \"color\": 6.0}, {\"pca0\": -0.14413701947969795, \"pca1\": 0.00912158212863416, \"color\": 6.0}, {\"pca0\": 1.8159363837800564, \"pca1\": 0.9402306653017863, \"color\": 8.0}, {\"pca0\": 2.0435003910067735, \"pca1\": 0.8262306531957572, \"color\": 8.0}, {\"pca0\": 1.455114389187325, \"pca1\": 0.42020677682351615, \"color\": 8.0}, {\"pca0\": 1.2031842987742176, \"pca1\": 0.6768692545281891, \"color\": 8.0}, {\"pca0\": 3.9868408962306146, \"pca1\": 1.6810298342653176, \"color\": 12.0}, {\"pca0\": -0.3202951322658606, \"pca1\": 0.12996327948457054, \"color\": 6.0}, {\"pca0\": 0.3674985224768261, \"pca1\": -0.14613852123355606, \"color\": 6.0}, {\"pca0\": -1.9254862875937606, \"pca1\": -0.4121785969696304, \"color\": 4.0}, {\"pca0\": 1.6593960040061293, \"pca1\": -0.09648657465245726, \"color\": 6.0}, {\"pca0\": 0.10970084234991191, \"pca1\": -0.10138160445862736, \"color\": 6.0}, {\"pca0\": 1.640593519460834, \"pca1\": 0.6405501417730414, \"color\": 8.0}, {\"pca0\": 1.3140827720050492, \"pca1\": -0.04623444452935277, \"color\": 6.0}, {\"pca0\": -10.029900482830428, \"pca1\": 4.545766700789681, \"color\": 0.0}, {\"pca0\": -1.1180155225676858, \"pca1\": -0.5901627112141835, \"color\": 4.0}, {\"pca0\": -0.7462837684603378, \"pca1\": -0.7811855985808303, \"color\": 4.0}, {\"pca0\": 0.5181683127055039, \"pca1\": -0.15696190321201897, \"color\": 6.0}, {\"pca0\": 0.110178758288494, \"pca1\": 0.15788302561965417, \"color\": 6.0}, {\"pca0\": -0.9159236089596322, \"pca1\": -0.6749432542590744, \"color\": 4.0}, {\"pca0\": -0.9556537928238196, \"pca1\": -0.7781172786098803, \"color\": 4.0}, {\"pca0\": -1.3263658757717518, \"pca1\": -0.700196962458617, \"color\": 4.0}, {\"pca0\": 0.1720051596139291, \"pca1\": 0.2313308431216962, \"color\": 6.0}, {\"pca0\": 1.2270630291707696, \"pca1\": -0.3668269399375647, \"color\": 6.0}, {\"pca0\": 0.37139469871033776, \"pca1\": 0.04830436072171159, \"color\": 6.0}, {\"pca0\": -0.5602837813774789, \"pca1\": -0.44252827245999266, \"color\": 5.0}, {\"pca0\": 0.5665061712064512, \"pca1\": -0.08542424827875861, \"color\": 6.0}, {\"pca0\": -0.002541194642503156, \"pca1\": -0.9520122374126126, \"color\": 4.0}, {\"pca0\": -1.3055890516175153, \"pca1\": -0.5841360264632772, \"color\": 4.0}, {\"pca0\": -0.6400156848674672, \"pca1\": -0.8306430081007955, \"color\": 4.0}, {\"pca0\": 1.9269742886220351, \"pca1\": 0.03863055331047275, \"color\": 6.0}, {\"pca0\": 0.4076080780749633, \"pca1\": -0.3674491561750936, \"color\": 6.0}, {\"pca0\": -0.9878863499421502, \"pca1\": -0.6690540007384974, \"color\": 4.0}, {\"pca0\": 1.1685887573099432, \"pca1\": -0.3590276114048066, \"color\": 6.0}, {\"pca0\": 0.02757553280882237, \"pca1\": -0.03162572787772755, \"color\": 6.0}, {\"pca0\": -1.2510510053246253, \"pca1\": -0.6248390699443939, \"color\": 4.0}, {\"pca0\": 3.7429316136215163, \"pca1\": 1.0605028464532085, \"color\": 8.0}, {\"pca0\": -0.17844236209005068, \"pca1\": 0.052689738128022454, \"color\": 6.0}, {\"pca0\": -1.6883171325032975, \"pca1\": -0.039050387273744165, \"color\": 4.0}, {\"pca0\": 1.5835370130873032, \"pca1\": -0.2850402906437483, \"color\": 6.0}, {\"pca0\": -1.2234898972751183, \"pca1\": -0.6693622634498727, \"color\": 4.0}, {\"pca0\": 1.9372321600083107, \"pca1\": 0.8756878876025211, \"color\": 8.0}, {\"pca0\": -0.4940722782733936, \"pca1\": 0.20310283427523723, \"color\": 6.0}, {\"pca0\": 2.796088013980346, \"pca1\": 0.34595175726200506, \"color\": 8.0}, {\"pca0\": 0.3212256451613906, \"pca1\": -1.0002406021477201, \"color\": 5.0}, {\"pca0\": -1.8423951019373763, \"pca1\": -0.3360155323103215, \"color\": 4.0}, {\"pca0\": 1.2432938543723548, \"pca1\": 0.45555861958665167, \"color\": 8.0}, {\"pca0\": 1.6665919993068645, \"pca1\": 0.14826273252621916, \"color\": 6.0}, {\"pca0\": 1.0865187647783316, \"pca1\": 0.06776556757667647, \"color\": 6.0}, {\"pca0\": -1.269501717848162, \"pca1\": -0.40081814064097854, \"color\": 4.0}, {\"pca0\": -1.4999237393693374, \"pca1\": -0.1582636733746093, \"color\": 4.0}, {\"pca0\": 2.505218119960604, \"pca1\": 0.647184130086669, \"color\": 8.0}, {\"pca0\": -0.07233153403682975, \"pca1\": -1.2375871066279271, \"color\": 4.0}, {\"pca0\": -0.5956139782316601, \"pca1\": -0.7920089805592931, \"color\": 4.0}, {\"pca0\": -0.7119784258499852, \"pca1\": -0.8247537545802185, \"color\": 4.0}, {\"pca0\": 3.5125066562405007, \"pca1\": 0.6883296304851122, \"color\": 8.0}, {\"pca0\": 0.20291832342524851, \"pca1\": 0.26805470809441695, \"color\": 6.0}, {\"pca0\": 0.6549136096739073, \"pca1\": -0.0736579737235262, \"color\": 6.0}, {\"pca0\": -0.9091793743987864, \"pca1\": -0.6739882167529839, \"color\": 4.0}, {\"pca0\": -1.1751920144057995, \"pca1\": -0.4362853539531027, \"color\": 4.0}, {\"pca0\": -0.2857219250693276, \"pca1\": 0.31313708551967073, \"color\": 6.0}, {\"pca0\": -1.188680483527491, \"pca1\": -0.43819542896528385, \"color\": 4.0}, {\"pca0\": 1.2338072637316153, \"pca1\": -0.36587190243147416, \"color\": 6.0}, {\"pca0\": -1.5082812329782112, \"pca1\": -0.8033610517995555, \"color\": 4.0}, {\"pca0\": 2.470912777350251, \"pca1\": 0.6907522860860573, \"color\": 8.0}, {\"pca0\": 0.14109192209981344, \"pca1\": 0.19460689059237488, \"color\": 6.0}, {\"pca0\": 1.0454691876071331, \"pca1\": 0.11037868606997421, \"color\": 6.0}, {\"pca0\": 1.3574600663824854, \"pca1\": -0.21897626742739018, \"color\": 6.0}, {\"pca0\": 2.7013375873256735, \"pca1\": 1.0629253269409524, \"color\": 8.0}, {\"pca0\": -0.1373927849188522, \"pca1\": 0.010076619634724721, \"color\": 6.0}, {\"pca0\": 2.627463970945021, \"pca1\": 1.2243633294819036, \"color\": 10.0}, {\"pca0\": 0.24688216345689817, \"pca1\": -0.11411506144927137, \"color\": 6.0}, {\"pca0\": -0.044387208173695555, \"pca1\": -0.025736474357150547, \"color\": 6.0}, {\"pca0\": 0.08940193413425743, \"pca1\": 0.04182208962431444, \"color\": 6.0}, {\"pca0\": 1.1309312852349818, \"pca1\": -0.3967066014402184, \"color\": 6.0}, {\"pca0\": -1.3570138587887133, \"pca1\": -0.28364530134788013, \"color\": 4.0}, {\"pca0\": -1.4752536748414289, \"pca1\": -0.4624875386584671, \"color\": 4.0}, {\"pca0\": 0.28843573806257516, \"pca1\": 0.11800672298480751, \"color\": 6.0}, {\"pca0\": 0.9123556283355266, \"pca1\": 0.14079631281862343, \"color\": 6.0}, {\"pca0\": -0.44487805717266116, \"pca1\": -0.94890125669557, \"color\": 4.0}, {\"pca0\": 1.9328448044644881, \"pca1\": 1.0861710876865789, \"color\": 8.0}, {\"pca0\": 0.21596892594278255, \"pca1\": -0.15083901397859267, \"color\": 6.0}, {\"pca0\": -2.238124577426679, \"pca1\": 0.25379773025345265, \"color\": 4.0}, {\"pca0\": 2.829304593256005, \"pca1\": 0.7726217143725684, \"color\": 8.0}, {\"pca0\": 1.0740254724014293, \"pca1\": -0.06433568654745299, \"color\": 6.0}, {\"pca0\": 0.07888237666354729, \"pca1\": -1.135214665129322, \"color\": 4.0}, {\"pca0\": -1.3123332861783612, \"pca1\": -0.5850910639693679, \"color\": 4.0}, {\"pca0\": 0.21293255601463645, \"pca1\": -0.3297580212103608, \"color\": 6.0}, {\"pca0\": 1.6821471677693072, \"pca1\": 0.8726720137637207, \"color\": 8.0}, {\"pca0\": -1.0086631740963867, \"pca1\": -0.7851149367338371, \"color\": 4.0}, {\"pca0\": -0.044387208173695555, \"pca1\": -0.025736474357150547, \"color\": 6.0}, {\"pca0\": 0.20279614265475737, \"pca1\": -0.2504210377443423, \"color\": 6.0}, {\"pca0\": -0.044387208173695555, \"pca1\": -0.025736474357150547, \"color\": 6.0}, {\"pca0\": 0.685826847188023, \"pca1\": -0.036934021194204886, \"color\": 6.0}, {\"pca0\": 2.244835830645433, \"pca1\": 0.7568163093024156, \"color\": 8.0}, {\"pca0\": 0.6846471930144019, \"pca1\": -0.40964520240829627, \"color\": 6.0}, {\"pca0\": -0.8497171670482512, \"pca1\": 0.4444006498810099, \"color\": 6.0}, {\"pca0\": 1.6416288192428439, \"pca1\": 0.34881988321078455, \"color\": 8.0}, {\"pca0\": -3.6732559961401168, \"pca1\": 1.1354159486745685, \"color\": 4.0}, {\"pca0\": -0.9569731861308307, \"pca1\": -0.6323301357657767, \"color\": 4.0}, {\"pca0\": -1.8272464820195267, \"pca1\": 0.08709076544911079, \"color\": 4.0}, {\"pca0\": 1.2730331948338507, \"pca1\": -0.003621326036055028, \"color\": 6.0}, {\"pca0\": 1.364737386485799, \"pca1\": 0.39828052744436415, \"color\": 6.0}, {\"pca0\": 2.587821198034683, \"pca1\": 0.8366927084708496, \"color\": 8.0}, {\"pca0\": 1.913103353795058, \"pca1\": 0.6783799806855826, \"color\": 8.0}, {\"pca0\": -1.3864102859381864, \"pca1\": -0.546758738138972, \"color\": 4.0}, {\"pca0\": -0.798239768034296, \"pca1\": -0.7879856230822527, \"color\": 4.0}, {\"pca0\": -1.0086631740963867, \"pca1\": -0.7851149367338371, \"color\": 4.0}, {\"pca0\": -1.5869347450324538, \"pca1\": -0.3810835268319988, \"color\": 4.0}, {\"pca0\": 0.357362109116947, \"pca1\": -0.0668015377675376, \"color\": 6.0}, {\"pca0\": 0.40230786252165723, \"pca1\": 0.0850282256944323, \"color\": 6.0}, {\"pca0\": 8.06292924325886e-05, \"pca1\": -0.1331713409734622, \"color\": 6.0}, {\"pca0\": -2.0656053817344264, \"pca1\": 0.13241428660911633, \"color\": 4.0}, {\"pca0\": -1.0151395440710522, \"pca1\": -0.5593280122054393, \"color\": 4.0}, {\"pca0\": -1.1387923467219225, \"pca1\": -0.7062236472095232, \"color\": 4.0}, {\"pca0\": 1.3785270156878475, \"pca1\": 0.9765496029437329, \"color\": 8.0}, {\"pca0\": -4.206188330608364, \"pca1\": 1.6416345563276558, \"color\": 4.0}, {\"pca0\": -0.8735546384814226, \"pca1\": -0.8633435155964758, \"color\": 4.0}, {\"pca0\": 3.4714570790693022, \"pca1\": 0.7309427489784099, \"color\": 8.0}, {\"pca0\": 0.3399774637617437, \"pca1\": -0.2631544947349863, \"color\": 6.0}, {\"pca0\": 0.04113020646363108, \"pca1\": -0.17578445946675994, \"color\": 6.0}, {\"pca0\": -1.5511126289088568, \"pca1\": -0.6510412108714582, \"color\": 4.0}, {\"pca0\": 2.7013375873256735, \"pca1\": 1.0629253269409524, \"color\": 8.0}, {\"pca0\": -3.044009073968645, \"pca1\": 0.4646025891956625, \"color\": 4.0}, {\"pca0\": 2.412478481121053, \"pca1\": 0.5370123600553057, \"color\": 8.0}, {\"pca0\": -1.5782089224177072, \"pca1\": -0.120606295818682, \"color\": 4.0}, {\"pca0\": -1.552629402422101, \"pca1\": -0.42465168283138716, \"color\": 4.0}, {\"pca0\": 1.4966680374957981, \"pca1\": 0.6523286488141956, \"color\": 8.0}, {\"pca0\": 0.46943447940039834, \"pca1\": -0.2940013386730516, \"color\": 6.0}, {\"pca0\": -1.3864102859381864, \"pca1\": -0.546758738138972, \"color\": 4.0}, {\"pca0\": 1.6386191061490964, \"pca1\": -0.21254759820439745, \"color\": 6.0}, {\"pca0\": 0.7785664123247774, \"pca1\": 0.07323766128055784, \"color\": 6.0}, {\"pca0\": 0.7682856445732873, \"pca1\": -0.5118667950297721, \"color\": 6.0}, {\"pca0\": -0.570420194737358, \"pca1\": -0.3631912889939742, \"color\": 5.0}, {\"pca0\": -0.915684767678417, \"pca1\": -0.482375850777053, \"color\": 4.0}, {\"pca0\": 0.501287664784779, \"pca1\": -0.07857995725209103, \"color\": 6.0}, {\"pca0\": -0.7021080240985083, \"pca1\": -0.758105961579599, \"color\": 4.0}, {\"pca0\": -0.044387208173695555, \"pca1\": -0.025736474357150547, \"color\": 6.0}, {\"pca0\": 2.028443389155012, \"pca1\": 0.49974890426696833, \"color\": 8.0}, {\"pca0\": 0.6228207916889668, \"pca1\": -0.48309301991033826, \"color\": 6.0}, {\"pca0\": 1.4966680374957981, \"pca1\": 0.6523286488141956, \"color\": 8.0}, {\"pca0\": 0.9224918942898134, \"pca1\": 0.06145915423940386, \"color\": 6.0}, {\"pca0\": 0.441913420685316, \"pca1\": -0.4110173121744819, \"color\": 6.0}, {\"pca0\": 1.9340245323409058, \"pca1\": 1.4588823564572708, \"color\": 8.0}, {\"pca0\": 1.68282282450845, \"pca1\": 0.9706482920504357, \"color\": 8.0}, {\"pca0\": 0.36039855274788934, \"pca1\": 0.11211755702083105, \"color\": 6.0}, {\"pca0\": -0.8884025502445498, \"pca1\": -0.5579272807576442, \"color\": 4.0}, {\"pca0\": 2.368488485890711, \"pca1\": 0.9037117691932985, \"color\": 8.0}, {\"pca0\": 1.3994259469097787, \"pca1\": 1.6110861972212318, \"color\": 8.0}, {\"pca0\": 1.0049507653778738, \"pca1\": -0.4134735320395628, \"color\": 6.0}, {\"pca0\": 0.037711946168701424, \"pca1\": -0.110962711343746, \"color\": 6.0}, {\"pca0\": 0.8392131594765915, \"pca1\": -0.22602570243149153, \"color\": 6.0}, {\"pca0\": -1.5511126289088568, \"pca1\": -0.6510412108714582, \"color\": 4.0}, {\"pca0\": -0.07110710897302656, \"pca1\": -0.22477803001376662, \"color\": 6.0}, {\"pca0\": -1.1938745134865116, \"pca1\": -0.7787164272054746, \"color\": 4.0}, {\"pca0\": 1.6760785899476043, \"pca1\": 0.9696932545443451, \"color\": 8.0}, {\"pca0\": -1.5511126289088568, \"pca1\": -0.6510412108714582, \"color\": 4.0}, {\"pca0\": -2.0694118432615927, \"pca1\": -0.4004001774850768, \"color\": 4.0}, {\"pca0\": -1.924982253307884, \"pca1\": -0.13744365026395344, \"color\": 4.0}, {\"pca0\": 1.3816289956329593, \"pca1\": -0.18320743996076005, \"color\": 6.0}, {\"pca0\": -1.216241591576998, \"pca1\": -0.393672235459805, \"color\": 4.0}, {\"pca0\": 0.4076080780749633, \"pca1\": -0.3674491561750936, \"color\": 6.0}, {\"pca0\": 0.29139685731474363, \"pca1\": -0.19382551089585276, \"color\": 5.0}, {\"pca0\": 0.30531638598329996, \"pca1\": 0.03962477702487963, \"color\": 6.0}, {\"pca0\": 1.0381917200982274, \"pca1\": -0.5068782839149812, \"color\": 6.0}, {\"pca0\": 0.2371014852651101, \"pca1\": -0.29398919374373056, \"color\": 6.0}, {\"pca0\": -1.552629402422101, \"pca1\": -0.42465168283138716, \"color\": 4.0}, {\"pca0\": -1.1243254193653203, \"pca1\": -0.003993393043172715, \"color\": 5.0}, {\"pca0\": -1.709027752124417, \"pca1\": -0.30118012987029735, \"color\": 4.0}, {\"pca0\": -0.5761714326157906, \"pca1\": 0.2883290712618327, \"color\": 6.0}, {\"pca0\": 0.552977652750335, \"pca1\": 0.07420484371596939, \"color\": 6.0}, {\"pca0\": 2.7882550160848063, \"pca1\": 0.8152348328658662, \"color\": 8.0}, {\"pca0\": 2.4192227156818986, \"pca1\": 0.5379673975613962, \"color\": 8.0}, {\"pca0\": -0.6810652620386657, \"pca1\": -0.7880298896074978, \"color\": 4.0}, {\"pca0\": -0.5404656806367497, \"pca1\": -0.8655850947211557, \"color\": 4.0}, {\"pca0\": -1.1865861584539668, \"pca1\": -0.664565566222316, \"color\": 4.0}, {\"pca0\": 2.1177908491955293, \"pca1\": 0.6902126952704406, \"color\": 8.0}, {\"pca0\": -1.4274598631093849, \"pca1\": -0.5041456196456744, \"color\": 4.0}, {\"pca0\": 3.1052199469047252, \"pca1\": 0.7131907572156145, \"color\": 8.0}, {\"pca0\": 0.430816780996853, \"pca1\": 0.572570067111092, \"color\": 8.0}, {\"pca0\": -0.6439118611009789, \"pca1\": -1.025085890056063, \"color\": 4.0}, {\"pca0\": 1.3473236530226065, \"pca1\": -0.13963928396137176, \"color\": 6.0}, {\"pca0\": 3.597913224428178, \"pca1\": 1.7889631634361465, \"color\": 12.0}, {\"pca0\": -1.0803581241955207, \"pca1\": -0.5524838087353722, \"color\": 4.0}, {\"pca0\": -0.6197167766518127, \"pca1\": -0.9738467021837374, \"color\": 4.0}, {\"pca0\": -0.02182626994729911, \"pca1\": 0.8341666771374675, \"color\": 6.0}, {\"pca0\": 1.0532486482471928, \"pca1\": -0.18039662254279276, \"color\": 6.0}, {\"pca0\": 3.7839811907927148, \"pca1\": 1.0178897279599106, \"color\": 8.0}, {\"pca0\": -1.849627333526333, \"pca1\": -0.2236249247566395, \"color\": 4.0}, {\"pca0\": 0.2578783094193467, \"pca1\": -0.17792825774839088, \"color\": 6.0}, {\"pca0\": 0.15797257002053824, \"pca1\": 0.11622494463244702, \"color\": 6.0}, {\"pca0\": -2.26287279315723, \"pca1\": 0.1062745549805458, \"color\": 4.0}, {\"pca0\": 4.3049448300010145, \"pca1\": 0.6339852257983963, \"color\": 8.0}, {\"pca0\": 1.6821471677693072, \"pca1\": 0.8726720137637207, \"color\": 8.0}, {\"pca0\": 2.829304593256005, \"pca1\": 0.7726217143725684, \"color\": 8.0}, {\"pca0\": -0.6231350369467423, \"pca1\": -0.9090249540607235, \"color\": 4.0}, {\"pca0\": 0.2989278865905452, \"pca1\": -0.22054137624168862, \"color\": 6.0}, {\"pca0\": 1.5814950320546897, \"pca1\": 1.4242509169296311, \"color\": 8.0}, {\"pca0\": 1.5192805804804832, \"pca1\": -0.7966423932243487, \"color\": 6.0}, {\"pca0\": -0.5100965635943333, \"pca1\": -0.9420569656689025, \"color\": 4.0}, {\"pca0\": -1.5427582067079784, \"pca1\": -0.9572642361591635, \"color\": 4.0}, {\"pca0\": 0.3467216983225895, \"pca1\": -0.26219945722889576, \"color\": 6.0}, {\"pca0\": -0.4545364808911619, \"pca1\": -0.6102995555946695, \"color\": 4.0}, {\"pca0\": 0.037711946168701424, \"pca1\": -0.110962711343746, \"color\": 6.0}, {\"pca0\": 2.9630938092667543, \"pca1\": 0.840180365910634, \"color\": 8.0}, {\"pca0\": 0.9144733811331879, \"pca1\": 0.6849022187737966, \"color\": 8.0}, {\"pca0\": -8.46514444383144, \"pca1\": 2.685011176088573, \"color\": 0.0}, {\"pca0\": -1.2627574832873163, \"pca1\": -0.39986310313488804, \"color\": 4.0}, {\"pca0\": 0.0691291811172955, \"pca1\": 0.2004961441129519, \"color\": 6.0}, {\"pca0\": 1.5767927785264575, \"pca1\": -0.28599532814983886, \"color\": 6.0}, {\"pca0\": 3.7785740802849515, \"pca1\": 2.1717707854741626, \"color\": 12.0}, {\"pca0\": 0.5177724116041419, \"pca1\": -0.22246359618319078, \"color\": 6.0}, {\"pca0\": 0.9353157416015936, \"pca1\": -0.5377129829237255, \"color\": 6.0}, {\"pca0\": 0.40144812991908785, \"pca1\": 0.06950443852753332, \"color\": 6.0}, {\"pca0\": -0.1989531746358851, \"pca1\": -0.20935597433395528, \"color\": 6.0}, {\"pca0\": 2.109780388411116, \"pca1\": 1.417112066877255, \"color\": 8.0}, {\"pca0\": 0.5817712145177683, \"pca1\": -0.44047990141704046, \"color\": 6.0}, {\"pca0\": 0.10970084234991191, \"pca1\": -0.10138160445862736, \"color\": 6.0}, {\"pca0\": -0.9774821456988871, \"pca1\": -0.5216491097266279, \"color\": 4.0}, {\"pca0\": -1.1188274707741672, \"pca1\": -0.9301004529474398, \"color\": 4.0}, {\"pca0\": 1.8250204083086254, \"pca1\": -0.3491112847420297, \"color\": 6.0}, {\"pca0\": 1.0774175774976664, \"pca1\": -0.1446277950761626, \"color\": 6.0}, {\"pca0\": 2.000922404142726, \"pca1\": 0.38273301832213863, \"color\": 8.0}, {\"pca0\": 1.1780752742478864, \"pca1\": 0.46240282305671865, \"color\": 8.0}, {\"pca0\": -0.6782172037113317, \"pca1\": -0.9815177340566748, \"color\": 4.0}, {\"pca0\": -0.45042430489139623, \"pca1\": 0.20885456900888438, \"color\": 6.0}, {\"pca0\": 1.4140648120161265, \"pca1\": 0.46281989531681395, \"color\": 8.0}, {\"pca0\": -0.7670605926145744, \"pca1\": -0.89724653457617, \"color\": 4.0}, {\"pca0\": -1.5095590174517817, \"pca1\": -0.41891938265907885, \"color\": 4.0}, {\"pca0\": -2.038498642598875, \"pca1\": -0.36367626873405584, \"color\": 4.0}, {\"pca0\": 1.986690449524676, \"pca1\": 1.4489211893605147, \"color\": 8.0}, {\"pca0\": -1.2229858261378437, \"pca1\": -0.3946272729658955, \"color\": 4.0}, {\"pca0\": -1.0221916925525028, \"pca1\": -0.6254858447391092, \"color\": 4.0}, {\"pca0\": -1.179841923893121, \"pca1\": -0.6636105287162255, \"color\": 4.0}, {\"pca0\": -1.033487593730063, \"pca1\": -0.4924089545357554, \"color\": 6.0}, {\"pca0\": -1.6217441219286834, \"pca1\": -0.6122503175382874, \"color\": 4.0}, {\"pca0\": -0.9260599486167151, \"pca1\": -0.5956061832364554, \"color\": 4.0}, {\"pca0\": 0.1478361566606592, \"pca1\": 0.19556192809846543, \"color\": 6.0}, {\"pca0\": -1.1180155225676858, \"pca1\": -0.5901627112141835, \"color\": 4.0}, {\"pca0\": -0.8668104039205768, \"pca1\": -0.8623884780903852, \"color\": 4.0}, {\"pca0\": -0.013978041796854593, \"pca1\": -0.26374751231180643, \"color\": 6.0}, {\"pca0\": 1.5012397967656566, \"pca1\": 0.9447477214995771, \"color\": 8.0}, {\"pca0\": -0.14413701947969795, \"pca1\": 0.00912158212863416, \"color\": 6.0}, {\"pca0\": -1.7293667096744962, \"pca1\": 0.003562731219553579, \"color\": 4.0}, {\"pca0\": 0.4641342638470923, \"pca1\": 0.1584760431964743, \"color\": 6.0}, {\"pca0\": -1.0174801941492546, \"pca1\": -0.8515650961119223, \"color\": 4.0}, {\"pca0\": 0.8196159894959758, \"pca1\": 0.03062454278726011, \"color\": 6.0}, {\"pca0\": -1.3864102859381864, \"pca1\": -0.546758738138972, \"color\": 4.0}, {\"pca0\": 0.46943447940039834, \"pca1\": -0.2940013386730516, \"color\": 6.0}, {\"pca0\": 0.14400618496026463, \"pca1\": -0.14494976045801566, \"color\": 6.0}, {\"pca0\": -0.46515081018962307, \"pca1\": -0.7902272022069327, \"color\": 4.0}, {\"pca0\": 1.0155911761722314, \"pca1\": -0.21807561257820465, \"color\": 6.0}, {\"pca0\": 1.3096662546504412, \"pca1\": -0.17731818644018296, \"color\": 6.0}, {\"pca0\": 0.7167400109993424, \"pca1\": -0.0002101562214841601, \"color\": 6.0}, {\"pca0\": 1.0792412972694259, \"pca1\": -0.549491402408279, \"color\": 6.0}, {\"pca0\": 0.05147852415369009, \"pca1\": 0.15012796361214115, \"color\": 6.0}, {\"pca0\": -0.8540972076341972, \"pca1\": -0.6014954367570324, \"color\": 4.0}, {\"pca0\": -1.8974772318505673, \"pca1\": -0.4085082685279728, \"color\": 4.0}, {\"pca0\": -0.7754179716883324, \"pca1\": 0.40615533390651565, \"color\": 6.0}, {\"pca0\": 2.877098404988049, \"pca1\": 0.7309636333853612, \"color\": 8.0}, {\"pca0\": 0.6228207916889668, \"pca1\": -0.48309301991033826, \"color\": 6.0}, {\"pca0\": 1.240551498292461, \"pca1\": -0.3649168649253836, \"color\": 6.0}, {\"pca0\": -8.01311128058255, \"pca1\": 2.2163317965856506, \"color\": 0.0}, {\"pca0\": 0.9537648485495925, \"pca1\": -0.29152334252364603, \"color\": 6.0}, {\"pca0\": -1.9597916302041134, \"pca1\": -0.36861044097024204, \"color\": 4.0}, {\"pca0\": -1.179841923893121, \"pca1\": -0.6636105287162255, \"color\": 4.0}, {\"pca0\": -0.5781892835420321, \"pca1\": -0.7571951905987535, \"color\": 4.0}, {\"pca0\": 1.1202908744406241, \"pca1\": -0.5921045209015766, \"color\": 6.0}, {\"pca0\": 0.29857215142245425, \"pca1\": 0.03866973951878907, \"color\": 6.0}, {\"pca0\": 2.028443389155012, \"pca1\": 0.49974890426696833, \"color\": 8.0}, {\"pca0\": -1.1387923467219225, \"pca1\": -0.7062236472095232, \"color\": 4.0}, {\"pca0\": -0.49606397400094254, \"pca1\": -0.8269510671796534, \"color\": 4.0}, {\"pca0\": 3.7066113393024334, \"pca1\": 2.17766003899474, \"color\": 12.0}, {\"pca0\": 1.418636571285985, \"pca1\": 0.7552389680021955, \"color\": 8.0}, {\"pca0\": 0.010428946982491602, \"pca1\": 0.1927410821054389, \"color\": 6.0}, {\"pca0\": 1.48744531848594, \"pca1\": -0.47645911915331113, \"color\": 6.0}, {\"pca0\": -1.9908606208981967, \"pca1\": 0.20919989589246057, \"color\": 4.0}, {\"pca0\": 3.199982544517088, \"pca1\": 0.4013826515036117, \"color\": 8.0}, {\"pca0\": -0.9146042156526211, \"pca1\": -0.8207303971031781, \"color\": 4.0}, {\"pca0\": -4.035000187294322, \"pca1\": 0.5943941394729675, \"color\": 3.0}, {\"pca0\": 1.7242320447225155, \"pca1\": 0.5383286367081662, \"color\": 8.0}, {\"pca0\": 0.4883392481483115, \"pca1\": -0.14719843873675106, \"color\": 6.0}, {\"pca0\": -0.6197167766518127, \"pca1\": -0.9738467021837374, \"color\": 4.0}, {\"pca0\": -0.021333947303976045, \"pca1\": -0.6813491605048148, \"color\": 4.0}, {\"pca0\": 0.6846471930144019, \"pca1\": -0.40964520240829627, \"color\": 6.0}, {\"pca0\": -0.790951413001751, \"pca1\": -0.6738347620990941, \"color\": 4.0}, {\"pca0\": 1.2797774293946964, \"pca1\": -0.002666288529964539, \"color\": 6.0}, {\"pca0\": 2.244383922499951, \"pca1\": 0.5130218645166286, \"color\": 8.0}, {\"pca0\": 1.856985960951255, \"pca1\": 0.8976175468084886, \"color\": 8.0}, {\"pca0\": 1.2646548912287654, \"pca1\": 1.0095281002341083, \"color\": 8.0}, {\"pca0\": -1.6260027341497518, \"pca1\": -0.0789482148314748, \"color\": 4.0}, {\"pca0\": -0.8884025502445498, \"pca1\": -0.5579272807576442, \"color\": 4.0}, {\"pca0\": 3.8620994776506428, \"pca1\": 2.0043724874843867, \"color\": 12.0}, {\"pca0\": 0.2502342192187107, \"pca1\": -0.032868002971071834, \"color\": 6.0}, {\"pca0\": -0.7532940146295858, \"pca1\": -0.6361558596202828, \"color\": 4.0}, {\"pca0\": 1.6417732473372515, \"pca1\": 1.0132614105437334, \"color\": 8.0}, {\"pca0\": 2.660706110903221, \"pca1\": 0.47389640346311507, \"color\": 8.0}, {\"pca0\": -1.063745340860976, \"pca1\": -0.8576077167297886, \"color\": 4.0}, {\"pca0\": 1.4263208274198917, \"pca1\": 0.9348915219565259, \"color\": 8.0}, {\"pca0\": 1.1171888944955126, \"pca1\": 0.5676525220029166, \"color\": 8.0}, {\"pca0\": 0.022374479988501714, \"pca1\": -0.7823751457909998, \"color\": 5.0}, {\"pca0\": -1.66705231132095, \"pca1\": -0.0363350963381771, \"color\": 4.0}, {\"pca0\": 1.4399314773120744, \"pca1\": 1.4552773428074666, \"color\": 8.0}, {\"pca0\": 2.1008992400483693, \"pca1\": 1.2717006626755647, \"color\": 8.0}, {\"pca0\": 1.2439436770914942, \"pca1\": -0.4452088858974926, \"color\": 6.0}, {\"pca0\": -1.3055890516175153, \"pca1\": -0.5841360264632772, \"color\": 4.0}, {\"pca0\": 0.00029253362261255335, \"pca1\": 0.27207806557145736, \"color\": 6.0}, {\"pca0\": -0.3310059327135791, \"pca1\": -0.9818797539859452, \"color\": 4.0}, {\"pca0\": 3.5125066562405007, \"pca1\": 0.6883296304851122, \"color\": 8.0}, {\"pca0\": 1.202894099920296, \"pca1\": -0.4025957674041949, \"color\": 6.0}, {\"pca0\": 3.3787174402297517, \"pca1\": 0.6207709789470466, \"color\": 8.0}, {\"pca0\": -8.27314112029288, \"pca1\": 2.470067970521192, \"color\": 0.0}, {\"pca0\": -1.381448005684943, \"pca1\": -0.7726896986762682, \"color\": 4.0}, {\"pca0\": -1.0840180938779378, \"pca1\": -0.6989336622411512, \"color\": 4.0}, {\"pca0\": 0.7268764243592214, \"pca1\": -0.07954713968750261, \"color\": 6.0}, {\"pca0\": -0.020484216828827825, \"pca1\": 0.15601721713271816, \"color\": 6.0}, {\"pca0\": -0.3202951322658606, \"pca1\": 0.12996327948457054, \"color\": 6.0}, {\"pca0\": 0.00029253362261255335, \"pca1\": 0.27207806557145736, \"color\": 6.0}, {\"pca0\": -0.19047255584478037, \"pca1\": -0.9133661524983897, \"color\": 4.0}, {\"pca0\": 0.7853106468856231, \"pca1\": 0.07419269878664837, \"color\": 6.0}, {\"pca0\": 1.9097111749960245, \"pca1\": 0.7586720016576916, \"color\": 8.0}, {\"pca0\": -8.897772980765364, \"pca1\": 3.204866549627544, \"color\": 0.0}, {\"pca0\": -1.097742769550724, \"pca1\": -0.748836765702821, \"color\": 4.0}, {\"pca0\": 2.4298632001790526, \"pca1\": 0.7333654045793551, \"color\": 8.0}, {\"pca0\": -0.06959742186788322, \"pca1\": 0.343462440964029, \"color\": 6.0}, {\"pca0\": -0.9353810398068576, \"pca1\": -0.9367913330985178, \"color\": 4.0}, {\"pca0\": 1.4400632918621572, \"pca1\": -0.029467513930008356, \"color\": 6.0}, {\"pca0\": 0.13386977160038557, \"pca1\": -0.0656127769919972, \"color\": 6.0}, {\"pca0\": -0.7943435918007843, \"pca1\": -0.593542741126985, \"color\": 4.0}, {\"pca0\": 2.5163102177920544, \"pca1\": 1.0863762316640129, \"color\": 8.0}, {\"pca0\": -1.257795239885471, \"pca1\": -0.6257941074504845, \"color\": 4.0}, {\"pca0\": 2.4743048087436916, \"pca1\": 0.6104600900007471, \"color\": 8.0}, {\"pca0\": -0.45805084046068634, \"pca1\": -1.0484832804613196, \"color\": 4.0}, {\"pca0\": -1.6279843222036523, \"pca1\": -0.33847040833870107, \"color\": 4.0}, {\"pca0\": 2.2477761012989843, \"pca1\": 0.43272984354451954, \"color\": 8.0}, {\"pca0\": 0.23674575009701912, \"pca1\": -0.03477807798325295, \"color\": 6.0}, {\"pca0\": -1.8682960591907252, \"pca1\": 0.1297038839424085, \"color\": 4.0}, {\"pca0\": 0.3598142663429191, \"pca1\": -0.3257910751878864, \"color\": 6.0}, {\"pca0\": -1.6284883564895292, \"pca1\": -0.613205355044378, \"color\": 4.0}, {\"pca0\": 1.4966680374957981, \"pca1\": 0.6523286488141956, \"color\": 8.0}, {\"pca0\": -6.93488645832364, \"pca1\": 0.9646403422932417, \"color\": 0.0}, {\"pca0\": -1.097742769550724, \"pca1\": -0.748836765702821, \"color\": 4.0}, {\"pca0\": -2.0795482197700736, \"pca1\": -0.32106315024075816, \"color\": 4.0}, {\"pca0\": 3.5125066562405007, \"pca1\": 0.6883296304851122, \"color\": 8.0}, {\"pca0\": -1.7989192957852356, \"pca1\": -0.6048397005725376, \"color\": 4.0}, {\"pca0\": -1.269501717848162, \"pca1\": -0.40081814064097854, \"color\": 4.0}, {\"pca0\": -0.6914676133041507, \"pca1\": -0.5627080421182408, \"color\": 4.0}, {\"pca0\": -1.1525887297642188, \"pca1\": -0.7733365172492837, \"color\": 4.0}, {\"pca0\": 0.7510453536096952, \"pca1\": -0.04377831222087246, \"color\": 6.0}, {\"pca0\": 3.8620994776506428, \"pca1\": 2.0043724874843867, \"color\": 12.0}, {\"pca0\": -0.7532940146295858, \"pca1\": -0.6361558596202828, \"color\": 4.0}, {\"pca0\": 2.4743048087436916, \"pca1\": 0.6104600900007471, \"color\": 8.0}, {\"pca0\": -1.774750329683364, \"pca1\": -0.5690708293276071, \"color\": 4.0}, {\"pca0\": -0.0033376310024970618, \"pca1\": -0.06834959285044827, \"color\": 6.0}, {\"pca0\": 3.5211322090289245, \"pca1\": 1.9573166740452141, \"color\": 12.0}, {\"pca0\": 0.5974194087205668, \"pca1\": -0.04870029574943732, \"color\": 6.0}, {\"pca0\": -1.269501717848162, \"pca1\": -0.40081814064097854, \"color\": 4.0}, {\"pca0\": -0.7532940146295858, \"pca1\": -0.6361558596202828, \"color\": 4.0}, {\"pca0\": 0.7875231715110353, \"pca1\": -0.3788105033995519, \"color\": 6.0}, {\"pca0\": -0.9837189351592031, \"pca1\": -1.0083290318100784, \"color\": 4.0}, {\"pca0\": 2.6814828613546613, \"pca1\": 0.589957251901854, \"color\": 8.0}, {\"pca0\": 0.23722366603560124, \"pca1\": 0.22448655209502863, \"color\": 6.0}, {\"pca0\": -7.909951345190045, \"pca1\": 2.0856597905995504, \"color\": 0.0}, {\"pca0\": 1.5767927785264575, \"pca1\": -0.28599532814983886, \"color\": 6.0}, {\"pca0\": -1.2455645014520675, \"pca1\": -0.9315012281735351, \"color\": 4.0}, {\"pca0\": -1.339894394227868, \"pca1\": -0.540567870463889, \"color\": 4.0}, {\"pca0\": -0.1314238231933183, \"pca1\": 0.270014623461987, \"color\": 6.0}, {\"pca0\": 1.1802935559943, \"pca1\": -0.1137930960674183, \"color\": 6.0}, {\"pca0\": 2.515858457052165, \"pca1\": 0.8425819619914265, \"color\": 8.0}, {\"pca0\": 3.917181570712436, \"pca1\": 2.076865179923737, \"color\": 12.0}, {\"pca0\": 1.6213559925230858, \"pca1\": 0.5074938501428214, \"color\": 8.0}, {\"pca0\": 1.4596861484571835, \"pca1\": 0.7126258495088978, \"color\": 8.0}, {\"pca0\": -1.846291278170888, \"pca1\": -0.5304584142655893, \"color\": 4.0}, {\"pca0\": 0.1917999966923089, \"pca1\": -0.18660784144522283, \"color\": 6.0}, {\"pca0\": 0.905611393774681, \"pca1\": 0.1398412753125328, \"color\": 6.0}, {\"pca0\": 0.5037398220107511, \"pca1\": -0.3375694946724399, \"color\": 6.0}, {\"pca0\": 0.4076080780749633, \"pca1\": -0.3674491561750936, \"color\": 6.0}, {\"pca0\": -1.336781155106176, \"pca1\": -0.2807801888296084, \"color\": 4.0}, {\"pca0\": 0.22319107644221042, \"pca1\": 0.10938065360577943, \"color\": 6.0}, {\"pca0\": 0.15110615468920138, \"pca1\": -0.40320583871240273, \"color\": 6.0}, {\"pca0\": -0.02182626994729911, \"pca1\": 0.8341666771374675, \"color\": 6.0}, {\"pca0\": -1.0842543004290324, \"pca1\": -0.7469266906906399, \"color\": 4.0}, {\"pca0\": 2.412478481121053, \"pca1\": 0.5370123600553057, \"color\": 8.0}, {\"pca0\": -0.6810652620386657, \"pca1\": -0.7880298896074978, \"color\": 4.0}, {\"pca0\": -1.9901798239002242, \"pca1\": 0.09437631737472571, \"color\": 4.0}, {\"pca0\": -0.18179441785186318, \"pca1\": -0.028557320350177114, \"color\": 6.0}, {\"pca0\": -0.07167020735990538, \"pca1\": 0.27796731909203437, \"color\": 6.0}, {\"pca0\": -0.798239768034296, \"pca1\": -0.7879856230822527, \"color\": 4.0}, {\"pca0\": 3.6490992149592554, \"pca1\": 1.6670130614768301, \"color\": 12.0}, {\"pca0\": 0.46943447940039834, \"pca1\": -0.2940013386730516, \"color\": 6.0}, {\"pca0\": -0.8081101697857729, \"pca1\": -0.8546334160828722, \"color\": 4.0}, {\"pca0\": -1.2712837090071627, \"pca1\": -0.6277041824626656, \"color\": 4.0}, {\"pca0\": -0.22812995421694557, \"pca1\": -0.9510450549772009, \"color\": 4.0}, {\"pca0\": 1.3816289956329593, \"pca1\": -0.18320743996076005, \"color\": 6.0}, {\"pca0\": -1.2297300606986894, \"pca1\": -0.3955823104719861, \"color\": 4.0}, {\"pca0\": 0.6638703688601653, \"pca1\": -0.525706138403636, \"color\": 6.0}, {\"pca0\": 0.14400618496026463, \"pca1\": -0.14494976045801566, \"color\": 6.0}, {\"pca0\": -0.28025589261828815, \"pca1\": -1.007792381909524, \"color\": 4.0}, {\"pca0\": -1.173097689332275, \"pca1\": -0.6626554912101349, \"color\": 4.0}, {\"pca0\": 1.8990706904988708, \"pca1\": 0.5632739946397328, \"color\": 8.0}, {\"pca0\": 1.4501995578164437, \"pca1\": -0.108804672509228, \"color\": 6.0}, {\"pca0\": 1.6593960040061293, \"pca1\": -0.09648657465245726, \"color\": 6.0}, {\"pca0\": 2.126103469080853, \"pca1\": 1.0157392315799378, \"color\": 8.0}, {\"pca0\": 0.1507504195211104, \"pca1\": -0.1439947229519251, \"color\": 6.0}, {\"pca0\": -1.5113409717593842, \"pca1\": -0.6458053807024656, \"color\": 4.0}, {\"pca0\": -1.3331101103325977, \"pca1\": -0.7011519999647076, \"color\": 4.0}, {\"pca0\": 0.5621740445371528, \"pca1\": -0.1838296561982889, \"color\": 6.0}, {\"pca0\": 0.26462254398019247, \"pca1\": -0.17697322024230033, \"color\": 6.0}, {\"pca0\": 0.6913914275752476, \"pca1\": -0.4086901649022056, \"color\": 6.0}, {\"pca0\": -0.8735546384814226, \"pca1\": -0.8633435155964758, \"color\": 4.0}, {\"pca0\": -2.4916703093005923, \"pca1\": 0.23378645700147138, \"color\": 4.0}, {\"pca0\": -1.261941078235518, \"pca1\": -0.5783842917296301, \"color\": 4.0}, {\"pca0\": -1.4381392937303707, \"pca1\": -0.5397376175228626, \"color\": 4.0}, {\"pca0\": 0.25752257425125574, \"pca1\": 0.0812828580120868, \"color\": 6.0}, {\"pca0\": 0.4177444914348423, \"pca1\": -0.446786139641112, \"color\": 6.0}, {\"pca0\": 1.238727852223498, \"pca1\": 0.03994682996333321, \"color\": 6.0}, {\"pca0\": 2.578606956560824, \"pca1\": 0.5591226404497104, \"color\": 8.0}, {\"pca0\": 0.3399774637617437, \"pca1\": -0.2631544947349863, \"color\": 6.0}, {\"pca0\": 1.47436863447251, \"pca1\": -0.0730356699293967, \"color\": 6.0}, {\"pca0\": -1.2276357356251653, \"pca1\": -0.6219524477290184, \"color\": 4.0}, {\"pca0\": -1.4274598631093849, \"pca1\": -0.5041456196456744, \"color\": 4.0}, {\"pca0\": 1.1802935559943, \"pca1\": -0.1137930960674183, \"color\": 6.0}, {\"pca0\": -0.9696863824172104, \"pca1\": -0.8932231770991295, \"color\": 4.0}, {\"pca0\": 0.010428946982491602, \"pca1\": 0.1927410821054389, \"color\": 6.0}, {\"pca0\": -8.320934932024924, \"pca1\": 2.5117260515083992, \"color\": 0.0}, {\"pca0\": -1.1663534547714294, \"pca1\": -0.6617004537040444, \"color\": 4.0}, {\"pca0\": -2.3837765711080325, \"pca1\": -0.5140834766280038, \"color\": 3.0}, {\"pca0\": -0.4685690704845527, \"pca1\": -0.7254054540839188, \"color\": 4.0}, {\"pca0\": 0.027152265660770555, \"pca1\": -1.126460386647074, \"color\": 4.0}, {\"pca0\": 0.30531638598329996, \"pca1\": 0.03962477702487963, \"color\": 6.0}, {\"pca0\": 2.887738889485203, \"pca1\": 0.9263616404033199, \"color\": 8.0}, {\"pca0\": 1.0116949999387197, \"pca1\": -0.4125184945334723, \"color\": 6.0}, {\"pca0\": -0.8156568475091174, \"pca1\": -0.2580533073191317, \"color\": 4.0}, {\"pca0\": 2.3781731385107, \"pca1\": 0.580580516054694, \"color\": 8.0}, {\"pca0\": 3.3017994968849527, \"pca1\": 2.024335734767663, \"color\": 12.0}, {\"pca0\": -0.45042430489139623, \"pca1\": 0.20885456900888438, \"color\": 6.0}, {\"pca0\": 1.2899136953489831, \"pca1\": -0.08200344710918407, \"color\": 6.0}, {\"pca0\": -2.048635019107356, \"pca1\": -0.2843392414897372, \"color\": 4.0}, {\"pca0\": -1.3263658757717518, \"pca1\": -0.700196962458617, \"color\": 4.0}, {\"pca0\": -1.5115798252509027, \"pca1\": -0.46726480132468484, \"color\": 4.0}, {\"pca0\": -1.7641099188890061, \"pca1\": -0.37367290986624885, \"color\": 4.0}, {\"pca0\": 0.26462254398019247, \"pca1\": -0.17697322024230033, \"color\": 6.0}, {\"pca0\": 0.6138640325027088, \"pca1\": -0.031044855230228485, \"color\": 6.0}, {\"pca0\": 0.552977652750335, \"pca1\": 0.07420484371596939, \"color\": 6.0}, {\"pca0\": -0.1880203986188084, \"pca1\": -1.1723556899187386, \"color\": 4.0}, {\"pca0\": -1.0907623284387837, \"pca1\": -0.6998886997472417, \"color\": 4.0}, {\"pca0\": -0.9676135969251882, \"pca1\": -0.8277280552271349, \"color\": 4.0}, {\"pca0\": 0.5452934703192241, \"pca1\": -0.10544762268176046, \"color\": 6.0}, {\"pca0\": 1.6417732473372515, \"pca1\": 1.0132614105437334, \"color\": 8.0}, {\"pca0\": -0.10308744230849945, \"pca1\": -0.033491536364663566, \"color\": 6.0}, {\"pca0\": -2.245454507529686, \"pca1\": -0.1987421475422655, \"color\": 4.0}, {\"pca0\": 1.47436863447251, \"pca1\": -0.0730356699293967, \"color\": 6.0}, {\"pca0\": -1.878735233825241, \"pca1\": -0.2616695944635066, \"color\": 4.0}, {\"pca0\": 0.4795708927602774, \"pca1\": -0.37333832213907003, \"color\": 6.0}, {\"pca0\": 0.034597876232965286, \"pca1\": 0.22850990957206901, \"color\": 6.0}, {\"pca0\": 0.24738616089137666, \"pca1\": 0.1606198414781052, \"color\": 6.0}, {\"pca0\": -1.6077115691866906, \"pca1\": -0.4971444628273385, \"color\": 4.0}, {\"pca0\": -1.3188863188998614, \"pca1\": -0.5002493672733869, \"color\": 4.0}, {\"pca0\": -1.1387923467219225, \"pca1\": -0.7062236472095232, \"color\": 4.0}, {\"pca0\": -0.6434077899637043, \"pca1\": -0.750350899572086, \"color\": 4.0}, {\"pca0\": 1.3736908915840709, \"pca1\": 0.6034092920968261, \"color\": 8.0}, {\"pca0\": 0.14400618496026463, \"pca1\": -0.14494976045801566, \"color\": 6.0}, {\"pca0\": 1.0932629993391774, \"pca1\": 0.06872060508276712, \"color\": 6.0}, {\"pca0\": -8.602025552028174, \"pca1\": 2.8109079945442206, \"color\": 0.0}, {\"pca0\": -0.9146042156526211, \"pca1\": -0.8207303971031781, \"color\": 4.0}, {\"pca0\": -1.3448566376297133, \"pca1\": -0.31463686614829256, \"color\": 4.0}, {\"pca0\": -0.8456467885370869, \"pca1\": -1.8739512414105626, \"color\": 2.0}, {\"pca0\": -0.14646675031033518, \"pca1\": -0.9402338179280592, \"color\": 4.0}, {\"pca0\": 2.5535158554243305, \"pca1\": 0.880260864470238, \"color\": 8.0}, {\"pca0\": -0.7670605926145744, \"pca1\": -0.89724653457617, \"color\": 4.0}, {\"pca0\": -1.4752536748414289, \"pca1\": -0.4624875386584671, \"color\": 4.0}, {\"pca0\": -1.9260761609017782, \"pca1\": 0.16968824995130255, \"color\": 4.0}, {\"pca0\": -0.9146042156526211, \"pca1\": -0.8207303971031781, \"color\": 4.0}, {\"pca0\": -1.808129808661448, \"pca1\": -0.2180445213028007, \"color\": 4.0}, {\"pca0\": 0.33962172859365275, \"pca1\": -0.003943378974508659, \"color\": 6.0}, {\"pca0\": 3.37430108053094, \"pca1\": 2.511555521674813, \"color\": 10.0}, {\"pca0\": 2.2690047598959064, \"pca1\": 0.7925851367690459, \"color\": 8.0}, {\"pca0\": -1.453410783518859, \"pca1\": -0.7668004889339914, \"color\": 4.0}, {\"pca0\": -1.0083953095102065, \"pca1\": -0.5583729746993487, \"color\": 4.0}, {\"pca0\": -0.5714450489811863, \"pca1\": -0.756240153092663, \"color\": 4.0}, {\"pca0\": -0.9146042156526211, \"pca1\": -0.8207303971031781, \"color\": 4.0}, {\"pca0\": 0.9179201350199551, \"pca1\": -0.23095991844597796, \"color\": 6.0}, {\"pca0\": -1.7738244660510951, \"pca1\": -0.261612677302189, \"color\": 4.0}, {\"pca0\": -0.7397654961734695, \"pca1\": -0.7957849516150108, \"color\": 4.0}, {\"pca0\": 1.2797774293946964, \"pca1\": -0.002666288529964539, \"color\": 6.0}, {\"pca0\": 2.049220287012045, \"pca1\": 0.6158099278189088, \"color\": 8.0}, {\"pca0\": -2.122195738821043, \"pca1\": -0.24605307823788153, \"color\": 4.0}, {\"pca0\": 2.2806694355430426, \"pca1\": 1.1993587315567427, \"color\": 8.0}, {\"pca0\": 2.3477117354392703, \"pca1\": 0.7876509207545593, \"color\": 8.0}, {\"pca0\": 0.305672121151391, \"pca1\": -0.21958633873559807, \"color\": 6.0}, {\"pca0\": 1.418636571285985, \"pca1\": 0.7552389680021955, \"color\": 8.0}, {\"pca0\": -2.6378366537844453, \"pca1\": 0.4415561760032276, \"color\": 4.0}, {\"pca0\": 1.8637301955121006, \"pca1\": 0.8985725843145792, \"color\": 8.0}, {\"pca0\": 0.8196159894959758, \"pca1\": 0.03062454278726011, \"color\": 6.0}, {\"pca0\": -1.0429685167067393, \"pca1\": -0.7415467807344489, \"color\": 4.0}, {\"pca0\": 0.4501016742537015, \"pca1\": 0.04337014470722512, \"color\": 6.0}, {\"pca0\": 0.3502621393880102, \"pca1\": 0.19145454048684948, \"color\": 6.0}, {\"pca0\": -0.8148544043466187, \"pca1\": -0.8555884535889627, \"color\": 4.0}, {\"pca0\": -0.7192667808825302, \"pca1\": -0.9389046155633771, \"color\": 4.0}, {\"pca0\": -2.038498642598875, \"pca1\": -0.36367626873405584, \"color\": 4.0}, {\"pca0\": 2.888827652819897, \"pca1\": 0.4561235272933682, \"color\": 8.0}, {\"pca0\": 0.5104840565715968, \"pca1\": -0.3366144571663493, \"color\": 6.0}, {\"pca0\": 0.46943447940039834, \"pca1\": -0.2940013386730516, \"color\": 6.0}, {\"pca0\": 0.32948531523377367, \"pca1\": 0.07539360449150978, \"color\": 6.0}, {\"pca0\": 1.0932629993391774, \"pca1\": 0.06872060508276712, \"color\": 6.0}, {\"pca0\": -1.5713854187772167, \"pca1\": -0.49236720016112084, \"color\": 4.0}, {\"pca0\": -0.23246208088624395, \"pca1\": -1.0494504628967312, \"color\": 4.0}, {\"pca0\": -0.008538683822817706, \"pca1\": -0.8190990107637204, \"color\": 5.0}, {\"pca0\": 0.9420891379732249, \"pca1\": -0.19519100342274726, \"color\": 6.0}, {\"pca0\": -0.570420194737358, \"pca1\": -0.3631912889939742, \"color\": 5.0}, {\"pca0\": 0.48440701686405424, \"pca1\": -0.0001980112921631599, \"color\": 6.0}, {\"pca0\": -1.1525887297642188, \"pca1\": -0.7733365172492837, \"color\": 4.0}, {\"pca0\": -0.8735546384814226, \"pca1\": -0.8633435155964758, \"color\": 4.0}, {\"pca0\": -0.6955757307192404, \"pca1\": -1.1624003743967282, \"color\": 4.0}, {\"pca0\": -1.188680483527491, \"pca1\": -0.43819542896528385, \"color\": 4.0}, {\"pca0\": -1.0497127512675852, \"pca1\": -0.7425018182405394, \"color\": 4.0}, {\"pca0\": -1.7230603417178076, \"pca1\": -0.4162860283595466, \"color\": 4.0}, {\"pca0\": 2.2569732832589433, \"pca1\": 1.3886257168961589, \"color\": 8.0}, {\"pca0\": -1.6612339403923726, \"pca1\": -0.3428382108575046, \"color\": 4.0}, {\"pca0\": -0.11555358649901572, \"pca1\": -0.9035099529553384, \"color\": 4.0}, {\"pca0\": 1.888934424544584, \"pca1\": 0.6426111532189525, \"color\": 8.0}, {\"pca0\": 0.46943447940039834, \"pca1\": -0.2940013386730516, \"color\": 6.0}, {\"pca0\": -2.1255203311326376, \"pca1\": 0.1726314603177947, \"color\": 4.0}, {\"pca0\": -0.5100965635943333, \"pca1\": -0.9420569656689025, \"color\": 4.0}, {\"pca0\": 1.0865187647783316, \"pca1\": 0.06776556757667647, \"color\": 6.0}, {\"pca0\": 0.15500233092271312, \"pca1\": -0.20876295675713516, \"color\": 6.0}, {\"pca0\": -1.3466386287887138, \"pca1\": -0.5415229079699796, \"color\": 4.0}, {\"pca0\": 0.46943447940039834, \"pca1\": -0.2940013386730516, \"color\": 6.0}, {\"pca0\": 0.55203770488007, \"pca1\": -0.10449258517566988, \"color\": 6.0}, {\"pca0\": -0.07167020735990538, \"pca1\": 0.27796731909203437, \"color\": 6.0}, {\"pca0\": 1.8791804768899911, \"pca1\": 0.08028863429767995, \"color\": 6.0}, {\"pca0\": -2.3102158513943456, \"pca1\": -0.5523696398798594, \"color\": 3.0}, {\"pca0\": 2.244835830645433, \"pca1\": 0.7568163093024156, \"color\": 8.0}, {\"pca0\": -0.7221148392098642, \"pca1\": -0.7454167711142, \"color\": 4.0}, {\"pca0\": -1.6472443728446446, \"pca1\": -0.6809208723741117, \"color\": 4.0}, {\"pca0\": -1.0629333558030967, \"pca1\": -0.517669931218232, \"color\": 4.0}, {\"pca0\": -1.0497127512675852, \"pca1\": -0.7425018182405394, \"color\": 4.0}, {\"pca0\": -0.9444550051983405, \"pca1\": -1.8871017706613016, \"color\": 2.0}, {\"pca0\": 0.15500233092271312, \"pca1\": -0.20876295675713516, \"color\": 6.0}, {\"pca0\": -1.3864102859381864, \"pca1\": -0.546758738138972, \"color\": 4.0}, {\"pca0\": -0.9629421478563646, \"pca1\": -0.892268139593039, \"color\": 4.0}, {\"pca0\": 0.9914222469217576, \"pca1\": -0.2538444400448347, \"color\": 6.0}, {\"pca0\": -0.4788276646149229, \"pca1\": -1.1645442164566593, \"color\": 4.0}, {\"pca0\": -1.0704895754218218, \"pca1\": -0.8585627542358791, \"color\": 4.0}, {\"pca0\": -0.10308744230849945, \"pca1\": -0.033491536364663566, \"color\": 6.0}, {\"pca0\": -1.46354716002734, \"pca1\": -0.6874634616896728, \"color\": 4.0}, {\"pca0\": 0.5051838410182907, \"pca1\": 0.11586292470317659, \"color\": 6.0}, {\"pca0\": -0.23819597792346361, \"pca1\": 0.04473704249797509, \"color\": 6.0}, {\"pca0\": -1.2208915010643195, \"pca1\": -0.6209974102229278, \"color\": 4.0}, {\"pca0\": -2.5969512479409986, \"pca1\": -0.2267046684329572, \"color\": 4.0}, {\"pca0\": -1.0497127512675852, \"pca1\": -0.7425018182405394, \"color\": 4.0}, {\"pca0\": 0.07926559447717457, \"pca1\": 0.12115916064693347, \"color\": 6.0}, {\"pca0\": 0.058222758714535854, \"pca1\": 0.15108300111823172, \"color\": 6.0}, {\"pca0\": -0.8884025502445498, \"pca1\": -0.5579272807576442, \"color\": 4.0}, {\"pca0\": -1.5443253723023482, \"pca1\": -0.19689761335951114, \"color\": 4.0}, {\"pca0\": -0.5266214763469671, \"pca1\": -1.1228861354694522, \"color\": 4.0}, {\"pca0\": -0.7122444374583873, \"pca1\": -0.6787689781135805, \"color\": 4.0}, {\"pca0\": -0.8429195466820022, \"pca1\": -1.0858002067891608, \"color\": 4.0}, {\"pca0\": -0.9764306169780561, \"pca1\": -0.8941782146052201, \"color\": 4.0}, {\"pca0\": -0.6023582127925058, \"pca1\": -0.7929640180653837, \"color\": 4.0}, {\"pca0\": 1.6754029332084612, \"pca1\": 0.8717169762576301, \"color\": 8.0}, {\"pca0\": -1.2796381312080412, \"pca1\": -0.32148115717496006, \"color\": 4.0}, {\"pca0\": -1.5921622060800553, \"pca1\": -0.6084280923781604, \"color\": 4.0}, {\"pca0\": 2.5535158554243305, \"pca1\": 0.880260864470238, \"color\": 8.0}, {\"pca0\": 1.5995439422896356, \"pca1\": 0.6831632602663391, \"color\": 8.0}, {\"pca0\": 0.22993531100305617, \"pca1\": 0.11033569111187, \"color\": 6.0}, {\"pca0\": 1.7164525103796597, \"pca1\": 0.8291038577643325, \"color\": 8.0}, {\"pca0\": -0.9431768030885344, \"pca1\": -0.5652172657260163, \"color\": 4.0}, {\"pca0\": -1.393154520499032, \"pca1\": -0.5477137756450626, \"color\": 4.0}, {\"pca0\": -1.1247597571285317, \"pca1\": -0.591117748720274, \"color\": 4.0}, {\"pca0\": 0.7510453536096952, \"pca1\": -0.04377831222087246, \"color\": 6.0}, {\"pca0\": -2.0554690052259454, \"pca1\": 0.05307725936479754, \"color\": 4.0}, {\"pca0\": 2.321719012714241, \"pca1\": 1.156745613063445, \"color\": 8.0}, {\"pca0\": -1.5617530765546124, \"pca1\": -0.8464391741111164, \"color\": 4.0}, {\"pca0\": -0.49606397400094254, \"pca1\": -0.8269510671796534, \"color\": 4.0}, {\"pca0\": 2.0232275642870152, \"pca1\": 0.9849046201277941, \"color\": 8.0}, {\"pca0\": -0.9091793743987864, \"pca1\": -0.6739882167529839, \"color\": 4.0}, {\"pca0\": -0.8850103714455166, \"pca1\": -0.6382193017297532, \"color\": 4.0}, {\"pca0\": 3.1052199469047252, \"pca1\": 0.7131907572156145, \"color\": 8.0}, {\"pca0\": -2.2623351185990126, \"pca1\": -0.12036015780403733, \"color\": 4.0}, {\"pca0\": -1.2437626502920802, \"pca1\": -0.5106882089612352, \"color\": 4.0}, {\"pca0\": 1.3541601736124658, \"pca1\": -0.26928278020739954, \"color\": 6.0}, {\"pca0\": 1.5079840313265023, \"pca1\": 0.9457027590056677, \"color\": 8.0}, {\"pca0\": -0.4161189622810435, \"pca1\": 0.1652864130094961, \"color\": 6.0}, {\"pca0\": -0.6434077899637043, \"pca1\": -0.750350899572086, \"color\": 4.0}, {\"pca0\": -0.03764297361284979, \"pca1\": -0.024781436851059994, \"color\": 6.0}, {\"pca0\": 1.1202908744406241, \"pca1\": -0.5921045209015766, \"color\": 6.0}, {\"pca0\": 1.5012397967656566, \"pca1\": 0.9447477214995771, \"color\": 8.0}, {\"pca0\": -0.01166727047875611, \"pca1\": 0.22246728895420279, \"color\": 6.0}, {\"pca0\": 0.2887914732306661, \"pca1\": -0.14120439277567015, \"color\": 6.0}, {\"pca0\": 0.05147852415369009, \"pca1\": 0.15012796361214115, \"color\": 6.0}, {\"pca0\": -1.5752815950107286, \"pca1\": -0.6868100821163884, \"color\": 4.0}, {\"pca0\": -2.582361819002215, \"pca1\": 0.12596532189285786, \"color\": 4.0}, {\"pca0\": -0.8735546384814226, \"pca1\": -0.8633435155964758, \"color\": 4.0}, {\"pca0\": -0.0643675959679382, \"pca1\": -1.0254600549146546, \"color\": 4.0}, {\"pca0\": -1.188680483527491, \"pca1\": -0.43819542896528385, \"color\": 4.0}, {\"pca0\": -1.1255717053350132, \"pca1\": -0.9310554904535304, \"color\": 4.0}, {\"pca0\": -1.5835426030848185, \"pca1\": -0.4613755915824082, \"color\": 4.0}, {\"pca0\": 0.8128717549351302, \"pca1\": 0.029669505281169538, \"color\": 6.0}, {\"pca0\": -0.11555358649901572, \"pca1\": -0.9035099529553384, \"color\": 4.0}, {\"pca0\": 2.002450813835575, \"pca1\": 0.8688437716890549, \"color\": 8.0}, {\"pca0\": -0.26614308775720175, \"pca1\": -0.7295128416955347, \"color\": 4.0}, {\"pca0\": -0.3369079156004051, \"pca1\": 0.4350871874789869, \"color\": 6.0}, {\"pca0\": 2.2854334996711496, \"pca1\": 0.47040874602333094, \"color\": 8.0}, {\"pca0\": 2.3627685898854396, \"pca1\": 1.1141324945701474, \"color\": 8.0}, {\"pca0\": 1.3843312286756322, \"pca1\": 0.7988071240015837, \"color\": 8.0}, {\"pca0\": -2.0121621958684814, \"pca1\": -0.8013323564727989, \"color\": 3.0}, {\"pca0\": -0.2899563555423806, \"pca1\": -1.0244928724792428, \"color\": 4.0}, {\"pca0\": 2.970926807162294, \"pca1\": 0.3708972903067727, \"color\": 8.0}, {\"pca0\": -3.4378621786952643, \"pca1\": 0.8455041171879533, \"color\": 4.0}, {\"pca0\": 2.3371235613395016, \"pca1\": 0.6231936345479917, \"color\": 8.0}, {\"pca0\": 2.640433284183463, \"pca1\": 0.6325703703951517, \"color\": 8.0}, {\"pca0\": -8.773796171884197, \"pca1\": 3.0287163126298733, \"color\": 0.0}, {\"pca0\": 1.679668683320295, \"pca1\": -0.2551607166976952, \"color\": 6.0}, {\"pca0\": 2.991703557613734, \"pca1\": 0.486958138745512, \"color\": 8.0}, {\"pca0\": 0.32948531523377367, \"pca1\": 0.07539360449150978, \"color\": 6.0}, {\"pca0\": -2.3973720124404805, \"pca1\": 0.2636518135741729, \"color\": 4.0}, {\"pca0\": -0.5714450489811863, \"pca1\": -0.756240153092663, \"color\": 4.0}, {\"pca0\": -1.6679781749532183, \"pca1\": -0.3437932483635951, \"color\": 4.0}, {\"pca0\": 0.19227791263089097, \"pca1\": 0.07265678863305874, \"color\": 6.0}, {\"pca0\": 2.317268835368489, \"pca1\": 0.15022555950889394, \"color\": 8.0}, {\"pca0\": 3.399494338086784, \"pca1\": 0.7368320024989871, \"color\": 8.0}, {\"pca0\": -1.3123332861783612, \"pca1\": -0.5850910639693679, \"color\": 4.0}, {\"pca0\": 0.18214149927101192, \"pca1\": 0.15199377209907713, \"color\": 6.0}, {\"pca0\": 1.5012397967656566, \"pca1\": 0.9447477214995771, \"color\": 8.0}, {\"pca0\": 2.002450813835575, \"pca1\": 0.8688437716890549, \"color\": 8.0}, {\"pca0\": -0.21218932786928205, \"pca1\": -1.2081245173853685, \"color\": 4.0}, {\"pca0\": 1.2548742130369774, \"pca1\": 0.829653967939649, \"color\": 8.0}, {\"pca0\": 0.4911512514249, \"pca1\": 0.0007570262139273841, \"color\": 6.0}, {\"pca0\": 3.7806291514333754, \"pca1\": 0.7239570057764662, \"color\": 8.0}, {\"pca0\": 2.9211222076151278, \"pca1\": 1.2397007110042908, \"color\": 8.0}, {\"pca0\": -1.7805687006119413, \"pca1\": -0.2625677148082795, \"color\": 4.0}, {\"pca0\": 1.0865187647783316, \"pca1\": 0.06776556757667647, \"color\": 6.0}, {\"pca0\": -1.401720795553303, \"pca1\": -0.614015687965931, \"color\": 4.0}, {\"pca0\": -1.5721235370146547, \"pca1\": -0.12135741403219248, \"color\": 4.0}, {\"pca0\": -1.5342320178395301, \"pca1\": -0.7294232006096861, \"color\": 4.0}, {\"pca0\": -1.4637860135188585, \"pca1\": -0.508922882311892, \"color\": 4.0}, {\"pca0\": -0.11454317527259347, \"pca1\": 0.1916326775020591, \"color\": 6.0}, {\"pca0\": 0.1715010884766544, \"pca1\": -0.043404147362281015, \"color\": 6.0}, {\"pca0\": 1.3017280031959604, \"pca1\": 0.6092983705042021, \"color\": 8.0}, {\"pca0\": 3.1052199469047252, \"pca1\": 0.7131907572156145, \"color\": 8.0}, {\"pca0\": 0.3877712754937879, \"pca1\": -0.3048125757221935, \"color\": 6.0}, {\"pca0\": -0.1295861023896104, \"pca1\": -1.018615763887987, \"color\": 4.0}, {\"pca0\": 2.1931457689770806, \"pca1\": 0.6040314207777545, \"color\": 8.0}, {\"pca0\": -1.21465130078935, \"pca1\": -0.8947773194225142, \"color\": 4.0}, {\"pca0\": 0.034597876232965286, \"pca1\": 0.22850990957206901, \"color\": 6.0}, {\"pca0\": 0.8667342181916737, \"pca1\": -0.10900972893006124, \"color\": 6.0}, {\"pca0\": 0.3467216983225895, \"pca1\": -0.26219945722889576, \"color\": 6.0}, {\"pca0\": 1.1202908744406241, \"pca1\": -0.5921045209015766, \"color\": 6.0}, {\"pca0\": -1.1590650997388843, \"pca1\": -0.5475495927208858, \"color\": 4.0}, {\"pca0\": 0.11692299284933977, \"pca1\": 0.15883806312574472, \"color\": 6.0}, {\"pca0\": 2.829304593256005, \"pca1\": 0.7726217143725684, \"color\": 8.0}, {\"pca0\": -0.11793535407162678, \"pca1\": 0.2719246984741681, \"color\": 6.0}, {\"pca0\": 0.08420088131393677, \"pca1\": -0.7089273282889578, \"color\": 5.0}, {\"pca0\": -1.8259362833630433, \"pca1\": -0.44712068358999063, \"color\": 4.0}, {\"pca0\": 0.17188297884343795, \"pca1\": -0.28714490271706306, \"color\": 6.0}, {\"pca0\": -1.7500773292956153, \"pca1\": -0.25856701137699967, \"color\": 4.0}, {\"pca0\": 0.2989278865905452, \"pca1\": -0.22054137624168862, \"color\": 6.0}, {\"pca0\": 1.1510582866700787, \"pca1\": 0.6201218400392655, \"color\": 8.0}, {\"pca0\": 2.0593565529663316, \"pca1\": 0.5364727692396891, \"color\": 8.0}, {\"pca0\": 2.4298632001790526, \"pca1\": 0.7333654045793551, \"color\": 8.0}, {\"pca0\": 1.7586816680216835, \"pca1\": 1.1592018329285259, \"color\": 8.0}, {\"pca0\": 1.4669344541553038, \"pca1\": 0.9883158774989654, \"color\": 8.0}, {\"pca0\": 1.4811128690333557, \"pca1\": -0.0720806324233061, \"color\": 6.0}, {\"pca0\": -0.4139648196585456, \"pca1\": -0.9121773041662488, \"color\": 4.0}, {\"pca0\": -1.3123332861783612, \"pca1\": -0.5850910639693679, \"color\": 4.0}, {\"pca0\": -0.852777814327186, \"pca1\": -0.7472825796011361, \"color\": 4.0}, {\"pca0\": -0.7499018358305525, \"pca1\": -0.7164478805923918, \"color\": 4.0}, {\"pca0\": -1.3055890516175153, \"pca1\": -0.5841360264632772, \"color\": 4.0}, {\"pca0\": -0.9318163213906482, \"pca1\": 0.5296268868676053, \"color\": 6.0}, {\"pca0\": 2.4192227156818986, \"pca1\": 0.5379673975613962, \"color\": 8.0}, {\"pca0\": -0.8735546384814226, \"pca1\": -0.8633435155964758, \"color\": 4.0}, {\"pca0\": -1.2645394744463168, \"pca1\": -0.626749144956575, \"color\": 4.0}, {\"pca0\": -1.829832496447953, \"pca1\": -0.6415636093235585, \"color\": 4.0}, {\"pca0\": 2.3390724376013403, \"pca1\": 1.3033994799095634, \"color\": 8.0}, {\"pca0\": 1.1802935559943, \"pca1\": -0.1137930960674183, \"color\": 6.0}, {\"pca0\": 1.0174148959439906, \"pca1\": -0.622939219910321, \"color\": 6.0}, {\"pca0\": 0.14400618496026463, \"pca1\": -0.14494976045801566, \"color\": 6.0}, {\"pca0\": -0.9078599810917753, \"pca1\": -0.8197753595970875, \"color\": 4.0}, {\"pca0\": -0.24701299797633153, \"pca1\": -0.021713116880110093, \"color\": 6.0}, {\"pca0\": 1.7974993495935432, \"pca1\": -0.46612725824345996, \"color\": 6.0}, {\"pca0\": -1.056456985828431, \"pca1\": -0.74345685574663, \"color\": 4.0}, {\"pca0\": 3.747660916473632, \"pca1\": 2.1350469205014417, \"color\": 12.0}, {\"pca0\": 1.3978598208345445, \"pca1\": 0.6391781195634564, \"color\": 8.0}, {\"pca0\": -1.6695379336607277, \"pca1\": -0.5705922365510803, \"color\": 4.0}, {\"pca0\": -0.9502289515699849, \"pca1\": -0.6313750982596862, \"color\": 4.0}, {\"pca0\": -1.4342040976702306, \"pca1\": -0.5051006571517649, \"color\": 4.0}, {\"pca0\": 0.24723789862498916, \"pca1\": -0.37332617720974903, \"color\": 6.0}, {\"pca0\": 0.49454343022393327, \"pca1\": -0.0795349947581816, \"color\": 6.0}, {\"pca0\": 0.26462254398019247, \"pca1\": -0.17697322024230033, \"color\": 6.0}, {\"pca0\": 0.1507504195211104, \"pca1\": -0.1439947229519251, \"color\": 6.0}, {\"pca0\": -0.5269772115150582, \"pca1\": -0.8636750197089746, \"color\": 4.0}, {\"pca0\": 0.4177444914348423, \"pca1\": -0.446786139641112, \"color\": 6.0}, {\"pca0\": -0.044387208173695555, \"pca1\": -0.025736474357150547, \"color\": 6.0}, {\"pca0\": -0.3622748316929895, \"pca1\": -0.7593925031981884, \"color\": 4.0}, {\"pca0\": 0.993779125938781, \"pca1\": -0.042406202454686806, \"color\": 6.0}, {\"pca0\": -0.6023582127925058, \"pca1\": -0.7929640180653837, \"color\": 4.0}, {\"pca0\": -2.146364704922915, \"pca1\": -0.2818219494828118, \"color\": 4.0}, {\"pca0\": -1.1214077013667192, \"pca1\": -0.5098706902420744, \"color\": 4.0}, {\"pca0\": -1.0086631740963867, \"pca1\": -0.7851149367338371, \"color\": 4.0}, {\"pca0\": -1.8772044788336055, \"pca1\": -0.5671823230166102, \"color\": 4.0}, {\"pca0\": 0.034597876232965286, \"pca1\": 0.22850990957206901, \"color\": 6.0}, {\"pca0\": -0.41700126328948783, \"pca1\": -1.0910963989546174, \"color\": 4.0}, {\"pca0\": -0.8782661368846708, \"pca1\": -0.6372642642236627, \"color\": 4.0}, {\"pca0\": 2.829304593256005, \"pca1\": 0.7726217143725684, \"color\": 8.0}, {\"pca0\": -1.1590650997388843, \"pca1\": -0.5475495927208858, \"color\": 4.0}, {\"pca0\": 2.640433284183463, \"pca1\": 0.6325703703951517, \"color\": 8.0}, {\"pca0\": -0.9400925382101059, \"pca1\": -0.7107120817257047, \"color\": 4.0}, {\"pca0\": 0.24688216345689817, \"pca1\": -0.11411506144927137, \"color\": 6.0}, {\"pca0\": -10.941879384258488, \"pca1\": 5.578857109248341, \"color\": 0.0}, {\"pca0\": 1.0049507653778738, \"pca1\": -0.4134735320395628, \"color\": 6.0}, {\"pca0\": -1.4274598631093849, \"pca1\": -0.5041456196456744, \"color\": 4.0}, {\"pca0\": 1.0116949999387197, \"pca1\": -0.4125184945334723, \"color\": 6.0}, {\"pca0\": 0.6181962328748033, \"pca1\": 0.06736064024590244, \"color\": 6.0}, {\"pca0\": 0.7532178289006827, \"pca1\": -0.3352423474001636, \"color\": 6.0}, {\"pca0\": -1.0221916925525028, \"pca1\": -0.6254858447391092, \"color\": 4.0}, {\"pca0\": -11.257031439310646, \"pca1\": 5.921639670295615, \"color\": 0.0}, {\"pca0\": 4.58384290956818, \"pca1\": 0.3466265416448514, \"color\": 8.0}, {\"pca0\": 1.2230210276525968, \"pca1\": 0.6142325865186885, \"color\": 8.0}, {\"pca0\": -0.5192342042062804, \"pca1\": -0.4851413909532904, \"color\": 5.0}, {\"pca0\": 0.10295660778906615, \"pca1\": -0.10233664196471792, \"color\": 6.0}, {\"pca0\": 0.010428946982491602, \"pca1\": 0.1927410821054389, \"color\": 6.0}, {\"pca0\": -6.769616164709827, \"pca1\": 0.7459094488143376, \"color\": 0.0}, {\"pca0\": -0.9899591354341724, \"pca1\": -0.734549122610492, \"color\": 4.0}, {\"pca0\": -0.6434077899637043, \"pca1\": -0.750350899572086, \"color\": 4.0}, {\"pca0\": -10.277610193031315, \"pca1\": 4.898099636797085, \"color\": 0.0}, {\"pca0\": 0.9010395608020265, \"pca1\": -0.15257788492944957, \"color\": 6.0}, {\"pca0\": 0.14406083375079487, \"pca1\": -0.9805197891490806, \"color\": 4.0}, {\"pca0\": 1.6968553403990445, \"pca1\": 1.0857541029830844, \"color\": 8.0}, {\"pca0\": -1.0019189395355408, \"pca1\": -0.7841598992277466, \"color\": 4.0}, {\"pca0\": -0.29870298594188754, \"pca1\": -0.17449791784817056, \"color\": 6.0}, {\"pca0\": 0.6228207916889668, \"pca1\": -0.48309301991033826, \"color\": 6.0}, {\"pca0\": -1.1099735079841273, \"pca1\": -0.4431296449797702, \"color\": 4.0}, {\"pca0\": 0.02757553280882237, \"pca1\": -0.03162572787772755, \"color\": 6.0}, {\"pca0\": -1.3453607087669879, \"pca1\": -0.5893718566322698, \"color\": 4.0}, {\"pca0\": 0.1507504195211104, \"pca1\": -0.1439947229519251, \"color\": 6.0}, {\"pca0\": 1.0865187647783316, \"pca1\": 0.06776556757667647, \"color\": 6.0}, {\"pca0\": 0.17262462386677555, \"pca1\": 0.003203383486485512, \"color\": 6.0}, {\"pca0\": 0.29503171035703346, \"pca1\": -0.4149842581969562, \"color\": 6.0}, {\"pca0\": 2.3714289039498544, \"pca1\": 0.5796254785486035, \"color\": 8.0}, {\"pca0\": -0.19664232961499045, \"pca1\": 0.2768589144886546, \"color\": 6.0}, {\"pca0\": -1.566661992015492, \"pca1\": -0.5397575813206363, \"color\": 4.0}, {\"pca0\": 2.7013375873256735, \"pca1\": 1.0629253269409524, \"color\": 8.0}, {\"pca0\": 0.2989278865905452, \"pca1\": -0.22054137624168862, \"color\": 6.0}, {\"pca0\": -1.1180155225676858, \"pca1\": -0.5901627112141835, \"color\": 4.0}, {\"pca0\": 0.9807818361274001, \"pca1\": -0.44924235950619296, \"color\": 6.0}, {\"pca0\": -1.5869347450324538, \"pca1\": -0.3810835268319988, \"color\": 4.0}, {\"pca0\": 1.0454691876071331, \"pca1\": 0.11037868606997421, \"color\": 6.0}, {\"pca0\": 1.046504413686347, \"pca1\": -0.18135166004888334, \"color\": 6.0}, {\"pca0\": -10.462285112960092, \"pca1\": 5.06565453623994, \"color\": 0.0}, {\"pca0\": 0.10970084234991191, \"pca1\": -0.10138160445862736, \"color\": 6.0}, {\"pca0\": 1.7343684580823946, \"pca1\": 0.4589916532421477, \"color\": 8.0}, {\"pca0\": 0.3092125622168117, \"pca1\": 0.23406765898014723, \"color\": 6.0}, {\"pca0\": -0.7600382491904315, \"pca1\": -0.6371108971263734, \"color\": 4.0}, {\"pca0\": -0.1989531746358851, \"pca1\": -0.20935597433395528, \"color\": 6.0}, {\"pca0\": 1.3140827720050492, \"pca1\": -0.04623444452935277, \"color\": 6.0}, {\"pca0\": 0.04835235696305894, \"pca1\": 0.08443520811761217, \"color\": 6.0}, {\"pca0\": 1.522162446204554, \"pca1\": -0.11469375091660379, \"color\": 6.0}, {\"pca0\": -0.4326361950496004, \"pca1\": -0.4476311763071638, \"color\": 4.0}, {\"pca0\": -0.0064517009382332145, \"pca1\": 0.2711230280653668, \"color\": 6.0}, {\"pca0\": 2.7365651018220465, \"pca1\": 0.6624501194544063, \"color\": 8.0}, {\"pca0\": -0.9837189351592031, \"pca1\": -1.0083290318100784, \"color\": 4.0}, {\"pca0\": -0.7670605926145744, \"pca1\": -0.89724653457617, \"color\": 4.0}, {\"pca0\": -0.03062063018870689, \"pca1\": 0.2353542005987366, \"color\": 6.0}, {\"pca0\": -0.07014154233958253, \"pca1\": 0.23026661748696092, \"color\": 6.0}, {\"pca0\": -0.3202951322658606, \"pca1\": 0.12996327948457054, \"color\": 6.0}, {\"pca0\": 0.3980559511200545, \"pca1\": 0.14979645949964232, \"color\": 6.0}, {\"pca0\": -0.21949193926124919, \"pca1\": 0.09530285662132018, \"color\": 6.0}, {\"pca0\": 3.0641703697335267, \"pca1\": 0.7558038757089122, \"color\": 8.0}, {\"pca0\": 0.3399774637617437, \"pca1\": -0.2631544947349863, \"color\": 6.0}, {\"pca0\": -0.058298944443438944, \"pca1\": -1.1224812081386781, \"color\": 4.0}, {\"pca0\": -1.269501717848162, \"pca1\": -0.40081814064097854, \"color\": 4.0}, {\"pca0\": 0.3607542879159803, \"pca1\": -0.1470935587396466, \"color\": 6.0}, {\"pca0\": -1.1819362489666452, \"pca1\": -0.43724039145919325, \"color\": 4.0}, {\"pca0\": -0.03969459558018988, \"pca1\": -0.7149562369640473, \"color\": 4.0}, {\"pca0\": -0.0033376310024970618, \"pca1\": -0.06834959285044827, \"color\": 6.0}, {\"pca0\": 0.48440701686405424, \"pca1\": -0.0001980112921631599, \"color\": 6.0}, {\"pca0\": -1.5936789795932995, \"pca1\": -0.3820385643380894, \"color\": 4.0}, {\"pca0\": 0.07225534830792671, \"pca1\": 0.26618889960748093, \"color\": 6.0}, {\"pca0\": 2.412478481121053, \"pca1\": 0.5370123600553057, \"color\": 8.0}, {\"pca0\": -0.860066169359731, \"pca1\": -0.8614334405842947, \"color\": 4.0}, {\"pca0\": -1.1387923467219225, \"pca1\": -0.7062236472095232, \"color\": 4.0}, {\"pca0\": -1.552629402422101, \"pca1\": -0.42465168283138716, \"color\": 4.0}, {\"pca0\": -1.4685094402805834, \"pca1\": -0.46153250115237654, \"color\": 4.0}, {\"pca0\": -1.4931824406683316, \"pca1\": -0.7720363191029839, \"color\": 4.0}, {\"pca0\": -0.03764297361284979, \"pca1\": -0.024781436851059994, \"color\": 6.0}, {\"pca0\": 1.0865187647783316, \"pca1\": 0.06776556757667647, \"color\": 6.0}, {\"pca0\": 0.6240004458625878, \"pca1\": -0.11038183869624688, \"color\": 6.0}, {\"pca0\": 0.501287664784779, \"pca1\": -0.07857995725209103, \"color\": 6.0}, {\"pca0\": 1.755145208533835, \"pca1\": 0.5750525016808868, \"color\": 8.0}, {\"pca0\": 0.4894645581741038, \"pca1\": -0.3118086668326946, \"color\": 5.0}, {\"pca0\": -0.41948439290027806, \"pca1\": -0.5199994474390751, \"color\": 5.0}, {\"pca0\": 1.3473236530226065, \"pca1\": -0.13963928396137176, \"color\": 6.0}, {\"pca0\": -1.6009673346258448, \"pca1\": -0.496189425321248, \"color\": 4.0}, {\"pca0\": 0.21305473678512757, \"pca1\": 0.18871772462839845, \"color\": 6.0}, {\"pca0\": -0.6056841870584219, \"pca1\": -0.8587408036944881, \"color\": 4.0}, {\"pca0\": 0.32948531523377367, \"pca1\": 0.07539360449150978, \"color\": 6.0}, {\"pca0\": -1.1216755291015013, \"pca1\": -0.7366126084982627, \"color\": 4.0}, {\"pca0\": -0.6056841870584219, \"pca1\": -0.8587408036944881, \"color\": 4.0}, {\"pca0\": 0.8909031474421474, \"pca1\": -0.07324090146343105, \"color\": 6.0}, {\"pca0\": -1.3881922402457887, \"pca1\": -0.7736447361823587, \"color\": 4.0}, {\"pca0\": 0.49454343022393327, \"pca1\": -0.0795349947581816, \"color\": 6.0}, {\"pca0\": 0.3674985224768261, \"pca1\": -0.14613852123355606, \"color\": 6.0}, {\"pca0\": -0.9260599486167151, \"pca1\": -0.5956061832364554, \"color\": 4.0}, {\"pca0\": -0.8252567556121038, \"pca1\": -0.6302666060997058, \"color\": 4.0}, {\"pca0\": -1.1387923467219225, \"pca1\": -0.7062236472095232, \"color\": 4.0}, {\"pca0\": 0.4216406676683542, \"pca1\": -0.2523432576858444, \"color\": 6.0}, {\"pca0\": 3.8559840712149267, \"pca1\": 0.6377757312837801, \"color\": 8.0}, {\"pca0\": -0.9193157140558693, \"pca1\": -0.5946511457303649, \"color\": 4.0}, {\"pca0\": 0.4343823914095144, \"pca1\": -0.384301446828646, \"color\": 5.0}, {\"pca0\": -0.2290699757900069, \"pca1\": -1.1297425714254408, \"color\": 4.0}, {\"pca0\": 1.0865187647783316, \"pca1\": 0.06776556757667647, \"color\": 6.0}, {\"pca0\": -2.0317544080380294, \"pca1\": -0.36272123122796524, \"color\": 4.0}, {\"pca0\": -1.2489566433997028, \"pca1\": -0.8512091634231259, \"color\": 4.0}, {\"pca0\": -1.1531763269078634, \"pca1\": -0.20826748881418353, \"color\": 4.0}, {\"pca0\": 2.800307098255667, \"pca1\": 1.318327951520262, \"color\": 8.0}, {\"pca0\": 0.5104840565715968, \"pca1\": -0.3366144571663493, \"color\": 6.0}, {\"pca0\": 1.7494852762348654, \"pca1\": 1.4172363328427842, \"color\": 8.0}, {\"pca0\": -1.8361388644046412, \"pca1\": -0.2217148497444583, \"color\": 4.0}, {\"pca0\": -1.7230603417178076, \"pca1\": -0.4162860283595466, \"color\": 4.0}, {\"pca0\": -1.0086631740963867, \"pca1\": -0.7851149367338371, \"color\": 4.0}, {\"pca0\": 0.06523300488378377, \"pca1\": 0.006053262157684278, \"color\": 6.0}, {\"pca0\": -0.5613086356213073, \"pca1\": -0.8355771365586815, \"color\": 4.0}, {\"pca0\": 2.7882550160848063, \"pca1\": 0.8152348328658662, \"color\": 8.0}, {\"pca0\": 2.1684576838433576, \"pca1\": -0.02544044078780853, \"color\": 6.0}, {\"pca0\": 2.082219280361609, \"pca1\": 1.4616352603827338, \"color\": 8.0}, {\"pca0\": -1.303494689692593, \"pca1\": -0.8105061199420093, \"color\": 4.0}, {\"pca0\": -2.3732030463386087, \"pca1\": 0.2994206848191032, \"color\": 4.0}, {\"pca0\": -1.709027752124417, \"pca1\": -0.30118012987029735, \"color\": 4.0}, {\"pca0\": -0.9831748515389019, \"pca1\": -0.8951332521113106, \"color\": 4.0}, {\"pca0\": -1.4617652057197377, \"pca1\": -0.46057746364628593, \"color\": 4.0}, {\"pca0\": 1.1392439788231015, \"pca1\": -0.0711799775741206, \"color\": 6.0}, {\"pca0\": 0.30531638598329996, \"pca1\": 0.03962477702487963, \"color\": 6.0}, {\"pca0\": 0.37139469871033776, \"pca1\": 0.04830436072171159, \"color\": 6.0}, {\"pca0\": -0.6844573671349028, \"pca1\": -0.7077377810787883, \"color\": 4.0}, {\"pca0\": 1.6665919993068645, \"pca1\": 0.14826273252621916, \"color\": 6.0}, {\"pca0\": 2.275748994456752, \"pca1\": 0.7935401742751365, \"color\": 8.0}, {\"pca0\": -0.16572916580367103, \"pca1\": 0.3135827794613753, \"color\": 6.0}, {\"pca0\": 2.4298632001790526, \"pca1\": 0.7333654045793551, \"color\": 8.0}, {\"pca0\": 0.4703745009734596, \"pca1\": -0.11530382222481177, \"color\": 6.0}, {\"pca0\": 2.1985645240796443, \"pca1\": 1.4077776854812747, \"color\": 10.0}, {\"pca0\": 3.9441986319930398, \"pca1\": 1.9191462504977912, \"color\": 12.0}, {\"pca0\": -1.921646197952439, \"pca1\": -0.4442771397729031, \"color\": 4.0}, {\"pca0\": -0.6501520245245501, \"pca1\": -0.7513059370781765, \"color\": 4.0}, {\"pca0\": -0.21893356243012776, \"pca1\": -1.2090795548914592, \"color\": 4.0}, {\"pca0\": 2.2806694355430426, \"pca1\": 1.1993587315567427, \"color\": 8.0}, {\"pca0\": -1.3276636557944645, \"pca1\": -0.8462749911869396, \"color\": 4.0}, {\"pca0\": -0.18518659665089643, \"pca1\": 0.05173470062193189, \"color\": 6.0}, {\"pca0\": 0.7510453536096952, \"pca1\": -0.04377831222087246, \"color\": 6.0}, {\"pca0\": 0.7060996002049849, \"pca1\": -0.19560807568284236, \"color\": 6.0}, {\"pca0\": 1.3140827720050492, \"pca1\": -0.04623444452935277, \"color\": 6.0}, {\"pca0\": -3.488456388184825, \"pca1\": 1.193894666571769, \"color\": 4.0}, {\"pca0\": 0.17491934877158408, \"pca1\": -0.10822589548529493, \"color\": 6.0}, {\"pca0\": -0.1054171731391367, \"pca1\": -0.9828469364213569, \"color\": 4.0}, {\"pca0\": 0.14400618496026463, \"pca1\": -0.14494976045801566, \"color\": 6.0}, {\"pca0\": 0.0995383474941365, \"pca1\": -0.037514893841704, \"color\": 6.0}, {\"pca0\": -1.566661992015492, \"pca1\": -0.5397575813206363, \"color\": 4.0}, {\"pca0\": -2.614333200633642, \"pca1\": -0.024424890036814504, \"color\": 4.0}, {\"pca0\": 0.5829508686913893, \"pca1\": -0.06776872020294916, \"color\": 6.0}, {\"pca0\": -0.03764297361284979, \"pca1\": -0.024781436851059994, \"color\": 6.0}, {\"pca0\": 0.15797257002053824, \"pca1\": 0.11622494463244702, \"color\": 6.0}, {\"pca0\": -0.26917953138814404, \"pca1\": -0.9084319364839032, \"color\": 4.0}, {\"pca0\": -0.7119784258499852, \"pca1\": -0.8247537545802185, \"color\": 4.0}, {\"pca0\": -1.3674154529429503, \"pca1\": -0.6575838439653192, \"color\": 4.0}, {\"pca0\": -1.6487611463578888, \"pca1\": -0.4545313443340408, \"color\": 4.0}, {\"pca0\": 0.19227791263089097, \"pca1\": 0.07265678863305874, \"color\": 6.0}, {\"pca0\": -1.2208915010643195, \"pca1\": -0.6209974102229278, \"color\": 4.0}, {\"pca0\": -0.6504180361329522, \"pca1\": -0.6053211606115385, \"color\": 4.0}, {\"pca0\": -1.1255717053350132, \"pca1\": -0.9310554904535304, \"color\": 4.0}, {\"pca0\": -0.3962244391352513, \"pca1\": -0.9750354629592777, \"color\": 4.0}, {\"pca0\": -1.9440049267286805, \"pca1\": -0.1398605304932142, \"color\": 4.0}, {\"pca0\": -1.0840180938779378, \"pca1\": -0.6989336622411512, \"color\": 4.0}, {\"pca0\": -0.9489095582629739, \"pca1\": -0.7771622411037897, \"color\": 4.0}, {\"pca0\": 0.32948531523377367, \"pca1\": 0.07539360449150978, \"color\": 6.0}, {\"pca0\": 2.084549968177972, \"pca1\": 0.7836175347024594, \"color\": 8.0}, {\"pca0\": -1.5458851678612555, \"pca1\": -0.4236966453252965, \"color\": 4.0}, {\"pca0\": 3.1052199469047252, \"pca1\": 0.7131907572156145, \"color\": 8.0}, {\"pca0\": 0.8539213321063286, \"pca1\": -0.012943613212128183, \"color\": 6.0}, {\"pca0\": -0.9489095582629739, \"pca1\": -0.7771622411037897, \"color\": 4.0}, {\"pca0\": -0.008538683822817706, \"pca1\": -0.8190990107637204, \"color\": 5.0}, {\"pca0\": 2.4298632001790526, \"pca1\": 0.7333654045793551, \"color\": 8.0}, {\"pca0\": 3.072943072234007, \"pca1\": 1.976734192716175, \"color\": 12.0}, {\"pca0\": 0.8392131594765915, \"pca1\": -0.22602570243149153, \"color\": 6.0}, {\"pca0\": 0.5104840565715968, \"pca1\": -0.3366144571663493, \"color\": 6.0}, {\"pca0\": -1.0125820838441548, \"pca1\": -0.44719558908505946, \"color\": 4.0}, {\"pca0\": 4.923084150814325, \"pca1\": 1.8259581732830084, \"color\": 12.0}, {\"pca0\": -1.8906769106975312, \"pca1\": -0.1810118062633418, \"color\": 4.0}, {\"pca0\": -0.0893329615784058, \"pca1\": -0.17756623781912045, \"color\": 6.0}, {\"pca0\": 0.3502621393880102, \"pca1\": 0.19145454048684948, \"color\": 6.0}, {\"pca0\": 1.542289373936855, \"pca1\": 0.9021346030062793, \"color\": 8.0}, {\"pca0\": 0.6846471930144019, \"pca1\": -0.40964520240829627, \"color\": 6.0}, {\"pca0\": -1.0086631740963867, \"pca1\": -0.7851149367338371, \"color\": 4.0}, {\"pca0\": -0.38857122908895864, \"pca1\": -0.4832755824663544, \"color\": 5.0}, {\"pca0\": 1.2213431331654985, \"pca1\": -0.15640621456071607, \"color\": 6.0}, {\"pca0\": 0.4501016742537015, \"pca1\": 0.04337014470722512, \"color\": 6.0}, {\"pca0\": -0.5062003873608216, \"pca1\": -0.7476140837136349, \"color\": 4.0}, {\"pca0\": 0.27815106243630866, \"pca1\": -0.3366023122370283, \"color\": 6.0}, {\"pca0\": -1.4224975828561415, \"pca1\": -0.7300765801829705, \"color\": 4.0}, {\"pca0\": -0.5293706175661596, \"pca1\": -0.4058044074872719, \"color\": 5.0}, {\"pca0\": -0.35553059713214374, \"pca1\": -0.7584374656920978, \"color\": 4.0}, {\"pca0\": 0.46943447940039834, \"pca1\": -0.2940013386730516, \"color\": 6.0}, {\"pca0\": -0.73620077775726, \"pca1\": 0.6706332683511124, \"color\": 6.0}, {\"pca0\": -1.829832496447953, \"pca1\": -0.6415636093235585, \"color\": 4.0}, {\"pca0\": -0.19141250371504545, \"pca1\": -1.092063581390029, \"color\": 4.0}, {\"pca0\": -0.0033376310024970618, \"pca1\": -0.06834959285044827, \"color\": 6.0}, {\"pca0\": -0.7670605926145744, \"pca1\": -0.89724653457617, \"color\": 4.0}, {\"pca0\": 0.5621740445371528, \"pca1\": -0.1838296561982889, \"color\": 6.0}, {\"pca0\": -0.6172210097869891, \"pca1\": 0.33094218975513046, \"color\": 6.0}, {\"pca0\": 2.6288707752058813, \"pca1\": 0.7940795899775519, \"color\": 8.0}, {\"pca0\": 1.5154182116437085, \"pca1\": -0.11564878842269445, \"color\": 6.0}, {\"pca0\": -0.9837189351592031, \"pca1\": -1.0083290318100784, \"color\": 4.0}, {\"pca0\": 0.030489795669273553, \"pca1\": -0.37118237892811806, \"color\": 6.0}, {\"pca0\": -1.4134272735159938, \"pca1\": -0.3890397211564251, \"color\": 4.0}, {\"pca0\": -1.1819362489666452, \"pca1\": -0.43724039145919325, \"color\": 4.0}, {\"pca0\": 0.10295660778906615, \"pca1\": -0.10233664196471792, \"color\": 6.0}, {\"pca0\": 1.5538697326014774, \"pca1\": 1.2762299513592772, \"color\": 8.0}, {\"pca0\": 1.9497254523852132, \"pca1\": 1.0077891417266507, \"color\": 8.0}, {\"pca0\": 1.3736908915840709, \"pca1\": 0.6034092920968261, \"color\": 8.0}, {\"pca0\": -2.073897892803122, \"pca1\": -0.012976212519411537, \"color\": 4.0}, {\"pca0\": 3.1052199469047252, \"pca1\": 0.7131907572156145, \"color\": 8.0}, {\"pca0\": -1.4342040976702306, \"pca1\": -0.5051006571517649, \"color\": 4.0}, {\"pca0\": -2.0216180315295484, \"pca1\": -0.4420582584722839, \"color\": 4.0}, {\"pca0\": -11.634049945779848, \"pca1\": 6.35251358074698, \"color\": 0.0}, {\"pca0\": -1.1387923467219225, \"pca1\": -0.7062236472095232, \"color\": 4.0}, {\"pca0\": 2.161713449282512, \"pca1\": -0.026395478293899124, \"color\": 6.0}, {\"pca0\": 1.251482034237944, \"pca1\": 0.9099459889117582, \"color\": 8.0}, {\"pca0\": -0.8735546384814226, \"pca1\": -0.8633435155964758, \"color\": 4.0}, {\"pca0\": 2.4743048087436916, \"pca1\": 0.6104600900007471, \"color\": 8.0}, {\"pca0\": -1.0019189395355408, \"pca1\": -0.7841598992277466, \"color\": 4.0}, {\"pca0\": 3.5125066562405007, \"pca1\": 0.6883296304851122, \"color\": 8.0}, {\"pca0\": 1.3635544782241917, \"pca1\": 0.6827462755628446, \"color\": 8.0}, {\"pca0\": 0.8711616230699207, \"pca1\": -0.48103209602102776, \"color\": 6.0}, {\"pca0\": -0.8117282371559875, \"pca1\": -0.7898956980944338, \"color\": 4.0}, {\"pca0\": 3.803665181421445, \"pca1\": 1.8506325614536348, \"color\": 12.0}, {\"pca0\": 1.774886806608858, \"pca1\": 0.9828437837950841, \"color\": 8.0}, {\"pca0\": -1.8272464820195267, \"pca1\": 0.08709076544911079, \"color\": 4.0}, {\"pca0\": 0.3092125622168117, \"pca1\": 0.23406765898014723, \"color\": 6.0}, {\"pca0\": -10.448796643838401, \"pca1\": 5.067564611252121, \"color\": 0.0}, {\"pca0\": -0.03062063018870689, \"pca1\": 0.2353542005987366, \"color\": 6.0}, {\"pca0\": -2.0075854419361576, \"pca1\": -0.3269523599830349, \"color\": 4.0}, {\"pca0\": 0.04445618072954719, \"pca1\": -0.11000767383765545, \"color\": 6.0}, {\"pca0\": 0.6435976158432033, \"pca1\": -0.3670320839149985, \"color\": 6.0}, {\"pca0\": 1.5995439422896356, \"pca1\": 0.6831632602663391, \"color\": 8.0}, {\"pca0\": -1.3123332861783612, \"pca1\": -0.5850910639693679, \"color\": 4.0}, {\"pca0\": -1.4685094402805834, \"pca1\": -0.46153250115237654, \"color\": 4.0}, {\"pca0\": -1.2505068848529262, \"pca1\": -0.511643246467326, \"color\": 4.0}, {\"pca0\": -1.407187110092423, \"pca1\": -0.6628196741343118, \"color\": 4.0}, {\"pca0\": -12.169690865606652, \"pca1\": 7.051481689787697, \"color\": 0.0}, {\"pca0\": -1.063745340860976, \"pca1\": -0.8576077167297886, \"color\": 4.0}, {\"pca0\": -0.6197167766518127, \"pca1\": -0.9738467021837374, \"color\": 4.0}, {\"pca0\": -1.4274598631093849, \"pca1\": -0.5041456196456744, \"color\": 4.0}, {\"pca0\": 1.3635544782241917, \"pca1\": 0.6827462755628446, \"color\": 8.0}, {\"pca0\": -2.096518582397144, \"pca1\": 0.09569037785809528, \"color\": 4.0}, {\"pca0\": -1.8148740432222938, \"pca1\": -0.2189995588088913, \"color\": 4.0}, {\"pca0\": -0.9696863824172104, \"pca1\": -0.8932231770991295, \"color\": 4.0}, {\"pca0\": 0.7853106468856231, \"pca1\": 0.07419269878664837, \"color\": 6.0}, {\"pca0\": 0.9527295487675824, \"pca1\": 0.00020691603861093552, \"color\": 6.0}, {\"pca0\": -0.6504180361329522, \"pca1\": -0.6053211606115385, \"color\": 4.0}, {\"pca0\": -0.7119784258499852, \"pca1\": -0.8247537545802185, \"color\": 4.0}, {\"pca0\": -0.6192388607132306, \"pca1\": -0.7145820721054558, \"color\": 4.0}, {\"pca0\": -0.6709288486787867, \"pca1\": -0.8673668730735162, \"color\": 4.0}, {\"pca0\": -0.5639406941823873, \"pca1\": -0.017378049461218032, \"color\": 6.0}, {\"pca0\": -0.7875090225622469, \"pca1\": 0.7121107959314019, \"color\": 6.0}, {\"pca0\": -1.5782089224177072, \"pca1\": -0.120606295818682, \"color\": 4.0}, {\"pca0\": 3.7123661542394917, \"pca1\": 2.185613538674842, \"color\": 10.0}, {\"pca0\": -2.609922927051722, \"pca1\": 0.17048851539833676, \"color\": 4.0}, {\"pca0\": 1.2742070181836742, \"pca1\": 0.4922824845593724, \"color\": 8.0}, {\"pca0\": 2.991703557613734, \"pca1\": 0.486958138745512, \"color\": 8.0}, {\"pca0\": 0.6503418504040491, \"pca1\": -0.3660770464089079, \"color\": 6.0}, {\"pca0\": 1.418636571285985, \"pca1\": 0.7552389680021955, \"color\": 8.0}, {\"pca0\": -0.9400925382101059, \"pca1\": -0.7107120817257047, \"color\": 4.0}, {\"pca0\": 0.19569617292582062, \"pca1\": 0.007835040510044775, \"color\": 6.0}, {\"pca0\": -0.15790359746468663, \"pca1\": -0.251969092827253, \"color\": 6.0}, {\"pca0\": -0.6641846141179408, \"pca1\": -0.8664118355674257, \"color\": 4.0}, {\"pca0\": 1.875405832385672, \"pca1\": 0.8022401576570797, \"color\": 8.0}, {\"pca0\": -2.2175975697863097, \"pca1\": -0.3687515514676026, \"color\": 4.0}, {\"pca0\": -0.4503976304143937, \"pca1\": -0.5567233999683964, \"color\": 5.0}, {\"pca0\": 3.012480455470767, \"pca1\": 0.6030191622974524, \"color\": 8.0}, {\"pca0\": 0.32948531523377367, \"pca1\": 0.07539360449150978, \"color\": 6.0}, {\"pca0\": 2.777614678993245, \"pca1\": 0.6198370009611086, \"color\": 8.0}, {\"pca0\": 1.3744330003322238, \"pca1\": -0.42795674713943643, \"color\": 6.0}, {\"pca0\": 0.3092125622168117, \"pca1\": 0.23406765898014723, \"color\": 6.0}, {\"pca0\": 1.7860583723451544, \"pca1\": 0.6117763666536075, \"color\": 8.0}, {\"pca0\": -1.4910682187424222, \"pca1\": -0.8044794351911029, \"color\": 4.0}, {\"pca0\": 2.72253243852586, \"pca1\": 0.5473441334085564, \"color\": 8.0}, {\"pca0\": 0.27488113811056264, \"pca1\": 0.2621655421304405, \"color\": 6.0}, {\"pca0\": 1.6417732473372515, \"pca1\": 1.0132614105437334, \"color\": 8.0}, {\"pca0\": -1.3466386287887138, \"pca1\": -0.5415229079699796, \"color\": 4.0}, {\"pca0\": 3.3119359102448316, \"pca1\": 1.9449987513016447, \"color\": 12.0}, {\"pca0\": 1.9873938119838137, \"pca1\": 0.542362022760266, \"color\": 8.0}, {\"pca0\": -1.4207156285485392, \"pca1\": -0.5031905821395837, \"color\": 4.0}, {\"pca0\": -0.7842071784409053, \"pca1\": -0.6728797245930035, \"color\": 4.0}, {\"pca0\": -1.0972386984134492, \"pca1\": -0.4741017752188438, \"color\": 4.0}, {\"pca0\": 2.8346124408660196, \"pca1\": 1.2747597955208738, \"color\": 8.0}, {\"pca0\": -0.3683251505489992, \"pca1\": 0.12362833202228894, \"color\": 6.0}, {\"pca0\": 0.8713060511643282, \"pca1\": 0.18340943131192114, \"color\": 6.0}, {\"pca0\": -0.07869255078404827, \"pca1\": 0.017831681642237737, \"color\": 6.0}, {\"pca0\": 0.15500233092271312, \"pca1\": -0.20876295675713516, \"color\": 6.0}, {\"pca0\": 0.2511982662622062, \"pca1\": 0.013660863821351382, \"color\": 6.0}, {\"pca0\": -0.8356312285008552, \"pca1\": -0.9716493895843025, \"color\": 4.0}, {\"pca0\": -1.1598770479453657, \"pca1\": -0.8874873344541421, \"color\": 4.0}, {\"pca0\": 1.1892999714472143, \"pca1\": 1.0957093747267945, \"color\": 8.0}, {\"pca0\": 2.7022597592116937, \"pca1\": 0.7060182754537945, \"color\": 8.0}, {\"pca0\": -0.42410123301842456, \"pca1\": -0.8328403207002304, \"color\": 4.0}, {\"pca0\": 0.4962087927349495, \"pca1\": -0.310853629326604, \"color\": 5.0}, {\"pca0\": -0.464795075021532, \"pca1\": -1.04943831796741, \"color\": 4.0}, {\"pca0\": 1.0257275895321103, \"pca1\": -0.297412596044223, \"color\": 6.0}, {\"pca0\": 2.6873050714350795, \"pca1\": 0.9478195160083036, \"color\": 8.0}, {\"pca0\": 1.811531939186934, \"pca1\": -0.3510213597542108, \"color\": 6.0}, {\"pca0\": -0.4545364808911619, \"pca1\": -0.6102995555946695, \"color\": 4.0}, {\"pca0\": -0.9569731861308307, \"pca1\": -0.6323301357657767, \"color\": 4.0}, {\"pca0\": 3.43852095648517, \"pca1\": 1.1161987597490552, \"color\": 8.0}, {\"pca0\": -9.831396831535281, \"pca1\": 4.331746070817101, \"color\": 0.0}, {\"pca0\": 0.1917999966923089, \"pca1\": -0.18660784144522283, \"color\": 6.0}, {\"pca0\": 0.17539726471016617, \"pca1\": 0.15103873459298658, \"color\": 6.0}, {\"pca0\": 0.10295660778906615, \"pca1\": -0.10233664196471792, \"color\": 6.0}, {\"pca0\": 0.4076080780749633, \"pca1\": -0.3674491561750936, \"color\": 6.0}, {\"pca0\": 1.316410489211287, \"pca1\": -0.17636314893409244, \"color\": 6.0}, {\"pca0\": 3.7975097993541, \"pca1\": 0.6455750598165384, \"color\": 8.0}, {\"pca0\": -1.624592180256017, \"pca1\": -0.41876247308911047, \"color\": 4.0}, {\"pca0\": -0.7532940146295858, \"pca1\": -0.6361558596202828, \"color\": 4.0}, {\"pca0\": 0.6913914275752476, \"pca1\": -0.4086901649022056, \"color\": 6.0}, {\"pca0\": 3.7975097993541, \"pca1\": 0.6455750598165384, \"color\": 8.0}, {\"pca0\": -1.179841923893121, \"pca1\": -0.6636105287162255, \"color\": 4.0}, {\"pca0\": 0.8713060511643282, \"pca1\": 0.18340943131192114, \"color\": 6.0}, {\"pca0\": -10.742547655595772, \"pca1\": 5.316525597757984, \"color\": 0.0}, {\"pca0\": 3.0950836809504385, \"pca1\": 0.7925279157948341, \"color\": 8.0}, {\"pca0\": 0.30531638598329996, \"pca1\": 0.03962477702487963, \"color\": 6.0}, {\"pca0\": -0.7192667808825302, \"pca1\": -0.9389046155633771, \"color\": 4.0}, {\"pca0\": 0.8909031474421474, \"pca1\": -0.07324090146343105, \"color\": 6.0}, {\"pca0\": 0.037711946168701424, \"pca1\": -0.110962711343746, \"color\": 6.0}, {\"pca0\": 2.278689265110304, \"pca1\": 0.4694537085172404, \"color\": 8.0}, {\"pca0\": -0.8356312285008552, \"pca1\": -0.9716493895843025, \"color\": 4.0}, {\"pca0\": -1.8153780775081705, \"pca1\": -0.4937345055145682, \"color\": 4.0}, {\"pca0\": -1.0561891212422507, \"pca1\": -0.5167148937121415, \"color\": 4.0}, {\"pca0\": -0.14989428711865196, \"pca1\": 0.20083351723407034, \"color\": 6.0}, {\"pca0\": -0.23826636757682462, \"pca1\": -0.8717080715111825, \"color\": 4.0}, {\"pca0\": 2.2569732832589433, \"pca1\": 1.3886257168961589, \"color\": 8.0}, {\"pca0\": 0.6240004458625878, \"pca1\": -0.11038183869624688, \"color\": 6.0}, {\"pca0\": -2.4180819137183853, \"pca1\": -0.47051532062861534, \"color\": 3.0}, {\"pca0\": 0.18214149927101192, \"pca1\": 0.15199377209907713, \"color\": 6.0}, {\"pca0\": -1.3263658757717518, \"pca1\": -0.700196962458617, \"color\": 4.0}, {\"pca0\": 0.45349385305273476, \"pca1\": -0.036921876264883864, \"color\": 6.0}, {\"pca0\": 2.6747386267938156, \"pca1\": 0.5890022143957636, \"color\": 8.0}, {\"pca0\": -4.035000187294322, \"pca1\": 0.5943941394729675, \"color\": 3.0}, {\"pca0\": 1.2432938543723548, \"pca1\": 0.45555861958665167, \"color\": 8.0}, {\"pca0\": -1.6217441219286834, \"pca1\": -0.6122503175382874, \"color\": 4.0}, {\"pca0\": 1.2797774293946964, \"pca1\": -0.002666288529964539, \"color\": 6.0}, {\"pca0\": 0.13719574586630168, \"pca1\": 0.00016400863710726968, \"color\": 6.0}, {\"pca0\": 2.8602179044729166, \"pca1\": 0.8093457544584903, \"color\": 8.0}, {\"pca0\": -0.1373927849188522, \"pca1\": 0.010076619634724721, \"color\": 6.0}, {\"pca0\": 0.4191885104423821, \"pca1\": 0.006646279734504414, \"color\": 6.0}, {\"pca0\": 2.597957611394562, \"pca1\": 0.7573557250048311, \"color\": 8.0}, {\"pca0\": -1.134142437234601, \"pca1\": -0.47889847244640044, \"color\": 4.0}, {\"pca0\": -1.2370184157312345, \"pca1\": -0.5097331714551447, \"color\": 4.0}, {\"pca0\": -1.7738244660510951, \"pca1\": -0.261612677302189, \"color\": 4.0}, {\"pca0\": 1.3785270156878475, \"pca1\": 0.9765496029437329, \"color\": 8.0}, {\"pca0\": -0.23826636757682462, \"pca1\": -0.8717080715111825, \"color\": 4.0}, {\"pca0\": 1.888934424544584, \"pca1\": 0.6426111532189525, \"color\": 8.0}, {\"pca0\": 2.4298632001790526, \"pca1\": 0.7333654045793551, \"color\": 8.0}, {\"pca0\": -0.5651787303589227, \"pca1\": -1.0145497456648538, \"color\": 4.0}, {\"pca0\": -0.9400925382101059, \"pca1\": -0.7107120817257047, \"color\": 4.0}, {\"pca0\": -0.8018699695108037, \"pca1\": -1.1284133252824584, \"color\": 4.0}, {\"pca0\": 1.7586816680216835, \"pca1\": 1.1592018329285259, \"color\": 8.0}, {\"pca0\": -1.7269565179513195, \"pca1\": -0.6107289103148142, \"color\": 4.0}, {\"pca0\": 2.6196565337320226, \"pca1\": 0.5165095219564126, \"color\": 8.0}, {\"pca0\": -0.1373927849188522, \"pca1\": 0.010076619634724721, \"color\": 6.0}, {\"pca0\": 1.570048543965612, \"pca1\": -0.2869503656559294, \"color\": 6.0}, {\"pca0\": 0.9745415990010328, \"pca1\": -0.1754624940849069, \"color\": 6.0}, {\"pca0\": 0.14061400616123132, \"pca1\": -0.06465773948590664, \"color\": 6.0}, {\"pca0\": 2.244835830645433, \"pca1\": 0.7568163093024156, \"color\": 8.0}, {\"pca0\": -0.42410123301842456, \"pca1\": -0.8328403207002304, \"color\": 4.0}, {\"pca0\": -1.296750455131747, \"pca1\": -0.8095510824359187, \"color\": 4.0}, {\"pca0\": 2.985866600711202, \"pca1\": 1.2948904316213028, \"color\": 8.0}, {\"pca0\": -1.319621641210906, \"pca1\": -0.6992419249525265, \"color\": 4.0}, {\"pca0\": -0.6607663538230112, \"pca1\": -0.9312335836904396, \"color\": 4.0}, {\"pca0\": 2.4987528956111493, \"pca1\": 1.2765751178701694, \"color\": 8.0}, {\"pca0\": -0.13972251574948943, \"pca1\": -0.9392787804219686, \"color\": 4.0}, {\"pca0\": 2.9298772299910953, \"pca1\": 0.41351040880007045, \"color\": 8.0}, {\"pca0\": 0.3877712754937879, \"pca1\": -0.3048125757221935, \"color\": 6.0}, {\"pca0\": 2.3752327204515566, \"pca1\": 0.9046668066993891, \"color\": 8.0}, {\"pca0\": 0.46943447940039834, \"pca1\": -0.2940013386730516, \"color\": 6.0}, {\"pca0\": 0.6435976158432033, \"pca1\": -0.3670320839149985, \"color\": 6.0}, {\"pca0\": -0.9078599810917753, \"pca1\": -0.8197753595970875, \"color\": 4.0}, {\"pca0\": -1.6217441219286834, \"pca1\": -0.6122503175382874, \"color\": 4.0}, {\"pca0\": -0.7021080240985083, \"pca1\": -0.758105961579599, \"color\": 4.0}, {\"pca0\": -0.0033376310024970618, \"pca1\": -0.06834959285044827, \"color\": 6.0}, {\"pca0\": -2.679379108838584, \"pca1\": 0.014994521861701667, \"color\": 4.0}, {\"pca0\": 1.9840016331847803, \"pca1\": 0.6226540437323751, \"color\": 8.0}, {\"pca0\": -2.344971947499627, \"pca1\": 0.1915007919671413, \"color\": 4.0}, {\"pca0\": 0.5312608807258334, \"pca1\": -0.22055352117100965, \"color\": 6.0}, {\"pca0\": 0.3399774637617437, \"pca1\": -0.2631544947349863, \"color\": 6.0}, {\"pca0\": 0.22319107644221042, \"pca1\": 0.10938065360577943, \"color\": 6.0}, {\"pca0\": 1.0015586602816369, \"pca1\": -0.3331814235108532, \"color\": 6.0}, {\"pca0\": 1.3140827720050492, \"pca1\": -0.04623444452935277, \"color\": 6.0}, {\"pca0\": -0.09477676234477915, \"pca1\": -0.7874490169599987, \"color\": 4.0}, {\"pca0\": 0.931952724613346, \"pca1\": -0.1158540199567288, \"color\": 6.0}, {\"pca0\": 2.4298632001790526, \"pca1\": 0.7333654045793551, \"color\": 8.0}, {\"pca0\": -1.1320481121610766, \"pca1\": -0.7052686097034326, \"color\": 4.0}, {\"pca0\": 1.939589039025334, \"pca1\": 1.0871261251926694, \"color\": 8.0}, {\"pca0\": -0.9468367727709517, \"pca1\": -0.7116671192317952, \"color\": 4.0}, {\"pca0\": 1.1976782750522994, \"pca1\": 0.08255994845663091, \"color\": 6.0}, {\"pca0\": -0.6049902713535859, \"pca1\": 0.02523506903207969, \"color\": 6.0}, {\"pca0\": 0.18505576213146313, \"pca1\": -0.1875628789513134, \"color\": 6.0}, {\"pca0\": -2.523915950886002, \"pca1\": -0.38839055619415974, \"color\": 3.0}, {\"pca0\": 0.6228207916889668, \"pca1\": -0.48309301991033826, \"color\": 6.0}, {\"pca0\": -1.063745340860976, \"pca1\": -0.8576077167297886, \"color\": 4.0}, {\"pca0\": 0.15110615468920138, \"pca1\": -0.40320583871240273, \"color\": 6.0}, {\"pca0\": 1.5833389511080536, \"pca1\": 0.8595214845129817, \"color\": 8.0}, {\"pca0\": -1.0429685167067393, \"pca1\": -0.7415467807344489, \"color\": 4.0}, {\"pca0\": 0.6846471930144019, \"pca1\": -0.40964520240829627, \"color\": 6.0}, {\"pca0\": 2.6288707752058813, \"pca1\": 0.7940795899775519, \"color\": 8.0}, {\"pca0\": -1.313943473818394, \"pca1\": -0.2779130011755718, \"color\": 4.0}, {\"pca0\": 0.15797257002053824, \"pca1\": 0.11622494463244702, \"color\": 6.0}, {\"pca0\": 1.2319836176626522, \"pca1\": 0.03899179245724267, \"color\": 6.0}, {\"pca0\": -1.6077115691866906, \"pca1\": -0.4971444628273385, \"color\": 4.0}, {\"pca0\": -0.45501439682974404, \"pca1\": -0.8695641856729511, \"color\": 4.0}, {\"pca0\": -1.4274598631093849, \"pca1\": -0.5041456196456744, \"color\": 4.0}, {\"pca0\": 2.2637175178197895, \"pca1\": 1.3895807544022496, \"color\": 8.0}, {\"pca0\": -0.860066169359731, \"pca1\": -0.8614334405842947, \"color\": 4.0}, {\"pca0\": 0.32948531523377367, \"pca1\": 0.07539360449150978, \"color\": 6.0}, {\"pca0\": 0.9706454227675211, \"pca1\": -0.36990537604017454, \"color\": 6.0}, {\"pca0\": 2.5708482640849444, \"pca1\": 1.0456731881828965, \"color\": 8.0}, {\"pca0\": 0.08940193413425743, \"pca1\": 0.04182208962431444, \"color\": 6.0}, {\"pca0\": -0.9091793743987864, \"pca1\": -0.6739882167529839, \"color\": 4.0}, {\"pca0\": -1.7438371290206465, \"pca1\": -0.5323469205765862, \"color\": 4.0}, {\"pca0\": 3.6490992149592554, \"pca1\": 1.6670130614768301, \"color\": 12.0}, {\"pca0\": -0.9078599810917753, \"pca1\": -0.8197753595970875, \"color\": 4.0}, {\"pca0\": 2.7009493644993867, \"pca1\": 1.8277775462661798, \"color\": 12.0}, {\"pca0\": 5.047540808954748, \"pca1\": 0.8974850415752657, \"color\": 8.0}, {\"pca0\": 2.6539618763423753, \"pca1\": 0.4729413659570244, \"color\": 8.0}, {\"pca0\": 0.4626902448395527, \"pca1\": -0.29495637617914217, \"color\": 6.0}, {\"pca0\": 1.696710912304637, \"pca1\": 0.42131257565013547, \"color\": 8.0}, {\"pca0\": -2.052116912612735, \"pca1\": 0.1343243616212974, \"color\": 4.0}, {\"pca0\": 0.5254565940352527, \"pca1\": -0.04281112978546089, \"color\": 6.0}, {\"pca0\": -0.03062063018870689, \"pca1\": 0.2353542005987366, \"color\": 6.0}, {\"pca0\": 2.3714289039498544, \"pca1\": 0.5796254785486035, \"color\": 8.0}, {\"pca0\": -0.6264610112126584, \"pca1\": -0.9748017396898279, \"color\": 4.0}, {\"pca0\": -0.0033376310024970618, \"pca1\": -0.06834959285044827, \"color\": 6.0}, {\"pca0\": 2.4920086610503036, \"pca1\": 1.2756200803640787, \"color\": 8.0}, {\"pca0\": 0.27815106243630866, \"pca1\": -0.3366023122370283, \"color\": 6.0}, {\"pca0\": -1.5791347860499758, \"pca1\": -0.4280644478441, \"color\": 4.0}, {\"pca0\": -1.5458851678612555, \"pca1\": -0.4236966453252965, \"color\": 4.0}, {\"pca0\": 0.15464659575462214, \"pca1\": 0.050448159003342506, \"color\": 6.0}, {\"pca0\": 3.0950836809504385, \"pca1\": 0.7925279157948341, \"color\": 8.0}, {\"pca0\": -1.2489566433997028, \"pca1\": -0.8512091634231259, \"color\": 4.0}, {\"pca0\": -0.4308454675792703, \"pca1\": -0.8337953582063209, \"color\": 4.0}, {\"pca0\": 1.2545840878858519, \"pca1\": -0.24981096643613446, \"color\": 6.0}, {\"pca0\": 0.032510893348380775, \"pca1\": -0.8617121292570181, \"color\": 5.0}, {\"pca0\": -2.097632775628342, \"pca1\": -0.016077685071551315, \"color\": 4.0}, {\"pca0\": 0.6240004458625878, \"pca1\": -0.11038183869624688, \"color\": 6.0}, {\"pca0\": 0.3781389332711836, \"pca1\": 0.04925939822780214, \"color\": 6.0}, {\"pca0\": 0.32644894530562757, \"pca1\": -0.10352540274025832, \"color\": 6.0}, {\"pca0\": -0.41948439290027806, \"pca1\": -0.5199994474390751, \"color\": 5.0}, {\"pca0\": 0.10295660778906615, \"pca1\": -0.10233664196471792, \"color\": 6.0}, {\"pca0\": 1.4845049004267965, \"pca1\": -0.15237282850861633, \"color\": 6.0}, {\"pca0\": 1.2797774293946964, \"pca1\": -0.002666288529964539, \"color\": 6.0}, {\"pca0\": 0.45313811788464375, \"pca1\": 0.22228923949559376, \"color\": 6.0}, {\"pca0\": 2.3515741779788417, \"pca1\": 0.10665740350950573, \"color\": 8.0}, {\"pca0\": -0.4940722782733936, \"pca1\": 0.20310283427523723, \"color\": 6.0}, {\"pca0\": -2.3732030463386087, \"pca1\": 0.2994206848191032, \"color\": 4.0}, {\"pca0\": -0.044387208173695555, \"pca1\": -0.025736474357150547, \"color\": 6.0}, {\"pca0\": -8.869383795348286, \"pca1\": 3.1120324746042876, \"color\": 0.0}, {\"pca0\": -0.7327552500042217, \"pca1\": -0.9408146905755582, \"color\": 4.0}, {\"pca0\": 0.775029879134133, \"pca1\": -0.5109117575236816, \"color\": 6.0}, {\"pca0\": 2.584748299889854, \"pca1\": 1.3857918503954418, \"color\": 8.0}, {\"pca0\": 1.8980355381224534, \"pca1\": 0.8550044283151909, \"color\": 8.0}, {\"pca0\": -0.601053057442276, \"pca1\": -0.6002546972931929, \"color\": 4.0}, {\"pca0\": -0.9811421153813044, \"pca1\": -0.6680989632324069, \"color\": 4.0}, {\"pca0\": 0.08420088131393677, \"pca1\": -0.7089273282889578, \"color\": 5.0}, {\"pca0\": 1.4652565596682054, \"pca1\": 0.21767707641956094, \"color\": 6.0}, {\"pca0\": 3.441921162348286, \"pca1\": 1.6875158995757233, \"color\": 12.0}, {\"pca0\": -0.6090763658574552, \"pca1\": -0.7784487827223792, \"color\": 4.0}, {\"pca0\": -1.134142437234601, \"pca1\": -0.47889847244640044, \"color\": 4.0}, {\"pca0\": 3.917181570712436, \"pca1\": 2.076865179923737, \"color\": 12.0}, {\"pca0\": 1.0791757609552564, \"pca1\": 0.7891847352845829, \"color\": 8.0}, {\"pca0\": 0.24384571982595588, \"pca1\": -0.29303415623764006, \"color\": 6.0}, {\"pca0\": 0.685826847188023, \"pca1\": -0.036934021194204886, \"color\": 6.0}, {\"pca0\": -1.9042214664114134, \"pca1\": -0.4094633060340633, \"color\": 4.0}, {\"pca0\": -0.8808429935139676, \"pca1\": -0.9774943765796344, \"color\": 4.0}, {\"pca0\": -0.6712233877419694, \"pca1\": -0.32853086613072385, \"color\": 5.0}, {\"pca0\": 1.418636571285985, \"pca1\": 0.7552389680021955, \"color\": 8.0}, {\"pca0\": -0.6849614382721774, \"pca1\": -0.9824727715627655, \"color\": 4.0}, {\"pca0\": -1.5752815950107286, \"pca1\": -0.6868100821163884, \"color\": 4.0}, {\"pca0\": -0.22812995421694557, \"pca1\": -0.9510450549772009, \"color\": 4.0}, {\"pca0\": -0.12467958863247254, \"pca1\": 0.27096966096807756, \"color\": 6.0}, {\"pca0\": -0.7530280030211837, \"pca1\": -0.7821406360869207, \"color\": 4.0}, {\"pca0\": 3.7626156042502465, \"pca1\": 1.8932456799469326, \"color\": 12.0}, {\"pca0\": -1.4685094402805834, \"pca1\": -0.46153250115237654, \"color\": 4.0}, {\"pca0\": 1.712556260443352, \"pca1\": 0.6346608882524645, \"color\": 8.0}, {\"pca0\": -0.03764297361284979, \"pca1\": -0.024781436851059994, \"color\": 6.0}, {\"pca0\": 1.110444659934667, \"pca1\": 0.5666974844968259, \"color\": 8.0}, {\"pca0\": 0.5930872820512685, \"pca1\": -0.1471057036689676, \"color\": 6.0}, {\"pca0\": 1.2319836176626522, \"pca1\": 0.03899179245724267, \"color\": 6.0}, {\"pca0\": 1.4128323582982003, \"pca1\": 0.9329814469443446, \"color\": 8.0}, {\"pca0\": 0.18214149927101192, \"pca1\": 0.15199377209907713, \"color\": 6.0}, {\"pca0\": -1.8259362833630433, \"pca1\": -0.44712068358999063, \"color\": 4.0}, {\"pca0\": 2.9506539804425356, \"pca1\": 0.5295712572388097, \"color\": 8.0}, {\"pca0\": 1.4400632918621572, \"pca1\": -0.029467513930008356, \"color\": 6.0}, {\"pca0\": -2.201012788410852, \"pca1\": -0.3216473307859726, \"color\": 4.0}, {\"pca0\": -1.9908606208981967, \"pca1\": 0.20919989589246057, \"color\": 4.0}, {\"pca0\": 2.2569732832589433, \"pca1\": 1.3886257168961589, \"color\": 8.0}, {\"pca0\": -0.1508812540405437, \"pca1\": 0.008166544622543603, \"color\": 6.0}, {\"pca0\": -0.8917546060063624, \"pca1\": -0.6391743392358438, \"color\": 4.0}, {\"pca0\": 0.7510453536096952, \"pca1\": -0.04377831222087246, \"color\": 6.0}, {\"pca0\": 1.2545840878858519, \"pca1\": -0.24981096643613446, \"color\": 6.0}, {\"pca0\": -1.2645394744463168, \"pca1\": -0.626749144956575, \"color\": 4.0}, {\"pca0\": 1.5787671918381951, \"pca1\": 0.5671024118276001, \"color\": 8.0}, {\"pca0\": -8.95172685725213, \"pca1\": 3.1972262495788195, \"color\": 0.0}, {\"pca0\": -2.9878481267286197, \"pca1\": 0.618327061757707, \"color\": 4.0}, {\"pca0\": -1.2510510053246253, \"pca1\": -0.6248390699443939, \"color\": 4.0}, {\"pca0\": 0.8196159894959758, \"pca1\": 0.03062454278726011, \"color\": 6.0}, {\"pca0\": 1.542289373936855, \"pca1\": 0.9021346030062793, \"color\": 8.0}, {\"pca0\": 0.9555229583043864, \"pca1\": 0.6422891002804989, \"color\": 8.0}, {\"pca0\": 4.099897497717634, \"pca1\": 1.0118590222640573, \"color\": 8.0}, {\"pca0\": 0.11692299284933977, \"pca1\": 0.15883806312574472, \"color\": 6.0}, {\"pca0\": 1.8791804768899911, \"pca1\": 0.08028863429767995, \"color\": 6.0}, {\"pca0\": 1.015087178737753, \"pca1\": -0.49281051550558125, \"color\": 6.0}, {\"pca0\": -1.7269565179513195, \"pca1\": -0.6107289103148142, \"color\": 4.0}, {\"pca0\": -7.868901768018846, \"pca1\": 2.0430466721062523, \"color\": 0.0}, {\"pca0\": 2.9506539804425356, \"pca1\": 0.5295712572388097, \"color\": 8.0}, {\"pca0\": -0.6332714503066214, \"pca1\": -0.829687970594705, \"color\": 4.0}, {\"pca0\": -1.134142437234601, \"pca1\": -0.47889847244640044, \"color\": 4.0}, {\"pca0\": 1.6359688869438744, \"pca1\": 1.1910037143726817, \"color\": 8.0}, {\"pca0\": 0.2850174777676455, \"pca1\": 0.18282847110782147, \"color\": 6.0}, {\"pca0\": -0.5472499645320201, \"pca1\": -0.7050009652203372, \"color\": 4.0}, {\"pca0\": -1.0019189395355408, \"pca1\": -0.7841598992277466, \"color\": 4.0}, {\"pca0\": -1.2437626502920802, \"pca1\": -0.5106882089612352, \"color\": 4.0}, {\"pca0\": 0.35252591131037403, \"pca1\": -0.43994193617104504, \"color\": 6.0}, {\"pca0\": -1.5033188171768126, \"pca1\": -0.6926992918586652, \"color\": 4.0}, {\"pca0\": 0.2989278865905452, \"pca1\": -0.22054137624168862, \"color\": 6.0}, {\"pca0\": -1.0998370946242482, \"pca1\": -0.5224666284457887, \"color\": 4.0}, {\"pca0\": 2.0232275642870152, \"pca1\": 0.9849046201277941, \"color\": 8.0}, {\"pca0\": -0.33439803780981625, \"pca1\": -0.9015876454572357, \"color\": 4.0}, {\"pca0\": 0.0015976558342651016, \"pca1\": -0.8984360817863395, \"color\": 5.0}, {\"pca0\": 0.0891359225258553, \"pca1\": 0.18780686609095243, \"color\": 6.0}, {\"pca0\": 0.5104840565715968, \"pca1\": -0.3366144571663493, \"color\": 6.0}, {\"pca0\": -1.4482366872636214, \"pca1\": -0.620206555641014, \"color\": 4.0}, {\"pca0\": 1.3252214231128836, \"pca1\": 0.5470910947973187, \"color\": 8.0}, {\"pca0\": 0.1854114972995541, \"pca1\": -0.446773994711791, \"color\": 6.0}, {\"pca0\": -1.0221916925525028, \"pca1\": -0.6254858447391092, \"color\": 4.0}, {\"pca0\": -1.0689239308129288, \"pca1\": -0.48574276347306794, \"color\": 4.0}, {\"pca0\": -11.139798865747512, \"pca1\": 5.744534395691079, \"color\": 0.0}, {\"pca0\": 2.3274389087195124, \"pca1\": 0.9463248876865963, \"color\": 8.0}, {\"pca0\": -1.1663534547714294, \"pca1\": -0.6617004537040444, \"color\": 4.0}, {\"pca0\": 0.9706454227675211, \"pca1\": -0.36990537604017454, \"color\": 6.0}, {\"pca0\": 1.6348845846819982, \"pca1\": 0.347864845704694, \"color\": 8.0}, {\"pca0\": -0.6192388607132306, \"pca1\": -0.7145820721054558, \"color\": 4.0}, {\"pca0\": 0.14400618496026463, \"pca1\": -0.14494976045801566, \"color\": 6.0}, {\"pca0\": -1.1408866717954467, \"pca1\": -0.47985350995249093, \"color\": 4.0}, {\"pca0\": -1.5115798252509027, \"pca1\": -0.46726480132468484, \"color\": 4.0}, {\"pca0\": 1.0865187647783316, \"pca1\": 0.06776556757667647, \"color\": 6.0}, {\"pca0\": -1.584953156978553, \"pca1\": -0.12156133332477254, \"color\": 4.0}, {\"pca0\": 0.04787444102447684, \"pca1\": -0.17482942196066936, \"color\": 6.0}, {\"pca0\": -2.0397233039179885, \"pca1\": -0.7568091629673201, \"color\": 3.0}, {\"pca0\": 1.0865187647783316, \"pca1\": 0.06776556757667647, \"color\": 6.0}, {\"pca0\": -0.08543678534489405, \"pca1\": 0.01687664413614718, \"color\": 6.0}, {\"pca0\": 0.4669823221744263, \"pca1\": -0.03501180125270276, \"color\": 6.0}, {\"pca0\": -0.9146042156526211, \"pca1\": -0.8207303971031781, \"color\": 4.0}, {\"pca0\": 1.7642463221117042, \"pca1\": 0.7874457767771252, \"color\": 8.0}, {\"pca0\": 6.72750017167275, \"pca1\": 3.2615282613117245, \"color\": 16.0}, {\"pca0\": -0.9091793743987864, \"pca1\": -0.6739882167529839, \"color\": 4.0}, {\"pca0\": -2.5592510338690526, \"pca1\": 0.048067889959137, \"color\": 4.0}, {\"pca0\": 1.680914714051381, \"pca1\": 1.3428335653912522, \"color\": 8.0}, {\"pca0\": -2.542079972701164, \"pca1\": 0.3580902015921614, \"color\": 4.0}, {\"pca0\": -0.464795075021532, \"pca1\": -1.04943831796741, \"color\": 4.0}, {\"pca0\": -0.7754179716883324, \"pca1\": 0.40615533390651565, \"color\": 6.0}, {\"pca0\": 1.2742070181836742, \"pca1\": 0.4922824845593724, \"color\": 8.0}, {\"pca0\": 1.651909513291538, \"pca1\": 0.9339242519645138, \"color\": 8.0}, {\"pca0\": 3.5125066562405007, \"pca1\": 0.6883296304851122, \"color\": 8.0}, {\"pca0\": 0.6435976158432033, \"pca1\": -0.3670320839149985, \"color\": 6.0}, {\"pca0\": 0.9527295487675824, \"pca1\": 0.00020691603861093552, \"color\": 6.0}, {\"pca0\": 0.0015976558342651016, \"pca1\": -0.8984360817863395, \"color\": 5.0}, {\"pca0\": 0.926196484255933, \"pca1\": 0.36533664055151327, \"color\": 8.0}, {\"pca0\": -1.2229858261378437, \"pca1\": -0.3946272729658955, \"color\": 4.0}, {\"pca0\": -1.0803581241955207, \"pca1\": -0.5524838087353722, \"color\": 4.0}, {\"pca0\": -3.350509393080804, \"pca1\": 0.6350494481611514, \"color\": 4.0}, {\"pca0\": 2.244835830645433, \"pca1\": 0.7568163093024156, \"color\": 8.0}, {\"pca0\": 1.3775869941147865, \"pca1\": 0.7978520864954932, \"color\": 8.0}, {\"pca0\": -2.6112898873503783, \"pca1\": 0.5082880055477625, \"color\": 4.0}, {\"pca0\": -0.30103271677252474, \"pca1\": -1.1238533179048638, \"color\": 4.0}, {\"pca0\": 1.7071898157381733, \"pca1\": -0.13814465563966435, \"color\": 6.0}, {\"pca0\": -1.8226503952829498, \"pca1\": -0.2198047747322772, \"color\": 4.0}, {\"pca0\": -0.0033376310024970618, \"pca1\": -0.06834959285044827, \"color\": 6.0}, {\"pca0\": 0.33962172859365275, \"pca1\": -0.003943378974508659, \"color\": 6.0}, {\"pca0\": -1.973280099325805, \"pca1\": -0.37052051598242325, \"color\": 4.0}, {\"pca0\": 0.3399774637617437, \"pca1\": -0.2631544947349863, \"color\": 6.0}, {\"pca0\": 0.20279614265475737, \"pca1\": -0.2504210377443423, \"color\": 6.0}, {\"pca0\": 0.010428946982491602, \"pca1\": 0.1927410821054389, \"color\": 6.0}, {\"pca0\": -1.1387923467219225, \"pca1\": -0.7062236472095232, \"color\": 4.0}, {\"pca0\": 0.2848952969971544, \"pca1\": -0.33564727473093775, \"color\": 6.0}, {\"pca0\": 1.3405794184617608, \"pca1\": -0.14059432146746229, \"color\": 6.0}, {\"pca0\": 0.441913420685316, \"pca1\": -0.4110173121744819, \"color\": 6.0}, {\"pca0\": 1.208988511762002, \"pca1\": 0.4991267755860399, \"color\": 8.0}, {\"pca0\": 0.4602380876135806, \"pca1\": -0.035966838758793314, \"color\": 6.0}, {\"pca0\": -1.1320481121610766, \"pca1\": -0.7052686097034326, \"color\": 4.0}, {\"pca0\": 1.2010703064457404, \"pca1\": 0.002267752371320883, \"color\": 6.0}, {\"pca0\": 1.6417732473372515, \"pca1\": 1.0132614105437334, \"color\": 8.0}, {\"pca0\": -10.502750520325167, \"pca1\": 5.059924311203397, \"color\": 0.0}, {\"pca0\": 1.0348287031099794, \"pca1\": -0.0850193209479845, \"color\": 6.0}, {\"pca0\": 1.5377176146669966, \"pca1\": 0.6097155303208979, \"color\": 8.0}, {\"pca0\": 1.4966680374957981, \"pca1\": 0.6523286488141956, \"color\": 8.0}, {\"pca0\": 1.4878571035942012, \"pca1\": -0.07112559491721555, \"color\": 6.0}, {\"pca0\": 2.1985645240796443, \"pca1\": 1.4077776854812747, \"color\": 10.0}, {\"pca0\": -0.3202951322658606, \"pca1\": 0.12996327948457054, \"color\": 6.0}, {\"pca0\": 0.09906043155555438, \"pca1\": -0.2967795239199855, \"color\": 6.0}, {\"pca0\": -0.7847112495781798, \"pca1\": -0.9476147150769807, \"color\": 4.0}, {\"pca0\": -0.8151204159550208, \"pca1\": -0.7096036771223247, \"color\": 4.0}, {\"pca0\": 2.2874136701038883, \"pca1\": 1.2003137690628332, \"color\": 8.0}, {\"pca0\": -1.9080806695578272, \"pca1\": 0.009150080388130212, \"color\": 4.0}, {\"pca0\": -0.0033376310024970618, \"pca1\": -0.06834959285044827, \"color\": 6.0}, {\"pca0\": 0.24384571982595588, \"pca1\": -0.29303415623764006, \"color\": 6.0}, {\"pca0\": 0.16313389574203513, \"pca1\": 0.7625154866995478, \"color\": 6.0}, {\"pca0\": -1.1214077013667192, \"pca1\": -0.5098706902420744, \"color\": 4.0}, {\"pca0\": -2.0251659635085493, \"pca1\": 0.2527680518918489, \"color\": 4.0}, {\"pca0\": 1.460190219594458, \"pca1\": 0.9873608399928748, \"color\": 8.0}, {\"pca0\": 1.5787671918381951, \"pca1\": 0.5671024118276001, \"color\": 8.0}, {\"pca0\": -1.46354716002734, \"pca1\": -0.6874634616896728, \"color\": 4.0}, {\"pca0\": 0.2371014852651101, \"pca1\": -0.29398919374373056, \"color\": 6.0}, {\"pca0\": -0.8361753121211564, \"pca1\": -1.0848451692830703, \"color\": 4.0}, {\"pca0\": -10.249464915175682, \"pca1\": 4.8052330997617645, \"color\": 0.0}, {\"pca0\": -0.9400925382101059, \"pca1\": -0.7107120817257047, \"color\": 4.0}, {\"pca0\": 0.2989278865905452, \"pca1\": -0.22054137624168862, \"color\": 6.0}, {\"pca0\": -1.3105512950193605, \"pca1\": -0.3582050221476808, \"color\": 4.0}, {\"pca0\": -1.0086631740963867, \"pca1\": -0.7851149367338371, \"color\": 4.0}, {\"pca0\": 3.275841535435914, \"pca1\": 0.5899363674949031, \"color\": 8.0}, {\"pca0\": -0.30544722050273326, \"pca1\": -0.17545295535426114, \"color\": 6.0}, {\"pca0\": 0.8368562804595681, \"pca1\": -0.43746394002163946, \"color\": 6.0}, {\"pca0\": -0.8540972076341972, \"pca1\": -0.6014954367570324, \"color\": 4.0}, {\"pca0\": -2.490014921883102, \"pca1\": 0.6242206384739417, \"color\": 4.0}, {\"pca0\": -0.6265948287833099, \"pca1\": -0.10316589575945884, \"color\": 6.0}, {\"pca0\": -0.9696863824172104, \"pca1\": -0.8932231770991295, \"color\": 4.0}, {\"pca0\": 0.9527295487675824, \"pca1\": 0.00020691603861093552, \"color\": 6.0}, {\"pca0\": -0.5761714326157906, \"pca1\": 0.2883290712618327, \"color\": 6.0}, {\"pca0\": -1.2349240906577101, \"pca1\": -0.7361033087121769, \"color\": 4.0}, {\"pca0\": -1.61251426502806, \"pca1\": -0.07703813981929371, \"color\": 4.0}, {\"pca0\": 0.08217978363482957, \"pca1\": -0.21839757796005765, \"color\": 6.0}, {\"pca0\": 2.536131283771923, \"pca1\": 0.6839079950593898, \"color\": 8.0}, {\"pca0\": -0.23487418877779132, \"pca1\": -0.9520000924832915, \"color\": 4.0}, {\"pca0\": 0.15797257002053824, \"pca1\": 0.11622494463244702, \"color\": 6.0}, {\"pca0\": 0.21305473678512757, \"pca1\": 0.18871772462839845, \"color\": 6.0}, {\"pca0\": -0.6844573671349028, \"pca1\": -0.7077377810787883, \"color\": 4.0}, {\"pca0\": -0.31355089770501476, \"pca1\": 0.1309183169906611, \"color\": 6.0}, {\"pca0\": -0.780815073344668, \"pca1\": -0.7531718331217131, \"color\": 4.0}, {\"pca0\": 0.06190703061786766, \"pca1\": -0.0597235234714202, \"color\": 6.0}, {\"pca0\": -0.010559781501924938, \"pca1\": -0.3285692604348204, \"color\": 6.0}, {\"pca0\": -1.4274598631093849, \"pca1\": -0.5041456196456744, \"color\": 4.0}, {\"pca0\": 2.4095380630619094, \"pca1\": 0.8610986507000008, \"color\": 8.0}, {\"pca0\": 2.5535158554243305, \"pca1\": 0.880260864470238, \"color\": 8.0}, {\"pca0\": -0.06516403232793212, \"pca1\": -0.14179741035249027, \"color\": 6.0}, {\"pca0\": 2.3163468108880614, \"pca1\": 0.5071327861092527, \"color\": 8.0}, {\"pca0\": -0.6301738105707709, \"pca1\": -0.3711439846240216, \"color\": 5.0}, {\"pca0\": 0.46943447940039834, \"pca1\": -0.2940013386730516, \"color\": 6.0}, {\"pca0\": -0.9967033699950181, \"pca1\": -0.7355041601165826, \"color\": 4.0}, {\"pca0\": -9.144314350596813, \"pca1\": 3.460512798676041, \"color\": 0.0}, {\"pca0\": -0.341598687368832, \"pca1\": 0.27152967016589946, \"color\": 6.0}, {\"pca0\": 0.07356047051957929, \"pca1\": -0.9043252477503159, \"color\": 5.0}, {\"pca0\": -8.794028875566735, \"pca1\": 3.0258512001116014, \"color\": 0.0}, {\"pca0\": 1.3405794184617608, \"pca1\": -0.14059432146746229, \"color\": 6.0}, {\"pca0\": -1.0086631740963867, \"pca1\": -0.7851149367338371, \"color\": 4.0}, {\"pca0\": -0.9078599810917753, \"pca1\": -0.8197753595970875, \"color\": 4.0}, {\"pca0\": 0.46943447940039834, \"pca1\": -0.2940013386730516, \"color\": 6.0}, {\"pca0\": 1.4811128690333557, \"pca1\": -0.0720806324233061, \"color\": 6.0}, {\"pca0\": 2.9714308782995684, \"pca1\": 0.6456322807907501, \"color\": 8.0}, {\"pca0\": 1.9840016331847803, \"pca1\": 0.6226540437323751, \"color\": 8.0}, {\"pca0\": -1.7230603417178076, \"pca1\": -0.4162860283595466, \"color\": 4.0}, {\"pca0\": -1.4656183967589849, \"pca1\": -0.2018318293739976, \"color\": 4.0}, {\"pca0\": 2.6597736476840717, \"pca1\": 1.249814262476106, \"color\": 8.0}, {\"pca0\": 0.5452934703192241, \"pca1\": -0.10544762268176046, \"color\": 6.0}, {\"pca0\": 0.9807818361274001, \"pca1\": -0.44924235950619296, \"color\": 6.0}, {\"pca0\": -2.0075854419361576, \"pca1\": -0.3269523599830349, \"color\": 4.0}, {\"pca0\": 2.587821198034683, \"pca1\": 0.8366927084708496, \"color\": 8.0}, {\"pca0\": 1.4966680374957981, \"pca1\": 0.6523286488141956, \"color\": 8.0}, {\"pca0\": 1.1889537963559187, \"pca1\": -0.6483001996455625, \"color\": 6.0}, {\"pca0\": 3.8559840712149267, \"pca1\": 0.6377757312837801, \"color\": 8.0}, {\"pca0\": 1.418636571285985, \"pca1\": 0.7552389680021955, \"color\": 8.0}, {\"pca0\": 0.46943447940039834, \"pca1\": -0.2940013386730516, \"color\": 6.0}, {\"pca0\": 1.5730581833565631, \"pca1\": 0.274417028202652, \"color\": 8.0}, {\"pca0\": 1.0667771667033088, \"pca1\": -0.34002571453752073, \"color\": 6.0}, {\"pca0\": -2.742822481106847, \"pca1\": -0.761513704248936, \"color\": 4.0}, {\"pca0\": -2.2345303797877034, \"pca1\": -0.9268508442094738, \"color\": 3.0}, {\"pca0\": -1.0907623284387837, \"pca1\": -0.6998886997472417, \"color\": 4.0}, {\"pca0\": -1.0429685167067393, \"pca1\": -0.7415467807344489, \"color\": 4.0}, {\"pca0\": -1.869956209986883, \"pca1\": -0.29149233880484265, \"color\": 4.0}, {\"pca0\": -6.749383461027291, \"pca1\": 0.7487745613326094, \"color\": 0.0}, {\"pca0\": 1.4894197317976776, \"pca1\": 0.3766386208241278, \"color\": 8.0}, {\"pca0\": 0.1304515113054559, \"pca1\": -0.0007910288689832878, \"color\": 6.0}, {\"pca0\": 1.0791757609552564, \"pca1\": 0.7891847352845829, \"color\": 8.0}, {\"pca0\": 1.7004455811773276, \"pca1\": -0.13909969314575496, \"color\": 6.0}, {\"pca0\": -1.063745340860976, \"pca1\": -0.8576077167297886, \"color\": 4.0}, {\"pca0\": 2.6713465954003746, \"pca1\": 0.6692944104810736, \"color\": 8.0}, {\"pca0\": 0.2505899543868017, \"pca1\": -0.29207911873154946, \"color\": 6.0}, {\"pca0\": -1.4274598631093849, \"pca1\": -0.5041456196456744, \"color\": 4.0}, {\"pca0\": -1.652657322591401, \"pca1\": -0.6489742262893083, \"color\": 4.0}, {\"pca0\": 3.033197985248522, \"pca1\": 1.0207805822218228, \"color\": 10.0}, {\"pca0\": -0.6124946261523848, \"pca1\": -0.7136270345993653, \"color\": 4.0}, {\"pca0\": -1.0772338099826675, \"pca1\": -0.8595177917419697, \"color\": 4.0}, {\"pca0\": 4.088552535916186, \"pca1\": 0.37691799587615005, \"color\": 8.0}, {\"pca0\": 0.02757553280882237, \"pca1\": -0.03162572787772755, \"color\": 6.0}, {\"pca0\": -0.21741915376922705, \"pca1\": 0.1607979784933148, \"color\": 6.0}, {\"pca0\": 1.7860583723451544, \"pca1\": 0.6117763666536075, \"color\": 8.0}, {\"pca0\": -1.063745340860976, \"pca1\": -0.8576077167297886, \"color\": 4.0}, {\"pca0\": -0.10983167686934522, \"pca1\": -0.03444657387075412, \"color\": 6.0}, {\"pca0\": 0.0276963861324698, \"pca1\": -1.013264563170006, \"color\": 4.0}, {\"pca0\": 0.05147852415369009, \"pca1\": 0.15012796361214115, \"color\": 6.0}, {\"pca0\": 0.14400618496026463, \"pca1\": -0.14494976045801566, \"color\": 6.0}, {\"pca0\": -1.1255717053350132, \"pca1\": -0.9310554904535304, \"color\": 4.0}, {\"pca0\": 2.2515800652062787, \"pca1\": 0.7577713468085062, \"color\": 8.0}, {\"pca0\": -1.4274598631093849, \"pca1\": -0.5041456196456744, \"color\": 4.0}, {\"pca0\": 0.5254565940352527, \"pca1\": -0.04281112978546089, \"color\": 6.0}, {\"pca0\": -0.21893356243012776, \"pca1\": -1.2090795548914592, \"color\": 4.0}, {\"pca0\": 0.34636596315449847, \"pca1\": -0.002988341468418101, \"color\": 6.0}, {\"pca0\": -0.9260599486167151, \"pca1\": -0.5956061832364554, \"color\": 4.0}, {\"pca0\": -1.5082812329782112, \"pca1\": -0.8033610517995555, \"color\": 4.0}, {\"pca0\": -0.9764306169780561, \"pca1\": -0.8941782146052201, \"color\": 4.0}, {\"pca0\": -1.624592180256017, \"pca1\": -0.41876247308911047, \"color\": 4.0}, {\"pca0\": 0.10295660778906615, \"pca1\": -0.10233664196471792, \"color\": 6.0}, {\"pca0\": 0.10263215426794564, \"pca1\": 0.754463221939995, \"color\": 6.0}, {\"pca0\": -1.6762821682215732, \"pca1\": -0.5715472740571709, \"color\": 4.0}, {\"pca0\": -1.179841923893121, \"pca1\": -0.6636105287162255, \"color\": 4.0}, {\"pca0\": -1.173097689332275, \"pca1\": -0.6626554912101349, \"color\": 4.0}, {\"pca0\": 0.1917999966923089, \"pca1\": -0.18660784144522283, \"color\": 6.0}, {\"pca0\": -0.5351218554445921, \"pca1\": 0.24571595276853495, \"color\": 6.0}, {\"pca0\": -1.8216182777831396, \"pca1\": -0.21995459631498182, \"color\": 4.0}, {\"pca0\": 2.1183012359732887, \"pca1\": -0.07202788045281262, \"color\": 8.0}, {\"pca0\": 3.0641703697335267, \"pca1\": 0.7558038757089122, \"color\": 8.0}, {\"pca0\": 0.010217042652311634, \"pca1\": -0.21250832443948067, \"color\": 6.0}, {\"pca0\": 0.9594737833284283, \"pca1\": 0.0011619535447014804, \"color\": 6.0}, {\"pca0\": 1.455114389187325, \"pca1\": 0.42020677682351615, \"color\": 8.0}, {\"pca0\": 2.412478481121053, \"pca1\": 0.5370123600553057, \"color\": 8.0}, {\"pca0\": -1.8974772318505673, \"pca1\": -0.4085082685279728, \"color\": 4.0}, {\"pca0\": 0.48440701686405424, \"pca1\": -0.0001980112921631599, \"color\": 6.0}, {\"pca0\": 0.5254565940352527, \"pca1\": -0.04281112978546089, \"color\": 6.0}, {\"pca0\": -1.0151395440710522, \"pca1\": -0.5593280122054393, \"color\": 4.0}, {\"pca0\": -0.7327552500042217, \"pca1\": -0.9408146905755582, \"color\": 4.0}, {\"pca0\": 1.1930478854143385, \"pca1\": 0.7562062379942075, \"color\": 8.0}, {\"pca0\": 1.2319836176626522, \"pca1\": 0.03899179245724267, \"color\": 6.0}, {\"pca0\": 0.0691291811172955, \"pca1\": 0.2004961441129519, \"color\": 6.0}, {\"pca0\": 0.10295660778906615, \"pca1\": -0.10233664196471792, \"color\": 6.0}, {\"pca0\": -1.3055890516175153, \"pca1\": -0.5841360264632772, \"color\": 4.0}, {\"pca0\": -0.1750501832910174, \"pca1\": -0.027602282844086563, \"color\": 6.0}, {\"pca0\": 0.23722366603560124, \"pca1\": 0.22448655209502863, \"color\": 6.0}, {\"pca0\": -1.580694544757485, \"pca1\": -0.6548634360315851, \"color\": 4.0}, {\"pca0\": -1.241668325218556, \"pca1\": -0.7370583462182675, \"color\": 4.0}, {\"pca0\": -1.179841923893121, \"pca1\": -0.6636105287162255, \"color\": 4.0}, {\"pca0\": 0.7988391653417394, \"pca1\": -0.08543639320807962, \"color\": 6.0}, {\"pca0\": 1.295923790208176, \"pca1\": 0.7870408494463512, \"color\": 8.0}, {\"pca0\": -0.051609358673123426, \"pca1\": -0.28595614194152263, \"color\": 6.0}, {\"pca0\": 0.33962172859365275, \"pca1\": -0.003943378974508659, \"color\": 6.0}, {\"pca0\": -0.8361753121211564, \"pca1\": -1.0848451692830703, \"color\": 4.0}, {\"pca0\": -2.400587347285852, \"pca1\": -0.15596057091809026, \"color\": 4.0}, {\"pca0\": 0.034597876232965286, \"pca1\": 0.22850990957206901, \"color\": 6.0}, {\"pca0\": 3.1462695240759238, \"pca1\": 0.6705776387223168, \"color\": 8.0}, {\"pca0\": 1.3843312286756322, \"pca1\": 0.7988071240015837, \"color\": 8.0}, {\"pca0\": -1.4931824406683316, \"pca1\": -0.7720363191029839, \"color\": 4.0}, {\"pca0\": 0.4602380876135806, \"pca1\": -0.035966838758793314, \"color\": 6.0}, {\"pca0\": 2.829304593256005, \"pca1\": 0.7726217143725684, \"color\": 8.0}, {\"pca0\": -1.0086631740963867, \"pca1\": -0.7851149367338371, \"color\": 4.0}, {\"pca0\": 1.5377176146669966, \"pca1\": 0.6097155303208979, \"color\": 8.0}, {\"pca0\": -1.2624451125213945, \"pca1\": -0.853119238435307, \"color\": 4.0}, {\"pca0\": -0.010347877171744981, \"pca1\": 0.07668014611009916, \"color\": 6.0}, {\"pca0\": -1.063745340860976, \"pca1\": -0.8576077167297886, \"color\": 4.0}, {\"pca0\": 0.3356453370924454, \"pca1\": -0.3615599026545166, \"color\": 6.0}, {\"pca0\": -1.8090556722937166, \"pca1\": -0.5255026733282189, \"color\": 4.0}, {\"pca0\": 2.536131283771923, \"pca1\": 0.6839079950593898, \"color\": 8.0}, {\"pca0\": -1.504835590690057, \"pca1\": -0.46630976381859424, \"color\": 4.0}, {\"pca0\": -1.8467131075172798, \"pca1\": -0.5631816195853303, \"color\": 4.0}, {\"pca0\": 1.419576592859046, \"pca1\": 0.9339364844504352, \"color\": 8.0}, {\"pca0\": 0.5597218873111808, \"pca1\": 0.07515988122205997, \"color\": 6.0}, {\"pca0\": 0.19227791263089097, \"pca1\": 0.07265678863305874, \"color\": 6.0}, {\"pca0\": -1.584953156978553, \"pca1\": -0.12156133332477254, \"color\": 4.0}, {\"pca0\": 1.0015586602816369, \"pca1\": -0.3331814235108532, \"color\": 6.0}, {\"pca0\": -0.0033376310024970618, \"pca1\": -0.06834959285044827, \"color\": 6.0}, {\"pca0\": -0.12467958863247254, \"pca1\": 0.27096966096807756, \"color\": 6.0}, {\"pca0\": 0.037711946168701424, \"pca1\": -0.110962711343746, \"color\": 6.0}, {\"pca0\": 0.07225534830792671, \"pca1\": 0.26618889960748093, \"color\": 6.0}, {\"pca0\": 0.501287664784779, \"pca1\": -0.07857995725209103, \"color\": 6.0}, {\"pca0\": -1.5869347450324538, \"pca1\": -0.3810835268319988, \"color\": 4.0}, {\"pca0\": 0.46943447940039834, \"pca1\": -0.2940013386730516, \"color\": 6.0}, {\"pca0\": -0.46515081018962307, \"pca1\": -0.7902272022069327, \"color\": 4.0}, {\"pca0\": -1.6269285977820198, \"pca1\": -0.38640636685689284, \"color\": 4.0}, {\"pca0\": 3.1462695240759238, \"pca1\": 0.6705776387223168, \"color\": 8.0}, {\"pca0\": -0.7532940146295858, \"pca1\": -0.6361558596202828, \"color\": 4.0}, {\"pca0\": 0.041342110793811046, \"pca1\": 0.2294649470781596, \"color\": 6.0}, {\"pca0\": 1.6627880353995703, \"pca1\": -0.17677877073776727, \"color\": 6.0}, {\"pca0\": -0.42369784171122893, \"pca1\": 0.3567559071524949, \"color\": 6.0}, {\"pca0\": 2.009195048396421, \"pca1\": 0.8697988091951453, \"color\": 8.0}, {\"pca0\": -0.4926718689047053, \"pca1\": -0.9072431757083629, \"color\": 4.0}, {\"pca0\": 0.1304515113054559, \"pca1\": -0.0007910288689832878, \"color\": 6.0}, {\"pca0\": -1.9423668986630875, \"pca1\": -0.3337966072314022, \"color\": 4.0}, {\"pca0\": 2.612912299171177, \"pca1\": 0.515554484450322, \"color\": 8.0}, {\"pca0\": 0.27440322217198054, \"pca1\": 0.0029009120521589003, \"color\": 6.0}, {\"pca0\": -0.033454432156618724, \"pca1\": -0.9887361899419339, \"color\": 4.0}, {\"pca0\": 2.829304593256005, \"pca1\": 0.7726217143725684, \"color\": 8.0}, {\"pca0\": -0.6332714503066214, \"pca1\": -0.829687970594705, \"color\": 4.0}, {\"pca0\": 4.552250435302755, \"pca1\": 0.9277764958065645, \"color\": 8.0}, {\"pca0\": 0.058488770322938005, \"pca1\": 0.005098224651593722, \"color\": 6.0}, {\"pca0\": 0.7060996002049849, \"pca1\": -0.19560807568284236, \"color\": 6.0}, {\"pca0\": -1.3055890516175153, \"pca1\": -0.5841360264632772, \"color\": 4.0}, {\"pca0\": 2.025051210355979, \"pca1\": 0.5800409252390774, \"color\": 8.0}, {\"pca0\": 1.7575020875508582, \"pca1\": 0.7864907392710347, \"color\": 8.0}, {\"pca0\": -2.2060889165638353, \"pca1\": 0.3733202148490292, \"color\": 4.0}, {\"pca0\": 0.010428946982491602, \"pca1\": 0.1927410821054389, \"color\": 6.0}, {\"pca0\": 0.3607542879159803, \"pca1\": -0.1470935587396466, \"color\": 6.0}, {\"pca0\": -1.9525033120229662, \"pca1\": -0.2544596237653838, \"color\": 4.0}, {\"pca0\": 0.17152724367534697, \"pca1\": -0.027933786956585365, \"color\": 6.0}, {\"pca0\": 0.05801085438435588, \"pca1\": -0.2541664054266878, \"color\": 6.0}, {\"pca0\": 2.069041205586321, \"pca1\": 0.21334151610108473, \"color\": 8.0}, {\"pca0\": -1.063745340860976, \"pca1\": -0.8576077167297886, \"color\": 4.0}, {\"pca0\": 1.2548742130369774, \"pca1\": 0.829653967939649, \"color\": 8.0}, {\"pca0\": 0.6496581793455075, \"pca1\": 0.5322818535300193, \"color\": 8.0}, {\"pca0\": -1.991798738460725, \"pca1\": -0.09820244950600697, \"color\": 4.0}, {\"pca0\": 0.305672121151391, \"pca1\": -0.21958633873559807, \"color\": 6.0}, {\"pca0\": -6.810909648685286, \"pca1\": 0.7884901053963466, \"color\": 0.0}, {\"pca0\": -0.05478955943918055, \"pca1\": 0.19958537313210645, \"color\": 6.0}, {\"pca0\": -0.3373591570619847, \"pca1\": -0.5897554115765755, \"color\": 5.0}, {\"pca0\": 0.037711946168701424, \"pca1\": -0.110962711343746, \"color\": 6.0}, {\"pca0\": 0.5119280755791364, \"pca1\": 0.11681796220926713, \"color\": 6.0}, {\"pca0\": -1.173097689332275, \"pca1\": -0.6626554912101349, \"color\": 4.0}, {\"pca0\": -1.9974490654276766, \"pca1\": -0.4062893872273536, \"color\": 4.0}, {\"pca0\": 0.33962172859365275, \"pca1\": -0.003943378974508659, \"color\": 6.0}, {\"pca0\": 0.037711946168701424, \"pca1\": -0.110962711343746, \"color\": 6.0}, {\"pca0\": 2.887738889485203, \"pca1\": 0.9263616404033199, \"color\": 8.0}, {\"pca0\": -1.1717999093095623, \"pca1\": -0.5165774624818122, \"color\": 4.0}, {\"pca0\": -0.5351218554445921, \"pca1\": 0.24571595276853495, \"color\": 6.0}, {\"pca0\": -0.860066169359731, \"pca1\": -0.8614334405842947, \"color\": 4.0}, {\"pca0\": -0.718988672019233, \"pca1\": -0.6797240156196711, \"color\": 4.0}, {\"pca0\": 2.046361193755479, \"pca1\": 1.3124037061566816, \"color\": 8.0}, {\"pca0\": 0.6032236217083513, \"pca1\": -0.22644277469158663, \"color\": 6.0}, {\"pca0\": -1.2349240906577101, \"pca1\": -0.7361033087121769, \"color\": 4.0}, {\"pca0\": 0.8196159894959758, \"pca1\": 0.03062454278726011, \"color\": 6.0}, {\"pca0\": -1.0083953095102065, \"pca1\": -0.5583729746993487, \"color\": 4.0}, {\"pca0\": 0.8711616230699207, \"pca1\": -0.48103209602102776, \"color\": 6.0}, {\"pca0\": -1.5095590174517817, \"pca1\": -0.41891938265907885, \"color\": 4.0}, {\"pca0\": -0.35553059713214374, \"pca1\": -0.7584374656920978, \"color\": 4.0}, {\"pca0\": -0.6332714503066214, \"pca1\": -0.829687970594705, \"color\": 4.0}, {\"pca0\": -1.3055890516175153, \"pca1\": -0.5841360264632772, \"color\": 4.0}, {\"pca0\": 2.7022597592116937, \"pca1\": 0.7060182754537945, \"color\": 8.0}, {\"pca0\": 2.6288707752058813, \"pca1\": 0.7940795899775519, \"color\": 8.0}, {\"pca0\": -0.770678659984789, \"pca1\": -0.8325088165877316, \"color\": 4.0}, {\"pca0\": 1.2545840878858519, \"pca1\": -0.24981096643613446, \"color\": 6.0}, {\"pca0\": 0.9420891379732249, \"pca1\": -0.19519100342274726, \"color\": 6.0}, {\"pca0\": -0.9951747049746951, \"pca1\": -0.783204861721656, \"color\": 4.0}, {\"pca0\": 0.441913420685316, \"pca1\": -0.4110173121744819, \"color\": 6.0}, {\"pca0\": 0.66437443999744, \"pca1\": -0.2509711479196588, \"color\": 6.0}, {\"pca0\": -1.108217363447348, \"pca1\": -1.8126867707238479, \"color\": 2.0}, {\"pca0\": 2.053105428316325, \"pca1\": 1.3133587436627718, \"color\": 8.0}, {\"pca0\": 1.4302170773561997, \"pca1\": 1.1293344914683943, \"color\": 8.0}, {\"pca0\": -1.173097689332275, \"pca1\": -0.6626554912101349, \"color\": 4.0}, {\"pca0\": -0.6917056728330232, \"pca1\": -0.983427809068856, \"color\": 4.0}, {\"pca0\": -1.0972386984134492, \"pca1\": -0.4741017752188438, \"color\": 4.0}, {\"pca0\": -1.48928626443482, \"pca1\": -0.5775934371477164, \"color\": 4.0}, {\"pca0\": 2.5487825560841983, \"pca1\": 0.05216066236703812, \"color\": 8.0}, {\"pca0\": 1.3714925822730801, \"pca1\": -0.10387045649474155, \"color\": 6.0}, {\"pca0\": 1.428097327906721, \"pca1\": 0.5779257062494624, \"color\": 8.0}, {\"pca0\": 0.15500233092271312, \"pca1\": -0.20876295675713516, \"color\": 6.0}, {\"pca0\": -0.3034848739984968, \"pca1\": -0.864863780484515, \"color\": 4.0}, {\"pca0\": -1.1099735079841273, \"pca1\": -0.4431296449797702, \"color\": 4.0}, {\"pca0\": -0.5781892835420321, \"pca1\": -0.7571951905987535, \"color\": 4.0}, {\"pca0\": -2.614333200633642, \"pca1\": -0.024424890036814504, \"color\": 4.0}, {\"pca0\": -0.044387208173695555, \"pca1\": -0.025736474357150547, \"color\": 6.0}, {\"pca0\": 1.2606784260247619, \"pca1\": 0.6519114889974997, \"color\": 8.0}, {\"pca0\": 1.1587425428039857, \"pca1\": 0.7997743939935958, \"color\": 8.0}, {\"pca0\": 0.032510893348380775, \"pca1\": -0.8617121292570181, \"color\": 5.0}, {\"pca0\": -2.040280311280459, \"pca1\": 0.251101086488415, \"color\": 4.0}, {\"pca0\": 1.8159363837800564, \"pca1\": 0.9402306653017863, \"color\": 8.0}, {\"pca0\": 2.942820982546996, \"pca1\": 0.998854332842671, \"color\": 8.0}, {\"pca0\": 2.412478481121053, \"pca1\": 0.5370123600553057, \"color\": 8.0}, {\"pca0\": -0.08363001146127405, \"pca1\": 0.22835654247477982, \"color\": 6.0}, {\"pca0\": -1.3903818978905218, \"pca1\": 0.664483155249597, \"color\": 6.0}, {\"pca0\": 1.455114389187325, \"pca1\": 0.42020677682351615, \"color\": 8.0}, {\"pca0\": -1.8018335217942885, \"pca1\": -0.2652830057438466, \"color\": 4.0}, {\"pca0\": 1.2730331948338507, \"pca1\": -0.003621326036055028, \"color\": 6.0}, {\"pca0\": -1.5303358416060184, \"pca1\": -0.5349803186544186, \"color\": 4.0}, {\"pca0\": 1.2797774293946964, \"pca1\": -0.002666288529964539, \"color\": 6.0}, {\"pca0\": 2.991703557613734, \"pca1\": 0.486958138745512, \"color\": 8.0}, {\"pca0\": -0.9468367727709517, \"pca1\": -0.7116671192317952, \"color\": 4.0}, {\"pca0\": -0.06959742186788322, \"pca1\": 0.343462440964029, \"color\": 6.0}, {\"pca0\": -1.4207156285485392, \"pca1\": -0.5031905821395837, \"color\": 4.0}, {\"pca0\": 0.441913420685316, \"pca1\": -0.4110173121744819, \"color\": 6.0}, {\"pca0\": 2.8152720773654103, \"pca1\": 0.6575159034399197, \"color\": 8.0}, {\"pca0\": 3.5125066562405007, \"pca1\": 0.6883296304851122, \"color\": 8.0}, {\"pca0\": 1.9340245323409058, \"pca1\": 1.4588823564572708, \"color\": 8.0}, {\"pca0\": 0.18214149927101192, \"pca1\": 0.15199377209907713, \"color\": 6.0}, {\"pca0\": -1.5869347450324538, \"pca1\": -0.3810835268319988, \"color\": 4.0}, {\"pca0\": 0.45349385305273476, \"pca1\": -0.036921876264883864, \"color\": 6.0}, {\"pca0\": -1.4066830389551483, \"pca1\": -0.38808468365033455, \"color\": 4.0}, {\"pca0\": 0.13386977160038557, \"pca1\": -0.0656127769919972, \"color\": 6.0}, {\"pca0\": 1.4606261700302445, \"pca1\": 0.8913233659571376, \"color\": 8.0}, {\"pca0\": -0.4161189622810435, \"pca1\": 0.1652864130094961, \"color\": 6.0}, {\"pca0\": 0.6228207916889668, \"pca1\": -0.48309301991033826, \"color\": 6.0}, {\"pca0\": -0.15115936290384085, \"pca1\": -0.25101405532116244, \"color\": 6.0}, {\"pca0\": 0.6756904338281439, \"pca1\": 0.04240296227181357, \"color\": 6.0}, {\"pca0\": 2.829304593256005, \"pca1\": 0.7726217143725684, \"color\": 8.0}, {\"pca0\": -0.7603163580537287, \"pca1\": -0.8962914970700794, \"color\": 4.0}, {\"pca0\": -0.045256134324717916, \"pca1\": -0.6780804843508925, \"color\": 5.0}, {\"pca0\": 1.455114389187325, \"pca1\": 0.42020677682351615, \"color\": 8.0}, {\"pca0\": -1.0972386984134492, \"pca1\": -0.4741017752188438, \"color\": 4.0}, {\"pca0\": 1.1870377905551457, \"pca1\": -0.11283805856132775, \"color\": 6.0}, {\"pca0\": 0.07016829172054598, \"pca1\": -0.8240332267782069, \"color\": 5.0}, {\"pca0\": -0.46515081018962307, \"pca1\": -0.7902272022069327, \"color\": 4.0}, {\"pca0\": 2.4095380630619094, \"pca1\": 0.8610986507000008, \"color\": 8.0}, {\"pca0\": 1.3140827720050492, \"pca1\": -0.04623444452935277, \"color\": 6.0}, {\"pca0\": -0.9353810398068576, \"pca1\": -0.9367913330985178, \"color\": 4.0}, {\"pca0\": -1.7361963227901829, \"pca1\": -0.7375991072428615, \"color\": 4.0}, {\"pca0\": -0.5829156671766365, \"pca1\": 0.28737403375574216, \"color\": 6.0}, {\"pca0\": 0.8392131594765915, \"pca1\": -0.22602570243149153, \"color\": 6.0}, {\"pca0\": -1.8974772318505673, \"pca1\": -0.4085082685279728, \"color\": 4.0}, {\"pca0\": -0.35553059713214374, \"pca1\": -0.7584374656920978, \"color\": 4.0}, {\"pca0\": -1.0252759574309314, \"pca1\": -0.47999102873942073, \"color\": 4.0}, {\"pca0\": -1.2229858261378437, \"pca1\": -0.3946272729658955, \"color\": 4.0}, {\"pca0\": -1.6201843632211743, \"pca1\": -0.3854513293508023, \"color\": 4.0}, {\"pca0\": 0.33962172859365275, \"pca1\": -0.003943378974508659, \"color\": 6.0}, {\"pca0\": -1.2557008779605485, \"pca1\": -0.8521642009292164, \"color\": 4.0}, {\"pca0\": -0.40296867369609696, \"pca1\": -0.9759905004653683, \"color\": 4.0}, {\"pca0\": 3.1462695240759238, \"pca1\": 0.6705776387223168, \"color\": 8.0}, {\"pca0\": -1.3024758124958233, \"pca1\": -0.3243483448289967, \"color\": 4.0}, {\"pca0\": 0.20966255798609426, \"pca1\": 0.2690097456005075, \"color\": 6.0}, {\"pca0\": 2.273925200982197, \"pca1\": 1.1984036940506522, \"color\": 8.0}, {\"pca0\": -1.4292418174169872, \"pca1\": -0.731031617689061, \"color\": 4.0}, {\"pca0\": 1.888934424544584, \"pca1\": 0.6426111532189525, \"color\": 8.0}, {\"pca0\": 1.7004455811773276, \"pca1\": -0.13909969314575496, \"color\": 6.0}, {\"pca0\": 1.4865316241359192, \"pca1\": 0.7316656322802139, \"color\": 8.0}, {\"pca0\": 1.7347509237876804, \"pca1\": -0.18266784914514317, \"color\": 6.0}, {\"pca0\": 2.298022860430142, \"pca1\": 1.3460125984028612, \"color\": 8.0}, {\"pca0\": -1.6679781749532183, \"pca1\": -0.3437932483635951, \"color\": 4.0}, {\"pca0\": 1.6096803556495147, \"pca1\": 0.6038262768003207, \"color\": 8.0}, {\"pca0\": 2.288825678470183, \"pca1\": 0.39011672505122186, \"color\": 8.0}, {\"pca0\": -0.45042430489139623, \"pca1\": 0.20885456900888438, \"color\": 6.0}, {\"pca0\": 3.2013517645433094, \"pca1\": 0.7430705062748687, \"color\": 8.0}, {\"pca0\": -0.905548354318538, \"pca1\": -0.5617128342430715, \"color\": 4.0}, {\"pca0\": -2.0397233039179885, \"pca1\": -0.7568091629673201, \"color\": 3.0}, {\"pca0\": 0.041342110793811046, \"pca1\": 0.2294649470781596, \"color\": 6.0}, {\"pca0\": 0.0995383474941365, \"pca1\": -0.037514893841704, \"color\": 6.0}, {\"pca0\": -0.18260981372439583, \"pca1\": 0.3919647254213032, \"color\": 6.0}, {\"pca0\": -0.0033376310024970618, \"pca1\": -0.06834959285044827, \"color\": 6.0}, {\"pca0\": 1.6593960040061293, \"pca1\": -0.09648657465245726, \"color\": 6.0}, {\"pca0\": -1.2489566433997028, \"pca1\": -0.8512091634231259, \"color\": 4.0}, {\"pca0\": 0.23332748980208945, \"pca1\": 0.03004367013976101, \"color\": 6.0}, {\"pca0\": 0.46943447940039834, \"pca1\": -0.2940013386730516, \"color\": 6.0}, {\"pca0\": -0.23152213301597888, \"pca1\": -0.870753034005092, \"color\": 4.0}, {\"pca0\": -1.9042214664114134, \"pca1\": -0.4094633060340633, \"color\": 4.0}, {\"pca0\": -0.0033376310024970618, \"pca1\": -0.06834959285044827, \"color\": 6.0}, {\"pca0\": 2.028443389155012, \"pca1\": 0.49974890426696833, \"color\": 8.0}, {\"pca0\": -9.49401565582077, \"pca1\": 3.8468310537106394, \"color\": 0.0}, {\"pca0\": 2.4298632001790526, \"pca1\": 0.7333654045793551, \"color\": 8.0}, {\"pca0\": -1.5251083437070188, \"pca1\": -0.3076357093299568, \"color\": 4.0}, {\"pca0\": -0.6434077899637043, \"pca1\": -0.750350899572086, \"color\": 4.0}, {\"pca0\": -1.5100630517376583, \"pca1\": -0.6936543293647558, \"color\": 4.0}, {\"pca0\": -1.134142437234601, \"pca1\": -0.47889847244640044, \"color\": 4.0}, {\"pca0\": 1.570048543965612, \"pca1\": -0.2869503656559294, \"color\": 6.0}, {\"pca0\": 1.5490336084977008, \"pca1\": 0.9030896405123701, \"color\": 8.0}, {\"pca0\": 3.690148792130454, \"pca1\": 1.6243999429835325, \"color\": 12.0}, {\"pca0\": -1.3980634359599116, \"pca1\": -0.24103218285458247, \"color\": 4.0}, {\"pca0\": 0.6228207916889668, \"pca1\": -0.48309301991033826, \"color\": 6.0}, {\"pca0\": 0.3502621393880102, \"pca1\": 0.19145454048684948, \"color\": 6.0}, {\"pca0\": -1.5342320178395301, \"pca1\": -0.7294232006096861, \"color\": 4.0}, {\"pca0\": 2.6196565337320226, \"pca1\": 0.5165095219564126, \"color\": 8.0}, {\"pca0\": 1.1976782750522994, \"pca1\": 0.08255994845663091, \"color\": 6.0}, {\"pca0\": -1.000964972982351, \"pca1\": 0.18377365230719417, \"color\": 6.0}, {\"pca0\": -0.0893329615784058, \"pca1\": -0.17756623781912045, \"color\": 6.0}, {\"pca0\": -0.009843806034470281, \"pca1\": 0.3514151365940764, \"color\": 6.0}, {\"pca0\": -1.7230603417178076, \"pca1\": -0.4162860283595466, \"color\": 4.0}, {\"pca0\": 2.3274389087195124, \"pca1\": 0.9463248876865963, \"color\": 8.0}, {\"pca0\": 0.0034066035583487047, \"pca1\": -0.06739455534435772, \"color\": 6.0}, {\"pca0\": 0.4602380876135806, \"pca1\": -0.035966838758793314, \"color\": 6.0}, {\"pca0\": 1.0015586602816369, \"pca1\": -0.3331814235108532, \"color\": 6.0}, {\"pca0\": -1.221395535350196, \"pca1\": -0.8957323569286048, \"color\": 4.0}, {\"pca0\": 2.7143116939769616, \"pca1\": 1.2091112189949893, \"color\": 8.0}, {\"pca0\": 1.418636571285985, \"pca1\": 0.7552389680021955, \"color\": 8.0}, {\"pca0\": 1.522162446204554, \"pca1\": -0.11469375091660379, \"color\": 6.0}, {\"pca0\": 0.6228207916889668, \"pca1\": -0.48309301991033826, \"color\": 6.0}, {\"pca0\": 1.2062862050165328, \"pca1\": -0.48288787593290444, \"color\": 6.0}, {\"pca0\": 1.2488641181777846, \"pca1\": -0.039390328615886316, \"color\": 6.0}, {\"pca0\": 0.1647830091145012, \"pca1\": -0.02888882446267593, \"color\": 6.0}, {\"pca0\": -0.9842263802597329, \"pca1\": -0.5226041472327185, \"color\": 4.0}, {\"pca0\": -9.412500671284496, \"pca1\": 3.809948160253885, \"color\": 0.0}, {\"pca0\": 0.20966255798609426, \"pca1\": 0.2690097456005075, \"color\": 6.0}, {\"pca0\": 2.226999350847544, \"pca1\": 0.3166689951057804, \"color\": 8.0}, {\"pca0\": -0.8540972076341972, \"pca1\": -0.6014954367570324, \"color\": 4.0}, {\"pca0\": -0.1295861023896104, \"pca1\": -1.018615763887987, \"color\": 4.0}, {\"pca0\": 0.9010395608020265, \"pca1\": -0.15257788492944957, \"color\": 6.0}, {\"pca0\": -0.6810652620386657, \"pca1\": -0.7880298896074978, \"color\": 4.0}, {\"pca0\": -2.5458037319545164, \"pca1\": -0.3912461952872873, \"color\": 3.0}, {\"pca0\": -0.8078320609224758, \"pca1\": -0.5954528161391661, \"color\": 4.0}, {\"pca0\": 0.07878767853859246, \"pca1\": -0.1381054694313481, \"color\": 6.0}, {\"pca0\": 0.5037398220107511, \"pca1\": -0.3375694946724399, \"color\": 6.0}, {\"pca0\": 1.7586816680216835, \"pca1\": 1.1592018329285259, \"color\": 8.0}, {\"pca0\": 2.587821198034683, \"pca1\": 0.8366927084708496, \"color\": 8.0}, {\"pca0\": 3.5125066562405007, \"pca1\": 0.6883296304851122, \"color\": 8.0}, {\"pca0\": -1.221395535350196, \"pca1\": -0.8957323569286048, \"color\": 4.0}, {\"pca0\": -0.06779513277625497, \"pca1\": 0.1156072802474749, \"color\": 6.0}, {\"pca0\": 2.4095380630619094, \"pca1\": 0.8610986507000008, \"color\": 8.0}, {\"pca0\": 0.2371014852651101, \"pca1\": -0.29398919374373056, \"color\": 6.0}, {\"pca0\": 1.295923790208176, \"pca1\": 0.7870408494463512, \"color\": 8.0}, {\"pca0\": 2.4095380630619094, \"pca1\": 0.8610986507000008, \"color\": 8.0}, {\"pca0\": -0.9146042156526211, \"pca1\": -0.8207303971031781, \"color\": 4.0}, {\"pca0\": -7.649093428869333, \"pca1\": 1.7836127350454567, \"color\": 0.0}, {\"pca0\": -1.6352325910503749, \"pca1\": -0.6141603925504686, \"color\": 4.0}, {\"pca0\": -1.2645394744463168, \"pca1\": -0.626749144956575, \"color\": 4.0}, {\"pca0\": -9.446806013894848, \"pca1\": 3.8535163162532733, \"color\": 0.0}, {\"pca0\": -0.9078599810917753, \"pca1\": -0.8197753595970875, \"color\": 4.0}, {\"pca0\": -0.5578903753263776, \"pca1\": -0.9003988846816954, \"color\": 4.0}, {\"pca0\": -1.9080806695578272, \"pca1\": 0.009150080388130212, \"color\": 4.0}, {\"pca0\": -0.42410123301842456, \"pca1\": -0.8328403207002304, \"color\": 4.0}, {\"pca0\": -1.3123332861783612, \"pca1\": -0.5850910639693679, \"color\": 4.0}, {\"pca0\": 0.9914222469217576, \"pca1\": -0.2538444400448347, \"color\": 6.0}, {\"pca0\": -1.7269565179513195, \"pca1\": -0.6107289103148142, \"color\": 4.0}, {\"pca0\": -0.46515081018962307, \"pca1\": -0.7902272022069327, \"color\": 4.0}, {\"pca0\": 0.49454343022393327, \"pca1\": -0.0795349947581816, \"color\": 6.0}, {\"pca0\": 1.9614012366643767, \"pca1\": 0.9114568901823527, \"color\": 8.0}, {\"pca0\": 2.612912299171177, \"pca1\": 0.515554484450322, \"color\": 8.0}, {\"pca0\": -1.2208915010643195, \"pca1\": -0.6209974102229278, \"color\": 4.0}, {\"pca0\": 1.8385489267647417, \"pca1\": -0.5087403767367578, \"color\": 6.0}, {\"pca0\": 1.506306136839404, \"pca1\": 0.1750639579262632, \"color\": 6.0}, {\"pca0\": -0.04828338440720731, \"pca1\": -0.2201793563124182, \"color\": 6.0}, {\"pca0\": -1.4274598631093849, \"pca1\": -0.5041456196456744, \"color\": 4.0}, {\"pca0\": -1.6284883564895292, \"pca1\": -0.613205355044378, \"color\": 4.0}, {\"pca0\": 1.7434695716602637, \"pca1\": 0.6713849283383864, \"color\": 8.0}, {\"pca0\": 1.3473236530226065, \"pca1\": -0.13963928396137176, \"color\": 6.0}, {\"pca0\": 0.9179201350199551, \"pca1\": -0.23095991844597796, \"color\": 6.0}, {\"pca0\": 2.7714417633074415, \"pca1\": 1.2435255432521408, \"color\": 10.0}, {\"pca0\": -0.9361963619765942, \"pca1\": -0.516269199770437, \"color\": 4.0}, {\"pca0\": 1.2730331948338507, \"pca1\": -0.003621326036055028, \"color\": 6.0}, {\"pca0\": -3.481984189485036, \"pca1\": 0.09079105826095725, \"color\": 3.0}, {\"pca0\": -0.22232574122916113, \"pca1\": -1.1287875339193503, \"color\": 4.0}, {\"pca0\": 1.2010703064457404, \"pca1\": 0.002267752371320883, \"color\": 6.0}, {\"pca0\": 0.29517997262342094, \"pca1\": 0.11896176049089806, \"color\": 6.0}, {\"pca0\": -1.0907623284387837, \"pca1\": -0.6998886997472417, \"color\": 4.0}, {\"pca0\": 0.441913420685316, \"pca1\": -0.4110173121744819, \"color\": 6.0}, {\"pca0\": -1.1255717053350132, \"pca1\": -0.9310554904535304, \"color\": 4.0}, {\"pca0\": -1.650171663400225, \"pca1\": -0.11471704229810498, \"color\": 4.0}, {\"pca0\": 0.6846471930144019, \"pca1\": -0.40964520240829627, \"color\": 6.0}, {\"pca0\": 2.4269227821199086, \"pca1\": 1.0574516952240505, \"color\": 8.0}, {\"pca0\": -0.4940722782733936, \"pca1\": 0.20310283427523723, \"color\": 6.0}, {\"pca0\": -1.3466386287887138, \"pca1\": -0.5415229079699796, \"color\": 4.0}, {\"pca0\": -0.0033376310024970618, \"pca1\": -0.06834959285044827, \"color\": 6.0}, {\"pca0\": -0.2001778359549985, \"pca1\": -0.6024888685672196, \"color\": 5.0}, {\"pca0\": 0.1917999966923089, \"pca1\": -0.18660784144522283, \"color\": 6.0}, {\"pca0\": -1.5820258295715743, \"pca1\": -0.6877651196224791, \"color\": 4.0}, {\"pca0\": -0.7842071784409053, \"pca1\": -0.6728797245930035, \"color\": 4.0}, {\"pca0\": -1.2988448170566695, \"pca1\": -0.5831809889571867, \"color\": 4.0}, {\"pca0\": -1.6679781749532183, \"pca1\": -0.3437932483635951, \"color\": 4.0}, {\"pca0\": 2.597957611394562, \"pca1\": 0.7573557250048311, \"color\": 8.0}, {\"pca0\": 1.7347509237876804, \"pca1\": -0.18266784914514317, \"color\": 6.0}, {\"pca0\": 1.0005233604996266, \"pca1\": -0.041451164948596214, \"color\": 6.0}, {\"pca0\": 1.0556054535614199, \"pca1\": 0.031041527490754624, \"color\": 6.0}, {\"pca0\": 1.8159363837800564, \"pca1\": 0.9402306653017863, \"color\": 8.0}, {\"pca0\": -2.283111942753249, \"pca1\": -0.2364210937993772, \"color\": 4.0}, {\"pca0\": 0.5737544769045715, \"pca1\": 0.1902657797113091, \"color\": 6.0}, {\"pca0\": -0.7192667808825302, \"pca1\": -0.9389046155633771, \"color\": 4.0}, {\"pca0\": 2.2806694355430426, \"pca1\": 1.1993587315567427, \"color\": 8.0}, {\"pca0\": 2.9506539804425356, \"pca1\": 0.5295712572388097, \"color\": 8.0}, {\"pca0\": -2.263446112364688, \"pca1\": -0.007154904680125511, \"color\": 4.0}, {\"pca0\": -9.062215196254417, \"pca1\": 3.3752865616894456, \"color\": 0.0}, {\"pca0\": -1.0019189395355408, \"pca1\": -0.7841598992277466, \"color\": 4.0}, {\"pca0\": 1.0556054535614199, \"pca1\": 0.031041527490754624, \"color\": 6.0}, {\"pca0\": 0.33622954979461944, \"pca1\": 0.07634864199760033, \"color\": 6.0}, {\"pca0\": 2.612912299171177, \"pca1\": 0.515554484450322, \"color\": 8.0}, {\"pca0\": -1.585374949473547, \"pca1\": -0.1542844948662134, \"color\": 4.0}, {\"pca0\": 2.152096191805882, \"pca1\": 0.6466445392710523, \"color\": 8.0}, {\"pca0\": -2.146364704922915, \"pca1\": -0.2818219494828118, \"color\": 4.0}, {\"pca0\": 4.079580535070165, \"pca1\": 1.791201604296681, \"color\": 12.0}, {\"pca0\": 0.1507504195211104, \"pca1\": -0.1439947229519251, \"color\": 6.0}, {\"pca0\": -2.3482529044568796, \"pca1\": -0.9421012154433386, \"color\": 3.0}, {\"pca0\": -1.179841923893121, \"pca1\": -0.6636105287162255, \"color\": 4.0}, {\"pca0\": 0.2196767905754822, \"pca1\": -0.3288029837042702, \"color\": 6.0}, {\"pca0\": 0.6846471930144019, \"pca1\": -0.40964520240829627, \"color\": 6.0}, {\"pca0\": -1.552629402422101, \"pca1\": -0.42465168283138716, \"color\": 4.0}, {\"pca0\": -0.44827016226889826, \"pca1\": -0.8686091481668605, \"color\": 4.0}, {\"pca0\": 2.244383922499951, \"pca1\": 0.5130218645166286, \"color\": 8.0}, {\"pca0\": 0.8606655666671744, \"pca1\": -0.011988575706037638, \"color\": 6.0}, {\"pca0\": 1.510196482249118, \"pca1\": 0.49269946926286706, \"color\": 8.0}, {\"pca0\": 0.6549136096739073, \"pca1\": -0.0736579737235262, \"color\": 6.0}, {\"pca0\": -1.0252759574309314, \"pca1\": -0.47999102873942073, \"color\": 4.0}, {\"pca0\": -0.5956139782316601, \"pca1\": -0.7920089805592931, \"color\": 4.0}, {\"pca0\": 0.305672121151391, \"pca1\": -0.21958633873559807, \"color\": 6.0}, {\"pca0\": 1.856985960951255, \"pca1\": 0.8976175468084886, \"color\": 8.0}, {\"pca0\": 0.3399774637617437, \"pca1\": -0.2631544947349863, \"color\": 6.0}, {\"pca0\": -0.6709288486787867, \"pca1\": -0.8673668730735162, \"color\": 4.0}, {\"pca0\": -0.570420194737358, \"pca1\": -0.3631912889939742, \"color\": 5.0}, {\"pca0\": 0.747653248513458, \"pca1\": 0.03651379630783716, \"color\": 6.0}, {\"pca0\": -1.9665358647649591, \"pca1\": -0.36956547847633264, \"color\": 4.0}, {\"pca0\": 0.905611393774681, \"pca1\": 0.1398412753125328, \"color\": 6.0}, {\"pca0\": -0.464795075021532, \"pca1\": -1.04943831796741, \"color\": 4.0}, {\"pca0\": 2.4298632001790526, \"pca1\": 0.7333654045793551, \"color\": 8.0}, {\"pca0\": -0.8735546384814226, \"pca1\": -0.8633435155964758, \"color\": 4.0}, {\"pca0\": 2.3714289039498544, \"pca1\": 0.5796254785486035, \"color\": 8.0}, {\"pca0\": 1.6144501768986226, \"pca1\": -0.24831642567102763, \"color\": 6.0}, {\"pca0\": 3.7718298457241057, \"pca1\": 2.170815747968072, \"color\": 12.0}, {\"pca0\": 0.10295660778906615, \"pca1\": -0.10233664196471792, \"color\": 6.0}, {\"pca0\": 0.1917999966923089, \"pca1\": -0.18660784144522283, \"color\": 6.0}, {\"pca0\": 2.3627685898854396, \"pca1\": 1.1141324945701474, \"color\": 8.0}, {\"pca0\": -0.9018910193662414, \"pca1\": -0.5598373557698253, \"color\": 4.0}, {\"pca0\": -0.4342376463783036, \"pca1\": -0.7535033372342119, \"color\": 4.0}, {\"pca0\": -1.990704830866831, \"pca1\": -0.405334349721263, \"color\": 4.0}, {\"pca0\": -0.8766808056720538, \"pca1\": -0.9290362710910047, \"color\": 4.0}, {\"pca0\": -0.26243529682729827, \"pca1\": -0.9074768989778127, \"color\": 4.0}, {\"pca0\": 0.030489795669273553, \"pca1\": -0.37118237892811806, \"color\": 6.0}, {\"pca0\": -0.9260599486167151, \"pca1\": -0.5956061832364554, \"color\": 4.0}, {\"pca0\": -1.3263658757717518, \"pca1\": -0.700196962458617, \"color\": 4.0}, {\"pca0\": 0.4602380876135806, \"pca1\": -0.035966838758793314, \"color\": 6.0}, {\"pca0\": -0.18959025483633601, \"pca1\": 0.34301665946572385, \"color\": 6.0}, {\"pca0\": 1.0792412972694259, \"pca1\": -0.549491402408279, \"color\": 6.0}, {\"pca0\": 3.731702440438927, \"pca1\": 1.8565218149742122, \"color\": 12.0}, {\"pca0\": -1.3055890516175153, \"pca1\": -0.5841360264632772, \"color\": 4.0}, {\"pca0\": -1.1099735079841273, \"pca1\": -0.4431296449797702, \"color\": 4.0}, {\"pca0\": 2.4095380630619094, \"pca1\": 0.8610986507000008, \"color\": 8.0}, {\"pca0\": 0.6240004458625878, \"pca1\": -0.11038183869624688, \"color\": 6.0}, {\"pca0\": -1.4222323652103854, \"pca1\": -0.2768010103212125, \"color\": 4.0}, {\"pca0\": -0.010559781501924938, \"pca1\": -0.3285692604348204, \"color\": 6.0}, {\"pca0\": -0.5995635771219732, \"pca1\": 0.5447039878834002, \"color\": 6.0}, {\"pca0\": -1.4752536748414289, \"pca1\": -0.4624875386584671, \"color\": 4.0}, {\"pca0\": -0.10708253565015295, \"pca1\": -0.7515283018529345, \"color\": 5.0}, {\"pca0\": 1.0932629993391774, \"pca1\": 0.06872060508276712, \"color\": 6.0}, {\"pca0\": -0.013474044362376121, \"pca1\": 0.010987390615570176, \"color\": 6.0}, {\"pca0\": 0.14109192209981344, \"pca1\": 0.19460689059237488, \"color\": 6.0}, {\"pca0\": 1.2985740094133977, \"pca1\": -0.6165104631307277, \"color\": 6.0}, {\"pca0\": 0.08600982903802035, \"pca1\": 0.12211419815302402, \"color\": 6.0}, {\"pca0\": -1.2560132487264706, \"pca1\": -0.3989080656287974, \"color\": 4.0}, {\"pca0\": -1.0086631740963867, \"pca1\": -0.7851149367338371, \"color\": 4.0}, {\"pca0\": -10.441468239471432, \"pca1\": 5.020176305228371, \"color\": 0.0}, {\"pca0\": 2.3781731385107, \"pca1\": 0.580580516054694, \"color\": 8.0}, {\"pca0\": -0.27931594474802307, \"pca1\": -0.8290949530178848, \"color\": 4.0}, {\"pca0\": -0.9078599810917753, \"pca1\": -0.8197753595970875, \"color\": 4.0}, {\"pca0\": 1.2730331948338507, \"pca1\": -0.003621326036055028, \"color\": 6.0}, {\"pca0\": -0.04126104098306439, \"pca1\": 0.03995628113737843, \"color\": 6.0}, {\"pca0\": 0.46943447940039834, \"pca1\": -0.2940013386730516, \"color\": 6.0}, {\"pca0\": 0.6549136096739073, \"pca1\": -0.0736579737235262, \"color\": 6.0}, {\"pca0\": -0.09477676234477915, \"pca1\": -0.7874490169599987, \"color\": 4.0}, {\"pca0\": -0.42410123301842456, \"pca1\": -0.8328403207002304, \"color\": 4.0}, {\"pca0\": -1.8776263081799973, \"pca1\": -0.5999055283363512, \"color\": 4.0}, {\"pca0\": 3.7727520176101255, \"pca1\": 1.8139086964809144, \"color\": 12.0}, {\"pca0\": 1.0865187647783316, \"pca1\": 0.06776556757667647, \"color\": 6.0}, {\"pca0\": -2.1874142820941134, \"pca1\": -0.23920883098951412, \"color\": 4.0}, {\"pca0\": -0.6917056728330232, \"pca1\": -0.983427809068856, \"color\": 4.0}, {\"pca0\": -0.17788398525892932, \"pca1\": -1.2516926733847569, \"color\": 4.0}, {\"pca0\": 0.00029253362261255335, \"pca1\": 0.27207806557145736, \"color\": 6.0}, {\"pca0\": -0.9671095257879136, \"pca1\": -0.5529930647431577, \"color\": 4.0}, {\"pca0\": -0.46515081018962307, \"pca1\": -0.7902272022069327, \"color\": 4.0}, {\"pca0\": 2.433255231572493, \"pca1\": 0.6530732084940448, \"color\": 8.0}, {\"pca0\": 2.505497130171995, \"pca1\": 1.2775301553762601, \"color\": 8.0}, {\"pca0\": 1.0865187647783316, \"pca1\": 0.06776556757667647, \"color\": 6.0}, {\"pca0\": -0.7327552500042217, \"pca1\": -0.9408146905755582, \"color\": 4.0}, {\"pca0\": 0.3671427873087351, \"pca1\": 0.11307259452692162, \"color\": 6.0}, {\"pca0\": -1.5043315195527822, \"pca1\": -0.19157477333461712, \"color\": 4.0}, {\"pca0\": 0.333967368902551, \"pca1\": -1.1321987912905216, \"color\": 4.0}, {\"pca0\": -0.9260599486167151, \"pca1\": -0.5956061832364554, \"color\": 4.0}, {\"pca0\": 1.8980355381224534, \"pca1\": 0.8550044283151909, \"color\": 8.0}, {\"pca0\": 0.15797257002053824, \"pca1\": 0.11622494463244702, \"color\": 6.0}, {\"pca0\": 3.3017994968849527, \"pca1\": 2.024335734767663, \"color\": 12.0}, {\"pca0\": 0.0691291811172955, \"pca1\": 0.2004961441129519, \"color\": 6.0}, {\"pca0\": 2.612912299171177, \"pca1\": 0.515554484450322, \"color\": 8.0}, {\"pca0\": -0.7431576012697068, \"pca1\": -0.7154928430863012, \"color\": 4.0}, {\"pca0\": -2.1262647912577015, \"pca1\": -0.019888361670769503, \"color\": 4.0}, {\"pca0\": 3.5125066562405007, \"pca1\": 0.6883296304851122, \"color\": 8.0}, {\"pca0\": -1.3606712183821046, \"pca1\": -0.6566288064592287, \"color\": 4.0}, {\"pca0\": -0.09607719613925157, \"pca1\": -0.17852127532521103, \"color\": 6.0}, {\"pca0\": 0.5462334181894892, \"pca1\": 0.07324980620987886, \"color\": 6.0}, {\"pca0\": -1.6921471410550901, \"pca1\": -0.37956211960852565, \"color\": 4.0}, {\"pca0\": 0.3598142663429191, \"pca1\": -0.3257910751878864, \"color\": 6.0}, {\"pca0\": 0.5462334181894892, \"pca1\": 0.07324980620987886, \"color\": 6.0}, {\"pca0\": 0.45349385305273476, \"pca1\": -0.036921876264883864, \"color\": 6.0}, {\"pca0\": 0.15122833545969247, \"pca1\": 0.11526990712635647, \"color\": 6.0}, {\"pca0\": -1.0185317228700856, \"pca1\": -0.4790359912333301, \"color\": 4.0}, {\"pca0\": 0.3399774637617437, \"pca1\": -0.2631544947349863, \"color\": 6.0}, {\"pca0\": -1.329758017719387, \"pca1\": -0.6199048977082078, \"color\": 4.0}, {\"pca0\": 0.1443619201283556, \"pca1\": -0.4041608762184933, \"color\": 6.0}, {\"pca0\": -1.9563994882564781, \"pca1\": -0.4489025057206513, \"color\": 4.0}, {\"pca0\": 3.803665181421445, \"pca1\": 1.8506325614536348, \"color\": 12.0}, {\"pca0\": 3.7429316136215163, \"pca1\": 1.0605028464532085, \"color\": 8.0}, {\"pca0\": 1.2949837686351147, \"pca1\": 0.6083433329981115, \"color\": 8.0}, {\"pca0\": -0.23826636757682462, \"pca1\": -0.8717080715111825, \"color\": 4.0}, {\"pca0\": -10.064789995246905, \"pca1\": 4.637678200318909, \"color\": 0.0}, {\"pca0\": 1.0859855318302716, \"pca1\": -0.5485363649021884, \"color\": 6.0}, {\"pca0\": 1.6760785899476043, \"pca1\": 0.9696932545443451, \"color\": 8.0}, {\"pca0\": 3.1984195209538404, \"pca1\": 1.718766132831542, \"color\": 12.0}, {\"pca0\": 2.522602691613011, \"pca1\": 0.8435369994975171, \"color\": 8.0}, {\"pca0\": 1.5377176146669966, \"pca1\": 0.6097155303208979, \"color\": 8.0}, {\"pca0\": -1.2988448170566695, \"pca1\": -0.5831809889571867, \"color\": 4.0}, {\"pca0\": 0.7920949307808935, \"pca1\": -0.08639143071417019, \"color\": 6.0}, {\"pca0\": 0.439105528291253, \"pca1\": 0.1071833410063446, \"color\": 6.0}, {\"pca0\": -0.5303954718099878, \"pca1\": -0.7988532715859608, \"color\": 4.0}, {\"pca0\": 0.7981635823053929, \"pca1\": -0.1834125839381938, \"color\": 6.0}, {\"pca0\": -0.020484216828827825, \"pca1\": 0.15601721713271816, \"color\": 6.0}, {\"pca0\": 0.7167400109993424, \"pca1\": -0.0002101562214841601, \"color\": 6.0}, {\"pca0\": -1.614455803747536, \"pca1\": -0.49809950033342915, \"color\": 4.0}, {\"pca0\": 2.2477761012989843, \"pca1\": 0.43272984354451954, \"color\": 8.0}, {\"pca0\": -1.552629402422101, \"pca1\": -0.42465168283138716, \"color\": 4.0}, {\"pca0\": -1.991798738460725, \"pca1\": -0.09820244950600697, \"color\": 4.0}, {\"pca0\": 1.9097111749960245, \"pca1\": 0.7586720016576916, \"color\": 8.0}, {\"pca0\": -0.25144560576393993, \"pca1\": 0.23539437096781526, \"color\": 6.0}, {\"pca0\": 1.4046040553953902, \"pca1\": 0.6401331570695469, \"color\": 8.0}, {\"pca0\": 2.6196565337320226, \"pca1\": 0.5165095219564126, \"color\": 8.0}, {\"pca0\": 3.4945332484970657, \"pca1\": 1.4833935615000258, \"color\": 12.0}, {\"pca0\": -0.8356312285008552, \"pca1\": -0.9716493895843025, \"color\": 4.0}, {\"pca0\": 0.7054240171686383, \"pca1\": -0.2935842664129565, \"color\": 6.0}, {\"pca0\": -1.552629402422101, \"pca1\": -0.42465168283138716, \"color\": 4.0}, {\"pca0\": -0.9899591354341724, \"pca1\": -0.734549122610492, \"color\": 4.0}, {\"pca0\": 1.6350691050068804, \"pca1\": 1.3370190942126918, \"color\": 8.0}, {\"pca0\": -0.013474044362376121, \"pca1\": 0.010987390615570176, \"color\": 6.0}, {\"pca0\": 0.7256967701856003, \"pca1\": -0.45225832090159396, \"color\": 6.0}, {\"pca0\": 0.6756904338281439, \"pca1\": 0.04240296227181357, \"color\": 6.0}, {\"pca0\": -0.9556537928238196, \"pca1\": -0.7781172786098803, \"color\": 4.0}, {\"pca0\": -1.159569170876159, \"pca1\": -0.822284583204863, \"color\": 4.0}, {\"pca0\": -0.6337493662452034, \"pca1\": -1.0889526006729864, \"color\": 4.0}, {\"pca0\": -0.15790359746468663, \"pca1\": -0.251969092827253, \"color\": 6.0}, {\"pca0\": 1.6816430966320326, \"pca1\": 0.5979370232797436, \"color\": 8.0}, {\"pca0\": -3.1143689942324446, \"pca1\": -0.08369436001101728, \"color\": 3.0}, {\"pca0\": 2.0593565529663316, \"pca1\": 0.5364727692396891, \"color\": 8.0}, {\"pca0\": 3.96497538244448, \"pca1\": 2.0352070989365303, \"color\": 12.0}, {\"pca0\": -1.6752665299857634, \"pca1\": -0.4579441093467538, \"color\": 4.0}, {\"pca0\": -1.11127128800684, \"pca1\": -0.5892076737080929, \"color\": 4.0}, {\"pca0\": -0.8356579029778578, \"pca1\": -0.20607142060702174, \"color\": 5.0}, {\"pca0\": -0.6782172037113317, \"pca1\": -0.9815177340566748, \"color\": 4.0}, {\"pca0\": -1.2141472665034736, \"pca1\": -0.6200423727168372, \"color\": 4.0}, {\"pca0\": 2.533058238221502, \"pca1\": 1.233006961870781, \"color\": 8.0}, {\"pca0\": 1.0901718332149086, \"pca1\": 0.7253714514288628, \"color\": 8.0}, {\"pca0\": 0.18505576213146313, \"pca1\": -0.1875628789513134, \"color\": 6.0}, {\"pca0\": -2.5914957058481334, \"pca1\": 0.7068673461876503, \"color\": 4.0}, {\"pca0\": -2.108707269699351, \"pca1\": -0.24414300322570034, \"color\": 4.0}, {\"pca0\": 1.4811128690333557, \"pca1\": -0.0720806324233061, \"color\": 6.0}, {\"pca0\": 1.3421020710336087, \"pca1\": 0.4687091488373909, \"color\": 8.0}, {\"pca0\": 1.5833389511080536, \"pca1\": 0.8595214845129817, \"color\": 8.0}, {\"pca0\": -1.3864102859381864, \"pca1\": -0.546758738138972, \"color\": 4.0}, {\"pca0\": 1.1927576865604168, \"pca1\": -0.3232587839381764, \"color\": 6.0}, {\"pca0\": -0.8304723251526266, \"pca1\": -0.6789223452108698, \"color\": 4.0}, {\"pca0\": 2.777614678993245, \"pca1\": 0.6198370009611086, \"color\": 8.0}, {\"pca0\": 2.578606956560824, \"pca1\": 0.5591226404497104, \"color\": 8.0}, {\"pca0\": 2.368488485890711, \"pca1\": 0.9037117691932985, \"color\": 8.0}, {\"pca0\": 1.3843312286756322, \"pca1\": 0.7988071240015837, \"color\": 8.0}, {\"pca0\": -1.9390148429012748, \"pca1\": -0.2525495487532025, \"color\": 4.0}, {\"pca0\": -1.0777778936029687, \"pca1\": -0.9727135714407376, \"color\": 4.0}, {\"pca0\": 0.037711946168701424, \"pca1\": -0.110962711343746, \"color\": 6.0}, {\"pca0\": -7.319965090329778, \"pca1\": 1.4428051729337166, \"color\": 0.0}, {\"pca0\": 3.8231720555575706, \"pca1\": 1.1617659041851773, \"color\": 10.0}, {\"pca0\": 1.2319836176626522, \"pca1\": 0.03899179245724267, \"color\": 6.0}, {\"pca0\": 2.273925200982197, \"pca1\": 1.1984036940506522, \"color\": 8.0}, {\"pca0\": 1.570048543965612, \"pca1\": -0.2869503656559294, \"color\": 6.0}, {\"pca0\": -3.8430510418945625, \"pca1\": 1.3051809822922595, \"color\": 4.0}, {\"pca0\": -0.24362081917729825, \"pca1\": -0.10200513785221912, \"color\": 6.0}, {\"pca0\": 0.6240004458625878, \"pca1\": -0.11038183869624688, \"color\": 6.0}, {\"pca0\": 1.7642463221117042, \"pca1\": 0.7874457767771252, \"color\": 8.0}, {\"pca0\": 0.8979359364044719, \"pca1\": -0.4978843866745802, \"color\": 5.0}, {\"pca0\": 0.305672121151391, \"pca1\": -0.21958633873559807, \"color\": 6.0}, {\"pca0\": -1.5936789795932995, \"pca1\": -0.3820385643380894, \"color\": 4.0}, {\"pca0\": 1.8159363837800564, \"pca1\": 0.9402306653017863, \"color\": 8.0}, {\"pca0\": 0.905611393774681, \"pca1\": 0.1398412753125328, \"color\": 6.0}, {\"pca0\": 2.0661007875271773, \"pca1\": 0.5374278067457796, \"color\": 8.0}, {\"pca0\": 0.552977652750335, \"pca1\": 0.07420484371596939, \"color\": 6.0}, {\"pca0\": -0.03969459558018988, \"pca1\": -0.7149562369640473, \"color\": 4.0}, {\"pca0\": 2.7882550160848063, \"pca1\": 0.8152348328658662, \"color\": 8.0}, {\"pca0\": -1.1387923467219225, \"pca1\": -0.7062236472095232, \"color\": 4.0}, {\"pca0\": -0.6337493662452034, \"pca1\": -1.0889526006729864, \"color\": 4.0}, {\"pca0\": -1.063745340860976, \"pca1\": -0.8576077167297886, \"color\": 4.0}, {\"pca0\": -0.9039638048582636, \"pca1\": -0.6253324776418199, \"color\": 4.0}, {\"pca0\": 2.492141288541581, \"pca1\": 1.0506074041973827, \"color\": 8.0}, {\"pca0\": -0.6844573671349028, \"pca1\": -0.7077377810787883, \"color\": 4.0}, {\"pca0\": -0.9159236089596322, \"pca1\": -0.6749432542590744, \"color\": 4.0}, {\"pca0\": -0.1303825387496043, \"pca1\": -0.13495311932582274, \"color\": 6.0}, {\"pca0\": -1.1408866717954467, \"pca1\": -0.47985350995249093, \"color\": 4.0}, {\"pca0\": -1.179841923893121, \"pca1\": -0.6636105287162255, \"color\": 4.0}, {\"pca0\": 2.5535158554243305, \"pca1\": 0.880260864470238, \"color\": 8.0}, {\"pca0\": -1.4342040976702306, \"pca1\": -0.5051006571517649, \"color\": 4.0}, {\"pca0\": 1.8681575266875514, \"pca1\": 0.526550129667012, \"color\": 8.0}, {\"pca0\": -1.3453607087669879, \"pca1\": -0.5893718566322698, \"color\": 4.0}, {\"pca0\": -0.9146042156526211, \"pca1\": -0.8207303971031781, \"color\": 4.0}, {\"pca0\": -0.8766808056720538, \"pca1\": -0.9290362710910047, \"color\": 4.0}, {\"pca0\": -1.5342320178395301, \"pca1\": -0.7294232006096861, \"color\": 4.0}, {\"pca0\": -1.904709500290922, \"pca1\": -0.29611770475259086, \"color\": 4.0}, {\"pca0\": 0.5655662233361861, \"pca1\": -0.2641216771703979, \"color\": 6.0}, {\"pca0\": -1.179841923893121, \"pca1\": -0.6636105287162255, \"color\": 4.0}, {\"pca0\": -1.0151395440710522, \"pca1\": -0.5593280122054393, \"color\": 4.0}, {\"pca0\": -1.7327748888798966, \"pca1\": -0.30422579579548675, \"color\": 4.0}, {\"pca0\": -1.2141472665034736, \"pca1\": -0.6200423727168372, \"color\": 4.0}, {\"pca0\": -0.48896404112340386, \"pca1\": -1.0852071892123407, \"color\": 4.0}, {\"pca0\": 1.4811128690333557, \"pca1\": -0.0720806324233061, \"color\": 6.0}, {\"pca0\": 0.18214149927101192, \"pca1\": 0.15199377209907713, \"color\": 6.0}, {\"pca0\": 1.632286656696512, \"pca1\": 0.1918308885256075, \"color\": 6.0}, {\"pca0\": 0.15797257002053824, \"pca1\": 0.11622494463244702, \"color\": 6.0}, {\"pca0\": 0.22319107644221042, \"pca1\": 0.10938065360577943, \"color\": 6.0}, {\"pca0\": -0.18518659665089643, \"pca1\": 0.05173470062193189, \"color\": 6.0}, {\"pca0\": 0.1917999966923089, \"pca1\": -0.18660784144522283, \"color\": 6.0}, {\"pca0\": 1.208988511762002, \"pca1\": 0.4991267755860399, \"color\": 8.0}, {\"pca0\": -0.46515081018962307, \"pca1\": -0.7902272022069327, \"color\": 4.0}, {\"pca0\": -2.4024530156633683, \"pca1\": -0.39323935655115627, \"color\": 4.0}, {\"pca0\": 2.8703541704272033, \"pca1\": 0.7300085958792707, \"color\": 8.0}, {\"pca0\": 0.5037398220107511, \"pca1\": -0.3375694946724399, \"color\": 6.0}, {\"pca0\": -0.10708253565015295, \"pca1\": -0.7515283018529345, \"color\": 5.0}, {\"pca0\": -1.6762821682215732, \"pca1\": -0.5715472740571709, \"color\": 4.0}, {\"pca0\": -0.5714450489811863, \"pca1\": -0.756240153092663, \"color\": 4.0}, {\"pca0\": -0.09376642482115309, \"pca1\": 0.3076935259407983, \"color\": 6.0}, {\"pca0\": -1.063745340860976, \"pca1\": -0.8576077167297886, \"color\": 4.0}, {\"pca0\": 0.305672121151391, \"pca1\": -0.21958633873559807, \"color\": 6.0}, {\"pca0\": 1.0865187647783316, \"pca1\": 0.06776556757667647, \"color\": 6.0}, {\"pca0\": -0.04715984901708614, \"pca1\": -0.17357182546365166, \"color\": 6.0}, {\"pca0\": 2.875662018037218, \"pca1\": 1.232146677027576, \"color\": 8.0}, {\"pca0\": 1.3140827720050492, \"pca1\": -0.04623444452935277, \"color\": 6.0}, {\"pca0\": -0.8668104039205768, \"pca1\": -0.8623884780903852, \"color\": 4.0}, {\"pca0\": 0.14400618496026463, \"pca1\": -0.14494976045801566, \"color\": 6.0}, {\"pca0\": 0.7638582396950401, \"pca1\": -0.1398444279388055, \"color\": 6.0}, {\"pca0\": -1.063745340860976, \"pca1\": -0.8576077167297886, \"color\": 4.0}, {\"pca0\": 0.18505576213146313, \"pca1\": -0.1875628789513134, \"color\": 6.0}, {\"pca0\": 1.8704852438937893, \"pca1\": 0.3964214252622726, \"color\": 8.0}, {\"pca0\": 0.5051838410182907, \"pca1\": 0.11586292470317659, \"color\": 6.0}, {\"pca0\": -0.7532940146295858, \"pca1\": -0.6361558596202828, \"color\": 4.0}, {\"pca0\": -0.1373927849188522, \"pca1\": 0.010076619634724721, \"color\": 6.0}, {\"pca0\": -0.8850103714455166, \"pca1\": -0.6382193017297532, \"color\": 4.0}, {\"pca0\": 1.5995439422896356, \"pca1\": 0.6831632602663391, \"color\": 8.0}, {\"pca0\": -2.424826148279231, \"pca1\": -0.47147035813470595, \"color\": 3.0}, {\"pca0\": -2.1324628690547427, \"pca1\": -0.8669808454420829, \"color\": 3.0}, {\"pca0\": 1.3140827720050492, \"pca1\": -0.04623444452935277, \"color\": 6.0}, {\"pca0\": -2.9878481267286197, \"pca1\": 0.618327061757707, \"color\": 4.0}, {\"pca0\": 2.1081876687837102, \"pca1\": 1.385851611215324, \"color\": 8.0}, {\"pca0\": 0.10295660778906615, \"pca1\": -0.10233664196471792, \"color\": 6.0}, {\"pca0\": -0.45042430489139623, \"pca1\": 0.20885456900888438, \"color\": 6.0}, {\"pca0\": -1.829832496447953, \"pca1\": -0.6415636093235585, \"color\": 4.0}, {\"pca0\": 1.364737386485799, \"pca1\": 0.39828052744436415, \"color\": 6.0}, {\"pca0\": 0.11309302114894519, \"pca1\": -0.1816736254307364, \"color\": 6.0}, {\"pca0\": 1.0015586602816369, \"pca1\": -0.3331814235108532, \"color\": 6.0}, {\"pca0\": -1.5936789795932995, \"pca1\": -0.3820385643380894, \"color\": 4.0}, {\"pca0\": -1.6588975228663698, \"pca1\": -0.3751943170897221, \"color\": 4.0}, {\"pca0\": 1.118467154668865, \"pca1\": -0.1872409135694603, \"color\": 6.0}, {\"pca0\": 0.4626902448395527, \"pca1\": -0.29495637617914217, \"color\": 6.0}, {\"pca0\": 0.6435976158432033, \"pca1\": -0.3670320839149985, \"color\": 6.0}, {\"pca0\": -0.28575094837429266, \"pca1\": 0.2789625269672036, \"color\": 6.0}, {\"pca0\": -1.3263658757717518, \"pca1\": -0.700196962458617, \"color\": 4.0}, {\"pca0\": -1.0972386984134492, \"pca1\": -0.4741017752188438, \"color\": 4.0}, {\"pca0\": -0.0033376310024970618, \"pca1\": -0.06834959285044827, \"color\": 6.0}, {\"pca0\": 0.05328771750261735, \"pca1\": -0.7456511932616785, \"color\": 5.0}, {\"pca0\": -1.3055890516175153, \"pca1\": -0.5841360264632772, \"color\": 4.0}, {\"pca0\": 0.33962172859365275, \"pca1\": -0.003943378974508659, \"color\": 6.0}, {\"pca0\": -0.06516403232793212, \"pca1\": -0.14179741035249027, \"color\": 6.0}, {\"pca0\": 0.2371014852651101, \"pca1\": -0.29398919374373056, \"color\": 6.0}, {\"pca0\": 0.2578783094193467, \"pca1\": -0.17792825774839088, \"color\": 6.0}, {\"pca0\": -2.2076194854750346, \"pca1\": 0.25785769730439023, \"color\": 4.0}, {\"pca0\": -0.9878863499421502, \"pca1\": -0.6690540007384974, \"color\": 4.0}, {\"pca0\": -0.9764306169780561, \"pca1\": -0.8941782146052201, \"color\": 4.0}, {\"pca0\": 2.660706110903221, \"pca1\": 0.47389640346311507, \"color\": 8.0}, {\"pca0\": -1.108217363447348, \"pca1\": -1.8126867707238479, \"color\": 2.0}, {\"pca0\": -0.8540972076341972, \"pca1\": -0.6014954367570324, \"color\": 4.0}, {\"pca0\": -0.8156568475091174, \"pca1\": -0.2580533073191317, \"color\": 4.0}, {\"pca0\": 2.6747386267938156, \"pca1\": 0.5890022143957636, \"color\": 8.0}, {\"pca0\": 3.43852095648517, \"pca1\": 1.1161987597490552, \"color\": 8.0}, {\"pca0\": 3.7839811907927148, \"pca1\": 1.0178897279599106, \"color\": 8.0}, {\"pca0\": -1.8467131075172798, \"pca1\": -0.5631816195853303, \"color\": 4.0}, {\"pca0\": -0.0033376310024970618, \"pca1\": -0.06834959285044827, \"color\": 6.0}, {\"pca0\": -1.3123332861783612, \"pca1\": -0.5850910639693679, \"color\": 4.0}, {\"pca0\": -0.9556537928238196, \"pca1\": -0.7781172786098803, \"color\": 4.0}, {\"pca0\": -0.16890893697558806, \"pca1\": -0.8249761193549765, \"color\": 5.0}, {\"pca0\": -0.8086142040716494, \"pca1\": -1.129368362788549, \"color\": 4.0}, {\"pca0\": 0.5254565940352527, \"pca1\": -0.04281112978546089, \"color\": 6.0}, {\"pca0\": 0.04264723300546361, \"pca1\": -0.9410492002796372, \"color\": 5.0}, {\"pca0\": 0.037711946168701424, \"pca1\": -0.110962711343746, \"color\": 6.0}, {\"pca0\": -0.8356312285008552, \"pca1\": -0.9716493895843025, \"color\": 4.0}, {\"pca0\": -1.2712837090071627, \"pca1\": -0.6277041824626656, \"color\": 4.0}, {\"pca0\": -2.3083918657693983, \"pca1\": -0.15898466814209522, \"color\": 4.0}, {\"pca0\": 1.693701346616482, \"pca1\": -0.14005473065184548, \"color\": 6.0}, {\"pca0\": 1.5154182116437085, \"pca1\": -0.11564878842269445, \"color\": 6.0}, {\"pca0\": -0.8151204159550208, \"pca1\": -0.7096036771223247, \"color\": 4.0}, {\"pca0\": 1.1308656752180162, \"pca1\": 0.9419694486960428, \"color\": 8.0}, {\"pca0\": -1.0159515291289316, \"pca1\": -0.8992657977169958, \"color\": 4.0}, {\"pca0\": 0.07926559447717457, \"pca1\": 0.12115916064693347, \"color\": 6.0}, {\"pca0\": -0.8951467848053957, \"pca1\": -0.5588823182637347, \"color\": 4.0}, {\"pca0\": 0.28617355717050674, \"pca1\": -1.0905407103033145, \"color\": 4.0}, {\"pca0\": 1.3635544782241917, \"pca1\": 0.6827462755628446, \"color\": 8.0}, {\"pca0\": 0.6341368592224669, \"pca1\": -0.18971882216226535, \"color\": 6.0}, {\"pca0\": 0.2989278865905452, \"pca1\": -0.22054137624168862, \"color\": 6.0}, {\"pca0\": 0.11653977503571254, \"pca1\": -1.0975357626505107, \"color\": 4.0}, {\"pca0\": -1.5095590174517817, \"pca1\": -0.41891938265907885, \"color\": 4.0}, {\"pca0\": 1.190429969354179, \"pca1\": -0.19313007953343675, \"color\": 6.0}, {\"pca0\": 4.58384290956818, \"pca1\": 0.3466265416448514, \"color\": 8.0}, {\"pca0\": -2.096518582397144, \"pca1\": 0.09569037785809528, \"color\": 4.0}, {\"pca0\": 3.0641703697335267, \"pca1\": 0.7558038757089122, \"color\": 8.0}, {\"pca0\": 1.2899136953489831, \"pca1\": -0.08200344710918407, \"color\": 6.0}, {\"pca0\": 1.2606784260247619, \"pca1\": 0.6519114889974997, \"color\": 8.0}, {\"pca0\": -1.3263658757717518, \"pca1\": -0.700196962458617, \"color\": 4.0}, {\"pca0\": 1.7586816680216835, \"pca1\": 1.1592018329285259, \"color\": 8.0}, {\"pca0\": 0.5817712145177683, \"pca1\": -0.44047990141704046, \"color\": 6.0}, {\"pca0\": -0.4139648196585456, \"pca1\": -0.9121773041662488, \"color\": 4.0}, {\"pca0\": 0.8734238039619894, \"pca1\": 0.7275153372670944, \"color\": 8.0}, {\"pca0\": -1.3123332861783612, \"pca1\": -0.5850910639693679, \"color\": 4.0}, {\"pca0\": -2.4377115126363815, \"pca1\": 0.08132910949237845, \"color\": 4.0}, {\"pca0\": 1.2548742130369774, \"pca1\": 0.829653967939649, \"color\": 8.0}, {\"pca0\": -0.41948439290027806, \"pca1\": -0.5199994474390751, \"color\": 5.0}, {\"pca0\": 1.2130304395773785, \"pca1\": -0.48193283842681384, \"color\": 6.0}, {\"pca0\": 3.2013517645433094, \"pca1\": 0.7430705062748687, \"color\": 8.0}, {\"pca0\": 1.3017280031959604, \"pca1\": 0.6092983705042021, \"color\": 8.0}, {\"pca0\": -1.5391409333004098, \"pca1\": -0.422741607819206, \"color\": 4.0}, {\"pca0\": 2.321719012714241, \"pca1\": 1.156745613063445, \"color\": 8.0}, {\"pca0\": 0.29517997262342094, \"pca1\": 0.11896176049089806, \"color\": 6.0}, {\"pca0\": -2.4697309756118053, \"pca1\": 0.2711068018344577, \"color\": 4.0}, {\"pca0\": 0.788027168945514, \"pca1\": -0.10407560047217533, \"color\": 6.0}, {\"pca0\": -1.4342040976702306, \"pca1\": -0.5051006571517649, \"color\": 4.0}, {\"pca0\": -1.9283904325132848, \"pca1\": -0.4452321772789937, \"color\": 4.0}, {\"pca0\": 0.5930872820512685, \"pca1\": -0.1471057036689676, \"color\": 6.0}, {\"pca0\": 1.6665919993068645, \"pca1\": 0.14826273252621916, \"color\": 6.0}, {\"pca0\": -1.7738244660510951, \"pca1\": -0.261612677302189, \"color\": 4.0}, {\"pca0\": 0.33622954979461944, \"pca1\": 0.07634864199760033, \"color\": 6.0}, {\"pca0\": 0.5104840565715968, \"pca1\": -0.3366144571663493, \"color\": 6.0}, {\"pca0\": 0.18214149927101192, \"pca1\": 0.15199377209907713, \"color\": 6.0}, {\"pca0\": 0.8093352217444857, \"pca1\": -0.5544799135230698, \"color\": 6.0}, {\"pca0\": 1.1510582866700787, \"pca1\": 0.6201218400392655, \"color\": 8.0}, {\"pca0\": 1.7642463221117042, \"pca1\": 0.7874457767771252, \"color\": 8.0}, {\"pca0\": -0.8735546384814226, \"pca1\": -0.8633435155964758, \"color\": 4.0}, {\"pca0\": -0.9842263802597329, \"pca1\": -0.5226041472327185, \"color\": 4.0}, {\"pca0\": -0.8782661368846708, \"pca1\": -0.6372642642236627, \"color\": 4.0}, {\"pca0\": 1.7035995749598902, \"pca1\": 1.0867091404891749, \"color\": 8.0}, {\"pca0\": 4.140947074888832, \"pca1\": 0.9692459037707595, \"color\": 8.0}, {\"pca0\": 0.6846471930144019, \"pca1\": -0.40964520240829627, \"color\": 6.0}, {\"pca0\": 1.1459882133839472, \"pca1\": -0.07022494006803001, \"color\": 6.0}, {\"pca0\": -0.464795075021532, \"pca1\": -1.04943831796741, \"color\": 4.0}, {\"pca0\": -1.5458851678612555, \"pca1\": -0.4236966453252965, \"color\": 4.0}, {\"pca0\": -1.2988448170566695, \"pca1\": -0.5831809889571867, \"color\": 4.0}, {\"pca0\": -0.7322511788669471, \"pca1\": -0.666079700091581, \"color\": 4.0}, {\"pca0\": -1.1320481121610766, \"pca1\": -0.7052686097034326, \"color\": 4.0}, {\"pca0\": -1.3723776963447956, \"pca1\": -0.4316528396497228, \"color\": 4.0}, {\"pca0\": -0.6644791531811237, \"pca1\": -0.3275758286246333, \"color\": 5.0}, {\"pca0\": 0.27779532726821765, \"pca1\": -0.07739119647655067, \"color\": 6.0}, {\"pca0\": -0.5472499645320201, \"pca1\": -0.7050009652203372, \"color\": 4.0}, {\"pca0\": 0.46943447940039834, \"pca1\": -0.2940013386730516, \"color\": 6.0}, {\"pca0\": 0.15797257002053824, \"pca1\": 0.11622494463244702, \"color\": 6.0}, {\"pca0\": -0.3000926951994635, \"pca1\": -0.9451558014566239, \"color\": 4.0}, {\"pca0\": -0.7221148392098642, \"pca1\": -0.7454167711142, \"color\": 4.0}, {\"pca0\": 2.660288010154475, \"pca1\": 1.10553844543425, \"color\": 8.0}, {\"pca0\": 3.1052199469047252, \"pca1\": 0.7131907572156145, \"color\": 8.0}, {\"pca0\": 2.0622969710254755, \"pca1\": 0.21238647859499418, \"color\": 8.0}, {\"pca0\": -0.06492597279905962, \"pca1\": 0.2789223565981249, \"color\": 6.0}, {\"pca0\": -0.8908729980869914, \"pca1\": 0.7946217419824303, \"color\": 6.0}, {\"pca0\": 1.9097111749960245, \"pca1\": 0.7586720016576916, \"color\": 8.0}, {\"pca0\": -0.8782661368846708, \"pca1\": -0.6372642642236627, \"color\": 4.0}, {\"pca0\": -1.3453607087669879, \"pca1\": -0.5893718566322698, \"color\": 4.0}, {\"pca0\": 3.7988469070047093, \"pca1\": 2.0130968185421256, \"color\": 12.0}, {\"pca0\": -0.6607663538230112, \"pca1\": -0.9312335836904396, \"color\": 4.0}, {\"pca0\": -1.4292418174169872, \"pca1\": -0.731031617689061, \"color\": 4.0}, {\"pca0\": -0.42410123301842456, \"pca1\": -0.8328403207002304, \"color\": 4.0}, {\"pca0\": -0.9982589698531237, \"pca1\": -0.6377100457219677, \"color\": 4.0}, {\"pca0\": 3.2950552623241065, \"pca1\": 2.0233806972615724, \"color\": 12.0}, {\"pca0\": -0.9676135969251882, \"pca1\": -0.8277280552271349, \"color\": 4.0}, {\"pca0\": 1.1587425428039857, \"pca1\": 0.7997743939935958, \"color\": 8.0}, {\"pca0\": 1.1870377905551457, \"pca1\": -0.11283805856132775, \"color\": 6.0}, {\"pca0\": -1.504835590690057, \"pca1\": -0.46630976381859424, \"color\": 4.0}, {\"pca0\": 0.14109192209981344, \"pca1\": 0.19460689059237488, \"color\": 6.0}, {\"pca0\": 1.3157606664921475, \"pca1\": 0.7244043565500518, \"color\": 8.0}, {\"pca0\": -1.1387923467219225, \"pca1\": -0.7062236472095232, \"color\": 4.0}, {\"pca0\": -1.4342040976702306, \"pca1\": -0.5051006571517649, \"color\": 4.0}, {\"pca0\": 0.3913117165592087, \"pca1\": 0.14884142199355177, \"color\": 6.0}, {\"pca0\": 0.3260932101375366, \"pca1\": 0.15568571302021933, \"color\": 6.0}, {\"pca0\": -1.5713854187772167, \"pca1\": -0.49236720016112084, \"color\": 4.0}, {\"pca0\": 2.0435003910067735, \"pca1\": 0.8262306531957572, \"color\": 8.0}, {\"pca0\": 1.888934424544584, \"pca1\": 0.6426111532189525, \"color\": 8.0}, {\"pca0\": -0.4859276343438596, \"pca1\": -0.9062881382022724, \"color\": 4.0}, {\"pca0\": 1.7974993495935432, \"pca1\": -0.46612725824345996, \"color\": 6.0}, {\"pca0\": 1.0792412972694259, \"pca1\": -0.549491402408279, \"color\": 6.0}, {\"pca0\": -2.9084634521321564, \"pca1\": 0.6941117353841211, \"color\": 4.0}, {\"pca0\": -1.7468074784732877, \"pca1\": -0.4193316942847358, \"color\": 4.0}, {\"pca0\": 0.1917999966923089, \"pca1\": -0.18660784144522283, \"color\": 6.0}, {\"pca0\": 0.47617871396124417, \"pca1\": -0.29304630116696107, \"color\": 6.0}, {\"pca0\": 0.5829508686913893, \"pca1\": -0.06776872020294916, \"color\": 6.0}, {\"pca0\": -0.45042430489139623, \"pca1\": 0.20885456900888438, \"color\": 6.0}, {\"pca0\": 3.4714570790693022, \"pca1\": 0.7309427489784099, \"color\": 8.0}, {\"pca0\": -0.6197167766518127, \"pca1\": -0.9738467021837374, \"color\": 4.0}, {\"pca0\": -1.1255717053350132, \"pca1\": -0.9310554904535304, \"color\": 4.0}, {\"pca0\": -0.3064459195478691, \"pca1\": -0.5530314590472543, \"color\": 5.0}, {\"pca0\": 2.529798686913746, \"pca1\": 1.088286306676194, \"color\": 8.0}, {\"pca0\": -2.324119908002588, \"pca1\": 0.1445810852847804, \"color\": 4.0}, {\"pca0\": 2.829304593256005, \"pca1\": 0.7726217143725684, \"color\": 8.0}, {\"pca0\": -1.0806259519303028, \"pca1\": -0.7792257269915605, \"color\": 4.0}, {\"pca0\": -0.38857122908895864, \"pca1\": -0.4832755824663544, \"color\": 5.0}, {\"pca0\": -1.1920726623265243, \"pca1\": -0.35790340799317477, \"color\": 4.0}, {\"pca0\": -0.195827007445254, \"pca1\": -0.14366321883942632, \"color\": 6.0}, {\"pca0\": 0.36655850090376485, \"pca1\": -0.32483603768179586, \"color\": 6.0}, {\"pca0\": 1.1392439788231015, \"pca1\": -0.0711799775741206, \"color\": 6.0}, {\"pca0\": -1.303494689692593, \"pca1\": -0.8105061199420093, \"color\": 4.0}, {\"pca0\": 0.037711946168701424, \"pca1\": -0.110962711343746, \"color\": 6.0}, {\"pca0\": 2.3375753220793913, \"pca1\": 0.8669879042205777, \"color\": 8.0}, {\"pca0\": 2.70082322485527, \"pca1\": 1.2072011439828083, \"color\": 8.0}, {\"pca0\": -1.188680483527491, \"pca1\": -0.43819542896528385, \"color\": 4.0}, {\"pca0\": -2.1053151277517164, \"pca1\": -0.3244350679761095, \"color\": 4.0}, {\"pca0\": -1.4274598631093849, \"pca1\": -0.5041456196456744, \"color\": 4.0}, {\"pca0\": 0.4283849022291999, \"pca1\": -0.2513882201797539, \"color\": 6.0}, {\"pca0\": 0.243967900596447, \"pca1\": 0.22544158960111918, \"color\": 6.0}, {\"pca0\": -1.3263658757717518, \"pca1\": -0.700196962458617, \"color\": 4.0}, {\"pca0\": -1.7581554149029566, \"pca1\": -0.9597746527426968, \"color\": 3.0}, {\"pca0\": -1.4274598631093849, \"pca1\": -0.5041456196456744, \"color\": 4.0}, {\"pca0\": 1.3989480309711968, \"pca1\": 1.35182156714295, \"color\": 8.0}, {\"pca0\": -0.5269772115150582, \"pca1\": -0.8636750197089746, \"color\": 4.0}, {\"pca0\": -1.8564276546793688, \"pca1\": -0.4511213870212705, \"color\": 4.0}, {\"pca0\": 0.28843573806257516, \"pca1\": 0.11800672298480751, \"color\": 6.0}, {\"pca0\": 0.9397322589562016, \"pca1\": -0.4066292410128952, \"color\": 6.0}, {\"pca0\": -0.7499018358305525, \"pca1\": -0.7164478805923918, \"color\": 4.0}, {\"pca0\": -0.09607719613925157, \"pca1\": -0.17852127532521103, \"color\": 6.0}, {\"pca0\": -1.056456985828431, \"pca1\": -0.74345685574663, \"color\": 4.0}, {\"pca0\": 0.85712903347653, \"pca1\": -0.596137994510277, \"color\": 6.0}, {\"pca0\": 1.1459882133839472, \"pca1\": -0.07022494006803001, \"color\": 6.0}, {\"pca0\": 0.5104840565715968, \"pca1\": -0.3366144571663493, \"color\": 6.0}, {\"pca0\": -1.0151395440710522, \"pca1\": -0.5593280122054393, \"color\": 4.0}, {\"pca0\": 1.6821471677693072, \"pca1\": 0.8726720137637207, \"color\": 8.0}, {\"pca0\": 0.5104840565715968, \"pca1\": -0.3366144571663493, \"color\": 6.0}, {\"pca0\": 0.20576638175258252, \"pca1\": 0.07456686364523984, \"color\": 6.0}, {\"pca0\": 2.6814828613546613, \"pca1\": 0.589957251901854, \"color\": 8.0}, {\"pca0\": -1.0907623284387837, \"pca1\": -0.6998886997472417, \"color\": 4.0}, {\"pca0\": 0.5206204699314759, \"pca1\": -0.41595144063236783, \"color\": 6.0}, {\"pca0\": -0.6569926669364617, \"pca1\": 0.325706359586138, \"color\": 6.0}, {\"pca0\": -1.8423951019373763, \"pca1\": -0.3360155323103215, \"color\": 4.0}, {\"pca0\": -2.108707269699351, \"pca1\": -0.24414300322570034, \"color\": 4.0}, {\"pca0\": -0.23826636757682462, \"pca1\": -0.8717080715111825, \"color\": 4.0}, {\"pca0\": 0.6172562113017421, \"pca1\": -0.11133687620233745, \"color\": 6.0}, {\"pca0\": 2.440955298010503, \"pca1\": 1.1725575061566988, \"color\": 8.0}, {\"pca0\": 3.502370242880622, \"pca1\": 0.7676666139511308, \"color\": 8.0}, {\"pca0\": 3.1641141783434876, \"pca1\": 1.7623342888309301, \"color\": 12.0}, {\"pca0\": -0.06516403232793212, \"pca1\": -0.14179741035249027, \"color\": 6.0}, {\"pca0\": 2.989304546972326, \"pca1\": 2.07895569778105, \"color\": 12.0}, {\"pca0\": 0.5582778683036411, \"pca1\": -0.3782725381535565, \"color\": 6.0}, {\"pca0\": 2.2729264231091633, \"pca1\": -0.19010895196163935, \"color\": 6.0}, {\"pca0\": 0.46943447940039834, \"pca1\": -0.2940013386730516, \"color\": 6.0}, {\"pca0\": -0.9774821456988871, \"pca1\": -0.5216491097266279, \"color\": 4.0}, {\"pca0\": -0.9078599810917753, \"pca1\": -0.8197753595970875, \"color\": 4.0}, {\"pca0\": -1.341464532533476, \"pca1\": -0.39492897467700205, \"color\": 4.0}, {\"pca0\": -1.652657322591401, \"pca1\": -0.6489742262893083, \"color\": 4.0}, {\"pca0\": 1.625542422135666, \"pca1\": 0.1908758510195169, \"color\": 6.0}, {\"pca0\": 0.10295660778906615, \"pca1\": -0.10233664196471792, \"color\": 6.0}, {\"pca0\": -1.0561891212422507, \"pca1\": -0.5167148937121415, \"color\": 4.0}, {\"pca0\": 3.6032313633713215, \"pca1\": 1.8720904370586187, \"color\": 12.0}, {\"pca0\": 1.8946543205498554, \"pca1\": 0.432190427842104, \"color\": 8.0}, {\"pca0\": 1.0381917200982274, \"pca1\": -0.5068782839149812, \"color\": 6.0}, {\"pca0\": -1.5820258295715743, \"pca1\": -0.6877651196224791, \"color\": 4.0}, {\"pca0\": 2.8703541704272033, \"pca1\": 0.7300085958792707, \"color\": 8.0}, {\"pca0\": -1.7848867061918448, \"pca1\": -0.48973380208328837, \"color\": 4.0}, {\"pca0\": 1.7238724016796485, \"pca1\": 0.9280351735571379, \"color\": 8.0}, {\"pca0\": -0.044387208173695555, \"pca1\": -0.025736474357150547, \"color\": 6.0}, {\"pca0\": 1.6593960040061293, \"pca1\": -0.09648657465245726, \"color\": 6.0}, {\"pca0\": -0.6197167766518127, \"pca1\": -0.9738467021837374, \"color\": 4.0}, {\"pca0\": 2.152096191805882, \"pca1\": 0.6466445392710523, \"color\": 8.0}, {\"pca0\": -0.9146042156526211, \"pca1\": -0.8207303971031781, \"color\": 4.0}, {\"pca0\": -1.7370928944598005, \"pca1\": -0.5313918830704957, \"color\": 4.0}, {\"pca0\": -1.8356508673765302, \"pca1\": -0.335060494804231, \"color\": 4.0}, {\"pca0\": 1.190429969354179, \"pca1\": -0.19313007953343675, \"color\": 6.0}, {\"pca0\": 0.7099957764384967, \"pca1\": -0.001165193727574745, \"color\": 6.0}, {\"pca0\": -0.5157834672981751, \"pca1\": -0.7503356657250131, \"color\": 4.0}, {\"pca0\": 0.8734238039619894, \"pca1\": 0.7275153372670944, \"color\": 8.0}, {\"pca0\": -1.3864102859381864, \"pca1\": -0.546758738138972, \"color\": 4.0}, {\"pca0\": -1.0083953095102065, \"pca1\": -0.5583729746993487, \"color\": 4.0}, {\"pca0\": 0.7784220579331662, \"pca1\": -0.5912037784957905, \"color\": 6.0}, {\"pca0\": 2.7356429299360263, \"pca1\": 1.0193571709415643, \"color\": 8.0}, {\"pca0\": -0.35553059713214374, \"pca1\": -0.7584374656920978, \"color\": 4.0}, {\"pca0\": -2.1396204703620687, \"pca1\": -0.28086691197672126, \"color\": 4.0}, {\"pca0\": 2.2328756238109984, \"pca1\": 1.2410168125439498, \"color\": 8.0}, {\"pca0\": 0.110178758288494, \"pca1\": 0.15788302561965417, \"color\": 6.0}, {\"pca0\": 0.253626398017744, \"pca1\": -0.11316002394318082, \"color\": 6.0}, {\"pca0\": -0.6782172037113317, \"pca1\": -0.9815177340566748, \"color\": 4.0}, {\"pca0\": 0.12322936080602806, \"pca1\": -0.26101069645335534, \"color\": 6.0}, {\"pca0\": 0.5037398220107511, \"pca1\": -0.3375694946724399, \"color\": 6.0}, {\"pca0\": 0.305672121151391, \"pca1\": -0.21958633873559807, \"color\": 6.0}, {\"pca0\": 0.14400618496026463, \"pca1\": -0.14494976045801566, \"color\": 6.0}, {\"pca0\": -1.774750329683364, \"pca1\": -0.5690708293276071, \"color\": 4.0}, {\"pca0\": 1.5217106117618682, \"pca1\": -0.3584881081457903, \"color\": 6.0}, {\"pca0\": 1.9840016331847803, \"pca1\": 0.6226540437323751, \"color\": 8.0}, {\"pca0\": 1.3366832422282489, \"pca1\": -0.33503720342272986, \"color\": 6.0}, {\"pca0\": 0.8711616230699207, \"pca1\": -0.48103209602102776, \"color\": 6.0}, {\"pca0\": 0.6583057884729406, \"pca1\": -0.1539499946956352, \"color\": 6.0}, {\"pca0\": -0.790951413001751, \"pca1\": -0.6738347620990941, \"color\": 4.0}, {\"pca0\": -1.4685094402805834, \"pca1\": -0.46153250115237654, \"color\": 4.0}, {\"pca0\": 0.38456748199836294, \"pca1\": 0.14788638448746122, \"color\": 6.0}, {\"pca0\": 0.3766949142636439, \"pca1\": -0.40417302114781434, \"color\": 6.0}, {\"pca0\": -0.14413701947969795, \"pca1\": 0.00912158212863416, \"color\": 6.0}, {\"pca0\": 0.8402484592586013, \"pca1\": -0.5177559609937485, \"color\": 6.0}, {\"pca0\": -1.2900062205709013, \"pca1\": -0.8085960449298282, \"color\": 4.0}, {\"pca0\": 0.2845395618290634, \"pca1\": -0.07643615897046012, \"color\": 6.0}, {\"pca0\": -1.6009673346258448, \"pca1\": -0.496189425321248, \"color\": 4.0}, {\"pca0\": -0.40263049315935195, \"pca1\": 0.16719648802167722, \"color\": 6.0}, {\"pca0\": 1.2730331948338507, \"pca1\": -0.003621326036055028, \"color\": 6.0}, {\"pca0\": 0.04113020646363108, \"pca1\": -0.17578445946675994, \"color\": 6.0}, {\"pca0\": -0.14989428711865196, \"pca1\": 0.20083351723407034, \"color\": 6.0}, {\"pca0\": 1.418636571285985, \"pca1\": 0.7552389680021955, \"color\": 8.0}, {\"pca0\": 1.5833389511080536, \"pca1\": 0.8595214845129817, \"color\": 8.0}, {\"pca0\": 4.675778545512585, \"pca1\": 1.5321669032748404, \"color\": 12.0}, {\"pca0\": 0.8801680385228351, \"pca1\": 0.7284703747731849, \"color\": 8.0}, {\"pca0\": -0.9218925706851661, \"pca1\": -0.9348812580863367, \"color\": 4.0}, {\"pca0\": -8.711929721224337, \"pca1\": 2.940624963125006, \"color\": 0.0}, {\"pca0\": -0.23152213301597888, \"pca1\": -0.870753034005092, \"color\": 4.0}, {\"pca0\": -1.3055890516175153, \"pca1\": -0.5841360264632772, \"color\": 4.0}, {\"pca0\": 1.3635544782241917, \"pca1\": 0.6827462755628446, \"color\": 8.0}, {\"pca0\": 0.6549136096739073, \"pca1\": -0.0736579737235262, \"color\": 6.0}, {\"pca0\": 1.049896518782584, \"pca1\": -0.2616437685775929, \"color\": 6.0}, {\"pca0\": 0.5621740445371528, \"pca1\": -0.1838296561982889, \"color\": 6.0}, {\"pca0\": 0.42932492380226117, \"pca1\": -0.07269070373151405, \"color\": 6.0}, {\"pca0\": 2.028443389155012, \"pca1\": 0.49974890426696833, \"color\": 8.0}, {\"pca0\": -1.4931824406683316, \"pca1\": -0.7720363191029839, \"color\": 4.0}, {\"pca0\": 0.20966255798609426, \"pca1\": 0.2690097456005075, \"color\": 6.0}, {\"pca0\": -1.0151395440710522, \"pca1\": -0.5593280122054393, \"color\": 4.0}, {\"pca0\": 0.8301120458987223, \"pca1\": -0.43841897752773007, \"color\": 6.0}, {\"pca0\": 0.08217978363482957, \"pca1\": -0.21839757796005765, \"color\": 6.0}, {\"pca0\": -1.0777778936029687, \"pca1\": -0.9727135714407376, \"color\": 4.0}, {\"pca0\": -10.530895798180797, \"pca1\": 5.152790848238717, \"color\": 0.0}, {\"pca0\": 3.43852095648517, \"pca1\": 1.1161987597490552, \"color\": 8.0}, {\"pca0\": 0.4501016742537015, \"pca1\": 0.04337014470722512, \"color\": 6.0}, {\"pca0\": -1.459418282669838, \"pca1\": -0.31407261534497505, \"color\": 4.0}, {\"pca0\": -0.53087338774857, \"pca1\": -1.0581179016642421, \"color\": 4.0}, {\"pca0\": 0.11692299284933977, \"pca1\": 0.15883806312574472, \"color\": 6.0}, {\"pca0\": 2.1931457689770806, \"pca1\": 0.6040314207777545, \"color\": 8.0}, {\"pca0\": 2.0661007875271773, \"pca1\": 0.5374278067457796, \"color\": 8.0}, {\"pca0\": 1.388373230193805, \"pca1\": -0.1822524024546695, \"color\": 6.0}, {\"pca0\": -2.614333200633642, \"pca1\": -0.024424890036814504, \"color\": 4.0}, {\"pca0\": -0.9218925706851661, \"pca1\": -0.9348812580863367, \"color\": 4.0}, {\"pca0\": -1.5752815950107286, \"pca1\": -0.6868100821163884, \"color\": 4.0}, {\"pca0\": 1.9043388257642524, \"pca1\": 0.1090589995902984, \"color\": 8.0}, {\"pca0\": -0.5303954718099878, \"pca1\": -0.7988532715859608, \"color\": 4.0}, {\"pca0\": -0.7431576012697068, \"pca1\": -0.7154928430863012, \"color\": 4.0}, {\"pca0\": -0.6332714503066214, \"pca1\": -0.829687970594705, \"color\": 4.0}, {\"pca0\": 3.0675033278588746, \"pca1\": 0.9772124262224343, \"color\": 10.0}, {\"pca0\": 0.243967900596447, \"pca1\": 0.22544158960111918, \"color\": 6.0}, {\"pca0\": -0.5613086356213073, \"pca1\": -0.8355771365586815, \"color\": 4.0}, {\"pca0\": -1.702283517563571, \"pca1\": -0.30022509236420686, \"color\": 4.0}, {\"pca0\": -1.7738244660510951, \"pca1\": -0.261612677302189, \"color\": 4.0}, {\"pca0\": -1.0840180938779378, \"pca1\": -0.6989336622411512, \"color\": 4.0}, {\"pca0\": -0.570420194737358, \"pca1\": -0.3631912889939742, \"color\": 5.0}, {\"pca0\": 0.3626623246702531, \"pca1\": -0.5192789196370635, \"color\": 6.0}, {\"pca0\": 2.991703557613734, \"pca1\": 0.486958138745512, \"color\": 8.0}, {\"pca0\": 3.43852095648517, \"pca1\": 1.1161987597490552, \"color\": 8.0}, {\"pca0\": 0.30305420509123154, \"pca1\": -1.1689226562632422, \"color\": 4.0}, {\"pca0\": 1.799731245192882, \"pca1\": 1.116588714435228, \"color\": 8.0}, {\"pca0\": -7.498139682501971, \"pca1\": 1.6112826479713733, \"color\": 0.0}, {\"pca0\": 0.05147852415369009, \"pca1\": 0.15012796361214115, \"color\": 6.0}, {\"pca0\": -0.7499018358305525, \"pca1\": -0.7164478805923918, \"color\": 4.0}, {\"pca0\": -1.6762821682215732, \"pca1\": -0.5715472740571709, \"color\": 4.0}, {\"pca0\": -0.3319448779212023, \"pca1\": -0.40060064525249517, \"color\": 6.0}, {\"pca0\": -0.044387208173695555, \"pca1\": -0.025736474357150547, \"color\": 6.0}, {\"pca0\": 1.2730331948338507, \"pca1\": -0.003621326036055028, \"color\": 6.0}, {\"pca0\": 1.5748668183823475, \"pca1\": -0.4494146227444201, \"color\": 6.0}, {\"pca0\": 0.2371014852651101, \"pca1\": -0.29398919374373056, \"color\": 6.0}, {\"pca0\": -1.0086631740963867, \"pca1\": -0.7851149367338371, \"color\": 4.0}, {\"pca0\": 0.8081791423416246, \"pca1\": 0.7188892678880663, \"color\": 8.0}, {\"pca0\": -0.8735546384814226, \"pca1\": -0.8633435155964758, \"color\": 4.0}, {\"pca0\": -0.8333203834799606, \"pca1\": -0.48543450076169264, \"color\": 4.0}, {\"pca0\": 2.492141288541581, \"pca1\": 1.0506074041973827, \"color\": 8.0}, {\"pca0\": 1.749705537861499, \"pca1\": -0.4244691772562528, \"color\": 6.0}, {\"pca0\": 2.794999250645652, \"pca1\": 0.8161898703719566, \"color\": 8.0}, {\"pca0\": -1.231844319475997, \"pca1\": -0.3631392381621673, \"color\": 4.0}, {\"pca0\": 3.5125066562405007, \"pca1\": 0.6883296304851122, \"color\": 8.0}, {\"pca0\": -0.6404936008060492, \"pca1\": -1.0899076381790769, \"color\": 4.0}, {\"pca0\": -0.09376642482115309, \"pca1\": 0.3076935259407983, \"color\": 6.0}, {\"pca0\": -1.5458851678612555, \"pca1\": -0.4236966453252965, \"color\": 4.0}, {\"pca0\": -0.5680528701821531, \"pca1\": -0.836532174064772, \"color\": 4.0}, {\"pca0\": -0.044387208173695555, \"pca1\": -0.025736474357150547, \"color\": 6.0}, {\"pca0\": 2.0694929663262105, \"pca1\": 0.4571357857736706, \"color\": 8.0}, {\"pca0\": -0.718988672019233, \"pca1\": -0.6797240156196711, \"color\": 4.0}, {\"pca0\": -0.9353810398068576, \"pca1\": -0.9367913330985178, \"color\": 4.0}, {\"pca0\": 3.596487128810476, \"pca1\": 1.871135399552528, \"color\": 12.0}, {\"pca0\": -2.9084634521321564, \"pca1\": 0.6941117353841211, \"color\": 4.0}, {\"pca0\": 1.268112606341968, \"pca1\": -0.4094400584308625, \"color\": 6.0}, {\"pca0\": -0.1413878782605057, \"pca1\": -0.7079601458535463, \"color\": 5.0}, {\"pca0\": -7.340441700816576, \"pca1\": 1.439907598504156, \"color\": 0.0}, {\"pca0\": -1.4292418174169872, \"pca1\": -0.731031617689061, \"color\": 4.0}, {\"pca0\": 1.0155911761722314, \"pca1\": -0.21807561257820465, \"color\": 6.0}, {\"pca0\": -3.145088523602318, \"pca1\": 0.43417930538700256, \"color\": 4.0}, {\"pca0\": 0.3087085647823333, \"pca1\": -0.04066724394722939, \"color\": 6.0}, {\"pca0\": 1.0522134221679789, \"pca1\": 0.11133372357606482, \"color\": 6.0}, {\"pca0\": -1.381448005684943, \"pca1\": -0.7726896986762682, \"color\": 4.0}, {\"pca0\": 3.0641703697335267, \"pca1\": 0.7558038757089122, \"color\": 8.0}, {\"pca0\": -0.0064517009382332145, \"pca1\": 0.2711230280653668, \"color\": 6.0}, {\"pca0\": -1.303494689692593, \"pca1\": -0.8105061199420093, \"color\": 4.0}, {\"pca0\": 2.633689049622617, \"pca1\": 0.6316153328890614, \"color\": 8.0}, {\"pca0\": -0.5956139782316601, \"pca1\": -0.7920089805592931, \"color\": 4.0}, {\"pca0\": 0.9420891379732249, \"pca1\": -0.19519100342274726, \"color\": 6.0}, {\"pca0\": 1.3785270156878475, \"pca1\": 0.9765496029437329, \"color\": 8.0}, {\"pca0\": -1.1387923467219225, \"pca1\": -0.7062236472095232, \"color\": 4.0}, {\"pca0\": 0.14400618496026463, \"pca1\": -0.14494976045801566, \"color\": 6.0}, {\"pca0\": -1.2661496620863495, \"pca1\": -0.31957108216277896, \"color\": 4.0}, {\"pca0\": 0.5936715684562387, \"pca1\": 0.2908029285397499, \"color\": 6.0}, {\"pca0\": 2.3646846693890087, \"pca1\": 0.5786704410425129, \"color\": 8.0}, {\"pca0\": 2.891131068284236, \"pca1\": 0.846069619431211, \"color\": 8.0}, {\"pca0\": 0.9466609709458794, \"pca1\": 0.09722815681923509, \"color\": 6.0}, {\"pca0\": 0.07926559447717457, \"pca1\": 0.12115916064693347, \"color\": 6.0}, {\"pca0\": -0.9260599486167151, \"pca1\": -0.5956061832364554, \"color\": 4.0}, {\"pca0\": 1.857489884682937, \"pca1\": 1.1723523621792649, \"color\": 8.0}, {\"pca0\": -1.2229858261378437, \"pca1\": -0.3946272729658955, \"color\": 4.0}, {\"pca0\": 2.4298632001790526, \"pca1\": 0.7333654045793551, \"color\": 8.0}, {\"pca0\": -1.063745340860976, \"pca1\": -0.8576077167297886, \"color\": 4.0}, {\"pca0\": -1.241668325218556, \"pca1\": -0.7370583462182675, \"color\": 4.0}, {\"pca0\": -3.7179832215625015, \"pca1\": 1.7594849576311085, \"color\": 4.0}, {\"pca0\": 0.18214149927101192, \"pca1\": 0.15199377209907713, \"color\": 6.0}, {\"pca0\": 2.3752327204515566, \"pca1\": 0.9046668066993891, \"color\": 8.0}, {\"pca0\": 1.0976903305146284, \"pca1\": -0.30330184956480005, \"color\": 6.0}, {\"pca0\": 1.1930478854143385, \"pca1\": 0.7562062379942075, \"color\": 8.0}, {\"pca0\": 2.412478481121053, \"pca1\": 0.5370123600553057, \"color\": 8.0}, {\"pca0\": 2.3371235613395016, \"pca1\": 0.6231936345479917, \"color\": 8.0}, {\"pca0\": 2.3999057208393046, \"pca1\": 1.2151706246499967, \"color\": 8.0}, {\"pca0\": -0.03062063018870689, \"pca1\": 0.2353542005987366, \"color\": 6.0}, {\"pca0\": 1.5833389511080536, \"pca1\": 0.8595214845129817, \"color\": 8.0}, {\"pca0\": -1.566661992015492, \"pca1\": -0.5397575813206363, \"color\": 4.0}, {\"pca0\": 1.238727852223498, \"pca1\": 0.03994682996333321, \"color\": 6.0}, {\"pca0\": -0.07453936733710073, \"pca1\": 0.11465224274138433, \"color\": 6.0}, {\"pca0\": 2.8500814911130377, \"pca1\": 0.8886827379245087, \"color\": 8.0}, {\"pca0\": 0.10004234492861495, \"pca1\": 0.2372200090856726, \"color\": 6.0}, {\"pca0\": -10.392506088127138, \"pca1\": 4.881831537181481, \"color\": 0.0}, {\"pca0\": -1.774750329683364, \"pca1\": -0.5690708293276071, \"color\": 4.0}, {\"pca0\": 1.54005740463472, \"pca1\": -0.680581457229009, \"color\": 6.0}, {\"pca0\": 0.8713060511643282, \"pca1\": 0.18340943131192114, \"color\": 6.0}, {\"pca0\": -1.46354716002734, \"pca1\": -0.6874634616896728, \"color\": 4.0}, {\"pca0\": -1.2645394744463168, \"pca1\": -0.626749144956575, \"color\": 4.0}, {\"pca0\": -1.4752536748414289, \"pca1\": -0.4624875386584671, \"color\": 4.0}, {\"pca0\": 1.542289373936855, \"pca1\": 0.9021346030062793, \"color\": 8.0}, {\"pca0\": 1.2548742130369774, \"pca1\": 0.829653967939649, \"color\": 8.0}, {\"pca0\": 0.14400618496026463, \"pca1\": -0.14494976045801566, \"color\": 6.0}, {\"pca0\": 2.796088013980346, \"pca1\": 0.34595175726200506, \"color\": 8.0}, {\"pca0\": 0.66437443999744, \"pca1\": -0.2509711479196588, \"color\": 6.0}, {\"pca0\": -1.3744385534783412, \"pca1\": -0.31845909130841976, \"color\": 4.0}, {\"pca0\": 0.699355365644139, \"pca1\": -0.1965631131889329, \"color\": 6.0}, {\"pca0\": 0.20291832342524851, \"pca1\": 0.26805470809441695, \"color\": 6.0}, {\"pca0\": 0.0995383474941365, \"pca1\": -0.037514893841704, \"color\": 6.0}, {\"pca0\": -0.5303954718099878, \"pca1\": -0.7988532715859608, \"color\": 4.0}, {\"pca0\": -2.451692312252889, \"pca1\": 0.10013529461482164, \"color\": 4.0}, {\"pca0\": -0.5781892835420321, \"pca1\": -0.7571951905987535, \"color\": 4.0}, {\"pca0\": 0.46943447940039834, \"pca1\": -0.2940013386730516, \"color\": 6.0}, {\"pca0\": 0.10295660778906615, \"pca1\": -0.10233664196471792, \"color\": 6.0}, {\"pca0\": 0.020831298247976606, \"pca1\": -0.03258076538381811, \"color\": 6.0}, {\"pca0\": 0.110178758288494, \"pca1\": 0.15788302561965417, \"color\": 6.0}, {\"pca0\": -1.8216182777831396, \"pca1\": -0.21995459631498182, \"color\": 4.0}, {\"pca0\": -0.6434077899637043, \"pca1\": -0.750350899572086, \"color\": 4.0}, {\"pca0\": 0.6283325725318862, \"pca1\": -0.011976430776716597, \"color\": 6.0}, {\"pca0\": -1.8457872438850114, \"pca1\": -0.2557234675599123, \"color\": 4.0}, {\"pca0\": -0.7738048271754202, \"pca1\": -0.8982015720822605, \"color\": 4.0}, {\"pca0\": 1.3405794184617608, \"pca1\": -0.14059432146746229, \"color\": 6.0}, {\"pca0\": -0.8951467848053957, \"pca1\": -0.5588823182637347, \"color\": 4.0}, {\"pca0\": 1.480463046314216, \"pca1\": 0.8286868730608382, \"color\": 8.0}, {\"pca0\": -3.530526967022548, \"pca1\": 1.5921279174954592, \"color\": 4.0}, {\"pca0\": 1.4811128690333557, \"pca1\": -0.0720806324233061, \"color\": 6.0}, {\"pca0\": -1.3606712183821046, \"pca1\": -0.6566288064592287, \"color\": 4.0}, {\"pca0\": 2.4920086610503036, \"pca1\": 1.2756200803640787, \"color\": 8.0}, {\"pca0\": -0.9837189351592031, \"pca1\": -1.0083290318100784, \"color\": 4.0}, {\"pca0\": 1.2319836176626522, \"pca1\": 0.03899179245724267, \"color\": 6.0}, {\"pca0\": -0.9764306169780561, \"pca1\": -0.8941782146052201, \"color\": 4.0}, {\"pca0\": 2.587821198034683, \"pca1\": 0.8366927084708496, \"color\": 8.0}, {\"pca0\": -1.1525887297642188, \"pca1\": -0.7733365172492837, \"color\": 4.0}, {\"pca0\": 0.3227410806729279, \"pca1\": 0.07443856698541923, \"color\": 6.0}, {\"pca0\": -0.6337493662452034, \"pca1\": -1.0889526006729864, \"color\": 4.0}, {\"pca0\": 0.49454343022393327, \"pca1\": -0.0795349947581816, \"color\": 6.0}, {\"pca0\": -1.8467131075172798, \"pca1\": -0.5631816195853303, \"color\": 4.0}, {\"pca0\": 0.13386977160038557, \"pca1\": -0.0656127769919972, \"color\": 6.0}, {\"pca0\": 1.1587425428039857, \"pca1\": 0.7997743939935958, \"color\": 8.0}, {\"pca0\": -1.6661457917130924, \"pca1\": -0.6508843013014896, \"color\": 4.0}, {\"pca0\": 2.3714289039498544, \"pca1\": 0.5796254785486035, \"color\": 8.0}, {\"pca0\": 3.731702440438927, \"pca1\": 1.8565218149742122, \"color\": 12.0}, {\"pca0\": 0.22319107644221042, \"pca1\": 0.10938065360577943, \"color\": 6.0}, {\"pca0\": 0.3260932101375366, \"pca1\": 0.15568571302021933, \"color\": 6.0}, {\"pca0\": -0.12467958863247254, \"pca1\": 0.27096966096807756, \"color\": 6.0}, {\"pca0\": -2.1869801988174613, \"pca1\": -0.20654143229672334, \"color\": 4.0}, {\"pca0\": 0.30305420509123154, \"pca1\": -1.1689226562632422, \"color\": 4.0}, {\"pca0\": -0.05762336140709247, \"pca1\": -1.024505017408564, \"color\": 4.0}, {\"pca0\": 1.388373230193805, \"pca1\": -0.1822524024546695, \"color\": 6.0}, {\"pca0\": -9.638809338190597, \"pca1\": 4.06845952171988, \"color\": 0.0}, {\"pca0\": 1.0795314961233473, \"pca1\": 0.5299736195241052, \"color\": 8.0}, {\"pca0\": 0.8909031474421474, \"pca1\": -0.07324090146343105, \"color\": 6.0}, {\"pca0\": -1.2848122274632787, \"pca1\": -0.4680750904679375, \"color\": 4.0}, {\"pca0\": -0.3202951322658606, \"pca1\": 0.12996327948457054, \"color\": 6.0}, {\"pca0\": 1.2964278613454505, \"pca1\": 1.0617758399303285, \"color\": 8.0}, {\"pca0\": 1.6284826927892175, \"pca1\": -0.13321061473837903, \"color\": 6.0}, {\"pca0\": 2.515858457052165, \"pca1\": 0.8425819619914265, \"color\": 8.0}, {\"pca0\": 1.542289373936855, \"pca1\": 0.9021346030062793, \"color\": 8.0}, {\"pca0\": -0.5786671994806142, \"pca1\": -1.016459820677035, \"color\": 4.0}, {\"pca0\": -0.4724391652221681, \"pca1\": -0.9043780631900912, \"color\": 4.0}, {\"pca0\": -1.3851190873099195, \"pca1\": -0.3523179313194693, \"color\": 4.0}, {\"pca0\": 1.5833389511080536, \"pca1\": 0.8595214845129817, \"color\": 8.0}, {\"pca0\": 4.552250435302755, \"pca1\": 0.9277764958065645, \"color\": 8.0}, {\"pca0\": 1.4394134691430176, \"pca1\": 0.871299991554136, \"color\": 8.0}, {\"pca0\": -1.6260027341497518, \"pca1\": -0.0789482148314748, \"color\": 4.0}, {\"pca0\": -1.2100014281534268, \"pca1\": -0.6674521884376916, \"color\": 4.0}, {\"pca0\": 0.9208926851378199, \"pca1\": 0.23167327087956757, \"color\": 8.0}, {\"pca0\": 0.2230688956717193, \"pca1\": -0.40909509223297974, \"color\": 6.0}, {\"pca0\": -0.9353810398068576, \"pca1\": -0.9367913330985178, \"color\": 4.0}, {\"pca0\": -6.887092646591595, \"pca1\": 0.9229822613060348, \"color\": 0.0}, {\"pca0\": 1.1202908744406241, \"pca1\": -0.5921045209015766, \"color\": 6.0}, {\"pca0\": 0.010428946982491602, \"pca1\": 0.1927410821054389, \"color\": 6.0}, {\"pca0\": 1.2399016755733214, \"pca1\": 0.5358506405587606, \"color\": 8.0}, {\"pca0\": 2.286389331548314, \"pca1\": 0.988938006179894, \"color\": 8.0}, {\"pca0\": -0.45805084046068634, \"pca1\": -1.0484832804613196, \"color\": 4.0}, {\"pca0\": -1.2694972610028452, \"pca1\": -0.9192770709689767, \"color\": 4.0}, {\"pca0\": 1.4483701546264791, \"pca1\": 0.4192517393174256, \"color\": 8.0}, {\"pca0\": -0.37198512023141656, \"pca1\": -0.022821521483489905, \"color\": 6.0}, {\"pca0\": 1.2949837686351147, \"pca1\": 0.6083433329981115, \"color\": 8.0}, {\"pca0\": -2.4517441022297723, \"pca1\": -0.03377678899687068, \"color\": 4.0}, {\"pca0\": -1.0998370946242482, \"pca1\": -0.5224666284457887, \"color\": 4.0}, {\"pca0\": 0.10295660778906615, \"pca1\": -0.10233664196471792, \"color\": 6.0}, {\"pca0\": 2.4987528956111493, \"pca1\": 1.2765751178701694, \"color\": 8.0}, {\"pca0\": 1.542289373936855, \"pca1\": 0.9021346030062793, \"color\": 8.0}, {\"pca0\": -0.8540972076341972, \"pca1\": -0.6014954367570324, \"color\": 4.0}, {\"pca0\": 2.829304593256005, \"pca1\": 0.7726217143725684, \"color\": 8.0}, {\"pca0\": 0.21293255601463645, \"pca1\": -0.3297580212103608, \"color\": 6.0}, {\"pca0\": -0.9556537928238196, \"pca1\": -0.7781172786098803, \"color\": 4.0}, {\"pca0\": 0.32948531523377367, \"pca1\": 0.07539360449150978, \"color\": 6.0}, {\"pca0\": -0.9569731861308307, \"pca1\": -0.6323301357657767, \"color\": 4.0}, {\"pca0\": -1.2728938966471954, \"pca1\": -0.32052611966886957, \"color\": 4.0}, {\"pca0\": 2.529798686913746, \"pca1\": 1.088286306676194, \"color\": 8.0}, {\"pca0\": -0.5371135511721411, \"pca1\": -0.7843379486863556, \"color\": 4.0}, {\"pca0\": -3.1040389464311198, \"pca1\": 0.3915661868937049, \"color\": 4.0}, {\"pca0\": -0.7431576012697068, \"pca1\": -0.7154928430863012, \"color\": 4.0}, {\"pca0\": -0.9193157140558693, \"pca1\": -0.5946511457303649, \"color\": 4.0}, {\"pca0\": -0.22623617382209493, \"pca1\": 0.09434781911522963, \"color\": 6.0}, {\"pca0\": 0.6756904338281439, \"pca1\": 0.04240296227181357, \"color\": 6.0}, {\"pca0\": -1.0393085470243222, \"pca1\": -0.5950969272286699, \"color\": 4.0}, {\"pca0\": 1.856985960951255, \"pca1\": 0.8976175468084886, \"color\": 8.0}, {\"pca0\": 2.4095380630619094, \"pca1\": 0.8610986507000008, \"color\": 8.0}, {\"pca0\": -0.3771637101833692, \"pca1\": 0.3490434317732307, \"color\": 6.0}, {\"pca0\": 1.3366832422282489, \"pca1\": -0.33503720342272986, \"color\": 6.0}, {\"pca0\": 1.522162446204554, \"pca1\": -0.11469375091660379, \"color\": 6.0}, {\"pca0\": 1.4400632918621572, \"pca1\": -0.029467513930008356, \"color\": 6.0}, {\"pca0\": 0.037711946168701424, \"pca1\": -0.110962711343746, \"color\": 6.0}, {\"pca0\": -0.375069385109845, \"pca1\": 0.12267329451619839, \"color\": 6.0}, {\"pca0\": 0.27786090043378514, \"pca1\": -1.416067290391112, \"color\": 4.0}, {\"pca0\": -1.8153780775081705, \"pca1\": -0.4937345055145682, \"color\": 4.0}, {\"pca0\": 0.10970084234991191, \"pca1\": -0.10138160445862736, \"color\": 6.0}, {\"pca0\": 2.2105304880350802, \"pca1\": 0.800384465301804, \"color\": 8.0}, {\"pca0\": -1.0226957636897775, \"pca1\": -0.9002208352230864, \"color\": 4.0}, {\"pca0\": -0.8884025502445498, \"pca1\": -0.5579272807576442, \"color\": 4.0}, {\"pca0\": 0.3766949142636439, \"pca1\": -0.40417302114781434, \"color\": 6.0}, {\"pca0\": -1.2195937210416066, \"pca1\": -0.4749193814946051, \"color\": 4.0}, {\"pca0\": 0.5413972203829162, \"pca1\": -0.2998905921936286, \"color\": 6.0}, {\"pca0\": 2.1081876687837102, \"pca1\": 1.385851611215324, \"color\": 8.0}, {\"pca0\": 0.7577895881705408, \"pca1\": -0.042823274714781874, \"color\": 6.0}, {\"pca0\": -1.1510230851553258, \"pca1\": -0.4005165264864725, \"color\": 4.0}, {\"pca0\": 0.30531638598329996, \"pca1\": 0.03962477702487963, \"color\": 6.0}, {\"pca0\": -1.3466386287887138, \"pca1\": -0.5415229079699796, \"color\": 4.0}, {\"pca0\": 0.08217978363482957, \"pca1\": -0.21839757796005765, \"color\": 6.0}, {\"pca0\": 0.7379527855893655, \"pca1\": 0.019813305738118188, \"color\": 6.0}, {\"pca0\": 0.13831928125642282, \"pca1\": 0.0467715394858738, \"color\": 6.0}, {\"pca0\": -0.9489095582629739, \"pca1\": -0.7771622411037897, \"color\": 4.0}, {\"pca0\": -0.1508812540405437, \"pca1\": 0.008166544622543603, \"color\": 6.0}, {\"pca0\": -1.5342320178395301, \"pca1\": -0.7294232006096861, \"color\": 4.0}, {\"pca0\": -0.8782661368846708, \"pca1\": -0.6372642642236627, \"color\": 4.0}, {\"pca0\": 1.388373230193805, \"pca1\": -0.1822524024546695, \"color\": 6.0}, {\"pca0\": 2.412478481121053, \"pca1\": 0.5370123600553057, \"color\": 8.0}, {\"pca0\": -2.2044049303584874, \"pca1\": -0.2413552660355632, \"color\": 4.0}, {\"pca0\": -0.7532940146295858, \"pca1\": -0.6361558596202828, \"color\": 4.0}, {\"pca0\": -1.0689239308129288, \"pca1\": -0.48574276347306794, \"color\": 4.0}, {\"pca0\": -1.3055890516175153, \"pca1\": -0.5841360264632772, \"color\": 4.0}, {\"pca0\": 1.1049386362127487, \"pca1\": -0.02761182157473232, \"color\": 6.0}, {\"pca0\": -2.400587347285852, \"pca1\": -0.15596057091809026, \"color\": 4.0}, {\"pca0\": -0.08363001146127405, \"pca1\": 0.22835654247477982, \"color\": 6.0}, {\"pca0\": 0.26462254398019247, \"pca1\": -0.17697322024230033, \"color\": 6.0}, {\"pca0\": 0.305672121151391, \"pca1\": -0.21958633873559807, \"color\": 6.0}, {\"pca0\": 3.747660916473632, \"pca1\": 2.1350469205014417, \"color\": 12.0}, {\"pca0\": -1.2645394744463168, \"pca1\": -0.626749144956575, \"color\": 4.0}, {\"pca0\": 3.193203696085844, \"pca1\": 2.2039218486923677, \"color\": 12.0}, {\"pca0\": -2.048635019107356, \"pca1\": -0.2843392414897372, \"color\": 4.0}, {\"pca0\": -1.7415007114946435, \"pca1\": -0.5647030268088035, \"color\": 4.0}, {\"pca0\": -1.3864102859381864, \"pca1\": -0.546758738138972, \"color\": 4.0}, {\"pca0\": 1.5154182116437085, \"pca1\": -0.11564878842269445, \"color\": 6.0}, {\"pca0\": 2.8703541704272033, \"pca1\": 0.7300085958792707, \"color\": 8.0}, {\"pca0\": 0.6435976158432033, \"pca1\": -0.3670320839149985, \"color\": 6.0}, {\"pca0\": -0.8473529730733513, \"pca1\": -0.6005403992509419, \"color\": 4.0}, {\"pca0\": -0.9980227633020292, \"pca1\": -0.5897170172724789, \"color\": 4.0}, {\"pca0\": 3.671316577068293, \"pca1\": 2.2282266571681397, \"color\": 10.0}, {\"pca0\": 0.07356047051957929, \"pca1\": -0.9043252477503159, \"color\": 5.0}, {\"pca0\": -0.7225927551484462, \"pca1\": -1.0046814011924814, \"color\": 4.0}, {\"pca0\": -1.6544897058315269, \"pca1\": -0.34188317335141405, \"color\": 4.0}, {\"pca0\": -0.23826636757682462, \"pca1\": -0.8717080715111825, \"color\": 4.0}, {\"pca0\": 0.3467216983225895, \"pca1\": -0.26219945722889576, \"color\": 6.0}, {\"pca0\": 0.1507504195211104, \"pca1\": -0.1439947229519251, \"color\": 6.0}, {\"pca0\": -1.7395191234407426, \"pca1\": -0.30518083330157725, \"color\": 4.0}, {\"pca0\": -1.6116077454202025, \"pca1\": -0.6915873447826061, \"color\": 4.0}, {\"pca0\": -0.8668104039205768, \"pca1\": -0.8623884780903852, \"color\": 4.0}, {\"pca0\": -1.1216755291015013, \"pca1\": -0.7366126084982627, \"color\": 4.0}, {\"pca0\": 1.765281621893714, \"pca1\": 0.49571551821486853, \"color\": 8.0}, {\"pca0\": -0.3000926951994635, \"pca1\": -0.9451558014566239, \"color\": 4.0}, {\"pca0\": -1.768006095122518, \"pca1\": -0.5681157918215166, \"color\": 4.0}, {\"pca0\": -1.4482366872636214, \"pca1\": -0.620206555641014, \"color\": 4.0}, {\"pca0\": -1.179841923893121, \"pca1\": -0.6636105287162255, \"color\": 4.0}, {\"pca0\": -1.3123332861783612, \"pca1\": -0.5850910639693679, \"color\": 4.0}, {\"pca0\": -0.3830516558472261, \"pca1\": -0.875453439193528, \"color\": 4.0}, {\"pca0\": 2.515858457052165, \"pca1\": 0.8425819619914265, \"color\": 8.0}, {\"pca0\": 1.1930478854143385, \"pca1\": 0.7562062379942075, \"color\": 8.0}, {\"pca0\": -0.6501520245245501, \"pca1\": -0.7513059370781765, \"color\": 4.0}, {\"pca0\": -1.6048635108593565, \"pca1\": -0.6906323072765156, \"color\": 4.0}, {\"pca0\": 2.7022597592116937, \"pca1\": 0.7060182754537945, \"color\": 8.0}, {\"pca0\": 0.46943447940039834, \"pca1\": -0.2940013386730516, \"color\": 6.0}, {\"pca0\": -0.10708253565015295, \"pca1\": -0.7515283018529345, \"color\": 5.0}, {\"pca0\": -2.0216180315295484, \"pca1\": -0.4420582584722839, \"color\": 4.0}, {\"pca0\": 0.020565360342370668, \"pca1\": 0.11340409863942044, \"color\": 6.0}, {\"pca0\": -2.416988006124491, \"pca1\": -0.7776472208438714, \"color\": 3.0}, {\"pca0\": 0.38741554032569697, \"pca1\": -0.045601459961715815, \"color\": 6.0}, {\"pca0\": -4.592671882411184, \"pca1\": 2.023057408673209, \"color\": 4.0}, {\"pca0\": -1.8439770065593812, \"pca1\": 0.08446201296470708, \"color\": 4.0}, {\"pca0\": -0.3619190965248985, \"pca1\": -1.0186036189586658, \"color\": 4.0}, {\"pca0\": -1.8157999068545623, \"pca1\": -0.5264577108343094, \"color\": 4.0}, {\"pca0\": 0.7981635823053929, \"pca1\": -0.1834125839381938, \"color\": 6.0}, {\"pca0\": -2.289856177314095, \"pca1\": -0.2373761313054677, \"color\": 4.0}, {\"pca0\": 0.8049078168662387, \"pca1\": -0.18245754643210324, \"color\": 6.0}, {\"pca0\": -0.5888036128404933, \"pca1\": -0.9371228372110166, \"color\": 4.0}, {\"pca0\": 1.4811128690333557, \"pca1\": -0.0720806324233061, \"color\": 6.0}, {\"pca0\": 3.957001411008014, \"pca1\": 0.8550998125676895, \"color\": 10.0}, {\"pca0\": 3.5125066562405007, \"pca1\": 0.6883296304851122, \"color\": 8.0}, {\"pca0\": 1.6077059423377769, \"pca1\": -0.24927146317711818, \"color\": 6.0}, {\"pca0\": -0.23819597792346361, \"pca1\": 0.04473704249797509, \"color\": 6.0}, {\"pca0\": 0.11309302114894519, \"pca1\": -0.1816736254307364, \"color\": 6.0}, {\"pca0\": 0.6435976158432033, \"pca1\": -0.3670320839149985, \"color\": 6.0}, {\"pca0\": -0.9980227633020292, \"pca1\": -0.5897170172724789, \"color\": 4.0}, {\"pca0\": -0.3000926951994635, \"pca1\": -0.9451558014566239, \"color\": 4.0}, {\"pca0\": 1.238727852223498, \"pca1\": 0.03994682996333321, \"color\": 6.0}, {\"pca0\": 0.20291832342524851, \"pca1\": 0.26805470809441695, \"color\": 6.0}, {\"pca0\": -1.6230754067427728, \"pca1\": -0.6451520011291814, \"color\": 4.0}, {\"pca0\": 2.0661007875271773, \"pca1\": 0.5374278067457796, \"color\": 8.0}, {\"pca0\": -1.4222323652103854, \"pca1\": -0.2768010103212125, \"color\": 4.0}, {\"pca0\": -0.9468367727709517, \"pca1\": -0.7116671192317952, \"color\": 4.0}, {\"pca0\": 0.5872829953606877, \"pca1\": 0.030636687716581124, \"color\": 6.0}, {\"pca0\": -1.6979654751322695, \"pca1\": -0.07305896131089783, \"color\": 4.0}, {\"pca0\": -0.12522370910417185, \"pca1\": 0.15777383749100946, \"color\": 6.0}, {\"pca0\": -0.14156023655319735, \"pca1\": 0.34935160692800543, \"color\": 6.0}, {\"pca0\": 0.10295660778906615, \"pca1\": -0.10233664196471792, \"color\": 6.0}, {\"pca0\": 0.2371014852651101, \"pca1\": -0.29398919374373056, \"color\": 6.0}, {\"pca0\": -2.542079972701164, \"pca1\": 0.3580902015921614, \"color\": 4.0}, {\"pca0\": -1.0151395440710522, \"pca1\": -0.5593280122054393, \"color\": 4.0}, {\"pca0\": -0.6689109977525451, \"pca1\": 0.17815738878706994, \"color\": 6.0}, {\"pca0\": -11.92930956015133, \"pca1\": 6.746537059753656, \"color\": 0.0}, {\"pca0\": 1.0314474855373814, \"pca1\": -0.5078333214210717, \"color\": 6.0}, {\"pca0\": -0.1373927849188522, \"pca1\": 0.010076619634724721, \"color\": 6.0}, {\"pca0\": 0.12043595126922435, \"pca1\": -0.9030928806952433, \"color\": 4.0}, {\"pca0\": -1.116717742544973, \"pca1\": -0.44408468248586086, \"color\": 4.0}, {\"pca0\": 1.175877038639692, \"pca1\": -0.24487683797824858, \"color\": 6.0}, {\"pca0\": -0.9629421478563646, \"pca1\": -0.892268139593039, \"color\": 4.0}, {\"pca0\": 0.1304515113054559, \"pca1\": -0.0007910288689832878, \"color\": 6.0}, {\"pca0\": 3.803665181421445, \"pca1\": 1.8506325614536348, \"color\": 12.0}, {\"pca0\": 1.5377176146669966, \"pca1\": 0.6097155303208979, \"color\": 8.0}, {\"pca0\": -1.5095590174517817, \"pca1\": -0.41891938265907885, \"color\": 4.0}, {\"pca0\": 1.8912913035616075, \"pca1\": 0.8540493908091005, \"color\": 8.0}, {\"pca0\": -1.8157999068545623, \"pca1\": -0.5264577108343094, \"color\": 4.0}, {\"pca0\": 3.0641703697335267, \"pca1\": 0.7558038757089122, \"color\": 8.0}, {\"pca0\": 0.6240004458625878, \"pca1\": -0.11038183869624688, \"color\": 6.0}, {\"pca0\": -1.3336541939528987, \"pca1\": -0.8143477796634754, \"color\": 4.0}, {\"pca0\": 0.6240004458625878, \"pca1\": -0.11038183869624688, \"color\": 6.0}, {\"pca0\": 1.2230210276525968, \"pca1\": 0.6142325865186885, \"color\": 8.0}, {\"pca0\": -0.873315301350023, \"pca1\": -0.24375032308583303, \"color\": 5.0}, {\"pca0\": -0.2963095798907862, \"pca1\": -0.6323685300698733, \"color\": 5.0}, {\"pca0\": 0.9914222469217576, \"pca1\": -0.2538444400448347, \"color\": 6.0}, {\"pca0\": 1.0088469416113854, \"pca1\": -0.2190306500842952, \"color\": 6.0}, {\"pca0\": 4.222680991183475, \"pca1\": 1.5509311535179384, \"color\": 12.0}, {\"pca0\": 1.6417732473372515, \"pca1\": 1.0132614105437334, \"color\": 8.0}, {\"pca0\": -0.7125225463216843, \"pca1\": -0.9379495780572865, \"color\": 4.0}, {\"pca0\": -0.10051065938199887, \"pca1\": 0.30673848843470775, \"color\": 6.0}, {\"pca0\": -0.6709288486787867, \"pca1\": -0.8673668730735162, \"color\": 4.0}, {\"pca0\": 0.06190703061786766, \"pca1\": -0.0597235234714202, \"color\": 6.0}, {\"pca0\": -0.8257608267493783, \"pca1\": -0.905001596583683, \"color\": 4.0}, {\"pca0\": -0.7943435918007843, \"pca1\": -0.593542741126985, \"color\": 4.0}, {\"pca0\": -1.2988448170566695, \"pca1\": -0.5831809889571867, \"color\": 4.0}, {\"pca0\": 0.34636596315449847, \"pca1\": -0.002988341468418101, \"color\": 6.0}, {\"pca0\": 2.018306975795133, \"pca1\": 0.5790858877329869, \"color\": 8.0}, {\"pca0\": -2.084792824533696, \"pca1\": -0.3028850333285129, \"color\": 4.0}, {\"pca0\": -1.716316107156962, \"pca1\": -0.41533099085345604, \"color\": 4.0}, {\"pca0\": -1.499422640943301, \"pca1\": -0.4982564099033976, \"color\": 4.0}, {\"pca0\": 0.18214149927101192, \"pca1\": 0.15199377209907713, \"color\": 6.0}, {\"pca0\": -0.6337493662452034, \"pca1\": -1.0889526006729864, \"color\": 4.0}, {\"pca0\": 1.1802935559943, \"pca1\": -0.1137930960674183, \"color\": 6.0}, {\"pca0\": -0.044387208173695555, \"pca1\": -0.025736474357150547, \"color\": 6.0}, {\"pca0\": 0.40814600048478067, \"pca1\": 0.2393190765925277, \"color\": 8.0}, {\"pca0\": 2.1694809108638817, \"pca1\": 0.8429975837951017, \"color\": 8.0}, {\"pca0\": 0.041342110793811046, \"pca1\": 0.2294649470781596, \"color\": 6.0}, {\"pca0\": -0.02387639562786113, \"pca1\": 0.23630923810482718, \"color\": 6.0}, {\"pca0\": 1.7586816680216835, \"pca1\": 1.1592018329285259, \"color\": 8.0}, {\"pca0\": 1.47436863447251, \"pca1\": -0.0730356699293967, \"color\": 6.0}, {\"pca0\": -1.7980743864664739, \"pca1\": -0.5190133621380087, \"color\": 4.0}, {\"pca0\": -3.615946959708814, \"pca1\": 0.2172485951225691, \"color\": 3.0}, {\"pca0\": 1.1802935559943, \"pca1\": -0.1137930960674183, \"color\": 6.0}, {\"pca0\": -0.27792616178765095, \"pca1\": -0.05843698185283084, \"color\": 6.0}, {\"pca0\": -1.3263658757717518, \"pca1\": -0.700196962458617, \"color\": 4.0}, {\"pca0\": 1.3140827720050492, \"pca1\": -0.04623444452935277, \"color\": 6.0}, {\"pca0\": -0.0033376310024970618, \"pca1\": -0.06834959285044827, \"color\": 6.0}, {\"pca0\": 2.6530398518619474, \"pca1\": 0.8298485925573834, \"color\": 8.0}, {\"pca0\": 1.2010703064457404, \"pca1\": 0.002267752371320883, \"color\": 6.0}, {\"pca0\": -1.260643298212805, \"pca1\": -0.43230626300130737, \"color\": 4.0}, {\"pca0\": -0.9400925382101059, \"pca1\": -0.7107120817257047, \"color\": 4.0}, {\"pca0\": 2.6539618763423753, \"pca1\": 0.4729413659570244, \"color\": 8.0}, {\"pca0\": 2.164318434704006, \"pca1\": 1.3764090233961384, \"color\": 8.0}, {\"pca0\": 2.0593565529663316, \"pca1\": 0.5364727692396891, \"color\": 8.0}, {\"pca0\": 0.8411149917948301, \"pca1\": 0.3866226080316656, \"color\": 8.0}, {\"pca0\": -1.3466386287887138, \"pca1\": -0.5415229079699796, \"color\": 4.0}, {\"pca0\": 0.6307446804234336, \"pca1\": -0.10942680119015633, \"color\": 6.0}, {\"pca0\": 0.2578783094193467, \"pca1\": -0.17792825774839088, \"color\": 6.0}, {\"pca0\": -0.8735546384814226, \"pca1\": -0.8633435155964758, \"color\": 4.0}, {\"pca0\": 1.7071898157381733, \"pca1\": -0.13814465563966435, \"color\": 6.0}, {\"pca0\": 2.288825678470183, \"pca1\": 0.39011672505122186, \"color\": 8.0}, {\"pca0\": 1.7586816680216835, \"pca1\": 1.1592018329285259, \"color\": 8.0}, {\"pca0\": 2.412478481121053, \"pca1\": 0.5370123600553057, \"color\": 8.0}, {\"pca0\": -1.4685094402805834, \"pca1\": -0.46153250115237654, \"color\": 4.0}, {\"pca0\": 0.29857215142245425, \"pca1\": 0.03866973951878907, \"color\": 6.0}, {\"pca0\": 2.3850789541351634, \"pca1\": 1.336390791868543, \"color\": 10.0}, {\"pca0\": 0.05147852415369009, \"pca1\": 0.15012796361214115, \"color\": 6.0}, {\"pca0\": 0.10295660778906615, \"pca1\": -0.10233664196471792, \"color\": 6.0}, {\"pca0\": 1.1802935559943, \"pca1\": -0.1137930960674183, \"color\": 6.0}, {\"pca0\": -1.5066679739301831, \"pca1\": -0.15921871088069992, \"color\": 4.0}, {\"pca0\": -0.7878374167688109, \"pca1\": -1.0133074705715095, \"color\": 4.0}, {\"pca0\": -0.541866090005438, \"pca1\": 0.24476091526244437, \"color\": 6.0}, {\"pca0\": -0.25323890504048047, \"pca1\": -1.165511398892071, \"color\": 4.0}, {\"pca0\": 0.8426053382756247, \"pca1\": -0.30631772340360053, \"color\": 6.0}, {\"pca0\": -7.491395447941125, \"pca1\": 1.612237685477464, \"color\": 0.0}, {\"pca0\": 0.993779125938781, \"pca1\": -0.042406202454686806, \"color\": 6.0}, {\"pca0\": 1.2031842987742176, \"pca1\": 0.6768692545281891, \"color\": 8.0}, {\"pca0\": 1.0792412972694259, \"pca1\": -0.549491402408279, \"color\": 6.0}, {\"pca0\": 0.08217978363482957, \"pca1\": -0.21839757796005765, \"color\": 6.0}, {\"pca0\": -0.8540972076341972, \"pca1\": -0.6014954367570324, \"color\": 4.0}, {\"pca0\": 0.22993531100305617, \"pca1\": 0.11033569111187, \"color\": 6.0}, {\"pca0\": -0.5747710232471024, \"pca1\": -0.8220169387217674, \"color\": 4.0}, {\"pca0\": 0.700799458354475, \"pca1\": 0.25686939374328416, \"color\": 6.0}, {\"pca0\": -0.4308454675792703, \"pca1\": -0.8337953582063209, \"color\": 4.0}, {\"pca0\": -6.213691345655655, \"pca1\": 0.14665544905918143, \"color\": 0.0}, {\"pca0\": -0.7738048271754202, \"pca1\": -0.8982015720822605, \"color\": 4.0}, {\"pca0\": 0.501287664784779, \"pca1\": -0.07857995725209103, \"color\": 6.0}, {\"pca0\": 0.06523300488378377, \"pca1\": 0.006053262157684278, \"color\": 6.0}, {\"pca0\": 1.2730331948338507, \"pca1\": -0.003621326036055028, \"color\": 6.0}, {\"pca0\": 0.46363026641261385, \"pca1\": -0.11625885973090233, \"color\": 6.0}, {\"pca0\": -1.5256124148442936, \"pca1\": -0.582370699813934, \"color\": 4.0}, {\"pca0\": -0.26917953138814404, \"pca1\": -0.9084319364839032, \"color\": 4.0}, {\"pca0\": 0.685826847188023, \"pca1\": -0.036934021194204886, \"color\": 6.0}, {\"pca0\": -0.9091793743987864, \"pca1\": -0.6739882167529839, \"color\": 4.0}, {\"pca0\": -0.12467958863247254, \"pca1\": 0.27096966096807756, \"color\": 6.0}, {\"pca0\": 1.6760785899476043, \"pca1\": 0.9696932545443451, \"color\": 8.0}, {\"pca0\": -1.076531607633276, \"pca1\": -0.04565147403037986, \"color\": 5.0}, {\"pca0\": 0.003527456881996102, \"pca1\": -1.049033390636636, \"color\": 4.0}, {\"pca0\": -0.3310059327135791, \"pca1\": -0.9818797539859452, \"color\": 4.0}, {\"pca0\": -0.8151204159550208, \"pca1\": -0.7096036771223247, \"color\": 4.0}, {\"pca0\": -0.4926718689047053, \"pca1\": -0.9072431757083629, \"color\": 4.0}, {\"pca0\": 2.3646846693890087, \"pca1\": 0.5786704410425129, \"color\": 8.0}, {\"pca0\": 2.1684576838433576, \"pca1\": -0.02544044078780853, \"color\": 6.0}, {\"pca0\": 0.33962172859365275, \"pca1\": -0.003943378974508659, \"color\": 6.0}, {\"pca0\": -1.0871023587563664, \"pca1\": -0.5534388462414628, \"color\": 4.0}, {\"pca0\": 1.3843312286756322, \"pca1\": 0.7988071240015837, \"color\": 8.0}, {\"pca0\": -1.4690134745664598, \"pca1\": -0.7362674478580535, \"color\": 4.0}, {\"pca0\": 0.863382088727065, \"pca1\": -0.19025687496486135, \"color\": 6.0}, {\"pca0\": 1.208988511762002, \"pca1\": 0.4991267755860399, \"color\": 8.0}, {\"pca0\": -0.11685402029348813, \"pca1\": -0.29458221132055074, \"color\": 6.0}, {\"pca0\": 0.26462254398019247, \"pca1\": -0.17697322024230033, \"color\": 6.0}, {\"pca0\": 2.505218119960604, \"pca1\": 0.647184130086669, \"color\": 8.0}, {\"pca0\": -0.0033376310024970618, \"pca1\": -0.06834959285044827, \"color\": 6.0}, {\"pca0\": 3.0269161778824003, \"pca1\": 1.252277313128005, \"color\": 8.0}, {\"pca0\": 1.5666563651665786, \"pca1\": -0.2066583446838205, \"color\": 6.0}, {\"pca0\": 1.9918103293384215, \"pca1\": 0.6734457646710961, \"color\": 8.0}, {\"pca0\": -1.063745340860976, \"pca1\": -0.8576077167297886, \"color\": 4.0}, {\"pca0\": 2.0435003910067735, \"pca1\": 0.8262306531957572, \"color\": 8.0}, {\"pca0\": 0.5563698315493683, \"pca1\": -0.006087177256139609, \"color\": 6.0}, {\"pca0\": -2.0075854419361576, \"pca1\": -0.3269523599830349, \"color\": 4.0}, {\"pca0\": 1.950760752167223, \"pca1\": 0.7160588831643938, \"color\": 8.0}, {\"pca0\": 0.06523300488378377, \"pca1\": 0.006053262157684278, \"color\": 6.0}, {\"pca0\": -0.3830516558472261, \"pca1\": -0.875453439193528, \"color\": 4.0}, {\"pca0\": 0.6947836063742808, \"pca1\": -0.48898218587431463, \"color\": 6.0}, {\"pca0\": 1.1587425428039857, \"pca1\": 0.7997743939935958, \"color\": 8.0}, {\"pca0\": 2.136239882440732, \"pca1\": 0.9364022481139193, \"color\": 8.0}, {\"pca0\": -1.4685094402805834, \"pca1\": -0.46153250115237654, \"color\": 4.0}, {\"pca0\": 1.5833389511080536, \"pca1\": 0.8595214845129817, \"color\": 8.0}, {\"pca0\": 0.5829508686913893, \"pca1\": -0.06776872020294916, \"color\": 6.0}, {\"pca0\": -1.063745340860976, \"pca1\": -0.8576077167297886, \"color\": 4.0}, {\"pca0\": -0.03764297361284979, \"pca1\": -0.024781436851059994, \"color\": 6.0}, {\"pca0\": -1.3903818978905218, \"pca1\": 0.664483155249597, \"color\": 6.0}, {\"pca0\": -1.3055890516175153, \"pca1\": -0.5841360264632772, \"color\": 4.0}, {\"pca0\": 0.27062003316050703, \"pca1\": -0.30988644689119244, \"color\": 5.0}, {\"pca0\": 0.10295660778906615, \"pca1\": -0.10233664196471792, \"color\": 6.0}, {\"pca0\": -0.08591470128347616, \"pca1\": -0.2423879859421344, \"color\": 6.0}, {\"pca0\": 3.0269161778824003, \"pca1\": 1.252277313128005, \"color\": 8.0}, {\"pca0\": 3.275841535435914, \"pca1\": 0.5899363674949031, \"color\": 8.0}, {\"pca0\": 0.5254565940352527, \"pca1\": -0.04281112978546089, \"color\": 6.0}, {\"pca0\": 2.084549968177972, \"pca1\": 0.7836175347024594, \"color\": 8.0}, {\"pca0\": 5.436234020766668, \"pca1\": 1.983861093508479, \"color\": 10.0}, {\"pca0\": -1.6279843222036523, \"pca1\": -0.33847040833870107, \"color\": 4.0}, {\"pca0\": 0.13386977160038557, \"pca1\": -0.0656127769919972, \"color\": 6.0}, {\"pca0\": 1.5123162316985967, \"pca1\": 1.0441082544817988, \"color\": 8.0}, {\"pca0\": -1.6284883564895292, \"pca1\": -0.613205355044378, \"color\": 4.0}, {\"pca0\": 0.5930872820512685, \"pca1\": -0.1471057036689676, \"color\": 6.0}, {\"pca0\": -0.8460335797663403, \"pca1\": -0.7463275420950455, \"color\": 4.0}, {\"pca0\": 1.8926689460116823, \"pca1\": 0.08219870930986103, \"color\": 6.0}, {\"pca0\": 1.1976782750522994, \"pca1\": 0.08255994845663091, \"color\": 6.0}, {\"pca0\": -0.9489095582629739, \"pca1\": -0.7771622411037897, \"color\": 4.0}, {\"pca0\": -0.3202951322658606, \"pca1\": 0.12996327948457054, \"color\": 6.0}, {\"pca0\": -1.6183519799810482, \"pca1\": -0.6925423822886966, \"color\": 4.0}, {\"pca0\": 0.14406083375079487, \"pca1\": -0.9805197891490806, \"color\": 4.0}, {\"pca0\": 0.6756904338281439, \"pca1\": 0.04240296227181357, \"color\": 6.0}, {\"pca0\": 1.3230891874579636, \"pca1\": 1.16326802626486, \"color\": 8.0}, {\"pca0\": 4.041923136698, \"pca1\": 1.7535227018178703, \"color\": 12.0}, {\"pca0\": -1.8974772318505673, \"pca1\": -0.4085082685279728, \"color\": 4.0}, {\"pca0\": 0.37727912696581795, \"pca1\": 0.033735523504302596, \"color\": 6.0}, {\"pca0\": 1.8980355381224534, \"pca1\": 0.8550044283151909, \"color\": 8.0}, {\"pca0\": -1.3606712183821046, \"pca1\": -0.6566288064592287, \"color\": 4.0}, {\"pca0\": -0.6806565323932625, \"pca1\": 0.5629392334024454, \"color\": 6.0}, {\"pca0\": -6.970011664445767, \"pca1\": 1.2003478096123468, \"color\": 0.0}, {\"pca0\": 0.5037398220107511, \"pca1\": -0.3375694946724399, \"color\": 6.0}, {\"pca0\": 1.594919309772676, \"pca1\": 1.2336168328659793, \"color\": 8.0}, {\"pca0\": 0.7853106468856231, \"pca1\": 0.07419269878664837, \"color\": 6.0}, {\"pca0\": 1.055072368018952, \"pca1\": -0.5852602298749091, \"color\": 6.0}, {\"pca0\": -1.8850265837305797, \"pca1\": 0.1270751314580048, \"color\": 4.0}, {\"pca0\": 1.8637301955121006, \"pca1\": 0.8985725843145792, \"color\": 8.0}, {\"pca0\": 1.679668683320295, \"pca1\": -0.2551607166976952, \"color\": 6.0}, {\"pca0\": -0.21893356243012776, \"pca1\": -1.2090795548914592, \"color\": 4.0}, {\"pca0\": 0.2989278865905452, \"pca1\": -0.22054137624168862, \"color\": 6.0}, {\"pca0\": -1.4685094402805834, \"pca1\": -0.46153250115237654, \"color\": 4.0}, {\"pca0\": 2.5708482640849444, \"pca1\": 1.0456731881828965, \"color\": 8.0}, {\"pca0\": -0.15663852167949774, \"pca1\": 0.19987847972797979, \"color\": 6.0}, {\"pca0\": 0.21293255601463645, \"pca1\": -0.3297580212103608, \"color\": 6.0}, {\"pca0\": -0.10308744230849945, \"pca1\": -0.033491536364663566, \"color\": 6.0}, {\"pca0\": -2.1322645656934833, \"pca1\": 0.17167642281170417, \"color\": 4.0}, {\"pca0\": 0.5104840565715968, \"pca1\": -0.3366144571663493, \"color\": 6.0}, {\"pca0\": -0.9159236089596322, \"pca1\": -0.6749432542590744, \"color\": 4.0}, {\"pca0\": -2.5253572259966957, \"pca1\": 0.08541824213973843, \"color\": 4.0}, {\"pca0\": -2.52002187233919, \"pca1\": -0.6851731381150393, \"color\": 4.0}, {\"pca0\": -0.570420194737358, \"pca1\": -0.3631912889939742, \"color\": 5.0}, {\"pca0\": 1.1459882133839472, \"pca1\": -0.07022494006803001, \"color\": 6.0}, {\"pca0\": 2.0874107709266774, \"pca1\": 1.2697905876633837, \"color\": 8.0}, {\"pca0\": 2.433255231572493, \"pca1\": 0.6530732084940448, \"color\": 8.0}, {\"pca0\": -0.23448317856535122, \"pca1\": -0.5589207125678313, \"color\": 5.0}, {\"pca0\": -2.565369841664653, \"pca1\": 0.7104019129666277, \"color\": 4.0}, {\"pca0\": 0.3502621393880102, \"pca1\": 0.19145454048684948, \"color\": 6.0}, {\"pca0\": 1.868661597824826, \"pca1\": 0.8012851201509893, \"color\": 8.0}, {\"pca0\": -1.4685094402805834, \"pca1\": -0.46153250115237654, \"color\": 4.0}, {\"pca0\": 1.0792412972694259, \"pca1\": -0.549491402408279, \"color\": 6.0}, {\"pca0\": -0.7532940146295858, \"pca1\": -0.6361558596202828, \"color\": 4.0}, {\"pca0\": 1.4669344541553038, \"pca1\": 0.9883158774989654, \"color\": 8.0}, {\"pca0\": 2.3627685898854396, \"pca1\": 1.1141324945701474, \"color\": 8.0}, {\"pca0\": -0.1508812540405437, \"pca1\": 0.008166544622543603, \"color\": 6.0}, {\"pca0\": 0.0034066035583487047, \"pca1\": -0.06739455534435772, \"color\": 6.0}, {\"pca0\": -0.8257608267493783, \"pca1\": -0.905001596583683, \"color\": 4.0}, {\"pca0\": 2.018306975795133, \"pca1\": 0.5790858877329869, \"color\": 8.0}, {\"pca0\": 0.14400618496026463, \"pca1\": -0.14494976045801566, \"color\": 6.0}, {\"pca0\": 0.46943447940039834, \"pca1\": -0.2940013386730516, \"color\": 6.0}, {\"pca0\": -0.20829315163577022, \"pca1\": -1.013681635430101, \"color\": 4.0}, {\"pca0\": -1.179841923893121, \"pca1\": -0.6636105287162255, \"color\": 4.0}, {\"pca0\": 4.531812924107855, \"pca1\": 1.9181701534715476, \"color\": 12.0}, {\"pca0\": 2.660706110903221, \"pca1\": 0.47389640346311507, \"color\": 8.0}, {\"pca0\": 0.3877712754937879, \"pca1\": -0.3048125757221935, \"color\": 6.0}, {\"pca0\": -1.8283625123439853, \"pca1\": -0.22090963382107237, \"color\": 4.0}, {\"pca0\": 1.1976782750522994, \"pca1\": 0.08255994845663091, \"color\": 6.0}, {\"pca0\": 0.931952724613346, \"pca1\": -0.1158540199567288, \"color\": 6.0}, {\"pca0\": -0.9489095582629739, \"pca1\": -0.7771622411037897, \"color\": 4.0}, {\"pca0\": 0.10295660778906615, \"pca1\": -0.10233664196471792, \"color\": 6.0}, {\"pca0\": 1.0865187647783316, \"pca1\": 0.06776556757667647, \"color\": 6.0}, {\"pca0\": 2.6814828613546613, \"pca1\": 0.589957251901854, \"color\": 8.0}, {\"pca0\": -1.5835426030848185, \"pca1\": -0.4613755915824082, \"color\": 4.0}, {\"pca0\": 0.993779125938781, \"pca1\": -0.042406202454686806, \"color\": 6.0}, {\"pca0\": 2.8477780756486983, \"pca1\": 0.4987366457866659, \"color\": 8.0}, {\"pca0\": -0.7943435918007843, \"pca1\": -0.593542741126985, \"color\": 4.0}, {\"pca0\": -0.31355089770501476, \"pca1\": 0.1309183169906611, \"color\": 6.0}, {\"pca0\": -0.9361963619765942, \"pca1\": -0.516269199770437, \"color\": 4.0}, {\"pca0\": -1.2645394744463168, \"pca1\": -0.626749144956575, \"color\": 4.0}, {\"pca0\": 0.17491934877158408, \"pca1\": -0.10822589548529493, \"color\": 6.0}, {\"pca0\": 2.6713465954003746, \"pca1\": 0.6692944104810736, \"color\": 8.0}, {\"pca0\": -1.6201843632211743, \"pca1\": -0.3854513293508023, \"color\": 4.0}, {\"pca0\": -0.9764306169780561, \"pca1\": -0.8941782146052201, \"color\": 4.0}, {\"pca0\": 1.9829785535698483, \"pca1\": -0.245783805737334, \"color\": 6.0}, {\"pca0\": 1.6665919993068645, \"pca1\": 0.14826273252621916, \"color\": 6.0}, {\"pca0\": -1.1047949180321746, \"pca1\": -0.8149945982364909, \"color\": 4.0}, {\"pca0\": -0.7499018358305525, \"pca1\": -0.7164478805923918, \"color\": 4.0}, {\"pca0\": -0.28598978965550786, \"pca1\": 0.08639512348518226, \"color\": 6.0}, {\"pca0\": 0.3081242783773631, \"pca1\": -0.4785758761559469, \"color\": 6.0}, {\"pca0\": 0.2230688956717193, \"pca1\": -0.40909509223297974, \"color\": 6.0}, {\"pca0\": 2.5535158554243305, \"pca1\": 0.880260864470238, \"color\": 8.0}, {\"pca0\": 2.2569732832589433, \"pca1\": 1.3886257168961589, \"color\": 8.0}, {\"pca0\": -1.0497127512675852, \"pca1\": -0.7425018182405394, \"color\": 4.0}, {\"pca0\": -0.5714450489811863, \"pca1\": -0.756240153092663, \"color\": 4.0}, {\"pca0\": 1.542289373936855, \"pca1\": 0.9021346030062793, \"color\": 8.0}, {\"pca0\": -1.6988913756159358, \"pca1\": -0.38051715711461614, \"color\": 4.0}, {\"pca0\": 0.2024404074866664, \"pca1\": 0.008790078016135336, \"color\": 6.0}, {\"pca0\": 1.1587425428039857, \"pca1\": 0.7997743939935958, \"color\": 8.0}, {\"pca0\": -1.6820107645466094, \"pca1\": -0.4588991468528443, \"color\": 4.0}, {\"pca0\": -0.9431768030885344, \"pca1\": -0.5652172657260163, \"color\": 4.0}, {\"pca0\": -1.4674433731122498, \"pca1\": -0.8819063874232405, \"color\": 4.0}, {\"pca0\": 0.5254565940352527, \"pca1\": -0.04281112978546089, \"color\": 6.0}, {\"pca0\": -1.0946585046722956, \"pca1\": -0.8943315817025094, \"color\": 4.0}, {\"pca0\": -1.1387923467219225, \"pca1\": -0.7062236472095232, \"color\": 4.0}, {\"pca0\": 2.4298632001790526, \"pca1\": 0.7333654045793551, \"color\": 8.0}, {\"pca0\": 0.2929177917313525, \"pca1\": -1.0895856727972237, \"color\": 4.0}, {\"pca0\": 2.2105304880350802, \"pca1\": 0.800384465301804, \"color\": 8.0}, {\"pca0\": 2.492141288541581, \"pca1\": 1.0506074041973827, \"color\": 8.0}, {\"pca0\": 1.6760785899476043, \"pca1\": 0.9696932545443451, \"color\": 8.0}, {\"pca0\": 0.10004234492861495, \"pca1\": 0.2372200090856726, \"color\": 6.0}, {\"pca0\": -1.3827458225590539, \"pca1\": -0.9187677711828912, \"color\": 4.0}, {\"pca0\": 0.2024404074866664, \"pca1\": 0.008790078016135336, \"color\": 6.0}, {\"pca0\": 0.3626623246702531, \"pca1\": -0.5192789196370635, \"color\": 6.0}, {\"pca0\": 2.273925200982197, \"pca1\": 1.1984036940506522, \"color\": 8.0}, {\"pca0\": 1.0015586602816369, \"pca1\": -0.3331814235108532, \"color\": 6.0}, {\"pca0\": -1.9080806695578272, \"pca1\": 0.009150080388130212, \"color\": 4.0}, {\"pca0\": 2.2858854078166315, \"pca1\": 0.7142031908091179, \"color\": 8.0}, {\"pca0\": -1.5342320178395301, \"pca1\": -0.7294232006096861, \"color\": 4.0}, {\"pca0\": 1.5012397967656566, \"pca1\": 0.9447477214995771, \"color\": 8.0}, {\"pca0\": -1.063745340860976, \"pca1\": -0.8576077167297886, \"color\": 4.0}, {\"pca0\": -0.9260599486167151, \"pca1\": -0.5956061832364554, \"color\": 4.0}, {\"pca0\": 0.2955357077915119, \"pca1\": -0.1402493552695796, \"color\": 6.0}, {\"pca0\": -0.03062063018870689, \"pca1\": 0.2353542005987366, \"color\": 6.0}, {\"pca0\": 1.5444618492278424, \"pca1\": 0.6106705678269884, \"color\": 8.0}, {\"pca0\": -0.41303469740261506, \"pca1\": 0.019791597009807826, \"color\": 6.0}, {\"pca0\": -2.518201456697854, \"pca1\": 0.005454771465839249, \"color\": 4.0}, {\"pca0\": 2.1931457689770806, \"pca1\": 0.6040314207777545, \"color\": 8.0}, {\"pca0\": 0.441913420685316, \"pca1\": -0.4110173121744819, \"color\": 6.0}, {\"pca0\": 2.9287884666564015, \"pca1\": 0.8837485219100222, \"color\": 8.0}, {\"pca0\": -0.1314238231933183, \"pca1\": 0.270014623461987, \"color\": 6.0}, {\"pca0\": -0.7330212616126238, \"pca1\": -0.7948299141089202, \"color\": 4.0}, {\"pca0\": -1.2208915010643195, \"pca1\": -0.6209974102229278, \"color\": 4.0}, {\"pca0\": -1.6217441219286834, \"pca1\": -0.6122503175382874, \"color\": 4.0}, {\"pca0\": -2.517576029932609, \"pca1\": 0.6687438319794207, \"color\": 4.0}, {\"pca0\": 0.7167400109993424, \"pca1\": -0.0002101562214841601, \"color\": 6.0}, {\"pca0\": 1.950760752167223, \"pca1\": 0.7160588831643938, \"color\": 8.0}, {\"pca0\": 0.7577895881705408, \"pca1\": -0.042823274714781874, \"color\": 6.0}, {\"pca0\": -0.26917953138814404, \"pca1\": -0.9084319364839032, \"color\": 4.0}, {\"pca0\": 0.3399774637617437, \"pca1\": -0.2631544947349863, \"color\": 6.0}, {\"pca0\": -3.5199613330376613, \"pca1\": 0.9307303541745487, \"color\": 4.0}, {\"pca0\": -1.8564276546793688, \"pca1\": -0.4511213870212705, \"color\": 4.0}, {\"pca0\": -8.761135780130077, \"pca1\": 3.078937269159832, \"color\": 0.0}, {\"pca0\": -0.16049933990372597, \"pca1\": -1.0553397164173082, \"color\": 4.0}, {\"pca0\": -0.03062063018870689, \"pca1\": 0.2353542005987366, \"color\": 6.0}, {\"pca0\": -1.1510230851553258, \"pca1\": -0.4005165264864725, \"color\": 4.0}, {\"pca0\": -2.000841207375312, \"pca1\": -0.3259973224769443, \"color\": 4.0}, {\"pca0\": -1.6269285977820198, \"pca1\": -0.38640636685689284, \"color\": 4.0}, {\"pca0\": 0.4602380876135806, \"pca1\": -0.035966838758793314, \"color\": 6.0}, {\"pca0\": -2.490014921883102, \"pca1\": 0.6242206384739417, \"color\": 4.0}, {\"pca0\": 0.13831928125642282, \"pca1\": 0.0467715394858738, \"color\": 6.0}, {\"pca0\": -1.9891235194851402, \"pca1\": 0.12891734834549565, \"color\": 4.0}, {\"pca0\": 0.010428946982491602, \"pca1\": 0.1927410821054389, \"color\": 6.0}, {\"pca0\": -2.0020451521642535, \"pca1\": -0.09939384704596561, \"color\": 4.0}, {\"pca0\": 0.3087085647823333, \"pca1\": -0.04066724394722939, \"color\": 6.0}, {\"pca0\": -0.08543678534489405, \"pca1\": 0.01687664413614718, \"color\": 6.0}, {\"pca0\": -0.9837189351592031, \"pca1\": -1.0083290318100784, \"color\": 4.0}, {\"pca0\": 1.418636571285985, \"pca1\": 0.7552389680021955, \"color\": 8.0}, {\"pca0\": 1.522162446204554, \"pca1\": -0.11469375091660379, \"color\": 6.0}, {\"pca0\": 1.3087104227732769, \"pca1\": -0.6958474465967461, \"color\": 6.0}, {\"pca0\": -0.9837189351592031, \"pca1\": -1.0083290318100784, \"color\": 4.0}, {\"pca0\": -1.339894394227868, \"pca1\": -0.540567870463889, \"color\": 4.0}, {\"pca0\": -0.10390276447823595, \"pca1\": 0.3870305969634173, \"color\": 6.0}, {\"pca0\": -1.0019189395355408, \"pca1\": -0.7841598992277466, \"color\": 4.0}, {\"pca0\": 0.18214149927101192, \"pca1\": 0.15199377209907713, \"color\": 6.0}, {\"pca0\": -3.7851208536540373, \"pca1\": 1.1841858740607334, \"color\": 4.0}, {\"pca0\": -0.8117282371559875, \"pca1\": -0.7898956980944338, \"color\": 4.0}, {\"pca0\": -0.13712677331045006, \"pca1\": -0.1359081568319133, \"color\": 6.0}, {\"pca0\": 0.49454343022393327, \"pca1\": -0.0795349947581816, \"color\": 6.0}, {\"pca0\": -1.2001146769100828, \"pca1\": -0.5049364742275881, \"color\": 4.0}, {\"pca0\": 3.803665181421445, \"pca1\": 1.8506325614536348, \"color\": 12.0}, {\"pca0\": -0.2001778359549985, \"pca1\": -0.6024888685672196, \"color\": 5.0}, {\"pca0\": -0.015282918383663462, \"pca1\": -0.8200540482698111, \"color\": 5.0}, {\"pca0\": 0.010428946982491602, \"pca1\": 0.1927410821054389, \"color\": 6.0}, {\"pca0\": 0.33962172859365275, \"pca1\": -0.003943378974508659, \"color\": 6.0}, {\"pca0\": 1.0088469416113854, \"pca1\": -0.2190306500842952, \"color\": 6.0}, {\"pca0\": 0.5737544769045715, \"pca1\": 0.1902657797113091, \"color\": 6.0}, {\"pca0\": -1.3466386287887138, \"pca1\": -0.5415229079699796, \"color\": 4.0}, {\"pca0\": -0.6124946261523848, \"pca1\": -0.7136270345993653, \"color\": 4.0}, {\"pca0\": 2.3375753220793913, \"pca1\": 0.8669879042205777, \"color\": 8.0}, {\"pca0\": -0.3619190965248985, \"pca1\": -1.0186036189586658, \"color\": 4.0}, {\"pca0\": -1.1387923467219225, \"pca1\": -0.7062236472095232, \"color\": 4.0}, {\"pca0\": 0.7953026321510949, \"pca1\": -0.6695858120123189, \"color\": 6.0}, {\"pca0\": 0.22993531100305617, \"pca1\": 0.11033569111187, \"color\": 6.0}, {\"pca0\": 0.05147852415369009, \"pca1\": 0.15012796361214115, \"color\": 6.0}, {\"pca0\": 0.23332748980208945, \"pca1\": 0.03004367013976101, \"color\": 6.0}, {\"pca0\": -1.4752536748414289, \"pca1\": -0.4624875386584671, \"color\": 4.0}, {\"pca0\": 2.0593565529663316, \"pca1\": 0.5364727692396891, \"color\": 8.0}, {\"pca0\": 1.320827006565895, \"pca1\": -0.04527940702326228, \"color\": 6.0}, {\"pca0\": -1.7438371290206465, \"pca1\": -0.5323469205765862, \"color\": 4.0}, {\"pca0\": 3.481593492429181, \"pca1\": 0.6516057655123916, \"color\": 8.0}, {\"pca0\": -3.9072269797471875, \"pca1\": -0.970035591883924, \"color\": 2.0}, {\"pca0\": 1.0774175774976664, \"pca1\": -0.1446277950761626, \"color\": 6.0}, {\"pca0\": -0.17737991412165466, \"pca1\": -0.9769576829007799, \"color\": 4.0}, {\"pca0\": -1.8873408553420863, \"pca1\": -0.48784529577229147, \"color\": 4.0}, {\"pca0\": -0.45501439682974404, \"pca1\": -0.8695641856729511, \"color\": 4.0}, {\"pca0\": 1.4878571035942012, \"pca1\": -0.07112559491721555, \"color\": 6.0}, {\"pca0\": -0.12467958863247254, \"pca1\": 0.27096966096807756, \"color\": 6.0}, {\"pca0\": -1.7738244660510951, \"pca1\": -0.261612677302189, \"color\": 4.0}, {\"pca0\": -0.3242616981527333, \"pca1\": -0.9809247164798547, \"color\": 4.0}, {\"pca0\": -1.2557008779605485, \"pca1\": -0.8521642009292164, \"color\": 4.0}, {\"pca0\": 2.625468305073719, \"pca1\": 1.293382418475494, \"color\": 8.0}, {\"pca0\": 4.2434577416349155, \"pca1\": 1.6669920019566775, \"color\": 12.0}, {\"pca0\": -1.3055890516175153, \"pca1\": -0.5841360264632772, \"color\": 4.0}, {\"pca0\": -0.15790359746468663, \"pca1\": -0.251969092827253, \"color\": 6.0}, {\"pca0\": 0.34636596315449847, \"pca1\": -0.002988341468418101, \"color\": 6.0}, {\"pca0\": -1.8542523687151191, \"pca1\": -0.657158425248549, \"color\": 4.0}, {\"pca0\": -0.2792455550946621, \"pca1\": 0.08735016099127281, \"color\": 6.0}, {\"pca0\": 1.7759219589852753, \"pca1\": 0.691113350119626, \"color\": 8.0}, {\"pca0\": -0.44827016226889826, \"pca1\": -0.8686091481668605, \"color\": 4.0}, {\"pca0\": -2.211149164919333, \"pca1\": -0.24231030354165373, \"color\": 4.0}, {\"pca0\": 0.08217978363482957, \"pca1\": -0.21839757796005765, \"color\": 6.0}, {\"pca0\": -1.6912212405714238, \"pca1\": -0.07210392380480724, \"color\": 4.0}, {\"pca0\": 3.342849074056151, \"pca1\": 1.981722616274365, \"color\": 12.0}, {\"pca0\": -2.3241615199244476, \"pca1\": -0.19380797530607946, \"color\": 4.0}, {\"pca0\": 0.357362109116947, \"pca1\": -0.0668015377675376, \"color\": 6.0}, {\"pca0\": -3.4224984374942604, \"pca1\": 0.050631637085846955, \"color\": 3.0}, {\"pca0\": -1.0704895754218218, \"pca1\": -0.8585627542358791, \"color\": 4.0}, {\"pca0\": -0.7192667808825302, \"pca1\": -0.9389046155633771, \"color\": 4.0}, {\"pca0\": -7.930768218678706, \"pca1\": 2.1311380216111195, \"color\": 0.0}, {\"pca0\": -0.5516502119028064, \"pca1\": -1.1741788376595819, \"color\": 4.0}, {\"pca0\": 0.911679971596384, \"pca1\": 0.04282003453190866, \"color\": 6.0}, {\"pca0\": -1.3466386287887138, \"pca1\": -0.5415229079699796, \"color\": 4.0}, {\"pca0\": -0.06516403232793212, \"pca1\": -0.14179741035249027, \"color\": 6.0}, {\"pca0\": 1.0865187647783316, \"pca1\": 0.06776556757667647, \"color\": 6.0}, {\"pca0\": -0.3653112753239318, \"pca1\": -0.9383115979865569, \"color\": 4.0}, {\"pca0\": -0.3965801743033422, \"pca1\": -0.7158243471988002, \"color\": 4.0}, {\"pca0\": 0.6751864363936655, \"pca1\": -0.2323319406555631, \"color\": 6.0}, {\"pca0\": 4.572862501279053, \"pca1\": 1.87555703497825, \"color\": 12.0}, {\"pca0\": -1.1476309063562924, \"pca1\": -0.4808085474585816, \"color\": 4.0}, {\"pca0\": -1.2645394744463168, \"pca1\": -0.626749144956575, \"color\": 4.0}, {\"pca0\": 1.0865187647783316, \"pca1\": 0.06776556757667647, \"color\": 6.0}, {\"pca0\": -3.1693321442093496, \"pca1\": 0.6733555887904129, \"color\": 4.0}, {\"pca0\": 0.3913117165592087, \"pca1\": 0.14884142199355177, \"color\": 6.0}, {\"pca0\": -1.4274598631093849, \"pca1\": -0.5041456196456744, \"color\": 4.0}, {\"pca0\": 0.6240004458625878, \"pca1\": -0.11038183869624688, \"color\": 6.0}, {\"pca0\": -3.515931224511059, \"pca1\": 1.2385442171470609, \"color\": 4.0}, {\"pca0\": 0.8196159894959758, \"pca1\": 0.03062454278726011, \"color\": 6.0}, {\"pca0\": 2.3714289039498544, \"pca1\": 0.5796254785486035, \"color\": 8.0}, {\"pca0\": 0.441913420685316, \"pca1\": -0.4110173121744819, \"color\": 6.0}, {\"pca0\": -2.122195738821043, \"pca1\": -0.24605307823788153, \"color\": 4.0}, {\"pca0\": 3.5211322090289245, \"pca1\": 1.9573166740452141, \"color\": 12.0}, {\"pca0\": -0.46474741888242743, \"pca1\": 0.39936902564579263, \"color\": 6.0}, {\"pca0\": -2.3938431127250057, \"pca1\": -0.1550055334119998, \"color\": 4.0}, {\"pca0\": -0.09528075977925768, \"pca1\": -1.0621839198873753, \"color\": 4.0}, {\"pca0\": 2.9321806454554347, \"pca1\": 0.8034565009379132, \"color\": 8.0}, {\"pca0\": 3.1052199469047252, \"pca1\": 0.7131907572156145, \"color\": 8.0}, {\"pca0\": -0.07956147693507064, \"pca1\": -0.6345123283515043, \"color\": 5.0}, {\"pca0\": 2.2806694355430426, \"pca1\": 1.1993587315567427, \"color\": 8.0}, {\"pca0\": -0.8081101697857729, \"pca1\": -0.8546334160828722, \"color\": 4.0}, {\"pca0\": -1.9795763861929643, \"pca1\": -0.32328203154137736, \"color\": 4.0}, {\"pca0\": 0.3559180901094073, \"pca1\": -0.5202339571431541, \"color\": 6.0}, {\"pca0\": -0.6332714503066214, \"pca1\": -0.829687970594705, \"color\": 4.0}, {\"pca0\": 1.2777971852591612, \"pca1\": -0.7325713991260674, \"color\": 6.0}, {\"pca0\": -1.5303358416060184, \"pca1\": -0.5349803186544186, \"color\": 4.0}, {\"pca0\": -0.421605466153601, \"pca1\": 0.4719485712386374, \"color\": 6.0}, {\"pca0\": -0.9353810398068576, \"pca1\": -0.9367913330985178, \"color\": 4.0}, {\"pca0\": 0.37819669790063204, \"pca1\": 0.6136432501440169, \"color\": 8.0}, {\"pca0\": -1.2640354033090422, \"pca1\": -0.35201415447259776, \"color\": 4.0}, {\"pca0\": -0.6501520245245501, \"pca1\": -0.7513059370781765, \"color\": 4.0}, {\"pca0\": 0.23722366603560124, \"pca1\": 0.22448655209502863, \"color\": 6.0}, {\"pca0\": -0.14413701947969795, \"pca1\": 0.00912158212863416, \"color\": 6.0}, {\"pca0\": -2.6112898873503783, \"pca1\": 0.5082880055477625, \"color\": 4.0}, {\"pca0\": 2.412478481121053, \"pca1\": 0.5370123600553057, \"color\": 8.0}, {\"pca0\": -0.5269772115150582, \"pca1\": -0.8636750197089746, \"color\": 4.0}, {\"pca0\": -1.173097689332275, \"pca1\": -0.6626554912101349, \"color\": 4.0}, {\"pca0\": 0.33962172859365275, \"pca1\": -0.003943378974508659, \"color\": 6.0}, {\"pca0\": 0.07356047051957929, \"pca1\": -0.9043252477503159, \"color\": 5.0}, {\"pca0\": 0.2578783094193467, \"pca1\": -0.17792825774839088, \"color\": 6.0}, {\"pca0\": 0.6503418504040491, \"pca1\": -0.3660770464089079, \"color\": 6.0}, {\"pca0\": 0.14400618496026463, \"pca1\": -0.14494976045801566, \"color\": 6.0}, {\"pca0\": 0.14070870428618623, \"pca1\": -1.0617669351838805, \"color\": 4.0}, {\"pca0\": -1.5095590174517817, \"pca1\": -0.41891938265907885, \"color\": 4.0}, {\"pca0\": 2.3390724376013403, \"pca1\": 1.3033994799095634, \"color\": 8.0}, {\"pca0\": 0.33962172859365275, \"pca1\": -0.003943378974508659, \"color\": 6.0}, {\"pca0\": 0.08940193413425743, \"pca1\": 0.04182208962431444, \"color\": 6.0}, {\"pca0\": 3.375325261430718, \"pca1\": 0.7010629999191558, \"color\": 8.0}, {\"pca0\": 0.9127152713783939, \"pca1\": -0.24891022403034835, \"color\": 6.0}, {\"pca0\": 0.4669823221744263, \"pca1\": -0.03501180125270276, \"color\": 6.0}, {\"pca0\": -0.21375918408680972, \"pca1\": 0.3072478319990937, \"color\": 6.0}]}}, {\"mode\": \"vega-lite\"});\n",
       "</script>"
      ],
      "text/plain": [
       "alt.Chart(...)"
      ]
     },
     "metadata": {},
     "output_type": "display_data"
    }
   ],
   "source": [
    "import altair as alt\n",
    "\n",
    "scatter_plot = (\n",
    "    alt.Chart(sampled_data)\n",
    "    .mark_point()\n",
    "    .encode(\n",
    "        x=alt.X(\"pca0:Q\", title=\"PC1\"),\n",
    "        y=alt.Y(\"pca1:Q\", title=\"PC2\"),\n",
    "        color=alt.Color(\"color:Q\", scale=alt.Scale(scheme=\"viridis\"), title=\"Cylinders\"),\n",
    "    )\n",
    "    .properties(title=\"PCA of Autos\", width=600, height=400)\n",
    ")\n",
    "\n",
    "scatter_plot.show()\n"
   ]
  },
  {
   "cell_type": "code",
   "execution_count": null,
   "id": "df0bfa71-f507-4180-852a-c21c14c5cc58",
   "metadata": {},
   "outputs": [],
   "source": []
  },
  {
   "cell_type": "markdown",
   "id": "8022b1d0-2568-4c2b-ad1d-a1be667f9538",
   "metadata": {},
   "source": [
    "### Configuration\n",
    "\n",
    "```sh\n",
    "pl.Config.set_tbl_width_chars(70)\n",
    "pl.Config.set_float_precision(2)\n",
    "pl.Config.set_tbl_cols(6)\n",
    "\n",
    "with pl.Config(set_tbl_width_chars=70):\n",
    "    print(df)"
   ]
  },
  {
   "cell_type": "code",
   "execution_count": null,
   "id": "d3a473d0-b936-4e6c-9a81-9f2a0f518741",
   "metadata": {},
   "outputs": [],
   "source": []
  }
 ],
 "metadata": {
  "kernelspec": {
   "display_name": "Python 3 (ipykernel)",
   "language": "python",
   "name": "python3"
  },
  "language_info": {
   "codemirror_mode": {
    "name": "ipython",
    "version": 3
   },
   "file_extension": ".py",
   "mimetype": "text/x-python",
   "name": "python",
   "nbconvert_exporter": "python",
   "pygments_lexer": "ipython3",
   "version": "3.11.8"
  }
 },
 "nbformat": 4,
 "nbformat_minor": 5
}
