{
 "cells": [
  {
   "cell_type": "markdown",
   "id": "f0c131c7-0d44-4bfc-819b-b650c9e961d1",
   "metadata": {},
   "source": [
    "# Sorting & Ordering in Polars\n",
    "\n",
    "### Loading Libraries"
   ]
  },
  {
   "cell_type": "code",
   "execution_count": 33,
   "id": "eb94d682-b589-4d7f-b55f-2d602473e76e",
   "metadata": {},
   "outputs": [],
   "source": [
    "# ZipFiles & IO\n",
    "import io\n",
    "import zipfile\n",
    "\n",
    "# Numerical Computing\n",
    "import numpy as np\n",
    "\n",
    "# Data Manipulation\n",
    "import pandas as pd\n",
    "import polars as pl\n",
    "import polars.selectors as cs\n",
    "\n",
    "# Data Visualization\n",
    "import hvplot\n",
    "import seaborn as sns\n",
    "import altair as alt\n",
    "import matplotlib.pyplot as plt\n",
    "\n",
    "# XGBoost\n",
    "import xgboost as xgb\n",
    "\n",
    "# Scikit-Learn\n",
    "from sklearn import decomposition\n",
    "\n",
    "# Date & Time\n",
    "from datetime import datetime\n",
    "from datetime import timedelta"
   ]
  },
  {
   "cell_type": "code",
   "execution_count": 2,
   "id": "63b390c5-f4d2-43d1-b574-28d131bcaff9",
   "metadata": {},
   "outputs": [
    {
     "data": {
      "text/html": [
       "<script type=\"esms-options\">{\"shimMode\": true}</script><style>*[data-root-id],\n",
       "*[data-root-id] > * {\n",
       "  box-sizing: border-box;\n",
       "  font-family: var(--jp-ui-font-family);\n",
       "  font-size: var(--jp-ui-font-size1);\n",
       "  color: var(--vscode-editor-foreground, var(--jp-ui-font-color1));\n",
       "}\n",
       "\n",
       "/* Override VSCode background color */\n",
       ".cell-output-ipywidget-background:has(\n",
       "    > .cell-output-ipywidget-background > .lm-Widget > *[data-root-id]\n",
       "  ),\n",
       ".cell-output-ipywidget-background:has(> .lm-Widget > *[data-root-id]) {\n",
       "  background-color: transparent !important;\n",
       "}\n",
       "</style>"
      ]
     },
     "metadata": {},
     "output_type": "display_data"
    },
    {
     "data": {
      "application/javascript": [
       "(function(root) {\n",
       "  function now() {\n",
       "    return new Date();\n",
       "  }\n",
       "\n",
       "  const force = true;\n",
       "  const py_version = '3.6.1'.replace('rc', '-rc.').replace('.dev', '-dev.');\n",
       "  const reloading = false;\n",
       "  const Bokeh = root.Bokeh;\n",
       "\n",
       "  // Set a timeout for this load but only if we are not already initializing\n",
       "  if (typeof (root._bokeh_timeout) === \"undefined\" || (force || !root._bokeh_is_initializing)) {\n",
       "    root._bokeh_timeout = Date.now() + 5000;\n",
       "    root._bokeh_failed_load = false;\n",
       "  }\n",
       "\n",
       "  function run_callbacks() {\n",
       "    try {\n",
       "      root._bokeh_onload_callbacks.forEach(function(callback) {\n",
       "        if (callback != null)\n",
       "          callback();\n",
       "      });\n",
       "    } finally {\n",
       "      delete root._bokeh_onload_callbacks;\n",
       "    }\n",
       "    console.debug(\"Bokeh: all callbacks have finished\");\n",
       "  }\n",
       "\n",
       "  function load_libs(css_urls, js_urls, js_modules, js_exports, callback) {\n",
       "    if (css_urls == null) css_urls = [];\n",
       "    if (js_urls == null) js_urls = [];\n",
       "    if (js_modules == null) js_modules = [];\n",
       "    if (js_exports == null) js_exports = {};\n",
       "\n",
       "    root._bokeh_onload_callbacks.push(callback);\n",
       "\n",
       "    if (root._bokeh_is_loading > 0) {\n",
       "      // Don't load bokeh if it is still initializing\n",
       "      console.debug(\"Bokeh: BokehJS is being loaded, scheduling callback at\", now());\n",
       "      return null;\n",
       "    } else if (js_urls.length === 0 && js_modules.length === 0 && Object.keys(js_exports).length === 0) {\n",
       "      // There is nothing to load\n",
       "      run_callbacks();\n",
       "      return null;\n",
       "    }\n",
       "\n",
       "    function on_load() {\n",
       "      root._bokeh_is_loading--;\n",
       "      if (root._bokeh_is_loading === 0) {\n",
       "        console.debug(\"Bokeh: all BokehJS libraries/stylesheets loaded\");\n",
       "        run_callbacks()\n",
       "      }\n",
       "    }\n",
       "    window._bokeh_on_load = on_load\n",
       "\n",
       "    function on_error(e) {\n",
       "      const src_el = e.srcElement\n",
       "      console.error(\"failed to load \" + (src_el.href || src_el.src));\n",
       "    }\n",
       "\n",
       "    const skip = [];\n",
       "    if (window.requirejs) {\n",
       "      window.requirejs.config({'packages': {}, 'paths': {}, 'shim': {}});\n",
       "      root._bokeh_is_loading = css_urls.length + 0;\n",
       "    } else {\n",
       "      root._bokeh_is_loading = css_urls.length + js_urls.length + js_modules.length + Object.keys(js_exports).length;\n",
       "    }\n",
       "\n",
       "    const existing_stylesheets = []\n",
       "    const links = document.getElementsByTagName('link')\n",
       "    for (let i = 0; i < links.length; i++) {\n",
       "      const link = links[i]\n",
       "      if (link.href != null) {\n",
       "        existing_stylesheets.push(link.href)\n",
       "      }\n",
       "    }\n",
       "    for (let i = 0; i < css_urls.length; i++) {\n",
       "      const url = css_urls[i];\n",
       "      const escaped = encodeURI(url)\n",
       "      if (existing_stylesheets.indexOf(escaped) !== -1) {\n",
       "        on_load()\n",
       "        continue;\n",
       "      }\n",
       "      const element = document.createElement(\"link\");\n",
       "      element.onload = on_load;\n",
       "      element.onerror = on_error;\n",
       "      element.rel = \"stylesheet\";\n",
       "      element.type = \"text/css\";\n",
       "      element.href = url;\n",
       "      console.debug(\"Bokeh: injecting link tag for BokehJS stylesheet: \", url);\n",
       "      document.body.appendChild(element);\n",
       "    }    var existing_scripts = []\n",
       "    const scripts = document.getElementsByTagName('script')\n",
       "    for (let i = 0; i < scripts.length; i++) {\n",
       "      var script = scripts[i]\n",
       "      if (script.src != null) {\n",
       "        existing_scripts.push(script.src)\n",
       "      }\n",
       "    }\n",
       "    for (let i = 0; i < js_urls.length; i++) {\n",
       "      const url = js_urls[i];\n",
       "      const escaped = encodeURI(url)\n",
       "      if (skip.indexOf(escaped) !== -1 || existing_scripts.indexOf(escaped) !== -1) {\n",
       "        if (!window.requirejs) {\n",
       "          on_load();\n",
       "        }\n",
       "        continue;\n",
       "      }\n",
       "      const element = document.createElement('script');\n",
       "      element.onload = on_load;\n",
       "      element.onerror = on_error;\n",
       "      element.async = false;\n",
       "      element.src = url;\n",
       "      console.debug(\"Bokeh: injecting script tag for BokehJS library: \", url);\n",
       "      document.head.appendChild(element);\n",
       "    }\n",
       "    for (let i = 0; i < js_modules.length; i++) {\n",
       "      const url = js_modules[i];\n",
       "      const escaped = encodeURI(url)\n",
       "      if (skip.indexOf(escaped) !== -1 || existing_scripts.indexOf(escaped) !== -1) {\n",
       "        if (!window.requirejs) {\n",
       "          on_load();\n",
       "        }\n",
       "        continue;\n",
       "      }\n",
       "      var element = document.createElement('script');\n",
       "      element.onload = on_load;\n",
       "      element.onerror = on_error;\n",
       "      element.async = false;\n",
       "      element.src = url;\n",
       "      element.type = \"module\";\n",
       "      console.debug(\"Bokeh: injecting script tag for BokehJS library: \", url);\n",
       "      document.head.appendChild(element);\n",
       "    }\n",
       "    for (const name in js_exports) {\n",
       "      const url = js_exports[name];\n",
       "      const escaped = encodeURI(url)\n",
       "      if (skip.indexOf(escaped) >= 0 || root[name] != null) {\n",
       "        if (!window.requirejs) {\n",
       "          on_load();\n",
       "        }\n",
       "        continue;\n",
       "      }\n",
       "      var element = document.createElement('script');\n",
       "      element.onerror = on_error;\n",
       "      element.async = false;\n",
       "      element.type = \"module\";\n",
       "      console.debug(\"Bokeh: injecting script tag for BokehJS library: \", url);\n",
       "      element.textContent = `\n",
       "      import ${name} from \"${url}\"\n",
       "      window.${name} = ${name}\n",
       "      window._bokeh_on_load()\n",
       "      `\n",
       "      document.head.appendChild(element);\n",
       "    }\n",
       "    if (!js_urls.length && !js_modules.length) {\n",
       "      on_load()\n",
       "    }\n",
       "  };\n",
       "\n",
       "  function inject_raw_css(css) {\n",
       "    const element = document.createElement(\"style\");\n",
       "    element.appendChild(document.createTextNode(css));\n",
       "    document.body.appendChild(element);\n",
       "  }\n",
       "\n",
       "  const js_urls = [\"https://cdn.holoviz.org/panel/1.5.4/dist/bundled/reactiveesm/es-module-shims@^1.10.0/dist/es-module-shims.min.js\", \"https://cdn.bokeh.org/bokeh/release/bokeh-3.6.1.min.js\", \"https://cdn.bokeh.org/bokeh/release/bokeh-gl-3.6.1.min.js\", \"https://cdn.bokeh.org/bokeh/release/bokeh-widgets-3.6.1.min.js\", \"https://cdn.bokeh.org/bokeh/release/bokeh-tables-3.6.1.min.js\", \"https://cdn.holoviz.org/panel/1.5.4/dist/panel.min.js\"];\n",
       "  const js_modules = [];\n",
       "  const js_exports = {};\n",
       "  const css_urls = [];\n",
       "  const inline_js = [    function(Bokeh) {\n",
       "      Bokeh.set_log_level(\"info\");\n",
       "    },\n",
       "function(Bokeh) {} // ensure no trailing comma for IE\n",
       "  ];\n",
       "\n",
       "  function run_inline_js() {\n",
       "    if ((root.Bokeh !== undefined) || (force === true)) {\n",
       "      for (let i = 0; i < inline_js.length; i++) {\n",
       "        try {\n",
       "          inline_js[i].call(root, root.Bokeh);\n",
       "        } catch(e) {\n",
       "          if (!reloading) {\n",
       "            throw e;\n",
       "          }\n",
       "        }\n",
       "      }\n",
       "      // Cache old bokeh versions\n",
       "      if (Bokeh != undefined && !reloading) {\n",
       "        var NewBokeh = root.Bokeh;\n",
       "        if (Bokeh.versions === undefined) {\n",
       "          Bokeh.versions = new Map();\n",
       "        }\n",
       "        if (NewBokeh.version !== Bokeh.version) {\n",
       "          Bokeh.versions.set(NewBokeh.version, NewBokeh)\n",
       "        }\n",
       "        root.Bokeh = Bokeh;\n",
       "      }\n",
       "    } else if (Date.now() < root._bokeh_timeout) {\n",
       "      setTimeout(run_inline_js, 100);\n",
       "    } else if (!root._bokeh_failed_load) {\n",
       "      console.log(\"Bokeh: BokehJS failed to load within specified timeout.\");\n",
       "      root._bokeh_failed_load = true;\n",
       "    }\n",
       "    root._bokeh_is_initializing = false\n",
       "  }\n",
       "\n",
       "  function load_or_wait() {\n",
       "    // Implement a backoff loop that tries to ensure we do not load multiple\n",
       "    // versions of Bokeh and its dependencies at the same time.\n",
       "    // In recent versions we use the root._bokeh_is_initializing flag\n",
       "    // to determine whether there is an ongoing attempt to initialize\n",
       "    // bokeh, however for backward compatibility we also try to ensure\n",
       "    // that we do not start loading a newer (Panel>=1.0 and Bokeh>3) version\n",
       "    // before older versions are fully initialized.\n",
       "    if (root._bokeh_is_initializing && Date.now() > root._bokeh_timeout) {\n",
       "      // If the timeout and bokeh was not successfully loaded we reset\n",
       "      // everything and try loading again\n",
       "      root._bokeh_timeout = Date.now() + 5000;\n",
       "      root._bokeh_is_initializing = false;\n",
       "      root._bokeh_onload_callbacks = undefined;\n",
       "      root._bokeh_is_loading = 0\n",
       "      console.log(\"Bokeh: BokehJS was loaded multiple times but one version failed to initialize.\");\n",
       "      load_or_wait();\n",
       "    } else if (root._bokeh_is_initializing || (typeof root._bokeh_is_initializing === \"undefined\" && root._bokeh_onload_callbacks !== undefined)) {\n",
       "      setTimeout(load_or_wait, 100);\n",
       "    } else {\n",
       "      root._bokeh_is_initializing = true\n",
       "      root._bokeh_onload_callbacks = []\n",
       "      const bokeh_loaded = root.Bokeh != null && (root.Bokeh.version === py_version || (root.Bokeh.versions !== undefined && root.Bokeh.versions.has(py_version)));\n",
       "      if (!reloading && !bokeh_loaded) {\n",
       "        if (root.Bokeh) {\n",
       "          root.Bokeh = undefined;\n",
       "        }\n",
       "        console.debug(\"Bokeh: BokehJS not loaded, scheduling load and callback at\", now());\n",
       "      }\n",
       "      load_libs(css_urls, js_urls, js_modules, js_exports, function() {\n",
       "        console.debug(\"Bokeh: BokehJS plotting callback run at\", now());\n",
       "        run_inline_js();\n",
       "      });\n",
       "    }\n",
       "  }\n",
       "  // Give older versions of the autoload script a head-start to ensure\n",
       "  // they initialize before we start loading newer version.\n",
       "  setTimeout(load_or_wait, 100)\n",
       "}(window));"
      ],
      "application/vnd.holoviews_load.v0+json": "(function(root) {\n  function now() {\n    return new Date();\n  }\n\n  const force = true;\n  const py_version = '3.6.1'.replace('rc', '-rc.').replace('.dev', '-dev.');\n  const reloading = false;\n  const Bokeh = root.Bokeh;\n\n  // Set a timeout for this load but only if we are not already initializing\n  if (typeof (root._bokeh_timeout) === \"undefined\" || (force || !root._bokeh_is_initializing)) {\n    root._bokeh_timeout = Date.now() + 5000;\n    root._bokeh_failed_load = false;\n  }\n\n  function run_callbacks() {\n    try {\n      root._bokeh_onload_callbacks.forEach(function(callback) {\n        if (callback != null)\n          callback();\n      });\n    } finally {\n      delete root._bokeh_onload_callbacks;\n    }\n    console.debug(\"Bokeh: all callbacks have finished\");\n  }\n\n  function load_libs(css_urls, js_urls, js_modules, js_exports, callback) {\n    if (css_urls == null) css_urls = [];\n    if (js_urls == null) js_urls = [];\n    if (js_modules == null) js_modules = [];\n    if (js_exports == null) js_exports = {};\n\n    root._bokeh_onload_callbacks.push(callback);\n\n    if (root._bokeh_is_loading > 0) {\n      // Don't load bokeh if it is still initializing\n      console.debug(\"Bokeh: BokehJS is being loaded, scheduling callback at\", now());\n      return null;\n    } else if (js_urls.length === 0 && js_modules.length === 0 && Object.keys(js_exports).length === 0) {\n      // There is nothing to load\n      run_callbacks();\n      return null;\n    }\n\n    function on_load() {\n      root._bokeh_is_loading--;\n      if (root._bokeh_is_loading === 0) {\n        console.debug(\"Bokeh: all BokehJS libraries/stylesheets loaded\");\n        run_callbacks()\n      }\n    }\n    window._bokeh_on_load = on_load\n\n    function on_error(e) {\n      const src_el = e.srcElement\n      console.error(\"failed to load \" + (src_el.href || src_el.src));\n    }\n\n    const skip = [];\n    if (window.requirejs) {\n      window.requirejs.config({'packages': {}, 'paths': {}, 'shim': {}});\n      root._bokeh_is_loading = css_urls.length + 0;\n    } else {\n      root._bokeh_is_loading = css_urls.length + js_urls.length + js_modules.length + Object.keys(js_exports).length;\n    }\n\n    const existing_stylesheets = []\n    const links = document.getElementsByTagName('link')\n    for (let i = 0; i < links.length; i++) {\n      const link = links[i]\n      if (link.href != null) {\n        existing_stylesheets.push(link.href)\n      }\n    }\n    for (let i = 0; i < css_urls.length; i++) {\n      const url = css_urls[i];\n      const escaped = encodeURI(url)\n      if (existing_stylesheets.indexOf(escaped) !== -1) {\n        on_load()\n        continue;\n      }\n      const element = document.createElement(\"link\");\n      element.onload = on_load;\n      element.onerror = on_error;\n      element.rel = \"stylesheet\";\n      element.type = \"text/css\";\n      element.href = url;\n      console.debug(\"Bokeh: injecting link tag for BokehJS stylesheet: \", url);\n      document.body.appendChild(element);\n    }    var existing_scripts = []\n    const scripts = document.getElementsByTagName('script')\n    for (let i = 0; i < scripts.length; i++) {\n      var script = scripts[i]\n      if (script.src != null) {\n        existing_scripts.push(script.src)\n      }\n    }\n    for (let i = 0; i < js_urls.length; i++) {\n      const url = js_urls[i];\n      const escaped = encodeURI(url)\n      if (skip.indexOf(escaped) !== -1 || existing_scripts.indexOf(escaped) !== -1) {\n        if (!window.requirejs) {\n          on_load();\n        }\n        continue;\n      }\n      const element = document.createElement('script');\n      element.onload = on_load;\n      element.onerror = on_error;\n      element.async = false;\n      element.src = url;\n      console.debug(\"Bokeh: injecting script tag for BokehJS library: \", url);\n      document.head.appendChild(element);\n    }\n    for (let i = 0; i < js_modules.length; i++) {\n      const url = js_modules[i];\n      const escaped = encodeURI(url)\n      if (skip.indexOf(escaped) !== -1 || existing_scripts.indexOf(escaped) !== -1) {\n        if (!window.requirejs) {\n          on_load();\n        }\n        continue;\n      }\n      var element = document.createElement('script');\n      element.onload = on_load;\n      element.onerror = on_error;\n      element.async = false;\n      element.src = url;\n      element.type = \"module\";\n      console.debug(\"Bokeh: injecting script tag for BokehJS library: \", url);\n      document.head.appendChild(element);\n    }\n    for (const name in js_exports) {\n      const url = js_exports[name];\n      const escaped = encodeURI(url)\n      if (skip.indexOf(escaped) >= 0 || root[name] != null) {\n        if (!window.requirejs) {\n          on_load();\n        }\n        continue;\n      }\n      var element = document.createElement('script');\n      element.onerror = on_error;\n      element.async = false;\n      element.type = \"module\";\n      console.debug(\"Bokeh: injecting script tag for BokehJS library: \", url);\n      element.textContent = `\n      import ${name} from \"${url}\"\n      window.${name} = ${name}\n      window._bokeh_on_load()\n      `\n      document.head.appendChild(element);\n    }\n    if (!js_urls.length && !js_modules.length) {\n      on_load()\n    }\n  };\n\n  function inject_raw_css(css) {\n    const element = document.createElement(\"style\");\n    element.appendChild(document.createTextNode(css));\n    document.body.appendChild(element);\n  }\n\n  const js_urls = [\"https://cdn.holoviz.org/panel/1.5.4/dist/bundled/reactiveesm/es-module-shims@^1.10.0/dist/es-module-shims.min.js\", \"https://cdn.bokeh.org/bokeh/release/bokeh-3.6.1.min.js\", \"https://cdn.bokeh.org/bokeh/release/bokeh-gl-3.6.1.min.js\", \"https://cdn.bokeh.org/bokeh/release/bokeh-widgets-3.6.1.min.js\", \"https://cdn.bokeh.org/bokeh/release/bokeh-tables-3.6.1.min.js\", \"https://cdn.holoviz.org/panel/1.5.4/dist/panel.min.js\"];\n  const js_modules = [];\n  const js_exports = {};\n  const css_urls = [];\n  const inline_js = [    function(Bokeh) {\n      Bokeh.set_log_level(\"info\");\n    },\nfunction(Bokeh) {} // ensure no trailing comma for IE\n  ];\n\n  function run_inline_js() {\n    if ((root.Bokeh !== undefined) || (force === true)) {\n      for (let i = 0; i < inline_js.length; i++) {\n        try {\n          inline_js[i].call(root, root.Bokeh);\n        } catch(e) {\n          if (!reloading) {\n            throw e;\n          }\n        }\n      }\n      // Cache old bokeh versions\n      if (Bokeh != undefined && !reloading) {\n        var NewBokeh = root.Bokeh;\n        if (Bokeh.versions === undefined) {\n          Bokeh.versions = new Map();\n        }\n        if (NewBokeh.version !== Bokeh.version) {\n          Bokeh.versions.set(NewBokeh.version, NewBokeh)\n        }\n        root.Bokeh = Bokeh;\n      }\n    } else if (Date.now() < root._bokeh_timeout) {\n      setTimeout(run_inline_js, 100);\n    } else if (!root._bokeh_failed_load) {\n      console.log(\"Bokeh: BokehJS failed to load within specified timeout.\");\n      root._bokeh_failed_load = true;\n    }\n    root._bokeh_is_initializing = false\n  }\n\n  function load_or_wait() {\n    // Implement a backoff loop that tries to ensure we do not load multiple\n    // versions of Bokeh and its dependencies at the same time.\n    // In recent versions we use the root._bokeh_is_initializing flag\n    // to determine whether there is an ongoing attempt to initialize\n    // bokeh, however for backward compatibility we also try to ensure\n    // that we do not start loading a newer (Panel>=1.0 and Bokeh>3) version\n    // before older versions are fully initialized.\n    if (root._bokeh_is_initializing && Date.now() > root._bokeh_timeout) {\n      // If the timeout and bokeh was not successfully loaded we reset\n      // everything and try loading again\n      root._bokeh_timeout = Date.now() + 5000;\n      root._bokeh_is_initializing = false;\n      root._bokeh_onload_callbacks = undefined;\n      root._bokeh_is_loading = 0\n      console.log(\"Bokeh: BokehJS was loaded multiple times but one version failed to initialize.\");\n      load_or_wait();\n    } else if (root._bokeh_is_initializing || (typeof root._bokeh_is_initializing === \"undefined\" && root._bokeh_onload_callbacks !== undefined)) {\n      setTimeout(load_or_wait, 100);\n    } else {\n      root._bokeh_is_initializing = true\n      root._bokeh_onload_callbacks = []\n      const bokeh_loaded = root.Bokeh != null && (root.Bokeh.version === py_version || (root.Bokeh.versions !== undefined && root.Bokeh.versions.has(py_version)));\n      if (!reloading && !bokeh_loaded) {\n        if (root.Bokeh) {\n          root.Bokeh = undefined;\n        }\n        console.debug(\"Bokeh: BokehJS not loaded, scheduling load and callback at\", now());\n      }\n      load_libs(css_urls, js_urls, js_modules, js_exports, function() {\n        console.debug(\"Bokeh: BokehJS plotting callback run at\", now());\n        run_inline_js();\n      });\n    }\n  }\n  // Give older versions of the autoload script a head-start to ensure\n  // they initialize before we start loading newer version.\n  setTimeout(load_or_wait, 100)\n}(window));"
     },
     "metadata": {},
     "output_type": "display_data"
    },
    {
     "data": {
      "application/javascript": [
       "\n",
       "if ((window.PyViz === undefined) || (window.PyViz instanceof HTMLElement)) {\n",
       "  window.PyViz = {comms: {}, comm_status:{}, kernels:{}, receivers: {}, plot_index: []}\n",
       "}\n",
       "\n",
       "\n",
       "    function JupyterCommManager() {\n",
       "    }\n",
       "\n",
       "    JupyterCommManager.prototype.register_target = function(plot_id, comm_id, msg_handler) {\n",
       "      if (window.comm_manager || ((window.Jupyter !== undefined) && (Jupyter.notebook.kernel != null))) {\n",
       "        var comm_manager = window.comm_manager || Jupyter.notebook.kernel.comm_manager;\n",
       "        comm_manager.register_target(comm_id, function(comm) {\n",
       "          comm.on_msg(msg_handler);\n",
       "        });\n",
       "      } else if ((plot_id in window.PyViz.kernels) && (window.PyViz.kernels[plot_id])) {\n",
       "        window.PyViz.kernels[plot_id].registerCommTarget(comm_id, function(comm) {\n",
       "          comm.onMsg = msg_handler;\n",
       "        });\n",
       "      } else if (typeof google != 'undefined' && google.colab.kernel != null) {\n",
       "        google.colab.kernel.comms.registerTarget(comm_id, (comm) => {\n",
       "          var messages = comm.messages[Symbol.asyncIterator]();\n",
       "          function processIteratorResult(result) {\n",
       "            var message = result.value;\n",
       "            console.log(message)\n",
       "            var content = {data: message.data, comm_id};\n",
       "            var buffers = []\n",
       "            for (var buffer of message.buffers || []) {\n",
       "              buffers.push(new DataView(buffer))\n",
       "            }\n",
       "            var metadata = message.metadata || {};\n",
       "            var msg = {content, buffers, metadata}\n",
       "            msg_handler(msg);\n",
       "            return messages.next().then(processIteratorResult);\n",
       "          }\n",
       "          return messages.next().then(processIteratorResult);\n",
       "        })\n",
       "      }\n",
       "    }\n",
       "\n",
       "    JupyterCommManager.prototype.get_client_comm = function(plot_id, comm_id, msg_handler) {\n",
       "      if (comm_id in window.PyViz.comms) {\n",
       "        return window.PyViz.comms[comm_id];\n",
       "      } else if (window.comm_manager || ((window.Jupyter !== undefined) && (Jupyter.notebook.kernel != null))) {\n",
       "        var comm_manager = window.comm_manager || Jupyter.notebook.kernel.comm_manager;\n",
       "        var comm = comm_manager.new_comm(comm_id, {}, {}, {}, comm_id);\n",
       "        if (msg_handler) {\n",
       "          comm.on_msg(msg_handler);\n",
       "        }\n",
       "      } else if ((plot_id in window.PyViz.kernels) && (window.PyViz.kernels[plot_id])) {\n",
       "        var comm = window.PyViz.kernels[plot_id].connectToComm(comm_id);\n",
       "        comm.open();\n",
       "        if (msg_handler) {\n",
       "          comm.onMsg = msg_handler;\n",
       "        }\n",
       "      } else if (typeof google != 'undefined' && google.colab.kernel != null) {\n",
       "        var comm_promise = google.colab.kernel.comms.open(comm_id)\n",
       "        comm_promise.then((comm) => {\n",
       "          window.PyViz.comms[comm_id] = comm;\n",
       "          if (msg_handler) {\n",
       "            var messages = comm.messages[Symbol.asyncIterator]();\n",
       "            function processIteratorResult(result) {\n",
       "              var message = result.value;\n",
       "              var content = {data: message.data};\n",
       "              var metadata = message.metadata || {comm_id};\n",
       "              var msg = {content, metadata}\n",
       "              msg_handler(msg);\n",
       "              return messages.next().then(processIteratorResult);\n",
       "            }\n",
       "            return messages.next().then(processIteratorResult);\n",
       "          }\n",
       "        }) \n",
       "        var sendClosure = (data, metadata, buffers, disposeOnDone) => {\n",
       "          return comm_promise.then((comm) => {\n",
       "            comm.send(data, metadata, buffers, disposeOnDone);\n",
       "          });\n",
       "        };\n",
       "        var comm = {\n",
       "          send: sendClosure\n",
       "        };\n",
       "      }\n",
       "      window.PyViz.comms[comm_id] = comm;\n",
       "      return comm;\n",
       "    }\n",
       "    window.PyViz.comm_manager = new JupyterCommManager();\n",
       "    \n",
       "\n",
       "\n",
       "var JS_MIME_TYPE = 'application/javascript';\n",
       "var HTML_MIME_TYPE = 'text/html';\n",
       "var EXEC_MIME_TYPE = 'application/vnd.holoviews_exec.v0+json';\n",
       "var CLASS_NAME = 'output';\n",
       "\n",
       "/**\n",
       " * Render data to the DOM node\n",
       " */\n",
       "function render(props, node) {\n",
       "  var div = document.createElement(\"div\");\n",
       "  var script = document.createElement(\"script\");\n",
       "  node.appendChild(div);\n",
       "  node.appendChild(script);\n",
       "}\n",
       "\n",
       "/**\n",
       " * Handle when a new output is added\n",
       " */\n",
       "function handle_add_output(event, handle) {\n",
       "  var output_area = handle.output_area;\n",
       "  var output = handle.output;\n",
       "  if ((output.data == undefined) || (!output.data.hasOwnProperty(EXEC_MIME_TYPE))) {\n",
       "    return\n",
       "  }\n",
       "  var id = output.metadata[EXEC_MIME_TYPE][\"id\"];\n",
       "  var toinsert = output_area.element.find(\".\" + CLASS_NAME.split(' ')[0]);\n",
       "  if (id !== undefined) {\n",
       "    var nchildren = toinsert.length;\n",
       "    var html_node = toinsert[nchildren-1].children[0];\n",
       "    html_node.innerHTML = output.data[HTML_MIME_TYPE];\n",
       "    var scripts = [];\n",
       "    var nodelist = html_node.querySelectorAll(\"script\");\n",
       "    for (var i in nodelist) {\n",
       "      if (nodelist.hasOwnProperty(i)) {\n",
       "        scripts.push(nodelist[i])\n",
       "      }\n",
       "    }\n",
       "\n",
       "    scripts.forEach( function (oldScript) {\n",
       "      var newScript = document.createElement(\"script\");\n",
       "      var attrs = [];\n",
       "      var nodemap = oldScript.attributes;\n",
       "      for (var j in nodemap) {\n",
       "        if (nodemap.hasOwnProperty(j)) {\n",
       "          attrs.push(nodemap[j])\n",
       "        }\n",
       "      }\n",
       "      attrs.forEach(function(attr) { newScript.setAttribute(attr.name, attr.value) });\n",
       "      newScript.appendChild(document.createTextNode(oldScript.innerHTML));\n",
       "      oldScript.parentNode.replaceChild(newScript, oldScript);\n",
       "    });\n",
       "    if (JS_MIME_TYPE in output.data) {\n",
       "      toinsert[nchildren-1].children[1].textContent = output.data[JS_MIME_TYPE];\n",
       "    }\n",
       "    output_area._hv_plot_id = id;\n",
       "    if ((window.Bokeh !== undefined) && (id in Bokeh.index)) {\n",
       "      window.PyViz.plot_index[id] = Bokeh.index[id];\n",
       "    } else {\n",
       "      window.PyViz.plot_index[id] = null;\n",
       "    }\n",
       "  } else if (output.metadata[EXEC_MIME_TYPE][\"server_id\"] !== undefined) {\n",
       "    var bk_div = document.createElement(\"div\");\n",
       "    bk_div.innerHTML = output.data[HTML_MIME_TYPE];\n",
       "    var script_attrs = bk_div.children[0].attributes;\n",
       "    for (var i = 0; i < script_attrs.length; i++) {\n",
       "      toinsert[toinsert.length - 1].childNodes[1].setAttribute(script_attrs[i].name, script_attrs[i].value);\n",
       "    }\n",
       "    // store reference to server id on output_area\n",
       "    output_area._bokeh_server_id = output.metadata[EXEC_MIME_TYPE][\"server_id\"];\n",
       "  }\n",
       "}\n",
       "\n",
       "/**\n",
       " * Handle when an output is cleared or removed\n",
       " */\n",
       "function handle_clear_output(event, handle) {\n",
       "  var id = handle.cell.output_area._hv_plot_id;\n",
       "  var server_id = handle.cell.output_area._bokeh_server_id;\n",
       "  if (((id === undefined) || !(id in PyViz.plot_index)) && (server_id !== undefined)) { return; }\n",
       "  var comm = window.PyViz.comm_manager.get_client_comm(\"hv-extension-comm\", \"hv-extension-comm\", function () {});\n",
       "  if (server_id !== null) {\n",
       "    comm.send({event_type: 'server_delete', 'id': server_id});\n",
       "    return;\n",
       "  } else if (comm !== null) {\n",
       "    comm.send({event_type: 'delete', 'id': id});\n",
       "  }\n",
       "  delete PyViz.plot_index[id];\n",
       "  if ((window.Bokeh !== undefined) & (id in window.Bokeh.index)) {\n",
       "    var doc = window.Bokeh.index[id].model.document\n",
       "    doc.clear();\n",
       "    const i = window.Bokeh.documents.indexOf(doc);\n",
       "    if (i > -1) {\n",
       "      window.Bokeh.documents.splice(i, 1);\n",
       "    }\n",
       "  }\n",
       "}\n",
       "\n",
       "/**\n",
       " * Handle kernel restart event\n",
       " */\n",
       "function handle_kernel_cleanup(event, handle) {\n",
       "  delete PyViz.comms[\"hv-extension-comm\"];\n",
       "  window.PyViz.plot_index = {}\n",
       "}\n",
       "\n",
       "/**\n",
       " * Handle update_display_data messages\n",
       " */\n",
       "function handle_update_output(event, handle) {\n",
       "  handle_clear_output(event, {cell: {output_area: handle.output_area}})\n",
       "  handle_add_output(event, handle)\n",
       "}\n",
       "\n",
       "function register_renderer(events, OutputArea) {\n",
       "  function append_mime(data, metadata, element) {\n",
       "    // create a DOM node to render to\n",
       "    var toinsert = this.create_output_subarea(\n",
       "    metadata,\n",
       "    CLASS_NAME,\n",
       "    EXEC_MIME_TYPE\n",
       "    );\n",
       "    this.keyboard_manager.register_events(toinsert);\n",
       "    // Render to node\n",
       "    var props = {data: data, metadata: metadata[EXEC_MIME_TYPE]};\n",
       "    render(props, toinsert[0]);\n",
       "    element.append(toinsert);\n",
       "    return toinsert\n",
       "  }\n",
       "\n",
       "  events.on('output_added.OutputArea', handle_add_output);\n",
       "  events.on('output_updated.OutputArea', handle_update_output);\n",
       "  events.on('clear_output.CodeCell', handle_clear_output);\n",
       "  events.on('delete.Cell', handle_clear_output);\n",
       "  events.on('kernel_ready.Kernel', handle_kernel_cleanup);\n",
       "\n",
       "  OutputArea.prototype.register_mime_type(EXEC_MIME_TYPE, append_mime, {\n",
       "    safe: true,\n",
       "    index: 0\n",
       "  });\n",
       "}\n",
       "\n",
       "if (window.Jupyter !== undefined) {\n",
       "  try {\n",
       "    var events = require('base/js/events');\n",
       "    var OutputArea = require('notebook/js/outputarea').OutputArea;\n",
       "    if (OutputArea.prototype.mime_types().indexOf(EXEC_MIME_TYPE) == -1) {\n",
       "      register_renderer(events, OutputArea);\n",
       "    }\n",
       "  } catch(err) {\n",
       "  }\n",
       "}\n"
      ],
      "application/vnd.holoviews_load.v0+json": "\nif ((window.PyViz === undefined) || (window.PyViz instanceof HTMLElement)) {\n  window.PyViz = {comms: {}, comm_status:{}, kernels:{}, receivers: {}, plot_index: []}\n}\n\n\n    function JupyterCommManager() {\n    }\n\n    JupyterCommManager.prototype.register_target = function(plot_id, comm_id, msg_handler) {\n      if (window.comm_manager || ((window.Jupyter !== undefined) && (Jupyter.notebook.kernel != null))) {\n        var comm_manager = window.comm_manager || Jupyter.notebook.kernel.comm_manager;\n        comm_manager.register_target(comm_id, function(comm) {\n          comm.on_msg(msg_handler);\n        });\n      } else if ((plot_id in window.PyViz.kernels) && (window.PyViz.kernels[plot_id])) {\n        window.PyViz.kernels[plot_id].registerCommTarget(comm_id, function(comm) {\n          comm.onMsg = msg_handler;\n        });\n      } else if (typeof google != 'undefined' && google.colab.kernel != null) {\n        google.colab.kernel.comms.registerTarget(comm_id, (comm) => {\n          var messages = comm.messages[Symbol.asyncIterator]();\n          function processIteratorResult(result) {\n            var message = result.value;\n            console.log(message)\n            var content = {data: message.data, comm_id};\n            var buffers = []\n            for (var buffer of message.buffers || []) {\n              buffers.push(new DataView(buffer))\n            }\n            var metadata = message.metadata || {};\n            var msg = {content, buffers, metadata}\n            msg_handler(msg);\n            return messages.next().then(processIteratorResult);\n          }\n          return messages.next().then(processIteratorResult);\n        })\n      }\n    }\n\n    JupyterCommManager.prototype.get_client_comm = function(plot_id, comm_id, msg_handler) {\n      if (comm_id in window.PyViz.comms) {\n        return window.PyViz.comms[comm_id];\n      } else if (window.comm_manager || ((window.Jupyter !== undefined) && (Jupyter.notebook.kernel != null))) {\n        var comm_manager = window.comm_manager || Jupyter.notebook.kernel.comm_manager;\n        var comm = comm_manager.new_comm(comm_id, {}, {}, {}, comm_id);\n        if (msg_handler) {\n          comm.on_msg(msg_handler);\n        }\n      } else if ((plot_id in window.PyViz.kernels) && (window.PyViz.kernels[plot_id])) {\n        var comm = window.PyViz.kernels[plot_id].connectToComm(comm_id);\n        comm.open();\n        if (msg_handler) {\n          comm.onMsg = msg_handler;\n        }\n      } else if (typeof google != 'undefined' && google.colab.kernel != null) {\n        var comm_promise = google.colab.kernel.comms.open(comm_id)\n        comm_promise.then((comm) => {\n          window.PyViz.comms[comm_id] = comm;\n          if (msg_handler) {\n            var messages = comm.messages[Symbol.asyncIterator]();\n            function processIteratorResult(result) {\n              var message = result.value;\n              var content = {data: message.data};\n              var metadata = message.metadata || {comm_id};\n              var msg = {content, metadata}\n              msg_handler(msg);\n              return messages.next().then(processIteratorResult);\n            }\n            return messages.next().then(processIteratorResult);\n          }\n        }) \n        var sendClosure = (data, metadata, buffers, disposeOnDone) => {\n          return comm_promise.then((comm) => {\n            comm.send(data, metadata, buffers, disposeOnDone);\n          });\n        };\n        var comm = {\n          send: sendClosure\n        };\n      }\n      window.PyViz.comms[comm_id] = comm;\n      return comm;\n    }\n    window.PyViz.comm_manager = new JupyterCommManager();\n    \n\n\nvar JS_MIME_TYPE = 'application/javascript';\nvar HTML_MIME_TYPE = 'text/html';\nvar EXEC_MIME_TYPE = 'application/vnd.holoviews_exec.v0+json';\nvar CLASS_NAME = 'output';\n\n/**\n * Render data to the DOM node\n */\nfunction render(props, node) {\n  var div = document.createElement(\"div\");\n  var script = document.createElement(\"script\");\n  node.appendChild(div);\n  node.appendChild(script);\n}\n\n/**\n * Handle when a new output is added\n */\nfunction handle_add_output(event, handle) {\n  var output_area = handle.output_area;\n  var output = handle.output;\n  if ((output.data == undefined) || (!output.data.hasOwnProperty(EXEC_MIME_TYPE))) {\n    return\n  }\n  var id = output.metadata[EXEC_MIME_TYPE][\"id\"];\n  var toinsert = output_area.element.find(\".\" + CLASS_NAME.split(' ')[0]);\n  if (id !== undefined) {\n    var nchildren = toinsert.length;\n    var html_node = toinsert[nchildren-1].children[0];\n    html_node.innerHTML = output.data[HTML_MIME_TYPE];\n    var scripts = [];\n    var nodelist = html_node.querySelectorAll(\"script\");\n    for (var i in nodelist) {\n      if (nodelist.hasOwnProperty(i)) {\n        scripts.push(nodelist[i])\n      }\n    }\n\n    scripts.forEach( function (oldScript) {\n      var newScript = document.createElement(\"script\");\n      var attrs = [];\n      var nodemap = oldScript.attributes;\n      for (var j in nodemap) {\n        if (nodemap.hasOwnProperty(j)) {\n          attrs.push(nodemap[j])\n        }\n      }\n      attrs.forEach(function(attr) { newScript.setAttribute(attr.name, attr.value) });\n      newScript.appendChild(document.createTextNode(oldScript.innerHTML));\n      oldScript.parentNode.replaceChild(newScript, oldScript);\n    });\n    if (JS_MIME_TYPE in output.data) {\n      toinsert[nchildren-1].children[1].textContent = output.data[JS_MIME_TYPE];\n    }\n    output_area._hv_plot_id = id;\n    if ((window.Bokeh !== undefined) && (id in Bokeh.index)) {\n      window.PyViz.plot_index[id] = Bokeh.index[id];\n    } else {\n      window.PyViz.plot_index[id] = null;\n    }\n  } else if (output.metadata[EXEC_MIME_TYPE][\"server_id\"] !== undefined) {\n    var bk_div = document.createElement(\"div\");\n    bk_div.innerHTML = output.data[HTML_MIME_TYPE];\n    var script_attrs = bk_div.children[0].attributes;\n    for (var i = 0; i < script_attrs.length; i++) {\n      toinsert[toinsert.length - 1].childNodes[1].setAttribute(script_attrs[i].name, script_attrs[i].value);\n    }\n    // store reference to server id on output_area\n    output_area._bokeh_server_id = output.metadata[EXEC_MIME_TYPE][\"server_id\"];\n  }\n}\n\n/**\n * Handle when an output is cleared or removed\n */\nfunction handle_clear_output(event, handle) {\n  var id = handle.cell.output_area._hv_plot_id;\n  var server_id = handle.cell.output_area._bokeh_server_id;\n  if (((id === undefined) || !(id in PyViz.plot_index)) && (server_id !== undefined)) { return; }\n  var comm = window.PyViz.comm_manager.get_client_comm(\"hv-extension-comm\", \"hv-extension-comm\", function () {});\n  if (server_id !== null) {\n    comm.send({event_type: 'server_delete', 'id': server_id});\n    return;\n  } else if (comm !== null) {\n    comm.send({event_type: 'delete', 'id': id});\n  }\n  delete PyViz.plot_index[id];\n  if ((window.Bokeh !== undefined) & (id in window.Bokeh.index)) {\n    var doc = window.Bokeh.index[id].model.document\n    doc.clear();\n    const i = window.Bokeh.documents.indexOf(doc);\n    if (i > -1) {\n      window.Bokeh.documents.splice(i, 1);\n    }\n  }\n}\n\n/**\n * Handle kernel restart event\n */\nfunction handle_kernel_cleanup(event, handle) {\n  delete PyViz.comms[\"hv-extension-comm\"];\n  window.PyViz.plot_index = {}\n}\n\n/**\n * Handle update_display_data messages\n */\nfunction handle_update_output(event, handle) {\n  handle_clear_output(event, {cell: {output_area: handle.output_area}})\n  handle_add_output(event, handle)\n}\n\nfunction register_renderer(events, OutputArea) {\n  function append_mime(data, metadata, element) {\n    // create a DOM node to render to\n    var toinsert = this.create_output_subarea(\n    metadata,\n    CLASS_NAME,\n    EXEC_MIME_TYPE\n    );\n    this.keyboard_manager.register_events(toinsert);\n    // Render to node\n    var props = {data: data, metadata: metadata[EXEC_MIME_TYPE]};\n    render(props, toinsert[0]);\n    element.append(toinsert);\n    return toinsert\n  }\n\n  events.on('output_added.OutputArea', handle_add_output);\n  events.on('output_updated.OutputArea', handle_update_output);\n  events.on('clear_output.CodeCell', handle_clear_output);\n  events.on('delete.Cell', handle_clear_output);\n  events.on('kernel_ready.Kernel', handle_kernel_cleanup);\n\n  OutputArea.prototype.register_mime_type(EXEC_MIME_TYPE, append_mime, {\n    safe: true,\n    index: 0\n  });\n}\n\nif (window.Jupyter !== undefined) {\n  try {\n    var events = require('base/js/events');\n    var OutputArea = require('notebook/js/outputarea').OutputArea;\n    if (OutputArea.prototype.mime_types().indexOf(EXEC_MIME_TYPE) == -1) {\n      register_renderer(events, OutputArea);\n    }\n  } catch(err) {\n  }\n}\n"
     },
     "metadata": {},
     "output_type": "display_data"
    },
    {
     "data": {
      "application/vnd.holoviews_exec.v0+json": "",
      "text/html": [
       "<div id='d6a9c158-e9f4-4f2d-b871-82edbb41eec2'>\n",
       "  <div id=\"c514103b-9b65-4ae1-8c3b-e53007a7dd8e\" data-root-id=\"d6a9c158-e9f4-4f2d-b871-82edbb41eec2\" style=\"display: contents;\"></div>\n",
       "</div>\n",
       "<script type=\"application/javascript\">(function(root) {\n",
       "  var docs_json = {\"b2cfbc74-a2e1-4515-8a26-1e06c0e541d5\":{\"version\":\"3.6.1\",\"title\":\"Bokeh Application\",\"roots\":[{\"type\":\"object\",\"name\":\"panel.models.browser.BrowserInfo\",\"id\":\"d6a9c158-e9f4-4f2d-b871-82edbb41eec2\"},{\"type\":\"object\",\"name\":\"panel.models.comm_manager.CommManager\",\"id\":\"55451d26-c3e8-4289-8292-0de46ab4239f\",\"attributes\":{\"plot_id\":\"d6a9c158-e9f4-4f2d-b871-82edbb41eec2\",\"comm_id\":\"389bfaf1f1834cb68fdec1966df6c30e\",\"client_comm_id\":\"ca10ff196bb04ee59e501d4670936580\"}}],\"defs\":[{\"type\":\"model\",\"name\":\"ReactiveHTML1\"},{\"type\":\"model\",\"name\":\"FlexBox1\",\"properties\":[{\"name\":\"align_content\",\"kind\":\"Any\",\"default\":\"flex-start\"},{\"name\":\"align_items\",\"kind\":\"Any\",\"default\":\"flex-start\"},{\"name\":\"flex_direction\",\"kind\":\"Any\",\"default\":\"row\"},{\"name\":\"flex_wrap\",\"kind\":\"Any\",\"default\":\"wrap\"},{\"name\":\"gap\",\"kind\":\"Any\",\"default\":\"\"},{\"name\":\"justify_content\",\"kind\":\"Any\",\"default\":\"flex-start\"}]},{\"type\":\"model\",\"name\":\"FloatPanel1\",\"properties\":[{\"name\":\"config\",\"kind\":\"Any\",\"default\":{\"type\":\"map\"}},{\"name\":\"contained\",\"kind\":\"Any\",\"default\":true},{\"name\":\"position\",\"kind\":\"Any\",\"default\":\"right-top\"},{\"name\":\"offsetx\",\"kind\":\"Any\",\"default\":null},{\"name\":\"offsety\",\"kind\":\"Any\",\"default\":null},{\"name\":\"theme\",\"kind\":\"Any\",\"default\":\"primary\"},{\"name\":\"status\",\"kind\":\"Any\",\"default\":\"normalized\"}]},{\"type\":\"model\",\"name\":\"GridStack1\",\"properties\":[{\"name\":\"mode\",\"kind\":\"Any\",\"default\":\"warn\"},{\"name\":\"ncols\",\"kind\":\"Any\",\"default\":null},{\"name\":\"nrows\",\"kind\":\"Any\",\"default\":null},{\"name\":\"allow_resize\",\"kind\":\"Any\",\"default\":true},{\"name\":\"allow_drag\",\"kind\":\"Any\",\"default\":true},{\"name\":\"state\",\"kind\":\"Any\",\"default\":[]}]},{\"type\":\"model\",\"name\":\"drag1\",\"properties\":[{\"name\":\"slider_width\",\"kind\":\"Any\",\"default\":5},{\"name\":\"slider_color\",\"kind\":\"Any\",\"default\":\"black\"},{\"name\":\"value\",\"kind\":\"Any\",\"default\":50}]},{\"type\":\"model\",\"name\":\"click1\",\"properties\":[{\"name\":\"terminal_output\",\"kind\":\"Any\",\"default\":\"\"},{\"name\":\"debug_name\",\"kind\":\"Any\",\"default\":\"\"},{\"name\":\"clears\",\"kind\":\"Any\",\"default\":0}]},{\"type\":\"model\",\"name\":\"FastWrapper1\",\"properties\":[{\"name\":\"object\",\"kind\":\"Any\",\"default\":null},{\"name\":\"style\",\"kind\":\"Any\",\"default\":null}]},{\"type\":\"model\",\"name\":\"NotificationAreaBase1\",\"properties\":[{\"name\":\"js_events\",\"kind\":\"Any\",\"default\":{\"type\":\"map\"}},{\"name\":\"position\",\"kind\":\"Any\",\"default\":\"bottom-right\"},{\"name\":\"_clear\",\"kind\":\"Any\",\"default\":0}]},{\"type\":\"model\",\"name\":\"NotificationArea1\",\"properties\":[{\"name\":\"js_events\",\"kind\":\"Any\",\"default\":{\"type\":\"map\"}},{\"name\":\"notifications\",\"kind\":\"Any\",\"default\":[]},{\"name\":\"position\",\"kind\":\"Any\",\"default\":\"bottom-right\"},{\"name\":\"_clear\",\"kind\":\"Any\",\"default\":0},{\"name\":\"types\",\"kind\":\"Any\",\"default\":[{\"type\":\"map\",\"entries\":[[\"type\",\"warning\"],[\"background\",\"#ffc107\"],[\"icon\",{\"type\":\"map\",\"entries\":[[\"className\",\"fas fa-exclamation-triangle\"],[\"tagName\",\"i\"],[\"color\",\"white\"]]}]]},{\"type\":\"map\",\"entries\":[[\"type\",\"info\"],[\"background\",\"#007bff\"],[\"icon\",{\"type\":\"map\",\"entries\":[[\"className\",\"fas fa-info-circle\"],[\"tagName\",\"i\"],[\"color\",\"white\"]]}]]}]}]},{\"type\":\"model\",\"name\":\"Notification\",\"properties\":[{\"name\":\"background\",\"kind\":\"Any\",\"default\":null},{\"name\":\"duration\",\"kind\":\"Any\",\"default\":3000},{\"name\":\"icon\",\"kind\":\"Any\",\"default\":null},{\"name\":\"message\",\"kind\":\"Any\",\"default\":\"\"},{\"name\":\"notification_type\",\"kind\":\"Any\",\"default\":null},{\"name\":\"_destroyed\",\"kind\":\"Any\",\"default\":false}]},{\"type\":\"model\",\"name\":\"TemplateActions1\",\"properties\":[{\"name\":\"open_modal\",\"kind\":\"Any\",\"default\":0},{\"name\":\"close_modal\",\"kind\":\"Any\",\"default\":0}]},{\"type\":\"model\",\"name\":\"BootstrapTemplateActions1\",\"properties\":[{\"name\":\"open_modal\",\"kind\":\"Any\",\"default\":0},{\"name\":\"close_modal\",\"kind\":\"Any\",\"default\":0}]},{\"type\":\"model\",\"name\":\"TemplateEditor1\",\"properties\":[{\"name\":\"layout\",\"kind\":\"Any\",\"default\":[]}]},{\"type\":\"model\",\"name\":\"MaterialTemplateActions1\",\"properties\":[{\"name\":\"open_modal\",\"kind\":\"Any\",\"default\":0},{\"name\":\"close_modal\",\"kind\":\"Any\",\"default\":0}]},{\"type\":\"model\",\"name\":\"ReactiveESM1\",\"properties\":[{\"name\":\"esm_constants\",\"kind\":\"Any\",\"default\":{\"type\":\"map\"}}]},{\"type\":\"model\",\"name\":\"JSComponent1\",\"properties\":[{\"name\":\"esm_constants\",\"kind\":\"Any\",\"default\":{\"type\":\"map\"}}]},{\"type\":\"model\",\"name\":\"ReactComponent1\",\"properties\":[{\"name\":\"esm_constants\",\"kind\":\"Any\",\"default\":{\"type\":\"map\"}}]},{\"type\":\"model\",\"name\":\"AnyWidgetComponent1\",\"properties\":[{\"name\":\"esm_constants\",\"kind\":\"Any\",\"default\":{\"type\":\"map\"}}]},{\"type\":\"model\",\"name\":\"request_value1\",\"properties\":[{\"name\":\"fill\",\"kind\":\"Any\",\"default\":\"none\"},{\"name\":\"_synced\",\"kind\":\"Any\",\"default\":null},{\"name\":\"_request_sync\",\"kind\":\"Any\",\"default\":0}]}]}};\n",
       "  var render_items = [{\"docid\":\"b2cfbc74-a2e1-4515-8a26-1e06c0e541d5\",\"roots\":{\"d6a9c158-e9f4-4f2d-b871-82edbb41eec2\":\"c514103b-9b65-4ae1-8c3b-e53007a7dd8e\"},\"root_ids\":[\"d6a9c158-e9f4-4f2d-b871-82edbb41eec2\"]}];\n",
       "  var docs = Object.values(docs_json)\n",
       "  if (!docs) {\n",
       "    return\n",
       "  }\n",
       "  const py_version = docs[0].version.replace('rc', '-rc.').replace('.dev', '-dev.')\n",
       "  async function embed_document(root) {\n",
       "    var Bokeh = get_bokeh(root)\n",
       "    await Bokeh.embed.embed_items_notebook(docs_json, render_items);\n",
       "    for (const render_item of render_items) {\n",
       "      for (const root_id of render_item.root_ids) {\n",
       "\tconst id_el = document.getElementById(root_id)\n",
       "\tif (id_el.children.length && id_el.children[0].hasAttribute('data-root-id')) {\n",
       "\t  const root_el = id_el.children[0]\n",
       "\t  root_el.id = root_el.id + '-rendered'\n",
       "\t  for (const child of root_el.children) {\n",
       "            // Ensure JupyterLab does not capture keyboard shortcuts\n",
       "            // see: https://jupyterlab.readthedocs.io/en/4.1.x/extension/notebook.html#keyboard-interaction-model\n",
       "\t    child.setAttribute('data-lm-suppress-shortcuts', 'true')\n",
       "\t  }\n",
       "\t}\n",
       "      }\n",
       "    }\n",
       "  }\n",
       "  function get_bokeh(root) {\n",
       "    if (root.Bokeh === undefined) {\n",
       "      return null\n",
       "    } else if (root.Bokeh.version !== py_version) {\n",
       "      if (root.Bokeh.versions === undefined || !root.Bokeh.versions.has(py_version)) {\n",
       "\treturn null\n",
       "      }\n",
       "      return root.Bokeh.versions.get(py_version);\n",
       "    } else if (root.Bokeh.version === py_version) {\n",
       "      return root.Bokeh\n",
       "    }\n",
       "    return null\n",
       "  }\n",
       "  function is_loaded(root) {\n",
       "    var Bokeh = get_bokeh(root)\n",
       "    return (Bokeh != null && Bokeh.Panel !== undefined)\n",
       "  }\n",
       "  if (is_loaded(root)) {\n",
       "    embed_document(root);\n",
       "  } else {\n",
       "    var attempts = 0;\n",
       "    var timer = setInterval(function(root) {\n",
       "      if (is_loaded(root)) {\n",
       "        clearInterval(timer);\n",
       "        embed_document(root);\n",
       "      } else if (document.readyState == \"complete\") {\n",
       "        attempts++;\n",
       "        if (attempts > 200) {\n",
       "          clearInterval(timer);\n",
       "\t  var Bokeh = get_bokeh(root)\n",
       "\t  if (Bokeh == null || Bokeh.Panel == null) {\n",
       "            console.warn(\"Panel: ERROR: Unable to run Panel code because Bokeh or Panel library is missing\");\n",
       "\t  } else {\n",
       "\t    console.warn(\"Panel: WARNING: Attempting to render but not all required libraries could be resolved.\")\n",
       "\t    embed_document(root)\n",
       "\t  }\n",
       "        }\n",
       "      }\n",
       "    }, 25, root)\n",
       "  }\n",
       "})(window);</script>"
      ]
     },
     "metadata": {
      "application/vnd.holoviews_exec.v0+json": {
       "id": "d6a9c158-e9f4-4f2d-b871-82edbb41eec2"
      }
     },
     "output_type": "display_data"
    }
   ],
   "source": [
    "hvplot.extension('matplotlib')"
   ]
  },
  {
   "cell_type": "markdown",
   "id": "f202ff47-9bf7-4941-9d9b-1c03cc4faf4e",
   "metadata": {},
   "source": [
    "## Loading Data"
   ]
  },
  {
   "cell_type": "code",
   "execution_count": 3,
   "id": "2e382f10-901f-4a04-9e21-638c6ff945ee",
   "metadata": {},
   "outputs": [],
   "source": [
    "# Path\n",
    "path = '/Users/isisromero/desktop/polars/datasets/vehicles.csv'"
   ]
  },
  {
   "cell_type": "code",
   "execution_count": 4,
   "id": "2b6260fc-d0ff-4206-9cbb-4ad168418cd1",
   "metadata": {},
   "outputs": [],
   "source": [
    "raw = pl.read_csv(path, null_values=['NA'])"
   ]
  },
  {
   "cell_type": "code",
   "execution_count": 5,
   "id": "2d902fd2-c066-4190-ad86-403659201f84",
   "metadata": {},
   "outputs": [],
   "source": [
    "def tweak_auto(df):\n",
    "    cols = ['year', 'make', 'model', 'displ', 'cylinders', 'trany', \n",
    "            'drive', 'VClass', 'fuelType', 'barrels08', 'city08', 'highway08', 'createdOn']\n",
    "    return (df\n",
    "            .select(pl.col(cols))\n",
    "            .with_columns(pl.col('year').cast(pl.Int16),\n",
    "                          pl.col(['cylinders', 'highway08', 'city08']).cast(pl.UInt8),\n",
    "                          pl.col(['displ', 'barrels08']).cast(pl.Float32),\n",
    "                          pl.col(['make', 'model', 'VClass', 'drive', 'fuelType']).cast(pl.Categorical),\n",
    "                          pl.col('createdOn').str.to_datetime('%a %b %d %H:%M:%S %Z %Y'),\n",
    "                          is_automatic=pl.col('trany')                    \n",
    "                          .str.contains('Automatic')\n",
    "                          .fill_null('Automatic'),\n",
    "                          num_gears=pl.col('trany')\n",
    "                          .str.extract(r'(\\d+)')\n",
    "                          .cast(pl.UInt8)\n",
    "                          .fill_null(6))\n",
    "           )"
   ]
  },
  {
   "cell_type": "code",
   "execution_count": 6,
   "id": "afe17fff-e32c-45f5-a35f-a8f834df442f",
   "metadata": {},
   "outputs": [],
   "source": [
    "autos = tweak_auto(raw)"
   ]
  },
  {
   "cell_type": "code",
   "execution_count": 7,
   "id": "b1fb3274-d41d-45eb-bea5-e4b6619ebfb9",
   "metadata": {},
   "outputs": [
    {
     "name": "stdout",
     "output_type": "stream",
     "text": [
      "shape: (48_231, 15)\n",
      "┌──────┬────────────┬──────────────┬───────┬───┬───────────┬─────────────┬─────────────┬───────────┐\n",
      "│ year ┆ make       ┆ model        ┆ displ ┆ … ┆ highway08 ┆ createdOn   ┆ is_automati ┆ num_gears │\n",
      "│ ---  ┆ ---        ┆ ---          ┆ ---   ┆   ┆ ---       ┆ ---         ┆ c           ┆ ---       │\n",
      "│ i16  ┆ cat        ┆ cat          ┆ f32   ┆   ┆ u8        ┆ datetime[μs ┆ ---         ┆ u8        │\n",
      "│      ┆            ┆              ┆       ┆   ┆           ┆ ]           ┆ str         ┆           │\n",
      "╞══════╪════════════╪══════════════╪═══════╪═══╪═══════════╪═════════════╪═════════════╪═══════════╡\n",
      "│ 1985 ┆ Alfa Romeo ┆ Spider       ┆ 2.0   ┆ … ┆ 25        ┆ 2013-01-01  ┆ false       ┆ 5         │\n",
      "│      ┆            ┆ Veloce 2000  ┆       ┆   ┆           ┆ 00:00:00    ┆             ┆           │\n",
      "│ 1985 ┆ Ferrari    ┆ Testarossa   ┆ 4.9   ┆ … ┆ 14        ┆ 2013-01-01  ┆ false       ┆ 5         │\n",
      "│      ┆            ┆              ┆       ┆   ┆           ┆ 00:00:00    ┆             ┆           │\n",
      "│ 1985 ┆ Dodge      ┆ Charger      ┆ 2.2   ┆ … ┆ 33        ┆ 2013-01-01  ┆ false       ┆ 5         │\n",
      "│      ┆            ┆              ┆       ┆   ┆           ┆ 00:00:00    ┆             ┆           │\n",
      "│ 1985 ┆ Dodge      ┆ B150/B250    ┆ 5.2   ┆ … ┆ 12        ┆ 2013-01-01  ┆ true        ┆ 3         │\n",
      "│      ┆            ┆ Wagon 2WD    ┆       ┆   ┆           ┆ 00:00:00    ┆             ┆           │\n",
      "│ 1993 ┆ Subaru     ┆ Legacy AWD   ┆ 2.2   ┆ … ┆ 23        ┆ 2013-01-01  ┆ false       ┆ 5         │\n",
      "│      ┆            ┆ Turbo        ┆       ┆   ┆           ┆ 00:00:00    ┆             ┆           │\n",
      "│ …    ┆ …          ┆ …            ┆ …     ┆ … ┆ …         ┆ …           ┆ …           ┆ …         │\n",
      "│ 1993 ┆ Subaru     ┆ Legacy       ┆ 2.2   ┆ … ┆ 26        ┆ 2013-01-01  ┆ true        ┆ 4         │\n",
      "│      ┆            ┆              ┆       ┆   ┆           ┆ 00:00:00    ┆             ┆           │\n",
      "│ 1993 ┆ Subaru     ┆ Legacy       ┆ 2.2   ┆ … ┆ 28        ┆ 2013-01-01  ┆ false       ┆ 5         │\n",
      "│      ┆            ┆              ┆       ┆   ┆           ┆ 00:00:00    ┆             ┆           │\n",
      "│ 1993 ┆ Subaru     ┆ Legacy AWD   ┆ 2.2   ┆ … ┆ 24        ┆ 2013-01-01  ┆ true        ┆ 4         │\n",
      "│      ┆            ┆              ┆       ┆   ┆           ┆ 00:00:00    ┆             ┆           │\n",
      "│ 1993 ┆ Subaru     ┆ Legacy AWD   ┆ 2.2   ┆ … ┆ 24        ┆ 2013-01-01  ┆ false       ┆ 5         │\n",
      "│      ┆            ┆              ┆       ┆   ┆           ┆ 00:00:00    ┆             ┆           │\n",
      "│ 1993 ┆ Subaru     ┆ Legacy AWD   ┆ 2.2   ┆ … ┆ 21        ┆ 2013-01-01  ┆ true        ┆ 4         │\n",
      "│      ┆            ┆ Turbo        ┆       ┆   ┆           ┆ 00:00:00    ┆             ┆           │\n",
      "└──────┴────────────┴──────────────┴───────┴───┴───────────┴─────────────┴─────────────┴───────────┘\n"
     ]
    }
   ],
   "source": [
    "print(autos)"
   ]
  },
  {
   "cell_type": "markdown",
   "id": "673e4ebc-6b60-4d62-894f-43db5eb0e1d3",
   "metadata": {},
   "source": [
    "### Sorting by A Single Column"
   ]
  },
  {
   "cell_type": "code",
   "execution_count": 8,
   "id": "6d8e180d-fe01-4752-bcac-50e339a31ac1",
   "metadata": {},
   "outputs": [],
   "source": [
    "names = ['Al', 'Bob', 'Charlie', 'Dan', 'Edith', 'Frank']"
   ]
  },
  {
   "cell_type": "code",
   "execution_count": 9,
   "id": "f037e678-9793-4f35-aecd-d78feda10cbf",
   "metadata": {},
   "outputs": [
    {
     "data": {
      "text/plain": [
       "['Al', 'Bob', 'Charlie', 'Dan', 'Edith', 'Frank']"
      ]
     },
     "execution_count": 9,
     "metadata": {},
     "output_type": "execute_result"
    }
   ],
   "source": [
    "sorted(names)"
   ]
  },
  {
   "cell_type": "code",
   "execution_count": 10,
   "id": "df3c3377-cf3d-4d09-a621-e9c3b73589b5",
   "metadata": {},
   "outputs": [
    {
     "data": {
      "text/plain": [
       "['Al', 'Bob', 'Dan', 'Edith', 'Frank', 'Charlie']"
      ]
     },
     "execution_count": 10,
     "metadata": {},
     "output_type": "execute_result"
    }
   ],
   "source": [
    "# Sorted by String's Length\n",
    "sorted(names, key=len)"
   ]
  },
  {
   "cell_type": "code",
   "execution_count": 11,
   "id": "d5273666-da46-4d52-83fb-4b02305a966d",
   "metadata": {},
   "outputs": [
    {
     "name": "stdout",
     "output_type": "stream",
     "text": [
      "shape: (48_231, 15)\n",
      "┌──────┬─────────────┬─────────────┬───────┬───┬───────────┬─────────────┬─────────────┬───────────┐\n",
      "│ year ┆ make        ┆ model       ┆ displ ┆ … ┆ highway08 ┆ createdOn   ┆ is_automati ┆ num_gears │\n",
      "│ ---  ┆ ---         ┆ ---         ┆ ---   ┆   ┆ ---       ┆ ---         ┆ c           ┆ ---       │\n",
      "│ i16  ┆ str         ┆ cat         ┆ f32   ┆   ┆ u8        ┆ datetime[μs ┆ ---         ┆ u8        │\n",
      "│      ┆             ┆             ┆       ┆   ┆           ┆ ]           ┆ str         ┆           │\n",
      "╞══════╪═════════════╪═════════════╪═══════╪═══╪═══════════╪═════════════╪═════════════╪═══════════╡\n",
      "│ 1993 ┆ BMW         ┆ 740i        ┆ 4.0   ┆ … ┆ 20        ┆ 2013-01-01  ┆ true        ┆ 5         │\n",
      "│      ┆             ┆             ┆       ┆   ┆           ┆ 00:00:00    ┆             ┆           │\n",
      "│ 1993 ┆ BMW         ┆ 740il       ┆ 4.0   ┆ … ┆ 20        ┆ 2013-01-01  ┆ true        ┆ 5         │\n",
      "│      ┆             ┆             ┆       ┆   ┆           ┆ 00:00:00    ┆             ┆           │\n",
      "│ 1993 ┆ BMW         ┆ 750il       ┆ 5.0   ┆ … ┆ 17        ┆ 2013-01-01  ┆ true        ┆ 4         │\n",
      "│      ┆             ┆             ┆       ┆   ┆           ┆ 00:00:00    ┆             ┆           │\n",
      "│ 1985 ┆ GMC         ┆ G15/25      ┆ 4.3   ┆ … ┆ 16        ┆ 2013-01-01  ┆ true        ┆ 3         │\n",
      "│      ┆             ┆ Rally 2WD   ┆       ┆   ┆           ┆ 00:00:00    ┆             ┆           │\n",
      "│ 1993 ┆ BMW         ┆ 525i        ┆ 2.5   ┆ … ┆ 23        ┆ 2013-01-01  ┆ true        ┆ 4         │\n",
      "│      ┆             ┆ Touring     ┆       ┆   ┆           ┆ 00:00:00    ┆             ┆           │\n",
      "│ …    ┆ …           ┆ …           ┆ …     ┆ … ┆ …         ┆ …           ┆ …           ┆ …         │\n",
      "│ 1985 ┆ Bill Dovell ┆ Dovell      ┆ 2.3   ┆ … ┆ 18        ┆ 2013-01-01  ┆ true        ┆ 4         │\n",
      "│      ┆ Motor Car   ┆ 230CE       ┆       ┆   ┆           ┆ 00:00:00    ┆             ┆           │\n",
      "│      ┆ Company     ┆             ┆       ┆   ┆           ┆             ┆             ┆           │\n",
      "│ 1985 ┆ Bill Dovell ┆ Dovell 230E ┆ 2.3   ┆ … ┆ 18        ┆ 2013-01-01  ┆ true        ┆ 4         │\n",
      "│      ┆ Motor Car   ┆             ┆       ┆   ┆           ┆ 00:00:00    ┆             ┆           │\n",
      "│      ┆ Company     ┆             ┆       ┆   ┆           ┆             ┆             ┆           │\n",
      "│ 1984 ┆ Superior    ┆ Funeral     ┆ 6.0   ┆ … ┆ 11        ┆ 2013-01-01  ┆ true        ┆ 3         │\n",
      "│      ┆ Coaches Div ┆ Coach  2WD  ┆       ┆   ┆           ┆ 00:00:00    ┆             ┆           │\n",
      "│      ┆ E.p. Dutt…  ┆             ┆       ┆   ┆           ┆             ┆             ┆           │\n",
      "│ 1989 ┆ Environment ┆ ERD 1       ┆ 2.9   ┆ … ┆ 17        ┆ 2013-01-01  ┆ true        ┆ 4         │\n",
      "│      ┆ al Rsch and ┆             ┆       ┆   ┆           ┆ 00:00:00    ┆             ┆           │\n",
      "│      ┆ Devp Co…    ┆             ┆       ┆   ┆           ┆             ┆             ┆           │\n",
      "│ 1984 ┆ S and S     ┆ Funeral     ┆ 6.0   ┆ … ┆ 11        ┆ 2013-01-01  ┆ true        ┆ 3         │\n",
      "│      ┆ Coach       ┆ Coach  2WD  ┆       ┆   ┆           ┆ 00:00:00    ┆             ┆           │\n",
      "│      ┆ Company     ┆             ┆       ┆   ┆           ┆             ┆             ┆           │\n",
      "│      ┆ E.p. Du…    ┆             ┆       ┆   ┆           ┆             ┆             ┆           │\n",
      "└──────┴─────────────┴─────────────┴───────┴───┴───────────┴─────────────┴─────────────┴───────────┘\n"
     ]
    }
   ],
   "source": [
    "print(autos\n",
    "      .with_columns(pl.col('make').cast(pl.String))\n",
    "      .sort(by=pl.col('make').str.len_chars())\n",
    "     )"
   ]
  },
  {
   "cell_type": "code",
   "execution_count": 12,
   "id": "4da49355-749e-4277-a344-6d17dd441fd1",
   "metadata": {},
   "outputs": [
    {
     "name": "stdout",
     "output_type": "stream",
     "text": [
      "shape: (48_231, 15)\n",
      "┌──────┬────────────┬──────────────┬───────┬───┬───────────┬─────────────┬─────────────┬───────────┐\n",
      "│ year ┆ make       ┆ model        ┆ displ ┆ … ┆ highway08 ┆ createdOn   ┆ is_automati ┆ num_gears │\n",
      "│ ---  ┆ ---        ┆ ---          ┆ ---   ┆   ┆ ---       ┆ ---         ┆ c           ┆ ---       │\n",
      "│ i16  ┆ cat        ┆ cat          ┆ f32   ┆   ┆ u8        ┆ datetime[μs ┆ ---         ┆ u8        │\n",
      "│      ┆            ┆              ┆       ┆   ┆           ┆ ]           ┆ str         ┆           │\n",
      "╞══════╪════════════╪══════════════╪═══════╪═══╪═══════════╪═════════════╪═════════════╪═══════════╡\n",
      "│ 1984 ┆ Alfa Romeo ┆ Spider       ┆ 2.0   ┆ … ┆ 25        ┆ 2013-01-01  ┆ false       ┆ 5         │\n",
      "│      ┆            ┆ Veloce 2000  ┆       ┆   ┆           ┆ 00:00:00    ┆             ┆           │\n",
      "│ 1984 ┆ Bertone    ┆ X1/9         ┆ 1.5   ┆ … ┆ 26        ┆ 2013-01-01  ┆ false       ┆ 5         │\n",
      "│      ┆            ┆              ┆       ┆   ┆           ┆ 00:00:00    ┆             ┆           │\n",
      "│ 1984 ┆ Chevrolet  ┆ Corvette     ┆ 5.7   ┆ … ┆ 20        ┆ 2013-01-01  ┆ true        ┆ 4         │\n",
      "│      ┆            ┆              ┆       ┆   ┆           ┆ 00:00:00    ┆             ┆           │\n",
      "│ 1984 ┆ Chevrolet  ┆ Corvette     ┆ 5.7   ┆ … ┆ 20        ┆ 2013-01-01  ┆ false       ┆ 4         │\n",
      "│      ┆            ┆              ┆       ┆   ┆           ┆ 00:00:00    ┆             ┆           │\n",
      "│ 1984 ┆ Nissan     ┆ 300ZX        ┆ 3.0   ┆ … ┆ 20        ┆ 2013-01-01  ┆ true        ┆ 4         │\n",
      "│      ┆            ┆              ┆       ┆   ┆           ┆ 00:00:00    ┆             ┆           │\n",
      "│ …    ┆ …          ┆ …            ┆ …     ┆ … ┆ …         ┆ …           ┆ …           ┆ …         │\n",
      "│ 2025 ┆ Mitsubishi ┆ Outlander    ┆ 2.4   ┆ … ┆ 27        ┆ 2024-11-18  ┆ true        ┆ 1         │\n",
      "│      ┆            ┆ PHEV         ┆       ┆   ┆           ┆ 00:00:00    ┆             ┆           │\n",
      "│ 2025 ┆ Volvo      ┆ S60 T8 AWD   ┆ 2.0   ┆ … ┆ 33        ┆ 2024-11-18  ┆ true        ┆ 8         │\n",
      "│      ┆            ┆              ┆       ┆   ┆           ┆ 00:00:00    ┆             ┆           │\n",
      "│ 2025 ┆ Volvo      ┆ V60 T8 AWD   ┆ 2.0   ┆ … ┆ 33        ┆ 2024-11-18  ┆ true        ┆ 8         │\n",
      "│      ┆            ┆              ┆       ┆   ┆           ┆ 00:00:00    ┆             ┆           │\n",
      "│ 2025 ┆ Volvo      ┆ XC60 T8 AWD  ┆ 2.0   ┆ … ┆ 28        ┆ 2024-11-18  ┆ true        ┆ 8         │\n",
      "│      ┆            ┆              ┆       ┆   ┆           ┆ 00:00:00    ┆             ┆           │\n",
      "│ 2025 ┆ Volvo      ┆ XC90 T8 AWD  ┆ 2.0   ┆ … ┆ 27        ┆ 2024-11-18  ┆ true        ┆ 8         │\n",
      "│      ┆            ┆              ┆       ┆   ┆           ┆ 00:00:00    ┆             ┆           │\n",
      "└──────┴────────────┴──────────────┴───────┴───┴───────────┴─────────────┴─────────────┴───────────┘\n"
     ]
    }
   ],
   "source": [
    "print(autos\n",
    "      .sort('year')\n",
    "     )"
   ]
  },
  {
   "cell_type": "code",
   "execution_count": 13,
   "id": "71d8b596-6f58-4be3-9314-178f74db4f03",
   "metadata": {},
   "outputs": [
    {
     "name": "stdout",
     "output_type": "stream",
     "text": [
      "shape: (48_231, 15)\n",
      "┌──────┬───────┬────────────────┬───────┬───┬───────────┬───────────────┬──────────────┬───────────┐\n",
      "│ year ┆ make  ┆ model          ┆ displ ┆ … ┆ highway08 ┆ createdOn     ┆ is_automatic ┆ num_gears │\n",
      "│ ---  ┆ ---   ┆ ---            ┆ ---   ┆   ┆ ---       ┆ ---           ┆ ---          ┆ ---       │\n",
      "│ i16  ┆ cat   ┆ cat            ┆ f32   ┆   ┆ u8        ┆ datetime[μs]  ┆ str          ┆ u8        │\n",
      "╞══════╪═══════╪════════════════╪═══════╪═══╪═══════════╪═══════════════╪══════════════╪═══════════╡\n",
      "│ 2025 ┆ Lucid ┆ Air Pure RWD   ┆ null  ┆ … ┆ 125       ┆ 2024-08-25    ┆ true         ┆ 1         │\n",
      "│      ┆       ┆ with 20 inch   ┆       ┆   ┆           ┆ 00:00:00      ┆              ┆           │\n",
      "│      ┆       ┆ whee…          ┆       ┆   ┆           ┆               ┆              ┆           │\n",
      "│ 2024 ┆ Lucid ┆ Air G Touring  ┆ null  ┆ … ┆ 128       ┆ 2024-05-02    ┆ true         ┆ 1         │\n",
      "│      ┆       ┆ XR AWD with19  ┆       ┆   ┆           ┆ 00:00:00      ┆              ┆           │\n",
      "│      ┆       ┆ in…            ┆       ┆   ┆           ┆               ┆              ┆           │\n",
      "│ 2018 ┆ Tesla ┆ Model 3 Long   ┆ null  ┆ … ┆ 123       ┆ 2018-01-11    ┆ true         ┆ 1         │\n",
      "│      ┆       ┆ Range          ┆       ┆   ┆           ┆ 00:00:00      ┆              ┆           │\n",
      "│ 2019 ┆ Tesla ┆ Model 3 Long   ┆ null  ┆ … ┆ 123       ┆ 2019-01-29    ┆ true         ┆ 1         │\n",
      "│      ┆       ┆ Range          ┆       ┆   ┆           ┆ 00:00:00      ┆              ┆           │\n",
      "│ 2020 ┆ Tesla ┆ Model 3 Long   ┆ null  ┆ … ┆ 123       ┆ 2019-11-05    ┆ true         ┆ 1         │\n",
      "│      ┆       ┆ Range          ┆       ┆   ┆           ┆ 00:00:00      ┆              ┆           │\n",
      "│ …    ┆ …     ┆ …              ┆ …     ┆ … ┆ …         ┆ …             ┆ …            ┆ …         │\n",
      "│ 2024 ┆ Lexus ┆ RZ 300e (18    ┆ null  ┆ … ┆ 112       ┆ 2024-05-02    ┆ true         ┆ 1         │\n",
      "│      ┆       ┆ inch wheels)   ┆       ┆   ┆           ┆ 00:00:00      ┆              ┆           │\n",
      "│ 2017 ┆ Tesla ┆ Model 3 Long   ┆ null  ┆ … ┆ 120       ┆ 2017-11-28    ┆ true         ┆ 1         │\n",
      "│      ┆       ┆ Range          ┆       ┆   ┆           ┆ 00:00:00      ┆              ┆           │\n",
      "│ 2022 ┆ Lucid ┆ Air Dream R    ┆ null  ┆ … ┆ 125       ┆ 2021-09-14    ┆ true         ┆ 1         │\n",
      "│      ┆       ┆ AWD w/19 inch  ┆       ┆   ┆           ┆ 00:00:00      ┆              ┆           │\n",
      "│      ┆       ┆ whee…          ┆       ┆   ┆           ┆               ┆              ┆           │\n",
      "│ 2025 ┆ Lucid ┆ Air G Touring  ┆ null  ┆ … ┆ 126       ┆ 2024-08-25    ┆ true         ┆ 1         │\n",
      "│      ┆       ┆ XR AWD with 19 ┆       ┆   ┆           ┆ 00:00:00      ┆              ┆           │\n",
      "│      ┆       ┆ i…             ┆       ┆   ┆           ┆               ┆              ┆           │\n",
      "│ 2024 ┆ Tesla ┆ Model 3 Long   ┆ null  ┆ … ┆ 122       ┆ 2024-08-25    ┆ true         ┆ 1         │\n",
      "│      ┆       ┆ Range AWD-E    ┆       ┆   ┆           ┆ 00:00:00      ┆              ┆           │\n",
      "└──────┴───────┴────────────────┴───────┴───┴───────────┴───────────────┴──────────────┴───────────┘\n"
     ]
    }
   ],
   "source": [
    "print(autos\n",
    "      .sort((pl.col('city08') + pl.col('highway08')) / 2)\n",
    "     )"
   ]
  },
  {
   "cell_type": "code",
   "execution_count": 14,
   "id": "c9f59a07-a28d-4434-be4b-51967c89bd17",
   "metadata": {},
   "outputs": [
    {
     "name": "stdout",
     "output_type": "stream",
     "text": [
      "shape: (48_231, 15)\n",
      "┌──────┬────────────┬──────────────┬───────┬───┬───────────┬─────────────┬─────────────┬───────────┐\n",
      "│ year ┆ make       ┆ model        ┆ displ ┆ … ┆ highway08 ┆ createdOn   ┆ is_automati ┆ num_gears │\n",
      "│ ---  ┆ ---        ┆ ---          ┆ ---   ┆   ┆ ---       ┆ ---         ┆ c           ┆ ---       │\n",
      "│ i16  ┆ cat        ┆ cat          ┆ f32   ┆   ┆ u8        ┆ datetime[μs ┆ ---         ┆ u8        │\n",
      "│      ┆            ┆              ┆       ┆   ┆           ┆ ]           ┆ str         ┆           │\n",
      "╞══════╪════════════╪══════════════╪═══════╪═══╪═══════════╪═════════════╪═════════════╪═══════════╡\n",
      "│ 1985 ┆ Alfa Romeo ┆ Spider       ┆ 2.0   ┆ … ┆ 25        ┆ 2013-01-01  ┆ false       ┆ 5         │\n",
      "│      ┆            ┆ Veloce 2000  ┆       ┆   ┆           ┆ 00:00:00    ┆             ┆           │\n",
      "│ 1985 ┆ Ferrari    ┆ Testarossa   ┆ 4.9   ┆ … ┆ 14        ┆ 2013-01-01  ┆ false       ┆ 5         │\n",
      "│      ┆            ┆              ┆       ┆   ┆           ┆ 00:00:00    ┆             ┆           │\n",
      "│ 1994 ┆ Acura      ┆ NSX          ┆ 3.0   ┆ … ┆ 22        ┆ 2013-01-01  ┆ true        ┆ 4         │\n",
      "│      ┆            ┆              ┆       ┆   ┆           ┆ 00:00:00    ┆             ┆           │\n",
      "│ 1994 ┆ Acura      ┆ NSX          ┆ 3.0   ┆ … ┆ 22        ┆ 2013-01-01  ┆ false       ┆ 5         │\n",
      "│      ┆            ┆              ┆       ┆   ┆           ┆ 00:00:00    ┆             ┆           │\n",
      "│ 1994 ┆ Alfa Romeo ┆ Spider       ┆ 2.0   ┆ … ┆ 27        ┆ 2013-01-01  ┆ false       ┆ 5         │\n",
      "│      ┆            ┆              ┆       ┆   ┆           ┆ 00:00:00    ┆             ┆           │\n",
      "│ …    ┆ …          ┆ …            ┆ …     ┆ … ┆ …         ┆ …           ┆ …           ┆ …         │\n",
      "│ 2025 ┆ Hyundai    ┆ Venue        ┆ 1.6   ┆ … ┆ 32        ┆ 2024-10-17  ┆ true        ┆ 1         │\n",
      "│      ┆            ┆              ┆       ┆   ┆           ┆ 00:00:00    ┆             ┆           │\n",
      "│ 2025 ┆ Lincoln    ┆ Corsair FWD  ┆ 2.0   ┆ … ┆ 30        ┆ 2024-10-17  ┆ true        ┆ 8         │\n",
      "│      ┆            ┆              ┆       ┆   ┆           ┆ 00:00:00    ┆             ┆           │\n",
      "│ 2025 ┆ Nissan     ┆ Pathfinder   ┆ 3.5   ┆ … ┆ 27        ┆ 2024-10-17  ┆ true        ┆ 9         │\n",
      "│      ┆            ┆ 2WD          ┆       ┆   ┆           ┆ 00:00:00    ┆             ┆           │\n",
      "│ 2025 ┆ Ford       ┆ Escape FWD   ┆ 2.5   ┆ … ┆ 37        ┆ 2024-11-18  ┆ true        ┆ 6         │\n",
      "│      ┆            ┆ PHEV         ┆       ┆   ┆           ┆ 00:00:00    ┆             ┆           │\n",
      "│ 2025 ┆ Kia        ┆ Niro Plug-in ┆ 1.6   ┆ … ┆ 47        ┆ 2024-11-18  ┆ true        ┆ 6         │\n",
      "│      ┆            ┆ Hybrid       ┆       ┆   ┆           ┆ 00:00:00    ┆             ┆           │\n",
      "└──────┴────────────┴──────────────┴───────┴───┴───────────┴─────────────┴─────────────┴───────────┘\n"
     ]
    }
   ],
   "source": [
    "# Sorting VClass\n",
    "print(autos\n",
    "      .sort(pl.col('VClass'))\n",
    "     )"
   ]
  },
  {
   "cell_type": "code",
   "execution_count": 15,
   "id": "086a6c7c-3195-444d-84f8-303f66538ba3",
   "metadata": {},
   "outputs": [
    {
     "name": "stdout",
     "output_type": "stream",
     "text": [
      "shape: (48_231, 16)\n",
      "┌──────┬────────────┬──────────────┬───────┬───┬─────────────┬─────────────┬───────────┬───────────┐\n",
      "│ year ┆ make       ┆ model        ┆ displ ┆ … ┆ createdOn   ┆ is_automati ┆ num_gears ┆ make_avg  │\n",
      "│ ---  ┆ ---        ┆ ---          ┆ ---   ┆   ┆ ---         ┆ c           ┆ ---       ┆ ---       │\n",
      "│ i16  ┆ cat        ┆ cat          ┆ f32   ┆   ┆ datetime[μs ┆ ---         ┆ u8        ┆ f64       │\n",
      "│      ┆            ┆              ┆       ┆   ┆ ]           ┆ str         ┆           ┆           │\n",
      "╞══════╪════════════╪══════════════╪═══════╪═══╪═════════════╪═════════════╪═══════════╪═══════════╡\n",
      "│ 1985 ┆ Alfa Romeo ┆ Spider       ┆ 2.0   ┆ … ┆ 2013-01-01  ┆ false       ┆ 5         ┆ 19.5      │\n",
      "│      ┆            ┆ Veloce 2000  ┆       ┆   ┆ 00:00:00    ┆             ┆           ┆           │\n",
      "│ 1985 ┆ Ferrari    ┆ Testarossa   ┆ 4.9   ┆ … ┆ 2013-01-01  ┆ false       ┆ 5         ┆ 11.911972 │\n",
      "│      ┆            ┆              ┆       ┆   ┆ 00:00:00    ┆             ┆           ┆           │\n",
      "│ 1985 ┆ Dodge      ┆ Charger      ┆ 2.2   ┆ … ┆ 2013-01-01  ┆ false       ┆ 5         ┆ 15.466988 │\n",
      "│      ┆            ┆              ┆       ┆   ┆ 00:00:00    ┆             ┆           ┆           │\n",
      "│ 1985 ┆ Dodge      ┆ B150/B250    ┆ 5.2   ┆ … ┆ 2013-01-01  ┆ true        ┆ 3         ┆ 15.466988 │\n",
      "│      ┆            ┆ Wagon 2WD    ┆       ┆   ┆ 00:00:00    ┆             ┆           ┆           │\n",
      "│ 1993 ┆ Subaru     ┆ Legacy AWD   ┆ 2.2   ┆ … ┆ 2013-01-01  ┆ false       ┆ 5         ┆ 21.130306 │\n",
      "│      ┆            ┆ Turbo        ┆       ┆   ┆ 00:00:00    ┆             ┆           ┆           │\n",
      "│ …    ┆ …          ┆ …            ┆ …     ┆ … ┆ …           ┆ …           ┆ …         ┆ …         │\n",
      "│ 1993 ┆ Subaru     ┆ Legacy       ┆ 2.2   ┆ … ┆ 2013-01-01  ┆ true        ┆ 4         ┆ 21.130306 │\n",
      "│      ┆            ┆              ┆       ┆   ┆ 00:00:00    ┆             ┆           ┆           │\n",
      "│ 1993 ┆ Subaru     ┆ Legacy       ┆ 2.2   ┆ … ┆ 2013-01-01  ┆ false       ┆ 5         ┆ 21.130306 │\n",
      "│      ┆            ┆              ┆       ┆   ┆ 00:00:00    ┆             ┆           ┆           │\n",
      "│ 1993 ┆ Subaru     ┆ Legacy AWD   ┆ 2.2   ┆ … ┆ 2013-01-01  ┆ true        ┆ 4         ┆ 21.130306 │\n",
      "│      ┆            ┆              ┆       ┆   ┆ 00:00:00    ┆             ┆           ┆           │\n",
      "│ 1993 ┆ Subaru     ┆ Legacy AWD   ┆ 2.2   ┆ … ┆ 2013-01-01  ┆ false       ┆ 5         ┆ 21.130306 │\n",
      "│      ┆            ┆              ┆       ┆   ┆ 00:00:00    ┆             ┆           ┆           │\n",
      "│ 1993 ┆ Subaru     ┆ Legacy AWD   ┆ 2.2   ┆ … ┆ 2013-01-01  ┆ true        ┆ 4         ┆ 21.130306 │\n",
      "│      ┆            ┆ Turbo        ┆       ┆   ┆ 00:00:00    ┆             ┆           ┆           │\n",
      "└──────┴────────────┴──────────────┴───────┴───┴─────────────┴─────────────┴───────────┴───────────┘\n"
     ]
    }
   ],
   "source": [
    "print(autos\n",
    "      .with_columns(make_avg=pl.col('city08').mean().over(pl.col('make')))\n",
    "     )"
   ]
  },
  {
   "cell_type": "code",
   "execution_count": 16,
   "id": "ca73e32c-31f3-4baa-a0b3-4bf5ebf64d3b",
   "metadata": {},
   "outputs": [
    {
     "name": "stdout",
     "output_type": "stream",
     "text": [
      "shape: (48_231, 15)\n",
      "┌──────┬─────────┬───────────────┬───────┬───┬───────────┬──────────────┬──────────────┬───────────┐\n",
      "│ year ┆ make    ┆ model         ┆ displ ┆ … ┆ highway08 ┆ createdOn    ┆ is_automatic ┆ num_gears │\n",
      "│ ---  ┆ ---     ┆ ---           ┆ ---   ┆   ┆ ---       ┆ ---          ┆ ---          ┆ ---       │\n",
      "│ i16  ┆ cat     ┆ cat           ┆ f32   ┆   ┆ u8        ┆ datetime[μs] ┆ str          ┆ u8        │\n",
      "╞══════╪═════════╪═══════════════╪═══════╪═══╪═══════════╪══════════════╪══════════════╪═══════════╡\n",
      "│ 1996 ┆ Vector  ┆ Avtech SC /   ┆ 5.7   ┆ … ┆ 12        ┆ 2013-01-01   ┆ false        ┆ 5         │\n",
      "│      ┆         ┆ M12           ┆       ┆   ┆           ┆ 00:00:00     ┆              ┆           │\n",
      "│ 1997 ┆ Vector  ┆ Avtech SC /   ┆ 5.7   ┆ … ┆ 12        ┆ 2013-01-01   ┆ false        ┆ 5         │\n",
      "│      ┆         ┆ M12           ┆       ┆   ┆           ┆ 00:00:00     ┆              ┆           │\n",
      "│ 1992 ┆ Vector  ┆ W8            ┆ 6.0   ┆ … ┆ 10        ┆ 2013-01-01   ┆ true         ┆ 3         │\n",
      "│      ┆         ┆               ┆       ┆   ┆           ┆ 00:00:00     ┆              ┆           │\n",
      "│ 1993 ┆ Vector  ┆ W8            ┆ 6.0   ┆ … ┆ 10        ┆ 2013-01-01   ┆ true         ┆ 3         │\n",
      "│      ┆         ┆               ┆       ┆   ┆           ┆ 00:00:00     ┆              ┆           │\n",
      "│ 2006 ┆ Bugatti ┆ Veyron        ┆ 8.0   ┆ … ┆ 14        ┆ 2013-01-01   ┆ true         ┆ 6         │\n",
      "│      ┆         ┆               ┆       ┆   ┆           ┆ 00:00:00     ┆              ┆           │\n",
      "│ …    ┆ …       ┆ …             ┆ …     ┆ … ┆ …         ┆ …            ┆ …            ┆ …         │\n",
      "│ 2025 ┆ Lucid   ┆ Air Sapphire  ┆ null  ┆ … ┆ 101       ┆ 2024-08-25   ┆ true         ┆ 1         │\n",
      "│      ┆         ┆ AWD           ┆       ┆   ┆           ┆ 00:00:00     ┆              ┆           │\n",
      "│ 2025 ┆ Lucid   ┆ Air Touring   ┆ null  ┆ … ┆ 130       ┆ 2024-08-25   ┆ true         ┆ 1         │\n",
      "│      ┆         ┆ AWD with 19   ┆       ┆   ┆           ┆ 00:00:00     ┆              ┆           │\n",
      "│      ┆         ┆ inch w…       ┆       ┆   ┆           ┆              ┆              ┆           │\n",
      "│ 2025 ┆ Lucid   ┆ Air Touring   ┆ null  ┆ … ┆ 119       ┆ 2024-08-25   ┆ true         ┆ 1         │\n",
      "│      ┆         ┆ AWD with 20   ┆       ┆   ┆           ┆ 00:00:00     ┆              ┆           │\n",
      "│      ┆         ┆ inch w…       ┆       ┆   ┆           ┆              ┆              ┆           │\n",
      "│ 2025 ┆ Lucid   ┆ Air Touring   ┆ null  ┆ … ┆ 113       ┆ 2024-08-25   ┆ true         ┆ 1         │\n",
      "│      ┆         ┆ AWD with 21   ┆       ┆   ┆           ┆ 00:00:00     ┆              ┆           │\n",
      "│      ┆         ┆ inch w…       ┆       ┆   ┆           ┆              ┆              ┆           │\n",
      "│ 2021 ┆ Kandi   ┆ K27           ┆ null  ┆ … ┆ 102       ┆ 2021-01-05   ┆ true         ┆ 1         │\n",
      "│      ┆         ┆               ┆       ┆   ┆           ┆ 00:00:00     ┆              ┆           │\n",
      "└──────┴─────────┴───────────────┴───────┴───┴───────────┴──────────────┴──────────────┴───────────┘\n"
     ]
    }
   ],
   "source": [
    "print(autos\n",
    "      .sort(pl.col('city08').mean().over(pl.col('make')))\n",
    "     )"
   ]
  },
  {
   "cell_type": "markdown",
   "id": "ab161323-53b6-4848-be8f-e7c9447cafbc",
   "metadata": {},
   "source": [
    "### Sorting by Multiple Columns"
   ]
  },
  {
   "cell_type": "code",
   "execution_count": 17,
   "id": "00933306-38a7-4c3d-ab94-cfc42f54f341",
   "metadata": {},
   "outputs": [
    {
     "name": "stdout",
     "output_type": "stream",
     "text": [
      "shape: (48_231, 15)\n",
      "┌──────┬─────────────┬─────────────┬───────┬───┬───────────┬─────────────┬─────────────┬───────────┐\n",
      "│ year ┆ make        ┆ model       ┆ displ ┆ … ┆ highway08 ┆ createdOn   ┆ is_automati ┆ num_gears │\n",
      "│ ---  ┆ ---         ┆ ---         ┆ ---   ┆   ┆ ---       ┆ ---         ┆ c           ┆ ---       │\n",
      "│ i16  ┆ cat         ┆ cat         ┆ f32   ┆   ┆ u8        ┆ datetime[μs ┆ ---         ┆ u8        │\n",
      "│      ┆             ┆             ┆       ┆   ┆           ┆ ]           ┆ str         ┆           │\n",
      "╞══════╪═════════════╪═════════════╪═══════╪═══╪═══════════╪═════════════╪═════════════╪═══════════╡\n",
      "│ 1984 ┆ Alfa Romeo  ┆ GT V6 2.5   ┆ 2.5   ┆ … ┆ 24        ┆ 2013-01-01  ┆ false       ┆ 5         │\n",
      "│      ┆             ┆             ┆       ┆   ┆           ┆ 00:00:00    ┆             ┆           │\n",
      "│ 1984 ┆ Alfa Romeo  ┆ Spider      ┆ 2.0   ┆ … ┆ 25        ┆ 2013-01-01  ┆ false       ┆ 5         │\n",
      "│      ┆             ┆ Veloce 2000 ┆       ┆   ┆           ┆ 00:00:00    ┆             ┆           │\n",
      "│ 1984 ┆ Alfa Romeo  ┆ Spider      ┆ 2.0   ┆ … ┆ 25        ┆ 2013-01-01  ┆ false       ┆ 5         │\n",
      "│      ┆             ┆ Veloce 2000 ┆       ┆   ┆           ┆ 00:00:00    ┆             ┆           │\n",
      "│ 1984 ┆ Alfa Romeo  ┆ GT V6 2.5   ┆ 2.5   ┆ … ┆ 24        ┆ 2013-01-01  ┆ false       ┆ 5         │\n",
      "│      ┆             ┆             ┆       ┆   ┆           ┆ 00:00:00    ┆             ┆           │\n",
      "│ 1984 ┆ Dodge       ┆ 600         ┆ 2.2   ┆ … ┆ 26        ┆ 2013-01-01  ┆ true        ┆ 3         │\n",
      "│      ┆             ┆             ┆       ┆   ┆           ┆ 00:00:00    ┆             ┆           │\n",
      "│ …    ┆ …           ┆ …           ┆ …     ┆ … ┆ …         ┆ …           ┆ …           ┆ …         │\n",
      "│ 2025 ┆ Lucid       ┆ Air Touring ┆ null  ┆ … ┆ 130       ┆ 2024-08-25  ┆ true        ┆ 1         │\n",
      "│      ┆             ┆ AWD with 19 ┆       ┆   ┆           ┆ 00:00:00    ┆             ┆           │\n",
      "│      ┆             ┆ inch w…     ┆       ┆   ┆           ┆             ┆             ┆           │\n",
      "│ 2025 ┆ Lucid       ┆ Air Touring ┆ null  ┆ … ┆ 119       ┆ 2024-08-25  ┆ true        ┆ 1         │\n",
      "│      ┆             ┆ AWD with 20 ┆       ┆   ┆           ┆ 00:00:00    ┆             ┆           │\n",
      "│      ┆             ┆ inch w…     ┆       ┆   ┆           ┆             ┆             ┆           │\n",
      "│ 2025 ┆ INEOS       ┆ Grenadier   ┆ 3.0   ┆ … ┆ 15        ┆ 2024-09-18  ┆ true        ┆ 8         │\n",
      "│      ┆ Automotive  ┆             ┆       ┆   ┆           ┆ 00:00:00    ┆             ┆           │\n",
      "│ 2025 ┆ INEOS       ┆ Grenadier   ┆ 3.0   ┆ … ┆ 14        ┆ 2024-09-18  ┆ true        ┆ 8         │\n",
      "│      ┆ Automotive  ┆ Trialmaster ┆       ┆   ┆           ┆ 00:00:00    ┆             ┆           │\n",
      "│      ┆             ┆ Edition     ┆       ┆   ┆           ┆             ┆             ┆           │\n",
      "│ 2025 ┆ Bugatti     ┆ Nevera      ┆ null  ┆ … ┆ 54        ┆ 2024-08-25  ┆ true        ┆ 1         │\n",
      "│      ┆ Rimac       ┆             ┆       ┆   ┆           ┆ 00:00:00    ┆             ┆           │\n",
      "└──────┴─────────────┴─────────────┴───────┴───┴───────────┴─────────────┴─────────────┴───────────┘\n"
     ]
    }
   ],
   "source": [
    "print(autos\n",
    "      .sort(['year', 'make'])\n",
    "     )"
   ]
  },
  {
   "cell_type": "code",
   "execution_count": 18,
   "id": "e6551340-b6e6-4d7d-8066-fa3996f99930",
   "metadata": {},
   "outputs": [
    {
     "name": "stdout",
     "output_type": "stream",
     "text": [
      "shape: (48_231, 15)\n",
      "┌──────┬─────────────┬─────────────┬───────┬───┬───────────┬─────────────┬─────────────┬───────────┐\n",
      "│ year ┆ make        ┆ model       ┆ displ ┆ … ┆ highway08 ┆ createdOn   ┆ is_automati ┆ num_gears │\n",
      "│ ---  ┆ ---         ┆ ---         ┆ ---   ┆   ┆ ---       ┆ ---         ┆ c           ┆ ---       │\n",
      "│ i16  ┆ cat         ┆ cat         ┆ f32   ┆   ┆ u8        ┆ datetime[μs ┆ ---         ┆ u8        │\n",
      "│      ┆             ┆             ┆       ┆   ┆           ┆ ]           ┆ str         ┆           │\n",
      "╞══════╪═════════════╪═════════════╪═══════╪═══╪═══════════╪═════════════╪═════════════╪═══════════╡\n",
      "│ 1984 ┆ Alfa Romeo  ┆ Spider      ┆ 2.0   ┆ … ┆ 25        ┆ 2013-01-01  ┆ false       ┆ 5         │\n",
      "│      ┆             ┆ Veloce 2000 ┆       ┆   ┆           ┆ 00:00:00    ┆             ┆           │\n",
      "│ 1984 ┆ Alfa Romeo  ┆ Spider      ┆ 2.0   ┆ … ┆ 25        ┆ 2013-01-01  ┆ false       ┆ 5         │\n",
      "│      ┆             ┆ Veloce 2000 ┆       ┆   ┆           ┆ 00:00:00    ┆             ┆           │\n",
      "│ 1984 ┆ Alfa Romeo  ┆ GT V6 2.5   ┆ 2.5   ┆ … ┆ 24        ┆ 2013-01-01  ┆ false       ┆ 5         │\n",
      "│      ┆             ┆             ┆       ┆   ┆           ┆ 00:00:00    ┆             ┆           │\n",
      "│ 1984 ┆ Alfa Romeo  ┆ GT V6 2.5   ┆ 2.5   ┆ … ┆ 24        ┆ 2013-01-01  ┆ false       ┆ 5         │\n",
      "│      ┆             ┆             ┆       ┆   ┆           ┆ 00:00:00    ┆             ┆           │\n",
      "│ 1984 ┆ Dodge       ┆ Charger     ┆ 1.6   ┆ … ┆ 35        ┆ 2013-01-01  ┆ false       ┆ 4         │\n",
      "│      ┆             ┆             ┆       ┆   ┆           ┆ 00:00:00    ┆             ┆           │\n",
      "│ …    ┆ …           ┆ …           ┆ …     ┆ … ┆ …         ┆ …           ┆ …           ┆ …         │\n",
      "│ 2025 ┆ Lucid       ┆ Air Pure    ┆ null  ┆ … ┆ 125       ┆ 2024-08-25  ┆ true        ┆ 1         │\n",
      "│      ┆             ┆ RWD with 20 ┆       ┆   ┆           ┆ 00:00:00    ┆             ┆           │\n",
      "│      ┆             ┆ inch whee…  ┆       ┆   ┆           ┆             ┆             ┆           │\n",
      "│ 2025 ┆ Lucid       ┆ Air         ┆ null  ┆ … ┆ 101       ┆ 2024-08-25  ┆ true        ┆ 1         │\n",
      "│      ┆             ┆ Sapphire    ┆       ┆   ┆           ┆ 00:00:00    ┆             ┆           │\n",
      "│      ┆             ┆ AWD         ┆       ┆   ┆           ┆             ┆             ┆           │\n",
      "│ 2025 ┆ INEOS       ┆ Grenadier   ┆ 3.0   ┆ … ┆ 15        ┆ 2024-09-18  ┆ true        ┆ 8         │\n",
      "│      ┆ Automotive  ┆             ┆       ┆   ┆           ┆ 00:00:00    ┆             ┆           │\n",
      "│ 2025 ┆ INEOS       ┆ Grenadier   ┆ 3.0   ┆ … ┆ 14        ┆ 2024-09-18  ┆ true        ┆ 8         │\n",
      "│      ┆ Automotive  ┆ Trialmaster ┆       ┆   ┆           ┆ 00:00:00    ┆             ┆           │\n",
      "│      ┆             ┆ Edition     ┆       ┆   ┆           ┆             ┆             ┆           │\n",
      "│ 2025 ┆ Bugatti     ┆ Nevera      ┆ null  ┆ … ┆ 54        ┆ 2024-08-25  ┆ true        ┆ 1         │\n",
      "│      ┆ Rimac       ┆             ┆       ┆   ┆           ┆ 00:00:00    ┆             ┆           │\n",
      "└──────┴─────────────┴─────────────┴───────┴───┴───────────┴─────────────┴─────────────┴───────────┘\n"
     ]
    }
   ],
   "source": [
    "# Including Model\n",
    "print(autos\n",
    "      .sort(['year', 'make', 'model'])\n",
    "     )"
   ]
  },
  {
   "cell_type": "code",
   "execution_count": 19,
   "id": "4e61d2c1-3316-48f9-a763-bb6387593554",
   "metadata": {},
   "outputs": [
    {
     "name": "stdout",
     "output_type": "stream",
     "text": [
      "shape: (48_231, 15)\n",
      "┌──────┬─────────────┬─────────────┬───────┬───┬───────────┬─────────────┬─────────────┬───────────┐\n",
      "│ year ┆ make        ┆ model       ┆ displ ┆ … ┆ highway08 ┆ createdOn   ┆ is_automati ┆ num_gears │\n",
      "│ ---  ┆ ---         ┆ ---         ┆ ---   ┆   ┆ ---       ┆ ---         ┆ c           ┆ ---       │\n",
      "│ i16  ┆ cat         ┆ cat         ┆ f32   ┆   ┆ u8        ┆ datetime[μs ┆ ---         ┆ u8        │\n",
      "│      ┆             ┆             ┆       ┆   ┆           ┆ ]           ┆ str         ┆           │\n",
      "╞══════╪═════════════╪═════════════╪═══════╪═══╪═══════════╪═════════════╪═════════════╪═══════════╡\n",
      "│ 2025 ┆ Alfa Romeo  ┆ Giulia      ┆ 2.0   ┆ … ┆ 33        ┆ 2024-08-07  ┆ true        ┆ 8         │\n",
      "│      ┆             ┆             ┆       ┆   ┆           ┆ 00:00:00    ┆             ┆           │\n",
      "│ 2025 ┆ Alfa Romeo  ┆ Giulia AWD  ┆ 2.0   ┆ … ┆ 31        ┆ 2024-08-07  ┆ true        ┆ 8         │\n",
      "│      ┆             ┆             ┆       ┆   ┆           ┆ 00:00:00    ┆             ┆           │\n",
      "│ 2025 ┆ Alfa Romeo  ┆ Stelvio AWD ┆ 2.0   ┆ … ┆ 28        ┆ 2024-08-07  ┆ true        ┆ 8         │\n",
      "│      ┆             ┆             ┆       ┆   ┆           ┆ 00:00:00    ┆             ┆           │\n",
      "│ 2025 ┆ Alfa Romeo  ┆ Tonale eAWD ┆ 1.3   ┆ … ┆ 29        ┆ 2024-11-18  ┆ true        ┆ 6         │\n",
      "│      ┆             ┆             ┆       ┆   ┆           ┆ 00:00:00    ┆             ┆           │\n",
      "│ 2025 ┆ Ferrari     ┆ SF90 Spider ┆ 3.9   ┆ … ┆ 19        ┆ 2024-11-18  ┆ true        ┆ 8         │\n",
      "│      ┆             ┆             ┆       ┆   ┆           ┆ 00:00:00    ┆             ┆           │\n",
      "│ …    ┆ …           ┆ …           ┆ …     ┆ … ┆ …         ┆ …           ┆ …           ┆ …         │\n",
      "│ 1984 ┆ Bill Dovell ┆ Dovell      ┆ 2.3   ┆ … ┆ 19        ┆ 2013-01-01  ┆ true        ┆ 4         │\n",
      "│      ┆ Motor Car   ┆ 230CE       ┆       ┆   ┆           ┆ 00:00:00    ┆             ┆           │\n",
      "│      ┆ Company     ┆             ┆       ┆   ┆           ┆             ┆             ┆           │\n",
      "│ 1984 ┆ Bill Dovell ┆ Dovell 230E ┆ 2.3   ┆ … ┆ 19        ┆ 2013-01-01  ┆ true        ┆ 4         │\n",
      "│      ┆ Motor Car   ┆             ┆       ┆   ┆           ┆ 00:00:00    ┆             ┆           │\n",
      "│      ┆ Company     ┆             ┆       ┆   ┆           ┆             ┆             ┆           │\n",
      "│ 1984 ┆ Import      ┆ 1fas 410    ┆ 1.0   ┆ … ┆ 20        ┆ 2013-01-01  ┆ false       ┆ 4         │\n",
      "│      ┆ Foreign     ┆             ┆       ┆   ┆           ┆ 00:00:00    ┆             ┆           │\n",
      "│      ┆ Auto Sales  ┆             ┆       ┆   ┆           ┆             ┆             ┆           │\n",
      "│      ┆ Inc         ┆             ┆       ┆   ┆           ┆             ┆             ┆           │\n",
      "│ 1984 ┆ S and S     ┆ Funeral     ┆ 6.0   ┆ … ┆ 11        ┆ 2013-01-01  ┆ true        ┆ 3         │\n",
      "│      ┆ Coach       ┆ Coach  2WD  ┆       ┆   ┆           ┆ 00:00:00    ┆             ┆           │\n",
      "│      ┆ Company     ┆             ┆       ┆   ┆           ┆             ┆             ┆           │\n",
      "│      ┆ E.p. Du…    ┆             ┆       ┆   ┆           ┆             ┆             ┆           │\n",
      "│ 1984 ┆ Superior    ┆ Funeral     ┆ 6.0   ┆ … ┆ 11        ┆ 2013-01-01  ┆ true        ┆ 3         │\n",
      "│      ┆ Coaches Div ┆ Coach  2WD  ┆       ┆   ┆           ┆ 00:00:00    ┆             ┆           │\n",
      "│      ┆ E.p. Dutt…  ┆             ┆       ┆   ┆           ┆             ┆             ┆           │\n",
      "└──────┴─────────────┴─────────────┴───────┴───┴───────────┴─────────────┴─────────────┴───────────┘\n"
     ]
    }
   ],
   "source": [
    "# Descending Order\n",
    "print(autos\n",
    "      .sort(['year', 'make', 'model'],\n",
    "           descending=[True, False, False])\n",
    "     )"
   ]
  },
  {
   "cell_type": "code",
   "execution_count": 20,
   "id": "0e8c2dc0-70d7-49e9-ad2b-68c313792b24",
   "metadata": {},
   "outputs": [
    {
     "name": "stdout",
     "output_type": "stream",
     "text": [
      "shape: (48_231, 15)\n",
      "┌──────┬───────┬─────────┬───────┬───┬───────────┬──────────────────────┬──────────────┬───────────┐\n",
      "│ year ┆ make  ┆ model   ┆ displ ┆ … ┆ highway08 ┆ createdOn            ┆ is_automatic ┆ num_gears │\n",
      "│ ---  ┆ ---   ┆ ---     ┆ ---   ┆   ┆ ---       ┆ ---                  ┆ ---          ┆ ---       │\n",
      "│ i16  ┆ cat   ┆ cat     ┆ f32   ┆   ┆ u8        ┆ datetime[μs]         ┆ str          ┆ u8        │\n",
      "╞══════╪═══════╪═════════╪═══════╪═══╪═══════════╪══════════════════════╪══════════════╪═══════════╡\n",
      "│ 2025 ┆ Acura ┆ Integra ┆ 1.5   ┆ … ┆ 37        ┆ 2024-05-29 00:00:00  ┆ true         ┆ 7         │\n",
      "│ 2025 ┆ Acura ┆ Integra ┆ 2.0   ┆ … ┆ 28        ┆ 2024-08-25 00:00:00  ┆ false        ┆ 6         │\n",
      "│ 2025 ┆ Acura ┆ Integra ┆ 1.5   ┆ … ┆ 36        ┆ 2024-05-29 00:00:00  ┆ false        ┆ 6         │\n",
      "│      ┆       ┆ A-Spec  ┆       ┆   ┆           ┆                      ┆              ┆           │\n",
      "│ 2025 ┆ Acura ┆ Integra ┆ 1.5   ┆ … ┆ 36        ┆ 2024-05-29 00:00:00  ┆ true         ┆ 7         │\n",
      "│      ┆       ┆ A-Spec  ┆       ┆   ┆           ┆                      ┆              ┆           │\n",
      "│ 2025 ┆ Acura ┆ MDX AWD ┆ 3.5   ┆ … ┆ 25        ┆ 2024-08-07 00:00:00  ┆ true         ┆ 10        │\n",
      "│ …    ┆ …     ┆ …       ┆ …     ┆ … ┆ …         ┆ …                    ┆ …            ┆ …         │\n",
      "│ 1984 ┆ Volvo ┆ 760 GLE ┆ 2.3   ┆ … ┆ 21        ┆ 2013-01-01 00:00:00  ┆ true         ┆ 4         │\n",
      "│ 1984 ┆ Volvo ┆ 760 GLE ┆ 2.9   ┆ … ┆ 21        ┆ 2013-01-01 00:00:00  ┆ true         ┆ 4         │\n",
      "│ 1984 ┆ Volvo ┆ 760 GLE ┆ 2.4   ┆ … ┆ 29        ┆ 2013-01-01 00:00:00  ┆ false        ┆ 5         │\n",
      "│ 1984 ┆ Volvo ┆ 760 GLE ┆ 2.4   ┆ … ┆ 26        ┆ 2013-01-01 00:00:00  ┆ true         ┆ 4         │\n",
      "│ 1984 ┆ Volvo ┆ 760 GLE ┆ 2.3   ┆ … ┆ 22        ┆ 2013-01-01 00:00:00  ┆ false        ┆ 5         │\n",
      "└──────┴───────┴─────────┴───────┴───┴───────────┴──────────────────────┴──────────────┴───────────┘\n"
     ]
    }
   ],
   "source": [
    "print(autos\n",
    "      .with_columns(pl.col('make').cast(pl.Categorical('lexical')),\n",
    "                    pl.col('model').cast(pl.Categorical('lexical')))\n",
    "      .sort(['year', 'make', 'model'],\n",
    "            descending=[True, False, False])\n",
    "     )"
   ]
  },
  {
   "cell_type": "markdown",
   "id": "bffb1c92-b911-4c06-8414-de7fff110277",
   "metadata": {},
   "source": [
    "### Specifying Custom Ordering for Categorical Columns"
   ]
  },
  {
   "cell_type": "code",
   "execution_count": 22,
   "id": "583a4455-7a5e-4702-a2be-46d731d493c6",
   "metadata": {},
   "outputs": [
    {
     "name": "stdout",
     "output_type": "stream",
     "text": [
      "shape: (48_231, 16)\n",
      "┌──────┬───────────┬──────────────┬───────┬───┬──────────────┬─────────────┬───────────┬───────────┐\n",
      "│ year ┆ make      ┆ model        ┆ displ ┆ … ┆ createdOn    ┆ is_automati ┆ num_gears ┆ month     │\n",
      "│ ---  ┆ ---       ┆ ---          ┆ ---   ┆   ┆ ---          ┆ c           ┆ ---       ┆ ---       │\n",
      "│ i16  ┆ cat       ┆ cat          ┆ f32   ┆   ┆ datetime[μs] ┆ ---         ┆ u8        ┆ str       │\n",
      "│      ┆           ┆              ┆       ┆   ┆              ┆ str         ┆           ┆           │\n",
      "╞══════╪═══════════╪══════════════╪═══════╪═══╪══════════════╪═════════════╪═══════════╪═══════════╡\n",
      "│ 2014 ┆ Porsche   ┆ Panamera S   ┆ 3.0   ┆ … ┆ 2014-04-02   ┆ true        ┆ 8         ┆ April     │\n",
      "│      ┆           ┆ E-Hybrid     ┆       ┆   ┆ 00:00:00     ┆             ┆           ┆           │\n",
      "│ 2014 ┆ MINI      ┆ Cooper       ┆ 1.5   ┆ … ┆ 2014-04-02   ┆ true        ┆ 6         ┆ April     │\n",
      "│      ┆           ┆ (3-doors)    ┆       ┆   ┆ 00:00:00     ┆             ┆           ┆           │\n",
      "│ 2014 ┆ MINI      ┆ Cooper       ┆ 1.5   ┆ … ┆ 2014-04-02   ┆ false       ┆ 6         ┆ April     │\n",
      "│      ┆           ┆ (3-doors)    ┆       ┆   ┆ 00:00:00     ┆             ┆           ┆           │\n",
      "│ 2014 ┆ MINI      ┆ Cooper S     ┆ 2.0   ┆ … ┆ 2014-04-02   ┆ false       ┆ 6         ┆ April     │\n",
      "│      ┆           ┆ (3-doors)    ┆       ┆   ┆ 00:00:00     ┆             ┆           ┆           │\n",
      "│ 2014 ┆ Chevrolet ┆ Camaro       ┆ 7.0   ┆ … ┆ 2014-04-02   ┆ false       ┆ 6         ┆ April     │\n",
      "│      ┆           ┆              ┆       ┆   ┆ 00:00:00     ┆             ┆           ┆           │\n",
      "│ …    ┆ …         ┆ …            ┆ …     ┆ … ┆ …            ┆ …           ┆ …         ┆ …         │\n",
      "│ 2025 ┆ Subaru    ┆ Ascent       ┆ 2.4   ┆ … ┆ 2024-09-18   ┆ true        ┆ 8         ┆ September │\n",
      "│      ┆           ┆              ┆       ┆   ┆ 00:00:00     ┆             ┆           ┆           │\n",
      "│ 2025 ┆ Subaru    ┆ Ascent Limit ┆ 2.4   ┆ … ┆ 2024-09-18   ┆ true        ┆ 8         ┆ September │\n",
      "│      ┆           ┆ ed/Touring/O ┆       ┆   ┆ 00:00:00     ┆             ┆           ┆           │\n",
      "│      ┆           ┆ nyx AW…      ┆       ┆   ┆              ┆             ┆           ┆           │\n",
      "│ 2025 ┆ Toyota    ┆ Sequoia 4WD  ┆ 3.4   ┆ … ┆ 2024-09-18   ┆ true        ┆ 10        ┆ September │\n",
      "│      ┆           ┆              ┆       ┆   ┆ 00:00:00     ┆             ┆           ┆           │\n",
      "│ 2024 ┆ Chevrolet ┆ Colorado 2WD ┆ 2.7   ┆ … ┆ 2024-09-18   ┆ true        ┆ 8         ┆ September │\n",
      "│      ┆           ┆              ┆       ┆   ┆ 00:00:00     ┆             ┆           ┆           │\n",
      "│ 2024 ┆ Chevrolet ┆ Colorado 4WD ┆ 2.7   ┆ … ┆ 2024-09-18   ┆ true        ┆ 8         ┆ September │\n",
      "│      ┆           ┆              ┆       ┆   ┆ 00:00:00     ┆             ┆           ┆           │\n",
      "└──────┴───────────┴──────────────┴───────┴───┴──────────────┴─────────────┴───────────┴───────────┘\n"
     ]
    }
   ],
   "source": [
    "print(autos\n",
    "      .with_columns(month=pl.col('createdOn').dt.strftime('%B'))\n",
    "      .sort('month')\n",
    "     )"
   ]
  },
  {
   "cell_type": "code",
   "execution_count": 23,
   "id": "e284bf34-2ddd-4435-a4f7-6767ed3814e4",
   "metadata": {},
   "outputs": [],
   "source": [
    "month_order = ['January', 'February', 'March', 'April', 'May', 'June',\n",
    "               'July', 'August', 'September', 'October', 'November', \n",
    "               'December']"
   ]
  },
  {
   "cell_type": "code",
   "execution_count": 24,
   "id": "e33ddfc6-2685-43bb-9a8a-722dd404e47a",
   "metadata": {},
   "outputs": [
    {
     "name": "stdout",
     "output_type": "stream",
     "text": [
      "shape: (48_231, 16)\n",
      "┌──────┬────────────┬──────────────┬───────┬───┬──────────────┬─────────────┬───────────┬──────────┐\n",
      "│ year ┆ make       ┆ model        ┆ displ ┆ … ┆ createdOn    ┆ is_automati ┆ num_gears ┆ month    │\n",
      "│ ---  ┆ ---        ┆ ---          ┆ ---   ┆   ┆ ---          ┆ c           ┆ ---       ┆ ---      │\n",
      "│ i16  ┆ cat        ┆ cat          ┆ f32   ┆   ┆ datetime[μs] ┆ ---         ┆ u8        ┆ cat      │\n",
      "│      ┆            ┆              ┆       ┆   ┆              ┆ str         ┆           ┆          │\n",
      "╞══════╪════════════╪══════════════╪═══════╪═══╪══════════════╪═════════════╪═══════════╪══════════╡\n",
      "│ 1985 ┆ Alfa Romeo ┆ Spider       ┆ 2.0   ┆ … ┆ 2013-01-01   ┆ false       ┆ 5         ┆ January  │\n",
      "│      ┆            ┆ Veloce 2000  ┆       ┆   ┆ 00:00:00     ┆             ┆           ┆          │\n",
      "│ 1985 ┆ Ferrari    ┆ Testarossa   ┆ 4.9   ┆ … ┆ 2013-01-01   ┆ false       ┆ 5         ┆ January  │\n",
      "│      ┆            ┆              ┆       ┆   ┆ 00:00:00     ┆             ┆           ┆          │\n",
      "│ 1985 ┆ Dodge      ┆ Charger      ┆ 2.2   ┆ … ┆ 2013-01-01   ┆ false       ┆ 5         ┆ January  │\n",
      "│      ┆            ┆              ┆       ┆   ┆ 00:00:00     ┆             ┆           ┆          │\n",
      "│ 1985 ┆ Dodge      ┆ B150/B250    ┆ 5.2   ┆ … ┆ 2013-01-01   ┆ true        ┆ 3         ┆ January  │\n",
      "│      ┆            ┆ Wagon 2WD    ┆       ┆   ┆ 00:00:00     ┆             ┆           ┆          │\n",
      "│ 1993 ┆ Subaru     ┆ Legacy AWD   ┆ 2.2   ┆ … ┆ 2013-01-01   ┆ false       ┆ 5         ┆ January  │\n",
      "│      ┆            ┆ Turbo        ┆       ┆   ┆ 00:00:00     ┆             ┆           ┆          │\n",
      "│ …    ┆ …          ┆ …            ┆ …     ┆ … ┆ …            ┆ …           ┆ …         ┆ …        │\n",
      "│ 2023 ┆ Rivian     ┆ R1T (21 inch ┆ null  ┆ … ┆ 2022-12-21   ┆ true        ┆ 1         ┆ December │\n",
      "│      ┆            ┆ wheels)      ┆       ┆   ┆ 00:00:00     ┆             ┆           ┆          │\n",
      "│ 2023 ┆ Rivian     ┆ R1T (22 inch ┆ null  ┆ … ┆ 2022-12-21   ┆ true        ┆ 1         ┆ December │\n",
      "│      ┆            ┆ wheels)      ┆       ┆   ┆ 00:00:00     ┆             ┆           ┆          │\n",
      "│ 2023 ┆ Rivian     ┆ R1S (20 inch ┆ null  ┆ … ┆ 2022-12-21   ┆ true        ┆ 1         ┆ December │\n",
      "│      ┆            ┆ wheels)      ┆       ┆   ┆ 00:00:00     ┆             ┆           ┆          │\n",
      "│ 2023 ┆ Rivian     ┆ R1S (21 inch ┆ null  ┆ … ┆ 2022-12-21   ┆ true        ┆ 1         ┆ December │\n",
      "│      ┆            ┆ wheels)      ┆       ┆   ┆ 00:00:00     ┆             ┆           ┆          │\n",
      "│ 2023 ┆ Rivian     ┆ R1S (22 inch ┆ null  ┆ … ┆ 2022-12-21   ┆ true        ┆ 1         ┆ December │\n",
      "│      ┆            ┆ wheels)      ┆       ┆   ┆ 00:00:00     ┆             ┆           ┆          │\n",
      "└──────┴────────────┴──────────────┴───────┴───┴──────────────┴─────────────┴───────────┴──────────┘\n"
     ]
    }
   ],
   "source": [
    "with pl.StringCache():\n",
    "    pl.Series(month_order).cast(pl.Categorical)\n",
    "    print(autos\n",
    "        .with_columns(month=pl.col('createdOn').dt.strftime('%B')\n",
    "                      .cast(pl.Categorical))\n",
    "        .sort('month')\n",
    "         )"
   ]
  },
  {
   "cell_type": "code",
   "execution_count": 25,
   "id": "c89945bd-06fa-49f7-97cf-02eddd5c8cd3",
   "metadata": {},
   "outputs": [],
   "source": [
    "month_order = ['January', 'February', 'March', 'April', 'May', 'June',\n",
    "               'July', 'August', 'September', 'October', 'November', \n",
    "               'December']"
   ]
  },
  {
   "cell_type": "code",
   "execution_count": 26,
   "id": "13da1cb8-8311-4339-af33-ccb0d6622339",
   "metadata": {},
   "outputs": [],
   "source": [
    "# An Alternative\n",
    "@pl.StringCache()\n",
    "def create_month_order():\n",
    "    s = pl.Series(month_order).cast(pl.Categorical)\n",
    "    return(autos\n",
    "        .with_columns(month=pl.col('createdOn').dt.strftime('%B')\n",
    "                      .cast(pl.Categorical))\n",
    "          )"
   ]
  },
  {
   "cell_type": "code",
   "execution_count": 27,
   "id": "d59b3958-0bb7-42c3-b39c-50e9773a2532",
   "metadata": {},
   "outputs": [
    {
     "name": "stdout",
     "output_type": "stream",
     "text": [
      "shape: (48_231, 16)\n",
      "┌──────┬────────────┬──────────────┬───────┬───┬──────────────┬─────────────┬───────────┬──────────┐\n",
      "│ year ┆ make       ┆ model        ┆ displ ┆ … ┆ createdOn    ┆ is_automati ┆ num_gears ┆ month    │\n",
      "│ ---  ┆ ---        ┆ ---          ┆ ---   ┆   ┆ ---          ┆ c           ┆ ---       ┆ ---      │\n",
      "│ i16  ┆ cat        ┆ cat          ┆ f32   ┆   ┆ datetime[μs] ┆ ---         ┆ u8        ┆ cat      │\n",
      "│      ┆            ┆              ┆       ┆   ┆              ┆ str         ┆           ┆          │\n",
      "╞══════╪════════════╪══════════════╪═══════╪═══╪══════════════╪═════════════╪═══════════╪══════════╡\n",
      "│ 1985 ┆ Alfa Romeo ┆ Spider       ┆ 2.0   ┆ … ┆ 2013-01-01   ┆ false       ┆ 5         ┆ January  │\n",
      "│      ┆            ┆ Veloce 2000  ┆       ┆   ┆ 00:00:00     ┆             ┆           ┆          │\n",
      "│ 1985 ┆ Ferrari    ┆ Testarossa   ┆ 4.9   ┆ … ┆ 2013-01-01   ┆ false       ┆ 5         ┆ January  │\n",
      "│      ┆            ┆              ┆       ┆   ┆ 00:00:00     ┆             ┆           ┆          │\n",
      "│ 1985 ┆ Dodge      ┆ Charger      ┆ 2.2   ┆ … ┆ 2013-01-01   ┆ false       ┆ 5         ┆ January  │\n",
      "│      ┆            ┆              ┆       ┆   ┆ 00:00:00     ┆             ┆           ┆          │\n",
      "│ 1985 ┆ Dodge      ┆ B150/B250    ┆ 5.2   ┆ … ┆ 2013-01-01   ┆ true        ┆ 3         ┆ January  │\n",
      "│      ┆            ┆ Wagon 2WD    ┆       ┆   ┆ 00:00:00     ┆             ┆           ┆          │\n",
      "│ 1993 ┆ Subaru     ┆ Legacy AWD   ┆ 2.2   ┆ … ┆ 2013-01-01   ┆ false       ┆ 5         ┆ January  │\n",
      "│      ┆            ┆ Turbo        ┆       ┆   ┆ 00:00:00     ┆             ┆           ┆          │\n",
      "│ …    ┆ …          ┆ …            ┆ …     ┆ … ┆ …            ┆ …           ┆ …         ┆ …        │\n",
      "│ 2023 ┆ Rivian     ┆ R1T (21 inch ┆ null  ┆ … ┆ 2022-12-21   ┆ true        ┆ 1         ┆ December │\n",
      "│      ┆            ┆ wheels)      ┆       ┆   ┆ 00:00:00     ┆             ┆           ┆          │\n",
      "│ 2023 ┆ Rivian     ┆ R1T (22 inch ┆ null  ┆ … ┆ 2022-12-21   ┆ true        ┆ 1         ┆ December │\n",
      "│      ┆            ┆ wheels)      ┆       ┆   ┆ 00:00:00     ┆             ┆           ┆          │\n",
      "│ 2023 ┆ Rivian     ┆ R1S (20 inch ┆ null  ┆ … ┆ 2022-12-21   ┆ true        ┆ 1         ┆ December │\n",
      "│      ┆            ┆ wheels)      ┆       ┆   ┆ 00:00:00     ┆             ┆           ┆          │\n",
      "│ 2023 ┆ Rivian     ┆ R1S (21 inch ┆ null  ┆ … ┆ 2022-12-21   ┆ true        ┆ 1         ┆ December │\n",
      "│      ┆            ┆ wheels)      ┆       ┆   ┆ 00:00:00     ┆             ┆           ┆          │\n",
      "│ 2023 ┆ Rivian     ┆ R1S (22 inch ┆ null  ┆ … ┆ 2022-12-21   ┆ true        ┆ 1         ┆ December │\n",
      "│      ┆            ┆ wheels)      ┆       ┆   ┆ 00:00:00     ┆             ┆           ┆          │\n",
      "└──────┴────────────┴──────────────┴───────┴───┴──────────────┴─────────────┴───────────┴──────────┘\n"
     ]
    }
   ],
   "source": [
    "print(create_month_order().sort('month'))"
   ]
  },
  {
   "cell_type": "markdown",
   "id": "3127c90a-101b-4ebf-8f30-81d851f45907",
   "metadata": {},
   "source": [
    "#### Applying Decorator on `tweak_auto` Function()"
   ]
  },
  {
   "cell_type": "code",
   "execution_count": 28,
   "id": "a145939f-8522-45c1-87c7-805ca1ac2aab",
   "metadata": {},
   "outputs": [],
   "source": [
    "# Path\n",
    "path = '/Users/isisromero/desktop/polars/datasets/vehicles.csv'"
   ]
  },
  {
   "cell_type": "code",
   "execution_count": 29,
   "id": "f4663923-80c6-40f8-a270-43e6e7779f27",
   "metadata": {},
   "outputs": [],
   "source": [
    "raw = pl.read_csv(path, null_values=['NA'])"
   ]
  },
  {
   "cell_type": "code",
   "execution_count": 30,
   "id": "9b538d59-b00e-4718-80ef-d93e9ae5ae23",
   "metadata": {},
   "outputs": [],
   "source": [
    "@pl.StringCache()\n",
    "... def tweak_auto(df):\n",
    "    cols = ['year', 'make', 'model', 'displ', 'cylinders', 'trany',\n",
    "            'drive', 'VClass', 'fuelType', 'barrels08', 'city08',\n",
    "            'highway08', 'createdOn']\n",
    "    return (df\n",
    "            .select(pl.col(cols))\n",
    "            .with_columns(pl.col('year').cast(pl.Int16),\n",
    "                          pl.col(['cylinders', 'highway08', 'city08']).cast(pl.UInt8),\n",
    "                          pl.col(['displ', 'barrels08']).cast(pl.Float32),\n",
    "                          pl.col('make').cast(pl.Categorical('lexical')),\n",
    "                          pl.col(['model', 'VClass', 'drive', 'fuelType'])\n",
    "            .cast(pl.Categorical),\n",
    "                          pl.col('createdOn').str.to_datetime('%a %b %d %H:%M:%S %Z %Y'),\n",
    "                          is_automatic=pl.col('trany').str.contains('Auto'),\n",
    "                          num_gears=pl.col('trany').str.extract(r'(\\d+)').cast(pl.Int8)\n",
    "                         )\n",
    "           )"
   ]
  },
  {
   "cell_type": "code",
   "execution_count": 31,
   "id": "ddfe14a4-07e8-4b15-a6fa-f9944e3e3a04",
   "metadata": {},
   "outputs": [],
   "source": [
    "autos = tweak_auto(raw)"
   ]
  },
  {
   "cell_type": "code",
   "execution_count": 32,
   "id": "7fb67ac3-762f-4150-8afc-dca2a06e2df3",
   "metadata": {},
   "outputs": [
    {
     "name": "stdout",
     "output_type": "stream",
     "text": [
      "shape: (48_231, 15)\n",
      "┌──────┬────────────┬──────────────┬───────┬───┬───────────┬─────────────┬─────────────┬───────────┐\n",
      "│ year ┆ make       ┆ model        ┆ displ ┆ … ┆ highway08 ┆ createdOn   ┆ is_automati ┆ num_gears │\n",
      "│ ---  ┆ ---        ┆ ---          ┆ ---   ┆   ┆ ---       ┆ ---         ┆ c           ┆ ---       │\n",
      "│ i16  ┆ cat        ┆ cat          ┆ f32   ┆   ┆ u8        ┆ datetime[μs ┆ ---         ┆ i8        │\n",
      "│      ┆            ┆              ┆       ┆   ┆           ┆ ]           ┆ bool        ┆           │\n",
      "╞══════╪════════════╪══════════════╪═══════╪═══╪═══════════╪═════════════╪═════════════╪═══════════╡\n",
      "│ 1985 ┆ AM General ┆ Post Office  ┆ 2.5   ┆ … ┆ 17        ┆ 2013-01-01  ┆ true        ┆ 3         │\n",
      "│      ┆            ┆ DJ5 2WD      ┆       ┆   ┆           ┆ 00:00:00    ┆             ┆           │\n",
      "│ 1985 ┆ AM General ┆ Post Office  ┆ 4.2   ┆ … ┆ 13        ┆ 2013-01-01  ┆ true        ┆ 3         │\n",
      "│      ┆            ┆ DJ8 2WD      ┆       ┆   ┆           ┆ 00:00:00    ┆             ┆           │\n",
      "│ 1984 ┆ AM General ┆ FJ8c Post    ┆ 4.2   ┆ … ┆ 13        ┆ 2013-01-01  ┆ true        ┆ 3         │\n",
      "│      ┆            ┆ Office       ┆       ┆   ┆           ┆ 00:00:00    ┆             ┆           │\n",
      "│ 1984 ┆ AM General ┆ DJ Po        ┆ 2.5   ┆ … ┆ 17        ┆ 2013-01-01  ┆ true        ┆ 3         │\n",
      "│      ┆            ┆ Vehicle 2WD  ┆       ┆   ┆           ┆ 00:00:00    ┆             ┆           │\n",
      "│ 1984 ┆ AM General ┆ FJ8c Post    ┆ 4.2   ┆ … ┆ 13        ┆ 2013-01-01  ┆ true        ┆ 3         │\n",
      "│      ┆            ┆ Office       ┆       ┆   ┆           ┆ 00:00:00    ┆             ┆           │\n",
      "│ …    ┆ …          ┆ …            ┆ …     ┆ … ┆ …         ┆ …           ┆ …           ┆ …         │\n",
      "│ 2017 ┆ smart      ┆ fortwo       ┆ null  ┆ … ┆ 91        ┆ 2017-10-11  ┆ true        ┆ 1         │\n",
      "│      ┆            ┆ electric     ┆       ┆   ┆           ┆ 00:00:00    ┆             ┆           │\n",
      "│      ┆            ┆ drive        ┆       ┆   ┆           ┆             ┆             ┆           │\n",
      "│      ┆            ┆ converti…    ┆       ┆   ┆           ┆             ┆             ┆           │\n",
      "│ 2018 ┆ smart      ┆ fortwo       ┆ null  ┆ … ┆ 94        ┆ 2017-12-05  ┆ true        ┆ 1         │\n",
      "│      ┆            ┆ electric     ┆       ┆   ┆           ┆ 00:00:00    ┆             ┆           │\n",
      "│      ┆            ┆ drive coupe  ┆       ┆   ┆           ┆             ┆             ┆           │\n",
      "│ 2018 ┆ smart      ┆ fortwo       ┆ null  ┆ … ┆ 91        ┆ 2017-12-05  ┆ true        ┆ 1         │\n",
      "│      ┆            ┆ electric     ┆       ┆   ┆           ┆ 00:00:00    ┆             ┆           │\n",
      "│      ┆            ┆ drive        ┆       ┆   ┆           ┆             ┆             ┆           │\n",
      "│      ┆            ┆ converti…    ┆       ┆   ┆           ┆             ┆             ┆           │\n",
      "│ 2019 ┆ smart      ┆ EQ fortwo    ┆ null  ┆ … ┆ 94        ┆ 2019-01-29  ┆ true        ┆ 1         │\n",
      "│      ┆            ┆ (coupe)      ┆       ┆   ┆           ┆ 00:00:00    ┆             ┆           │\n",
      "│ 2019 ┆ smart      ┆ EQ fortwo    ┆ null  ┆ … ┆ 91        ┆ 2019-01-29  ┆ true        ┆ 1         │\n",
      "│      ┆            ┆ (convertible ┆       ┆   ┆           ┆ 00:00:00    ┆             ┆           │\n",
      "│      ┆            ┆ )            ┆       ┆   ┆           ┆             ┆             ┆           │\n",
      "└──────┴────────────┴──────────────┴───────┴───┴───────────┴─────────────┴─────────────┴───────────┘\n"
     ]
    }
   ],
   "source": [
    "print(tweak_auto(raw)\n",
    "      .sort('make'))"
   ]
  },
  {
   "cell_type": "markdown",
   "id": "d0fe239f-92c2-43d2-95f4-cef9ad6db787",
   "metadata": {},
   "source": [
    "### Enums & Ordering\n",
    "\n",
    "##### Placing an Example Birthday's Dataset"
   ]
  },
  {
   "cell_type": "code",
   "execution_count": 34,
   "id": "432b80cf-7c3b-47c8-8d10-c3c20fafbfdc",
   "metadata": {},
   "outputs": [],
   "source": [
    "data = '''Name, Birthday\n",
    "    Brianna Smith,2000-02-16\n",
    "    Alex Johnson,2001-01-15\n",
    "    Carlos Gomez,2002-03-17\n",
    "    Diana Clarke,2003-04-18\n",
    "    Ethan Hunt,2002-05-19\n",
    "    Fiona Gray,2005-06-20\n",
    "    George King,2006-07-21\n",
    "    Hannah Scott,2007-08-22\n",
    "    Ian Miles,2008-09-23\n",
    "    Julia Banks,2009-10-24'''"
   ]
  },
  {
   "cell_type": "code",
   "execution_count": 35,
   "id": "4ddf6f45-2434-4f33-b781-9bc1884b2014",
   "metadata": {},
   "outputs": [],
   "source": [
    "# IO Reading\n",
    "students = pl.read_csv(io.StringIO(data))"
   ]
  },
  {
   "cell_type": "code",
   "execution_count": 36,
   "id": "18b43141-18f4-43b6-98e9-18d06204d8b5",
   "metadata": {},
   "outputs": [
    {
     "name": "stdout",
     "output_type": "stream",
     "text": [
      "shape: (10, 2)\n",
      "┌───────────────────┬────────────┐\n",
      "│ Name              ┆ Birthday   │\n",
      "│ ---               ┆ ---        │\n",
      "│ str               ┆ str        │\n",
      "╞═══════════════════╪════════════╡\n",
      "│     Brianna Smith ┆ 2000-02-16 │\n",
      "│     Alex Johnson  ┆ 2001-01-15 │\n",
      "│     Carlos Gomez  ┆ 2002-03-17 │\n",
      "│     Diana Clarke  ┆ 2003-04-18 │\n",
      "│     Ethan Hunt    ┆ 2002-05-19 │\n",
      "│     Fiona Gray    ┆ 2005-06-20 │\n",
      "│     George King   ┆ 2006-07-21 │\n",
      "│     Hannah Scott  ┆ 2007-08-22 │\n",
      "│     Ian Miles     ┆ 2008-09-23 │\n",
      "│     Julia Banks   ┆ 2009-10-24 │\n",
      "└───────────────────┴────────────┘\n"
     ]
    }
   ],
   "source": [
    "print(students)"
   ]
  },
  {
   "cell_type": "code",
   "execution_count": 37,
   "id": "f92eec83-395d-4872-839d-b423b103b7db",
   "metadata": {},
   "outputs": [],
   "source": [
    "bday = pl.col('Birthday')"
   ]
  },
  {
   "cell_type": "code",
   "execution_count": 38,
   "id": "4c984fef-fb8b-4f0d-a1f0-ad59a012b054",
   "metadata": {},
   "outputs": [
    {
     "name": "stdout",
     "output_type": "stream",
     "text": [
      "shape: (10, 3)\n",
      "┌───────────────────┬─────────────────────┬───────────┐\n",
      "│ Name              ┆ Birthday            ┆ month     │\n",
      "│ ---               ┆ ---                 ┆ ---       │\n",
      "│ str               ┆ datetime[μs]        ┆ str       │\n",
      "╞═══════════════════╪═════════════════════╪═══════════╡\n",
      "│     Diana Clarke  ┆ 2003-04-18 00:00:00 ┆ April     │\n",
      "│     Hannah Scott  ┆ 2007-08-22 00:00:00 ┆ August    │\n",
      "│     Brianna Smith ┆ 2000-02-16 00:00:00 ┆ February  │\n",
      "│     Alex Johnson  ┆ 2001-01-15 00:00:00 ┆ January   │\n",
      "│     George King   ┆ 2006-07-21 00:00:00 ┆ July      │\n",
      "│     Fiona Gray    ┆ 2005-06-20 00:00:00 ┆ June      │\n",
      "│     Carlos Gomez  ┆ 2002-03-17 00:00:00 ┆ March     │\n",
      "│     Ethan Hunt    ┆ 2002-05-19 00:00:00 ┆ May       │\n",
      "│     Julia Banks   ┆ 2009-10-24 00:00:00 ┆ October   │\n",
      "│     Ian Miles     ┆ 2008-09-23 00:00:00 ┆ September │\n",
      "└───────────────────┴─────────────────────┴───────────┘\n"
     ]
    }
   ],
   "source": [
    "print(students\n",
    "      .with_columns(bday.str.to_datetime('%Y-%m-%d'))\n",
    "      .with_columns(month=bday.dt.strftime('%B'))\n",
    "      .sort('month')\n",
    "     ) "
   ]
  },
  {
   "cell_type": "code",
   "execution_count": 39,
   "id": "566a9143-d8f7-467a-9a19-d1139115cb6e",
   "metadata": {},
   "outputs": [],
   "source": [
    "# Placing for Chronological Order\n",
    "month_type = pl.Enum(['January', 'February', 'March', 'April', 'May', \n",
    "                      'June', 'July', 'August', 'September', 'October', 'November', \n",
    "                      'December'])"
   ]
  },
  {
   "cell_type": "code",
   "execution_count": 40,
   "id": "1efe18bd-60de-45d8-a889-078a0fafab51",
   "metadata": {},
   "outputs": [
    {
     "name": "stdout",
     "output_type": "stream",
     "text": [
      "shape: (10, 3)\n",
      "┌───────────────────┬─────────────────────┬───────────┐\n",
      "│ Name              ┆ Birthday            ┆ month     │\n",
      "│ ---               ┆ ---                 ┆ ---       │\n",
      "│ str               ┆ datetime[μs]        ┆ enum      │\n",
      "╞═══════════════════╪═════════════════════╪═══════════╡\n",
      "│     Alex Johnson  ┆ 2001-01-15 00:00:00 ┆ January   │\n",
      "│     Brianna Smith ┆ 2000-02-16 00:00:00 ┆ February  │\n",
      "│     Carlos Gomez  ┆ 2002-03-17 00:00:00 ┆ March     │\n",
      "│     Diana Clarke  ┆ 2003-04-18 00:00:00 ┆ April     │\n",
      "│     Ethan Hunt    ┆ 2002-05-19 00:00:00 ┆ May       │\n",
      "│     Fiona Gray    ┆ 2005-06-20 00:00:00 ┆ June      │\n",
      "│     George King   ┆ 2006-07-21 00:00:00 ┆ July      │\n",
      "│     Hannah Scott  ┆ 2007-08-22 00:00:00 ┆ August    │\n",
      "│     Ian Miles     ┆ 2008-09-23 00:00:00 ┆ September │\n",
      "│     Julia Banks   ┆ 2009-10-24 00:00:00 ┆ October   │\n",
      "└───────────────────┴─────────────────────┴───────────┘\n"
     ]
    }
   ],
   "source": [
    "print(students\n",
    "      .with_columns(bday.str.to_datetime('%Y-%m-%d'))\n",
    "      .with_columns(month=bday.dt.strftime('%B').cast(month_type))\n",
    "      .sort('month')\n",
    "     ) "
   ]
  },
  {
   "cell_type": "markdown",
   "id": "19596fbb-59f8-4415-8e3c-43899d093672",
   "metadata": {},
   "source": [
    "##### Merging on Holidays Dataset"
   ]
  },
  {
   "cell_type": "code",
   "execution_count": 41,
   "id": "da6b906a-8fa8-4d33-810e-085e1aadc48f",
   "metadata": {},
   "outputs": [],
   "source": [
    "holiday_data = '''Month,Holiday\n",
    "    January,New Year's Day\n",
    "    February,Valentine's Day\n",
    "    March,St. Patrick's Day\n",
    "    April,April Fools' Day\n",
    "    May,Memorial Day\n",
    "    June,Juneteenth\n",
    "    July,Independence Day\n",
    "    August,Labor Day\n",
    "    September,Patriot Day\n",
    "    October,Halloween\n",
    "    November,Thanksgiving\n",
    "    December,Christmas Day'''"
   ]
  },
  {
   "cell_type": "code",
   "execution_count": 42,
   "id": "461ca9e2-fc8d-404e-bdef-9b09da1f841e",
   "metadata": {},
   "outputs": [],
   "source": [
    "holidays = pl.read_csv(io.StringIO(holiday_data))"
   ]
  },
  {
   "cell_type": "code",
   "execution_count": 43,
   "id": "6738a2f6-08c7-4046-8779-4bffbc8eba32",
   "metadata": {},
   "outputs": [
    {
     "name": "stdout",
     "output_type": "stream",
     "text": [
      "shape: (12, 2)\n",
      "┌───────────────┬───────────────────┐\n",
      "│ Month         ┆ Holiday           │\n",
      "│ ---           ┆ ---               │\n",
      "│ str           ┆ str               │\n",
      "╞═══════════════╪═══════════════════╡\n",
      "│     January   ┆ New Year's Day    │\n",
      "│     February  ┆ Valentine's Day   │\n",
      "│     March     ┆ St. Patrick's Day │\n",
      "│     April     ┆ April Fools' Day  │\n",
      "│     May       ┆ Memorial Day      │\n",
      "│ …             ┆ …                 │\n",
      "│     August    ┆ Labor Day         │\n",
      "│     September ┆ Patriot Day       │\n",
      "│     October   ┆ Halloween         │\n",
      "│     November  ┆ Thanksgiving      │\n",
      "│     December  ┆ Christmas Day     │\n",
      "└───────────────┴───────────────────┘\n"
     ]
    }
   ],
   "source": [
    "print(holidays)"
   ]
  },
  {
   "cell_type": "code",
   "execution_count": 44,
   "id": "afb0804a-fc54-4d20-b077-88084a305d17",
   "metadata": {},
   "outputs": [
    {
     "name": "stdout",
     "output_type": "stream",
     "text": [
      "shape: (0, 4)\n",
      "┌──────┬──────────────┬───────┬─────────┐\n",
      "│ Name ┆ Birthday     ┆ month ┆ Holiday │\n",
      "│ ---  ┆ ---          ┆ ---   ┆ ---     │\n",
      "│ str  ┆ datetime[μs] ┆ str   ┆ str     │\n",
      "╞══════╪══════════════╪═══════╪═════════╡\n",
      "└──────┴──────────────┴───────┴─────────┘\n"
     ]
    }
   ],
   "source": [
    "print(students\n",
    "      .with_columns(bday.str.to_datetime('%Y-%m-%d'))\n",
    "      .with_columns(month=bday.dt.strftime('%B'))\n",
    "      .join(holidays, left_on='month', right_on='Month')\n",
    "      .sort('month'))"
   ]
  },
  {
   "cell_type": "code",
   "execution_count": 45,
   "id": "cd503070-8135-4ed0-b2a1-be52f535abd2",
   "metadata": {},
   "outputs": [],
   "source": [
    "# print(students\n",
    "#       .with_columns(bday.str.to_datetime('%Y-%m-%d'))\n",
    "#       .with_columns(month=bday.dt.strftime('%B').cast(pl.Categorical))\n",
    "#       .join(holidays, left_on='month', right_on='Month')\n",
    "#       .sort('month'))"
   ]
  },
  {
   "cell_type": "code",
   "execution_count": 46,
   "id": "023437aa-4f6b-4f5c-a2f6-f7549ec362c3",
   "metadata": {},
   "outputs": [
    {
     "name": "stdout",
     "output_type": "stream",
     "text": [
      "shape: (0, 4)\n",
      "┌──────┬──────────────┬───────┬─────────┐\n",
      "│ Name ┆ Birthday     ┆ month ┆ Holiday │\n",
      "│ ---  ┆ ---          ┆ ---   ┆ ---     │\n",
      "│ str  ┆ datetime[μs] ┆ cat   ┆ str     │\n",
      "╞══════╪══════════════╪═══════╪═════════╡\n",
      "└──────┴──────────────┴───────┴─────────┘\n"
     ]
    },
    {
     "name": "stderr",
     "output_type": "stream",
     "text": [
      "/var/folders/dk/f9pbhbp52qxc0613mpbtx8lm0000gn/T/ipykernel_12630/3260817562.py:4: CategoricalRemappingWarning: Local categoricals have different encodings, expensive re-encoding is done to perform this merge operation. Consider using a StringCache or an Enum type if the categories are known in advance\n",
      "  .join(holidays.with_columns(pl.col('Month').cast(pl.Categorical)),\n"
     ]
    }
   ],
   "source": [
    "print(students\n",
    "      .with_columns(bday.str.to_datetime('%Y-%m-%d'))\n",
    "      .with_columns(month=bday.dt.strftime('%B').cast(pl.Categorical))\n",
    "      .join(holidays.with_columns(pl.col('Month').cast(pl.Categorical)),\n",
    "            left_on='month', right_on='Month')\n",
    "      .sort('month'))"
   ]
  },
  {
   "cell_type": "code",
   "execution_count": 48,
   "id": "dce55ae0-45d1-467f-96cf-a566df751a7b",
   "metadata": {},
   "outputs": [],
   "source": [
    "# print(students\n",
    "#       .with_columns(bday.str.to_datetime('%Y-%m-%d'))\n",
    "#       .with_columns(month=bday.dt.strftime('%B').cast(month_type))\n",
    "#       .join(holidays.with_columns(pl.col('Month').cast(month_type)),\n",
    "#             left_on='month', right_on='Month')\n",
    "#       .sort('month'))"
   ]
  },
  {
   "cell_type": "markdown",
   "id": "728bb44b-0633-42fa-a154-1ed147560c0e",
   "metadata": {},
   "source": [
    "### Group Ordering & `maintain_order`"
   ]
  },
  {
   "cell_type": "code",
   "execution_count": 49,
   "id": "62ea8629-65ae-4b86-9136-082239e2a4dc",
   "metadata": {},
   "outputs": [
    {
     "name": "stdout",
     "output_type": "stream",
     "text": [
      "shape: (145, 2)\n",
      "┌─────────────────────────────┬──────┐\n",
      "│ make                        ┆ len  │\n",
      "│ ---                         ┆ ---  │\n",
      "│ cat                         ┆ u32  │\n",
      "╞═════════════════════════════╪══════╡\n",
      "│ Lexus                       ┆ 699  │\n",
      "│ Maserati                    ┆ 214  │\n",
      "│ Chevrolet                   ┆ 4472 │\n",
      "│ Jaguar                      ┆ 540  │\n",
      "│ Pontiac                     ┆ 893  │\n",
      "│ …                           ┆ …    │\n",
      "│ Autokraft Limited           ┆ 4    │\n",
      "│ Panther Car Company Limited ┆ 4    │\n",
      "│ Bentley                     ┆ 177  │\n",
      "│ Ruf Automobile Gmbh         ┆ 3    │\n",
      "│ Bugatti Rimac               ┆ 2    │\n",
      "└─────────────────────────────┴──────┘\n"
     ]
    }
   ],
   "source": [
    "print(autos\n",
    "      .group_by(pl.col('make'))\n",
    "      .len()\n",
    "     )"
   ]
  },
  {
   "cell_type": "code",
   "execution_count": 50,
   "id": "99ab3432-03d5-48d3-9e7d-b2b38014c11f",
   "metadata": {},
   "outputs": [
    {
     "name": "stdout",
     "output_type": "stream",
     "text": [
      "shape: (145, 2)\n",
      "┌──────────────────────────┬──────┐\n",
      "│ make                     ┆ len  │\n",
      "│ ---                      ┆ ---  │\n",
      "│ cat                      ┆ u32  │\n",
      "╞══════════════════════════╪══════╡\n",
      "│ Alfa Romeo               ┆ 98   │\n",
      "│ Ferrari                  ┆ 284  │\n",
      "│ Dodge                    ┆ 2696 │\n",
      "│ Subaru                   ┆ 1013 │\n",
      "│ Toyota                   ┆ 2470 │\n",
      "│ …                        ┆ …    │\n",
      "│ General Motors           ┆ 1    │\n",
      "│ Consulier Industries Inc ┆ 3    │\n",
      "│ Goldacre                 ┆ 1    │\n",
      "│ Isis Imports Ltd         ┆ 1    │\n",
      "│ PAS Inc - GMC            ┆ 2    │\n",
      "└──────────────────────────┴──────┘\n"
     ]
    }
   ],
   "source": [
    "print(autos\n",
    "      .group_by(pl.col('make'), maintain_order=True)\n",
    "      .len()\n",
    "     )"
   ]
  },
  {
   "cell_type": "code",
   "execution_count": 51,
   "id": "66fb74ed-c8c7-4515-b90f-1cc6f949f494",
   "metadata": {},
   "outputs": [
    {
     "name": "stdout",
     "output_type": "stream",
     "text": [
      "shape: (145, 2)\n",
      "┌─────────────────────────────┬──────┐\n",
      "│ make                        ┆ len  │\n",
      "│ ---                         ┆ ---  │\n",
      "│ cat                         ┆ u32  │\n",
      "╞═════════════════════════════╪══════╡\n",
      "│ AM General                  ┆ 6    │\n",
      "│ ASC Incorporated            ┆ 1    │\n",
      "│ Acura                       ┆ 424  │\n",
      "│ Alfa Romeo                  ┆ 98   │\n",
      "│ American Motors Corporation ┆ 27   │\n",
      "│ …                           ┆ …    │\n",
      "│ Volkswagen                  ┆ 1326 │\n",
      "│ Volvo                       ┆ 933  │\n",
      "│ Wallace Environmental       ┆ 32   │\n",
      "│ Yugo                        ┆ 8    │\n",
      "│ smart                       ┆ 38   │\n",
      "└─────────────────────────────┴──────┘\n"
     ]
    }
   ],
   "source": [
    "print(autos\n",
    "      .group_by(pl.col('make'))\n",
    "      .len()\n",
    "      .sort('make')\n",
    "     )"
   ]
  },
  {
   "cell_type": "markdown",
   "id": "d0d01334-9243-459e-b78a-e346091406a9",
   "metadata": {},
   "source": [
    "### Stable Sorting"
   ]
  },
  {
   "cell_type": "code",
   "execution_count": 52,
   "id": "e4316e1e-c2c2-4739-9263-f7c9dde48b07",
   "metadata": {},
   "outputs": [],
   "source": [
    "students = pl.DataFrame({\n",
    "    'name': ['Alice', 'Bob', 'Charlie', 'Dana', 'Eve'],\n",
    "    'age': [25, 20, 25, 21, 24],\n",
    "    'grade': [88, 92, 95, 88, 60],\n",
    "})"
   ]
  },
  {
   "cell_type": "code",
   "execution_count": 53,
   "id": "e1d1fe8d-659e-4ad7-ac17-df8d52bd1697",
   "metadata": {},
   "outputs": [
    {
     "name": "stdout",
     "output_type": "stream",
     "text": [
      "shape: (5, 3)\n",
      "┌─────────┬─────┬───────┐\n",
      "│ name    ┆ age ┆ grade │\n",
      "│ ---     ┆ --- ┆ ---   │\n",
      "│ str     ┆ i64 ┆ i64   │\n",
      "╞═════════╪═════╪═══════╡\n",
      "│ Alice   ┆ 25  ┆ 88    │\n",
      "│ Bob     ┆ 20  ┆ 92    │\n",
      "│ Charlie ┆ 25  ┆ 95    │\n",
      "│ Dana    ┆ 21  ┆ 88    │\n",
      "│ Eve     ┆ 24  ┆ 60    │\n",
      "└─────────┴─────┴───────┘\n"
     ]
    }
   ],
   "source": [
    "print(students)"
   ]
  },
  {
   "cell_type": "code",
   "execution_count": 54,
   "id": "fde9ea4b-33a3-4bc4-b585-9ca7480d902b",
   "metadata": {},
   "outputs": [
    {
     "name": "stdout",
     "output_type": "stream",
     "text": [
      "shape: (5, 3)\n",
      "┌─────────┬─────┬───────┐\n",
      "│ name    ┆ age ┆ grade │\n",
      "│ ---     ┆ --- ┆ ---   │\n",
      "│ str     ┆ i64 ┆ i64   │\n",
      "╞═════════╪═════╪═══════╡\n",
      "│ Bob     ┆ 20  ┆ 92    │\n",
      "│ Dana    ┆ 21  ┆ 88    │\n",
      "│ Eve     ┆ 24  ┆ 60    │\n",
      "│ Alice   ┆ 25  ┆ 88    │\n",
      "│ Charlie ┆ 25  ┆ 95    │\n",
      "└─────────┴─────┴───────┘\n"
     ]
    }
   ],
   "source": [
    "print(students\n",
    "      .sort('age')\n",
    "     )"
   ]
  },
  {
   "cell_type": "code",
   "execution_count": 55,
   "id": "550b00f4-d15e-4b7c-8e16-4897735424d3",
   "metadata": {},
   "outputs": [
    {
     "name": "stdout",
     "output_type": "stream",
     "text": [
      "shape: (5, 3)\n",
      "┌─────────┬─────┬───────┐\n",
      "│ name    ┆ age ┆ grade │\n",
      "│ ---     ┆ --- ┆ ---   │\n",
      "│ str     ┆ i64 ┆ i64   │\n",
      "╞═════════╪═════╪═══════╡\n",
      "│ Eve     ┆ 24  ┆ 60    │\n",
      "│ Alice   ┆ 25  ┆ 88    │\n",
      "│ Dana    ┆ 21  ┆ 88    │\n",
      "│ Bob     ┆ 20  ┆ 92    │\n",
      "│ Charlie ┆ 25  ┆ 95    │\n",
      "└─────────┴─────┴───────┘\n"
     ]
    }
   ],
   "source": [
    "print(students\n",
    "      .sort('grade')\n",
    "     )"
   ]
  },
  {
   "cell_type": "markdown",
   "id": "c01b8a24-88ed-4a98-b75a-1c3236fc4bee",
   "metadata": {},
   "source": [
    "### Sorting & Filtering"
   ]
  },
  {
   "cell_type": "code",
   "execution_count": 57,
   "id": "85b53afa-ac17-4ffb-a0e9-08be656a6482",
   "metadata": {},
   "outputs": [
    {
     "name": "stdout",
     "output_type": "stream",
     "text": [
      "242 μs ± 1.22 μs per loop (mean ± std. dev. of 7 runs, 1,000 loops each)\n"
     ]
    }
   ],
   "source": [
    "%%timeit\n",
    "(autos.filter(pl.col('year') == 1994))"
   ]
  },
  {
   "cell_type": "code",
   "execution_count": 58,
   "id": "a9d3b4f2-ef84-4778-bf05-1d058e159f93",
   "metadata": {},
   "outputs": [],
   "source": [
    "autos_year_sorted = autos.sort('year')"
   ]
  },
  {
   "cell_type": "code",
   "execution_count": 59,
   "id": "a853e142-f2c5-475b-8344-01f659b3135f",
   "metadata": {},
   "outputs": [
    {
     "name": "stdout",
     "output_type": "stream",
     "text": [
      "65.6 μs ± 1.22 μs per loop (mean ± std. dev. of 7 runs, 10,000 loops each)\n"
     ]
    }
   ],
   "source": [
    "%%timeit\n",
    "(autos_year_sorted.filter(pl.col('year') == 1994))"
   ]
  },
  {
   "cell_type": "code",
   "execution_count": 60,
   "id": "a11b09b5-aa8c-43b9-92da-dfb830e9796c",
   "metadata": {},
   "outputs": [],
   "source": [
    "cat_make = autos"
   ]
  },
  {
   "cell_type": "code",
   "execution_count": 61,
   "id": "5ef66e36-a9ae-411e-b769-df5dbf14ca9d",
   "metadata": {},
   "outputs": [],
   "source": [
    "string_make = autos.with_columns(make=pl.col('make').cast(pl.String))"
   ]
  },
  {
   "cell_type": "code",
   "execution_count": 62,
   "id": "fda6ce65-05f4-4799-916f-a532e8c4c6ba",
   "metadata": {},
   "outputs": [],
   "source": [
    "sorted_make = (autos\n",
    "               .with_columns(make=pl.col('make').cast(pl.String))\n",
    "               .sort('make'))"
   ]
  },
  {
   "cell_type": "code",
   "execution_count": 63,
   "id": "09c97432-c95d-46af-822a-c033852df82a",
   "metadata": {},
   "outputs": [
    {
     "name": "stdout",
     "output_type": "stream",
     "text": [
      "546 μs ± 1.39 μs per loop (mean ± std. dev. of 7 runs, 1,000 loops each)\n"
     ]
    }
   ],
   "source": [
    "%%timeit\n",
    "cat_make.filter(pl.col('make') == 'Ford')"
   ]
  },
  {
   "cell_type": "code",
   "execution_count": 64,
   "id": "8c13a365-1817-4375-95dd-0fcb49e6eb4b",
   "metadata": {},
   "outputs": [
    {
     "name": "stdout",
     "output_type": "stream",
     "text": [
      "109 μs ± 577 ns per loop (mean ± std. dev. of 7 runs, 10,000 loops each)\n"
     ]
    }
   ],
   "source": [
    "%%timeit\n",
    "string_make.filter(pl.col('make') == 'Ford')"
   ]
  },
  {
   "cell_type": "code",
   "execution_count": 65,
   "id": "c8efdd40-ec80-4f96-87c2-2ac6dcf61495",
   "metadata": {},
   "outputs": [
    {
     "name": "stdout",
     "output_type": "stream",
     "text": [
      "95.6 μs ± 920 ns per loop (mean ± std. dev. of 7 runs, 10,000 loops each)\n"
     ]
    }
   ],
   "source": [
    "%%timeit\n",
    "sorted_make.filter(pl.col('make') == 'Ford')"
   ]
  },
  {
   "cell_type": "code",
   "execution_count": null,
   "id": "ef7d200f-c37b-4f5b-a47a-d0774c7e5b3d",
   "metadata": {},
   "outputs": [],
   "source": []
  }
 ],
 "metadata": {
  "kernelspec": {
   "display_name": "Python 3 (ipykernel)",
   "language": "python",
   "name": "python3"
  },
  "language_info": {
   "codemirror_mode": {
    "name": "ipython",
    "version": 3
   },
   "file_extension": ".py",
   "mimetype": "text/x-python",
   "name": "python",
   "nbconvert_exporter": "python",
   "pygments_lexer": "ipython3",
   "version": "3.11.8"
  }
 },
 "nbformat": 4,
 "nbformat_minor": 5
}
