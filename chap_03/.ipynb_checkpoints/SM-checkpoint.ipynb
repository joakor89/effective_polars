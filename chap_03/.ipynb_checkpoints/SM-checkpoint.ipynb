{
 "cells": [
  {
   "cell_type": "markdown",
   "id": "d5d2e5f9-f0ca-4ea1-ae63-ee6730657e74",
   "metadata": {},
   "source": [
    "# String Manipulation\n",
    "\n",
    "### Loading Libraries"
   ]
  },
  {
   "cell_type": "code",
   "execution_count": 1,
   "id": "be889a3c-953a-4fe4-bfcf-8db5493a5ca9",
   "metadata": {},
   "outputs": [],
   "source": [
    "# ZipFiles\n",
    "import zipfile\n",
    "\n",
    "# Numerical Computing\n",
    "import numpy as np\n",
    "\n",
    "# Data Manipulation\n",
    "import pandas as pd\n",
    "import polars as pl\n",
    "import polars.selectors as cs\n",
    "\n",
    "# Data Visualization\n",
    "import seaborn as sns\n",
    "import matplotlib.pyplot as plt\n",
    "\n",
    "# XGBoost\n",
    "import xgboost as xgb"
   ]
  },
  {
   "cell_type": "markdown",
   "id": "c3c6b8fc-1e43-4919-a162-c1739b8bd925",
   "metadata": {},
   "source": [
    "### Loading Data: `Twitter Data`"
   ]
  },
  {
   "cell_type": "code",
   "execution_count": 2,
   "id": "1534edf8-9607-4d3f-8fee-1e1d94003423",
   "metadata": {},
   "outputs": [],
   "source": [
    "url = 'https://github.com/mattharrison/datasets/raw/' \\\n",
    "'master/data/__mharrison__2020-2021.csv'"
   ]
  },
  {
   "cell_type": "code",
   "execution_count": 3,
   "id": "35e62ecf-386d-4c4f-b19e-0b87f9abab06",
   "metadata": {},
   "outputs": [],
   "source": [
    "raw = pl.read_csv(url)"
   ]
  },
  {
   "cell_type": "code",
   "execution_count": 4,
   "id": "d1314104-7bd1-466e-b952-f0508e2d6dcd",
   "metadata": {},
   "outputs": [
    {
     "name": "stdout",
     "output_type": "stream",
     "text": [
      "shape: (5_791, 40)\n",
      "┌───────────┬───────────┬───────────┬───────────┬───┬───────────┬───────────┬───────────┬──────────┐\n",
      "│ Tweet id  ┆ Tweet     ┆ Tweet     ┆ time      ┆ … ┆ promoted  ┆ promoted  ┆ promoted  ┆ promoted │\n",
      "│ ---       ┆ permalink ┆ text      ┆ ---       ┆   ┆ email     ┆ dial      ┆ media     ┆ media    │\n",
      "│ i64       ┆ ---       ┆ ---       ┆ str       ┆   ┆ tweet     ┆ phone     ┆ views     ┆ engageme │\n",
      "│           ┆ str       ┆ str       ┆           ┆   ┆ ---       ┆ ---       ┆ ---       ┆ nts      │\n",
      "│           ┆           ┆           ┆           ┆   ┆ str       ┆ str       ┆ str       ┆ ---      │\n",
      "│           ┆           ┆           ┆           ┆   ┆           ┆           ┆           ┆ str      │\n",
      "╞═══════════╪═══════════╪═══════════╪═══════════╪═══╪═══════════╪═══════════╪═══════════╪══════════╡\n",
      "│ 121258051 ┆ https://t ┆ Sounds    ┆ 2020-01-0 ┆ … ┆ null      ┆ null      ┆ null      ┆ null     │\n",
      "│ 790578073 ┆ witter.co ┆ like a    ┆ 2 03:44:0 ┆   ┆           ┆           ┆           ┆          │\n",
      "│ 7         ┆ m/__mharr ┆ great     ┆ 0+00:00   ┆   ┆           ┆           ┆           ┆          │\n",
      "│           ┆ iso…      ┆ topic!    ┆           ┆   ┆           ┆           ┆           ┆          │\n",
      "│           ┆           ┆ htt…      ┆           ┆   ┆           ┆           ┆           ┆          │\n",
      "│ 121258249 ┆ https://t ┆ @FogleBir ┆ 2020-01-0 ┆ … ┆ null      ┆ null      ┆ null      ┆ null     │\n",
      "│ 482803609 ┆ witter.co ┆ d Looks   ┆ 2 03:52:0 ┆   ┆           ┆           ┆           ┆          │\n",
      "│ 7         ┆ m/__mharr ┆ like SLC. ┆ 0+00:00   ┆   ┆           ┆           ┆           ┆          │\n",
      "│           ┆ iso…      ┆ I c…      ┆           ┆   ┆           ┆           ┆           ┆          │\n",
      "│ 121261373 ┆ https://t ┆ @afilina  ┆ 2020-01-0 ┆ … ┆ null      ┆ null      ┆ null      ┆ null     │\n",
      "│ 569869004 ┆ witter.co ┆ That's    ┆ 2 05:56:0 ┆   ┆           ┆           ┆           ┆          │\n",
      "│ 9         ┆ m/__mharr ┆ really    ┆ 0+00:00   ┆   ┆           ┆           ┆           ┆          │\n",
      "│           ┆ iso…      ┆ amount …  ┆           ┆   ┆           ┆           ┆           ┆          │\n",
      "│ 121291174 ┆ https://t ┆ @randal_o ┆ 2020-01-0 ┆ … ┆ null      ┆ null      ┆ null      ┆ null     │\n",
      "│ 961724211 ┆ witter.co ┆ lson I    ┆ 3 01:41:0 ┆   ┆           ┆           ┆           ┆          │\n",
      "│ 3         ┆ m/__mharr ┆ use       ┆ 0+00:00   ┆   ┆           ┆           ┆           ┆          │\n",
      "│           ┆ iso…      ┆ anaconda  ┆           ┆   ┆           ┆           ┆           ┆          │\n",
      "│           ┆           ┆ w…        ┆           ┆   ┆           ┆           ┆           ┆          │\n",
      "│ 121292055 ┆ https://t ┆ @AlSweiga ┆ 2020-01-0 ┆ … ┆ null      ┆ null      ┆ null      ┆ null     │\n",
      "│ 602825216 ┆ witter.co ┆ rt        ┆ 3 02:16:0 ┆   ┆           ┆           ┆           ┆          │\n",
      "│ 0         ┆ m/__mharr ┆ Sometimes ┆ 0+00:00   ┆   ┆           ┆           ┆           ┆          │\n",
      "│           ┆ iso…      ┆ the stud… ┆           ┆   ┆           ┆           ┆           ┆          │\n",
      "│ …         ┆ …         ┆ …         ┆ …         ┆ … ┆ …         ┆ …         ┆ …         ┆ …        │\n",
      "│ 147530066 ┆ https://t ┆ @allison_ ┆ 2021-12-2 ┆ … ┆ null      ┆ null      ┆ null      ┆ null     │\n",
      "│ 185193472 ┆ witter.co ┆ horst     ┆ 7 03:01:0 ┆   ┆           ┆           ┆           ┆          │\n",
      "│ 1         ┆ m/__mharr ┆ That's    ┆ 0+00:00   ┆   ┆           ┆           ┆           ┆          │\n",
      "│           ┆ iso…      ┆ awesome!  ┆           ┆   ┆           ┆           ┆           ┆          │\n",
      "│ 147551814 ┆ https://t ┆ @willmcgu ┆ 2021-12-2 ┆ … ┆ null      ┆ null      ┆ null      ┆ null     │\n",
      "│ 369080115 ┆ witter.co ┆ gan You   ┆ 7 17:25:0 ┆   ┆           ┆           ┆           ┆          │\n",
      "│ 6         ┆ m/__mharr ┆ need to   ┆ 0+00:00   ┆   ┆           ┆           ┆           ┆          │\n",
      "│           ┆ iso…      ┆ find …    ┆           ┆   ┆           ┆           ┆           ┆          │\n",
      "│ 147589144 ┆ https://t ┆ @posco    ┆ 2021-12-2 ┆ … ┆ null      ┆ null      ┆ null      ┆ null     │\n",
      "│ 124302540 ┆ witter.co ┆ Visiting  ┆ 8 18:08:0 ┆   ┆           ┆           ┆           ┆          │\n",
      "│ 8         ┆ m/__mharr ┆ Hawaii    ┆ 0+00:00   ┆   ┆           ┆           ┆           ┆          │\n",
      "│           ┆ iso…      ┆ for the…  ┆           ┆   ┆           ┆           ┆           ┆          │\n",
      "│ 147645381 ┆ https://t ┆ @johndsau ┆ 2021-12-3 ┆ … ┆ null      ┆ null      ┆ null      ┆ null     │\n",
      "│ 975187865 ┆ witter.co ┆ nders My  ┆ 0 07:23:0 ┆   ┆           ┆           ┆           ┆          │\n",
      "│ 6         ┆ m/__mharr ┆ son just  ┆ 0+00:00   ┆   ┆           ┆           ┆           ┆          │\n",
      "│           ┆ iso…      ┆ bui…      ┆           ┆   ┆           ┆           ┆           ┆          │\n",
      "│ 147702472 ┆ https://t ┆ @tunguz   ┆ 2021-12-3 ┆ … ┆ null      ┆ null      ┆ null      ┆ null     │\n",
      "│ 205115801 ┆ witter.co ┆ Xgboost   ┆ 1 21:11:0 ┆   ┆           ┆           ┆           ┆          │\n",
      "│ 8         ┆ m/__mharr ┆           ┆ 0+00:00   ┆   ┆           ┆           ┆           ┆          │\n",
      "│           ┆ iso…      ┆           ┆           ┆   ┆           ┆           ┆           ┆          │\n",
      "└───────────┴───────────┴───────────┴───────────┴───┴───────────┴───────────┴───────────┴──────────┘\n"
     ]
    }
   ],
   "source": [
    "print(raw)"
   ]
  },
  {
   "cell_type": "markdown",
   "id": "f8a19ca2-cfec-4f3d-a134-a8e47f16f868",
   "metadata": {},
   "source": [
    "#### Tweaking Tweet Function:"
   ]
  },
  {
   "cell_type": "code",
   "execution_count": 5,
   "id": "7fd27275-5940-4d6e-a4f2-789ec516a0ff",
   "metadata": {},
   "outputs": [],
   "source": [
    "def tweak_twit(df):\n",
    "    return (df\n",
    "            .select(['Tweet id', 'Tweet permalink', 'Tweet text', 'time', \n",
    "                     'impressions', 'engagements', 'engagement rate',\n",
    "                     'retweets', 'replies', 'likes', 'user profile clicks'])\n",
    "           )"
   ]
  },
  {
   "cell_type": "code",
   "execution_count": 6,
   "id": "049e0429-a1bb-41d8-9539-ef04ac4c504d",
   "metadata": {},
   "outputs": [],
   "source": [
    "twit = tweak_twit(raw)"
   ]
  },
  {
   "cell_type": "code",
   "execution_count": 7,
   "id": "02758071-f604-42a5-b4ef-c20ef2c9bebb",
   "metadata": {},
   "outputs": [
    {
     "name": "stdout",
     "output_type": "stream",
     "text": [
      "shape: (5_791, 11)\n",
      "┌─────────────┬─────────────┬─────────────┬─────────────┬───┬──────────┬─────────┬───────┬─────────┐\n",
      "│ Tweet id    ┆ Tweet       ┆ Tweet text  ┆ time        ┆ … ┆ retweets ┆ replies ┆ likes ┆ user    │\n",
      "│ ---         ┆ permalink   ┆ ---         ┆ ---         ┆   ┆ ---      ┆ ---     ┆ ---   ┆ profile │\n",
      "│ i64         ┆ ---         ┆ str         ┆ str         ┆   ┆ f64      ┆ f64     ┆ f64   ┆ clicks  │\n",
      "│             ┆ str         ┆             ┆             ┆   ┆          ┆         ┆       ┆ ---     │\n",
      "│             ┆             ┆             ┆             ┆   ┆          ┆         ┆       ┆ f64     │\n",
      "╞═════════════╪═════════════╪═════════════╪═════════════╪═══╪══════════╪═════════╪═══════╪═════════╡\n",
      "│ 12125805179 ┆ https://twi ┆ Sounds like ┆ 2020-01-02  ┆ … ┆ 0.0      ┆ 0.0     ┆ 3.0   ┆ 3.0     │\n",
      "│ 05780737    ┆ tter.com/__ ┆ a great     ┆ 03:44:00+00 ┆   ┆          ┆         ┆       ┆         │\n",
      "│             ┆ mharriso…   ┆ topic! htt… ┆ :00         ┆   ┆          ┆         ┆       ┆         │\n",
      "│ 12125824948 ┆ https://twi ┆ @FogleBird  ┆ 2020-01-02  ┆ … ┆ 0.0      ┆ 0.0     ┆ 1.0   ┆ 1.0     │\n",
      "│ 28036097    ┆ tter.com/__ ┆ Looks like  ┆ 03:52:00+00 ┆   ┆          ┆         ┆       ┆         │\n",
      "│             ┆ mharriso…   ┆ SLC. I c…   ┆ :00         ┆   ┆          ┆         ┆       ┆         │\n",
      "│ 12126137356 ┆ https://twi ┆ @afilina    ┆ 2020-01-02  ┆ … ┆ 0.0      ┆ 0.0     ┆ 1.0   ┆ 2.0     │\n",
      "│ 98690049    ┆ tter.com/__ ┆ That's      ┆ 05:56:00+00 ┆   ┆          ┆         ┆       ┆         │\n",
      "│             ┆ mharriso…   ┆ really      ┆ :00         ┆   ┆          ┆         ┆       ┆         │\n",
      "│             ┆             ┆ amount …    ┆             ┆   ┆          ┆         ┆       ┆         │\n",
      "│ 12129117496 ┆ https://twi ┆ @randal_ols ┆ 2020-01-03  ┆ … ┆ 0.0      ┆ 1.0     ┆ 5.0   ┆ 7.0     │\n",
      "│ 17242113    ┆ tter.com/__ ┆ on I use    ┆ 01:41:00+00 ┆   ┆          ┆         ┆       ┆         │\n",
      "│             ┆ mharriso…   ┆ anaconda w… ┆ :00         ┆   ┆          ┆         ┆       ┆         │\n",
      "│ 12129205560 ┆ https://twi ┆ @AlSweigart ┆ 2020-01-03  ┆ … ┆ 0.0      ┆ 0.0     ┆ 1.0   ┆ 0.0     │\n",
      "│ 28252160    ┆ tter.com/__ ┆ Sometimes   ┆ 02:16:00+00 ┆   ┆          ┆         ┆       ┆         │\n",
      "│             ┆ mharriso…   ┆ the stud…   ┆ :00         ┆   ┆          ┆         ┆       ┆         │\n",
      "│ …           ┆ …           ┆ …           ┆ …           ┆ … ┆ …        ┆ …       ┆ …     ┆ …       │\n",
      "│ 14753006618 ┆ https://twi ┆ @allison_ho ┆ 2021-12-27  ┆ … ┆ 0.0      ┆ 0.0     ┆ 0.0   ┆ 0.0     │\n",
      "│ 51934721    ┆ tter.com/__ ┆ rst That's  ┆ 03:01:00+00 ┆   ┆          ┆         ┆       ┆         │\n",
      "│             ┆ mharriso…   ┆ awesome!    ┆ :00         ┆   ┆          ┆         ┆       ┆         │\n",
      "│ 14755181436 ┆ https://twi ┆ @willmcguga ┆ 2021-12-27  ┆ … ┆ 0.0      ┆ 0.0     ┆ 3.0   ┆ 1.0     │\n",
      "│ 90801156    ┆ tter.com/__ ┆ n You need  ┆ 17:25:00+00 ┆   ┆          ┆         ┆       ┆         │\n",
      "│             ┆ mharriso…   ┆ to find …   ┆ :00         ┆   ┆          ┆         ┆       ┆         │\n",
      "│ 14758914412 ┆ https://twi ┆ @posco      ┆ 2021-12-28  ┆ … ┆ 0.0      ┆ 0.0     ┆ 4.0   ┆ 4.0     │\n",
      "│ 43025408    ┆ tter.com/__ ┆ Visiting    ┆ 18:08:00+00 ┆   ┆          ┆         ┆       ┆         │\n",
      "│             ┆ mharriso…   ┆ Hawaii for  ┆ :00         ┆   ┆          ┆         ┆       ┆         │\n",
      "│             ┆             ┆ the…        ┆             ┆   ┆          ┆         ┆       ┆         │\n",
      "│ 14764538197 ┆ https://twi ┆ @johndsaund ┆ 2021-12-30  ┆ … ┆ 0.0      ┆ 0.0     ┆ 2.0   ┆ 4.0     │\n",
      "│ 51878656    ┆ tter.com/__ ┆ ers My son  ┆ 07:23:00+00 ┆   ┆          ┆         ┆       ┆         │\n",
      "│             ┆ mharriso…   ┆ just bui…   ┆ :00         ┆   ┆          ┆         ┆       ┆         │\n",
      "│ 14770247220 ┆ https://twi ┆ @tunguz     ┆ 2021-12-31  ┆ … ┆ 0.0      ┆ 3.0     ┆ 23.0  ┆ 8.0     │\n",
      "│ 51158018    ┆ tter.com/__ ┆ Xgboost     ┆ 21:11:00+00 ┆   ┆          ┆         ┆       ┆         │\n",
      "│             ┆ mharriso…   ┆             ┆ :00         ┆   ┆          ┆         ┆       ┆         │\n",
      "└─────────────┴─────────────┴─────────────┴─────────────┴───┴──────────┴─────────┴───────┴─────────┘\n"
     ]
    }
   ],
   "source": [
    "print(twit)"
   ]
  },
  {
   "cell_type": "markdown",
   "id": "3d9317eb-1582-439a-9aba-48d75d22d0cf",
   "metadata": {},
   "source": [
    "### Data Validation\n",
    "\n",
    "Some accessor already are deprecated. "
   ]
  },
  {
   "cell_type": "code",
   "execution_count": 8,
   "id": "baf744b6-aa1a-434a-885b-a2239ee8b047",
   "metadata": {},
   "outputs": [],
   "source": [
    "col = pl.col('Tweet permalink')"
   ]
  },
  {
   "cell_type": "code",
   "execution_count": 9,
   "id": "8c2dba0f-ff1a-49a3-b48c-82fa69eaa6fe",
   "metadata": {},
   "outputs": [
    {
     "name": "stdout",
     "output_type": "stream",
     "text": [
      "['concat', 'contains', 'contains_any', 'count_matches', 'decode', 'encode', 'ends_with', 'escape_regex', 'explode', 'extract', 'extract_all', 'extract_groups', 'extract_many', 'find', 'find_many', 'head', 'join', 'json_decode', 'json_path_match', 'len_bytes', 'len_chars', 'pad_end', 'pad_start', 'replace', 'replace_all', 'replace_many', 'reverse', 'slice', 'split', 'split_exact', 'splitn', 'starts_with', 'strip_chars', 'strip_chars_end', 'strip_chars_start', 'strip_prefix', 'strip_suffix', 'strptime', 'tail', 'to_date', 'to_datetime', 'to_decimal', 'to_integer', 'to_lowercase', 'to_time', 'to_titlecase', 'to_uppercase', 'zfill']\n"
     ]
    }
   ],
   "source": [
    "print([m for m in dir(col.str)\n",
    "      if not m.startswith('_')])"
   ]
  },
  {
   "cell_type": "code",
   "execution_count": 11,
   "id": "86e7003f-b936-4342-ab22-66c19d8a3056",
   "metadata": {},
   "outputs": [
    {
     "name": "stdout",
     "output_type": "stream",
     "text": [
      "['encode', 'find', 'join', 'replace', 'split', 'zfill']\n"
     ]
    }
   ],
   "source": [
    "# Checking overlaps\n",
    "print(sorted([m for m in\n",
    "             set(dir(col.str)) & set(dir(''))\n",
    "             if not m.startswith('_')]))"
   ]
  },
  {
   "cell_type": "code",
   "execution_count": null,
   "id": "b49ca504-4c30-4ed5-83a7-704ce5bf324a",
   "metadata": {},
   "outputs": [],
   "source": []
  }
 ],
 "metadata": {
  "kernelspec": {
   "display_name": "Python 3 (ipykernel)",
   "language": "python",
   "name": "python3"
  },
  "language_info": {
   "codemirror_mode": {
    "name": "ipython",
    "version": 3
   },
   "file_extension": ".py",
   "mimetype": "text/x-python",
   "name": "python",
   "nbconvert_exporter": "python",
   "pygments_lexer": "ipython3",
   "version": "3.11.8"
  }
 },
 "nbformat": 4,
 "nbformat_minor": 5
}
