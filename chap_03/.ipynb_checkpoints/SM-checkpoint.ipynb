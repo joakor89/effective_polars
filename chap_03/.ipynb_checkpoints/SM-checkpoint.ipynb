{
 "cells": [
  {
   "cell_type": "markdown",
   "id": "d5d2e5f9-f0ca-4ea1-ae63-ee6730657e74",
   "metadata": {},
   "source": [
    "# String Manipulation\n",
    "\n",
    "### Loading Libraries"
   ]
  },
  {
   "cell_type": "code",
   "execution_count": 1,
   "id": "be889a3c-953a-4fe4-bfcf-8db5493a5ca9",
   "metadata": {},
   "outputs": [],
   "source": [
    "# ZipFiles\n",
    "import zipfile\n",
    "\n",
    "# Numerical Computing\n",
    "import numpy as np\n",
    "\n",
    "# Data Manipulation\n",
    "import pandas as pd\n",
    "import polars as pl\n",
    "import polars.selectors as cs\n",
    "\n",
    "# Data Visualization\n",
    "import seaborn as sns\n",
    "import matplotlib.pyplot as plt\n",
    "\n",
    "# XGBoost\n",
    "import xgboost as xgb"
   ]
  },
  {
   "cell_type": "markdown",
   "id": "c3c6b8fc-1e43-4919-a162-c1739b8bd925",
   "metadata": {},
   "source": [
    "### Loading Data: `Twitter Data`"
   ]
  },
  {
   "cell_type": "code",
   "execution_count": 2,
   "id": "1534edf8-9607-4d3f-8fee-1e1d94003423",
   "metadata": {},
   "outputs": [],
   "source": [
    "url = 'https://github.com/mattharrison/datasets/raw/' \\\n",
    "'master/data/__mharrison__2020-2021.csv'"
   ]
  },
  {
   "cell_type": "code",
   "execution_count": 3,
   "id": "35e62ecf-386d-4c4f-b19e-0b87f9abab06",
   "metadata": {},
   "outputs": [],
   "source": [
    "raw = pl.read_csv(url)"
   ]
  },
  {
   "cell_type": "code",
   "execution_count": 4,
   "id": "d1314104-7bd1-466e-b952-f0508e2d6dcd",
   "metadata": {},
   "outputs": [
    {
     "name": "stdout",
     "output_type": "stream",
     "text": [
      "shape: (5_791, 40)\n",
      "┌───────────┬───────────┬───────────┬───────────┬───┬───────────┬───────────┬───────────┬──────────┐\n",
      "│ Tweet id  ┆ Tweet     ┆ Tweet     ┆ time      ┆ … ┆ promoted  ┆ promoted  ┆ promoted  ┆ promoted │\n",
      "│ ---       ┆ permalink ┆ text      ┆ ---       ┆   ┆ email     ┆ dial      ┆ media     ┆ media    │\n",
      "│ i64       ┆ ---       ┆ ---       ┆ str       ┆   ┆ tweet     ┆ phone     ┆ views     ┆ engageme │\n",
      "│           ┆ str       ┆ str       ┆           ┆   ┆ ---       ┆ ---       ┆ ---       ┆ nts      │\n",
      "│           ┆           ┆           ┆           ┆   ┆ str       ┆ str       ┆ str       ┆ ---      │\n",
      "│           ┆           ┆           ┆           ┆   ┆           ┆           ┆           ┆ str      │\n",
      "╞═══════════╪═══════════╪═══════════╪═══════════╪═══╪═══════════╪═══════════╪═══════════╪══════════╡\n",
      "│ 121258051 ┆ https://t ┆ Sounds    ┆ 2020-01-0 ┆ … ┆ null      ┆ null      ┆ null      ┆ null     │\n",
      "│ 790578073 ┆ witter.co ┆ like a    ┆ 2 03:44:0 ┆   ┆           ┆           ┆           ┆          │\n",
      "│ 7         ┆ m/__mharr ┆ great     ┆ 0+00:00   ┆   ┆           ┆           ┆           ┆          │\n",
      "│           ┆ iso…      ┆ topic!    ┆           ┆   ┆           ┆           ┆           ┆          │\n",
      "│           ┆           ┆ htt…      ┆           ┆   ┆           ┆           ┆           ┆          │\n",
      "│ 121258249 ┆ https://t ┆ @FogleBir ┆ 2020-01-0 ┆ … ┆ null      ┆ null      ┆ null      ┆ null     │\n",
      "│ 482803609 ┆ witter.co ┆ d Looks   ┆ 2 03:52:0 ┆   ┆           ┆           ┆           ┆          │\n",
      "│ 7         ┆ m/__mharr ┆ like SLC. ┆ 0+00:00   ┆   ┆           ┆           ┆           ┆          │\n",
      "│           ┆ iso…      ┆ I c…      ┆           ┆   ┆           ┆           ┆           ┆          │\n",
      "│ 121261373 ┆ https://t ┆ @afilina  ┆ 2020-01-0 ┆ … ┆ null      ┆ null      ┆ null      ┆ null     │\n",
      "│ 569869004 ┆ witter.co ┆ That's    ┆ 2 05:56:0 ┆   ┆           ┆           ┆           ┆          │\n",
      "│ 9         ┆ m/__mharr ┆ really    ┆ 0+00:00   ┆   ┆           ┆           ┆           ┆          │\n",
      "│           ┆ iso…      ┆ amount …  ┆           ┆   ┆           ┆           ┆           ┆          │\n",
      "│ 121291174 ┆ https://t ┆ @randal_o ┆ 2020-01-0 ┆ … ┆ null      ┆ null      ┆ null      ┆ null     │\n",
      "│ 961724211 ┆ witter.co ┆ lson I    ┆ 3 01:41:0 ┆   ┆           ┆           ┆           ┆          │\n",
      "│ 3         ┆ m/__mharr ┆ use       ┆ 0+00:00   ┆   ┆           ┆           ┆           ┆          │\n",
      "│           ┆ iso…      ┆ anaconda  ┆           ┆   ┆           ┆           ┆           ┆          │\n",
      "│           ┆           ┆ w…        ┆           ┆   ┆           ┆           ┆           ┆          │\n",
      "│ 121292055 ┆ https://t ┆ @AlSweiga ┆ 2020-01-0 ┆ … ┆ null      ┆ null      ┆ null      ┆ null     │\n",
      "│ 602825216 ┆ witter.co ┆ rt        ┆ 3 02:16:0 ┆   ┆           ┆           ┆           ┆          │\n",
      "│ 0         ┆ m/__mharr ┆ Sometimes ┆ 0+00:00   ┆   ┆           ┆           ┆           ┆          │\n",
      "│           ┆ iso…      ┆ the stud… ┆           ┆   ┆           ┆           ┆           ┆          │\n",
      "│ …         ┆ …         ┆ …         ┆ …         ┆ … ┆ …         ┆ …         ┆ …         ┆ …        │\n",
      "│ 147530066 ┆ https://t ┆ @allison_ ┆ 2021-12-2 ┆ … ┆ null      ┆ null      ┆ null      ┆ null     │\n",
      "│ 185193472 ┆ witter.co ┆ horst     ┆ 7 03:01:0 ┆   ┆           ┆           ┆           ┆          │\n",
      "│ 1         ┆ m/__mharr ┆ That's    ┆ 0+00:00   ┆   ┆           ┆           ┆           ┆          │\n",
      "│           ┆ iso…      ┆ awesome!  ┆           ┆   ┆           ┆           ┆           ┆          │\n",
      "│ 147551814 ┆ https://t ┆ @willmcgu ┆ 2021-12-2 ┆ … ┆ null      ┆ null      ┆ null      ┆ null     │\n",
      "│ 369080115 ┆ witter.co ┆ gan You   ┆ 7 17:25:0 ┆   ┆           ┆           ┆           ┆          │\n",
      "│ 6         ┆ m/__mharr ┆ need to   ┆ 0+00:00   ┆   ┆           ┆           ┆           ┆          │\n",
      "│           ┆ iso…      ┆ find …    ┆           ┆   ┆           ┆           ┆           ┆          │\n",
      "│ 147589144 ┆ https://t ┆ @posco    ┆ 2021-12-2 ┆ … ┆ null      ┆ null      ┆ null      ┆ null     │\n",
      "│ 124302540 ┆ witter.co ┆ Visiting  ┆ 8 18:08:0 ┆   ┆           ┆           ┆           ┆          │\n",
      "│ 8         ┆ m/__mharr ┆ Hawaii    ┆ 0+00:00   ┆   ┆           ┆           ┆           ┆          │\n",
      "│           ┆ iso…      ┆ for the…  ┆           ┆   ┆           ┆           ┆           ┆          │\n",
      "│ 147645381 ┆ https://t ┆ @johndsau ┆ 2021-12-3 ┆ … ┆ null      ┆ null      ┆ null      ┆ null     │\n",
      "│ 975187865 ┆ witter.co ┆ nders My  ┆ 0 07:23:0 ┆   ┆           ┆           ┆           ┆          │\n",
      "│ 6         ┆ m/__mharr ┆ son just  ┆ 0+00:00   ┆   ┆           ┆           ┆           ┆          │\n",
      "│           ┆ iso…      ┆ bui…      ┆           ┆   ┆           ┆           ┆           ┆          │\n",
      "│ 147702472 ┆ https://t ┆ @tunguz   ┆ 2021-12-3 ┆ … ┆ null      ┆ null      ┆ null      ┆ null     │\n",
      "│ 205115801 ┆ witter.co ┆ Xgboost   ┆ 1 21:11:0 ┆   ┆           ┆           ┆           ┆          │\n",
      "│ 8         ┆ m/__mharr ┆           ┆ 0+00:00   ┆   ┆           ┆           ┆           ┆          │\n",
      "│           ┆ iso…      ┆           ┆           ┆   ┆           ┆           ┆           ┆          │\n",
      "└───────────┴───────────┴───────────┴───────────┴───┴───────────┴───────────┴───────────┴──────────┘\n"
     ]
    }
   ],
   "source": [
    "print(raw)"
   ]
  },
  {
   "cell_type": "markdown",
   "id": "f8a19ca2-cfec-4f3d-a134-a8e47f16f868",
   "metadata": {},
   "source": [
    "#### Tweaking Tweet Function:"
   ]
  },
  {
   "cell_type": "code",
   "execution_count": 5,
   "id": "7fd27275-5940-4d6e-a4f2-789ec516a0ff",
   "metadata": {},
   "outputs": [],
   "source": [
    "def tweak_twit(df):\n",
    "    return (df\n",
    "            .select(['Tweet id', 'Tweet permalink', 'Tweet text', 'time', \n",
    "                     'impressions', 'engagements', 'engagement rate',\n",
    "                     'retweets', 'replies', 'likes', 'user profile clicks'])\n",
    "           )"
   ]
  },
  {
   "cell_type": "code",
   "execution_count": 6,
   "id": "049e0429-a1bb-41d8-9539-ef04ac4c504d",
   "metadata": {},
   "outputs": [],
   "source": [
    "twit = tweak_twit(raw)"
   ]
  },
  {
   "cell_type": "code",
   "execution_count": 7,
   "id": "02758071-f604-42a5-b4ef-c20ef2c9bebb",
   "metadata": {},
   "outputs": [
    {
     "name": "stdout",
     "output_type": "stream",
     "text": [
      "shape: (5_791, 11)\n",
      "┌─────────────┬─────────────┬─────────────┬─────────────┬───┬──────────┬─────────┬───────┬─────────┐\n",
      "│ Tweet id    ┆ Tweet       ┆ Tweet text  ┆ time        ┆ … ┆ retweets ┆ replies ┆ likes ┆ user    │\n",
      "│ ---         ┆ permalink   ┆ ---         ┆ ---         ┆   ┆ ---      ┆ ---     ┆ ---   ┆ profile │\n",
      "│ i64         ┆ ---         ┆ str         ┆ str         ┆   ┆ f64      ┆ f64     ┆ f64   ┆ clicks  │\n",
      "│             ┆ str         ┆             ┆             ┆   ┆          ┆         ┆       ┆ ---     │\n",
      "│             ┆             ┆             ┆             ┆   ┆          ┆         ┆       ┆ f64     │\n",
      "╞═════════════╪═════════════╪═════════════╪═════════════╪═══╪══════════╪═════════╪═══════╪═════════╡\n",
      "│ 12125805179 ┆ https://twi ┆ Sounds like ┆ 2020-01-02  ┆ … ┆ 0.0      ┆ 0.0     ┆ 3.0   ┆ 3.0     │\n",
      "│ 05780737    ┆ tter.com/__ ┆ a great     ┆ 03:44:00+00 ┆   ┆          ┆         ┆       ┆         │\n",
      "│             ┆ mharriso…   ┆ topic! htt… ┆ :00         ┆   ┆          ┆         ┆       ┆         │\n",
      "│ 12125824948 ┆ https://twi ┆ @FogleBird  ┆ 2020-01-02  ┆ … ┆ 0.0      ┆ 0.0     ┆ 1.0   ┆ 1.0     │\n",
      "│ 28036097    ┆ tter.com/__ ┆ Looks like  ┆ 03:52:00+00 ┆   ┆          ┆         ┆       ┆         │\n",
      "│             ┆ mharriso…   ┆ SLC. I c…   ┆ :00         ┆   ┆          ┆         ┆       ┆         │\n",
      "│ 12126137356 ┆ https://twi ┆ @afilina    ┆ 2020-01-02  ┆ … ┆ 0.0      ┆ 0.0     ┆ 1.0   ┆ 2.0     │\n",
      "│ 98690049    ┆ tter.com/__ ┆ That's      ┆ 05:56:00+00 ┆   ┆          ┆         ┆       ┆         │\n",
      "│             ┆ mharriso…   ┆ really      ┆ :00         ┆   ┆          ┆         ┆       ┆         │\n",
      "│             ┆             ┆ amount …    ┆             ┆   ┆          ┆         ┆       ┆         │\n",
      "│ 12129117496 ┆ https://twi ┆ @randal_ols ┆ 2020-01-03  ┆ … ┆ 0.0      ┆ 1.0     ┆ 5.0   ┆ 7.0     │\n",
      "│ 17242113    ┆ tter.com/__ ┆ on I use    ┆ 01:41:00+00 ┆   ┆          ┆         ┆       ┆         │\n",
      "│             ┆ mharriso…   ┆ anaconda w… ┆ :00         ┆   ┆          ┆         ┆       ┆         │\n",
      "│ 12129205560 ┆ https://twi ┆ @AlSweigart ┆ 2020-01-03  ┆ … ┆ 0.0      ┆ 0.0     ┆ 1.0   ┆ 0.0     │\n",
      "│ 28252160    ┆ tter.com/__ ┆ Sometimes   ┆ 02:16:00+00 ┆   ┆          ┆         ┆       ┆         │\n",
      "│             ┆ mharriso…   ┆ the stud…   ┆ :00         ┆   ┆          ┆         ┆       ┆         │\n",
      "│ …           ┆ …           ┆ …           ┆ …           ┆ … ┆ …        ┆ …       ┆ …     ┆ …       │\n",
      "│ 14753006618 ┆ https://twi ┆ @allison_ho ┆ 2021-12-27  ┆ … ┆ 0.0      ┆ 0.0     ┆ 0.0   ┆ 0.0     │\n",
      "│ 51934721    ┆ tter.com/__ ┆ rst That's  ┆ 03:01:00+00 ┆   ┆          ┆         ┆       ┆         │\n",
      "│             ┆ mharriso…   ┆ awesome!    ┆ :00         ┆   ┆          ┆         ┆       ┆         │\n",
      "│ 14755181436 ┆ https://twi ┆ @willmcguga ┆ 2021-12-27  ┆ … ┆ 0.0      ┆ 0.0     ┆ 3.0   ┆ 1.0     │\n",
      "│ 90801156    ┆ tter.com/__ ┆ n You need  ┆ 17:25:00+00 ┆   ┆          ┆         ┆       ┆         │\n",
      "│             ┆ mharriso…   ┆ to find …   ┆ :00         ┆   ┆          ┆         ┆       ┆         │\n",
      "│ 14758914412 ┆ https://twi ┆ @posco      ┆ 2021-12-28  ┆ … ┆ 0.0      ┆ 0.0     ┆ 4.0   ┆ 4.0     │\n",
      "│ 43025408    ┆ tter.com/__ ┆ Visiting    ┆ 18:08:00+00 ┆   ┆          ┆         ┆       ┆         │\n",
      "│             ┆ mharriso…   ┆ Hawaii for  ┆ :00         ┆   ┆          ┆         ┆       ┆         │\n",
      "│             ┆             ┆ the…        ┆             ┆   ┆          ┆         ┆       ┆         │\n",
      "│ 14764538197 ┆ https://twi ┆ @johndsaund ┆ 2021-12-30  ┆ … ┆ 0.0      ┆ 0.0     ┆ 2.0   ┆ 4.0     │\n",
      "│ 51878656    ┆ tter.com/__ ┆ ers My son  ┆ 07:23:00+00 ┆   ┆          ┆         ┆       ┆         │\n",
      "│             ┆ mharriso…   ┆ just bui…   ┆ :00         ┆   ┆          ┆         ┆       ┆         │\n",
      "│ 14770247220 ┆ https://twi ┆ @tunguz     ┆ 2021-12-31  ┆ … ┆ 0.0      ┆ 3.0     ┆ 23.0  ┆ 8.0     │\n",
      "│ 51158018    ┆ tter.com/__ ┆ Xgboost     ┆ 21:11:00+00 ┆   ┆          ┆         ┆       ┆         │\n",
      "│             ┆ mharriso…   ┆             ┆ :00         ┆   ┆          ┆         ┆       ┆         │\n",
      "└─────────────┴─────────────┴─────────────┴─────────────┴───┴──────────┴─────────┴───────┴─────────┘\n"
     ]
    }
   ],
   "source": [
    "print(twit)"
   ]
  },
  {
   "cell_type": "markdown",
   "id": "3d9317eb-1582-439a-9aba-48d75d22d0cf",
   "metadata": {},
   "source": [
    "### Data Validation\n",
    "\n",
    "Some accessor already are deprecated. "
   ]
  },
  {
   "cell_type": "code",
   "execution_count": 8,
   "id": "baf744b6-aa1a-434a-885b-a2239ee8b047",
   "metadata": {},
   "outputs": [],
   "source": [
    "col = pl.col('Tweet permalink')"
   ]
  },
  {
   "cell_type": "code",
   "execution_count": 9,
   "id": "8c2dba0f-ff1a-49a3-b48c-82fa69eaa6fe",
   "metadata": {},
   "outputs": [
    {
     "name": "stdout",
     "output_type": "stream",
     "text": [
      "['concat', 'contains', 'contains_any', 'count_matches', 'decode', 'encode', 'ends_with', 'escape_regex', 'explode', 'extract', 'extract_all', 'extract_groups', 'extract_many', 'find', 'find_many', 'head', 'join', 'json_decode', 'json_path_match', 'len_bytes', 'len_chars', 'pad_end', 'pad_start', 'replace', 'replace_all', 'replace_many', 'reverse', 'slice', 'split', 'split_exact', 'splitn', 'starts_with', 'strip_chars', 'strip_chars_end', 'strip_chars_start', 'strip_prefix', 'strip_suffix', 'strptime', 'tail', 'to_date', 'to_datetime', 'to_decimal', 'to_integer', 'to_lowercase', 'to_time', 'to_titlecase', 'to_uppercase', 'zfill']\n"
     ]
    }
   ],
   "source": [
    "print([m for m in dir(col.str)\n",
    "      if not m.startswith('_')])"
   ]
  },
  {
   "cell_type": "code",
   "execution_count": 10,
   "id": "86e7003f-b936-4342-ab22-66c19d8a3056",
   "metadata": {},
   "outputs": [
    {
     "name": "stdout",
     "output_type": "stream",
     "text": [
      "['encode', 'find', 'join', 'replace', 'split', 'zfill']\n"
     ]
    }
   ],
   "source": [
    "# Checking overlaps\n",
    "print(sorted([m for m in\n",
    "             set(dir(col.str)) & set(dir(''))\n",
    "             if not m.startswith('_')]))"
   ]
  },
  {
   "cell_type": "code",
   "execution_count": 11,
   "id": "b49ca504-4c30-4ed5-83a7-704ce5bf324a",
   "metadata": {},
   "outputs": [
    {
     "name": "stdout",
     "output_type": "stream",
     "text": [
      "['concat', 'contains', 'contains_any', 'count_matches', 'decode', 'ends_with', 'escape_regex', 'explode', 'extract', 'extract_all', 'extract_groups', 'extract_many', 'find_many', 'head', 'json_decode', 'json_path_match', 'len_bytes', 'len_chars', 'pad_end', 'pad_start', 'replace_all', 'replace_many', 'reverse', 'slice', 'split_exact', 'splitn', 'starts_with', 'strip_chars', 'strip_chars_end', 'strip_chars_start', 'strip_prefix', 'strip_suffix', 'strptime', 'tail', 'to_date', 'to_datetime', 'to_decimal', 'to_integer', 'to_lowercase', 'to_time', 'to_titlecase', 'to_uppercase']\n"
     ]
    }
   ],
   "source": [
    "print(sorted([m for m in\n",
    "             set(dir(col.str)) - set(dir(''))\n",
    "             if not m.startswith('_')]))"
   ]
  },
  {
   "cell_type": "markdown",
   "id": "f9996356-eb52-44f3-958b-b09c2c7bdd70",
   "metadata": {},
   "source": [
    "### URL `Tweet permalink` Validation"
   ]
  },
  {
   "cell_type": "code",
   "execution_count": 12,
   "id": "ba91f511-852c-4c9b-8d41-8294972d1b2d",
   "metadata": {},
   "outputs": [
    {
     "data": {
      "text/plain": [
       "False"
      ]
     },
     "execution_count": 12,
     "metadata": {},
     "output_type": "execute_result"
    }
   ],
   "source": [
    "'https://metasnake.com'.startswith('https://twitter.com')"
   ]
  },
  {
   "cell_type": "code",
   "execution_count": 13,
   "id": "1e35b4c1-9469-431a-8694-e800d41a8287",
   "metadata": {},
   "outputs": [
    {
     "name": "stdout",
     "output_type": "stream",
     "text": [
      "shape: (0, 11)\n",
      "┌──────────┬───────────┬────────────┬──────┬───┬──────────┬─────────┬───────┬──────────────────────┐\n",
      "│ Tweet id ┆ Tweet     ┆ Tweet text ┆ time ┆ … ┆ retweets ┆ replies ┆ likes ┆ user profile clicks  │\n",
      "│ ---      ┆ permalink ┆ ---        ┆ ---  ┆   ┆ ---      ┆ ---     ┆ ---   ┆ ---                  │\n",
      "│ i64      ┆ ---       ┆ str        ┆ str  ┆   ┆ f64      ┆ f64     ┆ f64   ┆ f64                  │\n",
      "│          ┆ str       ┆            ┆      ┆   ┆          ┆         ┆       ┆                      │\n",
      "╞══════════╪═══════════╪════════════╪══════╪═══╪══════════╪═════════╪═══════╪══════════════════════╡\n",
      "└──────────┴───────────┴────────────┴──────┴───┴──────────┴─────────┴───────┴──────────────────────┘\n"
     ]
    }
   ],
   "source": [
    "print(twit\n",
    "      .filter(~col.str.starts_with('https://twitter.com/'))\n",
    "     )"
   ]
  },
  {
   "cell_type": "markdown",
   "id": "c63afb94-6492-4d50-aecd-4ca670047723",
   "metadata": {},
   "source": [
    "### Extracting The Username"
   ]
  },
  {
   "cell_type": "code",
   "execution_count": 14,
   "id": "4b609ece-9744-4f55-b040-3b1b943471be",
   "metadata": {},
   "outputs": [
    {
     "name": "stdout",
     "output_type": "stream",
     "text": [
      "['https:', '', 'metasnake.com', 'effective-polars']\n"
     ]
    }
   ],
   "source": [
    "print('https://metasnake.com/effective-polars'.split('/'))"
   ]
  },
  {
   "cell_type": "code",
   "execution_count": 15,
   "id": "9ae29c93-089d-425f-b61e-b9de0c58e6ec",
   "metadata": {},
   "outputs": [
    {
     "name": "stdout",
     "output_type": "stream",
     "text": [
      "shape: (5_791, 1)\n",
      "┌─────────────────────────────────┐\n",
      "│ Tweet permalink                 │\n",
      "│ ---                             │\n",
      "│ list[str]                       │\n",
      "╞═════════════════════════════════╡\n",
      "│ [\"https:\", \"\", … \"121258051790… │\n",
      "│ [\"https:\", \"\", … \"121258249482… │\n",
      "│ [\"https:\", \"\", … \"121261373569… │\n",
      "│ [\"https:\", \"\", … \"121291174961… │\n",
      "│ [\"https:\", \"\", … \"121292055602… │\n",
      "│ …                               │\n",
      "│ [\"https:\", \"\", … \"147530066185… │\n",
      "│ [\"https:\", \"\", … \"147551814369… │\n",
      "│ [\"https:\", \"\", … \"147589144124… │\n",
      "│ [\"https:\", \"\", … \"147645381975… │\n",
      "│ [\"https:\", \"\", … \"147702472205… │\n",
      "└─────────────────────────────────┘\n"
     ]
    }
   ],
   "source": [
    "print(twit\n",
    "      .select(col.str.split('/'))\n",
    "     )"
   ]
  },
  {
   "cell_type": "code",
   "execution_count": 16,
   "id": "f8cac45c-3981-4068-8dee-20c5820641ab",
   "metadata": {},
   "outputs": [
    {
     "name": "stdout",
     "output_type": "stream",
     "text": [
      "['all', 'any', 'arg_max', 'arg_min', 'concat', 'contains', 'count_matches', 'diff', 'drop_nulls', 'eval', 'explode', 'first', 'gather', 'gather_every', 'get', 'head', 'join', 'last', 'len', 'max', 'mean', 'median', 'min', 'n_unique', 'reverse', 'sample', 'set_difference', 'set_intersection', 'set_symmetric_difference', 'set_union', 'shift', 'slice', 'sort', 'std', 'sum', 'tail', 'to_array', 'to_struct', 'unique', 'var']\n"
     ]
    }
   ],
   "source": [
    "print([m for m in dir(col.list)\n",
    "       if not m.startswith('_')])"
   ]
  },
  {
   "cell_type": "code",
   "execution_count": 17,
   "id": "c60aac31-938c-48af-8bcd-74652f143b10",
   "metadata": {},
   "outputs": [
    {
     "name": "stdout",
     "output_type": "stream",
     "text": [
      "shape: (5_791, 1)\n",
      "┌─────────────────┐\n",
      "│ Tweet permalink │\n",
      "│ ---             │\n",
      "│ u32             │\n",
      "╞═════════════════╡\n",
      "│ 6               │\n",
      "│ 6               │\n",
      "│ 6               │\n",
      "│ 6               │\n",
      "│ 6               │\n",
      "│ …               │\n",
      "│ 6               │\n",
      "│ 6               │\n",
      "│ 6               │\n",
      "│ 6               │\n",
      "│ 6               │\n",
      "└─────────────────┘\n"
     ]
    }
   ],
   "source": [
    "print(twit\n",
    "      .select(col.str.split('/')\n",
    "              .list.len())\n",
    "     )"
   ]
  },
  {
   "cell_type": "code",
   "execution_count": 18,
   "id": "43c4be36-f2c1-4441-98b3-dfb25afccc48",
   "metadata": {},
   "outputs": [
    {
     "name": "stdout",
     "output_type": "stream",
     "text": [
      "shape: (5_791, 1)\n",
      "┌─────────────────────────────────┐\n",
      "│ Tweet permalink                 │\n",
      "│ ---                             │\n",
      "│ struct[6]                       │\n",
      "╞═════════════════════════════════╡\n",
      "│ {\"https:\",\"\",\"twitter.com\",\"__… │\n",
      "│ {\"https:\",\"\",\"twitter.com\",\"__… │\n",
      "│ {\"https:\",\"\",\"twitter.com\",\"__… │\n",
      "│ {\"https:\",\"\",\"twitter.com\",\"__… │\n",
      "│ {\"https:\",\"\",\"twitter.com\",\"__… │\n",
      "│ …                               │\n",
      "│ {\"https:\",\"\",\"twitter.com\",\"__… │\n",
      "│ {\"https:\",\"\",\"twitter.com\",\"__… │\n",
      "│ {\"https:\",\"\",\"twitter.com\",\"__… │\n",
      "│ {\"https:\",\"\",\"twitter.com\",\"__… │\n",
      "│ {\"https:\",\"\",\"twitter.com\",\"__… │\n",
      "└─────────────────────────────────┘\n"
     ]
    }
   ],
   "source": [
    "print(twit\n",
    "      .select(col.str.split('/')\n",
    "              .list.to_struct())\n",
    "     )"
   ]
  },
  {
   "cell_type": "code",
   "execution_count": 19,
   "id": "845bb366-788c-40e5-a67c-1c546fd0681b",
   "metadata": {},
   "outputs": [
    {
     "name": "stdout",
     "output_type": "stream",
     "text": [
      "shape: (5_791, 6)\n",
      "┌─────────┬─────────┬─────────────┬───────────────┬─────────┬─────────────────────┐\n",
      "│ field_0 ┆ field_1 ┆ field_2     ┆ field_3       ┆ field_4 ┆ field_5             │\n",
      "│ ---     ┆ ---     ┆ ---         ┆ ---           ┆ ---     ┆ ---                 │\n",
      "│ str     ┆ str     ┆ str         ┆ str           ┆ str     ┆ str                 │\n",
      "╞═════════╪═════════╪═════════════╪═══════════════╪═════════╪═════════════════════╡\n",
      "│ https:  ┆         ┆ twitter.com ┆ __mharrison__ ┆ status  ┆ 1212580517905780737 │\n",
      "│ https:  ┆         ┆ twitter.com ┆ __mharrison__ ┆ status  ┆ 1212582494828036097 │\n",
      "│ https:  ┆         ┆ twitter.com ┆ __mharrison__ ┆ status  ┆ 1212613735698690049 │\n",
      "│ https:  ┆         ┆ twitter.com ┆ __mharrison__ ┆ status  ┆ 1212911749617242113 │\n",
      "│ https:  ┆         ┆ twitter.com ┆ __mharrison__ ┆ status  ┆ 1212920556028252160 │\n",
      "│ …       ┆ …       ┆ …           ┆ …             ┆ …       ┆ …                   │\n",
      "│ https:  ┆         ┆ twitter.com ┆ __mharrison__ ┆ status  ┆ 1475300661851934721 │\n",
      "│ https:  ┆         ┆ twitter.com ┆ __mharrison__ ┆ status  ┆ 1475518143690801156 │\n",
      "│ https:  ┆         ┆ twitter.com ┆ __mharrison__ ┆ status  ┆ 1475891441243025408 │\n",
      "│ https:  ┆         ┆ twitter.com ┆ __mharrison__ ┆ status  ┆ 1476453819751878656 │\n",
      "│ https:  ┆         ┆ twitter.com ┆ __mharrison__ ┆ status  ┆ 1477024722051158018 │\n",
      "└─────────┴─────────┴─────────────┴───────────────┴─────────┴─────────────────────┘\n"
     ]
    }
   ],
   "source": [
    "# Converting `struct` into columns with `.unnest`\n",
    "print(twit\n",
    "      .select(col.str.split('/')\n",
    "             .list.to_struct())\n",
    "      .unnest('Tweet permalink')\n",
    "     )"
   ]
  },
  {
   "cell_type": "code",
   "execution_count": 20,
   "id": "bfd39eaa-69a0-47df-831d-5dd66e0f0e0e",
   "metadata": {},
   "outputs": [
    {
     "name": "stdout",
     "output_type": "stream",
     "text": [
      "shape: (5_791,)\n",
      "Series: '' [struct[6]]\n",
      "[\n",
      "\t{\"https:\",\"\",\"twitter.com\",\"__mharrison__\",\"status\",\"1212580517905780737\"}\n",
      "\t{\"https:\",\"\",\"twitter.com\",\"__mharrison__\",\"status\",\"1212582494828036097\"}\n",
      "\t{\"https:\",\"\",\"twitter.com\",\"__mharrison__\",\"status\",\"1212613735698690049\"}\n",
      "\t{\"https:\",\"\",\"twitter.com\",\"__mharrison__\",\"status\",\"1212911749617242113\"}\n",
      "\t{\"https:\",\"\",\"twitter.com\",\"__mharrison__\",\"status\",\"1212920556028252160\"}\n",
      "\t…\n",
      "\t{\"https:\",\"\",\"twitter.com\",\"__mharrison__\",\"status\",\"1475300661851934721\"}\n",
      "\t{\"https:\",\"\",\"twitter.com\",\"__mharrison__\",\"status\",\"1475518143690801156\"}\n",
      "\t{\"https:\",\"\",\"twitter.com\",\"__mharrison__\",\"status\",\"1475891441243025408\"}\n",
      "\t{\"https:\",\"\",\"twitter.com\",\"__mharrison__\",\"status\",\"1476453819751878656\"}\n",
      "\t{\"https:\",\"\",\"twitter.com\",\"__mharrison__\",\"status\",\"1477024722051158018\"}\n",
      "]\n"
     ]
    }
   ],
   "source": [
    "print(twit\n",
    "      .select(col.str.split('/')\n",
    "              .list.to_struct())\n",
    "      .unnest('Tweet permalink')\n",
    "      .to_struct()\n",
    "     )"
   ]
  },
  {
   "cell_type": "code",
   "execution_count": 21,
   "id": "b778c3ce-4f15-4c8e-9999-2b868d81b6fb",
   "metadata": {},
   "outputs": [
    {
     "name": "stdout",
     "output_type": "stream",
     "text": [
      "shape: (5_791, 1)\n",
      "┌─────────────────────────────────┐\n",
      "│ Tweet permalink                 │\n",
      "│ ---                             │\n",
      "│ str                             │\n",
      "╞═════════════════════════════════╡\n",
      "│ https://twitter.com/__mharriso… │\n",
      "│ https://twitter.com/__mharriso… │\n",
      "│ https://twitter.com/__mharriso… │\n",
      "│ https://twitter.com/__mharriso… │\n",
      "│ https://twitter.com/__mharriso… │\n",
      "│ …                               │\n",
      "│ https://twitter.com/__mharriso… │\n",
      "│ https://twitter.com/__mharriso… │\n",
      "│ https://twitter.com/__mharriso… │\n",
      "│ https://twitter.com/__mharriso… │\n",
      "│ https://twitter.com/__mharriso… │\n",
      "└─────────────────────────────────┘\n"
     ]
    }
   ],
   "source": [
    "print(twit\n",
    "      .select(col.str.split('/')\n",
    "              .list.join('/')\n",
    "             )\n",
    "     )"
   ]
  },
  {
   "cell_type": "code",
   "execution_count": 22,
   "id": "3d6e42b1-a4dc-410c-a884-91b97f11f6a7",
   "metadata": {},
   "outputs": [
    {
     "name": "stdout",
     "output_type": "stream",
     "text": [
      "shape: (5_791, 1)\n",
      "┌─────────────────────────────────┐\n",
      "│ Tweet permalink                 │\n",
      "│ ---                             │\n",
      "│ list[str]                       │\n",
      "╞═════════════════════════════════╡\n",
      "│ [\"field_0\", \"field_1\", … \"fiel… │\n",
      "│ [\"field_0\", \"field_1\", … \"fiel… │\n",
      "│ [\"field_0\", \"field_1\", … \"fiel… │\n",
      "│ [\"field_0\", \"field_1\", … \"fiel… │\n",
      "│ [\"field_0\", \"field_1\", … \"fiel… │\n",
      "│ …                               │\n",
      "│ [\"field_0\", \"field_1\", … \"fiel… │\n",
      "│ [\"field_0\", \"field_1\", … \"fiel… │\n",
      "│ [\"field_0\", \"field_1\", … \"fiel… │\n",
      "│ [\"field_0\", \"field_1\", … \"fiel… │\n",
      "│ [\"field_0\", \"field_1\", … \"fiel… │\n",
      "└─────────────────────────────────┘\n"
     ]
    },
    {
     "name": "stderr",
     "output_type": "stream",
     "text": [
      "/var/folders/dk/f9pbhbp52qxc0613mpbtx8lm0000gn/T/ipykernel_82439/1310825524.py:4: MapWithoutReturnDtypeWarning: Calling `map_elements` without specifying `return_dtype` can lead to unpredictable results. Specify `return_dtype` to silence this warning.\n",
      "  .select(pl.all().map_elements(lambda elem: list(elem)))\n"
     ]
    }
   ],
   "source": [
    "print(twit\n",
    "      .select(col.str.split('/')\n",
    "              .list.to_struct())\n",
    "      .select(pl.all().map_elements(lambda elem: list(elem)))          \n",
    "     )"
   ]
  },
  {
   "cell_type": "code",
   "execution_count": 23,
   "id": "5b448457-1979-4352-9546-2f9bd8d2e36c",
   "metadata": {},
   "outputs": [
    {
     "name": "stdout",
     "output_type": "stream",
     "text": [
      "shape: (5_791, 12)\n",
      "┌────────────┬────────────┬────────────┬────────────┬───┬─────────┬───────┬────────────┬───────────┐\n",
      "│ Tweet id   ┆ Tweet      ┆ Tweet text ┆ time       ┆ … ┆ replies ┆ likes ┆ user       ┆ username  │\n",
      "│ ---        ┆ permalink  ┆ ---        ┆ ---        ┆   ┆ ---     ┆ ---   ┆ profile    ┆ ---       │\n",
      "│ i64        ┆ ---        ┆ str        ┆ str        ┆   ┆ f64     ┆ f64   ┆ clicks     ┆ str       │\n",
      "│            ┆ str        ┆            ┆            ┆   ┆         ┆       ┆ ---        ┆           │\n",
      "│            ┆            ┆            ┆            ┆   ┆         ┆       ┆ f64        ┆           │\n",
      "╞════════════╪════════════╪════════════╪════════════╪═══╪═════════╪═══════╪════════════╪═══════════╡\n",
      "│ 1212580517 ┆ https://tw ┆ Sounds     ┆ 2020-01-02 ┆ … ┆ 0.0     ┆ 3.0   ┆ 3.0        ┆ __mharris │\n",
      "│ 905780737  ┆ itter.com/ ┆ like a     ┆ 03:44:00+0 ┆   ┆         ┆       ┆            ┆ on__      │\n",
      "│            ┆ __mharriso ┆ great      ┆ 0:00       ┆   ┆         ┆       ┆            ┆           │\n",
      "│            ┆ …          ┆ topic!     ┆            ┆   ┆         ┆       ┆            ┆           │\n",
      "│            ┆            ┆ htt…       ┆            ┆   ┆         ┆       ┆            ┆           │\n",
      "│ 1212582494 ┆ https://tw ┆ @FogleBird ┆ 2020-01-02 ┆ … ┆ 0.0     ┆ 1.0   ┆ 1.0        ┆ __mharris │\n",
      "│ 828036097  ┆ itter.com/ ┆ Looks like ┆ 03:52:00+0 ┆   ┆         ┆       ┆            ┆ on__      │\n",
      "│            ┆ __mharriso ┆ SLC. I c…  ┆ 0:00       ┆   ┆         ┆       ┆            ┆           │\n",
      "│            ┆ …          ┆            ┆            ┆   ┆         ┆       ┆            ┆           │\n",
      "│ 1212613735 ┆ https://tw ┆ @afilina   ┆ 2020-01-02 ┆ … ┆ 0.0     ┆ 1.0   ┆ 2.0        ┆ __mharris │\n",
      "│ 698690049  ┆ itter.com/ ┆ That's     ┆ 05:56:00+0 ┆   ┆         ┆       ┆            ┆ on__      │\n",
      "│            ┆ __mharriso ┆ really     ┆ 0:00       ┆   ┆         ┆       ┆            ┆           │\n",
      "│            ┆ …          ┆ amount …   ┆            ┆   ┆         ┆       ┆            ┆           │\n",
      "│ 1212911749 ┆ https://tw ┆ @randal_ol ┆ 2020-01-03 ┆ … ┆ 1.0     ┆ 5.0   ┆ 7.0        ┆ __mharris │\n",
      "│ 617242113  ┆ itter.com/ ┆ son I use  ┆ 01:41:00+0 ┆   ┆         ┆       ┆            ┆ on__      │\n",
      "│            ┆ __mharriso ┆ anaconda   ┆ 0:00       ┆   ┆         ┆       ┆            ┆           │\n",
      "│            ┆ …          ┆ w…         ┆            ┆   ┆         ┆       ┆            ┆           │\n",
      "│ 1212920556 ┆ https://tw ┆ @AlSweigar ┆ 2020-01-03 ┆ … ┆ 0.0     ┆ 1.0   ┆ 0.0        ┆ __mharris │\n",
      "│ 028252160  ┆ itter.com/ ┆ t          ┆ 02:16:00+0 ┆   ┆         ┆       ┆            ┆ on__      │\n",
      "│            ┆ __mharriso ┆ Sometimes  ┆ 0:00       ┆   ┆         ┆       ┆            ┆           │\n",
      "│            ┆ …          ┆ the stud…  ┆            ┆   ┆         ┆       ┆            ┆           │\n",
      "│ …          ┆ …          ┆ …          ┆ …          ┆ … ┆ …       ┆ …     ┆ …          ┆ …         │\n",
      "│ 1475300661 ┆ https://tw ┆ @allison_h ┆ 2021-12-27 ┆ … ┆ 0.0     ┆ 0.0   ┆ 0.0        ┆ __mharris │\n",
      "│ 851934721  ┆ itter.com/ ┆ orst       ┆ 03:01:00+0 ┆   ┆         ┆       ┆            ┆ on__      │\n",
      "│            ┆ __mharriso ┆ That's     ┆ 0:00       ┆   ┆         ┆       ┆            ┆           │\n",
      "│            ┆ …          ┆ awesome!   ┆            ┆   ┆         ┆       ┆            ┆           │\n",
      "│ 1475518143 ┆ https://tw ┆ @willmcgug ┆ 2021-12-27 ┆ … ┆ 0.0     ┆ 3.0   ┆ 1.0        ┆ __mharris │\n",
      "│ 690801156  ┆ itter.com/ ┆ an You     ┆ 17:25:00+0 ┆   ┆         ┆       ┆            ┆ on__      │\n",
      "│            ┆ __mharriso ┆ need to    ┆ 0:00       ┆   ┆         ┆       ┆            ┆           │\n",
      "│            ┆ …          ┆ find …     ┆            ┆   ┆         ┆       ┆            ┆           │\n",
      "│ 1475891441 ┆ https://tw ┆ @posco     ┆ 2021-12-28 ┆ … ┆ 0.0     ┆ 4.0   ┆ 4.0        ┆ __mharris │\n",
      "│ 243025408  ┆ itter.com/ ┆ Visiting   ┆ 18:08:00+0 ┆   ┆         ┆       ┆            ┆ on__      │\n",
      "│            ┆ __mharriso ┆ Hawaii for ┆ 0:00       ┆   ┆         ┆       ┆            ┆           │\n",
      "│            ┆ …          ┆ the…       ┆            ┆   ┆         ┆       ┆            ┆           │\n",
      "│ 1476453819 ┆ https://tw ┆ @johndsaun ┆ 2021-12-30 ┆ … ┆ 0.0     ┆ 2.0   ┆ 4.0        ┆ __mharris │\n",
      "│ 751878656  ┆ itter.com/ ┆ ders My    ┆ 07:23:00+0 ┆   ┆         ┆       ┆            ┆ on__      │\n",
      "│            ┆ __mharriso ┆ son just   ┆ 0:00       ┆   ┆         ┆       ┆            ┆           │\n",
      "│            ┆ …          ┆ bui…       ┆            ┆   ┆         ┆       ┆            ┆           │\n",
      "│ 1477024722 ┆ https://tw ┆ @tunguz    ┆ 2021-12-31 ┆ … ┆ 3.0     ┆ 23.0  ┆ 8.0        ┆ __mharris │\n",
      "│ 051158018  ┆ itter.com/ ┆ Xgboost    ┆ 21:11:00+0 ┆   ┆         ┆       ┆            ┆ on__      │\n",
      "│            ┆ __mharriso ┆            ┆ 0:00       ┆   ┆         ┆       ┆            ┆           │\n",
      "│            ┆ …          ┆            ┆            ┆   ┆         ┆       ┆            ┆           │\n",
      "└────────────┴────────────┴────────────┴────────────┴───┴─────────┴───────┴────────────┴───────────┘\n"
     ]
    }
   ],
   "source": [
    "print(twit\n",
    "      .with_columns(username=col.str.split('/')\n",
    "                    .list.get(3))\n",
    "     )"
   ]
  },
  {
   "cell_type": "code",
   "execution_count": 24,
   "id": "89ece7c5-ca49-4e1e-907b-893cf0866404",
   "metadata": {},
   "outputs": [
    {
     "name": "stdout",
     "output_type": "stream",
     "text": [
      "shape: (5_791, 12)\n",
      "┌────────────┬────────────┬────────────┬────────────┬───┬─────────┬───────┬────────────┬───────────┐\n",
      "│ Tweet id   ┆ Tweet      ┆ Tweet text ┆ time       ┆ … ┆ replies ┆ likes ┆ user       ┆ username  │\n",
      "│ ---        ┆ permalink  ┆ ---        ┆ ---        ┆   ┆ ---     ┆ ---   ┆ profile    ┆ ---       │\n",
      "│ i64        ┆ ---        ┆ str        ┆ str        ┆   ┆ f64     ┆ f64   ┆ clicks     ┆ str       │\n",
      "│            ┆ str        ┆            ┆            ┆   ┆         ┆       ┆ ---        ┆           │\n",
      "│            ┆            ┆            ┆            ┆   ┆         ┆       ┆ f64        ┆           │\n",
      "╞════════════╪════════════╪════════════╪════════════╪═══╪═════════╪═══════╪════════════╪═══════════╡\n",
      "│ 1212580517 ┆ https://tw ┆ Sounds     ┆ 2020-01-02 ┆ … ┆ 0.0     ┆ 3.0   ┆ 3.0        ┆ __mharris │\n",
      "│ 905780737  ┆ itter.com/ ┆ like a     ┆ 03:44:00+0 ┆   ┆         ┆       ┆            ┆ on__      │\n",
      "│            ┆ __mharriso ┆ great      ┆ 0:00       ┆   ┆         ┆       ┆            ┆           │\n",
      "│            ┆ …          ┆ topic!     ┆            ┆   ┆         ┆       ┆            ┆           │\n",
      "│            ┆            ┆ htt…       ┆            ┆   ┆         ┆       ┆            ┆           │\n",
      "│ 1212582494 ┆ https://tw ┆ @FogleBird ┆ 2020-01-02 ┆ … ┆ 0.0     ┆ 1.0   ┆ 1.0        ┆ __mharris │\n",
      "│ 828036097  ┆ itter.com/ ┆ Looks like ┆ 03:52:00+0 ┆   ┆         ┆       ┆            ┆ on__      │\n",
      "│            ┆ __mharriso ┆ SLC. I c…  ┆ 0:00       ┆   ┆         ┆       ┆            ┆           │\n",
      "│            ┆ …          ┆            ┆            ┆   ┆         ┆       ┆            ┆           │\n",
      "│ 1212613735 ┆ https://tw ┆ @afilina   ┆ 2020-01-02 ┆ … ┆ 0.0     ┆ 1.0   ┆ 2.0        ┆ __mharris │\n",
      "│ 698690049  ┆ itter.com/ ┆ That's     ┆ 05:56:00+0 ┆   ┆         ┆       ┆            ┆ on__      │\n",
      "│            ┆ __mharriso ┆ really     ┆ 0:00       ┆   ┆         ┆       ┆            ┆           │\n",
      "│            ┆ …          ┆ amount …   ┆            ┆   ┆         ┆       ┆            ┆           │\n",
      "│ 1212911749 ┆ https://tw ┆ @randal_ol ┆ 2020-01-03 ┆ … ┆ 1.0     ┆ 5.0   ┆ 7.0        ┆ __mharris │\n",
      "│ 617242113  ┆ itter.com/ ┆ son I use  ┆ 01:41:00+0 ┆   ┆         ┆       ┆            ┆ on__      │\n",
      "│            ┆ __mharriso ┆ anaconda   ┆ 0:00       ┆   ┆         ┆       ┆            ┆           │\n",
      "│            ┆ …          ┆ w…         ┆            ┆   ┆         ┆       ┆            ┆           │\n",
      "│ 1212920556 ┆ https://tw ┆ @AlSweigar ┆ 2020-01-03 ┆ … ┆ 0.0     ┆ 1.0   ┆ 0.0        ┆ __mharris │\n",
      "│ 028252160  ┆ itter.com/ ┆ t          ┆ 02:16:00+0 ┆   ┆         ┆       ┆            ┆ on__      │\n",
      "│            ┆ __mharriso ┆ Sometimes  ┆ 0:00       ┆   ┆         ┆       ┆            ┆           │\n",
      "│            ┆ …          ┆ the stud…  ┆            ┆   ┆         ┆       ┆            ┆           │\n",
      "│ …          ┆ …          ┆ …          ┆ …          ┆ … ┆ …       ┆ …     ┆ …          ┆ …         │\n",
      "│ 1475300661 ┆ https://tw ┆ @allison_h ┆ 2021-12-27 ┆ … ┆ 0.0     ┆ 0.0   ┆ 0.0        ┆ __mharris │\n",
      "│ 851934721  ┆ itter.com/ ┆ orst       ┆ 03:01:00+0 ┆   ┆         ┆       ┆            ┆ on__      │\n",
      "│            ┆ __mharriso ┆ That's     ┆ 0:00       ┆   ┆         ┆       ┆            ┆           │\n",
      "│            ┆ …          ┆ awesome!   ┆            ┆   ┆         ┆       ┆            ┆           │\n",
      "│ 1475518143 ┆ https://tw ┆ @willmcgug ┆ 2021-12-27 ┆ … ┆ 0.0     ┆ 3.0   ┆ 1.0        ┆ __mharris │\n",
      "│ 690801156  ┆ itter.com/ ┆ an You     ┆ 17:25:00+0 ┆   ┆         ┆       ┆            ┆ on__      │\n",
      "│            ┆ __mharriso ┆ need to    ┆ 0:00       ┆   ┆         ┆       ┆            ┆           │\n",
      "│            ┆ …          ┆ find …     ┆            ┆   ┆         ┆       ┆            ┆           │\n",
      "│ 1475891441 ┆ https://tw ┆ @posco     ┆ 2021-12-28 ┆ … ┆ 0.0     ┆ 4.0   ┆ 4.0        ┆ __mharris │\n",
      "│ 243025408  ┆ itter.com/ ┆ Visiting   ┆ 18:08:00+0 ┆   ┆         ┆       ┆            ┆ on__      │\n",
      "│            ┆ __mharriso ┆ Hawaii for ┆ 0:00       ┆   ┆         ┆       ┆            ┆           │\n",
      "│            ┆ …          ┆ the…       ┆            ┆   ┆         ┆       ┆            ┆           │\n",
      "│ 1476453819 ┆ https://tw ┆ @johndsaun ┆ 2021-12-30 ┆ … ┆ 0.0     ┆ 2.0   ┆ 4.0        ┆ __mharris │\n",
      "│ 751878656  ┆ itter.com/ ┆ ders My    ┆ 07:23:00+0 ┆   ┆         ┆       ┆            ┆ on__      │\n",
      "│            ┆ __mharriso ┆ son just   ┆ 0:00       ┆   ┆         ┆       ┆            ┆           │\n",
      "│            ┆ …          ┆ bui…       ┆            ┆   ┆         ┆       ┆            ┆           │\n",
      "│ 1477024722 ┆ https://tw ┆ @tunguz    ┆ 2021-12-31 ┆ … ┆ 3.0     ┆ 23.0  ┆ 8.0        ┆ __mharris │\n",
      "│ 051158018  ┆ itter.com/ ┆ Xgboost    ┆ 21:11:00+0 ┆   ┆         ┆       ┆            ┆ on__      │\n",
      "│            ┆ __mharriso ┆            ┆ 0:00       ┆   ┆         ┆       ┆            ┆           │\n",
      "│            ┆ …          ┆            ┆            ┆   ┆         ┆       ┆            ┆           │\n",
      "└────────────┴────────────┴────────────┴────────────┴───┴─────────┴───────┴────────────┴───────────┘\n"
     ]
    }
   ],
   "source": [
    "print(twit\n",
    "      .with_columns(username=col.str.split('/')\n",
    "                    .list[3])\n",
    "     )"
   ]
  },
  {
   "cell_type": "markdown",
   "id": "289829bf-bab4-43ea-91a4-3869f508b77e",
   "metadata": {},
   "source": [
    "### Extract The Username with a Regular Expression"
   ]
  },
  {
   "cell_type": "code",
   "execution_count": 25,
   "id": "ec394575-d0c0-4c4b-bfe9-a1f18b32f352",
   "metadata": {},
   "outputs": [],
   "source": [
    "regex = r'^https:\\/\\/twitter\\.com\\/([a-zA-Z0-9_]+)\\/status\\/(\\d+)$'"
   ]
  },
  {
   "cell_type": "code",
   "execution_count": 26,
   "id": "85a3bdf0-5d06-4560-b1d8-e1f530a3c05c",
   "metadata": {},
   "outputs": [
    {
     "name": "stdout",
     "output_type": "stream",
     "text": [
      "shape: (5_791, 1)\n",
      "┌───────────────┐\n",
      "│ user          │\n",
      "│ ---           │\n",
      "│ str           │\n",
      "╞═══════════════╡\n",
      "│ __mharrison__ │\n",
      "│ __mharrison__ │\n",
      "│ __mharrison__ │\n",
      "│ __mharrison__ │\n",
      "│ __mharrison__ │\n",
      "│ …             │\n",
      "│ __mharrison__ │\n",
      "│ __mharrison__ │\n",
      "│ __mharrison__ │\n",
      "│ __mharrison__ │\n",
      "│ __mharrison__ │\n",
      "└───────────────┘\n"
     ]
    }
   ],
   "source": [
    "print(twit\n",
    "      .select(user=col.str.extract(regex, group_index=1))\n",
    "     )"
   ]
  },
  {
   "cell_type": "markdown",
   "id": "3398c2fd-75d8-41a5-90c9-c1a97ff8d2b5",
   "metadata": {},
   "source": [
    "### Counting Words & Mentions"
   ]
  },
  {
   "cell_type": "code",
   "execution_count": 27,
   "id": "cc977323-ea91-4051-ad4e-bd91d692ab98",
   "metadata": {},
   "outputs": [],
   "source": [
    "tweet_col = pl.col('Tweet text')"
   ]
  },
  {
   "cell_type": "code",
   "execution_count": 28,
   "id": "7cadbd50-36c7-4ca7-b608-6a224d8400e9",
   "metadata": {},
   "outputs": [
    {
     "name": "stdout",
     "output_type": "stream",
     "text": [
      "shape: (5_791, 1)\n",
      "┌─────────────────────────────────┐\n",
      "│ Tweet text                      │\n",
      "│ ---                             │\n",
      "│ list[str]                       │\n",
      "╞═════════════════════════════════╡\n",
      "│ [\"Sounds\", \"like\", … \"https://… │\n",
      "│ [\"@FogleBird\", \"Looks\", … \"🏠\"] │\n",
      "│ [\"@afilina\", \"That's\", … \"🤔\"]  │\n",
      "│ [\"@randal_olson\", \"I\", … \"🐍\"]  │\n",
      "│ [\"@AlSweigart\", \"Sometimes\", …… │\n",
      "│ …                               │\n",
      "│ [\"@allison_horst\", \"That's\", \"… │\n",
      "│ [\"@willmcgugan\", \"You\", … \"scr… │\n",
      "│ [\"@posco\", \"Visiting\", …        │\n",
      "│ \"🌴😉\"]                         │\n",
      "│ [\"@johndsaunders\", \"My\", … \"th… │\n",
      "│ [\"@tunguz\", \"Xgboost\"]          │\n",
      "└─────────────────────────────────┘\n"
     ]
    }
   ],
   "source": [
    "print(twit\n",
    "      .select(tweet_col.str.split(' '))\n",
    "     )"
   ]
  },
  {
   "cell_type": "code",
   "execution_count": 29,
   "id": "ec4cc058-a735-4aeb-b6e8-d724326a14d1",
   "metadata": {},
   "outputs": [
    {
     "name": "stdout",
     "output_type": "stream",
     "text": [
      "shape: (5_791, 1)\n",
      "┌────────────┐\n",
      "│ Tweet text │\n",
      "│ ---        │\n",
      "│ u32        │\n",
      "╞════════════╡\n",
      "│ 6          │\n",
      "│ 9          │\n",
      "│ 33         │\n",
      "│ 28         │\n",
      "│ 18         │\n",
      "│ …          │\n",
      "│ 3          │\n",
      "│ 24         │\n",
      "│ 35         │\n",
      "│ 6          │\n",
      "│ 2          │\n",
      "└────────────┘\n"
     ]
    }
   ],
   "source": [
    "print(twit\n",
    "      .select(tweet_col.str.split(' ').list.len())\n",
    "     )"
   ]
  },
  {
   "cell_type": "code",
   "execution_count": 30,
   "id": "0ee2d3a9-20ac-479f-8d51-ea70941f56e4",
   "metadata": {},
   "outputs": [
    {
     "name": "stdout",
     "output_type": "stream",
     "text": [
      "shape: (5_791, 12)\n",
      "┌────────────┬────────────┬────────────┬────────────┬───┬─────────┬───────┬────────────┬───────────┐\n",
      "│ Tweet id   ┆ Tweet      ┆ Tweet text ┆ time       ┆ … ┆ replies ┆ likes ┆ user       ┆ word_coun │\n",
      "│ ---        ┆ permalink  ┆ ---        ┆ ---        ┆   ┆ ---     ┆ ---   ┆ profile    ┆ t         │\n",
      "│ i64        ┆ ---        ┆ str        ┆ str        ┆   ┆ f64     ┆ f64   ┆ clicks     ┆ ---       │\n",
      "│            ┆ str        ┆            ┆            ┆   ┆         ┆       ┆ ---        ┆ u32       │\n",
      "│            ┆            ┆            ┆            ┆   ┆         ┆       ┆ f64        ┆           │\n",
      "╞════════════╪════════════╪════════════╪════════════╪═══╪═════════╪═══════╪════════════╪═══════════╡\n",
      "│ 1212580517 ┆ https://tw ┆ Sounds     ┆ 2020-01-02 ┆ … ┆ 0.0     ┆ 3.0   ┆ 3.0        ┆ 6         │\n",
      "│ 905780737  ┆ itter.com/ ┆ like a     ┆ 03:44:00+0 ┆   ┆         ┆       ┆            ┆           │\n",
      "│            ┆ __mharriso ┆ great      ┆ 0:00       ┆   ┆         ┆       ┆            ┆           │\n",
      "│            ┆ …          ┆ topic!     ┆            ┆   ┆         ┆       ┆            ┆           │\n",
      "│            ┆            ┆ htt…       ┆            ┆   ┆         ┆       ┆            ┆           │\n",
      "│ 1212582494 ┆ https://tw ┆ @FogleBird ┆ 2020-01-02 ┆ … ┆ 0.0     ┆ 1.0   ┆ 1.0        ┆ 9         │\n",
      "│ 828036097  ┆ itter.com/ ┆ Looks like ┆ 03:52:00+0 ┆   ┆         ┆       ┆            ┆           │\n",
      "│            ┆ __mharriso ┆ SLC. I c…  ┆ 0:00       ┆   ┆         ┆       ┆            ┆           │\n",
      "│            ┆ …          ┆            ┆            ┆   ┆         ┆       ┆            ┆           │\n",
      "│ 1212613735 ┆ https://tw ┆ @afilina   ┆ 2020-01-02 ┆ … ┆ 0.0     ┆ 1.0   ┆ 2.0        ┆ 33        │\n",
      "│ 698690049  ┆ itter.com/ ┆ That's     ┆ 05:56:00+0 ┆   ┆         ┆       ┆            ┆           │\n",
      "│            ┆ __mharriso ┆ really     ┆ 0:00       ┆   ┆         ┆       ┆            ┆           │\n",
      "│            ┆ …          ┆ amount …   ┆            ┆   ┆         ┆       ┆            ┆           │\n",
      "│ 1212911749 ┆ https://tw ┆ @randal_ol ┆ 2020-01-03 ┆ … ┆ 1.0     ┆ 5.0   ┆ 7.0        ┆ 28        │\n",
      "│ 617242113  ┆ itter.com/ ┆ son I use  ┆ 01:41:00+0 ┆   ┆         ┆       ┆            ┆           │\n",
      "│            ┆ __mharriso ┆ anaconda   ┆ 0:00       ┆   ┆         ┆       ┆            ┆           │\n",
      "│            ┆ …          ┆ w…         ┆            ┆   ┆         ┆       ┆            ┆           │\n",
      "│ 1212920556 ┆ https://tw ┆ @AlSweigar ┆ 2020-01-03 ┆ … ┆ 0.0     ┆ 1.0   ┆ 0.0        ┆ 18        │\n",
      "│ 028252160  ┆ itter.com/ ┆ t          ┆ 02:16:00+0 ┆   ┆         ┆       ┆            ┆           │\n",
      "│            ┆ __mharriso ┆ Sometimes  ┆ 0:00       ┆   ┆         ┆       ┆            ┆           │\n",
      "│            ┆ …          ┆ the stud…  ┆            ┆   ┆         ┆       ┆            ┆           │\n",
      "│ …          ┆ …          ┆ …          ┆ …          ┆ … ┆ …       ┆ …     ┆ …          ┆ …         │\n",
      "│ 1475300661 ┆ https://tw ┆ @allison_h ┆ 2021-12-27 ┆ … ┆ 0.0     ┆ 0.0   ┆ 0.0        ┆ 3         │\n",
      "│ 851934721  ┆ itter.com/ ┆ orst       ┆ 03:01:00+0 ┆   ┆         ┆       ┆            ┆           │\n",
      "│            ┆ __mharriso ┆ That's     ┆ 0:00       ┆   ┆         ┆       ┆            ┆           │\n",
      "│            ┆ …          ┆ awesome!   ┆            ┆   ┆         ┆       ┆            ┆           │\n",
      "│ 1475518143 ┆ https://tw ┆ @willmcgug ┆ 2021-12-27 ┆ … ┆ 0.0     ┆ 3.0   ┆ 1.0        ┆ 24        │\n",
      "│ 690801156  ┆ itter.com/ ┆ an You     ┆ 17:25:00+0 ┆   ┆         ┆       ┆            ┆           │\n",
      "│            ┆ __mharriso ┆ need to    ┆ 0:00       ┆   ┆         ┆       ┆            ┆           │\n",
      "│            ┆ …          ┆ find …     ┆            ┆   ┆         ┆       ┆            ┆           │\n",
      "│ 1475891441 ┆ https://tw ┆ @posco     ┆ 2021-12-28 ┆ … ┆ 0.0     ┆ 4.0   ┆ 4.0        ┆ 35        │\n",
      "│ 243025408  ┆ itter.com/ ┆ Visiting   ┆ 18:08:00+0 ┆   ┆         ┆       ┆            ┆           │\n",
      "│            ┆ __mharriso ┆ Hawaii for ┆ 0:00       ┆   ┆         ┆       ┆            ┆           │\n",
      "│            ┆ …          ┆ the…       ┆            ┆   ┆         ┆       ┆            ┆           │\n",
      "│ 1476453819 ┆ https://tw ┆ @johndsaun ┆ 2021-12-30 ┆ … ┆ 0.0     ┆ 2.0   ┆ 4.0        ┆ 6         │\n",
      "│ 751878656  ┆ itter.com/ ┆ ders My    ┆ 07:23:00+0 ┆   ┆         ┆       ┆            ┆           │\n",
      "│            ┆ __mharriso ┆ son just   ┆ 0:00       ┆   ┆         ┆       ┆            ┆           │\n",
      "│            ┆ …          ┆ bui…       ┆            ┆   ┆         ┆       ┆            ┆           │\n",
      "│ 1477024722 ┆ https://tw ┆ @tunguz    ┆ 2021-12-31 ┆ … ┆ 3.0     ┆ 23.0  ┆ 8.0        ┆ 2         │\n",
      "│ 051158018  ┆ itter.com/ ┆ Xgboost    ┆ 21:11:00+0 ┆   ┆         ┆       ┆            ┆           │\n",
      "│            ┆ __mharriso ┆            ┆ 0:00       ┆   ┆         ┆       ┆            ┆           │\n",
      "│            ┆ …          ┆            ┆            ┆   ┆         ┆       ┆            ┆           │\n",
      "└────────────┴────────────┴────────────┴────────────┴───┴─────────┴───────┴────────────┴───────────┘\n"
     ]
    }
   ],
   "source": [
    "print(twit\n",
    "      .with_columns(word_count=tweet_col.str.split(' ').list.len())\n",
    "     )"
   ]
  },
  {
   "cell_type": "code",
   "execution_count": 31,
   "id": "284a6a2d-3b0c-4d76-9ed7-62de36f53f53",
   "metadata": {},
   "outputs": [
    {
     "name": "stdout",
     "output_type": "stream",
     "text": [
      "shape: (5_791, 1)\n",
      "┌─────────────────────────┐\n",
      "│ Tweet text              │\n",
      "│ ---                     │\n",
      "│ list[bool]              │\n",
      "╞═════════════════════════╡\n",
      "│ [false, false, … false] │\n",
      "│ [true, false, … false]  │\n",
      "│ [true, false, … false]  │\n",
      "│ [false, false, … false] │\n",
      "│ [true, false, … false]  │\n",
      "│ …                       │\n",
      "│ [false, false, false]   │\n",
      "│ [true, false, … false]  │\n",
      "│ [true, false, … false]  │\n",
      "│ [false, false, … false] │\n",
      "│ [true, false]           │\n",
      "└─────────────────────────┘\n"
     ]
    }
   ],
   "source": [
    "print(twit\n",
    "      .select(tweet_col.str.split(' ').list.eval(\n",
    "          pl.element().str.starts_with('@')))\n",
    "     )"
   ]
  },
  {
   "cell_type": "code",
   "execution_count": 32,
   "id": "ff2c4586-b081-46ce-81dd-2061561226c1",
   "metadata": {},
   "outputs": [
    {
     "name": "stdout",
     "output_type": "stream",
     "text": [
      "shape: (5_791, 1)\n",
      "┌────────────┐\n",
      "│ Tweet text │\n",
      "│ ---        │\n",
      "│ u32        │\n",
      "╞════════════╡\n",
      "│ 0          │\n",
      "│ 1          │\n",
      "│ 1          │\n",
      "│ 0          │\n",
      "│ 1          │\n",
      "│ …          │\n",
      "│ 0          │\n",
      "│ 1          │\n",
      "│ 1          │\n",
      "│ 0          │\n",
      "│ 1          │\n",
      "└────────────┘\n"
     ]
    }
   ],
   "source": [
    "print(twit\n",
    "      .select(tweet_col.str.split(' ')\n",
    "              .list.eval(pl.element().str.starts_with('@'))\n",
    "              .list.sum())\n",
    "     )"
   ]
  },
  {
   "cell_type": "code",
   "execution_count": 33,
   "id": "0d7f80a3-ece0-4526-bac8-caf4ddec057c",
   "metadata": {},
   "outputs": [
    {
     "name": "stdout",
     "output_type": "stream",
     "text": [
      "shape: (5_791, 13)\n",
      "┌────────────┬────────────┬────────────┬───────────┬───┬───────┬───────────┬───────────┬───────────┐\n",
      "│ Tweet id   ┆ Tweet      ┆ Tweet text ┆ time      ┆ … ┆ likes ┆ user      ┆ word_coun ┆ num_menti │\n",
      "│ ---        ┆ permalink  ┆ ---        ┆ ---       ┆   ┆ ---   ┆ profile   ┆ t         ┆ ons       │\n",
      "│ i64        ┆ ---        ┆ str        ┆ str       ┆   ┆ f64   ┆ clicks    ┆ ---       ┆ ---       │\n",
      "│            ┆ str        ┆            ┆           ┆   ┆       ┆ ---       ┆ u32       ┆ u32       │\n",
      "│            ┆            ┆            ┆           ┆   ┆       ┆ f64       ┆           ┆           │\n",
      "╞════════════╪════════════╪════════════╪═══════════╪═══╪═══════╪═══════════╪═══════════╪═══════════╡\n",
      "│ 1212580517 ┆ https://tw ┆ Sounds     ┆ 2020-01-0 ┆ … ┆ 3.0   ┆ 3.0       ┆ 6         ┆ 0         │\n",
      "│ 905780737  ┆ itter.com/ ┆ like a     ┆ 2 03:44:0 ┆   ┆       ┆           ┆           ┆           │\n",
      "│            ┆ __mharriso ┆ great      ┆ 0+00:00   ┆   ┆       ┆           ┆           ┆           │\n",
      "│            ┆ …          ┆ topic!     ┆           ┆   ┆       ┆           ┆           ┆           │\n",
      "│            ┆            ┆ htt…       ┆           ┆   ┆       ┆           ┆           ┆           │\n",
      "│ 1212582494 ┆ https://tw ┆ @FogleBird ┆ 2020-01-0 ┆ … ┆ 1.0   ┆ 1.0       ┆ 9         ┆ 1         │\n",
      "│ 828036097  ┆ itter.com/ ┆ Looks like ┆ 2 03:52:0 ┆   ┆       ┆           ┆           ┆           │\n",
      "│            ┆ __mharriso ┆ SLC. I c…  ┆ 0+00:00   ┆   ┆       ┆           ┆           ┆           │\n",
      "│            ┆ …          ┆            ┆           ┆   ┆       ┆           ┆           ┆           │\n",
      "│ 1212613735 ┆ https://tw ┆ @afilina   ┆ 2020-01-0 ┆ … ┆ 1.0   ┆ 2.0       ┆ 33        ┆ 1         │\n",
      "│ 698690049  ┆ itter.com/ ┆ That's     ┆ 2 05:56:0 ┆   ┆       ┆           ┆           ┆           │\n",
      "│            ┆ __mharriso ┆ really     ┆ 0+00:00   ┆   ┆       ┆           ┆           ┆           │\n",
      "│            ┆ …          ┆ amount …   ┆           ┆   ┆       ┆           ┆           ┆           │\n",
      "│ 1212911749 ┆ https://tw ┆ @randal_ol ┆ 2020-01-0 ┆ … ┆ 5.0   ┆ 7.0       ┆ 28        ┆ 0         │\n",
      "│ 617242113  ┆ itter.com/ ┆ son I use  ┆ 3 01:41:0 ┆   ┆       ┆           ┆           ┆           │\n",
      "│            ┆ __mharriso ┆ anaconda   ┆ 0+00:00   ┆   ┆       ┆           ┆           ┆           │\n",
      "│            ┆ …          ┆ w…         ┆           ┆   ┆       ┆           ┆           ┆           │\n",
      "│ 1212920556 ┆ https://tw ┆ @AlSweigar ┆ 2020-01-0 ┆ … ┆ 1.0   ┆ 0.0       ┆ 18        ┆ 1         │\n",
      "│ 028252160  ┆ itter.com/ ┆ t          ┆ 3 02:16:0 ┆   ┆       ┆           ┆           ┆           │\n",
      "│            ┆ __mharriso ┆ Sometimes  ┆ 0+00:00   ┆   ┆       ┆           ┆           ┆           │\n",
      "│            ┆ …          ┆ the stud…  ┆           ┆   ┆       ┆           ┆           ┆           │\n",
      "│ …          ┆ …          ┆ …          ┆ …         ┆ … ┆ …     ┆ …         ┆ …         ┆ …         │\n",
      "│ 1475300661 ┆ https://tw ┆ @allison_h ┆ 2021-12-2 ┆ … ┆ 0.0   ┆ 0.0       ┆ 3         ┆ 0         │\n",
      "│ 851934721  ┆ itter.com/ ┆ orst       ┆ 7 03:01:0 ┆   ┆       ┆           ┆           ┆           │\n",
      "│            ┆ __mharriso ┆ That's     ┆ 0+00:00   ┆   ┆       ┆           ┆           ┆           │\n",
      "│            ┆ …          ┆ awesome!   ┆           ┆   ┆       ┆           ┆           ┆           │\n",
      "│ 1475518143 ┆ https://tw ┆ @willmcgug ┆ 2021-12-2 ┆ … ┆ 3.0   ┆ 1.0       ┆ 24        ┆ 1         │\n",
      "│ 690801156  ┆ itter.com/ ┆ an You     ┆ 7 17:25:0 ┆   ┆       ┆           ┆           ┆           │\n",
      "│            ┆ __mharriso ┆ need to    ┆ 0+00:00   ┆   ┆       ┆           ┆           ┆           │\n",
      "│            ┆ …          ┆ find …     ┆           ┆   ┆       ┆           ┆           ┆           │\n",
      "│ 1475891441 ┆ https://tw ┆ @posco     ┆ 2021-12-2 ┆ … ┆ 4.0   ┆ 4.0       ┆ 35        ┆ 1         │\n",
      "│ 243025408  ┆ itter.com/ ┆ Visiting   ┆ 8 18:08:0 ┆   ┆       ┆           ┆           ┆           │\n",
      "│            ┆ __mharriso ┆ Hawaii for ┆ 0+00:00   ┆   ┆       ┆           ┆           ┆           │\n",
      "│            ┆ …          ┆ the…       ┆           ┆   ┆       ┆           ┆           ┆           │\n",
      "│ 1476453819 ┆ https://tw ┆ @johndsaun ┆ 2021-12-3 ┆ … ┆ 2.0   ┆ 4.0       ┆ 6         ┆ 0         │\n",
      "│ 751878656  ┆ itter.com/ ┆ ders My    ┆ 0 07:23:0 ┆   ┆       ┆           ┆           ┆           │\n",
      "│            ┆ __mharriso ┆ son just   ┆ 0+00:00   ┆   ┆       ┆           ┆           ┆           │\n",
      "│            ┆ …          ┆ bui…       ┆           ┆   ┆       ┆           ┆           ┆           │\n",
      "│ 1477024722 ┆ https://tw ┆ @tunguz    ┆ 2021-12-3 ┆ … ┆ 23.0  ┆ 8.0       ┆ 2         ┆ 1         │\n",
      "│ 051158018  ┆ itter.com/ ┆ Xgboost    ┆ 1 21:11:0 ┆   ┆       ┆           ┆           ┆           │\n",
      "│            ┆ __mharriso ┆            ┆ 0+00:00   ┆   ┆       ┆           ┆           ┆           │\n",
      "│            ┆ …          ┆            ┆           ┆   ┆       ┆           ┆           ┆           │\n",
      "└────────────┴────────────┴────────────┴───────────┴───┴───────┴───────────┴───────────┴───────────┘\n"
     ]
    }
   ],
   "source": [
    "# Getting DataFrame with New Columns\n",
    "print(twit\n",
    "      .with_columns(word_count=tweet_col.str.split(' ').list.len(),\n",
    "                    num_mentions=tweet_col.str.split(' ')\n",
    "                    .list.eval(pl.element().str.starts_with('@'))\n",
    "                    .list.sum())\n",
    "     )"
   ]
  },
  {
   "cell_type": "markdown",
   "id": "3000bdb0-35b4-4fbe-a0a8-1622ad1a8482",
   "metadata": {},
   "source": [
    "### Checking for Emojis"
   ]
  },
  {
   "cell_type": "code",
   "execution_count": 35,
   "id": "d9fe5e8c-5ba5-40ca-8ed6-bee7b98306b4",
   "metadata": {},
   "outputs": [],
   "source": [
    "non_ascii = r'[^\\x00-\\x7F]'\n",
    "\n",
    "tweet_col = pl.col('Tweet text')"
   ]
  },
  {
   "cell_type": "code",
   "execution_count": 36,
   "id": "b262b16c-1078-4aaf-b9ab-2d9c857a0215",
   "metadata": {},
   "outputs": [
    {
     "name": "stdout",
     "output_type": "stream",
     "text": [
      "shape: (5_791, 2)\n",
      "┌─────────────────────────────────┬───────────┐\n",
      "│ Tweet text                      ┆ has_emoji │\n",
      "│ ---                             ┆ ---       │\n",
      "│ str                             ┆ bool      │\n",
      "╞═════════════════════════════════╪═══════════╡\n",
      "│ Sounds like a great topic! htt… ┆ false     │\n",
      "│ @FogleBird Looks like SLC. I c… ┆ true      │\n",
      "│ @afilina That's really amount … ┆ true      │\n",
      "│ @randal_olson I use anaconda w… ┆ true      │\n",
      "│ @AlSweigart Sometimes the stud… ┆ false     │\n",
      "│ …                               ┆ …         │\n",
      "│ @allison_horst That's awesome!  ┆ false     │\n",
      "│ @willmcgugan You need to find … ┆ false     │\n",
      "│ @posco Visiting Hawaii for the… ┆ true      │\n",
      "│ @johndsaunders My son just bui… ┆ false     │\n",
      "│ @tunguz Xgboost                 ┆ false     │\n",
      "└─────────────────────────────────┴───────────┘\n"
     ]
    }
   ],
   "source": [
    "print(twit\n",
    "      .select(tweet_col, has_emoji=tweet_col.str.contains(non_ascii))\n",
    "     )"
   ]
  },
  {
   "cell_type": "code",
   "execution_count": 38,
   "id": "09ccfd74-7143-4b9a-8038-1a90c3c72e4b",
   "metadata": {},
   "outputs": [
    {
     "name": "stdout",
     "output_type": "stream",
     "text": [
      "shape: (3, 3)\n",
      "┌─────────────┬───────────┬───────────┐\n",
      "│ engagements ┆ tweet_len ┆ has_emoji │\n",
      "│ ---         ┆ ---       ┆ ---       │\n",
      "│ f64         ┆ f64       ┆ f64       │\n",
      "╞═════════════╪═══════════╪═══════════╡\n",
      "│ 1.0         ┆ 0.057359  ┆ 0.037055  │\n",
      "│ 0.057359    ┆ 1.0       ┆ 0.045215  │\n",
      "│ 0.037055    ┆ 0.045215  ┆ 1.0       │\n",
      "└─────────────┴───────────┴───────────┘\n"
     ]
    }
   ],
   "source": [
    "# Looking for Correlations between Emojis and Engagement Number\n",
    "print(twit\n",
    "      .select('engagements',\n",
    "              tweet_len=tweet_col.str.split(' ').list.len(),\n",
    "              has_emoji=tweet_col.str.contains(non_ascii))\n",
    "      .corr()\n",
    "     )"
   ]
  },
  {
   "cell_type": "code",
   "execution_count": 40,
   "id": "7419f55a-5295-4fff-8f51-b2bc083ad4ec",
   "metadata": {},
   "outputs": [],
   "source": [
    "# Jitter Function()\n",
    "def jitter(col, amount=.5):\n",
    "    return col + np.random.uniform(-amount, amount, len(col))   "
   ]
  },
  {
   "cell_type": "code",
   "execution_count": 49,
   "id": "3868d2cd-2c49-4edd-a2db-c04214cb43c7",
   "metadata": {},
   "outputs": [],
   "source": [
    "# Scatterplotting Inference\n",
    "# (twit\n",
    "#  .select('engagements', \n",
    "#          has_emoji=tweet_col.str.contains(non_ascii).cast(pl.Int8))\n",
    "#  .pipe(lambda df: df.with_columns(jitter(df['has_emoji'], amount=.4)))\n",
    "#  .plot.scatter(x='engagements', y='has_emoji', alpha=.1)\n",
    "# )"
   ]
  },
  {
   "cell_type": "markdown",
   "id": "d75cc4d9-b46b-4a33-92f7-4343d0ec9f02",
   "metadata": {},
   "source": [
    "### Plotting Trends"
   ]
  },
  {
   "cell_type": "code",
   "execution_count": 50,
   "id": "a246e95c-2780-4365-b41e-d0f2488eff1e",
   "metadata": {},
   "outputs": [
    {
     "name": "stdout",
     "output_type": "stream",
     "text": [
      "shape: (5_791, 4)\n",
      "┌───────────────────────────┬─────────────┬─────────────────────────────────┬───────┐\n",
      "│ time                      ┆ engagements ┆ Tweet text                      ┆ reply │\n",
      "│ ---                       ┆ ---         ┆ ---                             ┆ ---   │\n",
      "│ str                       ┆ f64         ┆ str                             ┆ bool  │\n",
      "╞═══════════════════════════╪═════════════╪═════════════════════════════════╪═══════╡\n",
      "│ 2020-01-02 03:44:00+00:00 ┆ 7.0         ┆ Sounds like a great topic! htt… ┆ false │\n",
      "│ 2020-01-02 03:52:00+00:00 ┆ 3.0         ┆ @FogleBird Looks like SLC. I c… ┆ false │\n",
      "│ 2020-01-02 05:56:00+00:00 ┆ 6.0         ┆ @afilina That's really amount … ┆ false │\n",
      "│ 2020-01-03 01:41:00+00:00 ┆ 14.0        ┆ @randal_olson I use anaconda w… ┆ false │\n",
      "│ 2020-01-03 02:16:00+00:00 ┆ 1.0         ┆ @AlSweigart Sometimes the stud… ┆ false │\n",
      "│ …                         ┆ …           ┆ …                               ┆ …     │\n",
      "│ 2021-12-27 03:01:00+00:00 ┆ 1.0         ┆ @allison_horst That's awesome!  ┆ false │\n",
      "│ 2021-12-27 17:25:00+00:00 ┆ 7.0         ┆ @willmcgugan You need to find … ┆ false │\n",
      "│ 2021-12-28 18:08:00+00:00 ┆ 12.0        ┆ @posco Visiting Hawaii for the… ┆ false │\n",
      "│ 2021-12-30 07:23:00+00:00 ┆ 8.0         ┆ @johndsaunders My son just bui… ┆ false │\n",
      "│ 2021-12-31 21:11:00+00:00 ┆ 63.0        ┆ @tunguz Xgboost                 ┆ false │\n",
      "└───────────────────────────┴─────────────┴─────────────────────────────────┴───────┘\n"
     ]
    }
   ],
   "source": [
    "print(twit\n",
    "      .select('time', 'engagements', tweet_col,\n",
    "              reply=tweet_col.str.starts_with('@'))\n",
    "     )"
   ]
  },
  {
   "cell_type": "code",
   "execution_count": 52,
   "id": "f5df9a8c-d9c7-4a99-9c82-453404218bba",
   "metadata": {},
   "outputs": [
    {
     "name": "stdout",
     "output_type": "stream",
     "text": [
      "shape: (5_413, 3)\n",
      "┌─────────────────────────┬──────────┬───────┐\n",
      "│ time                    ┆ original ┆ reply │\n",
      "│ ---                     ┆ ---      ┆ ---   │\n",
      "│ datetime[μs, UTC]       ┆ f64      ┆ f64   │\n",
      "╞═════════════════════════╪══════════╪═══════╡\n",
      "│ 2020-01-02 03:44:00 UTC ┆ 7.0      ┆ null  │\n",
      "│ 2020-01-02 03:52:00 UTC ┆ 3.0      ┆ null  │\n",
      "│ 2020-01-02 05:56:00 UTC ┆ 6.0      ┆ null  │\n",
      "│ 2020-01-03 01:41:00 UTC ┆ 14.0     ┆ null  │\n",
      "│ 2020-01-03 02:16:00 UTC ┆ 1.0      ┆ null  │\n",
      "│ …                       ┆ …        ┆ …     │\n",
      "│ 2021-12-27 03:01:00 UTC ┆ 1.0      ┆ null  │\n",
      "│ 2021-12-27 17:25:00 UTC ┆ 7.0      ┆ null  │\n",
      "│ 2021-12-28 18:08:00 UTC ┆ 12.0     ┆ null  │\n",
      "│ 2021-12-30 07:23:00 UTC ┆ 8.0      ┆ null  │\n",
      "│ 2021-12-31 21:11:00 UTC ┆ 63.0     ┆ null  │\n",
      "└─────────────────────────┴──────────┴───────┘\n"
     ]
    }
   ],
   "source": [
    "# Switching DateTime Column from String to Date\n",
    "print(twit\n",
    "      .select(pl.col('time').str.to_datetime('%Y-%m-%d %H:%M:%S%z'), 'engagements', reply=tweet_col.str.starts_with('@'))\n",
    "      .pivot(index='time', on='reply', values='engagements', aggregate_function='sum')\n",
    "      .rename({'false': 'original', 'true': 'reply'})\n",
    "     )"
   ]
  },
  {
   "cell_type": "code",
   "execution_count": 57,
   "id": "74bed934-9da3-49b0-a5bb-fa7784bd211c",
   "metadata": {},
   "outputs": [],
   "source": [
    "# (twit\n",
    "#  .select(pl.col('time').str.to_datetime('%Y-%m-%d %H:%M:%S%z'), 'engagements', reply=tweet_col.str.starts_with('@'))\n",
    "#  .pivot(index='time', on='reply', values='engagements', aggregate_function='sum')\n",
    "#  .rename({'false': 'original', 'true': 'reply'})\n",
    "#  .plot.line(x='time', y=['original', 'reply'])\n",
    "# )"
   ]
  },
  {
   "cell_type": "code",
   "execution_count": 67,
   "id": "c1e956f9-2eb3-4912-9a06-05a0523f4b41",
   "metadata": {},
   "outputs": [
    {
     "data": {
      "text/html": [
       "\n",
       "<style>\n",
       "  #altair-viz-149fd1808a644bb9ac058ee6517bfa60.vega-embed {\n",
       "    width: 100%;\n",
       "    display: flex;\n",
       "  }\n",
       "\n",
       "  #altair-viz-149fd1808a644bb9ac058ee6517bfa60.vega-embed details,\n",
       "  #altair-viz-149fd1808a644bb9ac058ee6517bfa60.vega-embed details summary {\n",
       "    position: relative;\n",
       "  }\n",
       "</style>\n",
       "<div id=\"altair-viz-149fd1808a644bb9ac058ee6517bfa60\"></div>\n",
       "<script type=\"text/javascript\">\n",
       "  var VEGA_DEBUG = (typeof VEGA_DEBUG == \"undefined\") ? {} : VEGA_DEBUG;\n",
       "  (function(spec, embedOpt){\n",
       "    let outputDiv = document.currentScript.previousElementSibling;\n",
       "    if (outputDiv.id !== \"altair-viz-149fd1808a644bb9ac058ee6517bfa60\") {\n",
       "      outputDiv = document.getElementById(\"altair-viz-149fd1808a644bb9ac058ee6517bfa60\");\n",
       "    }\n",
       "\n",
       "    const paths = {\n",
       "      \"vega\": \"https://cdn.jsdelivr.net/npm/vega@5?noext\",\n",
       "      \"vega-lib\": \"https://cdn.jsdelivr.net/npm/vega-lib?noext\",\n",
       "      \"vega-lite\": \"https://cdn.jsdelivr.net/npm/vega-lite@5.20.1?noext\",\n",
       "      \"vega-embed\": \"https://cdn.jsdelivr.net/npm/vega-embed@6?noext\",\n",
       "    };\n",
       "\n",
       "    function maybeLoadScript(lib, version) {\n",
       "      var key = `${lib.replace(\"-\", \"\")}_version`;\n",
       "      return (VEGA_DEBUG[key] == version) ?\n",
       "        Promise.resolve(paths[lib]) :\n",
       "        new Promise(function(resolve, reject) {\n",
       "          var s = document.createElement('script');\n",
       "          document.getElementsByTagName(\"head\")[0].appendChild(s);\n",
       "          s.async = true;\n",
       "          s.onload = () => {\n",
       "            VEGA_DEBUG[key] = version;\n",
       "            return resolve(paths[lib]);\n",
       "          };\n",
       "          s.onerror = () => reject(`Error loading script: ${paths[lib]}`);\n",
       "          s.src = paths[lib];\n",
       "        });\n",
       "    }\n",
       "\n",
       "    function showError(err) {\n",
       "      outputDiv.innerHTML = `<div class=\"error\" style=\"color:red;\">${err}</div>`;\n",
       "      throw err;\n",
       "    }\n",
       "\n",
       "    function displayChart(vegaEmbed) {\n",
       "      vegaEmbed(outputDiv, spec, embedOpt)\n",
       "        .catch(err => showError(`Javascript Error: ${err.message}<br>This usually means there's a typo in your chart specification. See the javascript console for the full traceback.`));\n",
       "    }\n",
       "\n",
       "    if(typeof define === \"function\" && define.amd) {\n",
       "      requirejs.config({paths});\n",
       "      let deps = [\"vega-embed\"];\n",
       "      require(deps, displayChart, err => showError(`Error loading script: ${err.message}`));\n",
       "    } else {\n",
       "      maybeLoadScript(\"vega\", \"5\")\n",
       "        .then(() => maybeLoadScript(\"vega-lite\", \"5.20.1\"))\n",
       "        .then(() => maybeLoadScript(\"vega-embed\", \"6\"))\n",
       "        .catch(showError)\n",
       "        .then(() => displayChart(vegaEmbed));\n",
       "    }\n",
       "  })({\"config\": {\"view\": {\"continuousWidth\": 300, \"continuousHeight\": 300}}, \"data\": {\"name\": \"data-39c49bb2d13193322c260285eb7ab83b\"}, \"mark\": {\"type\": \"line\", \"tooltip\": true}, \"encoding\": {\"color\": {\"field\": \"type\", \"type\": \"nominal\"}, \"x\": {\"field\": \"time\", \"type\": \"temporal\"}, \"y\": {\"field\": \"engagements\", \"type\": \"quantitative\"}}, \"params\": [{\"name\": \"param_8\", \"select\": {\"type\": \"interval\", \"encodings\": [\"x\", \"y\"]}, \"bind\": \"scales\"}], \"title\": \"Engagements by Reply Type\", \"$schema\": \"https://vega.github.io/schema/vega-lite/v5.20.1.json\", \"datasets\": {\"data-39c49bb2d13193322c260285eb7ab83b\": [{\"time\": \"2019-12-30T00:00:00\", \"type\": \"original\", \"engagements\": 4.636363636363637}, {\"time\": \"2020-01-06T00:00:00\", \"type\": \"original\", \"engagements\": 175.76470588235293}, {\"time\": \"2020-01-13T00:00:00\", \"type\": \"original\", \"engagements\": 61.5}, {\"time\": \"2020-01-20T00:00:00\", \"type\": \"original\", \"engagements\": 7.6875}, {\"time\": \"2020-01-27T00:00:00\", \"type\": \"original\", \"engagements\": 9.142857142857142}, {\"time\": \"2020-02-03T00:00:00\", \"type\": \"original\", \"engagements\": 7.733333333333333}, {\"time\": \"2020-02-10T00:00:00\", \"type\": \"original\", \"engagements\": 59.578947368421055}, {\"time\": \"2020-02-17T00:00:00\", \"type\": \"original\", \"engagements\": 18.451612903225808}, {\"time\": \"2020-02-24T00:00:00\", \"type\": \"original\", \"engagements\": 74.63636363636364}, {\"time\": \"2020-03-02T00:00:00\", \"type\": \"original\", \"engagements\": 83.38095238095238}, {\"time\": \"2020-03-09T00:00:00\", \"type\": \"original\", \"engagements\": 110.0}, {\"time\": \"2020-03-16T00:00:00\", \"type\": \"original\", \"engagements\": 28.195121951219512}, {\"time\": \"2020-03-23T00:00:00\", \"type\": \"original\", \"engagements\": 27.241935483870968}, {\"time\": \"2020-03-30T00:00:00\", \"type\": \"original\", \"engagements\": 55.78688524590164}, {\"time\": \"2020-04-06T00:00:00\", \"type\": \"original\", \"engagements\": 31.365853658536587}, {\"time\": \"2020-04-13T00:00:00\", \"type\": \"original\", \"engagements\": 49.9}, {\"time\": \"2020-04-20T00:00:00\", \"type\": \"original\", \"engagements\": 47.09615384615385}, {\"time\": \"2020-04-27T00:00:00\", \"type\": \"original\", \"engagements\": 38.06}, {\"time\": \"2020-05-04T00:00:00\", \"type\": \"original\", \"engagements\": 17.82}, {\"time\": \"2020-05-11T00:00:00\", \"type\": \"original\", \"engagements\": 32.25}, {\"time\": \"2020-05-18T00:00:00\", \"type\": \"original\", \"engagements\": 39.17857142857143}, {\"time\": \"2020-05-25T00:00:00\", \"type\": \"original\", \"engagements\": 30.483870967741936}, {\"time\": \"2020-06-01T00:00:00\", \"type\": \"original\", \"engagements\": 25.0}, {\"time\": \"2020-06-08T00:00:00\", \"type\": \"original\", \"engagements\": 70.63829787234043}, {\"time\": \"2020-06-15T00:00:00\", \"type\": \"original\", \"engagements\": 32.333333333333336}, {\"time\": \"2020-06-22T00:00:00\", \"type\": \"original\", \"engagements\": 17.852941176470587}, {\"time\": \"2020-06-29T00:00:00\", \"type\": \"original\", \"engagements\": 145.2}, {\"time\": \"2020-07-06T00:00:00\", \"type\": \"original\", \"engagements\": 15.789473684210526}, {\"time\": \"2020-07-13T00:00:00\", \"type\": \"original\", \"engagements\": 30.90909090909091}, {\"time\": \"2020-07-20T00:00:00\", \"type\": \"original\", \"engagements\": 21.185185185185187}, {\"time\": \"2020-07-27T00:00:00\", \"type\": \"original\", \"engagements\": 22.655172413793103}, {\"time\": \"2020-08-03T00:00:00\", \"type\": \"original\", \"engagements\": 14.612903225806452}, {\"time\": \"2020-08-10T00:00:00\", \"type\": \"original\", \"engagements\": 54.203125}, {\"time\": \"2020-08-17T00:00:00\", \"type\": \"original\", \"engagements\": 52.46666666666667}, {\"time\": \"2020-08-24T00:00:00\", \"type\": \"original\", \"engagements\": 67.78688524590164}, {\"time\": \"2020-08-31T00:00:00\", \"type\": \"original\", \"engagements\": 80.28888888888889}, {\"time\": \"2020-09-07T00:00:00\", \"type\": \"original\", \"engagements\": 52.339622641509436}, {\"time\": \"2020-09-14T00:00:00\", \"type\": \"original\", \"engagements\": 30.81578947368421}, {\"time\": \"2020-09-21T00:00:00\", \"type\": \"original\", \"engagements\": 54.84}, {\"time\": \"2020-09-28T00:00:00\", \"type\": \"original\", \"engagements\": 50.12}, {\"time\": \"2020-10-05T00:00:00\", \"type\": \"original\", \"engagements\": 49.656716417910445}, {\"time\": \"2020-10-12T00:00:00\", \"type\": \"original\", \"engagements\": 16.31578947368421}, {\"time\": \"2020-10-19T00:00:00\", \"type\": \"original\", \"engagements\": 43.857142857142854}, {\"time\": \"2020-10-26T00:00:00\", \"type\": \"original\", \"engagements\": 17.414285714285715}, {\"time\": \"2020-11-02T00:00:00\", \"type\": \"original\", \"engagements\": 18.645833333333332}, {\"time\": \"2020-11-09T00:00:00\", \"type\": \"original\", \"engagements\": 237.52336448598132}, {\"time\": \"2020-11-16T00:00:00\", \"type\": \"original\", \"engagements\": 31.5}, {\"time\": \"2020-11-23T00:00:00\", \"type\": \"original\", \"engagements\": 101.98333333333333}, {\"time\": \"2020-11-30T00:00:00\", \"type\": \"original\", \"engagements\": 37.49122807017544}, {\"time\": \"2020-12-07T00:00:00\", \"type\": \"original\", \"engagements\": 132.53164556962025}, {\"time\": \"2020-12-14T00:00:00\", \"type\": \"original\", \"engagements\": 35.32432432432432}, {\"time\": \"2020-12-21T00:00:00\", \"type\": \"original\", \"engagements\": 99.96923076923076}, {\"time\": \"2020-12-28T00:00:00\", \"type\": \"original\", \"engagements\": 41.24050632911393}, {\"time\": \"2021-01-04T00:00:00\", \"type\": \"original\", \"engagements\": 51.339622641509436}, {\"time\": \"2021-01-11T00:00:00\", \"type\": \"original\", \"engagements\": 48.588235294117645}, {\"time\": \"2021-01-18T00:00:00\", \"type\": \"original\", \"engagements\": 37.752941176470586}, {\"time\": \"2021-01-25T00:00:00\", \"type\": \"original\", \"engagements\": 41.75}, {\"time\": \"2021-02-01T00:00:00\", \"type\": \"original\", \"engagements\": 95.87341772151899}, {\"time\": \"2021-02-08T00:00:00\", \"type\": \"original\", \"engagements\": 77.93548387096774}, {\"time\": \"2021-02-15T00:00:00\", \"type\": \"original\", \"engagements\": 81.51724137931035}, {\"time\": \"2021-02-22T00:00:00\", \"type\": \"original\", \"engagements\": 89.27777777777777}, {\"time\": \"2021-03-01T00:00:00\", \"type\": \"original\", \"engagements\": 136.54545454545453}, {\"time\": \"2021-03-08T00:00:00\", \"type\": \"original\", \"engagements\": 83.68115942028986}, {\"time\": \"2021-03-15T00:00:00\", \"type\": \"original\", \"engagements\": 65.78}, {\"time\": \"2021-03-22T00:00:00\", \"type\": \"original\", \"engagements\": 177.77906976744185}, {\"time\": \"2021-03-29T00:00:00\", \"type\": \"original\", \"engagements\": 13.733333333333333}, {\"time\": \"2021-04-05T00:00:00\", \"type\": \"original\", \"engagements\": 51.696969696969695}, {\"time\": \"2021-04-12T00:00:00\", \"type\": \"original\", \"engagements\": 64.05454545454545}, {\"time\": \"2021-04-19T00:00:00\", \"type\": \"original\", \"engagements\": 128.44262295081967}, {\"time\": \"2021-04-26T00:00:00\", \"type\": \"original\", \"engagements\": 78.07291666666667}, {\"time\": \"2021-05-03T00:00:00\", \"type\": \"original\", \"engagements\": 67.50847457627118}, {\"time\": \"2021-05-10T00:00:00\", \"type\": \"original\", \"engagements\": 220.97142857142856}, {\"time\": \"2021-05-17T00:00:00\", \"type\": \"original\", \"engagements\": 64.51063829787235}, {\"time\": \"2021-05-24T00:00:00\", \"type\": \"original\", \"engagements\": 178.7906976744186}, {\"time\": \"2021-05-31T00:00:00\", \"type\": \"original\", \"engagements\": 973.170731707317}, {\"time\": \"2021-06-07T00:00:00\", \"type\": \"original\", \"engagements\": 71.53658536585365}, {\"time\": \"2021-06-14T00:00:00\", \"type\": \"original\", \"engagements\": 217.6}, {\"time\": \"2021-06-21T00:00:00\", \"type\": \"original\", \"engagements\": 56.166666666666664}, {\"time\": \"2021-06-28T00:00:00\", \"type\": \"original\", \"engagements\": 78.07142857142857}, {\"time\": \"2021-07-05T00:00:00\", \"type\": \"original\", \"engagements\": 229.55555555555554}, {\"time\": \"2021-07-12T00:00:00\", \"type\": \"original\", \"engagements\": 1523.8809523809523}, {\"time\": \"2021-07-19T00:00:00\", \"type\": \"original\", \"engagements\": 295.12}, {\"time\": \"2021-08-02T00:00:00\", \"type\": \"original\", \"engagements\": 10.0}, {\"time\": \"2021-08-09T00:00:00\", \"type\": \"original\", \"engagements\": 16.428571428571427}, {\"time\": \"2021-08-16T00:00:00\", \"type\": \"original\", \"engagements\": 585.8888888888889}, {\"time\": \"2021-08-23T00:00:00\", \"type\": \"original\", \"engagements\": 240.0566037735849}, {\"time\": \"2021-08-30T00:00:00\", \"type\": \"original\", \"engagements\": 155.07142857142858}, {\"time\": \"2021-09-06T00:00:00\", \"type\": \"original\", \"engagements\": 138.0909090909091}, {\"time\": \"2021-09-13T00:00:00\", \"type\": \"original\", \"engagements\": 89.15068493150685}, {\"time\": \"2021-09-20T00:00:00\", \"type\": \"original\", \"engagements\": 455.2241379310345}, {\"time\": \"2021-09-27T00:00:00\", \"type\": \"original\", \"engagements\": 123.83529411764705}, {\"time\": \"2021-10-04T00:00:00\", \"type\": \"original\", \"engagements\": 98.0}, {\"time\": \"2021-10-11T00:00:00\", \"type\": \"original\", \"engagements\": 69.8936170212766}, {\"time\": \"2021-10-18T00:00:00\", \"type\": \"original\", \"engagements\": 420.5681818181818}, {\"time\": \"2021-10-25T00:00:00\", \"type\": \"original\", \"engagements\": 236.9777777777778}, {\"time\": \"2021-11-01T00:00:00\", \"type\": \"original\", \"engagements\": 193.4848484848485}, {\"time\": \"2021-11-08T00:00:00\", \"type\": \"original\", \"engagements\": 104.4367816091954}, {\"time\": \"2021-11-15T00:00:00\", \"type\": \"original\", \"engagements\": 251.7111111111111}, {\"time\": \"2021-11-22T00:00:00\", \"type\": \"original\", \"engagements\": 88.50617283950618}, {\"time\": \"2021-11-29T00:00:00\", \"type\": \"original\", \"engagements\": 106.44545454545455}, {\"time\": \"2021-12-06T00:00:00\", \"type\": \"original\", \"engagements\": 65.93}, {\"time\": \"2021-12-13T00:00:00\", \"type\": \"original\", \"engagements\": 121.81333333333333}, {\"time\": \"2021-12-20T00:00:00\", \"type\": \"original\", \"engagements\": 95.08333333333333}, {\"time\": \"2021-12-27T00:00:00\", \"type\": \"original\", \"engagements\": 18.88888888888889}, {\"time\": \"2019-12-30T00:00:00\", \"type\": \"reply\", \"engagements\": null}, {\"time\": \"2020-01-06T00:00:00\", \"type\": \"reply\", \"engagements\": null}, {\"time\": \"2020-01-13T00:00:00\", \"type\": \"reply\", \"engagements\": null}, {\"time\": \"2020-01-20T00:00:00\", \"type\": \"reply\", \"engagements\": null}, {\"time\": \"2020-01-27T00:00:00\", \"type\": \"reply\", \"engagements\": null}, {\"time\": \"2020-02-03T00:00:00\", \"type\": \"reply\", \"engagements\": null}, {\"time\": \"2020-02-10T00:00:00\", \"type\": \"reply\", \"engagements\": null}, {\"time\": \"2020-02-17T00:00:00\", \"type\": \"reply\", \"engagements\": null}, {\"time\": \"2020-02-24T00:00:00\", \"type\": \"reply\", \"engagements\": null}, {\"time\": \"2020-03-02T00:00:00\", \"type\": \"reply\", \"engagements\": null}, {\"time\": \"2020-03-09T00:00:00\", \"type\": \"reply\", \"engagements\": null}, {\"time\": \"2020-03-16T00:00:00\", \"type\": \"reply\", \"engagements\": null}, {\"time\": \"2020-03-23T00:00:00\", \"type\": \"reply\", \"engagements\": null}, {\"time\": \"2020-03-30T00:00:00\", \"type\": \"reply\", \"engagements\": null}, {\"time\": \"2020-04-06T00:00:00\", \"type\": \"reply\", \"engagements\": null}, {\"time\": \"2020-04-13T00:00:00\", \"type\": \"reply\", \"engagements\": null}, {\"time\": \"2020-04-20T00:00:00\", \"type\": \"reply\", \"engagements\": null}, {\"time\": \"2020-04-27T00:00:00\", \"type\": \"reply\", \"engagements\": null}, {\"time\": \"2020-05-04T00:00:00\", \"type\": \"reply\", \"engagements\": null}, {\"time\": \"2020-05-11T00:00:00\", \"type\": \"reply\", \"engagements\": null}, {\"time\": \"2020-05-18T00:00:00\", \"type\": \"reply\", \"engagements\": null}, {\"time\": \"2020-05-25T00:00:00\", \"type\": \"reply\", \"engagements\": null}, {\"time\": \"2020-06-01T00:00:00\", \"type\": \"reply\", \"engagements\": null}, {\"time\": \"2020-06-08T00:00:00\", \"type\": \"reply\", \"engagements\": null}, {\"time\": \"2020-06-15T00:00:00\", \"type\": \"reply\", \"engagements\": null}, {\"time\": \"2020-06-22T00:00:00\", \"type\": \"reply\", \"engagements\": null}, {\"time\": \"2020-06-29T00:00:00\", \"type\": \"reply\", \"engagements\": null}, {\"time\": \"2020-07-06T00:00:00\", \"type\": \"reply\", \"engagements\": null}, {\"time\": \"2020-07-13T00:00:00\", \"type\": \"reply\", \"engagements\": null}, {\"time\": \"2020-07-20T00:00:00\", \"type\": \"reply\", \"engagements\": null}, {\"time\": \"2020-07-27T00:00:00\", \"type\": \"reply\", \"engagements\": null}, {\"time\": \"2020-08-03T00:00:00\", \"type\": \"reply\", \"engagements\": null}, {\"time\": \"2020-08-10T00:00:00\", \"type\": \"reply\", \"engagements\": null}, {\"time\": \"2020-08-17T00:00:00\", \"type\": \"reply\", \"engagements\": null}, {\"time\": \"2020-08-24T00:00:00\", \"type\": \"reply\", \"engagements\": 10.0}, {\"time\": \"2020-08-31T00:00:00\", \"type\": \"reply\", \"engagements\": null}, {\"time\": \"2020-09-07T00:00:00\", \"type\": \"reply\", \"engagements\": null}, {\"time\": \"2020-09-14T00:00:00\", \"type\": \"reply\", \"engagements\": null}, {\"time\": \"2020-09-21T00:00:00\", \"type\": \"reply\", \"engagements\": null}, {\"time\": \"2020-09-28T00:00:00\", \"type\": \"reply\", \"engagements\": 2.0}, {\"time\": \"2020-10-05T00:00:00\", \"type\": \"reply\", \"engagements\": null}, {\"time\": \"2020-10-12T00:00:00\", \"type\": \"reply\", \"engagements\": null}, {\"time\": \"2020-10-19T00:00:00\", \"type\": \"reply\", \"engagements\": null}, {\"time\": \"2020-10-26T00:00:00\", \"type\": \"reply\", \"engagements\": null}, {\"time\": \"2020-11-02T00:00:00\", \"type\": \"reply\", \"engagements\": null}, {\"time\": \"2020-11-09T00:00:00\", \"type\": \"reply\", \"engagements\": 0.0}, {\"time\": \"2020-11-16T00:00:00\", \"type\": \"reply\", \"engagements\": null}, {\"time\": \"2020-11-23T00:00:00\", \"type\": \"reply\", \"engagements\": null}, {\"time\": \"2020-11-30T00:00:00\", \"type\": \"reply\", \"engagements\": null}, {\"time\": \"2020-12-07T00:00:00\", \"type\": \"reply\", \"engagements\": null}, {\"time\": \"2020-12-14T00:00:00\", \"type\": \"reply\", \"engagements\": null}, {\"time\": \"2020-12-21T00:00:00\", \"type\": \"reply\", \"engagements\": null}, {\"time\": \"2020-12-28T00:00:00\", \"type\": \"reply\", \"engagements\": null}, {\"time\": \"2021-01-04T00:00:00\", \"type\": \"reply\", \"engagements\": null}, {\"time\": \"2021-01-11T00:00:00\", \"type\": \"reply\", \"engagements\": null}, {\"time\": \"2021-01-18T00:00:00\", \"type\": \"reply\", \"engagements\": null}, {\"time\": \"2021-01-25T00:00:00\", \"type\": \"reply\", \"engagements\": null}, {\"time\": \"2021-02-01T00:00:00\", \"type\": \"reply\", \"engagements\": null}, {\"time\": \"2021-02-08T00:00:00\", \"type\": \"reply\", \"engagements\": null}, {\"time\": \"2021-02-15T00:00:00\", \"type\": \"reply\", \"engagements\": null}, {\"time\": \"2021-02-22T00:00:00\", \"type\": \"reply\", \"engagements\": null}, {\"time\": \"2021-03-01T00:00:00\", \"type\": \"reply\", \"engagements\": 2.0}, {\"time\": \"2021-03-08T00:00:00\", \"type\": \"reply\", \"engagements\": null}, {\"time\": \"2021-03-15T00:00:00\", \"type\": \"reply\", \"engagements\": null}, {\"time\": \"2021-03-22T00:00:00\", \"type\": \"reply\", \"engagements\": null}, {\"time\": \"2021-03-29T00:00:00\", \"type\": \"reply\", \"engagements\": null}, {\"time\": \"2021-04-05T00:00:00\", \"type\": \"reply\", \"engagements\": null}, {\"time\": \"2021-04-12T00:00:00\", \"type\": \"reply\", \"engagements\": 6.0}, {\"time\": \"2021-04-19T00:00:00\", \"type\": \"reply\", \"engagements\": 1.0}, {\"time\": \"2021-04-26T00:00:00\", \"type\": \"reply\", \"engagements\": null}, {\"time\": \"2021-05-03T00:00:00\", \"type\": \"reply\", \"engagements\": null}, {\"time\": \"2021-05-10T00:00:00\", \"type\": \"reply\", \"engagements\": 8.666666666666666}, {\"time\": \"2021-05-17T00:00:00\", \"type\": \"reply\", \"engagements\": null}, {\"time\": \"2021-05-24T00:00:00\", \"type\": \"reply\", \"engagements\": null}, {\"time\": \"2021-05-31T00:00:00\", \"type\": \"reply\", \"engagements\": null}, {\"time\": \"2021-06-07T00:00:00\", \"type\": \"reply\", \"engagements\": null}, {\"time\": \"2021-06-14T00:00:00\", \"type\": \"reply\", \"engagements\": 1.0}, {\"time\": \"2021-06-21T00:00:00\", \"type\": \"reply\", \"engagements\": null}, {\"time\": \"2021-06-28T00:00:00\", \"type\": \"reply\", \"engagements\": null}, {\"time\": \"2021-07-05T00:00:00\", \"type\": \"reply\", \"engagements\": null}, {\"time\": \"2021-07-12T00:00:00\", \"type\": \"reply\", \"engagements\": 7.0}, {\"time\": \"2021-07-19T00:00:00\", \"type\": \"reply\", \"engagements\": null}, {\"time\": \"2021-08-02T00:00:00\", \"type\": \"reply\", \"engagements\": null}, {\"time\": \"2021-08-09T00:00:00\", \"type\": \"reply\", \"engagements\": null}, {\"time\": \"2021-08-16T00:00:00\", \"type\": \"reply\", \"engagements\": 19.0}, {\"time\": \"2021-08-23T00:00:00\", \"type\": \"reply\", \"engagements\": null}, {\"time\": \"2021-08-30T00:00:00\", \"type\": \"reply\", \"engagements\": null}, {\"time\": \"2021-09-06T00:00:00\", \"type\": \"reply\", \"engagements\": null}, {\"time\": \"2021-09-13T00:00:00\", \"type\": \"reply\", \"engagements\": null}, {\"time\": \"2021-09-20T00:00:00\", \"type\": \"reply\", \"engagements\": null}, {\"time\": \"2021-09-27T00:00:00\", \"type\": \"reply\", \"engagements\": null}, {\"time\": \"2021-10-04T00:00:00\", \"type\": \"reply\", \"engagements\": null}, {\"time\": \"2021-10-11T00:00:00\", \"type\": \"reply\", \"engagements\": null}, {\"time\": \"2021-10-18T00:00:00\", \"type\": \"reply\", \"engagements\": null}, {\"time\": \"2021-10-25T00:00:00\", \"type\": \"reply\", \"engagements\": 0.0}, {\"time\": \"2021-11-01T00:00:00\", \"type\": \"reply\", \"engagements\": null}, {\"time\": \"2021-11-08T00:00:00\", \"type\": \"reply\", \"engagements\": null}, {\"time\": \"2021-11-15T00:00:00\", \"type\": \"reply\", \"engagements\": null}, {\"time\": \"2021-11-22T00:00:00\", \"type\": \"reply\", \"engagements\": null}, {\"time\": \"2021-11-29T00:00:00\", \"type\": \"reply\", \"engagements\": null}, {\"time\": \"2021-12-06T00:00:00\", \"type\": \"reply\", \"engagements\": null}, {\"time\": \"2021-12-13T00:00:00\", \"type\": \"reply\", \"engagements\": null}, {\"time\": \"2021-12-20T00:00:00\", \"type\": \"reply\", \"engagements\": null}, {\"time\": \"2021-12-27T00:00:00\", \"type\": \"reply\", \"engagements\": null}]}}, {\"mode\": \"vega-lite\"});\n",
       "</script>"
      ],
      "text/plain": [
       "alt.Chart(...)"
      ]
     },
     "execution_count": 67,
     "metadata": {},
     "output_type": "execute_result"
    }
   ],
   "source": [
    "(twit\n",
    " .select(pl.col('time').str.to_datetime('%Y-%m-%d %H:%M:%S%z'), 'engagements', reply=tweet_col.str.starts_with('@'))\n",
    " .pivot(index='time', on='reply', values='engagements', aggregate_function='sum')\n",
    " .set_sorted('time').group_by_dynamic('time', every='1w')\n",
    " .agg(pl.col('true', 'false').mean())\n",
    " .rename({'false': 'original', 'true': 'reply'})\n",
    " .unpivot(index='time', on=['original', 'reply'], variable_name='type', value_name='engagements')\n",
    " .plot.line(x='time', y='engagements', color='type')\n",
    " .properties(title='Engagements by Reply Type')\n",
    ")"
   ]
  }
 ],
 "metadata": {
  "kernelspec": {
   "display_name": "Python 3 (ipykernel)",
   "language": "python",
   "name": "python3"
  },
  "language_info": {
   "codemirror_mode": {
    "name": "ipython",
    "version": 3
   },
   "file_extension": ".py",
   "mimetype": "text/x-python",
   "name": "python",
   "nbconvert_exporter": "python",
   "pygments_lexer": "ipython3",
   "version": "3.11.8"
  }
 },
 "nbformat": 4,
 "nbformat_minor": 5
}
