{
 "cells": [
  {
   "cell_type": "markdown",
   "id": "fd22dc12-72fd-45cd-bc20-8e1f07d7a11e",
   "metadata": {},
   "source": [
    "# Data Filtering & Selection\n",
    "\n",
    "### Loading Libraries"
   ]
  },
  {
   "cell_type": "code",
   "execution_count": 18,
   "id": "cf335c47-5256-4fff-aa5f-d16f50092222",
   "metadata": {},
   "outputs": [],
   "source": [
    "# ZipFiles\n",
    "import zipfile\n",
    "\n",
    "# Numerical Computing\n",
    "import numpy as np\n",
    "\n",
    "# Data Manipulation\n",
    "import pandas as pd\n",
    "import polars as pl\n",
    "import polars.selectors as cs\n",
    "\n",
    "# Data Visualization\n",
    "import seaborn as sns\n",
    "import matplotlib.pyplot as plt\n",
    "\n",
    "# XGBoost\n",
    "import xgboost as xgb\n",
    "\n",
    "# Date & Time\n",
    "from datetime import datetime\n",
    "from datetime import timedelta"
   ]
  },
  {
   "cell_type": "markdown",
   "id": "4caaa8d7-5f5c-435d-9cb2-5ff48d50b650",
   "metadata": {},
   "source": [
    "## Loading Data"
   ]
  },
  {
   "cell_type": "code",
   "execution_count": 2,
   "id": "af5121ae-9e26-4670-8b62-ab555573f24d",
   "metadata": {},
   "outputs": [],
   "source": [
    "# Path\n",
    "path = '/Users/isisromero/desktop/polars/datasets/vehicles.csv'"
   ]
  },
  {
   "cell_type": "code",
   "execution_count": 3,
   "id": "6e53af1c-19ac-4181-b23a-5707840f5832",
   "metadata": {},
   "outputs": [],
   "source": [
    "raw = pl.read_csv(path, null_values=['NA'])"
   ]
  },
  {
   "cell_type": "code",
   "execution_count": 4,
   "id": "435a3abd-e893-437b-a2da-8bb574167169",
   "metadata": {},
   "outputs": [],
   "source": [
    "def tweak_auto(df):\n",
    "    cols = ['year', 'make', 'model', 'displ', 'cylinders', 'trany', \n",
    "            'drive', 'VClass', 'fuelType', 'barrels08', 'city08', 'highway08', 'createdOn']\n",
    "    return (df\n",
    "            .select(pl.col(cols))\n",
    "            .with_columns(pl.col('year').cast(pl.Int16),\n",
    "                          pl.col(['cylinders', 'highway08', 'city08']).cast(pl.UInt8),\n",
    "                          pl.col(['displ', 'barrels08']).cast(pl.Float32),\n",
    "                          pl.col(['make', 'model', 'VClass', 'drive', 'fuelType']).cast(pl.Categorical),\n",
    "                          pl.col('createdOn').str.to_datetime('%a %b %d %H:%M:%S %Z %Y'),\n",
    "                          is_automatic=pl.col('trany')                    \n",
    "                          .str.contains('Automatic')\n",
    "                          .fill_null('Automatic'),\n",
    "                          num_gears=pl.col('trany')\n",
    "                          .str.extract(r'(\\d+)')\n",
    "                          .cast(pl.UInt8)\n",
    "                          .fill_null(6))\n",
    "           )"
   ]
  },
  {
   "cell_type": "code",
   "execution_count": 5,
   "id": "5208df68-1193-4bd8-98c9-2616646d85eb",
   "metadata": {},
   "outputs": [],
   "source": [
    "autos = tweak_auto(raw)"
   ]
  },
  {
   "cell_type": "code",
   "execution_count": 6,
   "id": "d235e30e-0722-46b6-ae69-1d6b4076ca30",
   "metadata": {},
   "outputs": [
    {
     "name": "stdout",
     "output_type": "stream",
     "text": [
      "shape: (48_231, 15)\n",
      "┌──────┬────────────┬──────────────┬───────┬───┬───────────┬─────────────┬─────────────┬───────────┐\n",
      "│ year ┆ make       ┆ model        ┆ displ ┆ … ┆ highway08 ┆ createdOn   ┆ is_automati ┆ num_gears │\n",
      "│ ---  ┆ ---        ┆ ---          ┆ ---   ┆   ┆ ---       ┆ ---         ┆ c           ┆ ---       │\n",
      "│ i16  ┆ cat        ┆ cat          ┆ f32   ┆   ┆ u8        ┆ datetime[μs ┆ ---         ┆ u8        │\n",
      "│      ┆            ┆              ┆       ┆   ┆           ┆ ]           ┆ str         ┆           │\n",
      "╞══════╪════════════╪══════════════╪═══════╪═══╪═══════════╪═════════════╪═════════════╪═══════════╡\n",
      "│ 1985 ┆ Alfa Romeo ┆ Spider       ┆ 2.0   ┆ … ┆ 25        ┆ 2013-01-01  ┆ false       ┆ 5         │\n",
      "│      ┆            ┆ Veloce 2000  ┆       ┆   ┆           ┆ 00:00:00    ┆             ┆           │\n",
      "│ 1985 ┆ Ferrari    ┆ Testarossa   ┆ 4.9   ┆ … ┆ 14        ┆ 2013-01-01  ┆ false       ┆ 5         │\n",
      "│      ┆            ┆              ┆       ┆   ┆           ┆ 00:00:00    ┆             ┆           │\n",
      "│ 1985 ┆ Dodge      ┆ Charger      ┆ 2.2   ┆ … ┆ 33        ┆ 2013-01-01  ┆ false       ┆ 5         │\n",
      "│      ┆            ┆              ┆       ┆   ┆           ┆ 00:00:00    ┆             ┆           │\n",
      "│ 1985 ┆ Dodge      ┆ B150/B250    ┆ 5.2   ┆ … ┆ 12        ┆ 2013-01-01  ┆ true        ┆ 3         │\n",
      "│      ┆            ┆ Wagon 2WD    ┆       ┆   ┆           ┆ 00:00:00    ┆             ┆           │\n",
      "│ 1993 ┆ Subaru     ┆ Legacy AWD   ┆ 2.2   ┆ … ┆ 23        ┆ 2013-01-01  ┆ false       ┆ 5         │\n",
      "│      ┆            ┆ Turbo        ┆       ┆   ┆           ┆ 00:00:00    ┆             ┆           │\n",
      "│ …    ┆ …          ┆ …            ┆ …     ┆ … ┆ …         ┆ …           ┆ …           ┆ …         │\n",
      "│ 1993 ┆ Subaru     ┆ Legacy       ┆ 2.2   ┆ … ┆ 26        ┆ 2013-01-01  ┆ true        ┆ 4         │\n",
      "│      ┆            ┆              ┆       ┆   ┆           ┆ 00:00:00    ┆             ┆           │\n",
      "│ 1993 ┆ Subaru     ┆ Legacy       ┆ 2.2   ┆ … ┆ 28        ┆ 2013-01-01  ┆ false       ┆ 5         │\n",
      "│      ┆            ┆              ┆       ┆   ┆           ┆ 00:00:00    ┆             ┆           │\n",
      "│ 1993 ┆ Subaru     ┆ Legacy AWD   ┆ 2.2   ┆ … ┆ 24        ┆ 2013-01-01  ┆ true        ┆ 4         │\n",
      "│      ┆            ┆              ┆       ┆   ┆           ┆ 00:00:00    ┆             ┆           │\n",
      "│ 1993 ┆ Subaru     ┆ Legacy AWD   ┆ 2.2   ┆ … ┆ 24        ┆ 2013-01-01  ┆ false       ┆ 5         │\n",
      "│      ┆            ┆              ┆       ┆   ┆           ┆ 00:00:00    ┆             ┆           │\n",
      "│ 1993 ┆ Subaru     ┆ Legacy AWD   ┆ 2.2   ┆ … ┆ 21        ┆ 2013-01-01  ┆ true        ┆ 4         │\n",
      "│      ┆            ┆ Turbo        ┆       ┆   ┆           ┆ 00:00:00    ┆             ┆           │\n",
      "└──────┴────────────┴──────────────┴───────┴───┴───────────┴─────────────┴─────────────┴───────────┘\n"
     ]
    }
   ],
   "source": [
    "print(autos)"
   ]
  },
  {
   "cell_type": "markdown",
   "id": "4f04f6a9-504a-4a12-8cbf-4b36a00702c5",
   "metadata": {},
   "source": [
    "### Filtering with Expressions"
   ]
  },
  {
   "cell_type": "code",
   "execution_count": 7,
   "id": "8ff0d85d-1b15-4964-808d-a8cb587c9c89",
   "metadata": {},
   "outputs": [
    {
     "name": "stdout",
     "output_type": "stream",
     "text": [
      "shape: (1_325, 15)\n",
      "┌──────┬────────┬───────────┬───────┬───┬───────────┬──────────────┬──────────────┬───────────┐\n",
      "│ year ┆ make   ┆ model     ┆ displ ┆ … ┆ highway08 ┆ createdOn    ┆ is_automatic ┆ num_gears │\n",
      "│ ---  ┆ ---    ┆ ---       ┆ ---   ┆   ┆ ---       ┆ ---          ┆ ---          ┆ ---       │\n",
      "│ i16  ┆ cat    ┆ cat       ┆ f32   ┆   ┆ u8        ┆ datetime[μs] ┆ str          ┆ u8        │\n",
      "╞══════╪════════╪═══════════╪═══════╪═══╪═══════════╪══════════════╪══════════════╪═══════════╡\n",
      "│ 1994 ┆ Geo    ┆ Metro XFI ┆ 1.0   ┆ … ┆ 52        ┆ 2013-01-01   ┆ false        ┆ 5         │\n",
      "│      ┆        ┆           ┆       ┆   ┆           ┆ 00:00:00     ┆              ┆           │\n",
      "│ 2000 ┆ Honda  ┆ Insight   ┆ 1.0   ┆ … ┆ 61        ┆ 2013-01-01   ┆ false        ┆ 5         │\n",
      "│      ┆        ┆           ┆       ┆   ┆           ┆ 00:00:00     ┆              ┆           │\n",
      "│ 2000 ┆ Nissan ┆ Altra EV  ┆ null  ┆ … ┆ 91        ┆ 2013-01-01   ┆ Automatic    ┆ 6         │\n",
      "│      ┆        ┆           ┆       ┆   ┆           ┆ 00:00:00     ┆              ┆           │\n",
      "│ 2000 ┆ Toyota ┆ RAV4 EV   ┆ null  ┆ … ┆ 64        ┆ 2013-01-01   ┆ Automatic    ┆ 6         │\n",
      "│      ┆        ┆           ┆       ┆   ┆           ┆ 00:00:00     ┆              ┆           │\n",
      "│ 2001 ┆ Honda  ┆ Insight   ┆ 1.0   ┆ … ┆ 49        ┆ 2013-01-01   ┆ true         ┆ 6         │\n",
      "│      ┆        ┆           ┆       ┆   ┆           ┆ 00:00:00     ┆              ┆           │\n",
      "│ …    ┆ …      ┆ …         ┆ …     ┆ … ┆ …         ┆ …            ┆ …            ┆ …         │\n",
      "│ 1989 ┆ Geo    ┆ Metro     ┆ 1.0   ┆ … ┆ 52        ┆ 2013-01-01   ┆ false        ┆ 5         │\n",
      "│      ┆        ┆           ┆       ┆   ┆           ┆ 00:00:00     ┆              ┆           │\n",
      "│ 1990 ┆ Geo    ┆ Metro XFI ┆ 1.0   ┆ … ┆ 52        ┆ 2013-01-01   ┆ false        ┆ 5         │\n",
      "│      ┆        ┆           ┆       ┆   ┆           ┆ 00:00:00     ┆              ┆           │\n",
      "│ 1991 ┆ Geo    ┆ Metro XFI ┆ 1.0   ┆ … ┆ 52        ┆ 2013-01-01   ┆ false        ┆ 5         │\n",
      "│      ┆        ┆           ┆       ┆   ┆           ┆ 00:00:00     ┆              ┆           │\n",
      "│ 1992 ┆ Geo    ┆ Metro XFI ┆ 1.0   ┆ … ┆ 52        ┆ 2013-01-01   ┆ false        ┆ 5         │\n",
      "│      ┆        ┆           ┆       ┆   ┆           ┆ 00:00:00     ┆              ┆           │\n",
      "│ 1993 ┆ Geo    ┆ Metro XFI ┆ 1.0   ┆ … ┆ 52        ┆ 2013-01-01   ┆ false        ┆ 5         │\n",
      "│      ┆        ┆           ┆       ┆   ┆           ┆ 00:00:00     ┆              ┆           │\n",
      "└──────┴────────┴───────────┴───────┴───┴───────────┴──────────────┴──────────────┴───────────┘\n"
     ]
    }
   ],
   "source": [
    "print(autos\n",
    "      .filter(pl.col('city08') > 40)\n",
    "     )"
   ]
  },
  {
   "cell_type": "code",
   "execution_count": 8,
   "id": "62433bb5-3c04-4340-a4ee-62cc7c2eeb3f",
   "metadata": {},
   "outputs": [
    {
     "name": "stdout",
     "output_type": "stream",
     "text": [
      "shape: (155, 15)\n",
      "┌──────┬────────┬───────────────┬───────┬───┬───────────┬───────────────┬──────────────┬───────────┐\n",
      "│ year ┆ make   ┆ model         ┆ displ ┆ … ┆ highway08 ┆ createdOn     ┆ is_automatic ┆ num_gears │\n",
      "│ ---  ┆ ---    ┆ ---           ┆ ---   ┆   ┆ ---       ┆ ---           ┆ ---          ┆ ---       │\n",
      "│ i16  ┆ cat    ┆ cat           ┆ f32   ┆   ┆ u8        ┆ datetime[μs]  ┆ str          ┆ u8        │\n",
      "╞══════╪════════╪═══════════════╪═══════╪═══╪═══════════╪═══════════════╪══════════════╪═══════════╡\n",
      "│ 2000 ┆ Toyota ┆ RAV4 EV       ┆ null  ┆ … ┆ 64        ┆ 2013-01-01    ┆ Automatic    ┆ 6         │\n",
      "│      ┆        ┆               ┆       ┆   ┆           ┆ 00:00:00      ┆              ┆           │\n",
      "│ 2001 ┆ Toyota ┆ Prius         ┆ 1.5   ┆ … ┆ 41        ┆ 2013-01-01    ┆ true         ┆ 6         │\n",
      "│      ┆        ┆               ┆       ┆   ┆           ┆ 00:00:00      ┆              ┆           │\n",
      "│ 2001 ┆ Toyota ┆ RAV4 EV       ┆ null  ┆ … ┆ 64        ┆ 2013-01-01    ┆ Automatic    ┆ 6         │\n",
      "│      ┆        ┆               ┆       ┆   ┆           ┆ 00:00:00      ┆              ┆           │\n",
      "│ 2002 ┆ Toyota ┆ Prius         ┆ 1.5   ┆ … ┆ 41        ┆ 2013-01-01    ┆ true         ┆ 6         │\n",
      "│      ┆        ┆               ┆       ┆   ┆           ┆ 00:00:00      ┆              ┆           │\n",
      "│ 2002 ┆ Toyota ┆ RAV4 EV       ┆ null  ┆ … ┆ 69        ┆ 2013-01-01    ┆ Automatic    ┆ 6         │\n",
      "│      ┆        ┆               ┆       ┆   ┆           ┆ 00:00:00      ┆              ┆           │\n",
      "│ …    ┆ …      ┆ …             ┆ …     ┆ … ┆ …         ┆ …             ┆ …            ┆ …         │\n",
      "│ 2025 ┆ Toyota ┆ Camry HEV FF  ┆ 2.5   ┆ … ┆ 50        ┆ 2024-08-07    ┆ true         ┆ 6         │\n",
      "│      ┆        ┆ LE            ┆       ┆   ┆           ┆ 00:00:00      ┆              ┆           │\n",
      "│ 2025 ┆ Toyota ┆ Camry HEV FF  ┆ 2.5   ┆ … ┆ 47        ┆ 2024-08-07    ┆ true         ┆ 6         │\n",
      "│      ┆        ┆ SE/XLE/XSE    ┆       ┆   ┆           ┆ 00:00:00      ┆              ┆           │\n",
      "│ 2025 ┆ Toyota ┆ Camry HEV AWD ┆ 2.5   ┆ … ┆ 49        ┆ 2024-08-07    ┆ true         ┆ 6         │\n",
      "│      ┆        ┆ LE            ┆       ┆   ┆           ┆ 00:00:00      ┆              ┆           │\n",
      "│ 2025 ┆ Toyota ┆ Corolla       ┆ 1.8   ┆ … ┆ 43        ┆ 2024-09-18    ┆ true         ┆ 6         │\n",
      "│      ┆        ┆ Hybrid        ┆       ┆   ┆           ┆ 00:00:00      ┆              ┆           │\n",
      "│ 2025 ┆ Toyota ┆ Corolla       ┆ 1.8   ┆ … ┆ 41        ┆ 2024-09-18    ┆ true         ┆ 6         │\n",
      "│      ┆        ┆ Hybrid AWD    ┆       ┆   ┆           ┆ 00:00:00      ┆              ┆           │\n",
      "└──────┴────────┴───────────────┴───────┴───┴───────────┴───────────────┴──────────────┴───────────┘\n"
     ]
    }
   ],
   "source": [
    "print(autos\n",
    "      .filter(pl.col('city08') > 40)\n",
    "      .filter(pl.col('make') == 'Toyota')\n",
    "     )"
   ]
  },
  {
   "cell_type": "code",
   "execution_count": 9,
   "id": "c3f1c6a0-0ddb-410c-bcfe-82f22b871939",
   "metadata": {},
   "outputs": [
    {
     "name": "stdout",
     "output_type": "stream",
     "text": [
      "shape: (155, 15)\n",
      "┌──────┬────────┬───────────────┬───────┬───┬───────────┬───────────────┬──────────────┬───────────┐\n",
      "│ year ┆ make   ┆ model         ┆ displ ┆ … ┆ highway08 ┆ createdOn     ┆ is_automatic ┆ num_gears │\n",
      "│ ---  ┆ ---    ┆ ---           ┆ ---   ┆   ┆ ---       ┆ ---           ┆ ---          ┆ ---       │\n",
      "│ i16  ┆ cat    ┆ cat           ┆ f32   ┆   ┆ u8        ┆ datetime[μs]  ┆ str          ┆ u8        │\n",
      "╞══════╪════════╪═══════════════╪═══════╪═══╪═══════════╪═══════════════╪══════════════╪═══════════╡\n",
      "│ 2000 ┆ Toyota ┆ RAV4 EV       ┆ null  ┆ … ┆ 64        ┆ 2013-01-01    ┆ Automatic    ┆ 6         │\n",
      "│      ┆        ┆               ┆       ┆   ┆           ┆ 00:00:00      ┆              ┆           │\n",
      "│ 2001 ┆ Toyota ┆ Prius         ┆ 1.5   ┆ … ┆ 41        ┆ 2013-01-01    ┆ true         ┆ 6         │\n",
      "│      ┆        ┆               ┆       ┆   ┆           ┆ 00:00:00      ┆              ┆           │\n",
      "│ 2001 ┆ Toyota ┆ RAV4 EV       ┆ null  ┆ … ┆ 64        ┆ 2013-01-01    ┆ Automatic    ┆ 6         │\n",
      "│      ┆        ┆               ┆       ┆   ┆           ┆ 00:00:00      ┆              ┆           │\n",
      "│ 2002 ┆ Toyota ┆ Prius         ┆ 1.5   ┆ … ┆ 41        ┆ 2013-01-01    ┆ true         ┆ 6         │\n",
      "│      ┆        ┆               ┆       ┆   ┆           ┆ 00:00:00      ┆              ┆           │\n",
      "│ 2002 ┆ Toyota ┆ RAV4 EV       ┆ null  ┆ … ┆ 69        ┆ 2013-01-01    ┆ Automatic    ┆ 6         │\n",
      "│      ┆        ┆               ┆       ┆   ┆           ┆ 00:00:00      ┆              ┆           │\n",
      "│ …    ┆ …      ┆ …             ┆ …     ┆ … ┆ …         ┆ …             ┆ …            ┆ …         │\n",
      "│ 2025 ┆ Toyota ┆ Camry HEV FF  ┆ 2.5   ┆ … ┆ 50        ┆ 2024-08-07    ┆ true         ┆ 6         │\n",
      "│      ┆        ┆ LE            ┆       ┆   ┆           ┆ 00:00:00      ┆              ┆           │\n",
      "│ 2025 ┆ Toyota ┆ Camry HEV FF  ┆ 2.5   ┆ … ┆ 47        ┆ 2024-08-07    ┆ true         ┆ 6         │\n",
      "│      ┆        ┆ SE/XLE/XSE    ┆       ┆   ┆           ┆ 00:00:00      ┆              ┆           │\n",
      "│ 2025 ┆ Toyota ┆ Camry HEV AWD ┆ 2.5   ┆ … ┆ 49        ┆ 2024-08-07    ┆ true         ┆ 6         │\n",
      "│      ┆        ┆ LE            ┆       ┆   ┆           ┆ 00:00:00      ┆              ┆           │\n",
      "│ 2025 ┆ Toyota ┆ Corolla       ┆ 1.8   ┆ … ┆ 43        ┆ 2024-09-18    ┆ true         ┆ 6         │\n",
      "│      ┆        ┆ Hybrid        ┆       ┆   ┆           ┆ 00:00:00      ┆              ┆           │\n",
      "│ 2025 ┆ Toyota ┆ Corolla       ┆ 1.8   ┆ … ┆ 41        ┆ 2024-09-18    ┆ true         ┆ 6         │\n",
      "│      ┆        ┆ Hybrid AWD    ┆       ┆   ┆           ┆ 00:00:00      ┆              ┆           │\n",
      "└──────┴────────┴───────────────┴───────┴───┴───────────┴───────────────┴──────────────┴───────────┘\n"
     ]
    }
   ],
   "source": [
    "# Placing Multiple Conditions within Filter\n",
    "print(autos\n",
    "      .filter(pl.col('city08') > 40, pl.col('make') == 'Toyota')\n",
    "     )"
   ]
  },
  {
   "cell_type": "code",
   "execution_count": 10,
   "id": "a1abebc2-ba20-43e5-8457-a9300ab82617",
   "metadata": {},
   "outputs": [
    {
     "name": "stdout",
     "output_type": "stream",
     "text": [
      "shape: (155, 15)\n",
      "┌──────┬────────┬───────────────┬───────┬───┬───────────┬───────────────┬──────────────┬───────────┐\n",
      "│ year ┆ make   ┆ model         ┆ displ ┆ … ┆ highway08 ┆ createdOn     ┆ is_automatic ┆ num_gears │\n",
      "│ ---  ┆ ---    ┆ ---           ┆ ---   ┆   ┆ ---       ┆ ---           ┆ ---          ┆ ---       │\n",
      "│ i16  ┆ cat    ┆ cat           ┆ f32   ┆   ┆ u8        ┆ datetime[μs]  ┆ str          ┆ u8        │\n",
      "╞══════╪════════╪═══════════════╪═══════╪═══╪═══════════╪═══════════════╪══════════════╪═══════════╡\n",
      "│ 2000 ┆ Toyota ┆ RAV4 EV       ┆ null  ┆ … ┆ 64        ┆ 2013-01-01    ┆ Automatic    ┆ 6         │\n",
      "│      ┆        ┆               ┆       ┆   ┆           ┆ 00:00:00      ┆              ┆           │\n",
      "│ 2001 ┆ Toyota ┆ Prius         ┆ 1.5   ┆ … ┆ 41        ┆ 2013-01-01    ┆ true         ┆ 6         │\n",
      "│      ┆        ┆               ┆       ┆   ┆           ┆ 00:00:00      ┆              ┆           │\n",
      "│ 2001 ┆ Toyota ┆ RAV4 EV       ┆ null  ┆ … ┆ 64        ┆ 2013-01-01    ┆ Automatic    ┆ 6         │\n",
      "│      ┆        ┆               ┆       ┆   ┆           ┆ 00:00:00      ┆              ┆           │\n",
      "│ 2002 ┆ Toyota ┆ Prius         ┆ 1.5   ┆ … ┆ 41        ┆ 2013-01-01    ┆ true         ┆ 6         │\n",
      "│      ┆        ┆               ┆       ┆   ┆           ┆ 00:00:00      ┆              ┆           │\n",
      "│ 2002 ┆ Toyota ┆ RAV4 EV       ┆ null  ┆ … ┆ 69        ┆ 2013-01-01    ┆ Automatic    ┆ 6         │\n",
      "│      ┆        ┆               ┆       ┆   ┆           ┆ 00:00:00      ┆              ┆           │\n",
      "│ …    ┆ …      ┆ …             ┆ …     ┆ … ┆ …         ┆ …             ┆ …            ┆ …         │\n",
      "│ 2025 ┆ Toyota ┆ Camry HEV FF  ┆ 2.5   ┆ … ┆ 50        ┆ 2024-08-07    ┆ true         ┆ 6         │\n",
      "│      ┆        ┆ LE            ┆       ┆   ┆           ┆ 00:00:00      ┆              ┆           │\n",
      "│ 2025 ┆ Toyota ┆ Camry HEV FF  ┆ 2.5   ┆ … ┆ 47        ┆ 2024-08-07    ┆ true         ┆ 6         │\n",
      "│      ┆        ┆ SE/XLE/XSE    ┆       ┆   ┆           ┆ 00:00:00      ┆              ┆           │\n",
      "│ 2025 ┆ Toyota ┆ Camry HEV AWD ┆ 2.5   ┆ … ┆ 49        ┆ 2024-08-07    ┆ true         ┆ 6         │\n",
      "│      ┆        ┆ LE            ┆       ┆   ┆           ┆ 00:00:00      ┆              ┆           │\n",
      "│ 2025 ┆ Toyota ┆ Corolla       ┆ 1.8   ┆ … ┆ 43        ┆ 2024-09-18    ┆ true         ┆ 6         │\n",
      "│      ┆        ┆ Hybrid        ┆       ┆   ┆           ┆ 00:00:00      ┆              ┆           │\n",
      "│ 2025 ┆ Toyota ┆ Corolla       ┆ 1.8   ┆ … ┆ 41        ┆ 2024-09-18    ┆ true         ┆ 6         │\n",
      "│      ┆        ┆ Hybrid AWD    ┆       ┆   ┆           ┆ 00:00:00      ┆              ┆           │\n",
      "└──────┴────────┴───────────────┴───────┴───┴───────────┴───────────────┴──────────────┴───────────┘\n"
     ]
    }
   ],
   "source": [
    "# Using Boolean Operators\n",
    "print(autos\n",
    "      .filter((pl.col('make') == 'Toyota') & (pl.col('city08') > 40))\n",
    "     )"
   ]
  },
  {
   "cell_type": "markdown",
   "id": "ceb337ad-49b4-4120-839e-c3ac1523d38f",
   "metadata": {},
   "source": [
    "### Filtering with Keywords"
   ]
  },
  {
   "cell_type": "code",
   "execution_count": 11,
   "id": "09c82d74-33af-4f2e-a60e-faf7f3e31659",
   "metadata": {},
   "outputs": [
    {
     "name": "stdout",
     "output_type": "stream",
     "text": [
      "shape: (3_835, 15)\n",
      "┌──────┬──────┬─────────────┬───────┬───┬───────────┬──────────────┬──────────────┬───────────┐\n",
      "│ year ┆ make ┆ model       ┆ displ ┆ … ┆ highway08 ┆ createdOn    ┆ is_automatic ┆ num_gears │\n",
      "│ ---  ┆ ---  ┆ ---         ┆ ---   ┆   ┆ ---       ┆ ---          ┆ ---          ┆ ---       │\n",
      "│ i16  ┆ cat  ┆ cat         ┆ f32   ┆   ┆ u8        ┆ datetime[μs] ┆ str          ┆ u8        │\n",
      "╞══════╪══════╪═════════════╪═══════╪═══╪═══════════╪══════════════╪══════════════╪═══════════╡\n",
      "│ 1993 ┆ Ford ┆ Taurus      ┆ 3.0   ┆ … ┆ 27        ┆ 2013-01-01   ┆ true         ┆ 4         │\n",
      "│      ┆      ┆             ┆       ┆   ┆           ┆ 00:00:00     ┆              ┆           │\n",
      "│ 1993 ┆ Ford ┆ Taurus SHO  ┆ 3.0   ┆ … ┆ 24        ┆ 2013-01-01   ┆ false        ┆ 5         │\n",
      "│      ┆      ┆             ┆       ┆   ┆           ┆ 00:00:00     ┆              ┆           │\n",
      "│ 1993 ┆ Ford ┆ Taurus      ┆ 3.8   ┆ … ┆ 25        ┆ 2013-01-01   ┆ true         ┆ 4         │\n",
      "│      ┆      ┆             ┆       ┆   ┆           ┆ 00:00:00     ┆              ┆           │\n",
      "│ 1993 ┆ Ford ┆ Thunderbird ┆ 3.8   ┆ … ┆ 24        ┆ 2013-01-01   ┆ true         ┆ 4         │\n",
      "│      ┆      ┆             ┆       ┆   ┆           ┆ 00:00:00     ┆              ┆           │\n",
      "│ 1993 ┆ Ford ┆ Thunderbird ┆ 3.8   ┆ … ┆ 21        ┆ 2013-01-01   ┆ true         ┆ 4         │\n",
      "│      ┆      ┆             ┆       ┆   ┆           ┆ 00:00:00     ┆              ┆           │\n",
      "│ …    ┆ …    ┆ …           ┆ …     ┆ … ┆ …         ┆ …            ┆ …            ┆ …         │\n",
      "│ 1993 ┆ Ford ┆ Escort FS   ┆ 1.9   ┆ … ┆ 35        ┆ 2013-01-01   ┆ false        ┆ 5         │\n",
      "│      ┆      ┆             ┆       ┆   ┆           ┆ 00:00:00     ┆              ┆           │\n",
      "│ 1993 ┆ Ford ┆ Tempo       ┆ 2.3   ┆ … ┆ 25        ┆ 2013-01-01   ┆ true         ┆ 3         │\n",
      "│      ┆      ┆             ┆       ┆   ┆           ┆ 00:00:00     ┆              ┆           │\n",
      "│ 1993 ┆ Ford ┆ Tempo       ┆ 2.3   ┆ … ┆ 30        ┆ 2013-01-01   ┆ false        ┆ 5         │\n",
      "│      ┆      ┆             ┆       ┆   ┆           ┆ 00:00:00     ┆              ┆           │\n",
      "│ 1993 ┆ Ford ┆ Tempo       ┆ 3.0   ┆ … ┆ 22        ┆ 2013-01-01   ┆ true         ┆ 3         │\n",
      "│      ┆      ┆             ┆       ┆   ┆           ┆ 00:00:00     ┆              ┆           │\n",
      "│ 1993 ┆ Ford ┆ Tempo       ┆ 3.0   ┆ … ┆ 26        ┆ 2013-01-01   ┆ false        ┆ 5         │\n",
      "│      ┆      ┆             ┆       ┆   ┆           ┆ 00:00:00     ┆              ┆           │\n",
      "└──────┴──────┴─────────────┴───────┴───┴───────────┴──────────────┴──────────────┴───────────┘\n"
     ]
    }
   ],
   "source": [
    "print(autos\n",
    "      .filter(make='Ford')\n",
    "     )"
   ]
  },
  {
   "cell_type": "markdown",
   "id": "d555832d-447b-48ea-8aaf-bfec16d97f21",
   "metadata": {},
   "source": [
    "### Filtering with Dates"
   ]
  },
  {
   "cell_type": "code",
   "execution_count": 13,
   "id": "e5f94ee8-a100-455c-a75f-70f6265fa88b",
   "metadata": {},
   "outputs": [],
   "source": [
    "mar2018 = datetime(2018, 3, 1)"
   ]
  },
  {
   "cell_type": "raw",
   "id": "508a6a5b-f2b5-4c74-8807-9cfe43bba7f8",
   "metadata": {},
   "source": []
  },
  {
   "cell_type": "code",
   "execution_count": 15,
   "id": "8f890aba-c446-4728-950c-8163295e1bc4",
   "metadata": {},
   "outputs": [
    {
     "name": "stdout",
     "output_type": "stream",
     "text": [
      "shape: (8_694, 15)\n",
      "┌──────┬────────────┬──────────────┬───────┬───┬───────────┬─────────────┬─────────────┬───────────┐\n",
      "│ year ┆ make       ┆ model        ┆ displ ┆ … ┆ highway08 ┆ createdOn   ┆ is_automati ┆ num_gears │\n",
      "│ ---  ┆ ---        ┆ ---          ┆ ---   ┆   ┆ ---       ┆ ---         ┆ c           ┆ ---       │\n",
      "│ i16  ┆ cat        ┆ cat          ┆ f32   ┆   ┆ u8        ┆ datetime[μs ┆ ---         ┆ u8        │\n",
      "│      ┆            ┆              ┆       ┆   ┆           ┆ ]           ┆ str         ┆           │\n",
      "╞══════╪════════════╪══════════════╪═══════╪═══╪═══════════╪═════════════╪═════════════╪═══════════╡\n",
      "│ 2019 ┆ Genesis    ┆ G70 AWD      ┆ 3.3   ┆ … ┆ 25        ┆ 2018-03-02  ┆ true        ┆ 8         │\n",
      "│      ┆            ┆              ┆       ┆   ┆           ┆ 00:00:00    ┆             ┆           │\n",
      "│ 2019 ┆ Genesis    ┆ G70 RWD      ┆ 3.3   ┆ … ┆ 26        ┆ 2018-03-02  ┆ true        ┆ 8         │\n",
      "│      ┆            ┆              ┆       ┆   ┆           ┆ 00:00:00    ┆             ┆           │\n",
      "│ 2019 ┆ Genesis    ┆ G70 AWD      ┆ 2.0   ┆ … ┆ 28        ┆ 2018-03-02  ┆ true        ┆ 8         │\n",
      "│      ┆            ┆              ┆       ┆   ┆           ┆ 00:00:00    ┆             ┆           │\n",
      "│ 2019 ┆ Genesis    ┆ G70 RWD      ┆ 2.0   ┆ … ┆ 30        ┆ 2018-03-02  ┆ true        ┆ 8         │\n",
      "│      ┆            ┆              ┆       ┆   ┆           ┆ 00:00:00    ┆             ┆           │\n",
      "│ 2019 ┆ Genesis    ┆ G70 RWD      ┆ 2.0   ┆ … ┆ 28        ┆ 2018-03-02  ┆ false       ┆ 6         │\n",
      "│      ┆            ┆              ┆       ┆   ┆           ┆ 00:00:00    ┆             ┆           │\n",
      "│ …    ┆ …          ┆ …            ┆ …     ┆ … ┆ …         ┆ …           ┆ …           ┆ …         │\n",
      "│ 2025 ┆ Mitsubishi ┆ Outlander    ┆ 2.4   ┆ … ┆ 27        ┆ 2024-11-18  ┆ true        ┆ 1         │\n",
      "│      ┆            ┆ PHEV         ┆       ┆   ┆           ┆ 00:00:00    ┆             ┆           │\n",
      "│ 2025 ┆ Volvo      ┆ S60 T8 AWD   ┆ 2.0   ┆ … ┆ 33        ┆ 2024-11-18  ┆ true        ┆ 8         │\n",
      "│      ┆            ┆              ┆       ┆   ┆           ┆ 00:00:00    ┆             ┆           │\n",
      "│ 2025 ┆ Volvo      ┆ V60 T8 AWD   ┆ 2.0   ┆ … ┆ 33        ┆ 2024-11-18  ┆ true        ┆ 8         │\n",
      "│      ┆            ┆              ┆       ┆   ┆           ┆ 00:00:00    ┆             ┆           │\n",
      "│ 2025 ┆ Volvo      ┆ XC60 T8 AWD  ┆ 2.0   ┆ … ┆ 28        ┆ 2024-11-18  ┆ true        ┆ 8         │\n",
      "│      ┆            ┆              ┆       ┆   ┆           ┆ 00:00:00    ┆             ┆           │\n",
      "│ 2025 ┆ Volvo      ┆ XC90 T8 AWD  ┆ 2.0   ┆ … ┆ 27        ┆ 2024-11-18  ┆ true        ┆ 8         │\n",
      "│      ┆            ┆              ┆       ┆   ┆           ┆ 00:00:00    ┆             ┆           │\n",
      "└──────┴────────────┴──────────────┴───────┴───┴───────────┴─────────────┴─────────────┴───────────┘\n"
     ]
    }
   ],
   "source": [
    "print(autos\n",
    "      .filter(pl.col('createdOn') >= mar2018)\n",
    "      .sort('createdOn')\n",
    "     )"
   ]
  },
  {
   "cell_type": "code",
   "execution_count": 17,
   "id": "cf1bf34f-1073-480f-92a2-2977f6339dea",
   "metadata": {},
   "outputs": [
    {
     "name": "stdout",
     "output_type": "stream",
     "text": [
      "shape: (328, 5)\n",
      "┌──────┬────────┬────────────────┬──────────────┬────────┐\n",
      "│ year ┆ make   ┆ model          ┆ VClass       ┆ city08 │\n",
      "│ ---  ┆ ---    ┆ ---            ┆ ---          ┆ ---    │\n",
      "│ i16  ┆ cat    ┆ cat            ┆ cat          ┆ u8     │\n",
      "╞══════╪════════╪════════════════╪══════════════╪════════╡\n",
      "│ 1985 ┆ Honda  ┆ Civic CRX HF   ┆ Two Seaters  ┆ 40     │\n",
      "│ 2003 ┆ Honda  ┆ Civic Hybrid   ┆ Compact Cars ┆ 40     │\n",
      "│ 2006 ┆ Honda  ┆ Civic Hybrid   ┆ Compact Cars ┆ 40     │\n",
      "│ 2007 ┆ Honda  ┆ Civic Hybrid   ┆ Compact Cars ┆ 40     │\n",
      "│ 2008 ┆ Honda  ┆ Civic Hybrid   ┆ Compact Cars ┆ 40     │\n",
      "│ …    ┆ …      ┆ …              ┆ …            ┆ …      │\n",
      "│ 2024 ┆ Toyota ┆ Corolla Hybrid ┆ Compact Cars ┆ 50     │\n",
      "│ 2024 ┆ Toyota ┆ Prius Prime    ┆ Midsize Cars ┆ 50     │\n",
      "│ 2025 ┆ Honda  ┆ Civic 4Dr      ┆ Midsize Cars ┆ 50     │\n",
      "│ 2025 ┆ Toyota ┆ Corolla Hybrid ┆ Compact Cars ┆ 50     │\n",
      "│ 2025 ┆ Honda  ┆ Civic 5Dr      ┆ Large Cars   ┆ 50     │\n",
      "└──────┴────────┴────────────────┴──────────────┴────────┘\n"
     ]
    }
   ],
   "source": [
    "print(autos\n",
    "      .filter(pl.col('city08').is_between(40, 50))\n",
    "      .sort('city08')\n",
    "      .select(['year', 'make', 'model', 'VClass', 'city08'])\n",
    "     )"
   ]
  },
  {
   "cell_type": "code",
   "execution_count": 19,
   "id": "90a0610a-16fa-4f1e-babb-2e997d709198",
   "metadata": {},
   "outputs": [],
   "source": [
    "mar2013 = mar2018 - timedelta(days=5*365)"
   ]
  },
  {
   "cell_type": "code",
   "execution_count": 20,
   "id": "ce2a612f-c64e-4634-b53f-0abb99f79a43",
   "metadata": {},
   "outputs": [
    {
     "name": "stdout",
     "output_type": "stream",
     "text": [
      "shape: (5_344, 15)\n",
      "┌──────┬────────────┬──────────────┬───────┬───┬───────────┬─────────────┬─────────────┬───────────┐\n",
      "│ year ┆ make       ┆ model        ┆ displ ┆ … ┆ highway08 ┆ createdOn   ┆ is_automati ┆ num_gears │\n",
      "│ ---  ┆ ---        ┆ ---          ┆ ---   ┆   ┆ ---       ┆ ---         ┆ c           ┆ ---       │\n",
      "│ i16  ┆ cat        ┆ cat          ┆ f32   ┆   ┆ u8        ┆ datetime[μs ┆ ---         ┆ u8        │\n",
      "│      ┆            ┆              ┆       ┆   ┆           ┆ ]           ┆ str         ┆           │\n",
      "╞══════╪════════════╪══════════════╪═══════╪═══╪═══════════╪═════════════╪═════════════╪═══════════╡\n",
      "│ 2014 ┆ Lexus      ┆ GS 350       ┆ 3.5   ┆ … ┆ 29        ┆ 2013-10-29  ┆ true        ┆ 8         │\n",
      "│      ┆            ┆              ┆       ┆   ┆           ┆ 00:00:00    ┆             ┆           │\n",
      "│ 2014 ┆ Nissan     ┆ Frontier 2WD ┆ 2.5   ┆ … ┆ 23        ┆ 2013-10-29  ┆ true        ┆ 5         │\n",
      "│      ┆            ┆              ┆       ┆   ┆           ┆ 00:00:00    ┆             ┆           │\n",
      "│ 2014 ┆ Nissan     ┆ Frontier 2WD ┆ 2.5   ┆ … ┆ 23        ┆ 2013-10-29  ┆ false       ┆ 5         │\n",
      "│      ┆            ┆              ┆       ┆   ┆           ┆ 00:00:00    ┆             ┆           │\n",
      "│ 2014 ┆ Nissan     ┆ Frontier 2WD ┆ 4.0   ┆ … ┆ 22        ┆ 2013-10-29  ┆ true        ┆ 5         │\n",
      "│      ┆            ┆              ┆       ┆   ┆           ┆ 00:00:00    ┆             ┆           │\n",
      "│ 2014 ┆ Nissan     ┆ Frontier 2WD ┆ 4.0   ┆ … ┆ 22        ┆ 2013-10-29  ┆ false       ┆ 6         │\n",
      "│      ┆            ┆              ┆       ┆   ┆           ┆ 00:00:00    ┆             ┆           │\n",
      "│ …    ┆ …          ┆ …            ┆ …     ┆ … ┆ …         ┆ …           ┆ …           ┆ …         │\n",
      "│ 2018 ┆ Land Rover ┆ Range Rover  ┆ 5.0   ┆ … ┆ 21        ┆ 2018-02-26  ┆ true        ┆ 8         │\n",
      "│      ┆            ┆ LWB          ┆       ┆   ┆           ┆ 00:00:00    ┆             ┆           │\n",
      "│ 2018 ┆ Land Rover ┆ Range Rover  ┆ 5.0   ┆ … ┆ 19        ┆ 2018-02-26  ┆ true        ┆ 8         │\n",
      "│      ┆            ┆ SVA          ┆       ┆   ┆           ┆ 00:00:00    ┆             ┆           │\n",
      "│ 2018 ┆ Land Rover ┆ Range Rover  ┆ 5.0   ┆ … ┆ 19        ┆ 2018-02-26  ┆ true        ┆ 8         │\n",
      "│      ┆            ┆ LWB SVA      ┆       ┆   ┆           ┆ 00:00:00    ┆             ┆           │\n",
      "│ 2018 ┆ Land Rover ┆ Range Rover  ┆ 5.0   ┆ … ┆ 22        ┆ 2018-02-26  ┆ true        ┆ 8         │\n",
      "│      ┆            ┆ Sport        ┆       ┆   ┆           ┆ 00:00:00    ┆             ┆           │\n",
      "│ 2018 ┆ Land Rover ┆ Range Rover  ┆ 5.0   ┆ … ┆ 20        ┆ 2018-02-26  ┆ true        ┆ 8         │\n",
      "│      ┆            ┆ Sport SVR    ┆       ┆   ┆           ┆ 00:00:00    ┆             ┆           │\n",
      "└──────┴────────────┴──────────────┴───────┴───┴───────────┴─────────────┴─────────────┴───────────┘\n"
     ]
    }
   ],
   "source": [
    "print(autos\n",
    "      .filter(pl.col('createdOn').is_between(mar2013, mar2018))\n",
    "      .sort('createdOn')\n",
    "     )"
   ]
  },
  {
   "cell_type": "markdown",
   "id": "0abf84d4-3f52-4cd5-b86c-47dbf162ce37",
   "metadata": {},
   "source": [
    "### Advanced Filtering Techniques"
   ]
  },
  {
   "cell_type": "code",
   "execution_count": 21,
   "id": "e8787a68-e12f-4c6b-9617-25eb584ec20f",
   "metadata": {},
   "outputs": [],
   "source": [
    "def standardize(col):\n",
    "    return (col - col.mean()) / col.std()"
   ]
  },
  {
   "cell_type": "code",
   "execution_count": 22,
   "id": "3b94044e-040e-4a8a-ac47-dc812e40fb52",
   "metadata": {},
   "outputs": [
    {
     "name": "stdout",
     "output_type": "stream",
     "text": [
      "shape: (949, 5)\n",
      "┌──────┬───────────────┬──────────────────────────┬─────────────────────────────────┬────────┐\n",
      "│ year ┆ make          ┆ model                    ┆ VClass                          ┆ city08 │\n",
      "│ ---  ┆ ---           ┆ ---                      ┆ ---                             ┆ ---    │\n",
      "│ i16  ┆ cat           ┆ cat                      ┆ cat                             ┆ u8     │\n",
      "╞══════╪═══════════════╪══════════════════════════╪═════════════════════════════════╪════════╡\n",
      "│ 2000 ┆ Nissan        ┆ Altra EV                 ┆ Midsize Station Wagons          ┆ 81     │\n",
      "│ 2000 ┆ Toyota        ┆ RAV4 EV                  ┆ Sport Utility Vehicle - 2WD     ┆ 81     │\n",
      "│ 2001 ┆ Toyota        ┆ RAV4 EV                  ┆ Sport Utility Vehicle - 2WD     ┆ 81     │\n",
      "│ 2001 ┆ Ford          ┆ Th!nk                    ┆ Two Seaters                     ┆ 74     │\n",
      "│ 2001 ┆ Nissan        ┆ Hyper-Mini               ┆ Two Seaters                     ┆ 84     │\n",
      "│ …    ┆ …             ┆ …                        ┆ …                               ┆ …      │\n",
      "│ 2024 ┆ Mercedes-Benz ┆ EQB 300 4matic           ┆ Small Sport Utility Vehicle 4W… ┆ 89     │\n",
      "│ 2024 ┆ Tesla         ┆ Model 3 Long Range AWD-E ┆ Midsize Cars                    ┆ 133    │\n",
      "│ 2024 ┆ Tesla         ┆ Model Y Long Range AWD-I ┆ Small Sport Utility Vehicle 4W… ┆ 123    │\n",
      "│ 2024 ┆ Tesla         ┆ Model Y Long Range RWD   ┆ Small Sport Utility Vehicle 2W… ┆ 128    │\n",
      "│ 2024 ┆ Tesla         ┆ Model Y RWD              ┆ Small Sport Utility Vehicle 2W… ┆ 128    │\n",
      "└──────┴───────────────┴──────────────────────────┴─────────────────────────────────┴────────┘\n"
     ]
    }
   ],
   "source": [
    "print(autos\n",
    "      .filter(standardize(pl.col('city08')) > 3)\n",
    "      .select(['year', 'make', 'model', 'VClass', 'city08'])\n",
    "     )"
   ]
  },
  {
   "cell_type": "code",
   "execution_count": 23,
   "id": "6709d696-d96d-4c2f-8429-a0d88e0535ef",
   "metadata": {},
   "outputs": [
    {
     "name": "stdout",
     "output_type": "stream",
     "text": [
      "shape: (792, 5)\n",
      "┌──────┬───────────────┬───────────────┬──────────────────────┬────────┐\n",
      "│ year ┆ make          ┆ model         ┆ VClass               ┆ city08 │\n",
      "│ ---  ┆ ---           ┆ ---           ┆ ---                  ┆ ---    │\n",
      "│ i16  ┆ cat           ┆ cat           ┆ cat                  ┆ u8     │\n",
      "╞══════╪═══════════════╪═══════════════╪══════════════════════╪════════╡\n",
      "│ 1985 ┆ Ferrari       ┆ Testarossa    ┆ Two Seaters          ┆ 9      │\n",
      "│ 1993 ┆ CX Automotive ┆ XM v6         ┆ Midsize Cars         ┆ 13     │\n",
      "│ 1993 ┆ CX Automotive ┆ XM v6a        ┆ Midsize Cars         ┆ 13     │\n",
      "│ 1993 ┆ Lexus         ┆ LS 400        ┆ Midsize Cars         ┆ 16     │\n",
      "│ 1993 ┆ CX Automotive ┆ XM v6 Break   ┆ Small Station Wagons ┆ 13     │\n",
      "│ …    ┆ …             ┆ …             ┆ …                    ┆ …      │\n",
      "│ 1993 ┆ Lexus         ┆ SC 300/SC 400 ┆ Subcompact Cars      ┆ 16     │\n",
      "│ 1993 ┆ Mitsubishi    ┆ Mirage        ┆ Subcompact Cars      ┆ 28     │\n",
      "│ 1993 ┆ Plymouth      ┆ Colt          ┆ Subcompact Cars      ┆ 28     │\n",
      "│ 1993 ┆ Lexus         ┆ ES 300        ┆ Compact Cars         ┆ 16     │\n",
      "│ 1993 ┆ Lexus         ┆ ES 300        ┆ Compact Cars         ┆ 16     │\n",
      "└──────┴───────────────┴───────────────┴──────────────────────┴────────┘\n"
     ]
    }
   ],
   "source": [
    "print(autos\n",
    "      .filter(standardize(pl.col('city08')).over(['year', 'make']) > 3)\n",
    "      .select(['year', 'make', 'model', 'VClass', 'city08'])\n",
    "     )"
   ]
  },
  {
   "cell_type": "markdown",
   "id": "13e60bad-f689-4c78-a610-d7eebca3199a",
   "metadata": {},
   "source": [
    "### More Filtering with Window Expressions"
   ]
  },
  {
   "cell_type": "code",
   "execution_count": 26,
   "id": "368dfc4c-e6f8-4039-b1e4-a6390a227153",
   "metadata": {},
   "outputs": [
    {
     "name": "stdout",
     "output_type": "stream",
     "text": [
      "shape: (48_231, 16)\n",
      "┌──────┬────────────┬──────────────┬───────┬───┬─────────────┬─────────────┬───────────┬───────────┐\n",
      "│ year ┆ make       ┆ model        ┆ displ ┆ … ┆ createdOn   ┆ is_automati ┆ num_gears ┆ model_age │\n",
      "│ ---  ┆ ---        ┆ ---          ┆ ---   ┆   ┆ ---         ┆ c           ┆ ---       ┆ ---       │\n",
      "│ i16  ┆ cat        ┆ cat          ┆ f32   ┆   ┆ datetime[μs ┆ ---         ┆ u8        ┆ i16       │\n",
      "│      ┆            ┆              ┆       ┆   ┆ ]           ┆ str         ┆           ┆           │\n",
      "╞══════╪════════════╪══════════════╪═══════╪═══╪═════════════╪═════════════╪═══════════╪═══════════╡\n",
      "│ 1985 ┆ Alfa Romeo ┆ Spider       ┆ 2.0   ┆ … ┆ 2013-01-01  ┆ false       ┆ 5         ┆ 1         │\n",
      "│      ┆            ┆ Veloce 2000  ┆       ┆   ┆ 00:00:00    ┆             ┆           ┆           │\n",
      "│ 1985 ┆ Ferrari    ┆ Testarossa   ┆ 4.9   ┆ … ┆ 2013-01-01  ┆ false       ┆ 5         ┆ 8         │\n",
      "│      ┆            ┆              ┆       ┆   ┆ 00:00:00    ┆             ┆           ┆           │\n",
      "│ 1985 ┆ Dodge      ┆ Charger      ┆ 2.2   ┆ … ┆ 2013-01-01  ┆ false       ┆ 5         ┆ 39        │\n",
      "│      ┆            ┆              ┆       ┆   ┆ 00:00:00    ┆             ┆           ┆           │\n",
      "│ 1985 ┆ Dodge      ┆ B150/B250    ┆ 5.2   ┆ … ┆ 2013-01-01  ┆ true        ┆ 3         ┆ 10        │\n",
      "│      ┆            ┆ Wagon 2WD    ┆       ┆   ┆ 00:00:00    ┆             ┆           ┆           │\n",
      "│ 1993 ┆ Subaru     ┆ Legacy AWD   ┆ 2.2   ┆ … ┆ 2013-01-01  ┆ false       ┆ 5         ┆ 2         │\n",
      "│      ┆            ┆ Turbo        ┆       ┆   ┆ 00:00:00    ┆             ┆           ┆           │\n",
      "│ …    ┆ …          ┆ …            ┆ …     ┆ … ┆ …           ┆ …           ┆ …         ┆ …         │\n",
      "│ 1993 ┆ Subaru     ┆ Legacy       ┆ 2.2   ┆ … ┆ 2013-01-01  ┆ true        ┆ 4         ┆ 8         │\n",
      "│      ┆            ┆              ┆       ┆   ┆ 00:00:00    ┆             ┆           ┆           │\n",
      "│ 1993 ┆ Subaru     ┆ Legacy       ┆ 2.2   ┆ … ┆ 2013-01-01  ┆ false       ┆ 5         ┆ 8         │\n",
      "│      ┆            ┆              ┆       ┆   ┆ 00:00:00    ┆             ┆           ┆           │\n",
      "│ 1993 ┆ Subaru     ┆ Legacy AWD   ┆ 2.2   ┆ … ┆ 2013-01-01  ┆ true        ┆ 4         ┆ 33        │\n",
      "│      ┆            ┆              ┆       ┆   ┆ 00:00:00    ┆             ┆           ┆           │\n",
      "│ 1993 ┆ Subaru     ┆ Legacy AWD   ┆ 2.2   ┆ … ┆ 2013-01-01  ┆ false       ┆ 5         ┆ 33        │\n",
      "│      ┆            ┆              ┆       ┆   ┆ 00:00:00    ┆             ┆           ┆           │\n",
      "│ 1993 ┆ Subaru     ┆ Legacy AWD   ┆ 2.2   ┆ … ┆ 2013-01-01  ┆ true        ┆ 4         ┆ 2         │\n",
      "│      ┆            ┆ Turbo        ┆       ┆   ┆ 00:00:00    ┆             ┆           ┆           │\n",
      "└──────┴────────────┴──────────────┴───────┴───┴─────────────┴─────────────┴───────────┴───────────┘\n"
     ]
    }
   ],
   "source": [
    "print(autos\n",
    "      .with_columns(model_age=(pl.col('year').max() - pl.col('year').min())\n",
    "                    .over('model'))\n",
    "     )"
   ]
  },
  {
   "cell_type": "code",
   "execution_count": 27,
   "id": "abc4e968-a469-42da-a241-e027df4fab14",
   "metadata": {},
   "outputs": [
    {
     "name": "stdout",
     "output_type": "stream",
     "text": [
      "shape: (19_207, 16)\n",
      "┌──────┬────────┬────────────┬───────┬───┬──────────────┬──────────────┬───────────┬───────────┐\n",
      "│ year ┆ make   ┆ model      ┆ displ ┆ … ┆ createdOn    ┆ is_automatic ┆ num_gears ┆ model_age │\n",
      "│ ---  ┆ ---    ┆ ---        ┆ ---   ┆   ┆ ---          ┆ ---          ┆ ---       ┆ ---       │\n",
      "│ i16  ┆ cat    ┆ cat        ┆ f32   ┆   ┆ datetime[μs] ┆ str          ┆ u8        ┆ i16       │\n",
      "╞══════╪════════╪════════════╪═══════╪═══╪══════════════╪══════════════╪═══════════╪═══════════╡\n",
      "│ 1985 ┆ Dodge  ┆ Charger    ┆ 2.2   ┆ … ┆ 2013-01-01   ┆ false        ┆ 5         ┆ 39        │\n",
      "│      ┆        ┆            ┆       ┆   ┆ 00:00:00     ┆              ┆           ┆           │\n",
      "│ 1993 ┆ Toyota ┆ Corolla    ┆ 1.6   ┆ … ┆ 2013-01-01   ┆ true         ┆ 3         ┆ 41        │\n",
      "│      ┆        ┆            ┆       ┆   ┆ 00:00:00     ┆              ┆           ┆           │\n",
      "│ 1993 ┆ Toyota ┆ Corolla    ┆ 1.6   ┆ … ┆ 2013-01-01   ┆ false        ┆ 5         ┆ 41        │\n",
      "│      ┆        ┆            ┆       ┆   ┆ 00:00:00     ┆              ┆           ┆           │\n",
      "│ 1993 ┆ Toyota ┆ Corolla    ┆ 1.8   ┆ … ┆ 2013-01-01   ┆ true         ┆ 4         ┆ 41        │\n",
      "│      ┆        ┆            ┆       ┆   ┆ 00:00:00     ┆              ┆           ┆           │\n",
      "│ 1993 ┆ Toyota ┆ Corolla    ┆ 1.8   ┆ … ┆ 2013-01-01   ┆ false        ┆ 5         ┆ 41        │\n",
      "│      ┆        ┆            ┆       ┆   ┆ 00:00:00     ┆              ┆           ┆           │\n",
      "│ …    ┆ …      ┆ …          ┆ …     ┆ … ┆ …            ┆ …            ┆ …         ┆ …         │\n",
      "│ 1993 ┆ Saturn ┆ SL         ┆ 1.9   ┆ … ┆ 2013-01-01   ┆ true         ┆ 4         ┆ 11        │\n",
      "│      ┆        ┆            ┆       ┆   ┆ 00:00:00     ┆              ┆           ┆           │\n",
      "│ 1993 ┆ Saturn ┆ SL         ┆ 1.9   ┆ … ┆ 2013-01-01   ┆ false        ┆ 5         ┆ 11        │\n",
      "│      ┆        ┆            ┆       ┆   ┆ 00:00:00     ┆              ┆           ┆           │\n",
      "│ 1993 ┆ Saturn ┆ SL         ┆ 1.9   ┆ … ┆ 2013-01-01   ┆ false        ┆ 5         ┆ 11        │\n",
      "│      ┆        ┆            ┆       ┆   ┆ 00:00:00     ┆              ┆           ┆           │\n",
      "│ 1993 ┆ Subaru ┆ Legacy AWD ┆ 2.2   ┆ … ┆ 2013-01-01   ┆ true         ┆ 4         ┆ 33        │\n",
      "│      ┆        ┆            ┆       ┆   ┆ 00:00:00     ┆              ┆           ┆           │\n",
      "│ 1993 ┆ Subaru ┆ Legacy AWD ┆ 2.2   ┆ … ┆ 2013-01-01   ┆ false        ┆ 5         ┆ 33        │\n",
      "│      ┆        ┆            ┆       ┆   ┆ 00:00:00     ┆              ┆           ┆           │\n",
      "└──────┴────────┴────────────┴───────┴───┴──────────────┴──────────────┴───────────┴───────────┘\n"
     ]
    }
   ],
   "source": [
    "print(autos\n",
    "      .with_columns(model_age=(pl.col('year').max() - pl.col('year').min())\n",
    "                    .over('model'))\n",
    "      .filter(pl.col('model_age') > 10)\n",
    "     )"
   ]
  },
  {
   "cell_type": "markdown",
   "id": "ae09382e-d41d-4da4-a7d1-6b055d6f87b9",
   "metadata": {},
   "source": [
    "### Manipulating Data with Conditional Expressions"
   ]
  },
  {
   "cell_type": "code",
   "execution_count": 29,
   "id": "b7e409bd-3835-457f-b15d-f03a79b01804",
   "metadata": {},
   "outputs": [
    {
     "name": "stdout",
     "output_type": "stream",
     "text": [
      "shape: (15, 2)\n",
      "┌─────────────────────────────┬───────┐\n",
      "│ fuelType                    ┆ len   │\n",
      "│ ---                         ┆ ---   │\n",
      "│ cat                         ┆ u32   │\n",
      "╞═════════════════════════════╪═══════╡\n",
      "│ Gasoline or natural gas     ┆ 20    │\n",
      "│ Midgrade                    ┆ 166   │\n",
      "│ Regular Gas and Electricity ┆ 116   │\n",
      "│ Hydrogen                    ┆ 32    │\n",
      "│ Regular Gas or Electricity  ┆ 4     │\n",
      "│ …                           ┆ …     │\n",
      "│ Diesel                      ┆ 1284  │\n",
      "│ Regular                     ┆ 29131 │\n",
      "│ Gasoline or E85             ┆ 1402  │\n",
      "│ Premium Gas or Electricity  ┆ 55    │\n",
      "│ Gasoline or propane         ┆ 8     │\n",
      "└─────────────────────────────┴───────┘\n"
     ]
    }
   ],
   "source": [
    "print(autos\n",
    "      .group_by('fuelType')\n",
    "      .len()\n",
    "     )"
   ]
  },
  {
   "cell_type": "code",
   "execution_count": 31,
   "id": "899847d2-fb58-4d09-9372-634799bf651d",
   "metadata": {},
   "outputs": [
    {
     "name": "stdout",
     "output_type": "stream",
     "text": [
      "shape: (15, 1)\n",
      "┌─────────────────────────────────┐\n",
      "│ fuelType                        │\n",
      "│ ---                             │\n",
      "│ struct[2]                       │\n",
      "╞═════════════════════════════════╡\n",
      "│ {\"Regular\",29131}               │\n",
      "│ {\"Premium\",14699}               │\n",
      "│ {\"Gasoline or E85\",1402}        │\n",
      "│ {\"Diesel\",1284}                 │\n",
      "│ {\"Electricity\",930}             │\n",
      "│ …                               │\n",
      "│ {\"Premium Gas or Electricity\",… │\n",
      "│ {\"Hydrogen\",32}                 │\n",
      "│ {\"Gasoline or natural gas\",20}  │\n",
      "│ {\"Gasoline or propane\",8}       │\n",
      "│ {\"Regular Gas or Electricity\",… │\n",
      "└─────────────────────────────────┘\n"
     ]
    }
   ],
   "source": [
    "print(autos\n",
    "      .select(pl.col('fuelType').value_counts(sort=True))\n",
    "     )"
   ]
  },
  {
   "cell_type": "code",
   "execution_count": 32,
   "id": "8225d6bc-01c3-4eed-845c-19619e948108",
   "metadata": {},
   "outputs": [
    {
     "name": "stdout",
     "output_type": "stream",
     "text": [
      "shape: (15, 2)\n",
      "┌────────────────────────────┬───────┐\n",
      "│ fuelType                   ┆ count │\n",
      "│ ---                        ┆ ---   │\n",
      "│ cat                        ┆ u32   │\n",
      "╞════════════════════════════╪═══════╡\n",
      "│ Regular                    ┆ 29131 │\n",
      "│ Premium                    ┆ 14699 │\n",
      "│ Gasoline or E85            ┆ 1402  │\n",
      "│ Diesel                     ┆ 1284  │\n",
      "│ Electricity                ┆ 930   │\n",
      "│ …                          ┆ …     │\n",
      "│ Premium Gas or Electricity ┆ 55    │\n",
      "│ Hydrogen                   ┆ 32    │\n",
      "│ Gasoline or natural gas    ┆ 20    │\n",
      "│ Gasoline or propane        ┆ 8     │\n",
      "│ Regular Gas or Electricity ┆ 4     │\n",
      "└────────────────────────────┴───────┘\n"
     ]
    }
   ],
   "source": [
    "print(autos\n",
    "      .select(pl.col('fuelType').value_counts(sort=True))\n",
    "      .unnest('fuelType')\n",
    "     )"
   ]
  },
  {
   "cell_type": "code",
   "execution_count": 35,
   "id": "96be2404-eec4-4c1b-b8f7-643c132e5bf6",
   "metadata": {},
   "outputs": [
    {
     "name": "stdout",
     "output_type": "stream",
     "text": [
      "shape: (15, 1)\n",
      "┌────────────────────────────┐\n",
      "│ fuelType                   │\n",
      "│ ---                        │\n",
      "│ cat                        │\n",
      "╞════════════════════════════╡\n",
      "│ Regular                    │\n",
      "│ Premium                    │\n",
      "│ Gasoline or E85            │\n",
      "│ Diesel                     │\n",
      "│ Electricity                │\n",
      "│ …                          │\n",
      "│ Premium Gas or Electricity │\n",
      "│ Hydrogen                   │\n",
      "│ Gasoline or natural gas    │\n",
      "│ Gasoline or propane        │\n",
      "│ Regular Gas or Electricity │\n",
      "└────────────────────────────┘\n"
     ]
    }
   ],
   "source": [
    "print(autos\n",
    "      .select(pl.col('fuelType')\n",
    "              .value_counts(sort=True)\n",
    "              .struct[0])\n",
    "     )"
   ]
  },
  {
   "cell_type": "markdown",
   "id": "daee843b-550a-419c-ab79-05db413c82f5",
   "metadata": {},
   "source": [
    "##### Building `fuelTypeSimple` Expression\n",
    "\n",
    "```sh\n",
    "if 'Diesel' in fuel_type:\n",
    "    fuel_type_simple = 'Diesel'\n",
    "elif 'CNG' in fuel_type:\n",
    "    fuel_type_simple = 'CNG'\n",
    "elif 'Electricity' in fuel_type:\n",
    "    fuel_type_simple = 'Electric'\n",
    "else:\n",
    "    fuel_type_simple = 'Gasoline'"
   ]
  },
  {
   "cell_type": "markdown",
   "id": "6a308eec-d15f-4f4c-a87c-c09caf7dbcec",
   "metadata": {},
   "source": [
    "##### Polar's Format\n",
    "\n",
    "```sh\n",
    "(pl.when(COND_EXPR)\n",
    "   .then(EXPR)\n",
    " .when(COND_EXPR2)\n",
    "   .then(EXPR2)\n",
    " ... \n",
    " .otherwise(EXPRN)"
   ]
  },
  {
   "cell_type": "code",
   "execution_count": 36,
   "id": "7793a0e7-bbbe-4a5b-9b5f-5110478374f9",
   "metadata": {},
   "outputs": [],
   "source": [
    "fuel_str = pl.col('fuelType').cast(pl.String)"
   ]
  },
  {
   "cell_type": "code",
   "execution_count": 37,
   "id": "fad1b12f-b260-4864-8617-1e23f86790a4",
   "metadata": {},
   "outputs": [],
   "source": [
    "simple = (pl.when(fuel_str.str.contains('Diesel')).then(pl.lit('Diesel'))\n",
    "          .when(fuel_str.str.contains('CNG')).then(pl.lit('CNG'))\n",
    "          .when(fuel_str.str.contains('Electricity')).then(pl.lit('Electric'))\n",
    "          .otherwise(pl.lit('Gasoline')))"
   ]
  },
  {
   "cell_type": "code",
   "execution_count": 38,
   "id": "271fa275-aeac-4790-aca8-6f02d2da30dc",
   "metadata": {},
   "outputs": [
    {
     "name": "stdout",
     "output_type": "stream",
     "text": [
      "shape: (48_231, 16)\n",
      "┌──────┬────────────┬─────────────┬───────┬───┬─────────────┬─────────────┬───────────┬────────────┐\n",
      "│ year ┆ make       ┆ model       ┆ displ ┆ … ┆ createdOn   ┆ is_automati ┆ num_gears ┆ fuelTypeSi │\n",
      "│ ---  ┆ ---        ┆ ---         ┆ ---   ┆   ┆ ---         ┆ c           ┆ ---       ┆ mple       │\n",
      "│ i16  ┆ cat        ┆ cat         ┆ f32   ┆   ┆ datetime[μs ┆ ---         ┆ u8        ┆ ---        │\n",
      "│      ┆            ┆             ┆       ┆   ┆ ]           ┆ str         ┆           ┆ str        │\n",
      "╞══════╪════════════╪═════════════╪═══════╪═══╪═════════════╪═════════════╪═══════════╪════════════╡\n",
      "│ 1985 ┆ Alfa Romeo ┆ Spider      ┆ 2.0   ┆ … ┆ 2013-01-01  ┆ false       ┆ 5         ┆ Gasoline   │\n",
      "│      ┆            ┆ Veloce 2000 ┆       ┆   ┆ 00:00:00    ┆             ┆           ┆            │\n",
      "│ 1985 ┆ Ferrari    ┆ Testarossa  ┆ 4.9   ┆ … ┆ 2013-01-01  ┆ false       ┆ 5         ┆ Gasoline   │\n",
      "│      ┆            ┆             ┆       ┆   ┆ 00:00:00    ┆             ┆           ┆            │\n",
      "│ 1985 ┆ Dodge      ┆ Charger     ┆ 2.2   ┆ … ┆ 2013-01-01  ┆ false       ┆ 5         ┆ Gasoline   │\n",
      "│      ┆            ┆             ┆       ┆   ┆ 00:00:00    ┆             ┆           ┆            │\n",
      "│ 1985 ┆ Dodge      ┆ B150/B250   ┆ 5.2   ┆ … ┆ 2013-01-01  ┆ true        ┆ 3         ┆ Gasoline   │\n",
      "│      ┆            ┆ Wagon 2WD   ┆       ┆   ┆ 00:00:00    ┆             ┆           ┆            │\n",
      "│ 1993 ┆ Subaru     ┆ Legacy AWD  ┆ 2.2   ┆ … ┆ 2013-01-01  ┆ false       ┆ 5         ┆ Gasoline   │\n",
      "│      ┆            ┆ Turbo       ┆       ┆   ┆ 00:00:00    ┆             ┆           ┆            │\n",
      "│ …    ┆ …          ┆ …           ┆ …     ┆ … ┆ …           ┆ …           ┆ …         ┆ …          │\n",
      "│ 1993 ┆ Subaru     ┆ Legacy      ┆ 2.2   ┆ … ┆ 2013-01-01  ┆ true        ┆ 4         ┆ Gasoline   │\n",
      "│      ┆            ┆             ┆       ┆   ┆ 00:00:00    ┆             ┆           ┆            │\n",
      "│ 1993 ┆ Subaru     ┆ Legacy      ┆ 2.2   ┆ … ┆ 2013-01-01  ┆ false       ┆ 5         ┆ Gasoline   │\n",
      "│      ┆            ┆             ┆       ┆   ┆ 00:00:00    ┆             ┆           ┆            │\n",
      "│ 1993 ┆ Subaru     ┆ Legacy AWD  ┆ 2.2   ┆ … ┆ 2013-01-01  ┆ true        ┆ 4         ┆ Gasoline   │\n",
      "│      ┆            ┆             ┆       ┆   ┆ 00:00:00    ┆             ┆           ┆            │\n",
      "│ 1993 ┆ Subaru     ┆ Legacy AWD  ┆ 2.2   ┆ … ┆ 2013-01-01  ┆ false       ┆ 5         ┆ Gasoline   │\n",
      "│      ┆            ┆             ┆       ┆   ┆ 00:00:00    ┆             ┆           ┆            │\n",
      "│ 1993 ┆ Subaru     ┆ Legacy AWD  ┆ 2.2   ┆ … ┆ 2013-01-01  ┆ true        ┆ 4         ┆ Gasoline   │\n",
      "│      ┆            ┆ Turbo       ┆       ┆   ┆ 00:00:00    ┆             ┆           ┆            │\n",
      "└──────┴────────────┴─────────────┴───────┴───┴─────────────┴─────────────┴───────────┴────────────┘\n"
     ]
    }
   ],
   "source": [
    "print(autos\n",
    "      .with_columns(simple.alias('fuelTypeSimple'))\n",
    "     )"
   ]
  },
  {
   "cell_type": "code",
   "execution_count": 39,
   "id": "24c0238d-ffe3-4127-bbc4-de7033d1790c",
   "metadata": {},
   "outputs": [],
   "source": [
    "# Looking at CNG Column, as follows:\n",
    "fuel_str = pl.col('fuelType').cast(pl.String)"
   ]
  },
  {
   "cell_type": "code",
   "execution_count": 40,
   "id": "83e2765f-ca2f-4733-aad8-6a7304762544",
   "metadata": {},
   "outputs": [],
   "source": [
    "simple = (pl.when(fuel_str.str.contains('Diesel')).then(pl.lit('Diesel'))\n",
    "          .when(fuel_str.str.contains('CNG')).then(pl.lit('CNG'))\n",
    "          .when(fuel_str.str.contains('Electricity')).then(pl.lit('Electric'))\n",
    "          .otherwise(pl.lit('Gasoline')))"
   ]
  },
  {
   "cell_type": "code",
   "execution_count": 41,
   "id": "4f29d1ce-fcd1-485a-82c2-6dc75b308c47",
   "metadata": {},
   "outputs": [
    {
     "name": "stdout",
     "output_type": "stream",
     "text": [
      "shape: (60, 16)\n",
      "┌──────┬─────────────┬─────────────┬───────┬───┬─────────────┬────────────┬───────────┬────────────┐\n",
      "│ year ┆ make        ┆ model       ┆ displ ┆ … ┆ createdOn   ┆ is_automat ┆ num_gears ┆ fuelTypeSi │\n",
      "│ ---  ┆ ---         ┆ ---         ┆ ---   ┆   ┆ ---         ┆ ic         ┆ ---       ┆ mple       │\n",
      "│ i16  ┆ cat         ┆ cat         ┆ f32   ┆   ┆ datetime[μs ┆ ---        ┆ u8        ┆ ---        │\n",
      "│      ┆             ┆             ┆       ┆   ┆ ]           ┆ str        ┆           ┆ str        │\n",
      "╞══════╪═════════════╪═════════════╪═══════╪═══╪═════════════╪════════════╪═══════════╪════════════╡\n",
      "│ 1996 ┆ Ford        ┆ Crown       ┆ 4.6   ┆ … ┆ 2013-01-01  ┆ true       ┆ 4         ┆ CNG        │\n",
      "│      ┆             ┆ Victoria    ┆       ┆   ┆ 00:00:00    ┆            ┆           ┆            │\n",
      "│      ┆             ┆ CNG         ┆       ┆   ┆             ┆            ┆           ┆            │\n",
      "│ 1997 ┆ Ford        ┆ Crown       ┆ 4.6   ┆ … ┆ 2013-01-01  ┆ true       ┆ 4         ┆ CNG        │\n",
      "│      ┆             ┆ Victoria    ┆       ┆   ┆ 00:00:00    ┆            ┆           ┆            │\n",
      "│      ┆             ┆ CNG         ┆       ┆   ┆             ┆            ┆           ┆            │\n",
      "│ 1998 ┆ Honda       ┆ Civic CNG   ┆ 1.6   ┆ … ┆ 2013-01-01  ┆ true       ┆ 4         ┆ CNG        │\n",
      "│      ┆             ┆             ┆       ┆   ┆ 00:00:00    ┆            ┆           ┆            │\n",
      "│ 1998 ┆ Ford        ┆ F250 Pickup ┆ 5.4   ┆ … ┆ 2013-01-01  ┆ true       ┆ 4         ┆ CNG        │\n",
      "│      ┆             ┆ 2WD CNG     ┆       ┆   ┆ 00:00:00    ┆            ┆           ┆            │\n",
      "│ 1998 ┆ Ford        ┆ E250        ┆ 5.4   ┆ … ┆ 2013-01-01  ┆ true       ┆ 4         ┆ CNG        │\n",
      "│      ┆             ┆ Econoline   ┆       ┆   ┆ 00:00:00    ┆            ┆           ┆            │\n",
      "│      ┆             ┆ 2WD CNG     ┆       ┆   ┆             ┆            ┆           ┆            │\n",
      "│ …    ┆ …           ┆ …           ┆ …     ┆ … ┆ …           ┆ …          ┆ …         ┆ …          │\n",
      "│ 2012 ┆ Honda       ┆ Civic       ┆ 1.8   ┆ … ┆ 2013-01-01  ┆ true       ┆ 5         ┆ CNG        │\n",
      "│      ┆             ┆ Natural Gas ┆       ┆   ┆ 00:00:00    ┆            ┆           ┆            │\n",
      "│ 2013 ┆ Honda       ┆ Civic       ┆ 1.8   ┆ … ┆ 2013-01-01  ┆ true       ┆ 5         ┆ CNG        │\n",
      "│      ┆             ┆ Natural Gas ┆       ┆   ┆ 00:00:00    ┆            ┆           ┆            │\n",
      "│ 2014 ┆ Honda       ┆ Civic       ┆ 1.8   ┆ … ┆ 2014-02-17  ┆ true       ┆ 5         ┆ CNG        │\n",
      "│      ┆             ┆ Natural Gas ┆       ┆   ┆ 00:00:00    ┆            ┆           ┆            │\n",
      "│ 2014 ┆ Mobility    ┆ MV-1 CNG    ┆ 4.6   ┆ … ┆ 2014-09-10  ┆ true       ┆ 4         ┆ CNG        │\n",
      "│      ┆ Ventures    ┆             ┆       ┆   ┆ 00:00:00    ┆            ┆           ┆            │\n",
      "│      ┆ LLC         ┆             ┆       ┆   ┆             ┆            ┆           ┆            │\n",
      "│ 2015 ┆ Honda       ┆ Civic       ┆ 1.8   ┆ … ┆ 2014-11-06  ┆ true       ┆ 5         ┆ CNG        │\n",
      "│      ┆             ┆ Natural Gas ┆       ┆   ┆ 00:00:00    ┆            ┆           ┆            │\n",
      "└──────┴─────────────┴─────────────┴───────┴───┴─────────────┴────────────┴───────────┴────────────┘\n"
     ]
    }
   ],
   "source": [
    "print(autos\n",
    "      .with_columns(fuelTypeSimple=simple)\n",
    "      .filter(pl.col('fuelTypeSimple') == 'CNG')\n",
    "     )"
   ]
  },
  {
   "cell_type": "code",
   "execution_count": null,
   "id": "9ccb53eb-2d5e-44ef-af04-57cab853c784",
   "metadata": {},
   "outputs": [],
   "source": []
  }
 ],
 "metadata": {
  "kernelspec": {
   "display_name": "Python 3 (ipykernel)",
   "language": "python",
   "name": "python3"
  },
  "language_info": {
   "codemirror_mode": {
    "name": "ipython",
    "version": 3
   },
   "file_extension": ".py",
   "mimetype": "text/x-python",
   "name": "python",
   "nbconvert_exporter": "python",
   "pygments_lexer": "ipython3",
   "version": "3.11.8"
  }
 },
 "nbformat": 4,
 "nbformat_minor": 5
}
