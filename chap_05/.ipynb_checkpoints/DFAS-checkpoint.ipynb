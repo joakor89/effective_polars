{
 "cells": [
  {
   "cell_type": "markdown",
   "id": "fd22dc12-72fd-45cd-bc20-8e1f07d7a11e",
   "metadata": {},
   "source": [
    "# Data Filtering & Selection\n",
    "\n",
    "### Loading Libraries"
   ]
  },
  {
   "cell_type": "code",
   "execution_count": 1,
   "id": "cf335c47-5256-4fff-aa5f-d16f50092222",
   "metadata": {},
   "outputs": [],
   "source": [
    "# ZipFiles\n",
    "import zipfile\n",
    "\n",
    "# Numerical Computing\n",
    "import numpy as np\n",
    "\n",
    "# Data Manipulation\n",
    "import pandas as pd\n",
    "import polars as pl\n",
    "import polars.selectors as cs\n",
    "\n",
    "# Data Visualization\n",
    "import seaborn as sns\n",
    "import matplotlib.pyplot as plt\n",
    "\n",
    "# XGBoost\n",
    "import xgboost as xgb"
   ]
  },
  {
   "cell_type": "markdown",
   "id": "4caaa8d7-5f5c-435d-9cb2-5ff48d50b650",
   "metadata": {},
   "source": [
    "## Loading Data"
   ]
  },
  {
   "cell_type": "code",
   "execution_count": 2,
   "id": "af5121ae-9e26-4670-8b62-ab555573f24d",
   "metadata": {},
   "outputs": [],
   "source": [
    "# Path\n",
    "path = '/Users/isisromero/desktop/polars/datasets/vehicles.csv'"
   ]
  },
  {
   "cell_type": "code",
   "execution_count": 3,
   "id": "6e53af1c-19ac-4181-b23a-5707840f5832",
   "metadata": {},
   "outputs": [],
   "source": [
    "raw = pl.read_csv(path, null_values=['NA'])"
   ]
  },
  {
   "cell_type": "code",
   "execution_count": 4,
   "id": "435a3abd-e893-437b-a2da-8bb574167169",
   "metadata": {},
   "outputs": [],
   "source": [
    "def tweak_auto(df):\n",
    "    cols = ['year', 'make', 'model', 'displ', 'cylinders', 'trany', \n",
    "            'drive', 'VClass', 'fuelType', 'barrels08', 'city08', 'highway08', 'createdOn']\n",
    "    return (df\n",
    "            .select(pl.col(cols))\n",
    "            .with_columns(pl.col('year').cast(pl.Int16),\n",
    "                          pl.col(['cylinders', 'highway08', 'city08']).cast(pl.UInt8),\n",
    "                          pl.col(['displ', 'barrels08']).cast(pl.Float32),\n",
    "                          pl.col(['make', 'model', 'VClass', 'drive', 'fuelType']).cast(pl.Categorical),\n",
    "                          pl.col('createdOn').str.to_datetime('%a %b %d %H:%M:%S %Z %Y'),\n",
    "                          is_automatic=pl.col('trany')                    \n",
    "                          .str.contains('Automatic')\n",
    "                          .fill_null('Automatic'),\n",
    "                          num_gears=pl.col('trany')\n",
    "                          .str.extract(r'(\\d+)')\n",
    "                          .cast(pl.UInt8)\n",
    "                          .fill_null(6))\n",
    "           )"
   ]
  },
  {
   "cell_type": "code",
   "execution_count": 5,
   "id": "5208df68-1193-4bd8-98c9-2616646d85eb",
   "metadata": {},
   "outputs": [],
   "source": [
    "autos = tweak_auto(raw)"
   ]
  },
  {
   "cell_type": "code",
   "execution_count": 6,
   "id": "d235e30e-0722-46b6-ae69-1d6b4076ca30",
   "metadata": {},
   "outputs": [
    {
     "name": "stdout",
     "output_type": "stream",
     "text": [
      "shape: (48_231, 15)\n",
      "┌──────┬────────────┬──────────────┬───────┬───┬───────────┬─────────────┬─────────────┬───────────┐\n",
      "│ year ┆ make       ┆ model        ┆ displ ┆ … ┆ highway08 ┆ createdOn   ┆ is_automati ┆ num_gears │\n",
      "│ ---  ┆ ---        ┆ ---          ┆ ---   ┆   ┆ ---       ┆ ---         ┆ c           ┆ ---       │\n",
      "│ i16  ┆ cat        ┆ cat          ┆ f32   ┆   ┆ u8        ┆ datetime[μs ┆ ---         ┆ u8        │\n",
      "│      ┆            ┆              ┆       ┆   ┆           ┆ ]           ┆ str         ┆           │\n",
      "╞══════╪════════════╪══════════════╪═══════╪═══╪═══════════╪═════════════╪═════════════╪═══════════╡\n",
      "│ 1985 ┆ Alfa Romeo ┆ Spider       ┆ 2.0   ┆ … ┆ 25        ┆ 2013-01-01  ┆ false       ┆ 5         │\n",
      "│      ┆            ┆ Veloce 2000  ┆       ┆   ┆           ┆ 00:00:00    ┆             ┆           │\n",
      "│ 1985 ┆ Ferrari    ┆ Testarossa   ┆ 4.9   ┆ … ┆ 14        ┆ 2013-01-01  ┆ false       ┆ 5         │\n",
      "│      ┆            ┆              ┆       ┆   ┆           ┆ 00:00:00    ┆             ┆           │\n",
      "│ 1985 ┆ Dodge      ┆ Charger      ┆ 2.2   ┆ … ┆ 33        ┆ 2013-01-01  ┆ false       ┆ 5         │\n",
      "│      ┆            ┆              ┆       ┆   ┆           ┆ 00:00:00    ┆             ┆           │\n",
      "│ 1985 ┆ Dodge      ┆ B150/B250    ┆ 5.2   ┆ … ┆ 12        ┆ 2013-01-01  ┆ true        ┆ 3         │\n",
      "│      ┆            ┆ Wagon 2WD    ┆       ┆   ┆           ┆ 00:00:00    ┆             ┆           │\n",
      "│ 1993 ┆ Subaru     ┆ Legacy AWD   ┆ 2.2   ┆ … ┆ 23        ┆ 2013-01-01  ┆ false       ┆ 5         │\n",
      "│      ┆            ┆ Turbo        ┆       ┆   ┆           ┆ 00:00:00    ┆             ┆           │\n",
      "│ …    ┆ …          ┆ …            ┆ …     ┆ … ┆ …         ┆ …           ┆ …           ┆ …         │\n",
      "│ 1993 ┆ Subaru     ┆ Legacy       ┆ 2.2   ┆ … ┆ 26        ┆ 2013-01-01  ┆ true        ┆ 4         │\n",
      "│      ┆            ┆              ┆       ┆   ┆           ┆ 00:00:00    ┆             ┆           │\n",
      "│ 1993 ┆ Subaru     ┆ Legacy       ┆ 2.2   ┆ … ┆ 28        ┆ 2013-01-01  ┆ false       ┆ 5         │\n",
      "│      ┆            ┆              ┆       ┆   ┆           ┆ 00:00:00    ┆             ┆           │\n",
      "│ 1993 ┆ Subaru     ┆ Legacy AWD   ┆ 2.2   ┆ … ┆ 24        ┆ 2013-01-01  ┆ true        ┆ 4         │\n",
      "│      ┆            ┆              ┆       ┆   ┆           ┆ 00:00:00    ┆             ┆           │\n",
      "│ 1993 ┆ Subaru     ┆ Legacy AWD   ┆ 2.2   ┆ … ┆ 24        ┆ 2013-01-01  ┆ false       ┆ 5         │\n",
      "│      ┆            ┆              ┆       ┆   ┆           ┆ 00:00:00    ┆             ┆           │\n",
      "│ 1993 ┆ Subaru     ┆ Legacy AWD   ┆ 2.2   ┆ … ┆ 21        ┆ 2013-01-01  ┆ true        ┆ 4         │\n",
      "│      ┆            ┆ Turbo        ┆       ┆   ┆           ┆ 00:00:00    ┆             ┆           │\n",
      "└──────┴────────────┴──────────────┴───────┴───┴───────────┴─────────────┴─────────────┴───────────┘\n"
     ]
    }
   ],
   "source": [
    "print(autos)"
   ]
  },
  {
   "cell_type": "markdown",
   "id": "4f04f6a9-504a-4a12-8cbf-4b36a00702c5",
   "metadata": {},
   "source": [
    "### Filtering with Expressions"
   ]
  },
  {
   "cell_type": "code",
   "execution_count": 7,
   "id": "8ff0d85d-1b15-4964-808d-a8cb587c9c89",
   "metadata": {},
   "outputs": [
    {
     "name": "stdout",
     "output_type": "stream",
     "text": [
      "shape: (1_325, 15)\n",
      "┌──────┬────────┬───────────┬───────┬───┬───────────┬──────────────┬──────────────┬───────────┐\n",
      "│ year ┆ make   ┆ model     ┆ displ ┆ … ┆ highway08 ┆ createdOn    ┆ is_automatic ┆ num_gears │\n",
      "│ ---  ┆ ---    ┆ ---       ┆ ---   ┆   ┆ ---       ┆ ---          ┆ ---          ┆ ---       │\n",
      "│ i16  ┆ cat    ┆ cat       ┆ f32   ┆   ┆ u8        ┆ datetime[μs] ┆ str          ┆ u8        │\n",
      "╞══════╪════════╪═══════════╪═══════╪═══╪═══════════╪══════════════╪══════════════╪═══════════╡\n",
      "│ 1994 ┆ Geo    ┆ Metro XFI ┆ 1.0   ┆ … ┆ 52        ┆ 2013-01-01   ┆ false        ┆ 5         │\n",
      "│      ┆        ┆           ┆       ┆   ┆           ┆ 00:00:00     ┆              ┆           │\n",
      "│ 2000 ┆ Honda  ┆ Insight   ┆ 1.0   ┆ … ┆ 61        ┆ 2013-01-01   ┆ false        ┆ 5         │\n",
      "│      ┆        ┆           ┆       ┆   ┆           ┆ 00:00:00     ┆              ┆           │\n",
      "│ 2000 ┆ Nissan ┆ Altra EV  ┆ null  ┆ … ┆ 91        ┆ 2013-01-01   ┆ Automatic    ┆ 6         │\n",
      "│      ┆        ┆           ┆       ┆   ┆           ┆ 00:00:00     ┆              ┆           │\n",
      "│ 2000 ┆ Toyota ┆ RAV4 EV   ┆ null  ┆ … ┆ 64        ┆ 2013-01-01   ┆ Automatic    ┆ 6         │\n",
      "│      ┆        ┆           ┆       ┆   ┆           ┆ 00:00:00     ┆              ┆           │\n",
      "│ 2001 ┆ Honda  ┆ Insight   ┆ 1.0   ┆ … ┆ 49        ┆ 2013-01-01   ┆ true         ┆ 6         │\n",
      "│      ┆        ┆           ┆       ┆   ┆           ┆ 00:00:00     ┆              ┆           │\n",
      "│ …    ┆ …      ┆ …         ┆ …     ┆ … ┆ …         ┆ …            ┆ …            ┆ …         │\n",
      "│ 1989 ┆ Geo    ┆ Metro     ┆ 1.0   ┆ … ┆ 52        ┆ 2013-01-01   ┆ false        ┆ 5         │\n",
      "│      ┆        ┆           ┆       ┆   ┆           ┆ 00:00:00     ┆              ┆           │\n",
      "│ 1990 ┆ Geo    ┆ Metro XFI ┆ 1.0   ┆ … ┆ 52        ┆ 2013-01-01   ┆ false        ┆ 5         │\n",
      "│      ┆        ┆           ┆       ┆   ┆           ┆ 00:00:00     ┆              ┆           │\n",
      "│ 1991 ┆ Geo    ┆ Metro XFI ┆ 1.0   ┆ … ┆ 52        ┆ 2013-01-01   ┆ false        ┆ 5         │\n",
      "│      ┆        ┆           ┆       ┆   ┆           ┆ 00:00:00     ┆              ┆           │\n",
      "│ 1992 ┆ Geo    ┆ Metro XFI ┆ 1.0   ┆ … ┆ 52        ┆ 2013-01-01   ┆ false        ┆ 5         │\n",
      "│      ┆        ┆           ┆       ┆   ┆           ┆ 00:00:00     ┆              ┆           │\n",
      "│ 1993 ┆ Geo    ┆ Metro XFI ┆ 1.0   ┆ … ┆ 52        ┆ 2013-01-01   ┆ false        ┆ 5         │\n",
      "│      ┆        ┆           ┆       ┆   ┆           ┆ 00:00:00     ┆              ┆           │\n",
      "└──────┴────────┴───────────┴───────┴───┴───────────┴──────────────┴──────────────┴───────────┘\n"
     ]
    }
   ],
   "source": [
    "print(autos\n",
    "      .filter(pl.col('city08') > 40)\n",
    "     )"
   ]
  },
  {
   "cell_type": "code",
   "execution_count": 8,
   "id": "62433bb5-3c04-4340-a4ee-62cc7c2eeb3f",
   "metadata": {},
   "outputs": [
    {
     "name": "stdout",
     "output_type": "stream",
     "text": [
      "shape: (155, 15)\n",
      "┌──────┬────────┬───────────────┬───────┬───┬───────────┬───────────────┬──────────────┬───────────┐\n",
      "│ year ┆ make   ┆ model         ┆ displ ┆ … ┆ highway08 ┆ createdOn     ┆ is_automatic ┆ num_gears │\n",
      "│ ---  ┆ ---    ┆ ---           ┆ ---   ┆   ┆ ---       ┆ ---           ┆ ---          ┆ ---       │\n",
      "│ i16  ┆ cat    ┆ cat           ┆ f32   ┆   ┆ u8        ┆ datetime[μs]  ┆ str          ┆ u8        │\n",
      "╞══════╪════════╪═══════════════╪═══════╪═══╪═══════════╪═══════════════╪══════════════╪═══════════╡\n",
      "│ 2000 ┆ Toyota ┆ RAV4 EV       ┆ null  ┆ … ┆ 64        ┆ 2013-01-01    ┆ Automatic    ┆ 6         │\n",
      "│      ┆        ┆               ┆       ┆   ┆           ┆ 00:00:00      ┆              ┆           │\n",
      "│ 2001 ┆ Toyota ┆ Prius         ┆ 1.5   ┆ … ┆ 41        ┆ 2013-01-01    ┆ true         ┆ 6         │\n",
      "│      ┆        ┆               ┆       ┆   ┆           ┆ 00:00:00      ┆              ┆           │\n",
      "│ 2001 ┆ Toyota ┆ RAV4 EV       ┆ null  ┆ … ┆ 64        ┆ 2013-01-01    ┆ Automatic    ┆ 6         │\n",
      "│      ┆        ┆               ┆       ┆   ┆           ┆ 00:00:00      ┆              ┆           │\n",
      "│ 2002 ┆ Toyota ┆ Prius         ┆ 1.5   ┆ … ┆ 41        ┆ 2013-01-01    ┆ true         ┆ 6         │\n",
      "│      ┆        ┆               ┆       ┆   ┆           ┆ 00:00:00      ┆              ┆           │\n",
      "│ 2002 ┆ Toyota ┆ RAV4 EV       ┆ null  ┆ … ┆ 69        ┆ 2013-01-01    ┆ Automatic    ┆ 6         │\n",
      "│      ┆        ┆               ┆       ┆   ┆           ┆ 00:00:00      ┆              ┆           │\n",
      "│ …    ┆ …      ┆ …             ┆ …     ┆ … ┆ …         ┆ …             ┆ …            ┆ …         │\n",
      "│ 2025 ┆ Toyota ┆ Camry HEV FF  ┆ 2.5   ┆ … ┆ 50        ┆ 2024-08-07    ┆ true         ┆ 6         │\n",
      "│      ┆        ┆ LE            ┆       ┆   ┆           ┆ 00:00:00      ┆              ┆           │\n",
      "│ 2025 ┆ Toyota ┆ Camry HEV FF  ┆ 2.5   ┆ … ┆ 47        ┆ 2024-08-07    ┆ true         ┆ 6         │\n",
      "│      ┆        ┆ SE/XLE/XSE    ┆       ┆   ┆           ┆ 00:00:00      ┆              ┆           │\n",
      "│ 2025 ┆ Toyota ┆ Camry HEV AWD ┆ 2.5   ┆ … ┆ 49        ┆ 2024-08-07    ┆ true         ┆ 6         │\n",
      "│      ┆        ┆ LE            ┆       ┆   ┆           ┆ 00:00:00      ┆              ┆           │\n",
      "│ 2025 ┆ Toyota ┆ Corolla       ┆ 1.8   ┆ … ┆ 43        ┆ 2024-09-18    ┆ true         ┆ 6         │\n",
      "│      ┆        ┆ Hybrid        ┆       ┆   ┆           ┆ 00:00:00      ┆              ┆           │\n",
      "│ 2025 ┆ Toyota ┆ Corolla       ┆ 1.8   ┆ … ┆ 41        ┆ 2024-09-18    ┆ true         ┆ 6         │\n",
      "│      ┆        ┆ Hybrid AWD    ┆       ┆   ┆           ┆ 00:00:00      ┆              ┆           │\n",
      "└──────┴────────┴───────────────┴───────┴───┴───────────┴───────────────┴──────────────┴───────────┘\n"
     ]
    }
   ],
   "source": [
    "print(autos\n",
    "      .filter(pl.col('city08') > 40)\n",
    "      .filter(pl.col('make') == 'Toyota')\n",
    "     )"
   ]
  },
  {
   "cell_type": "code",
   "execution_count": 10,
   "id": "c3f1c6a0-0ddb-410c-bcfe-82f22b871939",
   "metadata": {},
   "outputs": [
    {
     "name": "stdout",
     "output_type": "stream",
     "text": [
      "shape: (155, 15)\n",
      "┌──────┬────────┬───────────────┬───────┬───┬───────────┬───────────────┬──────────────┬───────────┐\n",
      "│ year ┆ make   ┆ model         ┆ displ ┆ … ┆ highway08 ┆ createdOn     ┆ is_automatic ┆ num_gears │\n",
      "│ ---  ┆ ---    ┆ ---           ┆ ---   ┆   ┆ ---       ┆ ---           ┆ ---          ┆ ---       │\n",
      "│ i16  ┆ cat    ┆ cat           ┆ f32   ┆   ┆ u8        ┆ datetime[μs]  ┆ str          ┆ u8        │\n",
      "╞══════╪════════╪═══════════════╪═══════╪═══╪═══════════╪═══════════════╪══════════════╪═══════════╡\n",
      "│ 2000 ┆ Toyota ┆ RAV4 EV       ┆ null  ┆ … ┆ 64        ┆ 2013-01-01    ┆ Automatic    ┆ 6         │\n",
      "│      ┆        ┆               ┆       ┆   ┆           ┆ 00:00:00      ┆              ┆           │\n",
      "│ 2001 ┆ Toyota ┆ Prius         ┆ 1.5   ┆ … ┆ 41        ┆ 2013-01-01    ┆ true         ┆ 6         │\n",
      "│      ┆        ┆               ┆       ┆   ┆           ┆ 00:00:00      ┆              ┆           │\n",
      "│ 2001 ┆ Toyota ┆ RAV4 EV       ┆ null  ┆ … ┆ 64        ┆ 2013-01-01    ┆ Automatic    ┆ 6         │\n",
      "│      ┆        ┆               ┆       ┆   ┆           ┆ 00:00:00      ┆              ┆           │\n",
      "│ 2002 ┆ Toyota ┆ Prius         ┆ 1.5   ┆ … ┆ 41        ┆ 2013-01-01    ┆ true         ┆ 6         │\n",
      "│      ┆        ┆               ┆       ┆   ┆           ┆ 00:00:00      ┆              ┆           │\n",
      "│ 2002 ┆ Toyota ┆ RAV4 EV       ┆ null  ┆ … ┆ 69        ┆ 2013-01-01    ┆ Automatic    ┆ 6         │\n",
      "│      ┆        ┆               ┆       ┆   ┆           ┆ 00:00:00      ┆              ┆           │\n",
      "│ …    ┆ …      ┆ …             ┆ …     ┆ … ┆ …         ┆ …             ┆ …            ┆ …         │\n",
      "│ 2025 ┆ Toyota ┆ Camry HEV FF  ┆ 2.5   ┆ … ┆ 50        ┆ 2024-08-07    ┆ true         ┆ 6         │\n",
      "│      ┆        ┆ LE            ┆       ┆   ┆           ┆ 00:00:00      ┆              ┆           │\n",
      "│ 2025 ┆ Toyota ┆ Camry HEV FF  ┆ 2.5   ┆ … ┆ 47        ┆ 2024-08-07    ┆ true         ┆ 6         │\n",
      "│      ┆        ┆ SE/XLE/XSE    ┆       ┆   ┆           ┆ 00:00:00      ┆              ┆           │\n",
      "│ 2025 ┆ Toyota ┆ Camry HEV AWD ┆ 2.5   ┆ … ┆ 49        ┆ 2024-08-07    ┆ true         ┆ 6         │\n",
      "│      ┆        ┆ LE            ┆       ┆   ┆           ┆ 00:00:00      ┆              ┆           │\n",
      "│ 2025 ┆ Toyota ┆ Corolla       ┆ 1.8   ┆ … ┆ 43        ┆ 2024-09-18    ┆ true         ┆ 6         │\n",
      "│      ┆        ┆ Hybrid        ┆       ┆   ┆           ┆ 00:00:00      ┆              ┆           │\n",
      "│ 2025 ┆ Toyota ┆ Corolla       ┆ 1.8   ┆ … ┆ 41        ┆ 2024-09-18    ┆ true         ┆ 6         │\n",
      "│      ┆        ┆ Hybrid AWD    ┆       ┆   ┆           ┆ 00:00:00      ┆              ┆           │\n",
      "└──────┴────────┴───────────────┴───────┴───┴───────────┴───────────────┴──────────────┴───────────┘\n"
     ]
    }
   ],
   "source": [
    "# Placing Multiple Conditions within Filter\n",
    "print(autos\n",
    "      .filter(pl.col('city08') > 40, pl.col('make') == 'Toyota')\n",
    "     )"
   ]
  },
  {
   "cell_type": "code",
   "execution_count": 11,
   "id": "a1abebc2-ba20-43e5-8457-a9300ab82617",
   "metadata": {},
   "outputs": [
    {
     "name": "stdout",
     "output_type": "stream",
     "text": [
      "shape: (155, 15)\n",
      "┌──────┬────────┬───────────────┬───────┬───┬───────────┬───────────────┬──────────────┬───────────┐\n",
      "│ year ┆ make   ┆ model         ┆ displ ┆ … ┆ highway08 ┆ createdOn     ┆ is_automatic ┆ num_gears │\n",
      "│ ---  ┆ ---    ┆ ---           ┆ ---   ┆   ┆ ---       ┆ ---           ┆ ---          ┆ ---       │\n",
      "│ i16  ┆ cat    ┆ cat           ┆ f32   ┆   ┆ u8        ┆ datetime[μs]  ┆ str          ┆ u8        │\n",
      "╞══════╪════════╪═══════════════╪═══════╪═══╪═══════════╪═══════════════╪══════════════╪═══════════╡\n",
      "│ 2000 ┆ Toyota ┆ RAV4 EV       ┆ null  ┆ … ┆ 64        ┆ 2013-01-01    ┆ Automatic    ┆ 6         │\n",
      "│      ┆        ┆               ┆       ┆   ┆           ┆ 00:00:00      ┆              ┆           │\n",
      "│ 2001 ┆ Toyota ┆ Prius         ┆ 1.5   ┆ … ┆ 41        ┆ 2013-01-01    ┆ true         ┆ 6         │\n",
      "│      ┆        ┆               ┆       ┆   ┆           ┆ 00:00:00      ┆              ┆           │\n",
      "│ 2001 ┆ Toyota ┆ RAV4 EV       ┆ null  ┆ … ┆ 64        ┆ 2013-01-01    ┆ Automatic    ┆ 6         │\n",
      "│      ┆        ┆               ┆       ┆   ┆           ┆ 00:00:00      ┆              ┆           │\n",
      "│ 2002 ┆ Toyota ┆ Prius         ┆ 1.5   ┆ … ┆ 41        ┆ 2013-01-01    ┆ true         ┆ 6         │\n",
      "│      ┆        ┆               ┆       ┆   ┆           ┆ 00:00:00      ┆              ┆           │\n",
      "│ 2002 ┆ Toyota ┆ RAV4 EV       ┆ null  ┆ … ┆ 69        ┆ 2013-01-01    ┆ Automatic    ┆ 6         │\n",
      "│      ┆        ┆               ┆       ┆   ┆           ┆ 00:00:00      ┆              ┆           │\n",
      "│ …    ┆ …      ┆ …             ┆ …     ┆ … ┆ …         ┆ …             ┆ …            ┆ …         │\n",
      "│ 2025 ┆ Toyota ┆ Camry HEV FF  ┆ 2.5   ┆ … ┆ 50        ┆ 2024-08-07    ┆ true         ┆ 6         │\n",
      "│      ┆        ┆ LE            ┆       ┆   ┆           ┆ 00:00:00      ┆              ┆           │\n",
      "│ 2025 ┆ Toyota ┆ Camry HEV FF  ┆ 2.5   ┆ … ┆ 47        ┆ 2024-08-07    ┆ true         ┆ 6         │\n",
      "│      ┆        ┆ SE/XLE/XSE    ┆       ┆   ┆           ┆ 00:00:00      ┆              ┆           │\n",
      "│ 2025 ┆ Toyota ┆ Camry HEV AWD ┆ 2.5   ┆ … ┆ 49        ┆ 2024-08-07    ┆ true         ┆ 6         │\n",
      "│      ┆        ┆ LE            ┆       ┆   ┆           ┆ 00:00:00      ┆              ┆           │\n",
      "│ 2025 ┆ Toyota ┆ Corolla       ┆ 1.8   ┆ … ┆ 43        ┆ 2024-09-18    ┆ true         ┆ 6         │\n",
      "│      ┆        ┆ Hybrid        ┆       ┆   ┆           ┆ 00:00:00      ┆              ┆           │\n",
      "│ 2025 ┆ Toyota ┆ Corolla       ┆ 1.8   ┆ … ┆ 41        ┆ 2024-09-18    ┆ true         ┆ 6         │\n",
      "│      ┆        ┆ Hybrid AWD    ┆       ┆   ┆           ┆ 00:00:00      ┆              ┆           │\n",
      "└──────┴────────┴───────────────┴───────┴───┴───────────┴───────────────┴──────────────┴───────────┘\n"
     ]
    }
   ],
   "source": [
    "# Using Boolean Operators\n",
    "print(autos\n",
    "      .filter((pl.col('make') == 'Toyota') & (pl.col('city08') > 40))\n",
    "     )"
   ]
  },
  {
   "cell_type": "markdown",
   "id": "ceb337ad-49b4-4120-839e-c3ac1523d38f",
   "metadata": {},
   "source": [
    "### Filtering with Keywords"
   ]
  },
  {
   "cell_type": "code",
   "execution_count": null,
   "id": "09c82d74-33af-4f2e-a60e-faf7f3e31659",
   "metadata": {},
   "outputs": [],
   "source": []
  }
 ],
 "metadata": {
  "kernelspec": {
   "display_name": "Python 3 (ipykernel)",
   "language": "python",
   "name": "python3"
  },
  "language_info": {
   "codemirror_mode": {
    "name": "ipython",
    "version": 3
   },
   "file_extension": ".py",
   "mimetype": "text/x-python",
   "name": "python",
   "nbconvert_exporter": "python",
   "pygments_lexer": "ipython3",
   "version": "3.11.8"
  }
 },
 "nbformat": 4,
 "nbformat_minor": 5
}
