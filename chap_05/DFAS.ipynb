{
 "cells": [
  {
   "cell_type": "markdown",
   "id": "fd22dc12-72fd-45cd-bc20-8e1f07d7a11e",
   "metadata": {},
   "source": [
    "# Data Filtering & Selection\n",
    "\n",
    "### Loading Libraries"
   ]
  },
  {
   "cell_type": "code",
   "execution_count": 60,
   "id": "cf335c47-5256-4fff-aa5f-d16f50092222",
   "metadata": {},
   "outputs": [],
   "source": [
    "# ZipFiles\n",
    "import zipfile\n",
    "\n",
    "# Numerical Computing\n",
    "import numpy as np\n",
    "\n",
    "# Data Manipulation\n",
    "import pandas as pd\n",
    "import polars as pl\n",
    "import polars.selectors as cs\n",
    "\n",
    "# Data Visualization\n",
    "import seaborn as sns\n",
    "import matplotlib.pyplot as plt\n",
    "\n",
    "# XGBoost\n",
    "import xgboost as xgb\n",
    "\n",
    "# Scikit-Learn\n",
    "from sklearn import decomposition\n",
    "\n",
    "# Date & Time\n",
    "from datetime import datetime\n",
    "from datetime import timedelta"
   ]
  },
  {
   "cell_type": "markdown",
   "id": "4caaa8d7-5f5c-435d-9cb2-5ff48d50b650",
   "metadata": {},
   "source": [
    "## Loading Data"
   ]
  },
  {
   "cell_type": "code",
   "execution_count": 2,
   "id": "af5121ae-9e26-4670-8b62-ab555573f24d",
   "metadata": {},
   "outputs": [],
   "source": [
    "# Path\n",
    "path = '/Users/isisromero/desktop/polars/datasets/vehicles.csv'"
   ]
  },
  {
   "cell_type": "code",
   "execution_count": 3,
   "id": "6e53af1c-19ac-4181-b23a-5707840f5832",
   "metadata": {},
   "outputs": [],
   "source": [
    "raw = pl.read_csv(path, null_values=['NA'])"
   ]
  },
  {
   "cell_type": "code",
   "execution_count": 4,
   "id": "435a3abd-e893-437b-a2da-8bb574167169",
   "metadata": {},
   "outputs": [],
   "source": [
    "def tweak_auto(df):\n",
    "    cols = ['year', 'make', 'model', 'displ', 'cylinders', 'trany', \n",
    "            'drive', 'VClass', 'fuelType', 'barrels08', 'city08', 'highway08', 'createdOn']\n",
    "    return (df\n",
    "            .select(pl.col(cols))\n",
    "            .with_columns(pl.col('year').cast(pl.Int16),\n",
    "                          pl.col(['cylinders', 'highway08', 'city08']).cast(pl.UInt8),\n",
    "                          pl.col(['displ', 'barrels08']).cast(pl.Float32),\n",
    "                          pl.col(['make', 'model', 'VClass', 'drive', 'fuelType']).cast(pl.Categorical),\n",
    "                          pl.col('createdOn').str.to_datetime('%a %b %d %H:%M:%S %Z %Y'),\n",
    "                          is_automatic=pl.col('trany')                    \n",
    "                          .str.contains('Automatic')\n",
    "                          .fill_null('Automatic'),\n",
    "                          num_gears=pl.col('trany')\n",
    "                          .str.extract(r'(\\d+)')\n",
    "                          .cast(pl.UInt8)\n",
    "                          .fill_null(6))\n",
    "           )"
   ]
  },
  {
   "cell_type": "code",
   "execution_count": 5,
   "id": "5208df68-1193-4bd8-98c9-2616646d85eb",
   "metadata": {},
   "outputs": [],
   "source": [
    "autos = tweak_auto(raw)"
   ]
  },
  {
   "cell_type": "code",
   "execution_count": 6,
   "id": "d235e30e-0722-46b6-ae69-1d6b4076ca30",
   "metadata": {},
   "outputs": [
    {
     "name": "stdout",
     "output_type": "stream",
     "text": [
      "shape: (48_231, 15)\n",
      "┌──────┬────────────┬──────────────┬───────┬───┬───────────┬─────────────┬─────────────┬───────────┐\n",
      "│ year ┆ make       ┆ model        ┆ displ ┆ … ┆ highway08 ┆ createdOn   ┆ is_automati ┆ num_gears │\n",
      "│ ---  ┆ ---        ┆ ---          ┆ ---   ┆   ┆ ---       ┆ ---         ┆ c           ┆ ---       │\n",
      "│ i16  ┆ cat        ┆ cat          ┆ f32   ┆   ┆ u8        ┆ datetime[μs ┆ ---         ┆ u8        │\n",
      "│      ┆            ┆              ┆       ┆   ┆           ┆ ]           ┆ str         ┆           │\n",
      "╞══════╪════════════╪══════════════╪═══════╪═══╪═══════════╪═════════════╪═════════════╪═══════════╡\n",
      "│ 1985 ┆ Alfa Romeo ┆ Spider       ┆ 2.0   ┆ … ┆ 25        ┆ 2013-01-01  ┆ false       ┆ 5         │\n",
      "│      ┆            ┆ Veloce 2000  ┆       ┆   ┆           ┆ 00:00:00    ┆             ┆           │\n",
      "│ 1985 ┆ Ferrari    ┆ Testarossa   ┆ 4.9   ┆ … ┆ 14        ┆ 2013-01-01  ┆ false       ┆ 5         │\n",
      "│      ┆            ┆              ┆       ┆   ┆           ┆ 00:00:00    ┆             ┆           │\n",
      "│ 1985 ┆ Dodge      ┆ Charger      ┆ 2.2   ┆ … ┆ 33        ┆ 2013-01-01  ┆ false       ┆ 5         │\n",
      "│      ┆            ┆              ┆       ┆   ┆           ┆ 00:00:00    ┆             ┆           │\n",
      "│ 1985 ┆ Dodge      ┆ B150/B250    ┆ 5.2   ┆ … ┆ 12        ┆ 2013-01-01  ┆ true        ┆ 3         │\n",
      "│      ┆            ┆ Wagon 2WD    ┆       ┆   ┆           ┆ 00:00:00    ┆             ┆           │\n",
      "│ 1993 ┆ Subaru     ┆ Legacy AWD   ┆ 2.2   ┆ … ┆ 23        ┆ 2013-01-01  ┆ false       ┆ 5         │\n",
      "│      ┆            ┆ Turbo        ┆       ┆   ┆           ┆ 00:00:00    ┆             ┆           │\n",
      "│ …    ┆ …          ┆ …            ┆ …     ┆ … ┆ …         ┆ …           ┆ …           ┆ …         │\n",
      "│ 1993 ┆ Subaru     ┆ Legacy       ┆ 2.2   ┆ … ┆ 26        ┆ 2013-01-01  ┆ true        ┆ 4         │\n",
      "│      ┆            ┆              ┆       ┆   ┆           ┆ 00:00:00    ┆             ┆           │\n",
      "│ 1993 ┆ Subaru     ┆ Legacy       ┆ 2.2   ┆ … ┆ 28        ┆ 2013-01-01  ┆ false       ┆ 5         │\n",
      "│      ┆            ┆              ┆       ┆   ┆           ┆ 00:00:00    ┆             ┆           │\n",
      "│ 1993 ┆ Subaru     ┆ Legacy AWD   ┆ 2.2   ┆ … ┆ 24        ┆ 2013-01-01  ┆ true        ┆ 4         │\n",
      "│      ┆            ┆              ┆       ┆   ┆           ┆ 00:00:00    ┆             ┆           │\n",
      "│ 1993 ┆ Subaru     ┆ Legacy AWD   ┆ 2.2   ┆ … ┆ 24        ┆ 2013-01-01  ┆ false       ┆ 5         │\n",
      "│      ┆            ┆              ┆       ┆   ┆           ┆ 00:00:00    ┆             ┆           │\n",
      "│ 1993 ┆ Subaru     ┆ Legacy AWD   ┆ 2.2   ┆ … ┆ 21        ┆ 2013-01-01  ┆ true        ┆ 4         │\n",
      "│      ┆            ┆ Turbo        ┆       ┆   ┆           ┆ 00:00:00    ┆             ┆           │\n",
      "└──────┴────────────┴──────────────┴───────┴───┴───────────┴─────────────┴─────────────┴───────────┘\n"
     ]
    }
   ],
   "source": [
    "print(autos)"
   ]
  },
  {
   "cell_type": "markdown",
   "id": "4f04f6a9-504a-4a12-8cbf-4b36a00702c5",
   "metadata": {},
   "source": [
    "### Filtering with Expressions"
   ]
  },
  {
   "cell_type": "code",
   "execution_count": 7,
   "id": "8ff0d85d-1b15-4964-808d-a8cb587c9c89",
   "metadata": {},
   "outputs": [
    {
     "name": "stdout",
     "output_type": "stream",
     "text": [
      "shape: (1_325, 15)\n",
      "┌──────┬────────┬───────────┬───────┬───┬───────────┬──────────────┬──────────────┬───────────┐\n",
      "│ year ┆ make   ┆ model     ┆ displ ┆ … ┆ highway08 ┆ createdOn    ┆ is_automatic ┆ num_gears │\n",
      "│ ---  ┆ ---    ┆ ---       ┆ ---   ┆   ┆ ---       ┆ ---          ┆ ---          ┆ ---       │\n",
      "│ i16  ┆ cat    ┆ cat       ┆ f32   ┆   ┆ u8        ┆ datetime[μs] ┆ str          ┆ u8        │\n",
      "╞══════╪════════╪═══════════╪═══════╪═══╪═══════════╪══════════════╪══════════════╪═══════════╡\n",
      "│ 1994 ┆ Geo    ┆ Metro XFI ┆ 1.0   ┆ … ┆ 52        ┆ 2013-01-01   ┆ false        ┆ 5         │\n",
      "│      ┆        ┆           ┆       ┆   ┆           ┆ 00:00:00     ┆              ┆           │\n",
      "│ 2000 ┆ Honda  ┆ Insight   ┆ 1.0   ┆ … ┆ 61        ┆ 2013-01-01   ┆ false        ┆ 5         │\n",
      "│      ┆        ┆           ┆       ┆   ┆           ┆ 00:00:00     ┆              ┆           │\n",
      "│ 2000 ┆ Nissan ┆ Altra EV  ┆ null  ┆ … ┆ 91        ┆ 2013-01-01   ┆ Automatic    ┆ 6         │\n",
      "│      ┆        ┆           ┆       ┆   ┆           ┆ 00:00:00     ┆              ┆           │\n",
      "│ 2000 ┆ Toyota ┆ RAV4 EV   ┆ null  ┆ … ┆ 64        ┆ 2013-01-01   ┆ Automatic    ┆ 6         │\n",
      "│      ┆        ┆           ┆       ┆   ┆           ┆ 00:00:00     ┆              ┆           │\n",
      "│ 2001 ┆ Honda  ┆ Insight   ┆ 1.0   ┆ … ┆ 49        ┆ 2013-01-01   ┆ true         ┆ 6         │\n",
      "│      ┆        ┆           ┆       ┆   ┆           ┆ 00:00:00     ┆              ┆           │\n",
      "│ …    ┆ …      ┆ …         ┆ …     ┆ … ┆ …         ┆ …            ┆ …            ┆ …         │\n",
      "│ 1989 ┆ Geo    ┆ Metro     ┆ 1.0   ┆ … ┆ 52        ┆ 2013-01-01   ┆ false        ┆ 5         │\n",
      "│      ┆        ┆           ┆       ┆   ┆           ┆ 00:00:00     ┆              ┆           │\n",
      "│ 1990 ┆ Geo    ┆ Metro XFI ┆ 1.0   ┆ … ┆ 52        ┆ 2013-01-01   ┆ false        ┆ 5         │\n",
      "│      ┆        ┆           ┆       ┆   ┆           ┆ 00:00:00     ┆              ┆           │\n",
      "│ 1991 ┆ Geo    ┆ Metro XFI ┆ 1.0   ┆ … ┆ 52        ┆ 2013-01-01   ┆ false        ┆ 5         │\n",
      "│      ┆        ┆           ┆       ┆   ┆           ┆ 00:00:00     ┆              ┆           │\n",
      "│ 1992 ┆ Geo    ┆ Metro XFI ┆ 1.0   ┆ … ┆ 52        ┆ 2013-01-01   ┆ false        ┆ 5         │\n",
      "│      ┆        ┆           ┆       ┆   ┆           ┆ 00:00:00     ┆              ┆           │\n",
      "│ 1993 ┆ Geo    ┆ Metro XFI ┆ 1.0   ┆ … ┆ 52        ┆ 2013-01-01   ┆ false        ┆ 5         │\n",
      "│      ┆        ┆           ┆       ┆   ┆           ┆ 00:00:00     ┆              ┆           │\n",
      "└──────┴────────┴───────────┴───────┴───┴───────────┴──────────────┴──────────────┴───────────┘\n"
     ]
    }
   ],
   "source": [
    "print(autos\n",
    "      .filter(pl.col('city08') > 40)\n",
    "     )"
   ]
  },
  {
   "cell_type": "code",
   "execution_count": 8,
   "id": "62433bb5-3c04-4340-a4ee-62cc7c2eeb3f",
   "metadata": {},
   "outputs": [
    {
     "name": "stdout",
     "output_type": "stream",
     "text": [
      "shape: (155, 15)\n",
      "┌──────┬────────┬───────────────┬───────┬───┬───────────┬───────────────┬──────────────┬───────────┐\n",
      "│ year ┆ make   ┆ model         ┆ displ ┆ … ┆ highway08 ┆ createdOn     ┆ is_automatic ┆ num_gears │\n",
      "│ ---  ┆ ---    ┆ ---           ┆ ---   ┆   ┆ ---       ┆ ---           ┆ ---          ┆ ---       │\n",
      "│ i16  ┆ cat    ┆ cat           ┆ f32   ┆   ┆ u8        ┆ datetime[μs]  ┆ str          ┆ u8        │\n",
      "╞══════╪════════╪═══════════════╪═══════╪═══╪═══════════╪═══════════════╪══════════════╪═══════════╡\n",
      "│ 2000 ┆ Toyota ┆ RAV4 EV       ┆ null  ┆ … ┆ 64        ┆ 2013-01-01    ┆ Automatic    ┆ 6         │\n",
      "│      ┆        ┆               ┆       ┆   ┆           ┆ 00:00:00      ┆              ┆           │\n",
      "│ 2001 ┆ Toyota ┆ Prius         ┆ 1.5   ┆ … ┆ 41        ┆ 2013-01-01    ┆ true         ┆ 6         │\n",
      "│      ┆        ┆               ┆       ┆   ┆           ┆ 00:00:00      ┆              ┆           │\n",
      "│ 2001 ┆ Toyota ┆ RAV4 EV       ┆ null  ┆ … ┆ 64        ┆ 2013-01-01    ┆ Automatic    ┆ 6         │\n",
      "│      ┆        ┆               ┆       ┆   ┆           ┆ 00:00:00      ┆              ┆           │\n",
      "│ 2002 ┆ Toyota ┆ Prius         ┆ 1.5   ┆ … ┆ 41        ┆ 2013-01-01    ┆ true         ┆ 6         │\n",
      "│      ┆        ┆               ┆       ┆   ┆           ┆ 00:00:00      ┆              ┆           │\n",
      "│ 2002 ┆ Toyota ┆ RAV4 EV       ┆ null  ┆ … ┆ 69        ┆ 2013-01-01    ┆ Automatic    ┆ 6         │\n",
      "│      ┆        ┆               ┆       ┆   ┆           ┆ 00:00:00      ┆              ┆           │\n",
      "│ …    ┆ …      ┆ …             ┆ …     ┆ … ┆ …         ┆ …             ┆ …            ┆ …         │\n",
      "│ 2025 ┆ Toyota ┆ Camry HEV FF  ┆ 2.5   ┆ … ┆ 50        ┆ 2024-08-07    ┆ true         ┆ 6         │\n",
      "│      ┆        ┆ LE            ┆       ┆   ┆           ┆ 00:00:00      ┆              ┆           │\n",
      "│ 2025 ┆ Toyota ┆ Camry HEV FF  ┆ 2.5   ┆ … ┆ 47        ┆ 2024-08-07    ┆ true         ┆ 6         │\n",
      "│      ┆        ┆ SE/XLE/XSE    ┆       ┆   ┆           ┆ 00:00:00      ┆              ┆           │\n",
      "│ 2025 ┆ Toyota ┆ Camry HEV AWD ┆ 2.5   ┆ … ┆ 49        ┆ 2024-08-07    ┆ true         ┆ 6         │\n",
      "│      ┆        ┆ LE            ┆       ┆   ┆           ┆ 00:00:00      ┆              ┆           │\n",
      "│ 2025 ┆ Toyota ┆ Corolla       ┆ 1.8   ┆ … ┆ 43        ┆ 2024-09-18    ┆ true         ┆ 6         │\n",
      "│      ┆        ┆ Hybrid        ┆       ┆   ┆           ┆ 00:00:00      ┆              ┆           │\n",
      "│ 2025 ┆ Toyota ┆ Corolla       ┆ 1.8   ┆ … ┆ 41        ┆ 2024-09-18    ┆ true         ┆ 6         │\n",
      "│      ┆        ┆ Hybrid AWD    ┆       ┆   ┆           ┆ 00:00:00      ┆              ┆           │\n",
      "└──────┴────────┴───────────────┴───────┴───┴───────────┴───────────────┴──────────────┴───────────┘\n"
     ]
    }
   ],
   "source": [
    "print(autos\n",
    "      .filter(pl.col('city08') > 40)\n",
    "      .filter(pl.col('make') == 'Toyota')\n",
    "     )"
   ]
  },
  {
   "cell_type": "code",
   "execution_count": 9,
   "id": "c3f1c6a0-0ddb-410c-bcfe-82f22b871939",
   "metadata": {},
   "outputs": [
    {
     "name": "stdout",
     "output_type": "stream",
     "text": [
      "shape: (155, 15)\n",
      "┌──────┬────────┬───────────────┬───────┬───┬───────────┬───────────────┬──────────────┬───────────┐\n",
      "│ year ┆ make   ┆ model         ┆ displ ┆ … ┆ highway08 ┆ createdOn     ┆ is_automatic ┆ num_gears │\n",
      "│ ---  ┆ ---    ┆ ---           ┆ ---   ┆   ┆ ---       ┆ ---           ┆ ---          ┆ ---       │\n",
      "│ i16  ┆ cat    ┆ cat           ┆ f32   ┆   ┆ u8        ┆ datetime[μs]  ┆ str          ┆ u8        │\n",
      "╞══════╪════════╪═══════════════╪═══════╪═══╪═══════════╪═══════════════╪══════════════╪═══════════╡\n",
      "│ 2000 ┆ Toyota ┆ RAV4 EV       ┆ null  ┆ … ┆ 64        ┆ 2013-01-01    ┆ Automatic    ┆ 6         │\n",
      "│      ┆        ┆               ┆       ┆   ┆           ┆ 00:00:00      ┆              ┆           │\n",
      "│ 2001 ┆ Toyota ┆ Prius         ┆ 1.5   ┆ … ┆ 41        ┆ 2013-01-01    ┆ true         ┆ 6         │\n",
      "│      ┆        ┆               ┆       ┆   ┆           ┆ 00:00:00      ┆              ┆           │\n",
      "│ 2001 ┆ Toyota ┆ RAV4 EV       ┆ null  ┆ … ┆ 64        ┆ 2013-01-01    ┆ Automatic    ┆ 6         │\n",
      "│      ┆        ┆               ┆       ┆   ┆           ┆ 00:00:00      ┆              ┆           │\n",
      "│ 2002 ┆ Toyota ┆ Prius         ┆ 1.5   ┆ … ┆ 41        ┆ 2013-01-01    ┆ true         ┆ 6         │\n",
      "│      ┆        ┆               ┆       ┆   ┆           ┆ 00:00:00      ┆              ┆           │\n",
      "│ 2002 ┆ Toyota ┆ RAV4 EV       ┆ null  ┆ … ┆ 69        ┆ 2013-01-01    ┆ Automatic    ┆ 6         │\n",
      "│      ┆        ┆               ┆       ┆   ┆           ┆ 00:00:00      ┆              ┆           │\n",
      "│ …    ┆ …      ┆ …             ┆ …     ┆ … ┆ …         ┆ …             ┆ …            ┆ …         │\n",
      "│ 2025 ┆ Toyota ┆ Camry HEV FF  ┆ 2.5   ┆ … ┆ 50        ┆ 2024-08-07    ┆ true         ┆ 6         │\n",
      "│      ┆        ┆ LE            ┆       ┆   ┆           ┆ 00:00:00      ┆              ┆           │\n",
      "│ 2025 ┆ Toyota ┆ Camry HEV FF  ┆ 2.5   ┆ … ┆ 47        ┆ 2024-08-07    ┆ true         ┆ 6         │\n",
      "│      ┆        ┆ SE/XLE/XSE    ┆       ┆   ┆           ┆ 00:00:00      ┆              ┆           │\n",
      "│ 2025 ┆ Toyota ┆ Camry HEV AWD ┆ 2.5   ┆ … ┆ 49        ┆ 2024-08-07    ┆ true         ┆ 6         │\n",
      "│      ┆        ┆ LE            ┆       ┆   ┆           ┆ 00:00:00      ┆              ┆           │\n",
      "│ 2025 ┆ Toyota ┆ Corolla       ┆ 1.8   ┆ … ┆ 43        ┆ 2024-09-18    ┆ true         ┆ 6         │\n",
      "│      ┆        ┆ Hybrid        ┆       ┆   ┆           ┆ 00:00:00      ┆              ┆           │\n",
      "│ 2025 ┆ Toyota ┆ Corolla       ┆ 1.8   ┆ … ┆ 41        ┆ 2024-09-18    ┆ true         ┆ 6         │\n",
      "│      ┆        ┆ Hybrid AWD    ┆       ┆   ┆           ┆ 00:00:00      ┆              ┆           │\n",
      "└──────┴────────┴───────────────┴───────┴───┴───────────┴───────────────┴──────────────┴───────────┘\n"
     ]
    }
   ],
   "source": [
    "# Placing Multiple Conditions within Filter\n",
    "print(autos\n",
    "      .filter(pl.col('city08') > 40, pl.col('make') == 'Toyota')\n",
    "     )"
   ]
  },
  {
   "cell_type": "code",
   "execution_count": 10,
   "id": "a1abebc2-ba20-43e5-8457-a9300ab82617",
   "metadata": {},
   "outputs": [
    {
     "name": "stdout",
     "output_type": "stream",
     "text": [
      "shape: (155, 15)\n",
      "┌──────┬────────┬───────────────┬───────┬───┬───────────┬───────────────┬──────────────┬───────────┐\n",
      "│ year ┆ make   ┆ model         ┆ displ ┆ … ┆ highway08 ┆ createdOn     ┆ is_automatic ┆ num_gears │\n",
      "│ ---  ┆ ---    ┆ ---           ┆ ---   ┆   ┆ ---       ┆ ---           ┆ ---          ┆ ---       │\n",
      "│ i16  ┆ cat    ┆ cat           ┆ f32   ┆   ┆ u8        ┆ datetime[μs]  ┆ str          ┆ u8        │\n",
      "╞══════╪════════╪═══════════════╪═══════╪═══╪═══════════╪═══════════════╪══════════════╪═══════════╡\n",
      "│ 2000 ┆ Toyota ┆ RAV4 EV       ┆ null  ┆ … ┆ 64        ┆ 2013-01-01    ┆ Automatic    ┆ 6         │\n",
      "│      ┆        ┆               ┆       ┆   ┆           ┆ 00:00:00      ┆              ┆           │\n",
      "│ 2001 ┆ Toyota ┆ Prius         ┆ 1.5   ┆ … ┆ 41        ┆ 2013-01-01    ┆ true         ┆ 6         │\n",
      "│      ┆        ┆               ┆       ┆   ┆           ┆ 00:00:00      ┆              ┆           │\n",
      "│ 2001 ┆ Toyota ┆ RAV4 EV       ┆ null  ┆ … ┆ 64        ┆ 2013-01-01    ┆ Automatic    ┆ 6         │\n",
      "│      ┆        ┆               ┆       ┆   ┆           ┆ 00:00:00      ┆              ┆           │\n",
      "│ 2002 ┆ Toyota ┆ Prius         ┆ 1.5   ┆ … ┆ 41        ┆ 2013-01-01    ┆ true         ┆ 6         │\n",
      "│      ┆        ┆               ┆       ┆   ┆           ┆ 00:00:00      ┆              ┆           │\n",
      "│ 2002 ┆ Toyota ┆ RAV4 EV       ┆ null  ┆ … ┆ 69        ┆ 2013-01-01    ┆ Automatic    ┆ 6         │\n",
      "│      ┆        ┆               ┆       ┆   ┆           ┆ 00:00:00      ┆              ┆           │\n",
      "│ …    ┆ …      ┆ …             ┆ …     ┆ … ┆ …         ┆ …             ┆ …            ┆ …         │\n",
      "│ 2025 ┆ Toyota ┆ Camry HEV FF  ┆ 2.5   ┆ … ┆ 50        ┆ 2024-08-07    ┆ true         ┆ 6         │\n",
      "│      ┆        ┆ LE            ┆       ┆   ┆           ┆ 00:00:00      ┆              ┆           │\n",
      "│ 2025 ┆ Toyota ┆ Camry HEV FF  ┆ 2.5   ┆ … ┆ 47        ┆ 2024-08-07    ┆ true         ┆ 6         │\n",
      "│      ┆        ┆ SE/XLE/XSE    ┆       ┆   ┆           ┆ 00:00:00      ┆              ┆           │\n",
      "│ 2025 ┆ Toyota ┆ Camry HEV AWD ┆ 2.5   ┆ … ┆ 49        ┆ 2024-08-07    ┆ true         ┆ 6         │\n",
      "│      ┆        ┆ LE            ┆       ┆   ┆           ┆ 00:00:00      ┆              ┆           │\n",
      "│ 2025 ┆ Toyota ┆ Corolla       ┆ 1.8   ┆ … ┆ 43        ┆ 2024-09-18    ┆ true         ┆ 6         │\n",
      "│      ┆        ┆ Hybrid        ┆       ┆   ┆           ┆ 00:00:00      ┆              ┆           │\n",
      "│ 2025 ┆ Toyota ┆ Corolla       ┆ 1.8   ┆ … ┆ 41        ┆ 2024-09-18    ┆ true         ┆ 6         │\n",
      "│      ┆        ┆ Hybrid AWD    ┆       ┆   ┆           ┆ 00:00:00      ┆              ┆           │\n",
      "└──────┴────────┴───────────────┴───────┴───┴───────────┴───────────────┴──────────────┴───────────┘\n"
     ]
    }
   ],
   "source": [
    "# Using Boolean Operators\n",
    "print(autos\n",
    "      .filter((pl.col('make') == 'Toyota') & (pl.col('city08') > 40))\n",
    "     )"
   ]
  },
  {
   "cell_type": "markdown",
   "id": "ceb337ad-49b4-4120-839e-c3ac1523d38f",
   "metadata": {},
   "source": [
    "### Filtering with Keywords"
   ]
  },
  {
   "cell_type": "code",
   "execution_count": 11,
   "id": "09c82d74-33af-4f2e-a60e-faf7f3e31659",
   "metadata": {},
   "outputs": [
    {
     "name": "stdout",
     "output_type": "stream",
     "text": [
      "shape: (3_835, 15)\n",
      "┌──────┬──────┬─────────────┬───────┬───┬───────────┬──────────────┬──────────────┬───────────┐\n",
      "│ year ┆ make ┆ model       ┆ displ ┆ … ┆ highway08 ┆ createdOn    ┆ is_automatic ┆ num_gears │\n",
      "│ ---  ┆ ---  ┆ ---         ┆ ---   ┆   ┆ ---       ┆ ---          ┆ ---          ┆ ---       │\n",
      "│ i16  ┆ cat  ┆ cat         ┆ f32   ┆   ┆ u8        ┆ datetime[μs] ┆ str          ┆ u8        │\n",
      "╞══════╪══════╪═════════════╪═══════╪═══╪═══════════╪══════════════╪══════════════╪═══════════╡\n",
      "│ 1993 ┆ Ford ┆ Taurus      ┆ 3.0   ┆ … ┆ 27        ┆ 2013-01-01   ┆ true         ┆ 4         │\n",
      "│      ┆      ┆             ┆       ┆   ┆           ┆ 00:00:00     ┆              ┆           │\n",
      "│ 1993 ┆ Ford ┆ Taurus SHO  ┆ 3.0   ┆ … ┆ 24        ┆ 2013-01-01   ┆ false        ┆ 5         │\n",
      "│      ┆      ┆             ┆       ┆   ┆           ┆ 00:00:00     ┆              ┆           │\n",
      "│ 1993 ┆ Ford ┆ Taurus      ┆ 3.8   ┆ … ┆ 25        ┆ 2013-01-01   ┆ true         ┆ 4         │\n",
      "│      ┆      ┆             ┆       ┆   ┆           ┆ 00:00:00     ┆              ┆           │\n",
      "│ 1993 ┆ Ford ┆ Thunderbird ┆ 3.8   ┆ … ┆ 24        ┆ 2013-01-01   ┆ true         ┆ 4         │\n",
      "│      ┆      ┆             ┆       ┆   ┆           ┆ 00:00:00     ┆              ┆           │\n",
      "│ 1993 ┆ Ford ┆ Thunderbird ┆ 3.8   ┆ … ┆ 21        ┆ 2013-01-01   ┆ true         ┆ 4         │\n",
      "│      ┆      ┆             ┆       ┆   ┆           ┆ 00:00:00     ┆              ┆           │\n",
      "│ …    ┆ …    ┆ …           ┆ …     ┆ … ┆ …         ┆ …            ┆ …            ┆ …         │\n",
      "│ 1993 ┆ Ford ┆ Escort FS   ┆ 1.9   ┆ … ┆ 35        ┆ 2013-01-01   ┆ false        ┆ 5         │\n",
      "│      ┆      ┆             ┆       ┆   ┆           ┆ 00:00:00     ┆              ┆           │\n",
      "│ 1993 ┆ Ford ┆ Tempo       ┆ 2.3   ┆ … ┆ 25        ┆ 2013-01-01   ┆ true         ┆ 3         │\n",
      "│      ┆      ┆             ┆       ┆   ┆           ┆ 00:00:00     ┆              ┆           │\n",
      "│ 1993 ┆ Ford ┆ Tempo       ┆ 2.3   ┆ … ┆ 30        ┆ 2013-01-01   ┆ false        ┆ 5         │\n",
      "│      ┆      ┆             ┆       ┆   ┆           ┆ 00:00:00     ┆              ┆           │\n",
      "│ 1993 ┆ Ford ┆ Tempo       ┆ 3.0   ┆ … ┆ 22        ┆ 2013-01-01   ┆ true         ┆ 3         │\n",
      "│      ┆      ┆             ┆       ┆   ┆           ┆ 00:00:00     ┆              ┆           │\n",
      "│ 1993 ┆ Ford ┆ Tempo       ┆ 3.0   ┆ … ┆ 26        ┆ 2013-01-01   ┆ false        ┆ 5         │\n",
      "│      ┆      ┆             ┆       ┆   ┆           ┆ 00:00:00     ┆              ┆           │\n",
      "└──────┴──────┴─────────────┴───────┴───┴───────────┴──────────────┴──────────────┴───────────┘\n"
     ]
    }
   ],
   "source": [
    "print(autos\n",
    "      .filter(make='Ford')\n",
    "     )"
   ]
  },
  {
   "cell_type": "markdown",
   "id": "d555832d-447b-48ea-8aaf-bfec16d97f21",
   "metadata": {},
   "source": [
    "### Filtering with Dates"
   ]
  },
  {
   "cell_type": "code",
   "execution_count": 13,
   "id": "e5f94ee8-a100-455c-a75f-70f6265fa88b",
   "metadata": {},
   "outputs": [],
   "source": [
    "mar2018 = datetime(2018, 3, 1)"
   ]
  },
  {
   "cell_type": "raw",
   "id": "508a6a5b-f2b5-4c74-8807-9cfe43bba7f8",
   "metadata": {},
   "source": []
  },
  {
   "cell_type": "code",
   "execution_count": 15,
   "id": "8f890aba-c446-4728-950c-8163295e1bc4",
   "metadata": {},
   "outputs": [
    {
     "name": "stdout",
     "output_type": "stream",
     "text": [
      "shape: (8_694, 15)\n",
      "┌──────┬────────────┬──────────────┬───────┬───┬───────────┬─────────────┬─────────────┬───────────┐\n",
      "│ year ┆ make       ┆ model        ┆ displ ┆ … ┆ highway08 ┆ createdOn   ┆ is_automati ┆ num_gears │\n",
      "│ ---  ┆ ---        ┆ ---          ┆ ---   ┆   ┆ ---       ┆ ---         ┆ c           ┆ ---       │\n",
      "│ i16  ┆ cat        ┆ cat          ┆ f32   ┆   ┆ u8        ┆ datetime[μs ┆ ---         ┆ u8        │\n",
      "│      ┆            ┆              ┆       ┆   ┆           ┆ ]           ┆ str         ┆           │\n",
      "╞══════╪════════════╪══════════════╪═══════╪═══╪═══════════╪═════════════╪═════════════╪═══════════╡\n",
      "│ 2019 ┆ Genesis    ┆ G70 AWD      ┆ 3.3   ┆ … ┆ 25        ┆ 2018-03-02  ┆ true        ┆ 8         │\n",
      "│      ┆            ┆              ┆       ┆   ┆           ┆ 00:00:00    ┆             ┆           │\n",
      "│ 2019 ┆ Genesis    ┆ G70 RWD      ┆ 3.3   ┆ … ┆ 26        ┆ 2018-03-02  ┆ true        ┆ 8         │\n",
      "│      ┆            ┆              ┆       ┆   ┆           ┆ 00:00:00    ┆             ┆           │\n",
      "│ 2019 ┆ Genesis    ┆ G70 AWD      ┆ 2.0   ┆ … ┆ 28        ┆ 2018-03-02  ┆ true        ┆ 8         │\n",
      "│      ┆            ┆              ┆       ┆   ┆           ┆ 00:00:00    ┆             ┆           │\n",
      "│ 2019 ┆ Genesis    ┆ G70 RWD      ┆ 2.0   ┆ … ┆ 30        ┆ 2018-03-02  ┆ true        ┆ 8         │\n",
      "│      ┆            ┆              ┆       ┆   ┆           ┆ 00:00:00    ┆             ┆           │\n",
      "│ 2019 ┆ Genesis    ┆ G70 RWD      ┆ 2.0   ┆ … ┆ 28        ┆ 2018-03-02  ┆ false       ┆ 6         │\n",
      "│      ┆            ┆              ┆       ┆   ┆           ┆ 00:00:00    ┆             ┆           │\n",
      "│ …    ┆ …          ┆ …            ┆ …     ┆ … ┆ …         ┆ …           ┆ …           ┆ …         │\n",
      "│ 2025 ┆ Mitsubishi ┆ Outlander    ┆ 2.4   ┆ … ┆ 27        ┆ 2024-11-18  ┆ true        ┆ 1         │\n",
      "│      ┆            ┆ PHEV         ┆       ┆   ┆           ┆ 00:00:00    ┆             ┆           │\n",
      "│ 2025 ┆ Volvo      ┆ S60 T8 AWD   ┆ 2.0   ┆ … ┆ 33        ┆ 2024-11-18  ┆ true        ┆ 8         │\n",
      "│      ┆            ┆              ┆       ┆   ┆           ┆ 00:00:00    ┆             ┆           │\n",
      "│ 2025 ┆ Volvo      ┆ V60 T8 AWD   ┆ 2.0   ┆ … ┆ 33        ┆ 2024-11-18  ┆ true        ┆ 8         │\n",
      "│      ┆            ┆              ┆       ┆   ┆           ┆ 00:00:00    ┆             ┆           │\n",
      "│ 2025 ┆ Volvo      ┆ XC60 T8 AWD  ┆ 2.0   ┆ … ┆ 28        ┆ 2024-11-18  ┆ true        ┆ 8         │\n",
      "│      ┆            ┆              ┆       ┆   ┆           ┆ 00:00:00    ┆             ┆           │\n",
      "│ 2025 ┆ Volvo      ┆ XC90 T8 AWD  ┆ 2.0   ┆ … ┆ 27        ┆ 2024-11-18  ┆ true        ┆ 8         │\n",
      "│      ┆            ┆              ┆       ┆   ┆           ┆ 00:00:00    ┆             ┆           │\n",
      "└──────┴────────────┴──────────────┴───────┴───┴───────────┴─────────────┴─────────────┴───────────┘\n"
     ]
    }
   ],
   "source": [
    "print(autos\n",
    "      .filter(pl.col('createdOn') >= mar2018)\n",
    "      .sort('createdOn')\n",
    "     )"
   ]
  },
  {
   "cell_type": "code",
   "execution_count": 17,
   "id": "cf1bf34f-1073-480f-92a2-2977f6339dea",
   "metadata": {},
   "outputs": [
    {
     "name": "stdout",
     "output_type": "stream",
     "text": [
      "shape: (328, 5)\n",
      "┌──────┬────────┬────────────────┬──────────────┬────────┐\n",
      "│ year ┆ make   ┆ model          ┆ VClass       ┆ city08 │\n",
      "│ ---  ┆ ---    ┆ ---            ┆ ---          ┆ ---    │\n",
      "│ i16  ┆ cat    ┆ cat            ┆ cat          ┆ u8     │\n",
      "╞══════╪════════╪════════════════╪══════════════╪════════╡\n",
      "│ 1985 ┆ Honda  ┆ Civic CRX HF   ┆ Two Seaters  ┆ 40     │\n",
      "│ 2003 ┆ Honda  ┆ Civic Hybrid   ┆ Compact Cars ┆ 40     │\n",
      "│ 2006 ┆ Honda  ┆ Civic Hybrid   ┆ Compact Cars ┆ 40     │\n",
      "│ 2007 ┆ Honda  ┆ Civic Hybrid   ┆ Compact Cars ┆ 40     │\n",
      "│ 2008 ┆ Honda  ┆ Civic Hybrid   ┆ Compact Cars ┆ 40     │\n",
      "│ …    ┆ …      ┆ …              ┆ …            ┆ …      │\n",
      "│ 2024 ┆ Toyota ┆ Corolla Hybrid ┆ Compact Cars ┆ 50     │\n",
      "│ 2024 ┆ Toyota ┆ Prius Prime    ┆ Midsize Cars ┆ 50     │\n",
      "│ 2025 ┆ Honda  ┆ Civic 4Dr      ┆ Midsize Cars ┆ 50     │\n",
      "│ 2025 ┆ Toyota ┆ Corolla Hybrid ┆ Compact Cars ┆ 50     │\n",
      "│ 2025 ┆ Honda  ┆ Civic 5Dr      ┆ Large Cars   ┆ 50     │\n",
      "└──────┴────────┴────────────────┴──────────────┴────────┘\n"
     ]
    }
   ],
   "source": [
    "print(autos\n",
    "      .filter(pl.col('city08').is_between(40, 50))\n",
    "      .sort('city08')\n",
    "      .select(['year', 'make', 'model', 'VClass', 'city08'])\n",
    "     )"
   ]
  },
  {
   "cell_type": "code",
   "execution_count": 19,
   "id": "90a0610a-16fa-4f1e-babb-2e997d709198",
   "metadata": {},
   "outputs": [],
   "source": [
    "mar2013 = mar2018 - timedelta(days=5*365)"
   ]
  },
  {
   "cell_type": "code",
   "execution_count": 20,
   "id": "ce2a612f-c64e-4634-b53f-0abb99f79a43",
   "metadata": {},
   "outputs": [
    {
     "name": "stdout",
     "output_type": "stream",
     "text": [
      "shape: (5_344, 15)\n",
      "┌──────┬────────────┬──────────────┬───────┬───┬───────────┬─────────────┬─────────────┬───────────┐\n",
      "│ year ┆ make       ┆ model        ┆ displ ┆ … ┆ highway08 ┆ createdOn   ┆ is_automati ┆ num_gears │\n",
      "│ ---  ┆ ---        ┆ ---          ┆ ---   ┆   ┆ ---       ┆ ---         ┆ c           ┆ ---       │\n",
      "│ i16  ┆ cat        ┆ cat          ┆ f32   ┆   ┆ u8        ┆ datetime[μs ┆ ---         ┆ u8        │\n",
      "│      ┆            ┆              ┆       ┆   ┆           ┆ ]           ┆ str         ┆           │\n",
      "╞══════╪════════════╪══════════════╪═══════╪═══╪═══════════╪═════════════╪═════════════╪═══════════╡\n",
      "│ 2014 ┆ Lexus      ┆ GS 350       ┆ 3.5   ┆ … ┆ 29        ┆ 2013-10-29  ┆ true        ┆ 8         │\n",
      "│      ┆            ┆              ┆       ┆   ┆           ┆ 00:00:00    ┆             ┆           │\n",
      "│ 2014 ┆ Nissan     ┆ Frontier 2WD ┆ 2.5   ┆ … ┆ 23        ┆ 2013-10-29  ┆ true        ┆ 5         │\n",
      "│      ┆            ┆              ┆       ┆   ┆           ┆ 00:00:00    ┆             ┆           │\n",
      "│ 2014 ┆ Nissan     ┆ Frontier 2WD ┆ 2.5   ┆ … ┆ 23        ┆ 2013-10-29  ┆ false       ┆ 5         │\n",
      "│      ┆            ┆              ┆       ┆   ┆           ┆ 00:00:00    ┆             ┆           │\n",
      "│ 2014 ┆ Nissan     ┆ Frontier 2WD ┆ 4.0   ┆ … ┆ 22        ┆ 2013-10-29  ┆ true        ┆ 5         │\n",
      "│      ┆            ┆              ┆       ┆   ┆           ┆ 00:00:00    ┆             ┆           │\n",
      "│ 2014 ┆ Nissan     ┆ Frontier 2WD ┆ 4.0   ┆ … ┆ 22        ┆ 2013-10-29  ┆ false       ┆ 6         │\n",
      "│      ┆            ┆              ┆       ┆   ┆           ┆ 00:00:00    ┆             ┆           │\n",
      "│ …    ┆ …          ┆ …            ┆ …     ┆ … ┆ …         ┆ …           ┆ …           ┆ …         │\n",
      "│ 2018 ┆ Land Rover ┆ Range Rover  ┆ 5.0   ┆ … ┆ 21        ┆ 2018-02-26  ┆ true        ┆ 8         │\n",
      "│      ┆            ┆ LWB          ┆       ┆   ┆           ┆ 00:00:00    ┆             ┆           │\n",
      "│ 2018 ┆ Land Rover ┆ Range Rover  ┆ 5.0   ┆ … ┆ 19        ┆ 2018-02-26  ┆ true        ┆ 8         │\n",
      "│      ┆            ┆ SVA          ┆       ┆   ┆           ┆ 00:00:00    ┆             ┆           │\n",
      "│ 2018 ┆ Land Rover ┆ Range Rover  ┆ 5.0   ┆ … ┆ 19        ┆ 2018-02-26  ┆ true        ┆ 8         │\n",
      "│      ┆            ┆ LWB SVA      ┆       ┆   ┆           ┆ 00:00:00    ┆             ┆           │\n",
      "│ 2018 ┆ Land Rover ┆ Range Rover  ┆ 5.0   ┆ … ┆ 22        ┆ 2018-02-26  ┆ true        ┆ 8         │\n",
      "│      ┆            ┆ Sport        ┆       ┆   ┆           ┆ 00:00:00    ┆             ┆           │\n",
      "│ 2018 ┆ Land Rover ┆ Range Rover  ┆ 5.0   ┆ … ┆ 20        ┆ 2018-02-26  ┆ true        ┆ 8         │\n",
      "│      ┆            ┆ Sport SVR    ┆       ┆   ┆           ┆ 00:00:00    ┆             ┆           │\n",
      "└──────┴────────────┴──────────────┴───────┴───┴───────────┴─────────────┴─────────────┴───────────┘\n"
     ]
    }
   ],
   "source": [
    "print(autos\n",
    "      .filter(pl.col('createdOn').is_between(mar2013, mar2018))\n",
    "      .sort('createdOn')\n",
    "     )"
   ]
  },
  {
   "cell_type": "markdown",
   "id": "0abf84d4-3f52-4cd5-b86c-47dbf162ce37",
   "metadata": {},
   "source": [
    "### Advanced Filtering Techniques"
   ]
  },
  {
   "cell_type": "code",
   "execution_count": 21,
   "id": "e8787a68-e12f-4c6b-9617-25eb584ec20f",
   "metadata": {},
   "outputs": [],
   "source": [
    "def standardize(col):\n",
    "    return (col - col.mean()) / col.std()"
   ]
  },
  {
   "cell_type": "code",
   "execution_count": 22,
   "id": "3b94044e-040e-4a8a-ac47-dc812e40fb52",
   "metadata": {},
   "outputs": [
    {
     "name": "stdout",
     "output_type": "stream",
     "text": [
      "shape: (949, 5)\n",
      "┌──────┬───────────────┬──────────────────────────┬─────────────────────────────────┬────────┐\n",
      "│ year ┆ make          ┆ model                    ┆ VClass                          ┆ city08 │\n",
      "│ ---  ┆ ---           ┆ ---                      ┆ ---                             ┆ ---    │\n",
      "│ i16  ┆ cat           ┆ cat                      ┆ cat                             ┆ u8     │\n",
      "╞══════╪═══════════════╪══════════════════════════╪═════════════════════════════════╪════════╡\n",
      "│ 2000 ┆ Nissan        ┆ Altra EV                 ┆ Midsize Station Wagons          ┆ 81     │\n",
      "│ 2000 ┆ Toyota        ┆ RAV4 EV                  ┆ Sport Utility Vehicle - 2WD     ┆ 81     │\n",
      "│ 2001 ┆ Toyota        ┆ RAV4 EV                  ┆ Sport Utility Vehicle - 2WD     ┆ 81     │\n",
      "│ 2001 ┆ Ford          ┆ Th!nk                    ┆ Two Seaters                     ┆ 74     │\n",
      "│ 2001 ┆ Nissan        ┆ Hyper-Mini               ┆ Two Seaters                     ┆ 84     │\n",
      "│ …    ┆ …             ┆ …                        ┆ …                               ┆ …      │\n",
      "│ 2024 ┆ Mercedes-Benz ┆ EQB 300 4matic           ┆ Small Sport Utility Vehicle 4W… ┆ 89     │\n",
      "│ 2024 ┆ Tesla         ┆ Model 3 Long Range AWD-E ┆ Midsize Cars                    ┆ 133    │\n",
      "│ 2024 ┆ Tesla         ┆ Model Y Long Range AWD-I ┆ Small Sport Utility Vehicle 4W… ┆ 123    │\n",
      "│ 2024 ┆ Tesla         ┆ Model Y Long Range RWD   ┆ Small Sport Utility Vehicle 2W… ┆ 128    │\n",
      "│ 2024 ┆ Tesla         ┆ Model Y RWD              ┆ Small Sport Utility Vehicle 2W… ┆ 128    │\n",
      "└──────┴───────────────┴──────────────────────────┴─────────────────────────────────┴────────┘\n"
     ]
    }
   ],
   "source": [
    "print(autos\n",
    "      .filter(standardize(pl.col('city08')) > 3)\n",
    "      .select(['year', 'make', 'model', 'VClass', 'city08'])\n",
    "     )"
   ]
  },
  {
   "cell_type": "code",
   "execution_count": 23,
   "id": "6709d696-d96d-4c2f-8429-a0d88e0535ef",
   "metadata": {},
   "outputs": [
    {
     "name": "stdout",
     "output_type": "stream",
     "text": [
      "shape: (792, 5)\n",
      "┌──────┬───────────────┬───────────────┬──────────────────────┬────────┐\n",
      "│ year ┆ make          ┆ model         ┆ VClass               ┆ city08 │\n",
      "│ ---  ┆ ---           ┆ ---           ┆ ---                  ┆ ---    │\n",
      "│ i16  ┆ cat           ┆ cat           ┆ cat                  ┆ u8     │\n",
      "╞══════╪═══════════════╪═══════════════╪══════════════════════╪════════╡\n",
      "│ 1985 ┆ Ferrari       ┆ Testarossa    ┆ Two Seaters          ┆ 9      │\n",
      "│ 1993 ┆ CX Automotive ┆ XM v6         ┆ Midsize Cars         ┆ 13     │\n",
      "│ 1993 ┆ CX Automotive ┆ XM v6a        ┆ Midsize Cars         ┆ 13     │\n",
      "│ 1993 ┆ Lexus         ┆ LS 400        ┆ Midsize Cars         ┆ 16     │\n",
      "│ 1993 ┆ CX Automotive ┆ XM v6 Break   ┆ Small Station Wagons ┆ 13     │\n",
      "│ …    ┆ …             ┆ …             ┆ …                    ┆ …      │\n",
      "│ 1993 ┆ Lexus         ┆ SC 300/SC 400 ┆ Subcompact Cars      ┆ 16     │\n",
      "│ 1993 ┆ Mitsubishi    ┆ Mirage        ┆ Subcompact Cars      ┆ 28     │\n",
      "│ 1993 ┆ Plymouth      ┆ Colt          ┆ Subcompact Cars      ┆ 28     │\n",
      "│ 1993 ┆ Lexus         ┆ ES 300        ┆ Compact Cars         ┆ 16     │\n",
      "│ 1993 ┆ Lexus         ┆ ES 300        ┆ Compact Cars         ┆ 16     │\n",
      "└──────┴───────────────┴───────────────┴──────────────────────┴────────┘\n"
     ]
    }
   ],
   "source": [
    "print(autos\n",
    "      .filter(standardize(pl.col('city08')).over(['year', 'make']) > 3)\n",
    "      .select(['year', 'make', 'model', 'VClass', 'city08'])\n",
    "     )"
   ]
  },
  {
   "cell_type": "markdown",
   "id": "13e60bad-f689-4c78-a610-d7eebca3199a",
   "metadata": {},
   "source": [
    "### More Filtering with Window Expressions"
   ]
  },
  {
   "cell_type": "code",
   "execution_count": 26,
   "id": "368dfc4c-e6f8-4039-b1e4-a6390a227153",
   "metadata": {},
   "outputs": [
    {
     "name": "stdout",
     "output_type": "stream",
     "text": [
      "shape: (48_231, 16)\n",
      "┌──────┬────────────┬──────────────┬───────┬───┬─────────────┬─────────────┬───────────┬───────────┐\n",
      "│ year ┆ make       ┆ model        ┆ displ ┆ … ┆ createdOn   ┆ is_automati ┆ num_gears ┆ model_age │\n",
      "│ ---  ┆ ---        ┆ ---          ┆ ---   ┆   ┆ ---         ┆ c           ┆ ---       ┆ ---       │\n",
      "│ i16  ┆ cat        ┆ cat          ┆ f32   ┆   ┆ datetime[μs ┆ ---         ┆ u8        ┆ i16       │\n",
      "│      ┆            ┆              ┆       ┆   ┆ ]           ┆ str         ┆           ┆           │\n",
      "╞══════╪════════════╪══════════════╪═══════╪═══╪═════════════╪═════════════╪═══════════╪═══════════╡\n",
      "│ 1985 ┆ Alfa Romeo ┆ Spider       ┆ 2.0   ┆ … ┆ 2013-01-01  ┆ false       ┆ 5         ┆ 1         │\n",
      "│      ┆            ┆ Veloce 2000  ┆       ┆   ┆ 00:00:00    ┆             ┆           ┆           │\n",
      "│ 1985 ┆ Ferrari    ┆ Testarossa   ┆ 4.9   ┆ … ┆ 2013-01-01  ┆ false       ┆ 5         ┆ 8         │\n",
      "│      ┆            ┆              ┆       ┆   ┆ 00:00:00    ┆             ┆           ┆           │\n",
      "│ 1985 ┆ Dodge      ┆ Charger      ┆ 2.2   ┆ … ┆ 2013-01-01  ┆ false       ┆ 5         ┆ 39        │\n",
      "│      ┆            ┆              ┆       ┆   ┆ 00:00:00    ┆             ┆           ┆           │\n",
      "│ 1985 ┆ Dodge      ┆ B150/B250    ┆ 5.2   ┆ … ┆ 2013-01-01  ┆ true        ┆ 3         ┆ 10        │\n",
      "│      ┆            ┆ Wagon 2WD    ┆       ┆   ┆ 00:00:00    ┆             ┆           ┆           │\n",
      "│ 1993 ┆ Subaru     ┆ Legacy AWD   ┆ 2.2   ┆ … ┆ 2013-01-01  ┆ false       ┆ 5         ┆ 2         │\n",
      "│      ┆            ┆ Turbo        ┆       ┆   ┆ 00:00:00    ┆             ┆           ┆           │\n",
      "│ …    ┆ …          ┆ …            ┆ …     ┆ … ┆ …           ┆ …           ┆ …         ┆ …         │\n",
      "│ 1993 ┆ Subaru     ┆ Legacy       ┆ 2.2   ┆ … ┆ 2013-01-01  ┆ true        ┆ 4         ┆ 8         │\n",
      "│      ┆            ┆              ┆       ┆   ┆ 00:00:00    ┆             ┆           ┆           │\n",
      "│ 1993 ┆ Subaru     ┆ Legacy       ┆ 2.2   ┆ … ┆ 2013-01-01  ┆ false       ┆ 5         ┆ 8         │\n",
      "│      ┆            ┆              ┆       ┆   ┆ 00:00:00    ┆             ┆           ┆           │\n",
      "│ 1993 ┆ Subaru     ┆ Legacy AWD   ┆ 2.2   ┆ … ┆ 2013-01-01  ┆ true        ┆ 4         ┆ 33        │\n",
      "│      ┆            ┆              ┆       ┆   ┆ 00:00:00    ┆             ┆           ┆           │\n",
      "│ 1993 ┆ Subaru     ┆ Legacy AWD   ┆ 2.2   ┆ … ┆ 2013-01-01  ┆ false       ┆ 5         ┆ 33        │\n",
      "│      ┆            ┆              ┆       ┆   ┆ 00:00:00    ┆             ┆           ┆           │\n",
      "│ 1993 ┆ Subaru     ┆ Legacy AWD   ┆ 2.2   ┆ … ┆ 2013-01-01  ┆ true        ┆ 4         ┆ 2         │\n",
      "│      ┆            ┆ Turbo        ┆       ┆   ┆ 00:00:00    ┆             ┆           ┆           │\n",
      "└──────┴────────────┴──────────────┴───────┴───┴─────────────┴─────────────┴───────────┴───────────┘\n"
     ]
    }
   ],
   "source": [
    "print(autos\n",
    "      .with_columns(model_age=(pl.col('year').max() - pl.col('year').min())\n",
    "                    .over('model'))\n",
    "     )"
   ]
  },
  {
   "cell_type": "code",
   "execution_count": 27,
   "id": "abc4e968-a469-42da-a241-e027df4fab14",
   "metadata": {},
   "outputs": [
    {
     "name": "stdout",
     "output_type": "stream",
     "text": [
      "shape: (19_207, 16)\n",
      "┌──────┬────────┬────────────┬───────┬───┬──────────────┬──────────────┬───────────┬───────────┐\n",
      "│ year ┆ make   ┆ model      ┆ displ ┆ … ┆ createdOn    ┆ is_automatic ┆ num_gears ┆ model_age │\n",
      "│ ---  ┆ ---    ┆ ---        ┆ ---   ┆   ┆ ---          ┆ ---          ┆ ---       ┆ ---       │\n",
      "│ i16  ┆ cat    ┆ cat        ┆ f32   ┆   ┆ datetime[μs] ┆ str          ┆ u8        ┆ i16       │\n",
      "╞══════╪════════╪════════════╪═══════╪═══╪══════════════╪══════════════╪═══════════╪═══════════╡\n",
      "│ 1985 ┆ Dodge  ┆ Charger    ┆ 2.2   ┆ … ┆ 2013-01-01   ┆ false        ┆ 5         ┆ 39        │\n",
      "│      ┆        ┆            ┆       ┆   ┆ 00:00:00     ┆              ┆           ┆           │\n",
      "│ 1993 ┆ Toyota ┆ Corolla    ┆ 1.6   ┆ … ┆ 2013-01-01   ┆ true         ┆ 3         ┆ 41        │\n",
      "│      ┆        ┆            ┆       ┆   ┆ 00:00:00     ┆              ┆           ┆           │\n",
      "│ 1993 ┆ Toyota ┆ Corolla    ┆ 1.6   ┆ … ┆ 2013-01-01   ┆ false        ┆ 5         ┆ 41        │\n",
      "│      ┆        ┆            ┆       ┆   ┆ 00:00:00     ┆              ┆           ┆           │\n",
      "│ 1993 ┆ Toyota ┆ Corolla    ┆ 1.8   ┆ … ┆ 2013-01-01   ┆ true         ┆ 4         ┆ 41        │\n",
      "│      ┆        ┆            ┆       ┆   ┆ 00:00:00     ┆              ┆           ┆           │\n",
      "│ 1993 ┆ Toyota ┆ Corolla    ┆ 1.8   ┆ … ┆ 2013-01-01   ┆ false        ┆ 5         ┆ 41        │\n",
      "│      ┆        ┆            ┆       ┆   ┆ 00:00:00     ┆              ┆           ┆           │\n",
      "│ …    ┆ …      ┆ …          ┆ …     ┆ … ┆ …            ┆ …            ┆ …         ┆ …         │\n",
      "│ 1993 ┆ Saturn ┆ SL         ┆ 1.9   ┆ … ┆ 2013-01-01   ┆ true         ┆ 4         ┆ 11        │\n",
      "│      ┆        ┆            ┆       ┆   ┆ 00:00:00     ┆              ┆           ┆           │\n",
      "│ 1993 ┆ Saturn ┆ SL         ┆ 1.9   ┆ … ┆ 2013-01-01   ┆ false        ┆ 5         ┆ 11        │\n",
      "│      ┆        ┆            ┆       ┆   ┆ 00:00:00     ┆              ┆           ┆           │\n",
      "│ 1993 ┆ Saturn ┆ SL         ┆ 1.9   ┆ … ┆ 2013-01-01   ┆ false        ┆ 5         ┆ 11        │\n",
      "│      ┆        ┆            ┆       ┆   ┆ 00:00:00     ┆              ┆           ┆           │\n",
      "│ 1993 ┆ Subaru ┆ Legacy AWD ┆ 2.2   ┆ … ┆ 2013-01-01   ┆ true         ┆ 4         ┆ 33        │\n",
      "│      ┆        ┆            ┆       ┆   ┆ 00:00:00     ┆              ┆           ┆           │\n",
      "│ 1993 ┆ Subaru ┆ Legacy AWD ┆ 2.2   ┆ … ┆ 2013-01-01   ┆ false        ┆ 5         ┆ 33        │\n",
      "│      ┆        ┆            ┆       ┆   ┆ 00:00:00     ┆              ┆           ┆           │\n",
      "└──────┴────────┴────────────┴───────┴───┴──────────────┴──────────────┴───────────┴───────────┘\n"
     ]
    }
   ],
   "source": [
    "print(autos\n",
    "      .with_columns(model_age=(pl.col('year').max() - pl.col('year').min())\n",
    "                    .over('model'))\n",
    "      .filter(pl.col('model_age') > 10)\n",
    "     )"
   ]
  },
  {
   "cell_type": "markdown",
   "id": "ae09382e-d41d-4da4-a7d1-6b055d6f87b9",
   "metadata": {},
   "source": [
    "### Manipulating Data with Conditional Expressions"
   ]
  },
  {
   "cell_type": "code",
   "execution_count": 29,
   "id": "b7e409bd-3835-457f-b15d-f03a79b01804",
   "metadata": {},
   "outputs": [
    {
     "name": "stdout",
     "output_type": "stream",
     "text": [
      "shape: (15, 2)\n",
      "┌─────────────────────────────┬───────┐\n",
      "│ fuelType                    ┆ len   │\n",
      "│ ---                         ┆ ---   │\n",
      "│ cat                         ┆ u32   │\n",
      "╞═════════════════════════════╪═══════╡\n",
      "│ Gasoline or natural gas     ┆ 20    │\n",
      "│ Midgrade                    ┆ 166   │\n",
      "│ Regular Gas and Electricity ┆ 116   │\n",
      "│ Hydrogen                    ┆ 32    │\n",
      "│ Regular Gas or Electricity  ┆ 4     │\n",
      "│ …                           ┆ …     │\n",
      "│ Diesel                      ┆ 1284  │\n",
      "│ Regular                     ┆ 29131 │\n",
      "│ Gasoline or E85             ┆ 1402  │\n",
      "│ Premium Gas or Electricity  ┆ 55    │\n",
      "│ Gasoline or propane         ┆ 8     │\n",
      "└─────────────────────────────┴───────┘\n"
     ]
    }
   ],
   "source": [
    "print(autos\n",
    "      .group_by('fuelType')\n",
    "      .len()\n",
    "     )"
   ]
  },
  {
   "cell_type": "code",
   "execution_count": 31,
   "id": "899847d2-fb58-4d09-9372-634799bf651d",
   "metadata": {},
   "outputs": [
    {
     "name": "stdout",
     "output_type": "stream",
     "text": [
      "shape: (15, 1)\n",
      "┌─────────────────────────────────┐\n",
      "│ fuelType                        │\n",
      "│ ---                             │\n",
      "│ struct[2]                       │\n",
      "╞═════════════════════════════════╡\n",
      "│ {\"Regular\",29131}               │\n",
      "│ {\"Premium\",14699}               │\n",
      "│ {\"Gasoline or E85\",1402}        │\n",
      "│ {\"Diesel\",1284}                 │\n",
      "│ {\"Electricity\",930}             │\n",
      "│ …                               │\n",
      "│ {\"Premium Gas or Electricity\",… │\n",
      "│ {\"Hydrogen\",32}                 │\n",
      "│ {\"Gasoline or natural gas\",20}  │\n",
      "│ {\"Gasoline or propane\",8}       │\n",
      "│ {\"Regular Gas or Electricity\",… │\n",
      "└─────────────────────────────────┘\n"
     ]
    }
   ],
   "source": [
    "print(autos\n",
    "      .select(pl.col('fuelType').value_counts(sort=True))\n",
    "     )"
   ]
  },
  {
   "cell_type": "code",
   "execution_count": 32,
   "id": "8225d6bc-01c3-4eed-845c-19619e948108",
   "metadata": {},
   "outputs": [
    {
     "name": "stdout",
     "output_type": "stream",
     "text": [
      "shape: (15, 2)\n",
      "┌────────────────────────────┬───────┐\n",
      "│ fuelType                   ┆ count │\n",
      "│ ---                        ┆ ---   │\n",
      "│ cat                        ┆ u32   │\n",
      "╞════════════════════════════╪═══════╡\n",
      "│ Regular                    ┆ 29131 │\n",
      "│ Premium                    ┆ 14699 │\n",
      "│ Gasoline or E85            ┆ 1402  │\n",
      "│ Diesel                     ┆ 1284  │\n",
      "│ Electricity                ┆ 930   │\n",
      "│ …                          ┆ …     │\n",
      "│ Premium Gas or Electricity ┆ 55    │\n",
      "│ Hydrogen                   ┆ 32    │\n",
      "│ Gasoline or natural gas    ┆ 20    │\n",
      "│ Gasoline or propane        ┆ 8     │\n",
      "│ Regular Gas or Electricity ┆ 4     │\n",
      "└────────────────────────────┴───────┘\n"
     ]
    }
   ],
   "source": [
    "print(autos\n",
    "      .select(pl.col('fuelType').value_counts(sort=True))\n",
    "      .unnest('fuelType')\n",
    "     )"
   ]
  },
  {
   "cell_type": "code",
   "execution_count": 35,
   "id": "96be2404-eec4-4c1b-b8f7-643c132e5bf6",
   "metadata": {},
   "outputs": [
    {
     "name": "stdout",
     "output_type": "stream",
     "text": [
      "shape: (15, 1)\n",
      "┌────────────────────────────┐\n",
      "│ fuelType                   │\n",
      "│ ---                        │\n",
      "│ cat                        │\n",
      "╞════════════════════════════╡\n",
      "│ Regular                    │\n",
      "│ Premium                    │\n",
      "│ Gasoline or E85            │\n",
      "│ Diesel                     │\n",
      "│ Electricity                │\n",
      "│ …                          │\n",
      "│ Premium Gas or Electricity │\n",
      "│ Hydrogen                   │\n",
      "│ Gasoline or natural gas    │\n",
      "│ Gasoline or propane        │\n",
      "│ Regular Gas or Electricity │\n",
      "└────────────────────────────┘\n"
     ]
    }
   ],
   "source": [
    "print(autos\n",
    "      .select(pl.col('fuelType')\n",
    "              .value_counts(sort=True)\n",
    "              .struct[0])\n",
    "     )"
   ]
  },
  {
   "cell_type": "markdown",
   "id": "daee843b-550a-419c-ab79-05db413c82f5",
   "metadata": {},
   "source": [
    "##### Building `fuelTypeSimple` Expression\n",
    "\n",
    "```sh\n",
    "if 'Diesel' in fuel_type:\n",
    "    fuel_type_simple = 'Diesel'\n",
    "elif 'CNG' in fuel_type:\n",
    "    fuel_type_simple = 'CNG'\n",
    "elif 'Electricity' in fuel_type:\n",
    "    fuel_type_simple = 'Electric'\n",
    "else:\n",
    "    fuel_type_simple = 'Gasoline'"
   ]
  },
  {
   "cell_type": "markdown",
   "id": "6a308eec-d15f-4f4c-a87c-c09caf7dbcec",
   "metadata": {},
   "source": [
    "##### Polar's Format\n",
    "\n",
    "```sh\n",
    "(pl.when(COND_EXPR)\n",
    "   .then(EXPR)\n",
    " .when(COND_EXPR2)\n",
    "   .then(EXPR2)\n",
    " ... \n",
    " .otherwise(EXPRN)"
   ]
  },
  {
   "cell_type": "code",
   "execution_count": 36,
   "id": "7793a0e7-bbbe-4a5b-9b5f-5110478374f9",
   "metadata": {},
   "outputs": [],
   "source": [
    "fuel_str = pl.col('fuelType').cast(pl.String)"
   ]
  },
  {
   "cell_type": "code",
   "execution_count": 37,
   "id": "fad1b12f-b260-4864-8617-1e23f86790a4",
   "metadata": {},
   "outputs": [],
   "source": [
    "simple = (pl.when(fuel_str.str.contains('Diesel')).then(pl.lit('Diesel'))\n",
    "          .when(fuel_str.str.contains('CNG')).then(pl.lit('CNG'))\n",
    "          .when(fuel_str.str.contains('Electricity')).then(pl.lit('Electric'))\n",
    "          .otherwise(pl.lit('Gasoline')))"
   ]
  },
  {
   "cell_type": "code",
   "execution_count": 38,
   "id": "271fa275-aeac-4790-aca8-6f02d2da30dc",
   "metadata": {},
   "outputs": [
    {
     "name": "stdout",
     "output_type": "stream",
     "text": [
      "shape: (48_231, 16)\n",
      "┌──────┬────────────┬─────────────┬───────┬───┬─────────────┬─────────────┬───────────┬────────────┐\n",
      "│ year ┆ make       ┆ model       ┆ displ ┆ … ┆ createdOn   ┆ is_automati ┆ num_gears ┆ fuelTypeSi │\n",
      "│ ---  ┆ ---        ┆ ---         ┆ ---   ┆   ┆ ---         ┆ c           ┆ ---       ┆ mple       │\n",
      "│ i16  ┆ cat        ┆ cat         ┆ f32   ┆   ┆ datetime[μs ┆ ---         ┆ u8        ┆ ---        │\n",
      "│      ┆            ┆             ┆       ┆   ┆ ]           ┆ str         ┆           ┆ str        │\n",
      "╞══════╪════════════╪═════════════╪═══════╪═══╪═════════════╪═════════════╪═══════════╪════════════╡\n",
      "│ 1985 ┆ Alfa Romeo ┆ Spider      ┆ 2.0   ┆ … ┆ 2013-01-01  ┆ false       ┆ 5         ┆ Gasoline   │\n",
      "│      ┆            ┆ Veloce 2000 ┆       ┆   ┆ 00:00:00    ┆             ┆           ┆            │\n",
      "│ 1985 ┆ Ferrari    ┆ Testarossa  ┆ 4.9   ┆ … ┆ 2013-01-01  ┆ false       ┆ 5         ┆ Gasoline   │\n",
      "│      ┆            ┆             ┆       ┆   ┆ 00:00:00    ┆             ┆           ┆            │\n",
      "│ 1985 ┆ Dodge      ┆ Charger     ┆ 2.2   ┆ … ┆ 2013-01-01  ┆ false       ┆ 5         ┆ Gasoline   │\n",
      "│      ┆            ┆             ┆       ┆   ┆ 00:00:00    ┆             ┆           ┆            │\n",
      "│ 1985 ┆ Dodge      ┆ B150/B250   ┆ 5.2   ┆ … ┆ 2013-01-01  ┆ true        ┆ 3         ┆ Gasoline   │\n",
      "│      ┆            ┆ Wagon 2WD   ┆       ┆   ┆ 00:00:00    ┆             ┆           ┆            │\n",
      "│ 1993 ┆ Subaru     ┆ Legacy AWD  ┆ 2.2   ┆ … ┆ 2013-01-01  ┆ false       ┆ 5         ┆ Gasoline   │\n",
      "│      ┆            ┆ Turbo       ┆       ┆   ┆ 00:00:00    ┆             ┆           ┆            │\n",
      "│ …    ┆ …          ┆ …           ┆ …     ┆ … ┆ …           ┆ …           ┆ …         ┆ …          │\n",
      "│ 1993 ┆ Subaru     ┆ Legacy      ┆ 2.2   ┆ … ┆ 2013-01-01  ┆ true        ┆ 4         ┆ Gasoline   │\n",
      "│      ┆            ┆             ┆       ┆   ┆ 00:00:00    ┆             ┆           ┆            │\n",
      "│ 1993 ┆ Subaru     ┆ Legacy      ┆ 2.2   ┆ … ┆ 2013-01-01  ┆ false       ┆ 5         ┆ Gasoline   │\n",
      "│      ┆            ┆             ┆       ┆   ┆ 00:00:00    ┆             ┆           ┆            │\n",
      "│ 1993 ┆ Subaru     ┆ Legacy AWD  ┆ 2.2   ┆ … ┆ 2013-01-01  ┆ true        ┆ 4         ┆ Gasoline   │\n",
      "│      ┆            ┆             ┆       ┆   ┆ 00:00:00    ┆             ┆           ┆            │\n",
      "│ 1993 ┆ Subaru     ┆ Legacy AWD  ┆ 2.2   ┆ … ┆ 2013-01-01  ┆ false       ┆ 5         ┆ Gasoline   │\n",
      "│      ┆            ┆             ┆       ┆   ┆ 00:00:00    ┆             ┆           ┆            │\n",
      "│ 1993 ┆ Subaru     ┆ Legacy AWD  ┆ 2.2   ┆ … ┆ 2013-01-01  ┆ true        ┆ 4         ┆ Gasoline   │\n",
      "│      ┆            ┆ Turbo       ┆       ┆   ┆ 00:00:00    ┆             ┆           ┆            │\n",
      "└──────┴────────────┴─────────────┴───────┴───┴─────────────┴─────────────┴───────────┴────────────┘\n"
     ]
    }
   ],
   "source": [
    "print(autos\n",
    "      .with_columns(simple.alias('fuelTypeSimple'))\n",
    "     )"
   ]
  },
  {
   "cell_type": "code",
   "execution_count": 39,
   "id": "24c0238d-ffe3-4127-bbc4-de7033d1790c",
   "metadata": {},
   "outputs": [],
   "source": [
    "# Looking at CNG Column, as follows:\n",
    "fuel_str = pl.col('fuelType').cast(pl.String)"
   ]
  },
  {
   "cell_type": "code",
   "execution_count": 40,
   "id": "83e2765f-ca2f-4733-aad8-6a7304762544",
   "metadata": {},
   "outputs": [],
   "source": [
    "simple = (pl.when(fuel_str.str.contains('Diesel')).then(pl.lit('Diesel'))\n",
    "          .when(fuel_str.str.contains('CNG')).then(pl.lit('CNG'))\n",
    "          .when(fuel_str.str.contains('Electricity')).then(pl.lit('Electric'))\n",
    "          .otherwise(pl.lit('Gasoline')))"
   ]
  },
  {
   "cell_type": "code",
   "execution_count": 41,
   "id": "4f29d1ce-fcd1-485a-82c2-6dc75b308c47",
   "metadata": {},
   "outputs": [
    {
     "name": "stdout",
     "output_type": "stream",
     "text": [
      "shape: (60, 16)\n",
      "┌──────┬─────────────┬─────────────┬───────┬───┬─────────────┬────────────┬───────────┬────────────┐\n",
      "│ year ┆ make        ┆ model       ┆ displ ┆ … ┆ createdOn   ┆ is_automat ┆ num_gears ┆ fuelTypeSi │\n",
      "│ ---  ┆ ---         ┆ ---         ┆ ---   ┆   ┆ ---         ┆ ic         ┆ ---       ┆ mple       │\n",
      "│ i16  ┆ cat         ┆ cat         ┆ f32   ┆   ┆ datetime[μs ┆ ---        ┆ u8        ┆ ---        │\n",
      "│      ┆             ┆             ┆       ┆   ┆ ]           ┆ str        ┆           ┆ str        │\n",
      "╞══════╪═════════════╪═════════════╪═══════╪═══╪═════════════╪════════════╪═══════════╪════════════╡\n",
      "│ 1996 ┆ Ford        ┆ Crown       ┆ 4.6   ┆ … ┆ 2013-01-01  ┆ true       ┆ 4         ┆ CNG        │\n",
      "│      ┆             ┆ Victoria    ┆       ┆   ┆ 00:00:00    ┆            ┆           ┆            │\n",
      "│      ┆             ┆ CNG         ┆       ┆   ┆             ┆            ┆           ┆            │\n",
      "│ 1997 ┆ Ford        ┆ Crown       ┆ 4.6   ┆ … ┆ 2013-01-01  ┆ true       ┆ 4         ┆ CNG        │\n",
      "│      ┆             ┆ Victoria    ┆       ┆   ┆ 00:00:00    ┆            ┆           ┆            │\n",
      "│      ┆             ┆ CNG         ┆       ┆   ┆             ┆            ┆           ┆            │\n",
      "│ 1998 ┆ Honda       ┆ Civic CNG   ┆ 1.6   ┆ … ┆ 2013-01-01  ┆ true       ┆ 4         ┆ CNG        │\n",
      "│      ┆             ┆             ┆       ┆   ┆ 00:00:00    ┆            ┆           ┆            │\n",
      "│ 1998 ┆ Ford        ┆ F250 Pickup ┆ 5.4   ┆ … ┆ 2013-01-01  ┆ true       ┆ 4         ┆ CNG        │\n",
      "│      ┆             ┆ 2WD CNG     ┆       ┆   ┆ 00:00:00    ┆            ┆           ┆            │\n",
      "│ 1998 ┆ Ford        ┆ E250        ┆ 5.4   ┆ … ┆ 2013-01-01  ┆ true       ┆ 4         ┆ CNG        │\n",
      "│      ┆             ┆ Econoline   ┆       ┆   ┆ 00:00:00    ┆            ┆           ┆            │\n",
      "│      ┆             ┆ 2WD CNG     ┆       ┆   ┆             ┆            ┆           ┆            │\n",
      "│ …    ┆ …           ┆ …           ┆ …     ┆ … ┆ …           ┆ …          ┆ …         ┆ …          │\n",
      "│ 2012 ┆ Honda       ┆ Civic       ┆ 1.8   ┆ … ┆ 2013-01-01  ┆ true       ┆ 5         ┆ CNG        │\n",
      "│      ┆             ┆ Natural Gas ┆       ┆   ┆ 00:00:00    ┆            ┆           ┆            │\n",
      "│ 2013 ┆ Honda       ┆ Civic       ┆ 1.8   ┆ … ┆ 2013-01-01  ┆ true       ┆ 5         ┆ CNG        │\n",
      "│      ┆             ┆ Natural Gas ┆       ┆   ┆ 00:00:00    ┆            ┆           ┆            │\n",
      "│ 2014 ┆ Honda       ┆ Civic       ┆ 1.8   ┆ … ┆ 2014-02-17  ┆ true       ┆ 5         ┆ CNG        │\n",
      "│      ┆             ┆ Natural Gas ┆       ┆   ┆ 00:00:00    ┆            ┆           ┆            │\n",
      "│ 2014 ┆ Mobility    ┆ MV-1 CNG    ┆ 4.6   ┆ … ┆ 2014-09-10  ┆ true       ┆ 4         ┆ CNG        │\n",
      "│      ┆ Ventures    ┆             ┆       ┆   ┆ 00:00:00    ┆            ┆           ┆            │\n",
      "│      ┆ LLC         ┆             ┆       ┆   ┆             ┆            ┆           ┆            │\n",
      "│ 2015 ┆ Honda       ┆ Civic       ┆ 1.8   ┆ … ┆ 2014-11-06  ┆ true       ┆ 5         ┆ CNG        │\n",
      "│      ┆             ┆ Natural Gas ┆       ┆   ┆ 00:00:00    ┆            ┆           ┆            │\n",
      "└──────┴─────────────┴─────────────┴───────┴───┴─────────────┴────────────┴───────────┴────────────┘\n"
     ]
    }
   ],
   "source": [
    "print(autos\n",
    "      .with_columns(fuelTypeSimple=simple)\n",
    "      .filter(pl.col('fuelTypeSimple') == 'CNG')\n",
    "     )"
   ]
  },
  {
   "cell_type": "code",
   "execution_count": 42,
   "id": "9ccb53eb-2d5e-44ef-af04-57cab853c784",
   "metadata": {},
   "outputs": [],
   "source": [
    "top_n = (pl.col('make')\n",
    "         .value_counts(sort=True)\n",
    "         .struct[0]\n",
    "         .head(10)\n",
    "        )"
   ]
  },
  {
   "cell_type": "code",
   "execution_count": 44,
   "id": "7cecb394-dac3-4c13-8477-818a32f4edec",
   "metadata": {},
   "outputs": [],
   "source": [
    "top_expr = (pl.when(pl.col('make').is_in(top_n))\n",
    "            .then(pl.col('make'))\n",
    "            .otherwise(pl.lit('Other'))\n",
    "           )"
   ]
  },
  {
   "cell_type": "code",
   "execution_count": 46,
   "id": "38ab3d74-67d3-413f-b322-b98fd8b68a1f",
   "metadata": {},
   "outputs": [
    {
     "name": "stdout",
     "output_type": "stream",
     "text": [
      "shape: (48_231, 16)\n",
      "┌──────┬────────────┬─────────────┬───────┬───┬─────────────┬─────────────┬───────────┬────────────┐\n",
      "│ year ┆ make       ┆ model       ┆ displ ┆ … ┆ createdOn   ┆ is_automati ┆ num_gears ┆ simple_mak │\n",
      "│ ---  ┆ ---        ┆ ---         ┆ ---   ┆   ┆ ---         ┆ c           ┆ ---       ┆ e          │\n",
      "│ i16  ┆ cat        ┆ cat         ┆ f32   ┆   ┆ datetime[μs ┆ ---         ┆ u8        ┆ ---        │\n",
      "│      ┆            ┆             ┆       ┆   ┆ ]           ┆ str         ┆           ┆ cat        │\n",
      "╞══════╪════════════╪═════════════╪═══════╪═══╪═════════════╪═════════════╪═══════════╪════════════╡\n",
      "│ 1985 ┆ Alfa Romeo ┆ Spider      ┆ 2.0   ┆ … ┆ 2013-01-01  ┆ false       ┆ 5         ┆ Other      │\n",
      "│      ┆            ┆ Veloce 2000 ┆       ┆   ┆ 00:00:00    ┆             ┆           ┆            │\n",
      "│ 1985 ┆ Ferrari    ┆ Testarossa  ┆ 4.9   ┆ … ┆ 2013-01-01  ┆ false       ┆ 5         ┆ Other      │\n",
      "│      ┆            ┆             ┆       ┆   ┆ 00:00:00    ┆             ┆           ┆            │\n",
      "│ 1985 ┆ Dodge      ┆ Charger     ┆ 2.2   ┆ … ┆ 2013-01-01  ┆ false       ┆ 5         ┆ Dodge      │\n",
      "│      ┆            ┆             ┆       ┆   ┆ 00:00:00    ┆             ┆           ┆            │\n",
      "│ 1985 ┆ Dodge      ┆ B150/B250   ┆ 5.2   ┆ … ┆ 2013-01-01  ┆ true        ┆ 3         ┆ Dodge      │\n",
      "│      ┆            ┆ Wagon 2WD   ┆       ┆   ┆ 00:00:00    ┆             ┆           ┆            │\n",
      "│ 1993 ┆ Subaru     ┆ Legacy AWD  ┆ 2.2   ┆ … ┆ 2013-01-01  ┆ false       ┆ 5         ┆ Other      │\n",
      "│      ┆            ┆ Turbo       ┆       ┆   ┆ 00:00:00    ┆             ┆           ┆            │\n",
      "│ …    ┆ …          ┆ …           ┆ …     ┆ … ┆ …           ┆ …           ┆ …         ┆ …          │\n",
      "│ 1993 ┆ Subaru     ┆ Legacy      ┆ 2.2   ┆ … ┆ 2013-01-01  ┆ true        ┆ 4         ┆ Other      │\n",
      "│      ┆            ┆             ┆       ┆   ┆ 00:00:00    ┆             ┆           ┆            │\n",
      "│ 1993 ┆ Subaru     ┆ Legacy      ┆ 2.2   ┆ … ┆ 2013-01-01  ┆ false       ┆ 5         ┆ Other      │\n",
      "│      ┆            ┆             ┆       ┆   ┆ 00:00:00    ┆             ┆           ┆            │\n",
      "│ 1993 ┆ Subaru     ┆ Legacy AWD  ┆ 2.2   ┆ … ┆ 2013-01-01  ┆ true        ┆ 4         ┆ Other      │\n",
      "│      ┆            ┆             ┆       ┆   ┆ 00:00:00    ┆             ┆           ┆            │\n",
      "│ 1993 ┆ Subaru     ┆ Legacy AWD  ┆ 2.2   ┆ … ┆ 2013-01-01  ┆ false       ┆ 5         ┆ Other      │\n",
      "│      ┆            ┆             ┆       ┆   ┆ 00:00:00    ┆             ┆           ┆            │\n",
      "│ 1993 ┆ Subaru     ┆ Legacy AWD  ┆ 2.2   ┆ … ┆ 2013-01-01  ┆ true        ┆ 4         ┆ Other      │\n",
      "│      ┆            ┆ Turbo       ┆       ┆   ┆ 00:00:00    ┆             ┆           ┆            │\n",
      "└──────┴────────────┴─────────────┴───────┴───┴─────────────┴─────────────┴───────────┴────────────┘\n"
     ]
    },
    {
     "name": "stderr",
     "output_type": "stream",
     "text": [
      "/var/folders/dk/f9pbhbp52qxc0613mpbtx8lm0000gn/T/ipykernel_5079/2555120211.py:2: CategoricalRemappingWarning: Local categoricals have different encodings, expensive re-encoding is done to perform this merge operation. Consider using a StringCache or an Enum type if the categories are known in advance\n",
      "  .with_columns(simple_make=top_expr)\n"
     ]
    }
   ],
   "source": [
    "print(autos\n",
    "      .with_columns(simple_make=top_expr)\n",
    "     )"
   ]
  },
  {
   "cell_type": "code",
   "execution_count": 47,
   "id": "f7c9e2a2-5140-4c2c-b4e2-eb66bcdeaf35",
   "metadata": {},
   "outputs": [],
   "source": [
    "# Limit Helper Function\n",
    "def limit(col_name, n=10, default='other'):\n",
    "    col = pl.col(col_name)\n",
    "    top_n = (col\n",
    "             .value_counts(sort=True)\n",
    "             .struct[0]\n",
    "             .head(n)\n",
    "            )\n",
    "    return (pl.when(col.is_in(top_n))\n",
    "            .then(col)\n",
    "            .otherwise(pl.lit(default))\n",
    "           )"
   ]
  },
  {
   "cell_type": "code",
   "execution_count": 48,
   "id": "663ab48f-90b7-4b13-9d0a-8f66c2f662cb",
   "metadata": {},
   "outputs": [
    {
     "name": "stdout",
     "output_type": "stream",
     "text": [
      "shape: (48_231, 16)\n",
      "┌──────┬────────────┬─────────────┬───────┬───┬─────────────┬─────────────┬───────────┬────────────┐\n",
      "│ year ┆ make       ┆ model       ┆ displ ┆ … ┆ createdOn   ┆ is_automati ┆ num_gears ┆ simple_mak │\n",
      "│ ---  ┆ ---        ┆ ---         ┆ ---   ┆   ┆ ---         ┆ c           ┆ ---       ┆ e          │\n",
      "│ i16  ┆ cat        ┆ cat         ┆ f32   ┆   ┆ datetime[μs ┆ ---         ┆ u8        ┆ ---        │\n",
      "│      ┆            ┆             ┆       ┆   ┆ ]           ┆ str         ┆           ┆ cat        │\n",
      "╞══════╪════════════╪═════════════╪═══════╪═══╪═════════════╪═════════════╪═══════════╪════════════╡\n",
      "│ 1985 ┆ Alfa Romeo ┆ Spider      ┆ 2.0   ┆ … ┆ 2013-01-01  ┆ false       ┆ 5         ┆ other      │\n",
      "│      ┆            ┆ Veloce 2000 ┆       ┆   ┆ 00:00:00    ┆             ┆           ┆            │\n",
      "│ 1985 ┆ Ferrari    ┆ Testarossa  ┆ 4.9   ┆ … ┆ 2013-01-01  ┆ false       ┆ 5         ┆ other      │\n",
      "│      ┆            ┆             ┆       ┆   ┆ 00:00:00    ┆             ┆           ┆            │\n",
      "│ 1985 ┆ Dodge      ┆ Charger     ┆ 2.2   ┆ … ┆ 2013-01-01  ┆ false       ┆ 5         ┆ Dodge      │\n",
      "│      ┆            ┆             ┆       ┆   ┆ 00:00:00    ┆             ┆           ┆            │\n",
      "│ 1985 ┆ Dodge      ┆ B150/B250   ┆ 5.2   ┆ … ┆ 2013-01-01  ┆ true        ┆ 3         ┆ Dodge      │\n",
      "│      ┆            ┆ Wagon 2WD   ┆       ┆   ┆ 00:00:00    ┆             ┆           ┆            │\n",
      "│ 1993 ┆ Subaru     ┆ Legacy AWD  ┆ 2.2   ┆ … ┆ 2013-01-01  ┆ false       ┆ 5         ┆ other      │\n",
      "│      ┆            ┆ Turbo       ┆       ┆   ┆ 00:00:00    ┆             ┆           ┆            │\n",
      "│ …    ┆ …          ┆ …           ┆ …     ┆ … ┆ …           ┆ …           ┆ …         ┆ …          │\n",
      "│ 1993 ┆ Subaru     ┆ Legacy      ┆ 2.2   ┆ … ┆ 2013-01-01  ┆ true        ┆ 4         ┆ other      │\n",
      "│      ┆            ┆             ┆       ┆   ┆ 00:00:00    ┆             ┆           ┆            │\n",
      "│ 1993 ┆ Subaru     ┆ Legacy      ┆ 2.2   ┆ … ┆ 2013-01-01  ┆ false       ┆ 5         ┆ other      │\n",
      "│      ┆            ┆             ┆       ┆   ┆ 00:00:00    ┆             ┆           ┆            │\n",
      "│ 1993 ┆ Subaru     ┆ Legacy AWD  ┆ 2.2   ┆ … ┆ 2013-01-01  ┆ true        ┆ 4         ┆ other      │\n",
      "│      ┆            ┆             ┆       ┆   ┆ 00:00:00    ┆             ┆           ┆            │\n",
      "│ 1993 ┆ Subaru     ┆ Legacy AWD  ┆ 2.2   ┆ … ┆ 2013-01-01  ┆ false       ┆ 5         ┆ other      │\n",
      "│      ┆            ┆             ┆       ┆   ┆ 00:00:00    ┆             ┆           ┆            │\n",
      "│ 1993 ┆ Subaru     ┆ Legacy AWD  ┆ 2.2   ┆ … ┆ 2013-01-01  ┆ true        ┆ 4         ┆ other      │\n",
      "│      ┆            ┆ Turbo       ┆       ┆   ┆ 00:00:00    ┆             ┆           ┆            │\n",
      "└──────┴────────────┴─────────────┴───────┴───┴─────────────┴─────────────┴───────────┴────────────┘\n"
     ]
    },
    {
     "name": "stderr",
     "output_type": "stream",
     "text": [
      "/var/folders/dk/f9pbhbp52qxc0613mpbtx8lm0000gn/T/ipykernel_5079/2798648594.py:2: CategoricalRemappingWarning: Local categoricals have different encodings, expensive re-encoding is done to perform this merge operation. Consider using a StringCache or an Enum type if the categories are known in advance\n",
      "  .with_columns(simple_make=limit('make'))\n"
     ]
    }
   ],
   "source": [
    "print(autos\n",
    "      .with_columns(simple_make=limit('make'))\n",
    "     )"
   ]
  },
  {
   "cell_type": "code",
   "execution_count": 49,
   "id": "dcf67709-5b04-4a63-bfa0-1a31b3eb2421",
   "metadata": {},
   "outputs": [
    {
     "name": "stdout",
     "output_type": "stream",
     "text": [
      "shape: (48_231, 1)\n",
      "┌─────────────┐\n",
      "│ simple_make │\n",
      "│ ---         │\n",
      "│ cat         │\n",
      "╞═════════════╡\n",
      "│ other       │\n",
      "│ other       │\n",
      "│ Dodge       │\n",
      "│ Dodge       │\n",
      "│ Subaru      │\n",
      "│ …           │\n",
      "│ Subaru      │\n",
      "│ Subaru      │\n",
      "│ Subaru      │\n",
      "│ Subaru      │\n",
      "│ Subaru      │\n",
      "└─────────────┘\n"
     ]
    }
   ],
   "source": [
    "with pl.StringCache():\n",
    "    autos2 = tweak_auto(raw)\n",
    "    print(autos2\n",
    "          .select(simple_make=limit('make', 20, 'other')))"
   ]
  },
  {
   "cell_type": "markdown",
   "id": "93fc4245-7181-412b-91be-32020081ca54",
   "metadata": {},
   "source": [
    "### Handling Missing Data"
   ]
  },
  {
   "cell_type": "code",
   "execution_count": 50,
   "id": "c0fbe502-1973-4c29-9a31-c296059bbfc1",
   "metadata": {},
   "outputs": [
    {
     "name": "stdout",
     "output_type": "stream",
     "text": [
      "shape: (48_231, 15)\n",
      "┌───────┬───────┬───────┬───────┬───┬───────────┬───────────┬──────────────┬───────────┐\n",
      "│ year  ┆ make  ┆ model ┆ displ ┆ … ┆ highway08 ┆ createdOn ┆ is_automatic ┆ num_gears │\n",
      "│ ---   ┆ ---   ┆ ---   ┆ ---   ┆   ┆ ---       ┆ ---       ┆ ---          ┆ ---       │\n",
      "│ bool  ┆ bool  ┆ bool  ┆ bool  ┆   ┆ bool      ┆ bool      ┆ bool         ┆ bool      │\n",
      "╞═══════╪═══════╪═══════╪═══════╪═══╪═══════════╪═══════════╪══════════════╪═══════════╡\n",
      "│ false ┆ false ┆ false ┆ false ┆ … ┆ false     ┆ false     ┆ false        ┆ false     │\n",
      "│ false ┆ false ┆ false ┆ false ┆ … ┆ false     ┆ false     ┆ false        ┆ false     │\n",
      "│ false ┆ false ┆ false ┆ false ┆ … ┆ false     ┆ false     ┆ false        ┆ false     │\n",
      "│ false ┆ false ┆ false ┆ false ┆ … ┆ false     ┆ false     ┆ false        ┆ false     │\n",
      "│ false ┆ false ┆ false ┆ false ┆ … ┆ false     ┆ false     ┆ false        ┆ false     │\n",
      "│ …     ┆ …     ┆ …     ┆ …     ┆ … ┆ …         ┆ …         ┆ …            ┆ …         │\n",
      "│ false ┆ false ┆ false ┆ false ┆ … ┆ false     ┆ false     ┆ false        ┆ false     │\n",
      "│ false ┆ false ┆ false ┆ false ┆ … ┆ false     ┆ false     ┆ false        ┆ false     │\n",
      "│ false ┆ false ┆ false ┆ false ┆ … ┆ false     ┆ false     ┆ false        ┆ false     │\n",
      "│ false ┆ false ┆ false ┆ false ┆ … ┆ false     ┆ false     ┆ false        ┆ false     │\n",
      "│ false ┆ false ┆ false ┆ false ┆ … ┆ false     ┆ false     ┆ false        ┆ false     │\n",
      "└───────┴───────┴───────┴───────┴───┴───────────┴───────────┴──────────────┴───────────┘\n"
     ]
    }
   ],
   "source": [
    "print(autos\n",
    "      .select(pl.col('*').is_null())\n",
    "     )"
   ]
  },
  {
   "cell_type": "code",
   "execution_count": 51,
   "id": "da665f77-0c1f-441d-b0df-1137bc832bf3",
   "metadata": {},
   "outputs": [
    {
     "data": {
      "text/plain": [
       "1"
      ]
     },
     "execution_count": 51,
     "metadata": {},
     "output_type": "execute_result"
    }
   ],
   "source": [
    "int(True)"
   ]
  },
  {
   "cell_type": "code",
   "execution_count": 52,
   "id": "48f75a22-3fa4-4ba6-bb87-81e66cbafc06",
   "metadata": {},
   "outputs": [
    {
     "name": "stdout",
     "output_type": "stream",
     "text": [
      "shape: (1, 15)\n",
      "┌──────┬──────┬───────┬───────┬───┬───────────┬───────────┬──────────────┬───────────┐\n",
      "│ year ┆ make ┆ model ┆ displ ┆ … ┆ highway08 ┆ createdOn ┆ is_automatic ┆ num_gears │\n",
      "│ ---  ┆ ---  ┆ ---   ┆ ---   ┆   ┆ ---       ┆ ---       ┆ ---          ┆ ---       │\n",
      "│ u32  ┆ u32  ┆ u32   ┆ u32   ┆   ┆ u32       ┆ u32       ┆ u32          ┆ u32       │\n",
      "╞══════╪══════╪═══════╪═══════╪═══╪═══════════╪═══════════╪══════════════╪═══════════╡\n",
      "│ 0    ┆ 0    ┆ 0     ┆ 963   ┆ … ┆ 0         ┆ 0         ┆ 0            ┆ 0         │\n",
      "└──────┴──────┴───────┴───────┴───┴───────────┴───────────┴──────────────┴───────────┘\n"
     ]
    }
   ],
   "source": [
    "print(autos\n",
    "      .select(pl.all().is_null().sum())\n",
    "     )"
   ]
  },
  {
   "cell_type": "code",
   "execution_count": 53,
   "id": "23550c04-536c-48ba-9a41-585bb39fa8be",
   "metadata": {},
   "outputs": [
    {
     "name": "stdout",
     "output_type": "stream",
     "text": [
      "shape: (1, 15)\n",
      "┌──────┬──────┬───────┬───────┬───┬───────────┬───────────┬──────────────┬───────────┐\n",
      "│ year ┆ make ┆ model ┆ displ ┆ … ┆ highway08 ┆ createdOn ┆ is_automatic ┆ num_gears │\n",
      "│ ---  ┆ ---  ┆ ---   ┆ ---   ┆   ┆ ---       ┆ ---       ┆ ---          ┆ ---       │\n",
      "│ u32  ┆ u32  ┆ u32   ┆ u32   ┆   ┆ u32       ┆ u32       ┆ u32          ┆ u32       │\n",
      "╞══════╪══════╪═══════╪═══════╪═══╪═══════════╪═══════════╪══════════════╪═══════════╡\n",
      "│ 0    ┆ 0    ┆ 0     ┆ 963   ┆ … ┆ 0         ┆ 0         ┆ 0            ┆ 0         │\n",
      "└──────┴──────┴───────┴───────┴───┴───────────┴───────────┴──────────────┴───────────┘\n"
     ]
    }
   ],
   "source": [
    "# Count of Null Values\n",
    "print(autos\n",
    "      .select(pl.all().null_count())\n",
    "     )"
   ]
  },
  {
   "cell_type": "code",
   "execution_count": 54,
   "id": "762080c1-7b59-48b4-b7ec-3e259fcf2f06",
   "metadata": {},
   "outputs": [
    {
     "name": "stdout",
     "output_type": "stream",
     "text": [
      "shape: (1, 15)\n",
      "┌──────┬──────┬───────┬───────┬───┬───────────┬───────────┬──────────────┬───────────┐\n",
      "│ year ┆ make ┆ model ┆ displ ┆ … ┆ highway08 ┆ createdOn ┆ is_automatic ┆ num_gears │\n",
      "│ ---  ┆ ---  ┆ ---   ┆ ---   ┆   ┆ ---       ┆ ---       ┆ ---          ┆ ---       │\n",
      "│ u32  ┆ u32  ┆ u32   ┆ u32   ┆   ┆ u32       ┆ u32       ┆ u32          ┆ u32       │\n",
      "╞══════╪══════╪═══════╪═══════╪═══╪═══════════╪═══════════╪══════════════╪═══════════╡\n",
      "│ 0    ┆ 0    ┆ 0     ┆ 963   ┆ … ┆ 0         ┆ 0         ┆ 0            ┆ 0         │\n",
      "└──────┴──────┴───────┴───────┴───┴───────────┴───────────┴──────────────┴───────────┘\n"
     ]
    }
   ],
   "source": [
    "print(autos\n",
    "      .null_count()\n",
    "     )"
   ]
  },
  {
   "cell_type": "code",
   "execution_count": 55,
   "id": "071ffe98-cc4b-4d57-ab04-a996b1e95c18",
   "metadata": {},
   "outputs": [
    {
     "name": "stdout",
     "output_type": "stream",
     "text": [
      "shape: (9, 16)\n",
      "┌────────────┬────────────┬───────┬───────┬───┬───────────┬──────────────┬─────────────┬───────────┐\n",
      "│ statistic  ┆ year       ┆ make  ┆ model ┆ … ┆ highway08 ┆ createdOn    ┆ is_automati ┆ num_gears │\n",
      "│ ---        ┆ ---        ┆ ---   ┆ ---   ┆   ┆ ---       ┆ ---          ┆ c           ┆ ---       │\n",
      "│ str        ┆ f64        ┆ str   ┆ str   ┆   ┆ f64       ┆ str          ┆ ---         ┆ f64       │\n",
      "│            ┆            ┆       ┆       ┆   ┆           ┆              ┆ str         ┆           │\n",
      "╞════════════╪════════════╪═══════╪═══════╪═══╪═══════════╪══════════════╪═════════════╪═══════════╡\n",
      "│ count      ┆ 48231.0    ┆ 48231 ┆ 48231 ┆ … ┆ 48231.0   ┆ 48231        ┆ 48231       ┆ 48231.0   │\n",
      "│ null_count ┆ 0.0        ┆ 0     ┆ 0     ┆ … ┆ 0.0       ┆ 0            ┆ 0           ┆ 0.0       │\n",
      "│ mean       ┆ 2004.60571 ┆ null  ┆ null  ┆ … ┆ 25.822002 ┆ 2014-11-16   ┆ null        ┆ 5.347805  │\n",
      "│            ┆            ┆       ┆       ┆   ┆           ┆ 10:20:26.646 ┆             ┆           │\n",
      "│            ┆            ┆       ┆       ┆   ┆           ┆ 762          ┆             ┆           │\n",
      "│ std        ┆ 12.687496  ┆ null  ┆ null  ┆ … ┆ 11.084974 ┆ null         ┆ null        ┆ 1.735463  │\n",
      "│ min        ┆ 1984.0     ┆ null  ┆ null  ┆ … ┆ 9.0       ┆ 2013-01-01   ┆ Automatic   ┆ 1.0       │\n",
      "│            ┆            ┆       ┆       ┆   ┆           ┆ 00:00:00     ┆             ┆           │\n",
      "│ 25%        ┆ 1993.0     ┆ null  ┆ null  ┆ … ┆ 20.0      ┆ 2013-01-01   ┆ null        ┆ 4.0       │\n",
      "│            ┆            ┆       ┆       ┆   ┆           ┆ 00:00:00     ┆             ┆           │\n",
      "│ 50%        ┆ 2006.0     ┆ null  ┆ null  ┆ … ┆ 24.0      ┆ 2013-01-01   ┆ null        ┆ 5.0       │\n",
      "│            ┆            ┆       ┆       ┆   ┆           ┆ 00:00:00     ┆             ┆           │\n",
      "│ 75%        ┆ 2016.0     ┆ null  ┆ null  ┆ … ┆ 28.0      ┆ 2015-07-14   ┆ null        ┆ 6.0       │\n",
      "│            ┆            ┆       ┆       ┆   ┆           ┆ 00:00:00     ┆             ┆           │\n",
      "│ max        ┆ 2025.0     ┆ null  ┆ null  ┆ … ┆ 142.0     ┆ 2024-11-18   ┆ true        ┆ 10.0      │\n",
      "│            ┆            ┆       ┆       ┆   ┆           ┆ 00:00:00     ┆             ┆           │\n",
      "└────────────┴────────────┴───────┴───────┴───┴───────────┴──────────────┴─────────────┴───────────┘\n"
     ]
    }
   ],
   "source": [
    "print(autos\n",
    "      .describe()\n",
    "     )"
   ]
  },
  {
   "cell_type": "code",
   "execution_count": 56,
   "id": "d0af18a1-6f85-4d98-b7e5-27d3a34453aa",
   "metadata": {},
   "outputs": [
    {
     "name": "stdout",
     "output_type": "stream",
     "text": [
      "shape: (1, 15)\n",
      "┌──────┬──────┬───────┬──────────┬───┬───────────┬───────────┬──────────────┬───────────┐\n",
      "│ year ┆ make ┆ model ┆ displ    ┆ … ┆ highway08 ┆ createdOn ┆ is_automatic ┆ num_gears │\n",
      "│ ---  ┆ ---  ┆ ---   ┆ ---      ┆   ┆ ---       ┆ ---       ┆ ---          ┆ ---       │\n",
      "│ f64  ┆ f64  ┆ f64   ┆ f64      ┆   ┆ f64       ┆ f64       ┆ f64          ┆ f64       │\n",
      "╞══════╪══════╪═══════╪══════════╪═══╪═══════════╪═══════════╪══════════════╪═══════════╡\n",
      "│ 0.0  ┆ 0.0  ┆ 0.0   ┆ 1.996641 ┆ … ┆ 0.0       ┆ 0.0       ┆ 0.0          ┆ 0.0       │\n",
      "└──────┴──────┴───────┴──────────┴───┴───────────┴───────────┴──────────────┴───────────┘\n"
     ]
    }
   ],
   "source": [
    "# Calculating % Method\n",
    "print(autos\n",
    "      .select(pl.all().is_null().mean() * 100)\n",
    "     )"
   ]
  },
  {
   "cell_type": "code",
   "execution_count": 57,
   "id": "c372b4c5-8f42-4827-a086-06a39a36a1a6",
   "metadata": {},
   "outputs": [
    {
     "name": "stdout",
     "output_type": "stream",
     "text": [
      "shape: (1, 4)\n",
      "┌──────────┬───────────┬──────────┬──────────┐\n",
      "│ displ    ┆ cylinders ┆ trany    ┆ drive    │\n",
      "│ ---      ┆ ---       ┆ ---      ┆ ---      │\n",
      "│ f64      ┆ f64       ┆ f64      ┆ f64      │\n",
      "╞══════════╪═══════════╪══════════╪══════════╡\n",
      "│ 1.996641 ┆ 2.000788  ┆ 0.022807 ┆ 2.458999 │\n",
      "└──────────┴───────────┴──────────┴──────────┘\n"
     ]
    }
   ],
   "source": [
    "# Checking for Null Values\n",
    "print(autos\n",
    "      .select(pl.all().is_null().cast(pl.Int32).mean() * 100)\n",
    "      .pipe(lambda df_: df_.select([col.name \n",
    "                                    for col in df_.select(pl.col(pl.Float64)> 0) \n",
    "                                    if col.all()]))\n",
    "     )"
   ]
  },
  {
   "cell_type": "code",
   "execution_count": 58,
   "id": "9423e400-6083-4618-97a2-3dd6c0f1dea3",
   "metadata": {},
   "outputs": [
    {
     "name": "stdout",
     "output_type": "stream",
     "text": [
      "shape: (0, 0)\n",
      "┌┐\n",
      "╞╡\n",
      "└┘\n"
     ]
    }
   ],
   "source": [
    "#  Checking for NaN Values\n",
    "print(autos\n",
    "      .select(cs.numeric().is_nan().cast(pl.Int32).mean() * 100)\n",
    "      .pipe(lambda df_: df_.select([col.name \n",
    "                                    for col in df_.select(pl.col(pl.Float64)> 0) \n",
    "                                    if col.all()]))\n",
    "     )"
   ]
  },
  {
   "cell_type": "markdown",
   "id": "ae3ceb57-c9fb-4c45-a507-aa828b89a88f",
   "metadata": {},
   "source": [
    "### Dropping Rows with Missing Values"
   ]
  },
  {
   "cell_type": "code",
   "execution_count": 61,
   "id": "ae4d79ef-1282-4284-848f-054bc2041596",
   "metadata": {},
   "outputs": [],
   "source": [
    "# Placing Model\n",
    "pca = decomposition.PCA()"
   ]
  },
  {
   "cell_type": "code",
   "execution_count": 62,
   "id": "e20bd156-8812-43c5-a0c6-cf0deb749fb3",
   "metadata": {},
   "outputs": [
    {
     "ename": "ValueError",
     "evalue": "Input X contains NaN.\nPCA does not accept missing values encoded as NaN natively. For supervised learning, you might want to consider sklearn.ensemble.HistGradientBoostingClassifier and Regressor which accept missing values encoded as NaNs natively. Alternatively, it is possible to preprocess the data, for instance by using an imputer transformer in a pipeline or drop samples with missing values. See https://scikit-learn.org/stable/modules/impute.html You can find a list of all estimators that handle NaN values at the following page: https://scikit-learn.org/stable/modules/impute.html#estimators-that-handle-nan-values",
     "output_type": "error",
     "traceback": [
      "\u001b[0;31m---------------------------------------------------------------------------\u001b[0m",
      "\u001b[0;31mValueError\u001b[0m                                Traceback (most recent call last)",
      "Cell \u001b[0;32mIn[62], line 1\u001b[0m\n\u001b[0;32m----> 1\u001b[0m pca\u001b[38;5;241m.\u001b[39mfit(autos\u001b[38;5;241m.\u001b[39mselect(cs\u001b[38;5;241m.\u001b[39mnumeric()))\n",
      "File \u001b[0;32m~/anaconda3/envs/polars/lib/python3.11/site-packages/sklearn/decomposition/_pca.py:408\u001b[0m, in \u001b[0;36mPCA.fit\u001b[0;34m(self, X, y)\u001b[0m\n\u001b[1;32m    385\u001b[0m \u001b[38;5;250m\u001b[39m\u001b[38;5;124;03m\"\"\"Fit the model with X.\u001b[39;00m\n\u001b[1;32m    386\u001b[0m \n\u001b[1;32m    387\u001b[0m \u001b[38;5;124;03mParameters\u001b[39;00m\n\u001b[0;32m   (...)\u001b[0m\n\u001b[1;32m    399\u001b[0m \u001b[38;5;124;03m    Returns the instance itself.\u001b[39;00m\n\u001b[1;32m    400\u001b[0m \u001b[38;5;124;03m\"\"\"\u001b[39;00m\n\u001b[1;32m    401\u001b[0m check_scalar(\n\u001b[1;32m    402\u001b[0m     \u001b[38;5;28mself\u001b[39m\u001b[38;5;241m.\u001b[39mn_oversamples,\n\u001b[1;32m    403\u001b[0m     \u001b[38;5;124m\"\u001b[39m\u001b[38;5;124mn_oversamples\u001b[39m\u001b[38;5;124m\"\u001b[39m,\n\u001b[1;32m    404\u001b[0m     min_val\u001b[38;5;241m=\u001b[39m\u001b[38;5;241m1\u001b[39m,\n\u001b[1;32m    405\u001b[0m     target_type\u001b[38;5;241m=\u001b[39mnumbers\u001b[38;5;241m.\u001b[39mIntegral,\n\u001b[1;32m    406\u001b[0m )\n\u001b[0;32m--> 408\u001b[0m \u001b[38;5;28mself\u001b[39m\u001b[38;5;241m.\u001b[39m_fit(X)\n\u001b[1;32m    409\u001b[0m \u001b[38;5;28;01mreturn\u001b[39;00m \u001b[38;5;28mself\u001b[39m\n",
      "File \u001b[0;32m~/anaconda3/envs/polars/lib/python3.11/site-packages/sklearn/decomposition/_pca.py:456\u001b[0m, in \u001b[0;36mPCA._fit\u001b[0;34m(self, X)\u001b[0m\n\u001b[1;32m    450\u001b[0m \u001b[38;5;28;01mif\u001b[39;00m issparse(X):\n\u001b[1;32m    451\u001b[0m     \u001b[38;5;28;01mraise\u001b[39;00m \u001b[38;5;167;01mTypeError\u001b[39;00m(\n\u001b[1;32m    452\u001b[0m         \u001b[38;5;124m\"\u001b[39m\u001b[38;5;124mPCA does not support sparse input. See \u001b[39m\u001b[38;5;124m\"\u001b[39m\n\u001b[1;32m    453\u001b[0m         \u001b[38;5;124m\"\u001b[39m\u001b[38;5;124mTruncatedSVD for a possible alternative.\u001b[39m\u001b[38;5;124m\"\u001b[39m\n\u001b[1;32m    454\u001b[0m     )\n\u001b[0;32m--> 456\u001b[0m X \u001b[38;5;241m=\u001b[39m \u001b[38;5;28mself\u001b[39m\u001b[38;5;241m.\u001b[39m_validate_data(\n\u001b[1;32m    457\u001b[0m     X, dtype\u001b[38;5;241m=\u001b[39m[np\u001b[38;5;241m.\u001b[39mfloat64, np\u001b[38;5;241m.\u001b[39mfloat32], ensure_2d\u001b[38;5;241m=\u001b[39m\u001b[38;5;28;01mTrue\u001b[39;00m, copy\u001b[38;5;241m=\u001b[39m\u001b[38;5;28mself\u001b[39m\u001b[38;5;241m.\u001b[39mcopy\n\u001b[1;32m    458\u001b[0m )\n\u001b[1;32m    460\u001b[0m \u001b[38;5;66;03m# Handle n_components==None\u001b[39;00m\n\u001b[1;32m    461\u001b[0m \u001b[38;5;28;01mif\u001b[39;00m \u001b[38;5;28mself\u001b[39m\u001b[38;5;241m.\u001b[39mn_components \u001b[38;5;129;01mis\u001b[39;00m \u001b[38;5;28;01mNone\u001b[39;00m:\n",
      "File \u001b[0;32m~/anaconda3/envs/polars/lib/python3.11/site-packages/sklearn/base.py:577\u001b[0m, in \u001b[0;36mBaseEstimator._validate_data\u001b[0;34m(self, X, y, reset, validate_separately, **check_params)\u001b[0m\n\u001b[1;32m    575\u001b[0m     \u001b[38;5;28;01mraise\u001b[39;00m \u001b[38;5;167;01mValueError\u001b[39;00m(\u001b[38;5;124m\"\u001b[39m\u001b[38;5;124mValidation should be done on X, y or both.\u001b[39m\u001b[38;5;124m\"\u001b[39m)\n\u001b[1;32m    576\u001b[0m \u001b[38;5;28;01melif\u001b[39;00m \u001b[38;5;129;01mnot\u001b[39;00m no_val_X \u001b[38;5;129;01mand\u001b[39;00m no_val_y:\n\u001b[0;32m--> 577\u001b[0m     X \u001b[38;5;241m=\u001b[39m check_array(X, input_name\u001b[38;5;241m=\u001b[39m\u001b[38;5;124m\"\u001b[39m\u001b[38;5;124mX\u001b[39m\u001b[38;5;124m\"\u001b[39m, \u001b[38;5;241m*\u001b[39m\u001b[38;5;241m*\u001b[39mcheck_params)\n\u001b[1;32m    578\u001b[0m     out \u001b[38;5;241m=\u001b[39m X\n\u001b[1;32m    579\u001b[0m \u001b[38;5;28;01melif\u001b[39;00m no_val_X \u001b[38;5;129;01mand\u001b[39;00m \u001b[38;5;129;01mnot\u001b[39;00m no_val_y:\n",
      "File \u001b[0;32m~/anaconda3/envs/polars/lib/python3.11/site-packages/sklearn/utils/validation.py:899\u001b[0m, in \u001b[0;36mcheck_array\u001b[0;34m(array, accept_sparse, accept_large_sparse, dtype, order, copy, force_all_finite, ensure_2d, allow_nd, ensure_min_samples, ensure_min_features, estimator, input_name)\u001b[0m\n\u001b[1;32m    893\u001b[0m         \u001b[38;5;28;01mraise\u001b[39;00m \u001b[38;5;167;01mValueError\u001b[39;00m(\n\u001b[1;32m    894\u001b[0m             \u001b[38;5;124m\"\u001b[39m\u001b[38;5;124mFound array with dim \u001b[39m\u001b[38;5;132;01m%d\u001b[39;00m\u001b[38;5;124m. \u001b[39m\u001b[38;5;132;01m%s\u001b[39;00m\u001b[38;5;124m expected <= 2.\u001b[39m\u001b[38;5;124m\"\u001b[39m\n\u001b[1;32m    895\u001b[0m             \u001b[38;5;241m%\u001b[39m (array\u001b[38;5;241m.\u001b[39mndim, estimator_name)\n\u001b[1;32m    896\u001b[0m         )\n\u001b[1;32m    898\u001b[0m     \u001b[38;5;28;01mif\u001b[39;00m force_all_finite:\n\u001b[0;32m--> 899\u001b[0m         _assert_all_finite(\n\u001b[1;32m    900\u001b[0m             array,\n\u001b[1;32m    901\u001b[0m             input_name\u001b[38;5;241m=\u001b[39minput_name,\n\u001b[1;32m    902\u001b[0m             estimator_name\u001b[38;5;241m=\u001b[39mestimator_name,\n\u001b[1;32m    903\u001b[0m             allow_nan\u001b[38;5;241m=\u001b[39mforce_all_finite \u001b[38;5;241m==\u001b[39m \u001b[38;5;124m\"\u001b[39m\u001b[38;5;124mallow-nan\u001b[39m\u001b[38;5;124m\"\u001b[39m,\n\u001b[1;32m    904\u001b[0m         )\n\u001b[1;32m    906\u001b[0m \u001b[38;5;28;01mif\u001b[39;00m ensure_min_samples \u001b[38;5;241m>\u001b[39m \u001b[38;5;241m0\u001b[39m:\n\u001b[1;32m    907\u001b[0m     n_samples \u001b[38;5;241m=\u001b[39m _num_samples(array)\n",
      "File \u001b[0;32m~/anaconda3/envs/polars/lib/python3.11/site-packages/sklearn/utils/validation.py:146\u001b[0m, in \u001b[0;36m_assert_all_finite\u001b[0;34m(X, allow_nan, msg_dtype, estimator_name, input_name)\u001b[0m\n\u001b[1;32m    124\u001b[0m         \u001b[38;5;28;01mif\u001b[39;00m (\n\u001b[1;32m    125\u001b[0m             \u001b[38;5;129;01mnot\u001b[39;00m allow_nan\n\u001b[1;32m    126\u001b[0m             \u001b[38;5;129;01mand\u001b[39;00m estimator_name\n\u001b[0;32m   (...)\u001b[0m\n\u001b[1;32m    130\u001b[0m             \u001b[38;5;66;03m# Improve the error message on how to handle missing values in\u001b[39;00m\n\u001b[1;32m    131\u001b[0m             \u001b[38;5;66;03m# scikit-learn.\u001b[39;00m\n\u001b[1;32m    132\u001b[0m             msg_err \u001b[38;5;241m+\u001b[39m\u001b[38;5;241m=\u001b[39m (\n\u001b[1;32m    133\u001b[0m                 \u001b[38;5;124mf\u001b[39m\u001b[38;5;124m\"\u001b[39m\u001b[38;5;130;01m\\n\u001b[39;00m\u001b[38;5;132;01m{\u001b[39;00mestimator_name\u001b[38;5;132;01m}\u001b[39;00m\u001b[38;5;124m does not accept missing values\u001b[39m\u001b[38;5;124m\"\u001b[39m\n\u001b[1;32m    134\u001b[0m                 \u001b[38;5;124m\"\u001b[39m\u001b[38;5;124m encoded as NaN natively. For supervised learning, you might want\u001b[39m\u001b[38;5;124m\"\u001b[39m\n\u001b[0;32m   (...)\u001b[0m\n\u001b[1;32m    144\u001b[0m                 \u001b[38;5;124m\"\u001b[39m\u001b[38;5;124m#estimators-that-handle-nan-values\u001b[39m\u001b[38;5;124m\"\u001b[39m\n\u001b[1;32m    145\u001b[0m             )\n\u001b[0;32m--> 146\u001b[0m         \u001b[38;5;28;01mraise\u001b[39;00m \u001b[38;5;167;01mValueError\u001b[39;00m(msg_err)\n\u001b[1;32m    148\u001b[0m \u001b[38;5;66;03m# for object dtype data, we only check for NaNs (GH-13254)\u001b[39;00m\n\u001b[1;32m    149\u001b[0m \u001b[38;5;28;01melif\u001b[39;00m X\u001b[38;5;241m.\u001b[39mdtype \u001b[38;5;241m==\u001b[39m np\u001b[38;5;241m.\u001b[39mdtype(\u001b[38;5;124m\"\u001b[39m\u001b[38;5;124mobject\u001b[39m\u001b[38;5;124m\"\u001b[39m) \u001b[38;5;129;01mand\u001b[39;00m \u001b[38;5;129;01mnot\u001b[39;00m allow_nan:\n",
      "\u001b[0;31mValueError\u001b[0m: Input X contains NaN.\nPCA does not accept missing values encoded as NaN natively. For supervised learning, you might want to consider sklearn.ensemble.HistGradientBoostingClassifier and Regressor which accept missing values encoded as NaNs natively. Alternatively, it is possible to preprocess the data, for instance by using an imputer transformer in a pipeline or drop samples with missing values. See https://scikit-learn.org/stable/modules/impute.html You can find a list of all estimators that handle NaN values at the following page: https://scikit-learn.org/stable/modules/impute.html#estimators-that-handle-nan-values"
     ]
    }
   ],
   "source": [
    "pca.fit(autos.select(cs.numeric()))"
   ]
  },
  {
   "cell_type": "code",
   "execution_count": 63,
   "id": "20d02b15-97e8-441c-819e-9a81c851cdc4",
   "metadata": {},
   "outputs": [
    {
     "name": "stdout",
     "output_type": "stream",
     "text": [
      "shape: (46_086, 15)\n",
      "┌──────┬────────────┬──────────────┬───────┬───┬───────────┬─────────────┬─────────────┬───────────┐\n",
      "│ year ┆ make       ┆ model        ┆ displ ┆ … ┆ highway08 ┆ createdOn   ┆ is_automati ┆ num_gears │\n",
      "│ ---  ┆ ---        ┆ ---          ┆ ---   ┆   ┆ ---       ┆ ---         ┆ c           ┆ ---       │\n",
      "│ i16  ┆ cat        ┆ cat          ┆ f32   ┆   ┆ u8        ┆ datetime[μs ┆ ---         ┆ u8        │\n",
      "│      ┆            ┆              ┆       ┆   ┆           ┆ ]           ┆ str         ┆           │\n",
      "╞══════╪════════════╪══════════════╪═══════╪═══╪═══════════╪═════════════╪═════════════╪═══════════╡\n",
      "│ 1985 ┆ Alfa Romeo ┆ Spider       ┆ 2.0   ┆ … ┆ 25        ┆ 2013-01-01  ┆ false       ┆ 5         │\n",
      "│      ┆            ┆ Veloce 2000  ┆       ┆   ┆           ┆ 00:00:00    ┆             ┆           │\n",
      "│ 1985 ┆ Ferrari    ┆ Testarossa   ┆ 4.9   ┆ … ┆ 14        ┆ 2013-01-01  ┆ false       ┆ 5         │\n",
      "│      ┆            ┆              ┆       ┆   ┆           ┆ 00:00:00    ┆             ┆           │\n",
      "│ 1985 ┆ Dodge      ┆ Charger      ┆ 2.2   ┆ … ┆ 33        ┆ 2013-01-01  ┆ false       ┆ 5         │\n",
      "│      ┆            ┆              ┆       ┆   ┆           ┆ 00:00:00    ┆             ┆           │\n",
      "│ 1985 ┆ Dodge      ┆ B150/B250    ┆ 5.2   ┆ … ┆ 12        ┆ 2013-01-01  ┆ true        ┆ 3         │\n",
      "│      ┆            ┆ Wagon 2WD    ┆       ┆   ┆           ┆ 00:00:00    ┆             ┆           │\n",
      "│ 1993 ┆ Subaru     ┆ Legacy AWD   ┆ 2.2   ┆ … ┆ 23        ┆ 2013-01-01  ┆ false       ┆ 5         │\n",
      "│      ┆            ┆ Turbo        ┆       ┆   ┆           ┆ 00:00:00    ┆             ┆           │\n",
      "│ …    ┆ …          ┆ …            ┆ …     ┆ … ┆ …         ┆ …           ┆ …           ┆ …         │\n",
      "│ 1993 ┆ Subaru     ┆ Legacy       ┆ 2.2   ┆ … ┆ 26        ┆ 2013-01-01  ┆ true        ┆ 4         │\n",
      "│      ┆            ┆              ┆       ┆   ┆           ┆ 00:00:00    ┆             ┆           │\n",
      "│ 1993 ┆ Subaru     ┆ Legacy       ┆ 2.2   ┆ … ┆ 28        ┆ 2013-01-01  ┆ false       ┆ 5         │\n",
      "│      ┆            ┆              ┆       ┆   ┆           ┆ 00:00:00    ┆             ┆           │\n",
      "│ 1993 ┆ Subaru     ┆ Legacy AWD   ┆ 2.2   ┆ … ┆ 24        ┆ 2013-01-01  ┆ true        ┆ 4         │\n",
      "│      ┆            ┆              ┆       ┆   ┆           ┆ 00:00:00    ┆             ┆           │\n",
      "│ 1993 ┆ Subaru     ┆ Legacy AWD   ┆ 2.2   ┆ … ┆ 24        ┆ 2013-01-01  ┆ false       ┆ 5         │\n",
      "│      ┆            ┆              ┆       ┆   ┆           ┆ 00:00:00    ┆             ┆           │\n",
      "│ 1993 ┆ Subaru     ┆ Legacy AWD   ┆ 2.2   ┆ … ┆ 21        ┆ 2013-01-01  ┆ true        ┆ 4         │\n",
      "│      ┆            ┆ Turbo        ┆       ┆   ┆           ┆ 00:00:00    ┆             ┆           │\n",
      "└──────┴────────────┴──────────────┴───────┴───┴───────────┴─────────────┴─────────────┴───────────┘\n"
     ]
    }
   ],
   "source": [
    "# Going Nuclear\n",
    "print(autos\n",
    "      .drop_nulls()\n",
    "     )"
   ]
  },
  {
   "cell_type": "code",
   "execution_count": 65,
   "id": "64286938-1823-4bea-88ab-9520ec90d2e7",
   "metadata": {},
   "outputs": [
    {
     "name": "stdout",
     "output_type": "stream",
     "text": [
      "shape: (47_266, 15)\n",
      "┌──────┬────────────┬──────────────┬───────┬───┬───────────┬─────────────┬─────────────┬───────────┐\n",
      "│ year ┆ make       ┆ model        ┆ displ ┆ … ┆ highway08 ┆ createdOn   ┆ is_automati ┆ num_gears │\n",
      "│ ---  ┆ ---        ┆ ---          ┆ ---   ┆   ┆ ---       ┆ ---         ┆ c           ┆ ---       │\n",
      "│ i16  ┆ cat        ┆ cat          ┆ f32   ┆   ┆ u8        ┆ datetime[μs ┆ ---         ┆ u8        │\n",
      "│      ┆            ┆              ┆       ┆   ┆           ┆ ]           ┆ str         ┆           │\n",
      "╞══════╪════════════╪══════════════╪═══════╪═══╪═══════════╪═════════════╪═════════════╪═══════════╡\n",
      "│ 1985 ┆ Alfa Romeo ┆ Spider       ┆ 2.0   ┆ … ┆ 25        ┆ 2013-01-01  ┆ false       ┆ 5         │\n",
      "│      ┆            ┆ Veloce 2000  ┆       ┆   ┆           ┆ 00:00:00    ┆             ┆           │\n",
      "│ 1985 ┆ Ferrari    ┆ Testarossa   ┆ 4.9   ┆ … ┆ 14        ┆ 2013-01-01  ┆ false       ┆ 5         │\n",
      "│      ┆            ┆              ┆       ┆   ┆           ┆ 00:00:00    ┆             ┆           │\n",
      "│ 1985 ┆ Dodge      ┆ Charger      ┆ 2.2   ┆ … ┆ 33        ┆ 2013-01-01  ┆ false       ┆ 5         │\n",
      "│      ┆            ┆              ┆       ┆   ┆           ┆ 00:00:00    ┆             ┆           │\n",
      "│ 1985 ┆ Dodge      ┆ B150/B250    ┆ 5.2   ┆ … ┆ 12        ┆ 2013-01-01  ┆ true        ┆ 3         │\n",
      "│      ┆            ┆ Wagon 2WD    ┆       ┆   ┆           ┆ 00:00:00    ┆             ┆           │\n",
      "│ 1993 ┆ Subaru     ┆ Legacy AWD   ┆ 2.2   ┆ … ┆ 23        ┆ 2013-01-01  ┆ false       ┆ 5         │\n",
      "│      ┆            ┆ Turbo        ┆       ┆   ┆           ┆ 00:00:00    ┆             ┆           │\n",
      "│ …    ┆ …          ┆ …            ┆ …     ┆ … ┆ …         ┆ …           ┆ …           ┆ …         │\n",
      "│ 1993 ┆ Subaru     ┆ Legacy       ┆ 2.2   ┆ … ┆ 26        ┆ 2013-01-01  ┆ true        ┆ 4         │\n",
      "│      ┆            ┆              ┆       ┆   ┆           ┆ 00:00:00    ┆             ┆           │\n",
      "│ 1993 ┆ Subaru     ┆ Legacy       ┆ 2.2   ┆ … ┆ 28        ┆ 2013-01-01  ┆ false       ┆ 5         │\n",
      "│      ┆            ┆              ┆       ┆   ┆           ┆ 00:00:00    ┆             ┆           │\n",
      "│ 1993 ┆ Subaru     ┆ Legacy AWD   ┆ 2.2   ┆ … ┆ 24        ┆ 2013-01-01  ┆ true        ┆ 4         │\n",
      "│      ┆            ┆              ┆       ┆   ┆           ┆ 00:00:00    ┆             ┆           │\n",
      "│ 1993 ┆ Subaru     ┆ Legacy AWD   ┆ 2.2   ┆ … ┆ 24        ┆ 2013-01-01  ┆ false       ┆ 5         │\n",
      "│      ┆            ┆              ┆       ┆   ┆           ┆ 00:00:00    ┆             ┆           │\n",
      "│ 1993 ┆ Subaru     ┆ Legacy AWD   ┆ 2.2   ┆ … ┆ 21        ┆ 2013-01-01  ┆ true        ┆ 4         │\n",
      "│      ┆            ┆ Turbo        ┆       ┆   ┆           ┆ 00:00:00    ┆             ┆           │\n",
      "└──────┴────────────┴──────────────┴───────┴───┴───────────┴─────────────┴─────────────┴───────────┘\n"
     ]
    }
   ],
   "source": [
    "print(autos\n",
    "      .drop_nulls(subset=(['cylinders', 'displ']))\n",
    "     )"
   ]
  },
  {
   "cell_type": "code",
   "execution_count": 66,
   "id": "2f7f9fdd-6c97-4e64-8efb-f5ba8ca068e0",
   "metadata": {},
   "outputs": [
    {
     "name": "stdout",
     "output_type": "stream",
     "text": [
      "shape: (47_266, 15)\n",
      "┌──────┬────────────┬──────────────┬───────┬───┬───────────┬─────────────┬─────────────┬───────────┐\n",
      "│ year ┆ make       ┆ model        ┆ displ ┆ … ┆ highway08 ┆ createdOn   ┆ is_automati ┆ num_gears │\n",
      "│ ---  ┆ ---        ┆ ---          ┆ ---   ┆   ┆ ---       ┆ ---         ┆ c           ┆ ---       │\n",
      "│ i16  ┆ cat        ┆ cat          ┆ f32   ┆   ┆ u8        ┆ datetime[μs ┆ ---         ┆ u8        │\n",
      "│      ┆            ┆              ┆       ┆   ┆           ┆ ]           ┆ str         ┆           │\n",
      "╞══════╪════════════╪══════════════╪═══════╪═══╪═══════════╪═════════════╪═════════════╪═══════════╡\n",
      "│ 1985 ┆ Alfa Romeo ┆ Spider       ┆ 2.0   ┆ … ┆ 25        ┆ 2013-01-01  ┆ false       ┆ 5         │\n",
      "│      ┆            ┆ Veloce 2000  ┆       ┆   ┆           ┆ 00:00:00    ┆             ┆           │\n",
      "│ 1985 ┆ Ferrari    ┆ Testarossa   ┆ 4.9   ┆ … ┆ 14        ┆ 2013-01-01  ┆ false       ┆ 5         │\n",
      "│      ┆            ┆              ┆       ┆   ┆           ┆ 00:00:00    ┆             ┆           │\n",
      "│ 1985 ┆ Dodge      ┆ Charger      ┆ 2.2   ┆ … ┆ 33        ┆ 2013-01-01  ┆ false       ┆ 5         │\n",
      "│      ┆            ┆              ┆       ┆   ┆           ┆ 00:00:00    ┆             ┆           │\n",
      "│ 1985 ┆ Dodge      ┆ B150/B250    ┆ 5.2   ┆ … ┆ 12        ┆ 2013-01-01  ┆ true        ┆ 3         │\n",
      "│      ┆            ┆ Wagon 2WD    ┆       ┆   ┆           ┆ 00:00:00    ┆             ┆           │\n",
      "│ 1993 ┆ Subaru     ┆ Legacy AWD   ┆ 2.2   ┆ … ┆ 23        ┆ 2013-01-01  ┆ false       ┆ 5         │\n",
      "│      ┆            ┆ Turbo        ┆       ┆   ┆           ┆ 00:00:00    ┆             ┆           │\n",
      "│ …    ┆ …          ┆ …            ┆ …     ┆ … ┆ …         ┆ …           ┆ …           ┆ …         │\n",
      "│ 1993 ┆ Subaru     ┆ Legacy       ┆ 2.2   ┆ … ┆ 26        ┆ 2013-01-01  ┆ true        ┆ 4         │\n",
      "│      ┆            ┆              ┆       ┆   ┆           ┆ 00:00:00    ┆             ┆           │\n",
      "│ 1993 ┆ Subaru     ┆ Legacy       ┆ 2.2   ┆ … ┆ 28        ┆ 2013-01-01  ┆ false       ┆ 5         │\n",
      "│      ┆            ┆              ┆       ┆   ┆           ┆ 00:00:00    ┆             ┆           │\n",
      "│ 1993 ┆ Subaru     ┆ Legacy AWD   ┆ 2.2   ┆ … ┆ 24        ┆ 2013-01-01  ┆ true        ┆ 4         │\n",
      "│      ┆            ┆              ┆       ┆   ┆           ┆ 00:00:00    ┆             ┆           │\n",
      "│ 1993 ┆ Subaru     ┆ Legacy AWD   ┆ 2.2   ┆ … ┆ 24        ┆ 2013-01-01  ┆ false       ┆ 5         │\n",
      "│      ┆            ┆              ┆       ┆   ┆           ┆ 00:00:00    ┆             ┆           │\n",
      "│ 1993 ┆ Subaru     ┆ Legacy AWD   ┆ 2.2   ┆ … ┆ 21        ┆ 2013-01-01  ┆ true        ┆ 4         │\n",
      "│      ┆            ┆ Turbo        ┆       ┆   ┆           ┆ 00:00:00    ┆             ┆           │\n",
      "└──────┴────────────┴──────────────┴───────┴───┴───────────┴─────────────┴─────────────┴───────────┘\n"
     ]
    }
   ],
   "source": [
    "print(autos\n",
    "      .drop_nulls(subset=cs.numeric())\n",
    "     )"
   ]
  },
  {
   "cell_type": "code",
   "execution_count": 67,
   "id": "5c93251b-e820-432e-9376-f48664d1a6d1",
   "metadata": {},
   "outputs": [],
   "source": [
    "# Running again with PCA() Model\n",
    "pca = decomposition.PCA()"
   ]
  },
  {
   "cell_type": "code",
   "execution_count": 68,
   "id": "40289c71-5f2e-4175-86a4-4c85a72f28f8",
   "metadata": {},
   "outputs": [
    {
     "data": {
      "text/html": [
       "<style>#sk-container-id-1 {color: black;background-color: white;}#sk-container-id-1 pre{padding: 0;}#sk-container-id-1 div.sk-toggleable {background-color: white;}#sk-container-id-1 label.sk-toggleable__label {cursor: pointer;display: block;width: 100%;margin-bottom: 0;padding: 0.3em;box-sizing: border-box;text-align: center;}#sk-container-id-1 label.sk-toggleable__label-arrow:before {content: \"▸\";float: left;margin-right: 0.25em;color: #696969;}#sk-container-id-1 label.sk-toggleable__label-arrow:hover:before {color: black;}#sk-container-id-1 div.sk-estimator:hover label.sk-toggleable__label-arrow:before {color: black;}#sk-container-id-1 div.sk-toggleable__content {max-height: 0;max-width: 0;overflow: hidden;text-align: left;background-color: #f0f8ff;}#sk-container-id-1 div.sk-toggleable__content pre {margin: 0.2em;color: black;border-radius: 0.25em;background-color: #f0f8ff;}#sk-container-id-1 input.sk-toggleable__control:checked~div.sk-toggleable__content {max-height: 200px;max-width: 100%;overflow: auto;}#sk-container-id-1 input.sk-toggleable__control:checked~label.sk-toggleable__label-arrow:before {content: \"▾\";}#sk-container-id-1 div.sk-estimator input.sk-toggleable__control:checked~label.sk-toggleable__label {background-color: #d4ebff;}#sk-container-id-1 div.sk-label input.sk-toggleable__control:checked~label.sk-toggleable__label {background-color: #d4ebff;}#sk-container-id-1 input.sk-hidden--visually {border: 0;clip: rect(1px 1px 1px 1px);clip: rect(1px, 1px, 1px, 1px);height: 1px;margin: -1px;overflow: hidden;padding: 0;position: absolute;width: 1px;}#sk-container-id-1 div.sk-estimator {font-family: monospace;background-color: #f0f8ff;border: 1px dotted black;border-radius: 0.25em;box-sizing: border-box;margin-bottom: 0.5em;}#sk-container-id-1 div.sk-estimator:hover {background-color: #d4ebff;}#sk-container-id-1 div.sk-parallel-item::after {content: \"\";width: 100%;border-bottom: 1px solid gray;flex-grow: 1;}#sk-container-id-1 div.sk-label:hover label.sk-toggleable__label {background-color: #d4ebff;}#sk-container-id-1 div.sk-serial::before {content: \"\";position: absolute;border-left: 1px solid gray;box-sizing: border-box;top: 0;bottom: 0;left: 50%;z-index: 0;}#sk-container-id-1 div.sk-serial {display: flex;flex-direction: column;align-items: center;background-color: white;padding-right: 0.2em;padding-left: 0.2em;position: relative;}#sk-container-id-1 div.sk-item {position: relative;z-index: 1;}#sk-container-id-1 div.sk-parallel {display: flex;align-items: stretch;justify-content: center;background-color: white;position: relative;}#sk-container-id-1 div.sk-item::before, #sk-container-id-1 div.sk-parallel-item::before {content: \"\";position: absolute;border-left: 1px solid gray;box-sizing: border-box;top: 0;bottom: 0;left: 50%;z-index: -1;}#sk-container-id-1 div.sk-parallel-item {display: flex;flex-direction: column;z-index: 1;position: relative;background-color: white;}#sk-container-id-1 div.sk-parallel-item:first-child::after {align-self: flex-end;width: 50%;}#sk-container-id-1 div.sk-parallel-item:last-child::after {align-self: flex-start;width: 50%;}#sk-container-id-1 div.sk-parallel-item:only-child::after {width: 0;}#sk-container-id-1 div.sk-dashed-wrapped {border: 1px dashed gray;margin: 0 0.4em 0.5em 0.4em;box-sizing: border-box;padding-bottom: 0.4em;background-color: white;}#sk-container-id-1 div.sk-label label {font-family: monospace;font-weight: bold;display: inline-block;line-height: 1.2em;}#sk-container-id-1 div.sk-label-container {text-align: center;}#sk-container-id-1 div.sk-container {/* jupyter's `normalize.less` sets `[hidden] { display: none; }` but bootstrap.min.css set `[hidden] { display: none !important; }` so we also need the `!important` here to be able to override the default hidden behavior on the sphinx rendered scikit-learn.org. See: https://github.com/scikit-learn/scikit-learn/issues/21755 */display: inline-block !important;position: relative;}#sk-container-id-1 div.sk-text-repr-fallback {display: none;}</style><div id=\"sk-container-id-1\" class=\"sk-top-container\"><div class=\"sk-text-repr-fallback\"><pre>PCA()</pre><b>In a Jupyter environment, please rerun this cell to show the HTML representation or trust the notebook. <br />On GitHub, the HTML representation is unable to render, please try loading this page with nbviewer.org.</b></div><div class=\"sk-container\" hidden><div class=\"sk-item\"><div class=\"sk-estimator sk-toggleable\"><input class=\"sk-toggleable__control sk-hidden--visually\" id=\"sk-estimator-id-1\" type=\"checkbox\" checked><label for=\"sk-estimator-id-1\" class=\"sk-toggleable__label sk-toggleable__label-arrow\">PCA</label><div class=\"sk-toggleable__content\"><pre>PCA()</pre></div></div></div></div></div>"
      ],
      "text/plain": [
       "PCA()"
      ]
     },
     "execution_count": 68,
     "metadata": {},
     "output_type": "execute_result"
    }
   ],
   "source": [
    "# Fitting Model\n",
    "pca.fit(autos.select(cs.numeric()).drop_nulls())"
   ]
  },
  {
   "cell_type": "code",
   "execution_count": 70,
   "id": "61b78b0e-478f-4bbe-b190-63f4470102c8",
   "metadata": {},
   "outputs": [
    {
     "ename": "ComputeError",
     "evalue": "The predicate passed to 'LazyFrame.filter' expanded to multiple expressions: \n\n\tcol(\"num_gears\").is_null(),\n\tcol(\"is_automatic\").is_null(),\nThis is ambiguous. Try to combine the predicates with the 'all' or `any' expression.\n\nResolved plan until failure:\n\n\t---> FAILED HERE RESOLVING 'filter' <---\nDF [\"year\", \"make\", \"model\", \"displ\"]; PROJECT */15 COLUMNS; SELECTION: None",
     "output_type": "error",
     "traceback": [
      "\u001b[0;31m---------------------------------------------------------------------------\u001b[0m",
      "\u001b[0;31mComputeError\u001b[0m                              Traceback (most recent call last)",
      "Cell \u001b[0;32mIn[70], line 2\u001b[0m\n\u001b[1;32m      1\u001b[0m (autos\n\u001b[0;32m----> 2\u001b[0m  \u001b[38;5;241m.\u001b[39mfilter(pl\u001b[38;5;241m.\u001b[39mcol(\u001b[38;5;124m'\u001b[39m\u001b[38;5;124mnum_gears\u001b[39m\u001b[38;5;124m'\u001b[39m, \u001b[38;5;124m'\u001b[39m\u001b[38;5;124mis_automatic\u001b[39m\u001b[38;5;124m'\u001b[39m)\u001b[38;5;241m.\u001b[39mis_null())\n\u001b[1;32m      3\u001b[0m )\n",
      "File \u001b[0;32m~/anaconda3/envs/polars/lib/python3.11/site-packages/polars/dataframe/frame.py:4782\u001b[0m, in \u001b[0;36mDataFrame.filter\u001b[0;34m(self, *predicates, **constraints)\u001b[0m\n\u001b[1;32m   4628\u001b[0m \u001b[38;5;28;01mdef\u001b[39;00m \u001b[38;5;21mfilter\u001b[39m(\n\u001b[1;32m   4629\u001b[0m     \u001b[38;5;28mself\u001b[39m,\n\u001b[1;32m   4630\u001b[0m     \u001b[38;5;241m*\u001b[39mpredicates: (\n\u001b[0;32m   (...)\u001b[0m\n\u001b[1;32m   4637\u001b[0m     \u001b[38;5;241m*\u001b[39m\u001b[38;5;241m*\u001b[39mconstraints: Any,\n\u001b[1;32m   4638\u001b[0m ) \u001b[38;5;241m-\u001b[39m\u001b[38;5;241m>\u001b[39m DataFrame:\n\u001b[1;32m   4639\u001b[0m \u001b[38;5;250m    \u001b[39m\u001b[38;5;124;03m\"\"\"\u001b[39;00m\n\u001b[1;32m   4640\u001b[0m \u001b[38;5;124;03m    Filter the rows in the DataFrame based on one or more predicate expressions.\u001b[39;00m\n\u001b[1;32m   4641\u001b[0m \n\u001b[0;32m   (...)\u001b[0m\n\u001b[1;32m   4780\u001b[0m \n\u001b[1;32m   4781\u001b[0m \u001b[38;5;124;03m    \"\"\"\u001b[39;00m\n\u001b[0;32m-> 4782\u001b[0m     \u001b[38;5;28;01mreturn\u001b[39;00m \u001b[38;5;28mself\u001b[39m\u001b[38;5;241m.\u001b[39mlazy()\u001b[38;5;241m.\u001b[39mfilter(\u001b[38;5;241m*\u001b[39mpredicates, \u001b[38;5;241m*\u001b[39m\u001b[38;5;241m*\u001b[39mconstraints)\u001b[38;5;241m.\u001b[39mcollect(_eager\u001b[38;5;241m=\u001b[39m\u001b[38;5;28;01mTrue\u001b[39;00m)\n",
      "File \u001b[0;32m~/anaconda3/envs/polars/lib/python3.11/site-packages/polars/lazyframe/frame.py:2029\u001b[0m, in \u001b[0;36mLazyFrame.collect\u001b[0;34m(self, type_coercion, predicate_pushdown, projection_pushdown, simplify_expression, slice_pushdown, comm_subplan_elim, comm_subexpr_elim, cluster_with_columns, collapse_joins, no_optimization, streaming, engine, background, _eager, **_kwargs)\u001b[0m\n\u001b[1;32m   2027\u001b[0m \u001b[38;5;66;03m# Only for testing purposes\u001b[39;00m\n\u001b[1;32m   2028\u001b[0m callback \u001b[38;5;241m=\u001b[39m _kwargs\u001b[38;5;241m.\u001b[39mget(\u001b[38;5;124m\"\u001b[39m\u001b[38;5;124mpost_opt_callback\u001b[39m\u001b[38;5;124m\"\u001b[39m, callback)\n\u001b[0;32m-> 2029\u001b[0m \u001b[38;5;28;01mreturn\u001b[39;00m wrap_df(ldf\u001b[38;5;241m.\u001b[39mcollect(callback))\n",
      "\u001b[0;31mComputeError\u001b[0m: The predicate passed to 'LazyFrame.filter' expanded to multiple expressions: \n\n\tcol(\"num_gears\").is_null(),\n\tcol(\"is_automatic\").is_null(),\nThis is ambiguous. Try to combine the predicates with the 'all' or `any' expression.\n\nResolved plan until failure:\n\n\t---> FAILED HERE RESOLVING 'filter' <---\nDF [\"year\", \"make\", \"model\", \"displ\"]; PROJECT */15 COLUMNS; SELECTION: None"
     ]
    }
   ],
   "source": [
    "(autos\n",
    " .filter(pl.col('num_gears', 'is_automatic').is_null())\n",
    ")"
   ]
  },
  {
   "cell_type": "code",
   "execution_count": 71,
   "id": "dbb566f6-70e9-4be1-9132-dd29367d1fcf",
   "metadata": {},
   "outputs": [
    {
     "name": "stdout",
     "output_type": "stream",
     "text": [
      "shape: (0, 15)\n",
      "┌──────┬──────┬───────┬───────┬───┬───────────┬──────────────┬──────────────┬───────────┐\n",
      "│ year ┆ make ┆ model ┆ displ ┆ … ┆ highway08 ┆ createdOn    ┆ is_automatic ┆ num_gears │\n",
      "│ ---  ┆ ---  ┆ ---   ┆ ---   ┆   ┆ ---       ┆ ---          ┆ ---          ┆ ---       │\n",
      "│ i16  ┆ cat  ┆ cat   ┆ f32   ┆   ┆ u8        ┆ datetime[μs] ┆ str          ┆ u8        │\n",
      "╞══════╪══════╪═══════╪═══════╪═══╪═══════════╪══════════════╪══════════════╪═══════════╡\n",
      "└──────┴──────┴───────┴───────┴───┴───────────┴──────────────┴──────────────┴───────────┘\n"
     ]
    }
   ],
   "source": [
    "print(autos\n",
    "      .filter(pl.col('num_gears').is_null() & pl.col('is_automatic').is_null())\n",
    "     )"
   ]
  },
  {
   "cell_type": "code",
   "execution_count": 72,
   "id": "e4c1dc01-fd01-470f-96b5-433579eb2aec",
   "metadata": {},
   "outputs": [
    {
     "name": "stdout",
     "output_type": "stream",
     "text": [
      "shape: (0, 15)\n",
      "┌──────┬──────┬───────┬───────┬───┬───────────┬──────────────┬──────────────┬───────────┐\n",
      "│ year ┆ make ┆ model ┆ displ ┆ … ┆ highway08 ┆ createdOn    ┆ is_automatic ┆ num_gears │\n",
      "│ ---  ┆ ---  ┆ ---   ┆ ---   ┆   ┆ ---       ┆ ---          ┆ ---          ┆ ---       │\n",
      "│ i16  ┆ cat  ┆ cat   ┆ f32   ┆   ┆ u8        ┆ datetime[μs] ┆ str          ┆ u8        │\n",
      "╞══════╪══════╪═══════╪═══════╪═══╪═══════════╪══════════════╪══════════════╪═══════════╡\n",
      "└──────┴──────┴───────┴───────┴───┴───────────┴──────────────┴──────────────┴───────────┘\n"
     ]
    }
   ],
   "source": [
    "# All Horizontal Function on Row-wise\n",
    "print(autos\n",
    "      .filter(pl.all_horizontal(\n",
    "          pl.col('num_gears', 'is_automatic').is_null()))\n",
    "     )"
   ]
  },
  {
   "cell_type": "code",
   "execution_count": 74,
   "id": "c67b0714-9878-46c1-8e20-042a0e0d1982",
   "metadata": {},
   "outputs": [
    {
     "name": "stdout",
     "output_type": "stream",
     "text": [
      "shape: (48_231, 15)\n",
      "┌──────┬────────────┬──────────────┬───────┬───┬───────────┬─────────────┬─────────────┬───────────┐\n",
      "│ year ┆ make       ┆ model        ┆ displ ┆ … ┆ highway08 ┆ createdOn   ┆ is_automati ┆ num_gears │\n",
      "│ ---  ┆ ---        ┆ ---          ┆ ---   ┆   ┆ ---       ┆ ---         ┆ c           ┆ ---       │\n",
      "│ i16  ┆ cat        ┆ cat          ┆ f32   ┆   ┆ u8        ┆ datetime[μs ┆ ---         ┆ u8        │\n",
      "│      ┆            ┆              ┆       ┆   ┆           ┆ ]           ┆ str         ┆           │\n",
      "╞══════╪════════════╪══════════════╪═══════╪═══╪═══════════╪═════════════╪═════════════╪═══════════╡\n",
      "│ 1985 ┆ Alfa Romeo ┆ Spider       ┆ 2.0   ┆ … ┆ 25        ┆ 2013-01-01  ┆ false       ┆ 5         │\n",
      "│      ┆            ┆ Veloce 2000  ┆       ┆   ┆           ┆ 00:00:00    ┆             ┆           │\n",
      "│ 1985 ┆ Ferrari    ┆ Testarossa   ┆ 4.9   ┆ … ┆ 14        ┆ 2013-01-01  ┆ false       ┆ 5         │\n",
      "│      ┆            ┆              ┆       ┆   ┆           ┆ 00:00:00    ┆             ┆           │\n",
      "│ 1985 ┆ Dodge      ┆ Charger      ┆ 2.2   ┆ … ┆ 33        ┆ 2013-01-01  ┆ false       ┆ 5         │\n",
      "│      ┆            ┆              ┆       ┆   ┆           ┆ 00:00:00    ┆             ┆           │\n",
      "│ 1985 ┆ Dodge      ┆ B150/B250    ┆ 5.2   ┆ … ┆ 12        ┆ 2013-01-01  ┆ true        ┆ 3         │\n",
      "│      ┆            ┆ Wagon 2WD    ┆       ┆   ┆           ┆ 00:00:00    ┆             ┆           │\n",
      "│ 1993 ┆ Subaru     ┆ Legacy AWD   ┆ 2.2   ┆ … ┆ 23        ┆ 2013-01-01  ┆ false       ┆ 5         │\n",
      "│      ┆            ┆ Turbo        ┆       ┆   ┆           ┆ 00:00:00    ┆             ┆           │\n",
      "│ …    ┆ …          ┆ …            ┆ …     ┆ … ┆ …         ┆ …           ┆ …           ┆ …         │\n",
      "│ 1993 ┆ Subaru     ┆ Legacy       ┆ 2.2   ┆ … ┆ 26        ┆ 2013-01-01  ┆ true        ┆ 4         │\n",
      "│      ┆            ┆              ┆       ┆   ┆           ┆ 00:00:00    ┆             ┆           │\n",
      "│ 1993 ┆ Subaru     ┆ Legacy       ┆ 2.2   ┆ … ┆ 28        ┆ 2013-01-01  ┆ false       ┆ 5         │\n",
      "│      ┆            ┆              ┆       ┆   ┆           ┆ 00:00:00    ┆             ┆           │\n",
      "│ 1993 ┆ Subaru     ┆ Legacy AWD   ┆ 2.2   ┆ … ┆ 24        ┆ 2013-01-01  ┆ true        ┆ 4         │\n",
      "│      ┆            ┆              ┆       ┆   ┆           ┆ 00:00:00    ┆             ┆           │\n",
      "│ 1993 ┆ Subaru     ┆ Legacy AWD   ┆ 2.2   ┆ … ┆ 24        ┆ 2013-01-01  ┆ false       ┆ 5         │\n",
      "│      ┆            ┆              ┆       ┆   ┆           ┆ 00:00:00    ┆             ┆           │\n",
      "│ 1993 ┆ Subaru     ┆ Legacy AWD   ┆ 2.2   ┆ … ┆ 21        ┆ 2013-01-01  ┆ true        ┆ 4         │\n",
      "│      ┆            ┆ Turbo        ┆       ┆   ┆           ┆ 00:00:00    ┆             ┆           │\n",
      "└──────┴────────────┴──────────────┴───────┴───┴───────────┴─────────────┴─────────────┴───────────┘\n"
     ]
    }
   ],
   "source": [
    "# Applying Filter Inversion\n",
    "print(autos\n",
    "      .filter(~pl.all_horizontal(\n",
    "          pl.col('num_gears', 'is_automatic').is_null()))\n",
    "     )"
   ]
  },
  {
   "cell_type": "markdown",
   "id": "bf61fa32-597c-4c7e-b63d-fa6df0566e48",
   "metadata": {},
   "source": [
    "### Filling in Missing Values"
   ]
  },
  {
   "cell_type": "code",
   "execution_count": null,
   "id": "97dee91a-3c94-4f4f-9935-1e7c73019be8",
   "metadata": {},
   "outputs": [],
   "source": []
  },
  {
   "cell_type": "code",
   "execution_count": null,
   "id": "23bf356b-d67f-44dc-831a-c332303e205b",
   "metadata": {},
   "outputs": [],
   "source": []
  },
  {
   "cell_type": "code",
   "execution_count": null,
   "id": "3313768f-62b7-409e-953a-b2265b67ee1e",
   "metadata": {},
   "outputs": [],
   "source": []
  },
  {
   "cell_type": "code",
   "execution_count": null,
   "id": "f91eadd0-e439-4603-81df-1f95f7cab908",
   "metadata": {},
   "outputs": [],
   "source": []
  },
  {
   "cell_type": "code",
   "execution_count": null,
   "id": "44241dd8-8dca-4293-9051-a8a233e8ae72",
   "metadata": {},
   "outputs": [],
   "source": [
    "\n"
   ]
  }
 ],
 "metadata": {
  "kernelspec": {
   "display_name": "Python 3 (ipykernel)",
   "language": "python",
   "name": "python3"
  },
  "language_info": {
   "codemirror_mode": {
    "name": "ipython",
    "version": 3
   },
   "file_extension": ".py",
   "mimetype": "text/x-python",
   "name": "python",
   "nbconvert_exporter": "python",
   "pygments_lexer": "ipython3",
   "version": "3.11.8"
  }
 },
 "nbformat": 4,
 "nbformat_minor": 5
}
