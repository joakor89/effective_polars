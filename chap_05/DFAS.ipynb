{
 "cells": [
  {
   "cell_type": "markdown",
   "id": "fd22dc12-72fd-45cd-bc20-8e1f07d7a11e",
   "metadata": {},
   "source": [
    "# Data Filtering & Selection\n",
    "\n",
    "### Loading Libraries"
   ]
  },
  {
   "cell_type": "code",
   "execution_count": 90,
   "id": "cf335c47-5256-4fff-aa5f-d16f50092222",
   "metadata": {},
   "outputs": [
    {
     "data": {
      "text/html": [
       "<script type=\"esms-options\">{\"shimMode\": true}</script><style>*[data-root-id],\n",
       "*[data-root-id] > * {\n",
       "  box-sizing: border-box;\n",
       "  font-family: var(--jp-ui-font-family);\n",
       "  font-size: var(--jp-ui-font-size1);\n",
       "  color: var(--vscode-editor-foreground, var(--jp-ui-font-color1));\n",
       "}\n",
       "\n",
       "/* Override VSCode background color */\n",
       ".cell-output-ipywidget-background:has(\n",
       "    > .cell-output-ipywidget-background > .lm-Widget > *[data-root-id]\n",
       "  ),\n",
       ".cell-output-ipywidget-background:has(> .lm-Widget > *[data-root-id]) {\n",
       "  background-color: transparent !important;\n",
       "}\n",
       "</style>"
      ]
     },
     "metadata": {},
     "output_type": "display_data"
    },
    {
     "data": {
      "application/javascript": [
       "(function(root) {\n",
       "  function now() {\n",
       "    return new Date();\n",
       "  }\n",
       "\n",
       "  const force = true;\n",
       "  const py_version = '3.6.1'.replace('rc', '-rc.').replace('.dev', '-dev.');\n",
       "  const reloading = false;\n",
       "  const Bokeh = root.Bokeh;\n",
       "\n",
       "  // Set a timeout for this load but only if we are not already initializing\n",
       "  if (typeof (root._bokeh_timeout) === \"undefined\" || (force || !root._bokeh_is_initializing)) {\n",
       "    root._bokeh_timeout = Date.now() + 5000;\n",
       "    root._bokeh_failed_load = false;\n",
       "  }\n",
       "\n",
       "  function run_callbacks() {\n",
       "    try {\n",
       "      root._bokeh_onload_callbacks.forEach(function(callback) {\n",
       "        if (callback != null)\n",
       "          callback();\n",
       "      });\n",
       "    } finally {\n",
       "      delete root._bokeh_onload_callbacks;\n",
       "    }\n",
       "    console.debug(\"Bokeh: all callbacks have finished\");\n",
       "  }\n",
       "\n",
       "  function load_libs(css_urls, js_urls, js_modules, js_exports, callback) {\n",
       "    if (css_urls == null) css_urls = [];\n",
       "    if (js_urls == null) js_urls = [];\n",
       "    if (js_modules == null) js_modules = [];\n",
       "    if (js_exports == null) js_exports = {};\n",
       "\n",
       "    root._bokeh_onload_callbacks.push(callback);\n",
       "\n",
       "    if (root._bokeh_is_loading > 0) {\n",
       "      // Don't load bokeh if it is still initializing\n",
       "      console.debug(\"Bokeh: BokehJS is being loaded, scheduling callback at\", now());\n",
       "      return null;\n",
       "    } else if (js_urls.length === 0 && js_modules.length === 0 && Object.keys(js_exports).length === 0) {\n",
       "      // There is nothing to load\n",
       "      run_callbacks();\n",
       "      return null;\n",
       "    }\n",
       "\n",
       "    function on_load() {\n",
       "      root._bokeh_is_loading--;\n",
       "      if (root._bokeh_is_loading === 0) {\n",
       "        console.debug(\"Bokeh: all BokehJS libraries/stylesheets loaded\");\n",
       "        run_callbacks()\n",
       "      }\n",
       "    }\n",
       "    window._bokeh_on_load = on_load\n",
       "\n",
       "    function on_error(e) {\n",
       "      const src_el = e.srcElement\n",
       "      console.error(\"failed to load \" + (src_el.href || src_el.src));\n",
       "    }\n",
       "\n",
       "    const skip = [];\n",
       "    if (window.requirejs) {\n",
       "      window.requirejs.config({'packages': {}, 'paths': {}, 'shim': {}});\n",
       "      root._bokeh_is_loading = css_urls.length + 0;\n",
       "    } else {\n",
       "      root._bokeh_is_loading = css_urls.length + js_urls.length + js_modules.length + Object.keys(js_exports).length;\n",
       "    }\n",
       "\n",
       "    const existing_stylesheets = []\n",
       "    const links = document.getElementsByTagName('link')\n",
       "    for (let i = 0; i < links.length; i++) {\n",
       "      const link = links[i]\n",
       "      if (link.href != null) {\n",
       "        existing_stylesheets.push(link.href)\n",
       "      }\n",
       "    }\n",
       "    for (let i = 0; i < css_urls.length; i++) {\n",
       "      const url = css_urls[i];\n",
       "      const escaped = encodeURI(url)\n",
       "      if (existing_stylesheets.indexOf(escaped) !== -1) {\n",
       "        on_load()\n",
       "        continue;\n",
       "      }\n",
       "      const element = document.createElement(\"link\");\n",
       "      element.onload = on_load;\n",
       "      element.onerror = on_error;\n",
       "      element.rel = \"stylesheet\";\n",
       "      element.type = \"text/css\";\n",
       "      element.href = url;\n",
       "      console.debug(\"Bokeh: injecting link tag for BokehJS stylesheet: \", url);\n",
       "      document.body.appendChild(element);\n",
       "    }    var existing_scripts = []\n",
       "    const scripts = document.getElementsByTagName('script')\n",
       "    for (let i = 0; i < scripts.length; i++) {\n",
       "      var script = scripts[i]\n",
       "      if (script.src != null) {\n",
       "        existing_scripts.push(script.src)\n",
       "      }\n",
       "    }\n",
       "    for (let i = 0; i < js_urls.length; i++) {\n",
       "      const url = js_urls[i];\n",
       "      const escaped = encodeURI(url)\n",
       "      if (skip.indexOf(escaped) !== -1 || existing_scripts.indexOf(escaped) !== -1) {\n",
       "        if (!window.requirejs) {\n",
       "          on_load();\n",
       "        }\n",
       "        continue;\n",
       "      }\n",
       "      const element = document.createElement('script');\n",
       "      element.onload = on_load;\n",
       "      element.onerror = on_error;\n",
       "      element.async = false;\n",
       "      element.src = url;\n",
       "      console.debug(\"Bokeh: injecting script tag for BokehJS library: \", url);\n",
       "      document.head.appendChild(element);\n",
       "    }\n",
       "    for (let i = 0; i < js_modules.length; i++) {\n",
       "      const url = js_modules[i];\n",
       "      const escaped = encodeURI(url)\n",
       "      if (skip.indexOf(escaped) !== -1 || existing_scripts.indexOf(escaped) !== -1) {\n",
       "        if (!window.requirejs) {\n",
       "          on_load();\n",
       "        }\n",
       "        continue;\n",
       "      }\n",
       "      var element = document.createElement('script');\n",
       "      element.onload = on_load;\n",
       "      element.onerror = on_error;\n",
       "      element.async = false;\n",
       "      element.src = url;\n",
       "      element.type = \"module\";\n",
       "      console.debug(\"Bokeh: injecting script tag for BokehJS library: \", url);\n",
       "      document.head.appendChild(element);\n",
       "    }\n",
       "    for (const name in js_exports) {\n",
       "      const url = js_exports[name];\n",
       "      const escaped = encodeURI(url)\n",
       "      if (skip.indexOf(escaped) >= 0 || root[name] != null) {\n",
       "        if (!window.requirejs) {\n",
       "          on_load();\n",
       "        }\n",
       "        continue;\n",
       "      }\n",
       "      var element = document.createElement('script');\n",
       "      element.onerror = on_error;\n",
       "      element.async = false;\n",
       "      element.type = \"module\";\n",
       "      console.debug(\"Bokeh: injecting script tag for BokehJS library: \", url);\n",
       "      element.textContent = `\n",
       "      import ${name} from \"${url}\"\n",
       "      window.${name} = ${name}\n",
       "      window._bokeh_on_load()\n",
       "      `\n",
       "      document.head.appendChild(element);\n",
       "    }\n",
       "    if (!js_urls.length && !js_modules.length) {\n",
       "      on_load()\n",
       "    }\n",
       "  };\n",
       "\n",
       "  function inject_raw_css(css) {\n",
       "    const element = document.createElement(\"style\");\n",
       "    element.appendChild(document.createTextNode(css));\n",
       "    document.body.appendChild(element);\n",
       "  }\n",
       "\n",
       "  const js_urls = [\"https://cdn.holoviz.org/panel/1.5.4/dist/bundled/reactiveesm/es-module-shims@^1.10.0/dist/es-module-shims.min.js\", \"https://cdn.bokeh.org/bokeh/release/bokeh-3.6.1.min.js\", \"https://cdn.bokeh.org/bokeh/release/bokeh-gl-3.6.1.min.js\", \"https://cdn.bokeh.org/bokeh/release/bokeh-widgets-3.6.1.min.js\", \"https://cdn.bokeh.org/bokeh/release/bokeh-tables-3.6.1.min.js\", \"https://cdn.holoviz.org/panel/1.5.4/dist/panel.min.js\"];\n",
       "  const js_modules = [];\n",
       "  const js_exports = {};\n",
       "  const css_urls = [];\n",
       "  const inline_js = [    function(Bokeh) {\n",
       "      Bokeh.set_log_level(\"info\");\n",
       "    },\n",
       "function(Bokeh) {} // ensure no trailing comma for IE\n",
       "  ];\n",
       "\n",
       "  function run_inline_js() {\n",
       "    if ((root.Bokeh !== undefined) || (force === true)) {\n",
       "      for (let i = 0; i < inline_js.length; i++) {\n",
       "        try {\n",
       "          inline_js[i].call(root, root.Bokeh);\n",
       "        } catch(e) {\n",
       "          if (!reloading) {\n",
       "            throw e;\n",
       "          }\n",
       "        }\n",
       "      }\n",
       "      // Cache old bokeh versions\n",
       "      if (Bokeh != undefined && !reloading) {\n",
       "        var NewBokeh = root.Bokeh;\n",
       "        if (Bokeh.versions === undefined) {\n",
       "          Bokeh.versions = new Map();\n",
       "        }\n",
       "        if (NewBokeh.version !== Bokeh.version) {\n",
       "          Bokeh.versions.set(NewBokeh.version, NewBokeh)\n",
       "        }\n",
       "        root.Bokeh = Bokeh;\n",
       "      }\n",
       "    } else if (Date.now() < root._bokeh_timeout) {\n",
       "      setTimeout(run_inline_js, 100);\n",
       "    } else if (!root._bokeh_failed_load) {\n",
       "      console.log(\"Bokeh: BokehJS failed to load within specified timeout.\");\n",
       "      root._bokeh_failed_load = true;\n",
       "    }\n",
       "    root._bokeh_is_initializing = false\n",
       "  }\n",
       "\n",
       "  function load_or_wait() {\n",
       "    // Implement a backoff loop that tries to ensure we do not load multiple\n",
       "    // versions of Bokeh and its dependencies at the same time.\n",
       "    // In recent versions we use the root._bokeh_is_initializing flag\n",
       "    // to determine whether there is an ongoing attempt to initialize\n",
       "    // bokeh, however for backward compatibility we also try to ensure\n",
       "    // that we do not start loading a newer (Panel>=1.0 and Bokeh>3) version\n",
       "    // before older versions are fully initialized.\n",
       "    if (root._bokeh_is_initializing && Date.now() > root._bokeh_timeout) {\n",
       "      // If the timeout and bokeh was not successfully loaded we reset\n",
       "      // everything and try loading again\n",
       "      root._bokeh_timeout = Date.now() + 5000;\n",
       "      root._bokeh_is_initializing = false;\n",
       "      root._bokeh_onload_callbacks = undefined;\n",
       "      root._bokeh_is_loading = 0\n",
       "      console.log(\"Bokeh: BokehJS was loaded multiple times but one version failed to initialize.\");\n",
       "      load_or_wait();\n",
       "    } else if (root._bokeh_is_initializing || (typeof root._bokeh_is_initializing === \"undefined\" && root._bokeh_onload_callbacks !== undefined)) {\n",
       "      setTimeout(load_or_wait, 100);\n",
       "    } else {\n",
       "      root._bokeh_is_initializing = true\n",
       "      root._bokeh_onload_callbacks = []\n",
       "      const bokeh_loaded = root.Bokeh != null && (root.Bokeh.version === py_version || (root.Bokeh.versions !== undefined && root.Bokeh.versions.has(py_version)));\n",
       "      if (!reloading && !bokeh_loaded) {\n",
       "        if (root.Bokeh) {\n",
       "          root.Bokeh = undefined;\n",
       "        }\n",
       "        console.debug(\"Bokeh: BokehJS not loaded, scheduling load and callback at\", now());\n",
       "      }\n",
       "      load_libs(css_urls, js_urls, js_modules, js_exports, function() {\n",
       "        console.debug(\"Bokeh: BokehJS plotting callback run at\", now());\n",
       "        run_inline_js();\n",
       "      });\n",
       "    }\n",
       "  }\n",
       "  // Give older versions of the autoload script a head-start to ensure\n",
       "  // they initialize before we start loading newer version.\n",
       "  setTimeout(load_or_wait, 100)\n",
       "}(window));"
      ],
      "application/vnd.holoviews_load.v0+json": "(function(root) {\n  function now() {\n    return new Date();\n  }\n\n  const force = true;\n  const py_version = '3.6.1'.replace('rc', '-rc.').replace('.dev', '-dev.');\n  const reloading = false;\n  const Bokeh = root.Bokeh;\n\n  // Set a timeout for this load but only if we are not already initializing\n  if (typeof (root._bokeh_timeout) === \"undefined\" || (force || !root._bokeh_is_initializing)) {\n    root._bokeh_timeout = Date.now() + 5000;\n    root._bokeh_failed_load = false;\n  }\n\n  function run_callbacks() {\n    try {\n      root._bokeh_onload_callbacks.forEach(function(callback) {\n        if (callback != null)\n          callback();\n      });\n    } finally {\n      delete root._bokeh_onload_callbacks;\n    }\n    console.debug(\"Bokeh: all callbacks have finished\");\n  }\n\n  function load_libs(css_urls, js_urls, js_modules, js_exports, callback) {\n    if (css_urls == null) css_urls = [];\n    if (js_urls == null) js_urls = [];\n    if (js_modules == null) js_modules = [];\n    if (js_exports == null) js_exports = {};\n\n    root._bokeh_onload_callbacks.push(callback);\n\n    if (root._bokeh_is_loading > 0) {\n      // Don't load bokeh if it is still initializing\n      console.debug(\"Bokeh: BokehJS is being loaded, scheduling callback at\", now());\n      return null;\n    } else if (js_urls.length === 0 && js_modules.length === 0 && Object.keys(js_exports).length === 0) {\n      // There is nothing to load\n      run_callbacks();\n      return null;\n    }\n\n    function on_load() {\n      root._bokeh_is_loading--;\n      if (root._bokeh_is_loading === 0) {\n        console.debug(\"Bokeh: all BokehJS libraries/stylesheets loaded\");\n        run_callbacks()\n      }\n    }\n    window._bokeh_on_load = on_load\n\n    function on_error(e) {\n      const src_el = e.srcElement\n      console.error(\"failed to load \" + (src_el.href || src_el.src));\n    }\n\n    const skip = [];\n    if (window.requirejs) {\n      window.requirejs.config({'packages': {}, 'paths': {}, 'shim': {}});\n      root._bokeh_is_loading = css_urls.length + 0;\n    } else {\n      root._bokeh_is_loading = css_urls.length + js_urls.length + js_modules.length + Object.keys(js_exports).length;\n    }\n\n    const existing_stylesheets = []\n    const links = document.getElementsByTagName('link')\n    for (let i = 0; i < links.length; i++) {\n      const link = links[i]\n      if (link.href != null) {\n        existing_stylesheets.push(link.href)\n      }\n    }\n    for (let i = 0; i < css_urls.length; i++) {\n      const url = css_urls[i];\n      const escaped = encodeURI(url)\n      if (existing_stylesheets.indexOf(escaped) !== -1) {\n        on_load()\n        continue;\n      }\n      const element = document.createElement(\"link\");\n      element.onload = on_load;\n      element.onerror = on_error;\n      element.rel = \"stylesheet\";\n      element.type = \"text/css\";\n      element.href = url;\n      console.debug(\"Bokeh: injecting link tag for BokehJS stylesheet: \", url);\n      document.body.appendChild(element);\n    }    var existing_scripts = []\n    const scripts = document.getElementsByTagName('script')\n    for (let i = 0; i < scripts.length; i++) {\n      var script = scripts[i]\n      if (script.src != null) {\n        existing_scripts.push(script.src)\n      }\n    }\n    for (let i = 0; i < js_urls.length; i++) {\n      const url = js_urls[i];\n      const escaped = encodeURI(url)\n      if (skip.indexOf(escaped) !== -1 || existing_scripts.indexOf(escaped) !== -1) {\n        if (!window.requirejs) {\n          on_load();\n        }\n        continue;\n      }\n      const element = document.createElement('script');\n      element.onload = on_load;\n      element.onerror = on_error;\n      element.async = false;\n      element.src = url;\n      console.debug(\"Bokeh: injecting script tag for BokehJS library: \", url);\n      document.head.appendChild(element);\n    }\n    for (let i = 0; i < js_modules.length; i++) {\n      const url = js_modules[i];\n      const escaped = encodeURI(url)\n      if (skip.indexOf(escaped) !== -1 || existing_scripts.indexOf(escaped) !== -1) {\n        if (!window.requirejs) {\n          on_load();\n        }\n        continue;\n      }\n      var element = document.createElement('script');\n      element.onload = on_load;\n      element.onerror = on_error;\n      element.async = false;\n      element.src = url;\n      element.type = \"module\";\n      console.debug(\"Bokeh: injecting script tag for BokehJS library: \", url);\n      document.head.appendChild(element);\n    }\n    for (const name in js_exports) {\n      const url = js_exports[name];\n      const escaped = encodeURI(url)\n      if (skip.indexOf(escaped) >= 0 || root[name] != null) {\n        if (!window.requirejs) {\n          on_load();\n        }\n        continue;\n      }\n      var element = document.createElement('script');\n      element.onerror = on_error;\n      element.async = false;\n      element.type = \"module\";\n      console.debug(\"Bokeh: injecting script tag for BokehJS library: \", url);\n      element.textContent = `\n      import ${name} from \"${url}\"\n      window.${name} = ${name}\n      window._bokeh_on_load()\n      `\n      document.head.appendChild(element);\n    }\n    if (!js_urls.length && !js_modules.length) {\n      on_load()\n    }\n  };\n\n  function inject_raw_css(css) {\n    const element = document.createElement(\"style\");\n    element.appendChild(document.createTextNode(css));\n    document.body.appendChild(element);\n  }\n\n  const js_urls = [\"https://cdn.holoviz.org/panel/1.5.4/dist/bundled/reactiveesm/es-module-shims@^1.10.0/dist/es-module-shims.min.js\", \"https://cdn.bokeh.org/bokeh/release/bokeh-3.6.1.min.js\", \"https://cdn.bokeh.org/bokeh/release/bokeh-gl-3.6.1.min.js\", \"https://cdn.bokeh.org/bokeh/release/bokeh-widgets-3.6.1.min.js\", \"https://cdn.bokeh.org/bokeh/release/bokeh-tables-3.6.1.min.js\", \"https://cdn.holoviz.org/panel/1.5.4/dist/panel.min.js\"];\n  const js_modules = [];\n  const js_exports = {};\n  const css_urls = [];\n  const inline_js = [    function(Bokeh) {\n      Bokeh.set_log_level(\"info\");\n    },\nfunction(Bokeh) {} // ensure no trailing comma for IE\n  ];\n\n  function run_inline_js() {\n    if ((root.Bokeh !== undefined) || (force === true)) {\n      for (let i = 0; i < inline_js.length; i++) {\n        try {\n          inline_js[i].call(root, root.Bokeh);\n        } catch(e) {\n          if (!reloading) {\n            throw e;\n          }\n        }\n      }\n      // Cache old bokeh versions\n      if (Bokeh != undefined && !reloading) {\n        var NewBokeh = root.Bokeh;\n        if (Bokeh.versions === undefined) {\n          Bokeh.versions = new Map();\n        }\n        if (NewBokeh.version !== Bokeh.version) {\n          Bokeh.versions.set(NewBokeh.version, NewBokeh)\n        }\n        root.Bokeh = Bokeh;\n      }\n    } else if (Date.now() < root._bokeh_timeout) {\n      setTimeout(run_inline_js, 100);\n    } else if (!root._bokeh_failed_load) {\n      console.log(\"Bokeh: BokehJS failed to load within specified timeout.\");\n      root._bokeh_failed_load = true;\n    }\n    root._bokeh_is_initializing = false\n  }\n\n  function load_or_wait() {\n    // Implement a backoff loop that tries to ensure we do not load multiple\n    // versions of Bokeh and its dependencies at the same time.\n    // In recent versions we use the root._bokeh_is_initializing flag\n    // to determine whether there is an ongoing attempt to initialize\n    // bokeh, however for backward compatibility we also try to ensure\n    // that we do not start loading a newer (Panel>=1.0 and Bokeh>3) version\n    // before older versions are fully initialized.\n    if (root._bokeh_is_initializing && Date.now() > root._bokeh_timeout) {\n      // If the timeout and bokeh was not successfully loaded we reset\n      // everything and try loading again\n      root._bokeh_timeout = Date.now() + 5000;\n      root._bokeh_is_initializing = false;\n      root._bokeh_onload_callbacks = undefined;\n      root._bokeh_is_loading = 0\n      console.log(\"Bokeh: BokehJS was loaded multiple times but one version failed to initialize.\");\n      load_or_wait();\n    } else if (root._bokeh_is_initializing || (typeof root._bokeh_is_initializing === \"undefined\" && root._bokeh_onload_callbacks !== undefined)) {\n      setTimeout(load_or_wait, 100);\n    } else {\n      root._bokeh_is_initializing = true\n      root._bokeh_onload_callbacks = []\n      const bokeh_loaded = root.Bokeh != null && (root.Bokeh.version === py_version || (root.Bokeh.versions !== undefined && root.Bokeh.versions.has(py_version)));\n      if (!reloading && !bokeh_loaded) {\n        if (root.Bokeh) {\n          root.Bokeh = undefined;\n        }\n        console.debug(\"Bokeh: BokehJS not loaded, scheduling load and callback at\", now());\n      }\n      load_libs(css_urls, js_urls, js_modules, js_exports, function() {\n        console.debug(\"Bokeh: BokehJS plotting callback run at\", now());\n        run_inline_js();\n      });\n    }\n  }\n  // Give older versions of the autoload script a head-start to ensure\n  // they initialize before we start loading newer version.\n  setTimeout(load_or_wait, 100)\n}(window));"
     },
     "metadata": {},
     "output_type": "display_data"
    },
    {
     "data": {
      "application/javascript": [
       "\n",
       "if ((window.PyViz === undefined) || (window.PyViz instanceof HTMLElement)) {\n",
       "  window.PyViz = {comms: {}, comm_status:{}, kernels:{}, receivers: {}, plot_index: []}\n",
       "}\n",
       "\n",
       "\n",
       "    function JupyterCommManager() {\n",
       "    }\n",
       "\n",
       "    JupyterCommManager.prototype.register_target = function(plot_id, comm_id, msg_handler) {\n",
       "      if (window.comm_manager || ((window.Jupyter !== undefined) && (Jupyter.notebook.kernel != null))) {\n",
       "        var comm_manager = window.comm_manager || Jupyter.notebook.kernel.comm_manager;\n",
       "        comm_manager.register_target(comm_id, function(comm) {\n",
       "          comm.on_msg(msg_handler);\n",
       "        });\n",
       "      } else if ((plot_id in window.PyViz.kernels) && (window.PyViz.kernels[plot_id])) {\n",
       "        window.PyViz.kernels[plot_id].registerCommTarget(comm_id, function(comm) {\n",
       "          comm.onMsg = msg_handler;\n",
       "        });\n",
       "      } else if (typeof google != 'undefined' && google.colab.kernel != null) {\n",
       "        google.colab.kernel.comms.registerTarget(comm_id, (comm) => {\n",
       "          var messages = comm.messages[Symbol.asyncIterator]();\n",
       "          function processIteratorResult(result) {\n",
       "            var message = result.value;\n",
       "            console.log(message)\n",
       "            var content = {data: message.data, comm_id};\n",
       "            var buffers = []\n",
       "            for (var buffer of message.buffers || []) {\n",
       "              buffers.push(new DataView(buffer))\n",
       "            }\n",
       "            var metadata = message.metadata || {};\n",
       "            var msg = {content, buffers, metadata}\n",
       "            msg_handler(msg);\n",
       "            return messages.next().then(processIteratorResult);\n",
       "          }\n",
       "          return messages.next().then(processIteratorResult);\n",
       "        })\n",
       "      }\n",
       "    }\n",
       "\n",
       "    JupyterCommManager.prototype.get_client_comm = function(plot_id, comm_id, msg_handler) {\n",
       "      if (comm_id in window.PyViz.comms) {\n",
       "        return window.PyViz.comms[comm_id];\n",
       "      } else if (window.comm_manager || ((window.Jupyter !== undefined) && (Jupyter.notebook.kernel != null))) {\n",
       "        var comm_manager = window.comm_manager || Jupyter.notebook.kernel.comm_manager;\n",
       "        var comm = comm_manager.new_comm(comm_id, {}, {}, {}, comm_id);\n",
       "        if (msg_handler) {\n",
       "          comm.on_msg(msg_handler);\n",
       "        }\n",
       "      } else if ((plot_id in window.PyViz.kernels) && (window.PyViz.kernels[plot_id])) {\n",
       "        var comm = window.PyViz.kernels[plot_id].connectToComm(comm_id);\n",
       "        comm.open();\n",
       "        if (msg_handler) {\n",
       "          comm.onMsg = msg_handler;\n",
       "        }\n",
       "      } else if (typeof google != 'undefined' && google.colab.kernel != null) {\n",
       "        var comm_promise = google.colab.kernel.comms.open(comm_id)\n",
       "        comm_promise.then((comm) => {\n",
       "          window.PyViz.comms[comm_id] = comm;\n",
       "          if (msg_handler) {\n",
       "            var messages = comm.messages[Symbol.asyncIterator]();\n",
       "            function processIteratorResult(result) {\n",
       "              var message = result.value;\n",
       "              var content = {data: message.data};\n",
       "              var metadata = message.metadata || {comm_id};\n",
       "              var msg = {content, metadata}\n",
       "              msg_handler(msg);\n",
       "              return messages.next().then(processIteratorResult);\n",
       "            }\n",
       "            return messages.next().then(processIteratorResult);\n",
       "          }\n",
       "        }) \n",
       "        var sendClosure = (data, metadata, buffers, disposeOnDone) => {\n",
       "          return comm_promise.then((comm) => {\n",
       "            comm.send(data, metadata, buffers, disposeOnDone);\n",
       "          });\n",
       "        };\n",
       "        var comm = {\n",
       "          send: sendClosure\n",
       "        };\n",
       "      }\n",
       "      window.PyViz.comms[comm_id] = comm;\n",
       "      return comm;\n",
       "    }\n",
       "    window.PyViz.comm_manager = new JupyterCommManager();\n",
       "    \n",
       "\n",
       "\n",
       "var JS_MIME_TYPE = 'application/javascript';\n",
       "var HTML_MIME_TYPE = 'text/html';\n",
       "var EXEC_MIME_TYPE = 'application/vnd.holoviews_exec.v0+json';\n",
       "var CLASS_NAME = 'output';\n",
       "\n",
       "/**\n",
       " * Render data to the DOM node\n",
       " */\n",
       "function render(props, node) {\n",
       "  var div = document.createElement(\"div\");\n",
       "  var script = document.createElement(\"script\");\n",
       "  node.appendChild(div);\n",
       "  node.appendChild(script);\n",
       "}\n",
       "\n",
       "/**\n",
       " * Handle when a new output is added\n",
       " */\n",
       "function handle_add_output(event, handle) {\n",
       "  var output_area = handle.output_area;\n",
       "  var output = handle.output;\n",
       "  if ((output.data == undefined) || (!output.data.hasOwnProperty(EXEC_MIME_TYPE))) {\n",
       "    return\n",
       "  }\n",
       "  var id = output.metadata[EXEC_MIME_TYPE][\"id\"];\n",
       "  var toinsert = output_area.element.find(\".\" + CLASS_NAME.split(' ')[0]);\n",
       "  if (id !== undefined) {\n",
       "    var nchildren = toinsert.length;\n",
       "    var html_node = toinsert[nchildren-1].children[0];\n",
       "    html_node.innerHTML = output.data[HTML_MIME_TYPE];\n",
       "    var scripts = [];\n",
       "    var nodelist = html_node.querySelectorAll(\"script\");\n",
       "    for (var i in nodelist) {\n",
       "      if (nodelist.hasOwnProperty(i)) {\n",
       "        scripts.push(nodelist[i])\n",
       "      }\n",
       "    }\n",
       "\n",
       "    scripts.forEach( function (oldScript) {\n",
       "      var newScript = document.createElement(\"script\");\n",
       "      var attrs = [];\n",
       "      var nodemap = oldScript.attributes;\n",
       "      for (var j in nodemap) {\n",
       "        if (nodemap.hasOwnProperty(j)) {\n",
       "          attrs.push(nodemap[j])\n",
       "        }\n",
       "      }\n",
       "      attrs.forEach(function(attr) { newScript.setAttribute(attr.name, attr.value) });\n",
       "      newScript.appendChild(document.createTextNode(oldScript.innerHTML));\n",
       "      oldScript.parentNode.replaceChild(newScript, oldScript);\n",
       "    });\n",
       "    if (JS_MIME_TYPE in output.data) {\n",
       "      toinsert[nchildren-1].children[1].textContent = output.data[JS_MIME_TYPE];\n",
       "    }\n",
       "    output_area._hv_plot_id = id;\n",
       "    if ((window.Bokeh !== undefined) && (id in Bokeh.index)) {\n",
       "      window.PyViz.plot_index[id] = Bokeh.index[id];\n",
       "    } else {\n",
       "      window.PyViz.plot_index[id] = null;\n",
       "    }\n",
       "  } else if (output.metadata[EXEC_MIME_TYPE][\"server_id\"] !== undefined) {\n",
       "    var bk_div = document.createElement(\"div\");\n",
       "    bk_div.innerHTML = output.data[HTML_MIME_TYPE];\n",
       "    var script_attrs = bk_div.children[0].attributes;\n",
       "    for (var i = 0; i < script_attrs.length; i++) {\n",
       "      toinsert[toinsert.length - 1].childNodes[1].setAttribute(script_attrs[i].name, script_attrs[i].value);\n",
       "    }\n",
       "    // store reference to server id on output_area\n",
       "    output_area._bokeh_server_id = output.metadata[EXEC_MIME_TYPE][\"server_id\"];\n",
       "  }\n",
       "}\n",
       "\n",
       "/**\n",
       " * Handle when an output is cleared or removed\n",
       " */\n",
       "function handle_clear_output(event, handle) {\n",
       "  var id = handle.cell.output_area._hv_plot_id;\n",
       "  var server_id = handle.cell.output_area._bokeh_server_id;\n",
       "  if (((id === undefined) || !(id in PyViz.plot_index)) && (server_id !== undefined)) { return; }\n",
       "  var comm = window.PyViz.comm_manager.get_client_comm(\"hv-extension-comm\", \"hv-extension-comm\", function () {});\n",
       "  if (server_id !== null) {\n",
       "    comm.send({event_type: 'server_delete', 'id': server_id});\n",
       "    return;\n",
       "  } else if (comm !== null) {\n",
       "    comm.send({event_type: 'delete', 'id': id});\n",
       "  }\n",
       "  delete PyViz.plot_index[id];\n",
       "  if ((window.Bokeh !== undefined) & (id in window.Bokeh.index)) {\n",
       "    var doc = window.Bokeh.index[id].model.document\n",
       "    doc.clear();\n",
       "    const i = window.Bokeh.documents.indexOf(doc);\n",
       "    if (i > -1) {\n",
       "      window.Bokeh.documents.splice(i, 1);\n",
       "    }\n",
       "  }\n",
       "}\n",
       "\n",
       "/**\n",
       " * Handle kernel restart event\n",
       " */\n",
       "function handle_kernel_cleanup(event, handle) {\n",
       "  delete PyViz.comms[\"hv-extension-comm\"];\n",
       "  window.PyViz.plot_index = {}\n",
       "}\n",
       "\n",
       "/**\n",
       " * Handle update_display_data messages\n",
       " */\n",
       "function handle_update_output(event, handle) {\n",
       "  handle_clear_output(event, {cell: {output_area: handle.output_area}})\n",
       "  handle_add_output(event, handle)\n",
       "}\n",
       "\n",
       "function register_renderer(events, OutputArea) {\n",
       "  function append_mime(data, metadata, element) {\n",
       "    // create a DOM node to render to\n",
       "    var toinsert = this.create_output_subarea(\n",
       "    metadata,\n",
       "    CLASS_NAME,\n",
       "    EXEC_MIME_TYPE\n",
       "    );\n",
       "    this.keyboard_manager.register_events(toinsert);\n",
       "    // Render to node\n",
       "    var props = {data: data, metadata: metadata[EXEC_MIME_TYPE]};\n",
       "    render(props, toinsert[0]);\n",
       "    element.append(toinsert);\n",
       "    return toinsert\n",
       "  }\n",
       "\n",
       "  events.on('output_added.OutputArea', handle_add_output);\n",
       "  events.on('output_updated.OutputArea', handle_update_output);\n",
       "  events.on('clear_output.CodeCell', handle_clear_output);\n",
       "  events.on('delete.Cell', handle_clear_output);\n",
       "  events.on('kernel_ready.Kernel', handle_kernel_cleanup);\n",
       "\n",
       "  OutputArea.prototype.register_mime_type(EXEC_MIME_TYPE, append_mime, {\n",
       "    safe: true,\n",
       "    index: 0\n",
       "  });\n",
       "}\n",
       "\n",
       "if (window.Jupyter !== undefined) {\n",
       "  try {\n",
       "    var events = require('base/js/events');\n",
       "    var OutputArea = require('notebook/js/outputarea').OutputArea;\n",
       "    if (OutputArea.prototype.mime_types().indexOf(EXEC_MIME_TYPE) == -1) {\n",
       "      register_renderer(events, OutputArea);\n",
       "    }\n",
       "  } catch(err) {\n",
       "  }\n",
       "}\n"
      ],
      "application/vnd.holoviews_load.v0+json": "\nif ((window.PyViz === undefined) || (window.PyViz instanceof HTMLElement)) {\n  window.PyViz = {comms: {}, comm_status:{}, kernels:{}, receivers: {}, plot_index: []}\n}\n\n\n    function JupyterCommManager() {\n    }\n\n    JupyterCommManager.prototype.register_target = function(plot_id, comm_id, msg_handler) {\n      if (window.comm_manager || ((window.Jupyter !== undefined) && (Jupyter.notebook.kernel != null))) {\n        var comm_manager = window.comm_manager || Jupyter.notebook.kernel.comm_manager;\n        comm_manager.register_target(comm_id, function(comm) {\n          comm.on_msg(msg_handler);\n        });\n      } else if ((plot_id in window.PyViz.kernels) && (window.PyViz.kernels[plot_id])) {\n        window.PyViz.kernels[plot_id].registerCommTarget(comm_id, function(comm) {\n          comm.onMsg = msg_handler;\n        });\n      } else if (typeof google != 'undefined' && google.colab.kernel != null) {\n        google.colab.kernel.comms.registerTarget(comm_id, (comm) => {\n          var messages = comm.messages[Symbol.asyncIterator]();\n          function processIteratorResult(result) {\n            var message = result.value;\n            console.log(message)\n            var content = {data: message.data, comm_id};\n            var buffers = []\n            for (var buffer of message.buffers || []) {\n              buffers.push(new DataView(buffer))\n            }\n            var metadata = message.metadata || {};\n            var msg = {content, buffers, metadata}\n            msg_handler(msg);\n            return messages.next().then(processIteratorResult);\n          }\n          return messages.next().then(processIteratorResult);\n        })\n      }\n    }\n\n    JupyterCommManager.prototype.get_client_comm = function(plot_id, comm_id, msg_handler) {\n      if (comm_id in window.PyViz.comms) {\n        return window.PyViz.comms[comm_id];\n      } else if (window.comm_manager || ((window.Jupyter !== undefined) && (Jupyter.notebook.kernel != null))) {\n        var comm_manager = window.comm_manager || Jupyter.notebook.kernel.comm_manager;\n        var comm = comm_manager.new_comm(comm_id, {}, {}, {}, comm_id);\n        if (msg_handler) {\n          comm.on_msg(msg_handler);\n        }\n      } else if ((plot_id in window.PyViz.kernels) && (window.PyViz.kernels[plot_id])) {\n        var comm = window.PyViz.kernels[plot_id].connectToComm(comm_id);\n        comm.open();\n        if (msg_handler) {\n          comm.onMsg = msg_handler;\n        }\n      } else if (typeof google != 'undefined' && google.colab.kernel != null) {\n        var comm_promise = google.colab.kernel.comms.open(comm_id)\n        comm_promise.then((comm) => {\n          window.PyViz.comms[comm_id] = comm;\n          if (msg_handler) {\n            var messages = comm.messages[Symbol.asyncIterator]();\n            function processIteratorResult(result) {\n              var message = result.value;\n              var content = {data: message.data};\n              var metadata = message.metadata || {comm_id};\n              var msg = {content, metadata}\n              msg_handler(msg);\n              return messages.next().then(processIteratorResult);\n            }\n            return messages.next().then(processIteratorResult);\n          }\n        }) \n        var sendClosure = (data, metadata, buffers, disposeOnDone) => {\n          return comm_promise.then((comm) => {\n            comm.send(data, metadata, buffers, disposeOnDone);\n          });\n        };\n        var comm = {\n          send: sendClosure\n        };\n      }\n      window.PyViz.comms[comm_id] = comm;\n      return comm;\n    }\n    window.PyViz.comm_manager = new JupyterCommManager();\n    \n\n\nvar JS_MIME_TYPE = 'application/javascript';\nvar HTML_MIME_TYPE = 'text/html';\nvar EXEC_MIME_TYPE = 'application/vnd.holoviews_exec.v0+json';\nvar CLASS_NAME = 'output';\n\n/**\n * Render data to the DOM node\n */\nfunction render(props, node) {\n  var div = document.createElement(\"div\");\n  var script = document.createElement(\"script\");\n  node.appendChild(div);\n  node.appendChild(script);\n}\n\n/**\n * Handle when a new output is added\n */\nfunction handle_add_output(event, handle) {\n  var output_area = handle.output_area;\n  var output = handle.output;\n  if ((output.data == undefined) || (!output.data.hasOwnProperty(EXEC_MIME_TYPE))) {\n    return\n  }\n  var id = output.metadata[EXEC_MIME_TYPE][\"id\"];\n  var toinsert = output_area.element.find(\".\" + CLASS_NAME.split(' ')[0]);\n  if (id !== undefined) {\n    var nchildren = toinsert.length;\n    var html_node = toinsert[nchildren-1].children[0];\n    html_node.innerHTML = output.data[HTML_MIME_TYPE];\n    var scripts = [];\n    var nodelist = html_node.querySelectorAll(\"script\");\n    for (var i in nodelist) {\n      if (nodelist.hasOwnProperty(i)) {\n        scripts.push(nodelist[i])\n      }\n    }\n\n    scripts.forEach( function (oldScript) {\n      var newScript = document.createElement(\"script\");\n      var attrs = [];\n      var nodemap = oldScript.attributes;\n      for (var j in nodemap) {\n        if (nodemap.hasOwnProperty(j)) {\n          attrs.push(nodemap[j])\n        }\n      }\n      attrs.forEach(function(attr) { newScript.setAttribute(attr.name, attr.value) });\n      newScript.appendChild(document.createTextNode(oldScript.innerHTML));\n      oldScript.parentNode.replaceChild(newScript, oldScript);\n    });\n    if (JS_MIME_TYPE in output.data) {\n      toinsert[nchildren-1].children[1].textContent = output.data[JS_MIME_TYPE];\n    }\n    output_area._hv_plot_id = id;\n    if ((window.Bokeh !== undefined) && (id in Bokeh.index)) {\n      window.PyViz.plot_index[id] = Bokeh.index[id];\n    } else {\n      window.PyViz.plot_index[id] = null;\n    }\n  } else if (output.metadata[EXEC_MIME_TYPE][\"server_id\"] !== undefined) {\n    var bk_div = document.createElement(\"div\");\n    bk_div.innerHTML = output.data[HTML_MIME_TYPE];\n    var script_attrs = bk_div.children[0].attributes;\n    for (var i = 0; i < script_attrs.length; i++) {\n      toinsert[toinsert.length - 1].childNodes[1].setAttribute(script_attrs[i].name, script_attrs[i].value);\n    }\n    // store reference to server id on output_area\n    output_area._bokeh_server_id = output.metadata[EXEC_MIME_TYPE][\"server_id\"];\n  }\n}\n\n/**\n * Handle when an output is cleared or removed\n */\nfunction handle_clear_output(event, handle) {\n  var id = handle.cell.output_area._hv_plot_id;\n  var server_id = handle.cell.output_area._bokeh_server_id;\n  if (((id === undefined) || !(id in PyViz.plot_index)) && (server_id !== undefined)) { return; }\n  var comm = window.PyViz.comm_manager.get_client_comm(\"hv-extension-comm\", \"hv-extension-comm\", function () {});\n  if (server_id !== null) {\n    comm.send({event_type: 'server_delete', 'id': server_id});\n    return;\n  } else if (comm !== null) {\n    comm.send({event_type: 'delete', 'id': id});\n  }\n  delete PyViz.plot_index[id];\n  if ((window.Bokeh !== undefined) & (id in window.Bokeh.index)) {\n    var doc = window.Bokeh.index[id].model.document\n    doc.clear();\n    const i = window.Bokeh.documents.indexOf(doc);\n    if (i > -1) {\n      window.Bokeh.documents.splice(i, 1);\n    }\n  }\n}\n\n/**\n * Handle kernel restart event\n */\nfunction handle_kernel_cleanup(event, handle) {\n  delete PyViz.comms[\"hv-extension-comm\"];\n  window.PyViz.plot_index = {}\n}\n\n/**\n * Handle update_display_data messages\n */\nfunction handle_update_output(event, handle) {\n  handle_clear_output(event, {cell: {output_area: handle.output_area}})\n  handle_add_output(event, handle)\n}\n\nfunction register_renderer(events, OutputArea) {\n  function append_mime(data, metadata, element) {\n    // create a DOM node to render to\n    var toinsert = this.create_output_subarea(\n    metadata,\n    CLASS_NAME,\n    EXEC_MIME_TYPE\n    );\n    this.keyboard_manager.register_events(toinsert);\n    // Render to node\n    var props = {data: data, metadata: metadata[EXEC_MIME_TYPE]};\n    render(props, toinsert[0]);\n    element.append(toinsert);\n    return toinsert\n  }\n\n  events.on('output_added.OutputArea', handle_add_output);\n  events.on('output_updated.OutputArea', handle_update_output);\n  events.on('clear_output.CodeCell', handle_clear_output);\n  events.on('delete.Cell', handle_clear_output);\n  events.on('kernel_ready.Kernel', handle_kernel_cleanup);\n\n  OutputArea.prototype.register_mime_type(EXEC_MIME_TYPE, append_mime, {\n    safe: true,\n    index: 0\n  });\n}\n\nif (window.Jupyter !== undefined) {\n  try {\n    var events = require('base/js/events');\n    var OutputArea = require('notebook/js/outputarea').OutputArea;\n    if (OutputArea.prototype.mime_types().indexOf(EXEC_MIME_TYPE) == -1) {\n      register_renderer(events, OutputArea);\n    }\n  } catch(err) {\n  }\n}\n"
     },
     "metadata": {},
     "output_type": "display_data"
    },
    {
     "data": {
      "application/vnd.holoviews_exec.v0+json": "",
      "text/html": [
       "<div id='ece0514f-25ac-4d8b-8673-004fd43e25d0'>\n",
       "  <div id=\"c2067393-9646-4892-8b57-8c896f869adb\" data-root-id=\"ece0514f-25ac-4d8b-8673-004fd43e25d0\" style=\"display: contents;\"></div>\n",
       "</div>\n",
       "<script type=\"application/javascript\">(function(root) {\n",
       "  var docs_json = {\"8c25f8d9-6576-4e85-801f-92cf2f964907\":{\"version\":\"3.6.1\",\"title\":\"Bokeh Application\",\"roots\":[{\"type\":\"object\",\"name\":\"panel.models.browser.BrowserInfo\",\"id\":\"ece0514f-25ac-4d8b-8673-004fd43e25d0\"},{\"type\":\"object\",\"name\":\"panel.models.comm_manager.CommManager\",\"id\":\"741bcba1-8525-4a08-9638-59ef4801da8a\",\"attributes\":{\"plot_id\":\"ece0514f-25ac-4d8b-8673-004fd43e25d0\",\"comm_id\":\"7cdb0ab851c44bf49c222f36b56ac4e4\",\"client_comm_id\":\"02bad2f306694f3f9237fe6578011ae3\"}}],\"defs\":[{\"type\":\"model\",\"name\":\"ReactiveHTML1\"},{\"type\":\"model\",\"name\":\"FlexBox1\",\"properties\":[{\"name\":\"align_content\",\"kind\":\"Any\",\"default\":\"flex-start\"},{\"name\":\"align_items\",\"kind\":\"Any\",\"default\":\"flex-start\"},{\"name\":\"flex_direction\",\"kind\":\"Any\",\"default\":\"row\"},{\"name\":\"flex_wrap\",\"kind\":\"Any\",\"default\":\"wrap\"},{\"name\":\"gap\",\"kind\":\"Any\",\"default\":\"\"},{\"name\":\"justify_content\",\"kind\":\"Any\",\"default\":\"flex-start\"}]},{\"type\":\"model\",\"name\":\"FloatPanel1\",\"properties\":[{\"name\":\"config\",\"kind\":\"Any\",\"default\":{\"type\":\"map\"}},{\"name\":\"contained\",\"kind\":\"Any\",\"default\":true},{\"name\":\"position\",\"kind\":\"Any\",\"default\":\"right-top\"},{\"name\":\"offsetx\",\"kind\":\"Any\",\"default\":null},{\"name\":\"offsety\",\"kind\":\"Any\",\"default\":null},{\"name\":\"theme\",\"kind\":\"Any\",\"default\":\"primary\"},{\"name\":\"status\",\"kind\":\"Any\",\"default\":\"normalized\"}]},{\"type\":\"model\",\"name\":\"GridStack1\",\"properties\":[{\"name\":\"mode\",\"kind\":\"Any\",\"default\":\"warn\"},{\"name\":\"ncols\",\"kind\":\"Any\",\"default\":null},{\"name\":\"nrows\",\"kind\":\"Any\",\"default\":null},{\"name\":\"allow_resize\",\"kind\":\"Any\",\"default\":true},{\"name\":\"allow_drag\",\"kind\":\"Any\",\"default\":true},{\"name\":\"state\",\"kind\":\"Any\",\"default\":[]}]},{\"type\":\"model\",\"name\":\"drag1\",\"properties\":[{\"name\":\"slider_width\",\"kind\":\"Any\",\"default\":5},{\"name\":\"slider_color\",\"kind\":\"Any\",\"default\":\"black\"},{\"name\":\"value\",\"kind\":\"Any\",\"default\":50}]},{\"type\":\"model\",\"name\":\"click1\",\"properties\":[{\"name\":\"terminal_output\",\"kind\":\"Any\",\"default\":\"\"},{\"name\":\"debug_name\",\"kind\":\"Any\",\"default\":\"\"},{\"name\":\"clears\",\"kind\":\"Any\",\"default\":0}]},{\"type\":\"model\",\"name\":\"FastWrapper1\",\"properties\":[{\"name\":\"object\",\"kind\":\"Any\",\"default\":null},{\"name\":\"style\",\"kind\":\"Any\",\"default\":null}]},{\"type\":\"model\",\"name\":\"NotificationAreaBase1\",\"properties\":[{\"name\":\"js_events\",\"kind\":\"Any\",\"default\":{\"type\":\"map\"}},{\"name\":\"position\",\"kind\":\"Any\",\"default\":\"bottom-right\"},{\"name\":\"_clear\",\"kind\":\"Any\",\"default\":0}]},{\"type\":\"model\",\"name\":\"NotificationArea1\",\"properties\":[{\"name\":\"js_events\",\"kind\":\"Any\",\"default\":{\"type\":\"map\"}},{\"name\":\"notifications\",\"kind\":\"Any\",\"default\":[]},{\"name\":\"position\",\"kind\":\"Any\",\"default\":\"bottom-right\"},{\"name\":\"_clear\",\"kind\":\"Any\",\"default\":0},{\"name\":\"types\",\"kind\":\"Any\",\"default\":[{\"type\":\"map\",\"entries\":[[\"type\",\"warning\"],[\"background\",\"#ffc107\"],[\"icon\",{\"type\":\"map\",\"entries\":[[\"className\",\"fas fa-exclamation-triangle\"],[\"tagName\",\"i\"],[\"color\",\"white\"]]}]]},{\"type\":\"map\",\"entries\":[[\"type\",\"info\"],[\"background\",\"#007bff\"],[\"icon\",{\"type\":\"map\",\"entries\":[[\"className\",\"fas fa-info-circle\"],[\"tagName\",\"i\"],[\"color\",\"white\"]]}]]}]}]},{\"type\":\"model\",\"name\":\"Notification\",\"properties\":[{\"name\":\"background\",\"kind\":\"Any\",\"default\":null},{\"name\":\"duration\",\"kind\":\"Any\",\"default\":3000},{\"name\":\"icon\",\"kind\":\"Any\",\"default\":null},{\"name\":\"message\",\"kind\":\"Any\",\"default\":\"\"},{\"name\":\"notification_type\",\"kind\":\"Any\",\"default\":null},{\"name\":\"_destroyed\",\"kind\":\"Any\",\"default\":false}]},{\"type\":\"model\",\"name\":\"TemplateActions1\",\"properties\":[{\"name\":\"open_modal\",\"kind\":\"Any\",\"default\":0},{\"name\":\"close_modal\",\"kind\":\"Any\",\"default\":0}]},{\"type\":\"model\",\"name\":\"BootstrapTemplateActions1\",\"properties\":[{\"name\":\"open_modal\",\"kind\":\"Any\",\"default\":0},{\"name\":\"close_modal\",\"kind\":\"Any\",\"default\":0}]},{\"type\":\"model\",\"name\":\"TemplateEditor1\",\"properties\":[{\"name\":\"layout\",\"kind\":\"Any\",\"default\":[]}]},{\"type\":\"model\",\"name\":\"MaterialTemplateActions1\",\"properties\":[{\"name\":\"open_modal\",\"kind\":\"Any\",\"default\":0},{\"name\":\"close_modal\",\"kind\":\"Any\",\"default\":0}]},{\"type\":\"model\",\"name\":\"ReactiveESM1\",\"properties\":[{\"name\":\"esm_constants\",\"kind\":\"Any\",\"default\":{\"type\":\"map\"}}]},{\"type\":\"model\",\"name\":\"JSComponent1\",\"properties\":[{\"name\":\"esm_constants\",\"kind\":\"Any\",\"default\":{\"type\":\"map\"}}]},{\"type\":\"model\",\"name\":\"ReactComponent1\",\"properties\":[{\"name\":\"esm_constants\",\"kind\":\"Any\",\"default\":{\"type\":\"map\"}}]},{\"type\":\"model\",\"name\":\"AnyWidgetComponent1\",\"properties\":[{\"name\":\"esm_constants\",\"kind\":\"Any\",\"default\":{\"type\":\"map\"}}]},{\"type\":\"model\",\"name\":\"request_value1\",\"properties\":[{\"name\":\"fill\",\"kind\":\"Any\",\"default\":\"none\"},{\"name\":\"_synced\",\"kind\":\"Any\",\"default\":null},{\"name\":\"_request_sync\",\"kind\":\"Any\",\"default\":0}]}]}};\n",
       "  var render_items = [{\"docid\":\"8c25f8d9-6576-4e85-801f-92cf2f964907\",\"roots\":{\"ece0514f-25ac-4d8b-8673-004fd43e25d0\":\"c2067393-9646-4892-8b57-8c896f869adb\"},\"root_ids\":[\"ece0514f-25ac-4d8b-8673-004fd43e25d0\"]}];\n",
       "  var docs = Object.values(docs_json)\n",
       "  if (!docs) {\n",
       "    return\n",
       "  }\n",
       "  const py_version = docs[0].version.replace('rc', '-rc.').replace('.dev', '-dev.')\n",
       "  async function embed_document(root) {\n",
       "    var Bokeh = get_bokeh(root)\n",
       "    await Bokeh.embed.embed_items_notebook(docs_json, render_items);\n",
       "    for (const render_item of render_items) {\n",
       "      for (const root_id of render_item.root_ids) {\n",
       "\tconst id_el = document.getElementById(root_id)\n",
       "\tif (id_el.children.length && id_el.children[0].hasAttribute('data-root-id')) {\n",
       "\t  const root_el = id_el.children[0]\n",
       "\t  root_el.id = root_el.id + '-rendered'\n",
       "\t  for (const child of root_el.children) {\n",
       "            // Ensure JupyterLab does not capture keyboard shortcuts\n",
       "            // see: https://jupyterlab.readthedocs.io/en/4.1.x/extension/notebook.html#keyboard-interaction-model\n",
       "\t    child.setAttribute('data-lm-suppress-shortcuts', 'true')\n",
       "\t  }\n",
       "\t}\n",
       "      }\n",
       "    }\n",
       "  }\n",
       "  function get_bokeh(root) {\n",
       "    if (root.Bokeh === undefined) {\n",
       "      return null\n",
       "    } else if (root.Bokeh.version !== py_version) {\n",
       "      if (root.Bokeh.versions === undefined || !root.Bokeh.versions.has(py_version)) {\n",
       "\treturn null\n",
       "      }\n",
       "      return root.Bokeh.versions.get(py_version);\n",
       "    } else if (root.Bokeh.version === py_version) {\n",
       "      return root.Bokeh\n",
       "    }\n",
       "    return null\n",
       "  }\n",
       "  function is_loaded(root) {\n",
       "    var Bokeh = get_bokeh(root)\n",
       "    return (Bokeh != null && Bokeh.Panel !== undefined)\n",
       "  }\n",
       "  if (is_loaded(root)) {\n",
       "    embed_document(root);\n",
       "  } else {\n",
       "    var attempts = 0;\n",
       "    var timer = setInterval(function(root) {\n",
       "      if (is_loaded(root)) {\n",
       "        clearInterval(timer);\n",
       "        embed_document(root);\n",
       "      } else if (document.readyState == \"complete\") {\n",
       "        attempts++;\n",
       "        if (attempts > 200) {\n",
       "          clearInterval(timer);\n",
       "\t  var Bokeh = get_bokeh(root)\n",
       "\t  if (Bokeh == null || Bokeh.Panel == null) {\n",
       "            console.warn(\"Panel: ERROR: Unable to run Panel code because Bokeh or Panel library is missing\");\n",
       "\t  } else {\n",
       "\t    console.warn(\"Panel: WARNING: Attempting to render but not all required libraries could be resolved.\")\n",
       "\t    embed_document(root)\n",
       "\t  }\n",
       "        }\n",
       "      }\n",
       "    }, 25, root)\n",
       "  }\n",
       "})(window);</script>"
      ]
     },
     "metadata": {
      "application/vnd.holoviews_exec.v0+json": {
       "id": "ece0514f-25ac-4d8b-8673-004fd43e25d0"
      }
     },
     "output_type": "display_data"
    }
   ],
   "source": [
    "# ZipFiles\n",
    "import zipfile\n",
    "\n",
    "# Numerical Computing\n",
    "import numpy as np\n",
    "\n",
    "# Data Manipulation\n",
    "import pandas as pd\n",
    "import polars as pl\n",
    "import polars.selectors as cs\n",
    "\n",
    "# Data Visualization\n",
    "import hvplot\n",
    "hvplot.extension('matplotlib')\n",
    "import seaborn as sns\n",
    "import matplotlib.pyplot as plt\n",
    "\n",
    "# XGBoost\n",
    "import xgboost as xgb\n",
    "\n",
    "# Scikit-Learn\n",
    "from sklearn import decomposition\n",
    "\n",
    "# Date & Time\n",
    "from datetime import datetime\n",
    "from datetime import timedelta"
   ]
  },
  {
   "cell_type": "markdown",
   "id": "4caaa8d7-5f5c-435d-9cb2-5ff48d50b650",
   "metadata": {},
   "source": [
    "## Loading Data"
   ]
  },
  {
   "cell_type": "code",
   "execution_count": 2,
   "id": "af5121ae-9e26-4670-8b62-ab555573f24d",
   "metadata": {},
   "outputs": [],
   "source": [
    "# Path\n",
    "path = '/Users/isisromero/desktop/polars/datasets/vehicles.csv'"
   ]
  },
  {
   "cell_type": "code",
   "execution_count": 3,
   "id": "6e53af1c-19ac-4181-b23a-5707840f5832",
   "metadata": {},
   "outputs": [],
   "source": [
    "raw = pl.read_csv(path, null_values=['NA'])"
   ]
  },
  {
   "cell_type": "code",
   "execution_count": 4,
   "id": "435a3abd-e893-437b-a2da-8bb574167169",
   "metadata": {},
   "outputs": [],
   "source": [
    "def tweak_auto(df):\n",
    "    cols = ['year', 'make', 'model', 'displ', 'cylinders', 'trany', \n",
    "            'drive', 'VClass', 'fuelType', 'barrels08', 'city08', 'highway08', 'createdOn']\n",
    "    return (df\n",
    "            .select(pl.col(cols))\n",
    "            .with_columns(pl.col('year').cast(pl.Int16),\n",
    "                          pl.col(['cylinders', 'highway08', 'city08']).cast(pl.UInt8),\n",
    "                          pl.col(['displ', 'barrels08']).cast(pl.Float32),\n",
    "                          pl.col(['make', 'model', 'VClass', 'drive', 'fuelType']).cast(pl.Categorical),\n",
    "                          pl.col('createdOn').str.to_datetime('%a %b %d %H:%M:%S %Z %Y'),\n",
    "                          is_automatic=pl.col('trany')                    \n",
    "                          .str.contains('Automatic')\n",
    "                          .fill_null('Automatic'),\n",
    "                          num_gears=pl.col('trany')\n",
    "                          .str.extract(r'(\\d+)')\n",
    "                          .cast(pl.UInt8)\n",
    "                          .fill_null(6))\n",
    "           )"
   ]
  },
  {
   "cell_type": "code",
   "execution_count": 5,
   "id": "5208df68-1193-4bd8-98c9-2616646d85eb",
   "metadata": {},
   "outputs": [],
   "source": [
    "autos = tweak_auto(raw)"
   ]
  },
  {
   "cell_type": "code",
   "execution_count": 6,
   "id": "d235e30e-0722-46b6-ae69-1d6b4076ca30",
   "metadata": {},
   "outputs": [
    {
     "name": "stdout",
     "output_type": "stream",
     "text": [
      "shape: (48_231, 15)\n",
      "┌──────┬────────────┬──────────────┬───────┬───┬───────────┬─────────────┬─────────────┬───────────┐\n",
      "│ year ┆ make       ┆ model        ┆ displ ┆ … ┆ highway08 ┆ createdOn   ┆ is_automati ┆ num_gears │\n",
      "│ ---  ┆ ---        ┆ ---          ┆ ---   ┆   ┆ ---       ┆ ---         ┆ c           ┆ ---       │\n",
      "│ i16  ┆ cat        ┆ cat          ┆ f32   ┆   ┆ u8        ┆ datetime[μs ┆ ---         ┆ u8        │\n",
      "│      ┆            ┆              ┆       ┆   ┆           ┆ ]           ┆ str         ┆           │\n",
      "╞══════╪════════════╪══════════════╪═══════╪═══╪═══════════╪═════════════╪═════════════╪═══════════╡\n",
      "│ 1985 ┆ Alfa Romeo ┆ Spider       ┆ 2.0   ┆ … ┆ 25        ┆ 2013-01-01  ┆ false       ┆ 5         │\n",
      "│      ┆            ┆ Veloce 2000  ┆       ┆   ┆           ┆ 00:00:00    ┆             ┆           │\n",
      "│ 1985 ┆ Ferrari    ┆ Testarossa   ┆ 4.9   ┆ … ┆ 14        ┆ 2013-01-01  ┆ false       ┆ 5         │\n",
      "│      ┆            ┆              ┆       ┆   ┆           ┆ 00:00:00    ┆             ┆           │\n",
      "│ 1985 ┆ Dodge      ┆ Charger      ┆ 2.2   ┆ … ┆ 33        ┆ 2013-01-01  ┆ false       ┆ 5         │\n",
      "│      ┆            ┆              ┆       ┆   ┆           ┆ 00:00:00    ┆             ┆           │\n",
      "│ 1985 ┆ Dodge      ┆ B150/B250    ┆ 5.2   ┆ … ┆ 12        ┆ 2013-01-01  ┆ true        ┆ 3         │\n",
      "│      ┆            ┆ Wagon 2WD    ┆       ┆   ┆           ┆ 00:00:00    ┆             ┆           │\n",
      "│ 1993 ┆ Subaru     ┆ Legacy AWD   ┆ 2.2   ┆ … ┆ 23        ┆ 2013-01-01  ┆ false       ┆ 5         │\n",
      "│      ┆            ┆ Turbo        ┆       ┆   ┆           ┆ 00:00:00    ┆             ┆           │\n",
      "│ …    ┆ …          ┆ …            ┆ …     ┆ … ┆ …         ┆ …           ┆ …           ┆ …         │\n",
      "│ 1993 ┆ Subaru     ┆ Legacy       ┆ 2.2   ┆ … ┆ 26        ┆ 2013-01-01  ┆ true        ┆ 4         │\n",
      "│      ┆            ┆              ┆       ┆   ┆           ┆ 00:00:00    ┆             ┆           │\n",
      "│ 1993 ┆ Subaru     ┆ Legacy       ┆ 2.2   ┆ … ┆ 28        ┆ 2013-01-01  ┆ false       ┆ 5         │\n",
      "│      ┆            ┆              ┆       ┆   ┆           ┆ 00:00:00    ┆             ┆           │\n",
      "│ 1993 ┆ Subaru     ┆ Legacy AWD   ┆ 2.2   ┆ … ┆ 24        ┆ 2013-01-01  ┆ true        ┆ 4         │\n",
      "│      ┆            ┆              ┆       ┆   ┆           ┆ 00:00:00    ┆             ┆           │\n",
      "│ 1993 ┆ Subaru     ┆ Legacy AWD   ┆ 2.2   ┆ … ┆ 24        ┆ 2013-01-01  ┆ false       ┆ 5         │\n",
      "│      ┆            ┆              ┆       ┆   ┆           ┆ 00:00:00    ┆             ┆           │\n",
      "│ 1993 ┆ Subaru     ┆ Legacy AWD   ┆ 2.2   ┆ … ┆ 21        ┆ 2013-01-01  ┆ true        ┆ 4         │\n",
      "│      ┆            ┆ Turbo        ┆       ┆   ┆           ┆ 00:00:00    ┆             ┆           │\n",
      "└──────┴────────────┴──────────────┴───────┴───┴───────────┴─────────────┴─────────────┴───────────┘\n"
     ]
    }
   ],
   "source": [
    "print(autos)"
   ]
  },
  {
   "cell_type": "markdown",
   "id": "4f04f6a9-504a-4a12-8cbf-4b36a00702c5",
   "metadata": {},
   "source": [
    "### Filtering with Expressions"
   ]
  },
  {
   "cell_type": "code",
   "execution_count": 7,
   "id": "8ff0d85d-1b15-4964-808d-a8cb587c9c89",
   "metadata": {},
   "outputs": [
    {
     "name": "stdout",
     "output_type": "stream",
     "text": [
      "shape: (1_325, 15)\n",
      "┌──────┬────────┬───────────┬───────┬───┬───────────┬──────────────┬──────────────┬───────────┐\n",
      "│ year ┆ make   ┆ model     ┆ displ ┆ … ┆ highway08 ┆ createdOn    ┆ is_automatic ┆ num_gears │\n",
      "│ ---  ┆ ---    ┆ ---       ┆ ---   ┆   ┆ ---       ┆ ---          ┆ ---          ┆ ---       │\n",
      "│ i16  ┆ cat    ┆ cat       ┆ f32   ┆   ┆ u8        ┆ datetime[μs] ┆ str          ┆ u8        │\n",
      "╞══════╪════════╪═══════════╪═══════╪═══╪═══════════╪══════════════╪══════════════╪═══════════╡\n",
      "│ 1994 ┆ Geo    ┆ Metro XFI ┆ 1.0   ┆ … ┆ 52        ┆ 2013-01-01   ┆ false        ┆ 5         │\n",
      "│      ┆        ┆           ┆       ┆   ┆           ┆ 00:00:00     ┆              ┆           │\n",
      "│ 2000 ┆ Honda  ┆ Insight   ┆ 1.0   ┆ … ┆ 61        ┆ 2013-01-01   ┆ false        ┆ 5         │\n",
      "│      ┆        ┆           ┆       ┆   ┆           ┆ 00:00:00     ┆              ┆           │\n",
      "│ 2000 ┆ Nissan ┆ Altra EV  ┆ null  ┆ … ┆ 91        ┆ 2013-01-01   ┆ Automatic    ┆ 6         │\n",
      "│      ┆        ┆           ┆       ┆   ┆           ┆ 00:00:00     ┆              ┆           │\n",
      "│ 2000 ┆ Toyota ┆ RAV4 EV   ┆ null  ┆ … ┆ 64        ┆ 2013-01-01   ┆ Automatic    ┆ 6         │\n",
      "│      ┆        ┆           ┆       ┆   ┆           ┆ 00:00:00     ┆              ┆           │\n",
      "│ 2001 ┆ Honda  ┆ Insight   ┆ 1.0   ┆ … ┆ 49        ┆ 2013-01-01   ┆ true         ┆ 6         │\n",
      "│      ┆        ┆           ┆       ┆   ┆           ┆ 00:00:00     ┆              ┆           │\n",
      "│ …    ┆ …      ┆ …         ┆ …     ┆ … ┆ …         ┆ …            ┆ …            ┆ …         │\n",
      "│ 1989 ┆ Geo    ┆ Metro     ┆ 1.0   ┆ … ┆ 52        ┆ 2013-01-01   ┆ false        ┆ 5         │\n",
      "│      ┆        ┆           ┆       ┆   ┆           ┆ 00:00:00     ┆              ┆           │\n",
      "│ 1990 ┆ Geo    ┆ Metro XFI ┆ 1.0   ┆ … ┆ 52        ┆ 2013-01-01   ┆ false        ┆ 5         │\n",
      "│      ┆        ┆           ┆       ┆   ┆           ┆ 00:00:00     ┆              ┆           │\n",
      "│ 1991 ┆ Geo    ┆ Metro XFI ┆ 1.0   ┆ … ┆ 52        ┆ 2013-01-01   ┆ false        ┆ 5         │\n",
      "│      ┆        ┆           ┆       ┆   ┆           ┆ 00:00:00     ┆              ┆           │\n",
      "│ 1992 ┆ Geo    ┆ Metro XFI ┆ 1.0   ┆ … ┆ 52        ┆ 2013-01-01   ┆ false        ┆ 5         │\n",
      "│      ┆        ┆           ┆       ┆   ┆           ┆ 00:00:00     ┆              ┆           │\n",
      "│ 1993 ┆ Geo    ┆ Metro XFI ┆ 1.0   ┆ … ┆ 52        ┆ 2013-01-01   ┆ false        ┆ 5         │\n",
      "│      ┆        ┆           ┆       ┆   ┆           ┆ 00:00:00     ┆              ┆           │\n",
      "└──────┴────────┴───────────┴───────┴───┴───────────┴──────────────┴──────────────┴───────────┘\n"
     ]
    }
   ],
   "source": [
    "print(autos\n",
    "      .filter(pl.col('city08') > 40)\n",
    "     )"
   ]
  },
  {
   "cell_type": "code",
   "execution_count": 8,
   "id": "62433bb5-3c04-4340-a4ee-62cc7c2eeb3f",
   "metadata": {},
   "outputs": [
    {
     "name": "stdout",
     "output_type": "stream",
     "text": [
      "shape: (155, 15)\n",
      "┌──────┬────────┬───────────────┬───────┬───┬───────────┬───────────────┬──────────────┬───────────┐\n",
      "│ year ┆ make   ┆ model         ┆ displ ┆ … ┆ highway08 ┆ createdOn     ┆ is_automatic ┆ num_gears │\n",
      "│ ---  ┆ ---    ┆ ---           ┆ ---   ┆   ┆ ---       ┆ ---           ┆ ---          ┆ ---       │\n",
      "│ i16  ┆ cat    ┆ cat           ┆ f32   ┆   ┆ u8        ┆ datetime[μs]  ┆ str          ┆ u8        │\n",
      "╞══════╪════════╪═══════════════╪═══════╪═══╪═══════════╪═══════════════╪══════════════╪═══════════╡\n",
      "│ 2000 ┆ Toyota ┆ RAV4 EV       ┆ null  ┆ … ┆ 64        ┆ 2013-01-01    ┆ Automatic    ┆ 6         │\n",
      "│      ┆        ┆               ┆       ┆   ┆           ┆ 00:00:00      ┆              ┆           │\n",
      "│ 2001 ┆ Toyota ┆ Prius         ┆ 1.5   ┆ … ┆ 41        ┆ 2013-01-01    ┆ true         ┆ 6         │\n",
      "│      ┆        ┆               ┆       ┆   ┆           ┆ 00:00:00      ┆              ┆           │\n",
      "│ 2001 ┆ Toyota ┆ RAV4 EV       ┆ null  ┆ … ┆ 64        ┆ 2013-01-01    ┆ Automatic    ┆ 6         │\n",
      "│      ┆        ┆               ┆       ┆   ┆           ┆ 00:00:00      ┆              ┆           │\n",
      "│ 2002 ┆ Toyota ┆ Prius         ┆ 1.5   ┆ … ┆ 41        ┆ 2013-01-01    ┆ true         ┆ 6         │\n",
      "│      ┆        ┆               ┆       ┆   ┆           ┆ 00:00:00      ┆              ┆           │\n",
      "│ 2002 ┆ Toyota ┆ RAV4 EV       ┆ null  ┆ … ┆ 69        ┆ 2013-01-01    ┆ Automatic    ┆ 6         │\n",
      "│      ┆        ┆               ┆       ┆   ┆           ┆ 00:00:00      ┆              ┆           │\n",
      "│ …    ┆ …      ┆ …             ┆ …     ┆ … ┆ …         ┆ …             ┆ …            ┆ …         │\n",
      "│ 2025 ┆ Toyota ┆ Camry HEV FF  ┆ 2.5   ┆ … ┆ 50        ┆ 2024-08-07    ┆ true         ┆ 6         │\n",
      "│      ┆        ┆ LE            ┆       ┆   ┆           ┆ 00:00:00      ┆              ┆           │\n",
      "│ 2025 ┆ Toyota ┆ Camry HEV FF  ┆ 2.5   ┆ … ┆ 47        ┆ 2024-08-07    ┆ true         ┆ 6         │\n",
      "│      ┆        ┆ SE/XLE/XSE    ┆       ┆   ┆           ┆ 00:00:00      ┆              ┆           │\n",
      "│ 2025 ┆ Toyota ┆ Camry HEV AWD ┆ 2.5   ┆ … ┆ 49        ┆ 2024-08-07    ┆ true         ┆ 6         │\n",
      "│      ┆        ┆ LE            ┆       ┆   ┆           ┆ 00:00:00      ┆              ┆           │\n",
      "│ 2025 ┆ Toyota ┆ Corolla       ┆ 1.8   ┆ … ┆ 43        ┆ 2024-09-18    ┆ true         ┆ 6         │\n",
      "│      ┆        ┆ Hybrid        ┆       ┆   ┆           ┆ 00:00:00      ┆              ┆           │\n",
      "│ 2025 ┆ Toyota ┆ Corolla       ┆ 1.8   ┆ … ┆ 41        ┆ 2024-09-18    ┆ true         ┆ 6         │\n",
      "│      ┆        ┆ Hybrid AWD    ┆       ┆   ┆           ┆ 00:00:00      ┆              ┆           │\n",
      "└──────┴────────┴───────────────┴───────┴───┴───────────┴───────────────┴──────────────┴───────────┘\n"
     ]
    }
   ],
   "source": [
    "print(autos\n",
    "      .filter(pl.col('city08') > 40)\n",
    "      .filter(pl.col('make') == 'Toyota')\n",
    "     )"
   ]
  },
  {
   "cell_type": "code",
   "execution_count": 9,
   "id": "c3f1c6a0-0ddb-410c-bcfe-82f22b871939",
   "metadata": {},
   "outputs": [
    {
     "name": "stdout",
     "output_type": "stream",
     "text": [
      "shape: (155, 15)\n",
      "┌──────┬────────┬───────────────┬───────┬───┬───────────┬───────────────┬──────────────┬───────────┐\n",
      "│ year ┆ make   ┆ model         ┆ displ ┆ … ┆ highway08 ┆ createdOn     ┆ is_automatic ┆ num_gears │\n",
      "│ ---  ┆ ---    ┆ ---           ┆ ---   ┆   ┆ ---       ┆ ---           ┆ ---          ┆ ---       │\n",
      "│ i16  ┆ cat    ┆ cat           ┆ f32   ┆   ┆ u8        ┆ datetime[μs]  ┆ str          ┆ u8        │\n",
      "╞══════╪════════╪═══════════════╪═══════╪═══╪═══════════╪═══════════════╪══════════════╪═══════════╡\n",
      "│ 2000 ┆ Toyota ┆ RAV4 EV       ┆ null  ┆ … ┆ 64        ┆ 2013-01-01    ┆ Automatic    ┆ 6         │\n",
      "│      ┆        ┆               ┆       ┆   ┆           ┆ 00:00:00      ┆              ┆           │\n",
      "│ 2001 ┆ Toyota ┆ Prius         ┆ 1.5   ┆ … ┆ 41        ┆ 2013-01-01    ┆ true         ┆ 6         │\n",
      "│      ┆        ┆               ┆       ┆   ┆           ┆ 00:00:00      ┆              ┆           │\n",
      "│ 2001 ┆ Toyota ┆ RAV4 EV       ┆ null  ┆ … ┆ 64        ┆ 2013-01-01    ┆ Automatic    ┆ 6         │\n",
      "│      ┆        ┆               ┆       ┆   ┆           ┆ 00:00:00      ┆              ┆           │\n",
      "│ 2002 ┆ Toyota ┆ Prius         ┆ 1.5   ┆ … ┆ 41        ┆ 2013-01-01    ┆ true         ┆ 6         │\n",
      "│      ┆        ┆               ┆       ┆   ┆           ┆ 00:00:00      ┆              ┆           │\n",
      "│ 2002 ┆ Toyota ┆ RAV4 EV       ┆ null  ┆ … ┆ 69        ┆ 2013-01-01    ┆ Automatic    ┆ 6         │\n",
      "│      ┆        ┆               ┆       ┆   ┆           ┆ 00:00:00      ┆              ┆           │\n",
      "│ …    ┆ …      ┆ …             ┆ …     ┆ … ┆ …         ┆ …             ┆ …            ┆ …         │\n",
      "│ 2025 ┆ Toyota ┆ Camry HEV FF  ┆ 2.5   ┆ … ┆ 50        ┆ 2024-08-07    ┆ true         ┆ 6         │\n",
      "│      ┆        ┆ LE            ┆       ┆   ┆           ┆ 00:00:00      ┆              ┆           │\n",
      "│ 2025 ┆ Toyota ┆ Camry HEV FF  ┆ 2.5   ┆ … ┆ 47        ┆ 2024-08-07    ┆ true         ┆ 6         │\n",
      "│      ┆        ┆ SE/XLE/XSE    ┆       ┆   ┆           ┆ 00:00:00      ┆              ┆           │\n",
      "│ 2025 ┆ Toyota ┆ Camry HEV AWD ┆ 2.5   ┆ … ┆ 49        ┆ 2024-08-07    ┆ true         ┆ 6         │\n",
      "│      ┆        ┆ LE            ┆       ┆   ┆           ┆ 00:00:00      ┆              ┆           │\n",
      "│ 2025 ┆ Toyota ┆ Corolla       ┆ 1.8   ┆ … ┆ 43        ┆ 2024-09-18    ┆ true         ┆ 6         │\n",
      "│      ┆        ┆ Hybrid        ┆       ┆   ┆           ┆ 00:00:00      ┆              ┆           │\n",
      "│ 2025 ┆ Toyota ┆ Corolla       ┆ 1.8   ┆ … ┆ 41        ┆ 2024-09-18    ┆ true         ┆ 6         │\n",
      "│      ┆        ┆ Hybrid AWD    ┆       ┆   ┆           ┆ 00:00:00      ┆              ┆           │\n",
      "└──────┴────────┴───────────────┴───────┴───┴───────────┴───────────────┴──────────────┴───────────┘\n"
     ]
    }
   ],
   "source": [
    "# Placing Multiple Conditions within Filter\n",
    "print(autos\n",
    "      .filter(pl.col('city08') > 40, pl.col('make') == 'Toyota')\n",
    "     )"
   ]
  },
  {
   "cell_type": "code",
   "execution_count": 10,
   "id": "a1abebc2-ba20-43e5-8457-a9300ab82617",
   "metadata": {},
   "outputs": [
    {
     "name": "stdout",
     "output_type": "stream",
     "text": [
      "shape: (155, 15)\n",
      "┌──────┬────────┬───────────────┬───────┬───┬───────────┬───────────────┬──────────────┬───────────┐\n",
      "│ year ┆ make   ┆ model         ┆ displ ┆ … ┆ highway08 ┆ createdOn     ┆ is_automatic ┆ num_gears │\n",
      "│ ---  ┆ ---    ┆ ---           ┆ ---   ┆   ┆ ---       ┆ ---           ┆ ---          ┆ ---       │\n",
      "│ i16  ┆ cat    ┆ cat           ┆ f32   ┆   ┆ u8        ┆ datetime[μs]  ┆ str          ┆ u8        │\n",
      "╞══════╪════════╪═══════════════╪═══════╪═══╪═══════════╪═══════════════╪══════════════╪═══════════╡\n",
      "│ 2000 ┆ Toyota ┆ RAV4 EV       ┆ null  ┆ … ┆ 64        ┆ 2013-01-01    ┆ Automatic    ┆ 6         │\n",
      "│      ┆        ┆               ┆       ┆   ┆           ┆ 00:00:00      ┆              ┆           │\n",
      "│ 2001 ┆ Toyota ┆ Prius         ┆ 1.5   ┆ … ┆ 41        ┆ 2013-01-01    ┆ true         ┆ 6         │\n",
      "│      ┆        ┆               ┆       ┆   ┆           ┆ 00:00:00      ┆              ┆           │\n",
      "│ 2001 ┆ Toyota ┆ RAV4 EV       ┆ null  ┆ … ┆ 64        ┆ 2013-01-01    ┆ Automatic    ┆ 6         │\n",
      "│      ┆        ┆               ┆       ┆   ┆           ┆ 00:00:00      ┆              ┆           │\n",
      "│ 2002 ┆ Toyota ┆ Prius         ┆ 1.5   ┆ … ┆ 41        ┆ 2013-01-01    ┆ true         ┆ 6         │\n",
      "│      ┆        ┆               ┆       ┆   ┆           ┆ 00:00:00      ┆              ┆           │\n",
      "│ 2002 ┆ Toyota ┆ RAV4 EV       ┆ null  ┆ … ┆ 69        ┆ 2013-01-01    ┆ Automatic    ┆ 6         │\n",
      "│      ┆        ┆               ┆       ┆   ┆           ┆ 00:00:00      ┆              ┆           │\n",
      "│ …    ┆ …      ┆ …             ┆ …     ┆ … ┆ …         ┆ …             ┆ …            ┆ …         │\n",
      "│ 2025 ┆ Toyota ┆ Camry HEV FF  ┆ 2.5   ┆ … ┆ 50        ┆ 2024-08-07    ┆ true         ┆ 6         │\n",
      "│      ┆        ┆ LE            ┆       ┆   ┆           ┆ 00:00:00      ┆              ┆           │\n",
      "│ 2025 ┆ Toyota ┆ Camry HEV FF  ┆ 2.5   ┆ … ┆ 47        ┆ 2024-08-07    ┆ true         ┆ 6         │\n",
      "│      ┆        ┆ SE/XLE/XSE    ┆       ┆   ┆           ┆ 00:00:00      ┆              ┆           │\n",
      "│ 2025 ┆ Toyota ┆ Camry HEV AWD ┆ 2.5   ┆ … ┆ 49        ┆ 2024-08-07    ┆ true         ┆ 6         │\n",
      "│      ┆        ┆ LE            ┆       ┆   ┆           ┆ 00:00:00      ┆              ┆           │\n",
      "│ 2025 ┆ Toyota ┆ Corolla       ┆ 1.8   ┆ … ┆ 43        ┆ 2024-09-18    ┆ true         ┆ 6         │\n",
      "│      ┆        ┆ Hybrid        ┆       ┆   ┆           ┆ 00:00:00      ┆              ┆           │\n",
      "│ 2025 ┆ Toyota ┆ Corolla       ┆ 1.8   ┆ … ┆ 41        ┆ 2024-09-18    ┆ true         ┆ 6         │\n",
      "│      ┆        ┆ Hybrid AWD    ┆       ┆   ┆           ┆ 00:00:00      ┆              ┆           │\n",
      "└──────┴────────┴───────────────┴───────┴───┴───────────┴───────────────┴──────────────┴───────────┘\n"
     ]
    }
   ],
   "source": [
    "# Using Boolean Operators\n",
    "print(autos\n",
    "      .filter((pl.col('make') == 'Toyota') & (pl.col('city08') > 40))\n",
    "     )"
   ]
  },
  {
   "cell_type": "markdown",
   "id": "ceb337ad-49b4-4120-839e-c3ac1523d38f",
   "metadata": {},
   "source": [
    "### Filtering with Keywords"
   ]
  },
  {
   "cell_type": "code",
   "execution_count": 11,
   "id": "09c82d74-33af-4f2e-a60e-faf7f3e31659",
   "metadata": {},
   "outputs": [
    {
     "name": "stdout",
     "output_type": "stream",
     "text": [
      "shape: (3_835, 15)\n",
      "┌──────┬──────┬─────────────┬───────┬───┬───────────┬──────────────┬──────────────┬───────────┐\n",
      "│ year ┆ make ┆ model       ┆ displ ┆ … ┆ highway08 ┆ createdOn    ┆ is_automatic ┆ num_gears │\n",
      "│ ---  ┆ ---  ┆ ---         ┆ ---   ┆   ┆ ---       ┆ ---          ┆ ---          ┆ ---       │\n",
      "│ i16  ┆ cat  ┆ cat         ┆ f32   ┆   ┆ u8        ┆ datetime[μs] ┆ str          ┆ u8        │\n",
      "╞══════╪══════╪═════════════╪═══════╪═══╪═══════════╪══════════════╪══════════════╪═══════════╡\n",
      "│ 1993 ┆ Ford ┆ Taurus      ┆ 3.0   ┆ … ┆ 27        ┆ 2013-01-01   ┆ true         ┆ 4         │\n",
      "│      ┆      ┆             ┆       ┆   ┆           ┆ 00:00:00     ┆              ┆           │\n",
      "│ 1993 ┆ Ford ┆ Taurus SHO  ┆ 3.0   ┆ … ┆ 24        ┆ 2013-01-01   ┆ false        ┆ 5         │\n",
      "│      ┆      ┆             ┆       ┆   ┆           ┆ 00:00:00     ┆              ┆           │\n",
      "│ 1993 ┆ Ford ┆ Taurus      ┆ 3.8   ┆ … ┆ 25        ┆ 2013-01-01   ┆ true         ┆ 4         │\n",
      "│      ┆      ┆             ┆       ┆   ┆           ┆ 00:00:00     ┆              ┆           │\n",
      "│ 1993 ┆ Ford ┆ Thunderbird ┆ 3.8   ┆ … ┆ 24        ┆ 2013-01-01   ┆ true         ┆ 4         │\n",
      "│      ┆      ┆             ┆       ┆   ┆           ┆ 00:00:00     ┆              ┆           │\n",
      "│ 1993 ┆ Ford ┆ Thunderbird ┆ 3.8   ┆ … ┆ 21        ┆ 2013-01-01   ┆ true         ┆ 4         │\n",
      "│      ┆      ┆             ┆       ┆   ┆           ┆ 00:00:00     ┆              ┆           │\n",
      "│ …    ┆ …    ┆ …           ┆ …     ┆ … ┆ …         ┆ …            ┆ …            ┆ …         │\n",
      "│ 1993 ┆ Ford ┆ Escort FS   ┆ 1.9   ┆ … ┆ 35        ┆ 2013-01-01   ┆ false        ┆ 5         │\n",
      "│      ┆      ┆             ┆       ┆   ┆           ┆ 00:00:00     ┆              ┆           │\n",
      "│ 1993 ┆ Ford ┆ Tempo       ┆ 2.3   ┆ … ┆ 25        ┆ 2013-01-01   ┆ true         ┆ 3         │\n",
      "│      ┆      ┆             ┆       ┆   ┆           ┆ 00:00:00     ┆              ┆           │\n",
      "│ 1993 ┆ Ford ┆ Tempo       ┆ 2.3   ┆ … ┆ 30        ┆ 2013-01-01   ┆ false        ┆ 5         │\n",
      "│      ┆      ┆             ┆       ┆   ┆           ┆ 00:00:00     ┆              ┆           │\n",
      "│ 1993 ┆ Ford ┆ Tempo       ┆ 3.0   ┆ … ┆ 22        ┆ 2013-01-01   ┆ true         ┆ 3         │\n",
      "│      ┆      ┆             ┆       ┆   ┆           ┆ 00:00:00     ┆              ┆           │\n",
      "│ 1993 ┆ Ford ┆ Tempo       ┆ 3.0   ┆ … ┆ 26        ┆ 2013-01-01   ┆ false        ┆ 5         │\n",
      "│      ┆      ┆             ┆       ┆   ┆           ┆ 00:00:00     ┆              ┆           │\n",
      "└──────┴──────┴─────────────┴───────┴───┴───────────┴──────────────┴──────────────┴───────────┘\n"
     ]
    }
   ],
   "source": [
    "print(autos\n",
    "      .filter(make='Ford')\n",
    "     )"
   ]
  },
  {
   "cell_type": "markdown",
   "id": "d555832d-447b-48ea-8aaf-bfec16d97f21",
   "metadata": {},
   "source": [
    "### Filtering with Dates"
   ]
  },
  {
   "cell_type": "code",
   "execution_count": 13,
   "id": "e5f94ee8-a100-455c-a75f-70f6265fa88b",
   "metadata": {},
   "outputs": [],
   "source": [
    "mar2018 = datetime(2018, 3, 1)"
   ]
  },
  {
   "cell_type": "raw",
   "id": "508a6a5b-f2b5-4c74-8807-9cfe43bba7f8",
   "metadata": {},
   "source": []
  },
  {
   "cell_type": "code",
   "execution_count": 15,
   "id": "8f890aba-c446-4728-950c-8163295e1bc4",
   "metadata": {},
   "outputs": [
    {
     "name": "stdout",
     "output_type": "stream",
     "text": [
      "shape: (8_694, 15)\n",
      "┌──────┬────────────┬──────────────┬───────┬───┬───────────┬─────────────┬─────────────┬───────────┐\n",
      "│ year ┆ make       ┆ model        ┆ displ ┆ … ┆ highway08 ┆ createdOn   ┆ is_automati ┆ num_gears │\n",
      "│ ---  ┆ ---        ┆ ---          ┆ ---   ┆   ┆ ---       ┆ ---         ┆ c           ┆ ---       │\n",
      "│ i16  ┆ cat        ┆ cat          ┆ f32   ┆   ┆ u8        ┆ datetime[μs ┆ ---         ┆ u8        │\n",
      "│      ┆            ┆              ┆       ┆   ┆           ┆ ]           ┆ str         ┆           │\n",
      "╞══════╪════════════╪══════════════╪═══════╪═══╪═══════════╪═════════════╪═════════════╪═══════════╡\n",
      "│ 2019 ┆ Genesis    ┆ G70 AWD      ┆ 3.3   ┆ … ┆ 25        ┆ 2018-03-02  ┆ true        ┆ 8         │\n",
      "│      ┆            ┆              ┆       ┆   ┆           ┆ 00:00:00    ┆             ┆           │\n",
      "│ 2019 ┆ Genesis    ┆ G70 RWD      ┆ 3.3   ┆ … ┆ 26        ┆ 2018-03-02  ┆ true        ┆ 8         │\n",
      "│      ┆            ┆              ┆       ┆   ┆           ┆ 00:00:00    ┆             ┆           │\n",
      "│ 2019 ┆ Genesis    ┆ G70 AWD      ┆ 2.0   ┆ … ┆ 28        ┆ 2018-03-02  ┆ true        ┆ 8         │\n",
      "│      ┆            ┆              ┆       ┆   ┆           ┆ 00:00:00    ┆             ┆           │\n",
      "│ 2019 ┆ Genesis    ┆ G70 RWD      ┆ 2.0   ┆ … ┆ 30        ┆ 2018-03-02  ┆ true        ┆ 8         │\n",
      "│      ┆            ┆              ┆       ┆   ┆           ┆ 00:00:00    ┆             ┆           │\n",
      "│ 2019 ┆ Genesis    ┆ G70 RWD      ┆ 2.0   ┆ … ┆ 28        ┆ 2018-03-02  ┆ false       ┆ 6         │\n",
      "│      ┆            ┆              ┆       ┆   ┆           ┆ 00:00:00    ┆             ┆           │\n",
      "│ …    ┆ …          ┆ …            ┆ …     ┆ … ┆ …         ┆ …           ┆ …           ┆ …         │\n",
      "│ 2025 ┆ Mitsubishi ┆ Outlander    ┆ 2.4   ┆ … ┆ 27        ┆ 2024-11-18  ┆ true        ┆ 1         │\n",
      "│      ┆            ┆ PHEV         ┆       ┆   ┆           ┆ 00:00:00    ┆             ┆           │\n",
      "│ 2025 ┆ Volvo      ┆ S60 T8 AWD   ┆ 2.0   ┆ … ┆ 33        ┆ 2024-11-18  ┆ true        ┆ 8         │\n",
      "│      ┆            ┆              ┆       ┆   ┆           ┆ 00:00:00    ┆             ┆           │\n",
      "│ 2025 ┆ Volvo      ┆ V60 T8 AWD   ┆ 2.0   ┆ … ┆ 33        ┆ 2024-11-18  ┆ true        ┆ 8         │\n",
      "│      ┆            ┆              ┆       ┆   ┆           ┆ 00:00:00    ┆             ┆           │\n",
      "│ 2025 ┆ Volvo      ┆ XC60 T8 AWD  ┆ 2.0   ┆ … ┆ 28        ┆ 2024-11-18  ┆ true        ┆ 8         │\n",
      "│      ┆            ┆              ┆       ┆   ┆           ┆ 00:00:00    ┆             ┆           │\n",
      "│ 2025 ┆ Volvo      ┆ XC90 T8 AWD  ┆ 2.0   ┆ … ┆ 27        ┆ 2024-11-18  ┆ true        ┆ 8         │\n",
      "│      ┆            ┆              ┆       ┆   ┆           ┆ 00:00:00    ┆             ┆           │\n",
      "└──────┴────────────┴──────────────┴───────┴───┴───────────┴─────────────┴─────────────┴───────────┘\n"
     ]
    }
   ],
   "source": [
    "print(autos\n",
    "      .filter(pl.col('createdOn') >= mar2018)\n",
    "      .sort('createdOn')\n",
    "     )"
   ]
  },
  {
   "cell_type": "code",
   "execution_count": 17,
   "id": "cf1bf34f-1073-480f-92a2-2977f6339dea",
   "metadata": {},
   "outputs": [
    {
     "name": "stdout",
     "output_type": "stream",
     "text": [
      "shape: (328, 5)\n",
      "┌──────┬────────┬────────────────┬──────────────┬────────┐\n",
      "│ year ┆ make   ┆ model          ┆ VClass       ┆ city08 │\n",
      "│ ---  ┆ ---    ┆ ---            ┆ ---          ┆ ---    │\n",
      "│ i16  ┆ cat    ┆ cat            ┆ cat          ┆ u8     │\n",
      "╞══════╪════════╪════════════════╪══════════════╪════════╡\n",
      "│ 1985 ┆ Honda  ┆ Civic CRX HF   ┆ Two Seaters  ┆ 40     │\n",
      "│ 2003 ┆ Honda  ┆ Civic Hybrid   ┆ Compact Cars ┆ 40     │\n",
      "│ 2006 ┆ Honda  ┆ Civic Hybrid   ┆ Compact Cars ┆ 40     │\n",
      "│ 2007 ┆ Honda  ┆ Civic Hybrid   ┆ Compact Cars ┆ 40     │\n",
      "│ 2008 ┆ Honda  ┆ Civic Hybrid   ┆ Compact Cars ┆ 40     │\n",
      "│ …    ┆ …      ┆ …              ┆ …            ┆ …      │\n",
      "│ 2024 ┆ Toyota ┆ Corolla Hybrid ┆ Compact Cars ┆ 50     │\n",
      "│ 2024 ┆ Toyota ┆ Prius Prime    ┆ Midsize Cars ┆ 50     │\n",
      "│ 2025 ┆ Honda  ┆ Civic 4Dr      ┆ Midsize Cars ┆ 50     │\n",
      "│ 2025 ┆ Toyota ┆ Corolla Hybrid ┆ Compact Cars ┆ 50     │\n",
      "│ 2025 ┆ Honda  ┆ Civic 5Dr      ┆ Large Cars   ┆ 50     │\n",
      "└──────┴────────┴────────────────┴──────────────┴────────┘\n"
     ]
    }
   ],
   "source": [
    "print(autos\n",
    "      .filter(pl.col('city08').is_between(40, 50))\n",
    "      .sort('city08')\n",
    "      .select(['year', 'make', 'model', 'VClass', 'city08'])\n",
    "     )"
   ]
  },
  {
   "cell_type": "code",
   "execution_count": 19,
   "id": "90a0610a-16fa-4f1e-babb-2e997d709198",
   "metadata": {},
   "outputs": [],
   "source": [
    "mar2013 = mar2018 - timedelta(days=5*365)"
   ]
  },
  {
   "cell_type": "code",
   "execution_count": 20,
   "id": "ce2a612f-c64e-4634-b53f-0abb99f79a43",
   "metadata": {},
   "outputs": [
    {
     "name": "stdout",
     "output_type": "stream",
     "text": [
      "shape: (5_344, 15)\n",
      "┌──────┬────────────┬──────────────┬───────┬───┬───────────┬─────────────┬─────────────┬───────────┐\n",
      "│ year ┆ make       ┆ model        ┆ displ ┆ … ┆ highway08 ┆ createdOn   ┆ is_automati ┆ num_gears │\n",
      "│ ---  ┆ ---        ┆ ---          ┆ ---   ┆   ┆ ---       ┆ ---         ┆ c           ┆ ---       │\n",
      "│ i16  ┆ cat        ┆ cat          ┆ f32   ┆   ┆ u8        ┆ datetime[μs ┆ ---         ┆ u8        │\n",
      "│      ┆            ┆              ┆       ┆   ┆           ┆ ]           ┆ str         ┆           │\n",
      "╞══════╪════════════╪══════════════╪═══════╪═══╪═══════════╪═════════════╪═════════════╪═══════════╡\n",
      "│ 2014 ┆ Lexus      ┆ GS 350       ┆ 3.5   ┆ … ┆ 29        ┆ 2013-10-29  ┆ true        ┆ 8         │\n",
      "│      ┆            ┆              ┆       ┆   ┆           ┆ 00:00:00    ┆             ┆           │\n",
      "│ 2014 ┆ Nissan     ┆ Frontier 2WD ┆ 2.5   ┆ … ┆ 23        ┆ 2013-10-29  ┆ true        ┆ 5         │\n",
      "│      ┆            ┆              ┆       ┆   ┆           ┆ 00:00:00    ┆             ┆           │\n",
      "│ 2014 ┆ Nissan     ┆ Frontier 2WD ┆ 2.5   ┆ … ┆ 23        ┆ 2013-10-29  ┆ false       ┆ 5         │\n",
      "│      ┆            ┆              ┆       ┆   ┆           ┆ 00:00:00    ┆             ┆           │\n",
      "│ 2014 ┆ Nissan     ┆ Frontier 2WD ┆ 4.0   ┆ … ┆ 22        ┆ 2013-10-29  ┆ true        ┆ 5         │\n",
      "│      ┆            ┆              ┆       ┆   ┆           ┆ 00:00:00    ┆             ┆           │\n",
      "│ 2014 ┆ Nissan     ┆ Frontier 2WD ┆ 4.0   ┆ … ┆ 22        ┆ 2013-10-29  ┆ false       ┆ 6         │\n",
      "│      ┆            ┆              ┆       ┆   ┆           ┆ 00:00:00    ┆             ┆           │\n",
      "│ …    ┆ …          ┆ …            ┆ …     ┆ … ┆ …         ┆ …           ┆ …           ┆ …         │\n",
      "│ 2018 ┆ Land Rover ┆ Range Rover  ┆ 5.0   ┆ … ┆ 21        ┆ 2018-02-26  ┆ true        ┆ 8         │\n",
      "│      ┆            ┆ LWB          ┆       ┆   ┆           ┆ 00:00:00    ┆             ┆           │\n",
      "│ 2018 ┆ Land Rover ┆ Range Rover  ┆ 5.0   ┆ … ┆ 19        ┆ 2018-02-26  ┆ true        ┆ 8         │\n",
      "│      ┆            ┆ SVA          ┆       ┆   ┆           ┆ 00:00:00    ┆             ┆           │\n",
      "│ 2018 ┆ Land Rover ┆ Range Rover  ┆ 5.0   ┆ … ┆ 19        ┆ 2018-02-26  ┆ true        ┆ 8         │\n",
      "│      ┆            ┆ LWB SVA      ┆       ┆   ┆           ┆ 00:00:00    ┆             ┆           │\n",
      "│ 2018 ┆ Land Rover ┆ Range Rover  ┆ 5.0   ┆ … ┆ 22        ┆ 2018-02-26  ┆ true        ┆ 8         │\n",
      "│      ┆            ┆ Sport        ┆       ┆   ┆           ┆ 00:00:00    ┆             ┆           │\n",
      "│ 2018 ┆ Land Rover ┆ Range Rover  ┆ 5.0   ┆ … ┆ 20        ┆ 2018-02-26  ┆ true        ┆ 8         │\n",
      "│      ┆            ┆ Sport SVR    ┆       ┆   ┆           ┆ 00:00:00    ┆             ┆           │\n",
      "└──────┴────────────┴──────────────┴───────┴───┴───────────┴─────────────┴─────────────┴───────────┘\n"
     ]
    }
   ],
   "source": [
    "print(autos\n",
    "      .filter(pl.col('createdOn').is_between(mar2013, mar2018))\n",
    "      .sort('createdOn')\n",
    "     )"
   ]
  },
  {
   "cell_type": "markdown",
   "id": "0abf84d4-3f52-4cd5-b86c-47dbf162ce37",
   "metadata": {},
   "source": [
    "### Advanced Filtering Techniques"
   ]
  },
  {
   "cell_type": "code",
   "execution_count": 21,
   "id": "e8787a68-e12f-4c6b-9617-25eb584ec20f",
   "metadata": {},
   "outputs": [],
   "source": [
    "def standardize(col):\n",
    "    return (col - col.mean()) / col.std()"
   ]
  },
  {
   "cell_type": "code",
   "execution_count": 22,
   "id": "3b94044e-040e-4a8a-ac47-dc812e40fb52",
   "metadata": {},
   "outputs": [
    {
     "name": "stdout",
     "output_type": "stream",
     "text": [
      "shape: (949, 5)\n",
      "┌──────┬───────────────┬──────────────────────────┬─────────────────────────────────┬────────┐\n",
      "│ year ┆ make          ┆ model                    ┆ VClass                          ┆ city08 │\n",
      "│ ---  ┆ ---           ┆ ---                      ┆ ---                             ┆ ---    │\n",
      "│ i16  ┆ cat           ┆ cat                      ┆ cat                             ┆ u8     │\n",
      "╞══════╪═══════════════╪══════════════════════════╪═════════════════════════════════╪════════╡\n",
      "│ 2000 ┆ Nissan        ┆ Altra EV                 ┆ Midsize Station Wagons          ┆ 81     │\n",
      "│ 2000 ┆ Toyota        ┆ RAV4 EV                  ┆ Sport Utility Vehicle - 2WD     ┆ 81     │\n",
      "│ 2001 ┆ Toyota        ┆ RAV4 EV                  ┆ Sport Utility Vehicle - 2WD     ┆ 81     │\n",
      "│ 2001 ┆ Ford          ┆ Th!nk                    ┆ Two Seaters                     ┆ 74     │\n",
      "│ 2001 ┆ Nissan        ┆ Hyper-Mini               ┆ Two Seaters                     ┆ 84     │\n",
      "│ …    ┆ …             ┆ …                        ┆ …                               ┆ …      │\n",
      "│ 2024 ┆ Mercedes-Benz ┆ EQB 300 4matic           ┆ Small Sport Utility Vehicle 4W… ┆ 89     │\n",
      "│ 2024 ┆ Tesla         ┆ Model 3 Long Range AWD-E ┆ Midsize Cars                    ┆ 133    │\n",
      "│ 2024 ┆ Tesla         ┆ Model Y Long Range AWD-I ┆ Small Sport Utility Vehicle 4W… ┆ 123    │\n",
      "│ 2024 ┆ Tesla         ┆ Model Y Long Range RWD   ┆ Small Sport Utility Vehicle 2W… ┆ 128    │\n",
      "│ 2024 ┆ Tesla         ┆ Model Y RWD              ┆ Small Sport Utility Vehicle 2W… ┆ 128    │\n",
      "└──────┴───────────────┴──────────────────────────┴─────────────────────────────────┴────────┘\n"
     ]
    }
   ],
   "source": [
    "print(autos\n",
    "      .filter(standardize(pl.col('city08')) > 3)\n",
    "      .select(['year', 'make', 'model', 'VClass', 'city08'])\n",
    "     )"
   ]
  },
  {
   "cell_type": "code",
   "execution_count": 23,
   "id": "6709d696-d96d-4c2f-8429-a0d88e0535ef",
   "metadata": {},
   "outputs": [
    {
     "name": "stdout",
     "output_type": "stream",
     "text": [
      "shape: (792, 5)\n",
      "┌──────┬───────────────┬───────────────┬──────────────────────┬────────┐\n",
      "│ year ┆ make          ┆ model         ┆ VClass               ┆ city08 │\n",
      "│ ---  ┆ ---           ┆ ---           ┆ ---                  ┆ ---    │\n",
      "│ i16  ┆ cat           ┆ cat           ┆ cat                  ┆ u8     │\n",
      "╞══════╪═══════════════╪═══════════════╪══════════════════════╪════════╡\n",
      "│ 1985 ┆ Ferrari       ┆ Testarossa    ┆ Two Seaters          ┆ 9      │\n",
      "│ 1993 ┆ CX Automotive ┆ XM v6         ┆ Midsize Cars         ┆ 13     │\n",
      "│ 1993 ┆ CX Automotive ┆ XM v6a        ┆ Midsize Cars         ┆ 13     │\n",
      "│ 1993 ┆ Lexus         ┆ LS 400        ┆ Midsize Cars         ┆ 16     │\n",
      "│ 1993 ┆ CX Automotive ┆ XM v6 Break   ┆ Small Station Wagons ┆ 13     │\n",
      "│ …    ┆ …             ┆ …             ┆ …                    ┆ …      │\n",
      "│ 1993 ┆ Lexus         ┆ SC 300/SC 400 ┆ Subcompact Cars      ┆ 16     │\n",
      "│ 1993 ┆ Mitsubishi    ┆ Mirage        ┆ Subcompact Cars      ┆ 28     │\n",
      "│ 1993 ┆ Plymouth      ┆ Colt          ┆ Subcompact Cars      ┆ 28     │\n",
      "│ 1993 ┆ Lexus         ┆ ES 300        ┆ Compact Cars         ┆ 16     │\n",
      "│ 1993 ┆ Lexus         ┆ ES 300        ┆ Compact Cars         ┆ 16     │\n",
      "└──────┴───────────────┴───────────────┴──────────────────────┴────────┘\n"
     ]
    }
   ],
   "source": [
    "print(autos\n",
    "      .filter(standardize(pl.col('city08')).over(['year', 'make']) > 3)\n",
    "      .select(['year', 'make', 'model', 'VClass', 'city08'])\n",
    "     )"
   ]
  },
  {
   "cell_type": "markdown",
   "id": "13e60bad-f689-4c78-a610-d7eebca3199a",
   "metadata": {},
   "source": [
    "### More Filtering with Window Expressions"
   ]
  },
  {
   "cell_type": "code",
   "execution_count": 26,
   "id": "368dfc4c-e6f8-4039-b1e4-a6390a227153",
   "metadata": {},
   "outputs": [
    {
     "name": "stdout",
     "output_type": "stream",
     "text": [
      "shape: (48_231, 16)\n",
      "┌──────┬────────────┬──────────────┬───────┬───┬─────────────┬─────────────┬───────────┬───────────┐\n",
      "│ year ┆ make       ┆ model        ┆ displ ┆ … ┆ createdOn   ┆ is_automati ┆ num_gears ┆ model_age │\n",
      "│ ---  ┆ ---        ┆ ---          ┆ ---   ┆   ┆ ---         ┆ c           ┆ ---       ┆ ---       │\n",
      "│ i16  ┆ cat        ┆ cat          ┆ f32   ┆   ┆ datetime[μs ┆ ---         ┆ u8        ┆ i16       │\n",
      "│      ┆            ┆              ┆       ┆   ┆ ]           ┆ str         ┆           ┆           │\n",
      "╞══════╪════════════╪══════════════╪═══════╪═══╪═════════════╪═════════════╪═══════════╪═══════════╡\n",
      "│ 1985 ┆ Alfa Romeo ┆ Spider       ┆ 2.0   ┆ … ┆ 2013-01-01  ┆ false       ┆ 5         ┆ 1         │\n",
      "│      ┆            ┆ Veloce 2000  ┆       ┆   ┆ 00:00:00    ┆             ┆           ┆           │\n",
      "│ 1985 ┆ Ferrari    ┆ Testarossa   ┆ 4.9   ┆ … ┆ 2013-01-01  ┆ false       ┆ 5         ┆ 8         │\n",
      "│      ┆            ┆              ┆       ┆   ┆ 00:00:00    ┆             ┆           ┆           │\n",
      "│ 1985 ┆ Dodge      ┆ Charger      ┆ 2.2   ┆ … ┆ 2013-01-01  ┆ false       ┆ 5         ┆ 39        │\n",
      "│      ┆            ┆              ┆       ┆   ┆ 00:00:00    ┆             ┆           ┆           │\n",
      "│ 1985 ┆ Dodge      ┆ B150/B250    ┆ 5.2   ┆ … ┆ 2013-01-01  ┆ true        ┆ 3         ┆ 10        │\n",
      "│      ┆            ┆ Wagon 2WD    ┆       ┆   ┆ 00:00:00    ┆             ┆           ┆           │\n",
      "│ 1993 ┆ Subaru     ┆ Legacy AWD   ┆ 2.2   ┆ … ┆ 2013-01-01  ┆ false       ┆ 5         ┆ 2         │\n",
      "│      ┆            ┆ Turbo        ┆       ┆   ┆ 00:00:00    ┆             ┆           ┆           │\n",
      "│ …    ┆ …          ┆ …            ┆ …     ┆ … ┆ …           ┆ …           ┆ …         ┆ …         │\n",
      "│ 1993 ┆ Subaru     ┆ Legacy       ┆ 2.2   ┆ … ┆ 2013-01-01  ┆ true        ┆ 4         ┆ 8         │\n",
      "│      ┆            ┆              ┆       ┆   ┆ 00:00:00    ┆             ┆           ┆           │\n",
      "│ 1993 ┆ Subaru     ┆ Legacy       ┆ 2.2   ┆ … ┆ 2013-01-01  ┆ false       ┆ 5         ┆ 8         │\n",
      "│      ┆            ┆              ┆       ┆   ┆ 00:00:00    ┆             ┆           ┆           │\n",
      "│ 1993 ┆ Subaru     ┆ Legacy AWD   ┆ 2.2   ┆ … ┆ 2013-01-01  ┆ true        ┆ 4         ┆ 33        │\n",
      "│      ┆            ┆              ┆       ┆   ┆ 00:00:00    ┆             ┆           ┆           │\n",
      "│ 1993 ┆ Subaru     ┆ Legacy AWD   ┆ 2.2   ┆ … ┆ 2013-01-01  ┆ false       ┆ 5         ┆ 33        │\n",
      "│      ┆            ┆              ┆       ┆   ┆ 00:00:00    ┆             ┆           ┆           │\n",
      "│ 1993 ┆ Subaru     ┆ Legacy AWD   ┆ 2.2   ┆ … ┆ 2013-01-01  ┆ true        ┆ 4         ┆ 2         │\n",
      "│      ┆            ┆ Turbo        ┆       ┆   ┆ 00:00:00    ┆             ┆           ┆           │\n",
      "└──────┴────────────┴──────────────┴───────┴───┴─────────────┴─────────────┴───────────┴───────────┘\n"
     ]
    }
   ],
   "source": [
    "print(autos\n",
    "      .with_columns(model_age=(pl.col('year').max() - pl.col('year').min())\n",
    "                    .over('model'))\n",
    "     )"
   ]
  },
  {
   "cell_type": "code",
   "execution_count": 27,
   "id": "abc4e968-a469-42da-a241-e027df4fab14",
   "metadata": {},
   "outputs": [
    {
     "name": "stdout",
     "output_type": "stream",
     "text": [
      "shape: (19_207, 16)\n",
      "┌──────┬────────┬────────────┬───────┬───┬──────────────┬──────────────┬───────────┬───────────┐\n",
      "│ year ┆ make   ┆ model      ┆ displ ┆ … ┆ createdOn    ┆ is_automatic ┆ num_gears ┆ model_age │\n",
      "│ ---  ┆ ---    ┆ ---        ┆ ---   ┆   ┆ ---          ┆ ---          ┆ ---       ┆ ---       │\n",
      "│ i16  ┆ cat    ┆ cat        ┆ f32   ┆   ┆ datetime[μs] ┆ str          ┆ u8        ┆ i16       │\n",
      "╞══════╪════════╪════════════╪═══════╪═══╪══════════════╪══════════════╪═══════════╪═══════════╡\n",
      "│ 1985 ┆ Dodge  ┆ Charger    ┆ 2.2   ┆ … ┆ 2013-01-01   ┆ false        ┆ 5         ┆ 39        │\n",
      "│      ┆        ┆            ┆       ┆   ┆ 00:00:00     ┆              ┆           ┆           │\n",
      "│ 1993 ┆ Toyota ┆ Corolla    ┆ 1.6   ┆ … ┆ 2013-01-01   ┆ true         ┆ 3         ┆ 41        │\n",
      "│      ┆        ┆            ┆       ┆   ┆ 00:00:00     ┆              ┆           ┆           │\n",
      "│ 1993 ┆ Toyota ┆ Corolla    ┆ 1.6   ┆ … ┆ 2013-01-01   ┆ false        ┆ 5         ┆ 41        │\n",
      "│      ┆        ┆            ┆       ┆   ┆ 00:00:00     ┆              ┆           ┆           │\n",
      "│ 1993 ┆ Toyota ┆ Corolla    ┆ 1.8   ┆ … ┆ 2013-01-01   ┆ true         ┆ 4         ┆ 41        │\n",
      "│      ┆        ┆            ┆       ┆   ┆ 00:00:00     ┆              ┆           ┆           │\n",
      "│ 1993 ┆ Toyota ┆ Corolla    ┆ 1.8   ┆ … ┆ 2013-01-01   ┆ false        ┆ 5         ┆ 41        │\n",
      "│      ┆        ┆            ┆       ┆   ┆ 00:00:00     ┆              ┆           ┆           │\n",
      "│ …    ┆ …      ┆ …          ┆ …     ┆ … ┆ …            ┆ …            ┆ …         ┆ …         │\n",
      "│ 1993 ┆ Saturn ┆ SL         ┆ 1.9   ┆ … ┆ 2013-01-01   ┆ true         ┆ 4         ┆ 11        │\n",
      "│      ┆        ┆            ┆       ┆   ┆ 00:00:00     ┆              ┆           ┆           │\n",
      "│ 1993 ┆ Saturn ┆ SL         ┆ 1.9   ┆ … ┆ 2013-01-01   ┆ false        ┆ 5         ┆ 11        │\n",
      "│      ┆        ┆            ┆       ┆   ┆ 00:00:00     ┆              ┆           ┆           │\n",
      "│ 1993 ┆ Saturn ┆ SL         ┆ 1.9   ┆ … ┆ 2013-01-01   ┆ false        ┆ 5         ┆ 11        │\n",
      "│      ┆        ┆            ┆       ┆   ┆ 00:00:00     ┆              ┆           ┆           │\n",
      "│ 1993 ┆ Subaru ┆ Legacy AWD ┆ 2.2   ┆ … ┆ 2013-01-01   ┆ true         ┆ 4         ┆ 33        │\n",
      "│      ┆        ┆            ┆       ┆   ┆ 00:00:00     ┆              ┆           ┆           │\n",
      "│ 1993 ┆ Subaru ┆ Legacy AWD ┆ 2.2   ┆ … ┆ 2013-01-01   ┆ false        ┆ 5         ┆ 33        │\n",
      "│      ┆        ┆            ┆       ┆   ┆ 00:00:00     ┆              ┆           ┆           │\n",
      "└──────┴────────┴────────────┴───────┴───┴──────────────┴──────────────┴───────────┴───────────┘\n"
     ]
    }
   ],
   "source": [
    "print(autos\n",
    "      .with_columns(model_age=(pl.col('year').max() - pl.col('year').min())\n",
    "                    .over('model'))\n",
    "      .filter(pl.col('model_age') > 10)\n",
    "     )"
   ]
  },
  {
   "cell_type": "markdown",
   "id": "ae09382e-d41d-4da4-a7d1-6b055d6f87b9",
   "metadata": {},
   "source": [
    "### Manipulating Data with Conditional Expressions"
   ]
  },
  {
   "cell_type": "code",
   "execution_count": 29,
   "id": "b7e409bd-3835-457f-b15d-f03a79b01804",
   "metadata": {},
   "outputs": [
    {
     "name": "stdout",
     "output_type": "stream",
     "text": [
      "shape: (15, 2)\n",
      "┌─────────────────────────────┬───────┐\n",
      "│ fuelType                    ┆ len   │\n",
      "│ ---                         ┆ ---   │\n",
      "│ cat                         ┆ u32   │\n",
      "╞═════════════════════════════╪═══════╡\n",
      "│ Gasoline or natural gas     ┆ 20    │\n",
      "│ Midgrade                    ┆ 166   │\n",
      "│ Regular Gas and Electricity ┆ 116   │\n",
      "│ Hydrogen                    ┆ 32    │\n",
      "│ Regular Gas or Electricity  ┆ 4     │\n",
      "│ …                           ┆ …     │\n",
      "│ Diesel                      ┆ 1284  │\n",
      "│ Regular                     ┆ 29131 │\n",
      "│ Gasoline or E85             ┆ 1402  │\n",
      "│ Premium Gas or Electricity  ┆ 55    │\n",
      "│ Gasoline or propane         ┆ 8     │\n",
      "└─────────────────────────────┴───────┘\n"
     ]
    }
   ],
   "source": [
    "print(autos\n",
    "      .group_by('fuelType')\n",
    "      .len()\n",
    "     )"
   ]
  },
  {
   "cell_type": "code",
   "execution_count": 31,
   "id": "899847d2-fb58-4d09-9372-634799bf651d",
   "metadata": {},
   "outputs": [
    {
     "name": "stdout",
     "output_type": "stream",
     "text": [
      "shape: (15, 1)\n",
      "┌─────────────────────────────────┐\n",
      "│ fuelType                        │\n",
      "│ ---                             │\n",
      "│ struct[2]                       │\n",
      "╞═════════════════════════════════╡\n",
      "│ {\"Regular\",29131}               │\n",
      "│ {\"Premium\",14699}               │\n",
      "│ {\"Gasoline or E85\",1402}        │\n",
      "│ {\"Diesel\",1284}                 │\n",
      "│ {\"Electricity\",930}             │\n",
      "│ …                               │\n",
      "│ {\"Premium Gas or Electricity\",… │\n",
      "│ {\"Hydrogen\",32}                 │\n",
      "│ {\"Gasoline or natural gas\",20}  │\n",
      "│ {\"Gasoline or propane\",8}       │\n",
      "│ {\"Regular Gas or Electricity\",… │\n",
      "└─────────────────────────────────┘\n"
     ]
    }
   ],
   "source": [
    "print(autos\n",
    "      .select(pl.col('fuelType').value_counts(sort=True))\n",
    "     )"
   ]
  },
  {
   "cell_type": "code",
   "execution_count": 32,
   "id": "8225d6bc-01c3-4eed-845c-19619e948108",
   "metadata": {},
   "outputs": [
    {
     "name": "stdout",
     "output_type": "stream",
     "text": [
      "shape: (15, 2)\n",
      "┌────────────────────────────┬───────┐\n",
      "│ fuelType                   ┆ count │\n",
      "│ ---                        ┆ ---   │\n",
      "│ cat                        ┆ u32   │\n",
      "╞════════════════════════════╪═══════╡\n",
      "│ Regular                    ┆ 29131 │\n",
      "│ Premium                    ┆ 14699 │\n",
      "│ Gasoline or E85            ┆ 1402  │\n",
      "│ Diesel                     ┆ 1284  │\n",
      "│ Electricity                ┆ 930   │\n",
      "│ …                          ┆ …     │\n",
      "│ Premium Gas or Electricity ┆ 55    │\n",
      "│ Hydrogen                   ┆ 32    │\n",
      "│ Gasoline or natural gas    ┆ 20    │\n",
      "│ Gasoline or propane        ┆ 8     │\n",
      "│ Regular Gas or Electricity ┆ 4     │\n",
      "└────────────────────────────┴───────┘\n"
     ]
    }
   ],
   "source": [
    "print(autos\n",
    "      .select(pl.col('fuelType').value_counts(sort=True))\n",
    "      .unnest('fuelType')\n",
    "     )"
   ]
  },
  {
   "cell_type": "code",
   "execution_count": 35,
   "id": "96be2404-eec4-4c1b-b8f7-643c132e5bf6",
   "metadata": {},
   "outputs": [
    {
     "name": "stdout",
     "output_type": "stream",
     "text": [
      "shape: (15, 1)\n",
      "┌────────────────────────────┐\n",
      "│ fuelType                   │\n",
      "│ ---                        │\n",
      "│ cat                        │\n",
      "╞════════════════════════════╡\n",
      "│ Regular                    │\n",
      "│ Premium                    │\n",
      "│ Gasoline or E85            │\n",
      "│ Diesel                     │\n",
      "│ Electricity                │\n",
      "│ …                          │\n",
      "│ Premium Gas or Electricity │\n",
      "│ Hydrogen                   │\n",
      "│ Gasoline or natural gas    │\n",
      "│ Gasoline or propane        │\n",
      "│ Regular Gas or Electricity │\n",
      "└────────────────────────────┘\n"
     ]
    }
   ],
   "source": [
    "print(autos\n",
    "      .select(pl.col('fuelType')\n",
    "              .value_counts(sort=True)\n",
    "              .struct[0])\n",
    "     )"
   ]
  },
  {
   "cell_type": "markdown",
   "id": "daee843b-550a-419c-ab79-05db413c82f5",
   "metadata": {},
   "source": [
    "##### Building `fuelTypeSimple` Expression\n",
    "\n",
    "```sh\n",
    "if 'Diesel' in fuel_type:\n",
    "    fuel_type_simple = 'Diesel'\n",
    "elif 'CNG' in fuel_type:\n",
    "    fuel_type_simple = 'CNG'\n",
    "elif 'Electricity' in fuel_type:\n",
    "    fuel_type_simple = 'Electric'\n",
    "else:\n",
    "    fuel_type_simple = 'Gasoline'"
   ]
  },
  {
   "cell_type": "markdown",
   "id": "6a308eec-d15f-4f4c-a87c-c09caf7dbcec",
   "metadata": {},
   "source": [
    "##### Polar's Format\n",
    "\n",
    "```sh\n",
    "(pl.when(COND_EXPR)\n",
    "   .then(EXPR)\n",
    " .when(COND_EXPR2)\n",
    "   .then(EXPR2)\n",
    " ... \n",
    " .otherwise(EXPRN)"
   ]
  },
  {
   "cell_type": "code",
   "execution_count": 36,
   "id": "7793a0e7-bbbe-4a5b-9b5f-5110478374f9",
   "metadata": {},
   "outputs": [],
   "source": [
    "fuel_str = pl.col('fuelType').cast(pl.String)"
   ]
  },
  {
   "cell_type": "code",
   "execution_count": 37,
   "id": "fad1b12f-b260-4864-8617-1e23f86790a4",
   "metadata": {},
   "outputs": [],
   "source": [
    "simple = (pl.when(fuel_str.str.contains('Diesel')).then(pl.lit('Diesel'))\n",
    "          .when(fuel_str.str.contains('CNG')).then(pl.lit('CNG'))\n",
    "          .when(fuel_str.str.contains('Electricity')).then(pl.lit('Electric'))\n",
    "          .otherwise(pl.lit('Gasoline')))"
   ]
  },
  {
   "cell_type": "code",
   "execution_count": 38,
   "id": "271fa275-aeac-4790-aca8-6f02d2da30dc",
   "metadata": {},
   "outputs": [
    {
     "name": "stdout",
     "output_type": "stream",
     "text": [
      "shape: (48_231, 16)\n",
      "┌──────┬────────────┬─────────────┬───────┬───┬─────────────┬─────────────┬───────────┬────────────┐\n",
      "│ year ┆ make       ┆ model       ┆ displ ┆ … ┆ createdOn   ┆ is_automati ┆ num_gears ┆ fuelTypeSi │\n",
      "│ ---  ┆ ---        ┆ ---         ┆ ---   ┆   ┆ ---         ┆ c           ┆ ---       ┆ mple       │\n",
      "│ i16  ┆ cat        ┆ cat         ┆ f32   ┆   ┆ datetime[μs ┆ ---         ┆ u8        ┆ ---        │\n",
      "│      ┆            ┆             ┆       ┆   ┆ ]           ┆ str         ┆           ┆ str        │\n",
      "╞══════╪════════════╪═════════════╪═══════╪═══╪═════════════╪═════════════╪═══════════╪════════════╡\n",
      "│ 1985 ┆ Alfa Romeo ┆ Spider      ┆ 2.0   ┆ … ┆ 2013-01-01  ┆ false       ┆ 5         ┆ Gasoline   │\n",
      "│      ┆            ┆ Veloce 2000 ┆       ┆   ┆ 00:00:00    ┆             ┆           ┆            │\n",
      "│ 1985 ┆ Ferrari    ┆ Testarossa  ┆ 4.9   ┆ … ┆ 2013-01-01  ┆ false       ┆ 5         ┆ Gasoline   │\n",
      "│      ┆            ┆             ┆       ┆   ┆ 00:00:00    ┆             ┆           ┆            │\n",
      "│ 1985 ┆ Dodge      ┆ Charger     ┆ 2.2   ┆ … ┆ 2013-01-01  ┆ false       ┆ 5         ┆ Gasoline   │\n",
      "│      ┆            ┆             ┆       ┆   ┆ 00:00:00    ┆             ┆           ┆            │\n",
      "│ 1985 ┆ Dodge      ┆ B150/B250   ┆ 5.2   ┆ … ┆ 2013-01-01  ┆ true        ┆ 3         ┆ Gasoline   │\n",
      "│      ┆            ┆ Wagon 2WD   ┆       ┆   ┆ 00:00:00    ┆             ┆           ┆            │\n",
      "│ 1993 ┆ Subaru     ┆ Legacy AWD  ┆ 2.2   ┆ … ┆ 2013-01-01  ┆ false       ┆ 5         ┆ Gasoline   │\n",
      "│      ┆            ┆ Turbo       ┆       ┆   ┆ 00:00:00    ┆             ┆           ┆            │\n",
      "│ …    ┆ …          ┆ …           ┆ …     ┆ … ┆ …           ┆ …           ┆ …         ┆ …          │\n",
      "│ 1993 ┆ Subaru     ┆ Legacy      ┆ 2.2   ┆ … ┆ 2013-01-01  ┆ true        ┆ 4         ┆ Gasoline   │\n",
      "│      ┆            ┆             ┆       ┆   ┆ 00:00:00    ┆             ┆           ┆            │\n",
      "│ 1993 ┆ Subaru     ┆ Legacy      ┆ 2.2   ┆ … ┆ 2013-01-01  ┆ false       ┆ 5         ┆ Gasoline   │\n",
      "│      ┆            ┆             ┆       ┆   ┆ 00:00:00    ┆             ┆           ┆            │\n",
      "│ 1993 ┆ Subaru     ┆ Legacy AWD  ┆ 2.2   ┆ … ┆ 2013-01-01  ┆ true        ┆ 4         ┆ Gasoline   │\n",
      "│      ┆            ┆             ┆       ┆   ┆ 00:00:00    ┆             ┆           ┆            │\n",
      "│ 1993 ┆ Subaru     ┆ Legacy AWD  ┆ 2.2   ┆ … ┆ 2013-01-01  ┆ false       ┆ 5         ┆ Gasoline   │\n",
      "│      ┆            ┆             ┆       ┆   ┆ 00:00:00    ┆             ┆           ┆            │\n",
      "│ 1993 ┆ Subaru     ┆ Legacy AWD  ┆ 2.2   ┆ … ┆ 2013-01-01  ┆ true        ┆ 4         ┆ Gasoline   │\n",
      "│      ┆            ┆ Turbo       ┆       ┆   ┆ 00:00:00    ┆             ┆           ┆            │\n",
      "└──────┴────────────┴─────────────┴───────┴───┴─────────────┴─────────────┴───────────┴────────────┘\n"
     ]
    }
   ],
   "source": [
    "print(autos\n",
    "      .with_columns(simple.alias('fuelTypeSimple'))\n",
    "     )"
   ]
  },
  {
   "cell_type": "code",
   "execution_count": 39,
   "id": "24c0238d-ffe3-4127-bbc4-de7033d1790c",
   "metadata": {},
   "outputs": [],
   "source": [
    "# Looking at CNG Column, as follows:\n",
    "fuel_str = pl.col('fuelType').cast(pl.String)"
   ]
  },
  {
   "cell_type": "code",
   "execution_count": 40,
   "id": "83e2765f-ca2f-4733-aad8-6a7304762544",
   "metadata": {},
   "outputs": [],
   "source": [
    "simple = (pl.when(fuel_str.str.contains('Diesel')).then(pl.lit('Diesel'))\n",
    "          .when(fuel_str.str.contains('CNG')).then(pl.lit('CNG'))\n",
    "          .when(fuel_str.str.contains('Electricity')).then(pl.lit('Electric'))\n",
    "          .otherwise(pl.lit('Gasoline')))"
   ]
  },
  {
   "cell_type": "code",
   "execution_count": 41,
   "id": "4f29d1ce-fcd1-485a-82c2-6dc75b308c47",
   "metadata": {},
   "outputs": [
    {
     "name": "stdout",
     "output_type": "stream",
     "text": [
      "shape: (60, 16)\n",
      "┌──────┬─────────────┬─────────────┬───────┬───┬─────────────┬────────────┬───────────┬────────────┐\n",
      "│ year ┆ make        ┆ model       ┆ displ ┆ … ┆ createdOn   ┆ is_automat ┆ num_gears ┆ fuelTypeSi │\n",
      "│ ---  ┆ ---         ┆ ---         ┆ ---   ┆   ┆ ---         ┆ ic         ┆ ---       ┆ mple       │\n",
      "│ i16  ┆ cat         ┆ cat         ┆ f32   ┆   ┆ datetime[μs ┆ ---        ┆ u8        ┆ ---        │\n",
      "│      ┆             ┆             ┆       ┆   ┆ ]           ┆ str        ┆           ┆ str        │\n",
      "╞══════╪═════════════╪═════════════╪═══════╪═══╪═════════════╪════════════╪═══════════╪════════════╡\n",
      "│ 1996 ┆ Ford        ┆ Crown       ┆ 4.6   ┆ … ┆ 2013-01-01  ┆ true       ┆ 4         ┆ CNG        │\n",
      "│      ┆             ┆ Victoria    ┆       ┆   ┆ 00:00:00    ┆            ┆           ┆            │\n",
      "│      ┆             ┆ CNG         ┆       ┆   ┆             ┆            ┆           ┆            │\n",
      "│ 1997 ┆ Ford        ┆ Crown       ┆ 4.6   ┆ … ┆ 2013-01-01  ┆ true       ┆ 4         ┆ CNG        │\n",
      "│      ┆             ┆ Victoria    ┆       ┆   ┆ 00:00:00    ┆            ┆           ┆            │\n",
      "│      ┆             ┆ CNG         ┆       ┆   ┆             ┆            ┆           ┆            │\n",
      "│ 1998 ┆ Honda       ┆ Civic CNG   ┆ 1.6   ┆ … ┆ 2013-01-01  ┆ true       ┆ 4         ┆ CNG        │\n",
      "│      ┆             ┆             ┆       ┆   ┆ 00:00:00    ┆            ┆           ┆            │\n",
      "│ 1998 ┆ Ford        ┆ F250 Pickup ┆ 5.4   ┆ … ┆ 2013-01-01  ┆ true       ┆ 4         ┆ CNG        │\n",
      "│      ┆             ┆ 2WD CNG     ┆       ┆   ┆ 00:00:00    ┆            ┆           ┆            │\n",
      "│ 1998 ┆ Ford        ┆ E250        ┆ 5.4   ┆ … ┆ 2013-01-01  ┆ true       ┆ 4         ┆ CNG        │\n",
      "│      ┆             ┆ Econoline   ┆       ┆   ┆ 00:00:00    ┆            ┆           ┆            │\n",
      "│      ┆             ┆ 2WD CNG     ┆       ┆   ┆             ┆            ┆           ┆            │\n",
      "│ …    ┆ …           ┆ …           ┆ …     ┆ … ┆ …           ┆ …          ┆ …         ┆ …          │\n",
      "│ 2012 ┆ Honda       ┆ Civic       ┆ 1.8   ┆ … ┆ 2013-01-01  ┆ true       ┆ 5         ┆ CNG        │\n",
      "│      ┆             ┆ Natural Gas ┆       ┆   ┆ 00:00:00    ┆            ┆           ┆            │\n",
      "│ 2013 ┆ Honda       ┆ Civic       ┆ 1.8   ┆ … ┆ 2013-01-01  ┆ true       ┆ 5         ┆ CNG        │\n",
      "│      ┆             ┆ Natural Gas ┆       ┆   ┆ 00:00:00    ┆            ┆           ┆            │\n",
      "│ 2014 ┆ Honda       ┆ Civic       ┆ 1.8   ┆ … ┆ 2014-02-17  ┆ true       ┆ 5         ┆ CNG        │\n",
      "│      ┆             ┆ Natural Gas ┆       ┆   ┆ 00:00:00    ┆            ┆           ┆            │\n",
      "│ 2014 ┆ Mobility    ┆ MV-1 CNG    ┆ 4.6   ┆ … ┆ 2014-09-10  ┆ true       ┆ 4         ┆ CNG        │\n",
      "│      ┆ Ventures    ┆             ┆       ┆   ┆ 00:00:00    ┆            ┆           ┆            │\n",
      "│      ┆ LLC         ┆             ┆       ┆   ┆             ┆            ┆           ┆            │\n",
      "│ 2015 ┆ Honda       ┆ Civic       ┆ 1.8   ┆ … ┆ 2014-11-06  ┆ true       ┆ 5         ┆ CNG        │\n",
      "│      ┆             ┆ Natural Gas ┆       ┆   ┆ 00:00:00    ┆            ┆           ┆            │\n",
      "└──────┴─────────────┴─────────────┴───────┴───┴─────────────┴────────────┴───────────┴────────────┘\n"
     ]
    }
   ],
   "source": [
    "print(autos\n",
    "      .with_columns(fuelTypeSimple=simple)\n",
    "      .filter(pl.col('fuelTypeSimple') == 'CNG')\n",
    "     )"
   ]
  },
  {
   "cell_type": "code",
   "execution_count": 42,
   "id": "9ccb53eb-2d5e-44ef-af04-57cab853c784",
   "metadata": {},
   "outputs": [],
   "source": [
    "top_n = (pl.col('make')\n",
    "         .value_counts(sort=True)\n",
    "         .struct[0]\n",
    "         .head(10)\n",
    "        )"
   ]
  },
  {
   "cell_type": "code",
   "execution_count": 44,
   "id": "7cecb394-dac3-4c13-8477-818a32f4edec",
   "metadata": {},
   "outputs": [],
   "source": [
    "top_expr = (pl.when(pl.col('make').is_in(top_n))\n",
    "            .then(pl.col('make'))\n",
    "            .otherwise(pl.lit('Other'))\n",
    "           )"
   ]
  },
  {
   "cell_type": "code",
   "execution_count": 46,
   "id": "38ab3d74-67d3-413f-b322-b98fd8b68a1f",
   "metadata": {},
   "outputs": [
    {
     "name": "stdout",
     "output_type": "stream",
     "text": [
      "shape: (48_231, 16)\n",
      "┌──────┬────────────┬─────────────┬───────┬───┬─────────────┬─────────────┬───────────┬────────────┐\n",
      "│ year ┆ make       ┆ model       ┆ displ ┆ … ┆ createdOn   ┆ is_automati ┆ num_gears ┆ simple_mak │\n",
      "│ ---  ┆ ---        ┆ ---         ┆ ---   ┆   ┆ ---         ┆ c           ┆ ---       ┆ e          │\n",
      "│ i16  ┆ cat        ┆ cat         ┆ f32   ┆   ┆ datetime[μs ┆ ---         ┆ u8        ┆ ---        │\n",
      "│      ┆            ┆             ┆       ┆   ┆ ]           ┆ str         ┆           ┆ cat        │\n",
      "╞══════╪════════════╪═════════════╪═══════╪═══╪═════════════╪═════════════╪═══════════╪════════════╡\n",
      "│ 1985 ┆ Alfa Romeo ┆ Spider      ┆ 2.0   ┆ … ┆ 2013-01-01  ┆ false       ┆ 5         ┆ Other      │\n",
      "│      ┆            ┆ Veloce 2000 ┆       ┆   ┆ 00:00:00    ┆             ┆           ┆            │\n",
      "│ 1985 ┆ Ferrari    ┆ Testarossa  ┆ 4.9   ┆ … ┆ 2013-01-01  ┆ false       ┆ 5         ┆ Other      │\n",
      "│      ┆            ┆             ┆       ┆   ┆ 00:00:00    ┆             ┆           ┆            │\n",
      "│ 1985 ┆ Dodge      ┆ Charger     ┆ 2.2   ┆ … ┆ 2013-01-01  ┆ false       ┆ 5         ┆ Dodge      │\n",
      "│      ┆            ┆             ┆       ┆   ┆ 00:00:00    ┆             ┆           ┆            │\n",
      "│ 1985 ┆ Dodge      ┆ B150/B250   ┆ 5.2   ┆ … ┆ 2013-01-01  ┆ true        ┆ 3         ┆ Dodge      │\n",
      "│      ┆            ┆ Wagon 2WD   ┆       ┆   ┆ 00:00:00    ┆             ┆           ┆            │\n",
      "│ 1993 ┆ Subaru     ┆ Legacy AWD  ┆ 2.2   ┆ … ┆ 2013-01-01  ┆ false       ┆ 5         ┆ Other      │\n",
      "│      ┆            ┆ Turbo       ┆       ┆   ┆ 00:00:00    ┆             ┆           ┆            │\n",
      "│ …    ┆ …          ┆ …           ┆ …     ┆ … ┆ …           ┆ …           ┆ …         ┆ …          │\n",
      "│ 1993 ┆ Subaru     ┆ Legacy      ┆ 2.2   ┆ … ┆ 2013-01-01  ┆ true        ┆ 4         ┆ Other      │\n",
      "│      ┆            ┆             ┆       ┆   ┆ 00:00:00    ┆             ┆           ┆            │\n",
      "│ 1993 ┆ Subaru     ┆ Legacy      ┆ 2.2   ┆ … ┆ 2013-01-01  ┆ false       ┆ 5         ┆ Other      │\n",
      "│      ┆            ┆             ┆       ┆   ┆ 00:00:00    ┆             ┆           ┆            │\n",
      "│ 1993 ┆ Subaru     ┆ Legacy AWD  ┆ 2.2   ┆ … ┆ 2013-01-01  ┆ true        ┆ 4         ┆ Other      │\n",
      "│      ┆            ┆             ┆       ┆   ┆ 00:00:00    ┆             ┆           ┆            │\n",
      "│ 1993 ┆ Subaru     ┆ Legacy AWD  ┆ 2.2   ┆ … ┆ 2013-01-01  ┆ false       ┆ 5         ┆ Other      │\n",
      "│      ┆            ┆             ┆       ┆   ┆ 00:00:00    ┆             ┆           ┆            │\n",
      "│ 1993 ┆ Subaru     ┆ Legacy AWD  ┆ 2.2   ┆ … ┆ 2013-01-01  ┆ true        ┆ 4         ┆ Other      │\n",
      "│      ┆            ┆ Turbo       ┆       ┆   ┆ 00:00:00    ┆             ┆           ┆            │\n",
      "└──────┴────────────┴─────────────┴───────┴───┴─────────────┴─────────────┴───────────┴────────────┘\n"
     ]
    },
    {
     "name": "stderr",
     "output_type": "stream",
     "text": [
      "/var/folders/dk/f9pbhbp52qxc0613mpbtx8lm0000gn/T/ipykernel_5079/2555120211.py:2: CategoricalRemappingWarning: Local categoricals have different encodings, expensive re-encoding is done to perform this merge operation. Consider using a StringCache or an Enum type if the categories are known in advance\n",
      "  .with_columns(simple_make=top_expr)\n"
     ]
    }
   ],
   "source": [
    "print(autos\n",
    "      .with_columns(simple_make=top_expr)\n",
    "     )"
   ]
  },
  {
   "cell_type": "code",
   "execution_count": 47,
   "id": "f7c9e2a2-5140-4c2c-b4e2-eb66bcdeaf35",
   "metadata": {},
   "outputs": [],
   "source": [
    "# Limit Helper Function\n",
    "def limit(col_name, n=10, default='other'):\n",
    "    col = pl.col(col_name)\n",
    "    top_n = (col\n",
    "             .value_counts(sort=True)\n",
    "             .struct[0]\n",
    "             .head(n)\n",
    "            )\n",
    "    return (pl.when(col.is_in(top_n))\n",
    "            .then(col)\n",
    "            .otherwise(pl.lit(default))\n",
    "           )"
   ]
  },
  {
   "cell_type": "code",
   "execution_count": 48,
   "id": "663ab48f-90b7-4b13-9d0a-8f66c2f662cb",
   "metadata": {},
   "outputs": [
    {
     "name": "stdout",
     "output_type": "stream",
     "text": [
      "shape: (48_231, 16)\n",
      "┌──────┬────────────┬─────────────┬───────┬───┬─────────────┬─────────────┬───────────┬────────────┐\n",
      "│ year ┆ make       ┆ model       ┆ displ ┆ … ┆ createdOn   ┆ is_automati ┆ num_gears ┆ simple_mak │\n",
      "│ ---  ┆ ---        ┆ ---         ┆ ---   ┆   ┆ ---         ┆ c           ┆ ---       ┆ e          │\n",
      "│ i16  ┆ cat        ┆ cat         ┆ f32   ┆   ┆ datetime[μs ┆ ---         ┆ u8        ┆ ---        │\n",
      "│      ┆            ┆             ┆       ┆   ┆ ]           ┆ str         ┆           ┆ cat        │\n",
      "╞══════╪════════════╪═════════════╪═══════╪═══╪═════════════╪═════════════╪═══════════╪════════════╡\n",
      "│ 1985 ┆ Alfa Romeo ┆ Spider      ┆ 2.0   ┆ … ┆ 2013-01-01  ┆ false       ┆ 5         ┆ other      │\n",
      "│      ┆            ┆ Veloce 2000 ┆       ┆   ┆ 00:00:00    ┆             ┆           ┆            │\n",
      "│ 1985 ┆ Ferrari    ┆ Testarossa  ┆ 4.9   ┆ … ┆ 2013-01-01  ┆ false       ┆ 5         ┆ other      │\n",
      "│      ┆            ┆             ┆       ┆   ┆ 00:00:00    ┆             ┆           ┆            │\n",
      "│ 1985 ┆ Dodge      ┆ Charger     ┆ 2.2   ┆ … ┆ 2013-01-01  ┆ false       ┆ 5         ┆ Dodge      │\n",
      "│      ┆            ┆             ┆       ┆   ┆ 00:00:00    ┆             ┆           ┆            │\n",
      "│ 1985 ┆ Dodge      ┆ B150/B250   ┆ 5.2   ┆ … ┆ 2013-01-01  ┆ true        ┆ 3         ┆ Dodge      │\n",
      "│      ┆            ┆ Wagon 2WD   ┆       ┆   ┆ 00:00:00    ┆             ┆           ┆            │\n",
      "│ 1993 ┆ Subaru     ┆ Legacy AWD  ┆ 2.2   ┆ … ┆ 2013-01-01  ┆ false       ┆ 5         ┆ other      │\n",
      "│      ┆            ┆ Turbo       ┆       ┆   ┆ 00:00:00    ┆             ┆           ┆            │\n",
      "│ …    ┆ …          ┆ …           ┆ …     ┆ … ┆ …           ┆ …           ┆ …         ┆ …          │\n",
      "│ 1993 ┆ Subaru     ┆ Legacy      ┆ 2.2   ┆ … ┆ 2013-01-01  ┆ true        ┆ 4         ┆ other      │\n",
      "│      ┆            ┆             ┆       ┆   ┆ 00:00:00    ┆             ┆           ┆            │\n",
      "│ 1993 ┆ Subaru     ┆ Legacy      ┆ 2.2   ┆ … ┆ 2013-01-01  ┆ false       ┆ 5         ┆ other      │\n",
      "│      ┆            ┆             ┆       ┆   ┆ 00:00:00    ┆             ┆           ┆            │\n",
      "│ 1993 ┆ Subaru     ┆ Legacy AWD  ┆ 2.2   ┆ … ┆ 2013-01-01  ┆ true        ┆ 4         ┆ other      │\n",
      "│      ┆            ┆             ┆       ┆   ┆ 00:00:00    ┆             ┆           ┆            │\n",
      "│ 1993 ┆ Subaru     ┆ Legacy AWD  ┆ 2.2   ┆ … ┆ 2013-01-01  ┆ false       ┆ 5         ┆ other      │\n",
      "│      ┆            ┆             ┆       ┆   ┆ 00:00:00    ┆             ┆           ┆            │\n",
      "│ 1993 ┆ Subaru     ┆ Legacy AWD  ┆ 2.2   ┆ … ┆ 2013-01-01  ┆ true        ┆ 4         ┆ other      │\n",
      "│      ┆            ┆ Turbo       ┆       ┆   ┆ 00:00:00    ┆             ┆           ┆            │\n",
      "└──────┴────────────┴─────────────┴───────┴───┴─────────────┴─────────────┴───────────┴────────────┘\n"
     ]
    },
    {
     "name": "stderr",
     "output_type": "stream",
     "text": [
      "/var/folders/dk/f9pbhbp52qxc0613mpbtx8lm0000gn/T/ipykernel_5079/2798648594.py:2: CategoricalRemappingWarning: Local categoricals have different encodings, expensive re-encoding is done to perform this merge operation. Consider using a StringCache or an Enum type if the categories are known in advance\n",
      "  .with_columns(simple_make=limit('make'))\n"
     ]
    }
   ],
   "source": [
    "print(autos\n",
    "      .with_columns(simple_make=limit('make'))\n",
    "     )"
   ]
  },
  {
   "cell_type": "code",
   "execution_count": 49,
   "id": "dcf67709-5b04-4a63-bfa0-1a31b3eb2421",
   "metadata": {},
   "outputs": [
    {
     "name": "stdout",
     "output_type": "stream",
     "text": [
      "shape: (48_231, 1)\n",
      "┌─────────────┐\n",
      "│ simple_make │\n",
      "│ ---         │\n",
      "│ cat         │\n",
      "╞═════════════╡\n",
      "│ other       │\n",
      "│ other       │\n",
      "│ Dodge       │\n",
      "│ Dodge       │\n",
      "│ Subaru      │\n",
      "│ …           │\n",
      "│ Subaru      │\n",
      "│ Subaru      │\n",
      "│ Subaru      │\n",
      "│ Subaru      │\n",
      "│ Subaru      │\n",
      "└─────────────┘\n"
     ]
    }
   ],
   "source": [
    "with pl.StringCache():\n",
    "    autos2 = tweak_auto(raw)\n",
    "    print(autos2\n",
    "          .select(simple_make=limit('make', 20, 'other')))"
   ]
  },
  {
   "cell_type": "markdown",
   "id": "93fc4245-7181-412b-91be-32020081ca54",
   "metadata": {},
   "source": [
    "### Handling Missing Data"
   ]
  },
  {
   "cell_type": "code",
   "execution_count": 50,
   "id": "c0fbe502-1973-4c29-9a31-c296059bbfc1",
   "metadata": {},
   "outputs": [
    {
     "name": "stdout",
     "output_type": "stream",
     "text": [
      "shape: (48_231, 15)\n",
      "┌───────┬───────┬───────┬───────┬───┬───────────┬───────────┬──────────────┬───────────┐\n",
      "│ year  ┆ make  ┆ model ┆ displ ┆ … ┆ highway08 ┆ createdOn ┆ is_automatic ┆ num_gears │\n",
      "│ ---   ┆ ---   ┆ ---   ┆ ---   ┆   ┆ ---       ┆ ---       ┆ ---          ┆ ---       │\n",
      "│ bool  ┆ bool  ┆ bool  ┆ bool  ┆   ┆ bool      ┆ bool      ┆ bool         ┆ bool      │\n",
      "╞═══════╪═══════╪═══════╪═══════╪═══╪═══════════╪═══════════╪══════════════╪═══════════╡\n",
      "│ false ┆ false ┆ false ┆ false ┆ … ┆ false     ┆ false     ┆ false        ┆ false     │\n",
      "│ false ┆ false ┆ false ┆ false ┆ … ┆ false     ┆ false     ┆ false        ┆ false     │\n",
      "│ false ┆ false ┆ false ┆ false ┆ … ┆ false     ┆ false     ┆ false        ┆ false     │\n",
      "│ false ┆ false ┆ false ┆ false ┆ … ┆ false     ┆ false     ┆ false        ┆ false     │\n",
      "│ false ┆ false ┆ false ┆ false ┆ … ┆ false     ┆ false     ┆ false        ┆ false     │\n",
      "│ …     ┆ …     ┆ …     ┆ …     ┆ … ┆ …         ┆ …         ┆ …            ┆ …         │\n",
      "│ false ┆ false ┆ false ┆ false ┆ … ┆ false     ┆ false     ┆ false        ┆ false     │\n",
      "│ false ┆ false ┆ false ┆ false ┆ … ┆ false     ┆ false     ┆ false        ┆ false     │\n",
      "│ false ┆ false ┆ false ┆ false ┆ … ┆ false     ┆ false     ┆ false        ┆ false     │\n",
      "│ false ┆ false ┆ false ┆ false ┆ … ┆ false     ┆ false     ┆ false        ┆ false     │\n",
      "│ false ┆ false ┆ false ┆ false ┆ … ┆ false     ┆ false     ┆ false        ┆ false     │\n",
      "└───────┴───────┴───────┴───────┴───┴───────────┴───────────┴──────────────┴───────────┘\n"
     ]
    }
   ],
   "source": [
    "print(autos\n",
    "      .select(pl.col('*').is_null())\n",
    "     )"
   ]
  },
  {
   "cell_type": "code",
   "execution_count": 51,
   "id": "da665f77-0c1f-441d-b0df-1137bc832bf3",
   "metadata": {},
   "outputs": [
    {
     "data": {
      "text/plain": [
       "1"
      ]
     },
     "execution_count": 51,
     "metadata": {},
     "output_type": "execute_result"
    }
   ],
   "source": [
    "int(True)"
   ]
  },
  {
   "cell_type": "code",
   "execution_count": 52,
   "id": "48f75a22-3fa4-4ba6-bb87-81e66cbafc06",
   "metadata": {},
   "outputs": [
    {
     "name": "stdout",
     "output_type": "stream",
     "text": [
      "shape: (1, 15)\n",
      "┌──────┬──────┬───────┬───────┬───┬───────────┬───────────┬──────────────┬───────────┐\n",
      "│ year ┆ make ┆ model ┆ displ ┆ … ┆ highway08 ┆ createdOn ┆ is_automatic ┆ num_gears │\n",
      "│ ---  ┆ ---  ┆ ---   ┆ ---   ┆   ┆ ---       ┆ ---       ┆ ---          ┆ ---       │\n",
      "│ u32  ┆ u32  ┆ u32   ┆ u32   ┆   ┆ u32       ┆ u32       ┆ u32          ┆ u32       │\n",
      "╞══════╪══════╪═══════╪═══════╪═══╪═══════════╪═══════════╪══════════════╪═══════════╡\n",
      "│ 0    ┆ 0    ┆ 0     ┆ 963   ┆ … ┆ 0         ┆ 0         ┆ 0            ┆ 0         │\n",
      "└──────┴──────┴───────┴───────┴───┴───────────┴───────────┴──────────────┴───────────┘\n"
     ]
    }
   ],
   "source": [
    "print(autos\n",
    "      .select(pl.all().is_null().sum())\n",
    "     )"
   ]
  },
  {
   "cell_type": "code",
   "execution_count": 53,
   "id": "23550c04-536c-48ba-9a41-585bb39fa8be",
   "metadata": {},
   "outputs": [
    {
     "name": "stdout",
     "output_type": "stream",
     "text": [
      "shape: (1, 15)\n",
      "┌──────┬──────┬───────┬───────┬───┬───────────┬───────────┬──────────────┬───────────┐\n",
      "│ year ┆ make ┆ model ┆ displ ┆ … ┆ highway08 ┆ createdOn ┆ is_automatic ┆ num_gears │\n",
      "│ ---  ┆ ---  ┆ ---   ┆ ---   ┆   ┆ ---       ┆ ---       ┆ ---          ┆ ---       │\n",
      "│ u32  ┆ u32  ┆ u32   ┆ u32   ┆   ┆ u32       ┆ u32       ┆ u32          ┆ u32       │\n",
      "╞══════╪══════╪═══════╪═══════╪═══╪═══════════╪═══════════╪══════════════╪═══════════╡\n",
      "│ 0    ┆ 0    ┆ 0     ┆ 963   ┆ … ┆ 0         ┆ 0         ┆ 0            ┆ 0         │\n",
      "└──────┴──────┴───────┴───────┴───┴───────────┴───────────┴──────────────┴───────────┘\n"
     ]
    }
   ],
   "source": [
    "# Count of Null Values\n",
    "print(autos\n",
    "      .select(pl.all().null_count())\n",
    "     )"
   ]
  },
  {
   "cell_type": "code",
   "execution_count": 54,
   "id": "762080c1-7b59-48b4-b7ec-3e259fcf2f06",
   "metadata": {},
   "outputs": [
    {
     "name": "stdout",
     "output_type": "stream",
     "text": [
      "shape: (1, 15)\n",
      "┌──────┬──────┬───────┬───────┬───┬───────────┬───────────┬──────────────┬───────────┐\n",
      "│ year ┆ make ┆ model ┆ displ ┆ … ┆ highway08 ┆ createdOn ┆ is_automatic ┆ num_gears │\n",
      "│ ---  ┆ ---  ┆ ---   ┆ ---   ┆   ┆ ---       ┆ ---       ┆ ---          ┆ ---       │\n",
      "│ u32  ┆ u32  ┆ u32   ┆ u32   ┆   ┆ u32       ┆ u32       ┆ u32          ┆ u32       │\n",
      "╞══════╪══════╪═══════╪═══════╪═══╪═══════════╪═══════════╪══════════════╪═══════════╡\n",
      "│ 0    ┆ 0    ┆ 0     ┆ 963   ┆ … ┆ 0         ┆ 0         ┆ 0            ┆ 0         │\n",
      "└──────┴──────┴───────┴───────┴───┴───────────┴───────────┴──────────────┴───────────┘\n"
     ]
    }
   ],
   "source": [
    "print(autos\n",
    "      .null_count()\n",
    "     )"
   ]
  },
  {
   "cell_type": "code",
   "execution_count": 55,
   "id": "071ffe98-cc4b-4d57-ab04-a996b1e95c18",
   "metadata": {},
   "outputs": [
    {
     "name": "stdout",
     "output_type": "stream",
     "text": [
      "shape: (9, 16)\n",
      "┌────────────┬────────────┬───────┬───────┬───┬───────────┬──────────────┬─────────────┬───────────┐\n",
      "│ statistic  ┆ year       ┆ make  ┆ model ┆ … ┆ highway08 ┆ createdOn    ┆ is_automati ┆ num_gears │\n",
      "│ ---        ┆ ---        ┆ ---   ┆ ---   ┆   ┆ ---       ┆ ---          ┆ c           ┆ ---       │\n",
      "│ str        ┆ f64        ┆ str   ┆ str   ┆   ┆ f64       ┆ str          ┆ ---         ┆ f64       │\n",
      "│            ┆            ┆       ┆       ┆   ┆           ┆              ┆ str         ┆           │\n",
      "╞════════════╪════════════╪═══════╪═══════╪═══╪═══════════╪══════════════╪═════════════╪═══════════╡\n",
      "│ count      ┆ 48231.0    ┆ 48231 ┆ 48231 ┆ … ┆ 48231.0   ┆ 48231        ┆ 48231       ┆ 48231.0   │\n",
      "│ null_count ┆ 0.0        ┆ 0     ┆ 0     ┆ … ┆ 0.0       ┆ 0            ┆ 0           ┆ 0.0       │\n",
      "│ mean       ┆ 2004.60571 ┆ null  ┆ null  ┆ … ┆ 25.822002 ┆ 2014-11-16   ┆ null        ┆ 5.347805  │\n",
      "│            ┆            ┆       ┆       ┆   ┆           ┆ 10:20:26.646 ┆             ┆           │\n",
      "│            ┆            ┆       ┆       ┆   ┆           ┆ 762          ┆             ┆           │\n",
      "│ std        ┆ 12.687496  ┆ null  ┆ null  ┆ … ┆ 11.084974 ┆ null         ┆ null        ┆ 1.735463  │\n",
      "│ min        ┆ 1984.0     ┆ null  ┆ null  ┆ … ┆ 9.0       ┆ 2013-01-01   ┆ Automatic   ┆ 1.0       │\n",
      "│            ┆            ┆       ┆       ┆   ┆           ┆ 00:00:00     ┆             ┆           │\n",
      "│ 25%        ┆ 1993.0     ┆ null  ┆ null  ┆ … ┆ 20.0      ┆ 2013-01-01   ┆ null        ┆ 4.0       │\n",
      "│            ┆            ┆       ┆       ┆   ┆           ┆ 00:00:00     ┆             ┆           │\n",
      "│ 50%        ┆ 2006.0     ┆ null  ┆ null  ┆ … ┆ 24.0      ┆ 2013-01-01   ┆ null        ┆ 5.0       │\n",
      "│            ┆            ┆       ┆       ┆   ┆           ┆ 00:00:00     ┆             ┆           │\n",
      "│ 75%        ┆ 2016.0     ┆ null  ┆ null  ┆ … ┆ 28.0      ┆ 2015-07-14   ┆ null        ┆ 6.0       │\n",
      "│            ┆            ┆       ┆       ┆   ┆           ┆ 00:00:00     ┆             ┆           │\n",
      "│ max        ┆ 2025.0     ┆ null  ┆ null  ┆ … ┆ 142.0     ┆ 2024-11-18   ┆ true        ┆ 10.0      │\n",
      "│            ┆            ┆       ┆       ┆   ┆           ┆ 00:00:00     ┆             ┆           │\n",
      "└────────────┴────────────┴───────┴───────┴───┴───────────┴──────────────┴─────────────┴───────────┘\n"
     ]
    }
   ],
   "source": [
    "print(autos\n",
    "      .describe()\n",
    "     )"
   ]
  },
  {
   "cell_type": "code",
   "execution_count": 56,
   "id": "d0af18a1-6f85-4d98-b7e5-27d3a34453aa",
   "metadata": {},
   "outputs": [
    {
     "name": "stdout",
     "output_type": "stream",
     "text": [
      "shape: (1, 15)\n",
      "┌──────┬──────┬───────┬──────────┬───┬───────────┬───────────┬──────────────┬───────────┐\n",
      "│ year ┆ make ┆ model ┆ displ    ┆ … ┆ highway08 ┆ createdOn ┆ is_automatic ┆ num_gears │\n",
      "│ ---  ┆ ---  ┆ ---   ┆ ---      ┆   ┆ ---       ┆ ---       ┆ ---          ┆ ---       │\n",
      "│ f64  ┆ f64  ┆ f64   ┆ f64      ┆   ┆ f64       ┆ f64       ┆ f64          ┆ f64       │\n",
      "╞══════╪══════╪═══════╪══════════╪═══╪═══════════╪═══════════╪══════════════╪═══════════╡\n",
      "│ 0.0  ┆ 0.0  ┆ 0.0   ┆ 1.996641 ┆ … ┆ 0.0       ┆ 0.0       ┆ 0.0          ┆ 0.0       │\n",
      "└──────┴──────┴───────┴──────────┴───┴───────────┴───────────┴──────────────┴───────────┘\n"
     ]
    }
   ],
   "source": [
    "# Calculating % Method\n",
    "print(autos\n",
    "      .select(pl.all().is_null().mean() * 100)\n",
    "     )"
   ]
  },
  {
   "cell_type": "code",
   "execution_count": 57,
   "id": "c372b4c5-8f42-4827-a086-06a39a36a1a6",
   "metadata": {},
   "outputs": [
    {
     "name": "stdout",
     "output_type": "stream",
     "text": [
      "shape: (1, 4)\n",
      "┌──────────┬───────────┬──────────┬──────────┐\n",
      "│ displ    ┆ cylinders ┆ trany    ┆ drive    │\n",
      "│ ---      ┆ ---       ┆ ---      ┆ ---      │\n",
      "│ f64      ┆ f64       ┆ f64      ┆ f64      │\n",
      "╞══════════╪═══════════╪══════════╪══════════╡\n",
      "│ 1.996641 ┆ 2.000788  ┆ 0.022807 ┆ 2.458999 │\n",
      "└──────────┴───────────┴──────────┴──────────┘\n"
     ]
    }
   ],
   "source": [
    "# Checking for Null Values\n",
    "print(autos\n",
    "      .select(pl.all().is_null().cast(pl.Int32).mean() * 100)\n",
    "      .pipe(lambda df_: df_.select([col.name \n",
    "                                    for col in df_.select(pl.col(pl.Float64)> 0) \n",
    "                                    if col.all()]))\n",
    "     )"
   ]
  },
  {
   "cell_type": "code",
   "execution_count": 58,
   "id": "9423e400-6083-4618-97a2-3dd6c0f1dea3",
   "metadata": {},
   "outputs": [
    {
     "name": "stdout",
     "output_type": "stream",
     "text": [
      "shape: (0, 0)\n",
      "┌┐\n",
      "╞╡\n",
      "└┘\n"
     ]
    }
   ],
   "source": [
    "#  Checking for NaN Values\n",
    "print(autos\n",
    "      .select(cs.numeric().is_nan().cast(pl.Int32).mean() * 100)\n",
    "      .pipe(lambda df_: df_.select([col.name \n",
    "                                    for col in df_.select(pl.col(pl.Float64)> 0) \n",
    "                                    if col.all()]))\n",
    "     )"
   ]
  },
  {
   "cell_type": "markdown",
   "id": "ae3ceb57-c9fb-4c45-a507-aa828b89a88f",
   "metadata": {},
   "source": [
    "### Dropping Rows with Missing Values"
   ]
  },
  {
   "cell_type": "code",
   "execution_count": 61,
   "id": "ae4d79ef-1282-4284-848f-054bc2041596",
   "metadata": {},
   "outputs": [],
   "source": [
    "# Placing Model\n",
    "pca = decomposition.PCA()"
   ]
  },
  {
   "cell_type": "code",
   "execution_count": 62,
   "id": "e20bd156-8812-43c5-a0c6-cf0deb749fb3",
   "metadata": {},
   "outputs": [
    {
     "ename": "ValueError",
     "evalue": "Input X contains NaN.\nPCA does not accept missing values encoded as NaN natively. For supervised learning, you might want to consider sklearn.ensemble.HistGradientBoostingClassifier and Regressor which accept missing values encoded as NaNs natively. Alternatively, it is possible to preprocess the data, for instance by using an imputer transformer in a pipeline or drop samples with missing values. See https://scikit-learn.org/stable/modules/impute.html You can find a list of all estimators that handle NaN values at the following page: https://scikit-learn.org/stable/modules/impute.html#estimators-that-handle-nan-values",
     "output_type": "error",
     "traceback": [
      "\u001b[0;31m---------------------------------------------------------------------------\u001b[0m",
      "\u001b[0;31mValueError\u001b[0m                                Traceback (most recent call last)",
      "Cell \u001b[0;32mIn[62], line 1\u001b[0m\n\u001b[0;32m----> 1\u001b[0m pca\u001b[38;5;241m.\u001b[39mfit(autos\u001b[38;5;241m.\u001b[39mselect(cs\u001b[38;5;241m.\u001b[39mnumeric()))\n",
      "File \u001b[0;32m~/anaconda3/envs/polars/lib/python3.11/site-packages/sklearn/decomposition/_pca.py:408\u001b[0m, in \u001b[0;36mPCA.fit\u001b[0;34m(self, X, y)\u001b[0m\n\u001b[1;32m    385\u001b[0m \u001b[38;5;250m\u001b[39m\u001b[38;5;124;03m\"\"\"Fit the model with X.\u001b[39;00m\n\u001b[1;32m    386\u001b[0m \n\u001b[1;32m    387\u001b[0m \u001b[38;5;124;03mParameters\u001b[39;00m\n\u001b[0;32m   (...)\u001b[0m\n\u001b[1;32m    399\u001b[0m \u001b[38;5;124;03m    Returns the instance itself.\u001b[39;00m\n\u001b[1;32m    400\u001b[0m \u001b[38;5;124;03m\"\"\"\u001b[39;00m\n\u001b[1;32m    401\u001b[0m check_scalar(\n\u001b[1;32m    402\u001b[0m     \u001b[38;5;28mself\u001b[39m\u001b[38;5;241m.\u001b[39mn_oversamples,\n\u001b[1;32m    403\u001b[0m     \u001b[38;5;124m\"\u001b[39m\u001b[38;5;124mn_oversamples\u001b[39m\u001b[38;5;124m\"\u001b[39m,\n\u001b[1;32m    404\u001b[0m     min_val\u001b[38;5;241m=\u001b[39m\u001b[38;5;241m1\u001b[39m,\n\u001b[1;32m    405\u001b[0m     target_type\u001b[38;5;241m=\u001b[39mnumbers\u001b[38;5;241m.\u001b[39mIntegral,\n\u001b[1;32m    406\u001b[0m )\n\u001b[0;32m--> 408\u001b[0m \u001b[38;5;28mself\u001b[39m\u001b[38;5;241m.\u001b[39m_fit(X)\n\u001b[1;32m    409\u001b[0m \u001b[38;5;28;01mreturn\u001b[39;00m \u001b[38;5;28mself\u001b[39m\n",
      "File \u001b[0;32m~/anaconda3/envs/polars/lib/python3.11/site-packages/sklearn/decomposition/_pca.py:456\u001b[0m, in \u001b[0;36mPCA._fit\u001b[0;34m(self, X)\u001b[0m\n\u001b[1;32m    450\u001b[0m \u001b[38;5;28;01mif\u001b[39;00m issparse(X):\n\u001b[1;32m    451\u001b[0m     \u001b[38;5;28;01mraise\u001b[39;00m \u001b[38;5;167;01mTypeError\u001b[39;00m(\n\u001b[1;32m    452\u001b[0m         \u001b[38;5;124m\"\u001b[39m\u001b[38;5;124mPCA does not support sparse input. See \u001b[39m\u001b[38;5;124m\"\u001b[39m\n\u001b[1;32m    453\u001b[0m         \u001b[38;5;124m\"\u001b[39m\u001b[38;5;124mTruncatedSVD for a possible alternative.\u001b[39m\u001b[38;5;124m\"\u001b[39m\n\u001b[1;32m    454\u001b[0m     )\n\u001b[0;32m--> 456\u001b[0m X \u001b[38;5;241m=\u001b[39m \u001b[38;5;28mself\u001b[39m\u001b[38;5;241m.\u001b[39m_validate_data(\n\u001b[1;32m    457\u001b[0m     X, dtype\u001b[38;5;241m=\u001b[39m[np\u001b[38;5;241m.\u001b[39mfloat64, np\u001b[38;5;241m.\u001b[39mfloat32], ensure_2d\u001b[38;5;241m=\u001b[39m\u001b[38;5;28;01mTrue\u001b[39;00m, copy\u001b[38;5;241m=\u001b[39m\u001b[38;5;28mself\u001b[39m\u001b[38;5;241m.\u001b[39mcopy\n\u001b[1;32m    458\u001b[0m )\n\u001b[1;32m    460\u001b[0m \u001b[38;5;66;03m# Handle n_components==None\u001b[39;00m\n\u001b[1;32m    461\u001b[0m \u001b[38;5;28;01mif\u001b[39;00m \u001b[38;5;28mself\u001b[39m\u001b[38;5;241m.\u001b[39mn_components \u001b[38;5;129;01mis\u001b[39;00m \u001b[38;5;28;01mNone\u001b[39;00m:\n",
      "File \u001b[0;32m~/anaconda3/envs/polars/lib/python3.11/site-packages/sklearn/base.py:577\u001b[0m, in \u001b[0;36mBaseEstimator._validate_data\u001b[0;34m(self, X, y, reset, validate_separately, **check_params)\u001b[0m\n\u001b[1;32m    575\u001b[0m     \u001b[38;5;28;01mraise\u001b[39;00m \u001b[38;5;167;01mValueError\u001b[39;00m(\u001b[38;5;124m\"\u001b[39m\u001b[38;5;124mValidation should be done on X, y or both.\u001b[39m\u001b[38;5;124m\"\u001b[39m)\n\u001b[1;32m    576\u001b[0m \u001b[38;5;28;01melif\u001b[39;00m \u001b[38;5;129;01mnot\u001b[39;00m no_val_X \u001b[38;5;129;01mand\u001b[39;00m no_val_y:\n\u001b[0;32m--> 577\u001b[0m     X \u001b[38;5;241m=\u001b[39m check_array(X, input_name\u001b[38;5;241m=\u001b[39m\u001b[38;5;124m\"\u001b[39m\u001b[38;5;124mX\u001b[39m\u001b[38;5;124m\"\u001b[39m, \u001b[38;5;241m*\u001b[39m\u001b[38;5;241m*\u001b[39mcheck_params)\n\u001b[1;32m    578\u001b[0m     out \u001b[38;5;241m=\u001b[39m X\n\u001b[1;32m    579\u001b[0m \u001b[38;5;28;01melif\u001b[39;00m no_val_X \u001b[38;5;129;01mand\u001b[39;00m \u001b[38;5;129;01mnot\u001b[39;00m no_val_y:\n",
      "File \u001b[0;32m~/anaconda3/envs/polars/lib/python3.11/site-packages/sklearn/utils/validation.py:899\u001b[0m, in \u001b[0;36mcheck_array\u001b[0;34m(array, accept_sparse, accept_large_sparse, dtype, order, copy, force_all_finite, ensure_2d, allow_nd, ensure_min_samples, ensure_min_features, estimator, input_name)\u001b[0m\n\u001b[1;32m    893\u001b[0m         \u001b[38;5;28;01mraise\u001b[39;00m \u001b[38;5;167;01mValueError\u001b[39;00m(\n\u001b[1;32m    894\u001b[0m             \u001b[38;5;124m\"\u001b[39m\u001b[38;5;124mFound array with dim \u001b[39m\u001b[38;5;132;01m%d\u001b[39;00m\u001b[38;5;124m. \u001b[39m\u001b[38;5;132;01m%s\u001b[39;00m\u001b[38;5;124m expected <= 2.\u001b[39m\u001b[38;5;124m\"\u001b[39m\n\u001b[1;32m    895\u001b[0m             \u001b[38;5;241m%\u001b[39m (array\u001b[38;5;241m.\u001b[39mndim, estimator_name)\n\u001b[1;32m    896\u001b[0m         )\n\u001b[1;32m    898\u001b[0m     \u001b[38;5;28;01mif\u001b[39;00m force_all_finite:\n\u001b[0;32m--> 899\u001b[0m         _assert_all_finite(\n\u001b[1;32m    900\u001b[0m             array,\n\u001b[1;32m    901\u001b[0m             input_name\u001b[38;5;241m=\u001b[39minput_name,\n\u001b[1;32m    902\u001b[0m             estimator_name\u001b[38;5;241m=\u001b[39mestimator_name,\n\u001b[1;32m    903\u001b[0m             allow_nan\u001b[38;5;241m=\u001b[39mforce_all_finite \u001b[38;5;241m==\u001b[39m \u001b[38;5;124m\"\u001b[39m\u001b[38;5;124mallow-nan\u001b[39m\u001b[38;5;124m\"\u001b[39m,\n\u001b[1;32m    904\u001b[0m         )\n\u001b[1;32m    906\u001b[0m \u001b[38;5;28;01mif\u001b[39;00m ensure_min_samples \u001b[38;5;241m>\u001b[39m \u001b[38;5;241m0\u001b[39m:\n\u001b[1;32m    907\u001b[0m     n_samples \u001b[38;5;241m=\u001b[39m _num_samples(array)\n",
      "File \u001b[0;32m~/anaconda3/envs/polars/lib/python3.11/site-packages/sklearn/utils/validation.py:146\u001b[0m, in \u001b[0;36m_assert_all_finite\u001b[0;34m(X, allow_nan, msg_dtype, estimator_name, input_name)\u001b[0m\n\u001b[1;32m    124\u001b[0m         \u001b[38;5;28;01mif\u001b[39;00m (\n\u001b[1;32m    125\u001b[0m             \u001b[38;5;129;01mnot\u001b[39;00m allow_nan\n\u001b[1;32m    126\u001b[0m             \u001b[38;5;129;01mand\u001b[39;00m estimator_name\n\u001b[0;32m   (...)\u001b[0m\n\u001b[1;32m    130\u001b[0m             \u001b[38;5;66;03m# Improve the error message on how to handle missing values in\u001b[39;00m\n\u001b[1;32m    131\u001b[0m             \u001b[38;5;66;03m# scikit-learn.\u001b[39;00m\n\u001b[1;32m    132\u001b[0m             msg_err \u001b[38;5;241m+\u001b[39m\u001b[38;5;241m=\u001b[39m (\n\u001b[1;32m    133\u001b[0m                 \u001b[38;5;124mf\u001b[39m\u001b[38;5;124m\"\u001b[39m\u001b[38;5;130;01m\\n\u001b[39;00m\u001b[38;5;132;01m{\u001b[39;00mestimator_name\u001b[38;5;132;01m}\u001b[39;00m\u001b[38;5;124m does not accept missing values\u001b[39m\u001b[38;5;124m\"\u001b[39m\n\u001b[1;32m    134\u001b[0m                 \u001b[38;5;124m\"\u001b[39m\u001b[38;5;124m encoded as NaN natively. For supervised learning, you might want\u001b[39m\u001b[38;5;124m\"\u001b[39m\n\u001b[0;32m   (...)\u001b[0m\n\u001b[1;32m    144\u001b[0m                 \u001b[38;5;124m\"\u001b[39m\u001b[38;5;124m#estimators-that-handle-nan-values\u001b[39m\u001b[38;5;124m\"\u001b[39m\n\u001b[1;32m    145\u001b[0m             )\n\u001b[0;32m--> 146\u001b[0m         \u001b[38;5;28;01mraise\u001b[39;00m \u001b[38;5;167;01mValueError\u001b[39;00m(msg_err)\n\u001b[1;32m    148\u001b[0m \u001b[38;5;66;03m# for object dtype data, we only check for NaNs (GH-13254)\u001b[39;00m\n\u001b[1;32m    149\u001b[0m \u001b[38;5;28;01melif\u001b[39;00m X\u001b[38;5;241m.\u001b[39mdtype \u001b[38;5;241m==\u001b[39m np\u001b[38;5;241m.\u001b[39mdtype(\u001b[38;5;124m\"\u001b[39m\u001b[38;5;124mobject\u001b[39m\u001b[38;5;124m\"\u001b[39m) \u001b[38;5;129;01mand\u001b[39;00m \u001b[38;5;129;01mnot\u001b[39;00m allow_nan:\n",
      "\u001b[0;31mValueError\u001b[0m: Input X contains NaN.\nPCA does not accept missing values encoded as NaN natively. For supervised learning, you might want to consider sklearn.ensemble.HistGradientBoostingClassifier and Regressor which accept missing values encoded as NaNs natively. Alternatively, it is possible to preprocess the data, for instance by using an imputer transformer in a pipeline or drop samples with missing values. See https://scikit-learn.org/stable/modules/impute.html You can find a list of all estimators that handle NaN values at the following page: https://scikit-learn.org/stable/modules/impute.html#estimators-that-handle-nan-values"
     ]
    }
   ],
   "source": [
    "pca.fit(autos.select(cs.numeric()))"
   ]
  },
  {
   "cell_type": "code",
   "execution_count": 63,
   "id": "20d02b15-97e8-441c-819e-9a81c851cdc4",
   "metadata": {},
   "outputs": [
    {
     "name": "stdout",
     "output_type": "stream",
     "text": [
      "shape: (46_086, 15)\n",
      "┌──────┬────────────┬──────────────┬───────┬───┬───────────┬─────────────┬─────────────┬───────────┐\n",
      "│ year ┆ make       ┆ model        ┆ displ ┆ … ┆ highway08 ┆ createdOn   ┆ is_automati ┆ num_gears │\n",
      "│ ---  ┆ ---        ┆ ---          ┆ ---   ┆   ┆ ---       ┆ ---         ┆ c           ┆ ---       │\n",
      "│ i16  ┆ cat        ┆ cat          ┆ f32   ┆   ┆ u8        ┆ datetime[μs ┆ ---         ┆ u8        │\n",
      "│      ┆            ┆              ┆       ┆   ┆           ┆ ]           ┆ str         ┆           │\n",
      "╞══════╪════════════╪══════════════╪═══════╪═══╪═══════════╪═════════════╪═════════════╪═══════════╡\n",
      "│ 1985 ┆ Alfa Romeo ┆ Spider       ┆ 2.0   ┆ … ┆ 25        ┆ 2013-01-01  ┆ false       ┆ 5         │\n",
      "│      ┆            ┆ Veloce 2000  ┆       ┆   ┆           ┆ 00:00:00    ┆             ┆           │\n",
      "│ 1985 ┆ Ferrari    ┆ Testarossa   ┆ 4.9   ┆ … ┆ 14        ┆ 2013-01-01  ┆ false       ┆ 5         │\n",
      "│      ┆            ┆              ┆       ┆   ┆           ┆ 00:00:00    ┆             ┆           │\n",
      "│ 1985 ┆ Dodge      ┆ Charger      ┆ 2.2   ┆ … ┆ 33        ┆ 2013-01-01  ┆ false       ┆ 5         │\n",
      "│      ┆            ┆              ┆       ┆   ┆           ┆ 00:00:00    ┆             ┆           │\n",
      "│ 1985 ┆ Dodge      ┆ B150/B250    ┆ 5.2   ┆ … ┆ 12        ┆ 2013-01-01  ┆ true        ┆ 3         │\n",
      "│      ┆            ┆ Wagon 2WD    ┆       ┆   ┆           ┆ 00:00:00    ┆             ┆           │\n",
      "│ 1993 ┆ Subaru     ┆ Legacy AWD   ┆ 2.2   ┆ … ┆ 23        ┆ 2013-01-01  ┆ false       ┆ 5         │\n",
      "│      ┆            ┆ Turbo        ┆       ┆   ┆           ┆ 00:00:00    ┆             ┆           │\n",
      "│ …    ┆ …          ┆ …            ┆ …     ┆ … ┆ …         ┆ …           ┆ …           ┆ …         │\n",
      "│ 1993 ┆ Subaru     ┆ Legacy       ┆ 2.2   ┆ … ┆ 26        ┆ 2013-01-01  ┆ true        ┆ 4         │\n",
      "│      ┆            ┆              ┆       ┆   ┆           ┆ 00:00:00    ┆             ┆           │\n",
      "│ 1993 ┆ Subaru     ┆ Legacy       ┆ 2.2   ┆ … ┆ 28        ┆ 2013-01-01  ┆ false       ┆ 5         │\n",
      "│      ┆            ┆              ┆       ┆   ┆           ┆ 00:00:00    ┆             ┆           │\n",
      "│ 1993 ┆ Subaru     ┆ Legacy AWD   ┆ 2.2   ┆ … ┆ 24        ┆ 2013-01-01  ┆ true        ┆ 4         │\n",
      "│      ┆            ┆              ┆       ┆   ┆           ┆ 00:00:00    ┆             ┆           │\n",
      "│ 1993 ┆ Subaru     ┆ Legacy AWD   ┆ 2.2   ┆ … ┆ 24        ┆ 2013-01-01  ┆ false       ┆ 5         │\n",
      "│      ┆            ┆              ┆       ┆   ┆           ┆ 00:00:00    ┆             ┆           │\n",
      "│ 1993 ┆ Subaru     ┆ Legacy AWD   ┆ 2.2   ┆ … ┆ 21        ┆ 2013-01-01  ┆ true        ┆ 4         │\n",
      "│      ┆            ┆ Turbo        ┆       ┆   ┆           ┆ 00:00:00    ┆             ┆           │\n",
      "└──────┴────────────┴──────────────┴───────┴───┴───────────┴─────────────┴─────────────┴───────────┘\n"
     ]
    }
   ],
   "source": [
    "# Going Nuclear\n",
    "print(autos\n",
    "      .drop_nulls()\n",
    "     )"
   ]
  },
  {
   "cell_type": "code",
   "execution_count": 65,
   "id": "64286938-1823-4bea-88ab-9520ec90d2e7",
   "metadata": {},
   "outputs": [
    {
     "name": "stdout",
     "output_type": "stream",
     "text": [
      "shape: (47_266, 15)\n",
      "┌──────┬────────────┬──────────────┬───────┬───┬───────────┬─────────────┬─────────────┬───────────┐\n",
      "│ year ┆ make       ┆ model        ┆ displ ┆ … ┆ highway08 ┆ createdOn   ┆ is_automati ┆ num_gears │\n",
      "│ ---  ┆ ---        ┆ ---          ┆ ---   ┆   ┆ ---       ┆ ---         ┆ c           ┆ ---       │\n",
      "│ i16  ┆ cat        ┆ cat          ┆ f32   ┆   ┆ u8        ┆ datetime[μs ┆ ---         ┆ u8        │\n",
      "│      ┆            ┆              ┆       ┆   ┆           ┆ ]           ┆ str         ┆           │\n",
      "╞══════╪════════════╪══════════════╪═══════╪═══╪═══════════╪═════════════╪═════════════╪═══════════╡\n",
      "│ 1985 ┆ Alfa Romeo ┆ Spider       ┆ 2.0   ┆ … ┆ 25        ┆ 2013-01-01  ┆ false       ┆ 5         │\n",
      "│      ┆            ┆ Veloce 2000  ┆       ┆   ┆           ┆ 00:00:00    ┆             ┆           │\n",
      "│ 1985 ┆ Ferrari    ┆ Testarossa   ┆ 4.9   ┆ … ┆ 14        ┆ 2013-01-01  ┆ false       ┆ 5         │\n",
      "│      ┆            ┆              ┆       ┆   ┆           ┆ 00:00:00    ┆             ┆           │\n",
      "│ 1985 ┆ Dodge      ┆ Charger      ┆ 2.2   ┆ … ┆ 33        ┆ 2013-01-01  ┆ false       ┆ 5         │\n",
      "│      ┆            ┆              ┆       ┆   ┆           ┆ 00:00:00    ┆             ┆           │\n",
      "│ 1985 ┆ Dodge      ┆ B150/B250    ┆ 5.2   ┆ … ┆ 12        ┆ 2013-01-01  ┆ true        ┆ 3         │\n",
      "│      ┆            ┆ Wagon 2WD    ┆       ┆   ┆           ┆ 00:00:00    ┆             ┆           │\n",
      "│ 1993 ┆ Subaru     ┆ Legacy AWD   ┆ 2.2   ┆ … ┆ 23        ┆ 2013-01-01  ┆ false       ┆ 5         │\n",
      "│      ┆            ┆ Turbo        ┆       ┆   ┆           ┆ 00:00:00    ┆             ┆           │\n",
      "│ …    ┆ …          ┆ …            ┆ …     ┆ … ┆ …         ┆ …           ┆ …           ┆ …         │\n",
      "│ 1993 ┆ Subaru     ┆ Legacy       ┆ 2.2   ┆ … ┆ 26        ┆ 2013-01-01  ┆ true        ┆ 4         │\n",
      "│      ┆            ┆              ┆       ┆   ┆           ┆ 00:00:00    ┆             ┆           │\n",
      "│ 1993 ┆ Subaru     ┆ Legacy       ┆ 2.2   ┆ … ┆ 28        ┆ 2013-01-01  ┆ false       ┆ 5         │\n",
      "│      ┆            ┆              ┆       ┆   ┆           ┆ 00:00:00    ┆             ┆           │\n",
      "│ 1993 ┆ Subaru     ┆ Legacy AWD   ┆ 2.2   ┆ … ┆ 24        ┆ 2013-01-01  ┆ true        ┆ 4         │\n",
      "│      ┆            ┆              ┆       ┆   ┆           ┆ 00:00:00    ┆             ┆           │\n",
      "│ 1993 ┆ Subaru     ┆ Legacy AWD   ┆ 2.2   ┆ … ┆ 24        ┆ 2013-01-01  ┆ false       ┆ 5         │\n",
      "│      ┆            ┆              ┆       ┆   ┆           ┆ 00:00:00    ┆             ┆           │\n",
      "│ 1993 ┆ Subaru     ┆ Legacy AWD   ┆ 2.2   ┆ … ┆ 21        ┆ 2013-01-01  ┆ true        ┆ 4         │\n",
      "│      ┆            ┆ Turbo        ┆       ┆   ┆           ┆ 00:00:00    ┆             ┆           │\n",
      "└──────┴────────────┴──────────────┴───────┴───┴───────────┴─────────────┴─────────────┴───────────┘\n"
     ]
    }
   ],
   "source": [
    "print(autos\n",
    "      .drop_nulls(subset=(['cylinders', 'displ']))\n",
    "     )"
   ]
  },
  {
   "cell_type": "code",
   "execution_count": 66,
   "id": "2f7f9fdd-6c97-4e64-8efb-f5ba8ca068e0",
   "metadata": {},
   "outputs": [
    {
     "name": "stdout",
     "output_type": "stream",
     "text": [
      "shape: (47_266, 15)\n",
      "┌──────┬────────────┬──────────────┬───────┬───┬───────────┬─────────────┬─────────────┬───────────┐\n",
      "│ year ┆ make       ┆ model        ┆ displ ┆ … ┆ highway08 ┆ createdOn   ┆ is_automati ┆ num_gears │\n",
      "│ ---  ┆ ---        ┆ ---          ┆ ---   ┆   ┆ ---       ┆ ---         ┆ c           ┆ ---       │\n",
      "│ i16  ┆ cat        ┆ cat          ┆ f32   ┆   ┆ u8        ┆ datetime[μs ┆ ---         ┆ u8        │\n",
      "│      ┆            ┆              ┆       ┆   ┆           ┆ ]           ┆ str         ┆           │\n",
      "╞══════╪════════════╪══════════════╪═══════╪═══╪═══════════╪═════════════╪═════════════╪═══════════╡\n",
      "│ 1985 ┆ Alfa Romeo ┆ Spider       ┆ 2.0   ┆ … ┆ 25        ┆ 2013-01-01  ┆ false       ┆ 5         │\n",
      "│      ┆            ┆ Veloce 2000  ┆       ┆   ┆           ┆ 00:00:00    ┆             ┆           │\n",
      "│ 1985 ┆ Ferrari    ┆ Testarossa   ┆ 4.9   ┆ … ┆ 14        ┆ 2013-01-01  ┆ false       ┆ 5         │\n",
      "│      ┆            ┆              ┆       ┆   ┆           ┆ 00:00:00    ┆             ┆           │\n",
      "│ 1985 ┆ Dodge      ┆ Charger      ┆ 2.2   ┆ … ┆ 33        ┆ 2013-01-01  ┆ false       ┆ 5         │\n",
      "│      ┆            ┆              ┆       ┆   ┆           ┆ 00:00:00    ┆             ┆           │\n",
      "│ 1985 ┆ Dodge      ┆ B150/B250    ┆ 5.2   ┆ … ┆ 12        ┆ 2013-01-01  ┆ true        ┆ 3         │\n",
      "│      ┆            ┆ Wagon 2WD    ┆       ┆   ┆           ┆ 00:00:00    ┆             ┆           │\n",
      "│ 1993 ┆ Subaru     ┆ Legacy AWD   ┆ 2.2   ┆ … ┆ 23        ┆ 2013-01-01  ┆ false       ┆ 5         │\n",
      "│      ┆            ┆ Turbo        ┆       ┆   ┆           ┆ 00:00:00    ┆             ┆           │\n",
      "│ …    ┆ …          ┆ …            ┆ …     ┆ … ┆ …         ┆ …           ┆ …           ┆ …         │\n",
      "│ 1993 ┆ Subaru     ┆ Legacy       ┆ 2.2   ┆ … ┆ 26        ┆ 2013-01-01  ┆ true        ┆ 4         │\n",
      "│      ┆            ┆              ┆       ┆   ┆           ┆ 00:00:00    ┆             ┆           │\n",
      "│ 1993 ┆ Subaru     ┆ Legacy       ┆ 2.2   ┆ … ┆ 28        ┆ 2013-01-01  ┆ false       ┆ 5         │\n",
      "│      ┆            ┆              ┆       ┆   ┆           ┆ 00:00:00    ┆             ┆           │\n",
      "│ 1993 ┆ Subaru     ┆ Legacy AWD   ┆ 2.2   ┆ … ┆ 24        ┆ 2013-01-01  ┆ true        ┆ 4         │\n",
      "│      ┆            ┆              ┆       ┆   ┆           ┆ 00:00:00    ┆             ┆           │\n",
      "│ 1993 ┆ Subaru     ┆ Legacy AWD   ┆ 2.2   ┆ … ┆ 24        ┆ 2013-01-01  ┆ false       ┆ 5         │\n",
      "│      ┆            ┆              ┆       ┆   ┆           ┆ 00:00:00    ┆             ┆           │\n",
      "│ 1993 ┆ Subaru     ┆ Legacy AWD   ┆ 2.2   ┆ … ┆ 21        ┆ 2013-01-01  ┆ true        ┆ 4         │\n",
      "│      ┆            ┆ Turbo        ┆       ┆   ┆           ┆ 00:00:00    ┆             ┆           │\n",
      "└──────┴────────────┴──────────────┴───────┴───┴───────────┴─────────────┴─────────────┴───────────┘\n"
     ]
    }
   ],
   "source": [
    "print(autos\n",
    "      .drop_nulls(subset=cs.numeric())\n",
    "     )"
   ]
  },
  {
   "cell_type": "code",
   "execution_count": 67,
   "id": "5c93251b-e820-432e-9376-f48664d1a6d1",
   "metadata": {},
   "outputs": [],
   "source": [
    "# Running again with PCA() Model\n",
    "pca = decomposition.PCA()"
   ]
  },
  {
   "cell_type": "code",
   "execution_count": 68,
   "id": "40289c71-5f2e-4175-86a4-4c85a72f28f8",
   "metadata": {},
   "outputs": [
    {
     "data": {
      "text/html": [
       "<style>#sk-container-id-1 {color: black;background-color: white;}#sk-container-id-1 pre{padding: 0;}#sk-container-id-1 div.sk-toggleable {background-color: white;}#sk-container-id-1 label.sk-toggleable__label {cursor: pointer;display: block;width: 100%;margin-bottom: 0;padding: 0.3em;box-sizing: border-box;text-align: center;}#sk-container-id-1 label.sk-toggleable__label-arrow:before {content: \"▸\";float: left;margin-right: 0.25em;color: #696969;}#sk-container-id-1 label.sk-toggleable__label-arrow:hover:before {color: black;}#sk-container-id-1 div.sk-estimator:hover label.sk-toggleable__label-arrow:before {color: black;}#sk-container-id-1 div.sk-toggleable__content {max-height: 0;max-width: 0;overflow: hidden;text-align: left;background-color: #f0f8ff;}#sk-container-id-1 div.sk-toggleable__content pre {margin: 0.2em;color: black;border-radius: 0.25em;background-color: #f0f8ff;}#sk-container-id-1 input.sk-toggleable__control:checked~div.sk-toggleable__content {max-height: 200px;max-width: 100%;overflow: auto;}#sk-container-id-1 input.sk-toggleable__control:checked~label.sk-toggleable__label-arrow:before {content: \"▾\";}#sk-container-id-1 div.sk-estimator input.sk-toggleable__control:checked~label.sk-toggleable__label {background-color: #d4ebff;}#sk-container-id-1 div.sk-label input.sk-toggleable__control:checked~label.sk-toggleable__label {background-color: #d4ebff;}#sk-container-id-1 input.sk-hidden--visually {border: 0;clip: rect(1px 1px 1px 1px);clip: rect(1px, 1px, 1px, 1px);height: 1px;margin: -1px;overflow: hidden;padding: 0;position: absolute;width: 1px;}#sk-container-id-1 div.sk-estimator {font-family: monospace;background-color: #f0f8ff;border: 1px dotted black;border-radius: 0.25em;box-sizing: border-box;margin-bottom: 0.5em;}#sk-container-id-1 div.sk-estimator:hover {background-color: #d4ebff;}#sk-container-id-1 div.sk-parallel-item::after {content: \"\";width: 100%;border-bottom: 1px solid gray;flex-grow: 1;}#sk-container-id-1 div.sk-label:hover label.sk-toggleable__label {background-color: #d4ebff;}#sk-container-id-1 div.sk-serial::before {content: \"\";position: absolute;border-left: 1px solid gray;box-sizing: border-box;top: 0;bottom: 0;left: 50%;z-index: 0;}#sk-container-id-1 div.sk-serial {display: flex;flex-direction: column;align-items: center;background-color: white;padding-right: 0.2em;padding-left: 0.2em;position: relative;}#sk-container-id-1 div.sk-item {position: relative;z-index: 1;}#sk-container-id-1 div.sk-parallel {display: flex;align-items: stretch;justify-content: center;background-color: white;position: relative;}#sk-container-id-1 div.sk-item::before, #sk-container-id-1 div.sk-parallel-item::before {content: \"\";position: absolute;border-left: 1px solid gray;box-sizing: border-box;top: 0;bottom: 0;left: 50%;z-index: -1;}#sk-container-id-1 div.sk-parallel-item {display: flex;flex-direction: column;z-index: 1;position: relative;background-color: white;}#sk-container-id-1 div.sk-parallel-item:first-child::after {align-self: flex-end;width: 50%;}#sk-container-id-1 div.sk-parallel-item:last-child::after {align-self: flex-start;width: 50%;}#sk-container-id-1 div.sk-parallel-item:only-child::after {width: 0;}#sk-container-id-1 div.sk-dashed-wrapped {border: 1px dashed gray;margin: 0 0.4em 0.5em 0.4em;box-sizing: border-box;padding-bottom: 0.4em;background-color: white;}#sk-container-id-1 div.sk-label label {font-family: monospace;font-weight: bold;display: inline-block;line-height: 1.2em;}#sk-container-id-1 div.sk-label-container {text-align: center;}#sk-container-id-1 div.sk-container {/* jupyter's `normalize.less` sets `[hidden] { display: none; }` but bootstrap.min.css set `[hidden] { display: none !important; }` so we also need the `!important` here to be able to override the default hidden behavior on the sphinx rendered scikit-learn.org. See: https://github.com/scikit-learn/scikit-learn/issues/21755 */display: inline-block !important;position: relative;}#sk-container-id-1 div.sk-text-repr-fallback {display: none;}</style><div id=\"sk-container-id-1\" class=\"sk-top-container\"><div class=\"sk-text-repr-fallback\"><pre>PCA()</pre><b>In a Jupyter environment, please rerun this cell to show the HTML representation or trust the notebook. <br />On GitHub, the HTML representation is unable to render, please try loading this page with nbviewer.org.</b></div><div class=\"sk-container\" hidden><div class=\"sk-item\"><div class=\"sk-estimator sk-toggleable\"><input class=\"sk-toggleable__control sk-hidden--visually\" id=\"sk-estimator-id-1\" type=\"checkbox\" checked><label for=\"sk-estimator-id-1\" class=\"sk-toggleable__label sk-toggleable__label-arrow\">PCA</label><div class=\"sk-toggleable__content\"><pre>PCA()</pre></div></div></div></div></div>"
      ],
      "text/plain": [
       "PCA()"
      ]
     },
     "execution_count": 68,
     "metadata": {},
     "output_type": "execute_result"
    }
   ],
   "source": [
    "# Fitting Model\n",
    "pca.fit(autos.select(cs.numeric()).drop_nulls())"
   ]
  },
  {
   "cell_type": "code",
   "execution_count": 70,
   "id": "61b78b0e-478f-4bbe-b190-63f4470102c8",
   "metadata": {},
   "outputs": [
    {
     "ename": "ComputeError",
     "evalue": "The predicate passed to 'LazyFrame.filter' expanded to multiple expressions: \n\n\tcol(\"num_gears\").is_null(),\n\tcol(\"is_automatic\").is_null(),\nThis is ambiguous. Try to combine the predicates with the 'all' or `any' expression.\n\nResolved plan until failure:\n\n\t---> FAILED HERE RESOLVING 'filter' <---\nDF [\"year\", \"make\", \"model\", \"displ\"]; PROJECT */15 COLUMNS; SELECTION: None",
     "output_type": "error",
     "traceback": [
      "\u001b[0;31m---------------------------------------------------------------------------\u001b[0m",
      "\u001b[0;31mComputeError\u001b[0m                              Traceback (most recent call last)",
      "Cell \u001b[0;32mIn[70], line 2\u001b[0m\n\u001b[1;32m      1\u001b[0m (autos\n\u001b[0;32m----> 2\u001b[0m  \u001b[38;5;241m.\u001b[39mfilter(pl\u001b[38;5;241m.\u001b[39mcol(\u001b[38;5;124m'\u001b[39m\u001b[38;5;124mnum_gears\u001b[39m\u001b[38;5;124m'\u001b[39m, \u001b[38;5;124m'\u001b[39m\u001b[38;5;124mis_automatic\u001b[39m\u001b[38;5;124m'\u001b[39m)\u001b[38;5;241m.\u001b[39mis_null())\n\u001b[1;32m      3\u001b[0m )\n",
      "File \u001b[0;32m~/anaconda3/envs/polars/lib/python3.11/site-packages/polars/dataframe/frame.py:4782\u001b[0m, in \u001b[0;36mDataFrame.filter\u001b[0;34m(self, *predicates, **constraints)\u001b[0m\n\u001b[1;32m   4628\u001b[0m \u001b[38;5;28;01mdef\u001b[39;00m \u001b[38;5;21mfilter\u001b[39m(\n\u001b[1;32m   4629\u001b[0m     \u001b[38;5;28mself\u001b[39m,\n\u001b[1;32m   4630\u001b[0m     \u001b[38;5;241m*\u001b[39mpredicates: (\n\u001b[0;32m   (...)\u001b[0m\n\u001b[1;32m   4637\u001b[0m     \u001b[38;5;241m*\u001b[39m\u001b[38;5;241m*\u001b[39mconstraints: Any,\n\u001b[1;32m   4638\u001b[0m ) \u001b[38;5;241m-\u001b[39m\u001b[38;5;241m>\u001b[39m DataFrame:\n\u001b[1;32m   4639\u001b[0m \u001b[38;5;250m    \u001b[39m\u001b[38;5;124;03m\"\"\"\u001b[39;00m\n\u001b[1;32m   4640\u001b[0m \u001b[38;5;124;03m    Filter the rows in the DataFrame based on one or more predicate expressions.\u001b[39;00m\n\u001b[1;32m   4641\u001b[0m \n\u001b[0;32m   (...)\u001b[0m\n\u001b[1;32m   4780\u001b[0m \n\u001b[1;32m   4781\u001b[0m \u001b[38;5;124;03m    \"\"\"\u001b[39;00m\n\u001b[0;32m-> 4782\u001b[0m     \u001b[38;5;28;01mreturn\u001b[39;00m \u001b[38;5;28mself\u001b[39m\u001b[38;5;241m.\u001b[39mlazy()\u001b[38;5;241m.\u001b[39mfilter(\u001b[38;5;241m*\u001b[39mpredicates, \u001b[38;5;241m*\u001b[39m\u001b[38;5;241m*\u001b[39mconstraints)\u001b[38;5;241m.\u001b[39mcollect(_eager\u001b[38;5;241m=\u001b[39m\u001b[38;5;28;01mTrue\u001b[39;00m)\n",
      "File \u001b[0;32m~/anaconda3/envs/polars/lib/python3.11/site-packages/polars/lazyframe/frame.py:2029\u001b[0m, in \u001b[0;36mLazyFrame.collect\u001b[0;34m(self, type_coercion, predicate_pushdown, projection_pushdown, simplify_expression, slice_pushdown, comm_subplan_elim, comm_subexpr_elim, cluster_with_columns, collapse_joins, no_optimization, streaming, engine, background, _eager, **_kwargs)\u001b[0m\n\u001b[1;32m   2027\u001b[0m \u001b[38;5;66;03m# Only for testing purposes\u001b[39;00m\n\u001b[1;32m   2028\u001b[0m callback \u001b[38;5;241m=\u001b[39m _kwargs\u001b[38;5;241m.\u001b[39mget(\u001b[38;5;124m\"\u001b[39m\u001b[38;5;124mpost_opt_callback\u001b[39m\u001b[38;5;124m\"\u001b[39m, callback)\n\u001b[0;32m-> 2029\u001b[0m \u001b[38;5;28;01mreturn\u001b[39;00m wrap_df(ldf\u001b[38;5;241m.\u001b[39mcollect(callback))\n",
      "\u001b[0;31mComputeError\u001b[0m: The predicate passed to 'LazyFrame.filter' expanded to multiple expressions: \n\n\tcol(\"num_gears\").is_null(),\n\tcol(\"is_automatic\").is_null(),\nThis is ambiguous. Try to combine the predicates with the 'all' or `any' expression.\n\nResolved plan until failure:\n\n\t---> FAILED HERE RESOLVING 'filter' <---\nDF [\"year\", \"make\", \"model\", \"displ\"]; PROJECT */15 COLUMNS; SELECTION: None"
     ]
    }
   ],
   "source": [
    "(autos\n",
    " .filter(pl.col('num_gears', 'is_automatic').is_null())\n",
    ")"
   ]
  },
  {
   "cell_type": "code",
   "execution_count": 71,
   "id": "dbb566f6-70e9-4be1-9132-dd29367d1fcf",
   "metadata": {},
   "outputs": [
    {
     "name": "stdout",
     "output_type": "stream",
     "text": [
      "shape: (0, 15)\n",
      "┌──────┬──────┬───────┬───────┬───┬───────────┬──────────────┬──────────────┬───────────┐\n",
      "│ year ┆ make ┆ model ┆ displ ┆ … ┆ highway08 ┆ createdOn    ┆ is_automatic ┆ num_gears │\n",
      "│ ---  ┆ ---  ┆ ---   ┆ ---   ┆   ┆ ---       ┆ ---          ┆ ---          ┆ ---       │\n",
      "│ i16  ┆ cat  ┆ cat   ┆ f32   ┆   ┆ u8        ┆ datetime[μs] ┆ str          ┆ u8        │\n",
      "╞══════╪══════╪═══════╪═══════╪═══╪═══════════╪══════════════╪══════════════╪═══════════╡\n",
      "└──────┴──────┴───────┴───────┴───┴───────────┴──────────────┴──────────────┴───────────┘\n"
     ]
    }
   ],
   "source": [
    "print(autos\n",
    "      .filter(pl.col('num_gears').is_null() & pl.col('is_automatic').is_null())\n",
    "     )"
   ]
  },
  {
   "cell_type": "code",
   "execution_count": 72,
   "id": "e4c1dc01-fd01-470f-96b5-433579eb2aec",
   "metadata": {},
   "outputs": [
    {
     "name": "stdout",
     "output_type": "stream",
     "text": [
      "shape: (0, 15)\n",
      "┌──────┬──────┬───────┬───────┬───┬───────────┬──────────────┬──────────────┬───────────┐\n",
      "│ year ┆ make ┆ model ┆ displ ┆ … ┆ highway08 ┆ createdOn    ┆ is_automatic ┆ num_gears │\n",
      "│ ---  ┆ ---  ┆ ---   ┆ ---   ┆   ┆ ---       ┆ ---          ┆ ---          ┆ ---       │\n",
      "│ i16  ┆ cat  ┆ cat   ┆ f32   ┆   ┆ u8        ┆ datetime[μs] ┆ str          ┆ u8        │\n",
      "╞══════╪══════╪═══════╪═══════╪═══╪═══════════╪══════════════╪══════════════╪═══════════╡\n",
      "└──────┴──────┴───────┴───────┴───┴───────────┴──────────────┴──────────────┴───────────┘\n"
     ]
    }
   ],
   "source": [
    "# All Horizontal Function on Row-wise\n",
    "print(autos\n",
    "      .filter(pl.all_horizontal(\n",
    "          pl.col('num_gears', 'is_automatic').is_null()))\n",
    "     )"
   ]
  },
  {
   "cell_type": "code",
   "execution_count": 74,
   "id": "c67b0714-9878-46c1-8e20-042a0e0d1982",
   "metadata": {},
   "outputs": [
    {
     "name": "stdout",
     "output_type": "stream",
     "text": [
      "shape: (48_231, 15)\n",
      "┌──────┬────────────┬──────────────┬───────┬───┬───────────┬─────────────┬─────────────┬───────────┐\n",
      "│ year ┆ make       ┆ model        ┆ displ ┆ … ┆ highway08 ┆ createdOn   ┆ is_automati ┆ num_gears │\n",
      "│ ---  ┆ ---        ┆ ---          ┆ ---   ┆   ┆ ---       ┆ ---         ┆ c           ┆ ---       │\n",
      "│ i16  ┆ cat        ┆ cat          ┆ f32   ┆   ┆ u8        ┆ datetime[μs ┆ ---         ┆ u8        │\n",
      "│      ┆            ┆              ┆       ┆   ┆           ┆ ]           ┆ str         ┆           │\n",
      "╞══════╪════════════╪══════════════╪═══════╪═══╪═══════════╪═════════════╪═════════════╪═══════════╡\n",
      "│ 1985 ┆ Alfa Romeo ┆ Spider       ┆ 2.0   ┆ … ┆ 25        ┆ 2013-01-01  ┆ false       ┆ 5         │\n",
      "│      ┆            ┆ Veloce 2000  ┆       ┆   ┆           ┆ 00:00:00    ┆             ┆           │\n",
      "│ 1985 ┆ Ferrari    ┆ Testarossa   ┆ 4.9   ┆ … ┆ 14        ┆ 2013-01-01  ┆ false       ┆ 5         │\n",
      "│      ┆            ┆              ┆       ┆   ┆           ┆ 00:00:00    ┆             ┆           │\n",
      "│ 1985 ┆ Dodge      ┆ Charger      ┆ 2.2   ┆ … ┆ 33        ┆ 2013-01-01  ┆ false       ┆ 5         │\n",
      "│      ┆            ┆              ┆       ┆   ┆           ┆ 00:00:00    ┆             ┆           │\n",
      "│ 1985 ┆ Dodge      ┆ B150/B250    ┆ 5.2   ┆ … ┆ 12        ┆ 2013-01-01  ┆ true        ┆ 3         │\n",
      "│      ┆            ┆ Wagon 2WD    ┆       ┆   ┆           ┆ 00:00:00    ┆             ┆           │\n",
      "│ 1993 ┆ Subaru     ┆ Legacy AWD   ┆ 2.2   ┆ … ┆ 23        ┆ 2013-01-01  ┆ false       ┆ 5         │\n",
      "│      ┆            ┆ Turbo        ┆       ┆   ┆           ┆ 00:00:00    ┆             ┆           │\n",
      "│ …    ┆ …          ┆ …            ┆ …     ┆ … ┆ …         ┆ …           ┆ …           ┆ …         │\n",
      "│ 1993 ┆ Subaru     ┆ Legacy       ┆ 2.2   ┆ … ┆ 26        ┆ 2013-01-01  ┆ true        ┆ 4         │\n",
      "│      ┆            ┆              ┆       ┆   ┆           ┆ 00:00:00    ┆             ┆           │\n",
      "│ 1993 ┆ Subaru     ┆ Legacy       ┆ 2.2   ┆ … ┆ 28        ┆ 2013-01-01  ┆ false       ┆ 5         │\n",
      "│      ┆            ┆              ┆       ┆   ┆           ┆ 00:00:00    ┆             ┆           │\n",
      "│ 1993 ┆ Subaru     ┆ Legacy AWD   ┆ 2.2   ┆ … ┆ 24        ┆ 2013-01-01  ┆ true        ┆ 4         │\n",
      "│      ┆            ┆              ┆       ┆   ┆           ┆ 00:00:00    ┆             ┆           │\n",
      "│ 1993 ┆ Subaru     ┆ Legacy AWD   ┆ 2.2   ┆ … ┆ 24        ┆ 2013-01-01  ┆ false       ┆ 5         │\n",
      "│      ┆            ┆              ┆       ┆   ┆           ┆ 00:00:00    ┆             ┆           │\n",
      "│ 1993 ┆ Subaru     ┆ Legacy AWD   ┆ 2.2   ┆ … ┆ 21        ┆ 2013-01-01  ┆ true        ┆ 4         │\n",
      "│      ┆            ┆ Turbo        ┆       ┆   ┆           ┆ 00:00:00    ┆             ┆           │\n",
      "└──────┴────────────┴──────────────┴───────┴───┴───────────┴─────────────┴─────────────┴───────────┘\n"
     ]
    }
   ],
   "source": [
    "# Applying Filter Inversion\n",
    "print(autos\n",
    "      .filter(~pl.all_horizontal(\n",
    "          pl.col('num_gears', 'is_automatic').is_null()))\n",
    "     )"
   ]
  },
  {
   "cell_type": "markdown",
   "id": "bf61fa32-597c-4c7e-b63d-fa6df0566e48",
   "metadata": {},
   "source": [
    "### Filling in Missing Values"
   ]
  },
  {
   "cell_type": "code",
   "execution_count": 75,
   "id": "97dee91a-3c94-4f4f-9935-1e7c73019be8",
   "metadata": {},
   "outputs": [
    {
     "name": "stdout",
     "output_type": "stream",
     "text": [
      "shape: (48_231, 15)\n",
      "┌──────┬────────────┬──────────────┬───────┬───┬───────────┬─────────────┬─────────────┬───────────┐\n",
      "│ year ┆ make       ┆ model        ┆ displ ┆ … ┆ highway08 ┆ createdOn   ┆ is_automati ┆ num_gears │\n",
      "│ ---  ┆ ---        ┆ ---          ┆ ---   ┆   ┆ ---       ┆ ---         ┆ c           ┆ ---       │\n",
      "│ i16  ┆ cat        ┆ cat          ┆ f32   ┆   ┆ u8        ┆ datetime[μs ┆ ---         ┆ u8        │\n",
      "│      ┆            ┆              ┆       ┆   ┆           ┆ ]           ┆ str         ┆           │\n",
      "╞══════╪════════════╪══════════════╪═══════╪═══╪═══════════╪═════════════╪═════════════╪═══════════╡\n",
      "│ 1985 ┆ Alfa Romeo ┆ Spider       ┆ 2.0   ┆ … ┆ 25        ┆ 2013-01-01  ┆ false       ┆ 5         │\n",
      "│      ┆            ┆ Veloce 2000  ┆       ┆   ┆           ┆ 00:00:00    ┆             ┆           │\n",
      "│ 1985 ┆ Ferrari    ┆ Testarossa   ┆ 4.9   ┆ … ┆ 14        ┆ 2013-01-01  ┆ false       ┆ 5         │\n",
      "│      ┆            ┆              ┆       ┆   ┆           ┆ 00:00:00    ┆             ┆           │\n",
      "│ 1985 ┆ Dodge      ┆ Charger      ┆ 2.2   ┆ … ┆ 33        ┆ 2013-01-01  ┆ false       ┆ 5         │\n",
      "│      ┆            ┆              ┆       ┆   ┆           ┆ 00:00:00    ┆             ┆           │\n",
      "│ 1985 ┆ Dodge      ┆ B150/B250    ┆ 5.2   ┆ … ┆ 12        ┆ 2013-01-01  ┆ true        ┆ 3         │\n",
      "│      ┆            ┆ Wagon 2WD    ┆       ┆   ┆           ┆ 00:00:00    ┆             ┆           │\n",
      "│ 1993 ┆ Subaru     ┆ Legacy AWD   ┆ 2.2   ┆ … ┆ 23        ┆ 2013-01-01  ┆ false       ┆ 5         │\n",
      "│      ┆            ┆ Turbo        ┆       ┆   ┆           ┆ 00:00:00    ┆             ┆           │\n",
      "│ …    ┆ …          ┆ …            ┆ …     ┆ … ┆ …         ┆ …           ┆ …           ┆ …         │\n",
      "│ 1993 ┆ Subaru     ┆ Legacy       ┆ 2.2   ┆ … ┆ 26        ┆ 2013-01-01  ┆ true        ┆ 4         │\n",
      "│      ┆            ┆              ┆       ┆   ┆           ┆ 00:00:00    ┆             ┆           │\n",
      "│ 1993 ┆ Subaru     ┆ Legacy       ┆ 2.2   ┆ … ┆ 28        ┆ 2013-01-01  ┆ false       ┆ 5         │\n",
      "│      ┆            ┆              ┆       ┆   ┆           ┆ 00:00:00    ┆             ┆           │\n",
      "│ 1993 ┆ Subaru     ┆ Legacy AWD   ┆ 2.2   ┆ … ┆ 24        ┆ 2013-01-01  ┆ true        ┆ 4         │\n",
      "│      ┆            ┆              ┆       ┆   ┆           ┆ 00:00:00    ┆             ┆           │\n",
      "│ 1993 ┆ Subaru     ┆ Legacy AWD   ┆ 2.2   ┆ … ┆ 24        ┆ 2013-01-01  ┆ false       ┆ 5         │\n",
      "│      ┆            ┆              ┆       ┆   ┆           ┆ 00:00:00    ┆             ┆           │\n",
      "│ 1993 ┆ Subaru     ┆ Legacy AWD   ┆ 2.2   ┆ … ┆ 21        ┆ 2013-01-01  ┆ true        ┆ 4         │\n",
      "│      ┆            ┆ Turbo        ┆       ┆   ┆           ┆ 00:00:00    ┆             ┆           │\n",
      "└──────┴────────────┴──────────────┴───────┴───┴───────────┴─────────────┴─────────────┴───────────┘\n"
     ]
    }
   ],
   "source": [
    "print(autos\n",
    "      .with_columns(pl.col('cylinders').fill_null(0))\n",
    "     )"
   ]
  },
  {
   "cell_type": "code",
   "execution_count": 77,
   "id": "23bf356b-d67f-44dc-831a-c332303e205b",
   "metadata": {},
   "outputs": [
    {
     "name": "stdout",
     "output_type": "stream",
     "text": [
      "shape: (1, 2)\n",
      "┌──────────┬────────────────┐\n",
      "│ cyl_mean ┆ cyl_fill0_mean │\n",
      "│ ---      ┆ ---            │\n",
      "│ f64      ┆ f64            │\n",
      "╞══════════╪════════════════╡\n",
      "│ 5.698388 ┆ 5.584375       │\n",
      "└──────────┴────────────────┘\n"
     ]
    }
   ],
   "source": [
    "print(autos\n",
    "      .select(cyl_mean=pl.col('cylinders').mean(),\n",
    "             cyl_fill0_mean=pl.col('cylinders').fill_null(0).mean())\n",
    "     )"
   ]
  },
  {
   "cell_type": "markdown",
   "id": "5e13278e-a8b6-4575-9166-0c2443b8d3e1",
   "metadata": {},
   "source": [
    "### Filling in Time Series Missing Values"
   ]
  },
  {
   "cell_type": "code",
   "execution_count": 79,
   "id": "f91eadd0-e439-4603-81df-1f95f7cab908",
   "metadata": {},
   "outputs": [],
   "source": [
    "snow = pl.DataFrame({'depth': [0, 0, np.nan, 9.1, 11.3, None, 7.8, 15, 20]}, strict=False)"
   ]
  },
  {
   "cell_type": "code",
   "execution_count": 80,
   "id": "44241dd8-8dca-4293-9051-a8a233e8ae72",
   "metadata": {},
   "outputs": [
    {
     "name": "stdout",
     "output_type": "stream",
     "text": [
      "shape: (9, 1)\n",
      "┌───────┐\n",
      "│ depth │\n",
      "│ ---   │\n",
      "│ f64   │\n",
      "╞═══════╡\n",
      "│ 0.0   │\n",
      "│ 0.0   │\n",
      "│ NaN   │\n",
      "│ 9.1   │\n",
      "│ 11.3  │\n",
      "│ null  │\n",
      "│ 7.8   │\n",
      "│ 15.0  │\n",
      "│ 20.0  │\n",
      "└───────┘\n"
     ]
    }
   ],
   "source": [
    "print(snow)"
   ]
  },
  {
   "cell_type": "code",
   "execution_count": 81,
   "id": "11eed87a-dc2f-43d0-9419-fefece742b5f",
   "metadata": {},
   "outputs": [
    {
     "name": "stdout",
     "output_type": "stream",
     "text": [
      "shape: (9, 6)\n",
      "┌───────┬─────────────┬─────────────┬──────────────┬─────────────┬────────────┐\n",
      "│ depth ┆ depth_ffill ┆ depth_bfill ┆ depth_interp ┆ depth_0fill ┆ depth_mean │\n",
      "│ ---   ┆ ---         ┆ ---         ┆ ---          ┆ ---         ┆ ---        │\n",
      "│ f64   ┆ f64         ┆ f64         ┆ f64          ┆ f64         ┆ f64        │\n",
      "╞═══════╪═════════════╪═════════════╪══════════════╪═════════════╪════════════╡\n",
      "│ 0.0   ┆ 0.0         ┆ 0.0         ┆ 0.0          ┆ 0.0         ┆ 0.0        │\n",
      "│ 0.0   ┆ 0.0         ┆ 0.0         ┆ 0.0          ┆ 0.0         ┆ 0.0        │\n",
      "│ NaN   ┆ NaN         ┆ NaN         ┆ NaN          ┆ NaN         ┆ NaN        │\n",
      "│ 9.1   ┆ 9.1         ┆ 9.1         ┆ 9.1          ┆ 9.1         ┆ 9.1        │\n",
      "│ 11.3  ┆ 11.3        ┆ 11.3        ┆ 11.3         ┆ 11.3        ┆ 11.3       │\n",
      "│ null  ┆ 11.3        ┆ 7.8         ┆ 9.55         ┆ 0.0         ┆ NaN        │\n",
      "│ 7.8   ┆ 7.8         ┆ 7.8         ┆ 7.8          ┆ 7.8         ┆ 7.8        │\n",
      "│ 15.0  ┆ 15.0        ┆ 15.0        ┆ 15.0         ┆ 15.0        ┆ 15.0       │\n",
      "│ 20.0  ┆ 20.0        ┆ 20.0        ┆ 20.0         ┆ 20.0        ┆ 20.0       │\n",
      "└───────┴─────────────┴─────────────┴──────────────┴─────────────┴────────────┘\n"
     ]
    }
   ],
   "source": [
    "# Forward & Backward Filling\n",
    "print(snow\n",
    "      .with_columns(pl.col('depth'),\n",
    "                    depth_ffill=pl.col('depth').fill_null(strategy='forward'),\n",
    "                    depth_bfill=pl.col('depth').fill_null(strategy='backward'),\n",
    "                    depth_interp=pl.col('depth').interpolate(),\n",
    "                    depth_0fill=pl.col('depth').fill_null(0),                                     \n",
    "                    depth_mean=pl.col('depth').fill_null(strategy='mean'),\n",
    "                   )\n",
    "     )"
   ]
  },
  {
   "cell_type": "code",
   "execution_count": 82,
   "id": "4abfa467-260b-49cb-b36b-7235c05e18b5",
   "metadata": {},
   "outputs": [
    {
     "name": "stdout",
     "output_type": "stream",
     "text": [
      "shape: (9, 2)\n",
      "┌────────────┬───────┐\n",
      "│ statistic  ┆ depth │\n",
      "│ ---        ┆ ---   │\n",
      "│ str        ┆ f64   │\n",
      "╞════════════╪═══════╡\n",
      "│ count      ┆ 8.0   │\n",
      "│ null_count ┆ 1.0   │\n",
      "│ mean       ┆ NaN   │\n",
      "│ std        ┆ NaN   │\n",
      "│ min        ┆ 0.0   │\n",
      "│ 25%        ┆ 7.8   │\n",
      "│ 50%        ┆ 11.3  │\n",
      "│ 75%        ┆ 15.0  │\n",
      "│ max        ┆ 20.0  │\n",
      "└────────────┴───────┘\n"
     ]
    }
   ],
   "source": [
    "print(snow\n",
    "      .describe()\n",
    "     )"
   ]
  },
  {
   "cell_type": "code",
   "execution_count": 83,
   "id": "8d40705c-bfa2-4db2-b1c7-3fcf2d632c75",
   "metadata": {},
   "outputs": [
    {
     "name": "stdout",
     "output_type": "stream",
     "text": [
      "shape: (9, 6)\n",
      "┌───────┬──────────┬─────────────┬─────────────┬──────────────┬────────────┐\n",
      "│ depth ┆ fill_nan ┆ depth_ffill ┆ depth_bfill ┆ depth_interp ┆ depth_mean │\n",
      "│ ---   ┆ ---      ┆ ---         ┆ ---         ┆ ---          ┆ ---        │\n",
      "│ f64   ┆ f64      ┆ f64         ┆ f64         ┆ f64          ┆ f64        │\n",
      "╞═══════╪══════════╪═════════════╪═════════════╪══════════════╪════════════╡\n",
      "│ 0.0   ┆ 0.0      ┆ 0.0         ┆ 0.0         ┆ 0.0          ┆ 0.0        │\n",
      "│ 0.0   ┆ 0.0      ┆ 0.0         ┆ 0.0         ┆ 0.0          ┆ 0.0        │\n",
      "│ NaN   ┆ null     ┆ NaN         ┆ NaN         ┆ NaN          ┆ NaN        │\n",
      "│ 9.1   ┆ 9.1      ┆ 9.1         ┆ 9.1         ┆ 9.1          ┆ 9.1        │\n",
      "│ 11.3  ┆ 11.3     ┆ 11.3        ┆ 11.3        ┆ 11.3         ┆ 11.3       │\n",
      "│ null  ┆ null     ┆ 11.3        ┆ 7.8         ┆ 9.55         ┆ NaN        │\n",
      "│ 7.8   ┆ 7.8      ┆ 7.8         ┆ 7.8         ┆ 7.8          ┆ 7.8        │\n",
      "│ 15.0  ┆ 15.0     ┆ 15.0        ┆ 15.0        ┆ 15.0         ┆ 15.0       │\n",
      "│ 20.0  ┆ 20.0     ┆ 20.0        ┆ 20.0        ┆ 20.0         ┆ 20.0       │\n",
      "└───────┴──────────┴─────────────┴─────────────┴──────────────┴────────────┘\n"
     ]
    }
   ],
   "source": [
    "print(snow\n",
    "      .with_columns('depth',\n",
    "                    fill_nan=pl.col('depth').fill_nan(None),\n",
    "                    depth_ffill=pl.col('depth').fill_null(strategy='forward'),\n",
    "                    depth_bfill=pl.col('depth').fill_null(strategy='backward'),\n",
    "                    depth_interp=pl.col('depth').interpolate(),\n",
    "                    depth_mean=pl.col('depth').fill_null(strategy='mean')\n",
    "                   )\n",
    "     )"
   ]
  },
  {
   "cell_type": "code",
   "execution_count": 84,
   "id": "85ea1f2e-40dd-4d63-8040-e2af34479049",
   "metadata": {},
   "outputs": [
    {
     "ename": "ColumnNotFoundError",
     "evalue": "fill_nan\n\nResolved plan until failure:\n\n\t---> FAILED HERE RESOLVING 'with_columns' <---\nDF [\"depth\"]; PROJECT */1 COLUMNS; SELECTION: None",
     "output_type": "error",
     "traceback": [
      "\u001b[0;31m---------------------------------------------------------------------------\u001b[0m",
      "\u001b[0;31mColumnNotFoundError\u001b[0m                       Traceback (most recent call last)",
      "Cell \u001b[0;32mIn[84], line 2\u001b[0m\n\u001b[1;32m      1\u001b[0m \u001b[38;5;28mprint\u001b[39m(snow\n\u001b[0;32m----> 2\u001b[0m       \u001b[38;5;241m.\u001b[39mwith_columns(\u001b[38;5;124m'\u001b[39m\u001b[38;5;124mdepth\u001b[39m\u001b[38;5;124m'\u001b[39m,\n\u001b[1;32m      3\u001b[0m                     fill_nan\u001b[38;5;241m=\u001b[39mpl\u001b[38;5;241m.\u001b[39mcol(\u001b[38;5;124m'\u001b[39m\u001b[38;5;124mdepth\u001b[39m\u001b[38;5;124m'\u001b[39m)\u001b[38;5;241m.\u001b[39mfill_nan(\u001b[38;5;28;01mNone\u001b[39;00m),\n\u001b[1;32m      4\u001b[0m                     depth_ffill\u001b[38;5;241m=\u001b[39mpl\u001b[38;5;241m.\u001b[39mcol(\u001b[38;5;124m'\u001b[39m\u001b[38;5;124mfill_nan\u001b[39m\u001b[38;5;124m'\u001b[39m)\u001b[38;5;241m.\u001b[39mfill_null(strategy\u001b[38;5;241m=\u001b[39m\u001b[38;5;124m'\u001b[39m\u001b[38;5;124mforward\u001b[39m\u001b[38;5;124m'\u001b[39m),\n\u001b[1;32m      5\u001b[0m                     depth_bfill\u001b[38;5;241m=\u001b[39mpl\u001b[38;5;241m.\u001b[39mcol(\u001b[38;5;124m'\u001b[39m\u001b[38;5;124mfill_nan\u001b[39m\u001b[38;5;124m'\u001b[39m)\u001b[38;5;241m.\u001b[39mfill_null(strategy\u001b[38;5;241m=\u001b[39m\u001b[38;5;124m'\u001b[39m\u001b[38;5;124mbackward\u001b[39m\u001b[38;5;124m'\u001b[39m),\n\u001b[1;32m      6\u001b[0m                     depth_interp\u001b[38;5;241m=\u001b[39mpl\u001b[38;5;241m.\u001b[39mcol(\u001b[38;5;124m'\u001b[39m\u001b[38;5;124mfill_nan\u001b[39m\u001b[38;5;124m'\u001b[39m)\u001b[38;5;241m.\u001b[39minterpolate(),\n\u001b[1;32m      7\u001b[0m                     depth_mean\u001b[38;5;241m=\u001b[39mpl\u001b[38;5;241m.\u001b[39mcol(\u001b[38;5;124m'\u001b[39m\u001b[38;5;124mfill_nan\u001b[39m\u001b[38;5;124m'\u001b[39m)\u001b[38;5;241m.\u001b[39mfill_null(strategy\u001b[38;5;241m=\u001b[39m\u001b[38;5;124m'\u001b[39m\u001b[38;5;124mmean\u001b[39m\u001b[38;5;124m'\u001b[39m)\n\u001b[1;32m      8\u001b[0m                    )\n\u001b[1;32m      9\u001b[0m      )\n",
      "File \u001b[0;32m~/anaconda3/envs/polars/lib/python3.11/site-packages/polars/dataframe/frame.py:9211\u001b[0m, in \u001b[0;36mDataFrame.with_columns\u001b[0;34m(self, *exprs, **named_exprs)\u001b[0m\n\u001b[1;32m   9065\u001b[0m \u001b[38;5;28;01mdef\u001b[39;00m \u001b[38;5;21mwith_columns\u001b[39m(\n\u001b[1;32m   9066\u001b[0m     \u001b[38;5;28mself\u001b[39m,\n\u001b[1;32m   9067\u001b[0m     \u001b[38;5;241m*\u001b[39mexprs: IntoExpr \u001b[38;5;241m|\u001b[39m Iterable[IntoExpr],\n\u001b[1;32m   9068\u001b[0m     \u001b[38;5;241m*\u001b[39m\u001b[38;5;241m*\u001b[39mnamed_exprs: IntoExpr,\n\u001b[1;32m   9069\u001b[0m ) \u001b[38;5;241m-\u001b[39m\u001b[38;5;241m>\u001b[39m DataFrame:\n\u001b[1;32m   9070\u001b[0m \u001b[38;5;250m    \u001b[39m\u001b[38;5;124;03m\"\"\"\u001b[39;00m\n\u001b[1;32m   9071\u001b[0m \u001b[38;5;124;03m    Add columns to this DataFrame.\u001b[39;00m\n\u001b[1;32m   9072\u001b[0m \n\u001b[0;32m   (...)\u001b[0m\n\u001b[1;32m   9209\u001b[0m \u001b[38;5;124;03m    └─────┴──────┴─────────────┘\u001b[39;00m\n\u001b[1;32m   9210\u001b[0m \u001b[38;5;124;03m    \"\"\"\u001b[39;00m\n\u001b[0;32m-> 9211\u001b[0m     \u001b[38;5;28;01mreturn\u001b[39;00m \u001b[38;5;28mself\u001b[39m\u001b[38;5;241m.\u001b[39mlazy()\u001b[38;5;241m.\u001b[39mwith_columns(\u001b[38;5;241m*\u001b[39mexprs, \u001b[38;5;241m*\u001b[39m\u001b[38;5;241m*\u001b[39mnamed_exprs)\u001b[38;5;241m.\u001b[39mcollect(_eager\u001b[38;5;241m=\u001b[39m\u001b[38;5;28;01mTrue\u001b[39;00m)\n",
      "File \u001b[0;32m~/anaconda3/envs/polars/lib/python3.11/site-packages/polars/lazyframe/frame.py:2029\u001b[0m, in \u001b[0;36mLazyFrame.collect\u001b[0;34m(self, type_coercion, predicate_pushdown, projection_pushdown, simplify_expression, slice_pushdown, comm_subplan_elim, comm_subexpr_elim, cluster_with_columns, collapse_joins, no_optimization, streaming, engine, background, _eager, **_kwargs)\u001b[0m\n\u001b[1;32m   2027\u001b[0m \u001b[38;5;66;03m# Only for testing purposes\u001b[39;00m\n\u001b[1;32m   2028\u001b[0m callback \u001b[38;5;241m=\u001b[39m _kwargs\u001b[38;5;241m.\u001b[39mget(\u001b[38;5;124m\"\u001b[39m\u001b[38;5;124mpost_opt_callback\u001b[39m\u001b[38;5;124m\"\u001b[39m, callback)\n\u001b[0;32m-> 2029\u001b[0m \u001b[38;5;28;01mreturn\u001b[39;00m wrap_df(ldf\u001b[38;5;241m.\u001b[39mcollect(callback))\n",
      "\u001b[0;31mColumnNotFoundError\u001b[0m: fill_nan\n\nResolved plan until failure:\n\n\t---> FAILED HERE RESOLVING 'with_columns' <---\nDF [\"depth\"]; PROJECT */1 COLUMNS; SELECTION: None"
     ]
    }
   ],
   "source": [
    "print(snow\n",
    "      .with_columns('depth',\n",
    "                    fill_nan=pl.col('depth').fill_nan(None),\n",
    "                    depth_ffill=pl.col('fill_nan').fill_null(strategy='forward'),\n",
    "                    depth_bfill=pl.col('fill_nan').fill_null(strategy='backward'),\n",
    "                    depth_interp=pl.col('fill_nan').interpolate(),\n",
    "                    depth_mean=pl.col('fill_nan').fill_null(strategy='mean')\n",
    "                   )\n",
    "     )"
   ]
  },
  {
   "cell_type": "code",
   "execution_count": 87,
   "id": "50be2b37-e212-46ad-856d-9fb9e25c0b54",
   "metadata": {},
   "outputs": [],
   "source": [
    "# Applying Synchronization\n",
    "imp_pl = (snow\n",
    "          .with_columns(fill_nan=pl.col('depth').fill_nan(None))\n",
    "          .with_columns(\n",
    "              depth_ffill=pl.col('fill_nan').fill_null(strategy='forward'),\n",
    "              depth_bfill=pl.col('fill_nan').fill_null(strategy='backward'),\n",
    "              depth_interp=pl.col('fill_nan').interpolate(),\n",
    "              depth_mean=pl.col('fill_nan').fill_null(strategy='mean')\n",
    "          )\n",
    "         )"
   ]
  },
  {
   "cell_type": "code",
   "execution_count": 88,
   "id": "9784f134-39b9-4930-8440-4d3a2d9c4a10",
   "metadata": {},
   "outputs": [
    {
     "name": "stdout",
     "output_type": "stream",
     "text": [
      "shape: (9, 6)\n",
      "┌───────┬──────────┬─────────────┬─────────────┬──────────────┬────────────┐\n",
      "│ depth ┆ fill_nan ┆ depth_ffill ┆ depth_bfill ┆ depth_interp ┆ depth_mean │\n",
      "│ ---   ┆ ---      ┆ ---         ┆ ---         ┆ ---          ┆ ---        │\n",
      "│ f64   ┆ f64      ┆ f64         ┆ f64         ┆ f64          ┆ f64        │\n",
      "╞═══════╪══════════╪═════════════╪═════════════╪══════════════╪════════════╡\n",
      "│ 0.0   ┆ 0.0      ┆ 0.0         ┆ 0.0         ┆ 0.0          ┆ 0.0        │\n",
      "│ 0.0   ┆ 0.0      ┆ 0.0         ┆ 0.0         ┆ 0.0          ┆ 0.0        │\n",
      "│ NaN   ┆ null     ┆ 0.0         ┆ 9.1         ┆ 4.55         ┆ 9.028571   │\n",
      "│ 9.1   ┆ 9.1      ┆ 9.1         ┆ 9.1         ┆ 9.1          ┆ 9.1        │\n",
      "│ 11.3  ┆ 11.3     ┆ 11.3        ┆ 11.3        ┆ 11.3         ┆ 11.3       │\n",
      "│ null  ┆ null     ┆ 11.3        ┆ 7.8         ┆ 9.55         ┆ 9.028571   │\n",
      "│ 7.8   ┆ 7.8      ┆ 7.8         ┆ 7.8         ┆ 7.8          ┆ 7.8        │\n",
      "│ 15.0  ┆ 15.0     ┆ 15.0        ┆ 15.0        ┆ 15.0         ┆ 15.0       │\n",
      "│ 20.0  ┆ 20.0     ┆ 20.0        ┆ 20.0        ┆ 20.0         ┆ 20.0       │\n",
      "└───────┴──────────┴─────────────┴─────────────┴──────────────┴────────────┘\n"
     ]
    }
   ],
   "source": [
    "print(imp_pl)"
   ]
  },
  {
   "cell_type": "code",
   "execution_count": 91,
   "id": "955cb526-0046-40d3-8fec-16e7b9722370",
   "metadata": {},
   "outputs": [],
   "source": [
    "shift = .8"
   ]
  },
  {
   "cell_type": "code",
   "execution_count": 98,
   "id": "f617233d-b47f-4fb7-b438-b1f1ffc179af",
   "metadata": {},
   "outputs": [],
   "source": [
    "plot = (imp_pl\n",
    "        .select(Original=pl.col('depth'),\n",
    "                Forward_fill=pl.col('depth_ffill')+shift,\n",
    "                Backward_fill=pl.col('depth_bfill')+shift * 2,\n",
    "                Interpolate=pl.col('depth_interp')+shift * 3,\n",
    "                Mean_fill=pl.col('depth_mean')+shift * 4)\n",
    "        .plot.line()\n",
    "        .properties(title='Missing Values Demo', width=1000, height=500)\n",
    "     )"
   ]
  },
  {
   "cell_type": "code",
   "execution_count": 100,
   "id": "b46117c6-8c26-40fb-8e41-3c5cb2127c5e",
   "metadata": {},
   "outputs": [
    {
     "data": {
      "text/html": [
       "\n",
       "<style>\n",
       "  #altair-viz-d5b81bfd074e4b58844013f9b4280797.vega-embed {\n",
       "    width: 100%;\n",
       "    display: flex;\n",
       "  }\n",
       "\n",
       "  #altair-viz-d5b81bfd074e4b58844013f9b4280797.vega-embed details,\n",
       "  #altair-viz-d5b81bfd074e4b58844013f9b4280797.vega-embed details summary {\n",
       "    position: relative;\n",
       "  }\n",
       "</style>\n",
       "<div id=\"altair-viz-d5b81bfd074e4b58844013f9b4280797\"></div>\n",
       "<script type=\"text/javascript\">\n",
       "  var VEGA_DEBUG = (typeof VEGA_DEBUG == \"undefined\") ? {} : VEGA_DEBUG;\n",
       "  (function(spec, embedOpt){\n",
       "    let outputDiv = document.currentScript.previousElementSibling;\n",
       "    if (outputDiv.id !== \"altair-viz-d5b81bfd074e4b58844013f9b4280797\") {\n",
       "      outputDiv = document.getElementById(\"altair-viz-d5b81bfd074e4b58844013f9b4280797\");\n",
       "    }\n",
       "\n",
       "    const paths = {\n",
       "      \"vega\": \"https://cdn.jsdelivr.net/npm/vega@5?noext\",\n",
       "      \"vega-lib\": \"https://cdn.jsdelivr.net/npm/vega-lib?noext\",\n",
       "      \"vega-lite\": \"https://cdn.jsdelivr.net/npm/vega-lite@5.20.1?noext\",\n",
       "      \"vega-embed\": \"https://cdn.jsdelivr.net/npm/vega-embed@6?noext\",\n",
       "    };\n",
       "\n",
       "    function maybeLoadScript(lib, version) {\n",
       "      var key = `${lib.replace(\"-\", \"\")}_version`;\n",
       "      return (VEGA_DEBUG[key] == version) ?\n",
       "        Promise.resolve(paths[lib]) :\n",
       "        new Promise(function(resolve, reject) {\n",
       "          var s = document.createElement('script');\n",
       "          document.getElementsByTagName(\"head\")[0].appendChild(s);\n",
       "          s.async = true;\n",
       "          s.onload = () => {\n",
       "            VEGA_DEBUG[key] = version;\n",
       "            return resolve(paths[lib]);\n",
       "          };\n",
       "          s.onerror = () => reject(`Error loading script: ${paths[lib]}`);\n",
       "          s.src = paths[lib];\n",
       "        });\n",
       "    }\n",
       "\n",
       "    function showError(err) {\n",
       "      outputDiv.innerHTML = `<div class=\"error\" style=\"color:red;\">${err}</div>`;\n",
       "      throw err;\n",
       "    }\n",
       "\n",
       "    function displayChart(vegaEmbed) {\n",
       "      vegaEmbed(outputDiv, spec, embedOpt)\n",
       "        .catch(err => showError(`Javascript Error: ${err.message}<br>This usually means there's a typo in your chart specification. See the javascript console for the full traceback.`));\n",
       "    }\n",
       "\n",
       "    if(typeof define === \"function\" && define.amd) {\n",
       "      requirejs.config({paths});\n",
       "      let deps = [\"vega-embed\"];\n",
       "      require(deps, displayChart, err => showError(`Error loading script: ${err.message}`));\n",
       "    } else {\n",
       "      maybeLoadScript(\"vega\", \"5\")\n",
       "        .then(() => maybeLoadScript(\"vega-lite\", \"5.20.1\"))\n",
       "        .then(() => maybeLoadScript(\"vega-embed\", \"6\"))\n",
       "        .catch(showError)\n",
       "        .then(() => displayChart(vegaEmbed));\n",
       "    }\n",
       "  })({\"config\": {\"view\": {\"continuousWidth\": 300, \"continuousHeight\": 300}}, \"data\": {\"name\": \"data-f7fe75ce3c28f507a38585168d6b2823\"}, \"mark\": {\"type\": \"line\", \"tooltip\": true}, \"encoding\": {}, \"height\": 500, \"params\": [{\"name\": \"param_3\", \"select\": {\"type\": \"interval\", \"encodings\": [\"x\", \"y\"]}, \"bind\": \"scales\"}], \"title\": \"Missing Values Demo\", \"width\": 1000, \"$schema\": \"https://vega.github.io/schema/vega-lite/v5.20.1.json\", \"datasets\": {\"data-f7fe75ce3c28f507a38585168d6b2823\": [{\"Original\": 0.0, \"Forward_fill\": 0.8, \"Backward_fill\": 1.6, \"Interpolate\": 2.4000000000000004, \"Mean_fill\": 3.2}, {\"Original\": 0.0, \"Forward_fill\": 0.8, \"Backward_fill\": 1.6, \"Interpolate\": 2.4000000000000004, \"Mean_fill\": 3.2}, {\"Original\": NaN, \"Forward_fill\": 0.8, \"Backward_fill\": 10.7, \"Interpolate\": 6.95, \"Mean_fill\": 12.228571428571428}, {\"Original\": 9.1, \"Forward_fill\": 9.9, \"Backward_fill\": 10.7, \"Interpolate\": 11.5, \"Mean_fill\": 12.3}, {\"Original\": 11.3, \"Forward_fill\": 12.100000000000001, \"Backward_fill\": 12.9, \"Interpolate\": 13.700000000000001, \"Mean_fill\": 14.5}, {\"Original\": null, \"Forward_fill\": 12.100000000000001, \"Backward_fill\": 9.4, \"Interpolate\": 11.950000000000001, \"Mean_fill\": 12.228571428571428}, {\"Original\": 7.8, \"Forward_fill\": 8.6, \"Backward_fill\": 9.4, \"Interpolate\": 10.2, \"Mean_fill\": 11.0}, {\"Original\": 15.0, \"Forward_fill\": 15.8, \"Backward_fill\": 16.6, \"Interpolate\": 17.4, \"Mean_fill\": 18.2}, {\"Original\": 20.0, \"Forward_fill\": 20.8, \"Backward_fill\": 21.6, \"Interpolate\": 22.4, \"Mean_fill\": 23.2}]}}, {\"mode\": \"vega-lite\"});\n",
       "</script>"
      ],
      "text/plain": [
       "alt.Chart(...)"
      ]
     },
     "metadata": {},
     "output_type": "display_data"
    }
   ],
   "source": [
    "plot.show()"
   ]
  },
  {
   "cell_type": "code",
   "execution_count": null,
   "id": "fab87ccb-9887-4c20-af7d-fcef9b3f1caa",
   "metadata": {},
   "outputs": [],
   "source": []
  },
  {
   "cell_type": "code",
   "execution_count": null,
   "id": "c9829cfc-ff21-4f2c-b038-9f98c82ef023",
   "metadata": {},
   "outputs": [],
   "source": []
  },
  {
   "cell_type": "code",
   "execution_count": null,
   "id": "04e6df1c-9618-4a35-9417-0b7e9901b14d",
   "metadata": {},
   "outputs": [],
   "source": []
  }
 ],
 "metadata": {
  "kernelspec": {
   "display_name": "Python 3 (ipykernel)",
   "language": "python",
   "name": "python3"
  },
  "language_info": {
   "codemirror_mode": {
    "name": "ipython",
    "version": 3
   },
   "file_extension": ".py",
   "mimetype": "text/x-python",
   "name": "python",
   "nbconvert_exporter": "python",
   "pygments_lexer": "ipython3",
   "version": "3.11.8"
  }
 },
 "nbformat": 4,
 "nbformat_minor": 5
}
