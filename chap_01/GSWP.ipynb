{
 "cells": [
  {
   "cell_type": "markdown",
   "id": "4584fa98-0c7b-4391-9e56-9b9203f7ac56",
   "metadata": {},
   "source": [
    "# Getting Started with Polars\n",
    "\n",
    "### Loading Libraries"
   ]
  },
  {
   "cell_type": "code",
   "execution_count": 1,
   "id": "e6ceb264-78a2-4bda-98c5-7fa42af60916",
   "metadata": {},
   "outputs": [
    {
     "name": "stdout",
     "output_type": "stream",
     "text": [
      "The history saving thread hit an unexpected error (OperationalError('attempt to write a readonly database')).History will not be written to the database.\n"
     ]
    }
   ],
   "source": [
    "# ZipFiles\n",
    "import zipfile\n",
    "\n",
    "# Numerical Computing\n",
    "import numpy as np\n",
    "\n",
    "# Data Manipulation\n",
    "import pandas as pd\n",
    "import polars as pl\n",
    "\n",
    "# Data Visualization\n",
    "import seaborn as sns\n",
    "import matplotlib.pyplot as plt"
   ]
  },
  {
   "cell_type": "code",
   "execution_count": 2,
   "id": "08b6c86d-9522-4cec-8440-ee8f54be69cb",
   "metadata": {},
   "outputs": [
    {
     "data": {
      "text/plain": [
       "'1.14.0'"
      ]
     },
     "execution_count": 2,
     "metadata": {},
     "output_type": "execute_result"
    }
   ],
   "source": [
    "pl.__version__"
   ]
  },
  {
   "cell_type": "markdown",
   "id": "f5d0dd8b-3242-43cb-81e3-b55cca2ff212",
   "metadata": {},
   "source": [
    "### Laziness"
   ]
  },
  {
   "cell_type": "code",
   "execution_count": 3,
   "id": "3fee8973-6775-4bad-9aa2-fe74a3b3a43d",
   "metadata": {},
   "outputs": [],
   "source": [
    "# DataFrame Operation\n",
    "df_ops = set(x for x in dir(pl.DataFrame()) if not x.startswith('_'))\n",
    "\n",
    "# Lazy Operations\n",
    "lazy_ops = set(x for x in dir(pl.LazyFrame()) if not x.startswith('_'))"
   ]
  },
  {
   "cell_type": "code",
   "execution_count": 4,
   "id": "0c35b621-acfe-43f9-848f-f32111f14ce6",
   "metadata": {},
   "outputs": [
    {
     "name": "stdout",
     "output_type": "stream",
     "text": [
      "['corr', 'drop_in_place', 'equals', 'estimated_size', 'extend', 'flags', 'fold', 'get_column', 'get_column_index', 'get_columns', 'glimpse', 'hash_rows', 'height', 'hstack', 'insert_column', 'is_duplicated', 'is_empty', 'is_unique', 'item', 'iter_columns', 'iter_rows', 'iter_slices', 'map_rows', 'max_horizontal', 'mean_horizontal', 'min_horizontal', 'n_chunks', 'n_unique', 'partition_by', 'pivot', 'plot', 'product', 'rechunk', 'replace_column', 'row', 'rows', 'rows_by_key', 'sample', 'shape', 'shrink_to_fit', 'style', 'sum_horizontal', 'to_arrow', 'to_dict', 'to_dicts', 'to_dummies', 'to_init_repr', 'to_jax', 'to_numpy', 'to_pandas', 'to_series', 'to_struct', 'to_torch', 'transpose', 'unstack', 'upsample', 'vstack', 'write_avro', 'write_clipboard', 'write_csv', 'write_database', 'write_delta', 'write_excel', 'write_ipc', 'write_ipc_stream', 'write_json', 'write_ndjson', 'write_parquet']\n"
     ]
    }
   ],
   "source": [
    "print(sorted(df_ops - lazy_ops))"
   ]
  },
  {
   "cell_type": "code",
   "execution_count": 5,
   "id": "91623075-fc4f-449e-8a18-3ef6daf33cf0",
   "metadata": {},
   "outputs": [
    {
     "name": "stdout",
     "output_type": "stream",
     "text": [
      "['approx_n_unique', 'bottom_k', 'cast', 'clear', 'clone', 'collect_schema', 'columns', 'count', 'describe', 'deserialize', 'drop', 'drop_nulls', 'dtypes', 'explode', 'fill_nan', 'fill_null', 'filter', 'gather_every', 'group_by', 'group_by_dynamic', 'head', 'interpolate', 'join', 'join_asof', 'join_where', 'lazy', 'limit', 'max', 'mean', 'median', 'melt', 'merge_sorted', 'min', 'null_count', 'pipe', 'quantile', 'rename', 'reverse', 'rolling', 'schema', 'select', 'select_seq', 'serialize', 'set_sorted', 'shift', 'slice', 'sort', 'sql', 'std', 'sum', 'tail', 'top_k', 'unique', 'unnest', 'unpivot', 'update', 'var', 'width', 'with_columns', 'with_columns_seq', 'with_row_count', 'with_row_index']\n"
     ]
    }
   ],
   "source": [
    "print(sorted(lazy_ops & df_ops))"
   ]
  },
  {
   "cell_type": "markdown",
   "id": "d8d53382-b1af-4fce-9cc9-f36e7c4583ee",
   "metadata": {},
   "source": [
    "### Contexts & Expressions"
   ]
  },
  {
   "cell_type": "code",
   "execution_count": 6,
   "id": "7e419e5f-03fb-4c42-8a3b-63bc2ad06f88",
   "metadata": {},
   "outputs": [],
   "source": [
    "col = pl.col('sample')"
   ]
  },
  {
   "cell_type": "code",
   "execution_count": 7,
   "id": "89ffb7af-679b-498c-a748-0cbdc4b35d02",
   "metadata": {},
   "outputs": [
    {
     "name": "stdout",
     "output_type": "stream",
     "text": [
      "['abs', 'add', 'agg_groups', 'alias', 'all', 'and_', 'any', 'append', 'approx_n_unique', 'arccos', 'arccosh', 'arcsin', 'arcsinh', 'arctan', 'arctanh', 'arg_max', 'arg_min', 'arg_sort', 'arg_true', 'arg_unique', 'arr', 'backward_fill', 'bin', 'bitwise_and', 'bitwise_count_ones', 'bitwise_count_zeros', 'bitwise_leading_ones', 'bitwise_leading_zeros', 'bitwise_or', 'bitwise_trailing_ones', 'bitwise_trailing_zeros', 'bitwise_xor', 'bottom_k', 'bottom_k_by', 'cast', 'cat', 'cbrt', 'ceil', 'clip', 'cos', 'cosh', 'cot', 'count', 'cum_count', 'cum_max', 'cum_min', 'cum_prod', 'cum_sum', 'cumulative_eval', 'cut', 'degrees', 'deserialize', 'diff', 'dot', 'drop_nans', 'drop_nulls', 'dt', 'entropy', 'eq', 'eq_missing', 'ewm_mean', 'ewm_mean_by', 'ewm_std', 'ewm_var', 'exclude', 'exp', 'explode', 'extend_constant', 'fill_nan', 'fill_null', 'filter', 'first', 'flatten', 'floor', 'floordiv', 'forward_fill', 'from_json', 'gather', 'gather_every', 'ge', 'get', 'gt', 'has_nulls', 'hash', 'head', 'hist', 'implode', 'inspect', 'interpolate', 'interpolate_by', 'is_between', 'is_duplicated', 'is_finite', 'is_first_distinct', 'is_in', 'is_infinite', 'is_last_distinct', 'is_nan', 'is_not_nan', 'is_not_null', 'is_null', 'is_unique', 'kurtosis', 'last', 'le', 'len', 'limit', 'list', 'log', 'log10', 'log1p', 'lower_bound', 'lt', 'map_batches', 'map_elements', 'max', 'mean', 'median', 'meta', 'min', 'mod', 'mode', 'mul', 'n_unique', 'name', 'nan_max', 'nan_min', 'ne', 'ne_missing', 'neg', 'not_', 'null_count', 'or_', 'over', 'pct_change', 'peak_max', 'peak_min', 'pipe', 'pow', 'product', 'qcut', 'quantile', 'radians', 'rank', 'rechunk', 'register_plugin', 'reinterpret', 'repeat_by', 'replace', 'replace_strict', 'reshape', 'reverse', 'rle', 'rle_id', 'rolling', 'rolling_map', 'rolling_max', 'rolling_max_by', 'rolling_mean', 'rolling_mean_by', 'rolling_median', 'rolling_median_by', 'rolling_min', 'rolling_min_by', 'rolling_quantile', 'rolling_quantile_by', 'rolling_skew', 'rolling_std', 'rolling_std_by', 'rolling_sum', 'rolling_sum_by', 'rolling_var', 'rolling_var_by', 'round', 'round_sig_figs', 'sample', 'search_sorted', 'set_sorted', 'shift', 'shrink_dtype', 'shuffle', 'sign', 'sin', 'sinh', 'skew', 'slice', 'sort', 'sort_by', 'sqrt', 'std', 'str', 'struct', 'sub', 'sum', 'tail', 'tan', 'tanh', 'to_physical', 'top_k', 'top_k_by', 'truediv', 'unique', 'unique_counts', 'upper_bound', 'value_counts', 'var', 'where', 'xor']\n"
     ]
    }
   ],
   "source": [
    "col_ops = set(x for x in dir(col) if not x.startswith('_'))\n",
    "\n",
    "print(sorted(col_ops))"
   ]
  },
  {
   "cell_type": "code",
   "execution_count": 8,
   "id": "9f8d7fbb-6bfe-4c05-ab0f-6dc278cd3a82",
   "metadata": {},
   "outputs": [
    {
     "data": {
      "text/html": [
       "col(\"sample\").strict_cast(Int32).fill_null([col(\"sample\").mean()]).clip_max([dyn int: 100]).sample([dyn int: 10]).mean()"
      ],
      "text/plain": [
       "<Expr ['col(\"sample\").strict_cast(Int3…'] at 0x106896650>"
      ]
     },
     "execution_count": 8,
     "metadata": {},
     "output_type": "execute_result"
    }
   ],
   "source": [
    "(col\n",
    " .cast(pl.Int32)\n",
    " .fill_null(col.mean())\n",
    " .clip(upper_bound=100)\n",
    " .sample(10)\n",
    " .mean()\n",
    ")"
   ]
  },
  {
   "cell_type": "code",
   "execution_count": 9,
   "id": "2d294065-e0f2-4b7b-bfd5-4c313bca39eb",
   "metadata": {},
   "outputs": [],
   "source": [
    "# Same Previous Approach:\n",
    "ex1 = col.cast(pl.Int64)\n",
    "ex2 = ex1.fill_null(col.cast(pl.Int64))\n",
    "ex3 = ex2.clip(upper_bound=100)\n",
    "ex4 = ex3.sample(10)\n",
    "ex5 = ex4.mean()"
   ]
  },
  {
   "cell_type": "code",
   "execution_count": 10,
   "id": "19d7674b-71a4-404d-9b13-c1b6897a4eb5",
   "metadata": {},
   "outputs": [
    {
     "data": {
      "text/html": [
       "col(\"a_column\")"
      ],
      "text/plain": [
       "<Expr ['col(\"a_column\")'] at 0x1529B5610>"
      ]
     },
     "execution_count": 10,
     "metadata": {},
     "output_type": "execute_result"
    }
   ],
   "source": [
    "pl.col.a_column"
   ]
  },
  {
   "cell_type": "markdown",
   "id": "84eb5cf1-c08e-4f25-96d6-737b18c029b9",
   "metadata": {},
   "source": [
    "### Reading CSV Files"
   ]
  },
  {
   "cell_type": "code",
   "execution_count": 11,
   "id": "7b34dc3e-a6a9-4638-a6f0-95bf49edbe68",
   "metadata": {},
   "outputs": [],
   "source": [
    "# Path\n",
    "path = '/Users/isisromero/desktop/polars/datasets/vehicles.csv'"
   ]
  },
  {
   "cell_type": "code",
   "execution_count": 12,
   "id": "3ef5537e-294f-4618-aab6-1701ec1e36fe",
   "metadata": {},
   "outputs": [
    {
     "name": "stdout",
     "output_type": "stream",
     "text": [
      "shape: (48_231, 84)\n",
      "┌───────────┬────────────┬───────────┬───────────┬───┬───────────┬──────────┬─────────┬──────────┐\n",
      "│ barrels08 ┆ barrelsA08 ┆ charge120 ┆ charge240 ┆ … ┆ startStop ┆ phevCity ┆ phevHwy ┆ phevComb │\n",
      "│ ---       ┆ ---        ┆ ---       ┆ ---       ┆   ┆ ---       ┆ ---      ┆ ---     ┆ ---      │\n",
      "│ f64       ┆ f64        ┆ f64       ┆ f64       ┆   ┆ str       ┆ i64      ┆ i64     ┆ i64      │\n",
      "╞═══════════╪════════════╪═══════════╪═══════════╪═══╪═══════════╪══════════╪═════════╪══════════╡\n",
      "│ 14.167143 ┆ 0.0        ┆ 0.0       ┆ 0.0       ┆ … ┆ null      ┆ 0        ┆ 0       ┆ 0        │\n",
      "│ 27.046364 ┆ 0.0        ┆ 0.0       ┆ 0.0       ┆ … ┆ null      ┆ 0        ┆ 0       ┆ 0        │\n",
      "│ 11.018889 ┆ 0.0        ┆ 0.0       ┆ 0.0       ┆ … ┆ null      ┆ 0        ┆ 0       ┆ 0        │\n",
      "│ 27.046364 ┆ 0.0        ┆ 0.0       ┆ 0.0       ┆ … ┆ null      ┆ 0        ┆ 0       ┆ 0        │\n",
      "│ 15.658421 ┆ 0.0        ┆ 0.0       ┆ 0.0       ┆ … ┆ null      ┆ 0        ┆ 0       ┆ 0        │\n",
      "│ …         ┆ …          ┆ …         ┆ …         ┆ … ┆ …         ┆ …        ┆ …       ┆ …        │\n",
      "│ 13.523182 ┆ 0.0        ┆ 0.0       ┆ 0.0       ┆ … ┆ null      ┆ 0        ┆ 0       ┆ 0        │\n",
      "│ 12.935217 ┆ 0.0        ┆ 0.0       ┆ 0.0       ┆ … ┆ null      ┆ 0        ┆ 0       ┆ 0        │\n",
      "│ 14.167143 ┆ 0.0        ┆ 0.0       ┆ 0.0       ┆ … ┆ null      ┆ 0        ┆ 0       ┆ 0        │\n",
      "│ 14.167143 ┆ 0.0        ┆ 0.0       ┆ 0.0       ┆ … ┆ null      ┆ 0        ┆ 0       ┆ 0        │\n",
      "│ 16.528333 ┆ 0.0        ┆ 0.0       ┆ 0.0       ┆ … ┆ null      ┆ 0        ┆ 0       ┆ 0        │\n",
      "└───────────┴────────────┴───────────┴───────────┴───┴───────────┴──────────┴─────────┴──────────┘\n"
     ]
    }
   ],
   "source": [
    "df = pl.read_csv(path, null_values=['NA'])\n",
    "\n",
    "print(df)"
   ]
  },
  {
   "cell_type": "markdown",
   "id": "72aedf51-0835-409f-a866-1e530f6660aa",
   "metadata": {},
   "source": [
    "### Lazy CSV Reading"
   ]
  },
  {
   "cell_type": "code",
   "execution_count": 13,
   "id": "e6c2f7a1-e3fe-4c06-9284-5bbff2775c75",
   "metadata": {},
   "outputs": [
    {
     "name": "stdout",
     "output_type": "stream",
     "text": [
      "naive plan: (run LazyFrame.explain(optimized=True) to see the optimized plan)\n",
      "\n",
      "Csv SCAN [/Users/isisromero/desktop/polars/datasets/vehicles.csv]\n",
      "PROJECT */84 COLUMNS\n"
     ]
    }
   ],
   "source": [
    "lazy = pl.scan_csv(path, null_values=['NA'])\n",
    "print(lazy)"
   ]
  },
  {
   "cell_type": "code",
   "execution_count": 14,
   "id": "4da22f5a-be01-456b-9efc-d6e841f053e8",
   "metadata": {},
   "outputs": [
    {
     "name": "stdout",
     "output_type": "stream",
     "text": [
      "naive plan: (run LazyFrame.explain(optimized=True) to see the optimized plan)\n",
      "\n",
      " SELECT [col(\"year\"), col(\"make\"), col(\"model\")] FROM\n",
      "  FILTER [(col(\"year\")) >= (1990)] FROM\n",
      "    FILTER [(col(\"year\")) < (2000)] FROM\n",
      "      Csv SCAN [/Users/isisromero/desktop/polars/datasets/vehicles.csv]\n",
      "      PROJECT */84 COLUMNS\n"
     ]
    }
   ],
   "source": [
    "print(lazy\n",
    "      .filter((pl.col('year') >= 1990) & (pl.col('year') < 2000))\n",
    "      .select(['year', 'make', 'model'])\n",
    "     )"
   ]
  },
  {
   "cell_type": "markdown",
   "id": "abaaa98c-7ece-4b05-b404-b5c2a604929c",
   "metadata": {},
   "source": [
    "### Data Type Inference & Manual Overrides"
   ]
  },
  {
   "cell_type": "code",
   "execution_count": 15,
   "id": "08fe4fa3-d2d6-4076-9998-d59bb7503e36",
   "metadata": {},
   "outputs": [
    {
     "name": "stdout",
     "output_type": "stream",
     "text": [
      "[Float64, Float64, Float64, Float64, Int64, Float64, Int64, Float64, Float64, Float64, Float64, Int64, Int64, Float64, Float64, Int64, Float64, Int64, Float64, Float64, Float64, Float64, Int64, Float64, String, Int64, String, Int64, Int64, Int64, String, String, Int64, Int64, Int64, Float64, Int64, Float64, Float64, Float64, Float64, Int64, Int64, Int64, Int64, Int64, String, String, String, Boolean, Int64, Int64, Int64, Float64, Float64, Float64, Float64, String, Float64, Float64, Float64, Float64, String, Int64, Int64, String, String, String, String, String, String, String, String, String, String, String, Float64, String, String, String, String, Int64, Int64, Int64]\n"
     ]
    }
   ],
   "source": [
    "print(df.dtypes)"
   ]
  },
  {
   "cell_type": "code",
   "execution_count": 16,
   "id": "964f65f4-35a9-4aea-a839-a955f34bfd4f",
   "metadata": {},
   "outputs": [
    {
     "name": "stdout",
     "output_type": "stream",
     "text": [
      "Schema([('barrels08', Float64), ('barrelsA08', Float64), ('charge120', Float64), ('charge240', Float64), ('city08', Int64), ('city08U', Float64), ('cityA08', Int64), ('cityA08U', Float64), ('cityCD', Float64), ('cityE', Float64), ('cityUF', Float64), ('co2', Int64), ('co2A', Int64), ('co2TailpipeAGpm', Float64), ('co2TailpipeGpm', Float64), ('comb08', Int64), ('comb08U', Float64), ('combA08', Int64), ('combA08U', Float64), ('combE', Float64), ('combinedCD', Float64), ('combinedUF', Float64), ('cylinders', Int64), ('displ', Float64), ('drive', String), ('engId', Int64), ('eng_dscr', String), ('feScore', Int64), ('fuelCost08', Int64), ('fuelCostA08', Int64), ('fuelType', String), ('fuelType1', String), ('ghgScore', Int64), ('ghgScoreA', Int64), ('highway08', Int64), ('highway08U', Float64), ('highwayA08', Int64), ('highwayA08U', Float64), ('highwayCD', Float64), ('highwayE', Float64), ('highwayUF', Float64), ('hlv', Int64), ('hpv', Int64), ('id', Int64), ('lv2', Int64), ('lv4', Int64), ('make', String), ('model', String), ('mpgData', String), ('phevBlended', Boolean), ('pv2', Int64), ('pv4', Int64), ('range', Int64), ('rangeCity', Float64), ('rangeCityA', Float64), ('rangeHwy', Float64), ('rangeHwyA', Float64), ('trany', String), ('UCity', Float64), ('UCityA', Float64), ('UHighway', Float64), ('UHighwayA', Float64), ('VClass', String), ('year', Int64), ('youSaveSpend', Int64), ('baseModel', String), ('guzzler', String), ('trans_dscr', String), ('tCharger', String), ('sCharger', String), ('atvType', String), ('fuelType2', String), ('rangeA', String), ('evMotor', String), ('mfrCode', String), ('c240Dscr', String), ('charge240b', Float64), ('c240bDscr', String), ('createdOn', String), ('modifiedOn', String), ('startStop', String), ('phevCity', Int64), ('phevHwy', Int64), ('phevComb', Int64)])\n"
     ]
    }
   ],
   "source": [
    "print(df.schema)"
   ]
  },
  {
   "cell_type": "code",
   "execution_count": 17,
   "id": "bc0566a0-e261-49a9-b491-00045b2e5bc3",
   "metadata": {},
   "outputs": [],
   "source": [
    "cols = ['year', 'make', 'model', 'displ', 'cylinders', 'trany', 'drive',\n",
    "        'VClass', 'fuelType', 'barrels08', 'city08', 'highway08', 'createdOn']"
   ]
  },
  {
   "cell_type": "code",
   "execution_count": 18,
   "id": "09a98652-dd2f-4e0e-8cdd-092198d082a3",
   "metadata": {},
   "outputs": [
    {
     "name": "stdout",
     "output_type": "stream",
     "text": [
      "shape: (48_231, 13)\n",
      "┌──────┬────────────┬────────────────┬───────┬───┬───────────┬────────┬───────────┬────────────────┐\n",
      "│ year ┆ make       ┆ model          ┆ displ ┆ … ┆ barrels08 ┆ city08 ┆ highway08 ┆ createdOn      │\n",
      "│ ---  ┆ ---        ┆ ---            ┆ ---   ┆   ┆ ---       ┆ ---    ┆ ---       ┆ ---            │\n",
      "│ i64  ┆ str        ┆ str            ┆ f64   ┆   ┆ f64       ┆ i64    ┆ i64       ┆ str            │\n",
      "╞══════╪════════════╪════════════════╪═══════╪═══╪═══════════╪════════╪═══════════╪════════════════╡\n",
      "│ 1985 ┆ Alfa Romeo ┆ Spider Veloce  ┆ 2.0   ┆ … ┆ 14.167143 ┆ 19     ┆ 25        ┆ Tue Jan 01     │\n",
      "│      ┆            ┆ 2000           ┆       ┆   ┆           ┆        ┆           ┆ 00:00:00 EST   │\n",
      "│      ┆            ┆                ┆       ┆   ┆           ┆        ┆           ┆ 2013           │\n",
      "│ 1985 ┆ Ferrari    ┆ Testarossa     ┆ 4.9   ┆ … ┆ 27.046364 ┆ 9      ┆ 14        ┆ Tue Jan 01     │\n",
      "│      ┆            ┆                ┆       ┆   ┆           ┆        ┆           ┆ 00:00:00 EST   │\n",
      "│      ┆            ┆                ┆       ┆   ┆           ┆        ┆           ┆ 2013           │\n",
      "│ 1985 ┆ Dodge      ┆ Charger        ┆ 2.2   ┆ … ┆ 11.018889 ┆ 23     ┆ 33        ┆ Tue Jan 01     │\n",
      "│      ┆            ┆                ┆       ┆   ┆           ┆        ┆           ┆ 00:00:00 EST   │\n",
      "│      ┆            ┆                ┆       ┆   ┆           ┆        ┆           ┆ 2013           │\n",
      "│ 1985 ┆ Dodge      ┆ B150/B250      ┆ 5.2   ┆ … ┆ 27.046364 ┆ 10     ┆ 12        ┆ Tue Jan 01     │\n",
      "│      ┆            ┆ Wagon 2WD      ┆       ┆   ┆           ┆        ┆           ┆ 00:00:00 EST   │\n",
      "│      ┆            ┆                ┆       ┆   ┆           ┆        ┆           ┆ 2013           │\n",
      "│ 1993 ┆ Subaru     ┆ Legacy AWD     ┆ 2.2   ┆ … ┆ 15.658421 ┆ 17     ┆ 23        ┆ Tue Jan 01     │\n",
      "│      ┆            ┆ Turbo          ┆       ┆   ┆           ┆        ┆           ┆ 00:00:00 EST   │\n",
      "│      ┆            ┆                ┆       ┆   ┆           ┆        ┆           ┆ 2013           │\n",
      "│ …    ┆ …          ┆ …              ┆ …     ┆ … ┆ …         ┆ …      ┆ …         ┆ …              │\n",
      "│ 1993 ┆ Subaru     ┆ Legacy         ┆ 2.2   ┆ … ┆ 13.523182 ┆ 19     ┆ 26        ┆ Tue Jan 01     │\n",
      "│      ┆            ┆                ┆       ┆   ┆           ┆        ┆           ┆ 00:00:00 EST   │\n",
      "│      ┆            ┆                ┆       ┆   ┆           ┆        ┆           ┆ 2013           │\n",
      "│ 1993 ┆ Subaru     ┆ Legacy         ┆ 2.2   ┆ … ┆ 12.935217 ┆ 20     ┆ 28        ┆ Tue Jan 01     │\n",
      "│      ┆            ┆                ┆       ┆   ┆           ┆        ┆           ┆ 00:00:00 EST   │\n",
      "│      ┆            ┆                ┆       ┆   ┆           ┆        ┆           ┆ 2013           │\n",
      "│ 1993 ┆ Subaru     ┆ Legacy AWD     ┆ 2.2   ┆ … ┆ 14.167143 ┆ 18     ┆ 24        ┆ Tue Jan 01     │\n",
      "│      ┆            ┆                ┆       ┆   ┆           ┆        ┆           ┆ 00:00:00 EST   │\n",
      "│      ┆            ┆                ┆       ┆   ┆           ┆        ┆           ┆ 2013           │\n",
      "│ 1993 ┆ Subaru     ┆ Legacy AWD     ┆ 2.2   ┆ … ┆ 14.167143 ┆ 18     ┆ 24        ┆ Tue Jan 01     │\n",
      "│      ┆            ┆                ┆       ┆   ┆           ┆        ┆           ┆ 00:00:00 EST   │\n",
      "│      ┆            ┆                ┆       ┆   ┆           ┆        ┆           ┆ 2013           │\n",
      "│ 1993 ┆ Subaru     ┆ Legacy AWD     ┆ 2.2   ┆ … ┆ 16.528333 ┆ 16     ┆ 21        ┆ Tue Jan 01     │\n",
      "│      ┆            ┆ Turbo          ┆       ┆   ┆           ┆        ┆           ┆ 00:00:00 EST   │\n",
      "│      ┆            ┆                ┆       ┆   ┆           ┆        ┆           ┆ 2013           │\n",
      "└──────┴────────────┴────────────────┴───────┴───┴───────────┴────────┴───────────┴────────────────┘\n"
     ]
    }
   ],
   "source": [
    "print(df.select(cols))"
   ]
  },
  {
   "cell_type": "code",
   "execution_count": 19,
   "id": "c4238101-77c1-4046-81a6-cc59fcbcd785",
   "metadata": {},
   "outputs": [
    {
     "name": "stdout",
     "output_type": "stream",
     "text": [
      "shape: (48_231, 13)\n",
      "┌──────┬────────────┬────────────────┬───────┬───┬───────────┬────────┬───────────┬────────────────┐\n",
      "│ year ┆ make       ┆ model          ┆ displ ┆ … ┆ barrels08 ┆ city08 ┆ highway08 ┆ createdOn      │\n",
      "│ ---  ┆ ---        ┆ ---            ┆ ---   ┆   ┆ ---       ┆ ---    ┆ ---       ┆ ---            │\n",
      "│ i64  ┆ str        ┆ str            ┆ f64   ┆   ┆ f64       ┆ i64    ┆ i64       ┆ str            │\n",
      "╞══════╪════════════╪════════════════╪═══════╪═══╪═══════════╪════════╪═══════════╪════════════════╡\n",
      "│ 1985 ┆ Alfa Romeo ┆ Spider Veloce  ┆ 2.0   ┆ … ┆ 14.167143 ┆ 19     ┆ 25        ┆ Tue Jan 01     │\n",
      "│      ┆            ┆ 2000           ┆       ┆   ┆           ┆        ┆           ┆ 00:00:00 EST   │\n",
      "│      ┆            ┆                ┆       ┆   ┆           ┆        ┆           ┆ 2013           │\n",
      "│ 1985 ┆ Ferrari    ┆ Testarossa     ┆ 4.9   ┆ … ┆ 27.046364 ┆ 9      ┆ 14        ┆ Tue Jan 01     │\n",
      "│      ┆            ┆                ┆       ┆   ┆           ┆        ┆           ┆ 00:00:00 EST   │\n",
      "│      ┆            ┆                ┆       ┆   ┆           ┆        ┆           ┆ 2013           │\n",
      "│ 1985 ┆ Dodge      ┆ Charger        ┆ 2.2   ┆ … ┆ 11.018889 ┆ 23     ┆ 33        ┆ Tue Jan 01     │\n",
      "│      ┆            ┆                ┆       ┆   ┆           ┆        ┆           ┆ 00:00:00 EST   │\n",
      "│      ┆            ┆                ┆       ┆   ┆           ┆        ┆           ┆ 2013           │\n",
      "│ 1985 ┆ Dodge      ┆ B150/B250      ┆ 5.2   ┆ … ┆ 27.046364 ┆ 10     ┆ 12        ┆ Tue Jan 01     │\n",
      "│      ┆            ┆ Wagon 2WD      ┆       ┆   ┆           ┆        ┆           ┆ 00:00:00 EST   │\n",
      "│      ┆            ┆                ┆       ┆   ┆           ┆        ┆           ┆ 2013           │\n",
      "│ 1993 ┆ Subaru     ┆ Legacy AWD     ┆ 2.2   ┆ … ┆ 15.658421 ┆ 17     ┆ 23        ┆ Tue Jan 01     │\n",
      "│      ┆            ┆ Turbo          ┆       ┆   ┆           ┆        ┆           ┆ 00:00:00 EST   │\n",
      "│      ┆            ┆                ┆       ┆   ┆           ┆        ┆           ┆ 2013           │\n",
      "│ …    ┆ …          ┆ …              ┆ …     ┆ … ┆ …         ┆ …      ┆ …         ┆ …              │\n",
      "│ 1993 ┆ Subaru     ┆ Legacy         ┆ 2.2   ┆ … ┆ 13.523182 ┆ 19     ┆ 26        ┆ Tue Jan 01     │\n",
      "│      ┆            ┆                ┆       ┆   ┆           ┆        ┆           ┆ 00:00:00 EST   │\n",
      "│      ┆            ┆                ┆       ┆   ┆           ┆        ┆           ┆ 2013           │\n",
      "│ 1993 ┆ Subaru     ┆ Legacy         ┆ 2.2   ┆ … ┆ 12.935217 ┆ 20     ┆ 28        ┆ Tue Jan 01     │\n",
      "│      ┆            ┆                ┆       ┆   ┆           ┆        ┆           ┆ 00:00:00 EST   │\n",
      "│      ┆            ┆                ┆       ┆   ┆           ┆        ┆           ┆ 2013           │\n",
      "│ 1993 ┆ Subaru     ┆ Legacy AWD     ┆ 2.2   ┆ … ┆ 14.167143 ┆ 18     ┆ 24        ┆ Tue Jan 01     │\n",
      "│      ┆            ┆                ┆       ┆   ┆           ┆        ┆           ┆ 00:00:00 EST   │\n",
      "│      ┆            ┆                ┆       ┆   ┆           ┆        ┆           ┆ 2013           │\n",
      "│ 1993 ┆ Subaru     ┆ Legacy AWD     ┆ 2.2   ┆ … ┆ 14.167143 ┆ 18     ┆ 24        ┆ Tue Jan 01     │\n",
      "│      ┆            ┆                ┆       ┆   ┆           ┆        ┆           ┆ 00:00:00 EST   │\n",
      "│      ┆            ┆                ┆       ┆   ┆           ┆        ┆           ┆ 2013           │\n",
      "│ 1993 ┆ Subaru     ┆ Legacy AWD     ┆ 2.2   ┆ … ┆ 16.528333 ┆ 16     ┆ 21        ┆ Tue Jan 01     │\n",
      "│      ┆            ┆ Turbo          ┆       ┆   ┆           ┆        ┆           ┆ 00:00:00 EST   │\n",
      "│      ┆            ┆                ┆       ┆   ┆           ┆        ┆           ┆ 2013           │\n",
      "└──────┴────────────┴────────────────┴───────┴───┴───────────┴────────┴───────────┴────────────────┘\n"
     ]
    }
   ],
   "source": [
    "print(df.select(pl.col(cols)))"
   ]
  },
  {
   "cell_type": "code",
   "execution_count": 20,
   "id": "16d65b36-6bf8-4ec6-81a3-93d99d2bafdd",
   "metadata": {},
   "outputs": [
    {
     "name": "stdout",
     "output_type": "stream",
     "text": [
      "shape: (9, 5)\n",
      "┌────────────┬────────────┬───────────┬───────────┬───────────┐\n",
      "│ statistic  ┆ year       ┆ cylinders ┆ city08    ┆ highway08 │\n",
      "│ ---        ┆ ---        ┆ ---       ┆ ---       ┆ ---       │\n",
      "│ str        ┆ f64        ┆ f64       ┆ f64       ┆ f64       │\n",
      "╞════════════╪════════════╪═══════════╪═══════════╪═══════════╡\n",
      "│ count      ┆ 48231.0    ┆ 47266.0   ┆ 48231.0   ┆ 48231.0   │\n",
      "│ null_count ┆ 0.0        ┆ 965.0     ┆ 0.0       ┆ 0.0       │\n",
      "│ mean       ┆ 2004.60571 ┆ 5.698388  ┆ 19.932533 ┆ 25.822002 │\n",
      "│ std        ┆ 12.687496  ┆ 1.772877  ┆ 12.656606 ┆ 11.084974 │\n",
      "│ min        ┆ 1984.0     ┆ 2.0       ┆ 6.0       ┆ 9.0       │\n",
      "│ 25%        ┆ 1993.0     ┆ 4.0       ┆ 15.0      ┆ 20.0      │\n",
      "│ 50%        ┆ 2006.0     ┆ 6.0       ┆ 18.0      ┆ 24.0      │\n",
      "│ 75%        ┆ 2016.0     ┆ 6.0       ┆ 21.0      ┆ 28.0      │\n",
      "│ max        ┆ 2025.0     ┆ 16.0      ┆ 153.0     ┆ 142.0     │\n",
      "└────────────┴────────────┴───────────┴───────────┴───────────┘\n"
     ]
    }
   ],
   "source": [
    "# On Chaining Method Design\n",
    "print(df\n",
    "      .select(pl.col(cols))\n",
    "      .select(pl.col(pl.Int64))\n",
    "      .describe()\n",
    "     )"
   ]
  },
  {
   "cell_type": "code",
   "execution_count": 21,
   "id": "df046ff2-ec66-440c-ac6e-b2e06138b008",
   "metadata": {},
   "outputs": [
    {
     "name": "stdout",
     "output_type": "stream",
     "text": [
      "shape: (48_231, 13)\n",
      "┌──────┬────────────┬────────────────┬───────┬───┬───────────┬────────┬───────────┬────────────────┐\n",
      "│ year ┆ make       ┆ model          ┆ displ ┆ … ┆ barrels08 ┆ city08 ┆ highway08 ┆ createdOn      │\n",
      "│ ---  ┆ ---        ┆ ---            ┆ ---   ┆   ┆ ---       ┆ ---    ┆ ---       ┆ ---            │\n",
      "│ i16  ┆ str        ┆ str            ┆ f64   ┆   ┆ f64       ┆ u8     ┆ u8        ┆ str            │\n",
      "╞══════╪════════════╪════════════════╪═══════╪═══╪═══════════╪════════╪═══════════╪════════════════╡\n",
      "│ 1985 ┆ Alfa Romeo ┆ Spider Veloce  ┆ 2.0   ┆ … ┆ 14.167143 ┆ 19     ┆ 25        ┆ Tue Jan 01     │\n",
      "│      ┆            ┆ 2000           ┆       ┆   ┆           ┆        ┆           ┆ 00:00:00 EST   │\n",
      "│      ┆            ┆                ┆       ┆   ┆           ┆        ┆           ┆ 2013           │\n",
      "│ 1985 ┆ Ferrari    ┆ Testarossa     ┆ 4.9   ┆ … ┆ 27.046364 ┆ 9      ┆ 14        ┆ Tue Jan 01     │\n",
      "│      ┆            ┆                ┆       ┆   ┆           ┆        ┆           ┆ 00:00:00 EST   │\n",
      "│      ┆            ┆                ┆       ┆   ┆           ┆        ┆           ┆ 2013           │\n",
      "│ 1985 ┆ Dodge      ┆ Charger        ┆ 2.2   ┆ … ┆ 11.018889 ┆ 23     ┆ 33        ┆ Tue Jan 01     │\n",
      "│      ┆            ┆                ┆       ┆   ┆           ┆        ┆           ┆ 00:00:00 EST   │\n",
      "│      ┆            ┆                ┆       ┆   ┆           ┆        ┆           ┆ 2013           │\n",
      "│ 1985 ┆ Dodge      ┆ B150/B250      ┆ 5.2   ┆ … ┆ 27.046364 ┆ 10     ┆ 12        ┆ Tue Jan 01     │\n",
      "│      ┆            ┆ Wagon 2WD      ┆       ┆   ┆           ┆        ┆           ┆ 00:00:00 EST   │\n",
      "│      ┆            ┆                ┆       ┆   ┆           ┆        ┆           ┆ 2013           │\n",
      "│ 1993 ┆ Subaru     ┆ Legacy AWD     ┆ 2.2   ┆ … ┆ 15.658421 ┆ 17     ┆ 23        ┆ Tue Jan 01     │\n",
      "│      ┆            ┆ Turbo          ┆       ┆   ┆           ┆        ┆           ┆ 00:00:00 EST   │\n",
      "│      ┆            ┆                ┆       ┆   ┆           ┆        ┆           ┆ 2013           │\n",
      "│ …    ┆ …          ┆ …              ┆ …     ┆ … ┆ …         ┆ …      ┆ …         ┆ …              │\n",
      "│ 1993 ┆ Subaru     ┆ Legacy         ┆ 2.2   ┆ … ┆ 13.523182 ┆ 19     ┆ 26        ┆ Tue Jan 01     │\n",
      "│      ┆            ┆                ┆       ┆   ┆           ┆        ┆           ┆ 00:00:00 EST   │\n",
      "│      ┆            ┆                ┆       ┆   ┆           ┆        ┆           ┆ 2013           │\n",
      "│ 1993 ┆ Subaru     ┆ Legacy         ┆ 2.2   ┆ … ┆ 12.935217 ┆ 20     ┆ 28        ┆ Tue Jan 01     │\n",
      "│      ┆            ┆                ┆       ┆   ┆           ┆        ┆           ┆ 00:00:00 EST   │\n",
      "│      ┆            ┆                ┆       ┆   ┆           ┆        ┆           ┆ 2013           │\n",
      "│ 1993 ┆ Subaru     ┆ Legacy AWD     ┆ 2.2   ┆ … ┆ 14.167143 ┆ 18     ┆ 24        ┆ Tue Jan 01     │\n",
      "│      ┆            ┆                ┆       ┆   ┆           ┆        ┆           ┆ 00:00:00 EST   │\n",
      "│      ┆            ┆                ┆       ┆   ┆           ┆        ┆           ┆ 2013           │\n",
      "│ 1993 ┆ Subaru     ┆ Legacy AWD     ┆ 2.2   ┆ … ┆ 14.167143 ┆ 18     ┆ 24        ┆ Tue Jan 01     │\n",
      "│      ┆            ┆                ┆       ┆   ┆           ┆        ┆           ┆ 00:00:00 EST   │\n",
      "│      ┆            ┆                ┆       ┆   ┆           ┆        ┆           ┆ 2013           │\n",
      "│ 1993 ┆ Subaru     ┆ Legacy AWD     ┆ 2.2   ┆ … ┆ 16.528333 ┆ 16     ┆ 21        ┆ Tue Jan 01     │\n",
      "│      ┆            ┆ Turbo          ┆       ┆   ┆           ┆        ┆           ┆ 00:00:00 EST   │\n",
      "│      ┆            ┆                ┆       ┆   ┆           ┆        ┆           ┆ 2013           │\n",
      "└──────┴────────────┴────────────────┴───────┴───┴───────────┴────────┴───────────┴────────────────┘\n"
     ]
    }
   ],
   "source": [
    "# Adding & Selecting Columns \n",
    "print(df\n",
    "      .select(pl.col(cols))\n",
    "      .with_columns(pl.col('year').cast(pl.Int16),\n",
    "                    pl.col('cylinders').cast(pl.UInt8),\n",
    "                    pl.col('highway08').cast(pl.UInt8),\n",
    "                    pl.col('city08').cast(pl.UInt8))\n",
    "     )"
   ]
  },
  {
   "cell_type": "markdown",
   "id": "d013f4e0-fdcd-413e-b5f9-ef37c90873be",
   "metadata": {},
   "source": [
    "It's strongly recommended using `.describe` to examine all the integer columns and\n",
    "determine if the column can be cast to a smaller integer type"
   ]
  },
  {
   "cell_type": "code",
   "execution_count": 22,
   "id": "408d4191-a9b1-40ec-95b1-1fa849c27cca",
   "metadata": {},
   "outputs": [
    {
     "ename": "InvalidOperationError",
     "evalue": "conversion from `i64` to `i8` failed in column 'year' for 250 out of 250 values: [1999, 1999, … 2000]",
     "output_type": "error",
     "traceback": [
      "\u001b[0;31m---------------------------------------------------------------------------\u001b[0m",
      "\u001b[0;31mInvalidOperationError\u001b[0m                     Traceback (most recent call last)",
      "Cell \u001b[0;32mIn[22], line 3\u001b[0m\n\u001b[1;32m      1\u001b[0m \u001b[38;5;28mprint\u001b[39m(df\n\u001b[1;32m      2\u001b[0m       \u001b[38;5;241m.\u001b[39mselect(pl\u001b[38;5;241m.\u001b[39mcol(cols))\n\u001b[0;32m----> 3\u001b[0m       \u001b[38;5;241m.\u001b[39mwith_columns(pl\u001b[38;5;241m.\u001b[39mcol(\u001b[38;5;124m'\u001b[39m\u001b[38;5;124myear\u001b[39m\u001b[38;5;124m'\u001b[39m)\u001b[38;5;241m.\u001b[39mcast(pl\u001b[38;5;241m.\u001b[39mInt8))\n\u001b[1;32m      4\u001b[0m      )\n",
      "File \u001b[0;32m~/anaconda3/envs/polars/lib/python3.11/site-packages/polars/dataframe/frame.py:9202\u001b[0m, in \u001b[0;36mDataFrame.with_columns\u001b[0;34m(self, *exprs, **named_exprs)\u001b[0m\n\u001b[1;32m   9056\u001b[0m \u001b[38;5;28;01mdef\u001b[39;00m \u001b[38;5;21mwith_columns\u001b[39m(\n\u001b[1;32m   9057\u001b[0m     \u001b[38;5;28mself\u001b[39m,\n\u001b[1;32m   9058\u001b[0m     \u001b[38;5;241m*\u001b[39mexprs: IntoExpr \u001b[38;5;241m|\u001b[39m Iterable[IntoExpr],\n\u001b[1;32m   9059\u001b[0m     \u001b[38;5;241m*\u001b[39m\u001b[38;5;241m*\u001b[39mnamed_exprs: IntoExpr,\n\u001b[1;32m   9060\u001b[0m ) \u001b[38;5;241m-\u001b[39m\u001b[38;5;241m>\u001b[39m DataFrame:\n\u001b[1;32m   9061\u001b[0m \u001b[38;5;250m    \u001b[39m\u001b[38;5;124;03m\"\"\"\u001b[39;00m\n\u001b[1;32m   9062\u001b[0m \u001b[38;5;124;03m    Add columns to this DataFrame.\u001b[39;00m\n\u001b[1;32m   9063\u001b[0m \n\u001b[0;32m   (...)\u001b[0m\n\u001b[1;32m   9200\u001b[0m \u001b[38;5;124;03m    └─────┴──────┴─────────────┘\u001b[39;00m\n\u001b[1;32m   9201\u001b[0m \u001b[38;5;124;03m    \"\"\"\u001b[39;00m\n\u001b[0;32m-> 9202\u001b[0m     \u001b[38;5;28;01mreturn\u001b[39;00m \u001b[38;5;28mself\u001b[39m\u001b[38;5;241m.\u001b[39mlazy()\u001b[38;5;241m.\u001b[39mwith_columns(\u001b[38;5;241m*\u001b[39mexprs, \u001b[38;5;241m*\u001b[39m\u001b[38;5;241m*\u001b[39mnamed_exprs)\u001b[38;5;241m.\u001b[39mcollect(_eager\u001b[38;5;241m=\u001b[39m\u001b[38;5;28;01mTrue\u001b[39;00m)\n",
      "File \u001b[0;32m~/anaconda3/envs/polars/lib/python3.11/site-packages/polars/lazyframe/frame.py:2029\u001b[0m, in \u001b[0;36mLazyFrame.collect\u001b[0;34m(self, type_coercion, predicate_pushdown, projection_pushdown, simplify_expression, slice_pushdown, comm_subplan_elim, comm_subexpr_elim, cluster_with_columns, collapse_joins, no_optimization, streaming, engine, background, _eager, **_kwargs)\u001b[0m\n\u001b[1;32m   2027\u001b[0m \u001b[38;5;66;03m# Only for testing purposes\u001b[39;00m\n\u001b[1;32m   2028\u001b[0m callback \u001b[38;5;241m=\u001b[39m _kwargs\u001b[38;5;241m.\u001b[39mget(\u001b[38;5;124m\"\u001b[39m\u001b[38;5;124mpost_opt_callback\u001b[39m\u001b[38;5;124m\"\u001b[39m, callback)\n\u001b[0;32m-> 2029\u001b[0m \u001b[38;5;28;01mreturn\u001b[39;00m wrap_df(ldf\u001b[38;5;241m.\u001b[39mcollect(callback))\n",
      "\u001b[0;31mInvalidOperationError\u001b[0m: conversion from `i64` to `i8` failed in column 'year' for 250 out of 250 values: [1999, 1999, … 2000]"
     ]
    }
   ],
   "source": [
    "print(df\n",
    "      .select(pl.col(cols))\n",
    "      .with_columns(pl.col('year').cast(pl.Int8))\n",
    "     )"
   ]
  },
  {
   "cell_type": "markdown",
   "id": "823fa0c4-dc6c-41d6-bae9-4ef761dc668b",
   "metadata": {},
   "source": [
    "### Automatic Type Shrinking"
   ]
  },
  {
   "cell_type": "code",
   "execution_count": 23,
   "id": "cdeefcde-bf00-4d66-8c78-75b80494d2b0",
   "metadata": {},
   "outputs": [
    {
     "name": "stdout",
     "output_type": "stream",
     "text": [
      "shape: (48_231, 13)\n",
      "┌──────┬────────────┬────────────────┬───────┬───┬───────────┬────────┬───────────┬────────────────┐\n",
      "│ year ┆ make       ┆ model          ┆ displ ┆ … ┆ barrels08 ┆ city08 ┆ highway08 ┆ createdOn      │\n",
      "│ ---  ┆ ---        ┆ ---            ┆ ---   ┆   ┆ ---       ┆ ---    ┆ ---       ┆ ---            │\n",
      "│ i16  ┆ str        ┆ str            ┆ f32   ┆   ┆ f32       ┆ i16    ┆ i16       ┆ str            │\n",
      "╞══════╪════════════╪════════════════╪═══════╪═══╪═══════════╪════════╪═══════════╪════════════════╡\n",
      "│ 1985 ┆ Alfa Romeo ┆ Spider Veloce  ┆ 2.0   ┆ … ┆ 14.167143 ┆ 19     ┆ 25        ┆ Tue Jan 01     │\n",
      "│      ┆            ┆ 2000           ┆       ┆   ┆           ┆        ┆           ┆ 00:00:00 EST   │\n",
      "│      ┆            ┆                ┆       ┆   ┆           ┆        ┆           ┆ 2013           │\n",
      "│ 1985 ┆ Ferrari    ┆ Testarossa     ┆ 4.9   ┆ … ┆ 27.046364 ┆ 9      ┆ 14        ┆ Tue Jan 01     │\n",
      "│      ┆            ┆                ┆       ┆   ┆           ┆        ┆           ┆ 00:00:00 EST   │\n",
      "│      ┆            ┆                ┆       ┆   ┆           ┆        ┆           ┆ 2013           │\n",
      "│ 1985 ┆ Dodge      ┆ Charger        ┆ 2.2   ┆ … ┆ 11.018888 ┆ 23     ┆ 33        ┆ Tue Jan 01     │\n",
      "│      ┆            ┆                ┆       ┆   ┆           ┆        ┆           ┆ 00:00:00 EST   │\n",
      "│      ┆            ┆                ┆       ┆   ┆           ┆        ┆           ┆ 2013           │\n",
      "│ 1985 ┆ Dodge      ┆ B150/B250      ┆ 5.2   ┆ … ┆ 27.046364 ┆ 10     ┆ 12        ┆ Tue Jan 01     │\n",
      "│      ┆            ┆ Wagon 2WD      ┆       ┆   ┆           ┆        ┆           ┆ 00:00:00 EST   │\n",
      "│      ┆            ┆                ┆       ┆   ┆           ┆        ┆           ┆ 2013           │\n",
      "│ 1993 ┆ Subaru     ┆ Legacy AWD     ┆ 2.2   ┆ … ┆ 15.658422 ┆ 17     ┆ 23        ┆ Tue Jan 01     │\n",
      "│      ┆            ┆ Turbo          ┆       ┆   ┆           ┆        ┆           ┆ 00:00:00 EST   │\n",
      "│      ┆            ┆                ┆       ┆   ┆           ┆        ┆           ┆ 2013           │\n",
      "│ …    ┆ …          ┆ …              ┆ …     ┆ … ┆ …         ┆ …      ┆ …         ┆ …              │\n",
      "│ 1993 ┆ Subaru     ┆ Legacy         ┆ 2.2   ┆ … ┆ 13.523182 ┆ 19     ┆ 26        ┆ Tue Jan 01     │\n",
      "│      ┆            ┆                ┆       ┆   ┆           ┆        ┆           ┆ 00:00:00 EST   │\n",
      "│      ┆            ┆                ┆       ┆   ┆           ┆        ┆           ┆ 2013           │\n",
      "│ 1993 ┆ Subaru     ┆ Legacy         ┆ 2.2   ┆ … ┆ 12.935218 ┆ 20     ┆ 28        ┆ Tue Jan 01     │\n",
      "│      ┆            ┆                ┆       ┆   ┆           ┆        ┆           ┆ 00:00:00 EST   │\n",
      "│      ┆            ┆                ┆       ┆   ┆           ┆        ┆           ┆ 2013           │\n",
      "│ 1993 ┆ Subaru     ┆ Legacy AWD     ┆ 2.2   ┆ … ┆ 14.167143 ┆ 18     ┆ 24        ┆ Tue Jan 01     │\n",
      "│      ┆            ┆                ┆       ┆   ┆           ┆        ┆           ┆ 00:00:00 EST   │\n",
      "│      ┆            ┆                ┆       ┆   ┆           ┆        ┆           ┆ 2013           │\n",
      "│ 1993 ┆ Subaru     ┆ Legacy AWD     ┆ 2.2   ┆ … ┆ 14.167143 ┆ 18     ┆ 24        ┆ Tue Jan 01     │\n",
      "│      ┆            ┆                ┆       ┆   ┆           ┆        ┆           ┆ 00:00:00 EST   │\n",
      "│      ┆            ┆                ┆       ┆   ┆           ┆        ┆           ┆ 2013           │\n",
      "│ 1993 ┆ Subaru     ┆ Legacy AWD     ┆ 2.2   ┆ … ┆ 16.528334 ┆ 16     ┆ 21        ┆ Tue Jan 01     │\n",
      "│      ┆            ┆ Turbo          ┆       ┆   ┆           ┆        ┆           ┆ 00:00:00 EST   │\n",
      "│      ┆            ┆                ┆       ┆   ┆           ┆        ┆           ┆ 2013           │\n",
      "└──────┴────────────┴────────────────┴───────┴───┴───────────┴────────┴───────────┴────────────────┘\n"
     ]
    }
   ],
   "source": [
    "print(df\n",
    "      .select(pl.col(cols).shrink_dtype())\n",
    "     )"
   ]
  },
  {
   "cell_type": "markdown",
   "id": "6e4c63ec-2972-4b55-b196-c7f54fdf3817",
   "metadata": {},
   "source": [
    "### Float Conversion"
   ]
  },
  {
   "cell_type": "code",
   "execution_count": 24,
   "id": "c590ba46-8159-4337-bcea-335769a73285",
   "metadata": {},
   "outputs": [
    {
     "name": "stdout",
     "output_type": "stream",
     "text": [
      "shape: (10, 2)\n",
      "┌───────┬───────────┐\n",
      "│ displ ┆ barrels08 │\n",
      "│ ---   ┆ ---       │\n",
      "│ f64   ┆ f64       │\n",
      "╞═══════╪═══════════╡\n",
      "│ 2.2   ┆ 12.39625  │\n",
      "│ 2.4   ┆ 13.523182 │\n",
      "│ 4.0   ┆ 19.834    │\n",
      "│ 5.3   ┆ 18.594375 │\n",
      "│ 2.8   ┆ 14.8755   │\n",
      "│ 1.3   ┆ 8.750294  │\n",
      "│ 3.0   ┆ 14.167143 │\n",
      "│ 5.3   ┆ 17.500588 │\n",
      "│ 4.7   ┆ 21.250714 │\n",
      "│ 1.8   ┆ 11.442692 │\n",
      "└───────┴───────────┘\n"
     ]
    }
   ],
   "source": [
    "print(df\n",
    "      .select(pl.col(cols))\n",
    "      .with_columns(pl.col('year').cast(pl.Int16),\n",
    "                    pl.col('cylinders').cast(pl.UInt8),\n",
    "                    pl.col('highway08').cast(pl.UInt8),\n",
    "                    pl.col('city08').cast(pl.UInt8))\n",
    "      .select(pl.col(pl.Float64))\n",
    "      .sample(n=10, seed=42)\n",
    "     )"
   ]
  },
  {
   "cell_type": "code",
   "execution_count": 25,
   "id": "7c5d9f1d-6ed1-44a1-aae8-763235d1b3c6",
   "metadata": {},
   "outputs": [
    {
     "name": "stdout",
     "output_type": "stream",
     "text": [
      "shape: (48_231, 13)\n",
      "┌──────┬────────────┬────────────────┬───────┬───┬───────────┬────────┬───────────┬────────────────┐\n",
      "│ year ┆ make       ┆ model          ┆ displ ┆ … ┆ barrels08 ┆ city08 ┆ highway08 ┆ createdOn      │\n",
      "│ ---  ┆ ---        ┆ ---            ┆ ---   ┆   ┆ ---       ┆ ---    ┆ ---       ┆ ---            │\n",
      "│ i16  ┆ str        ┆ str            ┆ f32   ┆   ┆ f32       ┆ u8     ┆ u8        ┆ str            │\n",
      "╞══════╪════════════╪════════════════╪═══════╪═══╪═══════════╪════════╪═══════════╪════════════════╡\n",
      "│ 1985 ┆ Alfa Romeo ┆ Spider Veloce  ┆ 2.0   ┆ … ┆ 14.167143 ┆ 19     ┆ 25        ┆ Tue Jan 01     │\n",
      "│      ┆            ┆ 2000           ┆       ┆   ┆           ┆        ┆           ┆ 00:00:00 EST   │\n",
      "│      ┆            ┆                ┆       ┆   ┆           ┆        ┆           ┆ 2013           │\n",
      "│ 1985 ┆ Ferrari    ┆ Testarossa     ┆ 4.9   ┆ … ┆ 27.046364 ┆ 9      ┆ 14        ┆ Tue Jan 01     │\n",
      "│      ┆            ┆                ┆       ┆   ┆           ┆        ┆           ┆ 00:00:00 EST   │\n",
      "│      ┆            ┆                ┆       ┆   ┆           ┆        ┆           ┆ 2013           │\n",
      "│ 1985 ┆ Dodge      ┆ Charger        ┆ 2.2   ┆ … ┆ 11.018888 ┆ 23     ┆ 33        ┆ Tue Jan 01     │\n",
      "│      ┆            ┆                ┆       ┆   ┆           ┆        ┆           ┆ 00:00:00 EST   │\n",
      "│      ┆            ┆                ┆       ┆   ┆           ┆        ┆           ┆ 2013           │\n",
      "│ 1985 ┆ Dodge      ┆ B150/B250      ┆ 5.2   ┆ … ┆ 27.046364 ┆ 10     ┆ 12        ┆ Tue Jan 01     │\n",
      "│      ┆            ┆ Wagon 2WD      ┆       ┆   ┆           ┆        ┆           ┆ 00:00:00 EST   │\n",
      "│      ┆            ┆                ┆       ┆   ┆           ┆        ┆           ┆ 2013           │\n",
      "│ 1993 ┆ Subaru     ┆ Legacy AWD     ┆ 2.2   ┆ … ┆ 15.658422 ┆ 17     ┆ 23        ┆ Tue Jan 01     │\n",
      "│      ┆            ┆ Turbo          ┆       ┆   ┆           ┆        ┆           ┆ 00:00:00 EST   │\n",
      "│      ┆            ┆                ┆       ┆   ┆           ┆        ┆           ┆ 2013           │\n",
      "│ …    ┆ …          ┆ …              ┆ …     ┆ … ┆ …         ┆ …      ┆ …         ┆ …              │\n",
      "│ 1993 ┆ Subaru     ┆ Legacy         ┆ 2.2   ┆ … ┆ 13.523182 ┆ 19     ┆ 26        ┆ Tue Jan 01     │\n",
      "│      ┆            ┆                ┆       ┆   ┆           ┆        ┆           ┆ 00:00:00 EST   │\n",
      "│      ┆            ┆                ┆       ┆   ┆           ┆        ┆           ┆ 2013           │\n",
      "│ 1993 ┆ Subaru     ┆ Legacy         ┆ 2.2   ┆ … ┆ 12.935218 ┆ 20     ┆ 28        ┆ Tue Jan 01     │\n",
      "│      ┆            ┆                ┆       ┆   ┆           ┆        ┆           ┆ 00:00:00 EST   │\n",
      "│      ┆            ┆                ┆       ┆   ┆           ┆        ┆           ┆ 2013           │\n",
      "│ 1993 ┆ Subaru     ┆ Legacy AWD     ┆ 2.2   ┆ … ┆ 14.167143 ┆ 18     ┆ 24        ┆ Tue Jan 01     │\n",
      "│      ┆            ┆                ┆       ┆   ┆           ┆        ┆           ┆ 00:00:00 EST   │\n",
      "│      ┆            ┆                ┆       ┆   ┆           ┆        ┆           ┆ 2013           │\n",
      "│ 1993 ┆ Subaru     ┆ Legacy AWD     ┆ 2.2   ┆ … ┆ 14.167143 ┆ 18     ┆ 24        ┆ Tue Jan 01     │\n",
      "│      ┆            ┆                ┆       ┆   ┆           ┆        ┆           ┆ 00:00:00 EST   │\n",
      "│      ┆            ┆                ┆       ┆   ┆           ┆        ┆           ┆ 2013           │\n",
      "│ 1993 ┆ Subaru     ┆ Legacy AWD     ┆ 2.2   ┆ … ┆ 16.528334 ┆ 16     ┆ 21        ┆ Tue Jan 01     │\n",
      "│      ┆            ┆ Turbo          ┆       ┆   ┆           ┆        ┆           ┆ 00:00:00 EST   │\n",
      "│      ┆            ┆                ┆       ┆   ┆           ┆        ┆           ┆ 2013           │\n",
      "└──────┴────────────┴────────────────┴───────┴───┴───────────┴────────┴───────────┴────────────────┘\n"
     ]
    }
   ],
   "source": [
    "print(df\n",
    "      .select(pl.col(cols))\n",
    "      .with_columns(pl.col('year').cast(pl.Int16),\n",
    "                    pl.col('cylinders').cast(pl.UInt8),\n",
    "                    pl.col('highway08').cast(pl.UInt8),\n",
    "                    pl.col('city08').cast(pl.UInt8),\n",
    "                    pl.col('displ').cast(pl.Float32),\n",
    "                    pl.col('barrels08').cast(pl.Float32),\n",
    "                   )\n",
    "                   )"
   ]
  },
  {
   "cell_type": "markdown",
   "id": "09069d3f-9941-40bf-9588-6f419f09a35d",
   "metadata": {},
   "source": [
    "### Extracting Numbers from Strings"
   ]
  },
  {
   "cell_type": "code",
   "execution_count": 26,
   "id": "e0d651df-330e-4a29-b922-ea88ef258f6c",
   "metadata": {},
   "outputs": [
    {
     "name": "stdout",
     "output_type": "stream",
     "text": [
      "shape: (48_231, 1)\n",
      "┌─────────────────┐\n",
      "│ trany           │\n",
      "│ ---             │\n",
      "│ str             │\n",
      "╞═════════════════╡\n",
      "│ Manual 5-spd    │\n",
      "│ Manual 5-spd    │\n",
      "│ Manual 5-spd    │\n",
      "│ Automatic 3-spd │\n",
      "│ Manual 5-spd    │\n",
      "│ …               │\n",
      "│ Automatic 4-spd │\n",
      "│ Manual 5-spd    │\n",
      "│ Automatic 4-spd │\n",
      "│ Manual 5-spd    │\n",
      "│ Automatic 4-spd │\n",
      "└─────────────────┘\n"
     ]
    }
   ],
   "source": [
    "print(df\n",
    "      .select('trany')\n",
    "     )"
   ]
  },
  {
   "cell_type": "code",
   "execution_count": 27,
   "id": "0afc1074-143c-44cf-a9e3-750c5f3dcb88",
   "metadata": {},
   "outputs": [
    {
     "name": "stdout",
     "output_type": "stream",
     "text": [
      "shape: (48_231, 2)\n",
      "┌─────────────────┬───────────┐\n",
      "│ trany           ┆ automatic │\n",
      "│ ---             ┆ ---       │\n",
      "│ str             ┆ bool      │\n",
      "╞═════════════════╪═══════════╡\n",
      "│ Manual 5-spd    ┆ false     │\n",
      "│ Manual 5-spd    ┆ false     │\n",
      "│ Manual 5-spd    ┆ false     │\n",
      "│ Automatic 3-spd ┆ true      │\n",
      "│ Manual 5-spd    ┆ false     │\n",
      "│ …               ┆ …         │\n",
      "│ Automatic 4-spd ┆ true      │\n",
      "│ Manual 5-spd    ┆ false     │\n",
      "│ Automatic 4-spd ┆ true      │\n",
      "│ Manual 5-spd    ┆ false     │\n",
      "│ Automatic 4-spd ┆ true      │\n",
      "└─────────────────┴───────────┘\n"
     ]
    }
   ],
   "source": [
    "# Switching it by chaining expression\n",
    "print(df\n",
    "      .select('trany',\n",
    "              pl.col('trany')\n",
    "              .str.to_lowercase()\n",
    "              .str.contains('automatic')\n",
    "              .alias('automatic'))\n",
    "     )"
   ]
  },
  {
   "cell_type": "code",
   "execution_count": 28,
   "id": "844a7b95-b53b-4400-99af-98b7541653ad",
   "metadata": {},
   "outputs": [
    {
     "name": "stdout",
     "output_type": "stream",
     "text": [
      "shape: (48_231, 85)\n",
      "┌───────────┬────────────┬───────────┬───────────┬───┬──────────┬─────────┬──────────┬─────────────┐\n",
      "│ barrels08 ┆ barrelsA08 ┆ charge120 ┆ charge240 ┆ … ┆ phevCity ┆ phevHwy ┆ phevComb ┆ is_automati │\n",
      "│ ---       ┆ ---        ┆ ---       ┆ ---       ┆   ┆ ---      ┆ ---     ┆ ---      ┆ c           │\n",
      "│ f64       ┆ f64        ┆ f64       ┆ f64       ┆   ┆ i64      ┆ i64     ┆ i64      ┆ ---         │\n",
      "│           ┆            ┆           ┆           ┆   ┆          ┆         ┆          ┆ bool        │\n",
      "╞═══════════╪════════════╪═══════════╪═══════════╪═══╪══════════╪═════════╪══════════╪═════════════╡\n",
      "│ 14.167143 ┆ 0.0        ┆ 0.0       ┆ 0.0       ┆ … ┆ 0        ┆ 0       ┆ 0        ┆ false       │\n",
      "│ 27.046364 ┆ 0.0        ┆ 0.0       ┆ 0.0       ┆ … ┆ 0        ┆ 0       ┆ 0        ┆ false       │\n",
      "│ 11.018889 ┆ 0.0        ┆ 0.0       ┆ 0.0       ┆ … ┆ 0        ┆ 0       ┆ 0        ┆ false       │\n",
      "│ 27.046364 ┆ 0.0        ┆ 0.0       ┆ 0.0       ┆ … ┆ 0        ┆ 0       ┆ 0        ┆ true        │\n",
      "│ 15.658421 ┆ 0.0        ┆ 0.0       ┆ 0.0       ┆ … ┆ 0        ┆ 0       ┆ 0        ┆ false       │\n",
      "│ …         ┆ …          ┆ …         ┆ …         ┆ … ┆ …        ┆ …       ┆ …        ┆ …           │\n",
      "│ 13.523182 ┆ 0.0        ┆ 0.0       ┆ 0.0       ┆ … ┆ 0        ┆ 0       ┆ 0        ┆ true        │\n",
      "│ 12.935217 ┆ 0.0        ┆ 0.0       ┆ 0.0       ┆ … ┆ 0        ┆ 0       ┆ 0        ┆ false       │\n",
      "│ 14.167143 ┆ 0.0        ┆ 0.0       ┆ 0.0       ┆ … ┆ 0        ┆ 0       ┆ 0        ┆ true        │\n",
      "│ 14.167143 ┆ 0.0        ┆ 0.0       ┆ 0.0       ┆ … ┆ 0        ┆ 0       ┆ 0        ┆ false       │\n",
      "│ 16.528333 ┆ 0.0        ┆ 0.0       ┆ 0.0       ┆ … ┆ 0        ┆ 0       ┆ 0        ┆ true        │\n",
      "└───────────┴────────────┴───────────┴───────────┴───┴──────────┴─────────┴──────────┴─────────────┘\n"
     ]
    }
   ],
   "source": [
    "print(df\n",
    "      .with_columns('trany',\n",
    "                    pl.col('trany')\n",
    "                    .str.to_lowercase()\n",
    "                    .str.contains('automatic')\n",
    "                    .alias('is_automatic'))\n",
    "     )"
   ]
  },
  {
   "cell_type": "code",
   "execution_count": 29,
   "id": "77d7c711-a684-4b46-be8d-4ea4cd14646a",
   "metadata": {},
   "outputs": [
    {
     "name": "stdout",
     "output_type": "stream",
     "text": [
      "shape: (48_231, 85)\n",
      "┌───────────┬────────────┬───────────┬───────────┬───┬──────────┬─────────┬──────────┬─────────────┐\n",
      "│ barrels08 ┆ barrelsA08 ┆ charge120 ┆ charge240 ┆ … ┆ phevCity ┆ phevHwy ┆ phevComb ┆ is_automati │\n",
      "│ ---       ┆ ---        ┆ ---       ┆ ---       ┆   ┆ ---      ┆ ---     ┆ ---      ┆ c           │\n",
      "│ f64       ┆ f64        ┆ f64       ┆ f64       ┆   ┆ i64      ┆ i64     ┆ i64      ┆ ---         │\n",
      "│           ┆            ┆           ┆           ┆   ┆          ┆         ┆          ┆ bool        │\n",
      "╞═══════════╪════════════╪═══════════╪═══════════╪═══╪══════════╪═════════╪══════════╪═════════════╡\n",
      "│ 14.167143 ┆ 0.0        ┆ 0.0       ┆ 0.0       ┆ … ┆ 0        ┆ 0       ┆ 0        ┆ false       │\n",
      "│ 27.046364 ┆ 0.0        ┆ 0.0       ┆ 0.0       ┆ … ┆ 0        ┆ 0       ┆ 0        ┆ false       │\n",
      "│ 11.018889 ┆ 0.0        ┆ 0.0       ┆ 0.0       ┆ … ┆ 0        ┆ 0       ┆ 0        ┆ false       │\n",
      "│ 27.046364 ┆ 0.0        ┆ 0.0       ┆ 0.0       ┆ … ┆ 0        ┆ 0       ┆ 0        ┆ true        │\n",
      "│ 15.658421 ┆ 0.0        ┆ 0.0       ┆ 0.0       ┆ … ┆ 0        ┆ 0       ┆ 0        ┆ false       │\n",
      "│ …         ┆ …          ┆ …         ┆ …         ┆ … ┆ …        ┆ …       ┆ …        ┆ …           │\n",
      "│ 13.523182 ┆ 0.0        ┆ 0.0       ┆ 0.0       ┆ … ┆ 0        ┆ 0       ┆ 0        ┆ true        │\n",
      "│ 12.935217 ┆ 0.0        ┆ 0.0       ┆ 0.0       ┆ … ┆ 0        ┆ 0       ┆ 0        ┆ false       │\n",
      "│ 14.167143 ┆ 0.0        ┆ 0.0       ┆ 0.0       ┆ … ┆ 0        ┆ 0       ┆ 0        ┆ true        │\n",
      "│ 14.167143 ┆ 0.0        ┆ 0.0       ┆ 0.0       ┆ … ┆ 0        ┆ 0       ┆ 0        ┆ false       │\n",
      "│ 16.528333 ┆ 0.0        ┆ 0.0       ┆ 0.0       ┆ … ┆ 0        ┆ 0       ┆ 0        ┆ true        │\n",
      "└───────────┴────────────┴───────────┴───────────┴───┴──────────┴─────────┴──────────┴─────────────┘\n"
     ]
    }
   ],
   "source": [
    "print(df\n",
    "      .with_columns('trany',\n",
    "                    is_automatic=pl.col('trany')\n",
    "                    .str.to_lowercase()\n",
    "                    .str.contains('automatic'))\n",
    "     )"
   ]
  },
  {
   "cell_type": "code",
   "execution_count": 30,
   "id": "d59b965a-f63e-44c4-bb78-43b20426754b",
   "metadata": {},
   "outputs": [
    {
     "name": "stdout",
     "output_type": "stream",
     "text": [
      "shape: (41, 2)\n",
      "┌────────────────────┬───────┐\n",
      "│ trany              ┆ len   │\n",
      "│ ---                ┆ ---   │\n",
      "│ str                ┆ u32   │\n",
      "╞════════════════════╪═══════╡\n",
      "│ Automatic 4-spd    ┆ 11048 │\n",
      "│ Manual 5-spd       ┆ 8392  │\n",
      "│ Automatic (S6)     ┆ 3352  │\n",
      "│ Automatic (S8)     ┆ 3302  │\n",
      "│ Automatic 3-spd    ┆ 3151  │\n",
      "│ …                  ┆ …     │\n",
      "│ null               ┆ 11    │\n",
      "│ Automatic (AM-S9)  ┆ 6     │\n",
      "│ Automatic (L4)     ┆ 2     │\n",
      "│ Automatic (L3)     ┆ 2     │\n",
      "│ Automatic (AM-S10) ┆ 2     │\n",
      "└────────────────────┴───────┘\n"
     ]
    }
   ],
   "source": [
    "# Checking on Entry Differential\n",
    "print(df\n",
    "      .group_by('trany')\n",
    "      .len()\n",
    "      .sort('len', descending=True)\n",
    "     )"
   ]
  },
  {
   "cell_type": "code",
   "execution_count": 31,
   "id": "424fbb0f-0c84-4c80-a6c9-98f94980fd6c",
   "metadata": {},
   "outputs": [
    {
     "name": "stdout",
     "output_type": "stream",
     "text": [
      "shape: (41, 2)\n",
      "┌────────────────────┬───────┐\n",
      "│ trany              ┆ count │\n",
      "│ ---                ┆ ---   │\n",
      "│ str                ┆ u32   │\n",
      "╞════════════════════╪═══════╡\n",
      "│ Automatic 4-spd    ┆ 11048 │\n",
      "│ Manual 5-spd       ┆ 8392  │\n",
      "│ Automatic (S6)     ┆ 3352  │\n",
      "│ Automatic (S8)     ┆ 3302  │\n",
      "│ Automatic 3-spd    ┆ 3151  │\n",
      "│ …                  ┆ …     │\n",
      "│ null               ┆ 11    │\n",
      "│ Automatic (AM-S9)  ┆ 6     │\n",
      "│ Automatic (L4)     ┆ 2     │\n",
      "│ Automatic (L3)     ┆ 2     │\n",
      "│ Automatic (AM-S10) ┆ 2     │\n",
      "└────────────────────┴───────┘\n"
     ]
    }
   ],
   "source": [
    "print(df\n",
    "      .select(pl.col('trany')\n",
    "              .value_counts(sort=True))\n",
    "      .unnest('trany')\n",
    "     )"
   ]
  },
  {
   "cell_type": "code",
   "execution_count": 32,
   "id": "cba36709-f13e-4109-b98d-9face98b5e3a",
   "metadata": {},
   "outputs": [
    {
     "name": "stdout",
     "output_type": "stream",
     "text": [
      "shape: (11, 4)\n",
      "┌──────┬────────┬────────────────────────┬─────────────────────────────┐\n",
      "│ year ┆ make   ┆ model                  ┆ VClass                      │\n",
      "│ ---  ┆ ---    ┆ ---                    ┆ ---                         │\n",
      "│ i64  ┆ str    ┆ str                    ┆ str                         │\n",
      "╞══════╪════════╪════════════════════════╪═════════════════════════════╡\n",
      "│ 2000 ┆ Nissan ┆ Altra EV               ┆ Midsize Station Wagons      │\n",
      "│ 2000 ┆ Toyota ┆ RAV4 EV                ┆ Sport Utility Vehicle - 2WD │\n",
      "│ 2001 ┆ Toyota ┆ RAV4 EV                ┆ Sport Utility Vehicle - 2WD │\n",
      "│ 2001 ┆ Ford   ┆ Th!nk                  ┆ Two Seaters                 │\n",
      "│ 2001 ┆ Ford   ┆ Explorer USPS Electric ┆ Sport Utility Vehicle - 2WD │\n",
      "│ …    ┆ …      ┆ …                      ┆ …                           │\n",
      "│ 2002 ┆ Toyota ┆ RAV4 EV                ┆ Sport Utility Vehicle - 2WD │\n",
      "│ 2002 ┆ Ford   ┆ Explorer USPS Electric ┆ Sport Utility Vehicle - 2WD │\n",
      "│ 2003 ┆ Toyota ┆ RAV4 EV                ┆ Sport Utility Vehicle - 2WD │\n",
      "│ 1984 ┆ Ford   ┆ F150 Pickup 2WD        ┆ Standard Pickup Trucks 2WD  │\n",
      "│ 1984 ┆ GMC    ┆ C25 Pickup 2WD         ┆ Standard Pickup Trucks 2WD  │\n",
      "└──────┴────────┴────────────────────────┴─────────────────────────────┘\n"
     ]
    }
   ],
   "source": [
    "print(df\n",
    "      .filter(pl.col('trany').is_null())\n",
    "      .select('year', 'make', 'model', 'VClass')\n",
    "     )"
   ]
  },
  {
   "cell_type": "code",
   "execution_count": 33,
   "id": "7535a0e1-f041-42df-9a0f-c153f64a1d8e",
   "metadata": {},
   "outputs": [
    {
     "name": "stdout",
     "output_type": "stream",
     "text": [
      "shape: (48_231, 2)\n",
      "┌─────────────────┬──────────────┐\n",
      "│ trany           ┆ is_automatic │\n",
      "│ ---             ┆ ---          │\n",
      "│ str             ┆ bool         │\n",
      "╞═════════════════╪══════════════╡\n",
      "│ Manual 5-spd    ┆ false        │\n",
      "│ Manual 5-spd    ┆ false        │\n",
      "│ Manual 5-spd    ┆ false        │\n",
      "│ Automatic 3-spd ┆ true         │\n",
      "│ Manual 5-spd    ┆ false        │\n",
      "│ …               ┆ …            │\n",
      "│ Automatic 4-spd ┆ true         │\n",
      "│ Manual 5-spd    ┆ false        │\n",
      "│ Automatic 4-spd ┆ true         │\n",
      "│ Manual 5-spd    ┆ false        │\n",
      "│ Automatic 4-spd ┆ true         │\n",
      "└─────────────────┴──────────────┘\n"
     ]
    }
   ],
   "source": [
    "# Transmission Type Extraction\n",
    "print(df\n",
    "      .select('trany',\n",
    "              is_automatic=pl.col('trany')\n",
    "              .str.contains('Automatic')\n",
    "              .fill_null(True)\n",
    "             )\n",
    "     )"
   ]
  },
  {
   "cell_type": "code",
   "execution_count": 34,
   "id": "8a112ceb-af63-44e4-bb74-729f5e2e3a08",
   "metadata": {},
   "outputs": [
    {
     "name": "stdout",
     "output_type": "stream",
     "text": [
      "shape: (48_231, 1)\n",
      "┌───────────┐\n",
      "│ num_gears │\n",
      "│ ---       │\n",
      "│ u8        │\n",
      "╞═══════════╡\n",
      "│ 5         │\n",
      "│ 5         │\n",
      "│ 5         │\n",
      "│ 3         │\n",
      "│ 5         │\n",
      "│ …         │\n",
      "│ 4         │\n",
      "│ 5         │\n",
      "│ 4         │\n",
      "│ 5         │\n",
      "│ 4         │\n",
      "└───────────┘\n"
     ]
    }
   ],
   "source": [
    "print(df\n",
    "      .select(num_gears=pl.col('trany')\n",
    "              .str.extract(r'(\\d+)')\n",
    "              .cast(pl.UInt8))\n",
    "             )"
   ]
  },
  {
   "cell_type": "code",
   "execution_count": 35,
   "id": "b3a75833-6e4e-4ef8-b13a-4885bba72a5d",
   "metadata": {},
   "outputs": [
    {
     "name": "stdout",
     "output_type": "stream",
     "text": [
      "shape: (11, 1)\n",
      "┌───────────┐\n",
      "│ num_gears │\n",
      "│ ---       │\n",
      "│ u8        │\n",
      "╞═══════════╡\n",
      "│ null      │\n",
      "│ 1         │\n",
      "│ 2         │\n",
      "│ 3         │\n",
      "│ 4         │\n",
      "│ …         │\n",
      "│ 6         │\n",
      "│ 7         │\n",
      "│ 8         │\n",
      "│ 9         │\n",
      "│ 10        │\n",
      "└───────────┘\n"
     ]
    }
   ],
   "source": [
    "# Looking for Unique Values\n",
    "print(df\n",
    "      .select(num_gears=pl.col('trany')\n",
    "              .str.extract(r'(\\d+)')\n",
    "              .cast(pl.UInt8)\n",
    "              .unique())\n",
    "             )"
   ]
  },
  {
   "cell_type": "code",
   "execution_count": 36,
   "id": "f8e59b32-005d-480c-b438-34e58d238a72",
   "metadata": {},
   "outputs": [
    {
     "name": "stdout",
     "output_type": "stream",
     "text": [
      "shape: (48_231, 1)\n",
      "┌───────────┐\n",
      "│ num_gears │\n",
      "│ ---       │\n",
      "│ u8        │\n",
      "╞═══════════╡\n",
      "│ null      │\n",
      "│ null      │\n",
      "│ null      │\n",
      "│ null      │\n",
      "│ null      │\n",
      "│ …         │\n",
      "│ null      │\n",
      "│ null      │\n",
      "│ null      │\n",
      "│ null      │\n",
      "│ null      │\n",
      "└───────────┘\n"
     ]
    }
   ],
   "source": [
    "print(df\n",
    "      .select(num_gears=pl.col('trany')\n",
    "              .str.extract('r(\\d+)')\n",
    "              .cast(pl.UInt8))\n",
    "      .filter(pl.col('num_gears').is_null())\n",
    "             )"
   ]
  },
  {
   "cell_type": "code",
   "execution_count": 37,
   "id": "b7137ee6-f460-4543-b3a6-cd6624c53c3a",
   "metadata": {},
   "outputs": [
    {
     "name": "stdout",
     "output_type": "stream",
     "text": [
      "shape: (48_231, 86)\n",
      "┌───────────┬────────────┬───────────┬───────────┬───┬─────────┬──────────┬────────────┬───────────┐\n",
      "│ barrels08 ┆ barrelsA08 ┆ charge120 ┆ charge240 ┆ … ┆ phevHwy ┆ phevComb ┆ is_automat ┆ num_gears │\n",
      "│ ---       ┆ ---        ┆ ---       ┆ ---       ┆   ┆ ---     ┆ ---      ┆ ic         ┆ ---       │\n",
      "│ f64       ┆ f64        ┆ f64       ┆ f64       ┆   ┆ i64     ┆ i64      ┆ ---        ┆ u8        │\n",
      "│           ┆            ┆           ┆           ┆   ┆         ┆          ┆ bool       ┆           │\n",
      "╞═══════════╪════════════╪═══════════╪═══════════╪═══╪═════════╪══════════╪════════════╪═══════════╡\n",
      "│ 14.167143 ┆ 0.0        ┆ 0.0       ┆ 0.0       ┆ … ┆ 0       ┆ 0        ┆ false      ┆ 5         │\n",
      "│ 27.046364 ┆ 0.0        ┆ 0.0       ┆ 0.0       ┆ … ┆ 0       ┆ 0        ┆ false      ┆ 5         │\n",
      "│ 11.018889 ┆ 0.0        ┆ 0.0       ┆ 0.0       ┆ … ┆ 0       ┆ 0        ┆ false      ┆ 5         │\n",
      "│ 27.046364 ┆ 0.0        ┆ 0.0       ┆ 0.0       ┆ … ┆ 0       ┆ 0        ┆ true       ┆ 3         │\n",
      "│ 15.658421 ┆ 0.0        ┆ 0.0       ┆ 0.0       ┆ … ┆ 0       ┆ 0        ┆ false      ┆ 5         │\n",
      "│ …         ┆ …          ┆ …         ┆ …         ┆ … ┆ …       ┆ …        ┆ …          ┆ …         │\n",
      "│ 13.523182 ┆ 0.0        ┆ 0.0       ┆ 0.0       ┆ … ┆ 0       ┆ 0        ┆ true       ┆ 4         │\n",
      "│ 12.935217 ┆ 0.0        ┆ 0.0       ┆ 0.0       ┆ … ┆ 0       ┆ 0        ┆ false      ┆ 5         │\n",
      "│ 14.167143 ┆ 0.0        ┆ 0.0       ┆ 0.0       ┆ … ┆ 0       ┆ 0        ┆ true       ┆ 4         │\n",
      "│ 14.167143 ┆ 0.0        ┆ 0.0       ┆ 0.0       ┆ … ┆ 0       ┆ 0        ┆ false      ┆ 5         │\n",
      "│ 16.528333 ┆ 0.0        ┆ 0.0       ┆ 0.0       ┆ … ┆ 0       ┆ 0        ┆ true       ┆ 4         │\n",
      "└───────────┴────────────┴───────────┴───────────┴───┴─────────┴──────────┴────────────┴───────────┘\n"
     ]
    }
   ],
   "source": [
    "print(df\n",
    "      .with_columns(\n",
    "          is_automatic=pl.col('trany')\n",
    "          .str.contains('Automatic')\n",
    "          .fill_null(True),\n",
    "          num_gears=pl.col('trany')\n",
    "          .str.extract(r'(\\d+)')\n",
    "          .cast(pl.UInt8)\n",
    "          .fill_null(6)\n",
    "      )\n",
    "     )"
   ]
  },
  {
   "cell_type": "markdown",
   "id": "c5d7161a-118f-4c07-9c90-8c37ec71964c",
   "metadata": {},
   "source": [
    "### Strings Columns"
   ]
  },
  {
   "cell_type": "code",
   "execution_count": 40,
   "id": "a12e3767-ef03-4dcc-89fb-7cfc3b93f5b4",
   "metadata": {},
   "outputs": [
    {
     "name": "stdout",
     "output_type": "stream",
     "text": [
      "shape: (48_231, 7)\n",
      "┌────────────┬──────────────┬──────────────┬──────────────┬──────────────┬──────────┬──────────────┐\n",
      "│ make       ┆ model        ┆ trany        ┆ drive        ┆ VClass       ┆ fuelType ┆ createdOn    │\n",
      "│ ---        ┆ ---          ┆ ---          ┆ ---          ┆ ---          ┆ ---      ┆ ---          │\n",
      "│ str        ┆ str          ┆ str          ┆ str          ┆ str          ┆ str      ┆ str          │\n",
      "╞════════════╪══════════════╪══════════════╪══════════════╪══════════════╪══════════╪══════════════╡\n",
      "│ Alfa Romeo ┆ Spider       ┆ Manual 5-spd ┆ Rear-Wheel   ┆ Two Seaters  ┆ Regular  ┆ Tue Jan 01   │\n",
      "│            ┆ Veloce 2000  ┆              ┆ Drive        ┆              ┆          ┆ 00:00:00 EST │\n",
      "│            ┆              ┆              ┆              ┆              ┆          ┆ 2013         │\n",
      "│ Ferrari    ┆ Testarossa   ┆ Manual 5-spd ┆ Rear-Wheel   ┆ Two Seaters  ┆ Regular  ┆ Tue Jan 01   │\n",
      "│            ┆              ┆              ┆ Drive        ┆              ┆          ┆ 00:00:00 EST │\n",
      "│            ┆              ┆              ┆              ┆              ┆          ┆ 2013         │\n",
      "│ Dodge      ┆ Charger      ┆ Manual 5-spd ┆ Front-Wheel  ┆ Subcompact   ┆ Regular  ┆ Tue Jan 01   │\n",
      "│            ┆              ┆              ┆ Drive        ┆ Cars         ┆          ┆ 00:00:00 EST │\n",
      "│            ┆              ┆              ┆              ┆              ┆          ┆ 2013         │\n",
      "│ Dodge      ┆ B150/B250    ┆ Automatic    ┆ Rear-Wheel   ┆ Vans         ┆ Regular  ┆ Tue Jan 01   │\n",
      "│            ┆ Wagon 2WD    ┆ 3-spd        ┆ Drive        ┆              ┆          ┆ 00:00:00 EST │\n",
      "│            ┆              ┆              ┆              ┆              ┆          ┆ 2013         │\n",
      "│ Subaru     ┆ Legacy AWD   ┆ Manual 5-spd ┆ 4-Wheel or   ┆ Compact Cars ┆ Premium  ┆ Tue Jan 01   │\n",
      "│            ┆ Turbo        ┆              ┆ All-Wheel    ┆              ┆          ┆ 00:00:00 EST │\n",
      "│            ┆              ┆              ┆ Drive        ┆              ┆          ┆ 2013         │\n",
      "│ …          ┆ …            ┆ …            ┆ …            ┆ …            ┆ …        ┆ …            │\n",
      "│ Subaru     ┆ Legacy       ┆ Automatic    ┆ Front-Wheel  ┆ Compact Cars ┆ Regular  ┆ Tue Jan 01   │\n",
      "│            ┆              ┆ 4-spd        ┆ Drive        ┆              ┆          ┆ 00:00:00 EST │\n",
      "│            ┆              ┆              ┆              ┆              ┆          ┆ 2013         │\n",
      "│ Subaru     ┆ Legacy       ┆ Manual 5-spd ┆ Front-Wheel  ┆ Compact Cars ┆ Regular  ┆ Tue Jan 01   │\n",
      "│            ┆              ┆              ┆ Drive        ┆              ┆          ┆ 00:00:00 EST │\n",
      "│            ┆              ┆              ┆              ┆              ┆          ┆ 2013         │\n",
      "│ Subaru     ┆ Legacy AWD   ┆ Automatic    ┆ 4-Wheel or   ┆ Compact Cars ┆ Regular  ┆ Tue Jan 01   │\n",
      "│            ┆              ┆ 4-spd        ┆ All-Wheel    ┆              ┆          ┆ 00:00:00 EST │\n",
      "│            ┆              ┆              ┆ Drive        ┆              ┆          ┆ 2013         │\n",
      "│ Subaru     ┆ Legacy AWD   ┆ Manual 5-spd ┆ 4-Wheel or   ┆ Compact Cars ┆ Regular  ┆ Tue Jan 01   │\n",
      "│            ┆              ┆              ┆ All-Wheel    ┆              ┆          ┆ 00:00:00 EST │\n",
      "│            ┆              ┆              ┆ Drive        ┆              ┆          ┆ 2013         │\n",
      "│ Subaru     ┆ Legacy AWD   ┆ Automatic    ┆ 4-Wheel or   ┆ Compact Cars ┆ Premium  ┆ Tue Jan 01   │\n",
      "│            ┆ Turbo        ┆ 4-spd        ┆ All-Wheel    ┆              ┆          ┆ 00:00:00 EST │\n",
      "│            ┆              ┆              ┆ Drive        ┆              ┆          ┆ 2013         │\n",
      "└────────────┴──────────────┴──────────────┴──────────────┴──────────────┴──────────┴──────────────┘\n"
     ]
    }
   ],
   "source": [
    "print(df\n",
    "      .select(pl.col(cols))\n",
    "      .with_columns(pl.col('year').cast(pl.Int16),\n",
    "                    pl.col('cylinders').cast(pl.UInt8),\n",
    "                    pl.col('highway08').cast(pl.UInt8),\n",
    "                    pl.col('city08').cast(pl.UInt8),\n",
    "                    pl.col('displ').cast(pl.Float32),\n",
    "                    pl.col('barrels08').cast(pl.Float32),\n",
    "                   )\n",
    "      .select(pl.col(pl.String))\n",
    "     )"
   ]
  },
  {
   "cell_type": "code",
   "execution_count": 41,
   "id": "8a01c45e-a624-4578-af3e-f82c774efea3",
   "metadata": {},
   "outputs": [
    {
     "name": "stdout",
     "output_type": "stream",
     "text": [
      "shape: (48_231, 13)\n",
      "┌──────┬────────────┬────────────────┬───────┬───┬───────────┬────────┬───────────┬────────────────┐\n",
      "│ year ┆ make       ┆ model          ┆ displ ┆ … ┆ barrels08 ┆ city08 ┆ highway08 ┆ createdOn      │\n",
      "│ ---  ┆ ---        ┆ ---            ┆ ---   ┆   ┆ ---       ┆ ---    ┆ ---       ┆ ---            │\n",
      "│ i16  ┆ cat        ┆ cat            ┆ f32   ┆   ┆ f32       ┆ u8     ┆ u8        ┆ str            │\n",
      "╞══════╪════════════╪════════════════╪═══════╪═══╪═══════════╪════════╪═══════════╪════════════════╡\n",
      "│ 1985 ┆ Alfa Romeo ┆ Spider Veloce  ┆ 2.0   ┆ … ┆ 14.167143 ┆ 19     ┆ 25        ┆ Tue Jan 01     │\n",
      "│      ┆            ┆ 2000           ┆       ┆   ┆           ┆        ┆           ┆ 00:00:00 EST   │\n",
      "│      ┆            ┆                ┆       ┆   ┆           ┆        ┆           ┆ 2013           │\n",
      "│ 1985 ┆ Ferrari    ┆ Testarossa     ┆ 4.9   ┆ … ┆ 27.046364 ┆ 9      ┆ 14        ┆ Tue Jan 01     │\n",
      "│      ┆            ┆                ┆       ┆   ┆           ┆        ┆           ┆ 00:00:00 EST   │\n",
      "│      ┆            ┆                ┆       ┆   ┆           ┆        ┆           ┆ 2013           │\n",
      "│ 1985 ┆ Dodge      ┆ Charger        ┆ 2.2   ┆ … ┆ 11.018888 ┆ 23     ┆ 33        ┆ Tue Jan 01     │\n",
      "│      ┆            ┆                ┆       ┆   ┆           ┆        ┆           ┆ 00:00:00 EST   │\n",
      "│      ┆            ┆                ┆       ┆   ┆           ┆        ┆           ┆ 2013           │\n",
      "│ 1985 ┆ Dodge      ┆ B150/B250      ┆ 5.2   ┆ … ┆ 27.046364 ┆ 10     ┆ 12        ┆ Tue Jan 01     │\n",
      "│      ┆            ┆ Wagon 2WD      ┆       ┆   ┆           ┆        ┆           ┆ 00:00:00 EST   │\n",
      "│      ┆            ┆                ┆       ┆   ┆           ┆        ┆           ┆ 2013           │\n",
      "│ 1993 ┆ Subaru     ┆ Legacy AWD     ┆ 2.2   ┆ … ┆ 15.658422 ┆ 17     ┆ 23        ┆ Tue Jan 01     │\n",
      "│      ┆            ┆ Turbo          ┆       ┆   ┆           ┆        ┆           ┆ 00:00:00 EST   │\n",
      "│      ┆            ┆                ┆       ┆   ┆           ┆        ┆           ┆ 2013           │\n",
      "│ …    ┆ …          ┆ …              ┆ …     ┆ … ┆ …         ┆ …      ┆ …         ┆ …              │\n",
      "│ 1993 ┆ Subaru     ┆ Legacy         ┆ 2.2   ┆ … ┆ 13.523182 ┆ 19     ┆ 26        ┆ Tue Jan 01     │\n",
      "│      ┆            ┆                ┆       ┆   ┆           ┆        ┆           ┆ 00:00:00 EST   │\n",
      "│      ┆            ┆                ┆       ┆   ┆           ┆        ┆           ┆ 2013           │\n",
      "│ 1993 ┆ Subaru     ┆ Legacy         ┆ 2.2   ┆ … ┆ 12.935218 ┆ 20     ┆ 28        ┆ Tue Jan 01     │\n",
      "│      ┆            ┆                ┆       ┆   ┆           ┆        ┆           ┆ 00:00:00 EST   │\n",
      "│      ┆            ┆                ┆       ┆   ┆           ┆        ┆           ┆ 2013           │\n",
      "│ 1993 ┆ Subaru     ┆ Legacy AWD     ┆ 2.2   ┆ … ┆ 14.167143 ┆ 18     ┆ 24        ┆ Tue Jan 01     │\n",
      "│      ┆            ┆                ┆       ┆   ┆           ┆        ┆           ┆ 00:00:00 EST   │\n",
      "│      ┆            ┆                ┆       ┆   ┆           ┆        ┆           ┆ 2013           │\n",
      "│ 1993 ┆ Subaru     ┆ Legacy AWD     ┆ 2.2   ┆ … ┆ 14.167143 ┆ 18     ┆ 24        ┆ Tue Jan 01     │\n",
      "│      ┆            ┆                ┆       ┆   ┆           ┆        ┆           ┆ 00:00:00 EST   │\n",
      "│      ┆            ┆                ┆       ┆   ┆           ┆        ┆           ┆ 2013           │\n",
      "│ 1993 ┆ Subaru     ┆ Legacy AWD     ┆ 2.2   ┆ … ┆ 16.528334 ┆ 16     ┆ 21        ┆ Tue Jan 01     │\n",
      "│      ┆            ┆ Turbo          ┆       ┆   ┆           ┆        ┆           ┆ 00:00:00 EST   │\n",
      "│      ┆            ┆                ┆       ┆   ┆           ┆        ┆           ┆ 2013           │\n",
      "└──────┴────────────┴────────────────┴───────┴───┴───────────┴────────┴───────────┴────────────────┘\n"
     ]
    }
   ],
   "source": [
    "print(df\n",
    "      .select(pl.col(cols))\n",
    "      .with_columns(pl.col('year').cast(pl.Int16),\n",
    "                    pl.col(['cylinders', 'highway08', 'city08']).cast(pl.UInt8),\n",
    "                    pl.col(['displ', 'barrels08']).cast(pl.Float32),\n",
    "                    pl.col(['make', 'model', 'VClass', 'drive', 'fuelType']).cast(pl.Categorical),\n",
    "                   )\n",
    "     )"
   ]
  },
  {
   "cell_type": "code",
   "execution_count": 43,
   "id": "81af526d-d7ca-4070-bdf2-9b228033b1c6",
   "metadata": {},
   "outputs": [
    {
     "name": "stdout",
     "output_type": "stream",
     "text": [
      "shape: (48_231, 15)\n",
      "┌──────┬────────────┬──────────────┬───────┬───┬───────────┬─────────────┬─────────────┬───────────┐\n",
      "│ year ┆ make       ┆ model        ┆ displ ┆ … ┆ highway08 ┆ createdOn   ┆ is_automati ┆ num_gears │\n",
      "│ ---  ┆ ---        ┆ ---          ┆ ---   ┆   ┆ ---       ┆ ---         ┆ c           ┆ ---       │\n",
      "│ i16  ┆ cat        ┆ cat          ┆ f32   ┆   ┆ u8        ┆ str         ┆ ---         ┆ u8        │\n",
      "│      ┆            ┆              ┆       ┆   ┆           ┆             ┆ bool        ┆           │\n",
      "╞══════╪════════════╪══════════════╪═══════╪═══╪═══════════╪═════════════╪═════════════╪═══════════╡\n",
      "│ 1985 ┆ Alfa Romeo ┆ Spider       ┆ 2.0   ┆ … ┆ 25        ┆ Tue Jan 01  ┆ false       ┆ 5         │\n",
      "│      ┆            ┆ Veloce 2000  ┆       ┆   ┆           ┆ 00:00:00    ┆             ┆           │\n",
      "│      ┆            ┆              ┆       ┆   ┆           ┆ EST 2013    ┆             ┆           │\n",
      "│ 1985 ┆ Ferrari    ┆ Testarossa   ┆ 4.9   ┆ … ┆ 14        ┆ Tue Jan 01  ┆ false       ┆ 5         │\n",
      "│      ┆            ┆              ┆       ┆   ┆           ┆ 00:00:00    ┆             ┆           │\n",
      "│      ┆            ┆              ┆       ┆   ┆           ┆ EST 2013    ┆             ┆           │\n",
      "│ 1985 ┆ Dodge      ┆ Charger      ┆ 2.2   ┆ … ┆ 33        ┆ Tue Jan 01  ┆ false       ┆ 5         │\n",
      "│      ┆            ┆              ┆       ┆   ┆           ┆ 00:00:00    ┆             ┆           │\n",
      "│      ┆            ┆              ┆       ┆   ┆           ┆ EST 2013    ┆             ┆           │\n",
      "│ 1985 ┆ Dodge      ┆ B150/B250    ┆ 5.2   ┆ … ┆ 12        ┆ Tue Jan 01  ┆ true        ┆ 3         │\n",
      "│      ┆            ┆ Wagon 2WD    ┆       ┆   ┆           ┆ 00:00:00    ┆             ┆           │\n",
      "│      ┆            ┆              ┆       ┆   ┆           ┆ EST 2013    ┆             ┆           │\n",
      "│ 1993 ┆ Subaru     ┆ Legacy AWD   ┆ 2.2   ┆ … ┆ 23        ┆ Tue Jan 01  ┆ false       ┆ 5         │\n",
      "│      ┆            ┆ Turbo        ┆       ┆   ┆           ┆ 00:00:00    ┆             ┆           │\n",
      "│      ┆            ┆              ┆       ┆   ┆           ┆ EST 2013    ┆             ┆           │\n",
      "│ …    ┆ …          ┆ …            ┆ …     ┆ … ┆ …         ┆ …           ┆ …           ┆ …         │\n",
      "│ 1993 ┆ Subaru     ┆ Legacy       ┆ 2.2   ┆ … ┆ 26        ┆ Tue Jan 01  ┆ true        ┆ 4         │\n",
      "│      ┆            ┆              ┆       ┆   ┆           ┆ 00:00:00    ┆             ┆           │\n",
      "│      ┆            ┆              ┆       ┆   ┆           ┆ EST 2013    ┆             ┆           │\n",
      "│ 1993 ┆ Subaru     ┆ Legacy       ┆ 2.2   ┆ … ┆ 28        ┆ Tue Jan 01  ┆ false       ┆ 5         │\n",
      "│      ┆            ┆              ┆       ┆   ┆           ┆ 00:00:00    ┆             ┆           │\n",
      "│      ┆            ┆              ┆       ┆   ┆           ┆ EST 2013    ┆             ┆           │\n",
      "│ 1993 ┆ Subaru     ┆ Legacy AWD   ┆ 2.2   ┆ … ┆ 24        ┆ Tue Jan 01  ┆ true        ┆ 4         │\n",
      "│      ┆            ┆              ┆       ┆   ┆           ┆ 00:00:00    ┆             ┆           │\n",
      "│      ┆            ┆              ┆       ┆   ┆           ┆ EST 2013    ┆             ┆           │\n",
      "│ 1993 ┆ Subaru     ┆ Legacy AWD   ┆ 2.2   ┆ … ┆ 24        ┆ Tue Jan 01  ┆ false       ┆ 5         │\n",
      "│      ┆            ┆              ┆       ┆   ┆           ┆ 00:00:00    ┆             ┆           │\n",
      "│      ┆            ┆              ┆       ┆   ┆           ┆ EST 2013    ┆             ┆           │\n",
      "│ 1993 ┆ Subaru     ┆ Legacy AWD   ┆ 2.2   ┆ … ┆ 21        ┆ Tue Jan 01  ┆ true        ┆ 4         │\n",
      "│      ┆            ┆ Turbo        ┆       ┆   ┆           ┆ 00:00:00    ┆             ┆           │\n",
      "│      ┆            ┆              ┆       ┆   ┆           ┆ EST 2013    ┆             ┆           │\n",
      "└──────┴────────────┴──────────────┴───────┴───┴───────────┴─────────────┴─────────────┴───────────┘\n"
     ]
    }
   ],
   "source": [
    "print(df\n",
    "      .select(pl.col(cols))\n",
    "      .with_columns(pl.col('year').cast(pl.Int16),\n",
    "                    pl.col(['cylinders', 'highway08', 'city08']).cast(pl.UInt8),\n",
    "                    pl.col(['displ', 'barrels08']).cast(pl.Float32),\n",
    "                    pl.col(['make', 'model', 'VClass', 'drive', 'fuelType']).cast(pl.Categorical),\n",
    "                    is_automatic=pl.col('trany')\n",
    "                    .str.contains('Automatic')\n",
    "                    .fill_null(True),\n",
    "                    num_gears=pl.col('trany')\n",
    "                    .str.extract(r'(\\d+)')\n",
    "                    .cast(pl.UInt8)\n",
    "                    .fill_null(6))\n",
    "                   )"
   ]
  },
  {
   "cell_type": "markdown",
   "id": "c795956d-8841-4b80-9ac4-78a43271992a",
   "metadata": {},
   "source": [
    "### Parsing Dates"
   ]
  },
  {
   "cell_type": "code",
   "execution_count": null,
   "id": "26bcdd8e-a9a4-43f8-958f-c8cf4aab2657",
   "metadata": {},
   "outputs": [],
   "source": []
  }
 ],
 "metadata": {
  "kernelspec": {
   "display_name": "Python 3 (ipykernel)",
   "language": "python",
   "name": "python3"
  },
  "language_info": {
   "codemirror_mode": {
    "name": "ipython",
    "version": 3
   },
   "file_extension": ".py",
   "mimetype": "text/x-python",
   "name": "python",
   "nbconvert_exporter": "python",
   "pygments_lexer": "ipython3",
   "version": "3.11.10"
  }
 },
 "nbformat": 4,
 "nbformat_minor": 5
}
