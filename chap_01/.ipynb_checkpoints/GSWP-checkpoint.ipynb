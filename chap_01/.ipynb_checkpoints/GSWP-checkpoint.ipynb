{
 "cells": [
  {
   "cell_type": "markdown",
   "id": "4584fa98-0c7b-4391-9e56-9b9203f7ac56",
   "metadata": {},
   "source": [
    "# Getting Started with Polars\n",
    "\n",
    "### Loading Libraries"
   ]
  },
  {
   "cell_type": "code",
   "execution_count": 16,
   "id": "e6ceb264-78a2-4bda-98c5-7fa42af60916",
   "metadata": {},
   "outputs": [],
   "source": [
    "# ZipFiles\n",
    "import zipfile\n",
    "\n",
    "# Numerical Computing\n",
    "import numpy as np\n",
    "\n",
    "# Data Manipulation\n",
    "import pandas as pd\n",
    "import polars as pl\n",
    "\n",
    "# Data Visualization\n",
    "import seaborn as sns\n",
    "import matplotlib.pyplot as plt"
   ]
  },
  {
   "cell_type": "code",
   "execution_count": 2,
   "id": "08b6c86d-9522-4cec-8440-ee8f54be69cb",
   "metadata": {},
   "outputs": [
    {
     "data": {
      "text/plain": [
       "'1.14.0'"
      ]
     },
     "execution_count": 2,
     "metadata": {},
     "output_type": "execute_result"
    }
   ],
   "source": [
    "pl.__version__"
   ]
  },
  {
   "cell_type": "markdown",
   "id": "f5d0dd8b-3242-43cb-81e3-b55cca2ff212",
   "metadata": {},
   "source": [
    "### Laziness"
   ]
  },
  {
   "cell_type": "code",
   "execution_count": 3,
   "id": "3fee8973-6775-4bad-9aa2-fe74a3b3a43d",
   "metadata": {},
   "outputs": [],
   "source": [
    "# DataFrame Operation\n",
    "df_ops = set(x for x in dir(pl.DataFrame()) if not x.startswith('_'))\n",
    "\n",
    "# Lazy Operations\n",
    "lazy_ops = set(x for x in dir(pl.LazyFrame()) if not x.startswith('_'))"
   ]
  },
  {
   "cell_type": "code",
   "execution_count": 5,
   "id": "0c35b621-acfe-43f9-848f-f32111f14ce6",
   "metadata": {},
   "outputs": [
    {
     "name": "stdout",
     "output_type": "stream",
     "text": [
      "['corr', 'drop_in_place', 'equals', 'estimated_size', 'extend', 'flags', 'fold', 'get_column', 'get_column_index', 'get_columns', 'glimpse', 'hash_rows', 'height', 'hstack', 'insert_column', 'is_duplicated', 'is_empty', 'is_unique', 'item', 'iter_columns', 'iter_rows', 'iter_slices', 'map_rows', 'max_horizontal', 'mean_horizontal', 'min_horizontal', 'n_chunks', 'n_unique', 'partition_by', 'pivot', 'plot', 'product', 'rechunk', 'replace_column', 'row', 'rows', 'rows_by_key', 'sample', 'shape', 'shrink_to_fit', 'style', 'sum_horizontal', 'to_arrow', 'to_dict', 'to_dicts', 'to_dummies', 'to_init_repr', 'to_jax', 'to_numpy', 'to_pandas', 'to_series', 'to_struct', 'to_torch', 'transpose', 'unstack', 'upsample', 'vstack', 'write_avro', 'write_clipboard', 'write_csv', 'write_database', 'write_delta', 'write_excel', 'write_ipc', 'write_ipc_stream', 'write_json', 'write_ndjson', 'write_parquet']\n"
     ]
    }
   ],
   "source": [
    "print(sorted(df_ops - lazy_ops))"
   ]
  },
  {
   "cell_type": "code",
   "execution_count": 6,
   "id": "91623075-fc4f-449e-8a18-3ef6daf33cf0",
   "metadata": {},
   "outputs": [
    {
     "name": "stdout",
     "output_type": "stream",
     "text": [
      "['approx_n_unique', 'bottom_k', 'cast', 'clear', 'clone', 'collect_schema', 'columns', 'count', 'describe', 'deserialize', 'drop', 'drop_nulls', 'dtypes', 'explode', 'fill_nan', 'fill_null', 'filter', 'gather_every', 'group_by', 'group_by_dynamic', 'head', 'interpolate', 'join', 'join_asof', 'join_where', 'lazy', 'limit', 'max', 'mean', 'median', 'melt', 'merge_sorted', 'min', 'null_count', 'pipe', 'quantile', 'rename', 'reverse', 'rolling', 'schema', 'select', 'select_seq', 'serialize', 'set_sorted', 'shift', 'slice', 'sort', 'sql', 'std', 'sum', 'tail', 'top_k', 'unique', 'unnest', 'unpivot', 'update', 'var', 'width', 'with_columns', 'with_columns_seq', 'with_row_count', 'with_row_index']\n"
     ]
    }
   ],
   "source": [
    "print(sorted(lazy_ops & df_ops))"
   ]
  },
  {
   "cell_type": "markdown",
   "id": "d8d53382-b1af-4fce-9cc9-f36e7c4583ee",
   "metadata": {},
   "source": [
    "### Contexts & Expressions"
   ]
  },
  {
   "cell_type": "code",
   "execution_count": 7,
   "id": "7e419e5f-03fb-4c42-8a3b-63bc2ad06f88",
   "metadata": {},
   "outputs": [],
   "source": [
    "col = pl.col('sample')"
   ]
  },
  {
   "cell_type": "code",
   "execution_count": 8,
   "id": "89ffb7af-679b-498c-a748-0cbdc4b35d02",
   "metadata": {},
   "outputs": [
    {
     "name": "stdout",
     "output_type": "stream",
     "text": [
      "['abs', 'add', 'agg_groups', 'alias', 'all', 'and_', 'any', 'append', 'approx_n_unique', 'arccos', 'arccosh', 'arcsin', 'arcsinh', 'arctan', 'arctanh', 'arg_max', 'arg_min', 'arg_sort', 'arg_true', 'arg_unique', 'arr', 'backward_fill', 'bin', 'bitwise_and', 'bitwise_count_ones', 'bitwise_count_zeros', 'bitwise_leading_ones', 'bitwise_leading_zeros', 'bitwise_or', 'bitwise_trailing_ones', 'bitwise_trailing_zeros', 'bitwise_xor', 'bottom_k', 'bottom_k_by', 'cast', 'cat', 'cbrt', 'ceil', 'clip', 'cos', 'cosh', 'cot', 'count', 'cum_count', 'cum_max', 'cum_min', 'cum_prod', 'cum_sum', 'cumulative_eval', 'cut', 'degrees', 'deserialize', 'diff', 'dot', 'drop_nans', 'drop_nulls', 'dt', 'entropy', 'eq', 'eq_missing', 'ewm_mean', 'ewm_mean_by', 'ewm_std', 'ewm_var', 'exclude', 'exp', 'explode', 'extend_constant', 'fill_nan', 'fill_null', 'filter', 'first', 'flatten', 'floor', 'floordiv', 'forward_fill', 'from_json', 'gather', 'gather_every', 'ge', 'get', 'gt', 'has_nulls', 'hash', 'head', 'hist', 'implode', 'inspect', 'interpolate', 'interpolate_by', 'is_between', 'is_duplicated', 'is_finite', 'is_first_distinct', 'is_in', 'is_infinite', 'is_last_distinct', 'is_nan', 'is_not_nan', 'is_not_null', 'is_null', 'is_unique', 'kurtosis', 'last', 'le', 'len', 'limit', 'list', 'log', 'log10', 'log1p', 'lower_bound', 'lt', 'map_batches', 'map_elements', 'max', 'mean', 'median', 'meta', 'min', 'mod', 'mode', 'mul', 'n_unique', 'name', 'nan_max', 'nan_min', 'ne', 'ne_missing', 'neg', 'not_', 'null_count', 'or_', 'over', 'pct_change', 'peak_max', 'peak_min', 'pipe', 'pow', 'product', 'qcut', 'quantile', 'radians', 'rank', 'rechunk', 'register_plugin', 'reinterpret', 'repeat_by', 'replace', 'replace_strict', 'reshape', 'reverse', 'rle', 'rle_id', 'rolling', 'rolling_map', 'rolling_max', 'rolling_max_by', 'rolling_mean', 'rolling_mean_by', 'rolling_median', 'rolling_median_by', 'rolling_min', 'rolling_min_by', 'rolling_quantile', 'rolling_quantile_by', 'rolling_skew', 'rolling_std', 'rolling_std_by', 'rolling_sum', 'rolling_sum_by', 'rolling_var', 'rolling_var_by', 'round', 'round_sig_figs', 'sample', 'search_sorted', 'set_sorted', 'shift', 'shrink_dtype', 'shuffle', 'sign', 'sin', 'sinh', 'skew', 'slice', 'sort', 'sort_by', 'sqrt', 'std', 'str', 'struct', 'sub', 'sum', 'tail', 'tan', 'tanh', 'to_physical', 'top_k', 'top_k_by', 'truediv', 'unique', 'unique_counts', 'upper_bound', 'value_counts', 'var', 'where', 'xor']\n"
     ]
    }
   ],
   "source": [
    "col_ops = set(x for x in dir(col) if not x.startswith('_'))\n",
    "\n",
    "print(sorted(col_ops))"
   ]
  },
  {
   "cell_type": "code",
   "execution_count": 13,
   "id": "9f8d7fbb-6bfe-4c05-ab0f-6dc278cd3a82",
   "metadata": {},
   "outputs": [
    {
     "data": {
      "text/html": [
       "col(\"sample\").strict_cast(Int32).fill_null([col(\"sample\").mean()]).clip_max([dyn int: 100]).sample([dyn int: 10]).mean()"
      ],
      "text/plain": [
       "<Expr ['col(\"sample\").strict_cast(Int3…'] at 0x167F10B10>"
      ]
     },
     "execution_count": 13,
     "metadata": {},
     "output_type": "execute_result"
    }
   ],
   "source": [
    "(col\n",
    " .cast(pl.Int32)\n",
    " .fill_null(col.mean())\n",
    " .clip(upper_bound=100)\n",
    " .sample(10)\n",
    " .mean()\n",
    ")"
   ]
  },
  {
   "cell_type": "code",
   "execution_count": 14,
   "id": "2d294065-e0f2-4b7b-bfd5-4c313bca39eb",
   "metadata": {},
   "outputs": [],
   "source": [
    "# Same Previous Approach:\n",
    "ex1 = col.cast(pl.Int64)\n",
    "ex2 = ex1.fill_null(col.cast(pl.Int64))\n",
    "ex3 = ex2.clip(upper_bound=100)\n",
    "ex4 = ex3.sample(10)\n",
    "ex5 = ex4.mean()"
   ]
  },
  {
   "cell_type": "code",
   "execution_count": 15,
   "id": "19d7674b-71a4-404d-9b13-c1b6897a4eb5",
   "metadata": {},
   "outputs": [
    {
     "data": {
      "text/html": [
       "col(\"a_column\")"
      ],
      "text/plain": [
       "<Expr ['col(\"a_column\")'] at 0x1670FA090>"
      ]
     },
     "execution_count": 15,
     "metadata": {},
     "output_type": "execute_result"
    }
   ],
   "source": [
    "pl.col.a_column"
   ]
  },
  {
   "cell_type": "markdown",
   "id": "84eb5cf1-c08e-4f25-96d6-737b18c029b9",
   "metadata": {},
   "source": [
    "### Reading CSV Files"
   ]
  },
  {
   "cell_type": "code",
   "execution_count": 20,
   "id": "7b34dc3e-a6a9-4638-a6f0-95bf49edbe68",
   "metadata": {},
   "outputs": [],
   "source": [
    "# Path\n",
    "path = '/Users/isisromero/desktop/polars/datasets/vehicles.csv'"
   ]
  },
  {
   "cell_type": "code",
   "execution_count": 22,
   "id": "3ef5537e-294f-4618-aab6-1701ec1e36fe",
   "metadata": {},
   "outputs": [
    {
     "name": "stdout",
     "output_type": "stream",
     "text": [
      "shape: (48_231, 84)\n",
      "┌───────────┬────────────┬───────────┬───────────┬───┬───────────┬──────────┬─────────┬──────────┐\n",
      "│ barrels08 ┆ barrelsA08 ┆ charge120 ┆ charge240 ┆ … ┆ startStop ┆ phevCity ┆ phevHwy ┆ phevComb │\n",
      "│ ---       ┆ ---        ┆ ---       ┆ ---       ┆   ┆ ---       ┆ ---      ┆ ---     ┆ ---      │\n",
      "│ f64       ┆ f64        ┆ f64       ┆ f64       ┆   ┆ str       ┆ i64      ┆ i64     ┆ i64      │\n",
      "╞═══════════╪════════════╪═══════════╪═══════════╪═══╪═══════════╪══════════╪═════════╪══════════╡\n",
      "│ 14.167143 ┆ 0.0        ┆ 0.0       ┆ 0.0       ┆ … ┆ null      ┆ 0        ┆ 0       ┆ 0        │\n",
      "│ 27.046364 ┆ 0.0        ┆ 0.0       ┆ 0.0       ┆ … ┆ null      ┆ 0        ┆ 0       ┆ 0        │\n",
      "│ 11.018889 ┆ 0.0        ┆ 0.0       ┆ 0.0       ┆ … ┆ null      ┆ 0        ┆ 0       ┆ 0        │\n",
      "│ 27.046364 ┆ 0.0        ┆ 0.0       ┆ 0.0       ┆ … ┆ null      ┆ 0        ┆ 0       ┆ 0        │\n",
      "│ 15.658421 ┆ 0.0        ┆ 0.0       ┆ 0.0       ┆ … ┆ null      ┆ 0        ┆ 0       ┆ 0        │\n",
      "│ …         ┆ …          ┆ …         ┆ …         ┆ … ┆ …         ┆ …        ┆ …       ┆ …        │\n",
      "│ 13.523182 ┆ 0.0        ┆ 0.0       ┆ 0.0       ┆ … ┆ null      ┆ 0        ┆ 0       ┆ 0        │\n",
      "│ 12.935217 ┆ 0.0        ┆ 0.0       ┆ 0.0       ┆ … ┆ null      ┆ 0        ┆ 0       ┆ 0        │\n",
      "│ 14.167143 ┆ 0.0        ┆ 0.0       ┆ 0.0       ┆ … ┆ null      ┆ 0        ┆ 0       ┆ 0        │\n",
      "│ 14.167143 ┆ 0.0        ┆ 0.0       ┆ 0.0       ┆ … ┆ null      ┆ 0        ┆ 0       ┆ 0        │\n",
      "│ 16.528333 ┆ 0.0        ┆ 0.0       ┆ 0.0       ┆ … ┆ null      ┆ 0        ┆ 0       ┆ 0        │\n",
      "└───────────┴────────────┴───────────┴───────────┴───┴───────────┴──────────┴─────────┴──────────┘\n"
     ]
    }
   ],
   "source": [
    "df = pl.read_csv(path, null_values=['NA'])\n",
    "\n",
    "print(df)"
   ]
  },
  {
   "cell_type": "markdown",
   "id": "72aedf51-0835-409f-a866-1e530f6660aa",
   "metadata": {},
   "source": [
    "### Lazy CSV Reading"
   ]
  },
  {
   "cell_type": "code",
   "execution_count": 23,
   "id": "e6c2f7a1-e3fe-4c06-9284-5bbff2775c75",
   "metadata": {},
   "outputs": [
    {
     "name": "stdout",
     "output_type": "stream",
     "text": [
      "naive plan: (run LazyFrame.explain(optimized=True) to see the optimized plan)\n",
      "\n",
      "Csv SCAN [/Users/isisromero/desktop/polars/datasets/vehicles.csv]\n",
      "PROJECT */84 COLUMNS\n"
     ]
    }
   ],
   "source": [
    "lazy = pl.scan_csv(path, null_values=['NA'])\n",
    "print(lazy)"
   ]
  },
  {
   "cell_type": "code",
   "execution_count": 24,
   "id": "4da22f5a-be01-456b-9efc-d6e841f053e8",
   "metadata": {},
   "outputs": [
    {
     "name": "stdout",
     "output_type": "stream",
     "text": [
      "naive plan: (run LazyFrame.explain(optimized=True) to see the optimized plan)\n",
      "\n",
      " SELECT [col(\"year\"), col(\"make\"), col(\"model\")] FROM\n",
      "  FILTER [(col(\"year\")) >= (1990)] FROM\n",
      "    FILTER [(col(\"year\")) < (2000)] FROM\n",
      "      Csv SCAN [/Users/isisromero/desktop/polars/datasets/vehicles.csv]\n",
      "      PROJECT */84 COLUMNS\n"
     ]
    }
   ],
   "source": [
    "print(lazy\n",
    "      .filter((pl.col('year') >= 1990) & (pl.col('year') < 2000))\n",
    "      .select(['year', 'make', 'model'])\n",
    "     )"
   ]
  },
  {
   "cell_type": "markdown",
   "id": "abaaa98c-7ece-4b05-b404-b5c2a604929c",
   "metadata": {},
   "source": [
    "### Data Type Inference & Manual Overrides"
   ]
  },
  {
   "cell_type": "code",
   "execution_count": 25,
   "id": "08fe4fa3-d2d6-4076-9998-d59bb7503e36",
   "metadata": {},
   "outputs": [
    {
     "name": "stdout",
     "output_type": "stream",
     "text": [
      "[Float64, Float64, Float64, Float64, Int64, Float64, Int64, Float64, Float64, Float64, Float64, Int64, Int64, Float64, Float64, Int64, Float64, Int64, Float64, Float64, Float64, Float64, Int64, Float64, String, Int64, String, Int64, Int64, Int64, String, String, Int64, Int64, Int64, Float64, Int64, Float64, Float64, Float64, Float64, Int64, Int64, Int64, Int64, Int64, String, String, String, Boolean, Int64, Int64, Int64, Float64, Float64, Float64, Float64, String, Float64, Float64, Float64, Float64, String, Int64, Int64, String, String, String, String, String, String, String, String, String, String, String, Float64, String, String, String, String, Int64, Int64, Int64]\n"
     ]
    }
   ],
   "source": [
    "print(df.dtypes)"
   ]
  },
  {
   "cell_type": "code",
   "execution_count": 27,
   "id": "964f65f4-35a9-4aea-a839-a955f34bfd4f",
   "metadata": {},
   "outputs": [
    {
     "name": "stdout",
     "output_type": "stream",
     "text": [
      "Schema([('barrels08', Float64), ('barrelsA08', Float64), ('charge120', Float64), ('charge240', Float64), ('city08', Int64), ('city08U', Float64), ('cityA08', Int64), ('cityA08U', Float64), ('cityCD', Float64), ('cityE', Float64), ('cityUF', Float64), ('co2', Int64), ('co2A', Int64), ('co2TailpipeAGpm', Float64), ('co2TailpipeGpm', Float64), ('comb08', Int64), ('comb08U', Float64), ('combA08', Int64), ('combA08U', Float64), ('combE', Float64), ('combinedCD', Float64), ('combinedUF', Float64), ('cylinders', Int64), ('displ', Float64), ('drive', String), ('engId', Int64), ('eng_dscr', String), ('feScore', Int64), ('fuelCost08', Int64), ('fuelCostA08', Int64), ('fuelType', String), ('fuelType1', String), ('ghgScore', Int64), ('ghgScoreA', Int64), ('highway08', Int64), ('highway08U', Float64), ('highwayA08', Int64), ('highwayA08U', Float64), ('highwayCD', Float64), ('highwayE', Float64), ('highwayUF', Float64), ('hlv', Int64), ('hpv', Int64), ('id', Int64), ('lv2', Int64), ('lv4', Int64), ('make', String), ('model', String), ('mpgData', String), ('phevBlended', Boolean), ('pv2', Int64), ('pv4', Int64), ('range', Int64), ('rangeCity', Float64), ('rangeCityA', Float64), ('rangeHwy', Float64), ('rangeHwyA', Float64), ('trany', String), ('UCity', Float64), ('UCityA', Float64), ('UHighway', Float64), ('UHighwayA', Float64), ('VClass', String), ('year', Int64), ('youSaveSpend', Int64), ('baseModel', String), ('guzzler', String), ('trans_dscr', String), ('tCharger', String), ('sCharger', String), ('atvType', String), ('fuelType2', String), ('rangeA', String), ('evMotor', String), ('mfrCode', String), ('c240Dscr', String), ('charge240b', Float64), ('c240bDscr', String), ('createdOn', String), ('modifiedOn', String), ('startStop', String), ('phevCity', Int64), ('phevHwy', Int64), ('phevComb', Int64)])\n"
     ]
    }
   ],
   "source": [
    "print(df.schema)"
   ]
  },
  {
   "cell_type": "code",
   "execution_count": 28,
   "id": "bc0566a0-e261-49a9-b491-00045b2e5bc3",
   "metadata": {},
   "outputs": [],
   "source": [
    "cols = ['year', 'make', 'model', 'displ', 'cylinders', 'trany', 'drive',\n",
    "        'VClass', 'fuelType', 'barrels08', 'city08', 'highway08', 'createdOn']"
   ]
  },
  {
   "cell_type": "code",
   "execution_count": 29,
   "id": "09a98652-dd2f-4e0e-8cdd-092198d082a3",
   "metadata": {},
   "outputs": [
    {
     "name": "stdout",
     "output_type": "stream",
     "text": [
      "shape: (48_231, 13)\n",
      "┌──────┬────────────┬────────────────┬───────┬───┬───────────┬────────┬───────────┬────────────────┐\n",
      "│ year ┆ make       ┆ model          ┆ displ ┆ … ┆ barrels08 ┆ city08 ┆ highway08 ┆ createdOn      │\n",
      "│ ---  ┆ ---        ┆ ---            ┆ ---   ┆   ┆ ---       ┆ ---    ┆ ---       ┆ ---            │\n",
      "│ i64  ┆ str        ┆ str            ┆ f64   ┆   ┆ f64       ┆ i64    ┆ i64       ┆ str            │\n",
      "╞══════╪════════════╪════════════════╪═══════╪═══╪═══════════╪════════╪═══════════╪════════════════╡\n",
      "│ 1985 ┆ Alfa Romeo ┆ Spider Veloce  ┆ 2.0   ┆ … ┆ 14.167143 ┆ 19     ┆ 25        ┆ Tue Jan 01     │\n",
      "│      ┆            ┆ 2000           ┆       ┆   ┆           ┆        ┆           ┆ 00:00:00 EST   │\n",
      "│      ┆            ┆                ┆       ┆   ┆           ┆        ┆           ┆ 2013           │\n",
      "│ 1985 ┆ Ferrari    ┆ Testarossa     ┆ 4.9   ┆ … ┆ 27.046364 ┆ 9      ┆ 14        ┆ Tue Jan 01     │\n",
      "│      ┆            ┆                ┆       ┆   ┆           ┆        ┆           ┆ 00:00:00 EST   │\n",
      "│      ┆            ┆                ┆       ┆   ┆           ┆        ┆           ┆ 2013           │\n",
      "│ 1985 ┆ Dodge      ┆ Charger        ┆ 2.2   ┆ … ┆ 11.018889 ┆ 23     ┆ 33        ┆ Tue Jan 01     │\n",
      "│      ┆            ┆                ┆       ┆   ┆           ┆        ┆           ┆ 00:00:00 EST   │\n",
      "│      ┆            ┆                ┆       ┆   ┆           ┆        ┆           ┆ 2013           │\n",
      "│ 1985 ┆ Dodge      ┆ B150/B250      ┆ 5.2   ┆ … ┆ 27.046364 ┆ 10     ┆ 12        ┆ Tue Jan 01     │\n",
      "│      ┆            ┆ Wagon 2WD      ┆       ┆   ┆           ┆        ┆           ┆ 00:00:00 EST   │\n",
      "│      ┆            ┆                ┆       ┆   ┆           ┆        ┆           ┆ 2013           │\n",
      "│ 1993 ┆ Subaru     ┆ Legacy AWD     ┆ 2.2   ┆ … ┆ 15.658421 ┆ 17     ┆ 23        ┆ Tue Jan 01     │\n",
      "│      ┆            ┆ Turbo          ┆       ┆   ┆           ┆        ┆           ┆ 00:00:00 EST   │\n",
      "│      ┆            ┆                ┆       ┆   ┆           ┆        ┆           ┆ 2013           │\n",
      "│ …    ┆ …          ┆ …              ┆ …     ┆ … ┆ …         ┆ …      ┆ …         ┆ …              │\n",
      "│ 1993 ┆ Subaru     ┆ Legacy         ┆ 2.2   ┆ … ┆ 13.523182 ┆ 19     ┆ 26        ┆ Tue Jan 01     │\n",
      "│      ┆            ┆                ┆       ┆   ┆           ┆        ┆           ┆ 00:00:00 EST   │\n",
      "│      ┆            ┆                ┆       ┆   ┆           ┆        ┆           ┆ 2013           │\n",
      "│ 1993 ┆ Subaru     ┆ Legacy         ┆ 2.2   ┆ … ┆ 12.935217 ┆ 20     ┆ 28        ┆ Tue Jan 01     │\n",
      "│      ┆            ┆                ┆       ┆   ┆           ┆        ┆           ┆ 00:00:00 EST   │\n",
      "│      ┆            ┆                ┆       ┆   ┆           ┆        ┆           ┆ 2013           │\n",
      "│ 1993 ┆ Subaru     ┆ Legacy AWD     ┆ 2.2   ┆ … ┆ 14.167143 ┆ 18     ┆ 24        ┆ Tue Jan 01     │\n",
      "│      ┆            ┆                ┆       ┆   ┆           ┆        ┆           ┆ 00:00:00 EST   │\n",
      "│      ┆            ┆                ┆       ┆   ┆           ┆        ┆           ┆ 2013           │\n",
      "│ 1993 ┆ Subaru     ┆ Legacy AWD     ┆ 2.2   ┆ … ┆ 14.167143 ┆ 18     ┆ 24        ┆ Tue Jan 01     │\n",
      "│      ┆            ┆                ┆       ┆   ┆           ┆        ┆           ┆ 00:00:00 EST   │\n",
      "│      ┆            ┆                ┆       ┆   ┆           ┆        ┆           ┆ 2013           │\n",
      "│ 1993 ┆ Subaru     ┆ Legacy AWD     ┆ 2.2   ┆ … ┆ 16.528333 ┆ 16     ┆ 21        ┆ Tue Jan 01     │\n",
      "│      ┆            ┆ Turbo          ┆       ┆   ┆           ┆        ┆           ┆ 00:00:00 EST   │\n",
      "│      ┆            ┆                ┆       ┆   ┆           ┆        ┆           ┆ 2013           │\n",
      "└──────┴────────────┴────────────────┴───────┴───┴───────────┴────────┴───────────┴────────────────┘\n"
     ]
    }
   ],
   "source": [
    "print(df.select(cols))"
   ]
  },
  {
   "cell_type": "code",
   "execution_count": 30,
   "id": "c4238101-77c1-4046-81a6-cc59fcbcd785",
   "metadata": {},
   "outputs": [
    {
     "name": "stdout",
     "output_type": "stream",
     "text": [
      "shape: (48_231, 13)\n",
      "┌──────┬────────────┬────────────────┬───────┬───┬───────────┬────────┬───────────┬────────────────┐\n",
      "│ year ┆ make       ┆ model          ┆ displ ┆ … ┆ barrels08 ┆ city08 ┆ highway08 ┆ createdOn      │\n",
      "│ ---  ┆ ---        ┆ ---            ┆ ---   ┆   ┆ ---       ┆ ---    ┆ ---       ┆ ---            │\n",
      "│ i64  ┆ str        ┆ str            ┆ f64   ┆   ┆ f64       ┆ i64    ┆ i64       ┆ str            │\n",
      "╞══════╪════════════╪════════════════╪═══════╪═══╪═══════════╪════════╪═══════════╪════════════════╡\n",
      "│ 1985 ┆ Alfa Romeo ┆ Spider Veloce  ┆ 2.0   ┆ … ┆ 14.167143 ┆ 19     ┆ 25        ┆ Tue Jan 01     │\n",
      "│      ┆            ┆ 2000           ┆       ┆   ┆           ┆        ┆           ┆ 00:00:00 EST   │\n",
      "│      ┆            ┆                ┆       ┆   ┆           ┆        ┆           ┆ 2013           │\n",
      "│ 1985 ┆ Ferrari    ┆ Testarossa     ┆ 4.9   ┆ … ┆ 27.046364 ┆ 9      ┆ 14        ┆ Tue Jan 01     │\n",
      "│      ┆            ┆                ┆       ┆   ┆           ┆        ┆           ┆ 00:00:00 EST   │\n",
      "│      ┆            ┆                ┆       ┆   ┆           ┆        ┆           ┆ 2013           │\n",
      "│ 1985 ┆ Dodge      ┆ Charger        ┆ 2.2   ┆ … ┆ 11.018889 ┆ 23     ┆ 33        ┆ Tue Jan 01     │\n",
      "│      ┆            ┆                ┆       ┆   ┆           ┆        ┆           ┆ 00:00:00 EST   │\n",
      "│      ┆            ┆                ┆       ┆   ┆           ┆        ┆           ┆ 2013           │\n",
      "│ 1985 ┆ Dodge      ┆ B150/B250      ┆ 5.2   ┆ … ┆ 27.046364 ┆ 10     ┆ 12        ┆ Tue Jan 01     │\n",
      "│      ┆            ┆ Wagon 2WD      ┆       ┆   ┆           ┆        ┆           ┆ 00:00:00 EST   │\n",
      "│      ┆            ┆                ┆       ┆   ┆           ┆        ┆           ┆ 2013           │\n",
      "│ 1993 ┆ Subaru     ┆ Legacy AWD     ┆ 2.2   ┆ … ┆ 15.658421 ┆ 17     ┆ 23        ┆ Tue Jan 01     │\n",
      "│      ┆            ┆ Turbo          ┆       ┆   ┆           ┆        ┆           ┆ 00:00:00 EST   │\n",
      "│      ┆            ┆                ┆       ┆   ┆           ┆        ┆           ┆ 2013           │\n",
      "│ …    ┆ …          ┆ …              ┆ …     ┆ … ┆ …         ┆ …      ┆ …         ┆ …              │\n",
      "│ 1993 ┆ Subaru     ┆ Legacy         ┆ 2.2   ┆ … ┆ 13.523182 ┆ 19     ┆ 26        ┆ Tue Jan 01     │\n",
      "│      ┆            ┆                ┆       ┆   ┆           ┆        ┆           ┆ 00:00:00 EST   │\n",
      "│      ┆            ┆                ┆       ┆   ┆           ┆        ┆           ┆ 2013           │\n",
      "│ 1993 ┆ Subaru     ┆ Legacy         ┆ 2.2   ┆ … ┆ 12.935217 ┆ 20     ┆ 28        ┆ Tue Jan 01     │\n",
      "│      ┆            ┆                ┆       ┆   ┆           ┆        ┆           ┆ 00:00:00 EST   │\n",
      "│      ┆            ┆                ┆       ┆   ┆           ┆        ┆           ┆ 2013           │\n",
      "│ 1993 ┆ Subaru     ┆ Legacy AWD     ┆ 2.2   ┆ … ┆ 14.167143 ┆ 18     ┆ 24        ┆ Tue Jan 01     │\n",
      "│      ┆            ┆                ┆       ┆   ┆           ┆        ┆           ┆ 00:00:00 EST   │\n",
      "│      ┆            ┆                ┆       ┆   ┆           ┆        ┆           ┆ 2013           │\n",
      "│ 1993 ┆ Subaru     ┆ Legacy AWD     ┆ 2.2   ┆ … ┆ 14.167143 ┆ 18     ┆ 24        ┆ Tue Jan 01     │\n",
      "│      ┆            ┆                ┆       ┆   ┆           ┆        ┆           ┆ 00:00:00 EST   │\n",
      "│      ┆            ┆                ┆       ┆   ┆           ┆        ┆           ┆ 2013           │\n",
      "│ 1993 ┆ Subaru     ┆ Legacy AWD     ┆ 2.2   ┆ … ┆ 16.528333 ┆ 16     ┆ 21        ┆ Tue Jan 01     │\n",
      "│      ┆            ┆ Turbo          ┆       ┆   ┆           ┆        ┆           ┆ 00:00:00 EST   │\n",
      "│      ┆            ┆                ┆       ┆   ┆           ┆        ┆           ┆ 2013           │\n",
      "└──────┴────────────┴────────────────┴───────┴───┴───────────┴────────┴───────────┴────────────────┘\n"
     ]
    }
   ],
   "source": [
    "print(df.select(pl.col(cols)))"
   ]
  },
  {
   "cell_type": "code",
   "execution_count": null,
   "id": "16d65b36-6bf8-4ec6-81a3-93d99d2bafdd",
   "metadata": {},
   "outputs": [],
   "source": []
  }
 ],
 "metadata": {
  "kernelspec": {
   "display_name": "Python 3 (ipykernel)",
   "language": "python",
   "name": "python3"
  },
  "language_info": {
   "codemirror_mode": {
    "name": "ipython",
    "version": 3
   },
   "file_extension": ".py",
   "mimetype": "text/x-python",
   "name": "python",
   "nbconvert_exporter": "python",
   "pygments_lexer": "ipython3",
   "version": "3.11.10"
  }
 },
 "nbformat": 4,
 "nbformat_minor": 5
}
