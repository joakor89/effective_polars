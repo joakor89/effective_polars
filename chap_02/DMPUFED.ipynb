{
 "cells": [
  {
   "cell_type": "markdown",
   "id": "05eeffce-5a57-4db4-81b3-8436c0129537",
   "metadata": {},
   "source": [
    "# Data Manipulation with Polars Using The Fuel Economy Dataset\n",
    "\n",
    "### Loading Libraries"
   ]
  },
  {
   "cell_type": "code",
   "execution_count": 1,
   "id": "7703e180-bc93-44c1-9d12-9010e9e7422d",
   "metadata": {},
   "outputs": [],
   "source": [
    "# ZipFiles\n",
    "import zipfile\n",
    "\n",
    "# Numerical Computing\n",
    "import numpy as np\n",
    "\n",
    "# Data Manipulation\n",
    "import pandas as pd\n",
    "import polars as pl\n",
    "import polars.selectors as cs\n",
    "\n",
    "# Data Visualization\n",
    "import seaborn as sns\n",
    "import matplotlib.pyplot as plt"
   ]
  },
  {
   "cell_type": "code",
   "execution_count": 2,
   "id": "e02018aa-11d2-43ee-98e4-7824b19b177e",
   "metadata": {},
   "outputs": [
    {
     "data": {
      "text/plain": [
       "'1.14.0'"
      ]
     },
     "execution_count": 2,
     "metadata": {},
     "output_type": "execute_result"
    }
   ],
   "source": [
    "pl.__version__"
   ]
  },
  {
   "cell_type": "markdown",
   "id": "a52bfd84-5de9-423a-8214-8bb828b27ed5",
   "metadata": {},
   "source": [
    "### Getting Data"
   ]
  },
  {
   "cell_type": "code",
   "execution_count": 3,
   "id": "ad258217-5b23-46e1-b15a-8da0f0a897b1",
   "metadata": {},
   "outputs": [],
   "source": [
    "# Path\n",
    "path = '/Users/isisromero/desktop/polars/datasets/vehicles.csv'"
   ]
  },
  {
   "cell_type": "code",
   "execution_count": 4,
   "id": "acc37279-482a-4548-8122-62c71c3032ca",
   "metadata": {},
   "outputs": [],
   "source": [
    "raw = pl.read_csv(path, null_values=['NA'])"
   ]
  },
  {
   "cell_type": "markdown",
   "id": "6c63fecf-d12d-430e-8a61-55f7d9fe10b4",
   "metadata": {},
   "source": [
    "#### Placing `tweak_auto` Function"
   ]
  },
  {
   "cell_type": "code",
   "execution_count": 5,
   "id": "b73567cb-0b95-4314-b7aa-9bba3fe34871",
   "metadata": {},
   "outputs": [],
   "source": [
    "def tweak_auto(df):\n",
    "    cols = ['year', 'make', 'model', 'displ', 'cylinders', 'trany', \n",
    "            'drive', 'VClass', 'fuelType', 'barrels08', 'city08', 'highway08', 'createdOn']\n",
    "    return (df\n",
    "            .select(pl.col(cols))\n",
    "            .with_columns(pl.col('year').cast(pl.Int16),\n",
    "                          pl.col(['cylinders', 'highway08', 'city08']).cast(pl.UInt8),\n",
    "                          pl.col(['displ', 'barrels08']).cast(pl.Float32),\n",
    "                          pl.col(['make', 'model', 'VClass', 'drive', 'fuelType']).cast(pl.Categorical),\n",
    "                          pl.col('createdOn').str.to_datetime('%a %b %d %H:%M:%S %Z %Y'),\n",
    "                          is_automatic=pl.col('trany')                    \n",
    "                          .str.contains('Automatic')\n",
    "                          .fill_null('Automatic'),\n",
    "                          num_gears=pl.col('trany')\n",
    "                          .str.extract(r'(\\d+)')\n",
    "                          .cast(pl.UInt8)\n",
    "                          .fill_null(6))\n",
    "           )"
   ]
  },
  {
   "cell_type": "code",
   "execution_count": 6,
   "id": "1a9c127a-71ae-44c1-8652-87181b0046fb",
   "metadata": {},
   "outputs": [],
   "source": [
    "autos = tweak_auto(raw)"
   ]
  },
  {
   "cell_type": "code",
   "execution_count": 7,
   "id": "70d407c2-383c-4177-9e07-0cea7b107a2f",
   "metadata": {},
   "outputs": [
    {
     "name": "stdout",
     "output_type": "stream",
     "text": [
      "shape: (48_231, 15)\n",
      "┌──────┬────────────┬──────────────┬───────┬───┬───────────┬─────────────┬─────────────┬───────────┐\n",
      "│ year ┆ make       ┆ model        ┆ displ ┆ … ┆ highway08 ┆ createdOn   ┆ is_automati ┆ num_gears │\n",
      "│ ---  ┆ ---        ┆ ---          ┆ ---   ┆   ┆ ---       ┆ ---         ┆ c           ┆ ---       │\n",
      "│ i16  ┆ cat        ┆ cat          ┆ f32   ┆   ┆ u8        ┆ datetime[μs ┆ ---         ┆ u8        │\n",
      "│      ┆            ┆              ┆       ┆   ┆           ┆ ]           ┆ str         ┆           │\n",
      "╞══════╪════════════╪══════════════╪═══════╪═══╪═══════════╪═════════════╪═════════════╪═══════════╡\n",
      "│ 1985 ┆ Alfa Romeo ┆ Spider       ┆ 2.0   ┆ … ┆ 25        ┆ 2013-01-01  ┆ false       ┆ 5         │\n",
      "│      ┆            ┆ Veloce 2000  ┆       ┆   ┆           ┆ 00:00:00    ┆             ┆           │\n",
      "│ 1985 ┆ Ferrari    ┆ Testarossa   ┆ 4.9   ┆ … ┆ 14        ┆ 2013-01-01  ┆ false       ┆ 5         │\n",
      "│      ┆            ┆              ┆       ┆   ┆           ┆ 00:00:00    ┆             ┆           │\n",
      "│ 1985 ┆ Dodge      ┆ Charger      ┆ 2.2   ┆ … ┆ 33        ┆ 2013-01-01  ┆ false       ┆ 5         │\n",
      "│      ┆            ┆              ┆       ┆   ┆           ┆ 00:00:00    ┆             ┆           │\n",
      "│ 1985 ┆ Dodge      ┆ B150/B250    ┆ 5.2   ┆ … ┆ 12        ┆ 2013-01-01  ┆ true        ┆ 3         │\n",
      "│      ┆            ┆ Wagon 2WD    ┆       ┆   ┆           ┆ 00:00:00    ┆             ┆           │\n",
      "│ 1993 ┆ Subaru     ┆ Legacy AWD   ┆ 2.2   ┆ … ┆ 23        ┆ 2013-01-01  ┆ false       ┆ 5         │\n",
      "│      ┆            ┆ Turbo        ┆       ┆   ┆           ┆ 00:00:00    ┆             ┆           │\n",
      "│ …    ┆ …          ┆ …            ┆ …     ┆ … ┆ …         ┆ …           ┆ …           ┆ …         │\n",
      "│ 1993 ┆ Subaru     ┆ Legacy       ┆ 2.2   ┆ … ┆ 26        ┆ 2013-01-01  ┆ true        ┆ 4         │\n",
      "│      ┆            ┆              ┆       ┆   ┆           ┆ 00:00:00    ┆             ┆           │\n",
      "│ 1993 ┆ Subaru     ┆ Legacy       ┆ 2.2   ┆ … ┆ 28        ┆ 2013-01-01  ┆ false       ┆ 5         │\n",
      "│      ┆            ┆              ┆       ┆   ┆           ┆ 00:00:00    ┆             ┆           │\n",
      "│ 1993 ┆ Subaru     ┆ Legacy AWD   ┆ 2.2   ┆ … ┆ 24        ┆ 2013-01-01  ┆ true        ┆ 4         │\n",
      "│      ┆            ┆              ┆       ┆   ┆           ┆ 00:00:00    ┆             ┆           │\n",
      "│ 1993 ┆ Subaru     ┆ Legacy AWD   ┆ 2.2   ┆ … ┆ 24        ┆ 2013-01-01  ┆ false       ┆ 5         │\n",
      "│      ┆            ┆              ┆       ┆   ┆           ┆ 00:00:00    ┆             ┆           │\n",
      "│ 1993 ┆ Subaru     ┆ Legacy AWD   ┆ 2.2   ┆ … ┆ 21        ┆ 2013-01-01  ┆ true        ┆ 4         │\n",
      "│      ┆            ┆ Turbo        ┆       ┆   ┆           ┆ 00:00:00    ┆             ┆           │\n",
      "└──────┴────────────┴──────────────┴───────┴───┴───────────┴─────────────┴─────────────┴───────────┘\n"
     ]
    }
   ],
   "source": [
    "print(autos)"
   ]
  },
  {
   "cell_type": "markdown",
   "id": "dd8dc3dd-fcff-49c0-8faa-d0dc63f1cbc5",
   "metadata": {},
   "source": [
    "### Adding Columns"
   ]
  },
  {
   "cell_type": "code",
   "execution_count": 10,
   "id": "f27a6b42-f2ea-4817-aa38-2a985bce8780",
   "metadata": {},
   "outputs": [
    {
     "name": "stdout",
     "output_type": "stream",
     "text": [
      "shape: (48_231, 3)\n",
      "┌───────────┬────────┬───────────┐\n",
      "│ highway08 ┆ city08 ┆ mpg_ratio │\n",
      "│ ---       ┆ ---    ┆ ---       │\n",
      "│ u8        ┆ u8     ┆ f64       │\n",
      "╞═══════════╪════════╪═══════════╡\n",
      "│ 25        ┆ 19     ┆ 1.315789  │\n",
      "│ 14        ┆ 9      ┆ 1.555556  │\n",
      "│ 33        ┆ 23     ┆ 1.434783  │\n",
      "│ 12        ┆ 10     ┆ 1.2       │\n",
      "│ 23        ┆ 17     ┆ 1.352941  │\n",
      "│ …         ┆ …      ┆ …         │\n",
      "│ 26        ┆ 19     ┆ 1.368421  │\n",
      "│ 28        ┆ 20     ┆ 1.4       │\n",
      "│ 24        ┆ 18     ┆ 1.333333  │\n",
      "│ 24        ┆ 18     ┆ 1.333333  │\n",
      "│ 21        ┆ 16     ┆ 1.3125    │\n",
      "└───────────┴────────┴───────────┘\n"
     ]
    }
   ],
   "source": [
    "print(autos\n",
    "      .select(pl.col(['highway08', 'city08']),\n",
    "              mpg_ratio=(pl.col('highway08') / pl.col('city08'))\n",
    "             )\n",
    "     )"
   ]
  },
  {
   "cell_type": "code",
   "execution_count": 13,
   "id": "1c2a8cc2-da05-49c6-a8a2-6ba3516f54bc",
   "metadata": {},
   "outputs": [
    {
     "name": "stdout",
     "output_type": "stream",
     "text": [
      "shape: (48_231, 16)\n",
      "┌──────┬────────────┬──────────────┬───────┬───┬─────────────┬─────────────┬───────────┬───────────┐\n",
      "│ year ┆ make       ┆ model        ┆ displ ┆ … ┆ createdOn   ┆ is_automati ┆ num_gears ┆ mpg_ratio │\n",
      "│ ---  ┆ ---        ┆ ---          ┆ ---   ┆   ┆ ---         ┆ c           ┆ ---       ┆ ---       │\n",
      "│ i16  ┆ cat        ┆ cat          ┆ f32   ┆   ┆ datetime[μs ┆ ---         ┆ u8        ┆ f64       │\n",
      "│      ┆            ┆              ┆       ┆   ┆ ]           ┆ str         ┆           ┆           │\n",
      "╞══════╪════════════╪══════════════╪═══════╪═══╪═════════════╪═════════════╪═══════════╪═══════════╡\n",
      "│ 1985 ┆ Alfa Romeo ┆ Spider       ┆ 2.0   ┆ … ┆ 2013-01-01  ┆ false       ┆ 5         ┆ 1.315789  │\n",
      "│      ┆            ┆ Veloce 2000  ┆       ┆   ┆ 00:00:00    ┆             ┆           ┆           │\n",
      "│ 1985 ┆ Ferrari    ┆ Testarossa   ┆ 4.9   ┆ … ┆ 2013-01-01  ┆ false       ┆ 5         ┆ 1.555556  │\n",
      "│      ┆            ┆              ┆       ┆   ┆ 00:00:00    ┆             ┆           ┆           │\n",
      "│ 1985 ┆ Dodge      ┆ Charger      ┆ 2.2   ┆ … ┆ 2013-01-01  ┆ false       ┆ 5         ┆ 1.434783  │\n",
      "│      ┆            ┆              ┆       ┆   ┆ 00:00:00    ┆             ┆           ┆           │\n",
      "│ 1985 ┆ Dodge      ┆ B150/B250    ┆ 5.2   ┆ … ┆ 2013-01-01  ┆ true        ┆ 3         ┆ 1.2       │\n",
      "│      ┆            ┆ Wagon 2WD    ┆       ┆   ┆ 00:00:00    ┆             ┆           ┆           │\n",
      "│ 1993 ┆ Subaru     ┆ Legacy AWD   ┆ 2.2   ┆ … ┆ 2013-01-01  ┆ false       ┆ 5         ┆ 1.352941  │\n",
      "│      ┆            ┆ Turbo        ┆       ┆   ┆ 00:00:00    ┆             ┆           ┆           │\n",
      "│ …    ┆ …          ┆ …            ┆ …     ┆ … ┆ …           ┆ …           ┆ …         ┆ …         │\n",
      "│ 1993 ┆ Subaru     ┆ Legacy       ┆ 2.2   ┆ … ┆ 2013-01-01  ┆ true        ┆ 4         ┆ 1.368421  │\n",
      "│      ┆            ┆              ┆       ┆   ┆ 00:00:00    ┆             ┆           ┆           │\n",
      "│ 1993 ┆ Subaru     ┆ Legacy       ┆ 2.2   ┆ … ┆ 2013-01-01  ┆ false       ┆ 5         ┆ 1.4       │\n",
      "│      ┆            ┆              ┆       ┆   ┆ 00:00:00    ┆             ┆           ┆           │\n",
      "│ 1993 ┆ Subaru     ┆ Legacy AWD   ┆ 2.2   ┆ … ┆ 2013-01-01  ┆ true        ┆ 4         ┆ 1.333333  │\n",
      "│      ┆            ┆              ┆       ┆   ┆ 00:00:00    ┆             ┆           ┆           │\n",
      "│ 1993 ┆ Subaru     ┆ Legacy AWD   ┆ 2.2   ┆ … ┆ 2013-01-01  ┆ false       ┆ 5         ┆ 1.333333  │\n",
      "│      ┆            ┆              ┆       ┆   ┆ 00:00:00    ┆             ┆           ┆           │\n",
      "│ 1993 ┆ Subaru     ┆ Legacy AWD   ┆ 2.2   ┆ … ┆ 2013-01-01  ┆ true        ┆ 4         ┆ 1.3125    │\n",
      "│      ┆            ┆ Turbo        ┆       ┆   ┆ 00:00:00    ┆             ┆           ┆           │\n",
      "└──────┴────────────┴──────────────┴───────┴───┴─────────────┴─────────────┴───────────┴───────────┘\n"
     ]
    }
   ],
   "source": [
    "# Adding mpg_ratio column to Dataframe\n",
    "print(autos\n",
    "      .with_columns(mpg_ratio=pl.col('highway08') / pl.col('city08'))\n",
    "     )"
   ]
  },
  {
   "cell_type": "markdown",
   "id": "6b911456-dfa2-4065-b3b5-5a98346975a2",
   "metadata": {},
   "source": [
    "### Simulating The Index"
   ]
  },
  {
   "cell_type": "code",
   "execution_count": 14,
   "id": "822113e7-b45e-4aec-8474-8c300c9e922e",
   "metadata": {},
   "outputs": [
    {
     "name": "stdout",
     "output_type": "stream",
     "text": [
      "shape: (48_231, 16)\n",
      "┌───────┬──────┬────────────┬──────────────┬───┬───────────┬─────────────┬─────────────┬───────────┐\n",
      "│ index ┆ year ┆ make       ┆ model        ┆ … ┆ highway08 ┆ createdOn   ┆ is_automati ┆ num_gears │\n",
      "│ ---   ┆ ---  ┆ ---        ┆ ---          ┆   ┆ ---       ┆ ---         ┆ c           ┆ ---       │\n",
      "│ u32   ┆ i16  ┆ cat        ┆ cat          ┆   ┆ u8        ┆ datetime[μs ┆ ---         ┆ u8        │\n",
      "│       ┆      ┆            ┆              ┆   ┆           ┆ ]           ┆ str         ┆           │\n",
      "╞═══════╪══════╪════════════╪══════════════╪═══╪═══════════╪═════════════╪═════════════╪═══════════╡\n",
      "│ 0     ┆ 1985 ┆ Alfa Romeo ┆ Spider       ┆ … ┆ 25        ┆ 2013-01-01  ┆ false       ┆ 5         │\n",
      "│       ┆      ┆            ┆ Veloce 2000  ┆   ┆           ┆ 00:00:00    ┆             ┆           │\n",
      "│ 1     ┆ 1985 ┆ Ferrari    ┆ Testarossa   ┆ … ┆ 14        ┆ 2013-01-01  ┆ false       ┆ 5         │\n",
      "│       ┆      ┆            ┆              ┆   ┆           ┆ 00:00:00    ┆             ┆           │\n",
      "│ 2     ┆ 1985 ┆ Dodge      ┆ Charger      ┆ … ┆ 33        ┆ 2013-01-01  ┆ false       ┆ 5         │\n",
      "│       ┆      ┆            ┆              ┆   ┆           ┆ 00:00:00    ┆             ┆           │\n",
      "│ 3     ┆ 1985 ┆ Dodge      ┆ B150/B250    ┆ … ┆ 12        ┆ 2013-01-01  ┆ true        ┆ 3         │\n",
      "│       ┆      ┆            ┆ Wagon 2WD    ┆   ┆           ┆ 00:00:00    ┆             ┆           │\n",
      "│ 4     ┆ 1993 ┆ Subaru     ┆ Legacy AWD   ┆ … ┆ 23        ┆ 2013-01-01  ┆ false       ┆ 5         │\n",
      "│       ┆      ┆            ┆ Turbo        ┆   ┆           ┆ 00:00:00    ┆             ┆           │\n",
      "│ …     ┆ …    ┆ …          ┆ …            ┆ … ┆ …         ┆ …           ┆ …           ┆ …         │\n",
      "│ 48226 ┆ 1993 ┆ Subaru     ┆ Legacy       ┆ … ┆ 26        ┆ 2013-01-01  ┆ true        ┆ 4         │\n",
      "│       ┆      ┆            ┆              ┆   ┆           ┆ 00:00:00    ┆             ┆           │\n",
      "│ 48227 ┆ 1993 ┆ Subaru     ┆ Legacy       ┆ … ┆ 28        ┆ 2013-01-01  ┆ false       ┆ 5         │\n",
      "│       ┆      ┆            ┆              ┆   ┆           ┆ 00:00:00    ┆             ┆           │\n",
      "│ 48228 ┆ 1993 ┆ Subaru     ┆ Legacy AWD   ┆ … ┆ 24        ┆ 2013-01-01  ┆ true        ┆ 4         │\n",
      "│       ┆      ┆            ┆              ┆   ┆           ┆ 00:00:00    ┆             ┆           │\n",
      "│ 48229 ┆ 1993 ┆ Subaru     ┆ Legacy AWD   ┆ … ┆ 24        ┆ 2013-01-01  ┆ false       ┆ 5         │\n",
      "│       ┆      ┆            ┆              ┆   ┆           ┆ 00:00:00    ┆             ┆           │\n",
      "│ 48230 ┆ 1993 ┆ Subaru     ┆ Legacy AWD   ┆ … ┆ 21        ┆ 2013-01-01  ┆ true        ┆ 4         │\n",
      "│       ┆      ┆            ┆ Turbo        ┆   ┆           ┆ 00:00:00    ┆             ┆           │\n",
      "└───────┴──────┴────────────┴──────────────┴───┴───────────┴─────────────┴─────────────┴───────────┘\n"
     ]
    }
   ],
   "source": [
    "# Creating & Simulating Index\n",
    "print(autos\n",
    "      .with_row_index('index')\n",
    "     )"
   ]
  },
  {
   "cell_type": "markdown",
   "id": "d28a4829-ac9f-49cd-91a0-34692aeb986d",
   "metadata": {},
   "source": [
    "### Removing Columns"
   ]
  },
  {
   "cell_type": "code",
   "execution_count": 15,
   "id": "b33a88fa-5b8f-444a-b0f0-d023b39dcef4",
   "metadata": {},
   "outputs": [
    {
     "name": "stdout",
     "output_type": "stream",
     "text": [
      "['year', 'make', 'model', 'displ', 'cylinders', 'trany', 'drive', 'VClass', 'fuelType', 'barrels08', 'city08', 'highway08', 'is_automatic', 'num_gears']\n"
     ]
    }
   ],
   "source": [
    "print(autos\n",
    "      .drop('createdOn')\n",
    "      .columns\n",
    "     )"
   ]
  },
  {
   "cell_type": "code",
   "execution_count": 16,
   "id": "36081f92-04ff-4809-96a1-944a2d42a875",
   "metadata": {},
   "outputs": [],
   "source": [
    "final_cols = ['year', 'make', 'model', 'displ', 'cylinders', 'trany', \n",
    "              'drive', 'VClass', 'fuelType', 'barrels08', 'city08', 'highway08', \n",
    "              'is_automatic', 'num_gears']"
   ]
  },
  {
   "cell_type": "code",
   "execution_count": 17,
   "id": "d8122b2a-da0f-426a-b73c-4efda38fd04e",
   "metadata": {},
   "outputs": [
    {
     "name": "stdout",
     "output_type": "stream",
     "text": [
      "shape: (48_231, 14)\n",
      "┌──────┬────────────┬──────────────────┬───────┬───┬────────┬───────────┬──────────────┬───────────┐\n",
      "│ year ┆ make       ┆ model            ┆ displ ┆ … ┆ city08 ┆ highway08 ┆ is_automatic ┆ num_gears │\n",
      "│ ---  ┆ ---        ┆ ---              ┆ ---   ┆   ┆ ---    ┆ ---       ┆ ---          ┆ ---       │\n",
      "│ i16  ┆ cat        ┆ cat              ┆ f32   ┆   ┆ u8     ┆ u8        ┆ str          ┆ u8        │\n",
      "╞══════╪════════════╪══════════════════╪═══════╪═══╪════════╪═══════════╪══════════════╪═══════════╡\n",
      "│ 1985 ┆ Alfa Romeo ┆ Spider Veloce    ┆ 2.0   ┆ … ┆ 19     ┆ 25        ┆ false        ┆ 5         │\n",
      "│      ┆            ┆ 2000             ┆       ┆   ┆        ┆           ┆              ┆           │\n",
      "│ 1985 ┆ Ferrari    ┆ Testarossa       ┆ 4.9   ┆ … ┆ 9      ┆ 14        ┆ false        ┆ 5         │\n",
      "│ 1985 ┆ Dodge      ┆ Charger          ┆ 2.2   ┆ … ┆ 23     ┆ 33        ┆ false        ┆ 5         │\n",
      "│ 1985 ┆ Dodge      ┆ B150/B250 Wagon  ┆ 5.2   ┆ … ┆ 10     ┆ 12        ┆ true         ┆ 3         │\n",
      "│      ┆            ┆ 2WD              ┆       ┆   ┆        ┆           ┆              ┆           │\n",
      "│ 1993 ┆ Subaru     ┆ Legacy AWD Turbo ┆ 2.2   ┆ … ┆ 17     ┆ 23        ┆ false        ┆ 5         │\n",
      "│ …    ┆ …          ┆ …                ┆ …     ┆ … ┆ …      ┆ …         ┆ …            ┆ …         │\n",
      "│ 1993 ┆ Subaru     ┆ Legacy           ┆ 2.2   ┆ … ┆ 19     ┆ 26        ┆ true         ┆ 4         │\n",
      "│ 1993 ┆ Subaru     ┆ Legacy           ┆ 2.2   ┆ … ┆ 20     ┆ 28        ┆ false        ┆ 5         │\n",
      "│ 1993 ┆ Subaru     ┆ Legacy AWD       ┆ 2.2   ┆ … ┆ 18     ┆ 24        ┆ true         ┆ 4         │\n",
      "│ 1993 ┆ Subaru     ┆ Legacy AWD       ┆ 2.2   ┆ … ┆ 18     ┆ 24        ┆ false        ┆ 5         │\n",
      "│ 1993 ┆ Subaru     ┆ Legacy AWD Turbo ┆ 2.2   ┆ … ┆ 16     ┆ 21        ┆ true         ┆ 4         │\n",
      "└──────┴────────────┴──────────────────┴───────┴───┴────────┴───────────┴──────────────┴───────────┘\n"
     ]
    }
   ],
   "source": [
    "print(autos\n",
    "      .select(final_cols)\n",
    "     )"
   ]
  },
  {
   "cell_type": "markdown",
   "id": "125ea145-2df7-4ca1-b459-e675e5a1e10e",
   "metadata": {},
   "source": [
    "### Renaming Columns"
   ]
  },
  {
   "cell_type": "code",
   "execution_count": 20,
   "id": "1c699b38-db94-4592-b441-6a1d25d2ecae",
   "metadata": {},
   "outputs": [
    {
     "name": "stdout",
     "output_type": "stream",
     "text": [
      "shape: (48_231, 13)\n",
      "┌───────────┬───────────┬───────────┬───────────┬───┬───────────┬───────────┬───────────┬──────────┐\n",
      "│ year_auto ┆ make_auto ┆ model_aut ┆ displ_aut ┆ … ┆ city08_au ┆ highway08 ┆ is_automa ┆ num_gear │\n",
      "│ ---       ┆ ---       ┆ o         ┆ o         ┆   ┆ to        ┆ _auto     ┆ tic_auto  ┆ s_auto   │\n",
      "│ i16       ┆ cat       ┆ ---       ┆ ---       ┆   ┆ ---       ┆ ---       ┆ ---       ┆ ---      │\n",
      "│           ┆           ┆ cat       ┆ f32       ┆   ┆ u8        ┆ u8        ┆ str       ┆ u8       │\n",
      "╞═══════════╪═══════════╪═══════════╪═══════════╪═══╪═══════════╪═══════════╪═══════════╪══════════╡\n",
      "│ 1985      ┆ Alfa      ┆ Spider    ┆ 2.0       ┆ … ┆ 19        ┆ 25        ┆ false     ┆ 5        │\n",
      "│           ┆ Romeo     ┆ Veloce    ┆           ┆   ┆           ┆           ┆           ┆          │\n",
      "│           ┆           ┆ 2000      ┆           ┆   ┆           ┆           ┆           ┆          │\n",
      "│ 1985      ┆ Ferrari   ┆ Testaross ┆ 4.9       ┆ … ┆ 9         ┆ 14        ┆ false     ┆ 5        │\n",
      "│           ┆           ┆ a         ┆           ┆   ┆           ┆           ┆           ┆          │\n",
      "│ 1985      ┆ Dodge     ┆ Charger   ┆ 2.2       ┆ … ┆ 23        ┆ 33        ┆ false     ┆ 5        │\n",
      "│ 1985      ┆ Dodge     ┆ B150/B250 ┆ 5.2       ┆ … ┆ 10        ┆ 12        ┆ true      ┆ 3        │\n",
      "│           ┆           ┆ Wagon 2WD ┆           ┆   ┆           ┆           ┆           ┆          │\n",
      "│ 1993      ┆ Subaru    ┆ Legacy    ┆ 2.2       ┆ … ┆ 17        ┆ 23        ┆ false     ┆ 5        │\n",
      "│           ┆           ┆ AWD Turbo ┆           ┆   ┆           ┆           ┆           ┆          │\n",
      "│ …         ┆ …         ┆ …         ┆ …         ┆ … ┆ …         ┆ …         ┆ …         ┆ …        │\n",
      "│ 1993      ┆ Subaru    ┆ Legacy    ┆ 2.2       ┆ … ┆ 19        ┆ 26        ┆ true      ┆ 4        │\n",
      "│ 1993      ┆ Subaru    ┆ Legacy    ┆ 2.2       ┆ … ┆ 20        ┆ 28        ┆ false     ┆ 5        │\n",
      "│ 1993      ┆ Subaru    ┆ Legacy    ┆ 2.2       ┆ … ┆ 18        ┆ 24        ┆ true      ┆ 4        │\n",
      "│           ┆           ┆ AWD       ┆           ┆   ┆           ┆           ┆           ┆          │\n",
      "│ 1993      ┆ Subaru    ┆ Legacy    ┆ 2.2       ┆ … ┆ 18        ┆ 24        ┆ false     ┆ 5        │\n",
      "│           ┆           ┆ AWD       ┆           ┆   ┆           ┆           ┆           ┆          │\n",
      "│ 1993      ┆ Subaru    ┆ Legacy    ┆ 2.2       ┆ … ┆ 16        ┆ 21        ┆ true      ┆ 4        │\n",
      "│           ┆           ┆ AWD Turbo ┆           ┆   ┆           ┆           ┆           ┆          │\n",
      "└───────────┴───────────┴───────────┴───────────┴───┴───────────┴───────────┴───────────┴──────────┘\n"
     ]
    }
   ],
   "source": [
    "print(autos\n",
    "      .select(pl.all()\n",
    "              .exclude(['createdOn', 'barrels08'])\n",
    "              .name.suffix('_auto'))\n",
    "             )"
   ]
  },
  {
   "cell_type": "code",
   "execution_count": 21,
   "id": "46ad7340-ab12-428c-8397-2725d3cbe730",
   "metadata": {},
   "outputs": [],
   "source": [
    "final_cols = ['year', 'make', 'model', 'city_mpg', 'highway_mpg']"
   ]
  },
  {
   "cell_type": "code",
   "execution_count": 24,
   "id": "4a444ab9-6271-41b2-a263-ac1cc9121b19",
   "metadata": {},
   "outputs": [
    {
     "name": "stdout",
     "output_type": "stream",
     "text": [
      "shape: (48_231, 5)\n",
      "┌──────┬────────────┬─────────────────────┬──────────┬─────────────┐\n",
      "│ year ┆ make       ┆ model               ┆ city_mpg ┆ highway_mpg │\n",
      "│ ---  ┆ ---        ┆ ---                 ┆ ---      ┆ ---         │\n",
      "│ i16  ┆ cat        ┆ cat                 ┆ u8       ┆ u8          │\n",
      "╞══════╪════════════╪═════════════════════╪══════════╪═════════════╡\n",
      "│ 1985 ┆ Alfa Romeo ┆ Spider Veloce 2000  ┆ 19       ┆ 25          │\n",
      "│ 1985 ┆ Ferrari    ┆ Testarossa          ┆ 9        ┆ 14          │\n",
      "│ 1985 ┆ Dodge      ┆ Charger             ┆ 23       ┆ 33          │\n",
      "│ 1985 ┆ Dodge      ┆ B150/B250 Wagon 2WD ┆ 10       ┆ 12          │\n",
      "│ 1993 ┆ Subaru     ┆ Legacy AWD Turbo    ┆ 17       ┆ 23          │\n",
      "│ …    ┆ …          ┆ …                   ┆ …        ┆ …           │\n",
      "│ 1993 ┆ Subaru     ┆ Legacy              ┆ 19       ┆ 26          │\n",
      "│ 1993 ┆ Subaru     ┆ Legacy              ┆ 20       ┆ 28          │\n",
      "│ 1993 ┆ Subaru     ┆ Legacy AWD          ┆ 18       ┆ 24          │\n",
      "│ 1993 ┆ Subaru     ┆ Legacy AWD          ┆ 18       ┆ 24          │\n",
      "│ 1993 ┆ Subaru     ┆ Legacy AWD Turbo    ┆ 16       ┆ 21          │\n",
      "└──────┴────────────┴─────────────────────┴──────────┴─────────────┘\n"
     ]
    }
   ],
   "source": [
    "print(autos\n",
    "      .with_columns(pl.col('city08').alias('city_mpg'),\n",
    "                    highway_mpg=pl.col('highway08'))\n",
    "      .select(final_cols)\n",
    "     )"
   ]
  },
  {
   "cell_type": "markdown",
   "id": "490ae495-b545-4b48-9547-1470782765b8",
   "metadata": {},
   "source": [
    "##### `SyntaxError` due to keyword argument"
   ]
  },
  {
   "cell_type": "code",
   "execution_count": 25,
   "id": "367b967b-91fb-4f33-9da8-6e0d58ef0962",
   "metadata": {},
   "outputs": [
    {
     "ename": "SyntaxError",
     "evalue": "positional argument follows keyword argument (2241669681.py, line 3)",
     "output_type": "error",
     "traceback": [
      "\u001b[0;36m  Cell \u001b[0;32mIn[25], line 3\u001b[0;36m\u001b[0m\n\u001b[0;31m    pl.col('city08').alias('city_mpg'))\u001b[0m\n\u001b[0m                                      ^\u001b[0m\n\u001b[0;31mSyntaxError\u001b[0m\u001b[0;31m:\u001b[0m positional argument follows keyword argument\n"
     ]
    }
   ],
   "source": [
    "print(autos\n",
    "...  .with_columns(highway_mpg=pl.col('highway08'),\n",
    "...                pl.col('city08').alias('city_mpg'))\n",
    "...  .select(final_cols)\n",
    "...  )"
   ]
  },
  {
   "cell_type": "markdown",
   "id": "897f0e19-e657-4a29-8323-02a2b23928a9",
   "metadata": {},
   "source": [
    "#### `.rename` as a Dictionary Mapping"
   ]
  },
  {
   "cell_type": "code",
   "execution_count": 26,
   "id": "23006f81-217f-41be-9975-b9f2247f8e65",
   "metadata": {},
   "outputs": [],
   "source": [
    "final_cols = ['year', 'make', 'model', 'city_mpg', 'highway_mpg']"
   ]
  },
  {
   "cell_type": "code",
   "execution_count": 27,
   "id": "3e268f3a-42bd-4df5-9b96-1c02401648ef",
   "metadata": {},
   "outputs": [
    {
     "name": "stdout",
     "output_type": "stream",
     "text": [
      "shape: (48_231, 5)\n",
      "┌──────┬────────────┬─────────────────────┬──────────┬─────────────┐\n",
      "│ year ┆ make       ┆ model               ┆ city_mpg ┆ highway_mpg │\n",
      "│ ---  ┆ ---        ┆ ---                 ┆ ---      ┆ ---         │\n",
      "│ i16  ┆ cat        ┆ cat                 ┆ u8       ┆ u8          │\n",
      "╞══════╪════════════╪═════════════════════╪══════════╪═════════════╡\n",
      "│ 1985 ┆ Alfa Romeo ┆ Spider Veloce 2000  ┆ 19       ┆ 25          │\n",
      "│ 1985 ┆ Ferrari    ┆ Testarossa          ┆ 9        ┆ 14          │\n",
      "│ 1985 ┆ Dodge      ┆ Charger             ┆ 23       ┆ 33          │\n",
      "│ 1985 ┆ Dodge      ┆ B150/B250 Wagon 2WD ┆ 10       ┆ 12          │\n",
      "│ 1993 ┆ Subaru     ┆ Legacy AWD Turbo    ┆ 17       ┆ 23          │\n",
      "│ …    ┆ …          ┆ …                   ┆ …        ┆ …           │\n",
      "│ 1993 ┆ Subaru     ┆ Legacy              ┆ 19       ┆ 26          │\n",
      "│ 1993 ┆ Subaru     ┆ Legacy              ┆ 20       ┆ 28          │\n",
      "│ 1993 ┆ Subaru     ┆ Legacy AWD          ┆ 18       ┆ 24          │\n",
      "│ 1993 ┆ Subaru     ┆ Legacy AWD          ┆ 18       ┆ 24          │\n",
      "│ 1993 ┆ Subaru     ┆ Legacy AWD Turbo    ┆ 16       ┆ 21          │\n",
      "└──────┴────────────┴─────────────────────┴──────────┴─────────────┘\n"
     ]
    }
   ],
   "source": [
    "print(autos\n",
    "      .rename({'city08':'city_mpg', 'highway08':'highway_mpg'})\n",
    "      .select(final_cols)\n",
    "     )"
   ]
  },
  {
   "cell_type": "code",
   "execution_count": null,
   "id": "8dbb2638-a2d7-4138-b3d1-882a4e2d0bc5",
   "metadata": {},
   "outputs": [],
   "source": []
  }
 ],
 "metadata": {
  "kernelspec": {
   "display_name": "Python 3 (ipykernel)",
   "language": "python",
   "name": "python3"
  },
  "language_info": {
   "codemirror_mode": {
    "name": "ipython",
    "version": 3
   },
   "file_extension": ".py",
   "mimetype": "text/x-python",
   "name": "python",
   "nbconvert_exporter": "python",
   "pygments_lexer": "ipython3",
   "version": "3.11.8"
  }
 },
 "nbformat": 4,
 "nbformat_minor": 5
}
