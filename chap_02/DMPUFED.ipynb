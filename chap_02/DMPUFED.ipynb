{
 "cells": [
  {
   "cell_type": "markdown",
   "id": "05eeffce-5a57-4db4-81b3-8436c0129537",
   "metadata": {},
   "source": [
    "# Data Manipulation with Polars Using The Fuel Economy Dataset\n",
    "\n",
    "### Loading Libraries"
   ]
  },
  {
   "cell_type": "code",
   "execution_count": 1,
   "id": "7703e180-bc93-44c1-9d12-9010e9e7422d",
   "metadata": {},
   "outputs": [],
   "source": [
    "# ZipFiles\n",
    "import zipfile\n",
    "\n",
    "# Numerical Computing\n",
    "import numpy as np\n",
    "\n",
    "# Data Manipulation\n",
    "import pandas as pd\n",
    "import polars as pl\n",
    "import polars.selectors as cs\n",
    "\n",
    "# Data Visualization\n",
    "import seaborn as sns\n",
    "import matplotlib.pyplot as plt"
   ]
  },
  {
   "cell_type": "code",
   "execution_count": 2,
   "id": "e02018aa-11d2-43ee-98e4-7824b19b177e",
   "metadata": {},
   "outputs": [
    {
     "data": {
      "text/plain": [
       "'1.14.0'"
      ]
     },
     "execution_count": 2,
     "metadata": {},
     "output_type": "execute_result"
    }
   ],
   "source": [
    "pl.__version__"
   ]
  },
  {
   "cell_type": "markdown",
   "id": "a52bfd84-5de9-423a-8214-8bb828b27ed5",
   "metadata": {},
   "source": [
    "### Getting Data"
   ]
  },
  {
   "cell_type": "code",
   "execution_count": 3,
   "id": "ad258217-5b23-46e1-b15a-8da0f0a897b1",
   "metadata": {},
   "outputs": [],
   "source": [
    "# Path\n",
    "path = '/Users/isisromero/desktop/polars/datasets/vehicles.csv'"
   ]
  },
  {
   "cell_type": "code",
   "execution_count": 4,
   "id": "acc37279-482a-4548-8122-62c71c3032ca",
   "metadata": {},
   "outputs": [],
   "source": [
    "raw = pl.read_csv(path, null_values=['NA'])"
   ]
  },
  {
   "cell_type": "markdown",
   "id": "6c63fecf-d12d-430e-8a61-55f7d9fe10b4",
   "metadata": {},
   "source": [
    "#### Placing `tweak_auto` Function"
   ]
  },
  {
   "cell_type": "code",
   "execution_count": 5,
   "id": "b73567cb-0b95-4314-b7aa-9bba3fe34871",
   "metadata": {},
   "outputs": [],
   "source": [
    "def tweak_auto(df):\n",
    "    cols = ['year', 'make', 'model', 'displ', 'cylinders', 'trany', \n",
    "            'drive', 'VClass', 'fuelType', 'barrels08', 'city08', 'highway08', 'createdOn']\n",
    "    return (df\n",
    "            .select(pl.col(cols))\n",
    "            .with_columns(pl.col('year').cast(pl.Int16),\n",
    "                          pl.col(['cylinders', 'highway08', 'city08']).cast(pl.UInt8),\n",
    "                          pl.col(['displ', 'barrels08']).cast(pl.Float32),\n",
    "                          pl.col(['make', 'model', 'VClass', 'drive', 'fuelType']).cast(pl.Categorical),\n",
    "                          pl.col('createdOn').str.to_datetime('%a %b %d %H:%M:%S %Z %Y'),\n",
    "                          is_automatic=pl.col('trany')                    \n",
    "                          .str.contains('Automatic')\n",
    "                          .fill_null('Automatic'),\n",
    "                          num_gears=pl.col('trany')\n",
    "                          .str.extract(r'(\\d+)')\n",
    "                          .cast(pl.UInt8)\n",
    "                          .fill_null(6))\n",
    "           )"
   ]
  },
  {
   "cell_type": "code",
   "execution_count": 6,
   "id": "1a9c127a-71ae-44c1-8652-87181b0046fb",
   "metadata": {},
   "outputs": [],
   "source": [
    "autos = tweak_auto(raw)"
   ]
  },
  {
   "cell_type": "code",
   "execution_count": 7,
   "id": "70d407c2-383c-4177-9e07-0cea7b107a2f",
   "metadata": {},
   "outputs": [
    {
     "name": "stdout",
     "output_type": "stream",
     "text": [
      "shape: (48_231, 15)\n",
      "┌──────┬────────────┬──────────────┬───────┬───┬───────────┬─────────────┬─────────────┬───────────┐\n",
      "│ year ┆ make       ┆ model        ┆ displ ┆ … ┆ highway08 ┆ createdOn   ┆ is_automati ┆ num_gears │\n",
      "│ ---  ┆ ---        ┆ ---          ┆ ---   ┆   ┆ ---       ┆ ---         ┆ c           ┆ ---       │\n",
      "│ i16  ┆ cat        ┆ cat          ┆ f32   ┆   ┆ u8        ┆ datetime[μs ┆ ---         ┆ u8        │\n",
      "│      ┆            ┆              ┆       ┆   ┆           ┆ ]           ┆ str         ┆           │\n",
      "╞══════╪════════════╪══════════════╪═══════╪═══╪═══════════╪═════════════╪═════════════╪═══════════╡\n",
      "│ 1985 ┆ Alfa Romeo ┆ Spider       ┆ 2.0   ┆ … ┆ 25        ┆ 2013-01-01  ┆ false       ┆ 5         │\n",
      "│      ┆            ┆ Veloce 2000  ┆       ┆   ┆           ┆ 00:00:00    ┆             ┆           │\n",
      "│ 1985 ┆ Ferrari    ┆ Testarossa   ┆ 4.9   ┆ … ┆ 14        ┆ 2013-01-01  ┆ false       ┆ 5         │\n",
      "│      ┆            ┆              ┆       ┆   ┆           ┆ 00:00:00    ┆             ┆           │\n",
      "│ 1985 ┆ Dodge      ┆ Charger      ┆ 2.2   ┆ … ┆ 33        ┆ 2013-01-01  ┆ false       ┆ 5         │\n",
      "│      ┆            ┆              ┆       ┆   ┆           ┆ 00:00:00    ┆             ┆           │\n",
      "│ 1985 ┆ Dodge      ┆ B150/B250    ┆ 5.2   ┆ … ┆ 12        ┆ 2013-01-01  ┆ true        ┆ 3         │\n",
      "│      ┆            ┆ Wagon 2WD    ┆       ┆   ┆           ┆ 00:00:00    ┆             ┆           │\n",
      "│ 1993 ┆ Subaru     ┆ Legacy AWD   ┆ 2.2   ┆ … ┆ 23        ┆ 2013-01-01  ┆ false       ┆ 5         │\n",
      "│      ┆            ┆ Turbo        ┆       ┆   ┆           ┆ 00:00:00    ┆             ┆           │\n",
      "│ …    ┆ …          ┆ …            ┆ …     ┆ … ┆ …         ┆ …           ┆ …           ┆ …         │\n",
      "│ 1993 ┆ Subaru     ┆ Legacy       ┆ 2.2   ┆ … ┆ 26        ┆ 2013-01-01  ┆ true        ┆ 4         │\n",
      "│      ┆            ┆              ┆       ┆   ┆           ┆ 00:00:00    ┆             ┆           │\n",
      "│ 1993 ┆ Subaru     ┆ Legacy       ┆ 2.2   ┆ … ┆ 28        ┆ 2013-01-01  ┆ false       ┆ 5         │\n",
      "│      ┆            ┆              ┆       ┆   ┆           ┆ 00:00:00    ┆             ┆           │\n",
      "│ 1993 ┆ Subaru     ┆ Legacy AWD   ┆ 2.2   ┆ … ┆ 24        ┆ 2013-01-01  ┆ true        ┆ 4         │\n",
      "│      ┆            ┆              ┆       ┆   ┆           ┆ 00:00:00    ┆             ┆           │\n",
      "│ 1993 ┆ Subaru     ┆ Legacy AWD   ┆ 2.2   ┆ … ┆ 24        ┆ 2013-01-01  ┆ false       ┆ 5         │\n",
      "│      ┆            ┆              ┆       ┆   ┆           ┆ 00:00:00    ┆             ┆           │\n",
      "│ 1993 ┆ Subaru     ┆ Legacy AWD   ┆ 2.2   ┆ … ┆ 21        ┆ 2013-01-01  ┆ true        ┆ 4         │\n",
      "│      ┆            ┆ Turbo        ┆       ┆   ┆           ┆ 00:00:00    ┆             ┆           │\n",
      "└──────┴────────────┴──────────────┴───────┴───┴───────────┴─────────────┴─────────────┴───────────┘\n"
     ]
    }
   ],
   "source": [
    "print(autos)"
   ]
  },
  {
   "cell_type": "markdown",
   "id": "dd8dc3dd-fcff-49c0-8faa-d0dc63f1cbc5",
   "metadata": {},
   "source": [
    "### Adding Columns"
   ]
  },
  {
   "cell_type": "code",
   "execution_count": 8,
   "id": "f27a6b42-f2ea-4817-aa38-2a985bce8780",
   "metadata": {},
   "outputs": [
    {
     "name": "stdout",
     "output_type": "stream",
     "text": [
      "shape: (48_231, 3)\n",
      "┌───────────┬────────┬───────────┐\n",
      "│ highway08 ┆ city08 ┆ mpg_ratio │\n",
      "│ ---       ┆ ---    ┆ ---       │\n",
      "│ u8        ┆ u8     ┆ f64       │\n",
      "╞═══════════╪════════╪═══════════╡\n",
      "│ 25        ┆ 19     ┆ 1.315789  │\n",
      "│ 14        ┆ 9      ┆ 1.555556  │\n",
      "│ 33        ┆ 23     ┆ 1.434783  │\n",
      "│ 12        ┆ 10     ┆ 1.2       │\n",
      "│ 23        ┆ 17     ┆ 1.352941  │\n",
      "│ …         ┆ …      ┆ …         │\n",
      "│ 26        ┆ 19     ┆ 1.368421  │\n",
      "│ 28        ┆ 20     ┆ 1.4       │\n",
      "│ 24        ┆ 18     ┆ 1.333333  │\n",
      "│ 24        ┆ 18     ┆ 1.333333  │\n",
      "│ 21        ┆ 16     ┆ 1.3125    │\n",
      "└───────────┴────────┴───────────┘\n"
     ]
    }
   ],
   "source": [
    "print(autos\n",
    "      .select(pl.col(['highway08', 'city08']),\n",
    "              mpg_ratio=(pl.col('highway08') / pl.col('city08'))\n",
    "             )\n",
    "     )"
   ]
  },
  {
   "cell_type": "code",
   "execution_count": 9,
   "id": "1c2a8cc2-da05-49c6-a8a2-6ba3516f54bc",
   "metadata": {},
   "outputs": [
    {
     "name": "stdout",
     "output_type": "stream",
     "text": [
      "shape: (48_231, 16)\n",
      "┌──────┬────────────┬──────────────┬───────┬───┬─────────────┬─────────────┬───────────┬───────────┐\n",
      "│ year ┆ make       ┆ model        ┆ displ ┆ … ┆ createdOn   ┆ is_automati ┆ num_gears ┆ mpg_ratio │\n",
      "│ ---  ┆ ---        ┆ ---          ┆ ---   ┆   ┆ ---         ┆ c           ┆ ---       ┆ ---       │\n",
      "│ i16  ┆ cat        ┆ cat          ┆ f32   ┆   ┆ datetime[μs ┆ ---         ┆ u8        ┆ f64       │\n",
      "│      ┆            ┆              ┆       ┆   ┆ ]           ┆ str         ┆           ┆           │\n",
      "╞══════╪════════════╪══════════════╪═══════╪═══╪═════════════╪═════════════╪═══════════╪═══════════╡\n",
      "│ 1985 ┆ Alfa Romeo ┆ Spider       ┆ 2.0   ┆ … ┆ 2013-01-01  ┆ false       ┆ 5         ┆ 1.315789  │\n",
      "│      ┆            ┆ Veloce 2000  ┆       ┆   ┆ 00:00:00    ┆             ┆           ┆           │\n",
      "│ 1985 ┆ Ferrari    ┆ Testarossa   ┆ 4.9   ┆ … ┆ 2013-01-01  ┆ false       ┆ 5         ┆ 1.555556  │\n",
      "│      ┆            ┆              ┆       ┆   ┆ 00:00:00    ┆             ┆           ┆           │\n",
      "│ 1985 ┆ Dodge      ┆ Charger      ┆ 2.2   ┆ … ┆ 2013-01-01  ┆ false       ┆ 5         ┆ 1.434783  │\n",
      "│      ┆            ┆              ┆       ┆   ┆ 00:00:00    ┆             ┆           ┆           │\n",
      "│ 1985 ┆ Dodge      ┆ B150/B250    ┆ 5.2   ┆ … ┆ 2013-01-01  ┆ true        ┆ 3         ┆ 1.2       │\n",
      "│      ┆            ┆ Wagon 2WD    ┆       ┆   ┆ 00:00:00    ┆             ┆           ┆           │\n",
      "│ 1993 ┆ Subaru     ┆ Legacy AWD   ┆ 2.2   ┆ … ┆ 2013-01-01  ┆ false       ┆ 5         ┆ 1.352941  │\n",
      "│      ┆            ┆ Turbo        ┆       ┆   ┆ 00:00:00    ┆             ┆           ┆           │\n",
      "│ …    ┆ …          ┆ …            ┆ …     ┆ … ┆ …           ┆ …           ┆ …         ┆ …         │\n",
      "│ 1993 ┆ Subaru     ┆ Legacy       ┆ 2.2   ┆ … ┆ 2013-01-01  ┆ true        ┆ 4         ┆ 1.368421  │\n",
      "│      ┆            ┆              ┆       ┆   ┆ 00:00:00    ┆             ┆           ┆           │\n",
      "│ 1993 ┆ Subaru     ┆ Legacy       ┆ 2.2   ┆ … ┆ 2013-01-01  ┆ false       ┆ 5         ┆ 1.4       │\n",
      "│      ┆            ┆              ┆       ┆   ┆ 00:00:00    ┆             ┆           ┆           │\n",
      "│ 1993 ┆ Subaru     ┆ Legacy AWD   ┆ 2.2   ┆ … ┆ 2013-01-01  ┆ true        ┆ 4         ┆ 1.333333  │\n",
      "│      ┆            ┆              ┆       ┆   ┆ 00:00:00    ┆             ┆           ┆           │\n",
      "│ 1993 ┆ Subaru     ┆ Legacy AWD   ┆ 2.2   ┆ … ┆ 2013-01-01  ┆ false       ┆ 5         ┆ 1.333333  │\n",
      "│      ┆            ┆              ┆       ┆   ┆ 00:00:00    ┆             ┆           ┆           │\n",
      "│ 1993 ┆ Subaru     ┆ Legacy AWD   ┆ 2.2   ┆ … ┆ 2013-01-01  ┆ true        ┆ 4         ┆ 1.3125    │\n",
      "│      ┆            ┆ Turbo        ┆       ┆   ┆ 00:00:00    ┆             ┆           ┆           │\n",
      "└──────┴────────────┴──────────────┴───────┴───┴─────────────┴─────────────┴───────────┴───────────┘\n"
     ]
    }
   ],
   "source": [
    "# Adding mpg_ratio column to Dataframe\n",
    "print(autos\n",
    "      .with_columns(mpg_ratio=pl.col('highway08') / pl.col('city08'))\n",
    "     )"
   ]
  },
  {
   "cell_type": "markdown",
   "id": "6b911456-dfa2-4065-b3b5-5a98346975a2",
   "metadata": {},
   "source": [
    "### Simulating The Index"
   ]
  },
  {
   "cell_type": "code",
   "execution_count": 10,
   "id": "822113e7-b45e-4aec-8474-8c300c9e922e",
   "metadata": {},
   "outputs": [
    {
     "name": "stdout",
     "output_type": "stream",
     "text": [
      "shape: (48_231, 16)\n",
      "┌───────┬──────┬────────────┬──────────────┬───┬───────────┬─────────────┬─────────────┬───────────┐\n",
      "│ index ┆ year ┆ make       ┆ model        ┆ … ┆ highway08 ┆ createdOn   ┆ is_automati ┆ num_gears │\n",
      "│ ---   ┆ ---  ┆ ---        ┆ ---          ┆   ┆ ---       ┆ ---         ┆ c           ┆ ---       │\n",
      "│ u32   ┆ i16  ┆ cat        ┆ cat          ┆   ┆ u8        ┆ datetime[μs ┆ ---         ┆ u8        │\n",
      "│       ┆      ┆            ┆              ┆   ┆           ┆ ]           ┆ str         ┆           │\n",
      "╞═══════╪══════╪════════════╪══════════════╪═══╪═══════════╪═════════════╪═════════════╪═══════════╡\n",
      "│ 0     ┆ 1985 ┆ Alfa Romeo ┆ Spider       ┆ … ┆ 25        ┆ 2013-01-01  ┆ false       ┆ 5         │\n",
      "│       ┆      ┆            ┆ Veloce 2000  ┆   ┆           ┆ 00:00:00    ┆             ┆           │\n",
      "│ 1     ┆ 1985 ┆ Ferrari    ┆ Testarossa   ┆ … ┆ 14        ┆ 2013-01-01  ┆ false       ┆ 5         │\n",
      "│       ┆      ┆            ┆              ┆   ┆           ┆ 00:00:00    ┆             ┆           │\n",
      "│ 2     ┆ 1985 ┆ Dodge      ┆ Charger      ┆ … ┆ 33        ┆ 2013-01-01  ┆ false       ┆ 5         │\n",
      "│       ┆      ┆            ┆              ┆   ┆           ┆ 00:00:00    ┆             ┆           │\n",
      "│ 3     ┆ 1985 ┆ Dodge      ┆ B150/B250    ┆ … ┆ 12        ┆ 2013-01-01  ┆ true        ┆ 3         │\n",
      "│       ┆      ┆            ┆ Wagon 2WD    ┆   ┆           ┆ 00:00:00    ┆             ┆           │\n",
      "│ 4     ┆ 1993 ┆ Subaru     ┆ Legacy AWD   ┆ … ┆ 23        ┆ 2013-01-01  ┆ false       ┆ 5         │\n",
      "│       ┆      ┆            ┆ Turbo        ┆   ┆           ┆ 00:00:00    ┆             ┆           │\n",
      "│ …     ┆ …    ┆ …          ┆ …            ┆ … ┆ …         ┆ …           ┆ …           ┆ …         │\n",
      "│ 48226 ┆ 1993 ┆ Subaru     ┆ Legacy       ┆ … ┆ 26        ┆ 2013-01-01  ┆ true        ┆ 4         │\n",
      "│       ┆      ┆            ┆              ┆   ┆           ┆ 00:00:00    ┆             ┆           │\n",
      "│ 48227 ┆ 1993 ┆ Subaru     ┆ Legacy       ┆ … ┆ 28        ┆ 2013-01-01  ┆ false       ┆ 5         │\n",
      "│       ┆      ┆            ┆              ┆   ┆           ┆ 00:00:00    ┆             ┆           │\n",
      "│ 48228 ┆ 1993 ┆ Subaru     ┆ Legacy AWD   ┆ … ┆ 24        ┆ 2013-01-01  ┆ true        ┆ 4         │\n",
      "│       ┆      ┆            ┆              ┆   ┆           ┆ 00:00:00    ┆             ┆           │\n",
      "│ 48229 ┆ 1993 ┆ Subaru     ┆ Legacy AWD   ┆ … ┆ 24        ┆ 2013-01-01  ┆ false       ┆ 5         │\n",
      "│       ┆      ┆            ┆              ┆   ┆           ┆ 00:00:00    ┆             ┆           │\n",
      "│ 48230 ┆ 1993 ┆ Subaru     ┆ Legacy AWD   ┆ … ┆ 21        ┆ 2013-01-01  ┆ true        ┆ 4         │\n",
      "│       ┆      ┆            ┆ Turbo        ┆   ┆           ┆ 00:00:00    ┆             ┆           │\n",
      "└───────┴──────┴────────────┴──────────────┴───┴───────────┴─────────────┴─────────────┴───────────┘\n"
     ]
    }
   ],
   "source": [
    "# Creating & Simulating Index\n",
    "print(autos\n",
    "      .with_row_index('index')\n",
    "     )"
   ]
  },
  {
   "cell_type": "markdown",
   "id": "d28a4829-ac9f-49cd-91a0-34692aeb986d",
   "metadata": {},
   "source": [
    "### Removing Columns"
   ]
  },
  {
   "cell_type": "code",
   "execution_count": 11,
   "id": "b33a88fa-5b8f-444a-b0f0-d023b39dcef4",
   "metadata": {},
   "outputs": [
    {
     "name": "stdout",
     "output_type": "stream",
     "text": [
      "['year', 'make', 'model', 'displ', 'cylinders', 'trany', 'drive', 'VClass', 'fuelType', 'barrels08', 'city08', 'highway08', 'is_automatic', 'num_gears']\n"
     ]
    }
   ],
   "source": [
    "print(autos\n",
    "      .drop('createdOn')\n",
    "      .columns\n",
    "     )"
   ]
  },
  {
   "cell_type": "code",
   "execution_count": 12,
   "id": "36081f92-04ff-4809-96a1-944a2d42a875",
   "metadata": {},
   "outputs": [],
   "source": [
    "final_cols = ['year', 'make', 'model', 'displ', 'cylinders', 'trany', \n",
    "              'drive', 'VClass', 'fuelType', 'barrels08', 'city08', 'highway08', \n",
    "              'is_automatic', 'num_gears']"
   ]
  },
  {
   "cell_type": "code",
   "execution_count": 13,
   "id": "d8122b2a-da0f-426a-b73c-4efda38fd04e",
   "metadata": {},
   "outputs": [
    {
     "name": "stdout",
     "output_type": "stream",
     "text": [
      "shape: (48_231, 14)\n",
      "┌──────┬────────────┬──────────────────┬───────┬───┬────────┬───────────┬──────────────┬───────────┐\n",
      "│ year ┆ make       ┆ model            ┆ displ ┆ … ┆ city08 ┆ highway08 ┆ is_automatic ┆ num_gears │\n",
      "│ ---  ┆ ---        ┆ ---              ┆ ---   ┆   ┆ ---    ┆ ---       ┆ ---          ┆ ---       │\n",
      "│ i16  ┆ cat        ┆ cat              ┆ f32   ┆   ┆ u8     ┆ u8        ┆ str          ┆ u8        │\n",
      "╞══════╪════════════╪══════════════════╪═══════╪═══╪════════╪═══════════╪══════════════╪═══════════╡\n",
      "│ 1985 ┆ Alfa Romeo ┆ Spider Veloce    ┆ 2.0   ┆ … ┆ 19     ┆ 25        ┆ false        ┆ 5         │\n",
      "│      ┆            ┆ 2000             ┆       ┆   ┆        ┆           ┆              ┆           │\n",
      "│ 1985 ┆ Ferrari    ┆ Testarossa       ┆ 4.9   ┆ … ┆ 9      ┆ 14        ┆ false        ┆ 5         │\n",
      "│ 1985 ┆ Dodge      ┆ Charger          ┆ 2.2   ┆ … ┆ 23     ┆ 33        ┆ false        ┆ 5         │\n",
      "│ 1985 ┆ Dodge      ┆ B150/B250 Wagon  ┆ 5.2   ┆ … ┆ 10     ┆ 12        ┆ true         ┆ 3         │\n",
      "│      ┆            ┆ 2WD              ┆       ┆   ┆        ┆           ┆              ┆           │\n",
      "│ 1993 ┆ Subaru     ┆ Legacy AWD Turbo ┆ 2.2   ┆ … ┆ 17     ┆ 23        ┆ false        ┆ 5         │\n",
      "│ …    ┆ …          ┆ …                ┆ …     ┆ … ┆ …      ┆ …         ┆ …            ┆ …         │\n",
      "│ 1993 ┆ Subaru     ┆ Legacy           ┆ 2.2   ┆ … ┆ 19     ┆ 26        ┆ true         ┆ 4         │\n",
      "│ 1993 ┆ Subaru     ┆ Legacy           ┆ 2.2   ┆ … ┆ 20     ┆ 28        ┆ false        ┆ 5         │\n",
      "│ 1993 ┆ Subaru     ┆ Legacy AWD       ┆ 2.2   ┆ … ┆ 18     ┆ 24        ┆ true         ┆ 4         │\n",
      "│ 1993 ┆ Subaru     ┆ Legacy AWD       ┆ 2.2   ┆ … ┆ 18     ┆ 24        ┆ false        ┆ 5         │\n",
      "│ 1993 ┆ Subaru     ┆ Legacy AWD Turbo ┆ 2.2   ┆ … ┆ 16     ┆ 21        ┆ true         ┆ 4         │\n",
      "└──────┴────────────┴──────────────────┴───────┴───┴────────┴───────────┴──────────────┴───────────┘\n"
     ]
    }
   ],
   "source": [
    "print(autos\n",
    "      .select(final_cols)\n",
    "     )"
   ]
  },
  {
   "cell_type": "markdown",
   "id": "125ea145-2df7-4ca1-b459-e675e5a1e10e",
   "metadata": {},
   "source": [
    "### Renaming Columns"
   ]
  },
  {
   "cell_type": "code",
   "execution_count": 14,
   "id": "1c699b38-db94-4592-b441-6a1d25d2ecae",
   "metadata": {},
   "outputs": [
    {
     "name": "stdout",
     "output_type": "stream",
     "text": [
      "shape: (48_231, 13)\n",
      "┌───────────┬───────────┬───────────┬───────────┬───┬───────────┬───────────┬───────────┬──────────┐\n",
      "│ year_auto ┆ make_auto ┆ model_aut ┆ displ_aut ┆ … ┆ city08_au ┆ highway08 ┆ is_automa ┆ num_gear │\n",
      "│ ---       ┆ ---       ┆ o         ┆ o         ┆   ┆ to        ┆ _auto     ┆ tic_auto  ┆ s_auto   │\n",
      "│ i16       ┆ cat       ┆ ---       ┆ ---       ┆   ┆ ---       ┆ ---       ┆ ---       ┆ ---      │\n",
      "│           ┆           ┆ cat       ┆ f32       ┆   ┆ u8        ┆ u8        ┆ str       ┆ u8       │\n",
      "╞═══════════╪═══════════╪═══════════╪═══════════╪═══╪═══════════╪═══════════╪═══════════╪══════════╡\n",
      "│ 1985      ┆ Alfa      ┆ Spider    ┆ 2.0       ┆ … ┆ 19        ┆ 25        ┆ false     ┆ 5        │\n",
      "│           ┆ Romeo     ┆ Veloce    ┆           ┆   ┆           ┆           ┆           ┆          │\n",
      "│           ┆           ┆ 2000      ┆           ┆   ┆           ┆           ┆           ┆          │\n",
      "│ 1985      ┆ Ferrari   ┆ Testaross ┆ 4.9       ┆ … ┆ 9         ┆ 14        ┆ false     ┆ 5        │\n",
      "│           ┆           ┆ a         ┆           ┆   ┆           ┆           ┆           ┆          │\n",
      "│ 1985      ┆ Dodge     ┆ Charger   ┆ 2.2       ┆ … ┆ 23        ┆ 33        ┆ false     ┆ 5        │\n",
      "│ 1985      ┆ Dodge     ┆ B150/B250 ┆ 5.2       ┆ … ┆ 10        ┆ 12        ┆ true      ┆ 3        │\n",
      "│           ┆           ┆ Wagon 2WD ┆           ┆   ┆           ┆           ┆           ┆          │\n",
      "│ 1993      ┆ Subaru    ┆ Legacy    ┆ 2.2       ┆ … ┆ 17        ┆ 23        ┆ false     ┆ 5        │\n",
      "│           ┆           ┆ AWD Turbo ┆           ┆   ┆           ┆           ┆           ┆          │\n",
      "│ …         ┆ …         ┆ …         ┆ …         ┆ … ┆ …         ┆ …         ┆ …         ┆ …        │\n",
      "│ 1993      ┆ Subaru    ┆ Legacy    ┆ 2.2       ┆ … ┆ 19        ┆ 26        ┆ true      ┆ 4        │\n",
      "│ 1993      ┆ Subaru    ┆ Legacy    ┆ 2.2       ┆ … ┆ 20        ┆ 28        ┆ false     ┆ 5        │\n",
      "│ 1993      ┆ Subaru    ┆ Legacy    ┆ 2.2       ┆ … ┆ 18        ┆ 24        ┆ true      ┆ 4        │\n",
      "│           ┆           ┆ AWD       ┆           ┆   ┆           ┆           ┆           ┆          │\n",
      "│ 1993      ┆ Subaru    ┆ Legacy    ┆ 2.2       ┆ … ┆ 18        ┆ 24        ┆ false     ┆ 5        │\n",
      "│           ┆           ┆ AWD       ┆           ┆   ┆           ┆           ┆           ┆          │\n",
      "│ 1993      ┆ Subaru    ┆ Legacy    ┆ 2.2       ┆ … ┆ 16        ┆ 21        ┆ true      ┆ 4        │\n",
      "│           ┆           ┆ AWD Turbo ┆           ┆   ┆           ┆           ┆           ┆          │\n",
      "└───────────┴───────────┴───────────┴───────────┴───┴───────────┴───────────┴───────────┴──────────┘\n"
     ]
    }
   ],
   "source": [
    "print(autos\n",
    "      .select(pl.all()\n",
    "              .exclude(['createdOn', 'barrels08'])\n",
    "              .name.suffix('_auto'))\n",
    "             )"
   ]
  },
  {
   "cell_type": "code",
   "execution_count": 15,
   "id": "46ad7340-ab12-428c-8397-2725d3cbe730",
   "metadata": {},
   "outputs": [],
   "source": [
    "final_cols = ['year', 'make', 'model', 'city_mpg', 'highway_mpg']"
   ]
  },
  {
   "cell_type": "code",
   "execution_count": 16,
   "id": "4a444ab9-6271-41b2-a263-ac1cc9121b19",
   "metadata": {},
   "outputs": [
    {
     "name": "stdout",
     "output_type": "stream",
     "text": [
      "shape: (48_231, 5)\n",
      "┌──────┬────────────┬─────────────────────┬──────────┬─────────────┐\n",
      "│ year ┆ make       ┆ model               ┆ city_mpg ┆ highway_mpg │\n",
      "│ ---  ┆ ---        ┆ ---                 ┆ ---      ┆ ---         │\n",
      "│ i16  ┆ cat        ┆ cat                 ┆ u8       ┆ u8          │\n",
      "╞══════╪════════════╪═════════════════════╪══════════╪═════════════╡\n",
      "│ 1985 ┆ Alfa Romeo ┆ Spider Veloce 2000  ┆ 19       ┆ 25          │\n",
      "│ 1985 ┆ Ferrari    ┆ Testarossa          ┆ 9        ┆ 14          │\n",
      "│ 1985 ┆ Dodge      ┆ Charger             ┆ 23       ┆ 33          │\n",
      "│ 1985 ┆ Dodge      ┆ B150/B250 Wagon 2WD ┆ 10       ┆ 12          │\n",
      "│ 1993 ┆ Subaru     ┆ Legacy AWD Turbo    ┆ 17       ┆ 23          │\n",
      "│ …    ┆ …          ┆ …                   ┆ …        ┆ …           │\n",
      "│ 1993 ┆ Subaru     ┆ Legacy              ┆ 19       ┆ 26          │\n",
      "│ 1993 ┆ Subaru     ┆ Legacy              ┆ 20       ┆ 28          │\n",
      "│ 1993 ┆ Subaru     ┆ Legacy AWD          ┆ 18       ┆ 24          │\n",
      "│ 1993 ┆ Subaru     ┆ Legacy AWD          ┆ 18       ┆ 24          │\n",
      "│ 1993 ┆ Subaru     ┆ Legacy AWD Turbo    ┆ 16       ┆ 21          │\n",
      "└──────┴────────────┴─────────────────────┴──────────┴─────────────┘\n"
     ]
    }
   ],
   "source": [
    "print(autos\n",
    "      .with_columns(pl.col('city08').alias('city_mpg'),\n",
    "                    highway_mpg=pl.col('highway08'))\n",
    "      .select(final_cols)\n",
    "     )"
   ]
  },
  {
   "cell_type": "markdown",
   "id": "490ae495-b545-4b48-9547-1470782765b8",
   "metadata": {},
   "source": [
    "##### `SyntaxError` due to keyword argument"
   ]
  },
  {
   "cell_type": "code",
   "execution_count": 17,
   "id": "367b967b-91fb-4f33-9da8-6e0d58ef0962",
   "metadata": {},
   "outputs": [
    {
     "ename": "SyntaxError",
     "evalue": "positional argument follows keyword argument (2241669681.py, line 3)",
     "output_type": "error",
     "traceback": [
      "\u001b[0;36m  Cell \u001b[0;32mIn[17], line 3\u001b[0;36m\u001b[0m\n\u001b[0;31m    pl.col('city08').alias('city_mpg'))\u001b[0m\n\u001b[0m                                      ^\u001b[0m\n\u001b[0;31mSyntaxError\u001b[0m\u001b[0;31m:\u001b[0m positional argument follows keyword argument\n"
     ]
    }
   ],
   "source": [
    "print(autos\n",
    "...  .with_columns(highway_mpg=pl.col('highway08'),\n",
    "...                pl.col('city08').alias('city_mpg'))\n",
    "...  .select(final_cols)\n",
    "...  )"
   ]
  },
  {
   "cell_type": "markdown",
   "id": "897f0e19-e657-4a29-8323-02a2b23928a9",
   "metadata": {},
   "source": [
    "#### `.rename` as a Dictionary Mapping"
   ]
  },
  {
   "cell_type": "code",
   "execution_count": 18,
   "id": "23006f81-217f-41be-9975-b9f2247f8e65",
   "metadata": {},
   "outputs": [],
   "source": [
    "final_cols = ['year', 'make', 'model', 'city_mpg', 'highway_mpg']"
   ]
  },
  {
   "cell_type": "code",
   "execution_count": 19,
   "id": "3e268f3a-42bd-4df5-9b96-1c02401648ef",
   "metadata": {},
   "outputs": [
    {
     "name": "stdout",
     "output_type": "stream",
     "text": [
      "shape: (48_231, 5)\n",
      "┌──────┬────────────┬─────────────────────┬──────────┬─────────────┐\n",
      "│ year ┆ make       ┆ model               ┆ city_mpg ┆ highway_mpg │\n",
      "│ ---  ┆ ---        ┆ ---                 ┆ ---      ┆ ---         │\n",
      "│ i16  ┆ cat        ┆ cat                 ┆ u8       ┆ u8          │\n",
      "╞══════╪════════════╪═════════════════════╪══════════╪═════════════╡\n",
      "│ 1985 ┆ Alfa Romeo ┆ Spider Veloce 2000  ┆ 19       ┆ 25          │\n",
      "│ 1985 ┆ Ferrari    ┆ Testarossa          ┆ 9        ┆ 14          │\n",
      "│ 1985 ┆ Dodge      ┆ Charger             ┆ 23       ┆ 33          │\n",
      "│ 1985 ┆ Dodge      ┆ B150/B250 Wagon 2WD ┆ 10       ┆ 12          │\n",
      "│ 1993 ┆ Subaru     ┆ Legacy AWD Turbo    ┆ 17       ┆ 23          │\n",
      "│ …    ┆ …          ┆ …                   ┆ …        ┆ …           │\n",
      "│ 1993 ┆ Subaru     ┆ Legacy              ┆ 19       ┆ 26          │\n",
      "│ 1993 ┆ Subaru     ┆ Legacy              ┆ 20       ┆ 28          │\n",
      "│ 1993 ┆ Subaru     ┆ Legacy AWD          ┆ 18       ┆ 24          │\n",
      "│ 1993 ┆ Subaru     ┆ Legacy AWD          ┆ 18       ┆ 24          │\n",
      "│ 1993 ┆ Subaru     ┆ Legacy AWD Turbo    ┆ 16       ┆ 21          │\n",
      "└──────┴────────────┴─────────────────────┴──────────┴─────────────┘\n"
     ]
    }
   ],
   "source": [
    "print(autos\n",
    "      .rename({'city08':'city_mpg', 'highway08':'highway_mpg'})\n",
    "      .select(final_cols)\n",
    "     )"
   ]
  },
  {
   "cell_type": "markdown",
   "id": "fc49a499-ba0c-443c-a69c-9e8980f3c278",
   "metadata": {},
   "source": [
    "### Joining Data Frames: Left Join"
   ]
  },
  {
   "cell_type": "code",
   "execution_count": 20,
   "id": "51b29b30-d1c7-4302-925d-4b249b01cb4e",
   "metadata": {},
   "outputs": [],
   "source": [
    "trucks = pl.DataFrame(\n",
    "    {'make': ['Ford', 'Tesla', 'Chevy', 'Custom', 'Ford'],\n",
    "     'model': ['F150', 'Cybertruck', 'Silverado', 'HotRod', 'F250'],\n",
    "     'year': [2018, 2024, 2019, 1967, 2017],\n",
    "     'city_mpg': [19, None, 17, 12, 18],\n",
    "    })"
   ]
  },
  {
   "cell_type": "code",
   "execution_count": 21,
   "id": "20803886-7711-4295-bb9d-ca50f3b49e8d",
   "metadata": {},
   "outputs": [
    {
     "name": "stdout",
     "output_type": "stream",
     "text": [
      "shape: (5, 4)\n",
      "┌────────┬────────────┬──────┬──────────┐\n",
      "│ make   ┆ model      ┆ year ┆ city_mpg │\n",
      "│ ---    ┆ ---        ┆ ---  ┆ ---      │\n",
      "│ str    ┆ str        ┆ i64  ┆ i64      │\n",
      "╞════════╪════════════╪══════╪══════════╡\n",
      "│ Ford   ┆ F150       ┆ 2018 ┆ 19       │\n",
      "│ Tesla  ┆ Cybertruck ┆ 2024 ┆ null     │\n",
      "│ Chevy  ┆ Silverado  ┆ 2019 ┆ 17       │\n",
      "│ Custom ┆ HotRod     ┆ 1967 ┆ 12       │\n",
      "│ Ford   ┆ F250       ┆ 2017 ┆ 18       │\n",
      "└────────┴────────────┴──────┴──────────┘\n"
     ]
    }
   ],
   "source": [
    "print(trucks)"
   ]
  },
  {
   "cell_type": "code",
   "execution_count": 22,
   "id": "03fce32a-a8bc-4cff-8e90-66edd6d01244",
   "metadata": {},
   "outputs": [],
   "source": [
    "manufacturer = pl.DataFrame(\n",
    "    {'name': ['Ford', 'Tesla', 'Chevy', 'Toyota'],\n",
    "     'country': ['USA', 'USA', 'USA', 'Japan'],\n",
    "     'founded': [1903, 2003, 1911, 1937],\n",
    "     'employees': [199_000, 48_000, 225_000, 370_000],\n",
    "     'vehicles': [80, 3, 45, 30],\n",
    "    })"
   ]
  },
  {
   "cell_type": "code",
   "execution_count": 23,
   "id": "844639fc-05db-42a4-9987-325d102fc1ab",
   "metadata": {},
   "outputs": [
    {
     "name": "stdout",
     "output_type": "stream",
     "text": [
      "shape: (4, 5)\n",
      "┌────────┬─────────┬─────────┬───────────┬──────────┐\n",
      "│ name   ┆ country ┆ founded ┆ employees ┆ vehicles │\n",
      "│ ---    ┆ ---     ┆ ---     ┆ ---       ┆ ---      │\n",
      "│ str    ┆ str     ┆ i64     ┆ i64       ┆ i64      │\n",
      "╞════════╪═════════╪═════════╪═══════════╪══════════╡\n",
      "│ Ford   ┆ USA     ┆ 1903    ┆ 199000    ┆ 80       │\n",
      "│ Tesla  ┆ USA     ┆ 2003    ┆ 48000     ┆ 3        │\n",
      "│ Chevy  ┆ USA     ┆ 1911    ┆ 225000    ┆ 45       │\n",
      "│ Toyota ┆ Japan   ┆ 1937    ┆ 370000    ┆ 30       │\n",
      "└────────┴─────────┴─────────┴───────────┴──────────┘\n"
     ]
    }
   ],
   "source": [
    "print(manufacturer)"
   ]
  },
  {
   "cell_type": "code",
   "execution_count": 24,
   "id": "08fa0b81-4df4-4a0c-9a1c-92372658c82d",
   "metadata": {},
   "outputs": [
    {
     "ename": "ValueError",
     "evalue": "must specify `on` OR `left_on` and `right_on`",
     "output_type": "error",
     "traceback": [
      "\u001b[0;31m---------------------------------------------------------------------------\u001b[0m",
      "\u001b[0;31mValueError\u001b[0m                                Traceback (most recent call last)",
      "Cell \u001b[0;32mIn[24], line 1\u001b[0m\n\u001b[0;32m----> 1\u001b[0m \u001b[38;5;28mprint\u001b[39m(manufacturer\u001b[38;5;241m.\u001b[39mjoin(trucks, how\u001b[38;5;241m=\u001b[39m\u001b[38;5;124m'\u001b[39m\u001b[38;5;124mleft\u001b[39m\u001b[38;5;124m'\u001b[39m))\n",
      "File \u001b[0;32m~/anaconda3/envs/polars/lib/python3.11/site-packages/polars/dataframe/frame.py:7145\u001b[0m, in \u001b[0;36mDataFrame.join\u001b[0;34m(self, other, on, how, left_on, right_on, suffix, validate, join_nulls, coalesce)\u001b[0m\n\u001b[1;32m   7140\u001b[0m     msg \u001b[38;5;241m=\u001b[39m \u001b[38;5;124mf\u001b[39m\u001b[38;5;124m\"\u001b[39m\u001b[38;5;124mexpected `other` join table to be a DataFrame, got \u001b[39m\u001b[38;5;132;01m{\u001b[39;00m\u001b[38;5;28mtype\u001b[39m(other)\u001b[38;5;241m.\u001b[39m\u001b[38;5;18m__name__\u001b[39m\u001b[38;5;132;01m!r}\u001b[39;00m\u001b[38;5;124m\"\u001b[39m\n\u001b[1;32m   7141\u001b[0m     \u001b[38;5;28;01mraise\u001b[39;00m \u001b[38;5;167;01mTypeError\u001b[39;00m(msg)\n\u001b[1;32m   7143\u001b[0m \u001b[38;5;28;01mreturn\u001b[39;00m (\n\u001b[1;32m   7144\u001b[0m     \u001b[38;5;28mself\u001b[39m\u001b[38;5;241m.\u001b[39mlazy()\n\u001b[0;32m-> 7145\u001b[0m     \u001b[38;5;241m.\u001b[39mjoin(\n\u001b[1;32m   7146\u001b[0m         other\u001b[38;5;241m=\u001b[39mother\u001b[38;5;241m.\u001b[39mlazy(),\n\u001b[1;32m   7147\u001b[0m         left_on\u001b[38;5;241m=\u001b[39mleft_on,\n\u001b[1;32m   7148\u001b[0m         right_on\u001b[38;5;241m=\u001b[39mright_on,\n\u001b[1;32m   7149\u001b[0m         on\u001b[38;5;241m=\u001b[39mon,\n\u001b[1;32m   7150\u001b[0m         how\u001b[38;5;241m=\u001b[39mhow,\n\u001b[1;32m   7151\u001b[0m         suffix\u001b[38;5;241m=\u001b[39msuffix,\n\u001b[1;32m   7152\u001b[0m         validate\u001b[38;5;241m=\u001b[39mvalidate,\n\u001b[1;32m   7153\u001b[0m         join_nulls\u001b[38;5;241m=\u001b[39mjoin_nulls,\n\u001b[1;32m   7154\u001b[0m         coalesce\u001b[38;5;241m=\u001b[39mcoalesce,\n\u001b[1;32m   7155\u001b[0m     )\n\u001b[1;32m   7156\u001b[0m     \u001b[38;5;241m.\u001b[39mcollect(_eager\u001b[38;5;241m=\u001b[39m\u001b[38;5;28;01mTrue\u001b[39;00m)\n\u001b[1;32m   7157\u001b[0m )\n",
      "File \u001b[0;32m~/anaconda3/envs/polars/lib/python3.11/site-packages/polars/lazyframe/frame.py:4589\u001b[0m, in \u001b[0;36mLazyFrame.join\u001b[0;34m(self, other, on, how, left_on, right_on, suffix, validate, join_nulls, coalesce, allow_parallel, force_parallel)\u001b[0m\n\u001b[1;32m   4587\u001b[0m \u001b[38;5;28;01melse\u001b[39;00m:\n\u001b[1;32m   4588\u001b[0m     msg \u001b[38;5;241m=\u001b[39m \u001b[38;5;124m\"\u001b[39m\u001b[38;5;124mmust specify `on` OR `left_on` and `right_on`\u001b[39m\u001b[38;5;124m\"\u001b[39m\n\u001b[0;32m-> 4589\u001b[0m     \u001b[38;5;28;01mraise\u001b[39;00m \u001b[38;5;167;01mValueError\u001b[39;00m(msg)\n\u001b[1;32m   4591\u001b[0m \u001b[38;5;28;01mreturn\u001b[39;00m \u001b[38;5;28mself\u001b[39m\u001b[38;5;241m.\u001b[39m_from_pyldf(\n\u001b[1;32m   4592\u001b[0m     \u001b[38;5;28mself\u001b[39m\u001b[38;5;241m.\u001b[39m_ldf\u001b[38;5;241m.\u001b[39mjoin(\n\u001b[1;32m   4593\u001b[0m         other\u001b[38;5;241m.\u001b[39m_ldf,\n\u001b[0;32m   (...)\u001b[0m\n\u001b[1;32m   4603\u001b[0m     )\n\u001b[1;32m   4604\u001b[0m )\n",
      "\u001b[0;31mValueError\u001b[0m: must specify `on` OR `left_on` and `right_on`"
     ]
    }
   ],
   "source": [
    "print(manufacturer.join(trucks, how='left'))"
   ]
  },
  {
   "cell_type": "code",
   "execution_count": 25,
   "id": "506aa54e-fd66-4349-9176-393d8287b2d0",
   "metadata": {},
   "outputs": [
    {
     "name": "stdout",
     "output_type": "stream",
     "text": [
      "shape: (5, 8)\n",
      "┌────────┬─────────┬─────────┬───────────┬──────────┬────────────┬──────┬──────────┐\n",
      "│ name   ┆ country ┆ founded ┆ employees ┆ vehicles ┆ model      ┆ year ┆ city_mpg │\n",
      "│ ---    ┆ ---     ┆ ---     ┆ ---       ┆ ---      ┆ ---        ┆ ---  ┆ ---      │\n",
      "│ str    ┆ str     ┆ i64     ┆ i64       ┆ i64      ┆ str        ┆ i64  ┆ i64      │\n",
      "╞════════╪═════════╪═════════╪═══════════╪══════════╪════════════╪══════╪══════════╡\n",
      "│ Ford   ┆ USA     ┆ 1903    ┆ 199000    ┆ 80       ┆ F150       ┆ 2018 ┆ 19       │\n",
      "│ Ford   ┆ USA     ┆ 1903    ┆ 199000    ┆ 80       ┆ F250       ┆ 2017 ┆ 18       │\n",
      "│ Tesla  ┆ USA     ┆ 2003    ┆ 48000     ┆ 3        ┆ Cybertruck ┆ 2024 ┆ null     │\n",
      "│ Chevy  ┆ USA     ┆ 1911    ┆ 225000    ┆ 45       ┆ Silverado  ┆ 2019 ┆ 17       │\n",
      "│ Toyota ┆ Japan   ┆ 1937    ┆ 370000    ┆ 30       ┆ null       ┆ null ┆ null     │\n",
      "└────────┴─────────┴─────────┴───────────┴──────────┴────────────┴──────┴──────────┘\n"
     ]
    }
   ],
   "source": [
    "print(manufacturer.join(trucks, how='left', left_on='name', right_on='make'))"
   ]
  },
  {
   "cell_type": "markdown",
   "id": "9292f8bb-aeea-448d-b77e-7aa4b369f9d2",
   "metadata": {},
   "source": [
    "### Right Join"
   ]
  },
  {
   "cell_type": "code",
   "execution_count": 26,
   "id": "392d40a9-76cf-4d0f-b50d-fd05f304aed7",
   "metadata": {},
   "outputs": [
    {
     "name": "stdout",
     "output_type": "stream",
     "text": [
      "shape: (5, 8)\n",
      "┌────────┬────────────┬──────┬──────────┬─────────┬─────────┬───────────┬──────────┐\n",
      "│ make   ┆ model      ┆ year ┆ city_mpg ┆ country ┆ founded ┆ employees ┆ vehicles │\n",
      "│ ---    ┆ ---        ┆ ---  ┆ ---      ┆ ---     ┆ ---     ┆ ---       ┆ ---      │\n",
      "│ str    ┆ str        ┆ i64  ┆ i64      ┆ str     ┆ i64     ┆ i64       ┆ i64      │\n",
      "╞════════╪════════════╪══════╪══════════╪═════════╪═════════╪═══════════╪══════════╡\n",
      "│ Ford   ┆ F150       ┆ 2018 ┆ 19       ┆ USA     ┆ 1903    ┆ 199000    ┆ 80       │\n",
      "│ Tesla  ┆ Cybertruck ┆ 2024 ┆ null     ┆ USA     ┆ 2003    ┆ 48000     ┆ 3        │\n",
      "│ Chevy  ┆ Silverado  ┆ 2019 ┆ 17       ┆ USA     ┆ 1911    ┆ 225000    ┆ 45       │\n",
      "│ Custom ┆ HotRod     ┆ 1967 ┆ 12       ┆ null    ┆ null    ┆ null      ┆ null     │\n",
      "│ Ford   ┆ F250       ┆ 2017 ┆ 18       ┆ USA     ┆ 1903    ┆ 199000    ┆ 80       │\n",
      "└────────┴────────────┴──────┴──────────┴─────────┴─────────┴───────────┴──────────┘\n"
     ]
    }
   ],
   "source": [
    "print(trucks.join(manufacturer, how='left', right_on='name', left_on='make'))"
   ]
  },
  {
   "cell_type": "markdown",
   "id": "144dd42e-cfbc-4c44-b803-390f83f85075",
   "metadata": {},
   "source": [
    "### Inner Joins"
   ]
  },
  {
   "cell_type": "code",
   "execution_count": 27,
   "id": "f2868199-2875-4f5a-8095-97168bc56e44",
   "metadata": {},
   "outputs": [
    {
     "name": "stdout",
     "output_type": "stream",
     "text": [
      "shape: (4, 8)\n",
      "┌───────┬─────────┬─────────┬───────────┬──────────┬────────────┬──────┬──────────┐\n",
      "│ name  ┆ country ┆ founded ┆ employees ┆ vehicles ┆ model      ┆ year ┆ city_mpg │\n",
      "│ ---   ┆ ---     ┆ ---     ┆ ---       ┆ ---      ┆ ---        ┆ ---  ┆ ---      │\n",
      "│ str   ┆ str     ┆ i64     ┆ i64       ┆ i64      ┆ str        ┆ i64  ┆ i64      │\n",
      "╞═══════╪═════════╪═════════╪═══════════╪══════════╪════════════╪══════╪══════════╡\n",
      "│ Ford  ┆ USA     ┆ 1903    ┆ 199000    ┆ 80       ┆ F150       ┆ 2018 ┆ 19       │\n",
      "│ Tesla ┆ USA     ┆ 2003    ┆ 48000     ┆ 3        ┆ Cybertruck ┆ 2024 ┆ null     │\n",
      "│ Chevy ┆ USA     ┆ 1911    ┆ 225000    ┆ 45       ┆ Silverado  ┆ 2019 ┆ 17       │\n",
      "│ Ford  ┆ USA     ┆ 1903    ┆ 199000    ┆ 80       ┆ F250       ┆ 2017 ┆ 18       │\n",
      "└───────┴─────────┴─────────┴───────────┴──────────┴────────────┴──────┴──────────┘\n"
     ]
    }
   ],
   "source": [
    "print(manufacturer.join(trucks, left_on='name', right_on='make'))"
   ]
  },
  {
   "cell_type": "markdown",
   "id": "86355f68-452a-4fbb-aeb4-badb8353c646",
   "metadata": {},
   "source": [
    "### Outer Joins"
   ]
  },
  {
   "cell_type": "code",
   "execution_count": 28,
   "id": "d6c70b40-e60a-47d5-94f4-a59d20fc9769",
   "metadata": {},
   "outputs": [
    {
     "name": "stdout",
     "output_type": "stream",
     "text": [
      "shape: (6, 9)\n",
      "┌────────┬─────────┬─────────┬───────────┬───┬────────┬────────────┬──────┬──────────┐\n",
      "│ name   ┆ country ┆ founded ┆ employees ┆ … ┆ make   ┆ model      ┆ year ┆ city_mpg │\n",
      "│ ---    ┆ ---     ┆ ---     ┆ ---       ┆   ┆ ---    ┆ ---        ┆ ---  ┆ ---      │\n",
      "│ str    ┆ str     ┆ i64     ┆ i64       ┆   ┆ str    ┆ str        ┆ i64  ┆ i64      │\n",
      "╞════════╪═════════╪═════════╪═══════════╪═══╪════════╪════════════╪══════╪══════════╡\n",
      "│ Ford   ┆ USA     ┆ 1903    ┆ 199000    ┆ … ┆ Ford   ┆ F150       ┆ 2018 ┆ 19       │\n",
      "│ Tesla  ┆ USA     ┆ 2003    ┆ 48000     ┆ … ┆ Tesla  ┆ Cybertruck ┆ 2024 ┆ null     │\n",
      "│ Chevy  ┆ USA     ┆ 1911    ┆ 225000    ┆ … ┆ Chevy  ┆ Silverado  ┆ 2019 ┆ 17       │\n",
      "│ null   ┆ null    ┆ null    ┆ null      ┆ … ┆ Custom ┆ HotRod     ┆ 1967 ┆ 12       │\n",
      "│ Ford   ┆ USA     ┆ 1903    ┆ 199000    ┆ … ┆ Ford   ┆ F250       ┆ 2017 ┆ 18       │\n",
      "│ Toyota ┆ Japan   ┆ 1937    ┆ 370000    ┆ … ┆ null   ┆ null       ┆ null ┆ null     │\n",
      "└────────┴─────────┴─────────┴───────────┴───┴────────┴────────────┴──────┴──────────┘\n"
     ]
    }
   ],
   "source": [
    "# In how, 'outer' parameter has been replaced by 'full'\n",
    "print(manufacturer.join(trucks, how='full', left_on='name', right_on='make'))"
   ]
  },
  {
   "cell_type": "markdown",
   "id": "1a39f9c8-11b9-48fd-8bfa-aae0adb8de0b",
   "metadata": {},
   "source": [
    "### Semi Joins"
   ]
  },
  {
   "cell_type": "code",
   "execution_count": 29,
   "id": "83714555-9c3c-45b0-ad9d-2b6e65ddc90f",
   "metadata": {},
   "outputs": [
    {
     "name": "stdout",
     "output_type": "stream",
     "text": [
      "shape: (3, 5)\n",
      "┌───────┬─────────┬─────────┬───────────┬──────────┐\n",
      "│ name  ┆ country ┆ founded ┆ employees ┆ vehicles │\n",
      "│ ---   ┆ ---     ┆ ---     ┆ ---       ┆ ---      │\n",
      "│ str   ┆ str     ┆ i64     ┆ i64       ┆ i64      │\n",
      "╞═══════╪═════════╪═════════╪═══════════╪══════════╡\n",
      "│ Ford  ┆ USA     ┆ 1903    ┆ 199000    ┆ 80       │\n",
      "│ Tesla ┆ USA     ┆ 2003    ┆ 48000     ┆ 3        │\n",
      "│ Chevy ┆ USA     ┆ 1911    ┆ 225000    ┆ 45       │\n",
      "└───────┴─────────┴─────────┴───────────┴──────────┘\n"
     ]
    }
   ],
   "source": [
    "print(manufacturer.join(trucks, how='semi', left_on='name', right_on='make'))"
   ]
  },
  {
   "cell_type": "markdown",
   "id": "514840b9-e3ce-48cb-83c9-31c347ca8f50",
   "metadata": {},
   "source": [
    "### Cross Joins"
   ]
  },
  {
   "cell_type": "code",
   "execution_count": 30,
   "id": "b5e4d654-4711-41df-ba8b-50d1c3d0cd0e",
   "metadata": {},
   "outputs": [],
   "source": [
    "sizes = pl.DataFrame({'size': ['small', 'medium', 'large'],})\n",
    "\n",
    "colors = pl.DataFrame({'color': ['red', 'green', ],})"
   ]
  },
  {
   "cell_type": "code",
   "execution_count": 31,
   "id": "df8bb7f6-63c0-4a87-8555-a0827bcf8879",
   "metadata": {},
   "outputs": [
    {
     "name": "stdout",
     "output_type": "stream",
     "text": [
      "shape: (6, 2)\n",
      "┌────────┬───────┐\n",
      "│ size   ┆ color │\n",
      "│ ---    ┆ ---   │\n",
      "│ str    ┆ str   │\n",
      "╞════════╪═══════╡\n",
      "│ small  ┆ red   │\n",
      "│ small  ┆ green │\n",
      "│ medium ┆ red   │\n",
      "│ medium ┆ green │\n",
      "│ large  ┆ red   │\n",
      "│ large  ┆ green │\n",
      "└────────┴───────┘\n"
     ]
    }
   ],
   "source": [
    "print(sizes.join(colors, how='cross'))"
   ]
  },
  {
   "cell_type": "markdown",
   "id": "a70dcca1-092a-4e37-8a49-780b2f2bd9c6",
   "metadata": {},
   "source": [
    "### Anti Joins"
   ]
  },
  {
   "cell_type": "code",
   "execution_count": 32,
   "id": "982701c8-570f-47f5-a242-6a076529131f",
   "metadata": {},
   "outputs": [
    {
     "name": "stdout",
     "output_type": "stream",
     "text": [
      "shape: (1, 5)\n",
      "┌────────┬─────────┬─────────┬───────────┬──────────┐\n",
      "│ name   ┆ country ┆ founded ┆ employees ┆ vehicles │\n",
      "│ ---    ┆ ---     ┆ ---     ┆ ---       ┆ ---      │\n",
      "│ str    ┆ str     ┆ i64     ┆ i64       ┆ i64      │\n",
      "╞════════╪═════════╪═════════╪═══════════╪══════════╡\n",
      "│ Toyota ┆ Japan   ┆ 1937    ┆ 370000    ┆ 30       │\n",
      "└────────┴─────────┴─────────┴───────────┴──────────┘\n"
     ]
    }
   ],
   "source": [
    "print(manufacturer.join(trucks, how='anti', left_on='name', right_on='make'))"
   ]
  },
  {
   "cell_type": "code",
   "execution_count": 33,
   "id": "e240c1c2-0b79-4eee-bfb6-2358f728817a",
   "metadata": {},
   "outputs": [
    {
     "name": "stdout",
     "output_type": "stream",
     "text": [
      "shape: (1, 4)\n",
      "┌────────┬────────┬──────┬──────────┐\n",
      "│ make   ┆ model  ┆ year ┆ city_mpg │\n",
      "│ ---    ┆ ---    ┆ ---  ┆ ---      │\n",
      "│ str    ┆ str    ┆ i64  ┆ i64      │\n",
      "╞════════╪════════╪══════╪══════════╡\n",
      "│ Custom ┆ HotRod ┆ 1967 ┆ 12       │\n",
      "└────────┴────────┴──────┴──────────┘\n"
     ]
    }
   ],
   "source": [
    "print(trucks.join(manufacturer, how='anti', right_on='name', left_on='make'))"
   ]
  },
  {
   "cell_type": "markdown",
   "id": "3199a79d-928d-4729-95e6-6ed3b79d3419",
   "metadata": {},
   "source": [
    "### Join Validation"
   ]
  },
  {
   "cell_type": "code",
   "execution_count": 34,
   "id": "4a341cbc-7b31-46b2-8daa-2c247182a0f7",
   "metadata": {},
   "outputs": [
    {
     "ename": "ComputeError",
     "evalue": "join keys did not fulfill 1:1 validation",
     "output_type": "error",
     "traceback": [
      "\u001b[0;31m---------------------------------------------------------------------------\u001b[0m",
      "\u001b[0;31mComputeError\u001b[0m                              Traceback (most recent call last)",
      "Cell \u001b[0;32mIn[34], line 1\u001b[0m\n\u001b[0;32m----> 1\u001b[0m \u001b[38;5;28mprint\u001b[39m(manufacturer\u001b[38;5;241m.\u001b[39mjoin(trucks, left_on\u001b[38;5;241m=\u001b[39m\u001b[38;5;124m'\u001b[39m\u001b[38;5;124mname\u001b[39m\u001b[38;5;124m'\u001b[39m, right_on\u001b[38;5;241m=\u001b[39m\u001b[38;5;124m'\u001b[39m\u001b[38;5;124mmake\u001b[39m\u001b[38;5;124m'\u001b[39m, validate\u001b[38;5;241m=\u001b[39m\u001b[38;5;124m'\u001b[39m\u001b[38;5;124m1:1\u001b[39m\u001b[38;5;124m'\u001b[39m))\n",
      "File \u001b[0;32m~/anaconda3/envs/polars/lib/python3.11/site-packages/polars/dataframe/frame.py:7156\u001b[0m, in \u001b[0;36mDataFrame.join\u001b[0;34m(self, other, on, how, left_on, right_on, suffix, validate, join_nulls, coalesce)\u001b[0m\n\u001b[1;32m   7140\u001b[0m     msg \u001b[38;5;241m=\u001b[39m \u001b[38;5;124mf\u001b[39m\u001b[38;5;124m\"\u001b[39m\u001b[38;5;124mexpected `other` join table to be a DataFrame, got \u001b[39m\u001b[38;5;132;01m{\u001b[39;00m\u001b[38;5;28mtype\u001b[39m(other)\u001b[38;5;241m.\u001b[39m\u001b[38;5;18m__name__\u001b[39m\u001b[38;5;132;01m!r}\u001b[39;00m\u001b[38;5;124m\"\u001b[39m\n\u001b[1;32m   7141\u001b[0m     \u001b[38;5;28;01mraise\u001b[39;00m \u001b[38;5;167;01mTypeError\u001b[39;00m(msg)\n\u001b[1;32m   7143\u001b[0m \u001b[38;5;28;01mreturn\u001b[39;00m (\n\u001b[1;32m   7144\u001b[0m     \u001b[38;5;28mself\u001b[39m\u001b[38;5;241m.\u001b[39mlazy()\n\u001b[1;32m   7145\u001b[0m     \u001b[38;5;241m.\u001b[39mjoin(\n\u001b[1;32m   7146\u001b[0m         other\u001b[38;5;241m=\u001b[39mother\u001b[38;5;241m.\u001b[39mlazy(),\n\u001b[1;32m   7147\u001b[0m         left_on\u001b[38;5;241m=\u001b[39mleft_on,\n\u001b[1;32m   7148\u001b[0m         right_on\u001b[38;5;241m=\u001b[39mright_on,\n\u001b[1;32m   7149\u001b[0m         on\u001b[38;5;241m=\u001b[39mon,\n\u001b[1;32m   7150\u001b[0m         how\u001b[38;5;241m=\u001b[39mhow,\n\u001b[1;32m   7151\u001b[0m         suffix\u001b[38;5;241m=\u001b[39msuffix,\n\u001b[1;32m   7152\u001b[0m         validate\u001b[38;5;241m=\u001b[39mvalidate,\n\u001b[1;32m   7153\u001b[0m         join_nulls\u001b[38;5;241m=\u001b[39mjoin_nulls,\n\u001b[1;32m   7154\u001b[0m         coalesce\u001b[38;5;241m=\u001b[39mcoalesce,\n\u001b[1;32m   7155\u001b[0m     )\n\u001b[0;32m-> 7156\u001b[0m     \u001b[38;5;241m.\u001b[39mcollect(_eager\u001b[38;5;241m=\u001b[39m\u001b[38;5;28;01mTrue\u001b[39;00m)\n\u001b[1;32m   7157\u001b[0m )\n",
      "File \u001b[0;32m~/anaconda3/envs/polars/lib/python3.11/site-packages/polars/lazyframe/frame.py:2029\u001b[0m, in \u001b[0;36mLazyFrame.collect\u001b[0;34m(self, type_coercion, predicate_pushdown, projection_pushdown, simplify_expression, slice_pushdown, comm_subplan_elim, comm_subexpr_elim, cluster_with_columns, collapse_joins, no_optimization, streaming, engine, background, _eager, **_kwargs)\u001b[0m\n\u001b[1;32m   2027\u001b[0m \u001b[38;5;66;03m# Only for testing purposes\u001b[39;00m\n\u001b[1;32m   2028\u001b[0m callback \u001b[38;5;241m=\u001b[39m _kwargs\u001b[38;5;241m.\u001b[39mget(\u001b[38;5;124m\"\u001b[39m\u001b[38;5;124mpost_opt_callback\u001b[39m\u001b[38;5;124m\"\u001b[39m, callback)\n\u001b[0;32m-> 2029\u001b[0m \u001b[38;5;28;01mreturn\u001b[39;00m wrap_df(ldf\u001b[38;5;241m.\u001b[39mcollect(callback))\n",
      "\u001b[0;31mComputeError\u001b[0m: join keys did not fulfill 1:1 validation"
     ]
    }
   ],
   "source": [
    "print(manufacturer.join(trucks, left_on='name', right_on='make', validate='1:1'))"
   ]
  },
  {
   "cell_type": "code",
   "execution_count": 35,
   "id": "1ac70a05-a0db-446f-aac2-1433943026bf",
   "metadata": {},
   "outputs": [
    {
     "ename": "ComputeError",
     "evalue": "join keys did not fulfill m:1 validation",
     "output_type": "error",
     "traceback": [
      "\u001b[0;31m---------------------------------------------------------------------------\u001b[0m",
      "\u001b[0;31mComputeError\u001b[0m                              Traceback (most recent call last)",
      "Cell \u001b[0;32mIn[35], line 1\u001b[0m\n\u001b[0;32m----> 1\u001b[0m \u001b[38;5;28mprint\u001b[39m(manufacturer\u001b[38;5;241m.\u001b[39mjoin(trucks, left_on\u001b[38;5;241m=\u001b[39m\u001b[38;5;124m'\u001b[39m\u001b[38;5;124mname\u001b[39m\u001b[38;5;124m'\u001b[39m, right_on\u001b[38;5;241m=\u001b[39m\u001b[38;5;124m'\u001b[39m\u001b[38;5;124mmake\u001b[39m\u001b[38;5;124m'\u001b[39m, validate\u001b[38;5;241m=\u001b[39m\u001b[38;5;124m'\u001b[39m\u001b[38;5;124mm:1\u001b[39m\u001b[38;5;124m'\u001b[39m))\n",
      "File \u001b[0;32m~/anaconda3/envs/polars/lib/python3.11/site-packages/polars/dataframe/frame.py:7156\u001b[0m, in \u001b[0;36mDataFrame.join\u001b[0;34m(self, other, on, how, left_on, right_on, suffix, validate, join_nulls, coalesce)\u001b[0m\n\u001b[1;32m   7140\u001b[0m     msg \u001b[38;5;241m=\u001b[39m \u001b[38;5;124mf\u001b[39m\u001b[38;5;124m\"\u001b[39m\u001b[38;5;124mexpected `other` join table to be a DataFrame, got \u001b[39m\u001b[38;5;132;01m{\u001b[39;00m\u001b[38;5;28mtype\u001b[39m(other)\u001b[38;5;241m.\u001b[39m\u001b[38;5;18m__name__\u001b[39m\u001b[38;5;132;01m!r}\u001b[39;00m\u001b[38;5;124m\"\u001b[39m\n\u001b[1;32m   7141\u001b[0m     \u001b[38;5;28;01mraise\u001b[39;00m \u001b[38;5;167;01mTypeError\u001b[39;00m(msg)\n\u001b[1;32m   7143\u001b[0m \u001b[38;5;28;01mreturn\u001b[39;00m (\n\u001b[1;32m   7144\u001b[0m     \u001b[38;5;28mself\u001b[39m\u001b[38;5;241m.\u001b[39mlazy()\n\u001b[1;32m   7145\u001b[0m     \u001b[38;5;241m.\u001b[39mjoin(\n\u001b[1;32m   7146\u001b[0m         other\u001b[38;5;241m=\u001b[39mother\u001b[38;5;241m.\u001b[39mlazy(),\n\u001b[1;32m   7147\u001b[0m         left_on\u001b[38;5;241m=\u001b[39mleft_on,\n\u001b[1;32m   7148\u001b[0m         right_on\u001b[38;5;241m=\u001b[39mright_on,\n\u001b[1;32m   7149\u001b[0m         on\u001b[38;5;241m=\u001b[39mon,\n\u001b[1;32m   7150\u001b[0m         how\u001b[38;5;241m=\u001b[39mhow,\n\u001b[1;32m   7151\u001b[0m         suffix\u001b[38;5;241m=\u001b[39msuffix,\n\u001b[1;32m   7152\u001b[0m         validate\u001b[38;5;241m=\u001b[39mvalidate,\n\u001b[1;32m   7153\u001b[0m         join_nulls\u001b[38;5;241m=\u001b[39mjoin_nulls,\n\u001b[1;32m   7154\u001b[0m         coalesce\u001b[38;5;241m=\u001b[39mcoalesce,\n\u001b[1;32m   7155\u001b[0m     )\n\u001b[0;32m-> 7156\u001b[0m     \u001b[38;5;241m.\u001b[39mcollect(_eager\u001b[38;5;241m=\u001b[39m\u001b[38;5;28;01mTrue\u001b[39;00m)\n\u001b[1;32m   7157\u001b[0m )\n",
      "File \u001b[0;32m~/anaconda3/envs/polars/lib/python3.11/site-packages/polars/lazyframe/frame.py:2029\u001b[0m, in \u001b[0;36mLazyFrame.collect\u001b[0;34m(self, type_coercion, predicate_pushdown, projection_pushdown, simplify_expression, slice_pushdown, comm_subplan_elim, comm_subexpr_elim, cluster_with_columns, collapse_joins, no_optimization, streaming, engine, background, _eager, **_kwargs)\u001b[0m\n\u001b[1;32m   2027\u001b[0m \u001b[38;5;66;03m# Only for testing purposes\u001b[39;00m\n\u001b[1;32m   2028\u001b[0m callback \u001b[38;5;241m=\u001b[39m _kwargs\u001b[38;5;241m.\u001b[39mget(\u001b[38;5;124m\"\u001b[39m\u001b[38;5;124mpost_opt_callback\u001b[39m\u001b[38;5;124m\"\u001b[39m, callback)\n\u001b[0;32m-> 2029\u001b[0m \u001b[38;5;28;01mreturn\u001b[39;00m wrap_df(ldf\u001b[38;5;241m.\u001b[39mcollect(callback))\n",
      "\u001b[0;31mComputeError\u001b[0m: join keys did not fulfill m:1 validation"
     ]
    }
   ],
   "source": [
    "print(manufacturer.join(trucks, left_on='name', right_on='make', validate='m:1'))"
   ]
  },
  {
   "cell_type": "code",
   "execution_count": 36,
   "id": "b4faaf87-898c-43d5-9756-9ed025acfa0e",
   "metadata": {},
   "outputs": [
    {
     "name": "stdout",
     "output_type": "stream",
     "text": [
      "shape: (4, 8)\n",
      "┌───────┬─────────┬─────────┬───────────┬──────────┬────────────┬──────┬──────────┐\n",
      "│ name  ┆ country ┆ founded ┆ employees ┆ vehicles ┆ model      ┆ year ┆ city_mpg │\n",
      "│ ---   ┆ ---     ┆ ---     ┆ ---       ┆ ---      ┆ ---        ┆ ---  ┆ ---      │\n",
      "│ str   ┆ str     ┆ i64     ┆ i64       ┆ i64      ┆ str        ┆ i64  ┆ i64      │\n",
      "╞═══════╪═════════╪═════════╪═══════════╪══════════╪════════════╪══════╪══════════╡\n",
      "│ Ford  ┆ USA     ┆ 1903    ┆ 199000    ┆ 80       ┆ F150       ┆ 2018 ┆ 19       │\n",
      "│ Tesla ┆ USA     ┆ 2003    ┆ 48000     ┆ 3        ┆ Cybertruck ┆ 2024 ┆ null     │\n",
      "│ Chevy ┆ USA     ┆ 1911    ┆ 225000    ┆ 45       ┆ Silverado  ┆ 2019 ┆ 17       │\n",
      "│ Ford  ┆ USA     ┆ 1903    ┆ 199000    ┆ 80       ┆ F250       ┆ 2017 ┆ 18       │\n",
      "└───────┴─────────┴─────────┴───────────┴──────────┴────────────┴──────┴──────────┘\n"
     ]
    }
   ],
   "source": [
    "print(manufacturer.join(trucks, left_on='name', right_on='make', validate='1:m'))"
   ]
  },
  {
   "cell_type": "code",
   "execution_count": 37,
   "id": "9e17624c-4bb3-4d6e-b270-c93218f7cfdf",
   "metadata": {},
   "outputs": [
    {
     "name": "stdout",
     "output_type": "stream",
     "text": [
      "shape: (2, 4)\n",
      "┌──────┬───────┬──────┬──────────┐\n",
      "│ make ┆ model ┆ year ┆ city_mpg │\n",
      "│ ---  ┆ ---   ┆ ---  ┆ ---      │\n",
      "│ str  ┆ str   ┆ i64  ┆ i64      │\n",
      "╞══════╪═══════╪══════╪══════════╡\n",
      "│ Ford ┆ F150  ┆ 2018 ┆ 19       │\n",
      "│ Ford ┆ F250  ┆ 2017 ┆ 18       │\n",
      "└──────┴───────┴──────┴──────────┘\n"
     ]
    }
   ],
   "source": [
    "print(trucks\n",
    "      .filter(pl.col('make').is_duplicated())\n",
    "     )"
   ]
  },
  {
   "cell_type": "markdown",
   "id": "e3f99f18-9008-4387-9615-b6b03d75ec3a",
   "metadata": {},
   "source": [
    "### Speeding Up Joins with Sorting"
   ]
  },
  {
   "cell_type": "code",
   "execution_count": 38,
   "id": "693cd416-4041-4d5b-af66-b21eabdeaefd",
   "metadata": {},
   "outputs": [],
   "source": [
    "# Retrieving Data from:\n",
    "url = 'https://data.openei.org/files/907/'\\\n",
    "   '2016cityandcountylightdutyvehicleinventory.xlsb'"
   ]
  },
  {
   "cell_type": "code",
   "execution_count": 39,
   "id": "15f1f330-53b5-4299-8a8c-7a9b22caf1e1",
   "metadata": {},
   "outputs": [],
   "source": [
    "inv_raw = pl.read_excel(url, engine='calamine', \n",
    "    read_options=dict(header_row=1), sheet_name='City')"
   ]
  },
  {
   "cell_type": "code",
   "execution_count": 40,
   "id": "1aa917e2-c299-4ecf-a42d-1b8af719197c",
   "metadata": {},
   "outputs": [
    {
     "name": "stdout",
     "output_type": "stream",
     "text": [
      "shape: (307_828, 9)\n",
      "┌────────────┬───────────┬─────────┬───────────┬───┬───────────────┬─────────┬──────────┬──────────┐\n",
      "│ state_abbr ┆ gisjoin   ┆ city_id ┆ city_name ┆ … ┆ fuel_type     ┆ class   ┆ 2000     ┆ 2001     │\n",
      "│ ---        ┆ ---       ┆ ---     ┆ ---       ┆   ┆ ---           ┆ ---     ┆ ---      ┆ ---      │\n",
      "│ str        ┆ str       ┆ i64     ┆ str       ┆   ┆ str           ┆ str     ┆ f64      ┆ f64      │\n",
      "╞════════════╪═══════════╪═════════╪═══════════╪═══╪═══════════════╪═════════╪══════════╪══════════╡\n",
      "│ AL         ┆ G01000124 ┆ 100124  ┆ Abbeville ┆ … ┆ Other/Unknown ┆ Car     ┆ null     ┆ 0.000135 │\n",
      "│ AL         ┆ G01000124 ┆ 100124  ┆ Abbeville ┆ … ┆ Diesel        ┆ Car     ┆ 0.00027  ┆ null     │\n",
      "│            ┆           ┆         ┆           ┆   ┆ vehicle       ┆         ┆          ┆          │\n",
      "│ AL         ┆ G01000124 ┆ 100124  ┆ Abbeville ┆ … ┆ Diesel        ┆ Truck   ┆ 0.001622 ┆ 0.001893 │\n",
      "│            ┆           ┆         ┆           ┆   ┆ vehicle       ┆         ┆          ┆          │\n",
      "│ AL         ┆ G01000124 ┆ 100124  ┆ Abbeville ┆ … ┆ Diesel        ┆ Unknown ┆ null     ┆ null     │\n",
      "│            ┆           ┆         ┆           ┆   ┆ vehicle       ┆         ┆          ┆          │\n",
      "│ AL         ┆ G01000124 ┆ 100124  ┆ Abbeville ┆ … ┆ Electric      ┆ Car     ┆ null     ┆ null     │\n",
      "│            ┆           ┆         ┆           ┆   ┆ vehicle       ┆         ┆          ┆          │\n",
      "│ …          ┆ …         ┆ …       ┆ …         ┆ … ┆ …             ┆ …       ┆ …        ┆ …        │\n",
      "│ WY         ┆ G56086665 ┆ 5686665 ┆ Yoder     ┆ … ┆ Gasoline      ┆ Car     ┆ 0.022034 ┆ 0.016949 │\n",
      "│            ┆           ┆         ┆           ┆   ┆ vehicle       ┆         ┆          ┆          │\n",
      "│ WY         ┆ G56086665 ┆ 5686665 ┆ Yoder     ┆ … ┆ Gasoline      ┆ Truck   ┆ 0.022034 ┆ 0.013559 │\n",
      "│            ┆           ┆         ┆           ┆   ┆ vehicle       ┆         ┆          ┆          │\n",
      "│ WY         ┆ G56086665 ┆ 5686665 ┆ Yoder     ┆ … ┆ Gasoline      ┆ Unknown ┆ null     ┆ null     │\n",
      "│            ┆           ┆         ┆           ┆   ┆ vehicle       ┆         ┆          ┆          │\n",
      "│ WY         ┆ G56086665 ┆ 5686665 ┆ Yoder     ┆ … ┆ Hybrid        ┆ Car     ┆ null     ┆ null     │\n",
      "│            ┆           ┆         ┆           ┆   ┆ electric      ┆         ┆          ┆          │\n",
      "│            ┆           ┆         ┆           ┆   ┆ vehicle       ┆         ┆          ┆          │\n",
      "│ WY         ┆ G56086665 ┆ 5686665 ┆ Yoder     ┆ … ┆ Other/Unknown ┆ Unknown ┆ null     ┆ null     │\n",
      "└────────────┴───────────┴─────────┴───────────┴───┴───────────────┴─────────┴──────────┴──────────┘\n"
     ]
    }
   ],
   "source": [
    "print(inv_raw\n",
    "      .select(['state_abbr', 'gisjoin', 'city_id', 'city_name','fuel_type_org', 'fuel_type', 'class', '2000', '2001'])\n",
    "     )"
   ]
  },
  {
   "cell_type": "code",
   "execution_count": 41,
   "id": "451a9a87-0ddc-41db-bc5a-e2bc49e2974a",
   "metadata": {},
   "outputs": [],
   "source": [
    "years = [str(i) for i in range(2000, 2019)]"
   ]
  },
  {
   "cell_type": "code",
   "execution_count": 42,
   "id": "72ea73a5-f9e3-4f78-9054-c5877697562e",
   "metadata": {},
   "outputs": [],
   "source": [
    "years = [str(i) for i in range(2000, 2019)]"
   ]
  },
  {
   "cell_type": "code",
   "execution_count": 43,
   "id": "0e75fc5b-6be6-4e59-afb3-e33b64bedf9f",
   "metadata": {},
   "outputs": [],
   "source": [
    "inv_yr = (inv_raw\n",
    "    .with_columns(\n",
    "        [pl.when(pl.col(year).cast(pl.Utf8) == \"\")\n",
    "         .then(0)\n",
    "         .otherwise(pl.col(year))\n",
    "         .cast(pl.Float32)\n",
    "         .alias(year)\n",
    "         for year in years]) \n",
    "    .unpivot(\n",
    "        index=['state_abbr', 'gisjoin', 'city_id', 'city_name',\n",
    "               'fuel_type_org', 'fuel_type', 'class'],\n",
    "        on=years\n",
    "    )\n",
    "    .rename({'variable': 'year', 'value': 'percent'})\n",
    "    .with_columns(\n",
    "        percent=pl.col('percent').fill_null(0)\n",
    "    )\n",
    "    .select(\n",
    "        'state_abbr', 'city_name', 'fuel_type_org', 'fuel_type', 'class', \n",
    "        year=pl.col('year').cast(pl.Int16),\n",
    "        percent=(pl.col('percent') * 100)\n",
    "    )\n",
    ")"
   ]
  },
  {
   "cell_type": "code",
   "execution_count": 44,
   "id": "a97b2b7a-9eb5-4fc9-a464-b2372fccb4dd",
   "metadata": {},
   "outputs": [
    {
     "name": "stdout",
     "output_type": "stream",
     "text": [
      "shape: (5_848_732, 7)\n",
      "┌────────────┬───────────┬──────────────────┬──────────────────────────┬─────────┬──────┬──────────┐\n",
      "│ state_abbr ┆ city_name ┆ fuel_type_org    ┆ fuel_type                ┆ class   ┆ year ┆ percent  │\n",
      "│ ---        ┆ ---       ┆ ---              ┆ ---                      ┆ ---     ┆ ---  ┆ ---      │\n",
      "│ str        ┆ str       ┆ str              ┆ str                      ┆ str     ┆ i16  ┆ f32      │\n",
      "╞════════════╪═══════════╪══════════════════╪══════════════════════════╪═════════╪══════╪══════════╡\n",
      "│ AL         ┆ Abbeville ┆ BI               ┆ Other/Unknown            ┆ Car     ┆ 2000 ┆ 0.0      │\n",
      "│ AL         ┆ Abbeville ┆ DIES             ┆ Diesel vehicle           ┆ Car     ┆ 2000 ┆ 0.027042 │\n",
      "│ AL         ┆ Abbeville ┆ DIES             ┆ Diesel vehicle           ┆ Truck   ┆ 2000 ┆ 0.16225  │\n",
      "│ AL         ┆ Abbeville ┆ DIES             ┆ Diesel vehicle           ┆ Unknown ┆ 2000 ┆ 0.0      │\n",
      "│ AL         ┆ Abbeville ┆ ELECTRIC VEHICLE ┆ Electric vehicle         ┆ Car     ┆ 2000 ┆ 0.0      │\n",
      "│ …          ┆ …         ┆ …                ┆ …                        ┆ …       ┆ …    ┆ …        │\n",
      "│ WY         ┆ Yoder     ┆ GAS              ┆ Gasoline vehicle         ┆ Car     ┆ 2018 ┆ 0.0      │\n",
      "│ WY         ┆ Yoder     ┆ GAS              ┆ Gasoline vehicle         ┆ Truck   ┆ 2018 ┆ 0.0      │\n",
      "│ WY         ┆ Yoder     ┆ GAS              ┆ Gasoline vehicle         ┆ Unknown ┆ 2018 ┆ 0.0      │\n",
      "│ WY         ┆ Yoder     ┆ HYBRID ELECTRIC  ┆ Hybrid electric vehicle  ┆ Car     ┆ 2018 ┆ 0.0      │\n",
      "│            ┆           ┆ VEHICLE          ┆                          ┆         ┆      ┆          │\n",
      "│ WY         ┆ Yoder     ┆ UNK              ┆ Other/Unknown            ┆ Unknown ┆ 2018 ┆ 0.0      │\n",
      "└────────────┴───────────┴──────────────────┴──────────────────────────┴─────────┴──────┴──────────┘\n"
     ]
    }
   ],
   "source": [
    "print(inv_yr)"
   ]
  },
  {
   "cell_type": "code",
   "execution_count": 45,
   "id": "d5102423-1ea5-4c07-b9a2-28eb872be3a9",
   "metadata": {},
   "outputs": [],
   "source": [
    "# make simple cat\n",
    "gas_mapping = {\n",
    "    'Diesel': 'Diesel vehicle',\n",
    "    'Regular': 'Gasoline vehicle',\n",
    "    'Premium': 'Gasoline vehicle',\n",
    "    'Midgrade': 'Gasoline vehicle',\n",
    "    'Gasoline or E85': 'Flex fuel vehicle',\n",
    "    'Premium or E85': 'Flex fuel vehicle',\n",
    "    'Premium Gas or Electricity': 'Plug-in hybrid electric vehicle',\n",
    "    'Regular Gas or Electricity': 'Plug-in hybrid electric vehicle',\n",
    "    'Premium and Electricity': 'Hybrid electric vehicle',\n",
    "    'Regular Gas and Electricity': 'Hybrid electric vehicle',\n",
    "    'Electricity': 'Electric vehicle',\n",
    "    'Gasoline or natural gas': 'Other/Unknown',\n",
    "    'Gasoline or propane': 'Other/Unknown',\n",
    "    'CNG': 'Other/Unknown',\n",
    "\n",
    "}\n",
    "agg_yr = (autos\n",
    " .with_columns(VClass=pl.col('VClass').cast(pl.String))\n",
    " .with_columns(\n",
    "    simple_class=pl.when(pl.col('VClass')\n",
    "                         .str.to_lowercase().str.contains('car'))\n",
    "                        .then(pl.lit('Car'))\n",
    "                   .when(pl.col('VClass')\n",
    "                         .str.to_lowercase().str.contains('truck'))\n",
    "                        .then(pl.lit('Truck'))\n",
    "                   .otherwise(pl.lit('Other')),\n",
    "    fuel_type=pl.col('fuelType').cast(pl.String)\n",
    "                .replace_strict(gas_mapping, default='Missing')) #replace_strict fixed\n",
    " .group_by(['year', 'simple_class', 'fuel_type'])\n",
    " .agg(pl.col('city08').mean().alias('mean_mpg'))                                    \n",
    " )"
   ]
  },
  {
   "cell_type": "code",
   "execution_count": 46,
   "id": "d18087bd-83da-48b8-9519-4778bcfe0d82",
   "metadata": {},
   "outputs": [
    {
     "name": "stdout",
     "output_type": "stream",
     "text": [
      "shape: (447, 4)\n",
      "┌──────┬──────────────┬─────────────────────────────────┬───────────┐\n",
      "│ year ┆ simple_class ┆ fuel_type                       ┆ mean_mpg  │\n",
      "│ ---  ┆ ---          ┆ ---                             ┆ ---       │\n",
      "│ i16  ┆ str          ┆ str                             ┆ f64       │\n",
      "╞══════╪══════════════╪═════════════════════════════════╪═══════════╡\n",
      "│ 2019 ┆ Car          ┆ Gasoline vehicle                ┆ 22.237232 │\n",
      "│ 2023 ┆ Truck        ┆ Flex fuel vehicle               ┆ 16.4      │\n",
      "│ 2022 ┆ Car          ┆ Hybrid electric vehicle         ┆ 27.294118 │\n",
      "│ 1986 ┆ Other        ┆ Gasoline vehicle                ┆ 16.353919 │\n",
      "│ 2019 ┆ Car          ┆ Plug-in hybrid electric vehicl… ┆ 24.2      │\n",
      "│ …    ┆ …            ┆ …                               ┆ …         │\n",
      "│ 2002 ┆ Other        ┆ Other/Unknown                   ┆ 12.0      │\n",
      "│ 1996 ┆ Car          ┆ Gasoline vehicle                ┆ 18.94026  │\n",
      "│ 1993 ┆ Other        ┆ Other/Unknown                   ┆ 15.0      │\n",
      "│ 2012 ┆ Other        ┆ Gasoline vehicle                ┆ 18.71916  │\n",
      "│ 2017 ┆ Other        ┆ Flex fuel vehicle               ┆ 18.0      │\n",
      "└──────┴──────────────┴─────────────────────────────────┴───────────┘\n"
     ]
    }
   ],
   "source": [
    "print(agg_yr)"
   ]
  },
  {
   "cell_type": "code",
   "execution_count": 47,
   "id": "cd7c2e72-5f0b-40c1-a5ef-5f51a3456095",
   "metadata": {},
   "outputs": [
    {
     "name": "stdout",
     "output_type": "stream",
     "text": [
      "shape: (3_234_418, 8)\n",
      "┌──────┬──────────────┬──────────────┬───────────┬────────────┬───────────┬─────────────┬──────────┐\n",
      "│ year ┆ simple_class ┆ fuel_type    ┆ mean_mpg  ┆ state_abbr ┆ city_name ┆ fuel_type_o ┆ percent  │\n",
      "│ ---  ┆ ---          ┆ ---          ┆ ---       ┆ ---        ┆ ---       ┆ rg          ┆ ---      │\n",
      "│ i16  ┆ str          ┆ str          ┆ f64       ┆ str        ┆ str       ┆ ---         ┆ f32      │\n",
      "│      ┆              ┆              ┆           ┆            ┆           ┆ str         ┆          │\n",
      "╞══════╪══════════════╪══════════════╪═══════════╪════════════╪═══════════╪═════════════╪══════════╡\n",
      "│ 2000 ┆ Car          ┆ Other/Unknow ┆ 17.6      ┆ AL         ┆ Abbeville ┆ BI          ┆ 0.0      │\n",
      "│      ┆              ┆ n            ┆           ┆            ┆           ┆             ┆          │\n",
      "│ 2000 ┆ Car          ┆ Diesel       ┆ 32.0      ┆ AL         ┆ Abbeville ┆ DIES        ┆ 0.027042 │\n",
      "│      ┆              ┆ vehicle      ┆           ┆            ┆           ┆             ┆          │\n",
      "│ 2000 ┆ Car          ┆ Flex fuel    ┆ 17.0      ┆ AL         ┆ Abbeville ┆ FFV         ┆ 0.067604 │\n",
      "│      ┆              ┆ vehicle      ┆           ┆            ┆           ┆             ┆          │\n",
      "│ 2000 ┆ Truck        ┆ Flex fuel    ┆ 15.0      ┆ AL         ┆ Abbeville ┆ FFV         ┆ 0.108167 │\n",
      "│      ┆              ┆ vehicle      ┆           ┆            ┆           ┆             ┆          │\n",
      "│ 2000 ┆ Car          ┆ Gasoline     ┆ 18.129032 ┆ AL         ┆ Abbeville ┆ GAS         ┆ 2.230936 │\n",
      "│      ┆              ┆ vehicle      ┆           ┆            ┆           ┆             ┆          │\n",
      "│ …    ┆ …            ┆ …            ┆ …         ┆ …          ┆ …         ┆ …           ┆ …        │\n",
      "│ 2018 ┆ Car          ┆ Flex fuel    ┆ 18.875    ┆ WY         ┆ Yoder     ┆ FFV         ┆ 0.0      │\n",
      "│      ┆              ┆ vehicle      ┆           ┆            ┆           ┆             ┆          │\n",
      "│ 2018 ┆ Truck        ┆ Flex fuel    ┆ 16.565217 ┆ WY         ┆ Yoder     ┆ FFV         ┆ 0.0      │\n",
      "│      ┆              ┆ vehicle      ┆           ┆            ┆           ┆             ┆          │\n",
      "│ 2018 ┆ Car          ┆ Gasoline     ┆ 22.004785 ┆ WY         ┆ Yoder     ┆ GAS         ┆ 0.0      │\n",
      "│      ┆              ┆ vehicle      ┆           ┆            ┆           ┆             ┆          │\n",
      "│ 2018 ┆ Truck        ┆ Gasoline     ┆ 16.710526 ┆ WY         ┆ Yoder     ┆ GAS         ┆ 0.0      │\n",
      "│      ┆              ┆ vehicle      ┆           ┆            ┆           ┆             ┆          │\n",
      "│ 2018 ┆ Car          ┆ Hybrid       ┆ 34.4      ┆ WY         ┆ Yoder     ┆ HYBRID      ┆ 0.0      │\n",
      "│      ┆              ┆ electric     ┆           ┆            ┆           ┆ ELECTRIC    ┆          │\n",
      "│      ┆              ┆ vehicle      ┆           ┆            ┆           ┆ VEHICLE     ┆          │\n",
      "└──────┴──────────────┴──────────────┴───────────┴────────────┴───────────┴─────────────┴──────────┘\n"
     ]
    }
   ],
   "source": [
    "print (agg_yr\n",
    "       .join(inv_yr, left_on=['year', 'simple_class', 'fuel_type'], right_on=['year', 'class', 'fuel_type'])\n",
    "      )"
   ]
  },
  {
   "cell_type": "markdown",
   "id": "2c7c399a-1fa6-4d70-abd1-858423b81204",
   "metadata": {},
   "source": [
    "##### Placing `Benchmarks`:"
   ]
  },
  {
   "cell_type": "code",
   "execution_count": 48,
   "id": "c347819d-cfff-436f-a99a-125ae24ad92d",
   "metadata": {},
   "outputs": [],
   "source": [
    "agg_yr_shuf = agg_yr.sample(len(agg_yr), with_replacement=False, seed=42)\n",
    "\n",
    "inv_yr_shuf = inv_yr.sample(len(inv_yr), with_replacement=False, seed=42)"
   ]
  },
  {
   "cell_type": "code",
   "execution_count": 49,
   "id": "78de5764-5859-4760-9457-f0ea857204c9",
   "metadata": {},
   "outputs": [
    {
     "name": "stdout",
     "output_type": "stream",
     "text": [
      "45.1 ms ± 899 μs per loop (mean ± std. dev. of 7 runs, 10 loops each)\n"
     ]
    }
   ],
   "source": [
    "%%timeit\n",
    "(agg_yr_shuf\n",
    " .join(inv_yr_shuf, left_on=['year', 'simple_class', 'fuel_type'], right_on=['year', 'class', 'fuel_type'])\n",
    "          )"
   ]
  },
  {
   "cell_type": "code",
   "execution_count": 50,
   "id": "e904a12b-90c0-498d-81a1-2ee836d329ac",
   "metadata": {},
   "outputs": [],
   "source": [
    "# Sortin by Year\n",
    "agg_yr_sort = agg_yr.sort('year')\n",
    "\n",
    "inv_yr_sort = inv_yr.sort('year')"
   ]
  },
  {
   "cell_type": "code",
   "execution_count": 51,
   "id": "35dda565-d117-4c17-b791-b3bc35115f55",
   "metadata": {},
   "outputs": [
    {
     "name": "stdout",
     "output_type": "stream",
     "text": [
      "45 ms ± 666 μs per loop (mean ± std. dev. of 7 runs, 10 loops each)\n"
     ]
    }
   ],
   "source": [
    "%%timeit\n",
    "(agg_yr_sort\n",
    " .join(inv_yr_sort, left_on=['year', 'simple_class', 'fuel_type'], right_on=['year', 'class', 'fuel_type'])\n",
    ")"
   ]
  },
  {
   "cell_type": "code",
   "execution_count": null,
   "id": "fc023f36-a425-4209-91e8-698f192cf691",
   "metadata": {},
   "outputs": [],
   "source": []
  },
  {
   "cell_type": "code",
   "execution_count": 52,
   "id": "244d8afb-4607-4d65-982d-292133ccd3bb",
   "metadata": {},
   "outputs": [],
   "source": [
    "# Sort by Year & Class\n",
    "agg_yr_sort2 = agg_yr.sort('year', 'simple_class', 'fuel_type')\n",
    "\n",
    "inv_yr_sort2 = inv_yr.sort('year', 'class', 'fuel_type')"
   ]
  },
  {
   "cell_type": "code",
   "execution_count": 53,
   "id": "c93cebb1-e426-4743-81e1-d1350e0d62ab",
   "metadata": {},
   "outputs": [
    {
     "name": "stdout",
     "output_type": "stream",
     "text": [
      "43.3 ms ± 1.9 ms per loop (mean ± std. dev. of 7 runs, 10 loops each)\n"
     ]
    }
   ],
   "source": [
    "%%timeit\n",
    "(agg_yr_sort2\n",
    " .join(inv_yr_sort2, left_on=['year', 'simple_class', 'fuel_type'], right_on=['year', 'class', 'fuel_type'])\n",
    ")"
   ]
  },
  {
   "cell_type": "code",
   "execution_count": 54,
   "id": "662b2198-32e7-4345-bcb1-25ce2cca3b06",
   "metadata": {},
   "outputs": [],
   "source": [
    "# Switching into Categorical Values\n",
    "with pl.StringCache():\n",
    "    agg_yr_cat = agg_yr_sort2.with_columns(\n",
    "        pl.col('simple_class', 'fuel_type').cast(pl.Categorical))\n",
    "    inv_yr_cat = inv_yr_sort2.with_columns(\n",
    "        pl.col('class', 'fuel_type').cast(pl.Categorical))"
   ]
  },
  {
   "cell_type": "code",
   "execution_count": 55,
   "id": "35b7d330-cd20-4be5-84b6-f5f567b163ca",
   "metadata": {},
   "outputs": [
    {
     "name": "stdout",
     "output_type": "stream",
     "text": [
      "26.1 ms ± 228 μs per loop (mean ± std. dev. of 7 runs, 10 loops each)\n"
     ]
    }
   ],
   "source": [
    "%%timeit\n",
    "(agg_yr_cat\n",
    " .join(inv_yr_cat, left_on=['year', 'simple_class', 'fuel_type'], right_on=['year', 'class', 'fuel_type'])\n",
    ")"
   ]
  },
  {
   "cell_type": "code",
   "execution_count": 56,
   "id": "3d70256c-582c-4705-83b5-bcde85756cf5",
   "metadata": {},
   "outputs": [],
   "source": [
    "# Comparing with Panda Sorting\n",
    "agg_pd = agg_yr_sort2.to_pandas().sort_values(['year', 'simple_class', 'fuel_type'])\n",
    "\n",
    "inv_pd = inv_yr_sort2.to_pandas().sort_values(['year', 'class', 'fuel_type'])"
   ]
  },
  {
   "cell_type": "code",
   "execution_count": 57,
   "id": "96fad72d-89e3-46ce-8cb0-ae76c8461fe2",
   "metadata": {},
   "outputs": [
    {
     "name": "stdout",
     "output_type": "stream",
     "text": [
      "794 ms ± 8.77 ms per loop (mean ± std. dev. of 7 runs, 1 loop each)\n"
     ]
    }
   ],
   "source": [
    "%%timeit\n",
    "(agg_pd\n",
    " .merge(inv_pd, left_on=['year', 'simple_class', 'fuel_type'], right_on=['year', 'class', 'fuel_type'])\n",
    ")"
   ]
  },
  {
   "cell_type": "markdown",
   "id": "a6eb7cf3-9585-41c4-8f46-c0fe27109dd4",
   "metadata": {},
   "source": [
    "### Visualizing The Join\n",
    "\n",
    "##### Note: On pivot argument `column` has been replaced for `on`"
   ]
  },
  {
   "cell_type": "code",
   "execution_count": 61,
   "id": "70c1f408-b14b-4294-8d60-45b62b1333d9",
   "metadata": {},
   "outputs": [
    {
     "name": "stdout",
     "output_type": "stream",
     "text": [
      "shape: (19, 3)\n",
      "┌──────┬───────────┬───────────┐\n",
      "│ year ┆ Car       ┆ Truck     │\n",
      "│ ---  ┆ ---       ┆ ---       │\n",
      "│ i16  ┆ f64       ┆ f64       │\n",
      "╞══════╪═══════════╪═══════════╡\n",
      "│ 2000 ┆ 20.465806 ┆ 12.558559 │\n",
      "│ 2001 ┆ 19.972288 ┆ 12.685439 │\n",
      "│ 2002 ┆ 20.834157 ┆ 12.618696 │\n",
      "│ 2003 ┆ 20.505458 ┆ 12.45977  │\n",
      "│ 2004 ┆ 19.001403 ┆ 12.260606 │\n",
      "│ …    ┆ …         ┆ …         │\n",
      "│ 2014 ┆ 37.992402 ┆ 16.691919 │\n",
      "│ 2015 ┆ 35.871053 ┆ 17.464186 │\n",
      "│ 2016 ┆ 34.458447 ┆ 17.664933 │\n",
      "│ 2017 ┆ 43.256047 ┆ 17.57901  │\n",
      "│ 2018 ┆ 41.715381 ┆ 17.953026 │\n",
      "└──────┴───────────┴───────────┘\n"
     ]
    }
   ],
   "source": [
    "print(agg_yr\n",
    "      .join(inv_yr, left_on=['year', 'simple_class', 'fuel_type'],\n",
    "            right_on=['year', 'class', 'fuel_type'])\n",
    "      .filter(city_name='Salt Lake City')\n",
    "      .pivot(index='year', on='simple_class', values='mean_mpg', aggregate_function='mean')\n",
    "     )"
   ]
  },
  {
   "cell_type": "code",
   "execution_count": 64,
   "id": "0db38ee0-371b-43ae-8466-a0f6dda95b80",
   "metadata": {},
   "outputs": [
    {
     "name": "stdout",
     "output_type": "stream",
     "text": [
      "5.5.0\n"
     ]
    }
   ],
   "source": [
    "import altair as alt\n",
    "print(alt.__version__)"
   ]
  },
  {
   "cell_type": "code",
   "execution_count": 67,
   "id": "d948ea6a-3880-46d4-a5d9-70f93be32d95",
   "metadata": {},
   "outputs": [],
   "source": [
    "# print(agg_yr\n",
    "#       .join(inv_yr, left_on=['year', 'simple_class', 'fuel_type'],\n",
    "#             right_on=['year', 'class', 'fuel_type'])\n",
    "#       .filter(city_name='Salt Lake City')\n",
    "#       .pivot(index='year', on='simple_class', values='mean_mpg', aggregate_function='mean')\n",
    "#       .plot.line(x='year', y=['Car', 'Truck'], title='Salt Lake City Mileage')\n",
    "#      )"
   ]
  },
  {
   "cell_type": "markdown",
   "id": "dd7d5d26-a015-45f5-96f5-0f4c11a3eb7e",
   "metadata": {},
   "source": [
    "### Adding Rows"
   ]
  },
  {
   "cell_type": "code",
   "execution_count": 68,
   "id": "ffdb3bcf-2509-4e37-a46c-698f0f6d757e",
   "metadata": {},
   "outputs": [
    {
     "name": "stdout",
     "output_type": "stream",
     "text": [
      "shape: (20, 15)\n",
      "┌──────┬────────┬─────────┬───────┬───┬───────────┬─────────────────────┬──────────────┬───────────┐\n",
      "│ year ┆ make   ┆ model   ┆ displ ┆ … ┆ highway08 ┆ createdOn           ┆ is_automatic ┆ num_gears │\n",
      "│ ---  ┆ ---    ┆ ---     ┆ ---   ┆   ┆ ---       ┆ ---                 ┆ ---          ┆ ---       │\n",
      "│ i16  ┆ cat    ┆ cat     ┆ f32   ┆   ┆ u8        ┆ datetime[μs]        ┆ str          ┆ u8        │\n",
      "╞══════╪════════╪═════════╪═══════╪═══╪═══════════╪═════════════════════╪══════════════╪═══════════╡\n",
      "│ 1993 ┆ Saab   ┆ 900     ┆ 2.1   ┆ … ┆ 24        ┆ 2013-01-01 00:00:00 ┆ false        ┆ 5         │\n",
      "│ 1993 ┆ Saturn ┆ SL      ┆ 1.9   ┆ … ┆ 33        ┆ 2013-01-01 00:00:00 ┆ true         ┆ 4         │\n",
      "│ 1993 ┆ Saturn ┆ SL      ┆ 1.9   ┆ … ┆ 30        ┆ 2013-01-01 00:00:00 ┆ true         ┆ 4         │\n",
      "│ 1993 ┆ Saturn ┆ SL      ┆ 1.9   ┆ … ┆ 33        ┆ 2013-01-01 00:00:00 ┆ false        ┆ 5         │\n",
      "│ 1993 ┆ Saturn ┆ SL      ┆ 1.9   ┆ … ┆ 32        ┆ 2013-01-01 00:00:00 ┆ false        ┆ 5         │\n",
      "│ …    ┆ …      ┆ …       ┆ …     ┆ … ┆ …         ┆ …                   ┆ …            ┆ …         │\n",
      "│ 1993 ┆ Subaru ┆ Loyale  ┆ 1.8   ┆ … ┆ 24        ┆ 2013-01-01 00:00:00 ┆ true         ┆ 3         │\n",
      "│ 1993 ┆ Subaru ┆ Loyale  ┆ 1.8   ┆ … ┆ 29        ┆ 2013-01-01 00:00:00 ┆ false        ┆ 5         │\n",
      "│ 1993 ┆ Toyota ┆ Corolla ┆ 1.6   ┆ … ┆ 26        ┆ 2013-01-01 00:00:00 ┆ true         ┆ 3         │\n",
      "│ 1993 ┆ Toyota ┆ Corolla ┆ 1.6   ┆ … ┆ 31        ┆ 2013-01-01 00:00:00 ┆ false        ┆ 5         │\n",
      "│ 1993 ┆ Toyota ┆ Corolla ┆ 1.8   ┆ … ┆ 30        ┆ 2013-01-01 00:00:00 ┆ true         ┆ 4         │\n",
      "└──────┴────────┴─────────┴───────┴───┴───────────┴─────────────────────┴──────────────┴───────────┘\n"
     ]
    }
   ],
   "source": [
    "print(autos\n",
    "      .tail(10)\n",
    "      .vstack(autos.head(10))\n",
    "     )"
   ]
  },
  {
   "cell_type": "markdown",
   "id": "14eb7b48-5b1a-4699-aa25-6a150b8fb572",
   "metadata": {},
   "source": [
    "### Reshaping & Pivoting Data"
   ]
  },
  {
   "cell_type": "code",
   "execution_count": 69,
   "id": "937cdee3-f6c5-4b72-9a31-86b24cb8b4cd",
   "metadata": {},
   "outputs": [],
   "source": [
    "top_n = (autos\n",
    "         .group_by('make')\n",
    "         .agg(pl.col('city08').count())\n",
    "         .sort('city08')\n",
    "         .tail(5)\n",
    "        )"
   ]
  },
  {
   "cell_type": "code",
   "execution_count": 70,
   "id": "520ee5a0-860d-4fa1-8fc2-c4cd2e07f21c",
   "metadata": {},
   "outputs": [
    {
     "name": "stdout",
     "output_type": "stream",
     "text": [
      "shape: (5, 2)\n",
      "┌───────────┬────────┐\n",
      "│ make      ┆ city08 │\n",
      "│ ---       ┆ ---    │\n",
      "│ cat       ┆ u32    │\n",
      "╞═══════════╪════════╡\n",
      "│ BMW       ┆ 2537   │\n",
      "│ Dodge     ┆ 2696   │\n",
      "│ GMC       ┆ 2823   │\n",
      "│ Ford      ┆ 3835   │\n",
      "│ Chevrolet ┆ 4472   │\n",
      "└───────────┴────────┘\n"
     ]
    }
   ],
   "source": [
    "print(top_n)"
   ]
  },
  {
   "cell_type": "code",
   "execution_count": 72,
   "id": "4084d1bc-e971-45ce-b336-4fa8b1082d27",
   "metadata": {},
   "outputs": [
    {
     "name": "stdout",
     "output_type": "stream",
     "text": [
      "shape: (42, 6)\n",
      "┌──────┬───────┬──────┬───────────┬──────┬──────┐\n",
      "│ year ┆ Dodge ┆ BMW  ┆ Chevrolet ┆ Ford ┆ GMC  │\n",
      "│ ---  ┆ ---   ┆ ---  ┆ ---       ┆ ---  ┆ ---  │\n",
      "│ i16  ┆ f64   ┆ f64  ┆ f64       ┆ f64  ┆ f64  │\n",
      "╞══════╪═══════╪══════╪═══════════╪══════╪══════╡\n",
      "│ 1985 ┆ 17.0  ┆ 18.0 ┆ 15.0      ┆ 15.0 ┆ 15.0 │\n",
      "│ 1993 ┆ 14.0  ┆ 15.0 ┆ 15.0      ┆ 15.0 ┆ 14.0 │\n",
      "│ 1994 ┆ 14.5  ┆ 15.5 ┆ 15.0      ┆ 15.0 ┆ 14.0 │\n",
      "│ 1995 ┆ 15.0  ┆ 16.5 ┆ 15.0      ┆ 15.0 ┆ 14.0 │\n",
      "│ 1996 ┆ 13.0  ┆ 18.0 ┆ 15.0      ┆ 15.0 ┆ 14.0 │\n",
      "│ …    ┆ …     ┆ …    ┆ …         ┆ …    ┆ …    │\n",
      "│ 2021 ┆ 15.0  ┆ 21.0 ┆ 16.0      ┆ 20.0 ┆ 15.0 │\n",
      "│ 2022 ┆ 15.0  ┆ 21.0 ┆ 16.0      ┆ 20.0 ┆ 15.0 │\n",
      "│ 2023 ┆ 15.0  ┆ 22.0 ┆ 17.0      ┆ 19.0 ┆ 16.0 │\n",
      "│ 2024 ┆ 16.0  ┆ 23.0 ┆ 17.0      ┆ 19.0 ┆ 16.0 │\n",
      "│ 2025 ┆ 17.0  ┆ 25.0 ┆ 16.0      ┆ 21.5 ┆ 16.0 │\n",
      "└──────┴───────┴──────┴───────────┴──────┴──────┘\n"
     ]
    }
   ],
   "source": [
    "print(autos\n",
    "      .filter(pl.col('make').is_in(top_n['make']))\n",
    "      .pivot(index='year', on='make', values='city08', aggregate_function='median')\n",
    "     )"
   ]
  },
  {
   "cell_type": "code",
   "execution_count": 73,
   "id": "70f3882c-fc9e-4fa3-9428-0f27b0e4acc8",
   "metadata": {},
   "outputs": [],
   "source": [
    "pivoted = (autos\n",
    "           .filter(pl.col('make').is_in(top_n['make']))     \n",
    "           .pivot(index='year', on='make', values='city08', aggregate_function='median')\n",
    "           .sort('year')\n",
    "          )"
   ]
  },
  {
   "cell_type": "code",
   "execution_count": 74,
   "id": "df9580e9-6b2c-42c5-a54b-38551408356d",
   "metadata": {},
   "outputs": [
    {
     "name": "stdout",
     "output_type": "stream",
     "text": [
      "shape: (42, 6)\n",
      "┌──────┬───────┬──────┬───────────┬──────┬──────┐\n",
      "│ year ┆ Dodge ┆ BMW  ┆ Chevrolet ┆ Ford ┆ GMC  │\n",
      "│ ---  ┆ ---   ┆ ---  ┆ ---       ┆ ---  ┆ ---  │\n",
      "│ i16  ┆ f64   ┆ f64  ┆ f64       ┆ f64  ┆ f64  │\n",
      "╞══════╪═══════╪══════╪═══════════╪══════╪══════╡\n",
      "│ 1984 ┆ 18.0  ┆ 18.0 ┆ 16.0      ┆ 14.5 ┆ 15.0 │\n",
      "│ 1985 ┆ 17.0  ┆ 18.0 ┆ 15.0      ┆ 15.0 ┆ 15.0 │\n",
      "│ 1986 ┆ 14.5  ┆ 15.0 ┆ 15.0      ┆ 16.0 ┆ 15.0 │\n",
      "│ 1987 ┆ 15.0  ┆ 15.0 ┆ 15.0      ┆ 15.0 ┆ 15.0 │\n",
      "│ 1988 ┆ 14.0  ┆ 15.0 ┆ 15.0      ┆ 15.0 ┆ 15.0 │\n",
      "│ …    ┆ …     ┆ …    ┆ …         ┆ …    ┆ …    │\n",
      "│ 2021 ┆ 15.0  ┆ 21.0 ┆ 16.0      ┆ 20.0 ┆ 15.0 │\n",
      "│ 2022 ┆ 15.0  ┆ 21.0 ┆ 16.0      ┆ 20.0 ┆ 15.0 │\n",
      "│ 2023 ┆ 15.0  ┆ 22.0 ┆ 17.0      ┆ 19.0 ┆ 16.0 │\n",
      "│ 2024 ┆ 16.0  ┆ 23.0 ┆ 17.0      ┆ 19.0 ┆ 16.0 │\n",
      "│ 2025 ┆ 17.0  ┆ 25.0 ┆ 16.0      ┆ 21.5 ┆ 16.0 │\n",
      "└──────┴───────┴──────┴───────────┴──────┴──────┘\n"
     ]
    }
   ],
   "source": [
    "print(pivoted)"
   ]
  },
  {
   "cell_type": "code",
   "execution_count": 76,
   "id": "4ce2e692-a527-481b-bfbe-67dd606c1ce3",
   "metadata": {},
   "outputs": [],
   "source": [
    "# Preserving order with `.set_sorted`\n",
    "pivoted = (autos\n",
    "           .filter(pl.col('make').is_in(top_n['make']))\n",
    "           .sort('year')\n",
    "           .set_sorted('year')\n",
    "           .pivot(index='year', on='make', values='city08', aggregate_function='median')\n",
    "          )"
   ]
  },
  {
   "cell_type": "code",
   "execution_count": 77,
   "id": "ee2820d4-b088-4cb1-816d-3f73c443bb09",
   "metadata": {},
   "outputs": [
    {
     "name": "stdout",
     "output_type": "stream",
     "text": [
      "shape: (42, 6)\n",
      "┌──────┬───────────┬──────┬──────┬───────┬──────┐\n",
      "│ year ┆ Chevrolet ┆ Ford ┆ BMW  ┆ Dodge ┆ GMC  │\n",
      "│ ---  ┆ ---       ┆ ---  ┆ ---  ┆ ---   ┆ ---  │\n",
      "│ i16  ┆ f64       ┆ f64  ┆ f64  ┆ f64   ┆ f64  │\n",
      "╞══════╪═══════════╪══════╪══════╪═══════╪══════╡\n",
      "│ 1984 ┆ 16.0      ┆ 14.5 ┆ 18.0 ┆ 18.0  ┆ 15.0 │\n",
      "│ 1985 ┆ 15.0      ┆ 15.0 ┆ 18.0 ┆ 17.0  ┆ 15.0 │\n",
      "│ 1986 ┆ 15.0      ┆ 16.0 ┆ 15.0 ┆ 14.5  ┆ 15.0 │\n",
      "│ 1987 ┆ 15.0      ┆ 15.0 ┆ 15.0 ┆ 15.0  ┆ 15.0 │\n",
      "│ 1988 ┆ 15.0      ┆ 15.0 ┆ 15.0 ┆ 14.0  ┆ 15.0 │\n",
      "│ …    ┆ …         ┆ …    ┆ …    ┆ …     ┆ …    │\n",
      "│ 2021 ┆ 16.0      ┆ 20.0 ┆ 21.0 ┆ 15.0  ┆ 15.0 │\n",
      "│ 2022 ┆ 16.0      ┆ 20.0 ┆ 21.0 ┆ 15.0  ┆ 15.0 │\n",
      "│ 2023 ┆ 17.0      ┆ 19.0 ┆ 22.0 ┆ 15.0  ┆ 16.0 │\n",
      "│ 2024 ┆ 17.0      ┆ 19.0 ┆ 23.0 ┆ 16.0  ┆ 16.0 │\n",
      "│ 2025 ┆ 16.0      ┆ 21.5 ┆ 25.0 ┆ 17.0  ┆ 16.0 │\n",
      "└──────┴───────────┴──────┴──────┴───────┴──────┘\n"
     ]
    }
   ],
   "source": [
    "print(pivoted)"
   ]
  },
  {
   "cell_type": "code",
   "execution_count": 79,
   "id": "50f7f1da-7c6a-40b4-8183-f4ea1567997c",
   "metadata": {},
   "outputs": [],
   "source": [
    "pivoted = (autos\n",
    "           .filter(pl.col('make').is_in(top_n['make']))\n",
    "           .sort('year').pivot(index='year', on='make', values='city08', aggregate_function='median', maintain_order=True)\n",
    "          )"
   ]
  },
  {
   "cell_type": "code",
   "execution_count": 80,
   "id": "c62383c0-2c7a-40d5-bb50-1e4d977323ad",
   "metadata": {},
   "outputs": [
    {
     "name": "stdout",
     "output_type": "stream",
     "text": [
      "shape: (42, 6)\n",
      "┌──────┬───────────┬──────┬──────┬───────┬──────┐\n",
      "│ year ┆ Chevrolet ┆ Ford ┆ BMW  ┆ Dodge ┆ GMC  │\n",
      "│ ---  ┆ ---       ┆ ---  ┆ ---  ┆ ---   ┆ ---  │\n",
      "│ i16  ┆ f64       ┆ f64  ┆ f64  ┆ f64   ┆ f64  │\n",
      "╞══════╪═══════════╪══════╪══════╪═══════╪══════╡\n",
      "│ 1984 ┆ 16.0      ┆ 14.5 ┆ 18.0 ┆ 18.0  ┆ 15.0 │\n",
      "│ 1985 ┆ 15.0      ┆ 15.0 ┆ 18.0 ┆ 17.0  ┆ 15.0 │\n",
      "│ 1986 ┆ 15.0      ┆ 16.0 ┆ 15.0 ┆ 14.5  ┆ 15.0 │\n",
      "│ 1987 ┆ 15.0      ┆ 15.0 ┆ 15.0 ┆ 15.0  ┆ 15.0 │\n",
      "│ 1988 ┆ 15.0      ┆ 15.0 ┆ 15.0 ┆ 14.0  ┆ 15.0 │\n",
      "│ …    ┆ …         ┆ …    ┆ …    ┆ …     ┆ …    │\n",
      "│ 2021 ┆ 16.0      ┆ 20.0 ┆ 21.0 ┆ 15.0  ┆ 15.0 │\n",
      "│ 2022 ┆ 16.0      ┆ 20.0 ┆ 21.0 ┆ 15.0  ┆ 15.0 │\n",
      "│ 2023 ┆ 17.0      ┆ 19.0 ┆ 22.0 ┆ 15.0  ┆ 16.0 │\n",
      "│ 2024 ┆ 17.0      ┆ 19.0 ┆ 23.0 ┆ 16.0  ┆ 16.0 │\n",
      "│ 2025 ┆ 16.0      ┆ 21.5 ┆ 25.0 ┆ 17.0  ┆ 16.0 │\n",
      "└──────┴───────────┴──────┴──────┴───────┴──────┘\n"
     ]
    }
   ],
   "source": [
    "print(pivoted)"
   ]
  },
  {
   "cell_type": "markdown",
   "id": "7409dc35-dd55-4940-8a0b-27306be8e0d2",
   "metadata": {},
   "source": [
    "### Melting Data"
   ]
  },
  {
   "cell_type": "code",
   "execution_count": null,
   "id": "2fee2b19-5cfd-49a6-a9d0-c836920a1b54",
   "metadata": {},
   "outputs": [],
   "source": []
  }
 ],
 "metadata": {
  "kernelspec": {
   "display_name": "Python 3 (ipykernel)",
   "language": "python",
   "name": "python3"
  },
  "language_info": {
   "codemirror_mode": {
    "name": "ipython",
    "version": 3
   },
   "file_extension": ".py",
   "mimetype": "text/x-python",
   "name": "python",
   "nbconvert_exporter": "python",
   "pygments_lexer": "ipython3",
   "version": "3.11.8"
  }
 },
 "nbformat": 4,
 "nbformat_minor": 5
}
