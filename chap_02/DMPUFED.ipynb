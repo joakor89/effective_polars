{
 "cells": [
  {
   "cell_type": "markdown",
   "id": "05eeffce-5a57-4db4-81b3-8436c0129537",
   "metadata": {},
   "source": [
    "# Data Manipulation with Polars Using The Fuel Economy Dataset\n",
    "\n",
    "### Loading Libraries"
   ]
  },
  {
   "cell_type": "code",
   "execution_count": 1,
   "id": "7703e180-bc93-44c1-9d12-9010e9e7422d",
   "metadata": {},
   "outputs": [],
   "source": [
    "# ZipFiles\n",
    "import zipfile\n",
    "\n",
    "# Numerical Computing\n",
    "import numpy as np\n",
    "\n",
    "# Data Manipulation\n",
    "import pandas as pd\n",
    "import polars as pl\n",
    "import polars.selectors as cs\n",
    "\n",
    "# Data Visualization\n",
    "import seaborn as sns\n",
    "import matplotlib.pyplot as plt"
   ]
  },
  {
   "cell_type": "code",
   "execution_count": 2,
   "id": "e02018aa-11d2-43ee-98e4-7824b19b177e",
   "metadata": {},
   "outputs": [
    {
     "data": {
      "text/plain": [
       "'1.14.0'"
      ]
     },
     "execution_count": 2,
     "metadata": {},
     "output_type": "execute_result"
    }
   ],
   "source": [
    "pl.__version__"
   ]
  },
  {
   "cell_type": "markdown",
   "id": "a52bfd84-5de9-423a-8214-8bb828b27ed5",
   "metadata": {},
   "source": [
    "### Getting Data"
   ]
  },
  {
   "cell_type": "code",
   "execution_count": 3,
   "id": "ad258217-5b23-46e1-b15a-8da0f0a897b1",
   "metadata": {},
   "outputs": [],
   "source": [
    "# Path\n",
    "path = '/Users/isisromero/desktop/polars/datasets/vehicles.csv'"
   ]
  },
  {
   "cell_type": "code",
   "execution_count": 4,
   "id": "acc37279-482a-4548-8122-62c71c3032ca",
   "metadata": {},
   "outputs": [],
   "source": [
    "raw = pl.read_csv(path, null_values=['NA'])"
   ]
  },
  {
   "cell_type": "markdown",
   "id": "6c63fecf-d12d-430e-8a61-55f7d9fe10b4",
   "metadata": {},
   "source": [
    "#### Placing `tweak_auto` Function"
   ]
  },
  {
   "cell_type": "code",
   "execution_count": 5,
   "id": "b73567cb-0b95-4314-b7aa-9bba3fe34871",
   "metadata": {},
   "outputs": [],
   "source": [
    "def tweak_auto(df):\n",
    "    cols = ['year', 'make', 'model', 'displ', 'cylinders', 'trany', \n",
    "            'drive', 'VClass', 'fuelType', 'barrels08', 'city08', 'highway08', 'createdOn']\n",
    "    return (df\n",
    "            .select(pl.col(cols))\n",
    "            .with_columns(pl.col('year').cast(pl.Int16),\n",
    "                          pl.col(['cylinders', 'highway08', 'city08']).cast(pl.UInt8),\n",
    "                          pl.col(['displ', 'barrels08']).cast(pl.Float32),\n",
    "                          pl.col(['make', 'model', 'VClass', 'drive', 'fuelType']).cast(pl.Categorical),\n",
    "                          pl.col('createdOn').str.to_datetime('%a %b %d %H:%M:%S %Z %Y'),\n",
    "                          is_automatic=pl.col('trany')                    \n",
    "                          .str.contains('Automatic')\n",
    "                          .fill_null('Automatic'),\n",
    "                          num_gears=pl.col('trany')\n",
    "                          .str.extract(r'(\\d+)')\n",
    "                          .cast(pl.UInt8)\n",
    "                          .fill_null(6))\n",
    "           )"
   ]
  },
  {
   "cell_type": "code",
   "execution_count": 6,
   "id": "1a9c127a-71ae-44c1-8652-87181b0046fb",
   "metadata": {},
   "outputs": [],
   "source": [
    "autos = tweak_auto(raw)"
   ]
  },
  {
   "cell_type": "code",
   "execution_count": 7,
   "id": "70d407c2-383c-4177-9e07-0cea7b107a2f",
   "metadata": {},
   "outputs": [
    {
     "name": "stdout",
     "output_type": "stream",
     "text": [
      "shape: (48_231, 15)\n",
      "┌──────┬────────────┬──────────────┬───────┬───┬───────────┬─────────────┬─────────────┬───────────┐\n",
      "│ year ┆ make       ┆ model        ┆ displ ┆ … ┆ highway08 ┆ createdOn   ┆ is_automati ┆ num_gears │\n",
      "│ ---  ┆ ---        ┆ ---          ┆ ---   ┆   ┆ ---       ┆ ---         ┆ c           ┆ ---       │\n",
      "│ i16  ┆ cat        ┆ cat          ┆ f32   ┆   ┆ u8        ┆ datetime[μs ┆ ---         ┆ u8        │\n",
      "│      ┆            ┆              ┆       ┆   ┆           ┆ ]           ┆ str         ┆           │\n",
      "╞══════╪════════════╪══════════════╪═══════╪═══╪═══════════╪═════════════╪═════════════╪═══════════╡\n",
      "│ 1985 ┆ Alfa Romeo ┆ Spider       ┆ 2.0   ┆ … ┆ 25        ┆ 2013-01-01  ┆ false       ┆ 5         │\n",
      "│      ┆            ┆ Veloce 2000  ┆       ┆   ┆           ┆ 00:00:00    ┆             ┆           │\n",
      "│ 1985 ┆ Ferrari    ┆ Testarossa   ┆ 4.9   ┆ … ┆ 14        ┆ 2013-01-01  ┆ false       ┆ 5         │\n",
      "│      ┆            ┆              ┆       ┆   ┆           ┆ 00:00:00    ┆             ┆           │\n",
      "│ 1985 ┆ Dodge      ┆ Charger      ┆ 2.2   ┆ … ┆ 33        ┆ 2013-01-01  ┆ false       ┆ 5         │\n",
      "│      ┆            ┆              ┆       ┆   ┆           ┆ 00:00:00    ┆             ┆           │\n",
      "│ 1985 ┆ Dodge      ┆ B150/B250    ┆ 5.2   ┆ … ┆ 12        ┆ 2013-01-01  ┆ true        ┆ 3         │\n",
      "│      ┆            ┆ Wagon 2WD    ┆       ┆   ┆           ┆ 00:00:00    ┆             ┆           │\n",
      "│ 1993 ┆ Subaru     ┆ Legacy AWD   ┆ 2.2   ┆ … ┆ 23        ┆ 2013-01-01  ┆ false       ┆ 5         │\n",
      "│      ┆            ┆ Turbo        ┆       ┆   ┆           ┆ 00:00:00    ┆             ┆           │\n",
      "│ …    ┆ …          ┆ …            ┆ …     ┆ … ┆ …         ┆ …           ┆ …           ┆ …         │\n",
      "│ 1993 ┆ Subaru     ┆ Legacy       ┆ 2.2   ┆ … ┆ 26        ┆ 2013-01-01  ┆ true        ┆ 4         │\n",
      "│      ┆            ┆              ┆       ┆   ┆           ┆ 00:00:00    ┆             ┆           │\n",
      "│ 1993 ┆ Subaru     ┆ Legacy       ┆ 2.2   ┆ … ┆ 28        ┆ 2013-01-01  ┆ false       ┆ 5         │\n",
      "│      ┆            ┆              ┆       ┆   ┆           ┆ 00:00:00    ┆             ┆           │\n",
      "│ 1993 ┆ Subaru     ┆ Legacy AWD   ┆ 2.2   ┆ … ┆ 24        ┆ 2013-01-01  ┆ true        ┆ 4         │\n",
      "│      ┆            ┆              ┆       ┆   ┆           ┆ 00:00:00    ┆             ┆           │\n",
      "│ 1993 ┆ Subaru     ┆ Legacy AWD   ┆ 2.2   ┆ … ┆ 24        ┆ 2013-01-01  ┆ false       ┆ 5         │\n",
      "│      ┆            ┆              ┆       ┆   ┆           ┆ 00:00:00    ┆             ┆           │\n",
      "│ 1993 ┆ Subaru     ┆ Legacy AWD   ┆ 2.2   ┆ … ┆ 21        ┆ 2013-01-01  ┆ true        ┆ 4         │\n",
      "│      ┆            ┆ Turbo        ┆       ┆   ┆           ┆ 00:00:00    ┆             ┆           │\n",
      "└──────┴────────────┴──────────────┴───────┴───┴───────────┴─────────────┴─────────────┴───────────┘\n"
     ]
    }
   ],
   "source": [
    "print(autos)"
   ]
  },
  {
   "cell_type": "markdown",
   "id": "dd8dc3dd-fcff-49c0-8faa-d0dc63f1cbc5",
   "metadata": {},
   "source": [
    "### Adding Columns"
   ]
  },
  {
   "cell_type": "code",
   "execution_count": 10,
   "id": "f27a6b42-f2ea-4817-aa38-2a985bce8780",
   "metadata": {},
   "outputs": [
    {
     "name": "stdout",
     "output_type": "stream",
     "text": [
      "shape: (48_231, 3)\n",
      "┌───────────┬────────┬───────────┐\n",
      "│ highway08 ┆ city08 ┆ mpg_ratio │\n",
      "│ ---       ┆ ---    ┆ ---       │\n",
      "│ u8        ┆ u8     ┆ f64       │\n",
      "╞═══════════╪════════╪═══════════╡\n",
      "│ 25        ┆ 19     ┆ 1.315789  │\n",
      "│ 14        ┆ 9      ┆ 1.555556  │\n",
      "│ 33        ┆ 23     ┆ 1.434783  │\n",
      "│ 12        ┆ 10     ┆ 1.2       │\n",
      "│ 23        ┆ 17     ┆ 1.352941  │\n",
      "│ …         ┆ …      ┆ …         │\n",
      "│ 26        ┆ 19     ┆ 1.368421  │\n",
      "│ 28        ┆ 20     ┆ 1.4       │\n",
      "│ 24        ┆ 18     ┆ 1.333333  │\n",
      "│ 24        ┆ 18     ┆ 1.333333  │\n",
      "│ 21        ┆ 16     ┆ 1.3125    │\n",
      "└───────────┴────────┴───────────┘\n"
     ]
    }
   ],
   "source": [
    "print(autos\n",
    "      .select(pl.col(['highway08', 'city08']),\n",
    "              mpg_ratio=(pl.col('highway08') / pl.col('city08'))\n",
    "             )\n",
    "     )"
   ]
  },
  {
   "cell_type": "code",
   "execution_count": 13,
   "id": "1c2a8cc2-da05-49c6-a8a2-6ba3516f54bc",
   "metadata": {},
   "outputs": [
    {
     "name": "stdout",
     "output_type": "stream",
     "text": [
      "shape: (48_231, 16)\n",
      "┌──────┬────────────┬──────────────┬───────┬───┬─────────────┬─────────────┬───────────┬───────────┐\n",
      "│ year ┆ make       ┆ model        ┆ displ ┆ … ┆ createdOn   ┆ is_automati ┆ num_gears ┆ mpg_ratio │\n",
      "│ ---  ┆ ---        ┆ ---          ┆ ---   ┆   ┆ ---         ┆ c           ┆ ---       ┆ ---       │\n",
      "│ i16  ┆ cat        ┆ cat          ┆ f32   ┆   ┆ datetime[μs ┆ ---         ┆ u8        ┆ f64       │\n",
      "│      ┆            ┆              ┆       ┆   ┆ ]           ┆ str         ┆           ┆           │\n",
      "╞══════╪════════════╪══════════════╪═══════╪═══╪═════════════╪═════════════╪═══════════╪═══════════╡\n",
      "│ 1985 ┆ Alfa Romeo ┆ Spider       ┆ 2.0   ┆ … ┆ 2013-01-01  ┆ false       ┆ 5         ┆ 1.315789  │\n",
      "│      ┆            ┆ Veloce 2000  ┆       ┆   ┆ 00:00:00    ┆             ┆           ┆           │\n",
      "│ 1985 ┆ Ferrari    ┆ Testarossa   ┆ 4.9   ┆ … ┆ 2013-01-01  ┆ false       ┆ 5         ┆ 1.555556  │\n",
      "│      ┆            ┆              ┆       ┆   ┆ 00:00:00    ┆             ┆           ┆           │\n",
      "│ 1985 ┆ Dodge      ┆ Charger      ┆ 2.2   ┆ … ┆ 2013-01-01  ┆ false       ┆ 5         ┆ 1.434783  │\n",
      "│      ┆            ┆              ┆       ┆   ┆ 00:00:00    ┆             ┆           ┆           │\n",
      "│ 1985 ┆ Dodge      ┆ B150/B250    ┆ 5.2   ┆ … ┆ 2013-01-01  ┆ true        ┆ 3         ┆ 1.2       │\n",
      "│      ┆            ┆ Wagon 2WD    ┆       ┆   ┆ 00:00:00    ┆             ┆           ┆           │\n",
      "│ 1993 ┆ Subaru     ┆ Legacy AWD   ┆ 2.2   ┆ … ┆ 2013-01-01  ┆ false       ┆ 5         ┆ 1.352941  │\n",
      "│      ┆            ┆ Turbo        ┆       ┆   ┆ 00:00:00    ┆             ┆           ┆           │\n",
      "│ …    ┆ …          ┆ …            ┆ …     ┆ … ┆ …           ┆ …           ┆ …         ┆ …         │\n",
      "│ 1993 ┆ Subaru     ┆ Legacy       ┆ 2.2   ┆ … ┆ 2013-01-01  ┆ true        ┆ 4         ┆ 1.368421  │\n",
      "│      ┆            ┆              ┆       ┆   ┆ 00:00:00    ┆             ┆           ┆           │\n",
      "│ 1993 ┆ Subaru     ┆ Legacy       ┆ 2.2   ┆ … ┆ 2013-01-01  ┆ false       ┆ 5         ┆ 1.4       │\n",
      "│      ┆            ┆              ┆       ┆   ┆ 00:00:00    ┆             ┆           ┆           │\n",
      "│ 1993 ┆ Subaru     ┆ Legacy AWD   ┆ 2.2   ┆ … ┆ 2013-01-01  ┆ true        ┆ 4         ┆ 1.333333  │\n",
      "│      ┆            ┆              ┆       ┆   ┆ 00:00:00    ┆             ┆           ┆           │\n",
      "│ 1993 ┆ Subaru     ┆ Legacy AWD   ┆ 2.2   ┆ … ┆ 2013-01-01  ┆ false       ┆ 5         ┆ 1.333333  │\n",
      "│      ┆            ┆              ┆       ┆   ┆ 00:00:00    ┆             ┆           ┆           │\n",
      "│ 1993 ┆ Subaru     ┆ Legacy AWD   ┆ 2.2   ┆ … ┆ 2013-01-01  ┆ true        ┆ 4         ┆ 1.3125    │\n",
      "│      ┆            ┆ Turbo        ┆       ┆   ┆ 00:00:00    ┆             ┆           ┆           │\n",
      "└──────┴────────────┴──────────────┴───────┴───┴─────────────┴─────────────┴───────────┴───────────┘\n"
     ]
    }
   ],
   "source": [
    "# Adding mpg_ratio column to Dataframe\n",
    "print(autos\n",
    "      .with_columns(mpg_ratio=pl.col('highway08') / pl.col('city08'))\n",
    "     )"
   ]
  },
  {
   "cell_type": "markdown",
   "id": "6b911456-dfa2-4065-b3b5-5a98346975a2",
   "metadata": {},
   "source": [
    "### Simulating The Index"
   ]
  },
  {
   "cell_type": "code",
   "execution_count": 14,
   "id": "822113e7-b45e-4aec-8474-8c300c9e922e",
   "metadata": {},
   "outputs": [
    {
     "name": "stdout",
     "output_type": "stream",
     "text": [
      "shape: (48_231, 16)\n",
      "┌───────┬──────┬────────────┬──────────────┬───┬───────────┬─────────────┬─────────────┬───────────┐\n",
      "│ index ┆ year ┆ make       ┆ model        ┆ … ┆ highway08 ┆ createdOn   ┆ is_automati ┆ num_gears │\n",
      "│ ---   ┆ ---  ┆ ---        ┆ ---          ┆   ┆ ---       ┆ ---         ┆ c           ┆ ---       │\n",
      "│ u32   ┆ i16  ┆ cat        ┆ cat          ┆   ┆ u8        ┆ datetime[μs ┆ ---         ┆ u8        │\n",
      "│       ┆      ┆            ┆              ┆   ┆           ┆ ]           ┆ str         ┆           │\n",
      "╞═══════╪══════╪════════════╪══════════════╪═══╪═══════════╪═════════════╪═════════════╪═══════════╡\n",
      "│ 0     ┆ 1985 ┆ Alfa Romeo ┆ Spider       ┆ … ┆ 25        ┆ 2013-01-01  ┆ false       ┆ 5         │\n",
      "│       ┆      ┆            ┆ Veloce 2000  ┆   ┆           ┆ 00:00:00    ┆             ┆           │\n",
      "│ 1     ┆ 1985 ┆ Ferrari    ┆ Testarossa   ┆ … ┆ 14        ┆ 2013-01-01  ┆ false       ┆ 5         │\n",
      "│       ┆      ┆            ┆              ┆   ┆           ┆ 00:00:00    ┆             ┆           │\n",
      "│ 2     ┆ 1985 ┆ Dodge      ┆ Charger      ┆ … ┆ 33        ┆ 2013-01-01  ┆ false       ┆ 5         │\n",
      "│       ┆      ┆            ┆              ┆   ┆           ┆ 00:00:00    ┆             ┆           │\n",
      "│ 3     ┆ 1985 ┆ Dodge      ┆ B150/B250    ┆ … ┆ 12        ┆ 2013-01-01  ┆ true        ┆ 3         │\n",
      "│       ┆      ┆            ┆ Wagon 2WD    ┆   ┆           ┆ 00:00:00    ┆             ┆           │\n",
      "│ 4     ┆ 1993 ┆ Subaru     ┆ Legacy AWD   ┆ … ┆ 23        ┆ 2013-01-01  ┆ false       ┆ 5         │\n",
      "│       ┆      ┆            ┆ Turbo        ┆   ┆           ┆ 00:00:00    ┆             ┆           │\n",
      "│ …     ┆ …    ┆ …          ┆ …            ┆ … ┆ …         ┆ …           ┆ …           ┆ …         │\n",
      "│ 48226 ┆ 1993 ┆ Subaru     ┆ Legacy       ┆ … ┆ 26        ┆ 2013-01-01  ┆ true        ┆ 4         │\n",
      "│       ┆      ┆            ┆              ┆   ┆           ┆ 00:00:00    ┆             ┆           │\n",
      "│ 48227 ┆ 1993 ┆ Subaru     ┆ Legacy       ┆ … ┆ 28        ┆ 2013-01-01  ┆ false       ┆ 5         │\n",
      "│       ┆      ┆            ┆              ┆   ┆           ┆ 00:00:00    ┆             ┆           │\n",
      "│ 48228 ┆ 1993 ┆ Subaru     ┆ Legacy AWD   ┆ … ┆ 24        ┆ 2013-01-01  ┆ true        ┆ 4         │\n",
      "│       ┆      ┆            ┆              ┆   ┆           ┆ 00:00:00    ┆             ┆           │\n",
      "│ 48229 ┆ 1993 ┆ Subaru     ┆ Legacy AWD   ┆ … ┆ 24        ┆ 2013-01-01  ┆ false       ┆ 5         │\n",
      "│       ┆      ┆            ┆              ┆   ┆           ┆ 00:00:00    ┆             ┆           │\n",
      "│ 48230 ┆ 1993 ┆ Subaru     ┆ Legacy AWD   ┆ … ┆ 21        ┆ 2013-01-01  ┆ true        ┆ 4         │\n",
      "│       ┆      ┆            ┆ Turbo        ┆   ┆           ┆ 00:00:00    ┆             ┆           │\n",
      "└───────┴──────┴────────────┴──────────────┴───┴───────────┴─────────────┴─────────────┴───────────┘\n"
     ]
    }
   ],
   "source": [
    "# Creating & Simulating Index\n",
    "print(autos\n",
    "      .with_row_index('index')\n",
    "     )"
   ]
  },
  {
   "cell_type": "markdown",
   "id": "d28a4829-ac9f-49cd-91a0-34692aeb986d",
   "metadata": {},
   "source": [
    "### Removing Columns"
   ]
  },
  {
   "cell_type": "code",
   "execution_count": 15,
   "id": "b33a88fa-5b8f-444a-b0f0-d023b39dcef4",
   "metadata": {},
   "outputs": [
    {
     "name": "stdout",
     "output_type": "stream",
     "text": [
      "['year', 'make', 'model', 'displ', 'cylinders', 'trany', 'drive', 'VClass', 'fuelType', 'barrels08', 'city08', 'highway08', 'is_automatic', 'num_gears']\n"
     ]
    }
   ],
   "source": [
    "print(autos\n",
    "      .drop('createdOn')\n",
    "      .columns\n",
    "     )"
   ]
  },
  {
   "cell_type": "code",
   "execution_count": 16,
   "id": "36081f92-04ff-4809-96a1-944a2d42a875",
   "metadata": {},
   "outputs": [],
   "source": [
    "final_cols = ['year', 'make', 'model', 'displ', 'cylinders', 'trany', \n",
    "              'drive', 'VClass', 'fuelType', 'barrels08', 'city08', 'highway08', \n",
    "              'is_automatic', 'num_gears']"
   ]
  },
  {
   "cell_type": "code",
   "execution_count": 17,
   "id": "d8122b2a-da0f-426a-b73c-4efda38fd04e",
   "metadata": {},
   "outputs": [
    {
     "name": "stdout",
     "output_type": "stream",
     "text": [
      "shape: (48_231, 14)\n",
      "┌──────┬────────────┬──────────────────┬───────┬───┬────────┬───────────┬──────────────┬───────────┐\n",
      "│ year ┆ make       ┆ model            ┆ displ ┆ … ┆ city08 ┆ highway08 ┆ is_automatic ┆ num_gears │\n",
      "│ ---  ┆ ---        ┆ ---              ┆ ---   ┆   ┆ ---    ┆ ---       ┆ ---          ┆ ---       │\n",
      "│ i16  ┆ cat        ┆ cat              ┆ f32   ┆   ┆ u8     ┆ u8        ┆ str          ┆ u8        │\n",
      "╞══════╪════════════╪══════════════════╪═══════╪═══╪════════╪═══════════╪══════════════╪═══════════╡\n",
      "│ 1985 ┆ Alfa Romeo ┆ Spider Veloce    ┆ 2.0   ┆ … ┆ 19     ┆ 25        ┆ false        ┆ 5         │\n",
      "│      ┆            ┆ 2000             ┆       ┆   ┆        ┆           ┆              ┆           │\n",
      "│ 1985 ┆ Ferrari    ┆ Testarossa       ┆ 4.9   ┆ … ┆ 9      ┆ 14        ┆ false        ┆ 5         │\n",
      "│ 1985 ┆ Dodge      ┆ Charger          ┆ 2.2   ┆ … ┆ 23     ┆ 33        ┆ false        ┆ 5         │\n",
      "│ 1985 ┆ Dodge      ┆ B150/B250 Wagon  ┆ 5.2   ┆ … ┆ 10     ┆ 12        ┆ true         ┆ 3         │\n",
      "│      ┆            ┆ 2WD              ┆       ┆   ┆        ┆           ┆              ┆           │\n",
      "│ 1993 ┆ Subaru     ┆ Legacy AWD Turbo ┆ 2.2   ┆ … ┆ 17     ┆ 23        ┆ false        ┆ 5         │\n",
      "│ …    ┆ …          ┆ …                ┆ …     ┆ … ┆ …      ┆ …         ┆ …            ┆ …         │\n",
      "│ 1993 ┆ Subaru     ┆ Legacy           ┆ 2.2   ┆ … ┆ 19     ┆ 26        ┆ true         ┆ 4         │\n",
      "│ 1993 ┆ Subaru     ┆ Legacy           ┆ 2.2   ┆ … ┆ 20     ┆ 28        ┆ false        ┆ 5         │\n",
      "│ 1993 ┆ Subaru     ┆ Legacy AWD       ┆ 2.2   ┆ … ┆ 18     ┆ 24        ┆ true         ┆ 4         │\n",
      "│ 1993 ┆ Subaru     ┆ Legacy AWD       ┆ 2.2   ┆ … ┆ 18     ┆ 24        ┆ false        ┆ 5         │\n",
      "│ 1993 ┆ Subaru     ┆ Legacy AWD Turbo ┆ 2.2   ┆ … ┆ 16     ┆ 21        ┆ true         ┆ 4         │\n",
      "└──────┴────────────┴──────────────────┴───────┴───┴────────┴───────────┴──────────────┴───────────┘\n"
     ]
    }
   ],
   "source": [
    "print(autos\n",
    "      .select(final_cols)\n",
    "     )"
   ]
  },
  {
   "cell_type": "markdown",
   "id": "125ea145-2df7-4ca1-b459-e675e5a1e10e",
   "metadata": {},
   "source": [
    "### Renaming Columns"
   ]
  },
  {
   "cell_type": "code",
   "execution_count": 20,
   "id": "1c699b38-db94-4592-b441-6a1d25d2ecae",
   "metadata": {},
   "outputs": [
    {
     "name": "stdout",
     "output_type": "stream",
     "text": [
      "shape: (48_231, 13)\n",
      "┌───────────┬───────────┬───────────┬───────────┬───┬───────────┬───────────┬───────────┬──────────┐\n",
      "│ year_auto ┆ make_auto ┆ model_aut ┆ displ_aut ┆ … ┆ city08_au ┆ highway08 ┆ is_automa ┆ num_gear │\n",
      "│ ---       ┆ ---       ┆ o         ┆ o         ┆   ┆ to        ┆ _auto     ┆ tic_auto  ┆ s_auto   │\n",
      "│ i16       ┆ cat       ┆ ---       ┆ ---       ┆   ┆ ---       ┆ ---       ┆ ---       ┆ ---      │\n",
      "│           ┆           ┆ cat       ┆ f32       ┆   ┆ u8        ┆ u8        ┆ str       ┆ u8       │\n",
      "╞═══════════╪═══════════╪═══════════╪═══════════╪═══╪═══════════╪═══════════╪═══════════╪══════════╡\n",
      "│ 1985      ┆ Alfa      ┆ Spider    ┆ 2.0       ┆ … ┆ 19        ┆ 25        ┆ false     ┆ 5        │\n",
      "│           ┆ Romeo     ┆ Veloce    ┆           ┆   ┆           ┆           ┆           ┆          │\n",
      "│           ┆           ┆ 2000      ┆           ┆   ┆           ┆           ┆           ┆          │\n",
      "│ 1985      ┆ Ferrari   ┆ Testaross ┆ 4.9       ┆ … ┆ 9         ┆ 14        ┆ false     ┆ 5        │\n",
      "│           ┆           ┆ a         ┆           ┆   ┆           ┆           ┆           ┆          │\n",
      "│ 1985      ┆ Dodge     ┆ Charger   ┆ 2.2       ┆ … ┆ 23        ┆ 33        ┆ false     ┆ 5        │\n",
      "│ 1985      ┆ Dodge     ┆ B150/B250 ┆ 5.2       ┆ … ┆ 10        ┆ 12        ┆ true      ┆ 3        │\n",
      "│           ┆           ┆ Wagon 2WD ┆           ┆   ┆           ┆           ┆           ┆          │\n",
      "│ 1993      ┆ Subaru    ┆ Legacy    ┆ 2.2       ┆ … ┆ 17        ┆ 23        ┆ false     ┆ 5        │\n",
      "│           ┆           ┆ AWD Turbo ┆           ┆   ┆           ┆           ┆           ┆          │\n",
      "│ …         ┆ …         ┆ …         ┆ …         ┆ … ┆ …         ┆ …         ┆ …         ┆ …        │\n",
      "│ 1993      ┆ Subaru    ┆ Legacy    ┆ 2.2       ┆ … ┆ 19        ┆ 26        ┆ true      ┆ 4        │\n",
      "│ 1993      ┆ Subaru    ┆ Legacy    ┆ 2.2       ┆ … ┆ 20        ┆ 28        ┆ false     ┆ 5        │\n",
      "│ 1993      ┆ Subaru    ┆ Legacy    ┆ 2.2       ┆ … ┆ 18        ┆ 24        ┆ true      ┆ 4        │\n",
      "│           ┆           ┆ AWD       ┆           ┆   ┆           ┆           ┆           ┆          │\n",
      "│ 1993      ┆ Subaru    ┆ Legacy    ┆ 2.2       ┆ … ┆ 18        ┆ 24        ┆ false     ┆ 5        │\n",
      "│           ┆           ┆ AWD       ┆           ┆   ┆           ┆           ┆           ┆          │\n",
      "│ 1993      ┆ Subaru    ┆ Legacy    ┆ 2.2       ┆ … ┆ 16        ┆ 21        ┆ true      ┆ 4        │\n",
      "│           ┆           ┆ AWD Turbo ┆           ┆   ┆           ┆           ┆           ┆          │\n",
      "└───────────┴───────────┴───────────┴───────────┴───┴───────────┴───────────┴───────────┴──────────┘\n"
     ]
    }
   ],
   "source": [
    "print(autos\n",
    "      .select(pl.all()\n",
    "              .exclude(['createdOn', 'barrels08'])\n",
    "              .name.suffix('_auto'))\n",
    "             )"
   ]
  },
  {
   "cell_type": "code",
   "execution_count": 21,
   "id": "46ad7340-ab12-428c-8397-2725d3cbe730",
   "metadata": {},
   "outputs": [],
   "source": [
    "final_cols = ['year', 'make', 'model', 'city_mpg', 'highway_mpg']"
   ]
  },
  {
   "cell_type": "code",
   "execution_count": 24,
   "id": "4a444ab9-6271-41b2-a263-ac1cc9121b19",
   "metadata": {},
   "outputs": [
    {
     "name": "stdout",
     "output_type": "stream",
     "text": [
      "shape: (48_231, 5)\n",
      "┌──────┬────────────┬─────────────────────┬──────────┬─────────────┐\n",
      "│ year ┆ make       ┆ model               ┆ city_mpg ┆ highway_mpg │\n",
      "│ ---  ┆ ---        ┆ ---                 ┆ ---      ┆ ---         │\n",
      "│ i16  ┆ cat        ┆ cat                 ┆ u8       ┆ u8          │\n",
      "╞══════╪════════════╪═════════════════════╪══════════╪═════════════╡\n",
      "│ 1985 ┆ Alfa Romeo ┆ Spider Veloce 2000  ┆ 19       ┆ 25          │\n",
      "│ 1985 ┆ Ferrari    ┆ Testarossa          ┆ 9        ┆ 14          │\n",
      "│ 1985 ┆ Dodge      ┆ Charger             ┆ 23       ┆ 33          │\n",
      "│ 1985 ┆ Dodge      ┆ B150/B250 Wagon 2WD ┆ 10       ┆ 12          │\n",
      "│ 1993 ┆ Subaru     ┆ Legacy AWD Turbo    ┆ 17       ┆ 23          │\n",
      "│ …    ┆ …          ┆ …                   ┆ …        ┆ …           │\n",
      "│ 1993 ┆ Subaru     ┆ Legacy              ┆ 19       ┆ 26          │\n",
      "│ 1993 ┆ Subaru     ┆ Legacy              ┆ 20       ┆ 28          │\n",
      "│ 1993 ┆ Subaru     ┆ Legacy AWD          ┆ 18       ┆ 24          │\n",
      "│ 1993 ┆ Subaru     ┆ Legacy AWD          ┆ 18       ┆ 24          │\n",
      "│ 1993 ┆ Subaru     ┆ Legacy AWD Turbo    ┆ 16       ┆ 21          │\n",
      "└──────┴────────────┴─────────────────────┴──────────┴─────────────┘\n"
     ]
    }
   ],
   "source": [
    "print(autos\n",
    "      .with_columns(pl.col('city08').alias('city_mpg'),\n",
    "                    highway_mpg=pl.col('highway08'))\n",
    "      .select(final_cols)\n",
    "     )"
   ]
  },
  {
   "cell_type": "markdown",
   "id": "490ae495-b545-4b48-9547-1470782765b8",
   "metadata": {},
   "source": [
    "##### `SyntaxError` due to keyword argument"
   ]
  },
  {
   "cell_type": "code",
   "execution_count": 25,
   "id": "367b967b-91fb-4f33-9da8-6e0d58ef0962",
   "metadata": {},
   "outputs": [
    {
     "ename": "SyntaxError",
     "evalue": "positional argument follows keyword argument (2241669681.py, line 3)",
     "output_type": "error",
     "traceback": [
      "\u001b[0;36m  Cell \u001b[0;32mIn[25], line 3\u001b[0;36m\u001b[0m\n\u001b[0;31m    pl.col('city08').alias('city_mpg'))\u001b[0m\n\u001b[0m                                      ^\u001b[0m\n\u001b[0;31mSyntaxError\u001b[0m\u001b[0;31m:\u001b[0m positional argument follows keyword argument\n"
     ]
    }
   ],
   "source": [
    "print(autos\n",
    "...  .with_columns(highway_mpg=pl.col('highway08'),\n",
    "...                pl.col('city08').alias('city_mpg'))\n",
    "...  .select(final_cols)\n",
    "...  )"
   ]
  },
  {
   "cell_type": "markdown",
   "id": "897f0e19-e657-4a29-8323-02a2b23928a9",
   "metadata": {},
   "source": [
    "#### `.rename` as a Dictionary Mapping"
   ]
  },
  {
   "cell_type": "code",
   "execution_count": 26,
   "id": "23006f81-217f-41be-9975-b9f2247f8e65",
   "metadata": {},
   "outputs": [],
   "source": [
    "final_cols = ['year', 'make', 'model', 'city_mpg', 'highway_mpg']"
   ]
  },
  {
   "cell_type": "code",
   "execution_count": 27,
   "id": "3e268f3a-42bd-4df5-9b96-1c02401648ef",
   "metadata": {},
   "outputs": [
    {
     "name": "stdout",
     "output_type": "stream",
     "text": [
      "shape: (48_231, 5)\n",
      "┌──────┬────────────┬─────────────────────┬──────────┬─────────────┐\n",
      "│ year ┆ make       ┆ model               ┆ city_mpg ┆ highway_mpg │\n",
      "│ ---  ┆ ---        ┆ ---                 ┆ ---      ┆ ---         │\n",
      "│ i16  ┆ cat        ┆ cat                 ┆ u8       ┆ u8          │\n",
      "╞══════╪════════════╪═════════════════════╪══════════╪═════════════╡\n",
      "│ 1985 ┆ Alfa Romeo ┆ Spider Veloce 2000  ┆ 19       ┆ 25          │\n",
      "│ 1985 ┆ Ferrari    ┆ Testarossa          ┆ 9        ┆ 14          │\n",
      "│ 1985 ┆ Dodge      ┆ Charger             ┆ 23       ┆ 33          │\n",
      "│ 1985 ┆ Dodge      ┆ B150/B250 Wagon 2WD ┆ 10       ┆ 12          │\n",
      "│ 1993 ┆ Subaru     ┆ Legacy AWD Turbo    ┆ 17       ┆ 23          │\n",
      "│ …    ┆ …          ┆ …                   ┆ …        ┆ …           │\n",
      "│ 1993 ┆ Subaru     ┆ Legacy              ┆ 19       ┆ 26          │\n",
      "│ 1993 ┆ Subaru     ┆ Legacy              ┆ 20       ┆ 28          │\n",
      "│ 1993 ┆ Subaru     ┆ Legacy AWD          ┆ 18       ┆ 24          │\n",
      "│ 1993 ┆ Subaru     ┆ Legacy AWD          ┆ 18       ┆ 24          │\n",
      "│ 1993 ┆ Subaru     ┆ Legacy AWD Turbo    ┆ 16       ┆ 21          │\n",
      "└──────┴────────────┴─────────────────────┴──────────┴─────────────┘\n"
     ]
    }
   ],
   "source": [
    "print(autos\n",
    "      .rename({'city08':'city_mpg', 'highway08':'highway_mpg'})\n",
    "      .select(final_cols)\n",
    "     )"
   ]
  },
  {
   "cell_type": "markdown",
   "id": "fc49a499-ba0c-443c-a69c-9e8980f3c278",
   "metadata": {},
   "source": [
    "### Joining Data Frames"
   ]
  },
  {
   "cell_type": "code",
   "execution_count": 28,
   "id": "51b29b30-d1c7-4302-925d-4b249b01cb4e",
   "metadata": {},
   "outputs": [],
   "source": [
    "trucks = pl.DataFrame(\n",
    "    {'make': ['Ford', 'Tesla', 'Chevy', 'Custom', 'Ford'],\n",
    "     'model': ['F150', 'Cybertruck', 'Silverado', 'HotRod', 'F250'],\n",
    "     'year': [2018, 2024, 2019, 1967, 2017],\n",
    "     'city_mpg': [19, None, 17, 12, 18],\n",
    "    })"
   ]
  },
  {
   "cell_type": "code",
   "execution_count": 30,
   "id": "20803886-7711-4295-bb9d-ca50f3b49e8d",
   "metadata": {},
   "outputs": [
    {
     "name": "stdout",
     "output_type": "stream",
     "text": [
      "shape: (5, 4)\n",
      "┌────────┬────────────┬──────┬──────────┐\n",
      "│ make   ┆ model      ┆ year ┆ city_mpg │\n",
      "│ ---    ┆ ---        ┆ ---  ┆ ---      │\n",
      "│ str    ┆ str        ┆ i64  ┆ i64      │\n",
      "╞════════╪════════════╪══════╪══════════╡\n",
      "│ Ford   ┆ F150       ┆ 2018 ┆ 19       │\n",
      "│ Tesla  ┆ Cybertruck ┆ 2024 ┆ null     │\n",
      "│ Chevy  ┆ Silverado  ┆ 2019 ┆ 17       │\n",
      "│ Custom ┆ HotRod     ┆ 1967 ┆ 12       │\n",
      "│ Ford   ┆ F250       ┆ 2017 ┆ 18       │\n",
      "└────────┴────────────┴──────┴──────────┘\n"
     ]
    }
   ],
   "source": [
    "print(trucks)"
   ]
  },
  {
   "cell_type": "code",
   "execution_count": 31,
   "id": "03fce32a-a8bc-4cff-8e90-66edd6d01244",
   "metadata": {},
   "outputs": [],
   "source": [
    "manufacturer = pl.DataFrame(\n",
    "    {'name': ['Ford', 'Tesla', 'Chevy', 'Toyota'],\n",
    "     'country': ['USA', 'USA', 'USA', 'Japan'],\n",
    "     'founded': [1903, 2003, 1911, 1937],\n",
    "     'employees': [199_000, 48_000, 225_000, 370_000],\n",
    "     'vehicles': [80, 3, 45, 30],\n",
    "    })"
   ]
  },
  {
   "cell_type": "code",
   "execution_count": 32,
   "id": "844639fc-05db-42a4-9987-325d102fc1ab",
   "metadata": {},
   "outputs": [
    {
     "name": "stdout",
     "output_type": "stream",
     "text": [
      "shape: (4, 5)\n",
      "┌────────┬─────────┬─────────┬───────────┬──────────┐\n",
      "│ name   ┆ country ┆ founded ┆ employees ┆ vehicles │\n",
      "│ ---    ┆ ---     ┆ ---     ┆ ---       ┆ ---      │\n",
      "│ str    ┆ str     ┆ i64     ┆ i64       ┆ i64      │\n",
      "╞════════╪═════════╪═════════╪═══════════╪══════════╡\n",
      "│ Ford   ┆ USA     ┆ 1903    ┆ 199000    ┆ 80       │\n",
      "│ Tesla  ┆ USA     ┆ 2003    ┆ 48000     ┆ 3        │\n",
      "│ Chevy  ┆ USA     ┆ 1911    ┆ 225000    ┆ 45       │\n",
      "│ Toyota ┆ Japan   ┆ 1937    ┆ 370000    ┆ 30       │\n",
      "└────────┴─────────┴─────────┴───────────┴──────────┘\n"
     ]
    }
   ],
   "source": [
    "print(manufacturer)"
   ]
  },
  {
   "cell_type": "code",
   "execution_count": 33,
   "id": "08fa0b81-4df4-4a0c-9a1c-92372658c82d",
   "metadata": {},
   "outputs": [
    {
     "ename": "ValueError",
     "evalue": "must specify `on` OR `left_on` and `right_on`",
     "output_type": "error",
     "traceback": [
      "\u001b[0;31m---------------------------------------------------------------------------\u001b[0m",
      "\u001b[0;31mValueError\u001b[0m                                Traceback (most recent call last)",
      "Cell \u001b[0;32mIn[33], line 1\u001b[0m\n\u001b[0;32m----> 1\u001b[0m \u001b[38;5;28mprint\u001b[39m(manufacturer\u001b[38;5;241m.\u001b[39mjoin(trucks, how\u001b[38;5;241m=\u001b[39m\u001b[38;5;124m'\u001b[39m\u001b[38;5;124mleft\u001b[39m\u001b[38;5;124m'\u001b[39m))\n",
      "File \u001b[0;32m~/anaconda3/envs/polars/lib/python3.11/site-packages/polars/dataframe/frame.py:7145\u001b[0m, in \u001b[0;36mDataFrame.join\u001b[0;34m(self, other, on, how, left_on, right_on, suffix, validate, join_nulls, coalesce)\u001b[0m\n\u001b[1;32m   7140\u001b[0m     msg \u001b[38;5;241m=\u001b[39m \u001b[38;5;124mf\u001b[39m\u001b[38;5;124m\"\u001b[39m\u001b[38;5;124mexpected `other` join table to be a DataFrame, got \u001b[39m\u001b[38;5;132;01m{\u001b[39;00m\u001b[38;5;28mtype\u001b[39m(other)\u001b[38;5;241m.\u001b[39m\u001b[38;5;18m__name__\u001b[39m\u001b[38;5;132;01m!r}\u001b[39;00m\u001b[38;5;124m\"\u001b[39m\n\u001b[1;32m   7141\u001b[0m     \u001b[38;5;28;01mraise\u001b[39;00m \u001b[38;5;167;01mTypeError\u001b[39;00m(msg)\n\u001b[1;32m   7143\u001b[0m \u001b[38;5;28;01mreturn\u001b[39;00m (\n\u001b[1;32m   7144\u001b[0m     \u001b[38;5;28mself\u001b[39m\u001b[38;5;241m.\u001b[39mlazy()\n\u001b[0;32m-> 7145\u001b[0m     \u001b[38;5;241m.\u001b[39mjoin(\n\u001b[1;32m   7146\u001b[0m         other\u001b[38;5;241m=\u001b[39mother\u001b[38;5;241m.\u001b[39mlazy(),\n\u001b[1;32m   7147\u001b[0m         left_on\u001b[38;5;241m=\u001b[39mleft_on,\n\u001b[1;32m   7148\u001b[0m         right_on\u001b[38;5;241m=\u001b[39mright_on,\n\u001b[1;32m   7149\u001b[0m         on\u001b[38;5;241m=\u001b[39mon,\n\u001b[1;32m   7150\u001b[0m         how\u001b[38;5;241m=\u001b[39mhow,\n\u001b[1;32m   7151\u001b[0m         suffix\u001b[38;5;241m=\u001b[39msuffix,\n\u001b[1;32m   7152\u001b[0m         validate\u001b[38;5;241m=\u001b[39mvalidate,\n\u001b[1;32m   7153\u001b[0m         join_nulls\u001b[38;5;241m=\u001b[39mjoin_nulls,\n\u001b[1;32m   7154\u001b[0m         coalesce\u001b[38;5;241m=\u001b[39mcoalesce,\n\u001b[1;32m   7155\u001b[0m     )\n\u001b[1;32m   7156\u001b[0m     \u001b[38;5;241m.\u001b[39mcollect(_eager\u001b[38;5;241m=\u001b[39m\u001b[38;5;28;01mTrue\u001b[39;00m)\n\u001b[1;32m   7157\u001b[0m )\n",
      "File \u001b[0;32m~/anaconda3/envs/polars/lib/python3.11/site-packages/polars/lazyframe/frame.py:4589\u001b[0m, in \u001b[0;36mLazyFrame.join\u001b[0;34m(self, other, on, how, left_on, right_on, suffix, validate, join_nulls, coalesce, allow_parallel, force_parallel)\u001b[0m\n\u001b[1;32m   4587\u001b[0m \u001b[38;5;28;01melse\u001b[39;00m:\n\u001b[1;32m   4588\u001b[0m     msg \u001b[38;5;241m=\u001b[39m \u001b[38;5;124m\"\u001b[39m\u001b[38;5;124mmust specify `on` OR `left_on` and `right_on`\u001b[39m\u001b[38;5;124m\"\u001b[39m\n\u001b[0;32m-> 4589\u001b[0m     \u001b[38;5;28;01mraise\u001b[39;00m \u001b[38;5;167;01mValueError\u001b[39;00m(msg)\n\u001b[1;32m   4591\u001b[0m \u001b[38;5;28;01mreturn\u001b[39;00m \u001b[38;5;28mself\u001b[39m\u001b[38;5;241m.\u001b[39m_from_pyldf(\n\u001b[1;32m   4592\u001b[0m     \u001b[38;5;28mself\u001b[39m\u001b[38;5;241m.\u001b[39m_ldf\u001b[38;5;241m.\u001b[39mjoin(\n\u001b[1;32m   4593\u001b[0m         other\u001b[38;5;241m.\u001b[39m_ldf,\n\u001b[0;32m   (...)\u001b[0m\n\u001b[1;32m   4603\u001b[0m     )\n\u001b[1;32m   4604\u001b[0m )\n",
      "\u001b[0;31mValueError\u001b[0m: must specify `on` OR `left_on` and `right_on`"
     ]
    }
   ],
   "source": [
    "print(manufacturer.join(trucks, how='left'))"
   ]
  },
  {
   "cell_type": "code",
   "execution_count": 34,
   "id": "506aa54e-fd66-4349-9176-393d8287b2d0",
   "metadata": {},
   "outputs": [
    {
     "name": "stdout",
     "output_type": "stream",
     "text": [
      "shape: (5, 8)\n",
      "┌────────┬─────────┬─────────┬───────────┬──────────┬────────────┬──────┬──────────┐\n",
      "│ name   ┆ country ┆ founded ┆ employees ┆ vehicles ┆ model      ┆ year ┆ city_mpg │\n",
      "│ ---    ┆ ---     ┆ ---     ┆ ---       ┆ ---      ┆ ---        ┆ ---  ┆ ---      │\n",
      "│ str    ┆ str     ┆ i64     ┆ i64       ┆ i64      ┆ str        ┆ i64  ┆ i64      │\n",
      "╞════════╪═════════╪═════════╪═══════════╪══════════╪════════════╪══════╪══════════╡\n",
      "│ Ford   ┆ USA     ┆ 1903    ┆ 199000    ┆ 80       ┆ F150       ┆ 2018 ┆ 19       │\n",
      "│ Ford   ┆ USA     ┆ 1903    ┆ 199000    ┆ 80       ┆ F250       ┆ 2017 ┆ 18       │\n",
      "│ Tesla  ┆ USA     ┆ 2003    ┆ 48000     ┆ 3        ┆ Cybertruck ┆ 2024 ┆ null     │\n",
      "│ Chevy  ┆ USA     ┆ 1911    ┆ 225000    ┆ 45       ┆ Silverado  ┆ 2019 ┆ 17       │\n",
      "│ Toyota ┆ Japan   ┆ 1937    ┆ 370000    ┆ 30       ┆ null       ┆ null ┆ null     │\n",
      "└────────┴─────────┴─────────┴───────────┴──────────┴────────────┴──────┴──────────┘\n"
     ]
    }
   ],
   "source": [
    "print(manufacturer.join(trucks, how='left', left_on='name', right_on='make'))"
   ]
  },
  {
   "cell_type": "code",
   "execution_count": null,
   "id": "09f91898-dd74-4bf8-a8b2-5a7679d72a38",
   "metadata": {},
   "outputs": [],
   "source": []
  }
 ],
 "metadata": {
  "kernelspec": {
   "display_name": "Python 3 (ipykernel)",
   "language": "python",
   "name": "python3"
  },
  "language_info": {
   "codemirror_mode": {
    "name": "ipython",
    "version": 3
   },
   "file_extension": ".py",
   "mimetype": "text/x-python",
   "name": "python",
   "nbconvert_exporter": "python",
   "pygments_lexer": "ipython3",
   "version": "3.11.8"
  }
 },
 "nbformat": 4,
 "nbformat_minor": 5
}
