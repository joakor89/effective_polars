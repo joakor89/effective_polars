{
 "cells": [
  {
   "cell_type": "markdown",
   "id": "9d2b1162-def9-46c2-8937-b2e2503049e9",
   "metadata": {},
   "source": [
    "# Aggregation with Polars\n",
    "\n",
    "### Loading Libraries"
   ]
  },
  {
   "cell_type": "code",
   "execution_count": 1,
   "id": "8696b655-131f-46fa-b98c-0bc6d6eff89d",
   "metadata": {},
   "outputs": [],
   "source": [
    "# ZipFiles\n",
    "import zipfile\n",
    "\n",
    "# Numerical Computing\n",
    "import numpy as np\n",
    "\n",
    "# Data Manipulation\n",
    "import pandas as pd\n",
    "import polars as pl\n",
    "import polars.selectors as cs\n",
    "\n",
    "# Data Visualization\n",
    "import seaborn as sns\n",
    "import matplotlib.pyplot as plt\n",
    "\n",
    "# XGBoost\n",
    "import xgboost as xgb"
   ]
  },
  {
   "cell_type": "markdown",
   "id": "c9edf833-0ca6-4fc9-8060-9330eba03306",
   "metadata": {},
   "source": [
    "## Loading Data"
   ]
  },
  {
   "cell_type": "code",
   "execution_count": 6,
   "id": "dbffc04f-d81d-46ef-92a5-df11d90a6528",
   "metadata": {},
   "outputs": [],
   "source": [
    "# Path\n",
    "path = '/Users/isisromero/desktop/polars/datasets/vehicles.csv'"
   ]
  },
  {
   "cell_type": "code",
   "execution_count": 7,
   "id": "488e4941-b29c-4fa8-aa69-6e2b13f56113",
   "metadata": {},
   "outputs": [],
   "source": [
    "raw = pl.read_csv(path, null_values=['NA'])"
   ]
  },
  {
   "cell_type": "code",
   "execution_count": 8,
   "id": "d53d8a2f-414b-4258-af31-895aa57dfebc",
   "metadata": {},
   "outputs": [],
   "source": [
    "def tweak_auto(df):\n",
    "    cols = ['year', 'make', 'model', 'displ', 'cylinders', 'trany', \n",
    "            'drive', 'VClass', 'fuelType', 'barrels08', 'city08', 'highway08', 'createdOn']\n",
    "    return (df\n",
    "            .select(pl.col(cols))\n",
    "            .with_columns(pl.col('year').cast(pl.Int16),\n",
    "                          pl.col(['cylinders', 'highway08', 'city08']).cast(pl.UInt8),\n",
    "                          pl.col(['displ', 'barrels08']).cast(pl.Float32),\n",
    "                          pl.col(['make', 'model', 'VClass', 'drive', 'fuelType']).cast(pl.Categorical),\n",
    "                          pl.col('createdOn').str.to_datetime('%a %b %d %H:%M:%S %Z %Y'),\n",
    "                          is_automatic=pl.col('trany')                    \n",
    "                          .str.contains('Automatic')\n",
    "                          .fill_null('Automatic'),\n",
    "                          num_gears=pl.col('trany')\n",
    "                          .str.extract(r'(\\d+)')\n",
    "                          .cast(pl.UInt8)\n",
    "                          .fill_null(6))\n",
    "           )"
   ]
  },
  {
   "cell_type": "code",
   "execution_count": 9,
   "id": "f95c3b31-45df-4dec-ad91-563fc19f32c9",
   "metadata": {},
   "outputs": [],
   "source": [
    "autos = tweak_auto(raw)"
   ]
  },
  {
   "cell_type": "code",
   "execution_count": 10,
   "id": "71813929-8baf-4d17-b9f1-f768b0ce4c96",
   "metadata": {},
   "outputs": [
    {
     "name": "stdout",
     "output_type": "stream",
     "text": [
      "shape: (48_231, 15)\n",
      "┌──────┬────────────┬──────────────┬───────┬───┬───────────┬─────────────┬─────────────┬───────────┐\n",
      "│ year ┆ make       ┆ model        ┆ displ ┆ … ┆ highway08 ┆ createdOn   ┆ is_automati ┆ num_gears │\n",
      "│ ---  ┆ ---        ┆ ---          ┆ ---   ┆   ┆ ---       ┆ ---         ┆ c           ┆ ---       │\n",
      "│ i16  ┆ cat        ┆ cat          ┆ f32   ┆   ┆ u8        ┆ datetime[μs ┆ ---         ┆ u8        │\n",
      "│      ┆            ┆              ┆       ┆   ┆           ┆ ]           ┆ str         ┆           │\n",
      "╞══════╪════════════╪══════════════╪═══════╪═══╪═══════════╪═════════════╪═════════════╪═══════════╡\n",
      "│ 1985 ┆ Alfa Romeo ┆ Spider       ┆ 2.0   ┆ … ┆ 25        ┆ 2013-01-01  ┆ false       ┆ 5         │\n",
      "│      ┆            ┆ Veloce 2000  ┆       ┆   ┆           ┆ 00:00:00    ┆             ┆           │\n",
      "│ 1985 ┆ Ferrari    ┆ Testarossa   ┆ 4.9   ┆ … ┆ 14        ┆ 2013-01-01  ┆ false       ┆ 5         │\n",
      "│      ┆            ┆              ┆       ┆   ┆           ┆ 00:00:00    ┆             ┆           │\n",
      "│ 1985 ┆ Dodge      ┆ Charger      ┆ 2.2   ┆ … ┆ 33        ┆ 2013-01-01  ┆ false       ┆ 5         │\n",
      "│      ┆            ┆              ┆       ┆   ┆           ┆ 00:00:00    ┆             ┆           │\n",
      "│ 1985 ┆ Dodge      ┆ B150/B250    ┆ 5.2   ┆ … ┆ 12        ┆ 2013-01-01  ┆ true        ┆ 3         │\n",
      "│      ┆            ┆ Wagon 2WD    ┆       ┆   ┆           ┆ 00:00:00    ┆             ┆           │\n",
      "│ 1993 ┆ Subaru     ┆ Legacy AWD   ┆ 2.2   ┆ … ┆ 23        ┆ 2013-01-01  ┆ false       ┆ 5         │\n",
      "│      ┆            ┆ Turbo        ┆       ┆   ┆           ┆ 00:00:00    ┆             ┆           │\n",
      "│ …    ┆ …          ┆ …            ┆ …     ┆ … ┆ …         ┆ …           ┆ …           ┆ …         │\n",
      "│ 1993 ┆ Subaru     ┆ Legacy       ┆ 2.2   ┆ … ┆ 26        ┆ 2013-01-01  ┆ true        ┆ 4         │\n",
      "│      ┆            ┆              ┆       ┆   ┆           ┆ 00:00:00    ┆             ┆           │\n",
      "│ 1993 ┆ Subaru     ┆ Legacy       ┆ 2.2   ┆ … ┆ 28        ┆ 2013-01-01  ┆ false       ┆ 5         │\n",
      "│      ┆            ┆              ┆       ┆   ┆           ┆ 00:00:00    ┆             ┆           │\n",
      "│ 1993 ┆ Subaru     ┆ Legacy AWD   ┆ 2.2   ┆ … ┆ 24        ┆ 2013-01-01  ┆ true        ┆ 4         │\n",
      "│      ┆            ┆              ┆       ┆   ┆           ┆ 00:00:00    ┆             ┆           │\n",
      "│ 1993 ┆ Subaru     ┆ Legacy AWD   ┆ 2.2   ┆ … ┆ 24        ┆ 2013-01-01  ┆ false       ┆ 5         │\n",
      "│      ┆            ┆              ┆       ┆   ┆           ┆ 00:00:00    ┆             ┆           │\n",
      "│ 1993 ┆ Subaru     ┆ Legacy AWD   ┆ 2.2   ┆ … ┆ 21        ┆ 2013-01-01  ┆ true        ┆ 4         │\n",
      "│      ┆            ┆ Turbo        ┆       ┆   ┆           ┆ 00:00:00    ┆             ┆           │\n",
      "└──────┴────────────┴──────────────┴───────┴───┴───────────┴─────────────┴─────────────┴───────────┘\n"
     ]
    }
   ],
   "source": [
    "print(autos)"
   ]
  },
  {
   "cell_type": "markdown",
   "id": "4d2358b4-7114-4ff3-9f39-1970b416ad48",
   "metadata": {},
   "source": [
    "### Aggreations"
   ]
  },
  {
   "cell_type": "code",
   "execution_count": 12,
   "id": "183737b0-eb3f-4eff-bd44-d98df7378566",
   "metadata": {},
   "outputs": [
    {
     "name": "stdout",
     "output_type": "stream",
     "text": [
      "['abs', 'add', 'agg_groups', 'alias', 'all', 'and_', 'any', 'append', 'approx_n_unique', 'arccos', 'arccosh', 'arcsin', 'arcsinh', 'arctan', 'arctanh', 'arg_max', 'arg_min', 'arg_sort', 'arg_true', 'arg_unique', 'arr', 'backward_fill', 'bin', 'bitwise_and', 'bitwise_count_ones', 'bitwise_count_zeros', 'bitwise_leading_ones', 'bitwise_leading_zeros', 'bitwise_or', 'bitwise_trailing_ones', 'bitwise_trailing_zeros', 'bitwise_xor', 'bottom_k', 'bottom_k_by', 'cast', 'cat', 'cbrt', 'ceil', 'clip', 'cos', 'cosh', 'cot', 'count', 'cum_count', 'cum_max', 'cum_min', 'cum_prod', 'cum_sum', 'cumulative_eval', 'cut', 'degrees', 'deserialize', 'diff', 'dot', 'drop_nans', 'drop_nulls', 'dt', 'entropy', 'eq', 'eq_missing', 'ewm_mean', 'ewm_mean_by', 'ewm_std', 'ewm_var', 'exclude', 'exp', 'explode', 'extend_constant', 'fill_nan', 'fill_null', 'filter', 'first', 'flatten', 'floor', 'floordiv', 'forward_fill', 'from_json', 'gather', 'gather_every', 'ge', 'get', 'gt', 'has_nulls', 'hash', 'head', 'hist', 'implode', 'inspect', 'interpolate', 'interpolate_by', 'is_between', 'is_duplicated', 'is_finite', 'is_first_distinct', 'is_in', 'is_infinite', 'is_last_distinct', 'is_nan', 'is_not_nan', 'is_not_null', 'is_null', 'is_unique', 'kurtosis', 'last', 'le', 'len', 'limit', 'list', 'log', 'log10', 'log1p', 'lower_bound', 'lt', 'map_batches', 'map_elements', 'max', 'mean', 'median', 'meta', 'min', 'mod', 'mode', 'mul', 'n_unique', 'name', 'nan_max', 'nan_min', 'ne', 'ne_missing', 'neg', 'not_', 'null_count', 'or_', 'over', 'pct_change', 'peak_max', 'peak_min', 'pipe', 'pow', 'product', 'qcut', 'quantile', 'radians', 'rank', 'rechunk', 'register_plugin', 'reinterpret', 'repeat_by', 'replace', 'replace_strict', 'reshape', 'reverse', 'rle', 'rle_id', 'rolling', 'rolling_map', 'rolling_max', 'rolling_max_by', 'rolling_mean', 'rolling_mean_by', 'rolling_median', 'rolling_median_by', 'rolling_min', 'rolling_min_by', 'rolling_quantile', 'rolling_quantile_by', 'rolling_skew', 'rolling_std', 'rolling_std_by', 'rolling_sum', 'rolling_sum_by', 'rolling_var', 'rolling_var_by', 'round', 'round_sig_figs', 'sample', 'search_sorted', 'set_sorted', 'shift', 'shrink_dtype', 'shuffle', 'sign', 'sin', 'sinh', 'skew', 'slice', 'sort', 'sort_by', 'sqrt', 'std', 'str', 'struct', 'sub', 'sum', 'tail', 'tan', 'tanh', 'to_physical', 'top_k', 'top_k_by', 'truediv', 'unique', 'unique_counts', 'upper_bound', 'value_counts', 'var', 'where', 'xor']\n"
     ]
    }
   ],
   "source": [
    "col = pl.col('make')\n",
    "\n",
    "print(sorted(att for att in dir(col) if not att.startswith('_')))"
   ]
  },
  {
   "cell_type": "code",
   "execution_count": 13,
   "id": "b6797ee2-38fb-4c73-88bb-7584e2f82f40",
   "metadata": {},
   "outputs": [],
   "source": [
    "city = pl.col('city08')"
   ]
  },
  {
   "cell_type": "code",
   "execution_count": 14,
   "id": "95fcc313-6919-4dbb-90af-015000e25878",
   "metadata": {},
   "outputs": [
    {
     "name": "stdout",
     "output_type": "stream",
     "text": [
      "shape: (1, 4)\n",
      "┌───────────┬───────────┬────────────┬──────────┐\n",
      "│ mean_city ┆ std_city  ┆ var_city   ┆ q99_city │\n",
      "│ ---       ┆ ---       ┆ ---        ┆ ---      │\n",
      "│ f64       ┆ f64       ┆ f64        ┆ f64      │\n",
      "╞═══════════╪═══════════╪════════════╪══════════╡\n",
      "│ 19.932533 ┆ 12.656606 ┆ 160.189684 ┆ 95.0     │\n",
      "└───────────┴───────────┴────────────┴──────────┘\n"
     ]
    }
   ],
   "source": [
    "# \n",
    "print(autos\n",
    "      .select(mean_city=city.mean(),\n",
    "              std_city=city.std(),\n",
    "              var_city=city.var(),\n",
    "              q99_city=city.quantile(.99)\n",
    "             )\n",
    "     )"
   ]
  },
  {
   "cell_type": "code",
   "execution_count": 15,
   "id": "c504abbf-f932-4410-9a46-12e037f07900",
   "metadata": {},
   "outputs": [
    {
     "name": "stdout",
     "output_type": "stream",
     "text": [
      "shape: (48_231, 16)\n",
      "┌──────┬────────────┬──────────────┬───────┬───┬─────────────┬─────────────┬───────────┬───────────┐\n",
      "│ year ┆ make       ┆ model        ┆ displ ┆ … ┆ createdOn   ┆ is_automati ┆ num_gears ┆ mean_city │\n",
      "│ ---  ┆ ---        ┆ ---          ┆ ---   ┆   ┆ ---         ┆ c           ┆ ---       ┆ ---       │\n",
      "│ i16  ┆ cat        ┆ cat          ┆ f32   ┆   ┆ datetime[μs ┆ ---         ┆ u8        ┆ f64       │\n",
      "│      ┆            ┆              ┆       ┆   ┆ ]           ┆ str         ┆           ┆           │\n",
      "╞══════╪════════════╪══════════════╪═══════╪═══╪═════════════╪═════════════╪═══════════╪═══════════╡\n",
      "│ 1985 ┆ Alfa Romeo ┆ Spider       ┆ 2.0   ┆ … ┆ 2013-01-01  ┆ false       ┆ 5         ┆ 19.932533 │\n",
      "│      ┆            ┆ Veloce 2000  ┆       ┆   ┆ 00:00:00    ┆             ┆           ┆           │\n",
      "│ 1985 ┆ Ferrari    ┆ Testarossa   ┆ 4.9   ┆ … ┆ 2013-01-01  ┆ false       ┆ 5         ┆ 19.932533 │\n",
      "│      ┆            ┆              ┆       ┆   ┆ 00:00:00    ┆             ┆           ┆           │\n",
      "│ 1985 ┆ Dodge      ┆ Charger      ┆ 2.2   ┆ … ┆ 2013-01-01  ┆ false       ┆ 5         ┆ 19.932533 │\n",
      "│      ┆            ┆              ┆       ┆   ┆ 00:00:00    ┆             ┆           ┆           │\n",
      "│ 1985 ┆ Dodge      ┆ B150/B250    ┆ 5.2   ┆ … ┆ 2013-01-01  ┆ true        ┆ 3         ┆ 19.932533 │\n",
      "│      ┆            ┆ Wagon 2WD    ┆       ┆   ┆ 00:00:00    ┆             ┆           ┆           │\n",
      "│ 1993 ┆ Subaru     ┆ Legacy AWD   ┆ 2.2   ┆ … ┆ 2013-01-01  ┆ false       ┆ 5         ┆ 19.932533 │\n",
      "│      ┆            ┆ Turbo        ┆       ┆   ┆ 00:00:00    ┆             ┆           ┆           │\n",
      "│ …    ┆ …          ┆ …            ┆ …     ┆ … ┆ …           ┆ …           ┆ …         ┆ …         │\n",
      "│ 1993 ┆ Subaru     ┆ Legacy       ┆ 2.2   ┆ … ┆ 2013-01-01  ┆ true        ┆ 4         ┆ 19.932533 │\n",
      "│      ┆            ┆              ┆       ┆   ┆ 00:00:00    ┆             ┆           ┆           │\n",
      "│ 1993 ┆ Subaru     ┆ Legacy       ┆ 2.2   ┆ … ┆ 2013-01-01  ┆ false       ┆ 5         ┆ 19.932533 │\n",
      "│      ┆            ┆              ┆       ┆   ┆ 00:00:00    ┆             ┆           ┆           │\n",
      "│ 1993 ┆ Subaru     ┆ Legacy AWD   ┆ 2.2   ┆ … ┆ 2013-01-01  ┆ true        ┆ 4         ┆ 19.932533 │\n",
      "│      ┆            ┆              ┆       ┆   ┆ 00:00:00    ┆             ┆           ┆           │\n",
      "│ 1993 ┆ Subaru     ┆ Legacy AWD   ┆ 2.2   ┆ … ┆ 2013-01-01  ┆ false       ┆ 5         ┆ 19.932533 │\n",
      "│      ┆            ┆              ┆       ┆   ┆ 00:00:00    ┆             ┆           ┆           │\n",
      "│ 1993 ┆ Subaru     ┆ Legacy AWD   ┆ 2.2   ┆ … ┆ 2013-01-01  ┆ true        ┆ 4         ┆ 19.932533 │\n",
      "│      ┆            ┆ Turbo        ┆       ┆   ┆ 00:00:00    ┆             ┆           ┆           │\n",
      "└──────┴────────────┴──────────────┴───────┴───┴─────────────┴─────────────┴───────────┴───────────┘\n"
     ]
    }
   ],
   "source": [
    "print(autos\n",
    "      .with_columns(mean_city=city.mean())\n",
    "     )"
   ]
  },
  {
   "cell_type": "markdown",
   "id": "4e4edad8-7d15-4448-8600-39acc10a811e",
   "metadata": {},
   "source": [
    "### List"
   ]
  },
  {
   "cell_type": "code",
   "execution_count": 16,
   "id": "3fb49c7a-b4dc-433a-96a1-087ae0be2507",
   "metadata": {},
   "outputs": [],
   "source": [
    "tests = pl.DataFrame({'name':['Tom', 'Sally', 'Jose'],\n",
    "                      'test1':[99, 98, 95],\n",
    "                      'test2':[92, None, 99],\n",
    "                      'test3':[91, 93, 95],\n",
    "                      'test4':[94, 92, 99]})"
   ]
  },
  {
   "cell_type": "code",
   "execution_count": 17,
   "id": "952cc7b8-f48a-41ef-84ae-98670711aa8a",
   "metadata": {},
   "outputs": [
    {
     "name": "stdout",
     "output_type": "stream",
     "text": [
      "shape: (3, 5)\n",
      "┌───────┬───────┬───────┬───────┬───────┐\n",
      "│ name  ┆ test1 ┆ test2 ┆ test3 ┆ test4 │\n",
      "│ ---   ┆ ---   ┆ ---   ┆ ---   ┆ ---   │\n",
      "│ str   ┆ i64   ┆ i64   ┆ i64   ┆ i64   │\n",
      "╞═══════╪═══════╪═══════╪═══════╪═══════╡\n",
      "│ Tom   ┆ 99    ┆ 92    ┆ 91    ┆ 94    │\n",
      "│ Sally ┆ 98    ┆ null  ┆ 93    ┆ 92    │\n",
      "│ Jose  ┆ 95    ┆ 99    ┆ 95    ┆ 99    │\n",
      "└───────┴───────┴───────┴───────┴───────┘\n"
     ]
    }
   ],
   "source": [
    "print(tests)"
   ]
  },
  {
   "cell_type": "code",
   "execution_count": 18,
   "id": "eb3d0b4c-7812-440f-8fb6-3a280e20f75e",
   "metadata": {},
   "outputs": [
    {
     "name": "stdout",
     "output_type": "stream",
     "text": [
      "shape: (3, 4)\n",
      "┌──────────────────┬──────────────────┬──────────────┬────────────┐\n",
      "│ scores           ┆ sorted_scores    ┆ slice_scores ┆ sum_scores │\n",
      "│ ---              ┆ ---              ┆ ---          ┆ ---        │\n",
      "│ list[i64]        ┆ list[i64]        ┆ list[i64]    ┆ i64        │\n",
      "╞══════════════════╪══════════════════╪══════════════╪════════════╡\n",
      "│ [99, 92, … 94]   ┆ [91, 92, … 99]   ┆ [94, 99]     ┆ 193        │\n",
      "│ [98, null, … 92] ┆ [null, 92, … 98] ┆ [93, 98]     ┆ 191        │\n",
      "│ [95, 99, … 99]   ┆ [95, 95, … 99]   ┆ [99, 99]     ┆ 198        │\n",
      "└──────────────────┴──────────────────┴──────────────┴────────────┘\n"
     ]
    }
   ],
   "source": [
    "print(tests\n",
    "      .select(scores=pl.concat_list(cs.matches(r'test\\d+')))\n",
    "      .with_columns(sorted_scores=pl.col('scores').list.sort())\n",
    "      .with_columns(slice_scores=pl.col('sorted_scores').list.slice(2,4))\n",
    "      .with_columns(sum_scores=pl.col('slice_scores').list.sum())\n",
    "     )"
   ]
  },
  {
   "cell_type": "code",
   "execution_count": 20,
   "id": "666be55f-042c-42c5-964e-26b7c8bbef28",
   "metadata": {},
   "outputs": [
    {
     "name": "stdout",
     "output_type": "stream",
     "text": [
      "shape: (3, 4)\n",
      "┌───────┬───────┬───────┬───────┐\n",
      "│ test1 ┆ test2 ┆ test3 ┆ test4 │\n",
      "│ ---   ┆ ---   ┆ ---   ┆ ---   │\n",
      "│ i64   ┆ i64   ┆ i64   ┆ i64   │\n",
      "╞═══════╪═══════╪═══════╪═══════╡\n",
      "│ 99    ┆ 92    ┆ 91    ┆ 94    │\n",
      "│ 98    ┆ null  ┆ 93    ┆ 92    │\n",
      "│ 95    ┆ 99    ┆ 95    ┆ 99    │\n",
      "└───────┴───────┴───────┴───────┘\n"
     ]
    }
   ],
   "source": [
    "# By Excluding name\n",
    "print(tests.select(pl.all().exclude('name')))"
   ]
  },
  {
   "cell_type": "code",
   "execution_count": 21,
   "id": "794f7493-c5fa-4824-84b2-d7e2a49a55f0",
   "metadata": {},
   "outputs": [
    {
     "ename": "InvalidOperationError",
     "evalue": "arithmetic on string and numeric not allowed, try an explicit cast first\n\nResolved plan until failure:\n\n\t---> FAILED HERE RESOLVING 'select' <---\n SELECT [[(col(\"name\")) - (col(\"name\"))], [(col(\"test1\")) - (col(\"name\"))], [(col(\"test2\")) - (col(\"name\"))], [(col(\"test3\")) - (col(\"name\"))], [(col(\"test4\")) - (col(\"name\"))]] FROM\n  DF [\"name\", \"test1\", \"test2\", \"test3\"]; PROJECT */5 COLUMNS; SELECTION: None",
     "output_type": "error",
     "traceback": [
      "\u001b[0;31m---------------------------------------------------------------------------\u001b[0m",
      "\u001b[0;31mInvalidOperationError\u001b[0m                     Traceback (most recent call last)",
      "Cell \u001b[0;32mIn[21], line 2\u001b[0m\n\u001b[1;32m      1\u001b[0m \u001b[38;5;66;03m# Setting Difference\u001b[39;00m\n\u001b[0;32m----> 2\u001b[0m (tests\u001b[38;5;241m.\u001b[39mselect(pl\u001b[38;5;241m.\u001b[39mall() \u001b[38;5;241m-\u001b[39m pl\u001b[38;5;241m.\u001b[39mcol(\u001b[38;5;124m'\u001b[39m\u001b[38;5;124mname\u001b[39m\u001b[38;5;124m'\u001b[39m)))\n",
      "File \u001b[0;32m~/anaconda3/envs/polars/lib/python3.11/site-packages/polars/dataframe/frame.py:9038\u001b[0m, in \u001b[0;36mDataFrame.select\u001b[0;34m(self, *exprs, **named_exprs)\u001b[0m\n\u001b[1;32m   8938\u001b[0m \u001b[38;5;28;01mdef\u001b[39;00m \u001b[38;5;21mselect\u001b[39m(\n\u001b[1;32m   8939\u001b[0m     \u001b[38;5;28mself\u001b[39m, \u001b[38;5;241m*\u001b[39mexprs: IntoExpr \u001b[38;5;241m|\u001b[39m Iterable[IntoExpr], \u001b[38;5;241m*\u001b[39m\u001b[38;5;241m*\u001b[39mnamed_exprs: IntoExpr\n\u001b[1;32m   8940\u001b[0m ) \u001b[38;5;241m-\u001b[39m\u001b[38;5;241m>\u001b[39m DataFrame:\n\u001b[1;32m   8941\u001b[0m \u001b[38;5;250m    \u001b[39m\u001b[38;5;124;03m\"\"\"\u001b[39;00m\n\u001b[1;32m   8942\u001b[0m \u001b[38;5;124;03m    Select columns from this DataFrame.\u001b[39;00m\n\u001b[1;32m   8943\u001b[0m \n\u001b[0;32m   (...)\u001b[0m\n\u001b[1;32m   9036\u001b[0m \u001b[38;5;124;03m    └──────────────┘\u001b[39;00m\n\u001b[1;32m   9037\u001b[0m \u001b[38;5;124;03m    \"\"\"\u001b[39;00m\n\u001b[0;32m-> 9038\u001b[0m     \u001b[38;5;28;01mreturn\u001b[39;00m \u001b[38;5;28mself\u001b[39m\u001b[38;5;241m.\u001b[39mlazy()\u001b[38;5;241m.\u001b[39mselect(\u001b[38;5;241m*\u001b[39mexprs, \u001b[38;5;241m*\u001b[39m\u001b[38;5;241m*\u001b[39mnamed_exprs)\u001b[38;5;241m.\u001b[39mcollect(_eager\u001b[38;5;241m=\u001b[39m\u001b[38;5;28;01mTrue\u001b[39;00m)\n",
      "File \u001b[0;32m~/anaconda3/envs/polars/lib/python3.11/site-packages/polars/lazyframe/frame.py:2029\u001b[0m, in \u001b[0;36mLazyFrame.collect\u001b[0;34m(self, type_coercion, predicate_pushdown, projection_pushdown, simplify_expression, slice_pushdown, comm_subplan_elim, comm_subexpr_elim, cluster_with_columns, collapse_joins, no_optimization, streaming, engine, background, _eager, **_kwargs)\u001b[0m\n\u001b[1;32m   2027\u001b[0m \u001b[38;5;66;03m# Only for testing purposes\u001b[39;00m\n\u001b[1;32m   2028\u001b[0m callback \u001b[38;5;241m=\u001b[39m _kwargs\u001b[38;5;241m.\u001b[39mget(\u001b[38;5;124m\"\u001b[39m\u001b[38;5;124mpost_opt_callback\u001b[39m\u001b[38;5;124m\"\u001b[39m, callback)\n\u001b[0;32m-> 2029\u001b[0m \u001b[38;5;28;01mreturn\u001b[39;00m wrap_df(ldf\u001b[38;5;241m.\u001b[39mcollect(callback))\n",
      "\u001b[0;31mInvalidOperationError\u001b[0m: arithmetic on string and numeric not allowed, try an explicit cast first\n\nResolved plan until failure:\n\n\t---> FAILED HERE RESOLVING 'select' <---\n SELECT [[(col(\"name\")) - (col(\"name\"))], [(col(\"test1\")) - (col(\"name\"))], [(col(\"test2\")) - (col(\"name\"))], [(col(\"test3\")) - (col(\"name\"))], [(col(\"test4\")) - (col(\"name\"))]] FROM\n  DF [\"name\", \"test1\", \"test2\", \"test3\"]; PROJECT */5 COLUMNS; SELECTION: None"
     ]
    }
   ],
   "source": [
    "# Setting Difference\n",
    "(tests.select(pl.all() - pl.col('name')))"
   ]
  },
  {
   "cell_type": "code",
   "execution_count": 23,
   "id": "f9b0f16a-c7b3-4e02-9fe5-d8aa3d87ac17",
   "metadata": {},
   "outputs": [
    {
     "name": "stdout",
     "output_type": "stream",
     "text": [
      "shape: (3, 4)\n",
      "┌───────┬───────┬───────┬───────┐\n",
      "│ test1 ┆ test2 ┆ test3 ┆ test4 │\n",
      "│ ---   ┆ ---   ┆ ---   ┆ ---   │\n",
      "│ i64   ┆ i64   ┆ i64   ┆ i64   │\n",
      "╞═══════╪═══════╪═══════╪═══════╡\n",
      "│ 99    ┆ 92    ┆ 91    ┆ 94    │\n",
      "│ 98    ┆ null  ┆ 93    ┆ 92    │\n",
      "│ 95    ┆ 99    ┆ 95    ┆ 99    │\n",
      "└───────┴───────┴───────┴───────┘\n"
     ]
    }
   ],
   "source": [
    "print(tests.select(cs.starts_with('test')))"
   ]
  },
  {
   "cell_type": "code",
   "execution_count": 25,
   "id": "cdfd7719-797f-4f85-9e25-f0d644f0f7c6",
   "metadata": {},
   "outputs": [
    {
     "name": "stdout",
     "output_type": "stream",
     "text": [
      "shape: (3, 2)\n",
      "┌──────────────────┬─────┐\n",
      "│ scores           ┆ max │\n",
      "│ ---              ┆ --- │\n",
      "│ list[i64]        ┆ i64 │\n",
      "╞══════════════════╪═════╡\n",
      "│ [99, 92, … 94]   ┆ 99  │\n",
      "│ [98, null, … 92] ┆ 98  │\n",
      "│ [95, 99, … 99]   ┆ 99  │\n",
      "└──────────────────┴─────┘\n"
     ]
    }
   ],
   "source": [
    "# Horizontal Aggregations\n",
    "print(tests\n",
    "      .select(scores=pl.concat_list(cs.matches(r'test\\d+')))\n",
    "      .with_columns(max=pl.col('scores').list.max())          \n",
    "     )"
   ]
  },
  {
   "cell_type": "markdown",
   "id": "58e79905-349e-4ac8-98f0-f8c0fd0b026e",
   "metadata": {},
   "source": [
    "### GroupBy Operations"
   ]
  },
  {
   "cell_type": "code",
   "execution_count": 26,
   "id": "6b0746d4-0bf4-41e9-9b4c-09c150366c83",
   "metadata": {},
   "outputs": [
    {
     "name": "stdout",
     "output_type": "stream",
     "text": [
      "<polars.dataframe.group_by.GroupBy object at 0x30dd35910>\n"
     ]
    }
   ],
   "source": [
    "print(autos\n",
    "      .group_by('make')\n",
    "     )"
   ]
  },
  {
   "cell_type": "code",
   "execution_count": 28,
   "id": "3afaec28-c224-481a-bf70-9643a307439c",
   "metadata": {},
   "outputs": [
    {
     "name": "stdout",
     "output_type": "stream",
     "text": [
      "shape: (145, 2)\n",
      "┌───────────────────────────────┬───────────┐\n",
      "│ make                          ┆ mean_city │\n",
      "│ ---                           ┆ ---       │\n",
      "│ cat                           ┆ f64       │\n",
      "╞═══════════════════════════════╪═══════════╡\n",
      "│ Nissan                        ┆ 21.647094 │\n",
      "│ Ruf Automobile Gmbh           ┆ 11.0      │\n",
      "│ Grumman Olson                 ┆ 28.5      │\n",
      "│ Lordstown                     ┆ 49.0      │\n",
      "│ Kenyon Corporation Of America ┆ 13.0      │\n",
      "│ …                             ┆ …         │\n",
      "│ Saleen Performance            ┆ 11.4      │\n",
      "│ Texas Coach Company           ┆ 11.0      │\n",
      "│ Land Rover                    ┆ 16.180328 │\n",
      "│ Polestar                      ┆ 95.96     │\n",
      "│ ASC Incorporated              ┆ 14.0      │\n",
      "└───────────────────────────────┴───────────┘\n"
     ]
    }
   ],
   "source": [
    "# Applying Aggregation\n",
    "print(autos\n",
    "      .group_by('make')\n",
    "      .agg(mean_city=pl.col('city08').mean())\n",
    "     )"
   ]
  },
  {
   "cell_type": "code",
   "execution_count": 29,
   "id": "ad1cf6d3-7c5a-4c45-b3fd-af33fa4cff71",
   "metadata": {},
   "outputs": [
    {
     "name": "stdout",
     "output_type": "stream",
     "text": [
      "shape: (145, 2)\n",
      "┌──────────────────────────┬───────────┐\n",
      "│ make                     ┆ mean_city │\n",
      "│ ---                      ┆ ---       │\n",
      "│ cat                      ┆ f64       │\n",
      "╞══════════════════════════╪═══════════╡\n",
      "│ Alfa Romeo               ┆ 19.5      │\n",
      "│ Ferrari                  ┆ 11.911972 │\n",
      "│ Dodge                    ┆ 15.466988 │\n",
      "│ Subaru                   ┆ 21.130306 │\n",
      "│ Toyota                   ┆ 22.4      │\n",
      "│ …                        ┆ …         │\n",
      "│ General Motors           ┆ 15.0      │\n",
      "│ Consulier Industries Inc ┆ 18.0      │\n",
      "│ Goldacre                 ┆ 16.0      │\n",
      "│ Isis Imports Ltd         ┆ 16.0      │\n",
      "│ PAS Inc - GMC            ┆ 14.0      │\n",
      "└──────────────────────────┴───────────┘\n"
     ]
    }
   ],
   "source": [
    "# Maintain Order\n",
    "print(autos\n",
    "      .group_by('make', maintain_order=True)\n",
    "      .agg(mean_city=pl.col('city08').mean())\n",
    "     )"
   ]
  },
  {
   "cell_type": "code",
   "execution_count": 30,
   "id": "de47c21e-ad9d-425f-aa72-0ae8f75d54d6",
   "metadata": {},
   "outputs": [
    {
     "name": "stdout",
     "output_type": "stream",
     "text": [
      "shape: (145, 2)\n",
      "┌──────────────────────────┬───────────┐\n",
      "│ make                     ┆ mean_city │\n",
      "│ ---                      ┆ ---       │\n",
      "│ cat                      ┆ f64       │\n",
      "╞══════════════════════════╪═══════════╡\n",
      "│ Alfa Romeo               ┆ 19.5      │\n",
      "│ Ferrari                  ┆ 11.911972 │\n",
      "│ Dodge                    ┆ 15.466988 │\n",
      "│ Subaru                   ┆ 21.130306 │\n",
      "│ Toyota                   ┆ 22.4      │\n",
      "│ …                        ┆ …         │\n",
      "│ General Motors           ┆ 15.0      │\n",
      "│ Consulier Industries Inc ┆ 18.0      │\n",
      "│ Goldacre                 ┆ 16.0      │\n",
      "│ Isis Imports Ltd         ┆ 16.0      │\n",
      "│ PAS Inc - GMC            ┆ 14.0      │\n",
      "└──────────────────────────┴───────────┘\n"
     ]
    }
   ],
   "source": [
    "# Sorting Up\n",
    "print(autos\n",
    "      .group_by('make')\n",
    "      .agg(mean_city=pl.col('city08').mean())\n",
    "      .sort('make')\n",
    "     )"
   ]
  },
  {
   "cell_type": "code",
   "execution_count": 31,
   "id": "38cc19c4-6709-47f3-998a-bf25deab7f4c",
   "metadata": {},
   "outputs": [
    {
     "name": "stdout",
     "output_type": "stream",
     "text": [
      "shape: (145, 2)\n",
      "┌─────────────────────────────┬───────────┐\n",
      "│ make                        ┆ mean_city │\n",
      "│ ---                         ┆ ---       │\n",
      "│ cat                         ┆ f64       │\n",
      "╞═════════════════════════════╪═══════════╡\n",
      "│ AM General                  ┆ 15.166667 │\n",
      "│ ASC Incorporated            ┆ 14.0      │\n",
      "│ Acura                       ┆ 20.011792 │\n",
      "│ Alfa Romeo                  ┆ 19.5      │\n",
      "│ American Motors Corporation ┆ 16.296296 │\n",
      "│ …                           ┆ …         │\n",
      "│ Volkswagen                  ┆ 23.39819  │\n",
      "│ Volvo                       ┆ 20.355841 │\n",
      "│ Wallace Environmental       ┆ 12.4375   │\n",
      "│ Yugo                        ┆ 23.0      │\n",
      "│ smart                       ┆ 68.421053 │\n",
      "└─────────────────────────────┴───────────┘\n"
     ]
    }
   ],
   "source": [
    "print(autos\n",
    "      .with_columns(pl.col('make').cast(pl.Categorical('lexical')))\n",
    "      .group_by('make')\n",
    "      .agg(mean_city=pl.col('city08').mean())\n",
    "      .sort('make')\n",
    "     )"
   ]
  },
  {
   "cell_type": "markdown",
   "id": "a8f421c7-b5af-416f-b1ad-57132f478a24",
   "metadata": {},
   "source": [
    "### Multiple Aggregations"
   ]
  },
  {
   "cell_type": "code",
   "execution_count": 32,
   "id": "77a4a1f4-cd7c-43f3-8161-89584c22a6ce",
   "metadata": {},
   "outputs": [
    {
     "name": "stdout",
     "output_type": "stream",
     "text": [
      "shape: (145, 5)\n",
      "┌─────────────────────────────┬───────────┬──────────────┬─────────────┬────────────────┐\n",
      "│ make                        ┆ mean_city ┆ mean_highway ┆ median_city ┆ median_highway │\n",
      "│ ---                         ┆ ---       ┆ ---          ┆ ---         ┆ ---            │\n",
      "│ cat                         ┆ f64       ┆ f64          ┆ f64         ┆ f64            │\n",
      "╞═════════════════════════════╪═══════════╪══════════════╪═════════════╪════════════════╡\n",
      "│ AM General                  ┆ 15.166667 ┆ 15.0         ┆ 14.5        ┆ 15.0           │\n",
      "│ ASC Incorporated            ┆ 14.0      ┆ 21.0         ┆ 14.0        ┆ 21.0           │\n",
      "│ Acura                       ┆ 20.011792 ┆ 26.816038    ┆ 20.0        ┆ 27.0           │\n",
      "│ Alfa Romeo                  ┆ 19.5      ┆ 26.571429    ┆ 19.0        ┆ 25.0           │\n",
      "│ American Motors Corporation ┆ 16.296296 ┆ 20.481481    ┆ 16.0        ┆ 20.0           │\n",
      "│ …                           ┆ …         ┆ …            ┆ …           ┆ …              │\n",
      "│ Volkswagen                  ┆ 23.39819  ┆ 30.463801    ┆ 21.0        ┆ 28.0           │\n",
      "│ Volvo                       ┆ 20.355841 ┆ 26.94105     ┆ 18.0        ┆ 26.0           │\n",
      "│ Wallace Environmental       ┆ 12.4375   ┆ 16.0         ┆ 11.0        ┆ 15.0           │\n",
      "│ Yugo                        ┆ 23.0      ┆ 28.25        ┆ 23.0        ┆ 28.5           │\n",
      "│ smart                       ┆ 68.421053 ┆ 60.973684    ┆ 34.0        ┆ 41.0           │\n",
      "└─────────────────────────────┴───────────┴──────────────┴─────────────┴────────────────┘\n"
     ]
    }
   ],
   "source": [
    "print(autos\n",
    "      .with_columns(pl.col('make').cast(pl.Categorical('lexical')))\n",
    "      .group_by('make')\n",
    "      .agg(mean_city=pl.col('city08').mean(),\n",
    "           mean_highway=pl.col('highway08').mean(),\n",
    "           median_city=pl.col('city08').median(),\n",
    "           median_highway=pl.col('highway08').median()\n",
    "          )\n",
    "      .sort('make')\n",
    "     )"
   ]
  },
  {
   "cell_type": "code",
   "execution_count": null,
   "id": "7f78584a-47bf-4dfe-afbd-fbb89b321b00",
   "metadata": {},
   "outputs": [],
   "source": []
  },
  {
   "cell_type": "code",
   "execution_count": null,
   "id": "3d49fddc-adad-43d9-9116-9e523acce95f",
   "metadata": {},
   "outputs": [],
   "source": []
  }
 ],
 "metadata": {
  "kernelspec": {
   "display_name": "Python 3 (ipykernel)",
   "language": "python",
   "name": "python3"
  },
  "language_info": {
   "codemirror_mode": {
    "name": "ipython",
    "version": 3
   },
   "file_extension": ".py",
   "mimetype": "text/x-python",
   "name": "python",
   "nbconvert_exporter": "python",
   "pygments_lexer": "ipython3",
   "version": "3.11.8"
  }
 },
 "nbformat": 4,
 "nbformat_minor": 5
}
