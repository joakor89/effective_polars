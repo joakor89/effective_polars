{
 "cells": [
  {
   "cell_type": "markdown",
   "id": "9a69e910-9ce0-4cd5-bd4c-0d94d57528ca",
   "metadata": {},
   "source": [
    "# Time Series Analysis\n",
    "\n",
    "### Loading Libraries"
   ]
  },
  {
   "cell_type": "code",
   "execution_count": 43,
   "id": "d35b7307-8806-48a3-8a25-294054635f34",
   "metadata": {},
   "outputs": [
    {
     "name": "stdout",
     "output_type": "stream",
     "text": [
      "ERROR! Session/line number was not unique in database. History logging moved to new session 12\n"
     ]
    }
   ],
   "source": [
    "# ZipFiles & IO\n",
    "import io\n",
    "import zipfile\n",
    "\n",
    "#URL\n",
    "import urllib.request\n",
    "\n",
    "# Time-Zone\n",
    "import pytz\n",
    "\n",
    "# Numerical Computing\n",
    "import numpy as np\n",
    "\n",
    "# Data Manipulation\n",
    "import pandas as pd\n",
    "import polars as pl\n",
    "import polars.selectors as cs\n",
    "\n",
    "# Data Visualization\n",
    "import hvplot\n",
    "import seaborn as sns\n",
    "import altair as alt\n",
    "import matplotlib.pyplot as plt\n",
    "\n",
    "# XGBoost\n",
    "import xgboost as xgb\n",
    "\n",
    "# Scikit-Learn\n",
    "from sklearn import decomposition\n",
    "\n",
    "# Date & Time\n",
    "from datetime import datetime\n",
    "from datetime import timedelta"
   ]
  },
  {
   "cell_type": "code",
   "execution_count": 44,
   "id": "b9a13f17-3766-4047-bbc5-e30d20cfb1d9",
   "metadata": {},
   "outputs": [
    {
     "data": {
      "text/html": [
       "<script type=\"esms-options\">{\"shimMode\": true}</script><style>*[data-root-id],\n",
       "*[data-root-id] > * {\n",
       "  box-sizing: border-box;\n",
       "  font-family: var(--jp-ui-font-family);\n",
       "  font-size: var(--jp-ui-font-size1);\n",
       "  color: var(--vscode-editor-foreground, var(--jp-ui-font-color1));\n",
       "}\n",
       "\n",
       "/* Override VSCode background color */\n",
       ".cell-output-ipywidget-background:has(\n",
       "    > .cell-output-ipywidget-background > .lm-Widget > *[data-root-id]\n",
       "  ),\n",
       ".cell-output-ipywidget-background:has(> .lm-Widget > *[data-root-id]) {\n",
       "  background-color: transparent !important;\n",
       "}\n",
       "</style>"
      ]
     },
     "metadata": {},
     "output_type": "display_data"
    },
    {
     "data": {
      "application/javascript": [
       "(function(root) {\n",
       "  function now() {\n",
       "    return new Date();\n",
       "  }\n",
       "\n",
       "  const force = true;\n",
       "  const py_version = '3.6.1'.replace('rc', '-rc.').replace('.dev', '-dev.');\n",
       "  const reloading = false;\n",
       "  const Bokeh = root.Bokeh;\n",
       "\n",
       "  // Set a timeout for this load but only if we are not already initializing\n",
       "  if (typeof (root._bokeh_timeout) === \"undefined\" || (force || !root._bokeh_is_initializing)) {\n",
       "    root._bokeh_timeout = Date.now() + 5000;\n",
       "    root._bokeh_failed_load = false;\n",
       "  }\n",
       "\n",
       "  function run_callbacks() {\n",
       "    try {\n",
       "      root._bokeh_onload_callbacks.forEach(function(callback) {\n",
       "        if (callback != null)\n",
       "          callback();\n",
       "      });\n",
       "    } finally {\n",
       "      delete root._bokeh_onload_callbacks;\n",
       "    }\n",
       "    console.debug(\"Bokeh: all callbacks have finished\");\n",
       "  }\n",
       "\n",
       "  function load_libs(css_urls, js_urls, js_modules, js_exports, callback) {\n",
       "    if (css_urls == null) css_urls = [];\n",
       "    if (js_urls == null) js_urls = [];\n",
       "    if (js_modules == null) js_modules = [];\n",
       "    if (js_exports == null) js_exports = {};\n",
       "\n",
       "    root._bokeh_onload_callbacks.push(callback);\n",
       "\n",
       "    if (root._bokeh_is_loading > 0) {\n",
       "      // Don't load bokeh if it is still initializing\n",
       "      console.debug(\"Bokeh: BokehJS is being loaded, scheduling callback at\", now());\n",
       "      return null;\n",
       "    } else if (js_urls.length === 0 && js_modules.length === 0 && Object.keys(js_exports).length === 0) {\n",
       "      // There is nothing to load\n",
       "      run_callbacks();\n",
       "      return null;\n",
       "    }\n",
       "\n",
       "    function on_load() {\n",
       "      root._bokeh_is_loading--;\n",
       "      if (root._bokeh_is_loading === 0) {\n",
       "        console.debug(\"Bokeh: all BokehJS libraries/stylesheets loaded\");\n",
       "        run_callbacks()\n",
       "      }\n",
       "    }\n",
       "    window._bokeh_on_load = on_load\n",
       "\n",
       "    function on_error(e) {\n",
       "      const src_el = e.srcElement\n",
       "      console.error(\"failed to load \" + (src_el.href || src_el.src));\n",
       "    }\n",
       "\n",
       "    const skip = [];\n",
       "    if (window.requirejs) {\n",
       "      window.requirejs.config({'packages': {}, 'paths': {}, 'shim': {}});\n",
       "      root._bokeh_is_loading = css_urls.length + 0;\n",
       "    } else {\n",
       "      root._bokeh_is_loading = css_urls.length + js_urls.length + js_modules.length + Object.keys(js_exports).length;\n",
       "    }\n",
       "\n",
       "    const existing_stylesheets = []\n",
       "    const links = document.getElementsByTagName('link')\n",
       "    for (let i = 0; i < links.length; i++) {\n",
       "      const link = links[i]\n",
       "      if (link.href != null) {\n",
       "        existing_stylesheets.push(link.href)\n",
       "      }\n",
       "    }\n",
       "    for (let i = 0; i < css_urls.length; i++) {\n",
       "      const url = css_urls[i];\n",
       "      const escaped = encodeURI(url)\n",
       "      if (existing_stylesheets.indexOf(escaped) !== -1) {\n",
       "        on_load()\n",
       "        continue;\n",
       "      }\n",
       "      const element = document.createElement(\"link\");\n",
       "      element.onload = on_load;\n",
       "      element.onerror = on_error;\n",
       "      element.rel = \"stylesheet\";\n",
       "      element.type = \"text/css\";\n",
       "      element.href = url;\n",
       "      console.debug(\"Bokeh: injecting link tag for BokehJS stylesheet: \", url);\n",
       "      document.body.appendChild(element);\n",
       "    }    var existing_scripts = []\n",
       "    const scripts = document.getElementsByTagName('script')\n",
       "    for (let i = 0; i < scripts.length; i++) {\n",
       "      var script = scripts[i]\n",
       "      if (script.src != null) {\n",
       "        existing_scripts.push(script.src)\n",
       "      }\n",
       "    }\n",
       "    for (let i = 0; i < js_urls.length; i++) {\n",
       "      const url = js_urls[i];\n",
       "      const escaped = encodeURI(url)\n",
       "      if (skip.indexOf(escaped) !== -1 || existing_scripts.indexOf(escaped) !== -1) {\n",
       "        if (!window.requirejs) {\n",
       "          on_load();\n",
       "        }\n",
       "        continue;\n",
       "      }\n",
       "      const element = document.createElement('script');\n",
       "      element.onload = on_load;\n",
       "      element.onerror = on_error;\n",
       "      element.async = false;\n",
       "      element.src = url;\n",
       "      console.debug(\"Bokeh: injecting script tag for BokehJS library: \", url);\n",
       "      document.head.appendChild(element);\n",
       "    }\n",
       "    for (let i = 0; i < js_modules.length; i++) {\n",
       "      const url = js_modules[i];\n",
       "      const escaped = encodeURI(url)\n",
       "      if (skip.indexOf(escaped) !== -1 || existing_scripts.indexOf(escaped) !== -1) {\n",
       "        if (!window.requirejs) {\n",
       "          on_load();\n",
       "        }\n",
       "        continue;\n",
       "      }\n",
       "      var element = document.createElement('script');\n",
       "      element.onload = on_load;\n",
       "      element.onerror = on_error;\n",
       "      element.async = false;\n",
       "      element.src = url;\n",
       "      element.type = \"module\";\n",
       "      console.debug(\"Bokeh: injecting script tag for BokehJS library: \", url);\n",
       "      document.head.appendChild(element);\n",
       "    }\n",
       "    for (const name in js_exports) {\n",
       "      const url = js_exports[name];\n",
       "      const escaped = encodeURI(url)\n",
       "      if (skip.indexOf(escaped) >= 0 || root[name] != null) {\n",
       "        if (!window.requirejs) {\n",
       "          on_load();\n",
       "        }\n",
       "        continue;\n",
       "      }\n",
       "      var element = document.createElement('script');\n",
       "      element.onerror = on_error;\n",
       "      element.async = false;\n",
       "      element.type = \"module\";\n",
       "      console.debug(\"Bokeh: injecting script tag for BokehJS library: \", url);\n",
       "      element.textContent = `\n",
       "      import ${name} from \"${url}\"\n",
       "      window.${name} = ${name}\n",
       "      window._bokeh_on_load()\n",
       "      `\n",
       "      document.head.appendChild(element);\n",
       "    }\n",
       "    if (!js_urls.length && !js_modules.length) {\n",
       "      on_load()\n",
       "    }\n",
       "  };\n",
       "\n",
       "  function inject_raw_css(css) {\n",
       "    const element = document.createElement(\"style\");\n",
       "    element.appendChild(document.createTextNode(css));\n",
       "    document.body.appendChild(element);\n",
       "  }\n",
       "\n",
       "  const js_urls = [\"https://cdn.holoviz.org/panel/1.5.4/dist/bundled/reactiveesm/es-module-shims@^1.10.0/dist/es-module-shims.min.js\", \"https://cdn.bokeh.org/bokeh/release/bokeh-3.6.1.min.js\", \"https://cdn.bokeh.org/bokeh/release/bokeh-gl-3.6.1.min.js\", \"https://cdn.bokeh.org/bokeh/release/bokeh-widgets-3.6.1.min.js\", \"https://cdn.bokeh.org/bokeh/release/bokeh-tables-3.6.1.min.js\", \"https://cdn.holoviz.org/panel/1.5.4/dist/panel.min.js\"];\n",
       "  const js_modules = [];\n",
       "  const js_exports = {};\n",
       "  const css_urls = [];\n",
       "  const inline_js = [    function(Bokeh) {\n",
       "      Bokeh.set_log_level(\"info\");\n",
       "    },\n",
       "function(Bokeh) {} // ensure no trailing comma for IE\n",
       "  ];\n",
       "\n",
       "  function run_inline_js() {\n",
       "    if ((root.Bokeh !== undefined) || (force === true)) {\n",
       "      for (let i = 0; i < inline_js.length; i++) {\n",
       "        try {\n",
       "          inline_js[i].call(root, root.Bokeh);\n",
       "        } catch(e) {\n",
       "          if (!reloading) {\n",
       "            throw e;\n",
       "          }\n",
       "        }\n",
       "      }\n",
       "      // Cache old bokeh versions\n",
       "      if (Bokeh != undefined && !reloading) {\n",
       "        var NewBokeh = root.Bokeh;\n",
       "        if (Bokeh.versions === undefined) {\n",
       "          Bokeh.versions = new Map();\n",
       "        }\n",
       "        if (NewBokeh.version !== Bokeh.version) {\n",
       "          Bokeh.versions.set(NewBokeh.version, NewBokeh)\n",
       "        }\n",
       "        root.Bokeh = Bokeh;\n",
       "      }\n",
       "    } else if (Date.now() < root._bokeh_timeout) {\n",
       "      setTimeout(run_inline_js, 100);\n",
       "    } else if (!root._bokeh_failed_load) {\n",
       "      console.log(\"Bokeh: BokehJS failed to load within specified timeout.\");\n",
       "      root._bokeh_failed_load = true;\n",
       "    }\n",
       "    root._bokeh_is_initializing = false\n",
       "  }\n",
       "\n",
       "  function load_or_wait() {\n",
       "    // Implement a backoff loop that tries to ensure we do not load multiple\n",
       "    // versions of Bokeh and its dependencies at the same time.\n",
       "    // In recent versions we use the root._bokeh_is_initializing flag\n",
       "    // to determine whether there is an ongoing attempt to initialize\n",
       "    // bokeh, however for backward compatibility we also try to ensure\n",
       "    // that we do not start loading a newer (Panel>=1.0 and Bokeh>3) version\n",
       "    // before older versions are fully initialized.\n",
       "    if (root._bokeh_is_initializing && Date.now() > root._bokeh_timeout) {\n",
       "      // If the timeout and bokeh was not successfully loaded we reset\n",
       "      // everything and try loading again\n",
       "      root._bokeh_timeout = Date.now() + 5000;\n",
       "      root._bokeh_is_initializing = false;\n",
       "      root._bokeh_onload_callbacks = undefined;\n",
       "      root._bokeh_is_loading = 0\n",
       "      console.log(\"Bokeh: BokehJS was loaded multiple times but one version failed to initialize.\");\n",
       "      load_or_wait();\n",
       "    } else if (root._bokeh_is_initializing || (typeof root._bokeh_is_initializing === \"undefined\" && root._bokeh_onload_callbacks !== undefined)) {\n",
       "      setTimeout(load_or_wait, 100);\n",
       "    } else {\n",
       "      root._bokeh_is_initializing = true\n",
       "      root._bokeh_onload_callbacks = []\n",
       "      const bokeh_loaded = root.Bokeh != null && (root.Bokeh.version === py_version || (root.Bokeh.versions !== undefined && root.Bokeh.versions.has(py_version)));\n",
       "      if (!reloading && !bokeh_loaded) {\n",
       "        if (root.Bokeh) {\n",
       "          root.Bokeh = undefined;\n",
       "        }\n",
       "        console.debug(\"Bokeh: BokehJS not loaded, scheduling load and callback at\", now());\n",
       "      }\n",
       "      load_libs(css_urls, js_urls, js_modules, js_exports, function() {\n",
       "        console.debug(\"Bokeh: BokehJS plotting callback run at\", now());\n",
       "        run_inline_js();\n",
       "      });\n",
       "    }\n",
       "  }\n",
       "  // Give older versions of the autoload script a head-start to ensure\n",
       "  // they initialize before we start loading newer version.\n",
       "  setTimeout(load_or_wait, 100)\n",
       "}(window));"
      ],
      "application/vnd.holoviews_load.v0+json": "(function(root) {\n  function now() {\n    return new Date();\n  }\n\n  const force = true;\n  const py_version = '3.6.1'.replace('rc', '-rc.').replace('.dev', '-dev.');\n  const reloading = false;\n  const Bokeh = root.Bokeh;\n\n  // Set a timeout for this load but only if we are not already initializing\n  if (typeof (root._bokeh_timeout) === \"undefined\" || (force || !root._bokeh_is_initializing)) {\n    root._bokeh_timeout = Date.now() + 5000;\n    root._bokeh_failed_load = false;\n  }\n\n  function run_callbacks() {\n    try {\n      root._bokeh_onload_callbacks.forEach(function(callback) {\n        if (callback != null)\n          callback();\n      });\n    } finally {\n      delete root._bokeh_onload_callbacks;\n    }\n    console.debug(\"Bokeh: all callbacks have finished\");\n  }\n\n  function load_libs(css_urls, js_urls, js_modules, js_exports, callback) {\n    if (css_urls == null) css_urls = [];\n    if (js_urls == null) js_urls = [];\n    if (js_modules == null) js_modules = [];\n    if (js_exports == null) js_exports = {};\n\n    root._bokeh_onload_callbacks.push(callback);\n\n    if (root._bokeh_is_loading > 0) {\n      // Don't load bokeh if it is still initializing\n      console.debug(\"Bokeh: BokehJS is being loaded, scheduling callback at\", now());\n      return null;\n    } else if (js_urls.length === 0 && js_modules.length === 0 && Object.keys(js_exports).length === 0) {\n      // There is nothing to load\n      run_callbacks();\n      return null;\n    }\n\n    function on_load() {\n      root._bokeh_is_loading--;\n      if (root._bokeh_is_loading === 0) {\n        console.debug(\"Bokeh: all BokehJS libraries/stylesheets loaded\");\n        run_callbacks()\n      }\n    }\n    window._bokeh_on_load = on_load\n\n    function on_error(e) {\n      const src_el = e.srcElement\n      console.error(\"failed to load \" + (src_el.href || src_el.src));\n    }\n\n    const skip = [];\n    if (window.requirejs) {\n      window.requirejs.config({'packages': {}, 'paths': {}, 'shim': {}});\n      root._bokeh_is_loading = css_urls.length + 0;\n    } else {\n      root._bokeh_is_loading = css_urls.length + js_urls.length + js_modules.length + Object.keys(js_exports).length;\n    }\n\n    const existing_stylesheets = []\n    const links = document.getElementsByTagName('link')\n    for (let i = 0; i < links.length; i++) {\n      const link = links[i]\n      if (link.href != null) {\n        existing_stylesheets.push(link.href)\n      }\n    }\n    for (let i = 0; i < css_urls.length; i++) {\n      const url = css_urls[i];\n      const escaped = encodeURI(url)\n      if (existing_stylesheets.indexOf(escaped) !== -1) {\n        on_load()\n        continue;\n      }\n      const element = document.createElement(\"link\");\n      element.onload = on_load;\n      element.onerror = on_error;\n      element.rel = \"stylesheet\";\n      element.type = \"text/css\";\n      element.href = url;\n      console.debug(\"Bokeh: injecting link tag for BokehJS stylesheet: \", url);\n      document.body.appendChild(element);\n    }    var existing_scripts = []\n    const scripts = document.getElementsByTagName('script')\n    for (let i = 0; i < scripts.length; i++) {\n      var script = scripts[i]\n      if (script.src != null) {\n        existing_scripts.push(script.src)\n      }\n    }\n    for (let i = 0; i < js_urls.length; i++) {\n      const url = js_urls[i];\n      const escaped = encodeURI(url)\n      if (skip.indexOf(escaped) !== -1 || existing_scripts.indexOf(escaped) !== -1) {\n        if (!window.requirejs) {\n          on_load();\n        }\n        continue;\n      }\n      const element = document.createElement('script');\n      element.onload = on_load;\n      element.onerror = on_error;\n      element.async = false;\n      element.src = url;\n      console.debug(\"Bokeh: injecting script tag for BokehJS library: \", url);\n      document.head.appendChild(element);\n    }\n    for (let i = 0; i < js_modules.length; i++) {\n      const url = js_modules[i];\n      const escaped = encodeURI(url)\n      if (skip.indexOf(escaped) !== -1 || existing_scripts.indexOf(escaped) !== -1) {\n        if (!window.requirejs) {\n          on_load();\n        }\n        continue;\n      }\n      var element = document.createElement('script');\n      element.onload = on_load;\n      element.onerror = on_error;\n      element.async = false;\n      element.src = url;\n      element.type = \"module\";\n      console.debug(\"Bokeh: injecting script tag for BokehJS library: \", url);\n      document.head.appendChild(element);\n    }\n    for (const name in js_exports) {\n      const url = js_exports[name];\n      const escaped = encodeURI(url)\n      if (skip.indexOf(escaped) >= 0 || root[name] != null) {\n        if (!window.requirejs) {\n          on_load();\n        }\n        continue;\n      }\n      var element = document.createElement('script');\n      element.onerror = on_error;\n      element.async = false;\n      element.type = \"module\";\n      console.debug(\"Bokeh: injecting script tag for BokehJS library: \", url);\n      element.textContent = `\n      import ${name} from \"${url}\"\n      window.${name} = ${name}\n      window._bokeh_on_load()\n      `\n      document.head.appendChild(element);\n    }\n    if (!js_urls.length && !js_modules.length) {\n      on_load()\n    }\n  };\n\n  function inject_raw_css(css) {\n    const element = document.createElement(\"style\");\n    element.appendChild(document.createTextNode(css));\n    document.body.appendChild(element);\n  }\n\n  const js_urls = [\"https://cdn.holoviz.org/panel/1.5.4/dist/bundled/reactiveesm/es-module-shims@^1.10.0/dist/es-module-shims.min.js\", \"https://cdn.bokeh.org/bokeh/release/bokeh-3.6.1.min.js\", \"https://cdn.bokeh.org/bokeh/release/bokeh-gl-3.6.1.min.js\", \"https://cdn.bokeh.org/bokeh/release/bokeh-widgets-3.6.1.min.js\", \"https://cdn.bokeh.org/bokeh/release/bokeh-tables-3.6.1.min.js\", \"https://cdn.holoviz.org/panel/1.5.4/dist/panel.min.js\"];\n  const js_modules = [];\n  const js_exports = {};\n  const css_urls = [];\n  const inline_js = [    function(Bokeh) {\n      Bokeh.set_log_level(\"info\");\n    },\nfunction(Bokeh) {} // ensure no trailing comma for IE\n  ];\n\n  function run_inline_js() {\n    if ((root.Bokeh !== undefined) || (force === true)) {\n      for (let i = 0; i < inline_js.length; i++) {\n        try {\n          inline_js[i].call(root, root.Bokeh);\n        } catch(e) {\n          if (!reloading) {\n            throw e;\n          }\n        }\n      }\n      // Cache old bokeh versions\n      if (Bokeh != undefined && !reloading) {\n        var NewBokeh = root.Bokeh;\n        if (Bokeh.versions === undefined) {\n          Bokeh.versions = new Map();\n        }\n        if (NewBokeh.version !== Bokeh.version) {\n          Bokeh.versions.set(NewBokeh.version, NewBokeh)\n        }\n        root.Bokeh = Bokeh;\n      }\n    } else if (Date.now() < root._bokeh_timeout) {\n      setTimeout(run_inline_js, 100);\n    } else if (!root._bokeh_failed_load) {\n      console.log(\"Bokeh: BokehJS failed to load within specified timeout.\");\n      root._bokeh_failed_load = true;\n    }\n    root._bokeh_is_initializing = false\n  }\n\n  function load_or_wait() {\n    // Implement a backoff loop that tries to ensure we do not load multiple\n    // versions of Bokeh and its dependencies at the same time.\n    // In recent versions we use the root._bokeh_is_initializing flag\n    // to determine whether there is an ongoing attempt to initialize\n    // bokeh, however for backward compatibility we also try to ensure\n    // that we do not start loading a newer (Panel>=1.0 and Bokeh>3) version\n    // before older versions are fully initialized.\n    if (root._bokeh_is_initializing && Date.now() > root._bokeh_timeout) {\n      // If the timeout and bokeh was not successfully loaded we reset\n      // everything and try loading again\n      root._bokeh_timeout = Date.now() + 5000;\n      root._bokeh_is_initializing = false;\n      root._bokeh_onload_callbacks = undefined;\n      root._bokeh_is_loading = 0\n      console.log(\"Bokeh: BokehJS was loaded multiple times but one version failed to initialize.\");\n      load_or_wait();\n    } else if (root._bokeh_is_initializing || (typeof root._bokeh_is_initializing === \"undefined\" && root._bokeh_onload_callbacks !== undefined)) {\n      setTimeout(load_or_wait, 100);\n    } else {\n      root._bokeh_is_initializing = true\n      root._bokeh_onload_callbacks = []\n      const bokeh_loaded = root.Bokeh != null && (root.Bokeh.version === py_version || (root.Bokeh.versions !== undefined && root.Bokeh.versions.has(py_version)));\n      if (!reloading && !bokeh_loaded) {\n        if (root.Bokeh) {\n          root.Bokeh = undefined;\n        }\n        console.debug(\"Bokeh: BokehJS not loaded, scheduling load and callback at\", now());\n      }\n      load_libs(css_urls, js_urls, js_modules, js_exports, function() {\n        console.debug(\"Bokeh: BokehJS plotting callback run at\", now());\n        run_inline_js();\n      });\n    }\n  }\n  // Give older versions of the autoload script a head-start to ensure\n  // they initialize before we start loading newer version.\n  setTimeout(load_or_wait, 100)\n}(window));"
     },
     "metadata": {},
     "output_type": "display_data"
    },
    {
     "data": {
      "application/javascript": [
       "\n",
       "if ((window.PyViz === undefined) || (window.PyViz instanceof HTMLElement)) {\n",
       "  window.PyViz = {comms: {}, comm_status:{}, kernels:{}, receivers: {}, plot_index: []}\n",
       "}\n",
       "\n",
       "\n",
       "    function JupyterCommManager() {\n",
       "    }\n",
       "\n",
       "    JupyterCommManager.prototype.register_target = function(plot_id, comm_id, msg_handler) {\n",
       "      if (window.comm_manager || ((window.Jupyter !== undefined) && (Jupyter.notebook.kernel != null))) {\n",
       "        var comm_manager = window.comm_manager || Jupyter.notebook.kernel.comm_manager;\n",
       "        comm_manager.register_target(comm_id, function(comm) {\n",
       "          comm.on_msg(msg_handler);\n",
       "        });\n",
       "      } else if ((plot_id in window.PyViz.kernels) && (window.PyViz.kernels[plot_id])) {\n",
       "        window.PyViz.kernels[plot_id].registerCommTarget(comm_id, function(comm) {\n",
       "          comm.onMsg = msg_handler;\n",
       "        });\n",
       "      } else if (typeof google != 'undefined' && google.colab.kernel != null) {\n",
       "        google.colab.kernel.comms.registerTarget(comm_id, (comm) => {\n",
       "          var messages = comm.messages[Symbol.asyncIterator]();\n",
       "          function processIteratorResult(result) {\n",
       "            var message = result.value;\n",
       "            console.log(message)\n",
       "            var content = {data: message.data, comm_id};\n",
       "            var buffers = []\n",
       "            for (var buffer of message.buffers || []) {\n",
       "              buffers.push(new DataView(buffer))\n",
       "            }\n",
       "            var metadata = message.metadata || {};\n",
       "            var msg = {content, buffers, metadata}\n",
       "            msg_handler(msg);\n",
       "            return messages.next().then(processIteratorResult);\n",
       "          }\n",
       "          return messages.next().then(processIteratorResult);\n",
       "        })\n",
       "      }\n",
       "    }\n",
       "\n",
       "    JupyterCommManager.prototype.get_client_comm = function(plot_id, comm_id, msg_handler) {\n",
       "      if (comm_id in window.PyViz.comms) {\n",
       "        return window.PyViz.comms[comm_id];\n",
       "      } else if (window.comm_manager || ((window.Jupyter !== undefined) && (Jupyter.notebook.kernel != null))) {\n",
       "        var comm_manager = window.comm_manager || Jupyter.notebook.kernel.comm_manager;\n",
       "        var comm = comm_manager.new_comm(comm_id, {}, {}, {}, comm_id);\n",
       "        if (msg_handler) {\n",
       "          comm.on_msg(msg_handler);\n",
       "        }\n",
       "      } else if ((plot_id in window.PyViz.kernels) && (window.PyViz.kernels[plot_id])) {\n",
       "        var comm = window.PyViz.kernels[plot_id].connectToComm(comm_id);\n",
       "        comm.open();\n",
       "        if (msg_handler) {\n",
       "          comm.onMsg = msg_handler;\n",
       "        }\n",
       "      } else if (typeof google != 'undefined' && google.colab.kernel != null) {\n",
       "        var comm_promise = google.colab.kernel.comms.open(comm_id)\n",
       "        comm_promise.then((comm) => {\n",
       "          window.PyViz.comms[comm_id] = comm;\n",
       "          if (msg_handler) {\n",
       "            var messages = comm.messages[Symbol.asyncIterator]();\n",
       "            function processIteratorResult(result) {\n",
       "              var message = result.value;\n",
       "              var content = {data: message.data};\n",
       "              var metadata = message.metadata || {comm_id};\n",
       "              var msg = {content, metadata}\n",
       "              msg_handler(msg);\n",
       "              return messages.next().then(processIteratorResult);\n",
       "            }\n",
       "            return messages.next().then(processIteratorResult);\n",
       "          }\n",
       "        }) \n",
       "        var sendClosure = (data, metadata, buffers, disposeOnDone) => {\n",
       "          return comm_promise.then((comm) => {\n",
       "            comm.send(data, metadata, buffers, disposeOnDone);\n",
       "          });\n",
       "        };\n",
       "        var comm = {\n",
       "          send: sendClosure\n",
       "        };\n",
       "      }\n",
       "      window.PyViz.comms[comm_id] = comm;\n",
       "      return comm;\n",
       "    }\n",
       "    window.PyViz.comm_manager = new JupyterCommManager();\n",
       "    \n",
       "\n",
       "\n",
       "var JS_MIME_TYPE = 'application/javascript';\n",
       "var HTML_MIME_TYPE = 'text/html';\n",
       "var EXEC_MIME_TYPE = 'application/vnd.holoviews_exec.v0+json';\n",
       "var CLASS_NAME = 'output';\n",
       "\n",
       "/**\n",
       " * Render data to the DOM node\n",
       " */\n",
       "function render(props, node) {\n",
       "  var div = document.createElement(\"div\");\n",
       "  var script = document.createElement(\"script\");\n",
       "  node.appendChild(div);\n",
       "  node.appendChild(script);\n",
       "}\n",
       "\n",
       "/**\n",
       " * Handle when a new output is added\n",
       " */\n",
       "function handle_add_output(event, handle) {\n",
       "  var output_area = handle.output_area;\n",
       "  var output = handle.output;\n",
       "  if ((output.data == undefined) || (!output.data.hasOwnProperty(EXEC_MIME_TYPE))) {\n",
       "    return\n",
       "  }\n",
       "  var id = output.metadata[EXEC_MIME_TYPE][\"id\"];\n",
       "  var toinsert = output_area.element.find(\".\" + CLASS_NAME.split(' ')[0]);\n",
       "  if (id !== undefined) {\n",
       "    var nchildren = toinsert.length;\n",
       "    var html_node = toinsert[nchildren-1].children[0];\n",
       "    html_node.innerHTML = output.data[HTML_MIME_TYPE];\n",
       "    var scripts = [];\n",
       "    var nodelist = html_node.querySelectorAll(\"script\");\n",
       "    for (var i in nodelist) {\n",
       "      if (nodelist.hasOwnProperty(i)) {\n",
       "        scripts.push(nodelist[i])\n",
       "      }\n",
       "    }\n",
       "\n",
       "    scripts.forEach( function (oldScript) {\n",
       "      var newScript = document.createElement(\"script\");\n",
       "      var attrs = [];\n",
       "      var nodemap = oldScript.attributes;\n",
       "      for (var j in nodemap) {\n",
       "        if (nodemap.hasOwnProperty(j)) {\n",
       "          attrs.push(nodemap[j])\n",
       "        }\n",
       "      }\n",
       "      attrs.forEach(function(attr) { newScript.setAttribute(attr.name, attr.value) });\n",
       "      newScript.appendChild(document.createTextNode(oldScript.innerHTML));\n",
       "      oldScript.parentNode.replaceChild(newScript, oldScript);\n",
       "    });\n",
       "    if (JS_MIME_TYPE in output.data) {\n",
       "      toinsert[nchildren-1].children[1].textContent = output.data[JS_MIME_TYPE];\n",
       "    }\n",
       "    output_area._hv_plot_id = id;\n",
       "    if ((window.Bokeh !== undefined) && (id in Bokeh.index)) {\n",
       "      window.PyViz.plot_index[id] = Bokeh.index[id];\n",
       "    } else {\n",
       "      window.PyViz.plot_index[id] = null;\n",
       "    }\n",
       "  } else if (output.metadata[EXEC_MIME_TYPE][\"server_id\"] !== undefined) {\n",
       "    var bk_div = document.createElement(\"div\");\n",
       "    bk_div.innerHTML = output.data[HTML_MIME_TYPE];\n",
       "    var script_attrs = bk_div.children[0].attributes;\n",
       "    for (var i = 0; i < script_attrs.length; i++) {\n",
       "      toinsert[toinsert.length - 1].childNodes[1].setAttribute(script_attrs[i].name, script_attrs[i].value);\n",
       "    }\n",
       "    // store reference to server id on output_area\n",
       "    output_area._bokeh_server_id = output.metadata[EXEC_MIME_TYPE][\"server_id\"];\n",
       "  }\n",
       "}\n",
       "\n",
       "/**\n",
       " * Handle when an output is cleared or removed\n",
       " */\n",
       "function handle_clear_output(event, handle) {\n",
       "  var id = handle.cell.output_area._hv_plot_id;\n",
       "  var server_id = handle.cell.output_area._bokeh_server_id;\n",
       "  if (((id === undefined) || !(id in PyViz.plot_index)) && (server_id !== undefined)) { return; }\n",
       "  var comm = window.PyViz.comm_manager.get_client_comm(\"hv-extension-comm\", \"hv-extension-comm\", function () {});\n",
       "  if (server_id !== null) {\n",
       "    comm.send({event_type: 'server_delete', 'id': server_id});\n",
       "    return;\n",
       "  } else if (comm !== null) {\n",
       "    comm.send({event_type: 'delete', 'id': id});\n",
       "  }\n",
       "  delete PyViz.plot_index[id];\n",
       "  if ((window.Bokeh !== undefined) & (id in window.Bokeh.index)) {\n",
       "    var doc = window.Bokeh.index[id].model.document\n",
       "    doc.clear();\n",
       "    const i = window.Bokeh.documents.indexOf(doc);\n",
       "    if (i > -1) {\n",
       "      window.Bokeh.documents.splice(i, 1);\n",
       "    }\n",
       "  }\n",
       "}\n",
       "\n",
       "/**\n",
       " * Handle kernel restart event\n",
       " */\n",
       "function handle_kernel_cleanup(event, handle) {\n",
       "  delete PyViz.comms[\"hv-extension-comm\"];\n",
       "  window.PyViz.plot_index = {}\n",
       "}\n",
       "\n",
       "/**\n",
       " * Handle update_display_data messages\n",
       " */\n",
       "function handle_update_output(event, handle) {\n",
       "  handle_clear_output(event, {cell: {output_area: handle.output_area}})\n",
       "  handle_add_output(event, handle)\n",
       "}\n",
       "\n",
       "function register_renderer(events, OutputArea) {\n",
       "  function append_mime(data, metadata, element) {\n",
       "    // create a DOM node to render to\n",
       "    var toinsert = this.create_output_subarea(\n",
       "    metadata,\n",
       "    CLASS_NAME,\n",
       "    EXEC_MIME_TYPE\n",
       "    );\n",
       "    this.keyboard_manager.register_events(toinsert);\n",
       "    // Render to node\n",
       "    var props = {data: data, metadata: metadata[EXEC_MIME_TYPE]};\n",
       "    render(props, toinsert[0]);\n",
       "    element.append(toinsert);\n",
       "    return toinsert\n",
       "  }\n",
       "\n",
       "  events.on('output_added.OutputArea', handle_add_output);\n",
       "  events.on('output_updated.OutputArea', handle_update_output);\n",
       "  events.on('clear_output.CodeCell', handle_clear_output);\n",
       "  events.on('delete.Cell', handle_clear_output);\n",
       "  events.on('kernel_ready.Kernel', handle_kernel_cleanup);\n",
       "\n",
       "  OutputArea.prototype.register_mime_type(EXEC_MIME_TYPE, append_mime, {\n",
       "    safe: true,\n",
       "    index: 0\n",
       "  });\n",
       "}\n",
       "\n",
       "if (window.Jupyter !== undefined) {\n",
       "  try {\n",
       "    var events = require('base/js/events');\n",
       "    var OutputArea = require('notebook/js/outputarea').OutputArea;\n",
       "    if (OutputArea.prototype.mime_types().indexOf(EXEC_MIME_TYPE) == -1) {\n",
       "      register_renderer(events, OutputArea);\n",
       "    }\n",
       "  } catch(err) {\n",
       "  }\n",
       "}\n"
      ],
      "application/vnd.holoviews_load.v0+json": "\nif ((window.PyViz === undefined) || (window.PyViz instanceof HTMLElement)) {\n  window.PyViz = {comms: {}, comm_status:{}, kernels:{}, receivers: {}, plot_index: []}\n}\n\n\n    function JupyterCommManager() {\n    }\n\n    JupyterCommManager.prototype.register_target = function(plot_id, comm_id, msg_handler) {\n      if (window.comm_manager || ((window.Jupyter !== undefined) && (Jupyter.notebook.kernel != null))) {\n        var comm_manager = window.comm_manager || Jupyter.notebook.kernel.comm_manager;\n        comm_manager.register_target(comm_id, function(comm) {\n          comm.on_msg(msg_handler);\n        });\n      } else if ((plot_id in window.PyViz.kernels) && (window.PyViz.kernels[plot_id])) {\n        window.PyViz.kernels[plot_id].registerCommTarget(comm_id, function(comm) {\n          comm.onMsg = msg_handler;\n        });\n      } else if (typeof google != 'undefined' && google.colab.kernel != null) {\n        google.colab.kernel.comms.registerTarget(comm_id, (comm) => {\n          var messages = comm.messages[Symbol.asyncIterator]();\n          function processIteratorResult(result) {\n            var message = result.value;\n            console.log(message)\n            var content = {data: message.data, comm_id};\n            var buffers = []\n            for (var buffer of message.buffers || []) {\n              buffers.push(new DataView(buffer))\n            }\n            var metadata = message.metadata || {};\n            var msg = {content, buffers, metadata}\n            msg_handler(msg);\n            return messages.next().then(processIteratorResult);\n          }\n          return messages.next().then(processIteratorResult);\n        })\n      }\n    }\n\n    JupyterCommManager.prototype.get_client_comm = function(plot_id, comm_id, msg_handler) {\n      if (comm_id in window.PyViz.comms) {\n        return window.PyViz.comms[comm_id];\n      } else if (window.comm_manager || ((window.Jupyter !== undefined) && (Jupyter.notebook.kernel != null))) {\n        var comm_manager = window.comm_manager || Jupyter.notebook.kernel.comm_manager;\n        var comm = comm_manager.new_comm(comm_id, {}, {}, {}, comm_id);\n        if (msg_handler) {\n          comm.on_msg(msg_handler);\n        }\n      } else if ((plot_id in window.PyViz.kernels) && (window.PyViz.kernels[plot_id])) {\n        var comm = window.PyViz.kernels[plot_id].connectToComm(comm_id);\n        comm.open();\n        if (msg_handler) {\n          comm.onMsg = msg_handler;\n        }\n      } else if (typeof google != 'undefined' && google.colab.kernel != null) {\n        var comm_promise = google.colab.kernel.comms.open(comm_id)\n        comm_promise.then((comm) => {\n          window.PyViz.comms[comm_id] = comm;\n          if (msg_handler) {\n            var messages = comm.messages[Symbol.asyncIterator]();\n            function processIteratorResult(result) {\n              var message = result.value;\n              var content = {data: message.data};\n              var metadata = message.metadata || {comm_id};\n              var msg = {content, metadata}\n              msg_handler(msg);\n              return messages.next().then(processIteratorResult);\n            }\n            return messages.next().then(processIteratorResult);\n          }\n        }) \n        var sendClosure = (data, metadata, buffers, disposeOnDone) => {\n          return comm_promise.then((comm) => {\n            comm.send(data, metadata, buffers, disposeOnDone);\n          });\n        };\n        var comm = {\n          send: sendClosure\n        };\n      }\n      window.PyViz.comms[comm_id] = comm;\n      return comm;\n    }\n    window.PyViz.comm_manager = new JupyterCommManager();\n    \n\n\nvar JS_MIME_TYPE = 'application/javascript';\nvar HTML_MIME_TYPE = 'text/html';\nvar EXEC_MIME_TYPE = 'application/vnd.holoviews_exec.v0+json';\nvar CLASS_NAME = 'output';\n\n/**\n * Render data to the DOM node\n */\nfunction render(props, node) {\n  var div = document.createElement(\"div\");\n  var script = document.createElement(\"script\");\n  node.appendChild(div);\n  node.appendChild(script);\n}\n\n/**\n * Handle when a new output is added\n */\nfunction handle_add_output(event, handle) {\n  var output_area = handle.output_area;\n  var output = handle.output;\n  if ((output.data == undefined) || (!output.data.hasOwnProperty(EXEC_MIME_TYPE))) {\n    return\n  }\n  var id = output.metadata[EXEC_MIME_TYPE][\"id\"];\n  var toinsert = output_area.element.find(\".\" + CLASS_NAME.split(' ')[0]);\n  if (id !== undefined) {\n    var nchildren = toinsert.length;\n    var html_node = toinsert[nchildren-1].children[0];\n    html_node.innerHTML = output.data[HTML_MIME_TYPE];\n    var scripts = [];\n    var nodelist = html_node.querySelectorAll(\"script\");\n    for (var i in nodelist) {\n      if (nodelist.hasOwnProperty(i)) {\n        scripts.push(nodelist[i])\n      }\n    }\n\n    scripts.forEach( function (oldScript) {\n      var newScript = document.createElement(\"script\");\n      var attrs = [];\n      var nodemap = oldScript.attributes;\n      for (var j in nodemap) {\n        if (nodemap.hasOwnProperty(j)) {\n          attrs.push(nodemap[j])\n        }\n      }\n      attrs.forEach(function(attr) { newScript.setAttribute(attr.name, attr.value) });\n      newScript.appendChild(document.createTextNode(oldScript.innerHTML));\n      oldScript.parentNode.replaceChild(newScript, oldScript);\n    });\n    if (JS_MIME_TYPE in output.data) {\n      toinsert[nchildren-1].children[1].textContent = output.data[JS_MIME_TYPE];\n    }\n    output_area._hv_plot_id = id;\n    if ((window.Bokeh !== undefined) && (id in Bokeh.index)) {\n      window.PyViz.plot_index[id] = Bokeh.index[id];\n    } else {\n      window.PyViz.plot_index[id] = null;\n    }\n  } else if (output.metadata[EXEC_MIME_TYPE][\"server_id\"] !== undefined) {\n    var bk_div = document.createElement(\"div\");\n    bk_div.innerHTML = output.data[HTML_MIME_TYPE];\n    var script_attrs = bk_div.children[0].attributes;\n    for (var i = 0; i < script_attrs.length; i++) {\n      toinsert[toinsert.length - 1].childNodes[1].setAttribute(script_attrs[i].name, script_attrs[i].value);\n    }\n    // store reference to server id on output_area\n    output_area._bokeh_server_id = output.metadata[EXEC_MIME_TYPE][\"server_id\"];\n  }\n}\n\n/**\n * Handle when an output is cleared or removed\n */\nfunction handle_clear_output(event, handle) {\n  var id = handle.cell.output_area._hv_plot_id;\n  var server_id = handle.cell.output_area._bokeh_server_id;\n  if (((id === undefined) || !(id in PyViz.plot_index)) && (server_id !== undefined)) { return; }\n  var comm = window.PyViz.comm_manager.get_client_comm(\"hv-extension-comm\", \"hv-extension-comm\", function () {});\n  if (server_id !== null) {\n    comm.send({event_type: 'server_delete', 'id': server_id});\n    return;\n  } else if (comm !== null) {\n    comm.send({event_type: 'delete', 'id': id});\n  }\n  delete PyViz.plot_index[id];\n  if ((window.Bokeh !== undefined) & (id in window.Bokeh.index)) {\n    var doc = window.Bokeh.index[id].model.document\n    doc.clear();\n    const i = window.Bokeh.documents.indexOf(doc);\n    if (i > -1) {\n      window.Bokeh.documents.splice(i, 1);\n    }\n  }\n}\n\n/**\n * Handle kernel restart event\n */\nfunction handle_kernel_cleanup(event, handle) {\n  delete PyViz.comms[\"hv-extension-comm\"];\n  window.PyViz.plot_index = {}\n}\n\n/**\n * Handle update_display_data messages\n */\nfunction handle_update_output(event, handle) {\n  handle_clear_output(event, {cell: {output_area: handle.output_area}})\n  handle_add_output(event, handle)\n}\n\nfunction register_renderer(events, OutputArea) {\n  function append_mime(data, metadata, element) {\n    // create a DOM node to render to\n    var toinsert = this.create_output_subarea(\n    metadata,\n    CLASS_NAME,\n    EXEC_MIME_TYPE\n    );\n    this.keyboard_manager.register_events(toinsert);\n    // Render to node\n    var props = {data: data, metadata: metadata[EXEC_MIME_TYPE]};\n    render(props, toinsert[0]);\n    element.append(toinsert);\n    return toinsert\n  }\n\n  events.on('output_added.OutputArea', handle_add_output);\n  events.on('output_updated.OutputArea', handle_update_output);\n  events.on('clear_output.CodeCell', handle_clear_output);\n  events.on('delete.Cell', handle_clear_output);\n  events.on('kernel_ready.Kernel', handle_kernel_cleanup);\n\n  OutputArea.prototype.register_mime_type(EXEC_MIME_TYPE, append_mime, {\n    safe: true,\n    index: 0\n  });\n}\n\nif (window.Jupyter !== undefined) {\n  try {\n    var events = require('base/js/events');\n    var OutputArea = require('notebook/js/outputarea').OutputArea;\n    if (OutputArea.prototype.mime_types().indexOf(EXEC_MIME_TYPE) == -1) {\n      register_renderer(events, OutputArea);\n    }\n  } catch(err) {\n  }\n}\n"
     },
     "metadata": {},
     "output_type": "display_data"
    },
    {
     "data": {
      "application/vnd.holoviews_exec.v0+json": "",
      "text/html": [
       "<div id='cfe90a74-009c-4b97-9675-4cb90fe524a7'>\n",
       "  <div id=\"b3db643d-5bdd-4248-855c-9595cfb199fc\" data-root-id=\"cfe90a74-009c-4b97-9675-4cb90fe524a7\" style=\"display: contents;\"></div>\n",
       "</div>\n",
       "<script type=\"application/javascript\">(function(root) {\n",
       "  var docs_json = {\"e3ba6dc5-32b4-4910-b7c9-a92be0b0dc2a\":{\"version\":\"3.6.1\",\"title\":\"Bokeh Application\",\"roots\":[{\"type\":\"object\",\"name\":\"panel.models.browser.BrowserInfo\",\"id\":\"cfe90a74-009c-4b97-9675-4cb90fe524a7\"},{\"type\":\"object\",\"name\":\"panel.models.comm_manager.CommManager\",\"id\":\"9d1a4cc1-6717-46e2-9224-06fc4a265953\",\"attributes\":{\"plot_id\":\"cfe90a74-009c-4b97-9675-4cb90fe524a7\",\"comm_id\":\"9ad0f8e40fa7459bb7bce4b62d286660\",\"client_comm_id\":\"b89f501097f042fb92b680323c0c18e6\"}}],\"defs\":[{\"type\":\"model\",\"name\":\"ReactiveHTML1\"},{\"type\":\"model\",\"name\":\"FlexBox1\",\"properties\":[{\"name\":\"align_content\",\"kind\":\"Any\",\"default\":\"flex-start\"},{\"name\":\"align_items\",\"kind\":\"Any\",\"default\":\"flex-start\"},{\"name\":\"flex_direction\",\"kind\":\"Any\",\"default\":\"row\"},{\"name\":\"flex_wrap\",\"kind\":\"Any\",\"default\":\"wrap\"},{\"name\":\"gap\",\"kind\":\"Any\",\"default\":\"\"},{\"name\":\"justify_content\",\"kind\":\"Any\",\"default\":\"flex-start\"}]},{\"type\":\"model\",\"name\":\"FloatPanel1\",\"properties\":[{\"name\":\"config\",\"kind\":\"Any\",\"default\":{\"type\":\"map\"}},{\"name\":\"contained\",\"kind\":\"Any\",\"default\":true},{\"name\":\"position\",\"kind\":\"Any\",\"default\":\"right-top\"},{\"name\":\"offsetx\",\"kind\":\"Any\",\"default\":null},{\"name\":\"offsety\",\"kind\":\"Any\",\"default\":null},{\"name\":\"theme\",\"kind\":\"Any\",\"default\":\"primary\"},{\"name\":\"status\",\"kind\":\"Any\",\"default\":\"normalized\"}]},{\"type\":\"model\",\"name\":\"GridStack1\",\"properties\":[{\"name\":\"mode\",\"kind\":\"Any\",\"default\":\"warn\"},{\"name\":\"ncols\",\"kind\":\"Any\",\"default\":null},{\"name\":\"nrows\",\"kind\":\"Any\",\"default\":null},{\"name\":\"allow_resize\",\"kind\":\"Any\",\"default\":true},{\"name\":\"allow_drag\",\"kind\":\"Any\",\"default\":true},{\"name\":\"state\",\"kind\":\"Any\",\"default\":[]}]},{\"type\":\"model\",\"name\":\"drag1\",\"properties\":[{\"name\":\"slider_width\",\"kind\":\"Any\",\"default\":5},{\"name\":\"slider_color\",\"kind\":\"Any\",\"default\":\"black\"},{\"name\":\"value\",\"kind\":\"Any\",\"default\":50}]},{\"type\":\"model\",\"name\":\"click1\",\"properties\":[{\"name\":\"terminal_output\",\"kind\":\"Any\",\"default\":\"\"},{\"name\":\"debug_name\",\"kind\":\"Any\",\"default\":\"\"},{\"name\":\"clears\",\"kind\":\"Any\",\"default\":0}]},{\"type\":\"model\",\"name\":\"FastWrapper1\",\"properties\":[{\"name\":\"object\",\"kind\":\"Any\",\"default\":null},{\"name\":\"style\",\"kind\":\"Any\",\"default\":null}]},{\"type\":\"model\",\"name\":\"NotificationAreaBase1\",\"properties\":[{\"name\":\"js_events\",\"kind\":\"Any\",\"default\":{\"type\":\"map\"}},{\"name\":\"position\",\"kind\":\"Any\",\"default\":\"bottom-right\"},{\"name\":\"_clear\",\"kind\":\"Any\",\"default\":0}]},{\"type\":\"model\",\"name\":\"NotificationArea1\",\"properties\":[{\"name\":\"js_events\",\"kind\":\"Any\",\"default\":{\"type\":\"map\"}},{\"name\":\"notifications\",\"kind\":\"Any\",\"default\":[]},{\"name\":\"position\",\"kind\":\"Any\",\"default\":\"bottom-right\"},{\"name\":\"_clear\",\"kind\":\"Any\",\"default\":0},{\"name\":\"types\",\"kind\":\"Any\",\"default\":[{\"type\":\"map\",\"entries\":[[\"type\",\"warning\"],[\"background\",\"#ffc107\"],[\"icon\",{\"type\":\"map\",\"entries\":[[\"className\",\"fas fa-exclamation-triangle\"],[\"tagName\",\"i\"],[\"color\",\"white\"]]}]]},{\"type\":\"map\",\"entries\":[[\"type\",\"info\"],[\"background\",\"#007bff\"],[\"icon\",{\"type\":\"map\",\"entries\":[[\"className\",\"fas fa-info-circle\"],[\"tagName\",\"i\"],[\"color\",\"white\"]]}]]}]}]},{\"type\":\"model\",\"name\":\"Notification\",\"properties\":[{\"name\":\"background\",\"kind\":\"Any\",\"default\":null},{\"name\":\"duration\",\"kind\":\"Any\",\"default\":3000},{\"name\":\"icon\",\"kind\":\"Any\",\"default\":null},{\"name\":\"message\",\"kind\":\"Any\",\"default\":\"\"},{\"name\":\"notification_type\",\"kind\":\"Any\",\"default\":null},{\"name\":\"_destroyed\",\"kind\":\"Any\",\"default\":false}]},{\"type\":\"model\",\"name\":\"TemplateActions1\",\"properties\":[{\"name\":\"open_modal\",\"kind\":\"Any\",\"default\":0},{\"name\":\"close_modal\",\"kind\":\"Any\",\"default\":0}]},{\"type\":\"model\",\"name\":\"BootstrapTemplateActions1\",\"properties\":[{\"name\":\"open_modal\",\"kind\":\"Any\",\"default\":0},{\"name\":\"close_modal\",\"kind\":\"Any\",\"default\":0}]},{\"type\":\"model\",\"name\":\"TemplateEditor1\",\"properties\":[{\"name\":\"layout\",\"kind\":\"Any\",\"default\":[]}]},{\"type\":\"model\",\"name\":\"MaterialTemplateActions1\",\"properties\":[{\"name\":\"open_modal\",\"kind\":\"Any\",\"default\":0},{\"name\":\"close_modal\",\"kind\":\"Any\",\"default\":0}]},{\"type\":\"model\",\"name\":\"ReactiveESM1\",\"properties\":[{\"name\":\"esm_constants\",\"kind\":\"Any\",\"default\":{\"type\":\"map\"}}]},{\"type\":\"model\",\"name\":\"JSComponent1\",\"properties\":[{\"name\":\"esm_constants\",\"kind\":\"Any\",\"default\":{\"type\":\"map\"}}]},{\"type\":\"model\",\"name\":\"ReactComponent1\",\"properties\":[{\"name\":\"esm_constants\",\"kind\":\"Any\",\"default\":{\"type\":\"map\"}}]},{\"type\":\"model\",\"name\":\"AnyWidgetComponent1\",\"properties\":[{\"name\":\"esm_constants\",\"kind\":\"Any\",\"default\":{\"type\":\"map\"}}]},{\"type\":\"model\",\"name\":\"request_value1\",\"properties\":[{\"name\":\"fill\",\"kind\":\"Any\",\"default\":\"none\"},{\"name\":\"_synced\",\"kind\":\"Any\",\"default\":null},{\"name\":\"_request_sync\",\"kind\":\"Any\",\"default\":0}]}]}};\n",
       "  var render_items = [{\"docid\":\"e3ba6dc5-32b4-4910-b7c9-a92be0b0dc2a\",\"roots\":{\"cfe90a74-009c-4b97-9675-4cb90fe524a7\":\"b3db643d-5bdd-4248-855c-9595cfb199fc\"},\"root_ids\":[\"cfe90a74-009c-4b97-9675-4cb90fe524a7\"]}];\n",
       "  var docs = Object.values(docs_json)\n",
       "  if (!docs) {\n",
       "    return\n",
       "  }\n",
       "  const py_version = docs[0].version.replace('rc', '-rc.').replace('.dev', '-dev.')\n",
       "  async function embed_document(root) {\n",
       "    var Bokeh = get_bokeh(root)\n",
       "    await Bokeh.embed.embed_items_notebook(docs_json, render_items);\n",
       "    for (const render_item of render_items) {\n",
       "      for (const root_id of render_item.root_ids) {\n",
       "\tconst id_el = document.getElementById(root_id)\n",
       "\tif (id_el.children.length && id_el.children[0].hasAttribute('data-root-id')) {\n",
       "\t  const root_el = id_el.children[0]\n",
       "\t  root_el.id = root_el.id + '-rendered'\n",
       "\t  for (const child of root_el.children) {\n",
       "            // Ensure JupyterLab does not capture keyboard shortcuts\n",
       "            // see: https://jupyterlab.readthedocs.io/en/4.1.x/extension/notebook.html#keyboard-interaction-model\n",
       "\t    child.setAttribute('data-lm-suppress-shortcuts', 'true')\n",
       "\t  }\n",
       "\t}\n",
       "      }\n",
       "    }\n",
       "  }\n",
       "  function get_bokeh(root) {\n",
       "    if (root.Bokeh === undefined) {\n",
       "      return null\n",
       "    } else if (root.Bokeh.version !== py_version) {\n",
       "      if (root.Bokeh.versions === undefined || !root.Bokeh.versions.has(py_version)) {\n",
       "\treturn null\n",
       "      }\n",
       "      return root.Bokeh.versions.get(py_version);\n",
       "    } else if (root.Bokeh.version === py_version) {\n",
       "      return root.Bokeh\n",
       "    }\n",
       "    return null\n",
       "  }\n",
       "  function is_loaded(root) {\n",
       "    var Bokeh = get_bokeh(root)\n",
       "    return (Bokeh != null && Bokeh.Panel !== undefined)\n",
       "  }\n",
       "  if (is_loaded(root)) {\n",
       "    embed_document(root);\n",
       "  } else {\n",
       "    var attempts = 0;\n",
       "    var timer = setInterval(function(root) {\n",
       "      if (is_loaded(root)) {\n",
       "        clearInterval(timer);\n",
       "        embed_document(root);\n",
       "      } else if (document.readyState == \"complete\") {\n",
       "        attempts++;\n",
       "        if (attempts > 200) {\n",
       "          clearInterval(timer);\n",
       "\t  var Bokeh = get_bokeh(root)\n",
       "\t  if (Bokeh == null || Bokeh.Panel == null) {\n",
       "            console.warn(\"Panel: ERROR: Unable to run Panel code because Bokeh or Panel library is missing\");\n",
       "\t  } else {\n",
       "\t    console.warn(\"Panel: WARNING: Attempting to render but not all required libraries could be resolved.\")\n",
       "\t    embed_document(root)\n",
       "\t  }\n",
       "        }\n",
       "      }\n",
       "    }, 25, root)\n",
       "  }\n",
       "})(window);</script>"
      ]
     },
     "metadata": {
      "application/vnd.holoviews_exec.v0+json": {
       "id": "cfe90a74-009c-4b97-9675-4cb90fe524a7"
      }
     },
     "output_type": "display_data"
    }
   ],
   "source": [
    "hvplot.extension('matplotlib')"
   ]
  },
  {
   "cell_type": "markdown",
   "id": "6ef6a7c1-d141-46ae-979d-d663520e7688",
   "metadata": {},
   "source": [
    "### Loading Dataset\n",
    "\n",
    "#### URL Function"
   ]
  },
  {
   "cell_type": "code",
   "execution_count": 45,
   "id": "312f0588-657c-48b8-86df-026dd6029a2c",
   "metadata": {},
   "outputs": [],
   "source": [
    "def download_and_modify_url(url, local_filename):\n",
    "    urllib.request.urlretrieve(url, local_filename)\n",
    "    \n",
    "    with open(local_filename, 'r') as file:\n",
    "        lines = file.readlines()\n",
    "    \n",
    "    with open(local_filename, 'w') as file:\n",
    "        for i, line in enumerate(lines):\n",
    "            if i < 34 or i == 35:\n",
    "                continue\n",
    "            file.write(line)"
   ]
  },
  {
   "cell_type": "code",
   "execution_count": 46,
   "id": "b431f03e-5194-448e-9cc5-d4d86a78c1e0",
   "metadata": {},
   "outputs": [],
   "source": [
    "url = 'https://github.com/mattharrison/datasets/raw/master/data/dirtydevil.txt'"
   ]
  },
  {
   "cell_type": "code",
   "execution_count": 47,
   "id": "7bdf3fc7-5f8d-48e9-8b7e-13053fbac6cc",
   "metadata": {},
   "outputs": [],
   "source": [
    "local_filename = '/Users/isisromero/desktop/polars/datasets/devilclean.txt'"
   ]
  },
  {
   "cell_type": "code",
   "execution_count": 48,
   "id": "208fba2a-107f-4f1e-9ea5-8c230ce0f006",
   "metadata": {},
   "outputs": [],
   "source": [
    "download_and_modify_url(url, local_filename)"
   ]
  },
  {
   "cell_type": "code",
   "execution_count": 49,
   "id": "f535ad52-1168-43a7-b0b3-2332c016876d",
   "metadata": {},
   "outputs": [
    {
     "name": "stdout",
     "output_type": "stream",
     "text": [
      "Saved & Modified File within /Users/isisromero/desktop/polars/datasets/devilclean.txt\n"
     ]
    }
   ],
   "source": [
    "print(f\"Saved & Modified File within {local_filename}\")"
   ]
  },
  {
   "cell_type": "markdown",
   "id": "2351c16b-a2d7-47bb-a2c4-ad5e6516be49",
   "metadata": {},
   "source": [
    "#### Tweaking Function"
   ]
  },
  {
   "cell_type": "code",
   "execution_count": 50,
   "id": "f8937163-a019-4cf2-93da-ef015da4f77b",
   "metadata": {},
   "outputs": [],
   "source": [
    "def tweak_river(df_):\n",
    "    return (df_\n",
    "            .select('agency_cd', 'site_no', 'tz_cd', \n",
    "                    pl.col('datetime').str.to_datetime(),\n",
    "                    cfs=pl.col('144166_00060'),\n",
    "                    gage_height=pl.col('144167_00065').cast(pl.Float64)\n",
    "                   )\n",
    "           )"
   ]
  },
  {
   "cell_type": "code",
   "execution_count": 51,
   "id": "1e03aa95-0b27-4a16-9500-61143b994db0",
   "metadata": {},
   "outputs": [],
   "source": [
    "raw = pl.read_csv('/Users/isisromero/desktop/polars/datasets/devilclean.txt', separator='\\t')"
   ]
  },
  {
   "cell_type": "code",
   "execution_count": 52,
   "id": "a7a7dc88-70d7-4455-a3ee-2568822ecbbf",
   "metadata": {},
   "outputs": [],
   "source": [
    "dd = tweak_river(raw)"
   ]
  },
  {
   "cell_type": "code",
   "execution_count": 53,
   "id": "f0dd987d-926b-432b-aab7-99364c88bb9e",
   "metadata": {},
   "outputs": [
    {
     "name": "stdout",
     "output_type": "stream",
     "text": [
      "shape: (539_305, 6)\n",
      "┌───────────┬─────────┬───────┬─────────────────────┬──────┬─────────────┐\n",
      "│ agency_cd ┆ site_no ┆ tz_cd ┆ datetime            ┆ cfs  ┆ gage_height │\n",
      "│ ---       ┆ ---     ┆ ---   ┆ ---                 ┆ ---  ┆ ---         │\n",
      "│ str       ┆ i64     ┆ str   ┆ datetime[μs]        ┆ f64  ┆ f64         │\n",
      "╞═══════════╪═════════╪═══════╪═════════════════════╪══════╪═════════════╡\n",
      "│ USGS      ┆ 9333500 ┆ MDT   ┆ 2001-05-07 01:00:00 ┆ 71.0 ┆ null        │\n",
      "│ USGS      ┆ 9333500 ┆ MDT   ┆ 2001-05-07 01:15:00 ┆ 71.0 ┆ null        │\n",
      "│ USGS      ┆ 9333500 ┆ MDT   ┆ 2001-05-07 01:30:00 ┆ 71.0 ┆ null        │\n",
      "│ USGS      ┆ 9333500 ┆ MDT   ┆ 2001-05-07 01:45:00 ┆ 70.0 ┆ null        │\n",
      "│ USGS      ┆ 9333500 ┆ MDT   ┆ 2001-05-07 02:00:00 ┆ 70.0 ┆ null        │\n",
      "│ …         ┆ …       ┆ …     ┆ …                   ┆ …    ┆ …           │\n",
      "│ USGS      ┆ 9333500 ┆ MDT   ┆ 2020-09-28 08:30:00 ┆ 9.53 ┆ 6.16        │\n",
      "│ USGS      ┆ 9333500 ┆ MDT   ┆ 2020-09-28 08:45:00 ┆ 9.2  ┆ 6.15        │\n",
      "│ USGS      ┆ 9333500 ┆ MDT   ┆ 2020-09-28 09:00:00 ┆ 9.2  ┆ 6.15        │\n",
      "│ USGS      ┆ 9333500 ┆ MDT   ┆ 2020-09-28 09:15:00 ┆ 9.2  ┆ 6.15        │\n",
      "│ USGS      ┆ 9333500 ┆ MDT   ┆ 2020-09-28 09:30:00 ┆ 9.2  ┆ 6.15        │\n",
      "└───────────┴─────────┴───────┴─────────────────────┴──────┴─────────────┘\n"
     ]
    }
   ],
   "source": [
    "print(dd)"
   ]
  },
  {
   "cell_type": "markdown",
   "id": "e8a50873-a354-4d4b-87d3-599568cd1b0f",
   "metadata": {},
   "source": [
    "### Dates Convertion"
   ]
  },
  {
   "cell_type": "code",
   "execution_count": 54,
   "id": "fd4baaa9-75ec-4dbe-a592-11ece640b4a5",
   "metadata": {},
   "outputs": [
    {
     "name": "stdout",
     "output_type": "stream",
     "text": [
      "shape: (539_305, 8)\n",
      "┌───────────┬─────────┬─────────────┬───────┬─────────────┬─────────────┬─────────────┬────────────┐\n",
      "│ agency_cd ┆ site_no ┆ datetime    ┆ tz_cd ┆ 144166_0006 ┆ 144166_0006 ┆ 144167_0006 ┆ 144167_000 │\n",
      "│ ---       ┆ ---     ┆ ---         ┆ ---   ┆ 0           ┆ 0_cd        ┆ 5           ┆ 65_cd      │\n",
      "│ str       ┆ i64     ┆ datetime[μs ┆ str   ┆ ---         ┆ ---         ┆ ---         ┆ ---        │\n",
      "│           ┆         ┆ ]           ┆       ┆ f64         ┆ str         ┆ str         ┆ str        │\n",
      "╞═══════════╪═════════╪═════════════╪═══════╪═════════════╪═════════════╪═════════════╪════════════╡\n",
      "│ USGS      ┆ 9333500 ┆ 2001-05-07  ┆ MDT   ┆ 71.0        ┆ A:[91]      ┆ null        ┆ null       │\n",
      "│           ┆         ┆ 01:00:00    ┆       ┆             ┆             ┆             ┆            │\n",
      "│ USGS      ┆ 9333500 ┆ 2001-05-07  ┆ MDT   ┆ 71.0        ┆ A:[91]      ┆ null        ┆ null       │\n",
      "│           ┆         ┆ 01:15:00    ┆       ┆             ┆             ┆             ┆            │\n",
      "│ USGS      ┆ 9333500 ┆ 2001-05-07  ┆ MDT   ┆ 71.0        ┆ A:[91]      ┆ null        ┆ null       │\n",
      "│           ┆         ┆ 01:30:00    ┆       ┆             ┆             ┆             ┆            │\n",
      "│ USGS      ┆ 9333500 ┆ 2001-05-07  ┆ MDT   ┆ 70.0        ┆ A:[91]      ┆ null        ┆ null       │\n",
      "│           ┆         ┆ 01:45:00    ┆       ┆             ┆             ┆             ┆            │\n",
      "│ USGS      ┆ 9333500 ┆ 2001-05-07  ┆ MDT   ┆ 70.0        ┆ A:[91]      ┆ null        ┆ null       │\n",
      "│           ┆         ┆ 02:00:00    ┆       ┆             ┆             ┆             ┆            │\n",
      "│ …         ┆ …       ┆ …           ┆ …     ┆ …           ┆ …           ┆ …           ┆ …          │\n",
      "│ USGS      ┆ 9333500 ┆ 2020-09-28  ┆ MDT   ┆ 9.53        ┆ P           ┆ 6.16        ┆ P          │\n",
      "│           ┆         ┆ 08:30:00    ┆       ┆             ┆             ┆             ┆            │\n",
      "│ USGS      ┆ 9333500 ┆ 2020-09-28  ┆ MDT   ┆ 9.2         ┆ P           ┆ 6.15        ┆ P          │\n",
      "│           ┆         ┆ 08:45:00    ┆       ┆             ┆             ┆             ┆            │\n",
      "│ USGS      ┆ 9333500 ┆ 2020-09-28  ┆ MDT   ┆ 9.2         ┆ P           ┆ 6.15        ┆ P          │\n",
      "│           ┆         ┆ 09:00:00    ┆       ┆             ┆             ┆             ┆            │\n",
      "│ USGS      ┆ 9333500 ┆ 2020-09-28  ┆ MDT   ┆ 9.2         ┆ P           ┆ 6.15        ┆ P          │\n",
      "│           ┆         ┆ 09:15:00    ┆       ┆             ┆             ┆             ┆            │\n",
      "│ USGS      ┆ 9333500 ┆ 2020-09-28  ┆ MDT   ┆ 9.2         ┆ P           ┆ 6.15        ┆ P          │\n",
      "│           ┆         ┆ 09:30:00    ┆       ┆             ┆             ┆             ┆            │\n",
      "└───────────┴─────────┴─────────────┴───────┴─────────────┴─────────────┴─────────────┴────────────┘\n"
     ]
    }
   ],
   "source": [
    "# Reading as a Date\n",
    "print(pl.read_csv('/Users/isisromero/desktop/polars/datasets/devilclean.txt', separator='\\t', try_parse_dates=True))"
   ]
  },
  {
   "cell_type": "code",
   "execution_count": 55,
   "id": "cebadf32-db21-4744-a072-f9595ba00089",
   "metadata": {},
   "outputs": [],
   "source": [
    "# Dates Proper Conversion, as follows:\n",
    "format = '%Y-%m-%d %H:%M'"
   ]
  },
  {
   "cell_type": "code",
   "execution_count": 56,
   "id": "58c12653-d56a-43f1-aaf4-04458fa12894",
   "metadata": {},
   "outputs": [
    {
     "name": "stdout",
     "output_type": "stream",
     "text": [
      "shape: (539_305, 4)\n",
      "┌──────────────────┬─────────────────────┬────────────┬─────────────────────┐\n",
      "│ original         ┆ to_datetime         ┆ to_date    ┆ strptime            │\n",
      "│ ---              ┆ ---                 ┆ ---        ┆ ---                 │\n",
      "│ str              ┆ datetime[μs]        ┆ date       ┆ datetime[μs]        │\n",
      "╞══════════════════╪═════════════════════╪════════════╪═════════════════════╡\n",
      "│ 2001-05-07 01:00 ┆ 2001-05-07 01:00:00 ┆ 2001-05-07 ┆ 2001-05-07 01:00:00 │\n",
      "│ 2001-05-07 01:15 ┆ 2001-05-07 01:15:00 ┆ 2001-05-07 ┆ 2001-05-07 01:15:00 │\n",
      "│ 2001-05-07 01:30 ┆ 2001-05-07 01:30:00 ┆ 2001-05-07 ┆ 2001-05-07 01:30:00 │\n",
      "│ 2001-05-07 01:45 ┆ 2001-05-07 01:45:00 ┆ 2001-05-07 ┆ 2001-05-07 01:45:00 │\n",
      "│ 2001-05-07 02:00 ┆ 2001-05-07 02:00:00 ┆ 2001-05-07 ┆ 2001-05-07 02:00:00 │\n",
      "│ …                ┆ …                   ┆ …          ┆ …                   │\n",
      "│ 2020-09-28 08:30 ┆ 2020-09-28 08:30:00 ┆ 2020-09-28 ┆ 2020-09-28 08:30:00 │\n",
      "│ 2020-09-28 08:45 ┆ 2020-09-28 08:45:00 ┆ 2020-09-28 ┆ 2020-09-28 08:45:00 │\n",
      "│ 2020-09-28 09:00 ┆ 2020-09-28 09:00:00 ┆ 2020-09-28 ┆ 2020-09-28 09:00:00 │\n",
      "│ 2020-09-28 09:15 ┆ 2020-09-28 09:15:00 ┆ 2020-09-28 ┆ 2020-09-28 09:15:00 │\n",
      "│ 2020-09-28 09:30 ┆ 2020-09-28 09:30:00 ┆ 2020-09-28 ┆ 2020-09-28 09:30:00 │\n",
      "└──────────────────┴─────────────────────┴────────────┴─────────────────────┘\n"
     ]
    }
   ],
   "source": [
    "# Contrasting All Conversion\n",
    "print(raw\n",
    "      .select(original=pl.col('datetime'),\n",
    "              to_datetime=pl.col('datetime').str.to_datetime(format),\n",
    "              to_date=pl.col('datetime').str.to_date(format),\n",
    "              strptime=pl.col('datetime').str.strptime(pl.Datetime, format),\n",
    "              # Line below fails\n",
    "              #cast=pl.col('datetime').cast(pl.Datetime)\n",
    "             )\n",
    "     )"
   ]
  },
  {
   "cell_type": "markdown",
   "id": "7f365fd6-31fa-4250-b991-095e98427d1d",
   "metadata": {},
   "source": [
    "### Combining Columns to Create"
   ]
  },
  {
   "cell_type": "code",
   "execution_count": 57,
   "id": "ac5ce51e-e5f3-45f3-bbfe-a287883ecd25",
   "metadata": {},
   "outputs": [
    {
     "name": "stdout",
     "output_type": "stream",
     "text": [
      "shape: (539_305, 3)\n",
      "┌─────────────────────┬───────┬──────┐\n",
      "│ to_datetime         ┆ month ┆ year │\n",
      "│ ---                 ┆ ---   ┆ ---  │\n",
      "│ datetime[μs]        ┆ str   ┆ str  │\n",
      "╞═════════════════════╪═══════╪══════╡\n",
      "│ 2001-05-07 01:00:00 ┆ 05    ┆ 2001 │\n",
      "│ 2001-05-07 01:15:00 ┆ 05    ┆ 2001 │\n",
      "│ 2001-05-07 01:30:00 ┆ 05    ┆ 2001 │\n",
      "│ 2001-05-07 01:45:00 ┆ 05    ┆ 2001 │\n",
      "│ 2001-05-07 02:00:00 ┆ 05    ┆ 2001 │\n",
      "│ …                   ┆ …     ┆ …    │\n",
      "│ 2020-09-28 08:30:00 ┆ 09    ┆ 2020 │\n",
      "│ 2020-09-28 08:45:00 ┆ 09    ┆ 2020 │\n",
      "│ 2020-09-28 09:00:00 ┆ 09    ┆ 2020 │\n",
      "│ 2020-09-28 09:15:00 ┆ 09    ┆ 2020 │\n",
      "│ 2020-09-28 09:30:00 ┆ 09    ┆ 2020 │\n",
      "└─────────────────────┴───────┴──────┘\n"
     ]
    }
   ],
   "source": [
    "print(raw\n",
    "      .select(to_datetime=pl.col('datetime').str.to_datetime(format))\n",
    "      .with_columns(month=pl.col('to_datetime').dt.strftime('%m'),\n",
    "                    year=pl.col('to_datetime').dt.strftime('%Y'))\n",
    "     )"
   ]
  },
  {
   "cell_type": "code",
   "execution_count": 58,
   "id": "6259ae56-7ea4-48ab-8f53-9ccd3f275aff",
   "metadata": {},
   "outputs": [
    {
     "name": "stdout",
     "output_type": "stream",
     "text": [
      "shape: (539_305, 1)\n",
      "┌────────────┐\n",
      "│ date       │\n",
      "│ ---        │\n",
      "│ date       │\n",
      "╞════════════╡\n",
      "│ 2001-05-01 │\n",
      "│ 2001-05-01 │\n",
      "│ 2001-05-01 │\n",
      "│ 2001-05-01 │\n",
      "│ 2001-05-01 │\n",
      "│ …          │\n",
      "│ 2020-09-01 │\n",
      "│ 2020-09-01 │\n",
      "│ 2020-09-01 │\n",
      "│ 2020-09-01 │\n",
      "│ 2020-09-01 │\n",
      "└────────────┘\n"
     ]
    }
   ],
   "source": [
    "print(raw\n",
    "      .select(to_datetime=pl.col('datetime').str.to_datetime(format))\n",
    "      .with_columns(month=pl.col('to_datetime').dt.strftime('%m'),year=pl.col('to_datetime').dt.strftime('%Y'))\n",
    "      .select(pl.date(pl.col('year'), pl.col('month'), 1))\n",
    "     )"
   ]
  },
  {
   "cell_type": "markdown",
   "id": "03430547-acc8-40dc-ab42-9e8198caf5ad",
   "metadata": {},
   "source": [
    "### Changing Time-Zones"
   ]
  },
  {
   "cell_type": "code",
   "execution_count": 59,
   "id": "58251d72-3186-4f3b-a6f6-f5a7e3ef36ab",
   "metadata": {},
   "outputs": [
    {
     "name": "stdout",
     "output_type": "stream",
     "text": [
      "None\n"
     ]
    }
   ],
   "source": [
    "# Inspecting Current Time\n",
    "print(tweak_river(raw)\n",
    "      ['datetime']\n",
    "      .dtype.time_zone\n",
    "     )"
   ]
  },
  {
   "cell_type": "code",
   "execution_count": 60,
   "id": "3a284652-42b1-49b1-8538-33541c57ff57",
   "metadata": {},
   "outputs": [
    {
     "data": {
      "text/plain": [
       "['Africa/Abidjan',\n",
       " 'Africa/Accra',\n",
       " 'Africa/Addis_Ababa',\n",
       " 'Africa/Algiers',\n",
       " 'Africa/Asmara']"
      ]
     },
     "execution_count": 60,
     "metadata": {},
     "output_type": "execute_result"
    }
   ],
   "source": [
    "# Checking PyZone Attributes\n",
    "pytz.all_timezones[:5]"
   ]
  },
  {
   "cell_type": "code",
   "execution_count": 61,
   "id": "7913a207-f354-4151-af7b-91948c4cc6a9",
   "metadata": {},
   "outputs": [],
   "source": [
    "# Dates Proper Conversion, as follows:\n",
    "format = '%Y-%m-%d %H:%M'"
   ]
  },
  {
   "cell_type": "code",
   "execution_count": 64,
   "id": "f483b701-7a35-45c9-b299-010d88b5b3da",
   "metadata": {},
   "outputs": [
    {
     "name": "stdout",
     "output_type": "stream",
     "text": [
      "shape: (539_305, 6)\n",
      "┌────────────┬─────────────────┬────────────────┬────────────────┬────────────────┬────────────────┐\n",
      "│ original   ┆ naive           ┆ utc            ┆ Denver         ┆ Denver2        ┆ Denver3        │\n",
      "│ ---        ┆ ---             ┆ ---            ┆ ---            ┆ ---            ┆ ---            │\n",
      "│ str        ┆ datetime[μs]    ┆ datetime[μs,   ┆ datetime[μs,   ┆ datetime[μs,   ┆ datetime[μs,   │\n",
      "│            ┆                 ┆ UTC]           ┆ America/Denver ┆ America/Denver ┆ America/Denver │\n",
      "│            ┆                 ┆                ┆ ]              ┆ ]              ┆ ]              │\n",
      "╞════════════╪═════════════════╪════════════════╪════════════════╪════════════════╪════════════════╡\n",
      "│ 2001-05-07 ┆ 2001-05-07      ┆ 2001-05-07     ┆ 2001-05-06     ┆ 2001-05-07     ┆ 2001-05-07     │\n",
      "│ 01:00      ┆ 01:00:00        ┆ 01:00:00 UTC   ┆ 19:00:00 MDT   ┆ 01:00:00 MDT   ┆ 01:00:00 MDT   │\n",
      "│ 2001-05-07 ┆ 2001-05-07      ┆ 2001-05-07     ┆ 2001-05-06     ┆ 2001-05-07     ┆ 2001-05-07     │\n",
      "│ 01:15      ┆ 01:15:00        ┆ 01:15:00 UTC   ┆ 19:15:00 MDT   ┆ 01:15:00 MDT   ┆ 01:15:00 MDT   │\n",
      "│ 2001-05-07 ┆ 2001-05-07      ┆ 2001-05-07     ┆ 2001-05-06     ┆ 2001-05-07     ┆ 2001-05-07     │\n",
      "│ 01:30      ┆ 01:30:00        ┆ 01:30:00 UTC   ┆ 19:30:00 MDT   ┆ 01:30:00 MDT   ┆ 01:30:00 MDT   │\n",
      "│ 2001-05-07 ┆ 2001-05-07      ┆ 2001-05-07     ┆ 2001-05-06     ┆ 2001-05-07     ┆ 2001-05-07     │\n",
      "│ 01:45      ┆ 01:45:00        ┆ 01:45:00 UTC   ┆ 19:45:00 MDT   ┆ 01:45:00 MDT   ┆ 01:45:00 MDT   │\n",
      "│ 2001-05-07 ┆ 2001-05-07      ┆ 2001-05-07     ┆ 2001-05-06     ┆ 2001-05-07     ┆ 2001-05-07     │\n",
      "│ 02:00      ┆ 02:00:00        ┆ 02:00:00 UTC   ┆ 20:00:00 MDT   ┆ 02:00:00 MDT   ┆ 02:00:00 MDT   │\n",
      "│ …          ┆ …               ┆ …              ┆ …              ┆ …              ┆ …              │\n",
      "│ 2020-09-28 ┆ 2020-09-28      ┆ 2020-09-28     ┆ 2020-09-28     ┆ 2020-09-28     ┆ 2020-09-28     │\n",
      "│ 08:30      ┆ 08:30:00        ┆ 08:30:00 UTC   ┆ 02:30:00 MDT   ┆ 08:30:00 MDT   ┆ 08:30:00 MDT   │\n",
      "│ 2020-09-28 ┆ 2020-09-28      ┆ 2020-09-28     ┆ 2020-09-28     ┆ 2020-09-28     ┆ 2020-09-28     │\n",
      "│ 08:45      ┆ 08:45:00        ┆ 08:45:00 UTC   ┆ 02:45:00 MDT   ┆ 08:45:00 MDT   ┆ 08:45:00 MDT   │\n",
      "│ 2020-09-28 ┆ 2020-09-28      ┆ 2020-09-28     ┆ 2020-09-28     ┆ 2020-09-28     ┆ 2020-09-28     │\n",
      "│ 09:00      ┆ 09:00:00        ┆ 09:00:00 UTC   ┆ 03:00:00 MDT   ┆ 09:00:00 MDT   ┆ 09:00:00 MDT   │\n",
      "│ 2020-09-28 ┆ 2020-09-28      ┆ 2020-09-28     ┆ 2020-09-28     ┆ 2020-09-28     ┆ 2020-09-28     │\n",
      "│ 09:15      ┆ 09:15:00        ┆ 09:15:00 UTC   ┆ 03:15:00 MDT   ┆ 09:15:00 MDT   ┆ 09:15:00 MDT   │\n",
      "│ 2020-09-28 ┆ 2020-09-28      ┆ 2020-09-28     ┆ 2020-09-28     ┆ 2020-09-28     ┆ 2020-09-28     │\n",
      "│ 09:30      ┆ 09:30:00        ┆ 09:30:00 UTC   ┆ 03:30:00 MDT   ┆ 09:30:00 MDT   ┆ 09:30:00 MDT   │\n",
      "└────────────┴─────────────────┴────────────────┴────────────────┴────────────────┴────────────────┘\n"
     ]
    }
   ],
   "source": [
    "print(raw\n",
    "      .select(original=pl.col('datetime'), naive=pl.col('datetime').str.to_datetime(format), \n",
    "              utc=pl.col('datetime').str.to_datetime(format)\n",
    "              .dt.replace_time_zone('UTC'), Denver=pl.col('datetime').str.to_datetime(format)\n",
    "              .dt.replace_time_zone('UTC')\n",
    "              .dt.convert_time_zone('America/Denver'), Denver2=(pl.col('datetime') + ' ' + (pl.col('tz_cd')\n",
    "                .str.replace('MST', '-0700').str.replace('MDT', '-0600')))\n",
    "              .str.to_datetime('%Y-%m-%d %H:%M %z')\n",
    "              .dt.convert_time_zone('America/Denver'), \n",
    "              Denver3=(pl.col('datetime').str.to_datetime(format, time_zone='America/Denver', ambiguous='earliest'))\n",
    "             )\n",
    "     )"
   ]
  },
  {
   "cell_type": "code",
   "execution_count": 65,
   "id": "f81eaf32-4957-4b0b-98fe-e9f374d8e7b2",
   "metadata": {},
   "outputs": [],
   "source": [
    "# Dates Proper Conversion, as follows:\n",
    "format = '%Y-%m-%d %H:%M'"
   ]
  },
  {
   "cell_type": "code",
   "execution_count": 66,
   "id": "2307e551-44b7-41a5-b1e6-e42b673ad7c2",
   "metadata": {},
   "outputs": [
    {
     "name": "stdout",
     "output_type": "stream",
     "text": [
      "shape: (56, 2)\n",
      "┌──────────────────────────────┬──────────────────────────────┐\n",
      "│ Denver2                      ┆ Denver3                      │\n",
      "│ ---                          ┆ ---                          │\n",
      "│ datetime[μs, America/Denver] ┆ datetime[μs, America/Denver] │\n",
      "╞══════════════════════════════╪══════════════════════════════╡\n",
      "│ 2003-10-26 01:00:00 MDT      ┆ 2003-10-26 01:00:00 MST      │\n",
      "│ 2003-10-26 01:15:00 MDT      ┆ 2003-10-26 01:15:00 MST      │\n",
      "│ 2003-10-26 01:30:00 MDT      ┆ 2003-10-26 01:30:00 MST      │\n",
      "│ 2003-10-26 01:45:00 MDT      ┆ 2003-10-26 01:45:00 MST      │\n",
      "│ 2007-11-04 01:00:00 MDT      ┆ 2007-11-04 01:00:00 MST      │\n",
      "│ …                            ┆ …                            │\n",
      "│ 2018-11-04 01:45:00 MDT      ┆ 2018-11-04 01:45:00 MST      │\n",
      "│ 2019-11-03 01:00:00 MDT      ┆ 2019-11-03 01:00:00 MST      │\n",
      "│ 2019-11-03 01:15:00 MDT      ┆ 2019-11-03 01:15:00 MST      │\n",
      "│ 2019-11-03 01:30:00 MDT      ┆ 2019-11-03 01:30:00 MST      │\n",
      "│ 2019-11-03 01:45:00 MDT      ┆ 2019-11-03 01:45:00 MST      │\n",
      "└──────────────────────────────┴──────────────────────────────┘\n"
     ]
    }
   ],
   "source": [
    "print(raw\n",
    "      .select(\n",
    "          Denver2=(pl.col('datetime') + ' ' + (pl.col('tz_cd')\n",
    "                                               .str.replace('MST', '-0700').str.replace('MDT', '-0600')))\n",
    "          .str.to_datetime('%Y-%m-%d %H:%M %z')\n",
    "          .dt.convert_time_zone('America/Denver'),            \n",
    "          Denver3=(pl.col('datetime').str.to_datetime(format, time_zone='America/Denver', ambiguous='latest'))\n",
    "      )\n",
    "      .filter(pl.col('Denver3') != pl.col('Denver2'))\n",
    "     )"
   ]
  },
  {
   "cell_type": "markdown",
   "id": "f513f781-bcbc-46a5-9265-197de9cdb1e1",
   "metadata": {},
   "source": [
    "#### Adding Time-Zone within The `tweak` Function"
   ]
  },
  {
   "cell_type": "code",
   "execution_count": 67,
   "id": "9aa3c454-1c68-43c6-93c5-1b29dd4c7475",
   "metadata": {},
   "outputs": [],
   "source": [
    "def tweak_river(df_, cfs_col, gage_height_col):\n",
    "    return (df_\n",
    "        .select(\n",
    "            'agency_cd', 'site_no', \n",
    "            cfs=pl.col(cfs_col),\n",
    "            gage_height=pl.col(gage_height_col).cast(pl.Float64),\n",
    "            datetime=(pl.col('datetime') + ' ' + (pl.col('tz_cd')\n",
    "                .str.replace('MST', '-0700').str.replace('MDT', '-0600')))\n",
    "                .str.to_datetime('%Y-%m-%d %H:%M %z')\n",
    "                .dt.convert_time_zone('America/Denver')\n",
    "            )\n",
    "        )"
   ]
  },
  {
   "cell_type": "code",
   "execution_count": 68,
   "id": "55b6c37b-1720-451f-8fdb-ea06986ead37",
   "metadata": {},
   "outputs": [],
   "source": [
    "dd = tweak_river(raw, cfs_col='144166_00060', gage_height_col='144167_00065')"
   ]
  },
  {
   "cell_type": "markdown",
   "id": "c5b20691-e365-43fa-a09e-96bc87f63e5d",
   "metadata": {},
   "source": [
    "### Time Aggregation"
   ]
  },
  {
   "cell_type": "code",
   "execution_count": 69,
   "id": "290c4c75-3bde-4105-8c4e-fe4fb1954f84",
   "metadata": {},
   "outputs": [
    {
     "name": "stdout",
     "output_type": "stream",
     "text": [
      "shape: (20, 3)\n",
      "┌──────┬────────────┬─────────────┐\n",
      "│ year ┆ cfs        ┆ gage_height │\n",
      "│ ---  ┆ ---        ┆ ---         │\n",
      "│ i32  ┆ f64        ┆ f64         │\n",
      "╞══════╪════════════╪═════════════╡\n",
      "│ 2017 ┆ 82.364265  ┆ 5.581915    │\n",
      "│ 2002 ┆ 116.211979 ┆ NaN         │\n",
      "│ 2001 ┆ 74.304452  ┆ NaN         │\n",
      "│ 2007 ┆ 95.310375  ┆ 3.641389    │\n",
      "│ 2019 ┆ 92.886454  ┆ 6.670158    │\n",
      "│ …    ┆ …          ┆ …           │\n",
      "│ 2013 ┆ 152.412803 ┆ 4.239074    │\n",
      "│ 2003 ┆ 86.957083  ┆ NaN         │\n",
      "│ 2009 ┆ 53.669322  ┆ 3.154503    │\n",
      "│ 2012 ┆ 93.731029  ┆ 3.506091    │\n",
      "│ 2014 ┆ 71.785238  ┆ 5.517218    │\n",
      "└──────┴────────────┴─────────────┘\n"
     ]
    }
   ],
   "source": [
    "print(dd\n",
    "      .with_columns(year=pl.col('datetime').dt.year())\n",
    "      .group_by('year')\n",
    "      .agg(pl.col(pl.Float64).mean())\n",
    "     )"
   ]
  },
  {
   "cell_type": "code",
   "execution_count": 70,
   "id": "be55d215-a393-496e-a69b-d612ec42365c",
   "metadata": {},
   "outputs": [
    {
     "name": "stdout",
     "output_type": "stream",
     "text": [
      "shape: (20, 3)\n",
      "┌──────┬────────────┬─────────────┐\n",
      "│ year ┆ cfs        ┆ gage_height │\n",
      "│ ---  ┆ ---        ┆ ---         │\n",
      "│ i32  ┆ f64        ┆ f64         │\n",
      "╞══════╪════════════╪═════════════╡\n",
      "│ 2001 ┆ 74.304452  ┆ NaN         │\n",
      "│ 2002 ┆ 116.211979 ┆ NaN         │\n",
      "│ 2003 ┆ 86.957083  ┆ NaN         │\n",
      "│ 2004 ┆ 113.173465 ┆ NaN         │\n",
      "│ 2005 ┆ 177.604843 ┆ NaN         │\n",
      "│ …    ┆ …          ┆ …           │\n",
      "│ 2016 ┆ 98.565988  ┆ 5.542945    │\n",
      "│ 2017 ┆ 82.364265  ┆ 5.581915    │\n",
      "│ 2018 ┆ 71.074642  ┆ 6.423744    │\n",
      "│ 2019 ┆ 92.886454  ┆ 6.670158    │\n",
      "│ 2020 ┆ 58.426221  ┆ 6.470503    │\n",
      "└──────┴────────────┴─────────────┘\n"
     ]
    }
   ],
   "source": [
    "print(dd\n",
    "      .with_columns(year=pl.col('datetime').dt.year())\n",
    "      .group_by('year', maintain_order=True)\n",
    "      .agg(pl.col(pl.Float64).mean())\n",
    "     )"
   ]
  },
  {
   "cell_type": "code",
   "execution_count": 71,
   "id": "501aa802-af8c-47c7-bee3-fd104d25fbbe",
   "metadata": {},
   "outputs": [
    {
     "ename": "InvalidOperationError",
     "evalue": "argument in operation 'group_by_dynamic' is not sorted, please sort the 'expr/series/column' first",
     "output_type": "error",
     "traceback": [
      "\u001b[0;31m---------------------------------------------------------------------------\u001b[0m",
      "\u001b[0;31mInvalidOperationError\u001b[0m                     Traceback (most recent call last)",
      "Cell \u001b[0;32mIn[71], line 4\u001b[0m\n\u001b[1;32m      1\u001b[0m \u001b[38;5;66;03m# Running Naïvely\u001b[39;00m\n\u001b[1;32m      2\u001b[0m (dd\n\u001b[1;32m      3\u001b[0m  \u001b[38;5;241m.\u001b[39mgroup_by_dynamic(index_column\u001b[38;5;241m=\u001b[39m\u001b[38;5;124m'\u001b[39m\u001b[38;5;124mdatetime\u001b[39m\u001b[38;5;124m'\u001b[39m, every\u001b[38;5;241m=\u001b[39m\u001b[38;5;124m'\u001b[39m\u001b[38;5;124m1y\u001b[39m\u001b[38;5;124m'\u001b[39m)\n\u001b[0;32m----> 4\u001b[0m  \u001b[38;5;241m.\u001b[39magg(pl\u001b[38;5;241m.\u001b[39mcol(pl\u001b[38;5;241m.\u001b[39mFloat64)\u001b[38;5;241m.\u001b[39mmean())\n\u001b[1;32m      5\u001b[0m )\n",
      "File \u001b[0;32m~/anaconda3/envs/polars/lib/python3.11/site-packages/polars/dataframe/group_by.py:996\u001b[0m, in \u001b[0;36mDynamicGroupBy.agg\u001b[0;34m(self, *aggs, **named_aggs)\u001b[0m\n\u001b[1;32m    964\u001b[0m \u001b[38;5;28;01mdef\u001b[39;00m \u001b[38;5;21magg\u001b[39m(\n\u001b[1;32m    965\u001b[0m     \u001b[38;5;28mself\u001b[39m,\n\u001b[1;32m    966\u001b[0m     \u001b[38;5;241m*\u001b[39maggs: IntoExpr \u001b[38;5;241m|\u001b[39m Iterable[IntoExpr],\n\u001b[1;32m    967\u001b[0m     \u001b[38;5;241m*\u001b[39m\u001b[38;5;241m*\u001b[39mnamed_aggs: IntoExpr,\n\u001b[1;32m    968\u001b[0m ) \u001b[38;5;241m-\u001b[39m\u001b[38;5;241m>\u001b[39m DataFrame:\n\u001b[1;32m    969\u001b[0m \u001b[38;5;250m    \u001b[39m\u001b[38;5;124;03m\"\"\"\u001b[39;00m\n\u001b[1;32m    970\u001b[0m \u001b[38;5;124;03m    Compute aggregations for each group of a group by operation.\u001b[39;00m\n\u001b[1;32m    971\u001b[0m \n\u001b[0;32m   (...)\u001b[0m\n\u001b[1;32m    980\u001b[0m \u001b[38;5;124;03m        The resulting columns will be renamed to the keyword used.\u001b[39;00m\n\u001b[1;32m    981\u001b[0m \u001b[38;5;124;03m    \"\"\"\u001b[39;00m\n\u001b[1;32m    982\u001b[0m     \u001b[38;5;28;01mreturn\u001b[39;00m (\n\u001b[1;32m    983\u001b[0m         \u001b[38;5;28mself\u001b[39m\u001b[38;5;241m.\u001b[39mdf\u001b[38;5;241m.\u001b[39mlazy()\n\u001b[1;32m    984\u001b[0m         \u001b[38;5;241m.\u001b[39mgroup_by_dynamic(\n\u001b[1;32m    985\u001b[0m             index_column\u001b[38;5;241m=\u001b[39m\u001b[38;5;28mself\u001b[39m\u001b[38;5;241m.\u001b[39mtime_column,\n\u001b[1;32m    986\u001b[0m             every\u001b[38;5;241m=\u001b[39m\u001b[38;5;28mself\u001b[39m\u001b[38;5;241m.\u001b[39mevery,\n\u001b[1;32m    987\u001b[0m             period\u001b[38;5;241m=\u001b[39m\u001b[38;5;28mself\u001b[39m\u001b[38;5;241m.\u001b[39mperiod,\n\u001b[1;32m    988\u001b[0m             offset\u001b[38;5;241m=\u001b[39m\u001b[38;5;28mself\u001b[39m\u001b[38;5;241m.\u001b[39moffset,\n\u001b[1;32m    989\u001b[0m             label\u001b[38;5;241m=\u001b[39m\u001b[38;5;28mself\u001b[39m\u001b[38;5;241m.\u001b[39mlabel,\n\u001b[1;32m    990\u001b[0m             include_boundaries\u001b[38;5;241m=\u001b[39m\u001b[38;5;28mself\u001b[39m\u001b[38;5;241m.\u001b[39minclude_boundaries,\n\u001b[1;32m    991\u001b[0m             closed\u001b[38;5;241m=\u001b[39m\u001b[38;5;28mself\u001b[39m\u001b[38;5;241m.\u001b[39mclosed,\n\u001b[1;32m    992\u001b[0m             group_by\u001b[38;5;241m=\u001b[39m\u001b[38;5;28mself\u001b[39m\u001b[38;5;241m.\u001b[39mgroup_by,\n\u001b[1;32m    993\u001b[0m             start_by\u001b[38;5;241m=\u001b[39m\u001b[38;5;28mself\u001b[39m\u001b[38;5;241m.\u001b[39mstart_by,\n\u001b[1;32m    994\u001b[0m         )\n\u001b[1;32m    995\u001b[0m         \u001b[38;5;241m.\u001b[39magg(\u001b[38;5;241m*\u001b[39maggs, \u001b[38;5;241m*\u001b[39m\u001b[38;5;241m*\u001b[39mnamed_aggs)\n\u001b[0;32m--> 996\u001b[0m         \u001b[38;5;241m.\u001b[39mcollect(no_optimization\u001b[38;5;241m=\u001b[39m\u001b[38;5;28;01mTrue\u001b[39;00m)\n\u001b[1;32m    997\u001b[0m     )\n",
      "File \u001b[0;32m~/anaconda3/envs/polars/lib/python3.11/site-packages/polars/lazyframe/frame.py:2029\u001b[0m, in \u001b[0;36mLazyFrame.collect\u001b[0;34m(self, type_coercion, predicate_pushdown, projection_pushdown, simplify_expression, slice_pushdown, comm_subplan_elim, comm_subexpr_elim, cluster_with_columns, collapse_joins, no_optimization, streaming, engine, background, _eager, **_kwargs)\u001b[0m\n\u001b[1;32m   2027\u001b[0m \u001b[38;5;66;03m# Only for testing purposes\u001b[39;00m\n\u001b[1;32m   2028\u001b[0m callback \u001b[38;5;241m=\u001b[39m _kwargs\u001b[38;5;241m.\u001b[39mget(\u001b[38;5;124m\"\u001b[39m\u001b[38;5;124mpost_opt_callback\u001b[39m\u001b[38;5;124m\"\u001b[39m, callback)\n\u001b[0;32m-> 2029\u001b[0m \u001b[38;5;28;01mreturn\u001b[39;00m wrap_df(ldf\u001b[38;5;241m.\u001b[39mcollect(callback))\n",
      "\u001b[0;31mInvalidOperationError\u001b[0m: argument in operation 'group_by_dynamic' is not sorted, please sort the 'expr/series/column' first"
     ]
    }
   ],
   "source": [
    "# Running Naïvely\n",
    "(dd\n",
    " .group_by_dynamic(index_column='datetime', every='1y')\n",
    " .agg(pl.col(pl.Float64).mean())\n",
    ")"
   ]
  },
  {
   "cell_type": "code",
   "execution_count": 72,
   "id": "54b529e3-4672-4f38-8d5d-b4fcaa9f06eb",
   "metadata": {},
   "outputs": [
    {
     "name": "stdout",
     "output_type": "stream",
     "text": [
      "shape: (20, 3)\n",
      "┌──────────────────────────────┬────────────┬─────────────┐\n",
      "│ datetime                     ┆ cfs        ┆ gage_height │\n",
      "│ ---                          ┆ ---        ┆ ---         │\n",
      "│ datetime[μs, America/Denver] ┆ f64        ┆ f64         │\n",
      "╞══════════════════════════════╪════════════╪═════════════╡\n",
      "│ 2001-01-01 00:00:00 MST      ┆ 74.304452  ┆ null        │\n",
      "│ 2002-01-01 00:00:00 MST      ┆ 116.211979 ┆ null        │\n",
      "│ 2003-01-01 00:00:00 MST      ┆ 86.957083  ┆ null        │\n",
      "│ 2004-01-01 00:00:00 MST      ┆ 113.173465 ┆ null        │\n",
      "│ 2005-01-01 00:00:00 MST      ┆ 177.604843 ┆ null        │\n",
      "│ …                            ┆ …          ┆ …           │\n",
      "│ 2016-01-01 00:00:00 MST      ┆ 98.565988  ┆ 5.542945    │\n",
      "│ 2017-01-01 00:00:00 MST      ┆ 82.364265  ┆ 5.581915    │\n",
      "│ 2018-01-01 00:00:00 MST      ┆ 71.074642  ┆ 6.423744    │\n",
      "│ 2019-01-01 00:00:00 MST      ┆ 92.886454  ┆ 6.670158    │\n",
      "│ 2020-01-01 00:00:00 MST      ┆ 58.426221  ┆ 6.470503    │\n",
      "└──────────────────────────────┴────────────┴─────────────┘\n"
     ]
    }
   ],
   "source": [
    "print(dd\n",
    "      .sort('datetime')  \n",
    "      .group_by_dynamic(index_column='datetime', every='1y')\n",
    "      .agg(pl.col(pl.Float64).mean())\n",
    "     )"
   ]
  },
  {
   "cell_type": "code",
   "execution_count": 73,
   "id": "c1ce4441-f1fc-4ed7-97fe-b247024bf651",
   "metadata": {},
   "outputs": [
    {
     "name": "stdout",
     "output_type": "stream",
     "text": [
      "shape: (20, 3)\n",
      "┌──────────────────────────────┬────────────┬─────────────┐\n",
      "│ datetime                     ┆ cfs        ┆ gage_height │\n",
      "│ ---                          ┆ ---        ┆ ---         │\n",
      "│ datetime[μs, America/Denver] ┆ f64        ┆ f64         │\n",
      "╞══════════════════════════════╪════════════╪═════════════╡\n",
      "│ 2001-01-01 00:00:00 MST      ┆ 74.304452  ┆ null        │\n",
      "│ 2002-01-01 00:00:00 MST      ┆ 116.211979 ┆ null        │\n",
      "│ 2003-01-01 00:00:00 MST      ┆ 86.957083  ┆ null        │\n",
      "│ 2004-01-01 00:00:00 MST      ┆ 113.173465 ┆ null        │\n",
      "│ 2005-01-01 00:00:00 MST      ┆ 177.604843 ┆ null        │\n",
      "│ …                            ┆ …          ┆ …           │\n",
      "│ 2016-01-01 00:00:00 MST      ┆ 98.565988  ┆ 5.542945    │\n",
      "│ 2017-01-01 00:00:00 MST      ┆ 82.364265  ┆ 5.581915    │\n",
      "│ 2018-01-01 00:00:00 MST      ┆ 71.074642  ┆ 6.423744    │\n",
      "│ 2019-01-01 00:00:00 MST      ┆ 92.886454  ┆ 6.670158    │\n",
      "│ 2020-01-01 00:00:00 MST      ┆ 58.426221  ┆ 6.470503    │\n",
      "└──────────────────────────────┴────────────┴─────────────┘\n"
     ]
    }
   ],
   "source": [
    "print(dd\n",
    "      .set_sorted('datetime')\n",
    "      .group_by_dynamic(index_column='datetime', every='1y')\n",
    "      .agg(pl.col(pl.Float64).mean())\n",
    "     )"
   ]
  },
  {
   "cell_type": "markdown",
   "id": "3adc1566-c947-47ef-97f4-b9793e77cab0",
   "metadata": {},
   "source": [
    "### Time Intervals"
   ]
  },
  {
   "cell_type": "code",
   "execution_count": 75,
   "id": "4c1286a4-7e71-4669-ba54-ac663c5b2215",
   "metadata": {},
   "outputs": [
    {
     "name": "stdout",
     "output_type": "stream",
     "text": [
      "shape: (117, 3)\n",
      "┌──────────────────────────────┬────────────┬─────────────┐\n",
      "│ datetime                     ┆ cfs        ┆ gage_height │\n",
      "│ ---                          ┆ ---        ┆ ---         │\n",
      "│ datetime[μs, America/Denver] ┆ f64        ┆ f64         │\n",
      "╞══════════════════════════════╪════════════╪═════════════╡\n",
      "│ 2001-05-01 00:00:00 MDT      ┆ 41.999693  ┆ null        │\n",
      "│ 2001-07-01 00:00:00 MDT      ┆ 165.864435 ┆ null        │\n",
      "│ 2001-09-01 00:00:00 MDT      ┆ 43.783245  ┆ null        │\n",
      "│ 2001-11-01 00:00:00 MST      ┆ 108.079392 ┆ null        │\n",
      "│ 2002-01-01 00:00:00 MST      ┆ 132.790323 ┆ null        │\n",
      "│ …                            ┆ …          ┆ …           │\n",
      "│ 2020-01-01 00:00:00 MST      ┆ 125.290451 ┆ 6.925117    │\n",
      "│ 2020-03-01 00:00:00 MST      ┆ 99.053008  ┆ 6.960658    │\n",
      "│ 2020-05-01 00:00:00 MDT      ┆ 16.793101  ┆ 6.381607    │\n",
      "│ 2020-07-01 00:00:00 MDT      ┆ 14.582522  ┆ 5.913772    │\n",
      "│ 2020-09-01 00:00:00 MDT      ┆ 4.900842   ┆ 5.839076    │\n",
      "└──────────────────────────────┴────────────┴─────────────┘\n"
     ]
    }
   ],
   "source": [
    "# 2-Month Interval Period\n",
    "print(dd\n",
    "      .set_sorted('datetime')  \n",
    "      .group_by_dynamic(index_column='datetime', every='2mo')\n",
    "      .agg(pl.col(pl.Float64).mean())\n",
    "     )"
   ]
  },
  {
   "cell_type": "code",
   "execution_count": 76,
   "id": "2f2ff3ae-c754-4421-9792-516fdf99e998",
   "metadata": {},
   "outputs": [
    {
     "name": "stdout",
     "output_type": "stream",
     "text": [
      "shape: (44_796, 3)\n",
      "┌──────────────────────────────┬───────────┬─────────────┐\n",
      "│ datetime                     ┆ cfs       ┆ gage_height │\n",
      "│ ---                          ┆ ---       ┆ ---         │\n",
      "│ datetime[μs, America/Denver] ┆ f64       ┆ f64         │\n",
      "╞══════════════════════════════╪═══════════╪═════════════╡\n",
      "│ 2001-05-06 23:03:20 MDT      ┆ 70.6      ┆ null        │\n",
      "│ 2001-05-07 02:07:25 MDT      ┆ 67.916667 ┆ null        │\n",
      "│ 2001-05-07 05:11:30 MDT      ┆ 64.461538 ┆ null        │\n",
      "│ 2001-05-07 08:15:35 MDT      ┆ 65.333333 ┆ null        │\n",
      "│ 2001-05-07 11:19:40 MDT      ┆ 73.333333 ┆ null        │\n",
      "│ …                            ┆ …         ┆ …           │\n",
      "│ 2020-09-27 20:17:10 MDT      ┆ 9.835833  ┆ 6.169167    │\n",
      "│ 2020-09-27 23:21:15 MDT      ┆ 9.6675    ┆ 6.164167    │\n",
      "│ 2020-09-28 02:25:20 MDT      ┆ 9.6675    ┆ 6.164167    │\n",
      "│ 2020-09-28 05:29:25 MDT      ┆ 9.505385  ┆ 6.159231    │\n",
      "│ 2020-09-28 08:33:30 MDT      ┆ 9.2       ┆ 6.15        │\n",
      "└──────────────────────────────┴───────────┴─────────────┘\n"
     ]
    }
   ],
   "source": [
    "# Every 3 Hours, 4 Minutes & 5 Seconds\n",
    "print(dd\n",
    "      .set_sorted('datetime')\n",
    "      .group_by_dynamic(index_column='datetime', every='3h4m5s')\n",
    "      .agg(pl.col(pl.Float64).mean())\n",
    "     )"
   ]
  },
  {
   "cell_type": "markdown",
   "id": "eeae452b-80b4-473e-9886-19466a981ceb",
   "metadata": {},
   "source": [
    "##### Previos snippet: `check_sorted attributed has been removed`\n",
    "```sh\n",
    "print(dd\n",
    "      .set_sorted('datetime')  \n",
    "      .group_by_dynamic(index_column='datetime', every='7d', period='5d', start_by='monday', check_sorted=False)\n",
    "      .agg(pl.col(pl.Float64).mean(),cfs_range=(pl.col('cfs').max() - pl.col('cfs').min()))\n",
    "     )"
   ]
  },
  {
   "cell_type": "code",
   "execution_count": 79,
   "id": "b1dbef0a-b7f8-4623-8106-45cad64e5646",
   "metadata": {},
   "outputs": [
    {
     "name": "stdout",
     "output_type": "stream",
     "text": [
      "shape: (877, 4)\n",
      "┌──────────────────────────────┬───────────┬─────────────┬───────────┐\n",
      "│ datetime                     ┆ cfs       ┆ gage_height ┆ cfs_range │\n",
      "│ ---                          ┆ ---       ┆ ---         ┆ ---       │\n",
      "│ datetime[μs, America/Denver] ┆ f64       ┆ f64         ┆ f64       │\n",
      "╞══════════════════════════════╪═══════════╪═════════════╪═══════════╡\n",
      "│ 2001-05-07 00:00:00 MDT      ┆ 62.186975 ┆ null        ┆ 29.0      │\n",
      "│ 2001-05-14 00:00:00 MDT      ┆ 50.529167 ┆ null        ┆ 20.0      │\n",
      "│ 2001-05-21 00:00:00 MDT      ┆ 43.372917 ┆ null        ┆ 17.0      │\n",
      "│ 2001-05-28 00:00:00 MDT      ┆ 36.9125   ┆ null        ┆ 27.0      │\n",
      "│ 2001-06-04 00:00:00 MDT      ┆ 20.023438 ┆ null        ┆ 14.0      │\n",
      "│ …                            ┆ …         ┆ …           ┆ …         │\n",
      "│ 2020-08-31 00:00:00 MDT      ┆ 0.030521  ┆ 5.480208    ┆ 0.07      │\n",
      "│ 2020-09-07 00:00:00 MDT      ┆ 0.006221  ┆ 5.48375     ┆ 0.02      │\n",
      "│ 2020-09-14 00:00:00 MDT      ┆ 5.806146  ┆ 6.028563    ┆ 2.94      │\n",
      "│ 2020-09-21 00:00:00 MDT      ┆ 8.3220625 ┆ 6.119583    ┆ 6.13      │\n",
      "│ 2020-09-28 00:00:00 MDT      ┆ 9.555641  ┆ 6.160769    ┆ 1.0       │\n",
      "└──────────────────────────────┴───────────┴─────────────┴───────────┘\n"
     ]
    }
   ],
   "source": [
    "print(dd\n",
    "      .set_sorted('datetime')  \n",
    "      .group_by_dynamic(index_column='datetime', every='7d', period='5d', start_by='monday')\n",
    "      .agg(\n",
    "          pl.col(pl.Float64).mean(),\n",
    "          cfs_range=(pl.col('cfs').max() - pl.col('cfs').min())\n",
    "      )\n",
    ")"
   ]
  },
  {
   "cell_type": "code",
   "execution_count": 81,
   "id": "3cf9b266-b5af-4d6f-a1ce-618f8744862e",
   "metadata": {},
   "outputs": [
    {
     "name": "stdout",
     "output_type": "stream",
     "text": [
      "shape: (837, 4)\n",
      "┌──────────────────────────────┬───────────┬─────────────┬───────────┐\n",
      "│ datetime                     ┆ cfs       ┆ gage_height ┆ cfs_range │\n",
      "│ ---                          ┆ ---       ┆ ---         ┆ ---       │\n",
      "│ datetime[μs, America/Denver] ┆ f64       ┆ f64         ┆ f64       │\n",
      "╞══════════════════════════════╪═══════════╪═════════════╪═══════════╡\n",
      "│ 2001-05-12 00:00:00 MDT      ┆ 52.479167 ┆ null        ┆ 15.0      │\n",
      "│ 2001-05-19 00:00:00 MDT      ┆ 49.177083 ┆ null        ┆ 18.0      │\n",
      "│ 2001-05-26 00:00:00 MDT      ┆ 42.140625 ┆ null        ┆ 12.0      │\n",
      "│ 2001-06-02 00:00:00 MDT      ┆ 25.578125 ┆ null        ┆ 9.0       │\n",
      "│ 2001-06-30 00:00:00 MDT      ┆ 18.75     ┆ null        ┆ 6.0       │\n",
      "│ …                            ┆ …         ┆ …           ┆ …         │\n",
      "│ 2020-08-29 00:00:00 MDT      ┆ 0.05099   ┆ 5.473958    ┆ 0.06      │\n",
      "│ 2020-09-05 00:00:00 MDT      ┆ 0.011912  ┆ 5.476875    ┆ 0.03      │\n",
      "│ 2020-09-12 00:00:00 MDT      ┆ 5.930538  ┆ 6.003281    ┆ 3.83      │\n",
      "│ 2020-09-19 00:00:00 MDT      ┆ 6.301771  ┆ 6.049167    ┆ 3.48      │\n",
      "│ 2020-09-26 00:00:00 MDT      ┆ 10.631406 ┆ 6.192344    ┆ 5.87      │\n",
      "└──────────────────────────────┴───────────┴─────────────┴───────────┘\n"
     ]
    }
   ],
   "source": [
    "# Weekend Flow\n",
    "print(dd\n",
    "      .set_sorted('datetime')\n",
    "      .group_by_dynamic(index_column='datetime', every='7d', period='2d', start_by='saturday')\n",
    "      .agg(pl.col(pl.Float64).mean(), cfs_range=(pl.col('cfs').max() - pl.col('cfs').min()))\n",
    "     )"
   ]
  },
  {
   "cell_type": "code",
   "execution_count": 82,
   "id": "4ca4dd5d-21ab-47ee-a3b1-217a71c8a849",
   "metadata": {},
   "outputs": [
    {
     "name": "stdout",
     "output_type": "stream",
     "text": [
      "shape: (539_305, 8)\n",
      "┌───────────┬─────────┬──────┬─────────────┬───────────────────┬──────┬───────────────┬────────────┐\n",
      "│ agency_cd ┆ site_no ┆ cfs  ┆ gage_height ┆ datetime          ┆ year ┆ year_mean_cfs ┆ pct_of_avg │\n",
      "│ ---       ┆ ---     ┆ ---  ┆ ---         ┆ ---               ┆ ---  ┆ ---           ┆ ---        │\n",
      "│ str       ┆ i64     ┆ f64  ┆ f64         ┆ datetime[μs,      ┆ i32  ┆ f64           ┆ f64        │\n",
      "│           ┆         ┆      ┆             ┆ America/Denver]   ┆      ┆               ┆            │\n",
      "╞═══════════╪═════════╪══════╪═════════════╪═══════════════════╪══════╪═══════════════╪════════════╡\n",
      "│ USGS      ┆ 9333500 ┆ 71.0 ┆ null        ┆ 2001-05-07        ┆ 2001 ┆ 74.304452     ┆ 95.55      │\n",
      "│           ┆         ┆      ┆             ┆ 01:00:00 MDT      ┆      ┆               ┆            │\n",
      "│ USGS      ┆ 9333500 ┆ 71.0 ┆ null        ┆ 2001-05-07        ┆ 2001 ┆ 74.304452     ┆ 95.55      │\n",
      "│           ┆         ┆      ┆             ┆ 01:15:00 MDT      ┆      ┆               ┆            │\n",
      "│ USGS      ┆ 9333500 ┆ 71.0 ┆ null        ┆ 2001-05-07        ┆ 2001 ┆ 74.304452     ┆ 95.55      │\n",
      "│           ┆         ┆      ┆             ┆ 01:30:00 MDT      ┆      ┆               ┆            │\n",
      "│ USGS      ┆ 9333500 ┆ 70.0 ┆ null        ┆ 2001-05-07        ┆ 2001 ┆ 74.304452     ┆ 94.21      │\n",
      "│           ┆         ┆      ┆             ┆ 01:45:00 MDT      ┆      ┆               ┆            │\n",
      "│ USGS      ┆ 9333500 ┆ 70.0 ┆ null        ┆ 2001-05-07        ┆ 2001 ┆ 74.304452     ┆ 94.21      │\n",
      "│           ┆         ┆      ┆             ┆ 02:00:00 MDT      ┆      ┆               ┆            │\n",
      "│ …         ┆ …       ┆ …    ┆ …           ┆ …                 ┆ …    ┆ …             ┆ …          │\n",
      "│ USGS      ┆ 9333500 ┆ 9.53 ┆ 6.16        ┆ 2020-09-28        ┆ 2020 ┆ 58.426221     ┆ 16.31      │\n",
      "│           ┆         ┆      ┆             ┆ 08:30:00 MDT      ┆      ┆               ┆            │\n",
      "│ USGS      ┆ 9333500 ┆ 9.2  ┆ 6.15        ┆ 2020-09-28        ┆ 2020 ┆ 58.426221     ┆ 15.75      │\n",
      "│           ┆         ┆      ┆             ┆ 08:45:00 MDT      ┆      ┆               ┆            │\n",
      "│ USGS      ┆ 9333500 ┆ 9.2  ┆ 6.15        ┆ 2020-09-28        ┆ 2020 ┆ 58.426221     ┆ 15.75      │\n",
      "│           ┆         ┆      ┆             ┆ 09:00:00 MDT      ┆      ┆               ┆            │\n",
      "│ USGS      ┆ 9333500 ┆ 9.2  ┆ 6.15        ┆ 2020-09-28        ┆ 2020 ┆ 58.426221     ┆ 15.75      │\n",
      "│           ┆         ┆      ┆             ┆ 09:15:00 MDT      ┆      ┆               ┆            │\n",
      "│ USGS      ┆ 9333500 ┆ 9.2  ┆ 6.15        ┆ 2020-09-28        ┆ 2020 ┆ 58.426221     ┆ 15.75      │\n",
      "│           ┆         ┆      ┆             ┆ 09:30:00 MDT      ┆      ┆               ┆            │\n",
      "└───────────┴─────────┴──────┴─────────────┴───────────────────┴──────┴───────────────┴────────────┘\n"
     ]
    }
   ],
   "source": [
    "# Average Yearly Flow\n",
    "print(dd\n",
    "      .with_columns(year=pl.col('datetime').dt.year())\n",
    "      .with_columns(year_mean_cfs=pl.col('cfs').mean().over('year'))\n",
    "      .with_columns(pct_of_avg=(pl.col('cfs') / pl.col('year_mean_cfs')).mul(100).round(2))\n",
    "     )"
   ]
  },
  {
   "cell_type": "code",
   "execution_count": 84,
   "id": "11cb1c76-31b5-40c5-becd-92c7ad5fa29d",
   "metadata": {},
   "outputs": [
    {
     "name": "stdout",
     "output_type": "stream",
     "text": [
      "shape: (539_305, 11)\n",
      "┌───────────┬─────────┬──────┬─────────────┬───┬────────────┬────────────┬────────────┬────────────┐\n",
      "│ agency_cd ┆ site_no ┆ cfs  ┆ gage_height ┆ … ┆ cfs_mean_y ┆ gage_heigh ┆ cfs_mean_q ┆ gage_heigh │\n",
      "│ ---       ┆ ---     ┆ ---  ┆ ---         ┆   ┆ ear        ┆ t_mean_yea ┆ uarter     ┆ t_mean_qua │\n",
      "│ str       ┆ i64     ┆ f64  ┆ f64         ┆   ┆ ---        ┆ r          ┆ ---        ┆ rter       │\n",
      "│           ┆         ┆      ┆             ┆   ┆ f64        ┆ ---        ┆ f64        ┆ ---        │\n",
      "│           ┆         ┆      ┆             ┆   ┆            ┆ f64        ┆            ┆ f64        │\n",
      "╞═══════════╪═════════╪══════╪═════════════╪═══╪════════════╪════════════╪════════════╪════════════╡\n",
      "│ USGS      ┆ 9333500 ┆ 71.0 ┆ null        ┆ … ┆ 74.304452  ┆ null       ┆ 73.396286  ┆ 4.654955   │\n",
      "│ USGS      ┆ 9333500 ┆ 71.0 ┆ null        ┆ … ┆ 74.304452  ┆ null       ┆ 73.396286  ┆ 4.654955   │\n",
      "│ USGS      ┆ 9333500 ┆ 71.0 ┆ null        ┆ … ┆ 74.304452  ┆ null       ┆ 73.396286  ┆ 4.654955   │\n",
      "│ USGS      ┆ 9333500 ┆ 70.0 ┆ null        ┆ … ┆ 74.304452  ┆ null       ┆ 73.396286  ┆ 4.654955   │\n",
      "│ USGS      ┆ 9333500 ┆ 70.0 ┆ null        ┆ … ┆ 74.304452  ┆ null       ┆ 73.396286  ┆ 4.654955   │\n",
      "│ …         ┆ …       ┆ …    ┆ …           ┆ … ┆ …          ┆ …          ┆ …          ┆ …          │\n",
      "│ USGS      ┆ 9333500 ┆ 9.53 ┆ 6.16        ┆ … ┆ 58.426221  ┆ 6.470503   ┆ 90.288482  ┆ 4.46123    │\n",
      "│ USGS      ┆ 9333500 ┆ 9.2  ┆ 6.15        ┆ … ┆ 58.426221  ┆ 6.470503   ┆ 90.288482  ┆ 4.46123    │\n",
      "│ USGS      ┆ 9333500 ┆ 9.2  ┆ 6.15        ┆ … ┆ 58.426221  ┆ 6.470503   ┆ 90.288482  ┆ 4.46123    │\n",
      "│ USGS      ┆ 9333500 ┆ 9.2  ┆ 6.15        ┆ … ┆ 58.426221  ┆ 6.470503   ┆ 90.288482  ┆ 4.46123    │\n",
      "│ USGS      ┆ 9333500 ┆ 9.2  ┆ 6.15        ┆ … ┆ 58.426221  ┆ 6.470503   ┆ 90.288482  ┆ 4.46123    │\n",
      "└───────────┴─────────┴──────┴─────────────┴───┴────────────┴────────────┴────────────┴────────────┘\n"
     ]
    }
   ],
   "source": [
    "print(dd\n",
    "      .with_columns(year=pl.col('datetime').dt.year(), quarter=pl.col('datetime').dt.quarter())\n",
    "      .with_columns(pl.col(['cfs', 'gage_height']).mean().over('year').name.suffix('_mean_year'),\n",
    "                    pl.col(['cfs', 'gage_height']).mean().over('quarter').name.suffix('_mean_quarter'))\n",
    "     )"
   ]
  },
  {
   "cell_type": "markdown",
   "id": "bc6b3523-78a9-423d-82eb-4026dd45a31d",
   "metadata": {},
   "source": [
    "### Multiple Groupings with Time Series"
   ]
  },
  {
   "cell_type": "code",
   "execution_count": null,
   "id": "d2ef19af-a0a5-49be-9c99-4826c74b2d9d",
   "metadata": {},
   "outputs": [],
   "source": []
  },
  {
   "cell_type": "code",
   "execution_count": null,
   "id": "fa844559-5589-4690-9f2b-2a0120aab091",
   "metadata": {},
   "outputs": [],
   "source": []
  },
  {
   "cell_type": "code",
   "execution_count": null,
   "id": "ebfa4e37-f50d-4a47-ac59-1c2a0e1da7a7",
   "metadata": {},
   "outputs": [],
   "source": []
  },
  {
   "cell_type": "code",
   "execution_count": null,
   "id": "b4ead4dd-5727-4d2b-be84-41e66f54a8c4",
   "metadata": {},
   "outputs": [],
   "source": []
  },
  {
   "cell_type": "code",
   "execution_count": null,
   "id": "3035a9bd-f2d7-4984-b7c3-95198189c491",
   "metadata": {},
   "outputs": [],
   "source": []
  },
  {
   "cell_type": "code",
   "execution_count": null,
   "id": "9dc49793-b1d2-4e44-9ac7-b29c6065aaae",
   "metadata": {},
   "outputs": [],
   "source": []
  }
 ],
 "metadata": {
  "kernelspec": {
   "display_name": "Python 3 (ipykernel)",
   "language": "python",
   "name": "python3"
  },
  "language_info": {
   "codemirror_mode": {
    "name": "ipython",
    "version": 3
   },
   "file_extension": ".py",
   "mimetype": "text/x-python",
   "name": "python",
   "nbconvert_exporter": "python",
   "pygments_lexer": "ipython3",
   "version": "3.11.8"
  }
 },
 "nbformat": 4,
 "nbformat_minor": 5
}
